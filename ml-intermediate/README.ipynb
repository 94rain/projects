{
 "cells": [
  {
   "cell_type": "markdown",
   "id": "ed711ebb",
   "metadata": {
    "papermill": {
     "duration": 0.017504,
     "end_time": "2021-10-11T03:08:44.646783",
     "exception": false,
     "start_time": "2021-10-11T03:08:44.629279",
     "status": "completed"
    },
    "tags": []
   },
   "source": [
    "\n",
    "*Note:* You can run this example locally (`ploomber examples -n ml-intermediate`) or in Binder (hosted JupyterLab ).\n",
    "\n",
    "[![binder-logo](https://mybinder.org/badge_logo.svg)](https://mybinder.org/v2/gh/ploomber/binder-env/main?urlpath=git-pull%3Frepo%3Dhttps%253A%252F%252Fgithub.com%252Fploomber%252Fprojects%26urlpath%3Dlab%252Ftree%252Fprojects%252Fml-intermediate%252FREADME.ipynb%26branch%3Dmaster)\n"
   ]
  },
  {
   "cell_type": "markdown",
   "id": "9e484dc1",
   "metadata": {
    "papermill": {
     "duration": 0.01689,
     "end_time": "2021-10-11T03:08:44.682853",
     "exception": false,
     "start_time": "2021-10-11T03:08:44.665963",
     "status": "completed"
    },
    "tags": []
   },
   "source": [
    "# Intermediate ML project\n",
    "\n",
    "Training and serving ML pipeline with integration testing.\n",
    "\n",
    "## Setup\n",
    "\n",
    "~~~bash\n",
    "# if using conda\n",
    "conda env create --file environment.yml\n",
    "conda activate ml-intermediate\n",
    "\n",
    "# or use pip directly\n",
    "pip install -r requirements.txt\n",
    "~~~\n",
    "\n",
    "## Build"
   ]
  },
  {
   "cell_type": "code",
   "execution_count": 1,
   "id": "c84e4289",
   "metadata": {
    "execution": {
     "iopub.execute_input": "2021-10-11T03:08:44.726596Z",
     "iopub.status.busy": "2021-10-11T03:08:44.725635Z",
     "iopub.status.idle": "2021-10-11T03:09:04.937314Z",
     "shell.execute_reply": "2021-10-11T03:09:04.938098Z"
    },
    "lines_to_next_cell": 2,
    "papermill": {
     "duration": 20.238577,
     "end_time": "2021-10-11T03:09:04.938452",
     "exception": false,
     "start_time": "2021-10-11T03:08:44.699875",
     "status": "completed"
    },
    "tags": [
     "bash"
    ]
   },
   "outputs": [
    {
     "name": "stdout",
     "output_type": "stream",
     "text": [
      "name        Ran?      Elapsed (s)    Percentage\n",
      "----------  ------  -------------  ------------\n",
      "get         True         0.013448      0.253976\n",
      "sepal-area  True         0.034348      0.648688\n",
      "petal-area  True         0.026418      0.498924\n",
      "join        True         0.032875      0.620869\n",
      "fit         True         5.1879       97.9775\n"
     ]
    },
    {
     "name": "stderr",
     "output_type": "stream",
     "text": [
      "Building task 'fit':  80%|████████  | 4/5 [00:11<00:02,  2.79s/it] \n",
      "Executing:   0%|          | 0/11 [00:00<?, ?cell/s]\u001b[A\n",
      "Executing:   9%|▉         | 1/11 [00:01<00:13,  1.33s/cell]\u001b[A\n",
      "Executing:  18%|█▊        | 2/11 [00:03<00:14,  1.56s/cell]\u001b[A\n",
      "Executing:  36%|███▋      | 4/11 [00:03<00:04,  1.62cell/s]\u001b[A\n",
      "Executing:  45%|████▌     | 5/11 [00:03<00:02,  2.18cell/s]\u001b[A\n",
      "Executing:  64%|██████▎   | 7/11 [00:03<00:01,  3.31cell/s]\u001b[A\n",
      "Executing:  82%|████████▏ | 9/11 [00:03<00:00,  4.68cell/s]\u001b[A\n",
      "Executing: 100%|██████████| 11/11 [00:04<00:00,  2.45cell/s]\n",
      "Building task 'fit': 100%|██████████| 5/5 [00:16<00:00,  3.27s/it]\n"
     ]
    }
   ],
   "source": [
    "%%sh\n",
    "ploomber build"
   ]
  },
  {
   "cell_type": "markdown",
   "id": "73f03f71",
   "metadata": {
    "papermill": {
     "duration": 0.021849,
     "end_time": "2021-10-11T03:09:04.982298",
     "exception": false,
     "start_time": "2021-10-11T03:09:04.960449",
     "status": "completed"
    },
    "tags": []
   },
   "source": [
    "## Serving\n",
    "\n",
    "Once the model is trained, run the serving pipeline with:"
   ]
  },
  {
   "cell_type": "code",
   "execution_count": 2,
   "id": "97744c55",
   "metadata": {
    "execution": {
     "iopub.execute_input": "2021-10-11T03:09:05.043444Z",
     "iopub.status.busy": "2021-10-11T03:09:05.042324Z",
     "iopub.status.idle": "2021-10-11T03:09:22.279744Z",
     "shell.execute_reply": "2021-10-11T03:09:22.280695Z"
    },
    "papermill": {
     "duration": 17.266764,
     "end_time": "2021-10-11T03:09:22.280936",
     "exception": false,
     "start_time": "2021-10-11T03:09:05.014172",
     "status": "completed"
    },
    "tags": [
     "bash"
    ]
   },
   "outputs": [
    {
     "name": "stdout",
     "output_type": "stream",
     "text": [
      "name        Ran?      Elapsed (s)    Percentage\n",
      "----------  ------  -------------  ------------\n",
      "get         True         0.011774       4.1021\n",
      "sepal-area  True         0.025417       8.85536\n",
      "petal-area  True         0.025324       8.82296\n",
      "join        True         0.031612      11.0137\n",
      "predict     True         0.192897      67.2059\n"
     ]
    },
    {
     "name": "stderr",
     "output_type": "stream",
     "text": [
      "Building task 'predict': 100%|██████████| 5/5 [00:14<00:00,  2.84s/it]\n"
     ]
    }
   ],
   "source": [
    "%%sh\n",
    "ploomber build --entry-point pipeline.serve.yaml"
   ]
  },
  {
   "cell_type": "markdown",
   "id": "117bc4c5",
   "metadata": {
    "papermill": {
     "duration": 0.021817,
     "end_time": "2021-10-11T03:09:22.325037",
     "exception": false,
     "start_time": "2021-10-11T03:09:22.303220",
     "status": "completed"
    },
    "tags": []
   },
   "source": [
    "This pipeline loads some data and uses the model file to make predictions."
   ]
  },
  {
   "cell_type": "code",
   "execution_count": null,
   "id": "e97c750b",
   "metadata": {
    "papermill": {
     "duration": 0.019697,
     "end_time": "2021-10-11T03:09:22.365220",
     "exception": false,
     "start_time": "2021-10-11T03:09:22.345523",
     "status": "completed"
    },
    "tags": [
     "parameters"
    ]
   },
   "outputs": [],
   "source": []
  },
  {
   "cell_type": "code",
   "execution_count": 3,
   "id": "38e89019",
   "metadata": {
    "execution": {
     "iopub.execute_input": "2021-10-11T03:09:22.413238Z",
     "iopub.status.busy": "2021-10-11T03:09:22.412370Z",
     "iopub.status.idle": "2021-10-11T03:09:22.414840Z",
     "shell.execute_reply": "2021-10-11T03:09:22.415320Z"
    },
    "papermill": {
     "duration": 0.028396,
     "end_time": "2021-10-11T03:09:22.415583",
     "exception": false,
     "start_time": "2021-10-11T03:09:22.387187",
     "status": "completed"
    },
    "tags": [
     "injected-parameters"
    ]
   },
   "outputs": [],
   "source": [
    "# Parameters\n",
    "product = \"ml-intermediate/README.ipynb\"\n"
   ]
  }
 ],
 "metadata": {
  "jupytext": {
   "cell_metadata_filter": "tags,-all",
   "main_language": "bash",
   "notebook_metadata_filter": "-all",
   "text_representation": {
    "extension": ".md",
    "format_name": "markdown"
   }
  },
  "kernelspec": {
   "display_name": "Python 3 (ipykernel)",
   "language": "python",
   "name": "python3"
  },
  "language_info": {
   "codemirror_mode": {
    "name": "ipython",
    "version": 3
   },
   "file_extension": ".py",
   "mimetype": "text/x-python",
   "name": "python",
   "nbconvert_exporter": "python",
   "pygments_lexer": "ipython3",
   "version": "3.9.7"
  },
  "papermill": {
   "duration": 39.423131,
   "end_time": "2021-10-11T03:09:22.652135",
   "exception": null,
   "input_path": "/var/folders/3h/_lvh_w_x5g30rrjzb_xnn2j80000gq/T/tmp0rec1z0b.ipynb",
   "output_path": "ml-intermediate/README.ipynb",
   "parameters": {
    "product": "ml-intermediate/README.ipynb"
   },
   "start_time": "2021-10-11T03:08:43.229004"
  }
 },
 "nbformat": 4,
 "nbformat_minor": 5
}
