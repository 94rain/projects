{
 "cells": [
  {
   "cell_type": "markdown",
   "id": "6730df14",
   "metadata": {
    "papermill": {
     "duration": 0.01941,
     "end_time": "2021-10-11T21:20:46.002494",
     "exception": false,
     "start_time": "2021-10-11T21:20:45.983084",
     "status": "completed"
    },
    "tags": []
   },
   "source": [
    "\n",
    "*Note:* You can run this example locally (`ploomber examples -n ml-intermediate`) or in Binder (hosted JupyterLab ).\n",
    "\n",
    "[![binder-logo](https://mybinder.org/badge_logo.svg)](https://mybinder.org/v2/gh/ploomber/binder-env/main?urlpath=git-pull%3Frepo%3Dhttps%253A%252F%252Fgithub.com%252Fploomber%252Fprojects%26urlpath%3Dlab%252Ftree%252Fprojects%252Fml-intermediate%252FREADME.ipynb%26branch%3Dmaster)\n"
   ]
  },
  {
   "cell_type": "markdown",
   "id": "48d34706",
   "metadata": {
    "papermill": {
     "duration": 0.017325,
     "end_time": "2021-10-11T21:20:46.039027",
     "exception": false,
     "start_time": "2021-10-11T21:20:46.021702",
     "status": "completed"
    },
    "tags": []
   },
   "source": [
    "# Intermediate ML project\n",
    "\n",
    "Training and serving ML pipeline with integration testing.\n",
    "\n",
    "## Setup\n",
    "\n",
    "~~~bash\n",
    "# if using conda\n",
    "conda env create --file environment.yml\n",
    "conda activate ml-intermediate\n",
    "\n",
    "# or use pip directly\n",
    "pip install -r requirements.txt\n",
    "~~~\n",
    "\n",
    "## Build"
   ]
  },
  {
   "cell_type": "code",
   "execution_count": 1,
   "id": "cb12aecf",
   "metadata": {
    "execution": {
     "iopub.execute_input": "2021-10-11T21:20:46.080484Z",
     "iopub.status.busy": "2021-10-11T21:20:46.079705Z",
     "iopub.status.idle": "2021-10-11T21:21:09.724449Z",
     "shell.execute_reply": "2021-10-11T21:21:09.725641Z"
    },
    "lines_to_next_cell": 2,
    "papermill": {
     "duration": 23.669878,
     "end_time": "2021-10-11T21:21:09.726057",
     "exception": false,
     "start_time": "2021-10-11T21:20:46.056179",
     "status": "completed"
    },
    "tags": [
     "bash"
    ]
   },
   "outputs": [
    {
     "name": "stdout",
     "output_type": "stream",
     "text": [
      "name        Ran?      Elapsed (s)    Percentage\n",
      "----------  ------  -------------  ------------\n",
      "get         True         0.017056      0.295108\n",
      "sepal-area  True         0.046353      0.802014\n",
      "petal-area  True         0.026244      0.454082\n",
      "join        True         0.032553      0.563242\n",
      "fit         True         5.65737      97.8856\n"
     ]
    },
    {
     "name": "stderr",
     "output_type": "stream",
     "text": [
      "Building task 'fit':  80%|████████  | 4/5 [00:13<00:03,  3.33s/it] \n",
      "Executing:   0%|          | 0/11 [00:00<?, ?cell/s]\u001b[A\n",
      "Executing:   9%|▉         | 1/11 [00:01<00:15,  1.55s/cell]\u001b[A\n",
      "Executing:  18%|█▊        | 2/11 [00:03<00:16,  1.82s/cell]\u001b[A\n",
      "Executing:  36%|███▋      | 4/11 [00:03<00:04,  1.40cell/s]\u001b[A\n",
      "Executing:  45%|████▌     | 5/11 [00:03<00:03,  1.89cell/s]\u001b[A\n",
      "Executing:  64%|██████▎   | 7/11 [00:04<00:01,  2.95cell/s]\u001b[A\n",
      "Executing:  82%|████████▏ | 9/11 [00:04<00:00,  4.32cell/s]\u001b[A\n",
      "Executing: 100%|██████████| 11/11 [00:04<00:00,  2.25cell/s]\n",
      "Building task 'fit': 100%|██████████| 5/5 [00:19<00:00,  3.81s/it]\n"
     ]
    }
   ],
   "source": [
    "%%sh\n",
    "ploomber build"
   ]
  },
  {
   "cell_type": "markdown",
   "id": "cb0ffd69",
   "metadata": {
    "papermill": {
     "duration": 0.022503,
     "end_time": "2021-10-11T21:21:09.775209",
     "exception": false,
     "start_time": "2021-10-11T21:21:09.752706",
     "status": "completed"
    },
    "tags": []
   },
   "source": [
    "## Serving\n",
    "\n",
    "Once the model is trained, run the serving pipeline with:"
   ]
  },
  {
   "cell_type": "code",
   "execution_count": 2,
   "id": "7f94b9e7",
   "metadata": {
    "execution": {
     "iopub.execute_input": "2021-10-11T21:21:09.821392Z",
     "iopub.status.busy": "2021-10-11T21:21:09.818290Z",
     "iopub.status.idle": "2021-10-11T21:21:29.837829Z",
     "shell.execute_reply": "2021-10-11T21:21:29.838396Z"
    },
    "papermill": {
     "duration": 20.043922,
     "end_time": "2021-10-11T21:21:29.838642",
     "exception": false,
     "start_time": "2021-10-11T21:21:09.794720",
     "status": "completed"
    },
    "tags": [
     "bash"
    ]
   },
   "outputs": [
    {
     "name": "stdout",
     "output_type": "stream",
     "text": [
      "name        Ran?      Elapsed (s)    Percentage\n",
      "----------  ------  -------------  ------------\n",
      "get         True         0.010807       4.62454\n",
      "sepal-area  True         0.026126      11.1799\n",
      "petal-area  True         0.02431       10.4028\n",
      "join        True         0.034649      14.827\n",
      "predict     True         0.137796      58.9658\n"
     ]
    },
    {
     "name": "stderr",
     "output_type": "stream",
     "text": [
      "Building task 'predict': 100%|██████████| 5/5 [00:16<00:00,  3.31s/it]\n"
     ]
    }
   ],
   "source": [
    "%%sh\n",
    "ploomber build --entry-point pipeline.serve.yaml"
   ]
  },
  {
   "cell_type": "markdown",
   "id": "5c74d254",
   "metadata": {
    "papermill": {
     "duration": 0.020247,
     "end_time": "2021-10-11T21:21:29.879306",
     "exception": false,
     "start_time": "2021-10-11T21:21:29.859059",
     "status": "completed"
    },
    "tags": []
   },
   "source": [
    "This pipeline loads some data and uses the model file to make predictions."
   ]
  }
 ],
 "metadata": {
  "jupytext": {
   "cell_metadata_filter": "tags,-all",
   "main_language": "bash",
   "notebook_metadata_filter": "-all"
  },
  "kernelspec": {
   "display_name": "Python 3 (ipykernel)",
   "language": "python",
   "name": "python3"
  },
  "language_info": {
   "codemirror_mode": {
    "name": "ipython",
    "version": 3
   },
   "file_extension": ".py",
   "mimetype": "text/x-python",
   "name": "python",
   "nbconvert_exporter": "python",
   "pygments_lexer": "ipython3",
   "version": "3.9.7"
  },
  "papermill": {
   "duration": 45.49856,
   "end_time": "2021-10-11T21:21:30.201167",
   "exception": null,
   "input_path": "/var/folders/3h/_lvh_w_x5g30rrjzb_xnn2j80000gq/T/tmp8uor051o.ipynb",
   "output_path": "ml-intermediate/README.ipynb",
   "parameters": {
    "product": "ml-intermediate/README.ipynb"
   },
   "start_time": "2021-10-11T21:20:44.702607"
  }
 },
 "nbformat": 4,
 "nbformat_minor": 5
}
