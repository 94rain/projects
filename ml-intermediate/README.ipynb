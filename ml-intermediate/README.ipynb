{
 "cells": [
  {
   "cell_type": "markdown",
   "metadata": {
    "papermill": {
     "duration": 0.006362,
     "end_time": "2020-12-30T20:10:37.657173",
     "exception": false,
     "start_time": "2020-12-30T20:10:37.650811",
     "status": "completed"
    },
    "tags": []
   },
   "source": [
    "\n",
    "*Note:* You can run this from your computer (Jupyter or terminal), or use one of the\n",
    "hosted options:\n",
    "\n",
    "[![binder-logo](https://mybinder.org/badge_logo.svg)](https://mybinder.org/v2/gh/ploomber/binder-env/main?urlpath=git-pull%3Frepo%3Dhttps%253A%252F%252Fgithub.com%252Fploomber%252Fprojects%26urlpath%3Dlab%252Ftree%252Fprojects%252Fml-intermediate%252FREADME.ipynb%26branch%3Dmaster)\n",
    "\n",
    "[![deepnote-logo](https://deepnote.com/buttons/launch-in-deepnote-small.svg)](https://deepnote.com/launch?template=deepnote&url=https://github.com/ploomber/projects/blob/master/ml-intermediate/README.ipynb)\n"
   ]
  },
  {
   "cell_type": "markdown",
   "metadata": {
    "papermill": {
     "duration": 0.004184,
     "end_time": "2020-12-30T20:10:37.666267",
     "exception": false,
     "start_time": "2020-12-30T20:10:37.662083",
     "status": "completed"
    },
    "tags": []
   },
   "source": [
    "# Intermediate ML project\n",
    "\n",
    "This example shows how to build an ML pipeline with integration testing (using\n",
    "the `on_finish` key). When the pipeline takes a lot of time to run end-to-end\n",
    "it is a good idea to test with a sample, take a look at the `pipeline.yaml`,\n",
    "`env.yaml` to see how this parametrization happens and how this affects the\n",
    "`get` function defined in `tasks.py`.\n",
    "\n",
    "## Setup\n",
    "\n",
    "~~~bash\n",
    "# same instructions as the other version\n",
    "git clone https://github.com/ploomber/projects\n",
    "cd ml-intermediate\n",
    "\n",
    "conda env create --file environment.yml\n",
    "conda activate ml-intermediate\n",
    "~~~\n",
    "\n",
    "## Execute the pipeline"
   ]
  },
  {
   "cell_type": "code",
   "execution_count": 1,
   "metadata": {
    "execution": {
     "iopub.execute_input": "2020-12-30T20:10:37.685075Z",
     "iopub.status.busy": "2020-12-30T20:10:37.682583Z",
     "iopub.status.idle": "2020-12-30T20:11:17.190592Z",
     "shell.execute_reply": "2020-12-30T20:11:17.189948Z"
    },
    "papermill": {
     "duration": 39.519818,
     "end_time": "2020-12-30T20:11:17.190842",
     "exception": false,
     "start_time": "2020-12-30T20:10:37.671024",
     "status": "completed"
    },
    "tags": [
     "bash"
    ]
   },
   "outputs": [
    {
     "name": "stdout",
     "output_type": "stream",
     "text": [
      "Using the full dataset\n",
      "name      Ran?      Elapsed (s)    Percentage\n",
      "--------  ------  -------------  ------------\n",
      "get       True         0.630873      2.46166\n",
      "features  True         0.080444      0.313891\n",
      "join      True         0.281112      1.09689\n",
      "fit       True        24.6356       96.1276\n"
     ]
    },
    {
     "name": "stderr",
     "output_type": "stream",
     "text": [
      "100%|██████████| 4/4 [00:00<00:00, 3846.22it/s]\n",
      "Building task \"fit\":  75%|███████▌  | 3/4 [00:10<00:03,  3.66s/it] \n",
      "Executing:   0%|          | 0/11 [00:00<?, ?cell/s]\u001b[A\n",
      "Executing:   9%|▉         | 1/11 [00:00<00:09,  1.03cell/s]\u001b[A\n",
      "Executing:  18%|█▊        | 2/11 [00:02<00:10,  1.20s/cell]\u001b[A\n",
      "Executing:  45%|████▌     | 5/11 [00:02<00:05,  1.16cell/s]\u001b[A\n",
      "Executing:  55%|█████▍    | 6/11 [00:03<00:03,  1.56cell/s]\u001b[A\n",
      "Executing:  64%|██████▎   | 7/11 [00:21<00:24,  6.01s/cell]\u001b[A\n",
      "Executing:  73%|███████▎  | 8/11 [00:23<00:13,  4.65s/cell]\u001b[A\n",
      "Executing:  82%|████████▏ | 9/11 [00:23<00:06,  3.35s/cell]\u001b[A\n",
      "Executing: 100%|██████████| 11/11 [00:24<00:00,  2.22s/cell]\n",
      "Building task \"fit\": 100%|██████████| 4/4 [00:35<00:00,  8.87s/it]\n"
     ]
    }
   ],
   "source": [
    "%%sh\n",
    "ploomber build"
   ]
  },
  {
   "cell_type": "markdown",
   "metadata": {
    "papermill": {
     "duration": 0.006252,
     "end_time": "2020-12-30T20:11:17.202778",
     "exception": false,
     "start_time": "2020-12-30T20:11:17.196526",
     "status": "completed"
    },
    "tags": []
   },
   "source": [
    "## Integration testing with a sample\n",
    "\n",
    "To see available parameters (params parsed from `env.yaml` start with `--env`):"
   ]
  },
  {
   "cell_type": "code",
   "execution_count": 2,
   "metadata": {
    "execution": {
     "iopub.execute_input": "2020-12-30T20:11:17.218421Z",
     "iopub.status.busy": "2020-12-30T20:11:17.217560Z",
     "iopub.status.idle": "2020-12-30T20:11:21.152169Z",
     "shell.execute_reply": "2020-12-30T20:11:21.152815Z"
    },
    "papermill": {
     "duration": 3.945196,
     "end_time": "2020-12-30T20:11:21.153072",
     "exception": false,
     "start_time": "2020-12-30T20:11:17.207876",
     "status": "completed"
    },
    "tags": [
     "bash"
    ]
   },
   "outputs": [
    {
     "name": "stdout",
     "output_type": "stream",
     "text": [
      "usage: ploomber [-h] [--log LOG] [--entry-point ENTRY_POINT] [--force]\n",
      "                [--partially PARTIALLY] [--debug]\n",
      "                [--env--path--products ENV__PATH__PRODUCTS]\n",
      "                [--env--sample ENV__SAMPLE]\n",
      "\n",
      "Build pipeline\n",
      "\n",
      "optional arguments:\n",
      "  -h, --help            show this help message and exit\n",
      "  --log LOG, -l LOG     Enables logging to stdout at the specified level\n",
      "  --entry-point ENTRY_POINT, -e ENTRY_POINT\n",
      "                        Entry point(DAG), defaults to pipeline.yaml. Replaced\n",
      "                        if there is an ENTRY_POINT env variable defined\n",
      "  --force, -f           Force execution by ignoring status\n",
      "  --partially PARTIALLY, -p PARTIALLY\n",
      "                        Build a pipeline partially until certain task\n",
      "  --debug, -d           Drop a debugger session if an exception happens\n",
      "  --env--path--products ENV__PATH__PRODUCTS\n",
      "                        Default: /Users/Edu/dev/projects-ploomber/ml-\n",
      "                        intermediate/output\n",
      "  --env--sample ENV__SAMPLE\n",
      "                        Default: False\n"
     ]
    }
   ],
   "source": [
    "%%sh\n",
    "ploomber build --help"
   ]
  },
  {
   "cell_type": "markdown",
   "metadata": {
    "papermill": {
     "duration": 0.006705,
     "end_time": "2020-12-30T20:11:21.165699",
     "exception": false,
     "start_time": "2020-12-30T20:11:21.158994",
     "status": "completed"
    },
    "tags": []
   },
   "source": [
    "Run with a sample:"
   ]
  },
  {
   "cell_type": "code",
   "execution_count": 3,
   "metadata": {
    "execution": {
     "iopub.execute_input": "2020-12-30T20:11:21.184914Z",
     "iopub.status.busy": "2020-12-30T20:11:21.183235Z",
     "iopub.status.idle": "2020-12-30T20:11:39.212127Z",
     "shell.execute_reply": "2020-12-30T20:11:39.212598Z"
    },
    "papermill": {
     "duration": 18.040871,
     "end_time": "2020-12-30T20:11:39.212835",
     "exception": false,
     "start_time": "2020-12-30T20:11:21.171964",
     "status": "completed"
    },
    "tags": [
     "bash"
    ]
   },
   "outputs": [
    {
     "name": "stdout",
     "output_type": "stream",
     "text": [
      "Sampling 10%\n",
      "name      Ran?      Elapsed (s)    Percentage\n",
      "--------  ------  -------------  ------------\n",
      "get       True         0.624963     11.0679\n",
      "features  True         0.0501        0.887259\n",
      "join      True         0.076015      1.34621\n",
      "fit       True         4.89553      86.6986\n"
     ]
    },
    {
     "name": "stderr",
     "output_type": "stream",
     "text": [
      "100%|██████████| 4/4 [00:00<00:00, 3584.88it/s]\n",
      "Building task \"fit\":  75%|███████▌  | 3/4 [00:09<00:03,  3.29s/it] \n",
      "Executing:   0%|          | 0/11 [00:00<?, ?cell/s]\u001b[A\n",
      "Executing:   9%|▉         | 1/11 [00:00<00:09,  1.03cell/s]\u001b[A\n",
      "Executing:  18%|█▊        | 2/11 [00:02<00:09,  1.10s/cell]\u001b[A\n",
      "Executing:  45%|████▌     | 5/11 [00:02<00:04,  1.28cell/s]\u001b[A\n",
      "Executing:  64%|██████▎   | 7/11 [00:03<00:02,  1.38cell/s]\u001b[A\n",
      "Executing:  73%|███████▎  | 8/11 [00:03<00:01,  1.79cell/s]\u001b[A\n",
      "Executing: 100%|██████████| 11/11 [00:04<00:00,  2.35cell/s]\n",
      "Building task \"fit\": 100%|██████████| 4/4 [00:14<00:00,  3.62s/it]\n"
     ]
    }
   ],
   "source": [
    "%%sh\n",
    "ploomber build --env--sample true "
   ]
  },
  {
   "cell_type": "markdown",
   "metadata": {
    "papermill": {
     "duration": 0.006536,
     "end_time": "2020-12-30T20:11:39.225966",
     "exception": false,
     "start_time": "2020-12-30T20:11:39.219430",
     "status": "completed"
    },
    "tags": []
   },
   "source": [
    "## Where to go from here\n",
    "\n",
    "Using a `pipeline.yaml` is a convenient way to describe your workflows but it\n",
    "has some limitations. [`ml-advanced/`](../ml-advanced/README.ipynb) shows a\n",
    "pipeline written using the Python API, this gives you full flexibility and\n",
    "allows you to do things such as creating tasks dynamically.\n",
    "\n",
    "It also shows how to create a Python package to easily share your pipeline and how to test it using `pytest`."
   ]
  },
  {
   "cell_type": "code",
   "execution_count": null,
   "metadata": {
    "papermill": {
     "duration": 0.006066,
     "end_time": "2020-12-30T20:11:39.238143",
     "exception": false,
     "start_time": "2020-12-30T20:11:39.232077",
     "status": "completed"
    },
    "tags": [
     "parameters"
    ]
   },
   "outputs": [],
   "source": []
  },
  {
   "cell_type": "code",
   "execution_count": 4,
   "metadata": {
    "execution": {
     "iopub.execute_input": "2020-12-30T20:11:39.255340Z",
     "iopub.status.busy": "2020-12-30T20:11:39.254400Z",
     "iopub.status.idle": "2020-12-30T20:11:39.257044Z",
     "shell.execute_reply": "2020-12-30T20:11:39.257707Z"
    },
    "papermill": {
     "duration": 0.01349,
     "end_time": "2020-12-30T20:11:39.257919",
     "exception": false,
     "start_time": "2020-12-30T20:11:39.244429",
     "status": "completed"
    },
    "tags": [
     "injected-parameters"
    ]
   },
   "outputs": [],
   "source": [
    "# Parameters\n",
    "product = \"ml-intermediate/README.ipynb\"\n"
   ]
  }
 ],
 "metadata": {
  "jupytext": {
   "cell_metadata_filter": "tags,-all",
   "main_language": "bash",
   "notebook_metadata_filter": "-all",
   "text_representation": {
    "extension": ".md",
    "format_name": "markdown"
   }
  },
  "kernelspec": {
   "display_name": "Python 3",
   "language": "python",
   "name": "python3"
  },
  "language_info": {
   "codemirror_mode": {
    "name": "ipython",
    "version": 3
   },
   "file_extension": ".py",
   "mimetype": "text/x-python",
   "name": "python",
   "nbconvert_exporter": "python",
   "pygments_lexer": "ipython3",
   "version": "3.8.6"
  },
  "papermill": {
   "default_parameters": {},
   "duration": 62.675638,
   "end_time": "2020-12-30T20:11:39.477551",
   "environment_variables": {},
   "exception": null,
   "input_path": "/var/folders/3h/_lvh_w_x5g30rrjzb_xnn2j80000gq/T/tmpet3a3nrw.ipynb",
   "output_path": "ml-intermediate/README.ipynb",
   "parameters": {
    "product": "ml-intermediate/README.ipynb"
   },
   "start_time": "2020-12-30T20:10:36.801913",
   "version": "2.2.2"
  }
 },
 "nbformat": 4,
 "nbformat_minor": 4
}
