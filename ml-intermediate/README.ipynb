{
 "cells": [
  {
   "cell_type": "markdown",
   "metadata": {
    "papermill": {
     "duration": 0.0081,
     "end_time": "2020-11-21T00:14:11.638147",
     "exception": false,
     "start_time": "2020-11-21T00:14:11.630047",
     "status": "completed"
    },
    "tags": []
   },
   "source": [
    "# Intermediate ML project\n",
    "\n",
    "This example shows how to build an ML pipeline with integration testing (using\n",
    "the `on_finish` key). When the pipeline takes a lot of time to run end-to-end\n",
    "it is a good idea to test with a sample, take a look at the `pipeline.yaml`,\n",
    "`env.yaml` to see how this parametrization happens and how this affects the\n",
    "`get` function defined in `tasks.py`.\n",
    "\n",
    "## Setup\n",
    "\n",
    "~~~bash\n",
    "# same instructions as the other version\n",
    "git clone https://github.com/ploomber/projects\n",
    "cd ml-intermediate\n",
    "\n",
    "conda env create --file environment.yml\n",
    "conda activate ml-intermediate\n",
    "~~~\n",
    "\n",
    "## Execute the pipeline"
   ]
  },
  {
   "cell_type": "code",
   "execution_count": 1,
   "metadata": {
    "execution": {
     "iopub.execute_input": "2020-11-21T00:14:11.653458Z",
     "iopub.status.busy": "2020-11-21T00:14:11.652691Z",
     "iopub.status.idle": "2020-11-21T00:14:14.779558Z",
     "shell.execute_reply": "2020-11-21T00:14:14.780046Z"
    },
    "papermill": {
     "duration": 3.136681,
     "end_time": "2020-11-21T00:14:14.780398",
     "exception": false,
     "start_time": "2020-11-21T00:14:11.643717",
     "status": "completed"
    },
    "tags": [
     "bash"
    ]
   },
   "outputs": [
    {
     "name": "stdout",
     "output_type": "stream",
     "text": [
      "name      Ran?      Elapsed (s)    Percentage\n",
      "--------  ------  -------------  ------------\n",
      "get       False               0             0\n",
      "features  False               0             0\n",
      "join      False               0             0\n",
      "fit       False               0             0\n"
     ]
    },
    {
     "name": "stderr",
     "output_type": "stream",
     "text": [
      "100%|██████████| 4/4 [00:00<00:00, 7219.11it/s]\n",
      "0it [00:00, ?it/s]\n"
     ]
    }
   ],
   "source": [
    "%%sh\n",
    "ploomber build"
   ]
  },
  {
   "cell_type": "markdown",
   "metadata": {
    "papermill": {
     "duration": 0.005475,
     "end_time": "2020-11-21T00:14:14.791883",
     "exception": false,
     "start_time": "2020-11-21T00:14:14.786408",
     "status": "completed"
    },
    "tags": []
   },
   "source": [
    "## Integration testing with a sample\n",
    "\n",
    "To see available parameters:"
   ]
  },
  {
   "cell_type": "code",
   "execution_count": 2,
   "metadata": {
    "execution": {
     "iopub.execute_input": "2020-11-21T00:14:14.809482Z",
     "iopub.status.busy": "2020-11-21T00:14:14.808643Z",
     "iopub.status.idle": "2020-11-21T00:14:16.929978Z",
     "shell.execute_reply": "2020-11-21T00:14:16.930400Z"
    },
    "papermill": {
     "duration": 2.133311,
     "end_time": "2020-11-21T00:14:16.930631",
     "exception": false,
     "start_time": "2020-11-21T00:14:14.797320",
     "status": "completed"
    },
    "tags": [
     "bash"
    ]
   },
   "outputs": [
    {
     "name": "stdout",
     "output_type": "stream",
     "text": [
      "usage: ploomber [-h] [--log LOG] [--entry-point ENTRY_POINT] [--force]\n",
      "                [--partially PARTIALLY] [--debug]\n",
      "                [--env--path--products ENV__PATH__PRODUCTS]\n",
      "                [--env--sample ENV__SAMPLE]\n",
      "\n",
      "Build pipeline\n",
      "\n",
      "optional arguments:\n",
      "  -h, --help            show this help message and exit\n",
      "  --log LOG, -l LOG     Enables logging to stdout at the specified level\n",
      "  --entry-point ENTRY_POINT, -e ENTRY_POINT\n",
      "                        Entry point(DAG), defaults to pipeline.yaml. Replaced\n",
      "                        if there is an ENTRY_POINT env variable defined\n",
      "  --force, -f           Force execution by ignoring status\n",
      "  --partially PARTIALLY, -p PARTIALLY\n",
      "                        Build a pipeline partially until certain task\n",
      "  --debug, -d           Drop a debugger session if an exception happens\n",
      "  --env--path--products ENV__PATH__PRODUCTS\n",
      "                        Default: /Users/Edu/dev/projects-ploomber/ml-\n",
      "                        intermediate/output\n",
      "  --env--sample ENV__SAMPLE\n",
      "                        Default: False\n"
     ]
    }
   ],
   "source": [
    "%%sh\n",
    "ploomber build --help"
   ]
  },
  {
   "cell_type": "markdown",
   "metadata": {
    "papermill": {
     "duration": 0.005876,
     "end_time": "2020-11-21T00:14:16.942148",
     "exception": false,
     "start_time": "2020-11-21T00:14:16.936272",
     "status": "completed"
    },
    "tags": []
   },
   "source": [
    "Run with a sample:"
   ]
  },
  {
   "cell_type": "code",
   "execution_count": 3,
   "metadata": {
    "execution": {
     "iopub.execute_input": "2020-11-21T00:14:16.958983Z",
     "iopub.status.busy": "2020-11-21T00:14:16.957057Z",
     "iopub.status.idle": "2020-11-21T00:14:25.444611Z",
     "shell.execute_reply": "2020-11-21T00:14:25.445273Z"
    },
    "papermill": {
     "duration": 8.497937,
     "end_time": "2020-11-21T00:14:25.445503",
     "exception": false,
     "start_time": "2020-11-21T00:14:16.947566",
     "status": "completed"
    },
    "tags": [
     "bash"
    ]
   },
   "outputs": [
    {
     "name": "stdout",
     "output_type": "stream",
     "text": [
      "Sampling 10%\n",
      "name      Ran?      Elapsed (s)    Percentage\n",
      "--------  ------  -------------  ------------\n",
      "get       True         0.622989      11.6216\n",
      "features  True         0.064425       1.20182\n",
      "join      True         0.086574       1.615\n",
      "fit       True         4.58664       85.5616\n"
     ]
    },
    {
     "name": "stderr",
     "output_type": "stream",
     "text": [
      "100%|██████████| 4/4 [00:00<00:00, 9024.86it/s]\n",
      "Building task \"fit\":  75%|███████▌  | 3/4 [00:01<00:00,  2.18it/s] \n",
      "Executing:   0%|          | 0/11 [00:00<?, ?cell/s]\u001b[A\n",
      "Executing:   9%|▉         | 1/11 [00:00<00:08,  1.22cell/s]\u001b[A\n",
      "Executing:  18%|█▊        | 2/11 [00:02<00:08,  1.06cell/s]\u001b[A\n",
      "Executing:  45%|████▌     | 5/11 [00:02<00:04,  1.48cell/s]\u001b[A\n",
      "Executing:  64%|██████▎   | 7/11 [00:03<00:02,  1.54cell/s]\u001b[A\n",
      "Executing:  73%|███████▎  | 8/11 [00:03<00:01,  1.98cell/s]\u001b[A\n",
      "Executing: 100%|██████████| 11/11 [00:04<00:00,  2.51cell/s]\n",
      "Building task \"fit\": 100%|██████████| 4/4 [00:05<00:00,  1.42s/it]\n"
     ]
    }
   ],
   "source": [
    "%%sh\n",
    "ploomber build --env--sample true "
   ]
  },
  {
   "cell_type": "markdown",
   "metadata": {
    "papermill": {
     "duration": 0.006731,
     "end_time": "2020-11-21T00:14:25.458524",
     "exception": false,
     "start_time": "2020-11-21T00:14:25.451793",
     "status": "completed"
    },
    "tags": []
   },
   "source": [
    "## Where to go from here\n",
    "\n",
    "Using a `pipeline.yaml` is a convenient way to describe your workflows but it has some limitations. `ml-advanced` shows a pipeline written using the Python API, this gives you full flexibility and allows you to do things such as creating tasks dynamically.\n",
    "\n",
    "It also shows how to create a Python package to easily share your pipeline and how to test it using `pytest`."
   ]
  }
 ],
 "metadata": {
  "jupytext": {
   "cell_metadata_filter": "tags,-all",
   "main_language": "bash",
   "notebook_metadata_filter": "-all"
  },
  "kernelspec": {
   "display_name": "Python 3",
   "language": "python",
   "name": "python3"
  },
  "language_info": {
   "codemirror_mode": {
    "name": "ipython",
    "version": 3
   },
   "file_extension": ".py",
   "mimetype": "text/x-python",
   "name": "python",
   "nbconvert_exporter": "python",
   "pygments_lexer": "ipython3",
   "version": "3.7.8"
  },
  "papermill": {
   "default_parameters": {},
   "duration": 14.888,
   "end_time": "2020-11-21T00:14:25.709879",
   "environment_variables": {},
   "exception": null,
   "input_path": "/var/folders/3h/_lvh_w_x5g30rrjzb_xnn2j80000gq/T/tmpuv5xilkl.ipynb",
   "output_path": "ml-intermediate/README.ipynb",
   "parameters": {
    "product": "ml-intermediate/README.ipynb"
   },
   "start_time": "2020-11-21T00:14:10.821879",
   "version": "2.2.2"
  }
 },
 "nbformat": 4,
 "nbformat_minor": 4
}
