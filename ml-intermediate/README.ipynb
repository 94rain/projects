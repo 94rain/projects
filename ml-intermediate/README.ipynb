{
 "cells": [
  {
   "cell_type": "markdown",
   "id": "e47b3dbf",
   "metadata": {
    "papermill": {
     "duration": 0.006552,
     "end_time": "2021-09-19T22:20:51.250590",
     "exception": false,
     "start_time": "2021-09-19T22:20:51.244038",
     "status": "completed"
    },
    "tags": []
   },
   "source": [
    "\n",
    "*Note:* You can run this from your computer (Jupyter or terminal), or using Binder (does not require any installation, takes a few minutes to be ready)\n",
    "\n",
    "[![binder-logo](https://mybinder.org/badge_logo.svg)](https://mybinder.org/v2/gh/ploomber/binder-env/main?urlpath=git-pull%3Frepo%3Dhttps%253A%252F%252Fgithub.com%252Fploomber%252Fprojects%26urlpath%3Dlab%252Ftree%252Fprojects%252Fml-intermediate%252FREADME.ipynb%26branch%3Dmaster)\n"
   ]
  },
  {
   "cell_type": "markdown",
   "id": "7d670ffb",
   "metadata": {
    "papermill": {
     "duration": 0.004857,
     "end_time": "2021-09-19T22:20:51.261385",
     "exception": false,
     "start_time": "2021-09-19T22:20:51.256528",
     "status": "completed"
    },
    "tags": []
   },
   "source": [
    "# Intermediate ML project\n",
    "\n",
    "Training and serving ML pipeline with integration testing.\n",
    "\n",
    "## Setup\n",
    "\n",
    "~~~bash\n",
    "# if using conda\n",
    "conda env create --file environment.yml\n",
    "conda activate ml-intermediate\n",
    "\n",
    "# or use pip directly\n",
    "pip install -r requirements.txt\n",
    "~~~\n",
    "\n",
    "## Build"
   ]
  },
  {
   "cell_type": "code",
   "execution_count": 1,
   "id": "0b21182c",
   "metadata": {
    "execution": {
     "iopub.execute_input": "2021-09-19T22:20:51.282402Z",
     "iopub.status.busy": "2021-09-19T22:20:51.281714Z",
     "iopub.status.idle": "2021-09-19T22:20:54.563981Z",
     "shell.execute_reply": "2021-09-19T22:20:54.564519Z"
    },
    "lines_to_next_cell": 2,
    "papermill": {
     "duration": 3.296478,
     "end_time": "2021-09-19T22:20:54.564862",
     "exception": false,
     "start_time": "2021-09-19T22:20:51.268384",
     "status": "completed"
    },
    "tags": [
     "bash"
    ]
   },
   "outputs": [
    {
     "name": "stdout",
     "output_type": "stream",
     "text": [
      "name        Ran?      Elapsed (s)    Percentage\n",
      "----------  ------  -------------  ------------\n",
      "get         False               0             0\n",
      "sepal-area  False               0             0\n",
      "petal-area  False               0             0\n",
      "join        False               0             0\n",
      "fit         False               0             0\n"
     ]
    },
    {
     "name": "stderr",
     "output_type": "stream",
     "text": [
      "0it [00:00, ?it/s]\n"
     ]
    }
   ],
   "source": [
    "%%sh\n",
    "ploomber build"
   ]
  },
  {
   "cell_type": "markdown",
   "id": "27a5fc60",
   "metadata": {
    "papermill": {
     "duration": 0.005086,
     "end_time": "2021-09-19T22:20:54.575873",
     "exception": false,
     "start_time": "2021-09-19T22:20:54.570787",
     "status": "completed"
    },
    "tags": []
   },
   "source": [
    "## Serving\n",
    "\n",
    "Once the model is trained, run the serving pipeline with:"
   ]
  },
  {
   "cell_type": "code",
   "execution_count": 2,
   "id": "4e9119d2",
   "metadata": {
    "execution": {
     "iopub.execute_input": "2021-09-19T22:20:54.596738Z",
     "iopub.status.busy": "2021-09-19T22:20:54.593870Z",
     "iopub.status.idle": "2021-09-19T22:20:57.641646Z",
     "shell.execute_reply": "2021-09-19T22:20:57.642186Z"
    },
    "papermill": {
     "duration": 3.060459,
     "end_time": "2021-09-19T22:20:57.642447",
     "exception": false,
     "start_time": "2021-09-19T22:20:54.581988",
     "status": "completed"
    },
    "tags": [
     "bash"
    ]
   },
   "outputs": [
    {
     "name": "stdout",
     "output_type": "stream",
     "text": [
      "name        Ran?      Elapsed (s)    Percentage\n",
      "----------  ------  -------------  ------------\n",
      "get         False               0             0\n",
      "sepal-area  False               0             0\n",
      "petal-area  False               0             0\n",
      "join        False               0             0\n",
      "predict     False               0             0\n"
     ]
    },
    {
     "name": "stderr",
     "output_type": "stream",
     "text": [
      "0it [00:00, ?it/s]\n"
     ]
    }
   ],
   "source": [
    "%%sh\n",
    "ploomber build --entry-point pipeline.serve.yaml"
   ]
  },
  {
   "cell_type": "markdown",
   "id": "88dec989",
   "metadata": {
    "papermill": {
     "duration": 0.005763,
     "end_time": "2021-09-19T22:20:57.654353",
     "exception": false,
     "start_time": "2021-09-19T22:20:57.648590",
     "status": "completed"
    },
    "tags": []
   },
   "source": [
    "This pipeline loads some data and uses the model file to make predictions."
   ]
  }
 ],
 "metadata": {
  "jupytext": {
   "cell_metadata_filter": "tags,-all",
   "main_language": "bash",
   "notebook_metadata_filter": "-all"
  },
  "kernelspec": {
   "display_name": "Python 3 (ipykernel)",
   "language": "python",
   "name": "python3"
  },
  "language_info": {
   "codemirror_mode": {
    "name": "ipython",
    "version": 3
   },
   "file_extension": ".py",
   "mimetype": "text/x-python",
   "name": "python",
   "nbconvert_exporter": "python",
   "pygments_lexer": "ipython3",
   "version": "3.7.10"
  },
  "papermill": {
   "duration": 7.950193,
   "end_time": "2021-09-19T22:20:57.907187",
   "exception": null,
   "input_path": "/var/folders/3h/_lvh_w_x5g30rrjzb_xnn2j80000gq/T/tmp7bsnas_z.ipynb",
   "output_path": "ml-intermediate/README.ipynb",
   "parameters": {
    "product": "ml-intermediate/README.ipynb"
   },
   "start_time": "2021-09-19T22:20:49.956994"
  }
 },
 "nbformat": 4,
 "nbformat_minor": 5
}
