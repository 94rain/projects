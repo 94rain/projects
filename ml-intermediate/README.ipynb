{
 "cells": [
  {
   "cell_type": "markdown",
   "id": "suburban-discretion",
   "metadata": {
    "papermill": {
     "duration": 0.008276,
     "end_time": "2021-03-14T00:40:54.415899",
     "exception": false,
     "start_time": "2021-03-14T00:40:54.407623",
     "status": "completed"
    },
    "tags": []
   },
   "source": [
    "\n",
    "*Note:* You can run this from your computer (Jupyter or terminal), or use one of the\n",
    "hosted options:\n",
    "\n",
    "[![binder-logo](https://mybinder.org/badge_logo.svg)](https://mybinder.org/v2/gh/ploomber/binder-env/main?urlpath=git-pull%3Frepo%3Dhttps%253A%252F%252Fgithub.com%252Fploomber%252Fprojects%26urlpath%3Dlab%252Ftree%252Fprojects%252Fml-intermediate%252FREADME.ipynb%26branch%3Dmaster)\n",
    "\n",
    "[![deepnote-logo](https://deepnote.com/buttons/launch-in-deepnote-small.svg)](https://deepnote.com/launch?template=deepnote&url=https://github.com/ploomber/projects/blob/master/ml-intermediate/README.ipynb)\n"
   ]
  },
  {
   "cell_type": "markdown",
   "id": "hispanic-classroom",
   "metadata": {
    "papermill": {
     "duration": 0.005488,
     "end_time": "2021-03-14T00:40:54.427329",
     "exception": false,
     "start_time": "2021-03-14T00:40:54.421841",
     "status": "completed"
    },
    "tags": []
   },
   "source": [
    "# Intermediate ML project\n",
    "\n",
    "Training and serving ML pipeline with integration testing.\n",
    "\n",
    "## Setup\n",
    "\n",
    "~~~bash\n",
    "# if using conda\n",
    "conda env create --file environment.yml\n",
    "conda activate ml-intermediate\n",
    "\n",
    "# or use pip directly\n",
    "pip install -r requirements.txt\n",
    "~~~\n",
    "\n",
    "## Build"
   ]
  },
  {
   "cell_type": "code",
   "execution_count": 1,
   "id": "alien-brooklyn",
   "metadata": {
    "execution": {
     "iopub.execute_input": "2021-03-14T00:40:54.446788Z",
     "iopub.status.busy": "2021-03-14T00:40:54.445991Z",
     "iopub.status.idle": "2021-03-14T00:41:21.539222Z",
     "shell.execute_reply": "2021-03-14T00:41:21.539769Z"
    },
    "papermill": {
     "duration": 27.107776,
     "end_time": "2021-03-14T00:41:21.540070",
     "exception": false,
     "start_time": "2021-03-14T00:40:54.432294",
     "status": "completed"
    },
    "tags": [
     "bash"
    ]
   },
   "outputs": [
    {
     "name": "stdout",
     "output_type": "stream",
     "text": [
      "name        Ran?      Elapsed (s)    Percentage\n",
      "----------  ------  -------------  ------------\n",
      "get         True         0.570579      2.35202\n",
      "sepal_area  True         0.083474      0.344093\n",
      "petal_area  True         0.08414       0.346838\n",
      "join        True         0.277298      1.14307\n",
      "fit         True        23.2437       95.814\n"
     ]
    },
    {
     "name": "stderr",
     "output_type": "stream",
     "text": [
      "Building task \"fit\":  80%|████████  | 4/5 [00:01<00:00,  3.28it/s] \n",
      "Executing:   0%|          | 0/11 [00:00<?, ?cell/s]\u001b[A\n",
      "Executing:   9%|▉         | 1/11 [00:01<00:11,  1.15s/cell]\u001b[A\n",
      "Executing:  18%|█▊        | 2/11 [00:02<00:10,  1.19s/cell]\u001b[A\n",
      "Executing:  45%|████▌     | 5/11 [00:02<00:02,  2.61cell/s]\u001b[A\n",
      "Executing:  55%|█████▍    | 6/11 [00:02<00:01,  3.13cell/s]\u001b[A\n",
      "Executing:  64%|██████▎   | 7/11 [00:20<00:19,  4.97s/cell]\u001b[A\n",
      "Executing:  73%|███████▎  | 8/11 [00:21<00:11,  3.95s/cell]\u001b[A\n",
      "Executing:  82%|████████▏ | 9/11 [00:22<00:05,  2.92s/cell]\u001b[A\n",
      "Executing: 100%|██████████| 11/11 [00:22<00:00,  2.09s/cell]\n",
      "Building task \"fit\": 100%|██████████| 5/5 [00:24<00:00,  4.91s/it]\n"
     ]
    }
   ],
   "source": [
    "%%sh\n",
    "ploomber build"
   ]
  },
  {
   "cell_type": "markdown",
   "id": "improving-crisis",
   "metadata": {
    "papermill": {
     "duration": 0.006053,
     "end_time": "2021-03-14T00:41:21.552808",
     "exception": false,
     "start_time": "2021-03-14T00:41:21.546755",
     "status": "completed"
    },
    "tags": []
   },
   "source": [
    "## Serving\n",
    "\n",
    "Once the model is trained, run the serving pipeline with:"
   ]
  },
  {
   "cell_type": "code",
   "execution_count": 2,
   "id": "smooth-leave",
   "metadata": {
    "execution": {
     "iopub.execute_input": "2021-03-14T00:41:21.569231Z",
     "iopub.status.busy": "2021-03-14T00:41:21.568522Z",
     "iopub.status.idle": "2021-03-14T00:41:24.610337Z",
     "shell.execute_reply": "2021-03-14T00:41:24.610968Z"
    },
    "papermill": {
     "duration": 3.052029,
     "end_time": "2021-03-14T00:41:24.611208",
     "exception": false,
     "start_time": "2021-03-14T00:41:21.559179",
     "status": "completed"
    },
    "tags": [
     "bash"
    ]
   },
   "outputs": [
    {
     "name": "stdout",
     "output_type": "stream",
     "text": [
      "name        Ran?      Elapsed (s)    Percentage\n",
      "----------  ------  -------------  ------------\n",
      "get         True         0.018728       7.43791\n",
      "sepal_area  True         0.032026      12.7193\n",
      "petal_area  True         0.032204      12.79\n",
      "join        True         0.03882       15.4175\n",
      "predict     True         0.130013      51.6353\n"
     ]
    },
    {
     "name": "stderr",
     "output_type": "stream",
     "text": [
      "Building task \"predict\": 100%|██████████| 5/5 [00:00<00:00,  7.42it/s]\n"
     ]
    }
   ],
   "source": [
    "%%sh\n",
    "ploomber build --entry-point pipeline-serve.yaml"
   ]
  },
  {
   "cell_type": "markdown",
   "id": "competitive-trustee",
   "metadata": {
    "papermill": {
     "duration": 0.006389,
     "end_time": "2021-03-14T00:41:24.624381",
     "exception": false,
     "start_time": "2021-03-14T00:41:24.617992",
     "status": "completed"
    },
    "tags": []
   },
   "source": [
    "This pipeline loads some data and uses the model file to make predictions."
   ]
  }
 ],
 "metadata": {
  "jupytext": {
   "cell_metadata_filter": "tags,-all",
   "main_language": "bash",
   "notebook_metadata_filter": "-all"
  },
  "kernelspec": {
   "display_name": "Python 3",
   "language": "python",
   "name": "python3"
  },
  "language_info": {
   "codemirror_mode": {
    "name": "ipython",
    "version": 3
   },
   "file_extension": ".py",
   "mimetype": "text/x-python",
   "name": "python",
   "nbconvert_exporter": "python",
   "pygments_lexer": "ipython3",
   "version": "3.7.10"
  },
  "papermill": {
   "duration": 31.307972,
   "end_time": "2021-03-14T00:41:24.875858",
   "exception": null,
   "input_path": "/var/folders/3h/_lvh_w_x5g30rrjzb_xnn2j80000gq/T/tmpnc78xmzs.ipynb",
   "output_path": "ml-intermediate/README.ipynb",
   "parameters": {
    "product": "ml-intermediate/README.ipynb"
   },
   "start_time": "2021-03-14T00:40:53.567886"
  }
 },
 "nbformat": 4,
 "nbformat_minor": 5
}
