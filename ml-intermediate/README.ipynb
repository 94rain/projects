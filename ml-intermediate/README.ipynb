{
 "cells": [
  {
   "cell_type": "markdown",
   "metadata": {
    "papermill": {
     "duration": 0.006292,
     "end_time": "2020-10-15T22:57:44.070048",
     "exception": false,
     "start_time": "2020-10-15T22:57:44.063756",
     "status": "completed"
    },
    "tags": []
   },
   "source": [
    "# Intermediate ML project\n",
    "\n",
    "This example shows how to build an ML pipeline with integration testing (using\n",
    "the `on_finish` key). When the pipeline takes a lot of time to run end-to-end\n",
    "it is a good idea to test with a sample, take a look at the `pipeline.yaml`,\n",
    "`env.yaml` to see how this parametrization happens and how this affects the\n",
    "`get` function defined in `tasks.py`.\n",
    "\n",
    "## Setup\n",
    "\n",
    "~~~bash\n",
    "# same instructions as the other version\n",
    "git clone https://github.com/ploomber/projects\n",
    "cd ml-basic\n",
    "\n",
    "conda env create --file environment.yml\n",
    "conda activate ml-basic\n",
    "~~~\n",
    "\n",
    "## Execute the pipeline"
   ]
  },
  {
   "cell_type": "code",
   "execution_count": 1,
   "metadata": {
    "execution": {
     "iopub.execute_input": "2020-10-15T22:57:44.083547Z",
     "iopub.status.busy": "2020-10-15T22:57:44.082648Z",
     "iopub.status.idle": "2020-10-15T22:57:48.412012Z",
     "shell.execute_reply": "2020-10-15T22:57:48.412471Z"
    },
    "papermill": {
     "duration": 4.337661,
     "end_time": "2020-10-15T22:57:48.412674",
     "exception": false,
     "start_time": "2020-10-15T22:57:44.075013",
     "status": "completed"
    },
    "tags": [
     "bash"
    ]
   },
   "outputs": [
    {
     "name": "stdout",
     "output_type": "stream",
     "text": [
      "name      Ran?      Elapsed (s)    Percentage\n",
      "--------  ------  -------------  ------------\n",
      "get       False               0             0\n",
      "features  False               0             0\n",
      "join      False               0             0\n",
      "fit.py    False               0             0\n"
     ]
    },
    {
     "name": "stderr",
     "output_type": "stream",
     "text": [
      "\r",
      "  0%|          | 0/4 [00:00<?, ?it/s]\r",
      "Rendering DAG:   0%|          | 0/4 [00:00<?, ?it/s]\r",
      "Rendering DAG:  25%|██▌       | 1/4 [00:00<00:00,  8.35it/s]\r",
      "Rendering DAG:  25%|██▌       | 1/4 [00:00<00:00,  8.35it/s]\r",
      "Rendering DAG:  25%|██▌       | 1/4 [00:00<00:00,  8.35it/s]\r",
      "Rendering DAG:  25%|██▌       | 1/4 [00:00<00:00,  8.35it/s]\r",
      "Rendering DAG: 100%|██████████| 4/4 [00:00<00:00,  9.16it/s]\r",
      "Rendering DAG: 100%|██████████| 4/4 [00:00<00:00, 10.69it/s]\n",
      "\r",
      "0it [00:00, ?it/s]\r",
      "4it [00:00, 19043.38it/s]\n"
     ]
    }
   ],
   "source": [
    "%%sh\n",
    "ploomber build"
   ]
  },
  {
   "cell_type": "markdown",
   "metadata": {
    "papermill": {
     "duration": 0.004041,
     "end_time": "2020-10-15T22:57:48.421660",
     "exception": false,
     "start_time": "2020-10-15T22:57:48.417619",
     "status": "completed"
    },
    "tags": []
   },
   "source": [
    "## Integration testing with a sample\n",
    "\n",
    "To see available parameters:"
   ]
  },
  {
   "cell_type": "code",
   "execution_count": 2,
   "metadata": {
    "execution": {
     "iopub.execute_input": "2020-10-15T22:57:48.435651Z",
     "iopub.status.busy": "2020-10-15T22:57:48.434467Z",
     "iopub.status.idle": "2020-10-15T22:57:51.348333Z",
     "shell.execute_reply": "2020-10-15T22:57:51.348970Z"
    },
    "papermill": {
     "duration": 2.923027,
     "end_time": "2020-10-15T22:57:51.349212",
     "exception": false,
     "start_time": "2020-10-15T22:57:48.426185",
     "status": "completed"
    },
    "tags": [
     "bash"
    ]
   },
   "outputs": [
    {
     "name": "stdout",
     "output_type": "stream",
     "text": [
      "usage: ploomber [-h] [--log LOG] [--entry-point ENTRY_POINT] [--force]\n",
      "                [--partially PARTIALLY] [--env--sample ENV__SAMPLE]\n",
      "\n",
      "Build pipeline\n",
      "\n",
      "optional arguments:\n",
      "  -h, --help            show this help message and exit\n",
      "  --log LOG, -l LOG     Enables logging to stdout at the specified level\n",
      "  --entry-point ENTRY_POINT, -e ENTRY_POINT\n",
      "                        Entry point(DAG), defaults to pipeline.yaml. Replaced\n",
      "                        if there is an ENTRY_POINT env variable defined\n",
      "  --force, -f           Force execution by ignoring status\n",
      "  --partially PARTIALLY, -p PARTIALLY\n",
      "                        Build a pipeline partially until certain task\n",
      "  --env--sample ENV__SAMPLE\n",
      "                        Default: False\n"
     ]
    }
   ],
   "source": [
    "%%sh\n",
    "ploomber build --help"
   ]
  },
  {
   "cell_type": "markdown",
   "metadata": {
    "papermill": {
     "duration": 0.004625,
     "end_time": "2020-10-15T22:57:51.358754",
     "exception": false,
     "start_time": "2020-10-15T22:57:51.354129",
     "status": "completed"
    },
    "tags": []
   },
   "source": [
    "Run with a sample:"
   ]
  },
  {
   "cell_type": "code",
   "execution_count": 3,
   "metadata": {
    "execution": {
     "iopub.execute_input": "2020-10-15T22:57:51.372377Z",
     "iopub.status.busy": "2020-10-15T22:57:51.371553Z",
     "iopub.status.idle": "2020-10-15T22:57:55.256910Z",
     "shell.execute_reply": "2020-10-15T22:57:55.256371Z"
    },
    "papermill": {
     "duration": 3.893991,
     "end_time": "2020-10-15T22:57:55.257116",
     "exception": false,
     "start_time": "2020-10-15T22:57:51.363125",
     "status": "completed"
    },
    "tags": [
     "bash"
    ]
   },
   "outputs": [
    {
     "name": "stdout",
     "output_type": "stream",
     "text": [
      "name      Ran?      Elapsed (s)    Percentage\n",
      "--------  ------  -------------  ------------\n",
      "get       False               0             0\n",
      "features  False               0             0\n",
      "join      False               0             0\n",
      "fit.py    False               0             0\n"
     ]
    },
    {
     "name": "stderr",
     "output_type": "stream",
     "text": [
      "\r",
      "  0%|          | 0/4 [00:00<?, ?it/s]\r",
      "Rendering DAG:   0%|          | 0/4 [00:00<?, ?it/s]\r",
      "Rendering DAG:  25%|██▌       | 1/4 [00:00<00:00,  8.28it/s]\r",
      "Rendering DAG:  25%|██▌       | 1/4 [00:00<00:00,  8.28it/s]\r",
      "Rendering DAG:  25%|██▌       | 1/4 [00:00<00:00,  8.28it/s]\r",
      "Rendering DAG:  25%|██▌       | 1/4 [00:00<00:00,  8.28it/s]\r",
      "Rendering DAG: 100%|██████████| 4/4 [00:00<00:00,  9.18it/s]\r",
      "Rendering DAG: 100%|██████████| 4/4 [00:00<00:00, 10.97it/s]\n",
      "\r",
      "0it [00:00, ?it/s]\r",
      "4it [00:00, 18682.87it/s]\n"
     ]
    }
   ],
   "source": [
    "%%sh\n",
    "ploomber build --env--sample true "
   ]
  }
 ],
 "metadata": {
  "jupytext": {
   "cell_metadata_filter": "tags,-all",
   "main_language": "bash",
   "notebook_metadata_filter": "-all",
   "text_representation": {
    "extension": ".md",
    "format_name": "markdown"
   }
  },
  "language_info": {
   "codemirror_mode": {
    "name": "ipython",
    "version": 3
   },
   "file_extension": ".py",
   "mimetype": "text/x-python",
   "name": "python",
   "nbconvert_exporter": "python",
   "pygments_lexer": "ipython3",
   "version": "3.6.10"
  },
  "papermill": {
   "duration": 12.401909,
   "end_time": "2020-10-15T22:57:55.474273",
   "environment_variables": {},
   "exception": null,
   "input_path": "ml-intermediate/README.ipynb",
   "output_path": "ml-intermediate/README.ipynb",
   "parameters": {},
   "start_time": "2020-10-15T22:57:43.072364",
   "version": "2.1.2"
  }
 },
 "nbformat": 4,
 "nbformat_minor": 4
}