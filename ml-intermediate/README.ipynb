{
 "cells": [
  {
   "cell_type": "markdown",
   "metadata": {
    "papermill": {
     "duration": 0.007178,
     "end_time": "2020-10-15T20:24:15.608592",
     "exception": false,
     "start_time": "2020-10-15T20:24:15.601414",
     "status": "completed"
    },
    "tags": []
   },
   "source": [
    "# Intermediate ML project\n",
    "\n",
    "This example shows how to build an ML pipeline with integration testing (using\n",
    "the `on_finish` key). When the pipeline takes a lot of time to run end-to-end\n",
    "it is a good idea to test with a sample, take a look at the `pipeline.yaml`,\n",
    "`env.yaml` to see how this parametrization happens and how this affects the\n",
    "`get` function defined in `tasks.py`.\n",
    "\n",
    "## Setup\n",
    "\n",
    "```bash .noeval\n",
    "# same instructions as the other version\n",
    "git clone https://github.com/ploomber/projects\n",
    "cd ml-basic\n",
    "\n",
    "conda env create --file environment.yml\n",
    "conda activate ml-basic\n",
    "```\n",
    "\n",
    "## Execute the pipeline"
   ]
  },
  {
   "cell_type": "code",
   "execution_count": 1,
   "metadata": {
    "execution": {
     "iopub.execute_input": "2020-10-15T20:24:15.622098Z",
     "iopub.status.busy": "2020-10-15T20:24:15.621003Z",
     "iopub.status.idle": "2020-10-15T20:24:20.562720Z",
     "shell.execute_reply": "2020-10-15T20:24:20.563209Z"
    },
    "papermill": {
     "duration": 4.950011,
     "end_time": "2020-10-15T20:24:20.563452",
     "exception": false,
     "start_time": "2020-10-15T20:24:15.613441",
     "status": "completed"
    },
    "tags": [
     "bash"
    ]
   },
   "outputs": [
    {
     "name": "stdout",
     "output_type": "stream",
     "text": [
      "name      Ran?      Elapsed (s)    Percentage\n",
      "--------  ------  -------------  ------------\n",
      "get       False               0             0\n",
      "features  False               0             0\n",
      "join      False               0             0\n",
      "fit.py    False               0             0\n"
     ]
    },
    {
     "name": "stderr",
     "output_type": "stream",
     "text": [
      "\r",
      "  0%|          | 0/4 [00:00<?, ?it/s]\r",
      "Rendering DAG:   0%|          | 0/4 [00:00<?, ?it/s]\r",
      "Rendering DAG:  25%|██▌       | 1/4 [00:00<00:00,  9.32it/s]\r",
      "Rendering DAG:  25%|██▌       | 1/4 [00:00<00:00,  9.32it/s]\r",
      "Rendering DAG:  25%|██▌       | 1/4 [00:00<00:00,  9.32it/s]\r",
      "Rendering DAG:  25%|██▌       | 1/4 [00:00<00:00,  9.32it/s]\r",
      "Rendering DAG: 100%|██████████| 4/4 [00:00<00:00,  9.76it/s]\r",
      "Rendering DAG: 100%|██████████| 4/4 [00:00<00:00, 10.50it/s]\n",
      "\r",
      "0it [00:00, ?it/s]\r",
      "4it [00:00, 25811.10it/s]\n"
     ]
    }
   ],
   "source": [
    "%%sh\n",
    "ploomber build"
   ]
  },
  {
   "cell_type": "markdown",
   "metadata": {
    "papermill": {
     "duration": 0.004978,
     "end_time": "2020-10-15T20:24:20.573225",
     "exception": false,
     "start_time": "2020-10-15T20:24:20.568247",
     "status": "completed"
    },
    "tags": []
   },
   "source": [
    "## Integration testing with a sample\n",
    "\n",
    "To see available parameters:"
   ]
  },
  {
   "cell_type": "code",
   "execution_count": 2,
   "metadata": {
    "execution": {
     "iopub.execute_input": "2020-10-15T20:24:20.589678Z",
     "iopub.status.busy": "2020-10-15T20:24:20.588912Z",
     "iopub.status.idle": "2020-10-15T20:24:23.692199Z",
     "shell.execute_reply": "2020-10-15T20:24:23.692913Z"
    },
    "papermill": {
     "duration": 3.11489,
     "end_time": "2020-10-15T20:24:23.693246",
     "exception": false,
     "start_time": "2020-10-15T20:24:20.578356",
     "status": "completed"
    },
    "tags": [
     "bash"
    ]
   },
   "outputs": [
    {
     "name": "stdout",
     "output_type": "stream",
     "text": [
      "usage: ploomber [-h] [--log LOG] [--entry-point ENTRY_POINT] [--force]\n",
      "                [--partially PARTIALLY] [--env__sample ENV__SAMPLE]\n",
      "\n",
      "Build pipeline\n",
      "\n",
      "optional arguments:\n",
      "  -h, --help            show this help message and exit\n",
      "  --log LOG, -l LOG     Enables logging to stdout at the specified level\n",
      "  --entry-point ENTRY_POINT, -e ENTRY_POINT\n",
      "                        Entry point(DAG), defaults to pipeline.yaml. Replaced\n",
      "                        if there is an ENTRY_POINT env variable defined\n",
      "  --force, -f           Force execution by ignoring status\n",
      "  --partially PARTIALLY, -p PARTIALLY\n",
      "                        Build a pipeline partially until certain task\n",
      "  --env__sample ENV__SAMPLE\n",
      "                        Default: False\n"
     ]
    }
   ],
   "source": [
    "%%sh\n",
    "ploomber build --help"
   ]
  },
  {
   "cell_type": "markdown",
   "metadata": {
    "papermill": {
     "duration": 0.005981,
     "end_time": "2020-10-15T20:24:23.704303",
     "exception": false,
     "start_time": "2020-10-15T20:24:23.698322",
     "status": "completed"
    },
    "tags": []
   },
   "source": [
    "Run with a sample:"
   ]
  },
  {
   "cell_type": "code",
   "execution_count": 3,
   "metadata": {
    "execution": {
     "iopub.execute_input": "2020-10-15T20:24:23.720650Z",
     "iopub.status.busy": "2020-10-15T20:24:23.719634Z",
     "iopub.status.idle": "2020-10-15T20:24:27.808640Z",
     "shell.execute_reply": "2020-10-15T20:24:27.809112Z"
    },
    "papermill": {
     "duration": 4.099337,
     "end_time": "2020-10-15T20:24:27.809305",
     "exception": false,
     "start_time": "2020-10-15T20:24:23.709968",
     "status": "completed"
    },
    "tags": [
     "bash"
    ]
   },
   "outputs": [
    {
     "name": "stdout",
     "output_type": "stream",
     "text": [
      "name      Ran?      Elapsed (s)    Percentage\n",
      "--------  ------  -------------  ------------\n",
      "get       False               0             0\n",
      "features  False               0             0\n",
      "join      False               0             0\n",
      "fit.py    False               0             0\n"
     ]
    },
    {
     "name": "stderr",
     "output_type": "stream",
     "text": [
      "\r",
      "  0%|          | 0/4 [00:00<?, ?it/s]\r",
      "Rendering DAG:   0%|          | 0/4 [00:00<?, ?it/s]\r",
      "Rendering DAG:  25%|██▌       | 1/4 [00:00<00:00,  8.66it/s]\r",
      "Rendering DAG:  25%|██▌       | 1/4 [00:00<00:00,  8.66it/s]\r",
      "Rendering DAG:  25%|██▌       | 1/4 [00:00<00:00,  8.66it/s]\r",
      "Rendering DAG:  25%|██▌       | 1/4 [00:00<00:00,  8.66it/s]\r",
      "Rendering DAG: 100%|██████████| 4/4 [00:00<00:00,  9.37it/s]\r",
      "Rendering DAG: 100%|██████████| 4/4 [00:00<00:00, 10.65it/s]\n",
      "\r",
      "0it [00:00, ?it/s]\r",
      "4it [00:00, 18787.48it/s]\n"
     ]
    }
   ],
   "source": [
    "%%sh\n",
    "ploomber build --env__sample true "
   ]
  }
 ],
 "metadata": {
  "jupytext": {
   "cell_metadata_filter": "tags,-all",
   "main_language": "bash",
   "notebook_metadata_filter": "-all",
   "text_representation": {
    "extension": ".md",
    "format_name": "markdown"
   }
  },
  "language_info": {
   "codemirror_mode": {
    "name": "ipython",
    "version": 3
   },
   "file_extension": ".py",
   "mimetype": "text/x-python",
   "name": "python",
   "nbconvert_exporter": "python",
   "pygments_lexer": "ipython3",
   "version": "3.6.10"
  },
  "papermill": {
   "duration": 13.51192,
   "end_time": "2020-10-15T20:24:28.126699",
   "environment_variables": {},
   "exception": null,
   "input_path": "ml-intermediate/README.ipynb",
   "output_path": "ml-intermediate/README.ipynb",
   "parameters": {},
   "start_time": "2020-10-15T20:24:14.614779",
   "version": "2.1.2"
  }
 },
 "nbformat": 4,
 "nbformat_minor": 4
}