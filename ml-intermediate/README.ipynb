{
 "cells": [
  {
   "cell_type": "markdown",
   "metadata": {
    "papermill": {
     "duration": 0.007152,
     "end_time": "2020-10-15T22:42:06.782657",
     "exception": false,
     "start_time": "2020-10-15T22:42:06.775505",
     "status": "completed"
    },
    "tags": []
   },
   "source": [
    "# Intermediate ML project\n",
    "\n",
    "This example shows how to build an ML pipeline with integration testing (using\n",
    "the `on_finish` key). When the pipeline takes a lot of time to run end-to-end\n",
    "it is a good idea to test with a sample, take a look at the `pipeline.yaml`,\n",
    "`env.yaml` to see how this parametrization happens and how this affects the\n",
    "`get` function defined in `tasks.py`.\n",
    "\n",
    "## Setup"
   ]
  },
  {
   "cell_type": "raw",
   "metadata": {
    "active": "md",
    "papermill": {
     "duration": 0.00423,
     "end_time": "2020-10-15T22:42:06.792011",
     "exception": false,
     "start_time": "2020-10-15T22:42:06.787781",
     "status": "completed"
    },
    "tags": []
   },
   "source": [
    "# same instructions as the other version\n",
    "git clone https://github.com/ploomber/projects\n",
    "cd ml-basic\n",
    "\n",
    "conda env create --file environment.yml\n",
    "conda activate ml-basic"
   ]
  },
  {
   "cell_type": "markdown",
   "metadata": {
    "papermill": {
     "duration": 0.004057,
     "end_time": "2020-10-15T22:42:06.802123",
     "exception": false,
     "start_time": "2020-10-15T22:42:06.798066",
     "status": "completed"
    },
    "tags": []
   },
   "source": [
    "## Execute the pipeline"
   ]
  },
  {
   "cell_type": "code",
   "execution_count": 1,
   "metadata": {
    "execution": {
     "iopub.execute_input": "2020-10-15T22:42:06.816972Z",
     "iopub.status.busy": "2020-10-15T22:42:06.814961Z",
     "iopub.status.idle": "2020-10-15T22:42:38.321464Z",
     "shell.execute_reply": "2020-10-15T22:42:38.320932Z"
    },
    "papermill": {
     "duration": 31.515044,
     "end_time": "2020-10-15T22:42:38.321702",
     "exception": false,
     "start_time": "2020-10-15T22:42:06.806658",
     "status": "completed"
    },
    "tags": [
     "bash"
    ]
   },
   "outputs": [
    {
     "name": "stdout",
     "output_type": "stream",
     "text": [
      "Using the full dataset\n",
      "name      Ran?      Elapsed (s)    Percentage\n",
      "--------  ------  -------------  ------------\n",
      "get       True         0.639868      2.51247\n",
      "features  True         0.216619      0.850563\n",
      "join      True         0.338534      1.32927\n",
      "fit.py    True        24.2727       95.3077\n"
     ]
    },
    {
     "name": "stderr",
     "output_type": "stream",
     "text": [
      "\r",
      "  0%|          | 0/4 [00:00<?, ?it/s]\r",
      "Rendering DAG:   0%|          | 0/4 [00:00<?, ?it/s]\r",
      "Rendering DAG:   0%|          | 0/4 [00:00<?, ?it/s]\r",
      "Rendering DAG:   0%|          | 0/4 [00:00<?, ?it/s]\r",
      "Rendering DAG:   0%|          | 0/4 [00:00<?, ?it/s]\r",
      "Rendering DAG: 100%|██████████| 4/4 [00:00<00:00, 30.90it/s]\r",
      "Rendering DAG: 100%|██████████| 4/4 [00:00<00:00, 30.83it/s]\n",
      "\r",
      "  0%|          | 0/4 [00:00<?, ?it/s]\r",
      "Building task \"get\":   0%|          | 0/4 [00:00<?, ?it/s]\r",
      "Building task \"get\":  25%|██▌       | 1/4 [00:00<00:02,  1.34it/s]\r",
      "Building task \"features\":  25%|██▌       | 1/4 [00:00<00:02,  1.34it/s]\r",
      "Building task \"features\":  50%|█████     | 2/4 [00:01<00:01,  1.61it/s]\r",
      "Building task \"join\":  50%|█████     | 2/4 [00:01<00:01,  1.61it/s]    \r",
      "Building task \"join\":  75%|███████▌  | 3/4 [00:01<00:00,  1.77it/s]\r",
      "Building task \"fit.py\":  75%|███████▌  | 3/4 [00:01<00:00,  1.77it/s]\n",
      "\r",
      "Executing:   0%|          | 0/11 [00:00<?, ?cell/s]\u001b[A\n",
      "\r",
      "Executing:   9%|▉         | 1/11 [00:01<00:11,  1.10s/cell]\u001b[A\n",
      "\r",
      "Executing:  18%|█▊        | 2/11 [00:02<00:11,  1.26s/cell]\u001b[A\n",
      "\r",
      "Executing:  45%|████▌     | 5/11 [00:02<00:05,  1.11cell/s]\u001b[A\n",
      "\r",
      "Executing:  55%|█████▍    | 6/11 [00:03<00:03,  1.49cell/s]\u001b[A\n",
      "\r",
      "Executing:  64%|██████▎   | 7/11 [00:20<00:23,  5.79s/cell]\u001b[A\n",
      "\r",
      "Executing:  73%|███████▎  | 8/11 [00:22<00:13,  4.46s/cell]\u001b[A\n",
      "\r",
      "Executing:  82%|████████▏ | 9/11 [00:22<00:06,  3.22s/cell]\u001b[A\n",
      "\r",
      "Executing:  91%|█████████ | 10/11 [00:23<00:02,  2.41s/cell]\u001b[A\r",
      "Executing: 100%|██████████| 11/11 [00:24<00:00,  2.20s/cell]\n",
      "\r",
      "Building task \"fit.py\": 100%|██████████| 4/4 [00:25<00:00,  7.68s/it]\r",
      "Building task \"fit.py\": 100%|██████████| 4/4 [00:25<00:00,  6.45s/it]\n"
     ]
    }
   ],
   "source": [
    "%%sh\n",
    "ploomber build"
   ]
  },
  {
   "cell_type": "markdown",
   "metadata": {
    "papermill": {
     "duration": 0.0076,
     "end_time": "2020-10-15T22:42:38.334613",
     "exception": false,
     "start_time": "2020-10-15T22:42:38.327013",
     "status": "completed"
    },
    "tags": []
   },
   "source": [
    "## Integration testing with a sample\n",
    "\n",
    "To see available parameters:"
   ]
  },
  {
   "cell_type": "code",
   "execution_count": 2,
   "metadata": {
    "execution": {
     "iopub.execute_input": "2020-10-15T22:42:38.353779Z",
     "iopub.status.busy": "2020-10-15T22:42:38.352704Z",
     "iopub.status.idle": "2020-10-15T22:42:41.704584Z",
     "shell.execute_reply": "2020-10-15T22:42:41.705230Z"
    },
    "papermill": {
     "duration": 3.362325,
     "end_time": "2020-10-15T22:42:41.705441",
     "exception": false,
     "start_time": "2020-10-15T22:42:38.343116",
     "status": "completed"
    },
    "tags": [
     "bash"
    ]
   },
   "outputs": [
    {
     "name": "stdout",
     "output_type": "stream",
     "text": [
      "usage: ploomber [-h] [--log LOG] [--entry-point ENTRY_POINT] [--force]\n",
      "                [--partially PARTIALLY] [--env--sample ENV__SAMPLE]\n",
      "\n",
      "Build pipeline\n",
      "\n",
      "optional arguments:\n",
      "  -h, --help            show this help message and exit\n",
      "  --log LOG, -l LOG     Enables logging to stdout at the specified level\n",
      "  --entry-point ENTRY_POINT, -e ENTRY_POINT\n",
      "                        Entry point(DAG), defaults to pipeline.yaml. Replaced\n",
      "                        if there is an ENTRY_POINT env variable defined\n",
      "  --force, -f           Force execution by ignoring status\n",
      "  --partially PARTIALLY, -p PARTIALLY\n",
      "                        Build a pipeline partially until certain task\n",
      "  --env--sample ENV__SAMPLE\n",
      "                        Default: False\n"
     ]
    }
   ],
   "source": [
    "%%sh\n",
    "ploomber build --help"
   ]
  },
  {
   "cell_type": "markdown",
   "metadata": {
    "papermill": {
     "duration": 0.006286,
     "end_time": "2020-10-15T22:42:41.717927",
     "exception": false,
     "start_time": "2020-10-15T22:42:41.711641",
     "status": "completed"
    },
    "tags": []
   },
   "source": [
    "Run with a sample:"
   ]
  },
  {
   "cell_type": "code",
   "execution_count": 3,
   "metadata": {
    "execution": {
     "iopub.execute_input": "2020-10-15T22:42:41.737139Z",
     "iopub.status.busy": "2020-10-15T22:42:41.736207Z",
     "iopub.status.idle": "2020-10-15T22:42:53.428521Z",
     "shell.execute_reply": "2020-10-15T22:42:53.429327Z"
    },
    "papermill": {
     "duration": 11.706238,
     "end_time": "2020-10-15T22:42:53.429671",
     "exception": false,
     "start_time": "2020-10-15T22:42:41.723433",
     "status": "completed"
    },
    "tags": [
     "bash"
    ]
   },
   "outputs": [
    {
     "name": "stdout",
     "output_type": "stream",
     "text": [
      "Sampling 10%\n",
      "name      Ran?      Elapsed (s)    Percentage\n",
      "--------  ------  -------------  ------------\n",
      "get       True         0.755183      11.9634\n",
      "features  True         0.195999       3.10496\n",
      "join      True         0.23536        3.7285\n",
      "fit.py    True         5.12591       81.2032\n"
     ]
    },
    {
     "name": "stderr",
     "output_type": "stream",
     "text": [
      "\r",
      "  0%|          | 0/4 [00:00<?, ?it/s]\r",
      "Rendering DAG:   0%|          | 0/4 [00:00<?, ?it/s]\r",
      "Rendering DAG:   0%|          | 0/4 [00:00<?, ?it/s]\r",
      "Rendering DAG:   0%|          | 0/4 [00:00<?, ?it/s]\r",
      "Rendering DAG:   0%|          | 0/4 [00:00<?, ?it/s]\r",
      "Rendering DAG: 100%|██████████| 4/4 [00:00<00:00, 20.30it/s]\r",
      "Rendering DAG: 100%|██████████| 4/4 [00:00<00:00, 20.23it/s]\n",
      "\r",
      "  0%|          | 0/4 [00:00<?, ?it/s]\r",
      "Building task \"get\":   0%|          | 0/4 [00:00<?, ?it/s]\r",
      "Building task \"get\":  25%|██▌       | 1/4 [00:00<00:02,  1.20it/s]\r",
      "Building task \"features\":  25%|██▌       | 1/4 [00:00<00:02,  1.20it/s]\r",
      "Building task \"features\":  50%|█████     | 2/4 [00:01<00:01,  1.46it/s]\r",
      "Building task \"join\":  50%|█████     | 2/4 [00:01<00:01,  1.46it/s]    \r",
      "Building task \"join\":  75%|███████▌  | 3/4 [00:01<00:00,  1.73it/s]\r",
      "Building task \"fit.py\":  75%|███████▌  | 3/4 [00:01<00:00,  1.73it/s]\n",
      "\r",
      "Executing:   0%|          | 0/11 [00:00<?, ?cell/s]\u001b[A\n",
      "\r",
      "Executing:   9%|▉         | 1/11 [00:01<00:12,  1.21s/cell]\u001b[A\n",
      "\r",
      "Executing:  18%|█▊        | 2/11 [00:02<00:11,  1.31s/cell]\u001b[A\n",
      "\r",
      "Executing:  45%|████▌     | 5/11 [00:02<00:05,  1.07cell/s]\u001b[A\n",
      "\r",
      "Executing:  64%|██████▎   | 7/11 [00:04<00:03,  1.20cell/s]\u001b[A\n",
      "\r",
      "Executing:  73%|███████▎  | 8/11 [00:04<00:01,  1.57cell/s]\u001b[A\n",
      "\r",
      "Executing:  91%|█████████ | 10/11 [00:04<00:00,  2.01cell/s]\u001b[A\r",
      "Executing: 100%|██████████| 11/11 [00:05<00:00,  2.16cell/s]\n",
      "\r",
      "Building task \"fit.py\": 100%|██████████| 4/4 [00:06<00:00,  1.94s/it]\r",
      "Building task \"fit.py\": 100%|██████████| 4/4 [00:06<00:00,  1.66s/it]\n"
     ]
    }
   ],
   "source": [
    "%%sh\n",
    "ploomber build --env--sample true "
   ]
  }
 ],
 "metadata": {
  "jupytext": {
   "cell_metadata_filter": "active,tags,-all",
   "main_language": "bash",
   "notebook_metadata_filter": "-all",
   "text_representation": {
    "extension": ".md",
    "format_name": "markdown"
   }
  },
  "language_info": {
   "codemirror_mode": {
    "name": "ipython",
    "version": 3
   },
   "file_extension": ".py",
   "mimetype": "text/x-python",
   "name": "python",
   "nbconvert_exporter": "python",
   "pygments_lexer": "ipython3",
   "version": "3.6.10"
  },
  "papermill": {
   "duration": 47.879252,
   "end_time": "2020-10-15T22:42:53.646484",
   "environment_variables": {},
   "exception": null,
   "input_path": "ml-intermediate/README.ipynb",
   "output_path": "ml-intermediate/README.ipynb",
   "parameters": {},
   "start_time": "2020-10-15T22:42:05.767232",
   "version": "2.1.2"
  }
 },
 "nbformat": 4,
 "nbformat_minor": 4
}