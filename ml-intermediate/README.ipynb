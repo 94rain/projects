{
 "cells": [
  {
   "cell_type": "markdown",
   "metadata": {
    "papermill": {
     "duration": 0.008622,
     "end_time": "2020-10-15T22:47:12.466077",
     "exception": false,
     "start_time": "2020-10-15T22:47:12.457455",
     "status": "completed"
    },
    "tags": []
   },
   "source": [
    "# Intermediate ML project\n",
    "\n",
    "This example shows how to build an ML pipeline with integration testing (using\n",
    "the `on_finish` key). When the pipeline takes a lot of time to run end-to-end\n",
    "it is a good idea to test with a sample, take a look at the `pipeline.yaml`,\n",
    "`env.yaml` to see how this parametrization happens and how this affects the\n",
    "`get` function defined in `tasks.py`.\n",
    "\n",
    "## Setup\n"
   ]
  },
  {
   "cell_type": "markdown",
   "metadata": {
    "papermill": {
     "duration": 0.004229,
     "end_time": "2020-10-15T22:47:12.475866",
     "exception": false,
     "start_time": "2020-10-15T22:47:12.471637",
     "status": "completed"
    },
    "tags": []
   },
   "source": [
    "```sh\n",
    "# same instructions as the other version\n",
    "git clone https://github.com/ploomber/projects\n",
    "cd ml-basic\n",
    "\n",
    "conda env create --file environment.yml\n",
    "conda activate ml-basic\n",
    "```"
   ]
  },
  {
   "cell_type": "markdown",
   "metadata": {
    "papermill": {
     "duration": 0.003952,
     "end_time": "2020-10-15T22:47:12.486362",
     "exception": false,
     "start_time": "2020-10-15T22:47:12.482410",
     "status": "completed"
    },
    "tags": []
   },
   "source": [
    "## Execute the pipeline"
   ]
  },
  {
   "cell_type": "code",
   "execution_count": 1,
   "metadata": {
    "execution": {
     "iopub.execute_input": "2020-10-15T22:47:12.502487Z",
     "iopub.status.busy": "2020-10-15T22:47:12.501615Z",
     "iopub.status.idle": "2020-10-15T22:47:16.657286Z",
     "shell.execute_reply": "2020-10-15T22:47:16.656695Z"
    },
    "papermill": {
     "duration": 4.166871,
     "end_time": "2020-10-15T22:47:16.657567",
     "exception": false,
     "start_time": "2020-10-15T22:47:12.490696",
     "status": "completed"
    },
    "tags": [
     "bash"
    ]
   },
   "outputs": [
    {
     "name": "stdout",
     "output_type": "stream",
     "text": [
      "name      Ran?      Elapsed (s)    Percentage\n",
      "--------  ------  -------------  ------------\n",
      "get       False               0             0\n",
      "features  False               0             0\n",
      "join      False               0             0\n",
      "fit.py    False               0             0\n"
     ]
    },
    {
     "name": "stderr",
     "output_type": "stream",
     "text": [
      "\r",
      "  0%|          | 0/4 [00:00<?, ?it/s]\r",
      "Rendering DAG:   0%|          | 0/4 [00:00<?, ?it/s]\r",
      "Rendering DAG:  25%|██▌       | 1/4 [00:00<00:00,  8.59it/s]\r",
      "Rendering DAG:  25%|██▌       | 1/4 [00:00<00:00,  8.59it/s]\r",
      "Rendering DAG:  25%|██▌       | 1/4 [00:00<00:00,  8.59it/s]\r",
      "Rendering DAG:  25%|██▌       | 1/4 [00:00<00:00,  8.59it/s]\r",
      "Rendering DAG: 100%|██████████| 4/4 [00:00<00:00,  9.35it/s]\r",
      "Rendering DAG: 100%|██████████| 4/4 [00:00<00:00, 10.78it/s]\n",
      "\r",
      "0it [00:00, ?it/s]\r",
      "4it [00:00, 19508.39it/s]\n"
     ]
    }
   ],
   "source": [
    "%%sh\n",
    "ploomber build"
   ]
  },
  {
   "cell_type": "markdown",
   "metadata": {
    "papermill": {
     "duration": 0.005183,
     "end_time": "2020-10-15T22:47:16.669510",
     "exception": false,
     "start_time": "2020-10-15T22:47:16.664327",
     "status": "completed"
    },
    "tags": []
   },
   "source": [
    "## Integration testing with a sample\n",
    "\n",
    "To see available parameters:"
   ]
  },
  {
   "cell_type": "code",
   "execution_count": 2,
   "metadata": {
    "execution": {
     "iopub.execute_input": "2020-10-15T22:47:16.684811Z",
     "iopub.status.busy": "2020-10-15T22:47:16.683987Z",
     "iopub.status.idle": "2020-10-15T22:47:19.592713Z",
     "shell.execute_reply": "2020-10-15T22:47:19.593311Z"
    },
    "papermill": {
     "duration": 2.919428,
     "end_time": "2020-10-15T22:47:19.593667",
     "exception": false,
     "start_time": "2020-10-15T22:47:16.674239",
     "status": "completed"
    },
    "tags": [
     "bash"
    ]
   },
   "outputs": [
    {
     "name": "stdout",
     "output_type": "stream",
     "text": [
      "usage: ploomber [-h] [--log LOG] [--entry-point ENTRY_POINT] [--force]\n",
      "                [--partially PARTIALLY] [--env--sample ENV__SAMPLE]\n",
      "\n",
      "Build pipeline\n",
      "\n",
      "optional arguments:\n",
      "  -h, --help            show this help message and exit\n",
      "  --log LOG, -l LOG     Enables logging to stdout at the specified level\n",
      "  --entry-point ENTRY_POINT, -e ENTRY_POINT\n",
      "                        Entry point(DAG), defaults to pipeline.yaml. Replaced\n",
      "                        if there is an ENTRY_POINT env variable defined\n",
      "  --force, -f           Force execution by ignoring status\n",
      "  --partially PARTIALLY, -p PARTIALLY\n",
      "                        Build a pipeline partially until certain task\n",
      "  --env--sample ENV__SAMPLE\n",
      "                        Default: False\n"
     ]
    }
   ],
   "source": [
    "%%sh\n",
    "ploomber build --help"
   ]
  },
  {
   "cell_type": "markdown",
   "metadata": {
    "papermill": {
     "duration": 0.005788,
     "end_time": "2020-10-15T22:47:19.604813",
     "exception": false,
     "start_time": "2020-10-15T22:47:19.599025",
     "status": "completed"
    },
    "tags": []
   },
   "source": [
    "Run with a sample:"
   ]
  },
  {
   "cell_type": "code",
   "execution_count": 3,
   "metadata": {
    "execution": {
     "iopub.execute_input": "2020-10-15T22:47:19.621772Z",
     "iopub.status.busy": "2020-10-15T22:47:19.619794Z",
     "iopub.status.idle": "2020-10-15T22:47:23.455481Z",
     "shell.execute_reply": "2020-10-15T22:47:23.456082Z"
    },
    "papermill": {
     "duration": 3.845988,
     "end_time": "2020-10-15T22:47:23.456271",
     "exception": false,
     "start_time": "2020-10-15T22:47:19.610283",
     "status": "completed"
    },
    "tags": [
     "bash"
    ]
   },
   "outputs": [
    {
     "name": "stdout",
     "output_type": "stream",
     "text": [
      "name      Ran?      Elapsed (s)    Percentage\n",
      "--------  ------  -------------  ------------\n",
      "get       False               0             0\n",
      "features  False               0             0\n",
      "join      False               0             0\n",
      "fit.py    False               0             0\n"
     ]
    },
    {
     "name": "stderr",
     "output_type": "stream",
     "text": [
      "\r",
      "  0%|          | 0/4 [00:00<?, ?it/s]\r",
      "Rendering DAG:   0%|          | 0/4 [00:00<?, ?it/s]\r",
      "Rendering DAG:  25%|██▌       | 1/4 [00:00<00:00,  8.76it/s]\r",
      "Rendering DAG:  25%|██▌       | 1/4 [00:00<00:00,  8.76it/s]\r",
      "Rendering DAG:  25%|██▌       | 1/4 [00:00<00:00,  8.76it/s]\r",
      "Rendering DAG:  25%|██▌       | 1/4 [00:00<00:00,  8.76it/s]\r",
      "Rendering DAG: 100%|██████████| 4/4 [00:00<00:00,  9.53it/s]\r",
      "Rendering DAG: 100%|██████████| 4/4 [00:00<00:00, 10.96it/s]\n",
      "\r",
      "0it [00:00, ?it/s]\r",
      "4it [00:00, 25614.07it/s]\n"
     ]
    }
   ],
   "source": [
    "%%sh\n",
    "ploomber build --env--sample true "
   ]
  }
 ],
 "metadata": {
  "jupytext": {
   "cell_metadata_filter": "tags,-all",
   "main_language": "bash",
   "notebook_metadata_filter": "-all",
   "text_representation": {
    "extension": ".md",
    "format_name": "markdown"
   }
  },
  "language_info": {
   "codemirror_mode": {
    "name": "ipython",
    "version": 3
   },
   "file_extension": ".py",
   "mimetype": "text/x-python",
   "name": "python",
   "nbconvert_exporter": "python",
   "pygments_lexer": "ipython3",
   "version": "3.6.10"
  },
  "papermill": {
   "duration": 13.13583,
   "end_time": "2020-10-15T22:47:24.656505",
   "environment_variables": {},
   "exception": null,
   "input_path": "ml-intermediate/README.ipynb",
   "output_path": "ml-intermediate/README.ipynb",
   "parameters": {},
   "start_time": "2020-10-15T22:47:11.520675",
   "version": "2.1.2"
  }
 },
 "nbformat": 4,
 "nbformat_minor": 4
}
