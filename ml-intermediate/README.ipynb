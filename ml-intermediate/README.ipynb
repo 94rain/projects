{
 "cells": [
  {
   "cell_type": "markdown",
   "metadata": {},
   "source": [
    "# Intermediate ML project\n",
    "\n",
    "This example shows how to build an ML pipeline with integration testing (using\n",
    "the `on_finish` key). When the pipeline takes a lot of time to run end-to-end\n",
    "it is a good idea to test with a sample, take a look at the `pipeline.yaml`,\n",
    "`env.yaml` to see how this parametrization happens and how this affects the\n",
    "`get` function defined in `tasks.py`.\n",
    "\n",
    "## Setup\n",
    "\n",
    "~~~bash\n",
    "# same instructions as the other version\n",
    "git clone https://github.com/ploomber/projects\n",
    "cd ml-intermediate\n",
    "\n",
    "conda env create --file environment.yml\n",
    "conda activate ml-intermediate\n",
    "~~~\n",
    "\n",
    "## Execute the pipeline"
   ]
  },
  {
   "cell_type": "code",
   "execution_count": null,
   "metadata": {
    "tags": [
     "bash"
    ]
   },
   "outputs": [],
   "source": [
    "%%sh\n",
    "ploomber build"
   ]
  },
  {
   "cell_type": "markdown",
   "metadata": {},
   "source": [
    "## Integration testing with a sample\n",
    "\n",
    "To see available parameters (params parsed from `env.yaml` start with `--env`):"
   ]
  },
  {
   "cell_type": "code",
   "execution_count": null,
   "metadata": {
    "tags": [
     "bash"
    ]
   },
   "outputs": [],
   "source": [
    "%%sh\n",
    "ploomber build --help"
   ]
  },
  {
   "cell_type": "markdown",
   "metadata": {},
   "source": [
    "Run with a sample:"
   ]
  },
  {
   "cell_type": "code",
   "execution_count": null,
   "metadata": {
    "tags": [
     "bash"
    ]
   },
   "outputs": [],
   "source": [
    "%%sh\n",
    "ploomber build --env--sample true "
   ]
  },
  {
   "cell_type": "markdown",
   "metadata": {},
   "source": [
    "## Where to go from here\n",
    "\n",
    "Using a `pipeline.yaml` is a convenient way to describe your workflows but it\n",
    "has some limitations. [`ml-advanced/`](../ml-advanced/README.ipynb) shows a\n",
    "pipeline written using the Python API, this gives you full flexibility and\n",
    "allows you to do things such as creating tasks dynamically.\n",
    "\n",
    "It also shows how to create a Python package to easily share your pipeline and how to test it using `pytest`."
   ]
  },
  {
   "cell_type": "code",
   "execution_count": null,
   "metadata": {
    "tags": [
     "parameters"
    ]
   },
   "outputs": [],
   "source": []
  }
 ],
 "metadata": {
  "jupytext": {
   "cell_metadata_filter": "tags,-all",
   "main_language": "bash",
   "notebook_metadata_filter": "-all",
   "text_representation": {
    "extension": ".md",
    "format_name": "markdown"
   }
  },
  "kernelspec": {
   "display_name": "Python 3",
   "language": "python",
   "name": "python3"
  },
  "language_info": {
   "codemirror_mode": {
    "name": "ipython",
    "version": 3
   },
   "file_extension": ".py",
   "mimetype": "text/x-python",
   "name": "python",
   "nbconvert_exporter": "python",
   "pygments_lexer": "ipython3",
   "version": "3.7.8"
  }
 },
 "nbformat": 4,
 "nbformat_minor": 4
}
