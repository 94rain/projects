{
 "cells": [
  {
   "cell_type": "markdown",
   "metadata": {
    "papermill": {
     "duration": 0.007008,
     "end_time": "2020-12-09T22:38:25.667174",
     "exception": false,
     "start_time": "2020-12-09T22:38:25.660166",
     "status": "completed"
    },
    "tags": []
   },
   "source": [
    "\n",
    "*Note:* You can run this from your computer (Jupyter or terminal), or use one of the\n",
    "hosted options:\n",
    "[![binder-logo](https://mybinder.org/v2/gh/ploomber/binder-env/main?urlpath=git-pull%3Frepo%3Dhttps%253A%252F%252Fgithub.com%252Fploomber%252Fprojects%26urlpath%3Dlab%252Ftree%252Fprojects%252Fml-intermediate%252FREADME.ipynb%26branch%3Dmaster)\n",
    "[![deepnote-logo](https://deepnote.com/buttons/launch-in-deepnote-small.svg)](https://deepnote.com/launch?template=deepnote&url=https://github.com/ploomber/projects/blob/master/ml-intermediate/README.ipynb)\n"
   ]
  },
  {
   "cell_type": "markdown",
   "metadata": {
    "papermill": {
     "duration": 0.004829,
     "end_time": "2020-12-09T22:38:25.677641",
     "exception": false,
     "start_time": "2020-12-09T22:38:25.672812",
     "status": "completed"
    },
    "tags": []
   },
   "source": [
    "# Intermediate ML project\n",
    "\n",
    "This example shows how to build an ML pipeline with integration testing (using\n",
    "the `on_finish` key). When the pipeline takes a lot of time to run end-to-end\n",
    "it is a good idea to test with a sample, take a look at the `pipeline.yaml`,\n",
    "`env.yaml` to see how this parametrization happens and how this affects the\n",
    "`get` function defined in `tasks.py`.\n",
    "\n",
    "## Setup\n",
    "\n",
    "~~~bash\n",
    "# same instructions as the other version\n",
    "git clone https://github.com/ploomber/projects\n",
    "cd ml-intermediate\n",
    "\n",
    "conda env create --file environment.yml\n",
    "conda activate ml-intermediate\n",
    "~~~\n",
    "\n",
    "## Execute the pipeline"
   ]
  },
  {
   "cell_type": "code",
   "execution_count": 1,
   "metadata": {
    "execution": {
     "iopub.execute_input": "2020-12-09T22:38:25.693890Z",
     "iopub.status.busy": "2020-12-09T22:38:25.693136Z",
     "iopub.status.idle": "2020-12-09T22:38:55.884289Z",
     "shell.execute_reply": "2020-12-09T22:38:55.883462Z"
    },
    "papermill": {
     "duration": 30.201846,
     "end_time": "2020-12-09T22:38:55.884630",
     "exception": false,
     "start_time": "2020-12-09T22:38:25.682784",
     "status": "completed"
    },
    "tags": [
     "bash"
    ]
   },
   "outputs": [
    {
     "name": "stdout",
     "output_type": "stream",
     "text": [
      "Using the full dataset\n",
      "name      Ran?      Elapsed (s)    Percentage\n",
      "--------  ------  -------------  ------------\n",
      "get       True         0.732092      2.6742\n",
      "features  True         0.090157      0.329328\n",
      "join      True         0.239166      0.873631\n",
      "fit       True        26.3147       96.1228\n"
     ]
    },
    {
     "name": "stderr",
     "output_type": "stream",
     "text": [
      "100%|██████████| 4/4 [00:00<00:00, 8568.55it/s]\n",
      "Building task \"fit\":  75%|███████▌  | 3/4 [00:01<00:00,  1.88it/s] \n",
      "Executing:   0%|          | 0/11 [00:00<?, ?cell/s]\u001b[A\n",
      "Executing:   9%|▉         | 1/11 [00:00<00:09,  1.04cell/s]\u001b[A\n",
      "Executing:  18%|█▊        | 2/11 [00:02<00:09,  1.02s/cell]\u001b[A\n",
      "Executing:  45%|████▌     | 5/11 [00:02<00:04,  1.36cell/s]\u001b[A\n",
      "Executing:  55%|█████▍    | 6/11 [00:02<00:02,  1.81cell/s]\u001b[A\n",
      "Executing:  64%|██████▎   | 7/11 [00:21<00:24,  6.03s/cell]\u001b[A\n",
      "Executing:  73%|███████▎  | 8/11 [00:22<00:14,  4.69s/cell]\u001b[A\n",
      "Executing:  82%|████████▏ | 9/11 [00:23<00:06,  3.38s/cell]\u001b[A\n",
      "Executing: 100%|██████████| 11/11 [00:25<00:00,  2.28s/cell]\n",
      "Building task \"fit\": 100%|██████████| 4/4 [00:27<00:00,  6.90s/it]\n"
     ]
    }
   ],
   "source": [
    "%%sh\n",
    "ploomber build"
   ]
  },
  {
   "cell_type": "markdown",
   "metadata": {
    "papermill": {
     "duration": 0.006018,
     "end_time": "2020-12-09T22:38:55.897159",
     "exception": false,
     "start_time": "2020-12-09T22:38:55.891141",
     "status": "completed"
    },
    "tags": []
   },
   "source": [
    "## Integration testing with a sample\n",
    "\n",
    "To see available parameters (params parsed from `env.yaml` start with `--env`):"
   ]
  },
  {
   "cell_type": "code",
   "execution_count": 2,
   "metadata": {
    "execution": {
     "iopub.execute_input": "2020-12-09T22:38:55.913684Z",
     "iopub.status.busy": "2020-12-09T22:38:55.912856Z",
     "iopub.status.idle": "2020-12-09T22:38:57.736174Z",
     "shell.execute_reply": "2020-12-09T22:38:57.736825Z"
    },
    "papermill": {
     "duration": 1.833987,
     "end_time": "2020-12-09T22:38:57.737077",
     "exception": false,
     "start_time": "2020-12-09T22:38:55.903090",
     "status": "completed"
    },
    "tags": [
     "bash"
    ]
   },
   "outputs": [
    {
     "name": "stdout",
     "output_type": "stream",
     "text": [
      "usage: ploomber [-h] [--log LOG] [--entry-point ENTRY_POINT] [--force]\n",
      "                [--partially PARTIALLY] [--debug]\n",
      "                [--env--path--products ENV__PATH__PRODUCTS]\n",
      "                [--env--sample ENV__SAMPLE]\n",
      "\n",
      "Build pipeline\n",
      "\n",
      "optional arguments:\n",
      "  -h, --help            show this help message and exit\n",
      "  --log LOG, -l LOG     Enables logging to stdout at the specified level\n",
      "  --entry-point ENTRY_POINT, -e ENTRY_POINT\n",
      "                        Entry point(DAG), defaults to pipeline.yaml. Replaced\n",
      "                        if there is an ENTRY_POINT env variable defined\n",
      "  --force, -f           Force execution by ignoring status\n",
      "  --partially PARTIALLY, -p PARTIALLY\n",
      "                        Build a pipeline partially until certain task\n",
      "  --debug, -d           Drop a debugger session if an exception happens\n",
      "  --env--path--products ENV__PATH__PRODUCTS\n",
      "                        Default: /Users/Edu/dev/projects-ploomber/ml-\n",
      "                        intermediate/output\n",
      "  --env--sample ENV__SAMPLE\n",
      "                        Default: False\n"
     ]
    }
   ],
   "source": [
    "%%sh\n",
    "ploomber build --help"
   ]
  },
  {
   "cell_type": "markdown",
   "metadata": {
    "papermill": {
     "duration": 0.006573,
     "end_time": "2020-12-09T22:38:57.750204",
     "exception": false,
     "start_time": "2020-12-09T22:38:57.743631",
     "status": "completed"
    },
    "tags": []
   },
   "source": [
    "Run with a sample:"
   ]
  },
  {
   "cell_type": "code",
   "execution_count": 3,
   "metadata": {
    "execution": {
     "iopub.execute_input": "2020-12-09T22:38:57.768646Z",
     "iopub.status.busy": "2020-12-09T22:38:57.767052Z",
     "iopub.status.idle": "2020-12-09T22:39:06.235719Z",
     "shell.execute_reply": "2020-12-09T22:39:06.236303Z"
    },
    "papermill": {
     "duration": 8.480253,
     "end_time": "2020-12-09T22:39:06.236670",
     "exception": false,
     "start_time": "2020-12-09T22:38:57.756417",
     "status": "completed"
    },
    "tags": [
     "bash"
    ]
   },
   "outputs": [
    {
     "name": "stdout",
     "output_type": "stream",
     "text": [
      "Sampling 10%\n",
      "name      Ran?      Elapsed (s)    Percentage\n",
      "--------  ------  -------------  ------------\n",
      "get       True         0.678332      12.2154\n",
      "features  True         0.060655       1.09228\n",
      "join      True         0.086937       1.56557\n",
      "fit       True         4.72715       85.1267\n"
     ]
    },
    {
     "name": "stderr",
     "output_type": "stream",
     "text": [
      "100%|██████████| 4/4 [00:00<00:00, 8715.44it/s]\n",
      "Building task \"fit\":  75%|███████▌  | 3/4 [00:01<00:00,  2.23it/s] \n",
      "Executing:   0%|          | 0/11 [00:00<?, ?cell/s]\u001b[A\n",
      "Executing:   9%|▉         | 1/11 [00:00<00:09,  1.04cell/s]\u001b[A\n",
      "Executing:  18%|█▊        | 2/11 [00:02<00:09,  1.03s/cell]\u001b[A\n",
      "Executing:  45%|████▌     | 5/11 [00:02<00:04,  1.36cell/s]\u001b[A\n",
      "Executing:  64%|██████▎   | 7/11 [00:03<00:02,  1.45cell/s]\u001b[A\n",
      "Executing:  73%|███████▎  | 8/11 [00:03<00:01,  1.87cell/s]\u001b[A\n",
      "Executing: 100%|██████████| 11/11 [00:04<00:00,  2.44cell/s]\n",
      "Building task \"fit\": 100%|██████████| 4/4 [00:05<00:00,  1.45s/it]\n"
     ]
    }
   ],
   "source": [
    "%%sh\n",
    "ploomber build --env--sample true "
   ]
  },
  {
   "cell_type": "markdown",
   "metadata": {
    "papermill": {
     "duration": 0.007165,
     "end_time": "2020-12-09T22:39:06.252023",
     "exception": false,
     "start_time": "2020-12-09T22:39:06.244858",
     "status": "completed"
    },
    "tags": []
   },
   "source": [
    "## Where to go from here\n",
    "\n",
    "Using a `pipeline.yaml` is a convenient way to describe your workflows but it\n",
    "has some limitations. [`ml-advanced/`](../ml-advanced/README.ipynb) shows a\n",
    "pipeline written using the Python API, this gives you full flexibility and\n",
    "allows you to do things such as creating tasks dynamically.\n",
    "\n",
    "It also shows how to create a Python package to easily share your pipeline and how to test it using `pytest`."
   ]
  }
 ],
 "metadata": {
  "jupytext": {
   "cell_metadata_filter": "tags,-all",
   "main_language": "bash",
   "notebook_metadata_filter": "-all"
  },
  "kernelspec": {
   "display_name": "Python 3",
   "language": "python",
   "name": "python3"
  },
  "language_info": {
   "codemirror_mode": {
    "name": "ipython",
    "version": 3
   },
   "file_extension": ".py",
   "mimetype": "text/x-python",
   "name": "python",
   "nbconvert_exporter": "python",
   "pygments_lexer": "ipython3",
   "version": "3.7.8"
  },
  "papermill": {
   "default_parameters": {},
   "duration": 41.648436,
   "end_time": "2020-12-09T22:39:06.505109",
   "environment_variables": {},
   "exception": null,
   "input_path": "/var/folders/3h/_lvh_w_x5g30rrjzb_xnn2j80000gq/T/tmpni7ox79u.ipynb",
   "output_path": "ml-intermediate/README.ipynb",
   "parameters": {
    "product": "ml-intermediate/README.ipynb"
   },
   "start_time": "2020-12-09T22:38:24.856673",
   "version": "2.2.2"
  }
 },
 "nbformat": 4,
 "nbformat_minor": 4
}
