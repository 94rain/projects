{
 "cells": [
  {
   "cell_type": "markdown",
   "metadata": {
    "papermill": {
     "duration": 0.006348,
     "end_time": "2020-11-26T17:52:37.347170",
     "exception": false,
     "start_time": "2020-11-26T17:52:37.340822",
     "status": "completed"
    },
    "tags": []
   },
   "source": [
    "\n",
    "*Note:* You can run this from your computer (Jupyter or terminal), or use one of the\n",
    "hosted options:\n",
    "[![binder-logo](https://mybinder.org/badge_logo.svg)](https://mybinder.org/v2/gh/ploomber/binder-env/main?urlpath=git-pull%3Frepo%3Dhttps%253A%252F%252Fgithub.com%252Fploomber%252Fprojects%26urlpath%3Dlab%252Ftree%252Fprojects%252Fml-intermediate%252FREADME.ipynb%26branch%3Dmaster)\n",
    "[![deepnote-logo](https://deepnote.com/buttons/launch-in-deepnote-small.svg)](https://deepnote.com/launch?template=deepnote&url=https://github.com/ploomber/projects/blob/master/ml-intermediate/README.ipynb)\n"
   ]
  },
  {
   "cell_type": "markdown",
   "metadata": {
    "papermill": {
     "duration": 0.00496,
     "end_time": "2020-11-26T17:52:37.357509",
     "exception": false,
     "start_time": "2020-11-26T17:52:37.352549",
     "status": "completed"
    },
    "tags": []
   },
   "source": [
    "# Intermediate ML project\n",
    "\n",
    "This example shows how to build an ML pipeline with integration testing (using\n",
    "the `on_finish` key). When the pipeline takes a lot of time to run end-to-end\n",
    "it is a good idea to test with a sample, take a look at the `pipeline.yaml`,\n",
    "`env.yaml` to see how this parametrization happens and how this affects the\n",
    "`get` function defined in `tasks.py`.\n",
    "\n",
    "## Setup\n",
    "\n",
    "~~~bash\n",
    "# same instructions as the other version\n",
    "git clone https://github.com/ploomber/projects\n",
    "cd ml-intermediate\n",
    "\n",
    "conda env create --file environment.yml\n",
    "conda activate ml-intermediate\n",
    "~~~\n",
    "\n",
    "## Execute the pipeline"
   ]
  },
  {
   "cell_type": "code",
   "execution_count": 1,
   "metadata": {
    "execution": {
     "iopub.execute_input": "2020-11-26T17:52:37.370981Z",
     "iopub.status.busy": "2020-11-26T17:52:37.370157Z",
     "iopub.status.idle": "2020-11-26T17:53:10.793519Z",
     "shell.execute_reply": "2020-11-26T17:53:10.792975Z"
    },
    "papermill": {
     "duration": 33.431838,
     "end_time": "2020-11-26T17:53:10.793754",
     "exception": false,
     "start_time": "2020-11-26T17:52:37.361916",
     "status": "completed"
    },
    "tags": [
     "bash"
    ]
   },
   "outputs": [
    {
     "name": "stdout",
     "output_type": "stream",
     "text": [
      "Using the full dataset\n",
      "name      Ran?      Elapsed (s)    Percentage\n",
      "--------  ------  -------------  ------------\n",
      "get       True         0.523268      2.32697\n",
      "features  True         0.070489      0.313465\n",
      "join      True         0.20202       0.898383\n",
      "fit       True        21.6913       96.4612\n"
     ]
    },
    {
     "name": "stderr",
     "output_type": "stream",
     "text": [
      "100%|██████████| 4/4 [00:00<00:00, 2846.97it/s]\n",
      "Building task \"fit\":  75%|███████▌  | 3/4 [00:08<00:02,  2.98s/it] \n",
      "Executing:   0%|          | 0/11 [00:00<?, ?cell/s]\u001b[A\n",
      "Executing:   9%|▉         | 1/11 [00:00<00:08,  1.22cell/s]\u001b[A\n",
      "Executing:  18%|█▊        | 2/11 [00:01<00:08,  1.12cell/s]\u001b[A\n",
      "Executing:  45%|████▌     | 5/11 [00:02<00:03,  1.55cell/s]\u001b[A\n",
      "Executing:  55%|█████▍    | 6/11 [00:02<00:02,  2.06cell/s]\u001b[A\n",
      "Executing:  64%|██████▎   | 7/11 [00:18<00:21,  5.38s/cell]\u001b[A\n",
      "Executing:  73%|███████▎  | 8/11 [00:20<00:12,  4.15s/cell]\u001b[A\n",
      "Executing:  82%|████████▏ | 9/11 [00:20<00:05,  3.00s/cell]\u001b[A\n",
      "Executing: 100%|██████████| 11/11 [00:21<00:00,  1.96s/cell]\n",
      "Building task \"fit\": 100%|██████████| 4/4 [00:30<00:00,  7.61s/it]\n"
     ]
    }
   ],
   "source": [
    "%%sh\n",
    "ploomber build"
   ]
  },
  {
   "cell_type": "markdown",
   "metadata": {
    "papermill": {
     "duration": 0.0054,
     "end_time": "2020-11-26T17:53:10.804120",
     "exception": false,
     "start_time": "2020-11-26T17:53:10.798720",
     "status": "completed"
    },
    "tags": []
   },
   "source": [
    "## Integration testing with a sample\n",
    "\n",
    "To see available parameters (params parsed from `env.yaml` start with `--env`):"
   ]
  },
  {
   "cell_type": "code",
   "execution_count": 2,
   "metadata": {
    "execution": {
     "iopub.execute_input": "2020-11-26T17:53:10.820670Z",
     "iopub.status.busy": "2020-11-26T17:53:10.819651Z",
     "iopub.status.idle": "2020-11-26T17:53:12.979927Z",
     "shell.execute_reply": "2020-11-26T17:53:12.980385Z"
    },
    "papermill": {
     "duration": 2.171518,
     "end_time": "2020-11-26T17:53:12.980616",
     "exception": false,
     "start_time": "2020-11-26T17:53:10.809098",
     "status": "completed"
    },
    "tags": [
     "bash"
    ]
   },
   "outputs": [
    {
     "name": "stdout",
     "output_type": "stream",
     "text": [
      "usage: ploomber [-h] [--log LOG] [--entry-point ENTRY_POINT] [--force]\n",
      "                [--partially PARTIALLY] [--debug]\n",
      "                [--env--path--products ENV__PATH__PRODUCTS]\n",
      "                [--env--sample ENV__SAMPLE]\n",
      "\n",
      "Build pipeline\n",
      "\n",
      "optional arguments:\n",
      "  -h, --help            show this help message and exit\n",
      "  --log LOG, -l LOG     Enables logging to stdout at the specified level\n",
      "  --entry-point ENTRY_POINT, -e ENTRY_POINT\n",
      "                        Entry point(DAG), defaults to pipeline.yaml. Replaced\n",
      "                        if there is an ENTRY_POINT env variable defined\n",
      "  --force, -f           Force execution by ignoring status\n",
      "  --partially PARTIALLY, -p PARTIALLY\n",
      "                        Build a pipeline partially until certain task\n",
      "  --debug, -d           Drop a debugger session if an exception happens\n",
      "  --env--path--products ENV__PATH__PRODUCTS\n",
      "                        Default: /Users/Edu/dev/projects-ploomber/ml-\n",
      "                        intermediate/output\n",
      "  --env--sample ENV__SAMPLE\n",
      "                        Default: False\n"
     ]
    }
   ],
   "source": [
    "%%sh\n",
    "ploomber build --help"
   ]
  },
  {
   "cell_type": "markdown",
   "metadata": {
    "papermill": {
     "duration": 0.005679,
     "end_time": "2020-11-26T17:53:12.991747",
     "exception": false,
     "start_time": "2020-11-26T17:53:12.986068",
     "status": "completed"
    },
    "tags": []
   },
   "source": [
    "Run with a sample:"
   ]
  },
  {
   "cell_type": "code",
   "execution_count": 3,
   "metadata": {
    "execution": {
     "iopub.execute_input": "2020-11-26T17:53:13.008724Z",
     "iopub.status.busy": "2020-11-26T17:53:13.007801Z",
     "iopub.status.idle": "2020-11-26T17:53:30.569361Z",
     "shell.execute_reply": "2020-11-26T17:53:30.569824Z"
    },
    "papermill": {
     "duration": 17.573187,
     "end_time": "2020-11-26T17:53:30.570050",
     "exception": false,
     "start_time": "2020-11-26T17:53:12.996863",
     "status": "completed"
    },
    "tags": [
     "bash"
    ]
   },
   "outputs": [
    {
     "name": "stdout",
     "output_type": "stream",
     "text": [
      "Sampling 10%\n",
      "name      Ran?      Elapsed (s)    Percentage\n",
      "--------  ------  -------------  ------------\n",
      "get       True         0.501051       7.41058\n",
      "features  True         0.036964       0.5467\n",
      "join      True         0.069101       1.02201\n",
      "fit       True         6.15417       91.0207\n"
     ]
    },
    {
     "name": "stderr",
     "output_type": "stream",
     "text": [
      "100%|██████████| 4/4 [00:00<00:00, 4073.13it/s]\n",
      "Building task \"fit\":  75%|███████▌  | 3/4 [00:08<00:02,  2.90s/it] \n",
      "Executing:   0%|          | 0/11 [00:00<?, ?cell/s]\u001b[A\n",
      "Executing:   9%|▉         | 1/11 [00:00<00:09,  1.04cell/s]\u001b[A\n",
      "Executing:  18%|█▊        | 2/11 [00:02<00:09,  1.00s/cell]\u001b[A\n",
      "Executing:  45%|████▌     | 5/11 [00:02<00:04,  1.40cell/s]\u001b[A\n",
      "Executing:  64%|██████▎   | 7/11 [00:03<00:02,  1.48cell/s]\u001b[A\n",
      "Executing:  73%|███████▎  | 8/11 [00:03<00:01,  1.93cell/s]\u001b[A\n",
      "Executing: 100%|██████████| 11/11 [00:05<00:00,  2.16cell/s]\n",
      "Building task \"fit\": 100%|██████████| 4/4 [00:14<00:00,  3.65s/it]\n"
     ]
    }
   ],
   "source": [
    "%%sh\n",
    "ploomber build --env--sample true "
   ]
  },
  {
   "cell_type": "markdown",
   "metadata": {
    "papermill": {
     "duration": 0.006429,
     "end_time": "2020-11-26T17:53:30.582386",
     "exception": false,
     "start_time": "2020-11-26T17:53:30.575957",
     "status": "completed"
    },
    "tags": []
   },
   "source": [
    "## Where to go from here\n",
    "\n",
    "Using a `pipeline.yaml` is a convenient way to describe your workflows but it\n",
    "has some limitations. [`ml-advanced/`](../ml-advanced/README.ipynb) shows a\n",
    "pipeline written using the Python API, this gives you full flexibility and\n",
    "allows you to do things such as creating tasks dynamically.\n",
    "\n",
    "It also shows how to create a Python package to easily share your pipeline and how to test it using `pytest`."
   ]
  },
  {
   "cell_type": "code",
   "execution_count": null,
   "metadata": {
    "papermill": {
     "duration": 0.005849,
     "end_time": "2020-11-26T17:53:30.594097",
     "exception": false,
     "start_time": "2020-11-26T17:53:30.588248",
     "status": "completed"
    },
    "tags": [
     "parameters"
    ]
   },
   "outputs": [],
   "source": []
  },
  {
   "cell_type": "code",
   "execution_count": 4,
   "metadata": {
    "execution": {
     "iopub.execute_input": "2020-11-26T17:53:30.611004Z",
     "iopub.status.busy": "2020-11-26T17:53:30.610243Z",
     "iopub.status.idle": "2020-11-26T17:53:30.612810Z",
     "shell.execute_reply": "2020-11-26T17:53:30.613262Z"
    },
    "papermill": {
     "duration": 0.012961,
     "end_time": "2020-11-26T17:53:30.613521",
     "exception": false,
     "start_time": "2020-11-26T17:53:30.600560",
     "status": "completed"
    },
    "tags": [
     "injected-parameters"
    ]
   },
   "outputs": [],
   "source": [
    "# Parameters\n",
    "product = \"ml-intermediate/README.ipynb\"\n"
   ]
  }
 ],
 "metadata": {
  "jupytext": {
   "cell_metadata_filter": "tags,-all",
   "main_language": "bash",
   "notebook_metadata_filter": "-all",
   "text_representation": {
    "extension": ".md",
    "format_name": "markdown"
   }
  },
  "kernelspec": {
   "display_name": "Python 3",
   "language": "python",
   "name": "python3"
  },
  "language_info": {
   "codemirror_mode": {
    "name": "ipython",
    "version": 3
   },
   "file_extension": ".py",
   "mimetype": "text/x-python",
   "name": "python",
   "nbconvert_exporter": "python",
   "pygments_lexer": "ipython3",
   "version": "3.8.6"
  },
  "papermill": {
   "default_parameters": {},
   "duration": 55.209683,
   "end_time": "2020-11-26T17:53:31.779213",
   "environment_variables": {},
   "exception": null,
   "input_path": "/var/folders/3h/_lvh_w_x5g30rrjzb_xnn2j80000gq/T/tmpq4dw5036.ipynb",
   "output_path": "ml-intermediate/README.ipynb",
   "parameters": {
    "product": "ml-intermediate/README.ipynb"
   },
   "start_time": "2020-11-26T17:52:36.569530",
   "version": "2.2.2"
  }
 },
 "nbformat": 4,
 "nbformat_minor": 4
}
