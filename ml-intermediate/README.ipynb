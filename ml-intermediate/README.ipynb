{
 "cells": [
  {
   "cell_type": "markdown",
   "id": "2bf1f6bf",
   "metadata": {
    "papermill": {
     "duration": 0.006265,
     "end_time": "2021-09-19T22:34:08.520760",
     "exception": false,
     "start_time": "2021-09-19T22:34:08.514495",
     "status": "completed"
    },
    "tags": []
   },
   "source": [
    "\n",
    "*Note:* You can run this from your computer (Jupyter or terminal), or using Binder (does not require any installation, takes a few minutes to be ready)\n",
    "\n",
    "[![binder-logo](https://mybinder.org/badge_logo.svg)](https://mybinder.org/v2/gh/ploomber/binder-env/main?urlpath=git-pull%3Frepo%3Dhttps%253A%252F%252Fgithub.com%252Fploomber%252Fprojects%26urlpath%3Dlab%252Ftree%252Fprojects%252Fml-intermediate%252FREADME.ipynb%26branch%3Dmaster)\n"
   ]
  },
  {
   "cell_type": "markdown",
   "id": "c8a8cbd2",
   "metadata": {
    "papermill": {
     "duration": 0.00524,
     "end_time": "2021-09-19T22:34:08.531317",
     "exception": false,
     "start_time": "2021-09-19T22:34:08.526077",
     "status": "completed"
    },
    "tags": []
   },
   "source": [
    "# Intermediate ML project\n",
    "\n",
    "Training and serving ML pipeline with integration testing.\n",
    "\n",
    "## Setup\n",
    "\n",
    "~~~bash\n",
    "# if using conda\n",
    "conda env create --file environment.yml\n",
    "conda activate ml-intermediate\n",
    "\n",
    "# or use pip directly\n",
    "pip install -r requirements.txt\n",
    "~~~\n",
    "\n",
    "## Build"
   ]
  },
  {
   "cell_type": "code",
   "execution_count": 1,
   "id": "814fe3a7",
   "metadata": {
    "execution": {
     "iopub.execute_input": "2021-09-19T22:34:08.550712Z",
     "iopub.status.busy": "2021-09-19T22:34:08.549997Z",
     "iopub.status.idle": "2021-09-19T22:34:12.242015Z",
     "shell.execute_reply": "2021-09-19T22:34:12.242550Z"
    },
    "lines_to_next_cell": 2,
    "papermill": {
     "duration": 3.70699,
     "end_time": "2021-09-19T22:34:12.242904",
     "exception": false,
     "start_time": "2021-09-19T22:34:08.535914",
     "status": "completed"
    },
    "tags": [
     "bash"
    ]
   },
   "outputs": [
    {
     "name": "stdout",
     "output_type": "stream",
     "text": [
      "name        Ran?      Elapsed (s)    Percentage\n",
      "----------  ------  -------------  ------------\n",
      "get         False               0             0\n",
      "sepal-area  False               0             0\n",
      "petal-area  False               0             0\n",
      "join        False               0             0\n",
      "fit         False               0             0\n"
     ]
    },
    {
     "name": "stderr",
     "output_type": "stream",
     "text": [
      "0it [00:00, ?it/s]\n"
     ]
    }
   ],
   "source": [
    "%%sh\n",
    "ploomber build"
   ]
  },
  {
   "cell_type": "markdown",
   "id": "bda1cf6a",
   "metadata": {
    "papermill": {
     "duration": 0.005134,
     "end_time": "2021-09-19T22:34:12.255534",
     "exception": false,
     "start_time": "2021-09-19T22:34:12.250400",
     "status": "completed"
    },
    "tags": []
   },
   "source": [
    "## Serving\n",
    "\n",
    "Once the model is trained, run the serving pipeline with:"
   ]
  },
  {
   "cell_type": "code",
   "execution_count": 2,
   "id": "61491bae",
   "metadata": {
    "execution": {
     "iopub.execute_input": "2021-09-19T22:34:12.278067Z",
     "iopub.status.busy": "2021-09-19T22:34:12.275641Z",
     "iopub.status.idle": "2021-09-19T22:34:15.554117Z",
     "shell.execute_reply": "2021-09-19T22:34:15.554663Z"
    },
    "papermill": {
     "duration": 3.292078,
     "end_time": "2021-09-19T22:34:15.554910",
     "exception": false,
     "start_time": "2021-09-19T22:34:12.262832",
     "status": "completed"
    },
    "tags": [
     "bash"
    ]
   },
   "outputs": [
    {
     "name": "stdout",
     "output_type": "stream",
     "text": [
      "name        Ran?      Elapsed (s)    Percentage\n",
      "----------  ------  -------------  ------------\n",
      "get         False               0             0\n",
      "sepal-area  False               0             0\n",
      "petal-area  False               0             0\n",
      "join        False               0             0\n",
      "predict     False               0             0\n"
     ]
    },
    {
     "name": "stderr",
     "output_type": "stream",
     "text": [
      "0it [00:00, ?it/s]\n"
     ]
    }
   ],
   "source": [
    "%%sh\n",
    "ploomber build --entry-point pipeline.serve.yaml"
   ]
  },
  {
   "cell_type": "markdown",
   "id": "592d2775",
   "metadata": {
    "papermill": {
     "duration": 0.006107,
     "end_time": "2021-09-19T22:34:15.567419",
     "exception": false,
     "start_time": "2021-09-19T22:34:15.561312",
     "status": "completed"
    },
    "tags": []
   },
   "source": [
    "This pipeline loads some data and uses the model file to make predictions."
   ]
  }
 ],
 "metadata": {
  "jupytext": {
   "cell_metadata_filter": "tags,-all",
   "main_language": "bash",
   "notebook_metadata_filter": "-all"
  },
  "kernelspec": {
   "display_name": "Python 3 (ipykernel)",
   "language": "python",
   "name": "python3"
  },
  "language_info": {
   "codemirror_mode": {
    "name": "ipython",
    "version": 3
   },
   "file_extension": ".py",
   "mimetype": "text/x-python",
   "name": "python",
   "nbconvert_exporter": "python",
   "pygments_lexer": "ipython3",
   "version": "3.7.10"
  },
  "papermill": {
   "duration": 8.458227,
   "end_time": "2021-09-19T22:34:15.716593",
   "exception": null,
   "input_path": "/var/folders/3h/_lvh_w_x5g30rrjzb_xnn2j80000gq/T/tmpra6fslss.ipynb",
   "output_path": "ml-intermediate/README.ipynb",
   "parameters": {
    "product": "ml-intermediate/README.ipynb"
   },
   "start_time": "2021-09-19T22:34:07.258366"
  }
 },
 "nbformat": 4,
 "nbformat_minor": 5
}
