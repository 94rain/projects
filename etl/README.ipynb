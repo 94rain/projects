{
 "cells": [
  {
   "cell_type": "markdown",
   "metadata": {
    "papermill": {
     "duration": 0.050395,
     "end_time": "2020-12-30T20:19:51.757720",
     "exception": false,
     "start_time": "2020-12-30T20:19:51.707325",
     "status": "completed"
    },
    "tags": []
   },
   "source": [
    "\n",
    "*Note:* You can run this from your computer (Jupyter or terminal), or use one of the\n",
    "hosted options:\n",
    "\n",
    "[![binder-logo](https://mybinder.org/badge_logo.svg)](https://mybinder.org/v2/gh/ploomber/binder-env/main?urlpath=git-pull%3Frepo%3Dhttps%253A%252F%252Fgithub.com%252Fploomber%252Fprojects%26urlpath%3Dlab%252Ftree%252Fprojects%252Fetl%252FREADME.ipynb%26branch%3Dmaster)\n",
    "\n",
    "[![deepnote-logo](https://deepnote.com/buttons/launch-in-deepnote-small.svg)](https://deepnote.com/launch?template=deepnote&url=https://github.com/ploomber/projects/blob/master/etl/README.ipynb)\n"
   ]
  },
  {
   "cell_type": "markdown",
   "metadata": {
    "papermill": {
     "duration": 0.005611,
     "end_time": "2020-12-30T20:19:51.774545",
     "exception": false,
     "start_time": "2020-12-30T20:19:51.768934",
     "status": "completed"
    },
    "tags": []
   },
   "source": [
    "# ETL example"
   ]
  },
  {
   "cell_type": "markdown",
   "metadata": {
    "papermill": {
     "duration": 0.005839,
     "end_time": "2020-12-30T20:19:51.786090",
     "exception": false,
     "start_time": "2020-12-30T20:19:51.780251",
     "status": "completed"
    },
    "tags": []
   },
   "source": [
    "This example shows a non-trivial pipeline that resembles a typical\n",
    "scenario when analyzing data. It helps demonstrate how\n",
    "[Ploomber](https://github.com/ploomber/ploomber) helps you\n",
    "develop data pipelines without worrying about plumbing code (managing\n",
    "database connections, orchestrating execution, etc.)\n",
    "\n",
    "Most notably, this project contains minimal configuration code (just a small\n",
    "`db.py` file to establish a connection with the database), the rest are scripts\n",
    "that perform the actual analysis. The `pipeline.yaml` files tells Ploomber how\n",
    "to run the pipeline and it allows everyone in the analysis team to understand\n",
    "how all parts stitch together.\n",
    "\n",
    "This pipeline uses a subset of the [Stack Exchange dataset](https://archive.org/details/stackexchange). It gets the data from the original source, converts it from XML to CSV, uploads it to a database, aggregates it, dumps it and generates a few plots. See the diagram below (generated using `ploomber plot`):\n",
    "\n",
    "![pipeline](pipeline.png)\n",
    "\n",
    "The ``pipeline.yaml`` file contains a few comments to understand what's going on at each step.\n",
    "\n",
    "This project also has non-trivial dependencies: a package to uncompress `.7z` files, a few Python packages, R and the R kernel for Jupyter. Everything is installed via a conda environment. See the `environment.yml` file for details.\n",
    "\n",
    "On each push, the pipeline is tested, ensuring it works at all times. See `.github/workflows/ci.yml` for details (`etl` job).\n",
    "\n",
    "## Setup\n",
    "\n",
    "(Note: Only required if you are running this example in your computer, not\n",
    "required if using Binder/Deepnote)\n",
    "\n",
    "~~~bash\n",
    "# make sure you are in the etl folder.\n",
    "conda env create --file environment.yml\n",
    "conda activate etl\n",
    "~~~"
   ]
  },
  {
   "cell_type": "markdown",
   "metadata": {
    "papermill": {
     "duration": 0.006421,
     "end_time": "2020-12-30T20:19:51.799614",
     "exception": false,
     "start_time": "2020-12-30T20:19:51.793193",
     "status": "completed"
    },
    "tags": []
   },
   "source": [
    "## Pipeline summary"
   ]
  },
  {
   "cell_type": "code",
   "execution_count": 1,
   "metadata": {
    "execution": {
     "iopub.execute_input": "2020-12-30T20:19:51.820409Z",
     "iopub.status.busy": "2020-12-30T20:19:51.819161Z",
     "iopub.status.idle": "2020-12-30T20:19:54.080245Z",
     "shell.execute_reply": "2020-12-30T20:19:54.080751Z"
    },
    "papermill": {
     "duration": 2.275567,
     "end_time": "2020-12-30T20:19:54.081118",
     "exception": false,
     "start_time": "2020-12-30T20:19:51.805551",
     "status": "completed"
    },
    "tags": [
     "bash"
    ]
   },
   "outputs": [
    {
     "name": "stdout",
     "output_type": "stream",
     "text": [
      "name         Last run    Outdated?    Product      Doc (short)    Location\n",
      "-----------  ----------  -----------  -----------  -------------  -----------\n",
      "download     Has not     Source code  {'nb': File                 preprocess/\n",
      "             been run                 (/Users/Edu                 download.py\n",
      "                                      /dev/projec\n",
      "                                      ts-ploomber\n",
      "                                      /etl/output\n",
      "                                      /download.i\n",
      "                                      pynb),\n",
      "                                      'zipped': F\n",
      "                                      ile(/Users/\n",
      "                                      Edu/dev/pro\n",
      "                                      jects-ploom\n",
      "                                      ber/etl/out\n",
      "                                      put/data.7z\n",
      "                                      ), 'extract\n",
      "                                      ed': File(/\n",
      "                                      Users/Edu/d\n",
      "                                      ev/projects\n",
      "                                      -ploomber/e\n",
      "                                      tl/output/e\n",
      "                                      xtracted)}\n",
      "convert2csv  Has not     Source code  {'nb': File                 preprocess/\n",
      "             been run    & Upstream   (/Users/Edu                 convert2csv\n",
      "                                      /dev/projec                 .py\n",
      "                                      ts-ploomber\n",
      "                                      /etl/output\n",
      "                                      /convert2cs\n",
      "                                      v.ipynb),\n",
      "                                      'data': Fil\n",
      "                                      e(/Users/Ed\n",
      "                                      u/dev/proje\n",
      "                                      cts-ploombe\n",
      "                                      r/etl/outpu\n",
      "                                      t/data)}\n",
      "upload-      Has not     Source code  users                       None\n",
      "users        been run    & Upstream\n",
      "upvotes-by-  Has not     Source code  upvotes_by_                 sql/upvotes\n",
      "location     been run    & Upstream   location                    -by-locatio\n",
      "                                                                  n.sql\n",
      "upvotes-     Has not     Source code  /Users/Edu/                 sql/select-\n",
      "dump         been run    & Upstream   dev/project                 upvotes-by-\n",
      "                                      s-ploomber/                 location.sq\n",
      "                                      etl/output/                 l\n",
      "                                      upvotes-\n",
      "                                      dump.csv\n",
      "plot-        Has not     Source code  {'nb': File                 plot/upvote\n",
      "upvotes      been run    & Upstream   (/Users/Edu                 s.R\n",
      "                                      /dev/projec\n",
      "                                      ts-ploomber\n",
      "                                      /etl/output\n",
      "                                      /plot-upvot\n",
      "                                      es.html)}\n",
      "upload-      Has not     Source code  comments                    None\n",
      "comments     been run    & Upstream\n",
      "comments-    Has not     Source code  comments_by                 sql/comment\n",
      "by-post      been run    & Upstream   _post                       s-by-\n",
      "                                                                  post.sql\n",
      "comments-    Has not     Source code  /Users/Edu/                 sql/select-\n",
      "dump         been run    & Upstream   dev/project                 comments-\n",
      "                                      s-ploomber/                 by-post.sql\n",
      "                                      etl/output/\n",
      "                                      comments-\n",
      "                                      dump.csv\n",
      "comments-    Has not     Source code  {'nb': File                 plot/commen\n",
      "plot         been run    & Upstream   (/Users/Edu                 ts.py\n",
      "                                      /dev/projec\n",
      "                                      ts-ploomber\n",
      "                                      /etl/output\n",
      "                                      /comments-\n",
      "                                      plot.html)}\n",
      "upload-      Has not     Source code  posts                       None\n",
      "posts        been run    & Upstream\n",
      "posts-by-    Has not     Source code  posts_by_le                 sql/posts-\n",
      "length       been run    & Upstream   ngth                        by-\n",
      "                                                                  length.sql\n",
      "posts-dump   Has not     Source code  /Users/Edu/                 sql/select-\n",
      "             been run    & Upstream   dev/project                 posts-by-\n",
      "                                      s-ploomber/                 length.sql\n",
      "                                      etl/output/\n",
      "                                      posts-\n",
      "                                      dump.csv\n",
      "posts-plot   Has not     Source code  {'nb': File                 plot/posts.\n",
      "             been run    & Upstream   (/Users/Edu                 py\n",
      "                                      /dev/projec\n",
      "                                      ts-ploomber\n",
      "                                      /etl/output\n",
      "                                      /posts-\n",
      "                                      plot.html)}\n"
     ]
    },
    {
     "name": "stderr",
     "output_type": "stream",
     "text": [
      "100%|██████████| 14/14 [00:00<00:00, 4794.66it/s]\n",
      "/Users/Edu/miniconda3/envs/projects/lib/python3.7/site-packages/ploomber/dag/DAG.py:339: UserWarning: Some tasks had warnings when rendering DAG \"No name\":\n",
      "* upload-users\n",
      "The following upstream dependencies in task \"upload-users\" were not used {'convert2csv'}\n",
      "\n",
      "--------------------------------------------------------------------------------\n",
      "--------------------------------------------------------------------------------\n",
      "\n",
      "* upload-comments\n",
      "The following upstream dependencies in task \"upload-comments\" were not used {'convert2csv'}\n",
      "\n",
      "--------------------------------------------------------------------------------\n",
      "--------------------------------------------------------------------------------\n",
      "\n",
      "* upload-posts\n",
      "The following upstream dependencies in task \"upload-posts\" were not used {'convert2csv'}\n",
      "  '\"{}\":\\n{}'.format(self.name, str(warnings_)))\n"
     ]
    }
   ],
   "source": [
    "%%sh\n",
    "ploomber status"
   ]
  },
  {
   "cell_type": "markdown",
   "metadata": {
    "papermill": {
     "duration": 0.005702,
     "end_time": "2020-12-30T20:19:54.093814",
     "exception": false,
     "start_time": "2020-12-30T20:19:54.088112",
     "status": "completed"
    },
    "tags": []
   },
   "source": [
    "## Executing the pipeline from the command line (shell)"
   ]
  },
  {
   "cell_type": "code",
   "execution_count": 2,
   "metadata": {
    "execution": {
     "iopub.execute_input": "2020-12-30T20:19:54.111360Z",
     "iopub.status.busy": "2020-12-30T20:19:54.110696Z",
     "iopub.status.idle": "2020-12-30T20:24:15.435559Z",
     "shell.execute_reply": "2020-12-30T20:24:15.434962Z"
    },
    "papermill": {
     "duration": 261.336143,
     "end_time": "2020-12-30T20:24:15.435820",
     "exception": false,
     "start_time": "2020-12-30T20:19:54.099677",
     "status": "completed"
    },
    "tags": [
     "bash"
    ]
   },
   "outputs": [
    {
     "name": "stdout",
     "output_type": "stream",
     "text": [
      "name                 Ran?      Elapsed (s)    Percentage\n",
      "-------------------  ------  -------------  ------------\n",
      "download             True       220.984      85.3825\n",
      "convert2csv          True        18.2922      7.06764\n",
      "upload-users         True         2.71729     1.04989\n",
      "upvotes-by-location  True         0.043437    0.016783\n",
      "upvotes-dump         True         0.00493     0.00190483\n",
      "plot-upvotes         True         2.98674     1.154\n",
      "upload-comments      True         2.42651     0.937544\n",
      "comments-by-post     True         0.061765    0.0238645\n",
      "comments-dump        True         0.04627     0.0178776\n",
      "comments-plot        True         3.91679     1.51335\n",
      "upload-posts         True         3.39326     1.31107\n",
      "posts-by-length      True         0.803896    0.310605\n",
      "posts-dump           True         0.092051    0.0355662\n",
      "posts-plot           True         3.04722     1.17737\n"
     ]
    },
    {
     "name": "stderr",
     "output_type": "stream",
     "text": [
      "100%|██████████| 14/14 [00:00<00:00, 4884.81it/s]\n",
      "/Users/Edu/miniconda3/envs/projects/lib/python3.7/site-packages/ploomber/dag/DAG.py:339: UserWarning: Some tasks had warnings when rendering DAG \"No name\":\n",
      "* upload-users\n",
      "The following upstream dependencies in task \"upload-users\" were not used {'convert2csv'}\n",
      "\n",
      "--------------------------------------------------------------------------------\n",
      "--------------------------------------------------------------------------------\n",
      "\n",
      "* upload-comments\n",
      "The following upstream dependencies in task \"upload-comments\" were not used {'convert2csv'}\n",
      "\n",
      "--------------------------------------------------------------------------------\n",
      "--------------------------------------------------------------------------------\n",
      "\n",
      "* upload-posts\n",
      "The following upstream dependencies in task \"upload-posts\" were not used {'convert2csv'}\n",
      "  '\"{}\":\\n{}'.format(self.name, str(warnings_)))\n",
      "Building task \"download\":   0%|          | 0/14 [00:00<?, ?it/s]\n",
      "Executing:   0%|          | 0/5 [00:00<?, ?cell/s]\u001b[A\n",
      "Executing:  20%|██        | 1/5 [00:00<00:03,  1.03cell/s]\u001b[A\n",
      "Executing: 100%|██████████| 5/5 [03:40<00:00, 44.19s/cell]\n",
      "Building task \"convert2csv\":   7%|▋         | 1/14 [03:40<47:52, 220.99s/it]\n",
      "Executing:   0%|          | 0/5 [00:00<?, ?cell/s]\u001b[A\n",
      "Executing:  20%|██        | 1/5 [00:00<00:03,  1.17cell/s]\u001b[A\n",
      "Executing: 100%|██████████| 5/5 [00:18<00:00,  3.65s/cell]\n",
      "Building task \"plot-upvotes\":  21%|██▏       | 3/14 [04:02<20:42, 112.94s/it]\n",
      "Executing:   0%|          | 0/5 [00:00<?, ?cell/s]\u001b[A\n",
      "Executing:  20%|██        | 1/5 [00:01<00:06,  1.50s/cell]\u001b[AError in (function (x)  : attempt to apply non-function\n",
      "\n",
      "Executing:  40%|████      | 2/5 [00:01<00:03,  1.09s/cell]\u001b[A\n",
      "Executing:  60%|██████    | 3/5 [00:01<00:01,  1.23cell/s]\u001b[A\n",
      "Executing: 100%|██████████| 5/5 [00:02<00:00,  1.79cell/s]\n",
      "Building task \"comments-plot\":  64%|██████▍   | 9/14 [04:07<03:17, 39.42s/it]\n",
      "Executing:   0%|          | 0/5 [00:00<?, ?cell/s]\u001b[A\n",
      "Executing:  20%|██        | 1/5 [00:02<00:11,  2.87s/cell]\u001b[A\n",
      "Executing: 100%|██████████| 5/5 [00:03<00:00,  1.36cell/s]\n",
      "Building task \"posts-plot\":  86%|████████▌ | 12/14 [04:15<00:30, 15.05s/it]\n",
      "Executing:   0%|          | 0/7 [00:00<?, ?cell/s]\u001b[A\n",
      "Executing:  14%|█▍        | 1/7 [00:01<00:11,  1.88s/cell]\u001b[A\n",
      "Executing: 100%|██████████| 7/7 [00:02<00:00,  2.48cell/s]\n",
      "Building task \"posts-plot\": 100%|██████████| 14/14 [04:18<00:00, 18.49s/it]\n"
     ]
    }
   ],
   "source": [
    "%%sh\n",
    "ploomber build"
   ]
  },
  {
   "cell_type": "markdown",
   "metadata": {
    "papermill": {
     "duration": 0.016845,
     "end_time": "2020-12-30T20:24:15.474713",
     "exception": false,
     "start_time": "2020-12-30T20:24:15.457868",
     "status": "completed"
    },
    "tags": []
   },
   "source": [
    "Output is generated in the ``output/`` directory."
   ]
  }
 ],
 "metadata": {
  "jupytext": {
   "cell_metadata_filter": "tags,-all",
   "main_language": "bash",
   "notebook_metadata_filter": "-all"
  },
  "kernelspec": {
   "display_name": "Python 3",
   "language": "python",
   "name": "python3"
  },
  "language_info": {
   "codemirror_mode": {
    "name": "ipython",
    "version": 3
   },
   "file_extension": ".py",
   "mimetype": "text/x-python",
   "name": "python",
   "nbconvert_exporter": "python",
   "pygments_lexer": "ipython3",
   "version": "3.7.8"
  },
  "papermill": {
   "default_parameters": {},
   "duration": 265.045781,
   "end_time": "2020-12-30T20:24:15.764081",
   "environment_variables": {},
   "exception": null,
   "input_path": "/var/folders/3h/_lvh_w_x5g30rrjzb_xnn2j80000gq/T/tmpqj0rl5xf.ipynb",
   "output_path": "etl/README.ipynb",
   "parameters": {
    "product": "etl/README.ipynb"
   },
   "start_time": "2020-12-30T20:19:50.718300",
   "version": "2.2.2"
  }
 },
 "nbformat": 4,
 "nbformat_minor": 4
}
