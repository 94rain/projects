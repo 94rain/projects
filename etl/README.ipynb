{
 "cells": [
  {
   "cell_type": "markdown",
   "metadata": {
    "papermill": {
     "duration": 0.006079,
     "end_time": "2020-12-09T22:34:14.793191",
     "exception": false,
     "start_time": "2020-12-09T22:34:14.787112",
     "status": "completed"
    },
    "tags": []
   },
   "source": [
    "\n",
    "*Note:* You can run this from your computer (Jupyter or terminal), or use one of the\n",
    "hosted options:\n",
    "[![binder-logo](https://mybinder.org/v2/gh/ploomber/binder-env/main?urlpath=git-pull%3Frepo%3Dhttps%253A%252F%252Fgithub.com%252Fploomber%252Fprojects%26urlpath%3Dlab%252Ftree%252Fprojects%252Fetl%252FREADME.ipynb%26branch%3Dmaster)\n",
    "[![deepnote-logo](https://deepnote.com/buttons/launch-in-deepnote-small.svg)](https://deepnote.com/launch?template=deepnote&url=https://github.com/ploomber/projects/blob/master/etl/README.ipynb)\n"
   ]
  },
  {
   "cell_type": "markdown",
   "metadata": {
    "papermill": {
     "duration": 0.007336,
     "end_time": "2020-12-09T22:34:14.806164",
     "exception": false,
     "start_time": "2020-12-09T22:34:14.798828",
     "status": "completed"
    },
    "tags": []
   },
   "source": [
    "# ETL example"
   ]
  },
  {
   "cell_type": "markdown",
   "metadata": {
    "papermill": {
     "duration": 0.005035,
     "end_time": "2020-12-09T22:34:14.816765",
     "exception": false,
     "start_time": "2020-12-09T22:34:14.811730",
     "status": "completed"
    },
    "tags": []
   },
   "source": [
    "This example shows a non-trivial pipeline that resembles a typical\n",
    "scenario when analyzing data. It helps demonstrate how\n",
    "[Ploomber](https://github.com/ploomber/ploomber) helps you\n",
    "develop data pipelines without worrying about plumbing code (managing\n",
    "database connections, orchestrating execution, etc.)\n",
    "\n",
    "Most notably, this project contains minimal configuration code (just a small\n",
    "`db.py` file to establish a connection with the database), the rest are scripts\n",
    "that perform the actual analysis. The `pipeline.yaml` files tells Ploomber how\n",
    "to run the pipeline and it allows everyone in the analysis team to understand\n",
    "how all parts stitch together.\n",
    "\n",
    "This pipeline uses a subset of the [Stack Exchange dataset](https://archive.org/details/stackexchange). It gets the data from the original source, converts it from XML to CSV, uploads it to a database, aggregates it, dumps it and generates a few plots. See the diagram below (generated using `ploomber plot`):\n",
    "\n",
    "![pipeline](pipeline.png)\n",
    "\n",
    "The ``pipeline.yaml`` file contains a few comments to understand what's going on at each step.\n",
    "\n",
    "This project also has non-trivial dependencies: a package to uncompress `.7z` files, a few Python packages, R and the R kernel for Jupyter. Everything is installed via a conda environment. See the `environment.yml` file for details.\n",
    "\n",
    "On each push, the pipeline is tested, ensuring it works at all times. See `.github/workflows/ci.yml` for details (`etl` job).\n",
    "\n",
    "## Setup\n",
    "\n",
    "(Note: Only required if you are running this example in your computer, not\n",
    "required if using Binder/Deepnote)\n",
    "\n",
    "~~~bash\n",
    "# make sure you are in the etl folder.\n",
    "conda env create --file environment.yml\n",
    "conda activate etl\n",
    "~~~"
   ]
  },
  {
   "cell_type": "markdown",
   "metadata": {
    "papermill": {
     "duration": 0.005136,
     "end_time": "2020-12-09T22:34:14.828343",
     "exception": false,
     "start_time": "2020-12-09T22:34:14.823207",
     "status": "completed"
    },
    "tags": []
   },
   "source": [
    "## Pipeline summary"
   ]
  },
  {
   "cell_type": "code",
   "execution_count": 1,
   "metadata": {
    "execution": {
     "iopub.execute_input": "2020-12-09T22:34:14.845209Z",
     "iopub.status.busy": "2020-12-09T22:34:14.843218Z",
     "iopub.status.idle": "2020-12-09T22:34:17.069012Z",
     "shell.execute_reply": "2020-12-09T22:34:17.069664Z"
    },
    "papermill": {
     "duration": 2.236775,
     "end_time": "2020-12-09T22:34:17.070082",
     "exception": false,
     "start_time": "2020-12-09T22:34:14.833307",
     "status": "completed"
    },
    "tags": [
     "bash"
    ]
   },
   "outputs": [
    {
     "name": "stdout",
     "output_type": "stream",
     "text": [
      "name         Last run    Outdated?    Product      Doc (short)    Location\n",
      "-----------  ----------  -----------  -----------  -------------  -----------\n",
      "download     Has not     Source code  {'nb': File                 preprocess/\n",
      "             been run                 (/Users/Edu                 download.py\n",
      "                                      /dev/projec\n",
      "                                      ts-ploomber\n",
      "                                      /etl/output\n",
      "                                      /download.i\n",
      "                                      pynb),\n",
      "                                      'zipped': F\n",
      "                                      ile(/Users/\n",
      "                                      Edu/dev/pro\n",
      "                                      jects-ploom\n",
      "                                      ber/etl/out\n",
      "                                      put/data.7z\n",
      "                                      ), 'extract\n",
      "                                      ed': File(/\n",
      "                                      Users/Edu/d\n",
      "                                      ev/projects\n",
      "                                      -ploomber/e\n",
      "                                      tl/output/e\n",
      "                                      xtracted)}\n",
      "convert2csv  Has not     Source code  {'nb': File                 preprocess/\n",
      "             been run    & Upstream   (/Users/Edu                 convert2csv\n",
      "                                      /dev/projec                 .py\n",
      "                                      ts-ploomber\n",
      "                                      /etl/output\n",
      "                                      /convert2cs\n",
      "                                      v.ipynb),\n",
      "                                      'data': Fil\n",
      "                                      e(/Users/Ed\n",
      "                                      u/dev/proje\n",
      "                                      cts-ploombe\n",
      "                                      r/etl/outpu\n",
      "                                      t/data)}\n",
      "upload-      Has not     Source code  users                       None\n",
      "users        been run    & Upstream\n",
      "upvotes-by-  Has not     Source code  upvotes_by_                 sql/upvotes\n",
      "location     been run    & Upstream   location                    -by-locatio\n",
      "                                                                  n.sql\n",
      "upvotes-     Has not     Source code  /Users/Edu/                 sql/select-\n",
      "dump         been run    & Upstream   dev/project                 upvotes-by-\n",
      "                                      s-ploomber/                 location.sq\n",
      "                                      etl/output/                 l\n",
      "                                      upvotes-\n",
      "                                      dump.csv\n",
      "plot-        Has not     Source code  {'nb': File                 plot/upvote\n",
      "upvotes      been run    & Upstream   (/Users/Edu                 s.R\n",
      "                                      /dev/projec\n",
      "                                      ts-ploomber\n",
      "                                      /etl/output\n",
      "                                      /plot-upvot\n",
      "                                      es.html)}\n",
      "upload-      Has not     Source code  comments                    None\n",
      "comments     been run    & Upstream\n",
      "comments-    Has not     Source code  comments_by                 sql/comment\n",
      "by-post      been run    & Upstream   _post                       s-by-\n",
      "                                                                  post.sql\n",
      "comments-    Has not     Source code  /Users/Edu/                 sql/select-\n",
      "dump         been run    & Upstream   dev/project                 comments-\n",
      "                                      s-ploomber/                 by-post.sql\n",
      "                                      etl/output/\n",
      "                                      comments-\n",
      "                                      dump.csv\n",
      "comments-    Has not     Source code  {'nb': File                 plot/commen\n",
      "plot         been run    & Upstream   (/Users/Edu                 ts.py\n",
      "                                      /dev/projec\n",
      "                                      ts-ploomber\n",
      "                                      /etl/output\n",
      "                                      /comments-\n",
      "                                      plot.html)}\n",
      "upload-      Has not     Source code  posts                       None\n",
      "posts        been run    & Upstream\n",
      "posts-by-    Has not     Source code  posts_by_le                 sql/posts-\n",
      "length       been run    & Upstream   ngth                        by-\n",
      "                                                                  length.sql\n",
      "posts-dump   Has not     Source code  /Users/Edu/                 sql/select-\n",
      "             been run    & Upstream   dev/project                 posts-by-\n",
      "                                      s-ploomber/                 length.sql\n",
      "                                      etl/output/\n",
      "                                      posts-\n",
      "                                      dump.csv\n",
      "posts-plot   Has not     Source code  {'nb': File                 plot/posts.\n",
      "             been run    & Upstream   (/Users/Edu                 py\n",
      "                                      /dev/projec\n",
      "                                      ts-ploomber\n",
      "                                      /etl/output\n",
      "                                      /posts-\n",
      "                                      plot.html)}\n"
     ]
    },
    {
     "name": "stderr",
     "output_type": "stream",
     "text": [
      "100%|██████████| 14/14 [00:00<00:00, 5102.12it/s]\n",
      "/Users/Edu/miniconda3/envs/projects/lib/python3.7/site-packages/ploomber/dag/DAG.py:339: UserWarning: Some tasks had warnings when rendering DAG \"No name\":\n",
      "* upload-users\n",
      "The following upstream dependencies in task \"upload-users\" were not used {'convert2csv'}\n",
      "\n",
      "--------------------------------------------------------------------------------\n",
      "--------------------------------------------------------------------------------\n",
      "\n",
      "* upload-comments\n",
      "The following upstream dependencies in task \"upload-comments\" were not used {'convert2csv'}\n",
      "\n",
      "--------------------------------------------------------------------------------\n",
      "--------------------------------------------------------------------------------\n",
      "\n",
      "* upload-posts\n",
      "The following upstream dependencies in task \"upload-posts\" were not used {'convert2csv'}\n",
      "  '\"{}\":\\n{}'.format(self.name, str(warnings_)))\n"
     ]
    }
   ],
   "source": [
    "%%sh\n",
    "ploomber status"
   ]
  },
  {
   "cell_type": "markdown",
   "metadata": {
    "papermill": {
     "duration": 0.005875,
     "end_time": "2020-12-09T22:34:17.083479",
     "exception": false,
     "start_time": "2020-12-09T22:34:17.077604",
     "status": "completed"
    },
    "tags": []
   },
   "source": [
    "## Executing the pipeline from the command line (shell)"
   ]
  },
  {
   "cell_type": "code",
   "execution_count": 2,
   "metadata": {
    "execution": {
     "iopub.execute_input": "2020-12-09T22:34:17.101234Z",
     "iopub.status.busy": "2020-12-09T22:34:17.100402Z",
     "iopub.status.idle": "2020-12-09T22:36:32.540390Z",
     "shell.execute_reply": "2020-12-09T22:36:32.539427Z"
    },
    "papermill": {
     "duration": 135.450545,
     "end_time": "2020-12-09T22:36:32.540710",
     "exception": false,
     "start_time": "2020-12-09T22:34:17.090165",
     "status": "completed"
    },
    "tags": [
     "bash"
    ]
   },
   "outputs": [
    {
     "name": "stdout",
     "output_type": "stream",
     "text": [
      "name                 Ran?      Elapsed (s)    Percentage\n",
      "-------------------  ------  -------------  ------------\n",
      "download             True        92.2551     69.2838\n",
      "convert2csv          True        19.0521     14.3082\n",
      "upload-users         True         2.72071     2.04326\n",
      "upvotes-by-location  True         0.045534    0.0341962\n",
      "upvotes-dump         True         0.004808    0.00361082\n",
      "plot-upvotes         True         4.58412     3.44269\n",
      "upload-comments      True         2.28589     1.71671\n",
      "comments-by-post     True         0.064187    0.0482046\n",
      "comments-dump        True         0.046864    0.035195\n",
      "comments-plot        True         4.14476     3.11272\n",
      "upload-posts         True         3.13593     2.35509\n",
      "posts-by-length      True         0.595698    0.447371\n",
      "posts-dump           True         0.08406     0.0631293\n",
      "posts-plot           True         4.1356      3.10585\n"
     ]
    },
    {
     "name": "stderr",
     "output_type": "stream",
     "text": [
      "100%|██████████| 14/14 [00:00<00:00, 4629.47it/s]\n",
      "/Users/Edu/miniconda3/envs/projects/lib/python3.7/site-packages/ploomber/dag/DAG.py:339: UserWarning: Some tasks had warnings when rendering DAG \"No name\":\n",
      "* upload-users\n",
      "The following upstream dependencies in task \"upload-users\" were not used {'convert2csv'}\n",
      "\n",
      "--------------------------------------------------------------------------------\n",
      "--------------------------------------------------------------------------------\n",
      "\n",
      "* upload-comments\n",
      "The following upstream dependencies in task \"upload-comments\" were not used {'convert2csv'}\n",
      "\n",
      "--------------------------------------------------------------------------------\n",
      "--------------------------------------------------------------------------------\n",
      "\n",
      "* upload-posts\n",
      "The following upstream dependencies in task \"upload-posts\" were not used {'convert2csv'}\n",
      "  '\"{}\":\\n{}'.format(self.name, str(warnings_)))\n",
      "Building task \"download\":   0%|          | 0/14 [00:00<?, ?it/s]\n",
      "Executing:   0%|          | 0/5 [00:00<?, ?cell/s]\u001b[A\n",
      "Executing:  20%|██        | 1/5 [00:00<00:03,  1.04cell/s]\u001b[A\n",
      "Executing: 100%|██████████| 5/5 [01:32<00:00, 18.45s/cell]\n",
      "Building task \"convert2csv\":   7%|▋         | 1/14 [01:32<19:59, 92.26s/it]\n",
      "Executing:   0%|          | 0/5 [00:00<?, ?cell/s]\u001b[A\n",
      "Executing:  20%|██        | 1/5 [00:01<00:04,  1.20s/cell]\u001b[A\n",
      "Executing: 100%|██████████| 5/5 [00:19<00:00,  3.81s/cell]\n",
      "Building task \"plot-upvotes\":  21%|██▏       | 3/14 [01:54<09:10, 50.03s/it]\n",
      "Executing:   0%|          | 0/5 [00:00<?, ?cell/s]\u001b[A\n",
      "Executing:  20%|██        | 1/5 [00:02<00:11,  2.96s/cell]\u001b[AError in (function (x)  : attempt to apply non-function\n",
      "\n",
      "Executing:  40%|████      | 2/5 [00:03<00:06,  2.12s/cell]\u001b[A\n",
      "Executing:  60%|██████    | 3/5 [00:03<00:03,  1.57s/cell]\u001b[A\n",
      "Executing: 100%|██████████| 5/5 [00:04<00:00,  1.14cell/s]\n",
      "Building task \"comments-plot\":  64%|██████▍   | 9/14 [02:01<01:29, 17.89s/it]\n",
      "Executing:   0%|          | 0/5 [00:00<?, ?cell/s]\u001b[A\n",
      "Executing:  20%|██        | 1/5 [00:03<00:12,  3.06s/cell]\u001b[A\n",
      "Executing: 100%|██████████| 5/5 [00:03<00:00,  1.29cell/s]\n",
      "Building task \"posts-plot\":  86%|████████▌ | 12/14 [02:09<00:15,  7.58s/it]\n",
      "Executing:   0%|          | 0/7 [00:00<?, ?cell/s]\u001b[A\n",
      "Executing:  14%|█▍        | 1/7 [00:03<00:18,  3.01s/cell]\u001b[A\n",
      "Executing: 100%|██████████| 7/7 [00:03<00:00,  1.78cell/s]\n",
      "Building task \"posts-plot\": 100%|██████████| 14/14 [02:13<00:00,  9.52s/it]\n"
     ]
    }
   ],
   "source": [
    "%%sh\n",
    "ploomber build"
   ]
  },
  {
   "cell_type": "markdown",
   "metadata": {
    "papermill": {
     "duration": 0.007639,
     "end_time": "2020-12-09T22:36:32.557318",
     "exception": false,
     "start_time": "2020-12-09T22:36:32.549679",
     "status": "completed"
    },
    "tags": []
   },
   "source": [
    "Output is generated in the ``output/`` directory."
   ]
  }
 ],
 "metadata": {
  "jupytext": {
   "cell_metadata_filter": "tags,-all",
   "main_language": "bash",
   "notebook_metadata_filter": "-all"
  },
  "kernelspec": {
   "display_name": "Python 3",
   "language": "python",
   "name": "python3"
  },
  "language_info": {
   "codemirror_mode": {
    "name": "ipython",
    "version": 3
   },
   "file_extension": ".py",
   "mimetype": "text/x-python",
   "name": "python",
   "nbconvert_exporter": "python",
   "pygments_lexer": "ipython3",
   "version": "3.7.8"
  },
  "papermill": {
   "default_parameters": {},
   "duration": 139.00172,
   "end_time": "2020-12-09T22:36:32.820503",
   "environment_variables": {},
   "exception": null,
   "input_path": "/var/folders/3h/_lvh_w_x5g30rrjzb_xnn2j80000gq/T/tmpltbp8ryl.ipynb",
   "output_path": "etl/README.ipynb",
   "parameters": {
    "product": "etl/README.ipynb"
   },
   "start_time": "2020-12-09T22:34:13.818783",
   "version": "2.2.2"
  }
 },
 "nbformat": 4,
 "nbformat_minor": 4
}
