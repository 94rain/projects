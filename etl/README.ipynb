{
 "cells": [
  {
   "cell_type": "markdown",
   "id": "cd35af64",
   "metadata": {
    "papermill": {
     "duration": 0.00565,
     "end_time": "2021-09-19T22:34:26.222022",
     "exception": false,
     "start_time": "2021-09-19T22:34:26.216372",
     "status": "completed"
    },
    "tags": []
   },
   "source": [
    "\n",
    "*Note:* You can run this from your computer (Jupyter or terminal), or using Binder (does not require any installation, takes a few minutes to be ready)\n",
    "\n",
    "[![binder-logo](https://mybinder.org/badge_logo.svg)](https://mybinder.org/v2/gh/ploomber/binder-env/main?urlpath=git-pull%3Frepo%3Dhttps%253A%252F%252Fgithub.com%252Fploomber%252Fprojects%26urlpath%3Dlab%252Ftree%252Fprojects%252Fetl%252FREADME.ipynb%26branch%3Dmaster)\n"
   ]
  },
  {
   "cell_type": "markdown",
   "id": "317d96fb",
   "metadata": {
    "papermill": {
     "duration": 0.004417,
     "end_time": "2021-09-19T22:34:26.230940",
     "exception": false,
     "start_time": "2021-09-19T22:34:26.226523",
     "status": "completed"
    },
    "tags": []
   },
   "source": [
    "# ETL SQL pipeline\n",
    "\n",
    "SQL pipeline that downloads data, uploads to a database, process it, and plots using Python/R\n",
    "\n",
    "## Data\n",
    "\n",
    "Subset of the [Stack Exchange dataset](https://archive.org/details/stackexchange).\n",
    "It gets the data from the original source, converts it from XML to CSV, uploads it to a database, aggregates it, dumps it and generates a few plots. See the diagram below (generated using `ploomber plot`):\n",
    "\n",
    "![pipeline](pipeline.png)\n",
    "\n",
    "The ``pipeline.yaml`` file contains a few comments to understand what's going on at each step.\n",
    "\n",
    "## Setup\n",
    "\n",
    "(**Note**: Skip if running in Binder)\n",
    "\n",
    "~~~bash\n",
    "# make sure you are in the etl folder.\n",
    "conda env create --file environment.yml\n",
    "conda activate etl\n",
    "\n",
    "# or use pip directly\n",
    "pip install -r requirements.txt\n",
    "~~~\n",
    "\n",
    "**Note:** This pipeline requires the `p7zip` package. It is installed if using\n",
    "`conda`. If using `pip`, you must install it manually."
   ]
  },
  {
   "cell_type": "markdown",
   "id": "b5add7aa",
   "metadata": {
    "papermill": {
     "duration": 0.004823,
     "end_time": "2021-09-19T22:34:26.240117",
     "exception": false,
     "start_time": "2021-09-19T22:34:26.235294",
     "status": "completed"
    },
    "tags": []
   },
   "source": [
    "## Build"
   ]
  },
  {
   "cell_type": "code",
   "execution_count": 1,
   "id": "7c68d494",
   "metadata": {
    "execution": {
     "iopub.execute_input": "2021-09-19T22:34:26.258726Z",
     "iopub.status.busy": "2021-09-19T22:34:26.257560Z",
     "iopub.status.idle": "2021-09-19T22:34:28.885241Z",
     "shell.execute_reply": "2021-09-19T22:34:28.885830Z"
    },
    "papermill": {
     "duration": 2.641595,
     "end_time": "2021-09-19T22:34:28.886152",
     "exception": false,
     "start_time": "2021-09-19T22:34:26.244557",
     "status": "completed"
    },
    "tags": [
     "bash"
    ]
   },
   "outputs": [
    {
     "name": "stdout",
     "output_type": "stream",
     "text": [
      "name                 Ran?      Elapsed (s)    Percentage\n",
      "-------------------  ------  -------------  ------------\n",
      "download             False               0             0\n",
      "convert2csv          False               0             0\n",
      "upload-users         False               0             0\n",
      "upload-comments      False               0             0\n",
      "upload-posts         False               0             0\n",
      "upvotes-by-location  False               0             0\n",
      "comments-by-post     False               0             0\n",
      "posts-by-length      False               0             0\n",
      "upvotes-dump         False               0             0\n",
      "comments-dump        False               0             0\n",
      "posts-dump           False               0             0\n",
      "plot-upvotes         False               0             0\n",
      "comments-plot        False               0             0\n",
      "posts-plot           False               0             0\n"
     ]
    },
    {
     "name": "stderr",
     "output_type": "stream",
     "text": [
      "/Users/Edu/miniconda3/envs/projects/lib/python3.7/site-packages/ploomber/dag/dag.py:386: UserWarning: \n",
      "=========================== DAG render with warnings ===========================\n",
      "-------- SQLUpload: upload-users -> SQLiteRelation(('users', 'table')) ---------\n",
      "The following upstream dependencies in task \"upload-users\" were not used {'convert2csv'}\n",
      "----- SQLUpload: upload-comments -> SQLiteRelation(('comments', 'table')) ------\n",
      "The following upstream dependencies in task \"upload-comments\" were not used {'convert2csv'}\n",
      "-------- SQLUpload: upload-posts -> SQLiteRelation(('posts', 'table')) ---------\n",
      "The following upstream dependencies in task \"upload-posts\" were not used {'convert2csv'}\n",
      "============================== Summary (3 tasks) ===============================\n",
      "SQLUpload: upload-users -> SQLiteRelation(('users', 'table'))\n",
      "SQLUpload: upload-comments -> SQLiteRelation(('comments', 'table'))\n",
      "SQLUpload: upload-posts -> SQLiteRelation(('posts', 'table'))\n",
      "=========================== DAG render with warnings ===========================\n",
      "\n",
      "  warnings.warn(str(warnings_))\n",
      "0it [00:00, ?it/s]\n"
     ]
    }
   ],
   "source": [
    "%%sh\n",
    "ploomber build"
   ]
  },
  {
   "cell_type": "markdown",
   "id": "a34d768f",
   "metadata": {
    "papermill": {
     "duration": 0.004863,
     "end_time": "2021-09-19T22:34:28.896400",
     "exception": false,
     "start_time": "2021-09-19T22:34:28.891537",
     "status": "completed"
    },
    "tags": []
   },
   "source": [
    "Output stored in the ``output/`` directory."
   ]
  }
 ],
 "metadata": {
  "jupytext": {
   "cell_metadata_filter": "tags,-all",
   "main_language": "bash",
   "notebook_metadata_filter": "-all"
  },
  "kernelspec": {
   "display_name": "Python 3 (ipykernel)",
   "language": "python",
   "name": "python3"
  },
  "language_info": {
   "codemirror_mode": {
    "name": "ipython",
    "version": 3
   },
   "file_extension": ".py",
   "mimetype": "text/x-python",
   "name": "python",
   "nbconvert_exporter": "python",
   "pygments_lexer": "ipython3",
   "version": "3.7.10"
  },
  "papermill": {
   "duration": 3.896602,
   "end_time": "2021-09-19T22:34:29.037276",
   "exception": null,
   "input_path": "/var/folders/3h/_lvh_w_x5g30rrjzb_xnn2j80000gq/T/tmpi5i8fym_.ipynb",
   "output_path": "etl/README.ipynb",
   "parameters": {
    "product": "etl/README.ipynb"
   },
   "start_time": "2021-09-19T22:34:25.140674"
  }
 },
 "nbformat": 4,
 "nbformat_minor": 5
}
