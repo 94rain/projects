{
 "cells": [
  {
   "cell_type": "markdown",
   "id": "eb64a3e2",
   "metadata": {
    "papermill": {
     "duration": 0.005977,
     "end_time": "2021-09-19T22:22:05.129598",
     "exception": false,
     "start_time": "2021-09-19T22:22:05.123621",
     "status": "completed"
    },
    "tags": []
   },
   "source": [
    "\n",
    "*Note:* You can run this from your computer (Jupyter or terminal), or using Binder (does not require any installation, takes a few minutes to be ready)\n",
    "\n",
    "[![binder-logo](https://mybinder.org/badge_logo.svg)](https://mybinder.org/v2/gh/ploomber/binder-env/main?urlpath=git-pull%3Frepo%3Dhttps%253A%252F%252Fgithub.com%252Fploomber%252Fprojects%26urlpath%3Dlab%252Ftree%252Fprojects%252Fetl%252FREADME.ipynb%26branch%3Dmaster)\n"
   ]
  },
  {
   "cell_type": "markdown",
   "id": "06bcd689",
   "metadata": {
    "papermill": {
     "duration": 0.004986,
     "end_time": "2021-09-19T22:22:05.139714",
     "exception": false,
     "start_time": "2021-09-19T22:22:05.134728",
     "status": "completed"
    },
    "tags": []
   },
   "source": [
    "# ETL SQL pipeline\n",
    "\n",
    "SQL pipeline that downloads data, uploads to a database, process it, and plots using Python/R\n",
    "\n",
    "## Data\n",
    "\n",
    "Subset of the [Stack Exchange dataset](https://archive.org/details/stackexchange).\n",
    "It gets the data from the original source, converts it from XML to CSV, uploads it to a database, aggregates it, dumps it and generates a few plots. See the diagram below (generated using `ploomber plot`):\n",
    "\n",
    "![pipeline](pipeline.png)\n",
    "\n",
    "The ``pipeline.yaml`` file contains a few comments to understand what's going on at each step.\n",
    "\n",
    "## Setup\n",
    "\n",
    "(**Note**: Skip if running in Binder)\n",
    "\n",
    "~~~bash\n",
    "# make sure you are in the etl folder.\n",
    "conda env create --file environment.yml\n",
    "conda activate etl\n",
    "\n",
    "# or use pip directly\n",
    "pip install -r requirements.txt\n",
    "~~~\n",
    "\n",
    "**Note:** This pipeline requires the `p7zip` package. It is installed if using\n",
    "`conda`. If using `pip`, you must install it manually."
   ]
  },
  {
   "cell_type": "markdown",
   "id": "9e72a7ca",
   "metadata": {
    "papermill": {
     "duration": 0.003764,
     "end_time": "2021-09-19T22:22:05.148098",
     "exception": false,
     "start_time": "2021-09-19T22:22:05.144334",
     "status": "completed"
    },
    "tags": []
   },
   "source": [
    "## Build"
   ]
  },
  {
   "cell_type": "code",
   "execution_count": 1,
   "id": "f329d306",
   "metadata": {
    "execution": {
     "iopub.execute_input": "2021-09-19T22:22:05.165863Z",
     "iopub.status.busy": "2021-09-19T22:22:05.165194Z",
     "iopub.status.idle": "2021-09-19T22:22:08.384903Z",
     "shell.execute_reply": "2021-09-19T22:22:08.385636Z"
    },
    "papermill": {
     "duration": 3.233739,
     "end_time": "2021-09-19T22:22:08.385965",
     "exception": false,
     "start_time": "2021-09-19T22:22:05.152226",
     "status": "completed"
    },
    "tags": [
     "bash"
    ]
   },
   "outputs": [
    {
     "name": "stdout",
     "output_type": "stream",
     "text": [
      "name                 Ran?      Elapsed (s)    Percentage\n",
      "-------------------  ------  -------------  ------------\n",
      "download             False               0             0\n",
      "convert2csv          False               0             0\n",
      "upload-users         False               0             0\n",
      "upload-comments      False               0             0\n",
      "upload-posts         False               0             0\n",
      "upvotes-by-location  False               0             0\n",
      "comments-by-post     False               0             0\n",
      "posts-by-length      False               0             0\n",
      "upvotes-dump         False               0             0\n",
      "comments-dump        False               0             0\n",
      "posts-dump           False               0             0\n",
      "plot-upvotes         False               0             0\n",
      "comments-plot        False               0             0\n",
      "posts-plot           False               0             0\n"
     ]
    },
    {
     "name": "stderr",
     "output_type": "stream",
     "text": [
      "/Users/Edu/miniconda3/envs/projects/lib/python3.7/site-packages/ploomber/dag/dag.py:386: UserWarning: \n",
      "=========================== DAG render with warnings ===========================\n",
      "-------- SQLUpload: upload-users -> SQLiteRelation(('users', 'table')) ---------\n",
      "The following upstream dependencies in task \"upload-users\" were not used {'convert2csv'}\n",
      "----- SQLUpload: upload-comments -> SQLiteRelation(('comments', 'table')) ------\n",
      "The following upstream dependencies in task \"upload-comments\" were not used {'convert2csv'}\n",
      "-------- SQLUpload: upload-posts -> SQLiteRelation(('posts', 'table')) ---------\n",
      "The following upstream dependencies in task \"upload-posts\" were not used {'convert2csv'}\n",
      "============================== Summary (3 tasks) ===============================\n",
      "SQLUpload: upload-users -> SQLiteRelation(('users', 'table'))\n",
      "SQLUpload: upload-comments -> SQLiteRelation(('comments', 'table'))\n",
      "SQLUpload: upload-posts -> SQLiteRelation(('posts', 'table'))\n",
      "=========================== DAG render with warnings ===========================\n",
      "\n",
      "  warnings.warn(str(warnings_))\n",
      "0it [00:00, ?it/s]\n"
     ]
    }
   ],
   "source": [
    "%%sh\n",
    "ploomber build"
   ]
  },
  {
   "cell_type": "markdown",
   "id": "92c2f664",
   "metadata": {
    "papermill": {
     "duration": 0.007119,
     "end_time": "2021-09-19T22:22:08.400860",
     "exception": false,
     "start_time": "2021-09-19T22:22:08.393741",
     "status": "completed"
    },
    "tags": []
   },
   "source": [
    "Output stored in the ``output/`` directory."
   ]
  }
 ],
 "metadata": {
  "jupytext": {
   "cell_metadata_filter": "tags,-all",
   "main_language": "bash",
   "notebook_metadata_filter": "-all"
  },
  "kernelspec": {
   "display_name": "Python 3 (ipykernel)",
   "language": "python",
   "name": "python3"
  },
  "language_info": {
   "codemirror_mode": {
    "name": "ipython",
    "version": 3
   },
   "file_extension": ".py",
   "mimetype": "text/x-python",
   "name": "python",
   "nbconvert_exporter": "python",
   "pygments_lexer": "ipython3",
   "version": "3.7.10"
  },
  "papermill": {
   "duration": 4.920714,
   "end_time": "2021-09-19T22:22:08.659466",
   "exception": null,
   "input_path": "/var/folders/3h/_lvh_w_x5g30rrjzb_xnn2j80000gq/T/tmppazmhpi6.ipynb",
   "output_path": "etl/README.ipynb",
   "parameters": {
    "product": "etl/README.ipynb"
   },
   "start_time": "2021-09-19T22:22:03.738752"
  }
 },
 "nbformat": 4,
 "nbformat_minor": 5
}
