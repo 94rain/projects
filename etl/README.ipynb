{
 "cells": [
  {
   "cell_type": "markdown",
   "id": "d11a6a04",
   "metadata": {
    "papermill": {
     "duration": 0.015568,
     "end_time": "2021-10-11T03:09:36.889392",
     "exception": false,
     "start_time": "2021-10-11T03:09:36.873824",
     "status": "completed"
    },
    "tags": []
   },
   "source": [
    "\n",
    "*Note:* You can run this example locally (`ploomber examples -n etl`) or in Binder (hosted JupyterLab ).\n",
    "\n",
    "[![binder-logo](https://mybinder.org/badge_logo.svg)](https://mybinder.org/v2/gh/ploomber/binder-env/main?urlpath=git-pull%3Frepo%3Dhttps%253A%252F%252Fgithub.com%252Fploomber%252Fprojects%26urlpath%3Dlab%252Ftree%252Fprojects%252Fetl%252FREADME.ipynb%26branch%3Dmaster)\n"
   ]
  },
  {
   "cell_type": "markdown",
   "id": "77c4a367",
   "metadata": {
    "papermill": {
     "duration": 0.014038,
     "end_time": "2021-10-11T03:09:36.917453",
     "exception": false,
     "start_time": "2021-10-11T03:09:36.903415",
     "status": "completed"
    },
    "tags": []
   },
   "source": [
    "# ETL SQL pipeline\n",
    "\n",
    "SQL pipeline that downloads data, uploads to a database, process it, and plots using Python/R\n",
    "\n",
    "## Data\n",
    "\n",
    "Subset of the [Stack Exchange dataset](https://archive.org/details/stackexchange).\n",
    "It gets the data from the original source, converts it from XML to CSV, uploads it to a database, aggregates it, dumps it and generates a few plots. See the diagram below (generated using `ploomber plot`):\n",
    "\n",
    "![pipeline](pipeline.png)\n",
    "\n",
    "The ``pipeline.yaml`` file contains a few comments to understand what's going on at each step.\n",
    "\n",
    "## Setup\n",
    "\n",
    "(**Note**: Skip if running in Binder)\n",
    "\n",
    "~~~bash\n",
    "# make sure you are in the etl folder.\n",
    "conda env create --file environment.yml\n",
    "conda activate etl\n",
    "\n",
    "# or use pip directly\n",
    "pip install -r requirements.txt\n",
    "~~~\n",
    "\n",
    "**Note:** This pipeline requires the `p7zip` package. It is installed if using\n",
    "`conda`. If using `pip`, you must install it manually."
   ]
  },
  {
   "cell_type": "markdown",
   "id": "088672cd",
   "metadata": {
    "papermill": {
     "duration": 0.013734,
     "end_time": "2021-10-11T03:09:36.946768",
     "exception": false,
     "start_time": "2021-10-11T03:09:36.933034",
     "status": "completed"
    },
    "tags": []
   },
   "source": [
    "## Build"
   ]
  },
  {
   "cell_type": "code",
   "execution_count": 1,
   "id": "c06628e3",
   "metadata": {
    "execution": {
     "iopub.execute_input": "2021-10-11T03:09:36.984167Z",
     "iopub.status.busy": "2021-10-11T03:09:36.983297Z",
     "iopub.status.idle": "2021-10-11T03:13:52.418973Z",
     "shell.execute_reply": "2021-10-11T03:13:52.418067Z"
    },
    "papermill": {
     "duration": 255.458996,
     "end_time": "2021-10-11T03:13:52.419395",
     "exception": false,
     "start_time": "2021-10-11T03:09:36.960399",
     "status": "completed"
    },
    "tags": [
     "bash"
    ]
   },
   "outputs": [
    {
     "name": "stdout",
     "output_type": "stream",
     "text": [
      "name                 Ran?      Elapsed (s)    Percentage\n",
      "-------------------  ------  -------------  ------------\n",
      "download             True       200.766       79.7649\n",
      "convert2csv          True        24.2691       9.64218\n",
      "upload-users         True         1.78479      0.709104\n",
      "upload-comments      True         2.63118      1.04538\n",
      "upload-posts         True         4.5442       1.80542\n",
      "upvotes-by-location  True         0.749215     0.297666\n",
      "comments-by-post     True         0.082718     0.0328641\n",
      "posts-by-length      True         1.98569      0.78892\n",
      "upvotes-dump         True         0.004411     0.0017525\n",
      "comments-dump        True         0.056078     0.02228\n",
      "posts-dump           True         0.101265     0.0402329\n",
      "plot-upvotes         True         5.5055       2.18735\n",
      "comments-plot        True         4.76415      1.89281\n",
      "posts-plot           True         4.45287      1.76914\n"
     ]
    },
    {
     "name": "stderr",
     "output_type": "stream",
     "text": [
      "/Users/Edu/miniconda3/envs/projects/lib/python3.9/site-packages/ploomber/dag/dag.py:390: UserWarning: \n",
      "=========================== DAG render with warnings ===========================\n",
      "-------- SQLUpload: upload-users -> SQLiteRelation(('users', 'table')) ---------\n",
      "The following upstream dependencies in task \"upload-users\" were not used {'convert2csv'}\n",
      "----- SQLUpload: upload-comments -> SQLiteRelation(('comments', 'table')) ------\n",
      "The following upstream dependencies in task \"upload-comments\" were not used {'convert2csv'}\n",
      "-------- SQLUpload: upload-posts -> SQLiteRelation(('posts', 'table')) ---------\n",
      "The following upstream dependencies in task \"upload-posts\" were not used {'convert2csv'}\n",
      "============================== Summary (3 tasks) ===============================\n",
      "SQLUpload: upload-users -> SQLiteRelation(('users', 'table'))\n",
      "SQLUpload: upload-comments -> SQLiteRelation(('comments', 'table'))\n",
      "SQLUpload: upload-posts -> SQLiteRelation(('posts', 'table'))\n",
      "=========================== DAG render with warnings ===========================\n",
      "\n",
      "  warnings.warn(str(warnings_))\n",
      "Building task 'download':   0%|          | 0/14 [00:00<?, ?it/s]\n",
      "Executing:   0%|          | 0/5 [00:00<?, ?cell/s]\u001b[A\n",
      "Executing:  20%|██        | 1/5 [00:01<00:05,  1.38s/cell]\u001b[A\n",
      "Executing:  80%|████████  | 4/5 [00:01<00:00,  3.37cell/s]\u001b[A\n",
      "Executing:  80%|████████  | 4/5 [00:19<00:00,  3.37cell/s]\u001b[A\n",
      "Executing: 100%|██████████| 5/5 [03:20<00:00, 40.14s/cell]\n",
      "Building task 'convert2csv':   7%|▋         | 1/14 [03:20<43:30, 200.77s/it]\n",
      "Executing:   0%|          | 0/5 [00:00<?, ?cell/s]\u001b[A\n",
      "Executing:  20%|██        | 1/5 [00:01<00:06,  1.72s/cell]\u001b[A\n",
      "Executing: 100%|██████████| 5/5 [00:24<00:00,  4.84s/cell]\n",
      "Building task 'plot-upvotes':  79%|███████▊  | 11/14 [03:57<00:12,  4.09s/it]\n",
      "Executing:   0%|          | 0/5 [00:00<?, ?cell/s]\u001b[A\n",
      "Executing:  20%|██        | 1/5 [00:03<00:12,  3.24s/cell]\u001b[A\n",
      "Executing:  40%|████      | 2/5 [00:03<00:04,  1.40s/cell]\u001b[A\n",
      "Executing:  60%|██████    | 3/5 [00:03<00:01,  1.24cell/s]\u001b[A\n",
      "Executing: 100%|██████████| 5/5 [00:05<00:00,  1.02s/cell]\n",
      "Building task 'comments-plot':  86%|████████▌ | 12/14 [04:02<00:08,  4.37s/it]\n",
      "Executing:   0%|          | 0/5 [00:00<?, ?cell/s]\u001b[A\n",
      "Executing:  20%|██        | 1/5 [00:03<00:13,  3.34s/cell]\u001b[A\n",
      "Executing: 100%|██████████| 5/5 [00:04<00:00,  1.18cell/s]\n",
      "Building task 'posts-plot':  93%|█████████▎| 13/14 [04:07<00:04,  4.45s/it]   \n",
      "Executing:   0%|          | 0/7 [00:00<?, ?cell/s]\u001b[A\n",
      "Executing:  14%|█▍        | 1/7 [00:02<00:17,  2.86s/cell]\u001b[A\n",
      "Executing:  57%|█████▋    | 4/7 [00:02<00:01,  1.74cell/s]\u001b[A\n",
      "Executing: 100%|██████████| 7/7 [00:03<00:00,  1.76cell/s]\n",
      "Building task 'posts-plot': 100%|██████████| 14/14 [04:11<00:00, 17.98s/it]\n"
     ]
    }
   ],
   "source": [
    "%%sh\n",
    "ploomber build"
   ]
  },
  {
   "cell_type": "markdown",
   "id": "8667db29",
   "metadata": {
    "papermill": {
     "duration": 0.022041,
     "end_time": "2021-10-11T03:13:52.463574",
     "exception": false,
     "start_time": "2021-10-11T03:13:52.441533",
     "status": "completed"
    },
    "tags": []
   },
   "source": [
    "Output stored in the ``output/`` directory."
   ]
  },
  {
   "cell_type": "code",
   "execution_count": null,
   "id": "e059ccda",
   "metadata": {
    "papermill": {
     "duration": 0.018542,
     "end_time": "2021-10-11T03:13:52.504568",
     "exception": false,
     "start_time": "2021-10-11T03:13:52.486026",
     "status": "completed"
    },
    "tags": [
     "parameters"
    ]
   },
   "outputs": [],
   "source": []
  },
  {
   "cell_type": "code",
   "execution_count": 2,
   "id": "cbd1f20a",
   "metadata": {
    "execution": {
     "iopub.execute_input": "2021-10-11T03:13:52.546451Z",
     "iopub.status.busy": "2021-10-11T03:13:52.545571Z",
     "iopub.status.idle": "2021-10-11T03:13:52.547642Z",
     "shell.execute_reply": "2021-10-11T03:13:52.548167Z"
    },
    "papermill": {
     "duration": 0.024898,
     "end_time": "2021-10-11T03:13:52.548382",
     "exception": false,
     "start_time": "2021-10-11T03:13:52.523484",
     "status": "completed"
    },
    "tags": [
     "injected-parameters"
    ]
   },
   "outputs": [],
   "source": [
    "# Parameters\n",
    "product = \"etl/README.ipynb\"\n"
   ]
  }
 ],
 "metadata": {
  "jupytext": {
   "cell_metadata_filter": "tags,-all",
   "main_language": "bash",
   "notebook_metadata_filter": "-all",
   "text_representation": {
    "extension": ".md",
    "format_name": "markdown"
   }
  },
  "kernelspec": {
   "display_name": "Python 3 (ipykernel)",
   "language": "python",
   "name": "python3"
  },
  "language_info": {
   "codemirror_mode": {
    "name": "ipython",
    "version": 3
   },
   "file_extension": ".py",
   "mimetype": "text/x-python",
   "name": "python",
   "nbconvert_exporter": "python",
   "pygments_lexer": "ipython3",
   "version": "3.9.7"
  },
  "papermill": {
   "duration": 257.034822,
   "end_time": "2021-10-11T03:13:52.781400",
   "exception": null,
   "input_path": "/var/folders/3h/_lvh_w_x5g30rrjzb_xnn2j80000gq/T/tmp9b8sldb9.ipynb",
   "output_path": "etl/README.ipynb",
   "parameters": {
    "product": "etl/README.ipynb"
   },
   "start_time": "2021-10-11T03:09:35.746578"
  }
 },
 "nbformat": 4,
 "nbformat_minor": 5
}
