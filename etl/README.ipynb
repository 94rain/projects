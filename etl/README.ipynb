{
 "cells": [
  {
   "cell_type": "markdown",
   "id": "equipped-graduate",
   "metadata": {
    "papermill": {
     "duration": 0.006536,
     "end_time": "2021-03-14T00:35:25.971922",
     "exception": false,
     "start_time": "2021-03-14T00:35:25.965386",
     "status": "completed"
    },
    "tags": []
   },
   "source": [
    "\n",
    "*Note:* You can run this from your computer (Jupyter or terminal), or use one of the\n",
    "hosted options:\n",
    "\n",
    "[![binder-logo](https://mybinder.org/badge_logo.svg)](https://mybinder.org/v2/gh/ploomber/binder-env/main?urlpath=git-pull%3Frepo%3Dhttps%253A%252F%252Fgithub.com%252Fploomber%252Fprojects%26urlpath%3Dlab%252Ftree%252Fprojects%252Fetl%252FREADME.ipynb%26branch%3Dmaster)\n",
    "\n",
    "[![deepnote-logo](https://deepnote.com/buttons/launch-in-deepnote-small.svg)](https://deepnote.com/launch?template=deepnote&url=https://github.com/ploomber/projects/blob/master/etl/README.ipynb)\n"
   ]
  },
  {
   "cell_type": "markdown",
   "id": "middle-alexander",
   "metadata": {
    "papermill": {
     "duration": 0.004711,
     "end_time": "2021-03-14T00:35:25.981744",
     "exception": false,
     "start_time": "2021-03-14T00:35:25.977033",
     "status": "completed"
    },
    "tags": []
   },
   "source": [
    "# ETL SQL pipeline\n",
    "\n",
    "SQL pipeline that downloads data, uploads to a database, process it, and plots using Python/R\n",
    "\n",
    "## Data\n",
    "\n",
    "Subset of the [Stack Exchange dataset](https://archive.org/details/stackexchange).\n",
    "It gets the data from the original source, converts it from XML to CSV, uploads it to a database, aggregates it, dumps it and generates a few plots. See the diagram below (generated using `ploomber plot`):\n",
    "\n",
    "![pipeline](pipeline.png)\n",
    "\n",
    "The ``pipeline.yaml`` file contains a few comments to understand what's going on at each step.\n",
    "\n",
    "## Setup\n",
    "\n",
    "(**Note**: Skip if running in binder or deepnote)\n",
    "\n",
    "~~~bash\n",
    "# make sure you are in the etl folder.\n",
    "conda env create --file environment.yml\n",
    "conda activate etl\n",
    "\n",
    "# or use pip directly\n",
    "pip install -r requirements.txt\n",
    "~~~\n",
    "\n",
    "**Note:** This pipeline requires the `p7zip` package. It is installed if using\n",
    "`conda`. If using `pip`, you must install it manually."
   ]
  },
  {
   "cell_type": "markdown",
   "id": "catholic-business",
   "metadata": {
    "papermill": {
     "duration": 0.00411,
     "end_time": "2021-03-14T00:35:25.990379",
     "exception": false,
     "start_time": "2021-03-14T00:35:25.986269",
     "status": "completed"
    },
    "tags": []
   },
   "source": [
    "## Build"
   ]
  },
  {
   "cell_type": "code",
   "execution_count": 1,
   "id": "balanced-pursuit",
   "metadata": {
    "execution": {
     "iopub.execute_input": "2021-03-14T00:35:26.009388Z",
     "iopub.status.busy": "2021-03-14T00:35:26.008712Z",
     "iopub.status.idle": "2021-03-14T00:39:31.870598Z",
     "shell.execute_reply": "2021-03-14T00:39:31.870004Z"
    },
    "papermill": {
     "duration": 245.876062,
     "end_time": "2021-03-14T00:39:31.870791",
     "exception": false,
     "start_time": "2021-03-14T00:35:25.994729",
     "status": "completed"
    },
    "tags": [
     "bash"
    ]
   },
   "outputs": [
    {
     "name": "stdout",
     "output_type": "stream",
     "text": [
      "name                 Ran?      Elapsed (s)    Percentage\n",
      "-------------------  ------  -------------  ------------\n",
      "download             True       194.152      79.7819\n",
      "convert2csv          True        16.8847      6.93837\n",
      "upload-users         True         2.05546     0.844642\n",
      "upvotes-by-location  True         0.041513    0.0170588\n",
      "upvotes-dump         True         0.005302    0.00217873\n",
      "plot-upvotes         True        10.1512      4.17137\n",
      "upload-comments      True         2.39307     0.983373\n",
      "comments-by-post     True         0.064276    0.0264127\n",
      "comments-dump        True         0.04453     0.0182985\n",
      "comments-plot        True        10.6625      4.38151\n",
      "upload-posts         True         3.23877     1.33089\n",
      "posts-by-length      True         0.527852    0.216908\n",
      "posts-dump           True         0.075959    0.0312135\n",
      "posts-plot           True         3.05611     1.25584\n"
     ]
    },
    {
     "name": "stderr",
     "output_type": "stream",
     "text": [
      "/Users/Edu/miniconda3/envs/projects/lib/python3.7/site-packages/ploomber/dag/DAG.py:348: UserWarning: \n",
      "=========================== DAG render with warnings ===========================\n",
      "-------- SQLUpload: upload-users -> SQLiteRelation(('users', 'table')) ---------\n",
      "The following upstream dependencies in task \"upload-users\" were not used {'convert2csv'}\n",
      "----- SQLUpload: upload-comments -> SQLiteRelation(('comments', 'table')) ------\n",
      "The following upstream dependencies in task \"upload-comments\" were not used {'convert2csv'}\n",
      "-------- SQLUpload: upload-posts -> SQLiteRelation(('posts', 'table')) ---------\n",
      "The following upstream dependencies in task \"upload-posts\" were not used {'convert2csv'}\n",
      "============================== Summary (3 tasks) ===============================\n",
      "SQLUpload: upload-users -> SQLiteRelation(('users', 'table'))\n",
      "SQLUpload: upload-comments -> SQLiteRelation(('comments', 'table'))\n",
      "SQLUpload: upload-posts -> SQLiteRelation(('posts', 'table'))\n",
      "=========================== DAG render with warnings ===========================\n",
      "\n",
      "  warnings.warn(str(warnings_))\n",
      "Building task \"download\":   0%|          | 0/14 [00:00<?, ?it/s]\n",
      "Executing:   0%|          | 0/5 [00:00<?, ?cell/s]\u001b[A\n",
      "Executing:  20%|██        | 1/5 [00:00<00:03,  1.05cell/s]\u001b[A\n",
      "Executing: 100%|██████████| 5/5 [03:14<00:00, 38.83s/cell]\n",
      "Building task \"convert2csv\":   7%|▋         | 1/14 [03:14<42:04, 194.16s/it]\n",
      "Executing:   0%|          | 0/5 [00:00<?, ?cell/s]\u001b[A\n",
      "Executing:  20%|██        | 1/5 [00:00<00:03,  1.07cell/s]\u001b[A\n",
      "Executing: 100%|██████████| 5/5 [00:16<00:00,  3.37s/cell]\n",
      "Building task \"plot-upvotes\":  21%|██▏       | 3/14 [03:33<09:07, 49.78s/it]\n",
      "Executing:   0%|          | 0/5 [00:00<?, ?cell/s]\u001b[A\n",
      "Executing:  20%|██        | 1/5 [00:08<00:34,  8.72s/cell]\u001b[A\n",
      "Executing:  60%|██████    | 3/5 [00:09<00:04,  2.37s/cell]\u001b[A\n",
      "Executing: 100%|██████████| 5/5 [00:09<00:00,  1.99s/cell]\n",
      "Building task \"comments-plot\":  64%|██████▍   | 9/14 [03:45<00:44,  8.98s/it]\n",
      "Executing:   0%|          | 0/5 [00:00<?, ?cell/s]\u001b[A\n",
      "Executing:  20%|██        | 1/5 [00:09<00:38,  9.68s/cell]\u001b[A\n",
      "Executing: 100%|██████████| 5/5 [00:10<00:00,  2.08s/cell]\n",
      "Building task \"posts-plot\":  86%|████████▌ | 12/14 [04:00<00:11,  5.98s/it]\n",
      "Executing:   0%|          | 0/7 [00:00<?, ?cell/s]\u001b[A\n",
      "Executing:  14%|█▍        | 1/7 [00:02<00:12,  2.02s/cell]\u001b[A\n",
      "Executing: 100%|██████████| 7/7 [00:02<00:00,  2.45cell/s]\n",
      "Building task \"posts-plot\": 100%|██████████| 14/14 [04:03<00:00, 17.39s/it]\n"
     ]
    }
   ],
   "source": [
    "%%sh\n",
    "ploomber build"
   ]
  },
  {
   "cell_type": "markdown",
   "id": "national-compiler",
   "metadata": {
    "papermill": {
     "duration": 0.006022,
     "end_time": "2021-03-14T00:39:31.882999",
     "exception": false,
     "start_time": "2021-03-14T00:39:31.876977",
     "status": "completed"
    },
    "tags": []
   },
   "source": [
    "Output stored in the ``output/`` directory."
   ]
  }
 ],
 "metadata": {
  "jupytext": {
   "cell_metadata_filter": "tags,-all",
   "main_language": "bash",
   "notebook_metadata_filter": "-all"
  },
  "kernelspec": {
   "display_name": "Python 3",
   "language": "python",
   "name": "python3"
  },
  "language_info": {
   "codemirror_mode": {
    "name": "ipython",
    "version": 3
   },
   "file_extension": ".py",
   "mimetype": "text/x-python",
   "name": "python",
   "nbconvert_exporter": "python",
   "pygments_lexer": "ipython3",
   "version": "3.7.10"
  },
  "papermill": {
   "duration": 247.092942,
   "end_time": "2021-03-14T00:39:32.132756",
   "exception": null,
   "input_path": "/var/folders/3h/_lvh_w_x5g30rrjzb_xnn2j80000gq/T/tmpqz623yvv.ipynb",
   "output_path": "etl/README.ipynb",
   "parameters": {
    "product": "etl/README.ipynb"
   },
   "start_time": "2021-03-14T00:35:25.039814"
  }
 },
 "nbformat": 4,
 "nbformat_minor": 5
}
