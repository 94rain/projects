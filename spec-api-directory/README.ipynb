{
 "cells": [
  {
   "cell_type": "markdown",
   "metadata": {
    "papermill": {
     "duration": 0.004807,
     "end_time": "2020-11-21T00:07:51.414522",
     "exception": false,
     "start_time": "2020-11-21T00:07:51.409715",
     "status": "completed"
    },
    "tags": []
   },
   "source": [
    "# Directory as entry point\n",
    "\n",
    "This example shows how you can build a pipeline from a directory with scripts\n",
    "(without defining a `pipeline.yaml` file).\n",
    "\n",
    "You can use this sample project structure as a starting template for new\n",
    "script or notebook-based (just replace the *.py files with *.ipynb) projects.\n",
    "\n",
    "## Setup environment\n",
    "\n",
    "~~~sh\n",
    "conda env create --file environment.yaml\n",
    "conda activate spec-api-directory\n",
    "~~~\n",
    "\n",
    "## Pipeline description\n",
    "\n",
    "This pipeline contains 5 steps. The last task train a model and outputs a report\n",
    "and a trained model file. To get the pipeline description:\n"
   ]
  },
  {
   "cell_type": "code",
   "execution_count": 1,
   "metadata": {
    "execution": {
     "iopub.execute_input": "2020-11-21T00:07:51.431224Z",
     "iopub.status.busy": "2020-11-21T00:07:51.430285Z",
     "iopub.status.idle": "2020-11-21T00:07:53.874482Z",
     "shell.execute_reply": "2020-11-21T00:07:53.874974Z"
    },
    "papermill": {
     "duration": 2.456428,
     "end_time": "2020-11-21T00:07:53.875371",
     "exception": false,
     "start_time": "2020-11-21T00:07:51.418943",
     "status": "completed"
    },
    "tags": [
     "bash"
    ]
   },
   "outputs": [
    {
     "name": "stdout",
     "output_type": "stream",
     "text": [
      "name         Last run    Outdated?    Product      Doc (short)    Location\n",
      "-----------  ----------  -----------  -----------  -------------  ----------\n",
      "get-actions  14 minutes  False        {'nb': File  Get actions    get-\n",
      "             ago (Nov                 (/Users/Edu  data and       actions.py\n",
      "             20, 20 at                /dev/projec  make some\n",
      "             18:53)                   ts-ploomber  charts\n",
      "                                      /spec-api-d\n",
      "                                      irectory/ou\n",
      "                                      tput/get-ac\n",
      "                                      tions.ipynb\n",
      "                                      ), 'data':\n",
      "                                      File(/Users\n",
      "                                      /Edu/dev/pr\n",
      "                                      ojects-ploo\n",
      "                                      mber/spec-\n",
      "                                      api-directo\n",
      "                                      ry/output/a\n",
      "                                      ctions.parq\n",
      "                                      uet)}\n",
      "clean-       14 minutes  False        {'nb': File  Clean          clean-\n",
      "actions      ago (Nov                 (/Users/Edu  actions        actions.py\n",
      "             20, 20 at                /dev/projec  data\n",
      "             18:53)                   ts-ploomber\n",
      "                                      /spec-api-d\n",
      "                                      irectory/ou\n",
      "                                      tput/clean-\n",
      "                                      actions.ipy\n",
      "                                      nb),\n",
      "                                      'data': Fil\n",
      "                                      e(/Users/Ed\n",
      "                                      u/dev/proje\n",
      "                                      cts-ploombe\n",
      "                                      r/spec-api-\n",
      "                                      directory/o\n",
      "                                      utput/clean\n",
      "                                      -actions.pa\n",
      "                                      rq...)}\n",
      "get-users    14 minutes  False        {'nb': File  Get users      get-\n",
      "             ago (Nov                 (/Users/Edu  data and       users.py\n",
      "             20, 20 at                /dev/projec  make some\n",
      "             18:53)                   ts-ploomber  charts\n",
      "                                      /spec-api-d\n",
      "                                      irectory/ou\n",
      "                                      tput/get-us\n",
      "                                      ers.ipynb),\n",
      "                                      'data': Fil\n",
      "                                      e(/Users/Ed\n",
      "                                      u/dev/proje\n",
      "                                      cts-ploombe\n",
      "                                      r/spec-api-\n",
      "                                      directory/o\n",
      "                                      utput/users\n",
      "                                      .parquet)}\n",
      "clean-users  14 minutes  False        {'nb': File  Clean users    clean-\n",
      "             ago (Nov                 (/Users/Edu  data           users.py\n",
      "             20, 20 at                /dev/projec\n",
      "             18:53)                   ts-ploomber\n",
      "                                      /spec-api-d\n",
      "                                      irectory/ou\n",
      "                                      tput/clean-\n",
      "                                      users.ipynb\n",
      "                                      ), 'data':\n",
      "                                      File(/Users\n",
      "                                      /Edu/dev/pr\n",
      "                                      ojects-ploo\n",
      "                                      mber/spec-\n",
      "                                      api-directo\n",
      "                                      ry/output/c\n",
      "                                      lean-users.\n",
      "                                      parquet)}\n",
      "train-model  13 minutes  Source code  {'nb': File  Train model    train-\n",
      "             ago (Nov                 (/Users/Edu  and            model.py\n",
      "             20, 20 at                /dev/projec  evaluate\n",
      "             18:54)                   ts-ploomber\n",
      "                                      /spec-api-d\n",
      "                                      irectory/ou\n",
      "                                      tput/model-\n",
      "                                      evaluation.\n",
      "                                      i...),\n",
      "                                      'model': Fi\n",
      "                                      le(/Users/E\n",
      "                                      du/dev/proj\n",
      "                                      ects-ploomb\n",
      "                                      er/spec-\n",
      "                                      api-directo\n",
      "                                      ry/output/m\n",
      "                                      odel.pickle\n",
      "                                      )}\n"
     ]
    },
    {
     "name": "stderr",
     "output_type": "stream",
     "text": [
      "100%|██████████| 5/5 [00:00<00:00, 8852.48it/s]\n"
     ]
    }
   ],
   "source": [
    "%%sh\n",
    "ploomber status --entry-point '*.py'"
   ]
  },
  {
   "cell_type": "markdown",
   "metadata": {
    "papermill": {
     "duration": 0.005121,
     "end_time": "2020-11-21T00:07:53.886206",
     "exception": false,
     "start_time": "2020-11-21T00:07:53.881085",
     "status": "completed"
    },
    "tags": []
   },
   "source": [
    "`--entry-point '*.py'` means \"all files with py extension are tasks in the\n",
    "pipeline\". If all the files in the current directory are tasks, you can also\n",
    "use the shortcut `--entry-point .`.\n",
    "\n",
    "## Build the pipeline from the command line\n"
   ]
  },
  {
   "cell_type": "code",
   "execution_count": 2,
   "metadata": {
    "execution": {
     "iopub.execute_input": "2020-11-21T00:07:53.900675Z",
     "iopub.status.busy": "2020-11-21T00:07:53.899877Z",
     "iopub.status.idle": "2020-11-21T00:07:59.376208Z",
     "shell.execute_reply": "2020-11-21T00:07:59.376757Z"
    },
    "papermill": {
     "duration": 5.485841,
     "end_time": "2020-11-21T00:07:59.376989",
     "exception": false,
     "start_time": "2020-11-21T00:07:53.891148",
     "status": "completed"
    },
    "tags": [
     "bash"
    ]
   },
   "outputs": [
    {
     "name": "stdout",
     "output_type": "stream",
     "text": [
      "name           Ran?      Elapsed (s)    Percentage\n",
      "-------------  ------  -------------  ------------\n",
      "train-model    True          3.10182           100\n",
      "get-actions    False         0                   0\n",
      "clean-actions  False         0                   0\n",
      "get-users      False         0                   0\n",
      "clean-users    False         0                   0\n"
     ]
    },
    {
     "name": "stderr",
     "output_type": "stream",
     "text": [
      "mkdir: output: File exists\n",
      "100%|██████████| 5/5 [00:00<00:00, 9074.65it/s]\n",
      "Building task \"train-model\":   0%|          | 0/1 [00:00<?, ?it/s]\n",
      "Executing:   0%|          | 0/14 [00:00<?, ?cell/s]\u001b[A\n",
      "Executing:   7%|▋         | 1/14 [00:00<00:10,  1.21cell/s]\u001b[A\n",
      "Executing:  14%|█▍        | 2/14 [00:02<00:11,  1.04cell/s]\u001b[A\n",
      "Executing:  43%|████▎     | 6/14 [00:02<00:05,  1.45cell/s]\u001b[A\n",
      "Executing:  71%|███████▏  | 10/14 [00:02<00:01,  2.04cell/s]\u001b[A\n",
      "Executing: 100%|██████████| 14/14 [00:03<00:00,  4.56cell/s]\n",
      "Building task \"train-model\": 100%|██████████| 1/1 [00:03<00:00,  3.10s/it]\n"
     ]
    }
   ],
   "source": [
    "%%sh\n",
    "mkdir output\n",
    "ploomber build --entry-point '*.py'"
   ]
  },
  {
   "cell_type": "markdown",
   "metadata": {
    "papermill": {
     "duration": 0.006292,
     "end_time": "2020-11-21T00:07:59.390676",
     "exception": false,
     "start_time": "2020-11-21T00:07:59.384384",
     "status": "completed"
    },
    "tags": []
   },
   "source": [
    "Output is stored in the `output/` directory."
   ]
  },
  {
   "cell_type": "markdown",
   "metadata": {
    "papermill": {
     "duration": 0.005424,
     "end_time": "2020-11-21T00:07:59.402556",
     "exception": false,
     "start_time": "2020-11-21T00:07:59.397132",
     "status": "completed"
    },
    "tags": []
   },
   "source": [
    "## Where to go from here\n",
    "\n",
    "Building pipelines from a collection of scripts/notebooks without a\n",
    "`pipeline.yaml` is quick an easy, but has limited features. See the\n",
    "`spec-api-python` to see how you can declare your tasks in a YAML file."
   ]
  }
 ],
 "metadata": {
  "jupytext": {
   "cell_metadata_filter": "tags,-all",
   "main_language": "bash",
   "notebook_metadata_filter": "-all"
  },
  "kernelspec": {
   "display_name": "Python 3",
   "language": "python",
   "name": "python3"
  },
  "language_info": {
   "codemirror_mode": {
    "name": "ipython",
    "version": 3
   },
   "file_extension": ".py",
   "mimetype": "text/x-python",
   "name": "python",
   "nbconvert_exporter": "python",
   "pygments_lexer": "ipython3",
   "version": "3.7.8"
  },
  "papermill": {
   "default_parameters": {},
   "duration": 10.099989,
   "end_time": "2020-11-21T00:08:00.609642",
   "environment_variables": {},
   "exception": null,
   "input_path": "/var/folders/3h/_lvh_w_x5g30rrjzb_xnn2j80000gq/T/tmpg08t4cc6.ipynb",
   "output_path": "spec-api-directory/README.ipynb",
   "parameters": {
    "product": "spec-api-directory/README.ipynb"
   },
   "start_time": "2020-11-21T00:07:50.509653",
   "version": "2.2.2"
  }
 },
 "nbformat": 4,
 "nbformat_minor": 4
}
