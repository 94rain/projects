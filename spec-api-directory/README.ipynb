{
 "cells": [
  {
   "cell_type": "markdown",
   "metadata": {
    "papermill": {
     "duration": 0.005554,
     "end_time": "2020-12-09T22:37:56.312330",
     "exception": false,
     "start_time": "2020-12-09T22:37:56.306776",
     "status": "completed"
    },
    "tags": []
   },
   "source": [
    "\n",
    "*Note:* You can run this from your computer (Jupyter or terminal), or use one of the\n",
    "hosted options:\n",
    "[![binder-logo](https://mybinder.org/v2/gh/ploomber/binder-env/main?urlpath=git-pull%3Frepo%3Dhttps%253A%252F%252Fgithub.com%252Fploomber%252Fprojects%26urlpath%3Dlab%252Ftree%252Fprojects%252Fspec-api-directory%252FREADME.ipynb%26branch%3Dmaster)\n",
    "[![deepnote-logo](https://deepnote.com/buttons/launch-in-deepnote-small.svg)](https://deepnote.com/launch?template=deepnote&url=https://github.com/ploomber/projects/blob/master/spec-api-directory/README.ipynb)\n"
   ]
  },
  {
   "cell_type": "markdown",
   "metadata": {
    "papermill": {
     "duration": 0.00493,
     "end_time": "2020-12-09T22:37:56.322360",
     "exception": false,
     "start_time": "2020-12-09T22:37:56.317430",
     "status": "completed"
    },
    "tags": []
   },
   "source": [
    "# Directory as entry point\n",
    "\n",
    "This example shows how you can build a pipeline from a directory with scripts\n",
    "(without defining a `pipeline.yaml` file).\n",
    "\n",
    "You can use this sample project structure as a starting template for new\n",
    "script or notebook-based (just replace the *.py files with *.ipynb) projects.\n",
    "\n",
    "## Setup environment\n",
    "\n",
    "(**Note**: Only required if you are running this example in your computer, not\n",
    "required if using Binder/Deepnote)\n",
    "\n",
    "~~~sh\n",
    "conda env create --file environment.yaml\n",
    "conda activate spec-api-directory\n",
    "~~~\n",
    "\n",
    "## Pipeline description\n",
    "\n",
    "This pipeline contains 5 steps. The last task train a model and outputs a report\n",
    "and a trained model file. To get the pipeline description:\n"
   ]
  },
  {
   "cell_type": "code",
   "execution_count": 1,
   "metadata": {
    "execution": {
     "iopub.execute_input": "2020-12-09T22:37:56.338381Z",
     "iopub.status.busy": "2020-12-09T22:37:56.337521Z",
     "iopub.status.idle": "2020-12-09T22:37:58.896355Z",
     "shell.execute_reply": "2020-12-09T22:37:58.896854Z"
    },
    "papermill": {
     "duration": 2.570081,
     "end_time": "2020-12-09T22:37:58.897189",
     "exception": false,
     "start_time": "2020-12-09T22:37:56.327108",
     "status": "completed"
    },
    "tags": [
     "bash"
    ]
   },
   "outputs": [
    {
     "name": "stdout",
     "output_type": "stream",
     "text": [
      "name         Last run    Outdated?    Product      Doc (short)    Location\n",
      "-----------  ----------  -----------  -----------  -------------  ----------\n",
      "get-actions  Has not     Source code  {'nb': File  Get actions    get-\n",
      "             been run                 (/Users/Edu  data and       actions.py\n",
      "                                      /dev/projec  make some\n",
      "                                      ts-ploomber  charts\n",
      "                                      /spec-api-d\n",
      "                                      irectory/ou\n",
      "                                      tput/get-ac\n",
      "                                      tions.ipynb\n",
      "                                      ), 'data':\n",
      "                                      File(/Users\n",
      "                                      /Edu/dev/pr\n",
      "                                      ojects-ploo\n",
      "                                      mber/spec-\n",
      "                                      api-directo\n",
      "                                      ry/output/a\n",
      "                                      ctions.parq\n",
      "                                      uet)}\n",
      "clean-       Has not     Source code  {'nb': File                 clean-\n",
      "actions      been run    & Upstream   (/Users/Edu                 actions.py\n",
      "                                      /dev/projec\n",
      "                                      ts-ploomber\n",
      "                                      /spec-api-d\n",
      "                                      irectory/ou\n",
      "                                      tput/clean-\n",
      "                                      actions.ipy\n",
      "                                      nb),\n",
      "                                      'data': Fil\n",
      "                                      e(/Users/Ed\n",
      "                                      u/dev/proje\n",
      "                                      cts-ploombe\n",
      "                                      r/spec-api-\n",
      "                                      directory/o\n",
      "                                      utput/clean\n",
      "                                      -actions.pa\n",
      "                                      rq...)}\n",
      "get-users    Has not     Source code  {'nb': File  Get users      get-\n",
      "             been run                 (/Users/Edu  data and       users.py\n",
      "                                      /dev/projec  make some\n",
      "                                      ts-ploomber  charts\n",
      "                                      /spec-api-d\n",
      "                                      irectory/ou\n",
      "                                      tput/get-us\n",
      "                                      ers.ipynb),\n",
      "                                      'data': Fil\n",
      "                                      e(/Users/Ed\n",
      "                                      u/dev/proje\n",
      "                                      cts-ploombe\n",
      "                                      r/spec-api-\n",
      "                                      directory/o\n",
      "                                      utput/users\n",
      "                                      .parquet)}\n",
      "clean-users  Has not     Source code  {'nb': File  Clean users    clean-\n",
      "             been run    & Upstream   (/Users/Edu  data           users.py\n",
      "                                      /dev/projec\n",
      "                                      ts-ploomber\n",
      "                                      /spec-api-d\n",
      "                                      irectory/ou\n",
      "                                      tput/clean-\n",
      "                                      users.ipynb\n",
      "                                      ), 'data':\n",
      "                                      File(/Users\n",
      "                                      /Edu/dev/pr\n",
      "                                      ojects-ploo\n",
      "                                      mber/spec-\n",
      "                                      api-directo\n",
      "                                      ry/output/c\n",
      "                                      lean-users.\n",
      "                                      parquet)}\n",
      "train-model  Has not     Source code  {'nb': File  Train model    train-\n",
      "             been run    & Upstream   (/Users/Edu  and            model.py\n",
      "                                      /dev/projec  evaluate\n",
      "                                      ts-ploomber\n",
      "                                      /spec-api-d\n",
      "                                      irectory/ou\n",
      "                                      tput/model-\n",
      "                                      evaluation.\n",
      "                                      i...),\n",
      "                                      'model': Fi\n",
      "                                      le(/Users/E\n",
      "                                      du/dev/proj\n",
      "                                      ects-ploomb\n",
      "                                      er/spec-\n",
      "                                      api-directo\n",
      "                                      ry/output/m\n",
      "                                      odel.pickle\n",
      "                                      )}\n"
     ]
    },
    {
     "name": "stderr",
     "output_type": "stream",
     "text": [
      "100%|██████████| 5/5 [00:00<00:00, 6502.80it/s]\n"
     ]
    }
   ],
   "source": [
    "%%sh\n",
    "ploomber status --entry-point '*.py'"
   ]
  },
  {
   "cell_type": "markdown",
   "metadata": {
    "papermill": {
     "duration": 0.00538,
     "end_time": "2020-12-09T22:37:58.908546",
     "exception": false,
     "start_time": "2020-12-09T22:37:58.903166",
     "status": "completed"
    },
    "tags": []
   },
   "source": [
    "`--entry-point '*.py'` means \"all files with py extension are tasks in the\n",
    "pipeline\". If all the files in the current directory are tasks, you can also\n",
    "use the shortcut `--entry-point .`.\n",
    "\n",
    "## Build the pipeline from the command line\n"
   ]
  },
  {
   "cell_type": "code",
   "execution_count": 2,
   "metadata": {
    "execution": {
     "iopub.execute_input": "2020-12-09T22:37:58.927385Z",
     "iopub.status.busy": "2020-12-09T22:37:58.926411Z",
     "iopub.status.idle": "2020-12-09T22:38:14.032379Z",
     "shell.execute_reply": "2020-12-09T22:38:14.032858Z"
    },
    "papermill": {
     "duration": 15.118446,
     "end_time": "2020-12-09T22:38:14.033090",
     "exception": false,
     "start_time": "2020-12-09T22:37:58.914644",
     "status": "completed"
    },
    "tags": [
     "bash"
    ]
   },
   "outputs": [
    {
     "name": "stdout",
     "output_type": "stream",
     "text": [
      "name           Ran?      Elapsed (s)    Percentage\n",
      "-------------  ------  -------------  ------------\n",
      "get-actions    True          4.10544       31.8729\n",
      "clean-actions  True          1.84846       14.3506\n",
      "get-users      True          2.43238       18.884\n",
      "clean-users    True          1.59432       12.3776\n",
      "train-model    True          2.90006       22.5149\n"
     ]
    },
    {
     "name": "stderr",
     "output_type": "stream",
     "text": [
      "100%|██████████| 5/5 [00:00<00:00, 8112.77it/s]\n",
      "Building task \"get-actions\":   0%|          | 0/5 [00:00<?, ?it/s]\n",
      "Executing:   0%|          | 0/7 [00:00<?, ?cell/s]\u001b[A\n",
      "Executing:  14%|█▍        | 1/7 [00:00<00:05,  1.05cell/s]\u001b[A\n",
      "Executing:  29%|██▊       | 2/7 [00:02<00:04,  1.02cell/s]\u001b[A\n",
      "Executing:  43%|████▎     | 3/7 [00:02<00:03,  1.19cell/s]\u001b[A\n",
      "Executing: 100%|██████████| 7/7 [00:04<00:00,  1.71cell/s]\n",
      "Building task \"clean-actions\":  20%|██        | 1/5 [00:04<00:16,  4.11s/it]\n",
      "Executing:   0%|          | 0/4 [00:00<?, ?cell/s]\u001b[A\n",
      "Executing:  25%|██▌       | 1/4 [00:01<00:04,  1.41s/cell]\u001b[A\n",
      "Executing: 100%|██████████| 4/4 [00:01<00:00,  2.18cell/s]\n",
      "Building task \"get-users\":  40%|████      | 2/5 [00:05<00:10,  3.43s/it]    \n",
      "Executing:   0%|          | 0/7 [00:00<?, ?cell/s]\u001b[A\n",
      "Executing:  14%|█▍        | 1/7 [00:00<00:04,  1.22cell/s]\u001b[A\n",
      "Executing:  29%|██▊       | 2/7 [00:01<00:04,  1.18cell/s]\u001b[A\n",
      "Executing: 100%|██████████| 7/7 [00:02<00:00,  2.90cell/s]\n",
      "Building task \"clean-users\":  60%|██████    | 3/5 [00:08<00:06,  3.13s/it]\n",
      "Executing:   0%|          | 0/5 [00:00<?, ?cell/s]\u001b[A\n",
      "Executing:  20%|██        | 1/5 [00:00<00:03,  1.22cell/s]\u001b[A\n",
      "Executing:  40%|████      | 2/5 [00:01<00:02,  1.49cell/s]\u001b[A\n",
      "Executing: 100%|██████████| 5/5 [00:01<00:00,  3.16cell/s]\n",
      "Building task \"train-model\":  80%|████████  | 4/5 [00:10<00:02,  2.67s/it]\n",
      "Executing:   0%|          | 0/14 [00:00<?, ?cell/s]\u001b[A\n",
      "Executing:   7%|▋         | 1/14 [00:00<00:10,  1.21cell/s]\u001b[A\n",
      "Executing:  14%|█▍        | 2/14 [00:01<00:10,  1.11cell/s]\u001b[A\n",
      "Executing:  43%|████▎     | 6/14 [00:02<00:05,  1.56cell/s]\u001b[A\n",
      "Executing:  71%|███████▏  | 10/14 [00:02<00:01,  2.18cell/s]\u001b[A\n",
      "Executing: 100%|██████████| 14/14 [00:02<00:00,  4.88cell/s]\n",
      "Building task \"train-model\": 100%|██████████| 5/5 [00:12<00:00,  2.58s/it]\n"
     ]
    }
   ],
   "source": [
    "%%sh\n",
    "mkdir output\n",
    "ploomber build --entry-point '*.py'"
   ]
  },
  {
   "cell_type": "markdown",
   "metadata": {
    "papermill": {
     "duration": 0.006349,
     "end_time": "2020-12-09T22:38:14.049900",
     "exception": false,
     "start_time": "2020-12-09T22:38:14.043551",
     "status": "completed"
    },
    "tags": []
   },
   "source": [
    "Output is stored in the `output/` directory."
   ]
  },
  {
   "cell_type": "markdown",
   "metadata": {
    "papermill": {
     "duration": 0.006168,
     "end_time": "2020-12-09T22:38:14.062497",
     "exception": false,
     "start_time": "2020-12-09T22:38:14.056329",
     "status": "completed"
    },
    "tags": []
   },
   "source": [
    "## Where to go from here\n",
    "\n",
    "Building pipelines from a collection of scripts/notebooks without a\n",
    "`pipeline.yaml` is quick an easy, but has limited features. See the\n",
    "[`spec-api-python/`](../spec-api-python/README.ipynb) to see how you can declare\n",
    "your tasks in a YAML file."
   ]
  }
 ],
 "metadata": {
  "jupytext": {
   "cell_metadata_filter": "tags,-all",
   "main_language": "bash",
   "notebook_metadata_filter": "-all"
  },
  "kernelspec": {
   "display_name": "Python 3",
   "language": "python",
   "name": "python3"
  },
  "language_info": {
   "codemirror_mode": {
    "name": "ipython",
    "version": 3
   },
   "file_extension": ".py",
   "mimetype": "text/x-python",
   "name": "python",
   "nbconvert_exporter": "python",
   "pygments_lexer": "ipython3",
   "version": "3.7.8"
  },
  "papermill": {
   "default_parameters": {},
   "duration": 18.902353,
   "end_time": "2020-12-09T22:38:14.313913",
   "environment_variables": {},
   "exception": null,
   "input_path": "/var/folders/3h/_lvh_w_x5g30rrjzb_xnn2j80000gq/T/tmponywxfq9.ipynb",
   "output_path": "spec-api-directory/README.ipynb",
   "parameters": {
    "product": "spec-api-directory/README.ipynb"
   },
   "start_time": "2020-12-09T22:37:55.411560",
   "version": "2.2.2"
  }
 },
 "nbformat": 4,
 "nbformat_minor": 4
}
