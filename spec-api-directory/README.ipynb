{
 "cells": [
  {
   "cell_type": "markdown",
   "id": "082ea497",
   "metadata": {
    "papermill": {
     "duration": 0.008075,
     "end_time": "2021-09-19T22:35:45.888613",
     "exception": false,
     "start_time": "2021-09-19T22:35:45.880538",
     "status": "completed"
    },
    "tags": []
   },
   "source": [
    "\n",
    "*Note:* You can run this from your computer (Jupyter or terminal), or using Binder (does not require any installation, takes a few minutes to be ready)\n",
    "\n",
    "[![binder-logo](https://mybinder.org/badge_logo.svg)](https://mybinder.org/v2/gh/ploomber/binder-env/main?urlpath=git-pull%3Frepo%3Dhttps%253A%252F%252Fgithub.com%252Fploomber%252Fprojects%26urlpath%3Dlab%252Ftree%252Fprojects%252Fspec-api-directory%252FREADME.ipynb%26branch%3Dmaster)\n"
   ]
  },
  {
   "cell_type": "markdown",
   "id": "b8ae5c21",
   "metadata": {
    "papermill": {
     "duration": 0.005298,
     "end_time": "2021-09-19T22:35:45.900259",
     "exception": false,
     "start_time": "2021-09-19T22:35:45.894961",
     "status": "completed"
    },
    "tags": []
   },
   "source": [
    "# Pipeline from directory\n",
    "\n",
    "Pipeline from a directory of scripts.\n",
    "\n",
    "## Setup\n",
    "\n",
    "(**Note**: Skip if running in Binder)\n",
    "\n",
    "~~~sh\n",
    "# if using conda\n",
    "conda env create --file environment.yaml\n",
    "conda activate spec-api-directory\n",
    "\n",
    "# or use pip directly\n",
    "pip install -r requirements.txt\n",
    "~~~\n",
    "\n",
    "## Build"
   ]
  },
  {
   "cell_type": "code",
   "execution_count": 1,
   "id": "d7516a37",
   "metadata": {
    "execution": {
     "iopub.execute_input": "2021-09-19T22:35:45.920628Z",
     "iopub.status.busy": "2021-09-19T22:35:45.919818Z",
     "iopub.status.idle": "2021-09-19T22:35:48.401748Z",
     "shell.execute_reply": "2021-09-19T22:35:48.402516Z"
    },
    "papermill": {
     "duration": 2.497547,
     "end_time": "2021-09-19T22:35:48.402833",
     "exception": false,
     "start_time": "2021-09-19T22:35:45.905286",
     "status": "completed"
    },
    "tags": [
     "bash"
    ]
   },
   "outputs": [
    {
     "name": "stdout",
     "output_type": "stream",
     "text": [
      "name           Ran?      Elapsed (s)    Percentage\n",
      "-------------  ------  -------------  ------------\n",
      "get-users      False               0             0\n",
      "get-actions    False               0             0\n",
      "clean-users    False               0             0\n",
      "clean-actions  False               0             0\n",
      "train-model    False               0             0\n"
     ]
    },
    {
     "name": "stderr",
     "output_type": "stream",
     "text": [
      "mkdir: output: File exists\n",
      "0it [00:00, ?it/s]\n"
     ]
    }
   ],
   "source": [
    "%%sh\n",
    "mkdir output\n",
    "ploomber build --entry-point '*.py'"
   ]
  },
  {
   "cell_type": "markdown",
   "id": "12bdb9ea",
   "metadata": {
    "papermill": {
     "duration": 0.00516,
     "end_time": "2021-09-19T22:35:48.414180",
     "exception": false,
     "start_time": "2021-09-19T22:35:48.409020",
     "status": "completed"
    },
    "tags": []
   },
   "source": [
    "Output stored in the `output/` directory."
   ]
  },
  {
   "cell_type": "markdown",
   "id": "19db6f68",
   "metadata": {
    "papermill": {
     "duration": 0.00744,
     "end_time": "2021-09-19T22:35:48.427854",
     "exception": false,
     "start_time": "2021-09-19T22:35:48.420414",
     "status": "completed"
    },
    "tags": []
   },
   "source": [
    "## Describe\n",
    "\n",
    "This pipeline contains five steps. The last task trains a model and outputs a\n",
    "report and a model file. To get the pipeline description:"
   ]
  },
  {
   "cell_type": "code",
   "execution_count": 2,
   "id": "071b1d2a",
   "metadata": {
    "execution": {
     "iopub.execute_input": "2021-09-19T22:35:48.445565Z",
     "iopub.status.busy": "2021-09-19T22:35:48.444872Z",
     "iopub.status.idle": "2021-09-19T22:35:50.885220Z",
     "shell.execute_reply": "2021-09-19T22:35:50.885754Z"
    },
    "papermill": {
     "duration": 2.451878,
     "end_time": "2021-09-19T22:35:50.886002",
     "exception": false,
     "start_time": "2021-09-19T22:35:48.434124",
     "status": "completed"
    },
    "tags": [
     "bash"
    ]
   },
   "outputs": [
    {
     "name": "stdout",
     "output_type": "stream",
     "text": [
      "name         Last run    Outdated?    Product      Doc          Location\n",
      "                                                   (short)\n",
      "-----------  ----------  -----------  -----------  -----------  ----------\n",
      "get-users    31 minutes  False        MetaProduct  Get users    get-\n",
      "             ago (Sep                 ({'data': F  data and     users.py\n",
      "             19, 21 at                ile('output  make some\n",
      "             17:04)                   /users.parq  charts\n",
      "                                      uet'),\n",
      "                                      'nb': File(\n",
      "                                      'output/get\n",
      "                                      -users.ipyn\n",
      "                                      b')})\n",
      "get-actions  31 minutes  False        MetaProduct  Get actions  get-\n",
      "             ago (Sep                 ({'data': F  data and     actions.py\n",
      "             19, 21 at                ile('output  make some\n",
      "             17:04)                   /actions.pa  charts\n",
      "                                      rquet'),\n",
      "                                      'nb': File(\n",
      "                                      'output/...\n",
      "                                      ctions.ipyn\n",
      "                                      b')})\n",
      "clean-users  31 minutes  False        MetaProduct  Clean users  clean-\n",
      "             ago (Sep                 ({'data': F  data         users.py\n",
      "             19, 21 at                ile('output\n",
      "             17:04)                   /...sers.pa\n",
      "                                      rquet'),\n",
      "                                      'nb': File(\n",
      "                                      'output/...\n",
      "                                      -users.ipyn\n",
      "                                      b')})\n",
      "clean-       31 minutes  False        MetaProduct               clean-\n",
      "actions      ago (Sep                 ({'data': F               actions.py\n",
      "             19, 21 at                ile('output\n",
      "             17:04)                   /...ions.pa\n",
      "                                      rquet'),\n",
      "                                      'nb': File(\n",
      "                                      'output/...\n",
      "                                      ctions.ipyn\n",
      "                                      b')})\n",
      "train-model  31 minutes  False        MetaProduct  Train model  train-\n",
      "             ago (Sep                 ({'model':   and          model.py\n",
      "             19, 21 at                File('outpu  evaluate\n",
      "             17:04)                   t/model.pic\n",
      "                                      kle'),\n",
      "                                      'nb': File(\n",
      "                                      'output/...\n",
      "                                      uation.ipyn\n",
      "                                      b')})\n"
     ]
    },
    {
     "name": "stderr",
     "output_type": "stream",
     "text": [
      "100%|██████████| 5/5 [00:00<00:00, 11516.49it/s]\n"
     ]
    }
   ],
   "source": [
    "%%sh\n",
    "ploomber status --entry-point '*.py'"
   ]
  },
  {
   "cell_type": "markdown",
   "id": "50310f19",
   "metadata": {
    "papermill": {
     "duration": 0.005812,
     "end_time": "2021-09-19T22:35:50.898339",
     "exception": false,
     "start_time": "2021-09-19T22:35:50.892527",
     "status": "completed"
    },
    "tags": []
   },
   "source": [
    "`--entry-point '*.py'` means \"all files with py extension are tasks in the\n",
    "pipeline\". If all the files in the current directory are tasks, you can also\n",
    "use the shortcut `--entry-point .`."
   ]
  }
 ],
 "metadata": {
  "jupytext": {
   "cell_metadata_filter": "tags,-all",
   "main_language": "bash",
   "notebook_metadata_filter": "-all"
  },
  "kernelspec": {
   "display_name": "Python 3 (ipykernel)",
   "language": "python",
   "name": "python3"
  },
  "language_info": {
   "codemirror_mode": {
    "name": "ipython",
    "version": 3
   },
   "file_extension": ".py",
   "mimetype": "text/x-python",
   "name": "python",
   "nbconvert_exporter": "python",
   "pygments_lexer": "ipython3",
   "version": "3.7.10"
  },
  "papermill": {
   "duration": 6.359262,
   "end_time": "2021-09-19T22:35:51.151888",
   "exception": null,
   "input_path": "/var/folders/3h/_lvh_w_x5g30rrjzb_xnn2j80000gq/T/tmpjw2p9724.ipynb",
   "output_path": "spec-api-directory/README.ipynb",
   "parameters": {
    "product": "spec-api-directory/README.ipynb"
   },
   "start_time": "2021-09-19T22:35:44.792626"
  }
 },
 "nbformat": 4,
 "nbformat_minor": 5
}
