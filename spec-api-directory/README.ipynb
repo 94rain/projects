{
 "cells": [
  {
   "cell_type": "markdown",
   "id": "2ecdacdd",
   "metadata": {
    "papermill": {
     "duration": 0.007807,
     "end_time": "2021-09-19T22:21:12.231916",
     "exception": false,
     "start_time": "2021-09-19T22:21:12.224109",
     "status": "completed"
    },
    "tags": []
   },
   "source": [
    "\n",
    "*Note:* You can run this from your computer (Jupyter or terminal), or using Binder (does not require any installation, takes a few minutes to be ready)\n",
    "\n",
    "[![binder-logo](https://mybinder.org/badge_logo.svg)](https://mybinder.org/v2/gh/ploomber/binder-env/main?urlpath=git-pull%3Frepo%3Dhttps%253A%252F%252Fgithub.com%252Fploomber%252Fprojects%26urlpath%3Dlab%252Ftree%252Fprojects%252Fspec-api-directory%252FREADME.ipynb%26branch%3Dmaster)\n"
   ]
  },
  {
   "cell_type": "markdown",
   "id": "c48b0245",
   "metadata": {
    "papermill": {
     "duration": 0.006367,
     "end_time": "2021-09-19T22:21:12.244335",
     "exception": false,
     "start_time": "2021-09-19T22:21:12.237968",
     "status": "completed"
    },
    "tags": []
   },
   "source": [
    "# Pipeline from directory\n",
    "\n",
    "Pipeline from a directory of scripts.\n",
    "\n",
    "## Setup\n",
    "\n",
    "(**Note**: Skip if running in Binder)\n",
    "\n",
    "~~~sh\n",
    "# if using conda\n",
    "conda env create --file environment.yaml\n",
    "conda activate spec-api-directory\n",
    "\n",
    "# or use pip directly\n",
    "pip install -r requirements.txt\n",
    "~~~\n",
    "\n",
    "## Build"
   ]
  },
  {
   "cell_type": "code",
   "execution_count": 1,
   "id": "eae29436",
   "metadata": {
    "execution": {
     "iopub.execute_input": "2021-09-19T22:21:12.265856Z",
     "iopub.status.busy": "2021-09-19T22:21:12.264963Z",
     "iopub.status.idle": "2021-09-19T22:21:14.941594Z",
     "shell.execute_reply": "2021-09-19T22:21:14.942159Z"
    },
    "papermill": {
     "duration": 2.692933,
     "end_time": "2021-09-19T22:21:14.942484",
     "exception": false,
     "start_time": "2021-09-19T22:21:12.249551",
     "status": "completed"
    },
    "tags": [
     "bash"
    ]
   },
   "outputs": [
    {
     "name": "stdout",
     "output_type": "stream",
     "text": [
      "name           Ran?      Elapsed (s)    Percentage\n",
      "-------------  ------  -------------  ------------\n",
      "get-users      False               0             0\n",
      "get-actions    False               0             0\n",
      "clean-users    False               0             0\n",
      "clean-actions  False               0             0\n",
      "train-model    False               0             0\n"
     ]
    },
    {
     "name": "stderr",
     "output_type": "stream",
     "text": [
      "mkdir: output: File exists\n",
      "0it [00:00, ?it/s]\n"
     ]
    }
   ],
   "source": [
    "%%sh\n",
    "mkdir output\n",
    "ploomber build --entry-point '*.py'"
   ]
  },
  {
   "cell_type": "markdown",
   "id": "22044753",
   "metadata": {
    "papermill": {
     "duration": 0.005358,
     "end_time": "2021-09-19T22:21:14.953910",
     "exception": false,
     "start_time": "2021-09-19T22:21:14.948552",
     "status": "completed"
    },
    "tags": []
   },
   "source": [
    "Output stored in the `output/` directory."
   ]
  },
  {
   "cell_type": "markdown",
   "id": "b518e69f",
   "metadata": {
    "papermill": {
     "duration": 0.006227,
     "end_time": "2021-09-19T22:21:14.966850",
     "exception": false,
     "start_time": "2021-09-19T22:21:14.960623",
     "status": "completed"
    },
    "tags": []
   },
   "source": [
    "## Describe\n",
    "\n",
    "This pipeline contains five steps. The last task trains a model and outputs a\n",
    "report and a model file. To get the pipeline description:"
   ]
  },
  {
   "cell_type": "code",
   "execution_count": 2,
   "id": "f0fef0b4",
   "metadata": {
    "execution": {
     "iopub.execute_input": "2021-09-19T22:21:14.985832Z",
     "iopub.status.busy": "2021-09-19T22:21:14.983900Z",
     "iopub.status.idle": "2021-09-19T22:21:17.443988Z",
     "shell.execute_reply": "2021-09-19T22:21:17.444618Z"
    },
    "papermill": {
     "duration": 2.472482,
     "end_time": "2021-09-19T22:21:17.444841",
     "exception": false,
     "start_time": "2021-09-19T22:21:14.972359",
     "status": "completed"
    },
    "tags": [
     "bash"
    ]
   },
   "outputs": [
    {
     "name": "stdout",
     "output_type": "stream",
     "text": [
      "name         Last run    Outdated?    Product      Doc          Location\n",
      "                                                   (short)\n",
      "-----------  ----------  -----------  -----------  -----------  ----------\n",
      "get-users    17 minutes  False        MetaProduct  Get users    get-\n",
      "             ago (Sep                 ({'data': F  data and     users.py\n",
      "             19, 21 at                ile('output  make some\n",
      "             17:04)                   /users.parq  charts\n",
      "                                      uet'),\n",
      "                                      'nb': File(\n",
      "                                      'output/get\n",
      "                                      -users.ipyn\n",
      "                                      b')})\n",
      "get-actions  17 minutes  False        MetaProduct  Get actions  get-\n",
      "             ago (Sep                 ({'data': F  data and     actions.py\n",
      "             19, 21 at                ile('output  make some\n",
      "             17:04)                   /actions.pa  charts\n",
      "                                      rquet'),\n",
      "                                      'nb': File(\n",
      "                                      'output/...\n",
      "                                      ctions.ipyn\n",
      "                                      b')})\n",
      "clean-users  16 minutes  False        MetaProduct  Clean users  clean-\n",
      "             ago (Sep                 ({'data': F  data         users.py\n",
      "             19, 21 at                ile('output\n",
      "             17:04)                   /...sers.pa\n",
      "                                      rquet'),\n",
      "                                      'nb': File(\n",
      "                                      'output/...\n",
      "                                      -users.ipyn\n",
      "                                      b')})\n",
      "clean-       16 minutes  False        MetaProduct               clean-\n",
      "actions      ago (Sep                 ({'data': F               actions.py\n",
      "             19, 21 at                ile('output\n",
      "             17:04)                   /...ions.pa\n",
      "                                      rquet'),\n",
      "                                      'nb': File(\n",
      "                                      'output/...\n",
      "                                      ctions.ipyn\n",
      "                                      b')})\n",
      "train-model  16 minutes  False        MetaProduct  Train model  train-\n",
      "             ago (Sep                 ({'model':   and          model.py\n",
      "             19, 21 at                File('outpu  evaluate\n",
      "             17:04)                   t/model.pic\n",
      "                                      kle'),\n",
      "                                      'nb': File(\n",
      "                                      'output/...\n",
      "                                      uation.ipyn\n",
      "                                      b')})\n"
     ]
    },
    {
     "name": "stderr",
     "output_type": "stream",
     "text": [
      "100%|██████████| 5/5 [00:00<00:00, 12228.29it/s]\n"
     ]
    }
   ],
   "source": [
    "%%sh\n",
    "ploomber status --entry-point '*.py'"
   ]
  },
  {
   "cell_type": "markdown",
   "id": "569dc3df",
   "metadata": {
    "papermill": {
     "duration": 0.006547,
     "end_time": "2021-09-19T22:21:17.457954",
     "exception": false,
     "start_time": "2021-09-19T22:21:17.451407",
     "status": "completed"
    },
    "tags": []
   },
   "source": [
    "`--entry-point '*.py'` means \"all files with py extension are tasks in the\n",
    "pipeline\". If all the files in the current directory are tasks, you can also\n",
    "use the shortcut `--entry-point .`."
   ]
  }
 ],
 "metadata": {
  "jupytext": {
   "cell_metadata_filter": "tags,-all",
   "main_language": "bash",
   "notebook_metadata_filter": "-all"
  },
  "kernelspec": {
   "display_name": "Python 3 (ipykernel)",
   "language": "python",
   "name": "python3"
  },
  "language_info": {
   "codemirror_mode": {
    "name": "ipython",
    "version": 3
   },
   "file_extension": ".py",
   "mimetype": "text/x-python",
   "name": "python",
   "nbconvert_exporter": "python",
   "pygments_lexer": "ipython3",
   "version": "3.7.10"
  },
  "papermill": {
   "duration": 6.563752,
   "end_time": "2021-09-19T22:21:17.707286",
   "exception": null,
   "input_path": "/var/folders/3h/_lvh_w_x5g30rrjzb_xnn2j80000gq/T/tmpewz19m_2.ipynb",
   "output_path": "spec-api-directory/README.ipynb",
   "parameters": {
    "product": "spec-api-directory/README.ipynb"
   },
   "start_time": "2021-09-19T22:21:11.143534"
  }
 },
 "nbformat": 4,
 "nbformat_minor": 5
}
