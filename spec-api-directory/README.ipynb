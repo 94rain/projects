{
 "cells": [
  {
   "cell_type": "markdown",
   "metadata": {
    "papermill": {
     "duration": 0.008443,
     "end_time": "2020-12-30T20:10:11.954132",
     "exception": false,
     "start_time": "2020-12-30T20:10:11.945689",
     "status": "completed"
    },
    "tags": []
   },
   "source": [
    "\n",
    "*Note:* You can run this from your computer (Jupyter or terminal), or use one of the\n",
    "hosted options:\n",
    "\n",
    "[![binder-logo](https://mybinder.org/badge_logo.svg)](https://mybinder.org/v2/gh/ploomber/binder-env/main?urlpath=git-pull%3Frepo%3Dhttps%253A%252F%252Fgithub.com%252Fploomber%252Fprojects%26urlpath%3Dlab%252Ftree%252Fprojects%252Fspec-api-directory%252FREADME.ipynb%26branch%3Dmaster)\n",
    "\n",
    "[![deepnote-logo](https://deepnote.com/buttons/launch-in-deepnote-small.svg)](https://deepnote.com/launch?template=deepnote&url=https://github.com/ploomber/projects/blob/master/spec-api-directory/README.ipynb)\n"
   ]
  },
  {
   "cell_type": "markdown",
   "metadata": {
    "papermill": {
     "duration": 0.006213,
     "end_time": "2020-12-30T20:10:11.965660",
     "exception": false,
     "start_time": "2020-12-30T20:10:11.959447",
     "status": "completed"
    },
    "tags": []
   },
   "source": [
    "# Directory as entry point\n",
    "\n",
    "This example shows how you can build a pipeline from a directory with scripts\n",
    "(without defining a `pipeline.yaml` file).\n",
    "\n",
    "You can use this sample project structure as a starting template for new\n",
    "script or notebook-based (just replace the *.py files with *.ipynb) projects.\n",
    "\n",
    "## Setup environment\n",
    "\n",
    "(**Note**: Only required if you are running this example in your computer, not\n",
    "required if using Binder/Deepnote)\n",
    "\n",
    "~~~sh\n",
    "conda env create --file environment.yaml\n",
    "conda activate spec-api-directory\n",
    "~~~\n",
    "\n",
    "## Pipeline description\n",
    "\n",
    "This pipeline contains 5 steps. The last task train a model and outputs a report\n",
    "and a trained model file. To get the pipeline description:\n"
   ]
  },
  {
   "cell_type": "code",
   "execution_count": 1,
   "metadata": {
    "execution": {
     "iopub.execute_input": "2020-12-30T20:10:11.996035Z",
     "iopub.status.busy": "2020-12-30T20:10:11.993968Z",
     "iopub.status.idle": "2020-12-30T20:10:15.570201Z",
     "shell.execute_reply": "2020-12-30T20:10:15.570680Z"
    },
    "papermill": {
     "duration": 3.599068,
     "end_time": "2020-12-30T20:10:15.571016",
     "exception": false,
     "start_time": "2020-12-30T20:10:11.971948",
     "status": "completed"
    },
    "tags": [
     "bash"
    ]
   },
   "outputs": [
    {
     "name": "stdout",
     "output_type": "stream",
     "text": [
      "name         Last run    Outdated?    Product      Doc (short)    Location\n",
      "-----------  ----------  -----------  -----------  -------------  ----------\n",
      "get-actions  Has not     Source code  MetaProduct  Get actions    get-\n",
      "             been run                 ({'nb': Fil  data and       actions.py\n",
      "                                      e('output/g  make some\n",
      "                                      et-actions.  charts\n",
      "                                      ipynb'),\n",
      "                                      'data': Fil\n",
      "                                      e('output/a\n",
      "                                      ctions.parq\n",
      "                                      uet')})\n",
      "clean-       Has not     Source code  MetaProduct                 clean-\n",
      "actions      been run    & Upstream   ({'nb': Fil                 actions.py\n",
      "                                      e('output/c\n",
      "                                      lean-action\n",
      "                                      s.ipynb'),\n",
      "                                      'data': Fil\n",
      "                                      e('output/c\n",
      "                                      lean-action\n",
      "                                      s.parq...')\n",
      "                                      })\n",
      "get-users    Has not     Source code  MetaProduct  Get users      get-\n",
      "             been run                 ({'nb': Fil  data and       users.py\n",
      "                                      e('output/g  make some\n",
      "                                      et-users.ip  charts\n",
      "                                      ynb'),\n",
      "                                      'data': Fil\n",
      "                                      e('output/u\n",
      "                                      sers.parque\n",
      "                                      t')})\n",
      "clean-users  Has not     Source code  MetaProduct  Clean users    clean-\n",
      "             been run    & Upstream   ({'nb': Fil  data           users.py\n",
      "                                      e('output/c\n",
      "                                      lean-users.\n",
      "                                      ipynb'),\n",
      "                                      'data': Fil\n",
      "                                      e('output/c\n",
      "                                      lean-users.\n",
      "                                      parquet')})\n",
      "train-model  Has not     Source code  MetaProduct  Train model    train-\n",
      "             been run    & Upstream   ({'nb': Fil  and            model.py\n",
      "                                      e('output/m  evaluate\n",
      "                                      odel-evalua\n",
      "                                      tion.i...')\n",
      "                                      , 'model':\n",
      "                                      File('outpu\n",
      "                                      t/model.pic\n",
      "                                      kle')})\n"
     ]
    },
    {
     "name": "stderr",
     "output_type": "stream",
     "text": [
      "100%|██████████| 5/5 [00:00<00:00, 5307.90it/s]\n"
     ]
    }
   ],
   "source": [
    "%%sh\n",
    "ploomber status --entry-point '*.py'"
   ]
  },
  {
   "cell_type": "markdown",
   "metadata": {
    "papermill": {
     "duration": 0.005305,
     "end_time": "2020-12-30T20:10:15.582071",
     "exception": false,
     "start_time": "2020-12-30T20:10:15.576766",
     "status": "completed"
    },
    "tags": []
   },
   "source": [
    "`--entry-point '*.py'` means \"all files with py extension are tasks in the\n",
    "pipeline\". If all the files in the current directory are tasks, you can also\n",
    "use the shortcut `--entry-point .`.\n",
    "\n",
    "## Build the pipeline from the command line\n"
   ]
  },
  {
   "cell_type": "code",
   "execution_count": 2,
   "metadata": {
    "execution": {
     "iopub.execute_input": "2020-12-30T20:10:15.596617Z",
     "iopub.status.busy": "2020-12-30T20:10:15.595968Z",
     "iopub.status.idle": "2020-12-30T20:10:35.041924Z",
     "shell.execute_reply": "2020-12-30T20:10:35.042530Z"
    },
    "papermill": {
     "duration": 19.455945,
     "end_time": "2020-12-30T20:10:35.042889",
     "exception": false,
     "start_time": "2020-12-30T20:10:15.586944",
     "status": "completed"
    },
    "tags": [
     "bash"
    ]
   },
   "outputs": [
    {
     "name": "stdout",
     "output_type": "stream",
     "text": [
      "name           Ran?      Elapsed (s)    Percentage\n",
      "-------------  ------  -------------  ------------\n",
      "get-actions    True          4.10483       24.9763\n",
      "clean-actions  True          1.77624       10.8077\n",
      "get-users      True          3.80903       23.1764\n",
      "clean-users    True          1.67155       10.1707\n",
      "train-model    True          5.07327       30.8689\n"
     ]
    },
    {
     "name": "stderr",
     "output_type": "stream",
     "text": [
      "100%|██████████| 5/5 [00:00<00:00, 3597.17it/s]\n",
      "Building task \"get-actions\":   0%|          | 0/5 [00:00<?, ?it/s]\n",
      "Executing:   0%|          | 0/7 [00:00<?, ?cell/s]\u001b[A\n",
      "Executing:  14%|█▍        | 1/7 [00:00<00:05,  1.04cell/s]\u001b[A\n",
      "Executing:  29%|██▊       | 2/7 [00:02<00:05,  1.12s/cell]\u001b[A\n",
      "Executing:  86%|████████▌ | 6/7 [00:02<00:00,  1.25cell/s]\u001b[A\n",
      "Executing: 100%|██████████| 7/7 [00:04<00:00,  1.71cell/s]\n",
      "Building task \"clean-actions\":  20%|██        | 1/5 [00:04<00:16,  4.11s/it]\n",
      "Executing:   0%|          | 0/4 [00:00<?, ?cell/s]\u001b[A\n",
      "Executing:  25%|██▌       | 1/4 [00:01<00:03,  1.22s/cell]\u001b[A\n",
      "Executing: 100%|██████████| 4/4 [00:01<00:00,  2.27cell/s]\n",
      "Building task \"get-users\":  40%|████      | 2/5 [00:05<00:10,  3.41s/it]    \n",
      "Executing:   0%|          | 0/7 [00:00<?, ?cell/s]\u001b[A\n",
      "Executing:  14%|█▍        | 1/7 [00:01<00:06,  1.05s/cell]\u001b[A\n",
      "Executing:  29%|██▊       | 2/7 [00:02<00:05,  1.18s/cell]\u001b[A\n",
      "Executing:  86%|████████▌ | 6/7 [00:03<00:00,  1.14cell/s]\u001b[A\n",
      "Executing: 100%|██████████| 7/7 [00:03<00:00,  1.85cell/s]\n",
      "Building task \"clean-users\":  60%|██████    | 3/5 [00:09<00:07,  3.53s/it]\n",
      "Executing:   0%|          | 0/5 [00:00<?, ?cell/s]\u001b[A\n",
      "Executing:  20%|██        | 1/5 [00:00<00:03,  1.14cell/s]\u001b[A\n",
      "Executing:  40%|████      | 2/5 [00:01<00:02,  1.39cell/s]\u001b[A\n",
      "Executing: 100%|██████████| 5/5 [00:01<00:00,  3.02cell/s]\n",
      "Building task \"train-model\":  80%|████████  | 4/5 [00:11<00:02,  2.98s/it]\n",
      "Executing:   0%|          | 0/14 [00:00<?, ?cell/s]\u001b[A\n",
      "Executing:   7%|▋         | 1/14 [00:01<00:16,  1.30s/cell]\u001b[A\n",
      "Executing:  14%|█▍        | 2/14 [00:03<00:17,  1.43s/cell]\u001b[A\n",
      "Executing:  43%|████▎     | 6/14 [00:03<00:08,  1.01s/cell]\u001b[A\n",
      "Executing:  71%|███████▏  | 10/14 [00:03<00:02,  1.39cell/s]\u001b[A\n",
      "Executing: 100%|██████████| 14/14 [00:05<00:00,  2.78cell/s]\n",
      "Building task \"train-model\": 100%|██████████| 5/5 [00:16<00:00,  3.29s/it]\n"
     ]
    }
   ],
   "source": [
    "%%sh\n",
    "mkdir output\n",
    "ploomber build --entry-point '*.py'"
   ]
  },
  {
   "cell_type": "markdown",
   "metadata": {
    "papermill": {
     "duration": 0.005506,
     "end_time": "2020-12-30T20:10:35.054704",
     "exception": false,
     "start_time": "2020-12-30T20:10:35.049198",
     "status": "completed"
    },
    "tags": []
   },
   "source": [
    "Output is stored in the `output/` directory."
   ]
  },
  {
   "cell_type": "markdown",
   "metadata": {
    "papermill": {
     "duration": 0.005138,
     "end_time": "2020-12-30T20:10:35.065425",
     "exception": false,
     "start_time": "2020-12-30T20:10:35.060287",
     "status": "completed"
    },
    "tags": []
   },
   "source": [
    "## Where to go from here\n",
    "\n",
    "Building pipelines from a collection of scripts/notebooks without a\n",
    "`pipeline.yaml` is quick an easy, but has limited features. See the\n",
    "[`spec-api-python/`](../spec-api-python/README.ipynb) to see how you can declare\n",
    "your tasks in a YAML file."
   ]
  },
  {
   "cell_type": "code",
   "execution_count": null,
   "metadata": {
    "papermill": {
     "duration": 0.00662,
     "end_time": "2020-12-30T20:10:35.077809",
     "exception": false,
     "start_time": "2020-12-30T20:10:35.071189",
     "status": "completed"
    },
    "tags": [
     "parameters"
    ]
   },
   "outputs": [],
   "source": []
  },
  {
   "cell_type": "code",
   "execution_count": 3,
   "metadata": {
    "execution": {
     "iopub.execute_input": "2020-12-30T20:10:35.093500Z",
     "iopub.status.busy": "2020-12-30T20:10:35.092638Z",
     "iopub.status.idle": "2020-12-30T20:10:35.095709Z",
     "shell.execute_reply": "2020-12-30T20:10:35.095054Z"
    },
    "papermill": {
     "duration": 0.012686,
     "end_time": "2020-12-30T20:10:35.095984",
     "exception": false,
     "start_time": "2020-12-30T20:10:35.083298",
     "status": "completed"
    },
    "tags": [
     "injected-parameters"
    ]
   },
   "outputs": [],
   "source": [
    "# Parameters\n",
    "product = \"spec-api-directory/README.ipynb\"\n"
   ]
  }
 ],
 "metadata": {
  "jupytext": {
   "cell_metadata_filter": "tags,-all",
   "main_language": "bash",
   "notebook_metadata_filter": "-all",
   "text_representation": {
    "extension": ".md",
    "format_name": "markdown"
   }
  },
  "kernelspec": {
   "display_name": "Python 3",
   "language": "python",
   "name": "python3"
  },
  "language_info": {
   "codemirror_mode": {
    "name": "ipython",
    "version": 3
   },
   "file_extension": ".py",
   "mimetype": "text/x-python",
   "name": "python",
   "nbconvert_exporter": "python",
   "pygments_lexer": "ipython3",
   "version": "3.8.6"
  },
  "papermill": {
   "default_parameters": {},
   "duration": 24.440346,
   "end_time": "2020-12-30T20:10:35.313935",
   "environment_variables": {},
   "exception": null,
   "input_path": "/var/folders/3h/_lvh_w_x5g30rrjzb_xnn2j80000gq/T/tmp5c01bthj.ipynb",
   "output_path": "spec-api-directory/README.ipynb",
   "parameters": {
    "product": "spec-api-directory/README.ipynb"
   },
   "start_time": "2020-12-30T20:10:10.873589",
   "version": "2.2.2"
  }
 },
 "nbformat": 4,
 "nbformat_minor": 4
}
