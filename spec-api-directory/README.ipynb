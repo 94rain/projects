{
 "cells": [
  {
   "cell_type": "markdown",
   "metadata": {
    "papermill": {
     "duration": 0.007701,
     "end_time": "2020-11-22T02:47:01.371311",
     "exception": false,
     "start_time": "2020-11-22T02:47:01.363610",
     "status": "completed"
    },
    "tags": []
   },
   "source": [
    "# Directory as entry point\n",
    "\n",
    "This example shows how you can build a pipeline from a directory with scripts\n",
    "(without defining a `pipeline.yaml` file).\n",
    "\n",
    "You can use this sample project structure as a starting template for new\n",
    "script or notebook-based (just replace the *.py files with *.ipynb) projects.\n",
    "\n",
    "## Setup environment\n",
    "\n",
    "(**Note**: Only required if you are running this example in your computer, not\n",
    "required if using Binder/Deepnote)\n",
    "\n",
    "~~~sh\n",
    "conda env create --file environment.yaml\n",
    "conda activate spec-api-directory\n",
    "~~~\n",
    "\n",
    "## Pipeline description\n",
    "\n",
    "This pipeline contains 5 steps. The last task train a model and outputs a report\n",
    "and a trained model file. To get the pipeline description:\n"
   ]
  },
  {
   "cell_type": "code",
   "execution_count": 1,
   "metadata": {
    "execution": {
     "iopub.execute_input": "2020-11-22T02:47:01.386407Z",
     "iopub.status.busy": "2020-11-22T02:47:01.385521Z",
     "iopub.status.idle": "2020-11-22T02:47:03.598262Z",
     "shell.execute_reply": "2020-11-22T02:47:03.598812Z"
    },
    "papermill": {
     "duration": 2.222419,
     "end_time": "2020-11-22T02:47:03.599153",
     "exception": false,
     "start_time": "2020-11-22T02:47:01.376734",
     "status": "completed"
    },
    "tags": [
     "bash"
    ]
   },
   "outputs": [
    {
     "name": "stdout",
     "output_type": "stream",
     "text": [
      "name         Last run     Outdated?    Product      Doc (short)    Location\n",
      "-----------  -----------  -----------  -----------  -------------  ----------\n",
      "get-actions  a day ago    False        {'nb': File  Get actions    get-\n",
      "             (Nov 20, 20               (/Users/Edu  data and       actions.py\n",
      "             at 18:53)                 /dev/projec  make some\n",
      "                                       ts-ploomber  charts\n",
      "                                       /spec-api-d\n",
      "                                       irectory/ou\n",
      "                                       tput/get-ac\n",
      "                                       tions.ipynb\n",
      "                                       ), 'data':\n",
      "                                       File(/Users\n",
      "                                       /Edu/dev/pr\n",
      "                                       ojects-ploo\n",
      "                                       mber/spec-\n",
      "                                       api-directo\n",
      "                                       ry/output/a\n",
      "                                       ctions.parq\n",
      "                                       uet)}\n",
      "clean-       a day ago    Source code  {'nb': File                 clean-\n",
      "actions      (Nov 20, 20               (/Users/Edu                 actions.py\n",
      "             at 18:53)                 /dev/projec\n",
      "                                       ts-ploomber\n",
      "                                       /spec-api-d\n",
      "                                       irectory/ou\n",
      "                                       tput/clean-\n",
      "                                       actions.ipy\n",
      "                                       nb),\n",
      "                                       'data': Fil\n",
      "                                       e(/Users/Ed\n",
      "                                       u/dev/proje\n",
      "                                       cts-ploombe\n",
      "                                       r/spec-api-\n",
      "                                       directory/o\n",
      "                                       utput/clean\n",
      "                                       -actions.pa\n",
      "                                       rq...)}\n",
      "get-users    a day ago    False        {'nb': File  Get users      get-\n",
      "             (Nov 20, 20               (/Users/Edu  data and       users.py\n",
      "             at 18:53)                 /dev/projec  make some\n",
      "                                       ts-ploomber  charts\n",
      "                                       /spec-api-d\n",
      "                                       irectory/ou\n",
      "                                       tput/get-us\n",
      "                                       ers.ipynb),\n",
      "                                       'data': Fil\n",
      "                                       e(/Users/Ed\n",
      "                                       u/dev/proje\n",
      "                                       cts-ploombe\n",
      "                                       r/spec-api-\n",
      "                                       directory/o\n",
      "                                       utput/users\n",
      "                                       .parquet)}\n",
      "clean-users  a day ago    False        {'nb': File  Clean users    clean-\n",
      "             (Nov 20, 20               (/Users/Edu  data           users.py\n",
      "             at 18:53)                 /dev/projec\n",
      "                                       ts-ploomber\n",
      "                                       /spec-api-d\n",
      "                                       irectory/ou\n",
      "                                       tput/clean-\n",
      "                                       users.ipynb\n",
      "                                       ), 'data':\n",
      "                                       File(/Users\n",
      "                                       /Edu/dev/pr\n",
      "                                       ojects-ploo\n",
      "                                       mber/spec-\n",
      "                                       api-directo\n",
      "                                       ry/output/c\n",
      "                                       lean-users.\n",
      "                                       parquet)}\n",
      "train-model  a day ago    Source code  {'nb': File  Train model    train-\n",
      "             (Nov 20, 20  & Upstream   (/Users/Edu  and            model.py\n",
      "             at 19:07)                 /dev/projec  evaluate\n",
      "                                       ts-ploomber\n",
      "                                       /spec-api-d\n",
      "                                       irectory/ou\n",
      "                                       tput/model-\n",
      "                                       evaluation.\n",
      "                                       i...),\n",
      "                                       'model': Fi\n",
      "                                       le(/Users/E\n",
      "                                       du/dev/proj\n",
      "                                       ects-ploomb\n",
      "                                       er/spec-\n",
      "                                       api-directo\n",
      "                                       ry/output/m\n",
      "                                       odel.pickle\n",
      "                                       )}\n"
     ]
    },
    {
     "name": "stderr",
     "output_type": "stream",
     "text": [
      "100%|██████████| 5/5 [00:00<00:00, 9593.56it/s]\n"
     ]
    }
   ],
   "source": [
    "%%sh\n",
    "ploomber status --entry-point '*.py'"
   ]
  },
  {
   "cell_type": "markdown",
   "metadata": {
    "papermill": {
     "duration": 0.005597,
     "end_time": "2020-11-22T02:47:03.610430",
     "exception": false,
     "start_time": "2020-11-22T02:47:03.604833",
     "status": "completed"
    },
    "tags": []
   },
   "source": [
    "`--entry-point '*.py'` means \"all files with py extension are tasks in the\n",
    "pipeline\". If all the files in the current directory are tasks, you can also\n",
    "use the shortcut `--entry-point .`.\n",
    "\n",
    "## Build the pipeline from the command line\n"
   ]
  },
  {
   "cell_type": "code",
   "execution_count": 2,
   "metadata": {
    "execution": {
     "iopub.execute_input": "2020-11-22T02:47:03.625812Z",
     "iopub.status.busy": "2020-11-22T02:47:03.624809Z",
     "iopub.status.idle": "2020-11-22T02:47:14.373259Z",
     "shell.execute_reply": "2020-11-22T02:47:14.373820Z"
    },
    "papermill": {
     "duration": 10.758255,
     "end_time": "2020-11-22T02:47:14.374074",
     "exception": false,
     "start_time": "2020-11-22T02:47:03.615819",
     "status": "completed"
    },
    "tags": [
     "bash"
    ]
   },
   "outputs": [
    {
     "name": "stdout",
     "output_type": "stream",
     "text": [
      "name           Ran?      Elapsed (s)    Percentage\n",
      "-------------  ------  -------------  ------------\n",
      "clean-actions  True          3.09134       35.1007\n",
      "train-model    True          5.71573       64.8993\n",
      "get-actions    False         0              0\n",
      "get-users      False         0              0\n",
      "clean-users    False         0              0\n"
     ]
    },
    {
     "name": "stderr",
     "output_type": "stream",
     "text": [
      "mkdir: output: File exists\n",
      "100%|██████████| 5/5 [00:00<00:00, 9541.18it/s]\n",
      "Building task \"clean-actions\":   0%|          | 0/2 [00:00<?, ?it/s]\n",
      "Executing:   0%|          | 0/4 [00:00<?, ?cell/s]\u001b[A\n",
      "Executing:  25%|██▌       | 1/4 [00:01<00:04,  1.39s/cell]\u001b[A\n",
      "Executing: 100%|██████████| 4/4 [00:03<00:00,  1.30cell/s]\n",
      "Building task \"train-model\":  50%|█████     | 1/2 [00:03<00:03,  3.09s/it]  \n",
      "Executing:   0%|          | 0/14 [00:00<?, ?cell/s]\u001b[A\n",
      "Executing:   7%|▋         | 1/14 [00:00<00:10,  1.29cell/s]\u001b[A\n",
      "Executing:  14%|█▍        | 2/14 [00:04<00:20,  1.70s/cell]\u001b[A\n",
      "Executing:  43%|████▎     | 6/14 [00:04<00:09,  1.20s/cell]\u001b[A\n",
      "Executing:  71%|███████▏  | 10/14 [00:04<00:03,  1.17cell/s]\u001b[A\n",
      "Executing: 100%|██████████| 14/14 [00:05<00:00,  2.46cell/s]\n",
      "Building task \"train-model\": 100%|██████████| 2/2 [00:08<00:00,  4.41s/it]\n"
     ]
    }
   ],
   "source": [
    "%%sh\n",
    "mkdir output\n",
    "ploomber build --entry-point '*.py'"
   ]
  },
  {
   "cell_type": "markdown",
   "metadata": {
    "papermill": {
     "duration": 0.006165,
     "end_time": "2020-11-22T02:47:14.385952",
     "exception": false,
     "start_time": "2020-11-22T02:47:14.379787",
     "status": "completed"
    },
    "tags": []
   },
   "source": [
    "Output is stored in the `output/` directory."
   ]
  },
  {
   "cell_type": "markdown",
   "metadata": {
    "papermill": {
     "duration": 0.007597,
     "end_time": "2020-11-22T02:47:14.399538",
     "exception": false,
     "start_time": "2020-11-22T02:47:14.391941",
     "status": "completed"
    },
    "tags": []
   },
   "source": [
    "## Where to go from here\n",
    "\n",
    "Building pipelines from a collection of scripts/notebooks without a\n",
    "`pipeline.yaml` is quick an easy, but has limited features. See the\n",
    "[`spec-api-python/`](../spec-api-python/README.ipynb) to see how you can declare\n",
    "your tasks in a YAML file."
   ]
  }
 ],
 "metadata": {
  "jupytext": {
   "cell_metadata_filter": "tags,-all",
   "main_language": "bash",
   "notebook_metadata_filter": "-all"
  },
  "kernelspec": {
   "display_name": "Python 3",
   "language": "python",
   "name": "python3"
  },
  "language_info": {
   "codemirror_mode": {
    "name": "ipython",
    "version": 3
   },
   "file_extension": ".py",
   "mimetype": "text/x-python",
   "name": "python",
   "nbconvert_exporter": "python",
   "pygments_lexer": "ipython3",
   "version": "3.7.8"
  },
  "papermill": {
   "default_parameters": {},
   "duration": 14.244692,
   "end_time": "2020-11-22T02:47:14.649819",
   "environment_variables": {},
   "exception": null,
   "input_path": "/var/folders/3h/_lvh_w_x5g30rrjzb_xnn2j80000gq/T/tmpglo5csii.ipynb",
   "output_path": "spec-api-directory/README.ipynb",
   "parameters": {
    "product": "spec-api-directory/README.ipynb"
   },
   "start_time": "2020-11-22T02:47:00.405127",
   "version": "2.2.2"
  }
 },
 "nbformat": 4,
 "nbformat_minor": 4
}
