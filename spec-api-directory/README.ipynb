{
 "cells": [
  {
   "cell_type": "markdown",
   "id": "55998bcd",
   "metadata": {
    "papermill": {
     "duration": 0.021959,
     "end_time": "2021-10-11T03:18:04.200668",
     "exception": false,
     "start_time": "2021-10-11T03:18:04.178709",
     "status": "completed"
    },
    "tags": []
   },
   "source": [
    "\n",
    "*Note:* You can run this example locally (`ploomber examples -n spec-api-directory`) or in Binder (hosted JupyterLab ).\n",
    "\n",
    "[![binder-logo](https://mybinder.org/badge_logo.svg)](https://mybinder.org/v2/gh/ploomber/binder-env/main?urlpath=git-pull%3Frepo%3Dhttps%253A%252F%252Fgithub.com%252Fploomber%252Fprojects%26urlpath%3Dlab%252Ftree%252Fprojects%252Fspec-api-directory%252FREADME.ipynb%26branch%3Dmaster)\n"
   ]
  },
  {
   "cell_type": "markdown",
   "id": "f7ce32f0",
   "metadata": {
    "papermill": {
     "duration": 0.02196,
     "end_time": "2021-10-11T03:18:04.241795",
     "exception": false,
     "start_time": "2021-10-11T03:18:04.219835",
     "status": "completed"
    },
    "tags": []
   },
   "source": [
    "# Pipeline from directory\n",
    "\n",
    "Pipeline from a directory of scripts.\n",
    "\n",
    "## Setup\n",
    "\n",
    "(**Note**: Skip if running in Binder)\n",
    "\n",
    "~~~sh\n",
    "# if using conda\n",
    "conda env create --file environment.yaml\n",
    "conda activate spec-api-directory\n",
    "\n",
    "# or use pip directly\n",
    "pip install -r requirements.txt\n",
    "~~~\n",
    "\n",
    "## Build"
   ]
  },
  {
   "cell_type": "code",
   "execution_count": 1,
   "id": "ef9bff01",
   "metadata": {
    "execution": {
     "iopub.execute_input": "2021-10-11T03:18:04.292136Z",
     "iopub.status.busy": "2021-10-11T03:18:04.291277Z",
     "iopub.status.idle": "2021-10-11T03:18:23.043174Z",
     "shell.execute_reply": "2021-10-11T03:18:23.043688Z"
    },
    "papermill": {
     "duration": 18.781833,
     "end_time": "2021-10-11T03:18:23.044048",
     "exception": false,
     "start_time": "2021-10-11T03:18:04.262215",
     "status": "completed"
    },
    "tags": [
     "bash"
    ]
   },
   "outputs": [
    {
     "name": "stdout",
     "output_type": "stream",
     "text": [
      "name           Ran?      Elapsed (s)    Percentage\n",
      "-------------  ------  -------------  ------------\n",
      "get-users      True          3.47877       22.5369\n",
      "get-actions    True          3.46149       22.425\n",
      "clean-users    True          2.2779        14.7572\n",
      "clean-actions  True          2.02495       13.1184\n",
      "train-model    True          4.19277       27.1625\n"
     ]
    },
    {
     "name": "stderr",
     "output_type": "stream",
     "text": [
      "/Users/Edu/miniconda3/envs/projects/lib/python3.9/site-packages/ploomber/dag/dag.py:390: UserWarning: \n",
      "=========================== DAG render with warnings ===========================\n",
      "- NotebookRunner: clean-users -> MetaProduct({'data': File('output/...sers.parquet'), 'nb': File('output/...-users.ipynb')}) -\n",
      "-------------------------------- clean-users.py --------------------------------\n",
      ":2:1 'numpy as np' imported but unused\n",
      "=============================== Summary (1 task) ===============================\n",
      "NotebookRunner: clean-users -> MetaProduct({'data': File('output/...sers.parquet'), 'nb': File('output/...-users.ipynb')})\n",
      "=========================== DAG render with warnings ===========================\n",
      "\n",
      "  warnings.warn(str(warnings_))\n",
      "Building task 'get-users':   0%|          | 0/5 [00:00<?, ?it/s]\n",
      "Executing:   0%|          | 0/7 [00:00<?, ?cell/s]\u001b[A\n",
      "Executing:  14%|█▍        | 1/7 [00:01<00:07,  1.31s/cell]\u001b[A\n",
      "Executing:  29%|██▊       | 2/7 [00:02<00:06,  1.31s/cell]\u001b[A\n",
      "Executing:  71%|███████▏  | 5/7 [00:02<00:00,  2.49cell/s]\u001b[A\n",
      "Executing: 100%|██████████| 7/7 [00:03<00:00,  2.05cell/s]\n",
      "Building task 'get-actions':  20%|██        | 1/5 [00:03<00:13,  3.48s/it]\n",
      "Executing:   0%|          | 0/7 [00:00<?, ?cell/s]\u001b[A\n",
      "Executing:  14%|█▍        | 1/7 [00:01<00:08,  1.38s/cell]\u001b[A\n",
      "Executing:  29%|██▊       | 2/7 [00:02<00:06,  1.30s/cell]\u001b[A\n",
      "Executing:  71%|███████▏  | 5/7 [00:02<00:00,  2.51cell/s]\u001b[A\n",
      "Executing: 100%|██████████| 7/7 [00:03<00:00,  2.06cell/s]\n",
      "Building task 'clean-users':  40%|████      | 2/5 [00:06<00:10,  3.47s/it]\n",
      "Executing:   0%|          | 0/5 [00:00<?, ?cell/s]\u001b[A\n",
      "Executing:  20%|██        | 1/5 [00:01<00:05,  1.36s/cell]\u001b[A\n",
      "Executing:  40%|████      | 2/5 [00:01<00:02,  1.15cell/s]\u001b[A\n",
      "Executing: 100%|██████████| 5/5 [00:02<00:00,  2.23cell/s]\n",
      "Building task 'clean-actions':  60%|██████    | 3/5 [00:09<00:05,  2.93s/it]\n",
      "Executing:   0%|          | 0/4 [00:00<?, ?cell/s]\u001b[A\n",
      "Executing:  25%|██▌       | 1/4 [00:01<00:04,  1.65s/cell]\u001b[A\n",
      "Executing: 100%|██████████| 4/4 [00:01<00:00,  2.01cell/s]\n",
      "Building task 'train-model':  80%|████████  | 4/5 [00:11<00:02,  2.57s/it]  \n",
      "Executing:   0%|          | 0/14 [00:00<?, ?cell/s]\u001b[A\n",
      "Executing:   7%|▋         | 1/14 [00:01<00:15,  1.20s/cell]\u001b[A\n",
      "Executing:  14%|█▍        | 2/14 [00:02<00:15,  1.26s/cell]\u001b[A\n",
      "Executing:  29%|██▊       | 4/14 [00:02<00:05,  1.94cell/s]\u001b[A\n",
      "Executing:  43%|████▎     | 6/14 [00:02<00:02,  3.17cell/s]\u001b[A\n",
      "Executing:  57%|█████▋    | 8/14 [00:02<00:01,  4.55cell/s]\u001b[A\n",
      "Executing:  71%|███████▏  | 10/14 [00:03<00:00,  5.88cell/s]\u001b[A\n",
      "Executing:  86%|████████▌ | 12/14 [00:03<00:00,  7.09cell/s]\u001b[A\n",
      "Executing: 100%|██████████| 14/14 [00:04<00:00,  3.43cell/s]\n",
      "Building task 'train-model': 100%|██████████| 5/5 [00:15<00:00,  3.09s/it]\n"
     ]
    }
   ],
   "source": [
    "%%sh\n",
    "mkdir output\n",
    "ploomber build --entry-point '*.py'"
   ]
  },
  {
   "cell_type": "markdown",
   "id": "f78e2433",
   "metadata": {
    "papermill": {
     "duration": 0.02103,
     "end_time": "2021-10-11T03:18:23.085455",
     "exception": false,
     "start_time": "2021-10-11T03:18:23.064425",
     "status": "completed"
    },
    "tags": []
   },
   "source": [
    "Output stored in the `output/` directory."
   ]
  },
  {
   "cell_type": "markdown",
   "id": "bb4c7536",
   "metadata": {
    "papermill": {
     "duration": 0.02096,
     "end_time": "2021-10-11T03:18:23.127706",
     "exception": false,
     "start_time": "2021-10-11T03:18:23.106746",
     "status": "completed"
    },
    "tags": []
   },
   "source": [
    "## Describe\n",
    "\n",
    "This pipeline contains five steps. The last task trains a model and outputs a\n",
    "report and a model file. To get the pipeline description:"
   ]
  },
  {
   "cell_type": "code",
   "execution_count": 2,
   "id": "fcbccb12",
   "metadata": {
    "execution": {
     "iopub.execute_input": "2021-10-11T03:18:23.171327Z",
     "iopub.status.busy": "2021-10-11T03:18:23.170570Z",
     "iopub.status.idle": "2021-10-11T03:18:26.434298Z",
     "shell.execute_reply": "2021-10-11T03:18:26.435231Z"
    },
    "papermill": {
     "duration": 3.288541,
     "end_time": "2021-10-11T03:18:26.435520",
     "exception": false,
     "start_time": "2021-10-11T03:18:23.146979",
     "status": "completed"
    },
    "tags": [
     "bash"
    ]
   },
   "outputs": [
    {
     "name": "stdout",
     "output_type": "stream",
     "text": [
      "name         Last run    Outdated?    Product      Doc          Location\n",
      "                                                   (short)\n",
      "-----------  ----------  -----------  -----------  -----------  ----------\n",
      "get-users    15 seconds  False        MetaProduct  Get users    get-\n",
      "             ago (Oct                 ({'data': F  data and     users.py\n",
      "             10, 21 at                ile('output  make some\n",
      "             23:18)                   /users.parq  charts\n",
      "                                      uet'),\n",
      "                                      'nb': File(\n",
      "                                      'output/get\n",
      "                                      -users.ipyn\n",
      "                                      b')})\n",
      "get-actions  11 seconds  False        MetaProduct  Get actions  get-\n",
      "             ago (Oct                 ({'data': F  data and     actions.py\n",
      "             10, 21 at                ile('output  make some\n",
      "             23:18)                   /actions.pa  charts\n",
      "                                      rquet'),\n",
      "                                      'nb': File(\n",
      "                                      'output/...\n",
      "                                      ctions.ipyn\n",
      "                                      b')})\n",
      "clean-users  9 seconds   False        MetaProduct  Clean users  clean-\n",
      "             ago (Oct                 ({'data': F  data         users.py\n",
      "             10, 21 at                ile('output\n",
      "             23:18)                   /...sers.pa\n",
      "                                      rquet'),\n",
      "                                      'nb': File(\n",
      "                                      'output/...\n",
      "                                      -users.ipyn\n",
      "                                      b')})\n",
      "clean-       7 seconds   False        MetaProduct               clean-\n",
      "actions      ago (Oct                 ({'data': F               actions.py\n",
      "             10, 21 at                ile('output\n",
      "             23:18)                   /...ions.pa\n",
      "                                      rquet'),\n",
      "                                      'nb': File(\n",
      "                                      'output/...\n",
      "                                      ctions.ipyn\n",
      "                                      b')})\n",
      "train-model  3 seconds   False        MetaProduct  Train model  train-\n",
      "             ago (Oct                 ({'model':   and          model.py\n",
      "             10, 21 at                File('outpu  evaluate\n",
      "             23:18)                   t/model.pic\n",
      "                                      kle'),\n",
      "                                      'nb': File(\n",
      "                                      'output/...\n",
      "                                      uation.ipyn\n",
      "                                      b')})\n"
     ]
    },
    {
     "name": "stderr",
     "output_type": "stream",
     "text": [
      "100%|██████████| 5/5 [00:00<00:00, 4569.95it/s]\n",
      "/Users/Edu/miniconda3/envs/projects/lib/python3.9/site-packages/ploomber/dag/dag.py:390: UserWarning: \n",
      "=========================== DAG render with warnings ===========================\n",
      "- NotebookRunner: clean-users -> MetaProduct({'data': File('output/...sers.parquet'), 'nb': File('output/...-users.ipynb')}) -\n",
      "-------------------------------- clean-users.py --------------------------------\n",
      ":2:1 'numpy as np' imported but unused\n",
      "=============================== Summary (1 task) ===============================\n",
      "NotebookRunner: clean-users -> MetaProduct({'data': File('output/...sers.parquet'), 'nb': File('output/...-users.ipynb')})\n",
      "=========================== DAG render with warnings ===========================\n",
      "\n",
      "  warnings.warn(str(warnings_))\n"
     ]
    }
   ],
   "source": [
    "%%sh\n",
    "ploomber status --entry-point '*.py'"
   ]
  },
  {
   "cell_type": "markdown",
   "id": "4bb2d6ed",
   "metadata": {
    "papermill": {
     "duration": 0.026626,
     "end_time": "2021-10-11T03:18:26.487510",
     "exception": false,
     "start_time": "2021-10-11T03:18:26.460884",
     "status": "completed"
    },
    "tags": []
   },
   "source": [
    "`--entry-point '*.py'` means \"all files with py extension are tasks in the\n",
    "pipeline\". If all the files in the current directory are tasks, you can also\n",
    "use the shortcut `--entry-point .`."
   ]
  },
  {
   "cell_type": "code",
   "execution_count": null,
   "id": "cc1c70b5",
   "metadata": {
    "papermill": {
     "duration": 0.020099,
     "end_time": "2021-10-11T03:18:26.530982",
     "exception": false,
     "start_time": "2021-10-11T03:18:26.510883",
     "status": "completed"
    },
    "tags": [
     "parameters"
    ]
   },
   "outputs": [],
   "source": []
  },
  {
   "cell_type": "code",
   "execution_count": 3,
   "id": "701168a5",
   "metadata": {
    "execution": {
     "iopub.execute_input": "2021-10-11T03:18:26.577859Z",
     "iopub.status.busy": "2021-10-11T03:18:26.577131Z",
     "iopub.status.idle": "2021-10-11T03:18:26.579291Z",
     "shell.execute_reply": "2021-10-11T03:18:26.579920Z"
    },
    "papermill": {
     "duration": 0.02818,
     "end_time": "2021-10-11T03:18:26.580170",
     "exception": false,
     "start_time": "2021-10-11T03:18:26.551990",
     "status": "completed"
    },
    "tags": [
     "injected-parameters"
    ]
   },
   "outputs": [],
   "source": [
    "# Parameters\n",
    "product = \"spec-api-directory/README.ipynb\"\n"
   ]
  }
 ],
 "metadata": {
  "jupytext": {
   "cell_metadata_filter": "tags,-all",
   "main_language": "bash",
   "notebook_metadata_filter": "-all",
   "text_representation": {
    "extension": ".md",
    "format_name": "markdown"
   }
  },
  "kernelspec": {
   "display_name": "Python 3 (ipykernel)",
   "language": "python",
   "name": "python3"
  },
  "language_info": {
   "codemirror_mode": {
    "name": "ipython",
    "version": 3
   },
   "file_extension": ".py",
   "mimetype": "text/x-python",
   "name": "python",
   "nbconvert_exporter": "python",
   "pygments_lexer": "ipython3",
   "version": "3.9.7"
  },
  "papermill": {
   "duration": 23.852092,
   "end_time": "2021-10-11T03:18:26.820354",
   "exception": null,
   "input_path": "/var/folders/3h/_lvh_w_x5g30rrjzb_xnn2j80000gq/T/tmpy_7uttlm.ipynb",
   "output_path": "spec-api-directory/README.ipynb",
   "parameters": {
    "product": "spec-api-directory/README.ipynb"
   },
   "start_time": "2021-10-11T03:18:02.968262"
  }
 },
 "nbformat": 4,
 "nbformat_minor": 5
}
