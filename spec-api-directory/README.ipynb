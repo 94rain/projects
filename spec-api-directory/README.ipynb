{
 "cells": [
  {
   "cell_type": "markdown",
   "id": "together-boating",
   "metadata": {
    "papermill": {
     "duration": 0.008464,
     "end_time": "2021-03-14T00:40:36.868945",
     "exception": false,
     "start_time": "2021-03-14T00:40:36.860481",
     "status": "completed"
    },
    "tags": []
   },
   "source": [
    "\n",
    "*Note:* You can run this from your computer (Jupyter or terminal), or use one of the\n",
    "hosted options:\n",
    "\n",
    "[![binder-logo](https://mybinder.org/badge_logo.svg)](https://mybinder.org/v2/gh/ploomber/binder-env/main?urlpath=git-pull%3Frepo%3Dhttps%253A%252F%252Fgithub.com%252Fploomber%252Fprojects%26urlpath%3Dlab%252Ftree%252Fprojects%252Fspec-api-directory%252FREADME.ipynb%26branch%3Dmaster)\n",
    "\n",
    "[![deepnote-logo](https://deepnote.com/buttons/launch-in-deepnote-small.svg)](https://deepnote.com/launch?template=deepnote&url=https://github.com/ploomber/projects/blob/master/spec-api-directory/README.ipynb)\n"
   ]
  },
  {
   "cell_type": "markdown",
   "id": "specialized-enterprise",
   "metadata": {
    "papermill": {
     "duration": 0.006765,
     "end_time": "2021-03-14T00:40:36.882123",
     "exception": false,
     "start_time": "2021-03-14T00:40:36.875358",
     "status": "completed"
    },
    "tags": []
   },
   "source": [
    "# Pipeline from directory\n",
    "\n",
    "Pipeline from a directory of scripts.\n",
    "\n",
    "## Setup\n",
    "\n",
    "(**Note**: Skip if running in binder or deepnote)\n",
    "\n",
    "~~~sh\n",
    "# if using conda\n",
    "conda env create --file environment.yaml\n",
    "conda activate spec-api-directory\n",
    "\n",
    "# or use pip directly\n",
    "pip install -r requirements.txt\n",
    "~~~\n",
    "\n",
    "## Build"
   ]
  },
  {
   "cell_type": "code",
   "execution_count": 1,
   "id": "czech-collapse",
   "metadata": {
    "execution": {
     "iopub.execute_input": "2021-03-14T00:40:36.902394Z",
     "iopub.status.busy": "2021-03-14T00:40:36.901614Z",
     "iopub.status.idle": "2021-03-14T00:40:43.147245Z",
     "shell.execute_reply": "2021-03-14T00:40:43.147795Z"
    },
    "papermill": {
     "duration": 6.260784,
     "end_time": "2021-03-14T00:40:43.148068",
     "exception": false,
     "start_time": "2021-03-14T00:40:36.887284",
     "status": "completed"
    },
    "tags": [
     "bash"
    ]
   },
   "outputs": [
    {
     "name": "stdout",
     "output_type": "stream",
     "text": [
      "name           Ran?      Elapsed (s)    Percentage\n",
      "-------------  ------  -------------  ------------\n",
      "train-model    True          4.12371           100\n",
      "get-actions    False         0                   0\n",
      "clean-actions  False         0                   0\n",
      "get-users      False         0                   0\n",
      "clean-users    False         0                   0\n"
     ]
    },
    {
     "name": "stderr",
     "output_type": "stream",
     "text": [
      "mkdir: output: File exists\n",
      "Building task \"train-model\":   0%|          | 0/1 [00:00<?, ?it/s]\n",
      "Executing:   0%|          | 0/14 [00:00<?, ?cell/s]\u001b[A\n",
      "Executing:   7%|▋         | 1/14 [00:01<00:14,  1.15s/cell]\u001b[A\n",
      "Executing:  14%|█▍        | 2/14 [00:02<00:12,  1.07s/cell]\u001b[A\n",
      "Executing:  43%|████▎     | 6/14 [00:02<00:02,  3.56cell/s]\u001b[A\n",
      "Executing:  71%|███████▏  | 10/14 [00:02<00:00,  6.60cell/s]\u001b[A\n",
      "Executing: 100%|██████████| 14/14 [00:04<00:00,  3.43cell/s]\n",
      "Building task \"train-model\": 100%|██████████| 1/1 [00:04<00:00,  4.13s/it]\n"
     ]
    }
   ],
   "source": [
    "%%sh\n",
    "mkdir output\n",
    "ploomber build --entry-point '*.py'"
   ]
  },
  {
   "cell_type": "markdown",
   "id": "fatty-cedar",
   "metadata": {
    "papermill": {
     "duration": 0.006632,
     "end_time": "2021-03-14T00:40:43.161204",
     "exception": false,
     "start_time": "2021-03-14T00:40:43.154572",
     "status": "completed"
    },
    "tags": []
   },
   "source": [
    "Output stored in the `output/` directory."
   ]
  },
  {
   "cell_type": "markdown",
   "id": "disturbed-grill",
   "metadata": {
    "papermill": {
     "duration": 0.005932,
     "end_time": "2021-03-14T00:40:43.173418",
     "exception": false,
     "start_time": "2021-03-14T00:40:43.167486",
     "status": "completed"
    },
    "tags": []
   },
   "source": [
    "## Describe\n",
    "\n",
    "This pipeline contains five steps. The last task trains a model and outputs a\n",
    "report and a model file. To get the pipeline description:"
   ]
  },
  {
   "cell_type": "code",
   "execution_count": 2,
   "id": "medical-klein",
   "metadata": {
    "execution": {
     "iopub.execute_input": "2021-03-14T00:40:43.192992Z",
     "iopub.status.busy": "2021-03-14T00:40:43.191781Z",
     "iopub.status.idle": "2021-03-14T00:40:45.291551Z",
     "shell.execute_reply": "2021-03-14T00:40:45.292188Z"
    },
    "papermill": {
     "duration": 2.112499,
     "end_time": "2021-03-14T00:40:45.292397",
     "exception": false,
     "start_time": "2021-03-14T00:40:43.179898",
     "status": "completed"
    },
    "tags": [
     "bash"
    ]
   },
   "outputs": [
    {
     "name": "stdout",
     "output_type": "stream",
     "text": [
      "name         Last run    Outdated?    Product      Doc          Location\n",
      "                                                   (short)\n",
      "-----------  ----------  -----------  -----------  -----------  ----------\n",
      "get-actions  15 minutes  False        MetaProduct  Get actions  get-\n",
      "             ago (Mar                 ({'data': F  data and     actions.py\n",
      "             13, 21 at                ile('output  make some\n",
      "             18:25)                   /actions.pa  charts\n",
      "                                      rquet'),\n",
      "                                      'nb': File(\n",
      "                                      'output/...\n",
      "                                      ctions.ipyn\n",
      "                                      b')})\n",
      "clean-       15 minutes  False        MetaProduct               clean-\n",
      "actions      ago (Mar                 ({'data': F               actions.py\n",
      "             13, 21 at                ile('output\n",
      "             18:25)                   /...ions.pa\n",
      "                                      rquet'),\n",
      "                                      'nb': File(\n",
      "                                      'output/...\n",
      "                                      ctions.ipyn\n",
      "                                      b')})\n",
      "get-users    15 minutes  False        MetaProduct  Get users    get-\n",
      "             ago (Mar                 ({'data': F  data and     users.py\n",
      "             13, 21 at                ile('output  make some\n",
      "             18:25)                   /users.parq  charts\n",
      "                                      uet'),\n",
      "                                      'nb': File(\n",
      "                                      'output/get\n",
      "                                      -users.ipyn\n",
      "                                      b')})\n",
      "clean-users  14 minutes  False        MetaProduct  Clean users  clean-\n",
      "             ago (Mar                 ({'data': F  data         users.py\n",
      "             13, 21 at                ile('output\n",
      "             18:25)                   /...sers.pa\n",
      "                                      rquet'),\n",
      "                                      'nb': File(\n",
      "                                      'output/...\n",
      "                                      -users.ipyn\n",
      "                                      b')})\n",
      "train-model  2 seconds   False        MetaProduct  Train model  train-\n",
      "             ago (Mar                 ({'model':   and          model.py\n",
      "             13, 21 at                File('outpu  evaluate\n",
      "             18:40)                   t/model.pic\n",
      "                                      kle'),\n",
      "                                      'nb': File(\n",
      "                                      'output/...\n",
      "                                      uation.ipyn\n",
      "                                      b')})\n"
     ]
    },
    {
     "name": "stderr",
     "output_type": "stream",
     "text": [
      "100%|██████████| 5/5 [00:00<00:00, 9008.38it/s]\n"
     ]
    }
   ],
   "source": [
    "%%sh\n",
    "ploomber status --entry-point '*.py'"
   ]
  },
  {
   "cell_type": "markdown",
   "id": "distinguished-orbit",
   "metadata": {
    "papermill": {
     "duration": 0.006885,
     "end_time": "2021-03-14T00:40:45.306318",
     "exception": false,
     "start_time": "2021-03-14T00:40:45.299433",
     "status": "completed"
    },
    "tags": []
   },
   "source": [
    "`--entry-point '*.py'` means \"all files with py extension are tasks in the\n",
    "pipeline\". If all the files in the current directory are tasks, you can also\n",
    "use the shortcut `--entry-point .`."
   ]
  }
 ],
 "metadata": {
  "jupytext": {
   "cell_metadata_filter": "tags,-all",
   "main_language": "bash",
   "notebook_metadata_filter": "-all"
  },
  "kernelspec": {
   "display_name": "Python 3",
   "language": "python",
   "name": "python3"
  },
  "language_info": {
   "codemirror_mode": {
    "name": "ipython",
    "version": 3
   },
   "file_extension": ".py",
   "mimetype": "text/x-python",
   "name": "python",
   "nbconvert_exporter": "python",
   "pygments_lexer": "ipython3",
   "version": "3.7.10"
  },
  "papermill": {
   "duration": 9.592774,
   "end_time": "2021-03-14T00:40:45.565650",
   "exception": null,
   "input_path": "/var/folders/3h/_lvh_w_x5g30rrjzb_xnn2j80000gq/T/tmp2ahna5ul.ipynb",
   "output_path": "spec-api-directory/README.ipynb",
   "parameters": {
    "product": "spec-api-directory/README.ipynb"
   },
   "start_time": "2021-03-14T00:40:35.972876"
  }
 },
 "nbformat": 4,
 "nbformat_minor": 5
}
