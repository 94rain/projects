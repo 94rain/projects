{
 "cells": [
  {
   "cell_type": "markdown",
   "metadata": {
    "papermill": {
     "duration": 0.004545,
     "end_time": "2020-10-15T22:57:56.395449",
     "exception": false,
     "start_time": "2020-10-15T22:57:56.390904",
     "status": "completed"
    },
    "tags": []
   },
   "source": [
    "# Basic ML project\n",
    "\n",
    "This example shows how to build a Machine Learning pipeline using the Spec API.\n",
    "\n",
    "Take a look at the `pipeline.yaml` for more details.\n",
    "\n",
    "## Setup\n",
    "\n",
    "Make sure you are in the `ml-basic` folder.\n",
    "\n",
    "~~~bash\n",
    "# setup environment\n",
    "conda env create --file environment.yml\n",
    "conda activate ml-basic\n",
    "~~~\n",
    "\n",
    "## Execute the pipeline"
   ]
  },
  {
   "cell_type": "code",
   "execution_count": 1,
   "metadata": {
    "execution": {
     "iopub.execute_input": "2020-10-15T22:57:56.408119Z",
     "iopub.status.busy": "2020-10-15T22:57:56.406076Z",
     "iopub.status.idle": "2020-10-15T22:58:00.227161Z",
     "shell.execute_reply": "2020-10-15T22:58:00.227712Z"
    },
    "papermill": {
     "duration": 3.829088,
     "end_time": "2020-10-15T22:58:00.227953",
     "exception": false,
     "start_time": "2020-10-15T22:57:56.398865",
     "status": "completed"
    },
    "tags": [
     "bash"
    ]
   },
   "outputs": [
    {
     "name": "stdout",
     "output_type": "stream",
     "text": [
      "name      Ran?      Elapsed (s)    Percentage\n",
      "--------  ------  -------------  ------------\n",
      "get       False               0             0\n",
      "features  False               0             0\n",
      "join      False               0             0\n",
      "fit.py    False               0             0\n"
     ]
    },
    {
     "name": "stderr",
     "output_type": "stream",
     "text": [
      "mkdir: output: File exists\n",
      "\r",
      "  0%|          | 0/4 [00:00<?, ?it/s]\r",
      "Rendering DAG:   0%|          | 0/4 [00:00<?, ?it/s]\r",
      "Rendering DAG:   0%|          | 0/4 [00:00<?, ?it/s]\r",
      "Rendering DAG:   0%|          | 0/4 [00:00<?, ?it/s]\r",
      "Rendering DAG:  75%|███████▌  | 3/4 [00:00<00:00, 26.69it/s]\r",
      "Rendering DAG:  75%|███████▌  | 3/4 [00:00<00:00, 26.69it/s]\r",
      "Rendering DAG: 100%|██████████| 4/4 [00:00<00:00, 13.06it/s]\r",
      "Rendering DAG: 100%|██████████| 4/4 [00:00<00:00, 14.26it/s]\n",
      "\r",
      "0it [00:00, ?it/s]\r",
      "4it [00:00, 24528.09it/s]\n"
     ]
    }
   ],
   "source": [
    "%%sh\n",
    "# make sure output folder exists\n",
    "mkdir output\n",
    "\n",
    "# execute using the spec file\n",
    "ploomber build --entry-point pipeline.yaml"
   ]
  },
  {
   "cell_type": "markdown",
   "metadata": {
    "papermill": {
     "duration": 0.002917,
     "end_time": "2020-10-15T22:58:00.233832",
     "exception": false,
     "start_time": "2020-10-15T22:58:00.230915",
     "status": "completed"
    },
    "tags": []
   },
   "source": [
    "Note: `ploomber build` also works because Ploomber looks for a `pipeline.yaml` file by default."
   ]
  }
 ],
 "metadata": {
  "jupytext": {
   "cell_metadata_filter": "tags,-all",
   "main_language": "bash",
   "notebook_metadata_filter": "-all",
   "text_representation": {
    "extension": ".md",
    "format_name": "markdown"
   }
  },
  "language_info": {
   "codemirror_mode": {
    "name": "ipython",
    "version": 3
   },
   "file_extension": ".py",
   "mimetype": "text/x-python",
   "name": "python",
   "nbconvert_exporter": "python",
   "pygments_lexer": "ipython3",
   "version": "3.6.10"
  },
  "papermill": {
   "duration": 4.956521,
   "end_time": "2020-10-15T22:58:00.449237",
   "environment_variables": {},
   "exception": null,
   "input_path": "ml-basic/README.ipynb",
   "output_path": "ml-basic/README.ipynb",
   "parameters": {},
   "start_time": "2020-10-15T22:57:55.492716",
   "version": "2.1.2"
  }
 },
 "nbformat": 4,
 "nbformat_minor": 4
}