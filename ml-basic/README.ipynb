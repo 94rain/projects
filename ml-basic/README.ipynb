{
 "cells": [
  {
   "cell_type": "markdown",
   "metadata": {
    "papermill": {
     "duration": 0.010001,
     "end_time": "2020-11-21T00:13:26.033641",
     "exception": false,
     "start_time": "2020-11-21T00:13:26.023640",
     "status": "completed"
    },
    "tags": []
   },
   "source": [
    "# Basic ML project\n",
    "\n",
    "This example shows how to build a Machine Learning pipeline using the Spec API.\n",
    "\n",
    "Take a look at the `pipeline.yaml` for more details.\n",
    "\n",
    "## Setup\n",
    "\n",
    "(Note: Only required if you are running this example in your computer, not\n",
    "required if using Binder/Deepnote)\n",
    "\n",
    "~~~bash\n",
    "# make sure you are in the ml-basic folder.\n",
    "conda env create --file environment.yml\n",
    "conda activate ml-basic\n",
    "~~~\n",
    "\n",
    "## Pipeline summary"
   ]
  },
  {
   "cell_type": "code",
   "execution_count": 1,
   "metadata": {
    "execution": {
     "iopub.execute_input": "2020-11-21T00:13:26.051236Z",
     "iopub.status.busy": "2020-11-21T00:13:26.050480Z",
     "iopub.status.idle": "2020-11-21T00:13:29.119563Z",
     "shell.execute_reply": "2020-11-21T00:13:29.120100Z"
    },
    "papermill": {
     "duration": 3.080119,
     "end_time": "2020-11-21T00:13:29.120434",
     "exception": false,
     "start_time": "2020-11-21T00:13:26.040315",
     "status": "completed"
    },
    "tags": [
     "bash"
    ]
   },
   "outputs": [
    {
     "name": "stdout",
     "output_type": "stream",
     "text": [
      "name      Last run      Outdated?    Product        Doc (short)    Location\n",
      "--------  ------------  -----------  -------------  -------------  -------------\n",
      "get       2 hours ago   False        /Users/Edu/de  Get data       /Users/Edu/de\n",
      "          (Nov 20, 20                v/projects-                   v/projects-\n",
      "          at 16:15)                  ploomber/ml-b                 ploomber/ml-b\n",
      "                                     asic/output/g                 asic/tasks.py\n",
      "                                     et.parquet                    :6\n",
      "features  2 hours ago   False        /Users/Edu/de  Generate new   /Users/Edu/de\n",
      "          (Nov 20, 20                v/projects-    features from  v/projects-\n",
      "          at 16:15)                  ploomber/ml-b  existing       ploomber/ml-b\n",
      "                                     asic/output/f  columns        asic/tasks.py\n",
      "                                     eatures.parqu                 :20\n",
      "                                     et\n",
      "join      2 hours ago   False        /Users/Edu/de  Join raw data  /Users/Edu/de\n",
      "          (Nov 20, 20                v/projects-    with           v/projects-\n",
      "          at 16:15)                  ploomber/ml-b  generated      ploomber/ml-b\n",
      "                                     asic/output/j  features       asic/tasks.py\n",
      "                                     oin.parquet                   :29\n",
      "fit       a minute ago  False        {'nb': File(/  Script trains  fit.py\n",
      "          (Nov 20, 20                Users/Edu/dev  a model\n",
      "          at 19:12)                  /projects-\n",
      "                                     ploomber/ml-b\n",
      "                                     asic/output/n\n",
      "                                     b.ipynb),\n",
      "                                     'model': File\n",
      "                                     (/Users/Edu/d\n",
      "                                     ev/projects-\n",
      "                                     ploomber/ml-b\n",
      "                                     asic/output/m\n",
      "                                     odel.pickle)}\n"
     ]
    },
    {
     "name": "stderr",
     "output_type": "stream",
     "text": [
      "sh: line 1: fg: no job control\n",
      "100%|██████████| 4/4 [00:00<00:00, 9068.77it/s]\n"
     ]
    }
   ],
   "source": [
    "%%sh\n",
    "%%bash\n",
    "ploomber status"
   ]
  },
  {
   "cell_type": "markdown",
   "metadata": {
    "papermill": {
     "duration": 0.00844,
     "end_time": "2020-11-21T00:13:29.136723",
     "exception": false,
     "start_time": "2020-11-21T00:13:29.128283",
     "status": "completed"
    },
    "tags": []
   },
   "source": [
    "## Executing the pipeline from the command line (shell)"
   ]
  },
  {
   "cell_type": "code",
   "execution_count": 2,
   "metadata": {
    "execution": {
     "iopub.execute_input": "2020-11-21T00:13:29.156458Z",
     "iopub.status.busy": "2020-11-21T00:13:29.155472Z",
     "iopub.status.idle": "2020-11-21T00:13:32.241766Z",
     "shell.execute_reply": "2020-11-21T00:13:32.242516Z"
    },
    "papermill": {
     "duration": 3.098801,
     "end_time": "2020-11-21T00:13:32.242958",
     "exception": false,
     "start_time": "2020-11-21T00:13:29.144157",
     "status": "completed"
    },
    "tags": [
     "bash"
    ]
   },
   "outputs": [
    {
     "name": "stdout",
     "output_type": "stream",
     "text": [
      "name      Ran?      Elapsed (s)    Percentage\n",
      "--------  ------  -------------  ------------\n",
      "get       False               0             0\n",
      "features  False               0             0\n",
      "join      False               0             0\n",
      "fit       False               0             0\n"
     ]
    },
    {
     "name": "stderr",
     "output_type": "stream",
     "text": [
      "sh: line 1: fg: no job control\n",
      "100%|██████████| 4/4 [00:00<00:00, 9218.25it/s]\n",
      "0it [00:00, ?it/s]\n"
     ]
    }
   ],
   "source": [
    "%%sh\n",
    "%%bash\n",
    "ploomber build"
   ]
  },
  {
   "cell_type": "markdown",
   "metadata": {
    "papermill": {
     "duration": 0.011326,
     "end_time": "2020-11-21T00:13:32.262026",
     "exception": false,
     "start_time": "2020-11-21T00:13:32.250700",
     "status": "completed"
    },
    "tags": []
   },
   "source": [
    "Output is generated in the ``output/`` directory.\n",
    "\n",
    "## Interacting with your pipeline from Python session"
   ]
  },
  {
   "cell_type": "code",
   "execution_count": 3,
   "metadata": {
    "execution": {
     "iopub.execute_input": "2020-11-21T00:13:32.284731Z",
     "iopub.status.busy": "2020-11-21T00:13:32.283891Z",
     "iopub.status.idle": "2020-11-21T00:13:34.275220Z",
     "shell.execute_reply": "2020-11-21T00:13:34.275717Z"
    },
    "papermill": {
     "duration": 2.006022,
     "end_time": "2020-11-21T00:13:34.275945",
     "exception": false,
     "start_time": "2020-11-21T00:13:32.269923",
     "status": "completed"
    },
    "tags": []
   },
   "outputs": [
    {
     "data": {
      "application/vnd.jupyter.widget-view+json": {
       "model_id": "f5a34b94b7d544f59883f9ceeebe8732",
       "version_major": 2,
       "version_minor": 0
      },
      "text/plain": [
       "HBox(children=(HTML(value=''), FloatProgress(value=0.0, max=4.0), HTML(value='')))"
      ]
     },
     "metadata": {},
     "output_type": "display_data"
    },
    {
     "name": "stdout",
     "output_type": "stream",
     "text": [
      "\n"
     ]
    },
    {
     "data": {
      "text/html": [
       "<table>\n",
       "<thead>\n",
       "<tr><th>name    </th><th>Last run  </th><th>Outdated?  </th><th>Product  </th><th>Doc (short)  </th><th>Location  </th></tr>\n",
       "</thead>\n",
       "<tbody>\n",
       "<tr><td>get     </td><td>2 hours ago\n",
       "(Nov 20, 20 at\n",
       "16:15)           </td><td>False      </td><td>/Users/Edu/dev\n",
       "/projects-\n",
       "ploomber/ml-ba\n",
       "sic/output/get\n",
       ".parquet          </td><td>Get data     </td><td>/Users/Edu/dev\n",
       "/projects-\n",
       "ploomber/ml-ba\n",
       "sic/tasks.py:6           </td></tr>\n",
       "<tr><td>features</td><td>2 hours ago\n",
       "(Nov 20, 20 at\n",
       "16:15)           </td><td>False      </td><td>/Users/Edu/dev\n",
       "/projects-\n",
       "ploomber/ml-ba\n",
       "sic/output/fea\n",
       "tures.parquet          </td><td>Generate new\n",
       "features from\n",
       "existing\n",
       "columns              </td><td>/Users/Edu/dev\n",
       "/projects-\n",
       "ploomber/ml-ba\n",
       "sic/tasks.py:2\n",
       "0           </td></tr>\n",
       "<tr><td>join    </td><td>2 hours ago\n",
       "(Nov 20, 20 at\n",
       "16:15)           </td><td>False      </td><td>/Users/Edu/dev\n",
       "/projects-\n",
       "ploomber/ml-ba\n",
       "sic/output/joi\n",
       "n.parquet          </td><td>Join raw data\n",
       "with generated\n",
       "features              </td><td>/Users/Edu/dev\n",
       "/projects-\n",
       "ploomber/ml-ba\n",
       "sic/tasks.py:2\n",
       "9           </td></tr>\n",
       "<tr><td>fit     </td><td>a minute ago\n",
       "(Nov 20, 20 at\n",
       "19:12)           </td><td>False      </td><td>{&#x27;nb&#x27;: File(/U\n",
       "sers/Edu/dev/p\n",
       "rojects-\n",
       "ploomber/ml-ba\n",
       "sic/output/nb.\n",
       "ipynb),\n",
       "&#x27;model&#x27;: File(\n",
       "/Users/Edu/dev\n",
       "/projects-\n",
       "ploomber/ml-ba\n",
       "sic/output/mod\n",
       "el.pickle)}          </td><td>Script trains\n",
       "a model              </td><td>/Users/Edu/dev\n",
       "/projects-\n",
       "ploomber/ml-\n",
       "basic/fit.py           </td></tr>\n",
       "</tbody>\n",
       "</table>"
      ],
      "text/plain": [
       "name      Last run        Outdated?    Product         Doc (short)     Location\n",
       "--------  --------------  -----------  --------------  --------------  --------------\n",
       "get       2 hours ago     False        /Users/Edu/dev  Get data        /Users/Edu/dev\n",
       "          (Nov 20, 20 at               /projects-                      /projects-\n",
       "          16:15)                       ploomber/ml-ba                  ploomber/ml-ba\n",
       "                                       sic/output/get                  sic/tasks.py:6\n",
       "                                       .parquet\n",
       "features  2 hours ago     False        /Users/Edu/dev  Generate new    /Users/Edu/dev\n",
       "          (Nov 20, 20 at               /projects-      features from   /projects-\n",
       "          16:15)                       ploomber/ml-ba  existing        ploomber/ml-ba\n",
       "                                       sic/output/fea  columns         sic/tasks.py:2\n",
       "                                       tures.parquet                   0\n",
       "join      2 hours ago     False        /Users/Edu/dev  Join raw data   /Users/Edu/dev\n",
       "          (Nov 20, 20 at               /projects-      with generated  /projects-\n",
       "          16:15)                       ploomber/ml-ba  features        ploomber/ml-ba\n",
       "                                       sic/output/joi                  sic/tasks.py:2\n",
       "                                       n.parquet                       9\n",
       "fit       a minute ago    False        {'nb': File(/U  Script trains   /Users/Edu/dev\n",
       "          (Nov 20, 20 at               sers/Edu/dev/p  a model         /projects-\n",
       "          19:12)                       rojects-                        ploomber/ml-\n",
       "                                       ploomber/ml-ba                  basic/fit.py\n",
       "                                       sic/output/nb.\n",
       "                                       ipynb),\n",
       "                                       'model': File(\n",
       "                                       /Users/Edu/dev\n",
       "                                       /projects-\n",
       "                                       ploomber/ml-ba\n",
       "                                       sic/output/mod\n",
       "                                       el.pickle)}"
      ]
     },
     "execution_count": 3,
     "metadata": {},
     "output_type": "execute_result"
    }
   ],
   "source": [
    "from ploomber.spec import DAGSpec\n",
    "\n",
    "dag = DAGSpec('pipeline.yaml').to_dag()\n",
    "dag.status()"
   ]
  },
  {
   "cell_type": "code",
   "execution_count": 4,
   "metadata": {
    "execution": {
     "iopub.execute_input": "2020-11-21T00:13:34.318633Z",
     "iopub.status.busy": "2020-11-21T00:13:34.315693Z",
     "iopub.status.idle": "2020-11-21T00:13:34.384787Z",
     "shell.execute_reply": "2020-11-21T00:13:34.379744Z"
    },
    "papermill": {
     "duration": 0.100335,
     "end_time": "2020-11-21T00:13:34.384996",
     "exception": false,
     "start_time": "2020-11-21T00:13:34.284661",
     "status": "completed"
    },
    "tags": []
   },
   "outputs": [
    {
     "data": {
      "application/vnd.jupyter.widget-view+json": {
       "model_id": "c8704dc30b8641988380bf72b24ad4da",
       "version_major": 2,
       "version_minor": 0
      },
      "text/plain": [
       "HBox(children=(HTML(value=''), FloatProgress(value=0.0, max=4.0), HTML(value='')))"
      ]
     },
     "metadata": {},
     "output_type": "display_data"
    },
    {
     "name": "stdout",
     "output_type": "stream",
     "text": [
      "\n"
     ]
    },
    {
     "data": {
      "application/vnd.jupyter.widget-view+json": {
       "model_id": "0bd9a5fb72894cd8a8d2102f8a0442b8",
       "version_major": 2,
       "version_minor": 0
      },
      "text/plain": [
       "HBox(children=(HTML(value=''), FloatProgress(value=1.0, bar_style='info', layout=Layout(width='20px'), max=1.0…"
      ]
     },
     "metadata": {},
     "output_type": "display_data"
    },
    {
     "name": "stdout",
     "output_type": "stream",
     "text": [
      "\n"
     ]
    },
    {
     "data": {
      "text/html": [
       "<table>\n",
       "<thead>\n",
       "<tr><th>name    </th><th>Ran?  </th><th style=\"text-align: right;\">  Elapsed (s)</th><th style=\"text-align: right;\">  Percentage</th></tr>\n",
       "</thead>\n",
       "<tbody>\n",
       "<tr><td>get     </td><td>False </td><td style=\"text-align: right;\">            0</td><td style=\"text-align: right;\">           0</td></tr>\n",
       "<tr><td>features</td><td>False </td><td style=\"text-align: right;\">            0</td><td style=\"text-align: right;\">           0</td></tr>\n",
       "<tr><td>join    </td><td>False </td><td style=\"text-align: right;\">            0</td><td style=\"text-align: right;\">           0</td></tr>\n",
       "<tr><td>fit     </td><td>False </td><td style=\"text-align: right;\">            0</td><td style=\"text-align: right;\">           0</td></tr>\n",
       "</tbody>\n",
       "</table>"
      ],
      "text/plain": [
       "name      Ran?      Elapsed (s)    Percentage\n",
       "--------  ------  -------------  ------------\n",
       "get       False               0             0\n",
       "features  False               0             0\n",
       "join      False               0             0\n",
       "fit       False               0             0"
      ]
     },
     "execution_count": 4,
     "metadata": {},
     "output_type": "execute_result"
    }
   ],
   "source": [
    "dag.build()"
   ]
  },
  {
   "cell_type": "markdown",
   "metadata": {
    "papermill": {
     "duration": 0.009572,
     "end_time": "2020-11-21T00:13:34.404981",
     "exception": false,
     "start_time": "2020-11-21T00:13:34.395409",
     "status": "completed"
    },
    "tags": []
   },
   "source": [
    "``DAG`` has a dict-like interface, to get a task:"
   ]
  },
  {
   "cell_type": "code",
   "execution_count": 5,
   "metadata": {
    "execution": {
     "iopub.execute_input": "2020-11-21T00:13:34.430234Z",
     "iopub.status.busy": "2020-11-21T00:13:34.429477Z",
     "iopub.status.idle": "2020-11-21T00:13:34.431989Z",
     "shell.execute_reply": "2020-11-21T00:13:34.432627Z"
    },
    "papermill": {
     "duration": 0.018114,
     "end_time": "2020-11-21T00:13:34.432900",
     "exception": false,
     "start_time": "2020-11-21T00:13:34.414786",
     "status": "completed"
    },
    "tags": []
   },
   "outputs": [
    {
     "data": {
      "text/plain": [
       "NotebookRunner: fit -> MetaProduct({'nb': File(/Users/Edu/dev/projects-ploomber/ml-basic/output/nb.ipynb), 'model': File(/Users/Edu/dev/projects-ploomber/ml-basic/output/model.pickle)})"
      ]
     },
     "execution_count": 5,
     "metadata": {},
     "output_type": "execute_result"
    }
   ],
   "source": [
    "dag['fit']"
   ]
  },
  {
   "cell_type": "markdown",
   "metadata": {
    "papermill": {
     "duration": 0.010286,
     "end_time": "2020-11-21T00:13:34.452992",
     "exception": false,
     "start_time": "2020-11-21T00:13:34.442706",
     "status": "completed"
    },
    "tags": []
   },
   "source": [
    "There are a lot of things you can do with from a Python session, see the\n",
    "documentation for ``ploomber.DAG`` for details.\n",
    "\n",
    "A shortcut to initialize a Python session from a terminal:\n",
    "\n",
    "~~~bash\n",
    "ploomber interact\n",
    "~~~\n",
    "\n",
    "## Where to go from here\n",
    "\n",
    "`ml-intermediate` contains another ML pipeline with more features. It shows how\n",
    "to parametrize a pipeline using an `env.yaml` file (so you can run your pipeline\n",
    "with a small sample to test things quickly), run integration tests using\n",
    "`on_finish` and customizing output notebooks/reports."
   ]
  }
 ],
 "metadata": {
  "jupytext": {
   "cell_metadata_filter": "tags,-all",
   "main_language": "python",
   "notebook_metadata_filter": "-all"
  },
  "kernelspec": {
   "display_name": "Python 3",
   "language": "python",
   "name": "python3"
  },
  "language_info": {
   "codemirror_mode": {
    "name": "ipython",
    "version": 3
   },
   "file_extension": ".py",
   "mimetype": "text/x-python",
   "name": "python",
   "nbconvert_exporter": "python",
   "pygments_lexer": "ipython3",
   "version": "3.7.8"
  },
  "papermill": {
   "default_parameters": {},
   "duration": 9.863155,
   "end_time": "2020-11-21T00:13:34.928624",
   "environment_variables": {},
   "exception": null,
   "input_path": "/var/folders/3h/_lvh_w_x5g30rrjzb_xnn2j80000gq/T/tmppafv2c3u.ipynb",
   "output_path": "ml-basic/README.ipynb",
   "parameters": {
    "product": "ml-basic/README.ipynb"
   },
   "start_time": "2020-11-21T00:13:25.065469",
   "version": "2.2.2"
  },
  "widgets": {
   "application/vnd.jupyter.widget-state+json": {
    "state": {
     "087e239cc1e34252886b200108053436": {
      "model_module": "@jupyter-widgets/controls",
      "model_module_version": "1.5.0",
      "model_name": "DescriptionStyleModel",
      "state": {
       "_model_module": "@jupyter-widgets/controls",
       "_model_module_version": "1.5.0",
       "_model_name": "DescriptionStyleModel",
       "_view_count": null,
       "_view_module": "@jupyter-widgets/base",
       "_view_module_version": "1.2.0",
       "_view_name": "StyleView",
       "description_width": ""
      }
     },
     "0bd9a5fb72894cd8a8d2102f8a0442b8": {
      "model_module": "@jupyter-widgets/controls",
      "model_module_version": "1.5.0",
      "model_name": "HBoxModel",
      "state": {
       "_dom_classes": [],
       "_model_module": "@jupyter-widgets/controls",
       "_model_module_version": "1.5.0",
       "_model_name": "HBoxModel",
       "_view_count": null,
       "_view_module": "@jupyter-widgets/controls",
       "_view_module_version": "1.5.0",
       "_view_name": "HBoxView",
       "box_style": "",
       "children": [
        "IPY_MODEL_aaab0a3daf6b42149307c45299618c31",
        "IPY_MODEL_de66c7aa637c4090b96101804eb3ca0e",
        "IPY_MODEL_4689b2a94594461e835e74d1367226c3"
       ],
       "layout": "IPY_MODEL_cce2bb1ceb234d1ca4cfc6146bfd9cf9"
      }
     },
     "138879142168424185537d4707b20e40": {
      "model_module": "@jupyter-widgets/base",
      "model_module_version": "1.2.0",
      "model_name": "LayoutModel",
      "state": {
       "_model_module": "@jupyter-widgets/base",
       "_model_module_version": "1.2.0",
       "_model_name": "LayoutModel",
       "_view_count": null,
       "_view_module": "@jupyter-widgets/base",
       "_view_module_version": "1.2.0",
       "_view_name": "LayoutView",
       "align_content": null,
       "align_items": null,
       "align_self": null,
       "border": null,
       "bottom": null,
       "display": null,
       "flex": null,
       "flex_flow": null,
       "grid_area": null,
       "grid_auto_columns": null,
       "grid_auto_flow": null,
       "grid_auto_rows": null,
       "grid_column": null,
       "grid_gap": null,
       "grid_row": null,
       "grid_template_areas": null,
       "grid_template_columns": null,
       "grid_template_rows": null,
       "height": null,
       "justify_content": null,
       "justify_items": null,
       "left": null,
       "margin": null,
       "max_height": null,
       "max_width": null,
       "min_height": null,
       "min_width": null,
       "object_fit": null,
       "object_position": null,
       "order": null,
       "overflow": null,
       "overflow_x": null,
       "overflow_y": null,
       "padding": null,
       "right": null,
       "top": null,
       "visibility": null,
       "width": null
      }
     },
     "16ffdaa039904d8e903ddd02ca3eed6f": {
      "model_module": "@jupyter-widgets/base",
      "model_module_version": "1.2.0",
      "model_name": "LayoutModel",
      "state": {
       "_model_module": "@jupyter-widgets/base",
       "_model_module_version": "1.2.0",
       "_model_name": "LayoutModel",
       "_view_count": null,
       "_view_module": "@jupyter-widgets/base",
       "_view_module_version": "1.2.0",
       "_view_name": "LayoutView",
       "align_content": null,
       "align_items": null,
       "align_self": null,
       "border": null,
       "bottom": null,
       "display": null,
       "flex": null,
       "flex_flow": null,
       "grid_area": null,
       "grid_auto_columns": null,
       "grid_auto_flow": null,
       "grid_auto_rows": null,
       "grid_column": null,
       "grid_gap": null,
       "grid_row": null,
       "grid_template_areas": null,
       "grid_template_columns": null,
       "grid_template_rows": null,
       "height": null,
       "justify_content": null,
       "justify_items": null,
       "left": null,
       "margin": null,
       "max_height": null,
       "max_width": null,
       "min_height": null,
       "min_width": null,
       "object_fit": null,
       "object_position": null,
       "order": null,
       "overflow": null,
       "overflow_x": null,
       "overflow_y": null,
       "padding": null,
       "right": null,
       "top": null,
       "visibility": null,
       "width": null
      }
     },
     "1a243f6c58414683b26a8111e81faa8d": {
      "model_module": "@jupyter-widgets/controls",
      "model_module_version": "1.5.0",
      "model_name": "HTMLModel",
      "state": {
       "_dom_classes": [],
       "_model_module": "@jupyter-widgets/controls",
       "_model_module_version": "1.5.0",
       "_model_name": "HTMLModel",
       "_view_count": null,
       "_view_module": "@jupyter-widgets/controls",
       "_view_module_version": "1.5.0",
       "_view_name": "HTMLView",
       "description": "",
       "description_tooltip": null,
       "layout": "IPY_MODEL_ad91f1bae04d4b8aa5f8bbf68c6cf788",
       "placeholder": "​",
       "style": "IPY_MODEL_42e021f14aea4b36b3c566a9ef92aac1",
       "value": "100%"
      }
     },
     "26dc84e8bb7b4b18a835bbdcfb17f6d6": {
      "model_module": "@jupyter-widgets/base",
      "model_module_version": "1.2.0",
      "model_name": "LayoutModel",
      "state": {
       "_model_module": "@jupyter-widgets/base",
       "_model_module_version": "1.2.0",
       "_model_name": "LayoutModel",
       "_view_count": null,
       "_view_module": "@jupyter-widgets/base",
       "_view_module_version": "1.2.0",
       "_view_name": "LayoutView",
       "align_content": null,
       "align_items": null,
       "align_self": null,
       "border": null,
       "bottom": null,
       "display": null,
       "flex": null,
       "flex_flow": null,
       "grid_area": null,
       "grid_auto_columns": null,
       "grid_auto_flow": null,
       "grid_auto_rows": null,
       "grid_column": null,
       "grid_gap": null,
       "grid_row": null,
       "grid_template_areas": null,
       "grid_template_columns": null,
       "grid_template_rows": null,
       "height": null,
       "justify_content": null,
       "justify_items": null,
       "left": null,
       "margin": null,
       "max_height": null,
       "max_width": null,
       "min_height": null,
       "min_width": null,
       "object_fit": null,
       "object_position": null,
       "order": null,
       "overflow": null,
       "overflow_x": null,
       "overflow_y": null,
       "padding": null,
       "right": null,
       "top": null,
       "visibility": null,
       "width": null
      }
     },
     "30f8fc5078434afc99d0f9504f8ecb90": {
      "model_module": "@jupyter-widgets/controls",
      "model_module_version": "1.5.0",
      "model_name": "ProgressStyleModel",
      "state": {
       "_model_module": "@jupyter-widgets/controls",
       "_model_module_version": "1.5.0",
       "_model_name": "ProgressStyleModel",
       "_view_count": null,
       "_view_module": "@jupyter-widgets/base",
       "_view_module_version": "1.2.0",
       "_view_name": "StyleView",
       "bar_color": null,
       "description_width": ""
      }
     },
     "3cd78c8741374fdca21a15bd226dfaac": {
      "model_module": "@jupyter-widgets/base",
      "model_module_version": "1.2.0",
      "model_name": "LayoutModel",
      "state": {
       "_model_module": "@jupyter-widgets/base",
       "_model_module_version": "1.2.0",
       "_model_name": "LayoutModel",
       "_view_count": null,
       "_view_module": "@jupyter-widgets/base",
       "_view_module_version": "1.2.0",
       "_view_name": "LayoutView",
       "align_content": null,
       "align_items": null,
       "align_self": null,
       "border": null,
       "bottom": null,
       "display": null,
       "flex": null,
       "flex_flow": null,
       "grid_area": null,
       "grid_auto_columns": null,
       "grid_auto_flow": null,
       "grid_auto_rows": null,
       "grid_column": null,
       "grid_gap": null,
       "grid_row": null,
       "grid_template_areas": null,
       "grid_template_columns": null,
       "grid_template_rows": null,
       "height": null,
       "justify_content": null,
       "justify_items": null,
       "left": null,
       "margin": null,
       "max_height": null,
       "max_width": null,
       "min_height": null,
       "min_width": null,
       "object_fit": null,
       "object_position": null,
       "order": null,
       "overflow": null,
       "overflow_x": null,
       "overflow_y": null,
       "padding": null,
       "right": null,
       "top": null,
       "visibility": null,
       "width": null
      }
     },
     "42b58c4a36104ca9a22076ffa24de0e8": {
      "model_module": "@jupyter-widgets/controls",
      "model_module_version": "1.5.0",
      "model_name": "HTMLModel",
      "state": {
       "_dom_classes": [],
       "_model_module": "@jupyter-widgets/controls",
       "_model_module_version": "1.5.0",
       "_model_name": "HTMLModel",
       "_view_count": null,
       "_view_module": "@jupyter-widgets/controls",
       "_view_module_version": "1.5.0",
       "_view_name": "HTMLView",
       "description": "",
       "description_tooltip": null,
       "layout": "IPY_MODEL_138879142168424185537d4707b20e40",
       "placeholder": "​",
       "style": "IPY_MODEL_b9795aa66bd04c9f99b7b390b134d246",
       "value": " 4/4 [00:00&lt;00:00, 157.32it/s]"
      }
     },
     "42e021f14aea4b36b3c566a9ef92aac1": {
      "model_module": "@jupyter-widgets/controls",
      "model_module_version": "1.5.0",
      "model_name": "DescriptionStyleModel",
      "state": {
       "_model_module": "@jupyter-widgets/controls",
       "_model_module_version": "1.5.0",
       "_model_name": "DescriptionStyleModel",
       "_view_count": null,
       "_view_module": "@jupyter-widgets/base",
       "_view_module_version": "1.2.0",
       "_view_name": "StyleView",
       "description_width": ""
      }
     },
     "4689b2a94594461e835e74d1367226c3": {
      "model_module": "@jupyter-widgets/controls",
      "model_module_version": "1.5.0",
      "model_name": "HTMLModel",
      "state": {
       "_dom_classes": [],
       "_model_module": "@jupyter-widgets/controls",
       "_model_module_version": "1.5.0",
       "_model_name": "HTMLModel",
       "_view_count": null,
       "_view_module": "@jupyter-widgets/controls",
       "_view_module_version": "1.5.0",
       "_view_name": "HTMLView",
       "description": "",
       "description_tooltip": null,
       "layout": "IPY_MODEL_daaa248d1f7344358124a46809aa7f30",
       "placeholder": "​",
       "style": "IPY_MODEL_b07d102b31404a6aaf28eec2b476de28",
       "value": "0it [00:00, ?it/s]"
      }
     },
     "69f494507fbc44fc8b2fa13a1d63f546": {
      "model_module": "@jupyter-widgets/controls",
      "model_module_version": "1.5.0",
      "model_name": "DescriptionStyleModel",
      "state": {
       "_model_module": "@jupyter-widgets/controls",
       "_model_module_version": "1.5.0",
       "_model_name": "DescriptionStyleModel",
       "_view_count": null,
       "_view_module": "@jupyter-widgets/base",
       "_view_module_version": "1.2.0",
       "_view_name": "StyleView",
       "description_width": ""
      }
     },
     "9cb2430361c443b68490611b371b3f10": {
      "model_module": "@jupyter-widgets/controls",
      "model_module_version": "1.5.0",
      "model_name": "ProgressStyleModel",
      "state": {
       "_model_module": "@jupyter-widgets/controls",
       "_model_module_version": "1.5.0",
       "_model_name": "ProgressStyleModel",
       "_view_count": null,
       "_view_module": "@jupyter-widgets/base",
       "_view_module_version": "1.2.0",
       "_view_name": "StyleView",
       "bar_color": null,
       "description_width": ""
      }
     },
     "aaab0a3daf6b42149307c45299618c31": {
      "model_module": "@jupyter-widgets/controls",
      "model_module_version": "1.5.0",
      "model_name": "HTMLModel",
      "state": {
       "_dom_classes": [],
       "_model_module": "@jupyter-widgets/controls",
       "_model_module_version": "1.5.0",
       "_model_name": "HTMLModel",
       "_view_count": null,
       "_view_module": "@jupyter-widgets/controls",
       "_view_module_version": "1.5.0",
       "_view_name": "HTMLView",
       "description": "",
       "description_tooltip": null,
       "layout": "IPY_MODEL_e2763129d91440d3bb78285e44bdb052",
       "placeholder": "​",
       "style": "IPY_MODEL_ebe217ba48ef4315bc211969a75d5955",
       "value": ""
      }
     },
     "ad220d8b06c0426ca869f336f1dc5d7f": {
      "model_module": "@jupyter-widgets/controls",
      "model_module_version": "1.5.0",
      "model_name": "FloatProgressModel",
      "state": {
       "_dom_classes": [],
       "_model_module": "@jupyter-widgets/controls",
       "_model_module_version": "1.5.0",
       "_model_name": "FloatProgressModel",
       "_view_count": null,
       "_view_module": "@jupyter-widgets/controls",
       "_view_module_version": "1.5.0",
       "_view_name": "ProgressView",
       "bar_style": "success",
       "description": "",
       "description_tooltip": null,
       "layout": "IPY_MODEL_16ffdaa039904d8e903ddd02ca3eed6f",
       "max": 4.0,
       "min": 0.0,
       "orientation": "horizontal",
       "style": "IPY_MODEL_c16e1178cd98406c9ba87a4df8fdf1c9",
       "value": 4.0
      }
     },
     "ad91f1bae04d4b8aa5f8bbf68c6cf788": {
      "model_module": "@jupyter-widgets/base",
      "model_module_version": "1.2.0",
      "model_name": "LayoutModel",
      "state": {
       "_model_module": "@jupyter-widgets/base",
       "_model_module_version": "1.2.0",
       "_model_name": "LayoutModel",
       "_view_count": null,
       "_view_module": "@jupyter-widgets/base",
       "_view_module_version": "1.2.0",
       "_view_name": "LayoutView",
       "align_content": null,
       "align_items": null,
       "align_self": null,
       "border": null,
       "bottom": null,
       "display": null,
       "flex": null,
       "flex_flow": null,
       "grid_area": null,
       "grid_auto_columns": null,
       "grid_auto_flow": null,
       "grid_auto_rows": null,
       "grid_column": null,
       "grid_gap": null,
       "grid_row": null,
       "grid_template_areas": null,
       "grid_template_columns": null,
       "grid_template_rows": null,
       "height": null,
       "justify_content": null,
       "justify_items": null,
       "left": null,
       "margin": null,
       "max_height": null,
       "max_width": null,
       "min_height": null,
       "min_width": null,
       "object_fit": null,
       "object_position": null,
       "order": null,
       "overflow": null,
       "overflow_x": null,
       "overflow_y": null,
       "padding": null,
       "right": null,
       "top": null,
       "visibility": null,
       "width": null
      }
     },
     "b07d102b31404a6aaf28eec2b476de28": {
      "model_module": "@jupyter-widgets/controls",
      "model_module_version": "1.5.0",
      "model_name": "DescriptionStyleModel",
      "state": {
       "_model_module": "@jupyter-widgets/controls",
       "_model_module_version": "1.5.0",
       "_model_name": "DescriptionStyleModel",
       "_view_count": null,
       "_view_module": "@jupyter-widgets/base",
       "_view_module_version": "1.2.0",
       "_view_name": "StyleView",
       "description_width": ""
      }
     },
     "b46062d171c64f06b89c5673a1571eea": {
      "model_module": "@jupyter-widgets/base",
      "model_module_version": "1.2.0",
      "model_name": "LayoutModel",
      "state": {
       "_model_module": "@jupyter-widgets/base",
       "_model_module_version": "1.2.0",
       "_model_name": "LayoutModel",
       "_view_count": null,
       "_view_module": "@jupyter-widgets/base",
       "_view_module_version": "1.2.0",
       "_view_name": "LayoutView",
       "align_content": null,
       "align_items": null,
       "align_self": null,
       "border": null,
       "bottom": null,
       "display": null,
       "flex": null,
       "flex_flow": null,
       "grid_area": null,
       "grid_auto_columns": null,
       "grid_auto_flow": null,
       "grid_auto_rows": null,
       "grid_column": null,
       "grid_gap": null,
       "grid_row": null,
       "grid_template_areas": null,
       "grid_template_columns": null,
       "grid_template_rows": null,
       "height": null,
       "justify_content": null,
       "justify_items": null,
       "left": null,
       "margin": null,
       "max_height": null,
       "max_width": null,
       "min_height": null,
       "min_width": null,
       "object_fit": null,
       "object_position": null,
       "order": null,
       "overflow": null,
       "overflow_x": null,
       "overflow_y": null,
       "padding": null,
       "right": null,
       "top": null,
       "visibility": null,
       "width": null
      }
     },
     "b9795aa66bd04c9f99b7b390b134d246": {
      "model_module": "@jupyter-widgets/controls",
      "model_module_version": "1.5.0",
      "model_name": "DescriptionStyleModel",
      "state": {
       "_model_module": "@jupyter-widgets/controls",
       "_model_module_version": "1.5.0",
       "_model_name": "DescriptionStyleModel",
       "_view_count": null,
       "_view_module": "@jupyter-widgets/base",
       "_view_module_version": "1.2.0",
       "_view_name": "StyleView",
       "description_width": ""
      }
     },
     "c028078862d34c35a95c1f87b47ca1b1": {
      "model_module": "@jupyter-widgets/base",
      "model_module_version": "1.2.0",
      "model_name": "LayoutModel",
      "state": {
       "_model_module": "@jupyter-widgets/base",
       "_model_module_version": "1.2.0",
       "_model_name": "LayoutModel",
       "_view_count": null,
       "_view_module": "@jupyter-widgets/base",
       "_view_module_version": "1.2.0",
       "_view_name": "LayoutView",
       "align_content": null,
       "align_items": null,
       "align_self": null,
       "border": null,
       "bottom": null,
       "display": null,
       "flex": null,
       "flex_flow": null,
       "grid_area": null,
       "grid_auto_columns": null,
       "grid_auto_flow": null,
       "grid_auto_rows": null,
       "grid_column": null,
       "grid_gap": null,
       "grid_row": null,
       "grid_template_areas": null,
       "grid_template_columns": null,
       "grid_template_rows": null,
       "height": null,
       "justify_content": null,
       "justify_items": null,
       "left": null,
       "margin": null,
       "max_height": null,
       "max_width": null,
       "min_height": null,
       "min_width": null,
       "object_fit": null,
       "object_position": null,
       "order": null,
       "overflow": null,
       "overflow_x": null,
       "overflow_y": null,
       "padding": null,
       "right": null,
       "top": null,
       "visibility": null,
       "width": null
      }
     },
     "c16e1178cd98406c9ba87a4df8fdf1c9": {
      "model_module": "@jupyter-widgets/controls",
      "model_module_version": "1.5.0",
      "model_name": "ProgressStyleModel",
      "state": {
       "_model_module": "@jupyter-widgets/controls",
       "_model_module_version": "1.5.0",
       "_model_name": "ProgressStyleModel",
       "_view_count": null,
       "_view_module": "@jupyter-widgets/base",
       "_view_module_version": "1.2.0",
       "_view_name": "StyleView",
       "bar_color": null,
       "description_width": ""
      }
     },
     "c8704dc30b8641988380bf72b24ad4da": {
      "model_module": "@jupyter-widgets/controls",
      "model_module_version": "1.5.0",
      "model_name": "HBoxModel",
      "state": {
       "_dom_classes": [],
       "_model_module": "@jupyter-widgets/controls",
       "_model_module_version": "1.5.0",
       "_model_name": "HBoxModel",
       "_view_count": null,
       "_view_module": "@jupyter-widgets/controls",
       "_view_module_version": "1.5.0",
       "_view_name": "HBoxView",
       "box_style": "",
       "children": [
        "IPY_MODEL_1a243f6c58414683b26a8111e81faa8d",
        "IPY_MODEL_e70df56ec95a43d6bb24e583898b9676",
        "IPY_MODEL_42b58c4a36104ca9a22076ffa24de0e8"
       ],
       "layout": "IPY_MODEL_b46062d171c64f06b89c5673a1571eea"
      }
     },
     "cc9bc556152a41c69637d42e8a739873": {
      "model_module": "@jupyter-widgets/controls",
      "model_module_version": "1.5.0",
      "model_name": "HTMLModel",
      "state": {
       "_dom_classes": [],
       "_model_module": "@jupyter-widgets/controls",
       "_model_module_version": "1.5.0",
       "_model_name": "HTMLModel",
       "_view_count": null,
       "_view_module": "@jupyter-widgets/controls",
       "_view_module_version": "1.5.0",
       "_view_name": "HTMLView",
       "description": "",
       "description_tooltip": null,
       "layout": "IPY_MODEL_de393544f667427785e661a2e28375c0",
       "placeholder": "​",
       "style": "IPY_MODEL_69f494507fbc44fc8b2fa13a1d63f546",
       "value": " 4/4 [00:00&lt;00:00, 148.39it/s]"
      }
     },
     "cce2bb1ceb234d1ca4cfc6146bfd9cf9": {
      "model_module": "@jupyter-widgets/base",
      "model_module_version": "1.2.0",
      "model_name": "LayoutModel",
      "state": {
       "_model_module": "@jupyter-widgets/base",
       "_model_module_version": "1.2.0",
       "_model_name": "LayoutModel",
       "_view_count": null,
       "_view_module": "@jupyter-widgets/base",
       "_view_module_version": "1.2.0",
       "_view_name": "LayoutView",
       "align_content": null,
       "align_items": null,
       "align_self": null,
       "border": null,
       "bottom": null,
       "display": null,
       "flex": null,
       "flex_flow": null,
       "grid_area": null,
       "grid_auto_columns": null,
       "grid_auto_flow": null,
       "grid_auto_rows": null,
       "grid_column": null,
       "grid_gap": null,
       "grid_row": null,
       "grid_template_areas": null,
       "grid_template_columns": null,
       "grid_template_rows": null,
       "height": null,
       "justify_content": null,
       "justify_items": null,
       "left": null,
       "margin": null,
       "max_height": null,
       "max_width": null,
       "min_height": null,
       "min_width": null,
       "object_fit": null,
       "object_position": null,
       "order": null,
       "overflow": null,
       "overflow_x": null,
       "overflow_y": null,
       "padding": null,
       "right": null,
       "top": null,
       "visibility": null,
       "width": null
      }
     },
     "daaa248d1f7344358124a46809aa7f30": {
      "model_module": "@jupyter-widgets/base",
      "model_module_version": "1.2.0",
      "model_name": "LayoutModel",
      "state": {
       "_model_module": "@jupyter-widgets/base",
       "_model_module_version": "1.2.0",
       "_model_name": "LayoutModel",
       "_view_count": null,
       "_view_module": "@jupyter-widgets/base",
       "_view_module_version": "1.2.0",
       "_view_name": "LayoutView",
       "align_content": null,
       "align_items": null,
       "align_self": null,
       "border": null,
       "bottom": null,
       "display": null,
       "flex": null,
       "flex_flow": null,
       "grid_area": null,
       "grid_auto_columns": null,
       "grid_auto_flow": null,
       "grid_auto_rows": null,
       "grid_column": null,
       "grid_gap": null,
       "grid_row": null,
       "grid_template_areas": null,
       "grid_template_columns": null,
       "grid_template_rows": null,
       "height": null,
       "justify_content": null,
       "justify_items": null,
       "left": null,
       "margin": null,
       "max_height": null,
       "max_width": null,
       "min_height": null,
       "min_width": null,
       "object_fit": null,
       "object_position": null,
       "order": null,
       "overflow": null,
       "overflow_x": null,
       "overflow_y": null,
       "padding": null,
       "right": null,
       "top": null,
       "visibility": null,
       "width": null
      }
     },
     "dc81ff8bad8940d5aad19c9882838c7e": {
      "model_module": "@jupyter-widgets/controls",
      "model_module_version": "1.5.0",
      "model_name": "HTMLModel",
      "state": {
       "_dom_classes": [],
       "_model_module": "@jupyter-widgets/controls",
       "_model_module_version": "1.5.0",
       "_model_name": "HTMLModel",
       "_view_count": null,
       "_view_module": "@jupyter-widgets/controls",
       "_view_module_version": "1.5.0",
       "_view_name": "HTMLView",
       "description": "",
       "description_tooltip": null,
       "layout": "IPY_MODEL_26dc84e8bb7b4b18a835bbdcfb17f6d6",
       "placeholder": "​",
       "style": "IPY_MODEL_087e239cc1e34252886b200108053436",
       "value": "100%"
      }
     },
     "de393544f667427785e661a2e28375c0": {
      "model_module": "@jupyter-widgets/base",
      "model_module_version": "1.2.0",
      "model_name": "LayoutModel",
      "state": {
       "_model_module": "@jupyter-widgets/base",
       "_model_module_version": "1.2.0",
       "_model_name": "LayoutModel",
       "_view_count": null,
       "_view_module": "@jupyter-widgets/base",
       "_view_module_version": "1.2.0",
       "_view_name": "LayoutView",
       "align_content": null,
       "align_items": null,
       "align_self": null,
       "border": null,
       "bottom": null,
       "display": null,
       "flex": null,
       "flex_flow": null,
       "grid_area": null,
       "grid_auto_columns": null,
       "grid_auto_flow": null,
       "grid_auto_rows": null,
       "grid_column": null,
       "grid_gap": null,
       "grid_row": null,
       "grid_template_areas": null,
       "grid_template_columns": null,
       "grid_template_rows": null,
       "height": null,
       "justify_content": null,
       "justify_items": null,
       "left": null,
       "margin": null,
       "max_height": null,
       "max_width": null,
       "min_height": null,
       "min_width": null,
       "object_fit": null,
       "object_position": null,
       "order": null,
       "overflow": null,
       "overflow_x": null,
       "overflow_y": null,
       "padding": null,
       "right": null,
       "top": null,
       "visibility": null,
       "width": null
      }
     },
     "de66c7aa637c4090b96101804eb3ca0e": {
      "model_module": "@jupyter-widgets/controls",
      "model_module_version": "1.5.0",
      "model_name": "FloatProgressModel",
      "state": {
       "_dom_classes": [],
       "_model_module": "@jupyter-widgets/controls",
       "_model_module_version": "1.5.0",
       "_model_name": "FloatProgressModel",
       "_view_count": null,
       "_view_module": "@jupyter-widgets/controls",
       "_view_module_version": "1.5.0",
       "_view_name": "ProgressView",
       "bar_style": "success",
       "description": "",
       "description_tooltip": null,
       "layout": "IPY_MODEL_fe1d5888227743f8b1c8905231793dea",
       "max": 1.0,
       "min": 0.0,
       "orientation": "horizontal",
       "style": "IPY_MODEL_9cb2430361c443b68490611b371b3f10",
       "value": 0.0
      }
     },
     "e2763129d91440d3bb78285e44bdb052": {
      "model_module": "@jupyter-widgets/base",
      "model_module_version": "1.2.0",
      "model_name": "LayoutModel",
      "state": {
       "_model_module": "@jupyter-widgets/base",
       "_model_module_version": "1.2.0",
       "_model_name": "LayoutModel",
       "_view_count": null,
       "_view_module": "@jupyter-widgets/base",
       "_view_module_version": "1.2.0",
       "_view_name": "LayoutView",
       "align_content": null,
       "align_items": null,
       "align_self": null,
       "border": null,
       "bottom": null,
       "display": null,
       "flex": null,
       "flex_flow": null,
       "grid_area": null,
       "grid_auto_columns": null,
       "grid_auto_flow": null,
       "grid_auto_rows": null,
       "grid_column": null,
       "grid_gap": null,
       "grid_row": null,
       "grid_template_areas": null,
       "grid_template_columns": null,
       "grid_template_rows": null,
       "height": null,
       "justify_content": null,
       "justify_items": null,
       "left": null,
       "margin": null,
       "max_height": null,
       "max_width": null,
       "min_height": null,
       "min_width": null,
       "object_fit": null,
       "object_position": null,
       "order": null,
       "overflow": null,
       "overflow_x": null,
       "overflow_y": null,
       "padding": null,
       "right": null,
       "top": null,
       "visibility": null,
       "width": null
      }
     },
     "e70df56ec95a43d6bb24e583898b9676": {
      "model_module": "@jupyter-widgets/controls",
      "model_module_version": "1.5.0",
      "model_name": "FloatProgressModel",
      "state": {
       "_dom_classes": [],
       "_model_module": "@jupyter-widgets/controls",
       "_model_module_version": "1.5.0",
       "_model_name": "FloatProgressModel",
       "_view_count": null,
       "_view_module": "@jupyter-widgets/controls",
       "_view_module_version": "1.5.0",
       "_view_name": "ProgressView",
       "bar_style": "success",
       "description": "",
       "description_tooltip": null,
       "layout": "IPY_MODEL_c028078862d34c35a95c1f87b47ca1b1",
       "max": 4.0,
       "min": 0.0,
       "orientation": "horizontal",
       "style": "IPY_MODEL_30f8fc5078434afc99d0f9504f8ecb90",
       "value": 4.0
      }
     },
     "ebe217ba48ef4315bc211969a75d5955": {
      "model_module": "@jupyter-widgets/controls",
      "model_module_version": "1.5.0",
      "model_name": "DescriptionStyleModel",
      "state": {
       "_model_module": "@jupyter-widgets/controls",
       "_model_module_version": "1.5.0",
       "_model_name": "DescriptionStyleModel",
       "_view_count": null,
       "_view_module": "@jupyter-widgets/base",
       "_view_module_version": "1.2.0",
       "_view_name": "StyleView",
       "description_width": ""
      }
     },
     "f5a34b94b7d544f59883f9ceeebe8732": {
      "model_module": "@jupyter-widgets/controls",
      "model_module_version": "1.5.0",
      "model_name": "HBoxModel",
      "state": {
       "_dom_classes": [],
       "_model_module": "@jupyter-widgets/controls",
       "_model_module_version": "1.5.0",
       "_model_name": "HBoxModel",
       "_view_count": null,
       "_view_module": "@jupyter-widgets/controls",
       "_view_module_version": "1.5.0",
       "_view_name": "HBoxView",
       "box_style": "",
       "children": [
        "IPY_MODEL_dc81ff8bad8940d5aad19c9882838c7e",
        "IPY_MODEL_ad220d8b06c0426ca869f336f1dc5d7f",
        "IPY_MODEL_cc9bc556152a41c69637d42e8a739873"
       ],
       "layout": "IPY_MODEL_3cd78c8741374fdca21a15bd226dfaac"
      }
     },
     "fe1d5888227743f8b1c8905231793dea": {
      "model_module": "@jupyter-widgets/base",
      "model_module_version": "1.2.0",
      "model_name": "LayoutModel",
      "state": {
       "_model_module": "@jupyter-widgets/base",
       "_model_module_version": "1.2.0",
       "_model_name": "LayoutModel",
       "_view_count": null,
       "_view_module": "@jupyter-widgets/base",
       "_view_module_version": "1.2.0",
       "_view_name": "LayoutView",
       "align_content": null,
       "align_items": null,
       "align_self": null,
       "border": null,
       "bottom": null,
       "display": null,
       "flex": null,
       "flex_flow": null,
       "grid_area": null,
       "grid_auto_columns": null,
       "grid_auto_flow": null,
       "grid_auto_rows": null,
       "grid_column": null,
       "grid_gap": null,
       "grid_row": null,
       "grid_template_areas": null,
       "grid_template_columns": null,
       "grid_template_rows": null,
       "height": null,
       "justify_content": null,
       "justify_items": null,
       "left": null,
       "margin": null,
       "max_height": null,
       "max_width": null,
       "min_height": null,
       "min_width": null,
       "object_fit": null,
       "object_position": null,
       "order": null,
       "overflow": null,
       "overflow_x": null,
       "overflow_y": null,
       "padding": null,
       "right": null,
       "top": null,
       "visibility": null,
       "width": "20px"
      }
     }
    },
    "version_major": 2,
    "version_minor": 0
   }
  }
 },
 "nbformat": 4,
 "nbformat_minor": 4
}
