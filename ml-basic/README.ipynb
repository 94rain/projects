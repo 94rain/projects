{
 "cells": [
  {
   "cell_type": "markdown",
   "metadata": {
    "papermill": {
     "duration": 0.004493,
     "end_time": "2020-10-15T20:24:29.132168",
     "exception": false,
     "start_time": "2020-10-15T20:24:29.127675",
     "status": "completed"
    },
    "tags": []
   },
   "source": [
    "# Basic ML project\n",
    "\n",
    "This example shows how to build a Machine Learning pipeline using the Spec API.\n",
    "\n",
    "Take a look at the `pipeline.yaml` for more details.\n",
    "\n",
    "## Setup\n",
    "\n",
    "Make sure you are in the `ml-basic` folder.\n",
    "\n",
    "```bash .noeval\n",
    "# setup environment\n",
    "conda env create --file environment.yml\n",
    "conda activate ml-basic\n",
    "```\n",
    "\n",
    "## Execute the pipeline"
   ]
  },
  {
   "cell_type": "code",
   "execution_count": 1,
   "metadata": {
    "execution": {
     "iopub.execute_input": "2020-10-15T20:24:29.146118Z",
     "iopub.status.busy": "2020-10-15T20:24:29.144362Z",
     "iopub.status.idle": "2020-10-15T20:24:33.514852Z",
     "shell.execute_reply": "2020-10-15T20:24:33.515492Z"
    },
    "papermill": {
     "duration": 4.380546,
     "end_time": "2020-10-15T20:24:33.515745",
     "exception": false,
     "start_time": "2020-10-15T20:24:29.135199",
     "status": "completed"
    },
    "tags": [
     "bash"
    ]
   },
   "outputs": [
    {
     "name": "stdout",
     "output_type": "stream",
     "text": [
      "name      Ran?      Elapsed (s)    Percentage\n",
      "--------  ------  -------------  ------------\n",
      "get       False               0             0\n",
      "features  False               0             0\n",
      "join      False               0             0\n",
      "fit.py    False               0             0\n"
     ]
    },
    {
     "name": "stderr",
     "output_type": "stream",
     "text": [
      "mkdir: output: File exists\n",
      "\r",
      "  0%|          | 0/4 [00:00<?, ?it/s]\r",
      "Rendering DAG:   0%|          | 0/4 [00:00<?, ?it/s]\r",
      "Rendering DAG:   0%|          | 0/4 [00:00<?, ?it/s]\r",
      "Rendering DAG:   0%|          | 0/4 [00:00<?, ?it/s]\r",
      "Rendering DAG:  75%|███████▌  | 3/4 [00:00<00:00, 22.72it/s]\r",
      "Rendering DAG:  75%|███████▌  | 3/4 [00:00<00:00, 22.72it/s]\r",
      "Rendering DAG: 100%|██████████| 4/4 [00:00<00:00, 12.13it/s]\r",
      "Rendering DAG: 100%|██████████| 4/4 [00:00<00:00, 13.15it/s]\n",
      "\r",
      "0it [00:00, ?it/s]\r",
      "4it [00:00, 23399.19it/s]\n"
     ]
    }
   ],
   "source": [
    "%%sh\n",
    "# make sure output folder exists\n",
    "mkdir output\n",
    "\n",
    "# execute using the spec file\n",
    "ploomber build --entry-point pipeline.yaml"
   ]
  },
  {
   "cell_type": "markdown",
   "metadata": {
    "papermill": {
     "duration": 0.002741,
     "end_time": "2020-10-15T20:24:33.521683",
     "exception": false,
     "start_time": "2020-10-15T20:24:33.518942",
     "status": "completed"
    },
    "tags": []
   },
   "source": [
    "Note: `ploomber build` also works because Ploomber looks for a `pipeline.yaml` file by default."
   ]
  }
 ],
 "metadata": {
  "jupytext": {
   "cell_metadata_filter": "tags,-all",
   "main_language": "bash",
   "notebook_metadata_filter": "-all",
   "text_representation": {
    "extension": ".md",
    "format_name": "markdown"
   }
  },
  "language_info": {
   "codemirror_mode": {
    "name": "ipython",
    "version": 3
   },
   "file_extension": ".py",
   "mimetype": "text/x-python",
   "name": "python",
   "nbconvert_exporter": "python",
   "pygments_lexer": "ipython3",
   "version": "3.6.10"
  },
  "papermill": {
   "duration": 5.592425,
   "end_time": "2020-10-15T20:24:33.738337",
   "environment_variables": {},
   "exception": null,
   "input_path": "ml-basic/README.ipynb",
   "output_path": "ml-basic/README.ipynb",
   "parameters": {},
   "start_time": "2020-10-15T20:24:28.145912",
   "version": "2.1.2"
  }
 },
 "nbformat": 4,
 "nbformat_minor": 4
}