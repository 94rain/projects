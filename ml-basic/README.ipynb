{
 "cells": [
  {
   "cell_type": "markdown",
   "metadata": {},
   "source": [
    "# Basic ML project\n",
    "\n",
    "This example shows how to build a Machine Learning pipeline using the Spec API.\n",
    "\n",
    "Take a look at the `pipeline.yaml` for more details.\n",
    "\n",
    "## Setup\n",
    "\n",
    "(**Note**: Only required if you are running this example in your computer, not\n",
    "required if using Binder/Deepnote)\n",
    "\n",
    "~~~bash\n",
    "# make sure you are in the ml-basic folder.\n",
    "conda env create --file environment.yml\n",
    "conda activate ml-basic\n",
    "~~~\n",
    "\n",
    "## Description"
   ]
  },
  {
   "cell_type": "code",
   "execution_count": null,
   "metadata": {
    "tags": [
     "bash"
    ]
   },
   "outputs": [],
   "source": [
    "%%sh\n",
    "%%bash\n",
    "ploomber plot"
   ]
  },
  {
   "cell_type": "code",
   "execution_count": null,
   "metadata": {},
   "outputs": [],
   "source": [
    "from IPython.display import Image\n",
    "Image(filename='pipeline.png')"
   ]
  },
  {
   "cell_type": "code",
   "execution_count": null,
   "metadata": {
    "tags": [
     "bash"
    ]
   },
   "outputs": [],
   "source": [
    "%%sh\n",
    "%%bash\n",
    "ploomber status"
   ]
  },
  {
   "cell_type": "markdown",
   "metadata": {},
   "source": [
    "## Executing the pipeline from the command line (shell)"
   ]
  },
  {
   "cell_type": "code",
   "execution_count": null,
   "metadata": {
    "tags": [
     "bash"
    ]
   },
   "outputs": [],
   "source": [
    "%%sh\n",
    "%%bash\n",
    "ploomber build"
   ]
  },
  {
   "cell_type": "markdown",
   "metadata": {},
   "source": [
    "Output is generated in the ``output/`` directory.\n",
    "\n",
    "## Interacting with your pipeline from Python session"
   ]
  },
  {
   "cell_type": "code",
   "execution_count": null,
   "metadata": {},
   "outputs": [],
   "source": [
    "from ploomber.spec import DAGSpec\n",
    "\n",
    "dag = DAGSpec('pipeline.yaml').to_dag()\n",
    "dag.status()"
   ]
  },
  {
   "cell_type": "code",
   "execution_count": null,
   "metadata": {},
   "outputs": [],
   "source": [
    "dag.build()"
   ]
  },
  {
   "cell_type": "markdown",
   "metadata": {},
   "source": [
    "``DAG`` has a dict-like interface, to get a task:"
   ]
  },
  {
   "cell_type": "code",
   "execution_count": null,
   "metadata": {},
   "outputs": [],
   "source": [
    "dag['fit']"
   ]
  },
  {
   "cell_type": "markdown",
   "metadata": {},
   "source": [
    "There are a lot of things you can do with from a Python session, see the\n",
    "documentation for ``ploomber.DAG`` for details.\n",
    "\n",
    "A shortcut to initialize a Python session from a terminal:\n",
    "\n",
    "~~~bash\n",
    "ploomber interact\n",
    "~~~\n",
    "\n",
    "## Where to go from here\n",
    "\n",
    "[`ml-intermediate/`](../ml-intermediate/README.ipynb) contains another ML\n",
    "pipeline with more features. It shows how\n",
    "to parametrize a pipeline using an `env.yaml` file (so you can run your pipeline\n",
    "with a small sample to test things quickly), run integration tests using\n",
    "`on_finish` and customizing output notebooks/reports."
   ]
  },
  {
   "cell_type": "code",
   "execution_count": null,
   "metadata": {
    "tags": [
     "parameters"
    ]
   },
   "outputs": [],
   "source": []
  }
 ],
 "metadata": {
  "jupytext": {
   "cell_metadata_filter": "tags,-all",
   "main_language": "python",
   "notebook_metadata_filter": "-all",
   "text_representation": {
    "extension": ".md",
    "format_name": "markdown"
   }
  }
 },
 "nbformat": 4,
 "nbformat_minor": 4
}
