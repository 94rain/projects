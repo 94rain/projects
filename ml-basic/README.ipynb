{
 "cells": [
  {
   "cell_type": "markdown",
   "metadata": {
    "papermill": {
     "duration": 0.003828,
     "end_time": "2020-10-15T22:42:54.716490",
     "exception": false,
     "start_time": "2020-10-15T22:42:54.712662",
     "status": "completed"
    },
    "tags": []
   },
   "source": [
    "# Basic ML project\n",
    "\n",
    "This example shows how to build a Machine Learning pipeline using the Spec API.\n",
    "\n",
    "Take a look at the `pipeline.yaml` for more details.\n",
    "\n",
    "## Setup\n",
    "\n",
    "Make sure you are in the `ml-basic` folder.\n",
    "\n",
    "```bash .noeval\n",
    "# setup environment\n",
    "conda env create --file environment.yml\n",
    "conda activate ml-basic\n",
    "```\n",
    "\n",
    "## Execute the pipeline"
   ]
  },
  {
   "cell_type": "code",
   "execution_count": 1,
   "metadata": {
    "execution": {
     "iopub.execute_input": "2020-10-15T22:42:54.728627Z",
     "iopub.status.busy": "2020-10-15T22:42:54.727275Z",
     "iopub.status.idle": "2020-10-15T22:43:04.445092Z",
     "shell.execute_reply": "2020-10-15T22:43:04.445712Z"
    },
    "papermill": {
     "duration": 9.725958,
     "end_time": "2020-10-15T22:43:04.445962",
     "exception": false,
     "start_time": "2020-10-15T22:42:54.720004",
     "status": "completed"
    },
    "tags": [
     "bash"
    ]
   },
   "outputs": [
    {
     "name": "stdout",
     "output_type": "stream",
     "text": [
      "name      Ran?      Elapsed (s)    Percentage\n",
      "--------  ------  -------------  ------------\n",
      "get       True         0.017036      0.370937\n",
      "features  True         0.168734      3.67397\n",
      "join      True         0.172828      3.76311\n",
      "fit.py    True         4.23409      92.192\n"
     ]
    },
    {
     "name": "stderr",
     "output_type": "stream",
     "text": [
      "mkdir: output: File exists\n",
      "\r",
      "  0%|          | 0/4 [00:00<?, ?it/s]\r",
      "Rendering DAG:   0%|          | 0/4 [00:00<?, ?it/s]\r",
      "Rendering DAG:   0%|          | 0/4 [00:00<?, ?it/s]\r",
      "Rendering DAG:   0%|          | 0/4 [00:00<?, ?it/s]\r",
      "Rendering DAG:   0%|          | 0/4 [00:00<?, ?it/s]\r",
      "Rendering DAG: 100%|██████████| 4/4 [00:00<00:00, 35.36it/s]\r",
      "Rendering DAG: 100%|██████████| 4/4 [00:00<00:00, 35.26it/s]\n",
      "\r",
      "  0%|          | 0/4 [00:00<?, ?it/s]\r",
      "Building task \"get\":   0%|          | 0/4 [00:00<?, ?it/s]\r",
      "Building task \"get\":  25%|██▌       | 1/4 [00:00<00:00,  8.64it/s]\r",
      "Building task \"features\":  25%|██▌       | 1/4 [00:00<00:00,  8.64it/s]\r",
      "Building task \"features\":  50%|█████     | 2/4 [00:00<00:00,  6.69it/s]\r",
      "Building task \"join\":  50%|█████     | 2/4 [00:00<00:00,  6.69it/s]    \r",
      "Building task \"join\":  75%|███████▌  | 3/4 [00:00<00:00,  5.85it/s]\r",
      "Building task \"fit.py\":  75%|███████▌  | 3/4 [00:00<00:00,  5.85it/s]\n",
      "\r",
      "Executing:   0%|          | 0/11 [00:00<?, ?cell/s]\u001b[A\n",
      "\r",
      "Executing:   9%|▉         | 1/11 [00:01<00:10,  1.08s/cell]\u001b[A\n",
      "\r",
      "Executing:  18%|█▊        | 2/11 [00:02<00:09,  1.08s/cell]\u001b[A\n",
      "\r",
      "Executing:  45%|████▌     | 5/11 [00:02<00:04,  1.30cell/s]\u001b[A\n",
      "\r",
      "Executing:  64%|██████▎   | 7/11 [00:02<00:02,  1.77cell/s]\u001b[A\n",
      "\r",
      "Executing:  91%|█████████ | 10/11 [00:02<00:00,  2.34cell/s]\u001b[A\r",
      "Executing: 100%|██████████| 11/11 [00:04<00:00,  2.62cell/s]\n",
      "\r",
      "Building task \"fit.py\": 100%|██████████| 4/4 [00:04<00:00,  1.39s/it]\r",
      "Building task \"fit.py\": 100%|██████████| 4/4 [00:04<00:00,  1.20s/it]\n"
     ]
    }
   ],
   "source": [
    "%%sh\n",
    "# make sure output folder exists\n",
    "mkdir output\n",
    "\n",
    "# execute using the spec file\n",
    "ploomber build --entry-point pipeline.yaml"
   ]
  },
  {
   "cell_type": "markdown",
   "metadata": {
    "papermill": {
     "duration": 0.004364,
     "end_time": "2020-10-15T22:43:04.455070",
     "exception": false,
     "start_time": "2020-10-15T22:43:04.450706",
     "status": "completed"
    },
    "tags": []
   },
   "source": [
    "Note: `ploomber build` also works because Ploomber looks for a `pipeline.yaml` file by default."
   ]
  }
 ],
 "metadata": {
  "jupytext": {
   "cell_metadata_filter": "tags,-all",
   "main_language": "bash",
   "notebook_metadata_filter": "-all",
   "text_representation": {
    "extension": ".md",
    "format_name": "markdown"
   }
  },
  "language_info": {
   "codemirror_mode": {
    "name": "ipython",
    "version": 3
   },
   "file_extension": ".py",
   "mimetype": "text/x-python",
   "name": "python",
   "nbconvert_exporter": "python",
   "pygments_lexer": "ipython3",
   "version": "3.6.10"
  },
  "papermill": {
   "duration": 11.00414,
   "end_time": "2020-10-15T22:43:04.671594",
   "environment_variables": {},
   "exception": null,
   "input_path": "ml-basic/README.ipynb",
   "output_path": "ml-basic/README.ipynb",
   "parameters": {},
   "start_time": "2020-10-15T22:42:53.667454",
   "version": "2.1.2"
  }
 },
 "nbformat": 4,
 "nbformat_minor": 4
}