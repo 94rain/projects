{
 "cells": [
  {
   "cell_type": "markdown",
   "id": "76d8840c",
   "metadata": {
    "papermill": {
     "duration": 0.04633,
     "end_time": "2021-11-05T12:28:27.217698",
     "exception": false,
     "start_time": "2021-11-05T12:28:27.171368",
     "status": "completed"
    },
    "tags": []
   },
   "source": [
    "To run this example locally, [install Ploomber](https://ploomber.readthedocs.io/en/latest/get-started/install.html) and execute: `ploomber examples -n guides/spec-api-python`\n",
    "\n",
    "To start a free, hosted JupyterLab: [![binder-logo](https://mybinder.org/badge_logo.svg)](https://mybinder.org/v2/gh/ploomber/binder-env/main?urlpath=git-pull%3Frepo%3Dhttps%253A%252F%252Fgithub.com%252Fploomber%252Fprojects%26urlpath%3Dlab%252Ftree%252Fprojects%252Fguides/spec-api-python%252FREADME.ipynb%26branch%3Dmaster)\n",
    "\n",
    "Found an issue? [Let us know.](https://github.com/ploomber/projects/issues/new?title=guides/spec-api-python%20issue)\n",
    "\n",
    "Have questions? [Ask us anything on Slack.](http://community.ploomber.io/)\n",
    "\n"
   ]
  },
  {
   "cell_type": "markdown",
   "id": "8a3f5221",
   "metadata": {
    "papermill": {
     "duration": 0.042024,
     "end_time": "2021-11-05T12:28:27.300836",
     "exception": false,
     "start_time": "2021-11-05T12:28:27.258812",
     "status": "completed"
    },
    "tags": []
   },
   "source": [
    "# Your first Python pipeline\n",
    "\n",
    "<!-- start description -->\n",
    "Introductory tutorial to learn the basics of Ploomber.\n",
    "<!-- end description -->\n",
    "\n",
    "**Note:** This is intended for a quick and interactive experience. If you want\n",
    "to learn about Ploomber's core concepts and design rationale, go to the\n",
    "[the next tutorial](https://ploomber.readthedocs.io/en/latest/get-started/basic-concepts.html).\n",
    "\n",
    "## Why Ploomber?\n",
    "\n",
    "**Notebooks are hard to maintain.** Teams often prototype projects in notebooks, but maintaining them is an error-prone process that slows progress down. Ploomber overcomes the challenges of working with `.ipynb` files allowing teams to develop collaborative, production-ready pipelines using JupyterLab or any text editor.\n",
    "\n",
    "## Introduction\n",
    "\n",
    "A pipeline (or **DAG**) is simply a group of tasks with a particular execution order, where subsequent (or **downstream** tasks) use previous (or **upstream**) tasks as inputs.\n",
    "\n",
    "This example pipeline contains three tasks, the first task, `get.py` gets some data, `clean.py` cleans it, and `plot.py` generates a visualization:"
   ]
  },
  {
   "cell_type": "code",
   "execution_count": 1,
   "id": "d5a8dcaa",
   "metadata": {
    "execution": {
     "iopub.execute_input": "2021-11-05T12:28:27.388687Z",
     "iopub.status.busy": "2021-11-05T12:28:27.387885Z",
     "iopub.status.idle": "2021-11-05T12:28:27.452940Z",
     "shell.execute_reply": "2021-11-05T12:28:27.453457Z"
    },
    "papermill": {
     "duration": 0.11345,
     "end_time": "2021-11-05T12:28:27.453814",
     "exception": false,
     "start_time": "2021-11-05T12:28:27.340364",
     "status": "completed"
    },
    "tags": []
   },
   "outputs": [
    {
     "name": "stdout",
     "output_type": "stream",
     "text": [
      "clean.py\n",
      "get.py\n",
      "plot.py\n"
     ]
    }
   ],
   "source": [
    "%%bash\n",
    "ls *.py"
   ]
  },
  {
   "cell_type": "markdown",
   "id": "e1abd7cb",
   "metadata": {
    "papermill": {
     "duration": 0.044848,
     "end_time": "2021-11-05T12:28:27.541012",
     "exception": false,
     "start_time": "2021-11-05T12:28:27.496164",
     "status": "completed"
    },
    "tags": []
   },
   "source": [
    "**Note:** These tasks are Python scripts, but you can use functions, notebooks,\n",
    "and SQL scripts. An upcoming guide explains how other types of tasks work.\n",
    "\n",
    "## Integration with Jupyter\n",
    "\n",
    "Ploomber integrates with Jupyter. If you open the scripts inside the\n",
    "`jupyter notebook` app, they will render as notebooks. If you're using `jupyter lab`, you need to right click -> open with -> Notebook as shown below:\n",
    "\n",
    "![lab-open-with-nb](https://ploomber.io/doc/lab-open-with-notebook.png)\n",
    "\n",
    "**Note**: You can use regular `.ipynb` files for your pipeline; however, using plain `.py` files is recommended since they're easier to manage with git.\n",
    "\n",
    "Along with the `*.py` files, there is a `pipeline.yaml` file where we declare which files we use as tasks:"
   ]
  },
  {
   "cell_type": "markdown",
   "id": "ae7b0f40",
   "metadata": {
    "papermill": {
     "duration": 0.040718,
     "end_time": "2021-11-05T12:28:27.624453",
     "exception": false,
     "start_time": "2021-11-05T12:28:27.583735",
     "status": "completed"
    },
    "region_name": "md",
    "tags": []
   },
   "source": [
    "```yaml\n",
    "# Content of pipeline.yaml\n",
    "tasks:\n",
    "  - source: get.py\n",
    "    product:\n",
    "      nb: output/get.ipynb\n",
    "      data: output/data.csv\n",
    "\n",
    "  - source: clean.py\n",
    "    product:\n",
    "      nb: output/clean.ipynb\n",
    "      data: output/clean.csv\n",
    "\n",
    "  - source: plot.py\n",
    "    product: output/plot.ipynb\n",
    "\n",
    "```"
   ]
  },
  {
   "cell_type": "markdown",
   "id": "2fdd20d1",
   "metadata": {
    "papermill": {
     "duration": 0.044891,
     "end_time": "2021-11-05T12:28:27.709736",
     "exception": false,
     "start_time": "2021-11-05T12:28:27.664845",
     "status": "completed"
    },
    "tags": []
   },
   "source": [
    "Let's plot the pipeline:"
   ]
  },
  {
   "cell_type": "code",
   "execution_count": 2,
   "id": "058d65f3",
   "metadata": {
    "execution": {
     "iopub.execute_input": "2021-11-05T12:28:27.796073Z",
     "iopub.status.busy": "2021-11-05T12:28:27.795297Z",
     "iopub.status.idle": "2021-11-05T12:28:33.393864Z",
     "shell.execute_reply": "2021-11-05T12:28:33.394723Z"
    },
    "papermill": {
     "duration": 5.644671,
     "end_time": "2021-11-05T12:28:33.395031",
     "exception": false,
     "start_time": "2021-11-05T12:28:27.750360",
     "status": "completed"
    },
    "tags": []
   },
   "outputs": [
    {
     "name": "stdout",
     "output_type": "stream",
     "text": [
      "Plot saved at: pipeline.png\n"
     ]
    },
    {
     "name": "stderr",
     "output_type": "stream",
     "text": [
      "\r",
      "  0%|          | 0/3 [00:00<?, ?it/s]\r",
      "100%|██████████| 3/3 [00:00<00:00, 3613.70it/s]\n"
     ]
    }
   ],
   "source": [
    "%%bash\n",
    "ploomber plot"
   ]
  },
  {
   "cell_type": "code",
   "execution_count": 3,
   "id": "278c7676",
   "metadata": {
    "execution": {
     "iopub.execute_input": "2021-11-05T12:28:33.496538Z",
     "iopub.status.busy": "2021-11-05T12:28:33.489272Z",
     "iopub.status.idle": "2021-11-05T12:28:33.501002Z",
     "shell.execute_reply": "2021-11-05T12:28:33.501543Z"
    },
    "papermill": {
     "duration": 0.062534,
     "end_time": "2021-11-05T12:28:33.501826",
     "exception": false,
     "start_time": "2021-11-05T12:28:33.439292",
     "status": "completed"
    },
    "tags": []
   },
   "outputs": [
    {
     "data": {
      "image/png": "[encoded data removed]",
      "text/plain": [
       "<IPython.core.display.Image object>"
      ]
     },
     "execution_count": 3,
     "metadata": {},
     "output_type": "execute_result"
    }
   ],
   "source": [
    "from IPython.display import Image\n",
    "Image(filename='pipeline.png')"
   ]
  },
  {
   "cell_type": "markdown",
   "id": "12d54a30",
   "metadata": {
    "papermill": {
     "duration": 0.051109,
     "end_time": "2021-11-05T12:28:33.598974",
     "exception": false,
     "start_time": "2021-11-05T12:28:33.547865",
     "status": "completed"
    },
    "tags": []
   },
   "source": [
    "You can see that our pipeline has a defined execution order: `get` -> `clean` -> `plot`.\n",
    "\n",
    "Let's now execute the `status` command, which gives us an overview of the pipeline:"
   ]
  },
  {
   "cell_type": "code",
   "execution_count": 4,
   "id": "9e56b169",
   "metadata": {
    "execution": {
     "iopub.execute_input": "2021-11-05T12:28:33.729472Z",
     "iopub.status.busy": "2021-11-05T12:28:33.728625Z",
     "iopub.status.idle": "2021-11-05T12:28:37.814602Z",
     "shell.execute_reply": "2021-11-05T12:28:37.815657Z"
    },
    "papermill": {
     "duration": 4.157806,
     "end_time": "2021-11-05T12:28:37.815932",
     "exception": false,
     "start_time": "2021-11-05T12:28:33.658126",
     "status": "completed"
    },
    "tags": []
   },
   "outputs": [
    {
     "name": "stdout",
     "output_type": "stream",
     "text": [
      "name    Last run      Outdated?    Product       Doc (short)    Location\n",
      "------  ------------  -----------  ------------  -------------  ------------\n",
      "get     Has not been  Source code  MetaProduct(                 /Users/Edu/d\n",
      "        run                        {'data': Fil                 ev/projects-\n",
      "                                   e('output/da                 ploomber/gui\n",
      "                                   ta.csv'),                    des/spec-\n",
      "                                   'nb': File('                 api-python/g\n",
      "                                   output/get.i                 et.py\n",
      "                                   pynb')})\n",
      "clean   Has not been  Source code  MetaProduct(                 /Users/Edu/d\n",
      "        run           & Upstream   {'data': Fil                 ev/projects-\n",
      "                                   e('output/cl                 ploomber/gui\n",
      "                                   ean.csv'),                   des/spec-\n",
      "                                   'nb': File('                 api-python/c\n",
      "                                   output/clean                 lean.py\n",
      "                                   .ipynb')})\n",
      "plot    Has not been  Source code  File('output                 /Users/Edu/d\n",
      "        run           & Upstream   /plot.ipynb'                 ev/projects-\n",
      "                                   )                            ploomber/gui\n",
      "                                                                des/spec-\n",
      "                                                                api-python/p\n",
      "                                                                lot.py\n"
     ]
    },
    {
     "name": "stderr",
     "output_type": "stream",
     "text": [
      "\r",
      "  0%|          | 0/3 [00:00<?, ?it/s]\r",
      "100%|██████████| 3/3 [00:00<00:00, 3225.56it/s]\n"
     ]
    }
   ],
   "source": [
    "%%bash\n",
    "ploomber status"
   ]
  },
  {
   "cell_type": "markdown",
   "id": "f8139ef6",
   "metadata": {
    "papermill": {
     "duration": 0.049613,
     "end_time": "2021-11-05T12:28:37.919441",
     "exception": false,
     "start_time": "2021-11-05T12:28:37.869828",
     "status": "completed"
    },
    "tags": []
   },
   "source": [
    "We can see a summary of each task: last execution date, if it's outdated (i.e., source code changed since previous execution), product (output files), documentation (if any), and the source code location.\n",
    "\n",
    "## How is execution order determined?\n",
    "\n",
    "Ploomber infers the pipeline structure from your code. For example, to\n",
    "clean the data, we must get it first; hence, we declare the following in `clean.py`:\n",
    "\n",
    "~~~python\n",
    "# this tells Ploomber to execute 'get' task before 'clean'\n",
    "upstream = ['get']\n",
    "~~~\n",
    "\n",
    "Once we finish cleaning the data, we must save it somewhere (In Ploomber, an output is known\n",
    "as a **product**). Products can be files or SQL relations. Our current example\n",
    "only generates files.\n",
    "\n",
    "To specify where to save the output of each task, we use the `product`\n",
    "key. For example, the `get` task definition looks like this:\n",
    "\n",
    "~~~yaml\n",
    "- source: get.py\n",
    "  product:\n",
    "    nb: output/get.ipynb\n",
    "    data: output/data.csv\n",
    "~~~\n",
    "\n",
    "Scripts automatically generate a copy of themselves in Jupyter\n",
    "notebook format (`.ipynb`). That's why we see a notebook in the `product`\n",
    "dictionary (under the `nb` key). Generating a copy on each execution allows us to create standalone reports for each task, no need to write extra code to save our charts! Notebooks as outputs are an essential concept: `get.py` is part of the pipeline's\n",
    "source code; in contrast, `output/get.ipynb` is an artifact generated by the source code.\n",
    "\n",
    "If you don't want to generate output notebooks, you can use Python functions\n",
    "as tasks. Our upcoming tutorial goes deeper into the different types of tasks.\n",
    "\n",
    "## Building the pipeline\n",
    "\n",
    "Let's build the pipeline:"
   ]
  },
  {
   "cell_type": "code",
   "execution_count": 5,
   "id": "8f903246",
   "metadata": {
    "execution": {
     "iopub.execute_input": "2021-11-05T12:28:38.029432Z",
     "iopub.status.busy": "2021-11-05T12:28:38.028183Z",
     "iopub.status.idle": "2021-11-05T12:28:51.158928Z",
     "shell.execute_reply": "2021-11-05T12:28:51.160580Z"
    },
    "papermill": {
     "duration": 13.194651,
     "end_time": "2021-11-05T12:28:51.161077",
     "exception": false,
     "start_time": "2021-11-05T12:28:37.966426",
     "status": "completed"
    },
    "tags": []
   },
   "outputs": [
    {
     "name": "stdout",
     "output_type": "stream",
     "text": [
      "name    Ran?      Elapsed (s)    Percentage\n",
      "------  ------  -------------  ------------\n",
      "get     True          3.32293       37.0116\n",
      "clean   True          2.09533       23.3383\n",
      "plot    True          3.55981       39.6501\n"
     ]
    },
    {
     "name": "stderr",
     "output_type": "stream",
     "text": [
      "\r",
      "  0%|          | 0/3 [00:00<?, ?it/s]\r",
      "Building task 'get':   0%|          | 0/3 [00:00<?, ?it/s]\n",
      "\r",
      "Executing:   0%|          | 0/5 [00:00<?, ?cell/s]\u001b[A\n",
      "\r",
      "Executing:  20%|██        | 1/5 [00:02<00:11,  2.81s/cell]\u001b[A\n",
      "\r",
      "Executing:  80%|████████  | 4/5 [00:02<00:00,  1.78cell/s]\u001b[A\r",
      "Executing: 100%|██████████| 5/5 [00:03<00:00,  1.53cell/s]\n",
      "\r",
      "Building task 'get':  33%|███▎      | 1/3 [00:03<00:06,  3.33s/it]\r",
      "Building task 'clean':  33%|███▎      | 1/3 [00:03<00:06,  3.33s/it]\n",
      "\r",
      "Executing:   0%|          | 0/5 [00:00<?, ?cell/s]\u001b[A\n",
      "\r",
      "Executing:  20%|██        | 1/5 [00:01<00:06,  1.70s/cell]\u001b[A\n",
      "\r",
      "Executing: 100%|██████████| 5/5 [00:01<00:00,  3.55cell/s]\u001b[A\r",
      "Executing: 100%|██████████| 5/5 [00:02<00:00,  2.44cell/s]\n",
      "\r",
      "Building task 'clean':  67%|██████▋   | 2/3 [00:05<00:02,  2.61s/it]\r",
      "Building task 'plot':  67%|██████▋   | 2/3 [00:05<00:02,  2.61s/it] \n",
      "\r",
      "Executing:   0%|          | 0/7 [00:00<?, ?cell/s]\u001b[A\n",
      "\r",
      "Executing:  14%|█▍        | 1/7 [00:02<00:14,  2.44s/cell]\u001b[A\n",
      "\r",
      "Executing:  57%|█████▋    | 4/7 [00:02<00:01,  2.03cell/s]\u001b[A\n",
      "\r",
      "Executing:  86%|████████▌ | 6/7 [00:03<00:00,  2.57cell/s]\u001b[A\r",
      "Executing: 100%|██████████| 7/7 [00:03<00:00,  2.03cell/s]\n",
      "\r",
      "Building task 'plot': 100%|██████████| 3/3 [00:08<00:00,  3.04s/it]\r",
      "Building task 'plot': 100%|██████████| 3/3 [00:08<00:00,  3.00s/it]\n"
     ]
    }
   ],
   "source": [
    "%%bash\n",
    "# takes a few seconds to finish\n",
    "mkdir output\n",
    "ploomber build"
   ]
  },
  {
   "cell_type": "markdown",
   "id": "02400abd",
   "metadata": {
    "papermill": {
     "duration": 0.065003,
     "end_time": "2021-11-05T12:28:51.287026",
     "exception": false,
     "start_time": "2021-11-05T12:28:51.222023",
     "status": "completed"
    },
    "tags": []
   },
   "source": [
    "This pipeline saves all the output in the `output/` directory; we have a few\n",
    "data files:"
   ]
  },
  {
   "cell_type": "code",
   "execution_count": 6,
   "id": "4630d1de",
   "metadata": {
    "execution": {
     "iopub.execute_input": "2021-11-05T12:28:51.421732Z",
     "iopub.status.busy": "2021-11-05T12:28:51.420735Z",
     "iopub.status.idle": "2021-11-05T12:28:51.492266Z",
     "shell.execute_reply": "2021-11-05T12:28:51.492940Z"
    },
    "papermill": {
     "duration": 0.135777,
     "end_time": "2021-11-05T12:28:51.493180",
     "exception": false,
     "start_time": "2021-11-05T12:28:51.357403",
     "status": "completed"
    },
    "tags": []
   },
   "outputs": [
    {
     "name": "stdout",
     "output_type": "stream",
     "text": [
      "output/clean.csv\n",
      "output/data.csv\n"
     ]
    }
   ],
   "source": [
    "%%bash\n",
    "ls output/*.csv"
   ]
  },
  {
   "cell_type": "markdown",
   "id": "d430a125",
   "metadata": {
    "papermill": {
     "duration": 0.062888,
     "end_time": "2021-11-05T12:28:51.619791",
     "exception": false,
     "start_time": "2021-11-05T12:28:51.556903",
     "status": "completed"
    },
    "tags": []
   },
   "source": [
    "And a notebook for each script:"
   ]
  },
  {
   "cell_type": "code",
   "execution_count": 7,
   "id": "9ff3cf31",
   "metadata": {
    "execution": {
     "iopub.execute_input": "2021-11-05T12:28:51.738591Z",
     "iopub.status.busy": "2021-11-05T12:28:51.736276Z",
     "iopub.status.idle": "2021-11-05T12:28:51.806250Z",
     "shell.execute_reply": "2021-11-05T12:28:51.806875Z"
    },
    "papermill": {
     "duration": 0.132555,
     "end_time": "2021-11-05T12:28:51.807101",
     "exception": false,
     "start_time": "2021-11-05T12:28:51.674546",
     "status": "completed"
    },
    "tags": []
   },
   "outputs": [
    {
     "name": "stdout",
     "output_type": "stream",
     "text": [
      "output/clean.ipynb\n",
      "output/get.ipynb\n",
      "output/plot.ipynb\n"
     ]
    }
   ],
   "source": [
    "%%bash\n",
    "ls output/*.ipynb"
   ]
  },
  {
   "cell_type": "markdown",
   "id": "5ba941db",
   "metadata": {
    "papermill": {
     "duration": 0.056842,
     "end_time": "2021-11-05T12:28:51.926501",
     "exception": false,
     "start_time": "2021-11-05T12:28:51.869659",
     "status": "completed"
    },
    "tags": []
   },
   "source": [
    "## Updating the pipeline\n",
    "\n",
    "Quick experimentation is essential to analyze data. Ploomber allows\n",
    "you to iterate faster and run more experiments.\n",
    "\n",
    "Say you found a problematic column and need to add few more lines to your `clean.py` script. Since `get.py` does not depend on `clean.py`, we don't have to rerun it. However, if we modify `clean.py` and want to bring our results up-to-date, we must run `clean.py`, and then `plot.py`, in that order. To save you valuable time, Ploomber keeps track of those dependencies and only reruns outdated tasks.\n",
    "\n",
    "To see how it works, execute the following to modify the `clean.py` script"
   ]
  },
  {
   "cell_type": "code",
   "execution_count": 8,
   "id": "0758f0d3",
   "metadata": {
    "execution": {
     "iopub.execute_input": "2021-11-05T12:28:52.051152Z",
     "iopub.status.busy": "2021-11-05T12:28:52.049911Z",
     "iopub.status.idle": "2021-11-05T12:28:52.055956Z",
     "shell.execute_reply": "2021-11-05T12:28:52.056539Z"
    },
    "papermill": {
     "duration": 0.076371,
     "end_time": "2021-11-05T12:28:52.056789",
     "exception": false,
     "start_time": "2021-11-05T12:28:51.980418",
     "status": "completed"
    },
    "tags": []
   },
   "outputs": [
    {
     "data": {
      "text/plain": [
       "225"
      ]
     },
     "execution_count": 8,
     "metadata": {},
     "output_type": "execute_result"
    }
   ],
   "source": [
    "from pathlib import Path\n",
    "\n",
    "path = Path('clean.py')\n",
    "clean = path.read_text()\n",
    "path.write_text(clean + '\\nprint(\"hello\")')"
   ]
  },
  {
   "cell_type": "markdown",
   "id": "c09113ee",
   "metadata": {
    "papermill": {
     "duration": 0.064149,
     "end_time": "2021-11-05T12:28:52.182860",
     "exception": false,
     "start_time": "2021-11-05T12:28:52.118711",
     "status": "completed"
    },
    "tags": []
   },
   "source": [
    "Let's now build again:"
   ]
  },
  {
   "cell_type": "code",
   "execution_count": 9,
   "id": "64579320",
   "metadata": {
    "execution": {
     "iopub.execute_input": "2021-11-05T12:28:52.302849Z",
     "iopub.status.busy": "2021-11-05T12:28:52.302111Z",
     "iopub.status.idle": "2021-11-05T12:29:02.554799Z",
     "shell.execute_reply": "2021-11-05T12:29:02.555767Z"
    },
    "papermill": {
     "duration": 10.31581,
     "end_time": "2021-11-05T12:29:02.555994",
     "exception": false,
     "start_time": "2021-11-05T12:28:52.240184",
     "status": "completed"
    },
    "tags": []
   },
   "outputs": [
    {
     "name": "stdout",
     "output_type": "stream",
     "text": [
      "name    Ran?      Elapsed (s)    Percentage\n",
      "------  ------  -------------  ------------\n",
      "clean   True          2.46494       39.4429\n",
      "plot    True          3.78445       60.5571\n",
      "get     False         0              0\n"
     ]
    },
    {
     "name": "stderr",
     "output_type": "stream",
     "text": [
      "\r",
      "  0%|          | 0/2 [00:00<?, ?it/s]\r",
      "Building task 'clean':   0%|          | 0/2 [00:00<?, ?it/s]\n",
      "\r",
      "Executing:   0%|          | 0/6 [00:00<?, ?cell/s]\u001b[A\n",
      "\r",
      "Executing:  17%|█▋        | 1/6 [00:02<00:10,  2.00s/cell]\u001b[A\n",
      "\r",
      "Executing:  67%|██████▋   | 4/6 [00:02<00:00,  2.43cell/s]\u001b[A\r",
      "Executing: 100%|██████████| 6/6 [00:02<00:00,  2.48cell/s]\n",
      "\r",
      "Building task 'clean':  50%|█████     | 1/2 [00:02<00:02,  2.47s/it]\r",
      "Building task 'plot':  50%|█████     | 1/2 [00:02<00:02,  2.47s/it] \n",
      "\r",
      "Executing:   0%|          | 0/7 [00:00<?, ?cell/s]\u001b[A\n",
      "\r",
      "Executing:  14%|█▍        | 1/7 [00:02<00:14,  2.47s/cell]\u001b[A\n",
      "\r",
      "Executing:  57%|█████▋    | 4/7 [00:02<00:01,  1.99cell/s]\u001b[A\n",
      "\r",
      "Executing:  86%|████████▌ | 6/7 [00:03<00:00,  2.42cell/s]\u001b[A\r",
      "Executing: 100%|██████████| 7/7 [00:03<00:00,  1.89cell/s]\n",
      "\r",
      "Building task 'plot': 100%|██████████| 2/2 [00:06<00:00,  3.25s/it]\r",
      "Building task 'plot': 100%|██████████| 2/2 [00:06<00:00,  3.13s/it]\n"
     ]
    }
   ],
   "source": [
    "%%bash\n",
    "# takes a few seconds to finish\n",
    "ploomber build"
   ]
  },
  {
   "cell_type": "code",
   "execution_count": 10,
   "id": "1d64818b",
   "metadata": {
    "execution": {
     "iopub.execute_input": "2021-11-05T12:29:02.680999Z",
     "iopub.status.busy": "2021-11-05T12:29:02.680075Z",
     "iopub.status.idle": "2021-11-05T12:29:02.684798Z",
     "shell.execute_reply": "2021-11-05T12:29:02.685350Z"
    },
    "papermill": {
     "duration": 0.071349,
     "end_time": "2021-11-05T12:29:02.685600",
     "exception": false,
     "start_time": "2021-11-05T12:29:02.614251",
     "status": "completed"
    },
    "tags": []
   },
   "outputs": [
    {
     "data": {
      "text/plain": [
       "210"
      ]
     },
     "execution_count": 10,
     "metadata": {},
     "output_type": "execute_result"
    }
   ],
   "source": [
    "# restore contents\n",
    "path.write_text(clean)"
   ]
  },
  {
   "cell_type": "markdown",
   "id": "0f490976",
   "metadata": {
    "papermill": {
     "duration": 0.058203,
     "end_time": "2021-11-05T12:29:02.803486",
     "exception": false,
     "start_time": "2021-11-05T12:29:02.745283",
     "status": "completed"
    },
    "tags": []
   },
   "source": [
    "You'll see that `get.py` didn't run because it was not affected by the change!\n",
    "\n",
    "Incremental builds are a powerful feature: you can open any of the `.py` files in Jupyter, edit them interactively (as if they were notebooks), then call `ploomber build` to quickly get your results up-to-date.\n",
    "\n",
    "## Where to go from here\n",
    "\n",
    "This tutorial shows a bit of what Ploomber can do for you. However, there are many other features to discover: task parallelization, parametrization, execution in the cloud, among others.\n",
    "\n",
    "Want to dig deeper into Ploomber's core concepts? Check out [the basic concepts tutorial](https://ploomber.readthedocs.io/en/latest/get-started/basic-concepts.html).\n",
    "\n",
    "Want to take a look at some examples? Check out how to [download templates](https://ploomber.readthedocs.io/en/latest/user-guide/templates.html).\n",
    "\n",
    "Have questions? [Ask us anything on Slack](http://community.ploomber.io/) or [open an issue](https://github.com/ploomber/ploomber/issues/new?title=Question) on GitHub.\n",
    "\n",
    "Do you like our project? Show your support with a [star on GitHub](https://github.com/ploomber/ploomber)!"
   ]
  }
 ],
 "metadata": {
  "kernelspec": {
   "display_name": "Python 3 (ipykernel)",
   "language": "python",
   "name": "python3"
  },
  "language_info": {
   "codemirror_mode": {
    "name": "ipython",
    "version": 3
   },
   "file_extension": ".py",
   "mimetype": "text/x-python",
   "name": "python",
   "nbconvert_exporter": "python",
   "pygments_lexer": "ipython3",
   "version": "3.9.7"
  },
  "papermill": {
   "default_parameters": {},
   "duration": 37.461312,
   "end_time": "2021-11-05T12:29:03.078233",
   "environment_variables": {},
   "exception": null,
   "input_path": "guides/spec-api-python/_build/readme_preprocessed.ipynb",
   "output_path": "guides/spec-api-python/README.ipynb",
   "parameters": {},
   "start_time": "2021-11-05T12:28:25.616921",
   "version": "2.3.3"
  }
 },
 "nbformat": 4,
 "nbformat_minor": 5
}