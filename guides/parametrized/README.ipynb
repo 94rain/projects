{
 "cells": [
  {
   "cell_type": "markdown",
   "id": "5b64d955",
   "metadata": {
    "papermill": {
     "duration": 0.042391,
     "end_time": "2021-10-19T02:14:52.010312",
     "exception": false,
     "start_time": "2021-10-19T02:14:51.967921",
     "status": "completed"
    },
    "tags": []
   },
   "source": [
    "To run this example locally, execute: `ploomber examples -n guides/parametrized`.\n",
    "\n",
    "To start a free, hosted JupyterLab: [![binder-logo](https://mybinder.org/badge_logo.svg)](https://mybinder.org/v2/gh/ploomber/binder-env/main?urlpath=git-pull%3Frepo%3Dhttps%253A%252F%252Fgithub.com%252Fploomber%252Fprojects%26urlpath%3Dlab%252Ftree%252Fprojects%252Fguides/parametrized%252FREADME.ipynb%26branch%3Dmaster)\n",
    "\n",
    "Found an issue? [Let us know.](https://github.com/ploomber/projects/issues/new?title=guides/parametrized%20issue)\n",
    "\n",
    "Have questions? [Ask us anything on Slack.](http://community.ploomber.io/)\n"
   ]
  },
  {
   "cell_type": "markdown",
   "id": "ce61e65b",
   "metadata": {
    "papermill": {
     "duration": 0.043948,
     "end_time": "2021-10-19T02:14:52.098539",
     "exception": false,
     "start_time": "2021-10-19T02:14:52.054591",
     "status": "completed"
    },
    "tags": []
   },
   "source": [
    "# Parametrized pipelines\n",
    "\n",
    "<!-- start description -->\n",
    "Tutorial showing how to parametrize pipelines and change parameters from the command-line.\n",
    "<!-- end description -->\n",
    "\n",
    "Often, pipelines perform the same operation over different subsets of the data. For example, say you are developing visualizations of economic data. You might want to generate the same charts for other countries. \n",
    "\n",
    "One way to approach the problem is to have a for loop on each pipeline task to process all needed countries. But such an approach adds unnecessary complexity to our code; it's better to keep our logic simple (each task processes a single country) and take the iterative logic out of our pipeline.\n",
    "\n",
    "Ploomber allows you to do so using parametrized pipelines. Let's see a sample using a `pipeline.yaml` file.\n",
    "\n",
    "## Spec API (``pipeline.yaml``)\n"
   ]
  },
  {
   "cell_type": "markdown",
   "id": "00a58ac9",
   "metadata": {
    "papermill": {
     "duration": 0.040876,
     "end_time": "2021-10-19T02:14:52.180861",
     "exception": false,
     "start_time": "2021-10-19T02:14:52.139985",
     "status": "completed"
    },
    "region_name": "md",
    "tags": []
   },
   "source": [
    "```yaml\n",
    "# Content of pipeline.yaml\n",
    "tasks:\n",
    "  - source: print.py\n",
    "    name: print\n",
    "    product:\n",
    "      nb: 'output/{{some_param}}/notebook.ipynb'\n",
    "    papermill_params:\n",
    "        log_output: True\n",
    "    params:\n",
    "      some_param: '{{some_param}}'\n",
    "```"
   ]
  },
  {
   "cell_type": "markdown",
   "id": "ca58d6a7",
   "metadata": {
    "papermill": {
     "duration": 0.040508,
     "end_time": "2021-10-19T02:14:52.259694",
     "exception": false,
     "start_time": "2021-10-19T02:14:52.219186",
     "status": "completed"
    },
    "tags": []
   },
   "source": [
    "The `pipeline.yaml` above has a placeholder called `some_param`. It is coming from a file called `env.yaml`:"
   ]
  },
  {
   "cell_type": "markdown",
   "id": "ba607745",
   "metadata": {
    "papermill": {
     "duration": 0.038273,
     "end_time": "2021-10-19T02:14:52.336006",
     "exception": false,
     "start_time": "2021-10-19T02:14:52.297733",
     "status": "completed"
    },
    "region_name": "md",
    "tags": []
   },
   "source": [
    "```yaml\n",
    "# Content of env.yaml\n",
    "some_param: default_value\n",
    "```"
   ]
  },
  {
   "cell_type": "markdown",
   "id": "bff0a5ba",
   "metadata": {
    "papermill": {
     "duration": 0.03938,
     "end_time": "2021-10-19T02:14:52.414057",
     "exception": false,
     "start_time": "2021-10-19T02:14:52.374677",
     "status": "completed"
    },
    "tags": []
   },
   "source": [
    "When reading your `pipeline.yaml`, Ploomber looks for an `env.yaml` file. If found, all defined keys will be available to your pipeline definition. You can use these placeholders (placeholders are strings between double curly brackets) in any of the fields of your `pipeline.yaml` file.\n",
    "\n",
    "In our case, we are using it in two places. First, we will save the executed notebook in a folder with the value of `some_param`; this will allow you to keep copies of the generated output in a different folder depending on your parameter. Second, if we want to use the parameter in our code, we have to pass it to our tasks; all tasks take an optional `params` with arbitrary parameters.\n",
    "\n",
    "Let's see how the code looks like:"
   ]
  },
  {
   "cell_type": "markdown",
   "id": "b5d8fc85",
   "metadata": {
    "papermill": {
     "duration": 0.037864,
     "end_time": "2021-10-19T02:14:52.490315",
     "exception": false,
     "start_time": "2021-10-19T02:14:52.452451",
     "status": "completed"
    },
    "region_name": "md",
    "tags": []
   },
   "source": [
    "```python\n",
    "# Content of print.py\n",
    "# + tags=[\"parameters\"]\n",
    "upstream = None\n",
    "product = None\n",
    "some_param = None\n",
    "\n",
    "# +\n",
    "print('some_param: ', some_param, ' type: ', type(some_param))\n",
    "\n",
    "```"
   ]
  },
  {
   "cell_type": "markdown",
   "id": "bfa59574",
   "metadata": {
    "papermill": {
     "duration": 0.041138,
     "end_time": "2021-10-19T02:14:52.570783",
     "exception": false,
     "start_time": "2021-10-19T02:14:52.529645",
     "status": "completed"
    },
    "tags": []
   },
   "source": [
    "Our task is a Python script, meaning that parameters are passed as an injected cell at runtime. Let's see what happens if we build our pipeline."
   ]
  },
  {
   "cell_type": "code",
   "execution_count": 1,
   "id": "cca7eefb",
   "metadata": {
    "execution": {
     "iopub.execute_input": "2021-10-19T02:14:52.659148Z",
     "iopub.status.busy": "2021-10-19T02:14:52.658339Z",
     "iopub.status.idle": "2021-10-19T02:14:57.806086Z",
     "shell.execute_reply": "2021-10-19T02:14:57.806597Z"
    },
    "papermill": {
     "duration": 5.194924,
     "end_time": "2021-10-19T02:14:57.806957",
     "exception": false,
     "start_time": "2021-10-19T02:14:52.612033",
     "status": "completed"
    },
    "tags": []
   },
   "outputs": [],
   "source": [
    "%%capture captured\n",
    "%%sh\n",
    "ploomber build --force --log INFO"
   ]
  },
  {
   "cell_type": "code",
   "execution_count": 2,
   "id": "8dd1844b",
   "metadata": {
    "execution": {
     "iopub.execute_input": "2021-10-19T02:14:57.893410Z",
     "iopub.status.busy": "2021-10-19T02:14:57.889517Z",
     "iopub.status.idle": "2021-10-19T02:14:57.895925Z",
     "shell.execute_reply": "2021-10-19T02:14:57.896668Z"
    },
    "papermill": {
     "duration": 0.051527,
     "end_time": "2021-10-19T02:14:57.896973",
     "exception": false,
     "start_time": "2021-10-19T02:14:57.845446",
     "status": "completed"
    },
    "tags": []
   },
   "outputs": [
    {
     "name": "stdout",
     "output_type": "stream",
     "text": [
      "INFO:papermill:some_param:  default_value  type:  <class 'str'>\n"
     ]
    }
   ],
   "source": [
    "def filter_output(captured, startswith):\n",
    "    return print('\\n'.join([\n",
    "        line for line in captured.stderr.split('\\n')\n",
    "        if line.startswith(startswith)\n",
    "    ]))\n",
    "\n",
    "filter_output(captured, startswith='INFO:papermill:some_param')"
   ]
  },
  {
   "cell_type": "markdown",
   "id": "56315c61",
   "metadata": {
    "papermill": {
     "duration": 0.039132,
     "end_time": "2021-10-19T02:14:57.977668",
     "exception": false,
     "start_time": "2021-10-19T02:14:57.938536",
     "status": "completed"
    },
    "tags": []
   },
   "source": [
    "We see that our param `some_param` is taking the default value (`default_value`) as defined in `env.yaml`. The command-line interface is aware of any parameters. You can see them using the `--help` option:"
   ]
  },
  {
   "cell_type": "code",
   "execution_count": 3,
   "id": "71141eb9",
   "metadata": {
    "execution": {
     "iopub.execute_input": "2021-10-19T02:14:58.071427Z",
     "iopub.status.busy": "2021-10-19T02:14:58.068450Z",
     "iopub.status.idle": "2021-10-19T02:15:01.239613Z",
     "shell.execute_reply": "2021-10-19T02:15:01.240131Z"
    },
    "papermill": {
     "duration": 3.220946,
     "end_time": "2021-10-19T02:15:01.240345",
     "exception": false,
     "start_time": "2021-10-19T02:14:58.019399",
     "status": "completed"
    },
    "tags": []
   },
   "outputs": [
    {
     "name": "stdout",
     "output_type": "stream",
     "text": [
      "usage: ploomber [-h] [--log LOG] [--log-file LOG_FILE]\n",
      "                [--entry-point ENTRY_POINT] [--force] [--skip-upstream]\n",
      "                [--partially PARTIALLY] [--debug]\n",
      "                [--env--some_param ENV__SOME_PARAM]\n",
      "\n",
      "Build pipeline\n",
      "\n",
      "optional arguments:\n",
      "  -h, --help            show this help message and exit\n",
      "  --log LOG, -l LOG     Enables logging to stdout at the specified level\n",
      "  --log-file LOG_FILE, -F LOG_FILE\n",
      "                        Enables logging to the given file\n",
      "  --entry-point ENTRY_POINT, -e ENTRY_POINT\n",
      "                        Entry point, defaults to pipeline.yaml\n",
      "  --force, -f           Force execution by ignoring status\n",
      "  --skip-upstream, -su  Skip building upstream dependencies. Only applicable\n",
      "                        when using --partially\n",
      "  --partially PARTIALLY, -p PARTIALLY\n",
      "                        Build a pipeline partially until certain task\n",
      "  --debug, -d           Drop a debugger session if an exception happens\n",
      "  --env--some_param ENV__SOME_PARAM\n",
      "                        Default: default_value\n"
     ]
    }
   ],
   "source": [
    "%%sh\n",
    "ploomber build --help"
   ]
  },
  {
   "cell_type": "markdown",
   "id": "b496ae90",
   "metadata": {
    "papermill": {
     "duration": 0.044225,
     "end_time": "2021-10-19T02:15:01.324539",
     "exception": false,
     "start_time": "2021-10-19T02:15:01.280314",
     "status": "completed"
    },
    "tags": []
   },
   "source": [
    "Apart from the default parameters from the `ploomber build` command, Ploomber automatically adds any parameters from `env.yaml`, we can easily override the default value. Let's do that:"
   ]
  },
  {
   "cell_type": "code",
   "execution_count": 4,
   "id": "968c35d3",
   "metadata": {
    "execution": {
     "iopub.execute_input": "2021-10-19T02:15:01.418979Z",
     "iopub.status.busy": "2021-10-19T02:15:01.416192Z",
     "iopub.status.idle": "2021-10-19T02:15:06.689328Z",
     "shell.execute_reply": "2021-10-19T02:15:06.689960Z"
    },
    "papermill": {
     "duration": 5.322894,
     "end_time": "2021-10-19T02:15:06.690185",
     "exception": false,
     "start_time": "2021-10-19T02:15:01.367291",
     "status": "completed"
    },
    "tags": []
   },
   "outputs": [],
   "source": [
    "%%capture captured\n",
    "%%sh\n",
    "ploomber build --force --env--some_param another_value --log INFO"
   ]
  },
  {
   "cell_type": "code",
   "execution_count": 5,
   "id": "fd9a123c",
   "metadata": {
    "execution": {
     "iopub.execute_input": "2021-10-19T02:15:06.780788Z",
     "iopub.status.busy": "2021-10-19T02:15:06.779990Z",
     "iopub.status.idle": "2021-10-19T02:15:06.783167Z",
     "shell.execute_reply": "2021-10-19T02:15:06.783718Z"
    },
    "papermill": {
     "duration": 0.052628,
     "end_time": "2021-10-19T02:15:06.783955",
     "exception": false,
     "start_time": "2021-10-19T02:15:06.731327",
     "status": "completed"
    },
    "tags": []
   },
   "outputs": [
    {
     "name": "stdout",
     "output_type": "stream",
     "text": [
      "INFO:papermill:some_param:  another_value  type:  <class 'str'>\n"
     ]
    }
   ],
   "source": [
    "filter_output(captured, startswith='INFO:papermill:some_param')"
   ]
  },
  {
   "cell_type": "markdown",
   "id": "914edd66",
   "metadata": {
    "papermill": {
     "duration": 0.041814,
     "end_time": "2021-10-19T02:15:06.867828",
     "exception": false,
     "start_time": "2021-10-19T02:15:06.826014",
     "status": "completed"
    },
    "tags": []
   },
   "source": [
    "We see that our task effectively changed the value!\n",
    "\n",
    "Finally, let's see how the `output/` folder looks like:"
   ]
  },
  {
   "cell_type": "code",
   "execution_count": 6,
   "id": "af061886",
   "metadata": {
    "execution": {
     "iopub.execute_input": "2021-10-19T02:15:06.957316Z",
     "iopub.status.busy": "2021-10-19T02:15:06.956430Z",
     "iopub.status.idle": "2021-10-19T02:15:07.031181Z",
     "shell.execute_reply": "2021-10-19T02:15:07.031648Z"
    },
    "papermill": {
     "duration": 0.122148,
     "end_time": "2021-10-19T02:15:07.031887",
     "exception": false,
     "start_time": "2021-10-19T02:15:06.909739",
     "status": "completed"
    },
    "tags": []
   },
   "outputs": [
    {
     "name": "stdout",
     "output_type": "stream",
     "text": [
      "output\n",
      "├── another_value\n",
      "│   └── notebook.ipynb\n",
      "└── default_value\n",
      "    └── notebook.ipynb\n",
      "\n",
      "2 directories, 2 files\n"
     ]
    }
   ],
   "source": [
    "%%sh\n",
    "tree output"
   ]
  },
  {
   "cell_type": "markdown",
   "id": "50919cb8",
   "metadata": {
    "papermill": {
     "duration": 0.047665,
     "end_time": "2021-10-19T02:15:07.125772",
     "exception": false,
     "start_time": "2021-10-19T02:15:07.078107",
     "status": "completed"
    },
    "tags": []
   },
   "source": [
    "\n",
    "We have separate folders for each parameter, helping to keep things organized and taking the looping logic out of our pipeline.\n",
    "\n",
    "\n",
    "### Notes\n",
    "\n",
    "* There are some built-in placeholders that you can use without having an `env.yaml` file. For example, `{{here}}` will expand to the `pipeline.yaml` parent directory. [Check out the Spec API documentation](https://ploomber.readthedocs.io/en/latest/api/spec.html#default-placeholders) for more information.\n",
    "* This example uses a Python script as a task. In SQL pipeline, you can achieve the same effect by using the placeholder in the product's schema or a table/view name prefix.\n",
    "* If the parameter takes many different values and you want to run your pipeline using all of them, calling them by hand might get tedious. So you have two options 1) write a  bash script that calls the CLI with different value parameters or 2) Use the Python API (everything that the CLI can do, you can do with Python directly), take a look at the `DAGSpec` documentation.\n",
    "* Parametrized `pipeline.yaml` files are a great way to simplify a task's logic but not overdo it. If you find yourself adding too many parameters, it's a better idea to use the Python AP directly; factory functions are the correct pattern for highly customized pipeline construction.\n",
    "* Given that the two pipelines are entirely independent, we could even run them in parallel.\n",
    "\n",
    "\n",
    "## Python API (factory functions)\n",
    "\n",
    "Parametrization is straightforward when using a factory function. If your\n",
    "factory takes parameters, they'll also be available in the command-line interface. Types are inferred from [type hints](https://docs.python.org/3/library/typing.html). Let's see an example:"
   ]
  },
  {
   "cell_type": "markdown",
   "id": "34484081",
   "metadata": {
    "papermill": {
     "duration": 0.042216,
     "end_time": "2021-10-19T02:15:07.211935",
     "exception": false,
     "start_time": "2021-10-19T02:15:07.169719",
     "status": "completed"
    },
    "region_name": "md",
    "tags": []
   },
   "source": [
    "```python\n",
    "# Content of factory.py\n",
    "from ploomber import DAG\n",
    "\n",
    "\n",
    "def make(param: str, another: int = 10):\n",
    "    dag = DAG()\n",
    "    # add tasks to your pipeline...\n",
    "    return dag\n",
    "\n",
    "```"
   ]
  },
  {
   "cell_type": "markdown",
   "id": "f0128dd6",
   "metadata": {
    "papermill": {
     "duration": 0.051373,
     "end_time": "2021-10-19T02:15:07.307724",
     "exception": false,
     "start_time": "2021-10-19T02:15:07.256351",
     "status": "completed"
    },
    "tags": []
   },
   "source": [
    "Our function takes two parameters: `param` and `another`. Parameters with no default values (`param`) turn into positional arguments, and function parameters with default values convert\n",
    "to optional parameters (`another`). To see the same auto-generated API, you can use the `--help` command:"
   ]
  },
  {
   "cell_type": "code",
   "execution_count": 7,
   "id": "4c09771f",
   "metadata": {
    "execution": {
     "iopub.execute_input": "2021-10-19T02:15:07.403691Z",
     "iopub.status.busy": "2021-10-19T02:15:07.402738Z",
     "iopub.status.idle": "2021-10-19T02:15:10.574537Z",
     "shell.execute_reply": "2021-10-19T02:15:10.575128Z"
    },
    "papermill": {
     "duration": 3.222508,
     "end_time": "2021-10-19T02:15:10.575380",
     "exception": false,
     "start_time": "2021-10-19T02:15:07.352872",
     "status": "completed"
    },
    "tags": []
   },
   "outputs": [
    {
     "name": "stdout",
     "output_type": "stream",
     "text": [
      "usage: ploomber [-h] [--log LOG] [--log-file LOG_FILE]\n",
      "                [--entry-point ENTRY_POINT] [--force] [--skip-upstream]\n",
      "                [--partially PARTIALLY] [--debug] [--another ANOTHER]\n",
      "                param\n",
      "\n",
      "Build pipeline\n",
      "\n",
      "positional arguments:\n",
      "  param\n",
      "\n",
      "optional arguments:\n",
      "  -h, --help            show this help message and exit\n",
      "  --log LOG, -l LOG     Enables logging to stdout at the specified level\n",
      "  --log-file LOG_FILE, -F LOG_FILE\n",
      "                        Enables logging to the given file\n",
      "  --entry-point ENTRY_POINT, -e ENTRY_POINT\n",
      "                        Entry point, defaults to pipeline.yaml\n",
      "  --force, -f           Force execution by ignoring status\n",
      "  --skip-upstream, -su  Skip building upstream dependencies. Only applicable\n",
      "                        when using --partially\n",
      "  --partially PARTIALLY, -p PARTIALLY\n",
      "                        Build a pipeline partially until certain task\n",
      "  --debug, -d           Drop a debugger session if an exception happens\n",
      "  --another ANOTHER\n"
     ]
    }
   ],
   "source": [
    "%%sh\n",
    "ploomber build --entry-point factory.make --help"
   ]
  },
  {
   "cell_type": "markdown",
   "id": "b2c8045c",
   "metadata": {
    "papermill": {
     "duration": 0.045382,
     "end_time": "2021-10-19T02:15:10.665014",
     "exception": false,
     "start_time": "2021-10-19T02:15:10.619632",
     "status": "completed"
    },
    "tags": []
   },
   "source": [
    "Note that the Python API requires more work than a `pipeline.yaml` file, but it is more flexible. [Click here] to see [examples](https://github.com/ploomber/projects/tree/master/python-api-examples) using the Python API."
   ]
  }
 ],
 "metadata": {
  "kernelspec": {
   "display_name": "Python 3 (ipykernel)",
   "language": "python",
   "name": "python3"
  },
  "language_info": {
   "codemirror_mode": {
    "name": "ipython",
    "version": 3
   },
   "file_extension": ".py",
   "mimetype": "text/x-python",
   "name": "python",
   "nbconvert_exporter": "python",
   "pygments_lexer": "ipython3",
   "version": "3.9.7"
  },
  "papermill": {
   "default_parameters": {},
   "duration": 20.369793,
   "end_time": "2021-10-19T02:15:10.920402",
   "environment_variables": {},
   "exception": null,
   "input_path": "guides/parametrized/_build/readme_preprocessed.ipynb",
   "output_path": "guides/parametrized/README.ipynb",
   "parameters": {},
   "start_time": "2021-10-19T02:14:50.550609",
   "version": "2.3.3"
  }
 },
 "nbformat": 4,
 "nbformat_minor": 5
}