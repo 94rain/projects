{
 "cells": [
  {
   "cell_type": "markdown",
   "id": "913cedcc",
   "metadata": {
    "papermill": {
     "duration": 0.013734,
     "end_time": "2021-09-14T04:29:06.355774",
     "exception": false,
     "start_time": "2021-09-14T04:29:06.342040",
     "status": "completed"
    },
    "tags": []
   },
   "source": [
    "\n",
    "*Note:* You can run this from your computer (Jupyter or terminal), or use one of the\n",
    "hosted options:\n",
    "\n",
    "[![binder-logo](https://mybinder.org/badge_logo.svg)](https://mybinder.org/v2/gh/ploomber/binder-env/main?urlpath=git-pull%3Frepo%3Dhttps%253A%252F%252Fgithub.com%252Fploomber%252Fprojects%26urlpath%3Dlab%252Ftree%252Fprojects%252Flogging%252FREADME.ipynb%26branch%3Dmaster)\n",
    "\n",
    "[![deepnote-logo](https://deepnote.com/buttons/launch-in-deepnote-small.svg)](https://deepnote.com/launch?template=deepnote&url=https://github.com/ploomber/projects/blob/master/logging/README.ipynb)\n"
   ]
  },
  {
   "cell_type": "code",
   "execution_count": 1,
   "id": "fe37c13a",
   "metadata": {
    "execution": {
     "iopub.execute_input": "2021-09-14T04:29:06.390375Z",
     "iopub.status.busy": "2021-09-14T04:29:06.389569Z",
     "iopub.status.idle": "2021-09-14T04:29:07.875473Z",
     "shell.execute_reply": "2021-09-14T04:29:07.876372Z"
    },
    "papermill": {
     "duration": 1.508592,
     "end_time": "2021-09-14T04:29:07.876725",
     "exception": false,
     "start_time": "2021-09-14T04:29:06.368133",
     "status": "completed"
    },
    "tags": []
   },
   "outputs": [],
   "source": [
    "from ploomberutils import display_file"
   ]
  },
  {
   "cell_type": "markdown",
   "id": "32b59651",
   "metadata": {
    "papermill": {
     "duration": 0.014205,
     "end_time": "2021-09-14T04:29:07.903736",
     "exception": false,
     "start_time": "2021-09-14T04:29:07.889531",
     "status": "completed"
    },
    "tags": []
   },
   "source": [
    "# Logging\n",
    "\n",
    "This guide will show you how to log pipeline execution.\n",
    "\n",
    "The *Summary* section provides a quick reference for configuring logging. If you want the details, continue reading."
   ]
  },
  {
   "cell_type": "markdown",
   "id": "39d0c95d",
   "metadata": {
    "papermill": {
     "duration": 0.010831,
     "end_time": "2021-09-14T04:29:07.926512",
     "exception": false,
     "start_time": "2021-09-14T04:29:07.915681",
     "status": "completed"
    },
    "tags": []
   },
   "source": [
    "## Summary\n",
    "\n",
    "### Function tasks\n",
    "\n",
    "If you're using functions as tasks, configure logging like this:\n",
    "\n",
    "```python\n",
    "import logging\n",
    "\n",
    "\n",
    "def some_task(product):\n",
    "    # uncomment the next line if using Python >= 3.8 on macOS\n",
    "    # logging.basicConfig(level=logging.INFO)\n",
    "\n",
    "    logger = logging.getLogger(__name__)\n",
    "\n",
    "    # to log a message, call logger.info\n",
    "    logger.info('Some message')\n",
    "```\n",
    "\n",
    "### Scripts or notebooks\n",
    "\n",
    "If using scripts/notebooks tasks, add this a the top of **each** one:\n",
    "\n",
    "```python\n",
    "import sys\n",
    "import logging\n",
    "\n",
    "logging.basicConfig(level=logging.INFO, stream=sys.stdout)\n",
    "logger = logging.getLogger(__name__)\n",
    "\n",
    "# to log a message, call logger.info\n",
    "logger.info('Some message')\n",
    "```\n",
    "\n",
    "**and** add the following to **each** task definition:\n",
    "\n",
    "```yaml\n",
    "tasks:\n",
    "  - source: scripts/script.py\n",
    "    product: products/output.ipynb\n",
    "    # add this\n",
    "    papermill_params:\n",
    "      log_output: True\n",
    "```\n",
    "\n",
    "Then, use the `--log` option when building the pipeline:\n",
    "\n",
    "```sh\n",
    "ploomber build --log info\n",
    "```"
   ]
  },
  {
   "cell_type": "markdown",
   "id": "74d42e5f",
   "metadata": {
    "papermill": {
     "duration": 0.011635,
     "end_time": "2021-09-14T04:29:07.950481",
     "exception": false,
     "start_time": "2021-09-14T04:29:07.938846",
     "status": "completed"
    },
    "tags": []
   },
   "source": [
    "## Sample pipeline\n",
    "\n",
    "The pipeline we'll be using for this guide contains two tasks (a script and a function):"
   ]
  },
  {
   "cell_type": "code",
   "execution_count": 2,
   "id": "3c288a69",
   "metadata": {
    "execution": {
     "iopub.execute_input": "2021-09-14T04:29:07.980097Z",
     "iopub.status.busy": "2021-09-14T04:29:07.979312Z",
     "iopub.status.idle": "2021-09-14T04:29:07.989639Z",
     "shell.execute_reply": "2021-09-14T04:29:07.990245Z"
    },
    "papermill": {
     "duration": 0.027724,
     "end_time": "2021-09-14T04:29:07.990504",
     "exception": false,
     "start_time": "2021-09-14T04:29:07.962780",
     "status": "completed"
    },
    "tags": []
   },
   "outputs": [
    {
     "data": {
      "text/markdown": [
       "\n",
       "```yaml\n",
       "tasks:\n",
       "  - source: script.py\n",
       "    product: output/nb-log.ipynb\n",
       "    papermill_params:\n",
       "      log_output: True\n",
       "\n",
       "  - source: tasks.function\n",
       "    product: output/fn-log.txt\n",
       "```\n"
      ],
      "text/plain": [
       "<IPython.core.display.Markdown object>"
      ]
     },
     "metadata": {},
     "output_type": "display_data"
    }
   ],
   "source": [
    "display_file('basic/pipeline.yaml')"
   ]
  },
  {
   "cell_type": "markdown",
   "id": "f672cbdf",
   "metadata": {
    "papermill": {
     "duration": 0.013713,
     "end_time": "2021-09-14T04:29:08.017346",
     "exception": false,
     "start_time": "2021-09-14T04:29:08.003633",
     "status": "completed"
    },
    "tags": []
   },
   "source": [
    "Note that the script task contains:\n",
    "\n",
    "```yaml\n",
    "papermill_params:\n",
    "    log_output: True\n",
    "```\n",
    "\n",
    "This extra configuration is required on each script/notebook task in your pipeline to enable logging. The code on each task isn't important, they contain a for loop and log a message on each iteration. Let's see it in action:"
   ]
  },
  {
   "cell_type": "code",
   "execution_count": 3,
   "id": "8e68bf78",
   "metadata": {
    "execution": {
     "iopub.execute_input": "2021-09-14T04:29:08.050053Z",
     "iopub.status.busy": "2021-09-14T04:29:08.049391Z",
     "iopub.status.idle": "2021-09-14T04:29:19.223977Z",
     "shell.execute_reply": "2021-09-14T04:29:19.224482Z"
    },
    "papermill": {
     "duration": 11.193093,
     "end_time": "2021-09-14T04:29:19.224688",
     "exception": false,
     "start_time": "2021-09-14T04:29:08.031595",
     "status": "completed"
    },
    "tags": []
   },
   "outputs": [
    {
     "name": "stdout",
     "output_type": "stream",
     "text": [
      "name      Ran?      Elapsed (s)    Percentage\n",
      "--------  ------  -------------  ------------\n",
      "script    True          4.95027       62.2437\n",
      "function  True          3.00278       37.7563\n"
     ]
    },
    {
     "name": "stderr",
     "output_type": "stream",
     "text": [
      "INFO:blib2to3.pgen2.driver:Generating grammar tables from /Users/Edu/miniconda3/envs/projects/lib/python3.7/site-packages/blib2to3/Grammar.txt\n",
      "INFO:blib2to3.pgen2.driver:Writing grammar tables to /Users/Edu/Library/Caches/black/21.8b0/Grammar3.7.10.final.0.pickle\n",
      "INFO:blib2to3.pgen2.driver:Writing failed: [Errno 2] No such file or directory: '/Users/Edu/Library/Caches/black/21.8b0/tmpeoom9bxf'\n",
      "INFO:blib2to3.pgen2.driver:Generating grammar tables from /Users/Edu/miniconda3/envs/projects/lib/python3.7/site-packages/blib2to3/PatternGrammar.txt\n",
      "INFO:blib2to3.pgen2.driver:Writing grammar tables to /Users/Edu/Library/Caches/black/21.8b0/PatternGrammar3.7.10.final.0.pickle\n",
      "INFO:blib2to3.pgen2.driver:Writing failed: [Errno 2] No such file or directory: '/Users/Edu/Library/Caches/black/21.8b0/tmp1ifxyuzd'\n",
      "INFO:ploomber.dag.dag:Building DAG DAG(\"No name\")\n",
      "Building task 'script':   0%|          | 0/2 [00:00<?, ?it/s]INFO:ploomber.tasks.abc.NotebookRunner:Starting execution: NotebookRunner: script -> File('output/nb-log.ipynb')\n",
      "INFO:papermill:Input Notebook:  /var/folders/3h/_lvh_w_x5g30rrjzb_xnn2j80000gq/T/tmpbd_wljlh.ipynb\n",
      "INFO:papermill:Output Notebook: /Users/Edu/dev/projects-ploomber/guides/logging/basic/output/nb-log.ipynb\n",
      "\n",
      "Executing:   0%|          | 0/6 [00:00<?, ?cell/s]\u001b[AINFO:papermill:Executing notebook with kernel: python3\n",
      "INFO:papermill:Executing Cell 1---------------------------------------\n",
      "INFO:papermill:Ending Cell 1------------------------------------------\n",
      "\n",
      "Executing:  17%|█▋        | 1/6 [00:01<00:07,  1.52s/cell]\u001b[AINFO:papermill:Executing Cell 2---------------------------------------\n",
      "INFO:papermill:Ending Cell 2------------------------------------------\n",
      "INFO:papermill:Executing Cell 3---------------------------------------\n",
      "INFO:papermill:Ending Cell 3------------------------------------------\n",
      "INFO:papermill:Executing Cell 4---------------------------------------\n",
      "INFO:papermill:Ending Cell 4------------------------------------------\n",
      "\n",
      "Executing:  67%|██████▋   | 4/6 [00:01<00:00,  3.08cell/s]\u001b[AINFO:papermill:Executing Cell 5---------------------------------------\n",
      "INFO:papermill:Ending Cell 5------------------------------------------\n",
      "INFO:papermill:Executing Cell 6---------------------------------------\n",
      "INFO:papermill:INFO:__main__:[script log] Finished step 1...\n",
      "\n",
      "INFO:papermill:INFO:__main__:[script log] Finished step 2...\n",
      "\n",
      "INFO:papermill:INFO:__main__:[script log] Finished step 3...\n",
      "\n",
      "INFO:papermill:INFO:__main__:[script log] Done.\n",
      "\n",
      "INFO:papermill:Ending Cell 6------------------------------------------\n",
      "\n",
      "Executing: 100%|██████████| 6/6 [00:04<00:00,  1.22cell/s]\n",
      "INFO:ploomber.tasks.abc.NotebookRunner:Done. Operation took 5.0 seconds\n",
      "Building task 'function':  50%|█████     | 1/2 [00:04<00:04,  4.95s/it]INFO:ploomber.tasks.abc.PythonCallable:Starting execution: PythonCallable: function -> File('output/fn-log.txt')\n",
      "INFO:tasks:[function log] Finished step 1...\n",
      "INFO:tasks:[function log] Finished step 2...\n",
      "INFO:tasks:[function log] Finished step 3...\n",
      "INFO:tasks:[function log] Done.\n",
      "INFO:ploomber.tasks.abc.PythonCallable:Done. Operation took 3.0 seconds\n",
      "Building task 'function': 100%|██████████| 2/2 [00:08<00:00,  4.04s/it]\n",
      "INFO:ploomber.dag.dag: DAG report:\n",
      "name      Ran?      Elapsed (s)    Percentage\n",
      "--------  ------  -------------  ------------\n",
      "script    True          4.95027       62.2437\n",
      "function  True          3.00278       37.7563\n"
     ]
    }
   ],
   "source": [
    "%%sh\n",
    "cd basic\n",
    "ploomber build --log info --force"
   ]
  },
  {
   "cell_type": "markdown",
   "id": "42ca0b8c",
   "metadata": {
    "papermill": {
     "duration": 0.024238,
     "end_time": "2021-09-14T04:29:19.272700",
     "exception": false,
     "start_time": "2021-09-14T04:29:19.248462",
     "status": "completed"
    },
    "tags": []
   },
   "source": [
    "We can see that the logging statements appear in the console. If you want to take a look at the code, [click here](https://github.com/ploomber/projects/tree/master/guides/logging/basic)."
   ]
  },
  {
   "cell_type": "markdown",
   "id": "179d6fc7",
   "metadata": {
    "papermill": {
     "duration": 0.018625,
     "end_time": "2021-09-14T04:29:19.311798",
     "exception": false,
     "start_time": "2021-09-14T04:29:19.293173",
     "status": "completed"
    },
    "tags": []
   },
   "source": [
    "## Why not print?\n",
    "\n",
    "Note that the snippets above use the `logging` module instead of `print`. Although `print` is a quick and easy way to display messages in the console, the `logging` module is more flexible. Hence, it is the recommended option."
   ]
  },
  {
   "cell_type": "markdown",
   "id": "cccf3aaa",
   "metadata": {
    "papermill": {
     "duration": 0.016302,
     "end_time": "2021-09-14T04:29:19.341014",
     "exception": false,
     "start_time": "2021-09-14T04:29:19.324712",
     "status": "completed"
    },
    "tags": []
   },
   "source": [
    "## Logging to a file (On Linux and macOS)\n",
    "\n",
    "It's common to send all your log records to a file. You can easily do so on Linux and macOS with the following command:\n",
    "\n",
    "```sh\n",
    "ploomber build --log info > my.log 2>&1\n",
    "```"
   ]
  },
  {
   "cell_type": "markdown",
   "id": "f531749a",
   "metadata": {
    "papermill": {
     "duration": 0.020335,
     "end_time": "2021-09-14T04:29:19.376209",
     "exception": false,
     "start_time": "2021-09-14T04:29:19.355874",
     "status": "completed"
    },
    "tags": []
   },
   "source": [
    "## Logging to a file from Python (Linux, macOS, and Windows)\n",
    "\n",
    "Alternatively, you can configure logging from Python, which gives you more flexibility:"
   ]
  },
  {
   "cell_type": "code",
   "execution_count": 4,
   "id": "ab582524",
   "metadata": {
    "execution": {
     "iopub.execute_input": "2021-09-14T04:29:19.426217Z",
     "iopub.status.busy": "2021-09-14T04:29:19.424961Z",
     "iopub.status.idle": "2021-09-14T04:29:27.788514Z",
     "shell.execute_reply": "2021-09-14T04:29:27.788994Z"
    },
    "papermill": {
     "duration": 8.392907,
     "end_time": "2021-09-14T04:29:27.789313",
     "exception": false,
     "start_time": "2021-09-14T04:29:19.396406",
     "status": "completed"
    },
    "tags": []
   },
   "outputs": [
    {
     "data": {
      "application/vnd.jupyter.widget-view+json": {
       "model_id": "364ed6e34abe45408e05dd00f8a554e1",
       "version_major": 2,
       "version_minor": 0
      },
      "text/plain": [
       "  0%|          | 0/2 [00:00<?, ?it/s]"
      ]
     },
     "metadata": {},
     "output_type": "display_data"
    },
    {
     "data": {
      "application/vnd.jupyter.widget-view+json": {
       "model_id": "53b1d174327b4b9283949139861075f1",
       "version_major": 2,
       "version_minor": 0
      },
      "text/plain": [
       "Executing:   0%|          | 0/6 [00:00<?, ?cell/s]"
      ]
     },
     "metadata": {},
     "output_type": "display_data"
    },
    {
     "data": {
      "text/html": [
       "<table>\n",
       "<thead>\n",
       "<tr><th>name    </th><th>Ran?  </th><th style=\"text-align: right;\">  Elapsed (s)</th><th style=\"text-align: right;\">  Percentage</th></tr>\n",
       "</thead>\n",
       "<tbody>\n",
       "<tr><td>script  </td><td>True  </td><td style=\"text-align: right;\">      4.89868</td><td style=\"text-align: right;\">     61.9864</td></tr>\n",
       "<tr><td>function</td><td>True  </td><td style=\"text-align: right;\">      3.00415</td><td style=\"text-align: right;\">     38.0136</td></tr>\n",
       "</tbody>\n",
       "</table>"
      ],
      "text/plain": [
       "name      Ran?      Elapsed (s)    Percentage\n",
       "--------  ------  -------------  ------------\n",
       "script    True          4.89868       61.9864\n",
       "function  True          3.00415       38.0136"
      ]
     },
     "execution_count": 4,
     "metadata": {},
     "output_type": "execute_result"
    }
   ],
   "source": [
    "# you may store the contents of this cell in a .py file and then call it from the command line\n",
    "# e.g., python run_pipeline.py\n",
    "import logging\n",
    "from pathlib import Path\n",
    "\n",
    "from ploomber.spec import DAGSpec\n",
    "\n",
    "logging.basicConfig(filename='my.log', format='%(levelname)s:%(message)s', level=logging.INFO)\n",
    "\n",
    "dag = DAGSpec('basic/pipeline.yaml').to_dag()\n",
    "dag.build(force=True)"
   ]
  },
  {
   "cell_type": "markdown",
   "id": "2f78cc02",
   "metadata": {
    "papermill": {
     "duration": 0.014388,
     "end_time": "2021-09-14T04:29:27.822023",
     "exception": false,
     "start_time": "2021-09-14T04:29:27.807635",
     "status": "completed"
    },
    "tags": []
   },
   "source": [
    "Let's look at the file contents:"
   ]
  },
  {
   "cell_type": "code",
   "execution_count": 5,
   "id": "898adc63",
   "metadata": {
    "execution": {
     "iopub.execute_input": "2021-09-14T04:29:27.861007Z",
     "iopub.status.busy": "2021-09-14T04:29:27.859911Z",
     "iopub.status.idle": "2021-09-14T04:29:27.863990Z",
     "shell.execute_reply": "2021-09-14T04:29:27.864467Z"
    },
    "papermill": {
     "duration": 0.027315,
     "end_time": "2021-09-14T04:29:27.864732",
     "exception": false,
     "start_time": "2021-09-14T04:29:27.837417",
     "status": "completed"
    },
    "tags": []
   },
   "outputs": [
    {
     "name": "stdout",
     "output_type": "stream",
     "text": [
      "INFO:Generating grammar tables from /Users/Edu/miniconda3/envs/projects/lib/python3.7/site-packages/blib2to3/Grammar.txt\n",
      "INFO:Writing grammar tables to /Users/Edu/Library/Caches/black/21.8b0/Grammar3.7.10.final.0.pickle\n",
      "INFO:Writing failed: [Errno 2] No such file or directory: '/Users/Edu/Library/Caches/black/21.8b0/tmp6sx5clyw'\n",
      "INFO:Generating grammar tables from /Users/Edu/miniconda3/envs/projects/lib/python3.7/site-packages/blib2to3/PatternGrammar.txt\n",
      "INFO:Writing grammar tables to /Users/Edu/Library/Caches/black/21.8b0/PatternGrammar3.7.10.final.0.pickle\n",
      "INFO:Writing failed: [Errno 2] No such file or directory: '/Users/Edu/Library/Caches/black/21.8b0/tmpwz6y5btf'\n",
      "INFO:Building DAG DAG(\"No name\")\n",
      "INFO:Starting execution: NotebookRunner: script -> File('basic/output/nb-log.ipynb')\n",
      "INFO:Input Notebook:  /var/folders/3h/_lvh_w_x5g30rrjzb_xnn2j80000gq/T/tmpjndfw52j.ipynb\n",
      "INFO:Output Notebook: /Users/Edu/dev/projects-ploomber/logging/basic/output/nb-log.ipynb\n",
      "INFO:Executing notebook with kernel: python3\n",
      "INFO:Executing Cell 1---------------------------------------\n",
      "INFO:Ending Cell 1------------------------------------------\n",
      "INFO:Executing Cell 2---------------------------------------\n",
      "INFO:Ending Cell 2------------------------------------------\n",
      "INFO:Executing Cell 3---------------------------------------\n",
      "INFO:Ending Cell 3------------------------------------------\n",
      "INFO:Executing Cell 4---------------------------------------\n",
      "INFO:Ending Cell 4------------------------------------------\n",
      "INFO:Executing Cell 5---------------------------------------\n",
      "INFO:Ending Cell 5------------------------------------------\n",
      "INFO:Executing Cell 6---------------------------------------\n",
      "INFO:INFO:__main__:[script log] Finished step 1...\n",
      "\n",
      "INFO:INFO:__main__:[script log] Finished step 2...\n",
      "\n",
      "INFO:INFO:__main__:[script log] Finished step 3...\n",
      "\n",
      "INFO:INFO:__main__:[script log] Done.\n",
      "\n",
      "INFO:Ending Cell 6------------------------------------------\n",
      "INFO:Done. Operation took 4.6 seconds\n",
      "INFO:Starting execution: PythonCallable: function -> File('basic/output/fn-log.txt')\n",
      "INFO:[function log] Finished step 1...\n",
      "INFO:[function log] Finished step 2...\n",
      "INFO:[function log] Finished step 3...\n",
      "INFO:[function log] Done.\n",
      "INFO:Done. Operation took 3.0 seconds\n",
      "INFO: DAG report:\n",
      "name      Ran?      Elapsed (s)    Percentage\n",
      "--------  ------  -------------  ------------\n",
      "script    True          4.57968       60.3939\n",
      "function  True          3.00333       39.6061\n",
      "INFO:Generating grammar tables from /Users/Edu/miniconda3/envs/projects/lib/python3.7/site-packages/blib2to3/Grammar.txt\n",
      "INFO:Writing grammar tables to /Users/Edu/Library/Caches/black/21.8b0/Grammar3.7.10.final.0.pickle\n",
      "INFO:Writing failed: [Errno 2] No such file or directory: '/Users/Edu/Library/Caches/black/21.8b0/tmpl9lnmsng'\n",
      "INFO:Generating grammar tables from /Users/Edu/miniconda3/envs/projects/lib/python3.7/site-packages/blib2to3/PatternGrammar.txt\n",
      "INFO:Writing grammar tables to /Users/Edu/Library/Caches/black/21.8b0/PatternGrammar3.7.10.final.0.pickle\n",
      "INFO:Writing failed: [Errno 2] No such file or directory: '/Users/Edu/Library/Caches/black/21.8b0/tmpd5sz_5k3'\n",
      "INFO:Building DAG DAG(\"No name\")\n",
      "INFO:Starting execution: NotebookRunner: script -> File('basic/output/nb-log.ipynb')\n",
      "INFO:Input Notebook:  /var/folders/3h/_lvh_w_x5g30rrjzb_xnn2j80000gq/T/tmpvbecc20h.ipynb\n",
      "INFO:Output Notebook: /Users/Edu/dev/projects-ploomber/guides/logging/basic/output/nb-log.ipynb\n",
      "INFO:Executing notebook with kernel: python3\n",
      "INFO:Executing Cell 1---------------------------------------\n",
      "INFO:Ending Cell 1------------------------------------------\n",
      "INFO:Executing Cell 2---------------------------------------\n",
      "INFO:Ending Cell 2------------------------------------------\n",
      "INFO:Executing Cell 3---------------------------------------\n",
      "INFO:Ending Cell 3------------------------------------------\n",
      "INFO:Executing Cell 4---------------------------------------\n",
      "INFO:Ending Cell 4------------------------------------------\n",
      "INFO:Executing Cell 5---------------------------------------\n",
      "INFO:Ending Cell 5------------------------------------------\n",
      "INFO:Executing Cell 6---------------------------------------\n",
      "INFO:INFO:__main__:[script log] Finished step 1...\n",
      "\n",
      "INFO:INFO:__main__:[script log] Finished step 2...\n",
      "\n",
      "INFO:INFO:__main__:[script log] Finished step 3...\n",
      "\n",
      "INFO:INFO:__main__:[script log] Done.\n",
      "\n",
      "INFO:Ending Cell 6------------------------------------------\n",
      "INFO:Done. Operation took 4.6 seconds\n",
      "INFO:Starting execution: PythonCallable: function -> File('basic/output/fn-log.txt')\n",
      "INFO:[function log] Finished step 1...\n",
      "INFO:[function log] Finished step 2...\n",
      "INFO:[function log] Finished step 3...\n",
      "INFO:[function log] Done.\n",
      "INFO:Done. Operation took 3.0 seconds\n",
      "INFO: DAG report:\n",
      "name      Ran?      Elapsed (s)    Percentage\n",
      "--------  ------  -------------  ------------\n",
      "script    True          4.61609       60.5892\n",
      "function  True          3.00258       39.4108\n",
      "INFO:Generating grammar tables from /Users/Edu/miniconda3/envs/projects/lib/python3.7/site-packages/blib2to3/Grammar.txt\n",
      "INFO:Writing grammar tables to /Users/Edu/Library/Caches/black/21.8b0/Grammar3.7.10.final.0.pickle\n",
      "INFO:Writing failed: [Errno 2] No such file or directory: '/Users/Edu/Library/Caches/black/21.8b0/tmp9o0bzj93'\n",
      "INFO:Generating grammar tables from /Users/Edu/miniconda3/envs/projects/lib/python3.7/site-packages/blib2to3/PatternGrammar.txt\n",
      "INFO:Writing grammar tables to /Users/Edu/Library/Caches/black/21.8b0/PatternGrammar3.7.10.final.0.pickle\n",
      "INFO:Writing failed: [Errno 2] No such file or directory: '/Users/Edu/Library/Caches/black/21.8b0/tmp24l1imoh'\n",
      "INFO:Building DAG DAG(\"No name\")\n",
      "INFO:Starting execution: NotebookRunner: script -> File('basic/output/nb-log.ipynb')\n",
      "INFO:Input Notebook:  /var/folders/3h/_lvh_w_x5g30rrjzb_xnn2j80000gq/T/tmpy82s1q4k.ipynb\n",
      "INFO:Output Notebook: /Users/Edu/dev/projects-ploomber/guides/logging/basic/output/nb-log.ipynb\n",
      "INFO:Executing notebook with kernel: python3\n",
      "INFO:Executing Cell 1---------------------------------------\n",
      "INFO:Ending Cell 1------------------------------------------\n",
      "INFO:Executing Cell 2---------------------------------------\n",
      "INFO:Ending Cell 2------------------------------------------\n",
      "INFO:Executing Cell 3---------------------------------------\n",
      "INFO:Ending Cell 3------------------------------------------\n",
      "INFO:Executing Cell 4---------------------------------------\n",
      "INFO:Ending Cell 4------------------------------------------\n",
      "INFO:Executing Cell 5---------------------------------------\n",
      "INFO:Ending Cell 5------------------------------------------\n",
      "INFO:Executing Cell 6---------------------------------------\n",
      "INFO:INFO:__main__:[script log] Finished step 1...\n",
      "\n",
      "INFO:INFO:__main__:[script log] Finished step 2...\n",
      "\n",
      "INFO:INFO:__main__:[script log] Finished step 3...\n",
      "\n",
      "INFO:INFO:__main__:[script log] Done.\n",
      "\n",
      "INFO:Ending Cell 6------------------------------------------\n",
      "INFO:Done. Operation took 4.9 seconds\n",
      "INFO:Starting execution: PythonCallable: function -> File('basic/output/fn-log.txt')\n",
      "INFO:[function log] Finished step 1...\n",
      "INFO:[function log] Finished step 2...\n",
      "INFO:[function log] Finished step 3...\n",
      "INFO:[function log] Done.\n",
      "INFO:Done. Operation took 3.0 seconds\n",
      "INFO: DAG report:\n",
      "name      Ran?      Elapsed (s)    Percentage\n",
      "--------  ------  -------------  ------------\n",
      "script    True          4.89868       61.9864\n",
      "function  True          3.00415       38.0136\n",
      "\n"
     ]
    }
   ],
   "source": [
    "print(Path('my.log').read_text())"
   ]
  },
  {
   "cell_type": "markdown",
   "id": "ae40a025",
   "metadata": {
    "papermill": {
     "duration": 0.018146,
     "end_time": "2021-09-14T04:29:27.898531",
     "exception": false,
     "start_time": "2021-09-14T04:29:27.880385",
     "status": "completed"
    },
    "tags": []
   },
   "source": [
    "## Controlling logging level\n",
    "\n",
    "The Python's [logging](https://docs.python.org/3/library/logging.html) module allows you to filter messages depending on their priority. For example, when running your pipeline, you may only want to display *regular* messages, but you may allow *regular* and *debugging* messages for more granularity when debugging. Since Ploomber runs tasks differently depending on their type (i.e., functions vs. scripts/notebooks), controlling the logging level requires a bit of extra work. Let's use the same pipeline in the `parametrized` directory:"
   ]
  },
  {
   "cell_type": "code",
   "execution_count": 6,
   "id": "cb5f4af4",
   "metadata": {
    "execution": {
     "iopub.execute_input": "2021-09-14T04:29:27.939389Z",
     "iopub.status.busy": "2021-09-14T04:29:27.936365Z",
     "iopub.status.idle": "2021-09-14T04:29:39.618743Z",
     "shell.execute_reply": "2021-09-14T04:29:39.619279Z"
    },
    "papermill": {
     "duration": 11.704918,
     "end_time": "2021-09-14T04:29:39.619491",
     "exception": false,
     "start_time": "2021-09-14T04:29:27.914573",
     "status": "completed"
    },
    "tags": []
   },
   "outputs": [
    {
     "name": "stdout",
     "output_type": "stream",
     "text": [
      "name      Ran?      Elapsed (s)    Percentage\n",
      "--------  ------  -------------  ------------\n",
      "script    True          4.92702       62.1303\n",
      "function  True          3.00312       37.8697\n"
     ]
    },
    {
     "name": "stderr",
     "output_type": "stream",
     "text": [
      "INFO:blib2to3.pgen2.driver:Generating grammar tables from /Users/Edu/miniconda3/envs/projects/lib/python3.7/site-packages/blib2to3/Grammar.txt\n",
      "INFO:blib2to3.pgen2.driver:Writing grammar tables to /Users/Edu/Library/Caches/black/21.8b0/Grammar3.7.10.final.0.pickle\n",
      "INFO:blib2to3.pgen2.driver:Writing failed: [Errno 2] No such file or directory: '/Users/Edu/Library/Caches/black/21.8b0/tmp8ewc2h7q'\n",
      "INFO:blib2to3.pgen2.driver:Generating grammar tables from /Users/Edu/miniconda3/envs/projects/lib/python3.7/site-packages/blib2to3/PatternGrammar.txt\n",
      "INFO:blib2to3.pgen2.driver:Writing grammar tables to /Users/Edu/Library/Caches/black/21.8b0/PatternGrammar3.7.10.final.0.pickle\n",
      "INFO:blib2to3.pgen2.driver:Writing failed: [Errno 2] No such file or directory: '/Users/Edu/Library/Caches/black/21.8b0/tmpdgyq7d8x'\n",
      "INFO:ploomber.dag.dag:Building DAG DAG(\"No name\")\n",
      "Building task 'script':   0%|          | 0/2 [00:00<?, ?it/s]INFO:ploomber.tasks.abc.NotebookRunner:Starting execution: NotebookRunner: script -> File('output/nb-log.ipynb')\n",
      "INFO:papermill:Input Notebook:  /var/folders/3h/_lvh_w_x5g30rrjzb_xnn2j80000gq/T/tmpjhp48v7v.ipynb\n",
      "INFO:papermill:Output Notebook: /Users/Edu/dev/projects-ploomber/guides/logging/parametrized/output/nb-log.ipynb\n",
      "\n",
      "Executing:   0%|          | 0/6 [00:00<?, ?cell/s]\u001b[AINFO:papermill:Executing notebook with kernel: python3\n",
      "INFO:papermill:Executing Cell 1---------------------------------------\n",
      "INFO:papermill:Ending Cell 1------------------------------------------\n",
      "\n",
      "Executing:  17%|█▋        | 1/6 [00:01<00:07,  1.51s/cell]\u001b[AINFO:papermill:Executing Cell 2---------------------------------------\n",
      "INFO:papermill:Ending Cell 2------------------------------------------\n",
      "INFO:papermill:Executing Cell 3---------------------------------------\n",
      "INFO:papermill:Ending Cell 3------------------------------------------\n",
      "\n",
      "Executing:  50%|█████     | 3/6 [00:01<00:01,  2.31cell/s]\u001b[AINFO:papermill:Executing Cell 4---------------------------------------\n",
      "INFO:papermill:Ending Cell 4------------------------------------------\n",
      "INFO:papermill:Executing Cell 5---------------------------------------\n",
      "INFO:papermill:Ending Cell 5------------------------------------------\n",
      "INFO:papermill:Executing Cell 6---------------------------------------\n",
      "INFO:papermill:INFO:__main__:[script log] Finished step 1...\n",
      "\n",
      "INFO:papermill:INFO:__main__:[script log] Finished step 2...\n",
      "\n",
      "INFO:papermill:INFO:__main__:[script log] Finished step 3...\n",
      "\n",
      "INFO:papermill:INFO:__main__:[script log] Done.\n",
      "\n",
      "INFO:papermill:Ending Cell 6------------------------------------------\n",
      "\n",
      "Executing: 100%|██████████| 6/6 [00:04<00:00,  1.22cell/s]\n",
      "INFO:ploomber.tasks.abc.NotebookRunner:Done. Operation took 4.9 seconds\n",
      "Building task 'function':  50%|█████     | 1/2 [00:04<00:04,  4.93s/it]INFO:ploomber.tasks.abc.PythonCallable:Starting execution: PythonCallable: function -> File('output/fn-log.txt')\n",
      "INFO:tasks:[function log] Finished step 1...\n",
      "INFO:tasks:[function log] Finished step 2...\n",
      "INFO:tasks:[function log] Finished step 3...\n",
      "INFO:tasks:[function log] Done.\n",
      "INFO:ploomber.tasks.abc.PythonCallable:Done. Operation took 3.0 seconds\n",
      "Building task 'function': 100%|██████████| 2/2 [00:08<00:00,  4.03s/it]\n",
      "INFO:ploomber.dag.dag: DAG report:\n",
      "name      Ran?      Elapsed (s)    Percentage\n",
      "--------  ------  -------------  ------------\n",
      "script    True          4.92702       62.1303\n",
      "function  True          3.00312       37.8697\n"
     ]
    }
   ],
   "source": [
    "%%sh\n",
    "cd parametrized\n",
    "ploomber build --log info --env--logging_level info --force"
   ]
  },
  {
   "cell_type": "markdown",
   "id": "8762fc70",
   "metadata": {
    "papermill": {
     "duration": 0.019023,
     "end_time": "2021-09-14T04:29:39.657498",
     "exception": false,
     "start_time": "2021-09-14T04:29:39.638475",
     "status": "completed"
    },
    "tags": []
   },
   "source": [
    "Let's now run the pipeline but switch the logging level to debug, this will print the records we saw above, plus the ones with `debug` level:"
   ]
  },
  {
   "cell_type": "code",
   "execution_count": 7,
   "id": "32b59c77",
   "metadata": {
    "execution": {
     "iopub.execute_input": "2021-09-14T04:29:39.704841Z",
     "iopub.status.busy": "2021-09-14T04:29:39.704150Z",
     "iopub.status.idle": "2021-09-14T04:29:50.232677Z",
     "shell.execute_reply": "2021-09-14T04:29:50.233771Z"
    },
    "papermill": {
     "duration": 10.557931,
     "end_time": "2021-09-14T04:29:50.234044",
     "exception": false,
     "start_time": "2021-09-14T04:29:39.676113",
     "status": "completed"
    },
    "tags": []
   },
   "outputs": [
    {
     "name": "stdout",
     "output_type": "stream",
     "text": [
      "name      Ran?      Elapsed (s)    Percentage\n",
      "--------  ------  -------------  ------------\n",
      "script    True           4.5976        60.478\n",
      "function  True           3.0045        39.522\n"
     ]
    },
    {
     "name": "stderr",
     "output_type": "stream",
     "text": [
      "DEBUG:ploomber.spec.dagspec:DAGSpec enviroment:\n",
      "EnvDict({'cwd': '/Users/Edu/d.../parametrized', 'here': '/Users/Edu/d.../parametrized', 'logging_level': 'debug', 'root': '/Users/Edu/d.../parametrized', ...})\n",
      "DEBUG:ploomber.spec.dagspec:Expanded DAGSpec:\n",
      "{   'tasks': [   {   'papermill_params': {'log_output': True},\n",
      "                     'params': {'logging_level': '{{logging_level}}'},\n",
      "                     'product': 'output/nb-log.ipynb',\n",
      "                     'source': 'script.py'},\n",
      "                 {   'params': {'logging_level': '{{logging_level}}'},\n",
      "                     'product': 'output/fn-log.txt',\n",
      "                     'source': 'tasks.function'}]}\n",
      "DEBUG:ploomber.tasks.abc.NotebookRunner:Setting \"script\" status to TaskStatus.WaitingRender\n",
      "DEBUG:ploomber.tasks.abc.PythonCallable:Setting \"function\" status to TaskStatus.WaitingRender\n",
      "DEBUG:ploomber.spec.dagspec:Extracted upstream dependencies for task script: None\n",
      "DEBUG:ploomber.spec.dagspec:Extracted upstream dependencies for task function: None\n",
      "INFO:blib2to3.pgen2.driver:Generating grammar tables from /Users/Edu/miniconda3/envs/projects/lib/python3.7/site-packages/blib2to3/Grammar.txt\n",
      "INFO:blib2to3.pgen2.driver:Writing grammar tables to /Users/Edu/Library/Caches/black/21.8b0/Grammar3.7.10.final.0.pickle\n",
      "INFO:blib2to3.pgen2.driver:Writing failed: [Errno 2] No such file or directory: '/Users/Edu/Library/Caches/black/21.8b0/tmpjps993e7'\n",
      "INFO:blib2to3.pgen2.driver:Generating grammar tables from /Users/Edu/miniconda3/envs/projects/lib/python3.7/site-packages/blib2to3/PatternGrammar.txt\n",
      "INFO:blib2to3.pgen2.driver:Writing grammar tables to /Users/Edu/Library/Caches/black/21.8b0/PatternGrammar3.7.10.final.0.pickle\n",
      "INFO:blib2to3.pgen2.driver:Writing failed: [Errno 2] No such file or directory: '/Users/Edu/Library/Caches/black/21.8b0/tmp4_k1srg9'\n",
      "INFO:ploomber.dag.dag:Building DAG DAG(\"No name\")\n",
      "Building task 'script':   0%|          | 0/2 [00:00<?, ?it/s]INFO:ploomber.tasks.abc.NotebookRunner:Starting execution: NotebookRunner: script -> File('output/nb-log.ipynb')\n",
      "INFO:papermill:Input Notebook:  /var/folders/3h/_lvh_w_x5g30rrjzb_xnn2j80000gq/T/tmpl34dtolb.ipynb\n",
      "INFO:papermill:Output Notebook: /Users/Edu/dev/projects-ploomber/guides/logging/parametrized/output/nb-log.ipynb\n",
      "\n",
      "Executing:   0%|          | 0/6 [00:00<?, ?cell/s]\u001b[AINFO:papermill:Executing notebook with kernel: python3\n",
      "INFO:papermill:Executing Cell 1---------------------------------------\n",
      "INFO:papermill:Ending Cell 1------------------------------------------\n",
      "\n",
      "Executing:  17%|█▋        | 1/6 [00:01<00:06,  1.29s/cell]\u001b[AINFO:papermill:Executing Cell 2---------------------------------------\n",
      "INFO:papermill:Ending Cell 2------------------------------------------\n",
      "INFO:papermill:Executing Cell 3---------------------------------------\n",
      "INFO:papermill:Ending Cell 3------------------------------------------\n",
      "\n",
      "Executing:  50%|█████     | 3/6 [00:01<00:01,  2.69cell/s]\u001b[AINFO:papermill:Executing Cell 4---------------------------------------\n",
      "INFO:papermill:Ending Cell 4------------------------------------------\n",
      "INFO:papermill:Executing Cell 5---------------------------------------\n",
      "INFO:papermill:Ending Cell 5------------------------------------------\n",
      "INFO:papermill:Executing Cell 6---------------------------------------\n",
      "INFO:papermill:DEBUG:__main__:[script log] This is a message for debugging\n",
      "\n",
      "INFO:papermill:INFO:__main__:[script log] Finished step 1...\n",
      "\n",
      "INFO:papermill:INFO:__main__:[script log] Finished step 2...\n",
      "\n",
      "INFO:papermill:INFO:__main__:[script log] Finished step 3...\n",
      "\n",
      "INFO:papermill:INFO:__main__:[script log] Done.\n",
      "\n",
      "INFO:papermill:Ending Cell 6------------------------------------------\n",
      "\n",
      "Executing: 100%|██████████| 6/6 [00:04<00:00,  1.31cell/s]\n",
      "INFO:ploomber.tasks.abc.NotebookRunner:Done. Operation took 4.6 seconds\n",
      "Building task 'function':  50%|█████     | 1/2 [00:04<00:04,  4.60s/it]INFO:ploomber.tasks.abc.PythonCallable:Starting execution: PythonCallable: function -> File('output/fn-log.txt')\n",
      "INFO:tasks:[function log] Finished step 1...\n",
      "INFO:tasks:[function log] Finished step 2...\n",
      "INFO:tasks:[function log] Finished step 3...\n",
      "INFO:tasks:[function log] Done.\n",
      "INFO:ploomber.tasks.abc.PythonCallable:Done. Operation took 3.0 seconds\n",
      "Building task 'function': 100%|██████████| 2/2 [00:07<00:00,  3.86s/it]\n",
      "INFO:ploomber.dag.dag: DAG report:\n",
      "name      Ran?      Elapsed (s)    Percentage\n",
      "--------  ------  -------------  ------------\n",
      "script    True           4.5976        60.478\n",
      "function  True           3.0045        39.522\n"
     ]
    }
   ],
   "source": [
    "%%sh\n",
    "cd parametrized\n",
    "ploomber build --log debug --env--logging_level debug --force"
   ]
  },
  {
   "cell_type": "markdown",
   "id": "8f74e974",
   "metadata": {
    "papermill": {
     "duration": 0.017202,
     "end_time": "2021-09-14T04:29:50.268884",
     "exception": false,
     "start_time": "2021-09-14T04:29:50.251682",
     "status": "completed"
    },
    "tags": []
   },
   "source": [
    "To get the code for the previous example, [click here](https://github.com/ploomber/projects/tree/master/guides/logging/parametrized)."
   ]
  },
  {
   "cell_type": "markdown",
   "id": "6e928d54",
   "metadata": {
    "papermill": {
     "duration": 0.015573,
     "end_time": "2021-09-14T04:29:50.301810",
     "exception": false,
     "start_time": "2021-09-14T04:29:50.286237",
     "status": "completed"
    },
    "tags": []
   },
   "source": [
    "## Implementation details\n",
    "\n",
    "To keep the tutorial short, we overlooked some technical details. However, if you want to customize logging, they are important to know.\n",
    "\n",
    "### Function tasks and sub-processes\n",
    "\n",
    "By default, Ploomber runs function tasks in a child process. However, beginning on version 3.8, [Python 3.8 switched to use spawn instead of fork on macOS](https://docs.python.org/3/library/multiprocessing.html#contexts-and-start-methods), this implies that child processes *do not* inherit the logging configuration of their parents. That's why you must configure a logger inside the function's body:\n",
    "\n",
    "```python\n",
    "import logging\n",
    "\n",
    "\n",
    "def some_task(product):\n",
    "    # the following line is required on Python>=3.8 if using macOS\n",
    "    logging.basicConfig(level=logging.INFO)\n",
    "\n",
    "    logger = logging.getLogger(__name__)\n",
    "\n",
    "    # to log a message, call logger.info\n",
    "    logger.info('Some message')\n",
    "```\n",
    "\n",
    "### Scripts and notebooks\n",
    "\n",
    "Unlike function tasks, which can run in the same process that runs Ploomber, or in a child process, scripts and notebooks execute independently. Hence, any logging configuration made in the main process is lost, and We have to configure a separate logger at the top of the script/notebook.\n",
    "\n",
    "### Parallel execution\n",
    "\n",
    "\n",
    "Logging is currently unavailable when using the `Parallel` executor.\n"
   ]
  }
 ],
 "metadata": {
  "jupytext": {
   "cell_metadata_filter": "-all",
   "main_language": "python",
   "notebook_metadata_filter": "-all"
  },
  "kernelspec": {
   "display_name": "Python 3 (ipykernel)",
   "language": "python",
   "name": "python3"
  },
  "language_info": {
   "codemirror_mode": {
    "name": "ipython",
    "version": 3
   },
   "file_extension": ".py",
   "mimetype": "text/x-python",
   "name": "python",
   "nbconvert_exporter": "python",
   "pygments_lexer": "ipython3",
   "version": "3.7.10"
  },
  "papermill": {
   "duration": 45.81773,
   "end_time": "2021-09-14T04:29:50.810510",
   "exception": null,
   "input_path": "/var/folders/3h/_lvh_w_x5g30rrjzb_xnn2j80000gq/T/tmpd21voy16.ipynb",
   "output_path": "guides/logging/README.ipynb",
   "parameters": {
    "product": "guides/logging/README.ipynb"
   },
   "start_time": "2021-09-14T04:29:04.992780"
  },
  "widgets": {
   "application/vnd.jupyter.widget-state+json": {
    "state": {
     "00fe9dc5420d4b12bcab5fd2533f4ff2": {
      "model_module": "@jupyter-widgets/base",
      "model_module_version": "1.2.0",
      "model_name": "LayoutModel",
      "state": {
       "_model_module": "@jupyter-widgets/base",
       "_model_module_version": "1.2.0",
       "_model_name": "LayoutModel",
       "_view_count": null,
       "_view_module": "@jupyter-widgets/base",
       "_view_module_version": "1.2.0",
       "_view_name": "LayoutView",
       "align_content": null,
       "align_items": null,
       "align_self": null,
       "border": null,
       "bottom": null,
       "display": null,
       "flex": null,
       "flex_flow": null,
       "grid_area": null,
       "grid_auto_columns": null,
       "grid_auto_flow": null,
       "grid_auto_rows": null,
       "grid_column": null,
       "grid_gap": null,
       "grid_row": null,
       "grid_template_areas": null,
       "grid_template_columns": null,
       "grid_template_rows": null,
       "height": null,
       "justify_content": null,
       "justify_items": null,
       "left": null,
       "margin": null,
       "max_height": null,
       "max_width": null,
       "min_height": null,
       "min_width": null,
       "object_fit": null,
       "object_position": null,
       "order": null,
       "overflow": null,
       "overflow_x": null,
       "overflow_y": null,
       "padding": null,
       "right": null,
       "top": null,
       "visibility": null,
       "width": null
      }
     },
     "08c40a2e2ad64650a891e3278fe5f84b": {
      "model_module": "@jupyter-widgets/controls",
      "model_module_version": "1.5.0",
      "model_name": "DescriptionStyleModel",
      "state": {
       "_model_module": "@jupyter-widgets/controls",
       "_model_module_version": "1.5.0",
       "_model_name": "DescriptionStyleModel",
       "_view_count": null,
       "_view_module": "@jupyter-widgets/base",
       "_view_module_version": "1.2.0",
       "_view_name": "StyleView",
       "description_width": ""
      }
     },
     "0a4b0c3dbc764bfa866baaa9d496b415": {
      "model_module": "@jupyter-widgets/base",
      "model_module_version": "1.2.0",
      "model_name": "LayoutModel",
      "state": {
       "_model_module": "@jupyter-widgets/base",
       "_model_module_version": "1.2.0",
       "_model_name": "LayoutModel",
       "_view_count": null,
       "_view_module": "@jupyter-widgets/base",
       "_view_module_version": "1.2.0",
       "_view_name": "LayoutView",
       "align_content": null,
       "align_items": null,
       "align_self": null,
       "border": null,
       "bottom": null,
       "display": null,
       "flex": null,
       "flex_flow": null,
       "grid_area": null,
       "grid_auto_columns": null,
       "grid_auto_flow": null,
       "grid_auto_rows": null,
       "grid_column": null,
       "grid_gap": null,
       "grid_row": null,
       "grid_template_areas": null,
       "grid_template_columns": null,
       "grid_template_rows": null,
       "height": null,
       "justify_content": null,
       "justify_items": null,
       "left": null,
       "margin": null,
       "max_height": null,
       "max_width": null,
       "min_height": null,
       "min_width": null,
       "object_fit": null,
       "object_position": null,
       "order": null,
       "overflow": null,
       "overflow_x": null,
       "overflow_y": null,
       "padding": null,
       "right": null,
       "top": null,
       "visibility": null,
       "width": null
      }
     },
     "1d26a859277046aea04fc55b2f75a2d8": {
      "model_module": "@jupyter-widgets/base",
      "model_module_version": "1.2.0",
      "model_name": "LayoutModel",
      "state": {
       "_model_module": "@jupyter-widgets/base",
       "_model_module_version": "1.2.0",
       "_model_name": "LayoutModel",
       "_view_count": null,
       "_view_module": "@jupyter-widgets/base",
       "_view_module_version": "1.2.0",
       "_view_name": "LayoutView",
       "align_content": null,
       "align_items": null,
       "align_self": null,
       "border": null,
       "bottom": null,
       "display": null,
       "flex": null,
       "flex_flow": null,
       "grid_area": null,
       "grid_auto_columns": null,
       "grid_auto_flow": null,
       "grid_auto_rows": null,
       "grid_column": null,
       "grid_gap": null,
       "grid_row": null,
       "grid_template_areas": null,
       "grid_template_columns": null,
       "grid_template_rows": null,
       "height": null,
       "justify_content": null,
       "justify_items": null,
       "left": null,
       "margin": null,
       "max_height": null,
       "max_width": null,
       "min_height": null,
       "min_width": null,
       "object_fit": null,
       "object_position": null,
       "order": null,
       "overflow": null,
       "overflow_x": null,
       "overflow_y": null,
       "padding": null,
       "right": null,
       "top": null,
       "visibility": null,
       "width": null
      }
     },
     "1faf0eb9a424470cab466fd6024f0bc5": {
      "model_module": "@jupyter-widgets/controls",
      "model_module_version": "1.5.0",
      "model_name": "HTMLModel",
      "state": {
       "_dom_classes": [],
       "_model_module": "@jupyter-widgets/controls",
       "_model_module_version": "1.5.0",
       "_model_name": "HTMLModel",
       "_view_count": null,
       "_view_module": "@jupyter-widgets/controls",
       "_view_module_version": "1.5.0",
       "_view_name": "HTMLView",
       "description": "",
       "description_tooltip": null,
       "layout": "IPY_MODEL_88c11f19d86f42d5abf62807be317a4a",
       "placeholder": "​",
       "style": "IPY_MODEL_fa3ee87fead74fa8b91433d77a62df92",
       "value": " 2/2 [00:07&lt;00:00,  3.82s/it]"
      }
     },
     "34b7a164de7d437294fbfeb562257660": {
      "model_module": "@jupyter-widgets/controls",
      "model_module_version": "1.5.0",
      "model_name": "HTMLModel",
      "state": {
       "_dom_classes": [],
       "_model_module": "@jupyter-widgets/controls",
       "_model_module_version": "1.5.0",
       "_model_name": "HTMLModel",
       "_view_count": null,
       "_view_module": "@jupyter-widgets/controls",
       "_view_module_version": "1.5.0",
       "_view_name": "HTMLView",
       "description": "",
       "description_tooltip": null,
       "layout": "IPY_MODEL_0a4b0c3dbc764bfa866baaa9d496b415",
       "placeholder": "​",
       "style": "IPY_MODEL_8645aa8e0bec4a6d8f453569e1a0758a",
       "value": "Building task &#x27;function&#x27;: 100%"
      }
     },
     "364ed6e34abe45408e05dd00f8a554e1": {
      "model_module": "@jupyter-widgets/controls",
      "model_module_version": "1.5.0",
      "model_name": "HBoxModel",
      "state": {
       "_dom_classes": [],
       "_model_module": "@jupyter-widgets/controls",
       "_model_module_version": "1.5.0",
       "_model_name": "HBoxModel",
       "_view_count": null,
       "_view_module": "@jupyter-widgets/controls",
       "_view_module_version": "1.5.0",
       "_view_name": "HBoxView",
       "box_style": "",
       "children": [
        "IPY_MODEL_34b7a164de7d437294fbfeb562257660",
        "IPY_MODEL_8d3daeb3ec4e42b0b10b3324c546f745",
        "IPY_MODEL_1faf0eb9a424470cab466fd6024f0bc5"
       ],
       "layout": "IPY_MODEL_474dc3bf100f4d64bfeeb4d20cdb1858"
      }
     },
     "474dc3bf100f4d64bfeeb4d20cdb1858": {
      "model_module": "@jupyter-widgets/base",
      "model_module_version": "1.2.0",
      "model_name": "LayoutModel",
      "state": {
       "_model_module": "@jupyter-widgets/base",
       "_model_module_version": "1.2.0",
       "_model_name": "LayoutModel",
       "_view_count": null,
       "_view_module": "@jupyter-widgets/base",
       "_view_module_version": "1.2.0",
       "_view_name": "LayoutView",
       "align_content": null,
       "align_items": null,
       "align_self": null,
       "border": null,
       "bottom": null,
       "display": null,
       "flex": null,
       "flex_flow": null,
       "grid_area": null,
       "grid_auto_columns": null,
       "grid_auto_flow": null,
       "grid_auto_rows": null,
       "grid_column": null,
       "grid_gap": null,
       "grid_row": null,
       "grid_template_areas": null,
       "grid_template_columns": null,
       "grid_template_rows": null,
       "height": null,
       "justify_content": null,
       "justify_items": null,
       "left": null,
       "margin": null,
       "max_height": null,
       "max_width": null,
       "min_height": null,
       "min_width": null,
       "object_fit": null,
       "object_position": null,
       "order": null,
       "overflow": null,
       "overflow_x": null,
       "overflow_y": null,
       "padding": null,
       "right": null,
       "top": null,
       "visibility": null,
       "width": null
      }
     },
     "4ca699f776374ddbb3c8dc3d34f5cb0d": {
      "model_module": "@jupyter-widgets/base",
      "model_module_version": "1.2.0",
      "model_name": "LayoutModel",
      "state": {
       "_model_module": "@jupyter-widgets/base",
       "_model_module_version": "1.2.0",
       "_model_name": "LayoutModel",
       "_view_count": null,
       "_view_module": "@jupyter-widgets/base",
       "_view_module_version": "1.2.0",
       "_view_name": "LayoutView",
       "align_content": null,
       "align_items": null,
       "align_self": null,
       "border": null,
       "bottom": null,
       "display": null,
       "flex": null,
       "flex_flow": null,
       "grid_area": null,
       "grid_auto_columns": null,
       "grid_auto_flow": null,
       "grid_auto_rows": null,
       "grid_column": null,
       "grid_gap": null,
       "grid_row": null,
       "grid_template_areas": null,
       "grid_template_columns": null,
       "grid_template_rows": null,
       "height": null,
       "justify_content": null,
       "justify_items": null,
       "left": null,
       "margin": null,
       "max_height": null,
       "max_width": null,
       "min_height": null,
       "min_width": null,
       "object_fit": null,
       "object_position": null,
       "order": null,
       "overflow": null,
       "overflow_x": null,
       "overflow_y": null,
       "padding": null,
       "right": null,
       "top": null,
       "visibility": null,
       "width": null
      }
     },
     "51111236991248848266801e6f1fd367": {
      "model_module": "@jupyter-widgets/controls",
      "model_module_version": "1.5.0",
      "model_name": "HTMLModel",
      "state": {
       "_dom_classes": [],
       "_model_module": "@jupyter-widgets/controls",
       "_model_module_version": "1.5.0",
       "_model_name": "HTMLModel",
       "_view_count": null,
       "_view_module": "@jupyter-widgets/controls",
       "_view_module_version": "1.5.0",
       "_view_name": "HTMLView",
       "description": "",
       "description_tooltip": null,
       "layout": "IPY_MODEL_7a7978c29caf425fbd28c2d21b670076",
       "placeholder": "​",
       "style": "IPY_MODEL_08c40a2e2ad64650a891e3278fe5f84b",
       "value": " 6/6 [00:04&lt;00:00,  1.36cell/s]"
      }
     },
     "53b1d174327b4b9283949139861075f1": {
      "model_module": "@jupyter-widgets/controls",
      "model_module_version": "1.5.0",
      "model_name": "HBoxModel",
      "state": {
       "_dom_classes": [],
       "_model_module": "@jupyter-widgets/controls",
       "_model_module_version": "1.5.0",
       "_model_name": "HBoxModel",
       "_view_count": null,
       "_view_module": "@jupyter-widgets/controls",
       "_view_module_version": "1.5.0",
       "_view_name": "HBoxView",
       "box_style": "",
       "children": [
        "IPY_MODEL_7786d13589ee473dadb3cedcd12a28bd",
        "IPY_MODEL_7a16523c30bf41d095b7483a95634fc8",
        "IPY_MODEL_51111236991248848266801e6f1fd367"
       ],
       "layout": "IPY_MODEL_defa5389bfab498c99a9850ddcea8e98"
      }
     },
     "7786d13589ee473dadb3cedcd12a28bd": {
      "model_module": "@jupyter-widgets/controls",
      "model_module_version": "1.5.0",
      "model_name": "HTMLModel",
      "state": {
       "_dom_classes": [],
       "_model_module": "@jupyter-widgets/controls",
       "_model_module_version": "1.5.0",
       "_model_name": "HTMLModel",
       "_view_count": null,
       "_view_module": "@jupyter-widgets/controls",
       "_view_module_version": "1.5.0",
       "_view_name": "HTMLView",
       "description": "",
       "description_tooltip": null,
       "layout": "IPY_MODEL_4ca699f776374ddbb3c8dc3d34f5cb0d",
       "placeholder": "​",
       "style": "IPY_MODEL_c2429a403f3241208fdda97feeb537c8",
       "value": "Executing: 100%"
      }
     },
     "7a16523c30bf41d095b7483a95634fc8": {
      "model_module": "@jupyter-widgets/controls",
      "model_module_version": "1.5.0",
      "model_name": "FloatProgressModel",
      "state": {
       "_dom_classes": [],
       "_model_module": "@jupyter-widgets/controls",
       "_model_module_version": "1.5.0",
       "_model_name": "FloatProgressModel",
       "_view_count": null,
       "_view_module": "@jupyter-widgets/controls",
       "_view_module_version": "1.5.0",
       "_view_name": "ProgressView",
       "bar_style": "success",
       "description": "",
       "description_tooltip": null,
       "layout": "IPY_MODEL_1d26a859277046aea04fc55b2f75a2d8",
       "max": 6.0,
       "min": 0.0,
       "orientation": "horizontal",
       "style": "IPY_MODEL_d94c318f9d7b4ab8a4c56a8d116bb515",
       "value": 6.0
      }
     },
     "7a7978c29caf425fbd28c2d21b670076": {
      "model_module": "@jupyter-widgets/base",
      "model_module_version": "1.2.0",
      "model_name": "LayoutModel",
      "state": {
       "_model_module": "@jupyter-widgets/base",
       "_model_module_version": "1.2.0",
       "_model_name": "LayoutModel",
       "_view_count": null,
       "_view_module": "@jupyter-widgets/base",
       "_view_module_version": "1.2.0",
       "_view_name": "LayoutView",
       "align_content": null,
       "align_items": null,
       "align_self": null,
       "border": null,
       "bottom": null,
       "display": null,
       "flex": null,
       "flex_flow": null,
       "grid_area": null,
       "grid_auto_columns": null,
       "grid_auto_flow": null,
       "grid_auto_rows": null,
       "grid_column": null,
       "grid_gap": null,
       "grid_row": null,
       "grid_template_areas": null,
       "grid_template_columns": null,
       "grid_template_rows": null,
       "height": null,
       "justify_content": null,
       "justify_items": null,
       "left": null,
       "margin": null,
       "max_height": null,
       "max_width": null,
       "min_height": null,
       "min_width": null,
       "object_fit": null,
       "object_position": null,
       "order": null,
       "overflow": null,
       "overflow_x": null,
       "overflow_y": null,
       "padding": null,
       "right": null,
       "top": null,
       "visibility": null,
       "width": null
      }
     },
     "82d93216a746461f9a65dfcc77621f3c": {
      "model_module": "@jupyter-widgets/controls",
      "model_module_version": "1.5.0",
      "model_name": "ProgressStyleModel",
      "state": {
       "_model_module": "@jupyter-widgets/controls",
       "_model_module_version": "1.5.0",
       "_model_name": "ProgressStyleModel",
       "_view_count": null,
       "_view_module": "@jupyter-widgets/base",
       "_view_module_version": "1.2.0",
       "_view_name": "StyleView",
       "bar_color": null,
       "description_width": ""
      }
     },
     "8645aa8e0bec4a6d8f453569e1a0758a": {
      "model_module": "@jupyter-widgets/controls",
      "model_module_version": "1.5.0",
      "model_name": "DescriptionStyleModel",
      "state": {
       "_model_module": "@jupyter-widgets/controls",
       "_model_module_version": "1.5.0",
       "_model_name": "DescriptionStyleModel",
       "_view_count": null,
       "_view_module": "@jupyter-widgets/base",
       "_view_module_version": "1.2.0",
       "_view_name": "StyleView",
       "description_width": ""
      }
     },
     "88c11f19d86f42d5abf62807be317a4a": {
      "model_module": "@jupyter-widgets/base",
      "model_module_version": "1.2.0",
      "model_name": "LayoutModel",
      "state": {
       "_model_module": "@jupyter-widgets/base",
       "_model_module_version": "1.2.0",
       "_model_name": "LayoutModel",
       "_view_count": null,
       "_view_module": "@jupyter-widgets/base",
       "_view_module_version": "1.2.0",
       "_view_name": "LayoutView",
       "align_content": null,
       "align_items": null,
       "align_self": null,
       "border": null,
       "bottom": null,
       "display": null,
       "flex": null,
       "flex_flow": null,
       "grid_area": null,
       "grid_auto_columns": null,
       "grid_auto_flow": null,
       "grid_auto_rows": null,
       "grid_column": null,
       "grid_gap": null,
       "grid_row": null,
       "grid_template_areas": null,
       "grid_template_columns": null,
       "grid_template_rows": null,
       "height": null,
       "justify_content": null,
       "justify_items": null,
       "left": null,
       "margin": null,
       "max_height": null,
       "max_width": null,
       "min_height": null,
       "min_width": null,
       "object_fit": null,
       "object_position": null,
       "order": null,
       "overflow": null,
       "overflow_x": null,
       "overflow_y": null,
       "padding": null,
       "right": null,
       "top": null,
       "visibility": null,
       "width": null
      }
     },
     "8d3daeb3ec4e42b0b10b3324c546f745": {
      "model_module": "@jupyter-widgets/controls",
      "model_module_version": "1.5.0",
      "model_name": "FloatProgressModel",
      "state": {
       "_dom_classes": [],
       "_model_module": "@jupyter-widgets/controls",
       "_model_module_version": "1.5.0",
       "_model_name": "FloatProgressModel",
       "_view_count": null,
       "_view_module": "@jupyter-widgets/controls",
       "_view_module_version": "1.5.0",
       "_view_name": "ProgressView",
       "bar_style": "success",
       "description": "",
       "description_tooltip": null,
       "layout": "IPY_MODEL_00fe9dc5420d4b12bcab5fd2533f4ff2",
       "max": 2.0,
       "min": 0.0,
       "orientation": "horizontal",
       "style": "IPY_MODEL_82d93216a746461f9a65dfcc77621f3c",
       "value": 2.0
      }
     },
     "c2429a403f3241208fdda97feeb537c8": {
      "model_module": "@jupyter-widgets/controls",
      "model_module_version": "1.5.0",
      "model_name": "DescriptionStyleModel",
      "state": {
       "_model_module": "@jupyter-widgets/controls",
       "_model_module_version": "1.5.0",
       "_model_name": "DescriptionStyleModel",
       "_view_count": null,
       "_view_module": "@jupyter-widgets/base",
       "_view_module_version": "1.2.0",
       "_view_name": "StyleView",
       "description_width": ""
      }
     },
     "d94c318f9d7b4ab8a4c56a8d116bb515": {
      "model_module": "@jupyter-widgets/controls",
      "model_module_version": "1.5.0",
      "model_name": "ProgressStyleModel",
      "state": {
       "_model_module": "@jupyter-widgets/controls",
       "_model_module_version": "1.5.0",
       "_model_name": "ProgressStyleModel",
       "_view_count": null,
       "_view_module": "@jupyter-widgets/base",
       "_view_module_version": "1.2.0",
       "_view_name": "StyleView",
       "bar_color": null,
       "description_width": ""
      }
     },
     "defa5389bfab498c99a9850ddcea8e98": {
      "model_module": "@jupyter-widgets/base",
      "model_module_version": "1.2.0",
      "model_name": "LayoutModel",
      "state": {
       "_model_module": "@jupyter-widgets/base",
       "_model_module_version": "1.2.0",
       "_model_name": "LayoutModel",
       "_view_count": null,
       "_view_module": "@jupyter-widgets/base",
       "_view_module_version": "1.2.0",
       "_view_name": "LayoutView",
       "align_content": null,
       "align_items": null,
       "align_self": null,
       "border": null,
       "bottom": null,
       "display": null,
       "flex": null,
       "flex_flow": null,
       "grid_area": null,
       "grid_auto_columns": null,
       "grid_auto_flow": null,
       "grid_auto_rows": null,
       "grid_column": null,
       "grid_gap": null,
       "grid_row": null,
       "grid_template_areas": null,
       "grid_template_columns": null,
       "grid_template_rows": null,
       "height": null,
       "justify_content": null,
       "justify_items": null,
       "left": null,
       "margin": null,
       "max_height": null,
       "max_width": null,
       "min_height": null,
       "min_width": null,
       "object_fit": null,
       "object_position": null,
       "order": null,
       "overflow": null,
       "overflow_x": null,
       "overflow_y": null,
       "padding": null,
       "right": null,
       "top": null,
       "visibility": null,
       "width": null
      }
     },
     "fa3ee87fead74fa8b91433d77a62df92": {
      "model_module": "@jupyter-widgets/controls",
      "model_module_version": "1.5.0",
      "model_name": "DescriptionStyleModel",
      "state": {
       "_model_module": "@jupyter-widgets/controls",
       "_model_module_version": "1.5.0",
       "_model_name": "DescriptionStyleModel",
       "_view_count": null,
       "_view_module": "@jupyter-widgets/base",
       "_view_module_version": "1.2.0",
       "_view_name": "StyleView",
       "description_width": ""
      }
     }
    },
    "version_major": 2,
    "version_minor": 0
   }
  }
 },
 "nbformat": 4,
 "nbformat_minor": 5
}
