{
 "cells": [
  {
   "cell_type": "markdown",
   "id": "d05fba96",
   "metadata": {
    "papermill": {
     "duration": 0.015844,
     "end_time": "2021-09-14T04:13:54.538742",
     "exception": false,
     "start_time": "2021-09-14T04:13:54.522898",
     "status": "completed"
    },
    "tags": []
   },
   "source": [
    "\n",
    "*Note:* You can run this from your computer (Jupyter or terminal), or use one of the\n",
    "hosted options:\n",
    "\n",
    "[![binder-logo](https://mybinder.org/badge_logo.svg)](https://mybinder.org/v2/gh/ploomber/binder-env/main?urlpath=git-pull%3Frepo%3Dhttps%253A%252F%252Fgithub.com%252Fploomber%252Fprojects%26urlpath%3Dlab%252Ftree%252Fprojects%252Flogging%252FREADME.ipynb%26branch%3Dmaster)\n",
    "\n",
    "[![deepnote-logo](https://deepnote.com/buttons/launch-in-deepnote-small.svg)](https://deepnote.com/launch?template=deepnote&url=https://github.com/ploomber/projects/blob/master/logging/README.ipynb)\n"
   ]
  },
  {
   "cell_type": "code",
   "execution_count": 1,
   "id": "ab1b4754",
   "metadata": {
    "execution": {
     "iopub.execute_input": "2021-09-14T04:13:54.571703Z",
     "iopub.status.busy": "2021-09-14T04:13:54.570998Z",
     "iopub.status.idle": "2021-09-14T04:13:55.875232Z",
     "shell.execute_reply": "2021-09-14T04:13:55.875817Z"
    },
    "papermill": {
     "duration": 1.324671,
     "end_time": "2021-09-14T04:13:55.876227",
     "exception": false,
     "start_time": "2021-09-14T04:13:54.551556",
     "status": "completed"
    },
    "tags": []
   },
   "outputs": [],
   "source": [
    "from ploomberutils import display_file"
   ]
  },
  {
   "cell_type": "markdown",
   "id": "6964cba8",
   "metadata": {
    "papermill": {
     "duration": 0.014235,
     "end_time": "2021-09-14T04:13:55.902011",
     "exception": false,
     "start_time": "2021-09-14T04:13:55.887776",
     "status": "completed"
    },
    "tags": []
   },
   "source": [
    "# Logging\n",
    "\n",
    "This guide will show you how to log pipeline execution.\n",
    "\n",
    "The *Summary* section provides a quick reference for configuring logging. If you want the details, continue reading."
   ]
  },
  {
   "cell_type": "markdown",
   "id": "2f8361c4",
   "metadata": {
    "papermill": {
     "duration": 0.010885,
     "end_time": "2021-09-14T04:13:55.924449",
     "exception": false,
     "start_time": "2021-09-14T04:13:55.913564",
     "status": "completed"
    },
    "tags": []
   },
   "source": [
    "## Summary\n",
    "\n",
    "### Function tasks\n",
    "\n",
    "If you're using functions as tasks, configure logging like this:\n",
    "\n",
    "```python\n",
    "import logging\n",
    "\n",
    "\n",
    "def some_task(product):\n",
    "    # uncomment the next line if using Python >= 3.8 on macOS\n",
    "    # logging.basicConfig(level=logging.INFO)\n",
    "\n",
    "    logger = logging.getLogger(__name__)\n",
    "\n",
    "    # to log a message, call logger.info\n",
    "    logger.info('Some message')\n",
    "```\n",
    "\n",
    "### Scripts or notebooks\n",
    "\n",
    "If using scripts/notebooks tasks, add this a the top of **each** one:\n",
    "\n",
    "```python\n",
    "import sys\n",
    "import logging\n",
    "\n",
    "logging.basicConfig(level=logging.INFO, stream=sys.stdout)\n",
    "logger = logging.getLogger(__name__)\n",
    "\n",
    "# to log a message, call logger.info\n",
    "logger.info('Some message')\n",
    "```\n",
    "\n",
    "**and** add the following to **each** task definition:\n",
    "\n",
    "```yaml\n",
    "tasks:\n",
    "  - source: scripts/script.py\n",
    "    product: products/output.ipynb\n",
    "    # add this\n",
    "    papermill_params:\n",
    "      log_output: True\n",
    "```\n",
    "\n",
    "Then, use the `--log` option when building the pipeline:\n",
    "\n",
    "```sh\n",
    "ploomber build --log info\n",
    "```"
   ]
  },
  {
   "cell_type": "markdown",
   "id": "44ad2ef9",
   "metadata": {
    "papermill": {
     "duration": 0.01195,
     "end_time": "2021-09-14T04:13:55.949427",
     "exception": false,
     "start_time": "2021-09-14T04:13:55.937477",
     "status": "completed"
    },
    "tags": []
   },
   "source": [
    "## Sample pipeline\n",
    "\n",
    "The pipeline we'll be using for this guide contains two tasks (a script and a function):"
   ]
  },
  {
   "cell_type": "code",
   "execution_count": 2,
   "id": "f33b13ae",
   "metadata": {
    "execution": {
     "iopub.execute_input": "2021-09-14T04:13:55.977306Z",
     "iopub.status.busy": "2021-09-14T04:13:55.976469Z",
     "iopub.status.idle": "2021-09-14T04:13:55.986564Z",
     "shell.execute_reply": "2021-09-14T04:13:55.987201Z"
    },
    "papermill": {
     "duration": 0.027753,
     "end_time": "2021-09-14T04:13:55.987485",
     "exception": false,
     "start_time": "2021-09-14T04:13:55.959732",
     "status": "completed"
    },
    "tags": []
   },
   "outputs": [
    {
     "data": {
      "text/markdown": [
       "\n",
       "```yaml\n",
       "tasks:\n",
       "  - source: script.py\n",
       "    product: output/nb-log.ipynb\n",
       "    papermill_params:\n",
       "      log_output: True\n",
       "\n",
       "  - source: tasks.function\n",
       "    product: output/fn-log.txt\n",
       "```\n"
      ],
      "text/plain": [
       "<IPython.core.display.Markdown object>"
      ]
     },
     "metadata": {},
     "output_type": "display_data"
    }
   ],
   "source": [
    "display_file('basic/pipeline.yaml')"
   ]
  },
  {
   "cell_type": "markdown",
   "id": "ca21c292",
   "metadata": {
    "papermill": {
     "duration": 0.012475,
     "end_time": "2021-09-14T04:13:56.012485",
     "exception": false,
     "start_time": "2021-09-14T04:13:56.000010",
     "status": "completed"
    },
    "tags": []
   },
   "source": [
    "Note that the script task contains:\n",
    "\n",
    "```yaml\n",
    "papermill_params:\n",
    "    log_output: True\n",
    "```\n",
    "\n",
    "This extra configuration is required on each script/notebook task in your pipeline to enable logging. The code on each task isn't important, they contain a for loop and log a message on each iteration. Let's see it in action:"
   ]
  },
  {
   "cell_type": "code",
   "execution_count": 3,
   "id": "d03e81ad",
   "metadata": {
    "execution": {
     "iopub.execute_input": "2021-09-14T04:13:56.042320Z",
     "iopub.status.busy": "2021-09-14T04:13:56.041632Z",
     "iopub.status.idle": "2021-09-14T04:14:06.585250Z",
     "shell.execute_reply": "2021-09-14T04:14:06.586124Z"
    },
    "papermill": {
     "duration": 10.562004,
     "end_time": "2021-09-14T04:14:06.586343",
     "exception": false,
     "start_time": "2021-09-14T04:13:56.024339",
     "status": "completed"
    },
    "tags": []
   },
   "outputs": [
    {
     "name": "stdout",
     "output_type": "stream",
     "text": [
      "name      Ran?      Elapsed (s)    Percentage\n",
      "--------  ------  -------------  ------------\n",
      "script    True          4.78636       61.4363\n",
      "function  True          3.00441       38.5637\n"
     ]
    },
    {
     "name": "stderr",
     "output_type": "stream",
     "text": [
      "INFO:blib2to3.pgen2.driver:Generating grammar tables from /Users/Edu/miniconda3/envs/projects/lib/python3.7/site-packages/blib2to3/Grammar.txt\n",
      "INFO:blib2to3.pgen2.driver:Writing grammar tables to /Users/Edu/Library/Caches/black/21.8b0/Grammar3.7.10.final.0.pickle\n",
      "INFO:blib2to3.pgen2.driver:Writing failed: [Errno 2] No such file or directory: '/Users/Edu/Library/Caches/black/21.8b0/tmpa_jdwfff'\n",
      "INFO:blib2to3.pgen2.driver:Generating grammar tables from /Users/Edu/miniconda3/envs/projects/lib/python3.7/site-packages/blib2to3/PatternGrammar.txt\n",
      "INFO:blib2to3.pgen2.driver:Writing grammar tables to /Users/Edu/Library/Caches/black/21.8b0/PatternGrammar3.7.10.final.0.pickle\n",
      "INFO:blib2to3.pgen2.driver:Writing failed: [Errno 2] No such file or directory: '/Users/Edu/Library/Caches/black/21.8b0/tmpqt93tby9'\n",
      "INFO:ploomber.dag.dag:Building DAG DAG(\"No name\")\n",
      "Building task 'script':   0%|          | 0/2 [00:00<?, ?it/s]INFO:ploomber.tasks.abc.NotebookRunner:Starting execution: NotebookRunner: script -> File('output/nb-log.ipynb')\n",
      "INFO:papermill:Input Notebook:  /var/folders/3h/_lvh_w_x5g30rrjzb_xnn2j80000gq/T/tmpzxkno298.ipynb\n",
      "INFO:papermill:Output Notebook: /Users/Edu/dev/projects-ploomber/guides/logging/basic/output/nb-log.ipynb\n",
      "\n",
      "Executing:   0%|          | 0/6 [00:00<?, ?cell/s]\u001b[AINFO:papermill:Executing notebook with kernel: python3\n",
      "INFO:papermill:Executing Cell 1---------------------------------------\n",
      "INFO:papermill:Ending Cell 1------------------------------------------\n",
      "\n",
      "Executing:  17%|█▋        | 1/6 [00:01<00:06,  1.38s/cell]\u001b[AINFO:papermill:Executing Cell 2---------------------------------------\n",
      "INFO:papermill:Ending Cell 2------------------------------------------\n",
      "INFO:papermill:Executing Cell 3---------------------------------------\n",
      "INFO:papermill:Ending Cell 3------------------------------------------\n",
      "INFO:papermill:Executing Cell 4---------------------------------------\n",
      "INFO:papermill:Ending Cell 4------------------------------------------\n",
      "\n",
      "Executing:  67%|██████▋   | 4/6 [00:01<00:00,  3.41cell/s]\u001b[AINFO:papermill:Executing Cell 5---------------------------------------\n",
      "INFO:papermill:Ending Cell 5------------------------------------------\n",
      "INFO:papermill:Executing Cell 6---------------------------------------\n",
      "INFO:papermill:INFO:__main__:[script log] Finished step 1...\n",
      "\n",
      "INFO:papermill:INFO:__main__:[script log] Finished step 2...\n",
      "\n",
      "INFO:papermill:INFO:__main__:[script log] Finished step 3...\n",
      "\n",
      "INFO:papermill:INFO:__main__:[script log] Done.\n",
      "\n",
      "INFO:papermill:Ending Cell 6------------------------------------------\n",
      "\n",
      "Executing: 100%|██████████| 6/6 [00:04<00:00,  1.26cell/s]\n",
      "INFO:ploomber.tasks.abc.NotebookRunner:Done. Operation took 4.8 seconds\n",
      "Building task 'function':  50%|█████     | 1/2 [00:04<00:04,  4.79s/it]INFO:ploomber.tasks.abc.PythonCallable:Starting execution: PythonCallable: function -> File('output/fn-log.txt')\n",
      "INFO:tasks:[function log] Finished step 1...\n",
      "INFO:tasks:[function log] Finished step 2...\n",
      "INFO:tasks:[function log] Finished step 3...\n",
      "INFO:tasks:[function log] Done.\n",
      "INFO:ploomber.tasks.abc.PythonCallable:Done. Operation took 3.0 seconds\n",
      "Building task 'function': 100%|██████████| 2/2 [00:07<00:00,  3.96s/it]\n",
      "INFO:ploomber.dag.dag: DAG report:\n",
      "name      Ran?      Elapsed (s)    Percentage\n",
      "--------  ------  -------------  ------------\n",
      "script    True          4.78636       61.4363\n",
      "function  True          3.00441       38.5637\n"
     ]
    }
   ],
   "source": [
    "%%sh\n",
    "cd basic\n",
    "ploomber build --log info --force"
   ]
  },
  {
   "cell_type": "markdown",
   "id": "f205aae0",
   "metadata": {
    "papermill": {
     "duration": 0.011653,
     "end_time": "2021-09-14T04:14:06.611700",
     "exception": false,
     "start_time": "2021-09-14T04:14:06.600047",
     "status": "completed"
    },
    "tags": []
   },
   "source": [
    "We can see that the logging statements appear in the console. If you want to take a look at the code, click here."
   ]
  },
  {
   "cell_type": "markdown",
   "id": "f89f8c70",
   "metadata": {
    "papermill": {
     "duration": 0.013016,
     "end_time": "2021-09-14T04:14:06.639310",
     "exception": false,
     "start_time": "2021-09-14T04:14:06.626294",
     "status": "completed"
    },
    "tags": []
   },
   "source": [
    "## Why not print?\n",
    "\n",
    "Note that the snippets above use the `logging` module instead of `print`. Although `print` is a quick and easy way to display messages in the console, the `logging` module is more flexible. Hence, it is the recommended option."
   ]
  },
  {
   "cell_type": "markdown",
   "id": "5de8deb2",
   "metadata": {
    "papermill": {
     "duration": 0.011865,
     "end_time": "2021-09-14T04:14:06.663312",
     "exception": false,
     "start_time": "2021-09-14T04:14:06.651447",
     "status": "completed"
    },
    "tags": []
   },
   "source": [
    "## Logging to a file (On Linux and macOS)\n",
    "\n",
    "It's common to send all your log records to a file. You can easily do so on Linux and macOS with the following command:\n",
    "\n",
    "```sh\n",
    "ploomber build --log info > my.log 2>&1\n",
    "```"
   ]
  },
  {
   "cell_type": "markdown",
   "id": "9b43767b",
   "metadata": {
    "papermill": {
     "duration": 0.012396,
     "end_time": "2021-09-14T04:14:06.690190",
     "exception": false,
     "start_time": "2021-09-14T04:14:06.677794",
     "status": "completed"
    },
    "tags": []
   },
   "source": [
    "## Logging to a file from Python (Linux, macOS, and Windows)\n",
    "\n",
    "Alternatively, you can configure logging from Python, which gives you more flexibility:"
   ]
  },
  {
   "cell_type": "code",
   "execution_count": 4,
   "id": "b115f991",
   "metadata": {
    "execution": {
     "iopub.execute_input": "2021-09-14T04:14:06.723893Z",
     "iopub.status.busy": "2021-09-14T04:14:06.722994Z",
     "iopub.status.idle": "2021-09-14T04:14:14.701294Z",
     "shell.execute_reply": "2021-09-14T04:14:14.700671Z"
    },
    "papermill": {
     "duration": 7.998917,
     "end_time": "2021-09-14T04:14:14.701557",
     "exception": false,
     "start_time": "2021-09-14T04:14:06.702640",
     "status": "completed"
    },
    "tags": []
   },
   "outputs": [
    {
     "data": {
      "application/vnd.jupyter.widget-view+json": {
       "model_id": "7fad4a2e98e641fea989db50f7e0b036",
       "version_major": 2,
       "version_minor": 0
      },
      "text/plain": [
       "  0%|          | 0/2 [00:00<?, ?it/s]"
      ]
     },
     "metadata": {},
     "output_type": "display_data"
    },
    {
     "data": {
      "application/vnd.jupyter.widget-view+json": {
       "model_id": "bef11006a78d4c3ba9d5ea70d95c833b",
       "version_major": 2,
       "version_minor": 0
      },
      "text/plain": [
       "Executing:   0%|          | 0/6 [00:00<?, ?cell/s]"
      ]
     },
     "metadata": {},
     "output_type": "display_data"
    },
    {
     "data": {
      "text/html": [
       "<table>\n",
       "<thead>\n",
       "<tr><th>name    </th><th>Ran?  </th><th style=\"text-align: right;\">  Elapsed (s)</th><th style=\"text-align: right;\">  Percentage</th></tr>\n",
       "</thead>\n",
       "<tbody>\n",
       "<tr><td>script  </td><td>True  </td><td style=\"text-align: right;\">      4.61609</td><td style=\"text-align: right;\">     60.5892</td></tr>\n",
       "<tr><td>function</td><td>True  </td><td style=\"text-align: right;\">      3.00258</td><td style=\"text-align: right;\">     39.4108</td></tr>\n",
       "</tbody>\n",
       "</table>"
      ],
      "text/plain": [
       "name      Ran?      Elapsed (s)    Percentage\n",
       "--------  ------  -------------  ------------\n",
       "script    True          4.61609       60.5892\n",
       "function  True          3.00258       39.4108"
      ]
     },
     "execution_count": 4,
     "metadata": {},
     "output_type": "execute_result"
    }
   ],
   "source": [
    "# you may store the contents of this cell in a .py file and then call it from the command line\n",
    "# e.g., python run_pipeline.py\n",
    "import logging\n",
    "from pathlib import Path\n",
    "\n",
    "from ploomber.spec import DAGSpec\n",
    "\n",
    "logging.basicConfig(filename='my.log', format='%(levelname)s:%(message)s', level=logging.INFO)\n",
    "\n",
    "dag = DAGSpec('basic/pipeline.yaml').to_dag()\n",
    "dag.build(force=True)"
   ]
  },
  {
   "cell_type": "markdown",
   "id": "c1865633",
   "metadata": {
    "papermill": {
     "duration": 0.013473,
     "end_time": "2021-09-14T04:14:14.728470",
     "exception": false,
     "start_time": "2021-09-14T04:14:14.714997",
     "status": "completed"
    },
    "tags": []
   },
   "source": [
    "Let's look at the file contents:"
   ]
  },
  {
   "cell_type": "code",
   "execution_count": 5,
   "id": "b92f130c",
   "metadata": {
    "execution": {
     "iopub.execute_input": "2021-09-14T04:14:14.762191Z",
     "iopub.status.busy": "2021-09-14T04:14:14.761307Z",
     "iopub.status.idle": "2021-09-14T04:14:14.765578Z",
     "shell.execute_reply": "2021-09-14T04:14:14.766262Z"
    },
    "papermill": {
     "duration": 0.023748,
     "end_time": "2021-09-14T04:14:14.766532",
     "exception": false,
     "start_time": "2021-09-14T04:14:14.742784",
     "status": "completed"
    },
    "tags": []
   },
   "outputs": [
    {
     "name": "stdout",
     "output_type": "stream",
     "text": [
      "INFO:Generating grammar tables from /Users/Edu/miniconda3/envs/projects/lib/python3.7/site-packages/blib2to3/Grammar.txt\n",
      "INFO:Writing grammar tables to /Users/Edu/Library/Caches/black/21.8b0/Grammar3.7.10.final.0.pickle\n",
      "INFO:Writing failed: [Errno 2] No such file or directory: '/Users/Edu/Library/Caches/black/21.8b0/tmp6sx5clyw'\n",
      "INFO:Generating grammar tables from /Users/Edu/miniconda3/envs/projects/lib/python3.7/site-packages/blib2to3/PatternGrammar.txt\n",
      "INFO:Writing grammar tables to /Users/Edu/Library/Caches/black/21.8b0/PatternGrammar3.7.10.final.0.pickle\n",
      "INFO:Writing failed: [Errno 2] No such file or directory: '/Users/Edu/Library/Caches/black/21.8b0/tmpwz6y5btf'\n",
      "INFO:Building DAG DAG(\"No name\")\n",
      "INFO:Starting execution: NotebookRunner: script -> File('basic/output/nb-log.ipynb')\n",
      "INFO:Input Notebook:  /var/folders/3h/_lvh_w_x5g30rrjzb_xnn2j80000gq/T/tmpjndfw52j.ipynb\n",
      "INFO:Output Notebook: /Users/Edu/dev/projects-ploomber/logging/basic/output/nb-log.ipynb\n",
      "INFO:Executing notebook with kernel: python3\n",
      "INFO:Executing Cell 1---------------------------------------\n",
      "INFO:Ending Cell 1------------------------------------------\n",
      "INFO:Executing Cell 2---------------------------------------\n",
      "INFO:Ending Cell 2------------------------------------------\n",
      "INFO:Executing Cell 3---------------------------------------\n",
      "INFO:Ending Cell 3------------------------------------------\n",
      "INFO:Executing Cell 4---------------------------------------\n",
      "INFO:Ending Cell 4------------------------------------------\n",
      "INFO:Executing Cell 5---------------------------------------\n",
      "INFO:Ending Cell 5------------------------------------------\n",
      "INFO:Executing Cell 6---------------------------------------\n",
      "INFO:INFO:__main__:[script log] Finished step 1...\n",
      "\n",
      "INFO:INFO:__main__:[script log] Finished step 2...\n",
      "\n",
      "INFO:INFO:__main__:[script log] Finished step 3...\n",
      "\n",
      "INFO:INFO:__main__:[script log] Done.\n",
      "\n",
      "INFO:Ending Cell 6------------------------------------------\n",
      "INFO:Done. Operation took 4.6 seconds\n",
      "INFO:Starting execution: PythonCallable: function -> File('basic/output/fn-log.txt')\n",
      "INFO:[function log] Finished step 1...\n",
      "INFO:[function log] Finished step 2...\n",
      "INFO:[function log] Finished step 3...\n",
      "INFO:[function log] Done.\n",
      "INFO:Done. Operation took 3.0 seconds\n",
      "INFO: DAG report:\n",
      "name      Ran?      Elapsed (s)    Percentage\n",
      "--------  ------  -------------  ------------\n",
      "script    True          4.57968       60.3939\n",
      "function  True          3.00333       39.6061\n",
      "INFO:Generating grammar tables from /Users/Edu/miniconda3/envs/projects/lib/python3.7/site-packages/blib2to3/Grammar.txt\n",
      "INFO:Writing grammar tables to /Users/Edu/Library/Caches/black/21.8b0/Grammar3.7.10.final.0.pickle\n",
      "INFO:Writing failed: [Errno 2] No such file or directory: '/Users/Edu/Library/Caches/black/21.8b0/tmpl9lnmsng'\n",
      "INFO:Generating grammar tables from /Users/Edu/miniconda3/envs/projects/lib/python3.7/site-packages/blib2to3/PatternGrammar.txt\n",
      "INFO:Writing grammar tables to /Users/Edu/Library/Caches/black/21.8b0/PatternGrammar3.7.10.final.0.pickle\n",
      "INFO:Writing failed: [Errno 2] No such file or directory: '/Users/Edu/Library/Caches/black/21.8b0/tmpd5sz_5k3'\n",
      "INFO:Building DAG DAG(\"No name\")\n",
      "INFO:Starting execution: NotebookRunner: script -> File('basic/output/nb-log.ipynb')\n",
      "INFO:Input Notebook:  /var/folders/3h/_lvh_w_x5g30rrjzb_xnn2j80000gq/T/tmpvbecc20h.ipynb\n",
      "INFO:Output Notebook: /Users/Edu/dev/projects-ploomber/guides/logging/basic/output/nb-log.ipynb\n",
      "INFO:Executing notebook with kernel: python3\n",
      "INFO:Executing Cell 1---------------------------------------\n",
      "INFO:Ending Cell 1------------------------------------------\n",
      "INFO:Executing Cell 2---------------------------------------\n",
      "INFO:Ending Cell 2------------------------------------------\n",
      "INFO:Executing Cell 3---------------------------------------\n",
      "INFO:Ending Cell 3------------------------------------------\n",
      "INFO:Executing Cell 4---------------------------------------\n",
      "INFO:Ending Cell 4------------------------------------------\n",
      "INFO:Executing Cell 5---------------------------------------\n",
      "INFO:Ending Cell 5------------------------------------------\n",
      "INFO:Executing Cell 6---------------------------------------\n",
      "INFO:INFO:__main__:[script log] Finished step 1...\n",
      "\n",
      "INFO:INFO:__main__:[script log] Finished step 2...\n",
      "\n",
      "INFO:INFO:__main__:[script log] Finished step 3...\n",
      "\n",
      "INFO:INFO:__main__:[script log] Done.\n",
      "\n",
      "INFO:Ending Cell 6------------------------------------------\n",
      "INFO:Done. Operation took 4.6 seconds\n",
      "INFO:Starting execution: PythonCallable: function -> File('basic/output/fn-log.txt')\n",
      "INFO:[function log] Finished step 1...\n",
      "INFO:[function log] Finished step 2...\n",
      "INFO:[function log] Finished step 3...\n",
      "INFO:[function log] Done.\n",
      "INFO:Done. Operation took 3.0 seconds\n",
      "INFO: DAG report:\n",
      "name      Ran?      Elapsed (s)    Percentage\n",
      "--------  ------  -------------  ------------\n",
      "script    True          4.61609       60.5892\n",
      "function  True          3.00258       39.4108\n",
      "\n"
     ]
    }
   ],
   "source": [
    "print(Path('my.log').read_text())"
   ]
  },
  {
   "cell_type": "markdown",
   "id": "3fdc7abd",
   "metadata": {
    "papermill": {
     "duration": 0.014501,
     "end_time": "2021-09-14T04:14:14.796023",
     "exception": false,
     "start_time": "2021-09-14T04:14:14.781522",
     "status": "completed"
    },
    "tags": []
   },
   "source": [
    "## Controlling logging level\n",
    "\n",
    "The Python's [logging](https://docs.python.org/3/library/logging.html) module allows you to filter messages depending on their priority. For example, when running your pipeline, you may only want to display *regular* messages, but you may allow *regular* and *debugging* messages for more granularity when debugging. Since Ploomber runs tasks differently depending on their type (i.e., functions vs. scripts/notebooks), controlling the logging level requires a bit of extra work. Let's use the same pipeline in the `parametrized` directory:"
   ]
  },
  {
   "cell_type": "code",
   "execution_count": 6,
   "id": "74d0a176",
   "metadata": {
    "execution": {
     "iopub.execute_input": "2021-09-14T04:14:14.834306Z",
     "iopub.status.busy": "2021-09-14T04:14:14.830904Z",
     "iopub.status.idle": "2021-09-14T04:14:25.645643Z",
     "shell.execute_reply": "2021-09-14T04:14:25.646275Z"
    },
    "papermill": {
     "duration": 10.834227,
     "end_time": "2021-09-14T04:14:25.646509",
     "exception": false,
     "start_time": "2021-09-14T04:14:14.812282",
     "status": "completed"
    },
    "tags": []
   },
   "outputs": [
    {
     "name": "stdout",
     "output_type": "stream",
     "text": [
      "name      Ran?      Elapsed (s)    Percentage\n",
      "--------  ------  -------------  ------------\n",
      "script    True          5.0531        62.7186\n",
      "function  True          3.00368       37.2814\n"
     ]
    },
    {
     "name": "stderr",
     "output_type": "stream",
     "text": [
      "INFO:blib2to3.pgen2.driver:Generating grammar tables from /Users/Edu/miniconda3/envs/projects/lib/python3.7/site-packages/blib2to3/Grammar.txt\n",
      "INFO:blib2to3.pgen2.driver:Writing grammar tables to /Users/Edu/Library/Caches/black/21.8b0/Grammar3.7.10.final.0.pickle\n",
      "INFO:blib2to3.pgen2.driver:Writing failed: [Errno 2] No such file or directory: '/Users/Edu/Library/Caches/black/21.8b0/tmpj06p181t'\n",
      "INFO:blib2to3.pgen2.driver:Generating grammar tables from /Users/Edu/miniconda3/envs/projects/lib/python3.7/site-packages/blib2to3/PatternGrammar.txt\n",
      "INFO:blib2to3.pgen2.driver:Writing grammar tables to /Users/Edu/Library/Caches/black/21.8b0/PatternGrammar3.7.10.final.0.pickle\n",
      "INFO:blib2to3.pgen2.driver:Writing failed: [Errno 2] No such file or directory: '/Users/Edu/Library/Caches/black/21.8b0/tmpo8jqv25k'\n",
      "INFO:ploomber.dag.dag:Building DAG DAG(\"No name\")\n",
      "Building task 'script':   0%|          | 0/2 [00:00<?, ?it/s]INFO:ploomber.tasks.abc.NotebookRunner:Starting execution: NotebookRunner: script -> File('output/nb-log.ipynb')\n",
      "INFO:papermill:Input Notebook:  /var/folders/3h/_lvh_w_x5g30rrjzb_xnn2j80000gq/T/tmp2qar7uj5.ipynb\n",
      "INFO:papermill:Output Notebook: /Users/Edu/dev/projects-ploomber/guides/logging/parametrized/output/nb-log.ipynb\n",
      "\n",
      "Executing:   0%|          | 0/6 [00:00<?, ?cell/s]\u001b[AINFO:papermill:Executing notebook with kernel: python3\n",
      "INFO:papermill:Executing Cell 1---------------------------------------\n",
      "INFO:papermill:Ending Cell 1------------------------------------------\n",
      "\n",
      "Executing:  17%|█▋        | 1/6 [00:01<00:07,  1.59s/cell]\u001b[AINFO:papermill:Executing Cell 2---------------------------------------\n",
      "INFO:papermill:Ending Cell 2------------------------------------------\n",
      "INFO:papermill:Executing Cell 3---------------------------------------\n",
      "INFO:papermill:Ending Cell 3------------------------------------------\n",
      "\n",
      "Executing:  50%|█████     | 3/6 [00:01<00:01,  2.13cell/s]\u001b[AINFO:papermill:Executing Cell 4---------------------------------------\n",
      "INFO:papermill:Ending Cell 4------------------------------------------\n",
      "INFO:papermill:Executing Cell 5---------------------------------------\n",
      "INFO:papermill:Ending Cell 5------------------------------------------\n",
      "INFO:papermill:Executing Cell 6---------------------------------------\n",
      "INFO:papermill:INFO:__main__:[script log] Finished step 1...\n",
      "\n",
      "INFO:papermill:INFO:__main__:[script log] Finished step 2...\n",
      "\n",
      "INFO:papermill:INFO:__main__:[script log] Finished step 3...\n",
      "\n",
      "INFO:papermill:INFO:__main__:[script log] Done.\n",
      "\n",
      "INFO:papermill:Ending Cell 6------------------------------------------\n",
      "\n",
      "Executing: 100%|██████████| 6/6 [00:05<00:00,  1.19cell/s]\n",
      "INFO:ploomber.tasks.abc.NotebookRunner:Done. Operation took 5.1 seconds\n",
      "Building task 'function':  50%|█████     | 1/2 [00:05<00:05,  5.06s/it]INFO:ploomber.tasks.abc.PythonCallable:Starting execution: PythonCallable: function -> File('output/fn-log.txt')\n",
      "INFO:tasks:[function log] Finished step 1...\n",
      "INFO:tasks:[function log] Finished step 2...\n",
      "INFO:tasks:[function log] Finished step 3...\n",
      "INFO:tasks:[function log] Done.\n",
      "INFO:ploomber.tasks.abc.PythonCallable:Done. Operation took 3.0 seconds\n",
      "Building task 'function': 100%|██████████| 2/2 [00:08<00:00,  4.05s/it]\n",
      "INFO:ploomber.dag.dag: DAG report:\n",
      "name      Ran?      Elapsed (s)    Percentage\n",
      "--------  ------  -------------  ------------\n",
      "script    True          5.0531        62.7186\n",
      "function  True          3.00368       37.2814\n"
     ]
    }
   ],
   "source": [
    "%%sh\n",
    "cd parametrized\n",
    "ploomber build --log info --env--logging_level info --force"
   ]
  },
  {
   "cell_type": "markdown",
   "id": "31d9d005",
   "metadata": {
    "papermill": {
     "duration": 0.015066,
     "end_time": "2021-09-14T04:14:25.676850",
     "exception": false,
     "start_time": "2021-09-14T04:14:25.661784",
     "status": "completed"
    },
    "tags": []
   },
   "source": [
    "Let's now run the pipeline but switch the logging level to debug, this will print the records we saw above, plus the ones with `debug` level:"
   ]
  },
  {
   "cell_type": "code",
   "execution_count": 7,
   "id": "cf1204c9",
   "metadata": {
    "execution": {
     "iopub.execute_input": "2021-09-14T04:14:25.714656Z",
     "iopub.status.busy": "2021-09-14T04:14:25.713877Z",
     "iopub.status.idle": "2021-09-14T04:14:36.253695Z",
     "shell.execute_reply": "2021-09-14T04:14:36.254606Z"
    },
    "papermill": {
     "duration": 10.561484,
     "end_time": "2021-09-14T04:14:36.254819",
     "exception": false,
     "start_time": "2021-09-14T04:14:25.693335",
     "status": "completed"
    },
    "tags": []
   },
   "outputs": [
    {
     "name": "stdout",
     "output_type": "stream",
     "text": [
      "name      Ran?      Elapsed (s)    Percentage\n",
      "--------  ------  -------------  ------------\n",
      "script    True          4.78625       61.4409\n",
      "function  True          3.00376       38.5591\n"
     ]
    },
    {
     "name": "stderr",
     "output_type": "stream",
     "text": [
      "DEBUG:ploomber.spec.dagspec:DAGSpec enviroment:\n",
      "EnvDict({'cwd': '/Users/Edu/d.../parametrized', 'here': '/Users/Edu/d.../parametrized', 'logging_level': 'debug', 'root': '/Users/Edu/d.../parametrized', ...})\n",
      "DEBUG:ploomber.spec.dagspec:Expanded DAGSpec:\n",
      "{   'tasks': [   {   'papermill_params': {'log_output': True},\n",
      "                     'params': {'logging_level': '{{logging_level}}'},\n",
      "                     'product': 'output/nb-log.ipynb',\n",
      "                     'source': 'script.py'},\n",
      "                 {   'params': {'logging_level': '{{logging_level}}'},\n",
      "                     'product': 'output/fn-log.txt',\n",
      "                     'source': 'tasks.function'}]}\n",
      "DEBUG:ploomber.tasks.abc.NotebookRunner:Setting \"script\" status to TaskStatus.WaitingRender\n",
      "DEBUG:ploomber.tasks.abc.PythonCallable:Setting \"function\" status to TaskStatus.WaitingRender\n",
      "DEBUG:ploomber.spec.dagspec:Extracted upstream dependencies for task script: None\n",
      "DEBUG:ploomber.spec.dagspec:Extracted upstream dependencies for task function: None\n",
      "INFO:blib2to3.pgen2.driver:Generating grammar tables from /Users/Edu/miniconda3/envs/projects/lib/python3.7/site-packages/blib2to3/Grammar.txt\n",
      "INFO:blib2to3.pgen2.driver:Writing grammar tables to /Users/Edu/Library/Caches/black/21.8b0/Grammar3.7.10.final.0.pickle\n",
      "INFO:blib2to3.pgen2.driver:Writing failed: [Errno 2] No such file or directory: '/Users/Edu/Library/Caches/black/21.8b0/tmpq48efw44'\n",
      "INFO:blib2to3.pgen2.driver:Generating grammar tables from /Users/Edu/miniconda3/envs/projects/lib/python3.7/site-packages/blib2to3/PatternGrammar.txt\n",
      "INFO:blib2to3.pgen2.driver:Writing grammar tables to /Users/Edu/Library/Caches/black/21.8b0/PatternGrammar3.7.10.final.0.pickle\n",
      "INFO:blib2to3.pgen2.driver:Writing failed: [Errno 2] No such file or directory: '/Users/Edu/Library/Caches/black/21.8b0/tmp4pzf13uj'\n",
      "INFO:ploomber.dag.dag:Building DAG DAG(\"No name\")\n",
      "Building task 'script':   0%|          | 0/2 [00:00<?, ?it/s]INFO:ploomber.tasks.abc.NotebookRunner:Starting execution: NotebookRunner: script -> File('output/nb-log.ipynb')\n",
      "INFO:papermill:Input Notebook:  /var/folders/3h/_lvh_w_x5g30rrjzb_xnn2j80000gq/T/tmpgn3pa8jb.ipynb\n",
      "INFO:papermill:Output Notebook: /Users/Edu/dev/projects-ploomber/guides/logging/parametrized/output/nb-log.ipynb\n",
      "\n",
      "Executing:   0%|          | 0/6 [00:00<?, ?cell/s]\u001b[AINFO:papermill:Executing notebook with kernel: python3\n",
      "INFO:papermill:Executing Cell 1---------------------------------------\n",
      "INFO:papermill:Ending Cell 1------------------------------------------\n",
      "\n",
      "Executing:  17%|█▋        | 1/6 [00:01<00:06,  1.38s/cell]\u001b[AINFO:papermill:Executing Cell 2---------------------------------------\n",
      "INFO:papermill:Ending Cell 2------------------------------------------\n",
      "INFO:papermill:Executing Cell 3---------------------------------------\n",
      "INFO:papermill:Ending Cell 3------------------------------------------\n",
      "\n",
      "Executing:  50%|█████     | 3/6 [00:01<00:01,  2.52cell/s]\u001b[AINFO:papermill:Executing Cell 4---------------------------------------\n",
      "INFO:papermill:Ending Cell 4------------------------------------------\n",
      "INFO:papermill:Executing Cell 5---------------------------------------\n",
      "INFO:papermill:Ending Cell 5------------------------------------------\n",
      "INFO:papermill:Executing Cell 6---------------------------------------\n",
      "INFO:papermill:DEBUG:__main__:[script log] This is a message for debugging\n",
      "\n",
      "INFO:papermill:INFO:__main__:[script log] Finished step 1...\n",
      "\n",
      "INFO:papermill:INFO:__main__:[script log] Finished step 2...\n",
      "\n",
      "INFO:papermill:INFO:__main__:[script log] Finished step 3...\n",
      "\n",
      "INFO:papermill:INFO:__main__:[script log] Done.\n",
      "\n",
      "INFO:papermill:Ending Cell 6------------------------------------------\n",
      "\n",
      "Executing: 100%|██████████| 6/6 [00:04<00:00,  1.26cell/s]\n",
      "INFO:ploomber.tasks.abc.NotebookRunner:Done. Operation took 4.8 seconds\n",
      "Building task 'function':  50%|█████     | 1/2 [00:04<00:04,  4.79s/it]INFO:ploomber.tasks.abc.PythonCallable:Starting execution: PythonCallable: function -> File('output/fn-log.txt')\n",
      "INFO:tasks:[function log] Finished step 1...\n",
      "INFO:tasks:[function log] Finished step 2...\n",
      "INFO:tasks:[function log] Finished step 3...\n",
      "INFO:tasks:[function log] Done.\n",
      "INFO:ploomber.tasks.abc.PythonCallable:Done. Operation took 3.0 seconds\n",
      "Building task 'function': 100%|██████████| 2/2 [00:07<00:00,  3.95s/it]\n",
      "INFO:ploomber.dag.dag: DAG report:\n",
      "name      Ran?      Elapsed (s)    Percentage\n",
      "--------  ------  -------------  ------------\n",
      "script    True          4.78625       61.4409\n",
      "function  True          3.00376       38.5591\n"
     ]
    }
   ],
   "source": [
    "%%sh\n",
    "cd parametrized\n",
    "ploomber build --log debug --env--logging_level debug --force"
   ]
  },
  {
   "cell_type": "markdown",
   "id": "a9252d52",
   "metadata": {
    "papermill": {
     "duration": 0.016796,
     "end_time": "2021-09-14T04:14:36.287769",
     "exception": false,
     "start_time": "2021-09-14T04:14:36.270973",
     "status": "completed"
    },
    "tags": []
   },
   "source": [
    "## Implementation details\n",
    "\n",
    "To keep the tutorial short, we overlooked some technical details. However, if you want to customize logging, they are important to know.\n",
    "\n",
    "### Function tasks and sub-processes\n",
    "\n",
    "By default, Ploomber runs function tasks in a child process. However, beginning on version 3.8, [Python 3.8 switched to use spawn instead of fork on macOS](https://docs.python.org/3/library/multiprocessing.html#contexts-and-start-methods), this implies that child processes *do not* inherit the logging configuration of their parents. That's why you must configure a logger inside the function's body:\n",
    "\n",
    "```python\n",
    "import logging\n",
    "\n",
    "\n",
    "def some_task(product):\n",
    "    # the following line is required on Python>=3.8 if using macOS\n",
    "    logging.basicConfig(level=logging.INFO)\n",
    "\n",
    "    logger = logging.getLogger(__name__)\n",
    "\n",
    "    # to log a message, call logger.info\n",
    "    logger.info('Some message')\n",
    "```\n",
    "\n",
    "### Scripts and notebooks\n",
    "\n",
    "Unlike function tasks, which can run in the same process that runs Ploomber, or in a child process, scripts and notebooks execute independently. Hence, any logging configuration made in the main process is lost, and We have to configure a separate logger at the top of the script/notebook.\n",
    "\n",
    "### Parallel execution\n",
    "\n",
    "\n",
    "Logging is currently unavailable when using the `Parallel` executor.\n"
   ]
  }
 ],
 "metadata": {
  "jupytext": {
   "cell_metadata_filter": "-all",
   "main_language": "python",
   "notebook_metadata_filter": "-all"
  },
  "kernelspec": {
   "display_name": "Python 3 (ipykernel)",
   "language": "python",
   "name": "python3"
  },
  "language_info": {
   "codemirror_mode": {
    "name": "ipython",
    "version": 3
   },
   "file_extension": ".py",
   "mimetype": "text/x-python",
   "name": "python",
   "nbconvert_exporter": "python",
   "pygments_lexer": "ipython3",
   "version": "3.7.10"
  },
  "papermill": {
   "duration": 43.627269,
   "end_time": "2021-09-14T04:14:36.797772",
   "exception": null,
   "input_path": "/var/folders/3h/_lvh_w_x5g30rrjzb_xnn2j80000gq/T/tmpiup2xbh3.ipynb",
   "output_path": "guides/logging/README.ipynb",
   "parameters": {
    "product": "guides/logging/README.ipynb"
   },
   "start_time": "2021-09-14T04:13:53.170503"
  },
  "widgets": {
   "application/vnd.jupyter.widget-state+json": {
    "state": {
     "0089a5b5a67043acab6b70445985f7f7": {
      "model_module": "@jupyter-widgets/controls",
      "model_module_version": "1.5.0",
      "model_name": "FloatProgressModel",
      "state": {
       "_dom_classes": [],
       "_model_module": "@jupyter-widgets/controls",
       "_model_module_version": "1.5.0",
       "_model_name": "FloatProgressModel",
       "_view_count": null,
       "_view_module": "@jupyter-widgets/controls",
       "_view_module_version": "1.5.0",
       "_view_name": "ProgressView",
       "bar_style": "success",
       "description": "",
       "description_tooltip": null,
       "layout": "IPY_MODEL_929cb29b06fc4fcc8525dea329df827b",
       "max": 6.0,
       "min": 0.0,
       "orientation": "horizontal",
       "style": "IPY_MODEL_3d2f190fb7ed42ffbd2d6701ef205d89",
       "value": 6.0
      }
     },
     "203ac439ffee4853bd74ba38d8fbcc8f": {
      "model_module": "@jupyter-widgets/base",
      "model_module_version": "1.2.0",
      "model_name": "LayoutModel",
      "state": {
       "_model_module": "@jupyter-widgets/base",
       "_model_module_version": "1.2.0",
       "_model_name": "LayoutModel",
       "_view_count": null,
       "_view_module": "@jupyter-widgets/base",
       "_view_module_version": "1.2.0",
       "_view_name": "LayoutView",
       "align_content": null,
       "align_items": null,
       "align_self": null,
       "border": null,
       "bottom": null,
       "display": null,
       "flex": null,
       "flex_flow": null,
       "grid_area": null,
       "grid_auto_columns": null,
       "grid_auto_flow": null,
       "grid_auto_rows": null,
       "grid_column": null,
       "grid_gap": null,
       "grid_row": null,
       "grid_template_areas": null,
       "grid_template_columns": null,
       "grid_template_rows": null,
       "height": null,
       "justify_content": null,
       "justify_items": null,
       "left": null,
       "margin": null,
       "max_height": null,
       "max_width": null,
       "min_height": null,
       "min_width": null,
       "object_fit": null,
       "object_position": null,
       "order": null,
       "overflow": null,
       "overflow_x": null,
       "overflow_y": null,
       "padding": null,
       "right": null,
       "top": null,
       "visibility": null,
       "width": null
      }
     },
     "22cce1cc21ea4d7f87749678da205c01": {
      "model_module": "@jupyter-widgets/controls",
      "model_module_version": "1.5.0",
      "model_name": "HTMLModel",
      "state": {
       "_dom_classes": [],
       "_model_module": "@jupyter-widgets/controls",
       "_model_module_version": "1.5.0",
       "_model_name": "HTMLModel",
       "_view_count": null,
       "_view_module": "@jupyter-widgets/controls",
       "_view_module_version": "1.5.0",
       "_view_name": "HTMLView",
       "description": "",
       "description_tooltip": null,
       "layout": "IPY_MODEL_203ac439ffee4853bd74ba38d8fbcc8f",
       "placeholder": "​",
       "style": "IPY_MODEL_7ddc971431b2434abe3a16cfcb77c360",
       "value": "Executing: 100%"
      }
     },
     "3d2f190fb7ed42ffbd2d6701ef205d89": {
      "model_module": "@jupyter-widgets/controls",
      "model_module_version": "1.5.0",
      "model_name": "ProgressStyleModel",
      "state": {
       "_model_module": "@jupyter-widgets/controls",
       "_model_module_version": "1.5.0",
       "_model_name": "ProgressStyleModel",
       "_view_count": null,
       "_view_module": "@jupyter-widgets/base",
       "_view_module_version": "1.2.0",
       "_view_name": "StyleView",
       "bar_color": null,
       "description_width": ""
      }
     },
     "3d6ff9de984f4dcc81f973741df5c7e2": {
      "model_module": "@jupyter-widgets/controls",
      "model_module_version": "1.5.0",
      "model_name": "DescriptionStyleModel",
      "state": {
       "_model_module": "@jupyter-widgets/controls",
       "_model_module_version": "1.5.0",
       "_model_name": "DescriptionStyleModel",
       "_view_count": null,
       "_view_module": "@jupyter-widgets/base",
       "_view_module_version": "1.2.0",
       "_view_name": "StyleView",
       "description_width": ""
      }
     },
     "51471c38184748339be1473a52999a3b": {
      "model_module": "@jupyter-widgets/controls",
      "model_module_version": "1.5.0",
      "model_name": "DescriptionStyleModel",
      "state": {
       "_model_module": "@jupyter-widgets/controls",
       "_model_module_version": "1.5.0",
       "_model_name": "DescriptionStyleModel",
       "_view_count": null,
       "_view_module": "@jupyter-widgets/base",
       "_view_module_version": "1.2.0",
       "_view_name": "StyleView",
       "description_width": ""
      }
     },
     "540fb2025d2f425fa0f90971bc394447": {
      "model_module": "@jupyter-widgets/controls",
      "model_module_version": "1.5.0",
      "model_name": "HTMLModel",
      "state": {
       "_dom_classes": [],
       "_model_module": "@jupyter-widgets/controls",
       "_model_module_version": "1.5.0",
       "_model_name": "HTMLModel",
       "_view_count": null,
       "_view_module": "@jupyter-widgets/controls",
       "_view_module_version": "1.5.0",
       "_view_name": "HTMLView",
       "description": "",
       "description_tooltip": null,
       "layout": "IPY_MODEL_940b83b5b73c4c60ac80de9e571228f8",
       "placeholder": "​",
       "style": "IPY_MODEL_51471c38184748339be1473a52999a3b",
       "value": " 2/2 [00:07&lt;00:00,  3.70s/it]"
      }
     },
     "5f30d6ef8d8d47259811f58e3c218338": {
      "model_module": "@jupyter-widgets/controls",
      "model_module_version": "1.5.0",
      "model_name": "FloatProgressModel",
      "state": {
       "_dom_classes": [],
       "_model_module": "@jupyter-widgets/controls",
       "_model_module_version": "1.5.0",
       "_model_name": "FloatProgressModel",
       "_view_count": null,
       "_view_module": "@jupyter-widgets/controls",
       "_view_module_version": "1.5.0",
       "_view_name": "ProgressView",
       "bar_style": "success",
       "description": "",
       "description_tooltip": null,
       "layout": "IPY_MODEL_68b4229ad6b54b2894331ebd2cb02e0f",
       "max": 2.0,
       "min": 0.0,
       "orientation": "horizontal",
       "style": "IPY_MODEL_a24e510c38714f5e8ba804e656123991",
       "value": 2.0
      }
     },
     "68b4229ad6b54b2894331ebd2cb02e0f": {
      "model_module": "@jupyter-widgets/base",
      "model_module_version": "1.2.0",
      "model_name": "LayoutModel",
      "state": {
       "_model_module": "@jupyter-widgets/base",
       "_model_module_version": "1.2.0",
       "_model_name": "LayoutModel",
       "_view_count": null,
       "_view_module": "@jupyter-widgets/base",
       "_view_module_version": "1.2.0",
       "_view_name": "LayoutView",
       "align_content": null,
       "align_items": null,
       "align_self": null,
       "border": null,
       "bottom": null,
       "display": null,
       "flex": null,
       "flex_flow": null,
       "grid_area": null,
       "grid_auto_columns": null,
       "grid_auto_flow": null,
       "grid_auto_rows": null,
       "grid_column": null,
       "grid_gap": null,
       "grid_row": null,
       "grid_template_areas": null,
       "grid_template_columns": null,
       "grid_template_rows": null,
       "height": null,
       "justify_content": null,
       "justify_items": null,
       "left": null,
       "margin": null,
       "max_height": null,
       "max_width": null,
       "min_height": null,
       "min_width": null,
       "object_fit": null,
       "object_position": null,
       "order": null,
       "overflow": null,
       "overflow_x": null,
       "overflow_y": null,
       "padding": null,
       "right": null,
       "top": null,
       "visibility": null,
       "width": null
      }
     },
     "7ddc971431b2434abe3a16cfcb77c360": {
      "model_module": "@jupyter-widgets/controls",
      "model_module_version": "1.5.0",
      "model_name": "DescriptionStyleModel",
      "state": {
       "_model_module": "@jupyter-widgets/controls",
       "_model_module_version": "1.5.0",
       "_model_name": "DescriptionStyleModel",
       "_view_count": null,
       "_view_module": "@jupyter-widgets/base",
       "_view_module_version": "1.2.0",
       "_view_name": "StyleView",
       "description_width": ""
      }
     },
     "7fad4a2e98e641fea989db50f7e0b036": {
      "model_module": "@jupyter-widgets/controls",
      "model_module_version": "1.5.0",
      "model_name": "HBoxModel",
      "state": {
       "_dom_classes": [],
       "_model_module": "@jupyter-widgets/controls",
       "_model_module_version": "1.5.0",
       "_model_name": "HBoxModel",
       "_view_count": null,
       "_view_module": "@jupyter-widgets/controls",
       "_view_module_version": "1.5.0",
       "_view_name": "HBoxView",
       "box_style": "",
       "children": [
        "IPY_MODEL_861ea5e9828e4d4b8470ad5e56463b82",
        "IPY_MODEL_5f30d6ef8d8d47259811f58e3c218338",
        "IPY_MODEL_540fb2025d2f425fa0f90971bc394447"
       ],
       "layout": "IPY_MODEL_fa3e5dfa644748b9b87024fc9b7286c5"
      }
     },
     "861ea5e9828e4d4b8470ad5e56463b82": {
      "model_module": "@jupyter-widgets/controls",
      "model_module_version": "1.5.0",
      "model_name": "HTMLModel",
      "state": {
       "_dom_classes": [],
       "_model_module": "@jupyter-widgets/controls",
       "_model_module_version": "1.5.0",
       "_model_name": "HTMLModel",
       "_view_count": null,
       "_view_module": "@jupyter-widgets/controls",
       "_view_module_version": "1.5.0",
       "_view_name": "HTMLView",
       "description": "",
       "description_tooltip": null,
       "layout": "IPY_MODEL_93eb3a88907042a4821be183802fbf62",
       "placeholder": "​",
       "style": "IPY_MODEL_c1ee774895c44697a0ae963cdb65c177",
       "value": "Building task &#x27;function&#x27;: 100%"
      }
     },
     "929cb29b06fc4fcc8525dea329df827b": {
      "model_module": "@jupyter-widgets/base",
      "model_module_version": "1.2.0",
      "model_name": "LayoutModel",
      "state": {
       "_model_module": "@jupyter-widgets/base",
       "_model_module_version": "1.2.0",
       "_model_name": "LayoutModel",
       "_view_count": null,
       "_view_module": "@jupyter-widgets/base",
       "_view_module_version": "1.2.0",
       "_view_name": "LayoutView",
       "align_content": null,
       "align_items": null,
       "align_self": null,
       "border": null,
       "bottom": null,
       "display": null,
       "flex": null,
       "flex_flow": null,
       "grid_area": null,
       "grid_auto_columns": null,
       "grid_auto_flow": null,
       "grid_auto_rows": null,
       "grid_column": null,
       "grid_gap": null,
       "grid_row": null,
       "grid_template_areas": null,
       "grid_template_columns": null,
       "grid_template_rows": null,
       "height": null,
       "justify_content": null,
       "justify_items": null,
       "left": null,
       "margin": null,
       "max_height": null,
       "max_width": null,
       "min_height": null,
       "min_width": null,
       "object_fit": null,
       "object_position": null,
       "order": null,
       "overflow": null,
       "overflow_x": null,
       "overflow_y": null,
       "padding": null,
       "right": null,
       "top": null,
       "visibility": null,
       "width": null
      }
     },
     "93eb3a88907042a4821be183802fbf62": {
      "model_module": "@jupyter-widgets/base",
      "model_module_version": "1.2.0",
      "model_name": "LayoutModel",
      "state": {
       "_model_module": "@jupyter-widgets/base",
       "_model_module_version": "1.2.0",
       "_model_name": "LayoutModel",
       "_view_count": null,
       "_view_module": "@jupyter-widgets/base",
       "_view_module_version": "1.2.0",
       "_view_name": "LayoutView",
       "align_content": null,
       "align_items": null,
       "align_self": null,
       "border": null,
       "bottom": null,
       "display": null,
       "flex": null,
       "flex_flow": null,
       "grid_area": null,
       "grid_auto_columns": null,
       "grid_auto_flow": null,
       "grid_auto_rows": null,
       "grid_column": null,
       "grid_gap": null,
       "grid_row": null,
       "grid_template_areas": null,
       "grid_template_columns": null,
       "grid_template_rows": null,
       "height": null,
       "justify_content": null,
       "justify_items": null,
       "left": null,
       "margin": null,
       "max_height": null,
       "max_width": null,
       "min_height": null,
       "min_width": null,
       "object_fit": null,
       "object_position": null,
       "order": null,
       "overflow": null,
       "overflow_x": null,
       "overflow_y": null,
       "padding": null,
       "right": null,
       "top": null,
       "visibility": null,
       "width": null
      }
     },
     "940b83b5b73c4c60ac80de9e571228f8": {
      "model_module": "@jupyter-widgets/base",
      "model_module_version": "1.2.0",
      "model_name": "LayoutModel",
      "state": {
       "_model_module": "@jupyter-widgets/base",
       "_model_module_version": "1.2.0",
       "_model_name": "LayoutModel",
       "_view_count": null,
       "_view_module": "@jupyter-widgets/base",
       "_view_module_version": "1.2.0",
       "_view_name": "LayoutView",
       "align_content": null,
       "align_items": null,
       "align_self": null,
       "border": null,
       "bottom": null,
       "display": null,
       "flex": null,
       "flex_flow": null,
       "grid_area": null,
       "grid_auto_columns": null,
       "grid_auto_flow": null,
       "grid_auto_rows": null,
       "grid_column": null,
       "grid_gap": null,
       "grid_row": null,
       "grid_template_areas": null,
       "grid_template_columns": null,
       "grid_template_rows": null,
       "height": null,
       "justify_content": null,
       "justify_items": null,
       "left": null,
       "margin": null,
       "max_height": null,
       "max_width": null,
       "min_height": null,
       "min_width": null,
       "object_fit": null,
       "object_position": null,
       "order": null,
       "overflow": null,
       "overflow_x": null,
       "overflow_y": null,
       "padding": null,
       "right": null,
       "top": null,
       "visibility": null,
       "width": null
      }
     },
     "a24e510c38714f5e8ba804e656123991": {
      "model_module": "@jupyter-widgets/controls",
      "model_module_version": "1.5.0",
      "model_name": "ProgressStyleModel",
      "state": {
       "_model_module": "@jupyter-widgets/controls",
       "_model_module_version": "1.5.0",
       "_model_name": "ProgressStyleModel",
       "_view_count": null,
       "_view_module": "@jupyter-widgets/base",
       "_view_module_version": "1.2.0",
       "_view_name": "StyleView",
       "bar_color": null,
       "description_width": ""
      }
     },
     "ab0cd716cded495983825707bb1d54f8": {
      "model_module": "@jupyter-widgets/base",
      "model_module_version": "1.2.0",
      "model_name": "LayoutModel",
      "state": {
       "_model_module": "@jupyter-widgets/base",
       "_model_module_version": "1.2.0",
       "_model_name": "LayoutModel",
       "_view_count": null,
       "_view_module": "@jupyter-widgets/base",
       "_view_module_version": "1.2.0",
       "_view_name": "LayoutView",
       "align_content": null,
       "align_items": null,
       "align_self": null,
       "border": null,
       "bottom": null,
       "display": null,
       "flex": null,
       "flex_flow": null,
       "grid_area": null,
       "grid_auto_columns": null,
       "grid_auto_flow": null,
       "grid_auto_rows": null,
       "grid_column": null,
       "grid_gap": null,
       "grid_row": null,
       "grid_template_areas": null,
       "grid_template_columns": null,
       "grid_template_rows": null,
       "height": null,
       "justify_content": null,
       "justify_items": null,
       "left": null,
       "margin": null,
       "max_height": null,
       "max_width": null,
       "min_height": null,
       "min_width": null,
       "object_fit": null,
       "object_position": null,
       "order": null,
       "overflow": null,
       "overflow_x": null,
       "overflow_y": null,
       "padding": null,
       "right": null,
       "top": null,
       "visibility": null,
       "width": null
      }
     },
     "bef11006a78d4c3ba9d5ea70d95c833b": {
      "model_module": "@jupyter-widgets/controls",
      "model_module_version": "1.5.0",
      "model_name": "HBoxModel",
      "state": {
       "_dom_classes": [],
       "_model_module": "@jupyter-widgets/controls",
       "_model_module_version": "1.5.0",
       "_model_name": "HBoxModel",
       "_view_count": null,
       "_view_module": "@jupyter-widgets/controls",
       "_view_module_version": "1.5.0",
       "_view_name": "HBoxView",
       "box_style": "",
       "children": [
        "IPY_MODEL_22cce1cc21ea4d7f87749678da205c01",
        "IPY_MODEL_0089a5b5a67043acab6b70445985f7f7",
        "IPY_MODEL_ce1b9f617dfd443090ed4a114fd4a06c"
       ],
       "layout": "IPY_MODEL_cffaabbe9e29471ca619101692bffb9b"
      }
     },
     "c1ee774895c44697a0ae963cdb65c177": {
      "model_module": "@jupyter-widgets/controls",
      "model_module_version": "1.5.0",
      "model_name": "DescriptionStyleModel",
      "state": {
       "_model_module": "@jupyter-widgets/controls",
       "_model_module_version": "1.5.0",
       "_model_name": "DescriptionStyleModel",
       "_view_count": null,
       "_view_module": "@jupyter-widgets/base",
       "_view_module_version": "1.2.0",
       "_view_name": "StyleView",
       "description_width": ""
      }
     },
     "ce1b9f617dfd443090ed4a114fd4a06c": {
      "model_module": "@jupyter-widgets/controls",
      "model_module_version": "1.5.0",
      "model_name": "HTMLModel",
      "state": {
       "_dom_classes": [],
       "_model_module": "@jupyter-widgets/controls",
       "_model_module_version": "1.5.0",
       "_model_name": "HTMLModel",
       "_view_count": null,
       "_view_module": "@jupyter-widgets/controls",
       "_view_module_version": "1.5.0",
       "_view_name": "HTMLView",
       "description": "",
       "description_tooltip": null,
       "layout": "IPY_MODEL_ab0cd716cded495983825707bb1d54f8",
       "placeholder": "​",
       "style": "IPY_MODEL_3d6ff9de984f4dcc81f973741df5c7e2",
       "value": " 6/6 [00:04&lt;00:00,  1.40cell/s]"
      }
     },
     "cffaabbe9e29471ca619101692bffb9b": {
      "model_module": "@jupyter-widgets/base",
      "model_module_version": "1.2.0",
      "model_name": "LayoutModel",
      "state": {
       "_model_module": "@jupyter-widgets/base",
       "_model_module_version": "1.2.0",
       "_model_name": "LayoutModel",
       "_view_count": null,
       "_view_module": "@jupyter-widgets/base",
       "_view_module_version": "1.2.0",
       "_view_name": "LayoutView",
       "align_content": null,
       "align_items": null,
       "align_self": null,
       "border": null,
       "bottom": null,
       "display": null,
       "flex": null,
       "flex_flow": null,
       "grid_area": null,
       "grid_auto_columns": null,
       "grid_auto_flow": null,
       "grid_auto_rows": null,
       "grid_column": null,
       "grid_gap": null,
       "grid_row": null,
       "grid_template_areas": null,
       "grid_template_columns": null,
       "grid_template_rows": null,
       "height": null,
       "justify_content": null,
       "justify_items": null,
       "left": null,
       "margin": null,
       "max_height": null,
       "max_width": null,
       "min_height": null,
       "min_width": null,
       "object_fit": null,
       "object_position": null,
       "order": null,
       "overflow": null,
       "overflow_x": null,
       "overflow_y": null,
       "padding": null,
       "right": null,
       "top": null,
       "visibility": null,
       "width": null
      }
     },
     "fa3e5dfa644748b9b87024fc9b7286c5": {
      "model_module": "@jupyter-widgets/base",
      "model_module_version": "1.2.0",
      "model_name": "LayoutModel",
      "state": {
       "_model_module": "@jupyter-widgets/base",
       "_model_module_version": "1.2.0",
       "_model_name": "LayoutModel",
       "_view_count": null,
       "_view_module": "@jupyter-widgets/base",
       "_view_module_version": "1.2.0",
       "_view_name": "LayoutView",
       "align_content": null,
       "align_items": null,
       "align_self": null,
       "border": null,
       "bottom": null,
       "display": null,
       "flex": null,
       "flex_flow": null,
       "grid_area": null,
       "grid_auto_columns": null,
       "grid_auto_flow": null,
       "grid_auto_rows": null,
       "grid_column": null,
       "grid_gap": null,
       "grid_row": null,
       "grid_template_areas": null,
       "grid_template_columns": null,
       "grid_template_rows": null,
       "height": null,
       "justify_content": null,
       "justify_items": null,
       "left": null,
       "margin": null,
       "max_height": null,
       "max_width": null,
       "min_height": null,
       "min_width": null,
       "object_fit": null,
       "object_position": null,
       "order": null,
       "overflow": null,
       "overflow_x": null,
       "overflow_y": null,
       "padding": null,
       "right": null,
       "top": null,
       "visibility": null,
       "width": null
      }
     }
    },
    "version_major": 2,
    "version_minor": 0
   }
  }
 },
 "nbformat": 4,
 "nbformat_minor": 5
}
