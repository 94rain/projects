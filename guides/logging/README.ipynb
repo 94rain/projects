{
 "cells": [
  {
   "cell_type": "markdown",
   "id": "c3ba25b4",
   "metadata": {
    "papermill": {
     "duration": 0.033099,
     "end_time": "2021-10-19T02:16:26.477192",
     "exception": false,
     "start_time": "2021-10-19T02:16:26.444093",
     "status": "completed"
    },
    "tags": []
   },
   "source": [
    "To run this example locally, execute: `ploomber examples -n guides/logging`.\n",
    "\n",
    "To start a free, hosted JupyterLab: [![binder-logo](https://mybinder.org/badge_logo.svg)](https://mybinder.org/v2/gh/ploomber/binder-env/main?urlpath=git-pull%3Frepo%3Dhttps%253A%252F%252Fgithub.com%252Fploomber%252Fprojects%26urlpath%3Dlab%252Ftree%252Fprojects%252Fguides/logging%252FREADME.ipynb%26branch%3Dmaster)\n",
    "\n",
    "Found an issue? [Let us know.](https://github.com/ploomber/projects/issues/new?title=guides/logging%20issue)\n",
    "\n",
    "Have questions? [Ask us anything on Slack.](http://community.ploomber.io/)\n",
    "\n"
   ]
  },
  {
   "cell_type": "markdown",
   "id": "65accf78",
   "metadata": {
    "papermill": {
     "duration": 0.035599,
     "end_time": "2021-10-19T02:16:26.545078",
     "exception": false,
     "start_time": "2021-10-19T02:16:26.509479",
     "status": "completed"
    },
    "tags": []
   },
   "source": [
    "# Logging\n",
    "\n",
    "<!-- start description -->\n",
    "Tutorial showing how to add logging to a pipeline.\n",
    "<!-- end description -->\n",
    "\n",
    "## Sample pipeline\n",
    "\n",
    "The pipeline we'll be using for this guide contains two tasks (a script and a function):"
   ]
  },
  {
   "cell_type": "markdown",
   "id": "f130bb72",
   "metadata": {
    "papermill": {
     "duration": 0.031278,
     "end_time": "2021-10-19T02:16:26.609949",
     "exception": false,
     "start_time": "2021-10-19T02:16:26.578671",
     "status": "completed"
    },
    "region_name": "md",
    "tags": []
   },
   "source": [
    "```yaml\n",
    "# Content of basic/pipeline.yaml\n",
    "tasks:\n",
    "  - source: script.py\n",
    "    product: output/nb-log.ipynb\n",
    "    papermill_params:\n",
    "      log_output: True\n",
    "\n",
    "  - source: tasks.function\n",
    "    product: output/fn-log.txt\n",
    "\n",
    "```"
   ]
  },
  {
   "cell_type": "markdown",
   "id": "a6ec7112",
   "metadata": {
    "papermill": {
     "duration": 0.03252,
     "end_time": "2021-10-19T02:16:26.673885",
     "exception": false,
     "start_time": "2021-10-19T02:16:26.641365",
     "status": "completed"
    },
    "tags": []
   },
   "source": [
    "Note that the script task contains:\n",
    "\n",
    "```yaml\n",
    "papermill_params:\n",
    "    log_output: True\n",
    "```\n",
    "\n",
    "This extra configuration is required on each script/notebook task in your pipeline to enable logging. The code on each task isn't important; they contain a for loop and log a message on each iteration. Let's see it in action:"
   ]
  },
  {
   "cell_type": "code",
   "execution_count": 1,
   "id": "5fa16a10",
   "metadata": {
    "execution": {
     "iopub.execute_input": "2021-10-19T02:16:26.745507Z",
     "iopub.status.busy": "2021-10-19T02:16:26.744789Z",
     "iopub.status.idle": "2021-10-19T02:16:41.246194Z",
     "shell.execute_reply": "2021-10-19T02:16:41.246887Z"
    },
    "papermill": {
     "duration": 14.541799,
     "end_time": "2021-10-19T02:16:41.247226",
     "exception": false,
     "start_time": "2021-10-19T02:16:26.705427",
     "status": "completed"
    },
    "tags": []
   },
   "outputs": [
    {
     "name": "stdout",
     "output_type": "stream",
     "text": [
      "name      Ran?      Elapsed (s)    Percentage\n",
      "--------  ------  -------------  ------------\n",
      "script    True          4.80284       61.4533\n",
      "function  True          3.01259       38.5467\n"
     ]
    },
    {
     "name": "stderr",
     "output_type": "stream",
     "text": [
      "INFO:blib2to3.pgen2.driver:Generating grammar tables from /Users/Edu/miniconda3/envs/projects/lib/python3.9/site-packages/blib2to3/Grammar.txt\n",
      "INFO:blib2to3.pgen2.driver:Writing grammar tables to /Users/Edu/Library/Caches/black/21.9b0/Grammar3.9.7.final.0.pickle\n",
      "INFO:blib2to3.pgen2.driver:Writing failed: [Errno 2] No such file or directory: '/Users/Edu/Library/Caches/black/21.9b0/tmp_1z86avo'\n",
      "INFO:blib2to3.pgen2.driver:Generating grammar tables from /Users/Edu/miniconda3/envs/projects/lib/python3.9/site-packages/blib2to3/PatternGrammar.txt\n",
      "INFO:blib2to3.pgen2.driver:Writing grammar tables to /Users/Edu/Library/Caches/black/21.9b0/PatternGrammar3.9.7.final.0.pickle\n",
      "INFO:blib2to3.pgen2.driver:Writing failed: [Errno 2] No such file or directory: '/Users/Edu/Library/Caches/black/21.9b0/tmpb37zi_jd'\n",
      "INFO:ploomber.dag.dag:Building DAG DAG(\"No name\")\n",
      "\r",
      "  0%|          | 0/2 [00:00<?, ?it/s]\r",
      "Building task 'script':   0%|          | 0/2 [00:00<?, ?it/s]INFO:ploomber.tasks.abc.NotebookRunner:Starting execution: NotebookRunner: script -> File('output/nb-log.ipynb')\n",
      "INFO:papermill:Input Notebook:  /var/folders/3h/_lvh_w_x5g30rrjzb_xnn2j80000gq/T/tmpa6q_hw5m.ipynb\n",
      "INFO:papermill:Output Notebook: /Users/Edu/dev/projects-ploomber/guides/logging/basic/output/nb-log.ipynb\n",
      "\n",
      "\r",
      "Executing:   0%|          | 0/6 [00:00<?, ?cell/s]\u001b[AINFO:papermill:Executing notebook with kernel: python3\n",
      "INFO:papermill:Executing Cell 1---------------------------------------\n",
      "INFO:papermill:Ending Cell 1------------------------------------------\n",
      "\n",
      "\r",
      "Executing:  17%|█▋        | 1/6 [00:01<00:07,  1.43s/cell]\u001b[AINFO:papermill:Executing Cell 2---------------------------------------\n",
      "INFO:papermill:Ending Cell 2------------------------------------------\n",
      "INFO:papermill:Executing Cell 3---------------------------------------\n",
      "INFO:papermill:Ending Cell 3------------------------------------------\n",
      "INFO:papermill:Executing Cell 4---------------------------------------\n",
      "INFO:papermill:Ending Cell 4------------------------------------------\n",
      "\n",
      "\r",
      "Executing:  67%|██████▋   | 4/6 [00:01<00:00,  3.33cell/s]\u001b[AINFO:papermill:Executing Cell 5---------------------------------------\n",
      "INFO:papermill:Ending Cell 5------------------------------------------\n",
      "INFO:papermill:Executing Cell 6---------------------------------------\n",
      "INFO:papermill:INFO:__main__:[script log] Finished step 1...\n",
      "\n",
      "INFO:papermill:INFO:__main__:[script log] Finished step 2...\n",
      "\n",
      "INFO:papermill:INFO:__main__:[script log] Finished step 3...\n",
      "\n",
      "INFO:papermill:INFO:__main__:[script log] Done.\n",
      "\n",
      "INFO:papermill:Ending Cell 6------------------------------------------\n",
      "\n",
      "\r",
      "Executing: 100%|██████████| 6/6 [00:04<00:00,  1.19cell/s]\u001b[A\r",
      "Executing: 100%|██████████| 6/6 [00:04<00:00,  1.26cell/s]\n",
      "INFO:ploomber.tasks.abc.NotebookRunner:Done. Operation took 4.8 seconds\n",
      "\r",
      "Building task 'script':  50%|█████     | 1/2 [00:04<00:04,  4.81s/it]\r",
      "Building task 'function':  50%|█████     | 1/2 [00:04<00:04,  4.81s/it]\r",
      "Building task 'function': 100%|██████████| 2/2 [00:10<00:00,  5.55s/it]\r",
      "Building task 'function': 100%|██████████| 2/2 [00:10<00:00,  5.44s/it]\n",
      "INFO:ploomber.dag.dag: DAG report:\n",
      "name      Ran?      Elapsed (s)    Percentage\n",
      "--------  ------  -------------  ------------\n",
      "script    True          4.80284       61.4533\n",
      "function  True          3.01259       38.5467\n"
     ]
    }
   ],
   "source": [
    "%%sh\n",
    "cd basic\n",
    "ploomber build --log info --force"
   ]
  },
  {
   "cell_type": "markdown",
   "id": "edb588c2",
   "metadata": {
    "papermill": {
     "duration": 0.034448,
     "end_time": "2021-10-19T02:16:41.316635",
     "exception": false,
     "start_time": "2021-10-19T02:16:41.282187",
     "status": "completed"
    },
    "tags": []
   },
   "source": [
    "We can see that the logging statements appear in the console. If you want to take a look at the code, [click here](https://github.com/ploomber/projects/tree/master/guides/logging/basic)."
   ]
  },
  {
   "cell_type": "markdown",
   "id": "607983a7",
   "metadata": {
    "papermill": {
     "duration": 0.033003,
     "end_time": "2021-10-19T02:16:41.385114",
     "exception": false,
     "start_time": "2021-10-19T02:16:41.352111",
     "status": "completed"
    },
    "tags": []
   },
   "source": [
    "## Why not print?\n",
    "\n",
    "Note that the snippets above use the `logging` module instead of `print`. Although `print` is a quick and easy way to display messages in the console, the `logging` module is more flexible. Hence, it is the recommended option."
   ]
  },
  {
   "cell_type": "markdown",
   "id": "0c5472f7",
   "metadata": {
    "papermill": {
     "duration": 0.034633,
     "end_time": "2021-10-19T02:16:41.453639",
     "exception": false,
     "start_time": "2021-10-19T02:16:41.419006",
     "status": "completed"
    },
    "tags": []
   },
   "source": [
    "## Logging to a file\n",
    "\n",
    "It's common to send all your log records to a file. You can do so with the ``--log-file/-F`` option:\n",
    "\n",
    "```sh\n",
    "ploomber build --log info --log-file my.log\n",
    "```"
   ]
  },
  {
   "cell_type": "markdown",
   "id": "06794e93",
   "metadata": {
    "papermill": {
     "duration": 0.036279,
     "end_time": "2021-10-19T02:16:41.533574",
     "exception": false,
     "start_time": "2021-10-19T02:16:41.497295",
     "status": "completed"
    },
    "tags": []
   },
   "source": [
    "## Logging to a file from Python\n",
    "\n",
    "Alternatively, you can configure logging from Python, which gives you more flexibility:"
   ]
  },
  {
   "cell_type": "code",
   "execution_count": 2,
   "id": "d9af4a95",
   "metadata": {
    "execution": {
     "iopub.execute_input": "2021-10-19T02:16:41.619070Z",
     "iopub.status.busy": "2021-10-19T02:16:41.618277Z",
     "iopub.status.idle": "2021-10-19T02:16:53.771350Z",
     "shell.execute_reply": "2021-10-19T02:16:53.772036Z"
    },
    "papermill": {
     "duration": 12.201803,
     "end_time": "2021-10-19T02:16:53.772436",
     "exception": false,
     "start_time": "2021-10-19T02:16:41.570633",
     "status": "completed"
    },
    "tags": []
   },
   "outputs": [
    {
     "data": {
      "application/vnd.jupyter.widget-view+json": {
       "model_id": "0ea7170014904b4284d898dc8d7bf4f1",
       "version_major": 2,
       "version_minor": 0
      },
      "text/plain": [
       "  0%|          | 0/2 [00:00<?, ?it/s]"
      ]
     },
     "metadata": {},
     "output_type": "display_data"
    },
    {
     "data": {
      "application/vnd.jupyter.widget-view+json": {
       "model_id": "f49b0fc8fac44a129f41b7992da12707",
       "version_major": 2,
       "version_minor": 0
      },
      "text/plain": [
       "Executing:   0%|          | 0/6 [00:00<?, ?cell/s]"
      ]
     },
     "metadata": {},
     "output_type": "display_data"
    },
    {
     "data": {
      "text/html": [
       "<table>\n",
       "<thead>\n",
       "<tr><th>name    </th><th>Ran?  </th><th style=\"text-align: right;\">  Elapsed (s)</th><th style=\"text-align: right;\">  Percentage</th></tr>\n",
       "</thead>\n",
       "<tbody>\n",
       "<tr><td>script  </td><td>True  </td><td style=\"text-align: right;\">      4.79235</td><td style=\"text-align: right;\">     61.4129</td></tr>\n",
       "<tr><td>function</td><td>True  </td><td style=\"text-align: right;\">      3.01114</td><td style=\"text-align: right;\">     38.5871</td></tr>\n",
       "</tbody>\n",
       "</table>"
      ],
      "text/plain": [
       "name      Ran?      Elapsed (s)    Percentage\n",
       "--------  ------  -------------  ------------\n",
       "script    True          4.79235       61.4129\n",
       "function  True          3.01114       38.5871"
      ]
     },
     "execution_count": 2,
     "metadata": {},
     "output_type": "execute_result"
    }
   ],
   "source": [
    "# you may store the contents of this cell in a .py file and then call it from the command line\n",
    "# e.g., python run_pipeline.py\n",
    "import logging\n",
    "from pathlib import Path\n",
    "import sys\n",
    "\n",
    "from ploomber.executors import Serial\n",
    "from ploomber.spec import DAGSpec\n",
    "\n",
    "if Path('my.log').exists():\n",
    "    Path('my.log').unlink()\n",
    "\n",
    "logging.basicConfig(filename='my.log', format='%(levelname)s:%(message)s', level=logging.INFO)\n",
    "\n",
    "# make sure we can import basic/tasks.py since basic/pipeline.yaml uses it\n",
    "sys.path.append('basic')\n",
    "\n",
    "dag = DAGSpec('basic/pipeline.yaml').to_dag()\n",
    "dag.build(force=True)"
   ]
  },
  {
   "cell_type": "markdown",
   "id": "bd5599e1",
   "metadata": {
    "papermill": {
     "duration": 0.043307,
     "end_time": "2021-10-19T02:16:53.852683",
     "exception": false,
     "start_time": "2021-10-19T02:16:53.809376",
     "status": "completed"
    },
    "tags": []
   },
   "source": [
    "Let's look at the file contents:"
   ]
  },
  {
   "cell_type": "code",
   "execution_count": 3,
   "id": "3de21b28",
   "metadata": {
    "execution": {
     "iopub.execute_input": "2021-10-19T02:16:53.946111Z",
     "iopub.status.busy": "2021-10-19T02:16:53.945340Z",
     "iopub.status.idle": "2021-10-19T02:16:53.948494Z",
     "shell.execute_reply": "2021-10-19T02:16:53.948973Z"
    },
    "papermill": {
     "duration": 0.048562,
     "end_time": "2021-10-19T02:16:53.949307",
     "exception": false,
     "start_time": "2021-10-19T02:16:53.900745",
     "status": "completed"
    },
    "tags": []
   },
   "outputs": [
    {
     "name": "stdout",
     "output_type": "stream",
     "text": [
      "INFO:Generating grammar tables from /Users/Edu/miniconda3/envs/projects/lib/python3.9/site-packages/blib2to3/Grammar.txt\n",
      "INFO:Writing grammar tables to /Users/Edu/Library/Caches/black/21.9b0/Grammar3.9.7.final.0.pickle\n",
      "INFO:Writing failed: [Errno 2] No such file or directory: '/Users/Edu/Library/Caches/black/21.9b0/tmpymjzhizb'\n",
      "INFO:Generating grammar tables from /Users/Edu/miniconda3/envs/projects/lib/python3.9/site-packages/blib2to3/PatternGrammar.txt\n",
      "INFO:Writing grammar tables to /Users/Edu/Library/Caches/black/21.9b0/PatternGrammar3.9.7.final.0.pickle\n",
      "INFO:Writing failed: [Errno 2] No such file or directory: '/Users/Edu/Library/Caches/black/21.9b0/tmphou7ei_h'\n",
      "INFO:Building DAG DAG(\"No name\")\n",
      "INFO:Starting execution: NotebookRunner: script -> File('basic/output/nb-log.ipynb')\n",
      "INFO:Input Notebook:  /var/folders/3h/_lvh_w_x5g30rrjzb_xnn2j80000gq/T/tmp0c26lf3h.ipynb\n",
      "INFO:Output Notebook: /Users/Edu/dev/projects-ploomber/guides/logging/basic/output/nb-log.ipynb\n",
      "INFO:Executing notebook with kernel: python3\n",
      "INFO:Executing Cell 1---------------------------------------\n",
      "INFO:Ending Cell 1------------------------------------------\n",
      "INFO:Executing Cell 2---------------------------------------\n",
      "INFO:Ending Cell 2------------------------------------------\n",
      "INFO:Executing Cell 3---------------------------------------\n",
      "INFO:Ending Cell 3------------------------------------------\n",
      "INFO:Executing Cell 4---------------------------------------\n",
      "INFO:Ending Cell 4------------------------------------------\n",
      "INFO:Executing Cell 5---------------------------------------\n",
      "INFO:Ending Cell 5------------------------------------------\n",
      "INFO:Executing Cell 6---------------------------------------\n",
      "INFO:INFO:__main__:[script log] Finished step 1...\n",
      "\n",
      "INFO:INFO:__main__:[script log] Finished step 2...\n",
      "\n",
      "INFO:INFO:__main__:[script log] Finished step 3...\n",
      "\n",
      "INFO:INFO:__main__:[script log] Done.\n",
      "\n",
      "INFO:Ending Cell 6------------------------------------------\n",
      "INFO:Done. Operation took 4.8 seconds\n",
      "INFO: DAG report:\n",
      "name      Ran?      Elapsed (s)    Percentage\n",
      "--------  ------  -------------  ------------\n",
      "script    True          4.79235       61.4129\n",
      "function  True          3.01114       38.5871\n",
      "\n"
     ]
    }
   ],
   "source": [
    "print(Path('my.log').read_text())"
   ]
  },
  {
   "cell_type": "markdown",
   "id": "eca494b1",
   "metadata": {
    "papermill": {
     "duration": 0.043289,
     "end_time": "2021-10-19T02:16:54.031785",
     "exception": false,
     "start_time": "2021-10-19T02:16:53.988496",
     "status": "completed"
    },
    "tags": []
   },
   "source": [
    "## Controlling logging level\n",
    "\n",
    "The Python's [logging](https://docs.python.org/3/library/logging.html) module allows you to filter messages depending on their priority. For example, when running your pipeline, you may only want to display *regular* messages, but you may allow *regular* and *debugging* messages for more granularity when debugging. Since Ploomber runs tasks differently depending on their type (i.e., functions vs. scripts/notebooks), controlling the logging level requires a bit of extra work. Let's use the same pipeline in the `parametrized` directory:"
   ]
  },
  {
   "cell_type": "code",
   "execution_count": 4,
   "id": "626b420d",
   "metadata": {
    "execution": {
     "iopub.execute_input": "2021-10-19T02:16:54.119818Z",
     "iopub.status.busy": "2021-10-19T02:16:54.119019Z",
     "iopub.status.idle": "2021-10-19T02:17:08.674344Z",
     "shell.execute_reply": "2021-10-19T02:17:08.675201Z"
    },
    "papermill": {
     "duration": 14.602586,
     "end_time": "2021-10-19T02:17:08.675433",
     "exception": false,
     "start_time": "2021-10-19T02:16:54.072847",
     "status": "completed"
    },
    "tags": []
   },
   "outputs": [
    {
     "name": "stdout",
     "output_type": "stream",
     "text": [
      "name      Ran?      Elapsed (s)    Percentage\n",
      "--------  ------  -------------  ------------\n",
      "script    True          4.7927        61.4015\n",
      "function  True          3.01281       38.5985\n"
     ]
    },
    {
     "name": "stderr",
     "output_type": "stream",
     "text": [
      "INFO:blib2to3.pgen2.driver:Generating grammar tables from /Users/Edu/miniconda3/envs/projects/lib/python3.9/site-packages/blib2to3/Grammar.txt\n",
      "INFO:blib2to3.pgen2.driver:Writing grammar tables to /Users/Edu/Library/Caches/black/21.9b0/Grammar3.9.7.final.0.pickle\n",
      "INFO:blib2to3.pgen2.driver:Writing failed: [Errno 2] No such file or directory: '/Users/Edu/Library/Caches/black/21.9b0/tmpixjyza0n'\n",
      "INFO:blib2to3.pgen2.driver:Generating grammar tables from /Users/Edu/miniconda3/envs/projects/lib/python3.9/site-packages/blib2to3/PatternGrammar.txt\n",
      "INFO:blib2to3.pgen2.driver:Writing grammar tables to /Users/Edu/Library/Caches/black/21.9b0/PatternGrammar3.9.7.final.0.pickle\n",
      "INFO:blib2to3.pgen2.driver:Writing failed: [Errno 2] No such file or directory: '/Users/Edu/Library/Caches/black/21.9b0/tmpey27ba48'\n",
      "INFO:ploomber.dag.dag:Building DAG DAG(\"No name\")\n",
      "\r",
      "  0%|          | 0/2 [00:00<?, ?it/s]\r",
      "Building task 'script':   0%|          | 0/2 [00:00<?, ?it/s]INFO:ploomber.tasks.abc.NotebookRunner:Starting execution: NotebookRunner: script -> File('output/nb-log.ipynb')\n",
      "INFO:papermill:Input Notebook:  /var/folders/3h/_lvh_w_x5g30rrjzb_xnn2j80000gq/T/tmpqbtl3m2s.ipynb\n",
      "INFO:papermill:Output Notebook: /Users/Edu/dev/projects-ploomber/guides/logging/parametrized/output/nb-log.ipynb\n",
      "\n",
      "\r",
      "Executing:   0%|          | 0/6 [00:00<?, ?cell/s]\u001b[AINFO:papermill:Executing notebook with kernel: python3\n",
      "INFO:papermill:Executing Cell 1---------------------------------------\n",
      "INFO:papermill:Ending Cell 1------------------------------------------\n",
      "\n",
      "\r",
      "Executing:  17%|█▋        | 1/6 [00:01<00:06,  1.32s/cell]\u001b[AINFO:papermill:Executing Cell 2---------------------------------------\n",
      "INFO:papermill:Ending Cell 2------------------------------------------\n",
      "INFO:papermill:Executing Cell 3---------------------------------------\n",
      "INFO:papermill:Ending Cell 3------------------------------------------\n",
      "INFO:papermill:Executing Cell 4---------------------------------------\n",
      "INFO:papermill:Ending Cell 4------------------------------------------\n",
      "\n",
      "\r",
      "Executing:  67%|██████▋   | 4/6 [00:01<00:00,  3.60cell/s]\u001b[AINFO:papermill:Executing Cell 5---------------------------------------\n",
      "INFO:papermill:Ending Cell 5------------------------------------------\n",
      "INFO:papermill:Executing Cell 6---------------------------------------\n",
      "INFO:papermill:INFO:__main__:[script log] Finished step 1...\n",
      "\n",
      "INFO:papermill:INFO:__main__:[script log] Finished step 2...\n",
      "\n",
      "INFO:papermill:INFO:__main__:[script log] Finished step 3...\n",
      "\n",
      "INFO:papermill:INFO:__main__:[script log] Done.\n",
      "\n",
      "INFO:papermill:Ending Cell 6------------------------------------------\n",
      "\n",
      "\r",
      "Executing: 100%|██████████| 6/6 [00:04<00:00,  1.20cell/s]\u001b[A\r",
      "Executing: 100%|██████████| 6/6 [00:04<00:00,  1.27cell/s]\n",
      "INFO:ploomber.tasks.abc.NotebookRunner:Done. Operation took 4.8 seconds\n",
      "\r",
      "Building task 'script':  50%|█████     | 1/2 [00:04<00:04,  4.80s/it]\r",
      "Building task 'function':  50%|█████     | 1/2 [00:04<00:04,  4.80s/it]INFO:tasks:[function log] Finished step 1...\n",
      "INFO:tasks:[function log] Finished step 2...\n",
      "INFO:tasks:[function log] Finished step 3...\n",
      "INFO:tasks:[function log] Done.\n",
      "INFO:ploomber.tasks.abc.PythonCallable:Done. Operation took 3.0 seconds\n",
      "\r",
      "Building task 'function': 100%|██████████| 2/2 [00:10<00:00,  5.57s/it]\r",
      "Building task 'function': 100%|██████████| 2/2 [00:10<00:00,  5.46s/it]\n",
      "INFO:ploomber.dag.dag: DAG report:\n",
      "name      Ran?      Elapsed (s)    Percentage\n",
      "--------  ------  -------------  ------------\n",
      "script    True          4.7927        61.4015\n",
      "function  True          3.01281       38.5985\n"
     ]
    }
   ],
   "source": [
    "%%sh\n",
    "cd parametrized\n",
    "ploomber build --log info --env--logging_level info --force"
   ]
  },
  {
   "cell_type": "markdown",
   "id": "8781cbf0",
   "metadata": {
    "papermill": {
     "duration": 0.043499,
     "end_time": "2021-10-19T02:17:08.760983",
     "exception": false,
     "start_time": "2021-10-19T02:17:08.717484",
     "status": "completed"
    },
    "tags": []
   },
   "source": [
    "Let's now run the pipeline but switch the logging level to debug, this will print the records we saw above, plus the ones with `debug` level:"
   ]
  },
  {
   "cell_type": "code",
   "execution_count": 5,
   "id": "6faa3c30",
   "metadata": {
    "execution": {
     "iopub.execute_input": "2021-10-19T02:17:08.850613Z",
     "iopub.status.busy": "2021-10-19T02:17:08.849829Z",
     "iopub.status.idle": "2021-10-19T02:17:23.282275Z",
     "shell.execute_reply": "2021-10-19T02:17:23.283370Z"
    },
    "papermill": {
     "duration": 14.482009,
     "end_time": "2021-10-19T02:17:23.283599",
     "exception": false,
     "start_time": "2021-10-19T02:17:08.801590",
     "status": "completed"
    },
    "tags": []
   },
   "outputs": [
    {
     "name": "stdout",
     "output_type": "stream",
     "text": [
      "name      Ran?      Elapsed (s)    Percentage\n",
      "--------  ------  -------------  ------------\n",
      "script    True          4.69701        60.979\n",
      "function  True          3.00566        39.021\n"
     ]
    },
    {
     "name": "stderr",
     "output_type": "stream",
     "text": [
      "DEBUG:ploomber.spec.dagspec:DAGSpec enviroment:\n",
      "EnvDict({'cwd': '/Users/Edu/d.../parametrized', 'here': '/Users/Edu/d.../parametrized', 'logging_level': 'debug', 'root': '/Users/Edu/d.../parametrized', ...})\n",
      "DEBUG:ploomber.spec.dagspec:Expanded DAGSpec:\n",
      "{   'tasks': [   {   'papermill_params': {'log_output': True},\n",
      "                     'params': {'logging_level': '{{logging_level}}'},\n",
      "                     'product': 'output/nb-log.ipynb',\n",
      "                     'source': 'script.py'},\n",
      "                 {   'params': {'logging_level': '{{logging_level}}'},\n",
      "                     'product': 'output/fn-log.txt',\n",
      "                     'source': 'tasks.function'}]}\n",
      "DEBUG:ploomber.tasks.abc.NotebookRunner:Setting \"script\" status to TaskStatus.WaitingRender\n",
      "DEBUG:ploomber.tasks.abc.PythonCallable:Setting \"function\" status to TaskStatus.WaitingRender\n",
      "DEBUG:ploomber.spec.dagspec:Extracted upstream dependencies for task script: None\n",
      "DEBUG:ploomber.spec.dagspec:Extracted upstream dependencies for task function: None\n",
      "INFO:blib2to3.pgen2.driver:Generating grammar tables from /Users/Edu/miniconda3/envs/projects/lib/python3.9/site-packages/blib2to3/Grammar.txt\n",
      "INFO:blib2to3.pgen2.driver:Writing grammar tables to /Users/Edu/Library/Caches/black/21.9b0/Grammar3.9.7.final.0.pickle\n",
      "INFO:blib2to3.pgen2.driver:Writing failed: [Errno 2] No such file or directory: '/Users/Edu/Library/Caches/black/21.9b0/tmpicva3a3k'\n",
      "INFO:blib2to3.pgen2.driver:Generating grammar tables from /Users/Edu/miniconda3/envs/projects/lib/python3.9/site-packages/blib2to3/PatternGrammar.txt\n",
      "INFO:blib2to3.pgen2.driver:Writing grammar tables to /Users/Edu/Library/Caches/black/21.9b0/PatternGrammar3.9.7.final.0.pickle\n",
      "INFO:blib2to3.pgen2.driver:Writing failed: [Errno 2] No such file or directory: '/Users/Edu/Library/Caches/black/21.9b0/tmpqio8ngi7'\n",
      "INFO:ploomber.dag.dag:Building DAG DAG(\"No name\")\n",
      "\r",
      "  0%|          | 0/2 [00:00<?, ?it/s]\r",
      "Building task 'script':   0%|          | 0/2 [00:00<?, ?it/s]INFO:ploomber.tasks.abc.NotebookRunner:Starting execution: NotebookRunner: script -> File('output/nb-log.ipynb')\n",
      "INFO:papermill:Input Notebook:  /var/folders/3h/_lvh_w_x5g30rrjzb_xnn2j80000gq/T/tmplrxgf41d.ipynb\n",
      "INFO:papermill:Output Notebook: /Users/Edu/dev/projects-ploomber/guides/logging/parametrized/output/nb-log.ipynb\n",
      "\n",
      "\r",
      "Executing:   0%|          | 0/6 [00:00<?, ?cell/s]\u001b[AINFO:papermill:Executing notebook with kernel: python3\n",
      "INFO:papermill:Executing Cell 1---------------------------------------\n",
      "INFO:papermill:Ending Cell 1------------------------------------------\n",
      "\n",
      "\r",
      "Executing:  17%|█▋        | 1/6 [00:01<00:06,  1.32s/cell]\u001b[AINFO:papermill:Executing Cell 2---------------------------------------\n",
      "INFO:papermill:Ending Cell 2------------------------------------------\n",
      "INFO:papermill:Executing Cell 3---------------------------------------\n",
      "INFO:papermill:Ending Cell 3------------------------------------------\n",
      "INFO:papermill:Executing Cell 4---------------------------------------\n",
      "INFO:papermill:Ending Cell 4------------------------------------------\n",
      "\n",
      "\r",
      "Executing:  67%|██████▋   | 4/6 [00:01<00:00,  3.57cell/s]\u001b[AINFO:papermill:Executing Cell 5---------------------------------------\n",
      "INFO:papermill:Ending Cell 5------------------------------------------\n",
      "INFO:papermill:Executing Cell 6---------------------------------------\n",
      "INFO:papermill:DEBUG:__main__:[script log] This is a message for debugging\n",
      "\n",
      "INFO:papermill:INFO:__main__:[script log] Finished step 1...\n",
      "\n",
      "INFO:papermill:INFO:__main__:[script log] Finished step 2...\n",
      "\n",
      "INFO:papermill:INFO:__main__:[script log] Finished step 3...\n",
      "\n",
      "INFO:papermill:INFO:__main__:[script log] Done.\n",
      "\n",
      "INFO:papermill:Ending Cell 6------------------------------------------\n",
      "\n",
      "\r",
      "Executing: 100%|██████████| 6/6 [00:04<00:00,  1.20cell/s]\u001b[A\r",
      "Executing: 100%|██████████| 6/6 [00:04<00:00,  1.29cell/s]\n",
      "INFO:ploomber.tasks.abc.NotebookRunner:Done. Operation took 4.7 seconds\n",
      "\r",
      "Building task 'script':  50%|█████     | 1/2 [00:04<00:04,  4.70s/it]\r",
      "Building task 'function':  50%|█████     | 1/2 [00:04<00:04,  4.70s/it]DEBUG:tasks:[function log] This is a message for debugging\n",
      "INFO:tasks:[function log] Finished step 1...\n",
      "INFO:tasks:[function log] Finished step 2...\n",
      "INFO:tasks:[function log] Finished step 3...\n",
      "INFO:tasks:[function log] Done.\n",
      "INFO:ploomber.tasks.abc.PythonCallable:Done. Operation took 3.0 seconds\n",
      "DEBUG:ploomber.tasks.abc.PythonCallable:Setting \"function\" status to TaskStatus.Executed\n",
      "\r",
      "Building task 'function': 100%|██████████| 2/2 [00:10<00:00,  5.51s/it]\r",
      "Building task 'function': 100%|██████████| 2/2 [00:10<00:00,  5.39s/it]\n",
      "INFO:ploomber.dag.dag: DAG report:\n",
      "name      Ran?      Elapsed (s)    Percentage\n",
      "--------  ------  -------------  ------------\n",
      "script    True          4.69701        60.979\n",
      "function  True          3.00566        39.021\n"
     ]
    }
   ],
   "source": [
    "%%sh\n",
    "cd parametrized\n",
    "ploomber build --log debug --env--logging_level debug --force"
   ]
  },
  {
   "cell_type": "markdown",
   "id": "1187ea94",
   "metadata": {
    "papermill": {
     "duration": 0.044464,
     "end_time": "2021-10-19T02:17:23.372245",
     "exception": false,
     "start_time": "2021-10-19T02:17:23.327781",
     "status": "completed"
    },
    "tags": []
   },
   "source": [
    "To get the code for the previous example, [click here](https://github.com/ploomber/projects/tree/master/guides/logging/parametrized)."
   ]
  },
  {
   "cell_type": "markdown",
   "id": "b104a220",
   "metadata": {
    "papermill": {
     "duration": 0.041999,
     "end_time": "2021-10-19T02:17:23.456490",
     "exception": false,
     "start_time": "2021-10-19T02:17:23.414491",
     "status": "completed"
    },
    "tags": []
   },
   "source": [
    "## Implementation details\n",
    "\n",
    "To keep the tutorial short, we overlooked some technical details. However, if you want to customize logging, they are essential to know.\n",
    "\n",
    "### Function tasks and sub-processes\n",
    "\n",
    "By default, Ploomber runs function tasks in a child process. However, beginning on version 3.8, [Python 3.8 switched to use spawn instead of fork on macOS](https://docs.python.org/3/library/multiprocessing.html#contexts-and-start-methods), this implies that child processes *do not* inherit the logging configuration of their parents. That's why you must configure a logger inside the function's body:\n",
    "\n",
    "```python\n",
    "import logging\n",
    "\n",
    "\n",
    "def some_task(product):\n",
    "    # the following line is required on Python>=3.8 if using macOS\n",
    "    logging.basicConfig(level=logging.INFO)\n",
    "\n",
    "    logger = logging.getLogger(__name__)\n",
    "\n",
    "    # to log a message, call logger.info\n",
    "    logger.info('Some message')\n",
    "```\n",
    "\n",
    "### Scripts and notebooks\n",
    "\n",
    "Unlike function tasks, which can run in the same process as Ploomber or in a child process, scripts and notebooks execute independently. Hence, any logging configuration made in the main process is lost, and We have to configure a separate logger at the top of the script/notebook.\n",
    "\n",
    "### Parallel execution\n",
    "\n",
    "\n",
    "Logging is currently unavailable when using the `Parallel` executor.\n"
   ]
  }
 ],
 "metadata": {
  "kernelspec": {
   "display_name": "Python 3 (ipykernel)",
   "language": "python",
   "name": "python3"
  },
  "language_info": {
   "codemirror_mode": {
    "name": "ipython",
    "version": 3
   },
   "file_extension": ".py",
   "mimetype": "text/x-python",
   "name": "python",
   "nbconvert_exporter": "python",
   "pygments_lexer": "ipython3",
   "version": "3.9.7"
  },
  "papermill": {
   "default_parameters": {},
   "duration": 58.673715,
   "end_time": "2021-10-19T02:17:23.917743",
   "environment_variables": {},
   "exception": null,
   "input_path": "guides/logging/_build/readme_preprocessed.ipynb",
   "output_path": "guides/logging/README.ipynb",
   "parameters": {},
   "start_time": "2021-10-19T02:16:25.244028",
   "version": "2.3.3"
  },
  "widgets": {
   "application/vnd.jupyter.widget-state+json": {
    "state": {
     "0a07b5988e1a4e789bf0378272ae5cc6": {
      "model_module": "@jupyter-widgets/base",
      "model_module_version": "1.2.0",
      "model_name": "LayoutModel",
      "state": {
       "_model_module": "@jupyter-widgets/base",
       "_model_module_version": "1.2.0",
       "_model_name": "LayoutModel",
       "_view_count": null,
       "_view_module": "@jupyter-widgets/base",
       "_view_module_version": "1.2.0",
       "_view_name": "LayoutView",
       "align_content": null,
       "align_items": null,
       "align_self": null,
       "border": null,
       "bottom": null,
       "display": null,
       "flex": null,
       "flex_flow": null,
       "grid_area": null,
       "grid_auto_columns": null,
       "grid_auto_flow": null,
       "grid_auto_rows": null,
       "grid_column": null,
       "grid_gap": null,
       "grid_row": null,
       "grid_template_areas": null,
       "grid_template_columns": null,
       "grid_template_rows": null,
       "height": null,
       "justify_content": null,
       "justify_items": null,
       "left": null,
       "margin": null,
       "max_height": null,
       "max_width": null,
       "min_height": null,
       "min_width": null,
       "object_fit": null,
       "object_position": null,
       "order": null,
       "overflow": null,
       "overflow_x": null,
       "overflow_y": null,
       "padding": null,
       "right": null,
       "top": null,
       "visibility": null,
       "width": null
      }
     },
     "0ea7170014904b4284d898dc8d7bf4f1": {
      "model_module": "@jupyter-widgets/controls",
      "model_module_version": "1.5.0",
      "model_name": "HBoxModel",
      "state": {
       "_dom_classes": [],
       "_model_module": "@jupyter-widgets/controls",
       "_model_module_version": "1.5.0",
       "_model_name": "HBoxModel",
       "_view_count": null,
       "_view_module": "@jupyter-widgets/controls",
       "_view_module_version": "1.5.0",
       "_view_name": "HBoxView",
       "box_style": "",
       "children": [
        "IPY_MODEL_a282321a7d6145dbb7d87f76bea65b11",
        "IPY_MODEL_6dd74dea74f74ff583e173d9fed0adf8",
        "IPY_MODEL_16b9a3a059c0412da7c6036329657e1e"
       ],
       "layout": "IPY_MODEL_0a07b5988e1a4e789bf0378272ae5cc6"
      }
     },
     "16b9a3a059c0412da7c6036329657e1e": {
      "model_module": "@jupyter-widgets/controls",
      "model_module_version": "1.5.0",
      "model_name": "HTMLModel",
      "state": {
       "_dom_classes": [],
       "_model_module": "@jupyter-widgets/controls",
       "_model_module_version": "1.5.0",
       "_model_name": "HTMLModel",
       "_view_count": null,
       "_view_module": "@jupyter-widgets/controls",
       "_view_module_version": "1.5.0",
       "_view_name": "HTMLView",
       "description": "",
       "description_tooltip": null,
       "layout": "IPY_MODEL_ac670a84abc848eeaffdca337ab15e11",
       "placeholder": "​",
       "style": "IPY_MODEL_59830db0b6f94b95a3b32cf3a0ad90e9",
       "value": " 2/2 [00:10&lt;00:00,  5.17s/it]"
      }
     },
     "3196d6f2fe8d43c6890662f6f7361673": {
      "model_module": "@jupyter-widgets/base",
      "model_module_version": "1.2.0",
      "model_name": "LayoutModel",
      "state": {
       "_model_module": "@jupyter-widgets/base",
       "_model_module_version": "1.2.0",
       "_model_name": "LayoutModel",
       "_view_count": null,
       "_view_module": "@jupyter-widgets/base",
       "_view_module_version": "1.2.0",
       "_view_name": "LayoutView",
       "align_content": null,
       "align_items": null,
       "align_self": null,
       "border": null,
       "bottom": null,
       "display": null,
       "flex": null,
       "flex_flow": null,
       "grid_area": null,
       "grid_auto_columns": null,
       "grid_auto_flow": null,
       "grid_auto_rows": null,
       "grid_column": null,
       "grid_gap": null,
       "grid_row": null,
       "grid_template_areas": null,
       "grid_template_columns": null,
       "grid_template_rows": null,
       "height": null,
       "justify_content": null,
       "justify_items": null,
       "left": null,
       "margin": null,
       "max_height": null,
       "max_width": null,
       "min_height": null,
       "min_width": null,
       "object_fit": null,
       "object_position": null,
       "order": null,
       "overflow": null,
       "overflow_x": null,
       "overflow_y": null,
       "padding": null,
       "right": null,
       "top": null,
       "visibility": null,
       "width": null
      }
     },
     "3bc8667fe0c14a1c9ecce1e72c203034": {
      "model_module": "@jupyter-widgets/controls",
      "model_module_version": "1.5.0",
      "model_name": "ProgressStyleModel",
      "state": {
       "_model_module": "@jupyter-widgets/controls",
       "_model_module_version": "1.5.0",
       "_model_name": "ProgressStyleModel",
       "_view_count": null,
       "_view_module": "@jupyter-widgets/base",
       "_view_module_version": "1.2.0",
       "_view_name": "StyleView",
       "bar_color": null,
       "description_width": ""
      }
     },
     "442d050fa92b4e19a4ccb7f3c6a42505": {
      "model_module": "@jupyter-widgets/controls",
      "model_module_version": "1.5.0",
      "model_name": "ProgressStyleModel",
      "state": {
       "_model_module": "@jupyter-widgets/controls",
       "_model_module_version": "1.5.0",
       "_model_name": "ProgressStyleModel",
       "_view_count": null,
       "_view_module": "@jupyter-widgets/base",
       "_view_module_version": "1.2.0",
       "_view_name": "StyleView",
       "bar_color": null,
       "description_width": ""
      }
     },
     "456b62a0fef947b3b05c43a4f4103118": {
      "model_module": "@jupyter-widgets/base",
      "model_module_version": "1.2.0",
      "model_name": "LayoutModel",
      "state": {
       "_model_module": "@jupyter-widgets/base",
       "_model_module_version": "1.2.0",
       "_model_name": "LayoutModel",
       "_view_count": null,
       "_view_module": "@jupyter-widgets/base",
       "_view_module_version": "1.2.0",
       "_view_name": "LayoutView",
       "align_content": null,
       "align_items": null,
       "align_self": null,
       "border": null,
       "bottom": null,
       "display": null,
       "flex": null,
       "flex_flow": null,
       "grid_area": null,
       "grid_auto_columns": null,
       "grid_auto_flow": null,
       "grid_auto_rows": null,
       "grid_column": null,
       "grid_gap": null,
       "grid_row": null,
       "grid_template_areas": null,
       "grid_template_columns": null,
       "grid_template_rows": null,
       "height": null,
       "justify_content": null,
       "justify_items": null,
       "left": null,
       "margin": null,
       "max_height": null,
       "max_width": null,
       "min_height": null,
       "min_width": null,
       "object_fit": null,
       "object_position": null,
       "order": null,
       "overflow": null,
       "overflow_x": null,
       "overflow_y": null,
       "padding": null,
       "right": null,
       "top": null,
       "visibility": null,
       "width": null
      }
     },
     "59830db0b6f94b95a3b32cf3a0ad90e9": {
      "model_module": "@jupyter-widgets/controls",
      "model_module_version": "1.5.0",
      "model_name": "DescriptionStyleModel",
      "state": {
       "_model_module": "@jupyter-widgets/controls",
       "_model_module_version": "1.5.0",
       "_model_name": "DescriptionStyleModel",
       "_view_count": null,
       "_view_module": "@jupyter-widgets/base",
       "_view_module_version": "1.2.0",
       "_view_name": "StyleView",
       "description_width": ""
      }
     },
     "6dd74dea74f74ff583e173d9fed0adf8": {
      "model_module": "@jupyter-widgets/controls",
      "model_module_version": "1.5.0",
      "model_name": "FloatProgressModel",
      "state": {
       "_dom_classes": [],
       "_model_module": "@jupyter-widgets/controls",
       "_model_module_version": "1.5.0",
       "_model_name": "FloatProgressModel",
       "_view_count": null,
       "_view_module": "@jupyter-widgets/controls",
       "_view_module_version": "1.5.0",
       "_view_name": "ProgressView",
       "bar_style": "success",
       "description": "",
       "description_tooltip": null,
       "layout": "IPY_MODEL_dd1274beb1f84a9da5a04382aebc2cbe",
       "max": 2.0,
       "min": 0.0,
       "orientation": "horizontal",
       "style": "IPY_MODEL_442d050fa92b4e19a4ccb7f3c6a42505",
       "value": 2.0
      }
     },
     "a282321a7d6145dbb7d87f76bea65b11": {
      "model_module": "@jupyter-widgets/controls",
      "model_module_version": "1.5.0",
      "model_name": "HTMLModel",
      "state": {
       "_dom_classes": [],
       "_model_module": "@jupyter-widgets/controls",
       "_model_module_version": "1.5.0",
       "_model_name": "HTMLModel",
       "_view_count": null,
       "_view_module": "@jupyter-widgets/controls",
       "_view_module_version": "1.5.0",
       "_view_name": "HTMLView",
       "description": "",
       "description_tooltip": null,
       "layout": "IPY_MODEL_d32d846d52b94f11996d31f0e33fb4a2",
       "placeholder": "​",
       "style": "IPY_MODEL_f588b865dafb419c84d629fcd5ed5cd3",
       "value": "Building task &#x27;function&#x27;: 100%"
      }
     },
     "ac670a84abc848eeaffdca337ab15e11": {
      "model_module": "@jupyter-widgets/base",
      "model_module_version": "1.2.0",
      "model_name": "LayoutModel",
      "state": {
       "_model_module": "@jupyter-widgets/base",
       "_model_module_version": "1.2.0",
       "_model_name": "LayoutModel",
       "_view_count": null,
       "_view_module": "@jupyter-widgets/base",
       "_view_module_version": "1.2.0",
       "_view_name": "LayoutView",
       "align_content": null,
       "align_items": null,
       "align_self": null,
       "border": null,
       "bottom": null,
       "display": null,
       "flex": null,
       "flex_flow": null,
       "grid_area": null,
       "grid_auto_columns": null,
       "grid_auto_flow": null,
       "grid_auto_rows": null,
       "grid_column": null,
       "grid_gap": null,
       "grid_row": null,
       "grid_template_areas": null,
       "grid_template_columns": null,
       "grid_template_rows": null,
       "height": null,
       "justify_content": null,
       "justify_items": null,
       "left": null,
       "margin": null,
       "max_height": null,
       "max_width": null,
       "min_height": null,
       "min_width": null,
       "object_fit": null,
       "object_position": null,
       "order": null,
       "overflow": null,
       "overflow_x": null,
       "overflow_y": null,
       "padding": null,
       "right": null,
       "top": null,
       "visibility": null,
       "width": null
      }
     },
     "ac89ede22ddc447188b2196e624a2bfa": {
      "model_module": "@jupyter-widgets/controls",
      "model_module_version": "1.5.0",
      "model_name": "HTMLModel",
      "state": {
       "_dom_classes": [],
       "_model_module": "@jupyter-widgets/controls",
       "_model_module_version": "1.5.0",
       "_model_name": "HTMLModel",
       "_view_count": null,
       "_view_module": "@jupyter-widgets/controls",
       "_view_module_version": "1.5.0",
       "_view_name": "HTMLView",
       "description": "",
       "description_tooltip": null,
       "layout": "IPY_MODEL_3196d6f2fe8d43c6890662f6f7361673",
       "placeholder": "​",
       "style": "IPY_MODEL_ed6a4863d5e447e3b5d35c236f2041bc",
       "value": " 6/6 [00:04&lt;00:00,  1.19cell/s]"
      }
     },
     "adbfd2d3609f4700b1f06a1a3774c13a": {
      "model_module": "@jupyter-widgets/controls",
      "model_module_version": "1.5.0",
      "model_name": "HTMLModel",
      "state": {
       "_dom_classes": [],
       "_model_module": "@jupyter-widgets/controls",
       "_model_module_version": "1.5.0",
       "_model_name": "HTMLModel",
       "_view_count": null,
       "_view_module": "@jupyter-widgets/controls",
       "_view_module_version": "1.5.0",
       "_view_name": "HTMLView",
       "description": "",
       "description_tooltip": null,
       "layout": "IPY_MODEL_be33d8d6d5d747fbab2634632f60366c",
       "placeholder": "​",
       "style": "IPY_MODEL_cd5100360f664f4a8168dcee0788a214",
       "value": "Executing: 100%"
      }
     },
     "be33d8d6d5d747fbab2634632f60366c": {
      "model_module": "@jupyter-widgets/base",
      "model_module_version": "1.2.0",
      "model_name": "LayoutModel",
      "state": {
       "_model_module": "@jupyter-widgets/base",
       "_model_module_version": "1.2.0",
       "_model_name": "LayoutModel",
       "_view_count": null,
       "_view_module": "@jupyter-widgets/base",
       "_view_module_version": "1.2.0",
       "_view_name": "LayoutView",
       "align_content": null,
       "align_items": null,
       "align_self": null,
       "border": null,
       "bottom": null,
       "display": null,
       "flex": null,
       "flex_flow": null,
       "grid_area": null,
       "grid_auto_columns": null,
       "grid_auto_flow": null,
       "grid_auto_rows": null,
       "grid_column": null,
       "grid_gap": null,
       "grid_row": null,
       "grid_template_areas": null,
       "grid_template_columns": null,
       "grid_template_rows": null,
       "height": null,
       "justify_content": null,
       "justify_items": null,
       "left": null,
       "margin": null,
       "max_height": null,
       "max_width": null,
       "min_height": null,
       "min_width": null,
       "object_fit": null,
       "object_position": null,
       "order": null,
       "overflow": null,
       "overflow_x": null,
       "overflow_y": null,
       "padding": null,
       "right": null,
       "top": null,
       "visibility": null,
       "width": null
      }
     },
     "be65046e52e6423ba3506d0ff4e02541": {
      "model_module": "@jupyter-widgets/base",
      "model_module_version": "1.2.0",
      "model_name": "LayoutModel",
      "state": {
       "_model_module": "@jupyter-widgets/base",
       "_model_module_version": "1.2.0",
       "_model_name": "LayoutModel",
       "_view_count": null,
       "_view_module": "@jupyter-widgets/base",
       "_view_module_version": "1.2.0",
       "_view_name": "LayoutView",
       "align_content": null,
       "align_items": null,
       "align_self": null,
       "border": null,
       "bottom": null,
       "display": null,
       "flex": null,
       "flex_flow": null,
       "grid_area": null,
       "grid_auto_columns": null,
       "grid_auto_flow": null,
       "grid_auto_rows": null,
       "grid_column": null,
       "grid_gap": null,
       "grid_row": null,
       "grid_template_areas": null,
       "grid_template_columns": null,
       "grid_template_rows": null,
       "height": null,
       "justify_content": null,
       "justify_items": null,
       "left": null,
       "margin": null,
       "max_height": null,
       "max_width": null,
       "min_height": null,
       "min_width": null,
       "object_fit": null,
       "object_position": null,
       "order": null,
       "overflow": null,
       "overflow_x": null,
       "overflow_y": null,
       "padding": null,
       "right": null,
       "top": null,
       "visibility": null,
       "width": null
      }
     },
     "cd5100360f664f4a8168dcee0788a214": {
      "model_module": "@jupyter-widgets/controls",
      "model_module_version": "1.5.0",
      "model_name": "DescriptionStyleModel",
      "state": {
       "_model_module": "@jupyter-widgets/controls",
       "_model_module_version": "1.5.0",
       "_model_name": "DescriptionStyleModel",
       "_view_count": null,
       "_view_module": "@jupyter-widgets/base",
       "_view_module_version": "1.2.0",
       "_view_name": "StyleView",
       "description_width": ""
      }
     },
     "d0849f5441c74871a96dae349541c317": {
      "model_module": "@jupyter-widgets/controls",
      "model_module_version": "1.5.0",
      "model_name": "FloatProgressModel",
      "state": {
       "_dom_classes": [],
       "_model_module": "@jupyter-widgets/controls",
       "_model_module_version": "1.5.0",
       "_model_name": "FloatProgressModel",
       "_view_count": null,
       "_view_module": "@jupyter-widgets/controls",
       "_view_module_version": "1.5.0",
       "_view_name": "ProgressView",
       "bar_style": "success",
       "description": "",
       "description_tooltip": null,
       "layout": "IPY_MODEL_456b62a0fef947b3b05c43a4f4103118",
       "max": 6.0,
       "min": 0.0,
       "orientation": "horizontal",
       "style": "IPY_MODEL_3bc8667fe0c14a1c9ecce1e72c203034",
       "value": 6.0
      }
     },
     "d32d846d52b94f11996d31f0e33fb4a2": {
      "model_module": "@jupyter-widgets/base",
      "model_module_version": "1.2.0",
      "model_name": "LayoutModel",
      "state": {
       "_model_module": "@jupyter-widgets/base",
       "_model_module_version": "1.2.0",
       "_model_name": "LayoutModel",
       "_view_count": null,
       "_view_module": "@jupyter-widgets/base",
       "_view_module_version": "1.2.0",
       "_view_name": "LayoutView",
       "align_content": null,
       "align_items": null,
       "align_self": null,
       "border": null,
       "bottom": null,
       "display": null,
       "flex": null,
       "flex_flow": null,
       "grid_area": null,
       "grid_auto_columns": null,
       "grid_auto_flow": null,
       "grid_auto_rows": null,
       "grid_column": null,
       "grid_gap": null,
       "grid_row": null,
       "grid_template_areas": null,
       "grid_template_columns": null,
       "grid_template_rows": null,
       "height": null,
       "justify_content": null,
       "justify_items": null,
       "left": null,
       "margin": null,
       "max_height": null,
       "max_width": null,
       "min_height": null,
       "min_width": null,
       "object_fit": null,
       "object_position": null,
       "order": null,
       "overflow": null,
       "overflow_x": null,
       "overflow_y": null,
       "padding": null,
       "right": null,
       "top": null,
       "visibility": null,
       "width": null
      }
     },
     "dd1274beb1f84a9da5a04382aebc2cbe": {
      "model_module": "@jupyter-widgets/base",
      "model_module_version": "1.2.0",
      "model_name": "LayoutModel",
      "state": {
       "_model_module": "@jupyter-widgets/base",
       "_model_module_version": "1.2.0",
       "_model_name": "LayoutModel",
       "_view_count": null,
       "_view_module": "@jupyter-widgets/base",
       "_view_module_version": "1.2.0",
       "_view_name": "LayoutView",
       "align_content": null,
       "align_items": null,
       "align_self": null,
       "border": null,
       "bottom": null,
       "display": null,
       "flex": null,
       "flex_flow": null,
       "grid_area": null,
       "grid_auto_columns": null,
       "grid_auto_flow": null,
       "grid_auto_rows": null,
       "grid_column": null,
       "grid_gap": null,
       "grid_row": null,
       "grid_template_areas": null,
       "grid_template_columns": null,
       "grid_template_rows": null,
       "height": null,
       "justify_content": null,
       "justify_items": null,
       "left": null,
       "margin": null,
       "max_height": null,
       "max_width": null,
       "min_height": null,
       "min_width": null,
       "object_fit": null,
       "object_position": null,
       "order": null,
       "overflow": null,
       "overflow_x": null,
       "overflow_y": null,
       "padding": null,
       "right": null,
       "top": null,
       "visibility": null,
       "width": null
      }
     },
     "ed6a4863d5e447e3b5d35c236f2041bc": {
      "model_module": "@jupyter-widgets/controls",
      "model_module_version": "1.5.0",
      "model_name": "DescriptionStyleModel",
      "state": {
       "_model_module": "@jupyter-widgets/controls",
       "_model_module_version": "1.5.0",
       "_model_name": "DescriptionStyleModel",
       "_view_count": null,
       "_view_module": "@jupyter-widgets/base",
       "_view_module_version": "1.2.0",
       "_view_name": "StyleView",
       "description_width": ""
      }
     },
     "f49b0fc8fac44a129f41b7992da12707": {
      "model_module": "@jupyter-widgets/controls",
      "model_module_version": "1.5.0",
      "model_name": "HBoxModel",
      "state": {
       "_dom_classes": [],
       "_model_module": "@jupyter-widgets/controls",
       "_model_module_version": "1.5.0",
       "_model_name": "HBoxModel",
       "_view_count": null,
       "_view_module": "@jupyter-widgets/controls",
       "_view_module_version": "1.5.0",
       "_view_name": "HBoxView",
       "box_style": "",
       "children": [
        "IPY_MODEL_adbfd2d3609f4700b1f06a1a3774c13a",
        "IPY_MODEL_d0849f5441c74871a96dae349541c317",
        "IPY_MODEL_ac89ede22ddc447188b2196e624a2bfa"
       ],
       "layout": "IPY_MODEL_be65046e52e6423ba3506d0ff4e02541"
      }
     },
     "f588b865dafb419c84d629fcd5ed5cd3": {
      "model_module": "@jupyter-widgets/controls",
      "model_module_version": "1.5.0",
      "model_name": "DescriptionStyleModel",
      "state": {
       "_model_module": "@jupyter-widgets/controls",
       "_model_module_version": "1.5.0",
       "_model_name": "DescriptionStyleModel",
       "_view_count": null,
       "_view_module": "@jupyter-widgets/base",
       "_view_module_version": "1.2.0",
       "_view_name": "StyleView",
       "description_width": ""
      }
     }
    },
    "version_major": 2,
    "version_minor": 0
   }
  }
 },
 "nbformat": 4,
 "nbformat_minor": 5
}