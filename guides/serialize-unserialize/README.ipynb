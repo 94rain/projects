{
 "cells": [
  {
   "cell_type": "markdown",
   "id": "5abd1417",
   "metadata": {
    "papermill": {
     "duration": 0.021777,
     "end_time": "2021-08-16T02:57:21.487599",
     "exception": false,
     "start_time": "2021-08-16T02:57:21.465822",
     "status": "completed"
    },
    "tags": []
   },
   "source": [
    "\n",
    "*Note:* You can run this from your computer (Jupyter or terminal), or use one of the\n",
    "hosted options:\n",
    "\n",
    "[![binder-logo](https://mybinder.org/badge_logo.svg)](https://mybinder.org/v2/gh/ploomber/binder-env/main?urlpath=git-pull%3Frepo%3Dhttps%253A%252F%252Fgithub.com%252Fploomber%252Fprojects%26urlpath%3Dlab%252Ftree%252Fprojects%252Fserialize-unserialize%252FREADME.ipynb%26branch%3Dmaster)\n",
    "\n",
    "[![deepnote-logo](https://deepnote.com/buttons/launch-in-deepnote-small.svg)](https://deepnote.com/launch?template=deepnote&url=https://github.com/ploomber/projects/blob/master/serialize-unserialize/README.ipynb)\n"
   ]
  },
  {
   "cell_type": "markdown",
   "id": "639093b9",
   "metadata": {
    "papermill": {
     "duration": 0.018129,
     "end_time": "2021-08-16T02:57:21.523874",
     "exception": false,
     "start_time": "2021-08-16T02:57:21.505745",
     "status": "completed"
    },
    "tags": []
   },
   "source": [
    "# Serialization\n",
    "\n",
    "Incremental builds allows Ploomber to skip tasks whose source code hasn't changed; to enable such a feature, each task must save their products to disk. However, there are some cases when we don't want our pipeline to perform disk operations. For example, if we want to deploy our pipeline, eliminating disk operations reduces runtime considerably.\n",
    "\n",
    "To enable a pipeline to work in both disk-based and in-memory scenarios, we can declare a `serializer` and `unzerializer` in our pipeline declaration, effectively separating our task's logic from the read/write logic.\n",
    "\n",
    "Note that this only applies to function tasks, other tasks are unaffected by the `serializer`/`unserializer` configuration."
   ]
  },
  {
   "cell_type": "code",
   "execution_count": 1,
   "id": "9971a8c7",
   "metadata": {
    "execution": {
     "iopub.execute_input": "2021-08-16T02:57:21.570609Z",
     "iopub.status.busy": "2021-08-16T02:57:21.569704Z",
     "iopub.status.idle": "2021-08-16T02:57:23.517465Z",
     "shell.execute_reply": "2021-08-16T02:57:23.517934Z"
    },
    "papermill": {
     "duration": 1.975732,
     "end_time": "2021-08-16T02:57:23.518287",
     "exception": false,
     "start_time": "2021-08-16T02:57:21.542555",
     "status": "completed"
    },
    "tags": []
   },
   "outputs": [],
   "source": [
    "from ploomberutils import display_file"
   ]
  },
  {
   "cell_type": "markdown",
   "id": "c4f8353b",
   "metadata": {
    "papermill": {
     "duration": 0.018255,
     "end_time": "2021-08-16T02:57:23.554008",
     "exception": false,
     "start_time": "2021-08-16T02:57:23.535753",
     "status": "completed"
    },
    "tags": []
   },
   "source": [
    "## Built-in pickle serialization\n",
    "\n",
    "The easiest way to get started is to use the built-in serializer and unserializer which use the `pickle` module.\n",
    "\n",
    "Let's see an example, the following pipeline has two tasks, the first one generates a dictionary and the second one two dictionaries. Since we are using the pickle-based serialization, each dictionary is saved in the pickle binary format:"
   ]
  },
  {
   "cell_type": "code",
   "execution_count": 2,
   "id": "1dd4641a",
   "metadata": {
    "execution": {
     "iopub.execute_input": "2021-08-16T02:57:23.595401Z",
     "iopub.status.busy": "2021-08-16T02:57:23.594621Z",
     "iopub.status.idle": "2021-08-16T02:57:23.604255Z",
     "shell.execute_reply": "2021-08-16T02:57:23.604784Z"
    },
    "papermill": {
     "duration": 0.032634,
     "end_time": "2021-08-16T02:57:23.605031",
     "exception": false,
     "start_time": "2021-08-16T02:57:23.572397",
     "status": "completed"
    },
    "tags": []
   },
   "outputs": [
    {
     "data": {
      "text/markdown": [
       "\n",
       "```yaml\n",
       "serializer: ploomber.io.serializer_pickle\n",
       "unserializer: ploomber.io.unserializer_pickle\n",
       "\n",
       "tasks:\n",
       "  - source: tasks.first\n",
       "    product: output/one_dict\n",
       "  \n",
       "  - source: tasks.second\n",
       "    product:\n",
       "        another: output/another_dict\n",
       "        final: output/final_dict\n",
       "```\n"
      ],
      "text/plain": [
       "<IPython.core.display.Markdown object>"
      ]
     },
     "metadata": {},
     "output_type": "display_data"
    }
   ],
   "source": [
    "display_file('simple.yaml')"
   ]
  },
  {
   "cell_type": "code",
   "execution_count": 3,
   "id": "e33cb21a",
   "metadata": {
    "execution": {
     "iopub.execute_input": "2021-08-16T02:57:23.646795Z",
     "iopub.status.busy": "2021-08-16T02:57:23.646123Z",
     "iopub.status.idle": "2021-08-16T02:57:34.149819Z",
     "shell.execute_reply": "2021-08-16T02:57:34.150719Z"
    },
    "papermill": {
     "duration": 10.527324,
     "end_time": "2021-08-16T02:57:34.150959",
     "exception": false,
     "start_time": "2021-08-16T02:57:23.623635",
     "status": "completed"
    },
    "tags": []
   },
   "outputs": [
    {
     "name": "stdout",
     "output_type": "stream",
     "text": [
      "name    Ran?      Elapsed (s)    Percentage\n",
      "------  ------  -------------  ------------\n",
      "first   True         0.000624       26.8156\n",
      "second  True         0.001703       73.1844\n"
     ]
    },
    {
     "name": "stderr",
     "output_type": "stream",
     "text": [
      "Building task 'second': 100%|██████████| 2/2 [00:06<00:00,  3.42s/it]\n"
     ]
    }
   ],
   "source": [
    "%%sh\n",
    "ploomber build --entry-point simple.yaml --force"
   ]
  },
  {
   "cell_type": "markdown",
   "id": "a9565f00",
   "metadata": {
    "papermill": {
     "duration": 0.019042,
     "end_time": "2021-08-16T02:57:34.191106",
     "exception": false,
     "start_time": "2021-08-16T02:57:34.172064",
     "status": "completed"
    },
    "tags": []
   },
   "source": [
    "The pickle format has important [security concerns](https://docs.python.org/3/library/pickle.html), **remember to only unpickle data you trust**."
   ]
  },
  {
   "cell_type": "markdown",
   "id": "47175474",
   "metadata": {
    "papermill": {
     "duration": 0.018624,
     "end_time": "2021-08-16T02:57:34.231641",
     "exception": false,
     "start_time": "2021-08-16T02:57:34.213017",
     "status": "completed"
    },
    "tags": []
   },
   "source": [
    "## Custom serialization logic\n",
    "\n",
    "We can also define our own serialization logic, by using the `@serializer`, and `@unserializer` decorators. Let's replicate what our pickle-based serializer/unserializer is doing as an example:"
   ]
  },
  {
   "cell_type": "code",
   "execution_count": 4,
   "id": "0aa201d9",
   "metadata": {
    "execution": {
     "iopub.execute_input": "2021-08-16T02:57:34.280602Z",
     "iopub.status.busy": "2021-08-16T02:57:34.279590Z",
     "iopub.status.idle": "2021-08-16T02:57:34.428698Z",
     "shell.execute_reply": "2021-08-16T02:57:34.429501Z"
    },
    "papermill": {
     "duration": 0.178283,
     "end_time": "2021-08-16T02:57:34.429765",
     "exception": false,
     "start_time": "2021-08-16T02:57:34.251482",
     "status": "completed"
    },
    "tags": []
   },
   "outputs": [
    {
     "data": {
      "text/markdown": [
       "\n",
       "```py\n",
       "from pathlib import Path\n",
       "import pickle\n",
       "\n",
       "from ploomber.io import serializer, unserializer\n",
       "\n",
       "\n",
       "@serializer()\n",
       "def my_pickle_serializer(obj, product):\n",
       "    Path(product).write_bytes(pickle.dumps(obj))\n",
       "\n",
       "\n",
       "@unserializer()\n",
       "def my_pickle_unserializer(product):\n",
       "    return pickle.loads(Path(product).read_bytes())\n",
       "```\n"
      ],
      "text/plain": [
       "<IPython.core.display.Markdown object>"
      ]
     },
     "metadata": {},
     "output_type": "display_data"
    }
   ],
   "source": [
    "display_file('custom.py', symbols=['my_pickle_serializer', 'my_pickle_unserializer'])"
   ]
  },
  {
   "cell_type": "markdown",
   "id": "d04727c0",
   "metadata": {
    "papermill": {
     "duration": 0.023734,
     "end_time": "2021-08-16T02:57:34.477048",
     "exception": false,
     "start_time": "2021-08-16T02:57:34.453314",
     "status": "completed"
    },
    "tags": []
   },
   "source": [
    "A `@serializer` function must take two arguments: the object to serializer and the product object (taken from the task declaration). The `@unserializer` must take a single argument (the product to unserializer), and return the unserializer object.\n",
    "\n",
    "Let's modify our original pipeline to use this serializer/unserializer:"
   ]
  },
  {
   "cell_type": "code",
   "execution_count": 5,
   "id": "b3ab2054",
   "metadata": {
    "execution": {
     "iopub.execute_input": "2021-08-16T02:57:34.531893Z",
     "iopub.status.busy": "2021-08-16T02:57:34.531047Z",
     "iopub.status.idle": "2021-08-16T02:57:34.535165Z",
     "shell.execute_reply": "2021-08-16T02:57:34.535887Z"
    },
    "papermill": {
     "duration": 0.031572,
     "end_time": "2021-08-16T02:57:34.536089",
     "exception": false,
     "start_time": "2021-08-16T02:57:34.504517",
     "status": "completed"
    },
    "tags": []
   },
   "outputs": [
    {
     "data": {
      "text/markdown": [
       "\n",
       "```yaml\n",
       "serializer: custom.my_pickle_serializer\n",
       "unserializer: custom.my_pickle_unserializer\n",
       "\n",
       "tasks:\n",
       "  - source: tasks.first\n",
       "    product: output/one_dict\n",
       "  \n",
       "  - source: tasks.second\n",
       "    product:\n",
       "        another: output/another_dict\n",
       "        final: output/final_dict\n",
       "```\n"
      ],
      "text/plain": [
       "<IPython.core.display.Markdown object>"
      ]
     },
     "metadata": {},
     "output_type": "display_data"
    }
   ],
   "source": [
    "display_file('custom.yaml')"
   ]
  },
  {
   "cell_type": "code",
   "execution_count": 6,
   "id": "3e576735",
   "metadata": {
    "execution": {
     "iopub.execute_input": "2021-08-16T02:57:34.590963Z",
     "iopub.status.busy": "2021-08-16T02:57:34.589693Z",
     "iopub.status.idle": "2021-08-16T02:57:44.948660Z",
     "shell.execute_reply": "2021-08-16T02:57:44.949431Z"
    },
    "papermill": {
     "duration": 10.39142,
     "end_time": "2021-08-16T02:57:44.949643",
     "exception": false,
     "start_time": "2021-08-16T02:57:34.558223",
     "status": "completed"
    },
    "tags": []
   },
   "outputs": [
    {
     "name": "stdout",
     "output_type": "stream",
     "text": [
      "name    Ran?      Elapsed (s)    Percentage\n",
      "------  ------  -------------  ------------\n",
      "first   True         0.000533       21.0008\n",
      "second  True         0.002005       78.9992\n"
     ]
    },
    {
     "name": "stderr",
     "output_type": "stream",
     "text": [
      "Building task 'second': 100%|██████████| 2/2 [00:06<00:00,  3.39s/it]\n"
     ]
    }
   ],
   "source": [
    "%%sh\n",
    "ploomber build --entry-point custom.yaml --force"
   ]
  },
  {
   "cell_type": "markdown",
   "id": "ad648aa1",
   "metadata": {
    "papermill": {
     "duration": 0.022571,
     "end_time": "2021-08-16T02:57:44.993946",
     "exception": false,
     "start_time": "2021-08-16T02:57:44.971375",
     "status": "completed"
    },
    "tags": []
   },
   "source": [
    "## Custom serialization logic based on the product's extension\n",
    "\n",
    "Under many circumstances, there are more suitable formats than pickle. For example, we may want to store lists or dicts as JSON files, and any other files using pickle. The `@serializer`/`@unserializer` decorators take a mapping as first argument to dispatch to different functions depending on the product's logic. Let's see an example:"
   ]
  },
  {
   "cell_type": "code",
   "execution_count": 7,
   "id": "e7158859",
   "metadata": {
    "execution": {
     "iopub.execute_input": "2021-08-16T02:57:45.044066Z",
     "iopub.status.busy": "2021-08-16T02:57:45.043239Z",
     "iopub.status.idle": "2021-08-16T02:57:45.057318Z",
     "shell.execute_reply": "2021-08-16T02:57:45.057813Z"
    },
    "papermill": {
     "duration": 0.042281,
     "end_time": "2021-08-16T02:57:45.058052",
     "exception": false,
     "start_time": "2021-08-16T02:57:45.015771",
     "status": "completed"
    },
    "tags": []
   },
   "outputs": [
    {
     "data": {
      "text/markdown": [
       "\n",
       "```py\n",
       "from pathlib import Path\n",
       "import pickle\n",
       "import json\n",
       "\n",
       "from ploomber.io import serializer, unserializer\n",
       "\n",
       "\n",
       "def write_json(obj, product):\n",
       "    Path(product).write_text(json.dumps(obj))\n",
       "\n",
       "\n",
       "def read_json(product):\n",
       "    return json.loads(Path(product).read_text())\n",
       "\n",
       "\n",
       "@serializer({'.json': write_json})\n",
       "def my_serializer(obj, product):\n",
       "    Path(product).write_bytes(pickle.dumps(obj))\n",
       "\n",
       "\n",
       "@unserializer({'.json': read_json})\n",
       "def my_unserializer(product):\n",
       "    return pickle.loads(Path(product).read_bytes())\n",
       "```\n"
      ],
      "text/plain": [
       "<IPython.core.display.Markdown object>"
      ]
     },
     "metadata": {},
     "output_type": "display_data"
    }
   ],
   "source": [
    "display_file('custom.py', symbols=['write_json', 'read_json', 'my_serializer', 'my_unserializer'])"
   ]
  },
  {
   "cell_type": "markdown",
   "id": "94241c0e",
   "metadata": {
    "papermill": {
     "duration": 0.021397,
     "end_time": "2021-08-16T02:57:45.099855",
     "exception": false,
     "start_time": "2021-08-16T02:57:45.078458",
     "status": "completed"
    },
    "tags": []
   },
   "source": [
    "Let's modify our example pipeline. The product in the first task does not have an extension (`output/one_dict`), hence, it will use the pickle-based logic. However, the tasks in the second task have a `.json` extension, hence, they will be saved as JSON files."
   ]
  },
  {
   "cell_type": "code",
   "execution_count": 8,
   "id": "dbcdd947",
   "metadata": {
    "execution": {
     "iopub.execute_input": "2021-08-16T02:57:45.148617Z",
     "iopub.status.busy": "2021-08-16T02:57:45.147694Z",
     "iopub.status.idle": "2021-08-16T02:57:45.151499Z",
     "shell.execute_reply": "2021-08-16T02:57:45.152043Z"
    },
    "papermill": {
     "duration": 0.030736,
     "end_time": "2021-08-16T02:57:45.152281",
     "exception": false,
     "start_time": "2021-08-16T02:57:45.121545",
     "status": "completed"
    },
    "tags": []
   },
   "outputs": [
    {
     "data": {
      "text/markdown": [
       "\n",
       "```yaml\n",
       "serializer: custom.my_serializer\n",
       "unserializer: custom.my_unserializer\n",
       "\n",
       "tasks:\n",
       "  - source: tasks.first\n",
       "    product: output/one_dict\n",
       "  \n",
       "  - source: tasks.second\n",
       "    product:\n",
       "        another: output/another_dict.json\n",
       "        final: output/final_dict.json\n",
       "```\n"
      ],
      "text/plain": [
       "<IPython.core.display.Markdown object>"
      ]
     },
     "metadata": {},
     "output_type": "display_data"
    }
   ],
   "source": [
    "display_file('with-json.yaml')"
   ]
  },
  {
   "cell_type": "code",
   "execution_count": 9,
   "id": "5253cea2",
   "metadata": {
    "execution": {
     "iopub.execute_input": "2021-08-16T02:57:45.200648Z",
     "iopub.status.busy": "2021-08-16T02:57:45.199692Z",
     "iopub.status.idle": "2021-08-16T02:57:55.336070Z",
     "shell.execute_reply": "2021-08-16T02:57:55.336578Z"
    },
    "papermill": {
     "duration": 10.164105,
     "end_time": "2021-08-16T02:57:55.336847",
     "exception": false,
     "start_time": "2021-08-16T02:57:45.172742",
     "status": "completed"
    },
    "tags": []
   },
   "outputs": [
    {
     "name": "stdout",
     "output_type": "stream",
     "text": [
      "name    Ran?      Elapsed (s)    Percentage\n",
      "------  ------  -------------  ------------\n",
      "first   True         0.00055        24.7525\n",
      "second  True         0.001672       75.2475\n"
     ]
    },
    {
     "name": "stderr",
     "output_type": "stream",
     "text": [
      "Building task 'second': 100%|██████████| 2/2 [00:06<00:00,  3.31s/it]\n"
     ]
    }
   ],
   "source": [
    "%%sh\n",
    "ploomber build --entry-point with-json.yaml --force"
   ]
  },
  {
   "cell_type": "markdown",
   "id": "b2437ca0",
   "metadata": {
    "papermill": {
     "duration": 0.023419,
     "end_time": "2021-08-16T02:57:55.383686",
     "exception": false,
     "start_time": "2021-08-16T02:57:55.360267",
     "status": "completed"
    },
    "tags": []
   },
   "source": [
    "Let's print the `.json` files to verify they're not pickle files:"
   ]
  },
  {
   "cell_type": "code",
   "execution_count": 10,
   "id": "75774b53",
   "metadata": {
    "execution": {
     "iopub.execute_input": "2021-08-16T02:57:55.433239Z",
     "iopub.status.busy": "2021-08-16T02:57:55.432373Z",
     "iopub.status.idle": "2021-08-16T02:57:55.436605Z",
     "shell.execute_reply": "2021-08-16T02:57:55.437150Z"
    },
    "papermill": {
     "duration": 0.032814,
     "end_time": "2021-08-16T02:57:55.437398",
     "exception": false,
     "start_time": "2021-08-16T02:57:55.404584",
     "status": "completed"
    },
    "tags": []
   },
   "outputs": [
    {
     "data": {
      "text/markdown": [
       "\n",
       "```json\n",
       "{\"a\": 3, \"b\": 2}\n",
       "```\n"
      ],
      "text/plain": [
       "<IPython.core.display.Markdown object>"
      ]
     },
     "metadata": {},
     "output_type": "display_data"
    }
   ],
   "source": [
    "display_file('output/another_dict.json')"
   ]
  },
  {
   "cell_type": "code",
   "execution_count": 11,
   "id": "ff45b0f4",
   "metadata": {
    "execution": {
     "iopub.execute_input": "2021-08-16T02:57:55.485065Z",
     "iopub.status.busy": "2021-08-16T02:57:55.484114Z",
     "iopub.status.idle": "2021-08-16T02:57:55.487957Z",
     "shell.execute_reply": "2021-08-16T02:57:55.488543Z"
    },
    "papermill": {
     "duration": 0.029462,
     "end_time": "2021-08-16T02:57:55.488801",
     "exception": false,
     "start_time": "2021-08-16T02:57:55.459339",
     "status": "completed"
    },
    "tags": []
   },
   "outputs": [
    {
     "data": {
      "text/markdown": [
       "\n",
       "```json\n",
       "{\"a\": 100, \"b\": 200}\n",
       "```\n"
      ],
      "text/plain": [
       "<IPython.core.display.Markdown object>"
      ]
     },
     "metadata": {},
     "output_type": "display_data"
    }
   ],
   "source": [
    "display_file('output/final_dict.json')"
   ]
  },
  {
   "cell_type": "markdown",
   "id": "68e9e255",
   "metadata": {
    "papermill": {
     "duration": 0.024014,
     "end_time": "2021-08-16T02:57:55.535197",
     "exception": false,
     "start_time": "2021-08-16T02:57:55.511183",
     "status": "completed"
    },
    "tags": []
   },
   "source": [
    "## Using a fallback format\n",
    "\n",
    "Since it's common to have a `fallback` serialization format. The decorators have a `fallback` argument that when enabled, uses the `pickle` module when the product's extension does not match any of the registered one in the first argument.\n",
    "\n",
    "The example works the same as the previous one, except we don't have to write our on pickle-based logic.\n",
    "\n",
    "`fallback` can also take the [joblib](https://github.com/joblib/joblib) or [cloudpickle](https://github.com/cloudpipe/cloudpickle) values. They're similar to the pickle format but have some advantages. For example, `joblib` produces smaller files when the serialized object contains many NumPy arrays, where as cloudpickle supports serialization of some objects that the pickle module doesn't. To use `joblib` or `cloudpickle` the corresponding module must be installed."
   ]
  },
  {
   "cell_type": "code",
   "execution_count": 12,
   "id": "6e391680",
   "metadata": {
    "execution": {
     "iopub.execute_input": "2021-08-16T02:57:55.592254Z",
     "iopub.status.busy": "2021-08-16T02:57:55.591352Z",
     "iopub.status.idle": "2021-08-16T02:57:55.594364Z",
     "shell.execute_reply": "2021-08-16T02:57:55.595239Z"
    },
    "papermill": {
     "duration": 0.037647,
     "end_time": "2021-08-16T02:57:55.595504",
     "exception": false,
     "start_time": "2021-08-16T02:57:55.557857",
     "status": "completed"
    },
    "tags": []
   },
   "outputs": [
    {
     "data": {
      "text/markdown": [
       "\n",
       "```py\n",
       "from ploomber.io import serializer, unserializer\n",
       "\n",
       "\n",
       "@serializer({'.json': write_json}, fallback=True)\n",
       "def my_fallback_serializer(obj, product):\n",
       "    pass\n",
       "\n",
       "\n",
       "@unserializer({'.json': read_json}, fallback=True)\n",
       "def my_fallback_unserializer(product):\n",
       "    pass\n",
       "```\n"
      ],
      "text/plain": [
       "<IPython.core.display.Markdown object>"
      ]
     },
     "metadata": {},
     "output_type": "display_data"
    }
   ],
   "source": [
    "display_file('custom.py', symbols=['my_fallback_serializer', 'my_fallback_unserializer'])"
   ]
  },
  {
   "cell_type": "code",
   "execution_count": 13,
   "id": "37d2f5ce",
   "metadata": {
    "execution": {
     "iopub.execute_input": "2021-08-16T02:57:55.646849Z",
     "iopub.status.busy": "2021-08-16T02:57:55.646038Z",
     "iopub.status.idle": "2021-08-16T02:57:55.649945Z",
     "shell.execute_reply": "2021-08-16T02:57:55.650459Z"
    },
    "papermill": {
     "duration": 0.032529,
     "end_time": "2021-08-16T02:57:55.650732",
     "exception": false,
     "start_time": "2021-08-16T02:57:55.618203",
     "status": "completed"
    },
    "tags": []
   },
   "outputs": [
    {
     "data": {
      "text/markdown": [
       "\n",
       "```yaml\n",
       "serializer: custom.my_fallback_serializer\n",
       "unserializer: custom.my_fallback_unserializer\n",
       "\n",
       "tasks:\n",
       "  - source: tasks.first\n",
       "    product: output/one_dict\n",
       "  \n",
       "  - source: tasks.second\n",
       "    product:\n",
       "        another: output/another_dict.json\n",
       "        final: output/final_dict.json\n",
       "```\n"
      ],
      "text/plain": [
       "<IPython.core.display.Markdown object>"
      ]
     },
     "metadata": {},
     "output_type": "display_data"
    }
   ],
   "source": [
    "display_file('fallback.yaml')"
   ]
  },
  {
   "cell_type": "code",
   "execution_count": 14,
   "id": "4c272638",
   "metadata": {
    "execution": {
     "iopub.execute_input": "2021-08-16T02:57:55.702802Z",
     "iopub.status.busy": "2021-08-16T02:57:55.702100Z",
     "iopub.status.idle": "2021-08-16T02:58:05.500024Z",
     "shell.execute_reply": "2021-08-16T02:58:05.500720Z"
    },
    "papermill": {
     "duration": 9.825554,
     "end_time": "2021-08-16T02:58:05.500926",
     "exception": false,
     "start_time": "2021-08-16T02:57:55.675372",
     "status": "completed"
    },
    "tags": []
   },
   "outputs": [
    {
     "name": "stdout",
     "output_type": "stream",
     "text": [
      "name    Ran?      Elapsed (s)    Percentage\n",
      "------  ------  -------------  ------------\n",
      "first   True         0.000541       24.2275\n",
      "second  True         0.001692       75.7725\n"
     ]
    },
    {
     "name": "stderr",
     "output_type": "stream",
     "text": [
      "Building task 'second': 100%|██████████| 2/2 [00:06<00:00,  3.22s/it]\n"
     ]
    }
   ],
   "source": [
    "%%sh\n",
    "ploomber build --entry-point fallback.yaml --force"
   ]
  },
  {
   "cell_type": "markdown",
   "id": "385beebd",
   "metadata": {
    "papermill": {
     "duration": 0.025251,
     "end_time": "2021-08-16T02:58:05.552392",
     "exception": false,
     "start_time": "2021-08-16T02:58:05.527141",
     "status": "completed"
    },
    "tags": []
   },
   "source": [
    "Let's print the JSON files to verify their contents:"
   ]
  },
  {
   "cell_type": "code",
   "execution_count": 15,
   "id": "753336e8",
   "metadata": {
    "execution": {
     "iopub.execute_input": "2021-08-16T02:58:05.606479Z",
     "iopub.status.busy": "2021-08-16T02:58:05.605588Z",
     "iopub.status.idle": "2021-08-16T02:58:05.610256Z",
     "shell.execute_reply": "2021-08-16T02:58:05.610776Z"
    },
    "papermill": {
     "duration": 0.03289,
     "end_time": "2021-08-16T02:58:05.611112",
     "exception": false,
     "start_time": "2021-08-16T02:58:05.578222",
     "status": "completed"
    },
    "tags": []
   },
   "outputs": [
    {
     "data": {
      "text/markdown": [
       "\n",
       "```json\n",
       "{\"a\": 3, \"b\": 2}\n",
       "```\n"
      ],
      "text/plain": [
       "<IPython.core.display.Markdown object>"
      ]
     },
     "metadata": {},
     "output_type": "display_data"
    }
   ],
   "source": [
    "display_file('output/another_dict.json')"
   ]
  },
  {
   "cell_type": "code",
   "execution_count": 16,
   "id": "e9afd8d0",
   "metadata": {
    "execution": {
     "iopub.execute_input": "2021-08-16T02:58:05.667334Z",
     "iopub.status.busy": "2021-08-16T02:58:05.666480Z",
     "iopub.status.idle": "2021-08-16T02:58:05.670403Z",
     "shell.execute_reply": "2021-08-16T02:58:05.670901Z"
    },
    "papermill": {
     "duration": 0.034669,
     "end_time": "2021-08-16T02:58:05.671203",
     "exception": false,
     "start_time": "2021-08-16T02:58:05.636534",
     "status": "completed"
    },
    "tags": []
   },
   "outputs": [
    {
     "data": {
      "text/markdown": [
       "\n",
       "```json\n",
       "{\"a\": 100, \"b\": 200}\n",
       "```\n"
      ],
      "text/plain": [
       "<IPython.core.display.Markdown object>"
      ]
     },
     "metadata": {},
     "output_type": "display_data"
    }
   ],
   "source": [
    "display_file('output/final_dict.json')"
   ]
  },
  {
   "cell_type": "markdown",
   "id": "314e0329",
   "metadata": {
    "papermill": {
     "duration": 0.023742,
     "end_time": "2021-08-16T02:58:05.721044",
     "exception": false,
     "start_time": "2021-08-16T02:58:05.697302",
     "status": "completed"
    },
    "tags": []
   },
   "source": [
    "## Using default serializers\n",
    "\n",
    "Ploomber comes with a few convenient serialization functions to write more succint serializers. We can request the use of such default serializers using the `defaults` argument, which takes a list of extensions:"
   ]
  },
  {
   "cell_type": "code",
   "execution_count": 17,
   "id": "40f29c7d",
   "metadata": {
    "execution": {
     "iopub.execute_input": "2021-08-16T02:58:05.783594Z",
     "iopub.status.busy": "2021-08-16T02:58:05.774488Z",
     "iopub.status.idle": "2021-08-16T02:58:05.786660Z",
     "shell.execute_reply": "2021-08-16T02:58:05.787283Z"
    },
    "papermill": {
     "duration": 0.042077,
     "end_time": "2021-08-16T02:58:05.787528",
     "exception": false,
     "start_time": "2021-08-16T02:58:05.745451",
     "status": "completed"
    },
    "tags": []
   },
   "outputs": [
    {
     "data": {
      "text/markdown": [
       "\n",
       "```py\n",
       "from ploomber.io import serializer, unserializer\n",
       "\n",
       "\n",
       "@serializer(fallback=True, defaults=['.json'])\n",
       "def my_defaults_serializer(obj, product):\n",
       "    pass\n",
       "\n",
       "\n",
       "@unserializer(fallback=True, defaults=['.json'])\n",
       "def my_defaults_unserializer(product):\n",
       "    pass\n",
       "```\n"
      ],
      "text/plain": [
       "<IPython.core.display.Markdown object>"
      ]
     },
     "metadata": {},
     "output_type": "display_data"
    }
   ],
   "source": [
    "display_file('custom.py', symbols=['my_defaults_serializer', 'my_defaults_unserializer'])"
   ]
  },
  {
   "cell_type": "markdown",
   "id": "21dcc755",
   "metadata": {
    "papermill": {
     "duration": 0.024745,
     "end_time": "2021-08-16T02:58:05.838275",
     "exception": false,
     "start_time": "2021-08-16T02:58:05.813530",
     "status": "completed"
    },
    "tags": []
   },
   "source": [
    "Here we're asking to dispatch `.json` products and use `pickle` for all other extensions, the same as we did for the previous examples, except this time we don't have to pass the mapping argument to the decorators.\n",
    "\n",
    "`defaults` supports:\n",
    "\n",
    "1. `.json`: the returned object must be JSON-serializable (e.g., a list or a dictionary)\n",
    "2. `.txt`: the returned object must be a string\n",
    "3. `.csv`: the returned object must be a `pandas.DataFrame`\n",
    "4. `.parquet`: the returned object must be a `pandas.DataFrame` and there should be a parquet library installed (such as `pyarrow`)."
   ]
  },
  {
   "cell_type": "code",
   "execution_count": 18,
   "id": "360a81a0",
   "metadata": {
    "execution": {
     "iopub.execute_input": "2021-08-16T02:58:05.894818Z",
     "iopub.status.busy": "2021-08-16T02:58:05.894050Z",
     "iopub.status.idle": "2021-08-16T02:58:05.898201Z",
     "shell.execute_reply": "2021-08-16T02:58:05.898758Z"
    },
    "papermill": {
     "duration": 0.035243,
     "end_time": "2021-08-16T02:58:05.898990",
     "exception": false,
     "start_time": "2021-08-16T02:58:05.863747",
     "status": "completed"
    },
    "tags": []
   },
   "outputs": [
    {
     "data": {
      "text/markdown": [
       "\n",
       "```yaml\n",
       "serializer: custom.my_defaults_serializer\n",
       "unserializer: custom.my_defaults_unserializer\n",
       "\n",
       "tasks:\n",
       "  - source: tasks.first\n",
       "    product: output/one_dict\n",
       "  \n",
       "  - source: tasks.second\n",
       "    product:\n",
       "        another: output/another_dict.json\n",
       "        final: output/final_dict.json\n",
       "```\n"
      ],
      "text/plain": [
       "<IPython.core.display.Markdown object>"
      ]
     },
     "metadata": {},
     "output_type": "display_data"
    }
   ],
   "source": [
    "display_file('defaults.yaml')"
   ]
  },
  {
   "cell_type": "code",
   "execution_count": 19,
   "id": "b7a45360",
   "metadata": {
    "execution": {
     "iopub.execute_input": "2021-08-16T02:58:05.959553Z",
     "iopub.status.busy": "2021-08-16T02:58:05.958698Z",
     "iopub.status.idle": "2021-08-16T02:58:15.840537Z",
     "shell.execute_reply": "2021-08-16T02:58:15.841260Z"
    },
    "papermill": {
     "duration": 9.916744,
     "end_time": "2021-08-16T02:58:15.841475",
     "exception": false,
     "start_time": "2021-08-16T02:58:05.924731",
     "status": "completed"
    },
    "tags": []
   },
   "outputs": [
    {
     "name": "stdout",
     "output_type": "stream",
     "text": [
      "name    Ran?      Elapsed (s)    Percentage\n",
      "------  ------  -------------  ------------\n",
      "first   True         0.000658       27.9524\n",
      "second  True         0.001696       72.0476\n"
     ]
    },
    {
     "name": "stderr",
     "output_type": "stream",
     "text": [
      "Building task 'second': 100%|██████████| 2/2 [00:06<00:00,  3.28s/it]\n"
     ]
    }
   ],
   "source": [
    "%%sh\n",
    "ploomber build --entry-point defaults.yaml --force"
   ]
  },
  {
   "cell_type": "markdown",
   "id": "c8374c0d",
   "metadata": {
    "papermill": {
     "duration": 0.030238,
     "end_time": "2021-08-16T02:58:15.900224",
     "exception": false,
     "start_time": "2021-08-16T02:58:15.869986",
     "status": "completed"
    },
    "tags": []
   },
   "source": [
    "Let's print the JSON files to verify their contents:"
   ]
  },
  {
   "cell_type": "code",
   "execution_count": 20,
   "id": "1e0001d4",
   "metadata": {
    "execution": {
     "iopub.execute_input": "2021-08-16T02:58:15.959092Z",
     "iopub.status.busy": "2021-08-16T02:58:15.958262Z",
     "iopub.status.idle": "2021-08-16T02:58:15.962874Z",
     "shell.execute_reply": "2021-08-16T02:58:15.963588Z"
    },
    "papermill": {
     "duration": 0.037266,
     "end_time": "2021-08-16T02:58:15.963792",
     "exception": false,
     "start_time": "2021-08-16T02:58:15.926526",
     "status": "completed"
    },
    "tags": []
   },
   "outputs": [
    {
     "data": {
      "text/markdown": [
       "\n",
       "```json\n",
       "{\"a\": 3, \"b\": 2}\n",
       "```\n"
      ],
      "text/plain": [
       "<IPython.core.display.Markdown object>"
      ]
     },
     "metadata": {},
     "output_type": "display_data"
    }
   ],
   "source": [
    "display_file('output/another_dict.json')"
   ]
  },
  {
   "cell_type": "code",
   "execution_count": 21,
   "id": "6f2c5408",
   "metadata": {
    "execution": {
     "iopub.execute_input": "2021-08-16T02:58:16.027288Z",
     "iopub.status.busy": "2021-08-16T02:58:16.026385Z",
     "iopub.status.idle": "2021-08-16T02:58:16.029583Z",
     "shell.execute_reply": "2021-08-16T02:58:16.030335Z"
    },
    "papermill": {
     "duration": 0.039053,
     "end_time": "2021-08-16T02:58:16.030589",
     "exception": false,
     "start_time": "2021-08-16T02:58:15.991536",
     "status": "completed"
    },
    "tags": []
   },
   "outputs": [
    {
     "data": {
      "text/markdown": [
       "\n",
       "```json\n",
       "{\"a\": 100, \"b\": 200}\n",
       "```\n"
      ],
      "text/plain": [
       "<IPython.core.display.Markdown object>"
      ]
     },
     "metadata": {},
     "output_type": "display_data"
    }
   ],
   "source": [
    "display_file('output/final_dict.json')"
   ]
  }
 ],
 "metadata": {
  "jupytext": {
   "cell_metadata_filter": "-all",
   "main_language": "python",
   "notebook_metadata_filter": "-all"
  },
  "kernelspec": {
   "display_name": "Python 3",
   "language": "python",
   "name": "python3"
  },
  "language_info": {
   "codemirror_mode": {
    "name": "ipython",
    "version": 3
   },
   "file_extension": ".py",
   "mimetype": "text/x-python",
   "name": "python",
   "nbconvert_exporter": "python",
   "pygments_lexer": "ipython3",
   "version": "3.8.10"
  },
  "papermill": {
   "duration": 57.268051,
   "end_time": "2021-08-16T02:58:17.619409",
   "exception": null,
   "input_path": "/var/folders/3h/_lvh_w_x5g30rrjzb_xnn2j80000gq/T/tmpfe9c5y9y.ipynb",
   "output_path": "guides/serialize-unserialize/README.ipynb",
   "parameters": {
    "product": "guides/serialize-unserialize/README.ipynb"
   },
   "start_time": "2021-08-16T02:57:20.351358"
  }
 },
 "nbformat": 4,
 "nbformat_minor": 5
}
