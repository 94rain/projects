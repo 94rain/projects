{
 "cells": [
  {
   "cell_type": "markdown",
   "id": "737e2e8f",
   "metadata": {
    "papermill": {
     "duration": 0.053608,
     "end_time": "2022-03-20T14:51:51.585904",
     "exception": false,
     "start_time": "2022-03-20T14:51:51.532296",
     "status": "completed"
    },
    "tags": []
   },
   "source": [
    "To run this example locally, [install Ploomber](https://docs.ploomber.io/en/latest/get-started/install.html) and execute: `ploomber examples -n guides/versioning`\n",
    "\n",
    "To start a free, hosted JupyterLab: [![binder-logo](https://mybinder.org/badge_logo.svg)](https://mybinder.org/v2/gh/ploomber/binder-env/main?urlpath=git-pull%3Frepo%3Dhttps%253A%252F%252Fgithub.com%252Fploomber%252Fprojects%26urlpath%3Dlab%252Ftree%252Fprojects%252Fguides/versioning%252FREADME.ipynb%26branch%3Dmaster)\n",
    "\n",
    "Found an issue? [Let us know.](https://github.com/ploomber/projects/issues/new?title=guides/versioning%20issue)\n",
    "\n",
    "Have questions? [Ask us anything on Slack.](https://ploomber.io/community/)\n"
   ]
  },
  {
   "cell_type": "markdown",
   "id": "f80a3432",
   "metadata": {
    "papermill": {
     "duration": 0.045448,
     "end_time": "2022-03-20T14:51:51.674034",
     "exception": false,
     "start_time": "2022-03-20T14:51:51.628586",
     "status": "completed"
    },
    "tags": []
   },
   "source": [
    "# Versioning\n",
    "\n",
    "**Note:** This feature requires Ploomber 0.17.1 or higher.\n",
    "\n",
    "<!-- start description -->\n",
    "A tutorial showing how to version pipeline products.\n",
    "<!-- end description -->\n",
    "\n",
    "Although Ploomber is not a data versioning solution, it offers a simple way to organize pipeline artifacts via placeholders. Note that this requires your project to be in a git repository."
   ]
  },
  {
   "cell_type": "markdown",
   "id": "5f9fb33f",
   "metadata": {
    "papermill": {
     "duration": 0.039414,
     "end_time": "2022-03-20T14:51:51.754061",
     "exception": false,
     "start_time": "2022-03-20T14:51:51.714647",
     "status": "completed"
    },
    "tags": []
   },
   "source": [
    "## Using `{{git}}`\n",
    "\n",
    "Let's look at the first example, which uses the `{{git}}` placeholder:"
   ]
  },
  {
   "cell_type": "markdown",
   "id": "a61dbc17",
   "metadata": {
    "papermill": {
     "duration": 0.039647,
     "end_time": "2022-03-20T14:51:51.830526",
     "exception": false,
     "start_time": "2022-03-20T14:51:51.790879",
     "status": "completed"
    },
    "region_name": "md",
    "tags": []
   },
   "source": [
    "```yaml\n",
    "# Content of pipeline.git.yaml\n",
    "tasks:\n",
    "  - source: tasks/load.py\n",
    "    product:\n",
    "      nb: 'output/{{git}}/load.html'\n",
    "      data: 'output/{{git}}/data.csv'\n",
    "\n",
    "  - source: tasks/plot.py\n",
    "    product:\n",
    "      nb: 'output/{{git}}/plot.html'\n",
    "```"
   ]
  },
  {
   "cell_type": "markdown",
   "id": "4509a132",
   "metadata": {
    "papermill": {
     "duration": 0.037524,
     "end_time": "2022-03-20T14:51:51.905927",
     "exception": false,
     "start_time": "2022-03-20T14:51:51.868403",
     "status": "completed"
    },
    "tags": []
   },
   "source": [
    "You can see that both tasks use `{{git}}`. When Ploomber executes the pipeline, it will replace the placeholder using the following order:\n",
    "\n",
    "1. If currently at the tip of the branch, return the branch name\n",
    "2. If the current commit has a tag, return the tag name\n",
    "3. Otherwise, return the hash for the current commit (appending `-dirty` if there are [uncommitted changes](https://mirrors.edge.kernel.org/pub/software/scm/git/docs/gitglossary.html#def_dirty))\n",
    "\n",
    "Let's see how it works:"
   ]
  },
  {
   "cell_type": "code",
   "execution_count": 1,
   "id": "cecc9f6f",
   "metadata": {
    "execution": {
     "iopub.execute_input": "2022-03-20T14:51:51.993794Z",
     "iopub.status.busy": "2022-03-20T14:51:51.992921Z",
     "iopub.status.idle": "2022-03-20T14:51:54.857172Z",
     "shell.execute_reply": "2022-03-20T14:51:54.857676Z"
    },
    "papermill": {
     "duration": 2.913651,
     "end_time": "2022-03-20T14:51:54.858002",
     "exception": false,
     "start_time": "2022-03-20T14:51:51.944351",
     "status": "completed"
    },
    "tags": []
   },
   "outputs": [
    {
     "name": "stderr",
     "output_type": "stream",
     "text": [
      "/Users/Edu/miniconda3/envs/projects/lib/python3.9/site-packages/papermill/iorw.py:50: FutureWarning: pyarrow.HadoopFileSystem is deprecated as of 2.0.0, please use pyarrow.fs.HadoopFileSystem instead.\n",
      "  from pyarrow import HadoopFileSystem\n"
     ]
    }
   ],
   "source": [
    "from pathlib import Path\n",
    "\n",
    "from ploomber.spec import DAGSpec"
   ]
  },
  {
   "cell_type": "code",
   "execution_count": 2,
   "id": "e109cab5",
   "metadata": {
    "execution": {
     "iopub.execute_input": "2022-03-20T14:51:54.973920Z",
     "iopub.status.busy": "2022-03-20T14:51:54.972749Z",
     "iopub.status.idle": "2022-03-20T14:51:55.879038Z",
     "shell.execute_reply": "2022-03-20T14:51:55.879560Z"
    },
    "papermill": {
     "duration": 0.967261,
     "end_time": "2022-03-20T14:51:55.879851",
     "exception": false,
     "start_time": "2022-03-20T14:51:54.912590",
     "status": "completed"
    },
    "tags": []
   },
   "outputs": [
    {
     "data": {
      "text/plain": [
       "File('output/versioning/load.html')"
      ]
     },
     "execution_count": 2,
     "metadata": {},
     "output_type": "execute_result"
    }
   ],
   "source": [
    "dag = DAGSpec('pipeline.git.yaml').to_dag()\n",
    "dag['load'].product['nb']"
   ]
  },
  {
   "cell_type": "markdown",
   "id": "bef40dde",
   "metadata": {
    "papermill": {
     "duration": 0.060697,
     "end_time": "2022-03-20T14:51:56.000245",
     "exception": false,
     "start_time": "2022-03-20T14:51:55.939548",
     "status": "completed"
    },
    "tags": []
   },
   "source": [
    "We can see the product will be stored in the `output/master` directory, `{{git}}` is resolved to `master` since we're at the tip of such branch."
   ]
  },
  {
   "cell_type": "markdown",
   "id": "e3ca1c49",
   "metadata": {
    "papermill": {
     "duration": 0.052679,
     "end_time": "2022-03-20T14:51:56.106486",
     "exception": false,
     "start_time": "2022-03-20T14:51:56.053807",
     "status": "completed"
    },
    "tags": []
   },
   "source": [
    "## Using `{{git_hash}}`\n",
    "\n",
    "The `{{git_hash}}` placeholder is similar to `{{git}}`, except it doesn't return the branch name, the rules are as follows:\n",
    "\n",
    "1. If the current commit has a tag, return the tag name\n",
    "2. Otherwise, return the hash for the current commit (appending `-dirty` if there are [uncommitted changes](https://mirrors.edge.kernel.org/pub/software/scm/git/docs/gitglossary.html#def_dirty))\n",
    "\n",
    "This is how our sample `pipeline.git_hash.yaml` looks like:"
   ]
  },
  {
   "cell_type": "markdown",
   "id": "3db9fe7f",
   "metadata": {
    "papermill": {
     "duration": 0.039262,
     "end_time": "2022-03-20T14:51:56.191256",
     "exception": false,
     "start_time": "2022-03-20T14:51:56.151994",
     "status": "completed"
    },
    "region_name": "md",
    "tags": []
   },
   "source": [
    "```yaml\n",
    "# Content of pipeline.git_hash.yaml\n",
    "tasks:\n",
    "  - source: tasks/load.py\n",
    "    product:\n",
    "      nb: 'output/{{git_hash}}/load.html'\n",
    "      data: 'output/{{git_hash}}/data.csv'\n",
    "\n",
    "  - source: tasks/plot.py\n",
    "    product:\n",
    "      nb: 'output/{{git_hash}}/plot.html'\n",
    "```"
   ]
  },
  {
   "cell_type": "code",
   "execution_count": 3,
   "id": "0bd633c0",
   "metadata": {
    "execution": {
     "iopub.execute_input": "2022-03-20T14:51:56.279526Z",
     "iopub.status.busy": "2022-03-20T14:51:56.278761Z",
     "iopub.status.idle": "2022-03-20T14:51:56.836314Z",
     "shell.execute_reply": "2022-03-20T14:51:56.836964Z"
    },
    "papermill": {
     "duration": 0.606528,
     "end_time": "2022-03-20T14:51:56.837316",
     "exception": false,
     "start_time": "2022-03-20T14:51:56.230788",
     "status": "completed"
    },
    "tags": []
   },
   "outputs": [
    {
     "data": {
      "text/plain": [
       "File('output/6cd57bc-dirty/load.html')"
      ]
     },
     "execution_count": 3,
     "metadata": {},
     "output_type": "execute_result"
    }
   ],
   "source": [
    "dag = DAGSpec('pipeline.git_hash.yaml').to_dag()\n",
    "dag['load'].product['nb']"
   ]
  },
  {
   "cell_type": "markdown",
   "id": "5f07e435",
   "metadata": {
    "papermill": {
     "duration": 0.062885,
     "end_time": "2022-03-20T14:51:56.951680",
     "exception": false,
     "start_time": "2022-03-20T14:51:56.888795",
     "status": "completed"
    },
    "tags": []
   },
   "source": [
    "This time, the product will be stored in a directory with the hash of the current commit."
   ]
  },
  {
   "cell_type": "markdown",
   "id": "d0e01a35",
   "metadata": {
    "papermill": {
     "duration": 0.048615,
     "end_time": "2022-03-20T14:51:57.051561",
     "exception": false,
     "start_time": "2022-03-20T14:51:57.002946",
     "status": "completed"
    },
    "tags": []
   },
   "source": [
    "## Adding the current timestamp with `{{now}}`\n",
    "\n",
    "Alternatively, you can use the `{{now}}` placeholder, which doesn't require your project to be in a git repository and will resolve to the current timestamp:"
   ]
  },
  {
   "cell_type": "markdown",
   "id": "0ea32fb7",
   "metadata": {
    "papermill": {
     "duration": 0.046515,
     "end_time": "2022-03-20T14:51:57.145425",
     "exception": false,
     "start_time": "2022-03-20T14:51:57.098910",
     "status": "completed"
    },
    "region_name": "md",
    "tags": []
   },
   "source": [
    "```yaml\n",
    "# Content of pipeline.now.yaml\n",
    "tasks:\n",
    "  - source: tasks/load.py\n",
    "    product:\n",
    "      nb: 'output/{{now}}/load.html'\n",
    "      data: 'output/{{now}}/data.csv'\n",
    "\n",
    "  - source: tasks/plot.py\n",
    "    product:\n",
    "      nb: 'output/{{now}}/plot.html'\n",
    "```"
   ]
  },
  {
   "cell_type": "code",
   "execution_count": 4,
   "id": "439007fe",
   "metadata": {
    "execution": {
     "iopub.execute_input": "2022-03-20T14:51:57.235602Z",
     "iopub.status.busy": "2022-03-20T14:51:57.234874Z",
     "iopub.status.idle": "2022-03-20T14:51:57.670659Z",
     "shell.execute_reply": "2022-03-20T14:51:57.669782Z"
    },
    "papermill": {
     "duration": 0.485952,
     "end_time": "2022-03-20T14:51:57.670897",
     "exception": false,
     "start_time": "2022-03-20T14:51:57.184945",
     "status": "completed"
    },
    "tags": []
   },
   "outputs": [
    {
     "name": "stdout",
     "output_type": "stream",
     "text": [
      "output/2022-03-20T08:51:57.324979/load.html\n"
     ]
    }
   ],
   "source": [
    "dag = DAGSpec('pipeline.now.yaml').to_dag()\n",
    "\n",
    "path = Path(dag['load'].product['nb']).relative_to(Path().resolve())\n",
    "print(path)"
   ]
  },
  {
   "cell_type": "markdown",
   "id": "9a066d99",
   "metadata": {
    "papermill": {
     "duration": 0.047111,
     "end_time": "2022-03-20T14:51:57.759920",
     "exception": false,
     "start_time": "2022-03-20T14:51:57.712809",
     "status": "completed"
    },
    "tags": []
   },
   "source": [
    "You can see that the `load.html` file will to into a folder with the timestamp computed when running this example."
   ]
  },
  {
   "cell_type": "markdown",
   "id": "1a4b0c05",
   "metadata": {
    "papermill": {
     "duration": 0.042276,
     "end_time": "2022-03-20T14:51:57.843448",
     "exception": false,
     "start_time": "2022-03-20T14:51:57.801172",
     "status": "completed"
    },
    "tags": []
   },
   "source": [
    "## Using placeholders in selected tasks\n",
    "\n",
    "You can selectively choose which tasks to organize based on the git repository commit, the following example only uses the `{{git}}` placeholder in the last task:"
   ]
  },
  {
   "cell_type": "markdown",
   "id": "cf910535",
   "metadata": {
    "papermill": {
     "duration": 0.043783,
     "end_time": "2022-03-20T14:51:57.927986",
     "exception": false,
     "start_time": "2022-03-20T14:51:57.884203",
     "status": "completed"
    },
    "region_name": "md",
    "tags": []
   },
   "source": [
    "```yaml\n",
    "# Content of pipeline.partial.yaml\n",
    "tasks:\n",
    "  - source: tasks/load.py\n",
    "    product:\n",
    "      nb: 'output/load.html'\n",
    "      data: 'output/data.csv'\n",
    "\n",
    "  - source: tasks/plot.py\n",
    "    product:\n",
    "      nb: 'output/{{git}}/plot.html'\n",
    "```"
   ]
  },
  {
   "cell_type": "code",
   "execution_count": 5,
   "id": "dc8757f1",
   "metadata": {
    "execution": {
     "iopub.execute_input": "2022-03-20T14:51:58.017103Z",
     "iopub.status.busy": "2022-03-20T14:51:58.016387Z",
     "iopub.status.idle": "2022-03-20T14:51:58.451931Z",
     "shell.execute_reply": "2022-03-20T14:51:58.452509Z"
    },
    "papermill": {
     "duration": 0.484094,
     "end_time": "2022-03-20T14:51:58.453087",
     "exception": false,
     "start_time": "2022-03-20T14:51:57.968993",
     "status": "completed"
    },
    "tags": []
   },
   "outputs": [
    {
     "data": {
      "text/plain": [
       "File('output/load.html')"
      ]
     },
     "execution_count": 5,
     "metadata": {},
     "output_type": "execute_result"
    }
   ],
   "source": [
    "dag = DAGSpec('pipeline.partial.yaml').to_dag()\n",
    "dag['load'].product['nb']"
   ]
  },
  {
   "cell_type": "code",
   "execution_count": 6,
   "id": "ee93999d",
   "metadata": {
    "execution": {
     "iopub.execute_input": "2022-03-20T14:51:58.571612Z",
     "iopub.status.busy": "2022-03-20T14:51:58.570155Z",
     "iopub.status.idle": "2022-03-20T14:51:58.574854Z",
     "shell.execute_reply": "2022-03-20T14:51:58.575362Z"
    },
    "papermill": {
     "duration": 0.067931,
     "end_time": "2022-03-20T14:51:58.575638",
     "exception": false,
     "start_time": "2022-03-20T14:51:58.507707",
     "status": "completed"
    },
    "tags": []
   },
   "outputs": [
    {
     "data": {
      "text/plain": [
       "File('output/versioning/plot.html')"
      ]
     },
     "execution_count": 6,
     "metadata": {},
     "output_type": "execute_result"
    }
   ],
   "source": [
    "dag['plot'].product['nb']"
   ]
  },
  {
   "cell_type": "markdown",
   "id": "c3c4f916",
   "metadata": {
    "papermill": {
     "duration": 0.074727,
     "end_time": "2022-03-20T14:51:58.706166",
     "exception": false,
     "start_time": "2022-03-20T14:51:58.631439",
     "status": "completed"
    },
    "tags": []
   },
   "source": [
    "Here, you can see that the product of the `load` task goes to `output/`, while the output of `plot` goes to `output/master/`"
   ]
  },
  {
   "cell_type": "markdown",
   "id": "e6e6f29d",
   "metadata": {
    "papermill": {
     "duration": 0.063929,
     "end_time": "2022-03-20T14:51:58.864949",
     "exception": false,
     "start_time": "2022-03-20T14:51:58.801020",
     "status": "completed"
    },
    "tags": []
   },
   "source": [
    "## Using an `env.yaml`\n",
    "\n",
    "If you're using an `env.yaml` file, you can still use the placeholders:\n",
    "\n",
    "```yaml\n",
    "# env.yaml\n",
    "directory: '{{git}}' # or '{{git_hash}}'\n",
    "```\n",
    "\n",
    "Then add references to `{{directory}}` in your `pipeline.yaml`:\n",
    "\n",
    "```yaml\n",
    "# pipeline.yaml\n",
    "tasks:\n",
    "  - source: tasks/load.py\n",
    "    product:\n",
    "      nb: 'output/{{directory}}/load.html'\n",
    "      data: 'output/{{directory}}/data.csv'\n",
    "```"
   ]
  }
 ],
 "metadata": {
  "kernelspec": {
   "display_name": "Python 3 (ipykernel)",
   "language": "python",
   "name": "python3"
  },
  "language_info": {
   "codemirror_mode": {
    "name": "ipython",
    "version": 3
   },
   "file_extension": ".py",
   "mimetype": "text/x-python",
   "name": "python",
   "nbconvert_exporter": "python",
   "pygments_lexer": "ipython3",
   "version": "3.9.7"
  },
  "papermill": {
   "default_parameters": {},
   "duration": 9.832441,
   "end_time": "2022-03-20T14:51:59.344461",
   "environment_variables": {},
   "exception": null,
   "input_path": "guides/versioning/_build/readme_preprocessed.ipynb",
   "output_path": "guides/versioning/README.ipynb",
   "parameters": {},
   "start_time": "2022-03-20T14:51:49.512020",
   "version": "2.3.3"
  }
 },
 "nbformat": 4,
 "nbformat_minor": 5
}