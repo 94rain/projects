{
 "cells": [
  {
   "cell_type": "markdown",
   "id": "2623d024",
   "metadata": {
    "papermill": {
     "duration": 0.071361,
     "end_time": "2021-10-19T02:13:56.192221",
     "exception": false,
     "start_time": "2021-10-19T02:13:56.120860",
     "status": "completed"
    },
    "tags": []
   },
   "source": [
    "To run this example locally, execute: `ploomber examples -n guides/serialization`.\n",
    "\n",
    "To start a free, hosted JupyterLab: [![binder-logo](https://mybinder.org/badge_logo.svg)](https://mybinder.org/v2/gh/ploomber/binder-env/main?urlpath=git-pull%3Frepo%3Dhttps%253A%252F%252Fgithub.com%252Fploomber%252Fprojects%26urlpath%3Dlab%252Ftree%252Fprojects%252Fguides/serialization%252FREADME.ipynb%26branch%3Dmaster)\n",
    "\n",
    "Found an issue? [Let us know.](https://github.com/ploomber/projects/issues/new?title=guides/serialization%20issue)\n",
    "\n",
    "Have questions? [Ask us anything on Slack.](http://community.ploomber.io/)\n",
    "\n"
   ]
  },
  {
   "cell_type": "markdown",
   "id": "fa6f516d",
   "metadata": {
    "papermill": {
     "duration": 0.067741,
     "end_time": "2021-10-19T02:13:56.324354",
     "exception": false,
     "start_time": "2021-10-19T02:13:56.256613",
     "status": "completed"
    },
    "tags": []
   },
   "source": [
    "# Serialization\n",
    "\n",
    "<!-- start description -->\n",
    "Tutorial explaining how the serializer and unserializer fields in a pipeline.yaml file work.\n",
    "<!-- end description -->\n",
    "\n",
    "Incremental builds allow Ploomber to skip tasks whose source code hasn't changed; each task must save their products to disk to enable such a feature. However, there are some cases when we don't want our pipeline to perform disk operations. For example, if we're going to deploy our pipeline, eliminating disk operations reduces runtime considerably.\n",
    "\n",
    "To enable a pipeline to work in both disk-based and in-memory scenarios, we can declare a `serializer` and `unzerializer` in our pipeline declaration, effectively separating our task's logic from the read/write logic.\n",
    "\n",
    "Note that this only applies to function tasks; other tasks are unaffected by the `serializer`/`unserializer` configuration."
   ]
  },
  {
   "cell_type": "markdown",
   "id": "4823aef0",
   "metadata": {
    "papermill": {
     "duration": 0.066532,
     "end_time": "2021-10-19T02:13:56.454257",
     "exception": false,
     "start_time": "2021-10-19T02:13:56.387725",
     "status": "completed"
    },
    "tags": []
   },
   "source": [
    "## Built-in pickle serialization\n",
    "\n",
    "The easiest way to get started is to use the built-in serializer and unserializer, which use the `pickle` module.\n",
    "\n",
    "Let's see an example; the following pipeline has two tasks. The first one generates a dictionary, and the second one creates two dictionaries. Since we are using the pickle-based serialization, each dictionary is saved in the pickle binary format:"
   ]
  },
  {
   "cell_type": "markdown",
   "id": "40383e23",
   "metadata": {
    "papermill": {
     "duration": 0.069782,
     "end_time": "2021-10-19T02:13:56.592756",
     "exception": false,
     "start_time": "2021-10-19T02:13:56.522974",
     "status": "completed"
    },
    "region_name": "md",
    "tags": []
   },
   "source": [
    "```yaml\n",
    "# Content of simple.yaml\n",
    "serializer: ploomber.io.serializer_pickle\n",
    "unserializer: ploomber.io.unserializer_pickle\n",
    "\n",
    "tasks:\n",
    "  - source: tasks.first\n",
    "    product: output/one_dict\n",
    "  \n",
    "  - source: tasks.second\n",
    "    product:\n",
    "        another: output/another_dict\n",
    "        final: output/final_dict\n",
    "```"
   ]
  },
  {
   "cell_type": "markdown",
   "id": "6adb553e",
   "metadata": {
    "papermill": {
     "duration": 0.066939,
     "end_time": "2021-10-19T02:13:56.723392",
     "exception": false,
     "start_time": "2021-10-19T02:13:56.656453",
     "status": "completed"
    },
    "tags": []
   },
   "source": [
    "Let's take a look at the task's source code:"
   ]
  },
  {
   "cell_type": "markdown",
   "id": "00b3b9ae",
   "metadata": {
    "papermill": {
     "duration": 0.0661,
     "end_time": "2021-10-19T02:13:56.854844",
     "exception": false,
     "start_time": "2021-10-19T02:13:56.788744",
     "status": "completed"
    },
    "region_name": "md",
    "tags": []
   },
   "source": [
    "```python\n",
    "# Content of tasks.py\n",
    "def first():\n",
    "    return dict(a=1, b=2)\n",
    "\n",
    "\n",
    "def second(upstream):\n",
    "    first = upstream['first']\n",
    "    another = dict(a=first['b'] + 1, b=first['a'] + 1)\n",
    "    final = dict(a=100, b=200)\n",
    "    return dict(another=another, final=final)\n",
    "\n",
    "```"
   ]
  },
  {
   "cell_type": "markdown",
   "id": "0f9e62ec",
   "metadata": {
    "papermill": {
     "duration": 0.068403,
     "end_time": "2021-10-19T02:13:56.994116",
     "exception": false,
     "start_time": "2021-10-19T02:13:56.925713",
     "status": "completed"
    },
    "tags": []
   },
   "source": [
    "Since we configured a `serializer` and `unserializer`, function tasks must `return` their outpues instead of saving them to disk in the function's body.\n",
    "\n",
    "`first` does not have any upstream dependencies and returns a dictionary. `second` has the previous task as dependency and returns two dictionaries. Note that the keys in the returned dictionary must match the names of the products declared in `pipeline.yaml` (`another`, `final`).\n",
    "\n",
    "Let's now run the pipeline."
   ]
  },
  {
   "cell_type": "code",
   "execution_count": 1,
   "id": "4c9d614f",
   "metadata": {
    "execution": {
     "iopub.execute_input": "2021-10-19T02:13:57.144853Z",
     "iopub.status.busy": "2021-10-19T02:13:57.144071Z",
     "iopub.status.idle": "2021-10-19T02:14:06.939066Z",
     "shell.execute_reply": "2021-10-19T02:14:06.939638Z"
    },
    "papermill": {
     "duration": 9.87345,
     "end_time": "2021-10-19T02:14:06.939927",
     "exception": false,
     "start_time": "2021-10-19T02:13:57.066477",
     "status": "completed"
    },
    "tags": []
   },
   "outputs": [
    {
     "name": "stdout",
     "output_type": "stream",
     "text": [
      "name    Ran?      Elapsed (s)    Percentage\n",
      "------  ------  -------------  ------------\n",
      "first   True         0.002376       59.9546\n",
      "second  True         0.001587       40.0454\n"
     ]
    },
    {
     "name": "stderr",
     "output_type": "stream",
     "text": [
      "\r",
      "  0%|          | 0/2 [00:00<?, ?it/s]\r",
      "Building task 'first':   0%|          | 0/2 [00:00<?, ?it/s]\r",
      "Building task 'first':  50%|█████     | 1/2 [00:03<00:03,  3.10s/it]\r",
      "Building task 'second':  50%|█████     | 1/2 [00:03<00:03,  3.10s/it]\r",
      "Building task 'second': 100%|██████████| 2/2 [00:06<00:00,  3.08s/it]\r",
      "Building task 'second': 100%|██████████| 2/2 [00:06<00:00,  3.08s/it]\n"
     ]
    }
   ],
   "source": [
    "%%sh\n",
    "ploomber build --entry-point simple.yaml --force"
   ]
  },
  {
   "cell_type": "markdown",
   "id": "6fc0e841",
   "metadata": {
    "papermill": {
     "duration": 0.075798,
     "end_time": "2021-10-19T02:14:07.085507",
     "exception": false,
     "start_time": "2021-10-19T02:14:07.009709",
     "status": "completed"
    },
    "tags": []
   },
   "source": [
    "The pickle format has important [security concerns](https://docs.python.org/3/library/pickle.html), **remember only to unpickle data you trust**."
   ]
  },
  {
   "cell_type": "markdown",
   "id": "6282a7af",
   "metadata": {
    "papermill": {
     "duration": 0.067792,
     "end_time": "2021-10-19T02:14:07.223984",
     "exception": false,
     "start_time": "2021-10-19T02:14:07.156192",
     "status": "completed"
    },
    "tags": []
   },
   "source": [
    "## Custom serialization logic\n",
    "\n",
    "We can also define our own serialization logic, by using the `@serializer`, and `@unserializer` decorators. Let's replicate what our pickle-based serializer/unserializer is doing as an example:"
   ]
  },
  {
   "cell_type": "markdown",
   "id": "a9ca3737",
   "metadata": {
    "papermill": {
     "duration": 0.067994,
     "end_time": "2021-10-19T02:14:07.361326",
     "exception": false,
     "start_time": "2021-10-19T02:14:07.293332",
     "status": "completed"
    },
    "region_name": "md",
    "tags": []
   },
   "source": [
    "```python\n",
    "# Content of custom.py\n",
    "from pathlib import Path\n",
    "import pickle\n",
    "\n",
    "from ploomber.io import serializer, unserializer\n",
    "\n",
    "\n",
    "@serializer()\n",
    "def my_pickle_serializer(obj, product):\n",
    "    Path(product).write_bytes(pickle.dumps(obj))\n",
    "\n",
    "\n",
    "@unserializer()\n",
    "def my_pickle_unserializer(product):\n",
    "    return pickle.loads(Path(product).read_bytes())\n",
    "```"
   ]
  },
  {
   "cell_type": "markdown",
   "id": "2eea6503",
   "metadata": {
    "papermill": {
     "duration": 0.069415,
     "end_time": "2021-10-19T02:14:07.497412",
     "exception": false,
     "start_time": "2021-10-19T02:14:07.427997",
     "status": "completed"
    },
    "tags": []
   },
   "source": [
    "A `@serializer` function must take two arguments: the object to serializer and the product object (taken from the task declaration). The `@unserializer` must take a single argument (the product to unserializer), and return the unserializer object.\n",
    "\n",
    "Let's modify our original pipeline to use this serializer/unserializer:"
   ]
  },
  {
   "cell_type": "markdown",
   "id": "a6c8eb0c",
   "metadata": {
    "papermill": {
     "duration": 0.067895,
     "end_time": "2021-10-19T02:14:07.635911",
     "exception": false,
     "start_time": "2021-10-19T02:14:07.568016",
     "status": "completed"
    },
    "region_name": "md",
    "tags": []
   },
   "source": [
    "```yaml\n",
    "# Content of custom.yaml\n",
    "serializer: custom.my_pickle_serializer\n",
    "unserializer: custom.my_pickle_unserializer\n",
    "\n",
    "tasks:\n",
    "  - source: tasks.first\n",
    "    product: output/one_dict\n",
    "  \n",
    "  - source: tasks.second\n",
    "    product:\n",
    "        another: output/another_dict\n",
    "        final: output/final_dict\n",
    "```"
   ]
  },
  {
   "cell_type": "code",
   "execution_count": 2,
   "id": "92afd4eb",
   "metadata": {
    "execution": {
     "iopub.execute_input": "2021-10-19T02:14:07.779469Z",
     "iopub.status.busy": "2021-10-19T02:14:07.778711Z",
     "iopub.status.idle": "2021-10-19T02:14:17.150100Z",
     "shell.execute_reply": "2021-10-19T02:14:17.151026Z"
    },
    "papermill": {
     "duration": 9.444568,
     "end_time": "2021-10-19T02:14:17.151251",
     "exception": false,
     "start_time": "2021-10-19T02:14:07.706683",
     "status": "completed"
    },
    "tags": []
   },
   "outputs": [
    {
     "name": "stdout",
     "output_type": "stream",
     "text": [
      "name    Ran?      Elapsed (s)    Percentage\n",
      "------  ------  -------------  ------------\n",
      "first   True         0.001381       37.7632\n",
      "second  True         0.002276       62.2368\n"
     ]
    },
    {
     "name": "stderr",
     "output_type": "stream",
     "text": [
      "\r",
      "  0%|          | 0/2 [00:00<?, ?it/s]\r",
      "Building task 'first':   0%|          | 0/2 [00:00<?, ?it/s]\r",
      "Building task 'first':  50%|█████     | 1/2 [00:03<00:03,  3.11s/it]\r",
      "Building task 'second':  50%|█████     | 1/2 [00:03<00:03,  3.11s/it]\r",
      "Building task 'second': 100%|██████████| 2/2 [00:06<00:00,  3.07s/it]\r",
      "Building task 'second': 100%|██████████| 2/2 [00:06<00:00,  3.08s/it]\n"
     ]
    }
   ],
   "source": [
    "%%sh\n",
    "ploomber build --entry-point custom.yaml --force"
   ]
  },
  {
   "cell_type": "markdown",
   "id": "a6972ac3",
   "metadata": {
    "papermill": {
     "duration": 0.069925,
     "end_time": "2021-10-19T02:14:17.294056",
     "exception": false,
     "start_time": "2021-10-19T02:14:17.224131",
     "status": "completed"
    },
    "tags": []
   },
   "source": [
    "## Custom serialization logic based on the product's extension\n",
    "\n",
    "Under many circumstances, there are more suitable formats than pickle. For example, we may want to store lists or dictionaries as JSON files and other files using pickle. The `@serializer`/`@unserializer` decorators use mapping as the first argument to dispatch to different functions depending on the product's extension. Let's see an example:"
   ]
  },
  {
   "cell_type": "markdown",
   "id": "c960d679",
   "metadata": {
    "papermill": {
     "duration": 0.069193,
     "end_time": "2021-10-19T02:14:17.431602",
     "exception": false,
     "start_time": "2021-10-19T02:14:17.362409",
     "status": "completed"
    },
    "region_name": "md",
    "tags": []
   },
   "source": [
    "```python\n",
    "# Content of custom.py\n",
    "from pathlib import Path\n",
    "import pickle\n",
    "import json\n",
    "\n",
    "from ploomber.io import serializer, unserializer\n",
    "\n",
    "\n",
    "def write_json(obj, product):\n",
    "    Path(product).write_text(json.dumps(obj))\n",
    "\n",
    "\n",
    "def read_json(product):\n",
    "    return json.loads(Path(product).read_text())\n",
    "\n",
    "\n",
    "@serializer({'.json': write_json})\n",
    "def my_serializer(obj, product):\n",
    "    Path(product).write_bytes(pickle.dumps(obj))\n",
    "\n",
    "\n",
    "@unserializer({'.json': read_json})\n",
    "def my_unserializer(product):\n",
    "    return pickle.loads(Path(product).read_bytes())\n",
    "```"
   ]
  },
  {
   "cell_type": "markdown",
   "id": "5f350a32",
   "metadata": {
    "papermill": {
     "duration": 0.07295,
     "end_time": "2021-10-19T02:14:17.574645",
     "exception": false,
     "start_time": "2021-10-19T02:14:17.501695",
     "status": "completed"
    },
    "tags": []
   },
   "source": [
    "Let's modify our example pipeline. The product in the first task does not have an extension (`output/one_dict`), hence, it will use pickle-based logic. However, the tasks in the second task have a `.json` extension, and will be saved as JSON files."
   ]
  },
  {
   "cell_type": "markdown",
   "id": "08c34e6a",
   "metadata": {
    "papermill": {
     "duration": 0.073571,
     "end_time": "2021-10-19T02:14:17.716547",
     "exception": false,
     "start_time": "2021-10-19T02:14:17.642976",
     "status": "completed"
    },
    "region_name": "md",
    "tags": []
   },
   "source": [
    "```yaml\n",
    "# Content of with-json.yaml\n",
    "serializer: custom.my_serializer\n",
    "unserializer: custom.my_unserializer\n",
    "\n",
    "tasks:\n",
    "  - source: tasks.first\n",
    "    product: output/one_dict\n",
    "  \n",
    "  - source: tasks.second\n",
    "    product:\n",
    "        another: output/another_dict.json\n",
    "        final: output/final_dict.json\n",
    "```"
   ]
  },
  {
   "cell_type": "code",
   "execution_count": 3,
   "id": "b2c57b51",
   "metadata": {
    "execution": {
     "iopub.execute_input": "2021-10-19T02:14:17.859126Z",
     "iopub.status.busy": "2021-10-19T02:14:17.858323Z",
     "iopub.status.idle": "2021-10-19T02:14:27.259647Z",
     "shell.execute_reply": "2021-10-19T02:14:27.260431Z"
    },
    "papermill": {
     "duration": 9.475742,
     "end_time": "2021-10-19T02:14:27.260643",
     "exception": false,
     "start_time": "2021-10-19T02:14:17.784901",
     "status": "completed"
    },
    "tags": []
   },
   "outputs": [
    {
     "name": "stdout",
     "output_type": "stream",
     "text": [
      "name    Ran?      Elapsed (s)    Percentage\n",
      "------  ------  -------------  ------------\n",
      "first   True         0.001193       39.7799\n",
      "second  True         0.001806       60.2201\n"
     ]
    },
    {
     "name": "stderr",
     "output_type": "stream",
     "text": [
      "\r",
      "  0%|          | 0/2 [00:00<?, ?it/s]\r",
      "Building task 'first':   0%|          | 0/2 [00:00<?, ?it/s]\r",
      "Building task 'first':  50%|█████     | 1/2 [00:03<00:03,  3.12s/it]\r",
      "Building task 'second':  50%|█████     | 1/2 [00:03<00:03,  3.12s/it]\r",
      "Building task 'second': 100%|██████████| 2/2 [00:06<00:00,  3.09s/it]\r",
      "Building task 'second': 100%|██████████| 2/2 [00:06<00:00,  3.09s/it]\n"
     ]
    }
   ],
   "source": [
    "%%sh\n",
    "ploomber build --entry-point with-json.yaml --force"
   ]
  },
  {
   "cell_type": "markdown",
   "id": "e8f872eb",
   "metadata": {
    "papermill": {
     "duration": 0.07195,
     "end_time": "2021-10-19T02:14:27.405629",
     "exception": false,
     "start_time": "2021-10-19T02:14:27.333679",
     "status": "completed"
    },
    "tags": []
   },
   "source": [
    "Let's print the `.json` files to verify they're not pickle files:"
   ]
  },
  {
   "cell_type": "code",
   "execution_count": 4,
   "id": "f5f38adf",
   "metadata": {
    "execution": {
     "iopub.execute_input": "2021-10-19T02:14:27.558343Z",
     "iopub.status.busy": "2021-10-19T02:14:27.555043Z",
     "iopub.status.idle": "2021-10-19T02:14:27.616166Z",
     "shell.execute_reply": "2021-10-19T02:14:27.616664Z"
    },
    "lines_to_next_cell": 2,
    "papermill": {
     "duration": 0.13862,
     "end_time": "2021-10-19T02:14:27.616910",
     "exception": false,
     "start_time": "2021-10-19T02:14:27.478290",
     "status": "completed"
    },
    "tags": []
   },
   "outputs": [
    {
     "name": "stdout",
     "output_type": "stream",
     "text": [
      "{\"a\": 3, \"b\": 2}"
     ]
    }
   ],
   "source": [
    "%%sh\n",
    "cat output/another_dict.json"
   ]
  },
  {
   "cell_type": "code",
   "execution_count": 5,
   "id": "d38557db",
   "metadata": {
    "execution": {
     "iopub.execute_input": "2021-10-19T02:14:27.768825Z",
     "iopub.status.busy": "2021-10-19T02:14:27.768148Z",
     "iopub.status.idle": "2021-10-19T02:14:27.829774Z",
     "shell.execute_reply": "2021-10-19T02:14:27.830349Z"
    },
    "papermill": {
     "duration": 0.141272,
     "end_time": "2021-10-19T02:14:27.830590",
     "exception": false,
     "start_time": "2021-10-19T02:14:27.689318",
     "status": "completed"
    },
    "tags": []
   },
   "outputs": [
    {
     "name": "stdout",
     "output_type": "stream",
     "text": [
      "{\"a\": 100, \"b\": 200}"
     ]
    }
   ],
   "source": [
    "%%sh\n",
    "cat output/final_dict.json"
   ]
  },
  {
   "cell_type": "markdown",
   "id": "650e3568",
   "metadata": {
    "papermill": {
     "duration": 0.07531,
     "end_time": "2021-10-19T02:14:27.979149",
     "exception": false,
     "start_time": "2021-10-19T02:14:27.903839",
     "status": "completed"
    },
    "tags": []
   },
   "source": [
    "## Using a fallback format\n",
    "\n",
    "Since it's common to have a `fallback` serialization format, the decorators have a `fallback` argument that, when enabled, uses the `pickle` module when the product's extension does not match any of the registered ones in the first argument.\n",
    "\n",
    "The example works the same as the previous one, except we don't have to write our pickle-based logic.\n",
    "\n",
    "`fallback` can also take the [joblib](https://github.com/joblib/joblib) or [cloudpickle](https://github.com/cloudpipe/cloudpickle) values. They're similar to the pickle format but have some advantages. For example, `joblib` produces smaller files when the serialized object contains many NumPy arrays, while cloudpickle supports serialization of some objects that the pickle module doesn't. To use `fallback='joblib'` or `fallback='cloudpickle'` the corresponding module must be installed."
   ]
  },
  {
   "cell_type": "markdown",
   "id": "a3013b1a",
   "metadata": {
    "papermill": {
     "duration": 0.081228,
     "end_time": "2021-10-19T02:14:28.138868",
     "exception": false,
     "start_time": "2021-10-19T02:14:28.057640",
     "status": "completed"
    },
    "region_name": "md",
    "tags": []
   },
   "source": [
    "```python\n",
    "# Content of custom.py\n",
    "\n",
    "from ploomber.io import serializer, unserializer\n",
    "\n",
    "\n",
    "@serializer({'.json': write_json}, fallback=True)\n",
    "def my_fallback_serializer(obj, product):\n",
    "    pass\n",
    "\n",
    "\n",
    "@unserializer({'.json': read_json}, fallback=True)\n",
    "def my_fallback_unserializer(product):\n",
    "    pass\n",
    "```"
   ]
  },
  {
   "cell_type": "markdown",
   "id": "12905782",
   "metadata": {
    "papermill": {
     "duration": 0.07641,
     "end_time": "2021-10-19T02:14:28.288518",
     "exception": false,
     "start_time": "2021-10-19T02:14:28.212108",
     "status": "completed"
    },
    "region_name": "md",
    "tags": []
   },
   "source": [
    "```yaml\n",
    "# Content of fallback.yaml\n",
    "serializer: custom.my_fallback_serializer\n",
    "unserializer: custom.my_fallback_unserializer\n",
    "\n",
    "tasks:\n",
    "  - source: tasks.first\n",
    "    product: output/one_dict\n",
    "  \n",
    "  - source: tasks.second\n",
    "    product:\n",
    "        another: output/another_dict.json\n",
    "        final: output/final_dict.json\n",
    "```"
   ]
  },
  {
   "cell_type": "code",
   "execution_count": 6,
   "id": "67fbdf1c",
   "metadata": {
    "execution": {
     "iopub.execute_input": "2021-10-19T02:14:28.441018Z",
     "iopub.status.busy": "2021-10-19T02:14:28.440177Z",
     "iopub.status.idle": "2021-10-19T02:14:37.774181Z",
     "shell.execute_reply": "2021-10-19T02:14:37.774774Z"
    },
    "papermill": {
     "duration": 9.413811,
     "end_time": "2021-10-19T02:14:37.774999",
     "exception": false,
     "start_time": "2021-10-19T02:14:28.361188",
     "status": "completed"
    },
    "tags": []
   },
   "outputs": [
    {
     "name": "stdout",
     "output_type": "stream",
     "text": [
      "name    Ran?      Elapsed (s)    Percentage\n",
      "------  ------  -------------  ------------\n",
      "first   True         0.002118       50.2968\n",
      "second  True         0.002093       49.7032\n"
     ]
    },
    {
     "name": "stderr",
     "output_type": "stream",
     "text": [
      "\r",
      "  0%|          | 0/2 [00:00<?, ?it/s]\r",
      "Building task 'first':   0%|          | 0/2 [00:00<?, ?it/s]\r",
      "Building task 'first':  50%|█████     | 1/2 [00:03<00:03,  3.09s/it]\r",
      "Building task 'second':  50%|█████     | 1/2 [00:03<00:03,  3.09s/it]\r",
      "Building task 'second': 100%|██████████| 2/2 [00:06<00:00,  3.08s/it]\r",
      "Building task 'second': 100%|██████████| 2/2 [00:06<00:00,  3.08s/it]\n"
     ]
    }
   ],
   "source": [
    "%%sh\n",
    "ploomber build --entry-point fallback.yaml --force"
   ]
  },
  {
   "cell_type": "markdown",
   "id": "d2bd4a33",
   "metadata": {
    "papermill": {
     "duration": 0.077195,
     "end_time": "2021-10-19T02:14:37.927940",
     "exception": false,
     "start_time": "2021-10-19T02:14:37.850745",
     "status": "completed"
    },
    "tags": []
   },
   "source": [
    "Let's print the JSON files to verify their contents:"
   ]
  },
  {
   "cell_type": "code",
   "execution_count": 7,
   "id": "6dadf0af",
   "metadata": {
    "execution": {
     "iopub.execute_input": "2021-10-19T02:14:38.097270Z",
     "iopub.status.busy": "2021-10-19T02:14:38.094034Z",
     "iopub.status.idle": "2021-10-19T02:14:38.160408Z",
     "shell.execute_reply": "2021-10-19T02:14:38.160976Z"
    },
    "papermill": {
     "duration": 0.15865,
     "end_time": "2021-10-19T02:14:38.161265",
     "exception": false,
     "start_time": "2021-10-19T02:14:38.002615",
     "status": "completed"
    },
    "tags": []
   },
   "outputs": [
    {
     "name": "stdout",
     "output_type": "stream",
     "text": [
      "{\"a\": 3, \"b\": 2}"
     ]
    }
   ],
   "source": [
    "%%sh\n",
    "cat output/another_dict.json"
   ]
  },
  {
   "cell_type": "code",
   "execution_count": 8,
   "id": "473b80ed",
   "metadata": {
    "execution": {
     "iopub.execute_input": "2021-10-19T02:14:38.320989Z",
     "iopub.status.busy": "2021-10-19T02:14:38.320195Z",
     "iopub.status.idle": "2021-10-19T02:14:38.382210Z",
     "shell.execute_reply": "2021-10-19T02:14:38.382732Z"
    },
    "papermill": {
     "duration": 0.146124,
     "end_time": "2021-10-19T02:14:38.382986",
     "exception": false,
     "start_time": "2021-10-19T02:14:38.236862",
     "status": "completed"
    },
    "tags": []
   },
   "outputs": [
    {
     "name": "stdout",
     "output_type": "stream",
     "text": [
      "{\"a\": 100, \"b\": 200}"
     ]
    }
   ],
   "source": [
    "%%sh\n",
    "cat output/final_dict.json"
   ]
  },
  {
   "cell_type": "markdown",
   "id": "d6c615f2",
   "metadata": {
    "papermill": {
     "duration": 0.082336,
     "end_time": "2021-10-19T02:14:38.540644",
     "exception": false,
     "start_time": "2021-10-19T02:14:38.458308",
     "status": "completed"
    },
    "tags": []
   },
   "source": [
    "## Using default serializers\n",
    "\n",
    "Ploomber comes with a few convenient serialization functions to write more succint serializers. We can request the use of such default serializers using the `defaults` argument, which takes a list of extensions:"
   ]
  },
  {
   "cell_type": "markdown",
   "id": "fd6add1c",
   "metadata": {
    "papermill": {
     "duration": 0.077793,
     "end_time": "2021-10-19T02:14:38.698553",
     "exception": false,
     "start_time": "2021-10-19T02:14:38.620760",
     "status": "completed"
    },
    "region_name": "md",
    "tags": []
   },
   "source": [
    "```python\n",
    "# Content of custom.py\n",
    "\n",
    "from ploomber.io import serializer, unserializer\n",
    "\n",
    "\n",
    "@serializer(fallback=True, defaults=['.json'])\n",
    "def my_defaults_serializer(obj, product):\n",
    "    pass\n",
    "\n",
    "\n",
    "@unserializer(fallback=True, defaults=['.json'])\n",
    "def my_defaults_unserializer(product):\n",
    "    pass\n",
    "```"
   ]
  },
  {
   "cell_type": "markdown",
   "id": "80d02778",
   "metadata": {
    "papermill": {
     "duration": 0.078026,
     "end_time": "2021-10-19T02:14:38.853796",
     "exception": false,
     "start_time": "2021-10-19T02:14:38.775770",
     "status": "completed"
    },
    "tags": []
   },
   "source": [
    "Here we're asking to dispatch `.json` products and use `pickle` for all other extensions, the same as we did for the previous examples, except this time, we don't have to pass the mapping argument to the decorators.\n",
    "\n",
    "`defaults` support:\n",
    "\n",
    "1. `.json`: the returned object must be JSON-serializable (e.g., a list or a dictionary)\n",
    "2. `.txt`: the returned object must be a string\n",
    "3. `.csv`: the returned object must be a `pandas.DataFrame`\n",
    "4. `.parquet`: the returned object must be a `pandas.DataFrame,` and a parquet library should be installed (such as `pyarrow`)."
   ]
  },
  {
   "cell_type": "markdown",
   "id": "28529e2a",
   "metadata": {
    "papermill": {
     "duration": 0.079939,
     "end_time": "2021-10-19T02:14:39.009410",
     "exception": false,
     "start_time": "2021-10-19T02:14:38.929471",
     "status": "completed"
    },
    "region_name": "md",
    "tags": []
   },
   "source": [
    "```yaml\n",
    "# Content of defaults.yaml\n",
    "serializer: custom.my_defaults_serializer\n",
    "unserializer: custom.my_defaults_unserializer\n",
    "\n",
    "tasks:\n",
    "  - source: tasks.first\n",
    "    product: output/one_dict\n",
    "  \n",
    "  - source: tasks.second\n",
    "    product:\n",
    "        another: output/another_dict.json\n",
    "        final: output/final_dict.json\n",
    "```"
   ]
  },
  {
   "cell_type": "code",
   "execution_count": 9,
   "id": "34add622",
   "metadata": {
    "execution": {
     "iopub.execute_input": "2021-10-19T02:14:39.180602Z",
     "iopub.status.busy": "2021-10-19T02:14:39.177170Z",
     "iopub.status.idle": "2021-10-19T02:14:49.172190Z",
     "shell.execute_reply": "2021-10-19T02:14:49.172875Z"
    },
    "papermill": {
     "duration": 10.08056,
     "end_time": "2021-10-19T02:14:49.173110",
     "exception": false,
     "start_time": "2021-10-19T02:14:39.092550",
     "status": "completed"
    },
    "tags": []
   },
   "outputs": [
    {
     "name": "stdout",
     "output_type": "stream",
     "text": [
      "name    Ran?      Elapsed (s)    Percentage\n",
      "------  ------  -------------  ------------\n",
      "first   True         0.001222        39.611\n",
      "second  True         0.001863        60.389\n"
     ]
    },
    {
     "name": "stderr",
     "output_type": "stream",
     "text": [
      "\r",
      "  0%|          | 0/2 [00:00<?, ?it/s]\r",
      "Building task 'first':   0%|          | 0/2 [00:00<?, ?it/s]\r",
      "Building task 'first':  50%|█████     | 1/2 [00:03<00:03,  3.15s/it]\r",
      "Building task 'second':  50%|█████     | 1/2 [00:03<00:03,  3.15s/it]\r",
      "Building task 'second': 100%|██████████| 2/2 [00:06<00:00,  3.44s/it]\r",
      "Building task 'second': 100%|██████████| 2/2 [00:06<00:00,  3.40s/it]\n"
     ]
    }
   ],
   "source": [
    "%%sh\n",
    "ploomber build --entry-point defaults.yaml --force"
   ]
  },
  {
   "cell_type": "markdown",
   "id": "e503b7e1",
   "metadata": {
    "papermill": {
     "duration": 0.082541,
     "end_time": "2021-10-19T02:14:49.335165",
     "exception": false,
     "start_time": "2021-10-19T02:14:49.252624",
     "status": "completed"
    },
    "tags": []
   },
   "source": [
    "Let's print the JSON files to verify their contents:"
   ]
  },
  {
   "cell_type": "code",
   "execution_count": 10,
   "id": "c517cb9e",
   "metadata": {
    "execution": {
     "iopub.execute_input": "2021-10-19T02:14:49.499805Z",
     "iopub.status.busy": "2021-10-19T02:14:49.497295Z",
     "iopub.status.idle": "2021-10-19T02:14:49.557522Z",
     "shell.execute_reply": "2021-10-19T02:14:49.558252Z"
    },
    "papermill": {
     "duration": 0.145868,
     "end_time": "2021-10-19T02:14:49.558546",
     "exception": false,
     "start_time": "2021-10-19T02:14:49.412678",
     "status": "completed"
    },
    "tags": []
   },
   "outputs": [
    {
     "name": "stdout",
     "output_type": "stream",
     "text": [
      "{\"a\": 3, \"b\": 2}"
     ]
    }
   ],
   "source": [
    "%%sh\n",
    "cat output/another_dict.json"
   ]
  },
  {
   "cell_type": "code",
   "execution_count": 11,
   "id": "0797b8f0",
   "metadata": {
    "execution": {
     "iopub.execute_input": "2021-10-19T02:14:49.729789Z",
     "iopub.status.busy": "2021-10-19T02:14:49.727039Z",
     "iopub.status.idle": "2021-10-19T02:14:49.787125Z",
     "shell.execute_reply": "2021-10-19T02:14:49.787703Z"
    },
    "papermill": {
     "duration": 0.148586,
     "end_time": "2021-10-19T02:14:49.787950",
     "exception": false,
     "start_time": "2021-10-19T02:14:49.639364",
     "status": "completed"
    },
    "tags": []
   },
   "outputs": [
    {
     "name": "stdout",
     "output_type": "stream",
     "text": [
      "{\"a\": 100, \"b\": 200}"
     ]
    }
   ],
   "source": [
    "%%sh\n",
    "cat output/final_dict.json"
   ]
  },
  {
   "cell_type": "markdown",
   "id": "a5d098ee",
   "metadata": {
    "papermill": {
     "duration": 0.081627,
     "end_time": "2021-10-19T02:14:49.948804",
     "exception": false,
     "start_time": "2021-10-19T02:14:49.867177",
     "status": "completed"
    },
    "tags": []
   },
   "source": [
    "## Wrapping up\n",
    "\n",
    "Configuring a `serializer` and `unserializer` in your `pipeline.yaml` is optional, but it helps you quickly generate a fully in-memory pipeline for serving predictions.\n",
    "\n",
    "If you want to learn more about in-memory pipelines, check out the [following guide](https://ploomber.readthedocs.io/en/latest/user-guide/deployment.html#online-service-api).\n",
    "\n",
    "For a complete example showing how to manage a training and a serving pipeline, and deploy it as a Flask API, [click here](https://github.com/ploomber/projects/tree/master/templates/ml-online)."
   ]
  }
 ],
 "metadata": {
  "kernelspec": {
   "display_name": "Python 3 (ipykernel)",
   "language": "python",
   "name": "python3"
  },
  "language_info": {
   "codemirror_mode": {
    "name": "ipython",
    "version": 3
   },
   "file_extension": ".py",
   "mimetype": "text/x-python",
   "name": "python",
   "nbconvert_exporter": "python",
   "pygments_lexer": "ipython3",
   "version": "3.9.7"
  },
  "papermill": {
   "default_parameters": {},
   "duration": 55.558174,
   "end_time": "2021-10-19T02:14:50.253475",
   "environment_variables": {},
   "exception": null,
   "input_path": "guides/serialization/_build/readme_preprocessed.ipynb",
   "output_path": "guides/serialization/README.ipynb",
   "parameters": {},
   "start_time": "2021-10-19T02:13:54.695301",
   "version": "2.3.3"
  }
 },
 "nbformat": 4,
 "nbformat_minor": 5
}