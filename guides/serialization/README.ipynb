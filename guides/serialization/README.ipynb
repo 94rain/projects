{
 "cells": [
  {
   "cell_type": "markdown",
   "id": "ac736f40",
   "metadata": {
    "papermill": {
     "duration": 0.0218,
     "end_time": "2021-09-19T22:35:57.247154",
     "exception": false,
     "start_time": "2021-09-19T22:35:57.225354",
     "status": "completed"
    },
    "tags": []
   },
   "source": [
    "\n",
    "*Note:* You can run this from your computer (Jupyter or terminal), or using Binder (does not require any installation, takes a few minutes to be ready)\n",
    "\n",
    "[![binder-logo](https://mybinder.org/badge_logo.svg)](https://mybinder.org/v2/gh/ploomber/binder-env/main?urlpath=git-pull%3Frepo%3Dhttps%253A%252F%252Fgithub.com%252Fploomber%252Fprojects%26urlpath%3Dlab%252Ftree%252Fprojects%252Fserialization%252FREADME.ipynb%26branch%3Dmaster)\n"
   ]
  },
  {
   "cell_type": "markdown",
   "id": "d0d70905",
   "metadata": {
    "papermill": {
     "duration": 0.019524,
     "end_time": "2021-09-19T22:35:57.286043",
     "exception": false,
     "start_time": "2021-09-19T22:35:57.266519",
     "status": "completed"
    },
    "tags": []
   },
   "source": [
    "# Serialization\n",
    "\n",
    "Incremental builds allow Ploomber to skip tasks whose source code hasn't changed; each task must save their products to disk to enable such a feature. However, there are some cases when we don't want our pipeline to perform disk operations. For example, if we're going to deploy our pipeline, eliminating disk operations reduces runtime considerably.\n",
    "\n",
    "To enable a pipeline to work in both disk-based and in-memory scenarios, we can declare a `serializer` and `unzerializer` in our pipeline declaration, effectively separating our task's logic from the read/write logic.\n",
    "\n",
    "Note that this only applies to function tasks; other tasks are unaffected by the `serializer`/`unserializer` configuration."
   ]
  },
  {
   "cell_type": "code",
   "execution_count": 1,
   "id": "c254ac38",
   "metadata": {
    "execution": {
     "iopub.execute_input": "2021-09-19T22:35:57.332437Z",
     "iopub.status.busy": "2021-09-19T22:35:57.331675Z",
     "iopub.status.idle": "2021-09-19T22:35:58.524011Z",
     "shell.execute_reply": "2021-09-19T22:35:58.524572Z"
    },
    "nbsphinx": "hidden",
    "papermill": {
     "duration": 1.219201,
     "end_time": "2021-09-19T22:35:58.524880",
     "exception": false,
     "start_time": "2021-09-19T22:35:57.305679",
     "status": "completed"
    },
    "tags": []
   },
   "outputs": [],
   "source": [
    "from ploomberutils import display_file"
   ]
  },
  {
   "cell_type": "markdown",
   "id": "82002b28",
   "metadata": {
    "papermill": {
     "duration": 0.01942,
     "end_time": "2021-09-19T22:35:58.563358",
     "exception": false,
     "start_time": "2021-09-19T22:35:58.543938",
     "status": "completed"
    },
    "tags": []
   },
   "source": [
    "## Built-in pickle serialization\n",
    "\n",
    "The easiest way to get started is to use the built-in serializer and unserializer, which use the `pickle` module.\n",
    "\n",
    "Let's see an example; the following pipeline has two tasks. The first one generates a dictionary, and the second one creates two dictionaries. Since we are using the pickle-based serialization, each dictionary is saved in the pickle binary format:"
   ]
  },
  {
   "cell_type": "code",
   "execution_count": 2,
   "id": "d485eae5",
   "metadata": {
    "execution": {
     "iopub.execute_input": "2021-09-19T22:35:58.607286Z",
     "iopub.status.busy": "2021-09-19T22:35:58.606637Z",
     "iopub.status.idle": "2021-09-19T22:35:58.616542Z",
     "shell.execute_reply": "2021-09-19T22:35:58.617007Z"
    },
    "papermill": {
     "duration": 0.034193,
     "end_time": "2021-09-19T22:35:58.617246",
     "exception": false,
     "start_time": "2021-09-19T22:35:58.583053",
     "status": "completed"
    },
    "tags": []
   },
   "outputs": [
    {
     "data": {
      "text/markdown": [
       "\n",
       "```yaml\n",
       "serializer: ploomber.io.serializer_pickle\n",
       "unserializer: ploomber.io.unserializer_pickle\n",
       "\n",
       "tasks:\n",
       "  - source: tasks.first\n",
       "    product: output/one_dict\n",
       "  \n",
       "  - source: tasks.second\n",
       "    product:\n",
       "        another: output/another_dict\n",
       "        final: output/final_dict\n",
       "```\n"
      ],
      "text/plain": [
       "<IPython.core.display.Markdown object>"
      ]
     },
     "metadata": {},
     "output_type": "display_data"
    }
   ],
   "source": [
    "display_file('simple.yaml')"
   ]
  },
  {
   "cell_type": "markdown",
   "id": "168cac4d",
   "metadata": {
    "papermill": {
     "duration": 0.018815,
     "end_time": "2021-09-19T22:35:58.655356",
     "exception": false,
     "start_time": "2021-09-19T22:35:58.636541",
     "status": "completed"
    },
    "tags": []
   },
   "source": [
    "Let's take a look at the task's source code:"
   ]
  },
  {
   "cell_type": "code",
   "execution_count": 3,
   "id": "3f4158fc",
   "metadata": {
    "execution": {
     "iopub.execute_input": "2021-09-19T22:35:58.699253Z",
     "iopub.status.busy": "2021-09-19T22:35:58.697982Z",
     "iopub.status.idle": "2021-09-19T22:35:58.703726Z",
     "shell.execute_reply": "2021-09-19T22:35:58.703166Z"
    },
    "papermill": {
     "duration": 0.029051,
     "end_time": "2021-09-19T22:35:58.703942",
     "exception": false,
     "start_time": "2021-09-19T22:35:58.674891",
     "status": "completed"
    },
    "tags": []
   },
   "outputs": [
    {
     "data": {
      "text/markdown": [
       "\n",
       "```py\n",
       "def first():\n",
       "    return dict(a=1, b=2)\n",
       "\n",
       "\n",
       "def second(upstream):\n",
       "    first = upstream['first']\n",
       "    another = dict(a=first['b'] + 1, b=first['a'] + 1)\n",
       "    final = dict(a=100, b=200)\n",
       "    return dict(another=another, final=final)\n",
       "```\n"
      ],
      "text/plain": [
       "<IPython.core.display.Markdown object>"
      ]
     },
     "metadata": {},
     "output_type": "display_data"
    }
   ],
   "source": [
    "display_file('tasks.py')"
   ]
  },
  {
   "cell_type": "markdown",
   "id": "3d15d62d",
   "metadata": {
    "papermill": {
     "duration": 0.019499,
     "end_time": "2021-09-19T22:35:58.743666",
     "exception": false,
     "start_time": "2021-09-19T22:35:58.724167",
     "status": "completed"
    },
    "tags": []
   },
   "source": [
    "Since we configured a `serializer` and `unserializer`, function tasks must `return` their outpues instead of saving them to disk in the function's body.\n",
    "\n",
    "`first` does not have any upstream dependencies and returns a dictionary. `second` has the previous task as dependency and returns two dictionaries. Note that the keys in the returned dictionary must match the names of the products declared in `pipeline.yaml` (`another`, `final`).\n",
    "\n",
    "Let's now run the pipeline."
   ]
  },
  {
   "cell_type": "code",
   "execution_count": 4,
   "id": "78eb85de",
   "metadata": {
    "execution": {
     "iopub.execute_input": "2021-09-19T22:35:58.790343Z",
     "iopub.status.busy": "2021-09-19T22:35:58.787435Z",
     "iopub.status.idle": "2021-09-19T22:36:01.131665Z",
     "shell.execute_reply": "2021-09-19T22:36:01.132677Z"
    },
    "papermill": {
     "duration": 2.369188,
     "end_time": "2021-09-19T22:36:01.132925",
     "exception": false,
     "start_time": "2021-09-19T22:35:58.763737",
     "status": "completed"
    },
    "tags": []
   },
   "outputs": [
    {
     "name": "stdout",
     "output_type": "stream",
     "text": [
      "name    Ran?      Elapsed (s)    Percentage\n",
      "------  ------  -------------  ------------\n",
      "first   True         0.003567       53.0409\n",
      "second  True         0.003158       46.9591\n"
     ]
    },
    {
     "name": "stderr",
     "output_type": "stream",
     "text": [
      "Building task 'second': 100%|██████████| 2/2 [00:00<00:00,  8.94it/s]\n"
     ]
    }
   ],
   "source": [
    "%%sh\n",
    "ploomber build --entry-point simple.yaml --force"
   ]
  },
  {
   "cell_type": "markdown",
   "id": "3ba856e5",
   "metadata": {
    "papermill": {
     "duration": 0.022472,
     "end_time": "2021-09-19T22:36:01.181419",
     "exception": false,
     "start_time": "2021-09-19T22:36:01.158947",
     "status": "completed"
    },
    "tags": []
   },
   "source": [
    "The pickle format has important [security concerns](https://docs.python.org/3/library/pickle.html), **remember only to unpickle data you trust**."
   ]
  },
  {
   "cell_type": "markdown",
   "id": "e78ceb04",
   "metadata": {
    "papermill": {
     "duration": 0.023384,
     "end_time": "2021-09-19T22:36:01.227867",
     "exception": false,
     "start_time": "2021-09-19T22:36:01.204483",
     "status": "completed"
    },
    "tags": []
   },
   "source": [
    "## Custom serialization logic\n",
    "\n",
    "We can also define our own serialization logic, by using the `@serializer`, and `@unserializer` decorators. Let's replicate what our pickle-based serializer/unserializer is doing as an example:"
   ]
  },
  {
   "cell_type": "code",
   "execution_count": 5,
   "id": "f1302d46",
   "metadata": {
    "execution": {
     "iopub.execute_input": "2021-09-19T22:36:01.274085Z",
     "iopub.status.busy": "2021-09-19T22:36:01.273399Z",
     "iopub.status.idle": "2021-09-19T22:36:01.401930Z",
     "shell.execute_reply": "2021-09-19T22:36:01.402458Z"
    },
    "papermill": {
     "duration": 0.154762,
     "end_time": "2021-09-19T22:36:01.402718",
     "exception": false,
     "start_time": "2021-09-19T22:36:01.247956",
     "status": "completed"
    },
    "tags": []
   },
   "outputs": [
    {
     "data": {
      "text/markdown": [
       "\n",
       "```py\n",
       "from pathlib import Path\n",
       "import pickle\n",
       "\n",
       "from ploomber.io import serializer, unserializer\n",
       "\n",
       "\n",
       "@serializer()\n",
       "def my_pickle_serializer(obj, product):\n",
       "    Path(product).write_bytes(pickle.dumps(obj))\n",
       "\n",
       "\n",
       "@unserializer()\n",
       "def my_pickle_unserializer(product):\n",
       "    return pickle.loads(Path(product).read_bytes())\n",
       "```\n"
      ],
      "text/plain": [
       "<IPython.core.display.Markdown object>"
      ]
     },
     "metadata": {},
     "output_type": "display_data"
    }
   ],
   "source": [
    "display_file('custom.py', symbols=['my_pickle_serializer', 'my_pickle_unserializer'])"
   ]
  },
  {
   "cell_type": "markdown",
   "id": "a78a9878",
   "metadata": {
    "papermill": {
     "duration": 0.021669,
     "end_time": "2021-09-19T22:36:01.444813",
     "exception": false,
     "start_time": "2021-09-19T22:36:01.423144",
     "status": "completed"
    },
    "tags": []
   },
   "source": [
    "A `@serializer` function must take two arguments: the object to serializer and the product object (taken from the task declaration). The `@unserializer` must take a single argument (the product to unserializer), and return the unserializer object.\n",
    "\n",
    "Let's modify our original pipeline to use this serializer/unserializer:"
   ]
  },
  {
   "cell_type": "code",
   "execution_count": 6,
   "id": "e72e0bdd",
   "metadata": {
    "execution": {
     "iopub.execute_input": "2021-09-19T22:36:01.494832Z",
     "iopub.status.busy": "2021-09-19T22:36:01.493884Z",
     "iopub.status.idle": "2021-09-19T22:36:01.497783Z",
     "shell.execute_reply": "2021-09-19T22:36:01.498305Z"
    },
    "papermill": {
     "duration": 0.03152,
     "end_time": "2021-09-19T22:36:01.498554",
     "exception": false,
     "start_time": "2021-09-19T22:36:01.467034",
     "status": "completed"
    },
    "tags": []
   },
   "outputs": [
    {
     "data": {
      "text/markdown": [
       "\n",
       "```yaml\n",
       "serializer: custom.my_pickle_serializer\n",
       "unserializer: custom.my_pickle_unserializer\n",
       "\n",
       "tasks:\n",
       "  - source: tasks.first\n",
       "    product: output/one_dict\n",
       "  \n",
       "  - source: tasks.second\n",
       "    product:\n",
       "        another: output/another_dict\n",
       "        final: output/final_dict\n",
       "```\n"
      ],
      "text/plain": [
       "<IPython.core.display.Markdown object>"
      ]
     },
     "metadata": {},
     "output_type": "display_data"
    }
   ],
   "source": [
    "display_file('custom.yaml')"
   ]
  },
  {
   "cell_type": "code",
   "execution_count": 7,
   "id": "c6c6d23b",
   "metadata": {
    "execution": {
     "iopub.execute_input": "2021-09-19T22:36:01.544948Z",
     "iopub.status.busy": "2021-09-19T22:36:01.544260Z",
     "iopub.status.idle": "2021-09-19T22:36:03.895918Z",
     "shell.execute_reply": "2021-09-19T22:36:03.896560Z"
    },
    "papermill": {
     "duration": 2.377523,
     "end_time": "2021-09-19T22:36:03.896896",
     "exception": false,
     "start_time": "2021-09-19T22:36:01.519373",
     "status": "completed"
    },
    "tags": []
   },
   "outputs": [
    {
     "name": "stdout",
     "output_type": "stream",
     "text": [
      "name    Ran?      Elapsed (s)    Percentage\n",
      "------  ------  -------------  ------------\n",
      "first   True         0.003283       49.0806\n",
      "second  True         0.003406       50.9194\n"
     ]
    },
    {
     "name": "stderr",
     "output_type": "stream",
     "text": [
      "Building task 'second': 100%|██████████| 2/2 [00:00<00:00,  8.87it/s]\n"
     ]
    }
   ],
   "source": [
    "%%sh\n",
    "ploomber build --entry-point custom.yaml --force"
   ]
  },
  {
   "cell_type": "markdown",
   "id": "60528a4c",
   "metadata": {
    "papermill": {
     "duration": 0.022812,
     "end_time": "2021-09-19T22:36:03.945654",
     "exception": false,
     "start_time": "2021-09-19T22:36:03.922842",
     "status": "completed"
    },
    "tags": []
   },
   "source": [
    "## Custom serialization logic based on the product's extension\n",
    "\n",
    "Under many circumstances, there are more suitable formats than pickle. For example, we may want to store lists or dictionaries as JSON files and other files using pickle. The `@serializer`/`@unserializer` decorators use mapping as the first argument to dispatch to different functions depending on the product's extension. Let's see an example:"
   ]
  },
  {
   "cell_type": "code",
   "execution_count": 8,
   "id": "567c0dec",
   "metadata": {
    "execution": {
     "iopub.execute_input": "2021-09-19T22:36:03.995369Z",
     "iopub.status.busy": "2021-09-19T22:36:03.994309Z",
     "iopub.status.idle": "2021-09-19T22:36:04.007726Z",
     "shell.execute_reply": "2021-09-19T22:36:04.008291Z"
    },
    "papermill": {
     "duration": 0.041153,
     "end_time": "2021-09-19T22:36:04.008505",
     "exception": false,
     "start_time": "2021-09-19T22:36:03.967352",
     "status": "completed"
    },
    "tags": []
   },
   "outputs": [
    {
     "data": {
      "text/markdown": [
       "\n",
       "```py\n",
       "from pathlib import Path\n",
       "import pickle\n",
       "import json\n",
       "\n",
       "from ploomber.io import serializer, unserializer\n",
       "\n",
       "\n",
       "def write_json(obj, product):\n",
       "    Path(product).write_text(json.dumps(obj))\n",
       "\n",
       "\n",
       "def read_json(product):\n",
       "    return json.loads(Path(product).read_text())\n",
       "\n",
       "\n",
       "@serializer({'.json': write_json})\n",
       "def my_serializer(obj, product):\n",
       "    Path(product).write_bytes(pickle.dumps(obj))\n",
       "\n",
       "\n",
       "@unserializer({'.json': read_json})\n",
       "def my_unserializer(product):\n",
       "    return pickle.loads(Path(product).read_bytes())\n",
       "```\n"
      ],
      "text/plain": [
       "<IPython.core.display.Markdown object>"
      ]
     },
     "metadata": {},
     "output_type": "display_data"
    }
   ],
   "source": [
    "display_file('custom.py', symbols=['write_json', 'read_json', 'my_serializer', 'my_unserializer'])"
   ]
  },
  {
   "cell_type": "markdown",
   "id": "87ff92bb",
   "metadata": {
    "papermill": {
     "duration": 0.023866,
     "end_time": "2021-09-19T22:36:04.055918",
     "exception": false,
     "start_time": "2021-09-19T22:36:04.032052",
     "status": "completed"
    },
    "tags": []
   },
   "source": [
    "Let's modify our example pipeline. The product in the first task does not have an extension (`output/one_dict`), hence, it will use pickle-based logic. However, the tasks in the second task have a `.json` extension, and will be saved as JSON files."
   ]
  },
  {
   "cell_type": "code",
   "execution_count": 9,
   "id": "97fed232",
   "metadata": {
    "execution": {
     "iopub.execute_input": "2021-09-19T22:36:04.107367Z",
     "iopub.status.busy": "2021-09-19T22:36:04.106480Z",
     "iopub.status.idle": "2021-09-19T22:36:04.110829Z",
     "shell.execute_reply": "2021-09-19T22:36:04.111423Z"
    },
    "papermill": {
     "duration": 0.033517,
     "end_time": "2021-09-19T22:36:04.111676",
     "exception": false,
     "start_time": "2021-09-19T22:36:04.078159",
     "status": "completed"
    },
    "tags": []
   },
   "outputs": [
    {
     "data": {
      "text/markdown": [
       "\n",
       "```yaml\n",
       "serializer: custom.my_serializer\n",
       "unserializer: custom.my_unserializer\n",
       "\n",
       "tasks:\n",
       "  - source: tasks.first\n",
       "    product: output/one_dict\n",
       "  \n",
       "  - source: tasks.second\n",
       "    product:\n",
       "        another: output/another_dict.json\n",
       "        final: output/final_dict.json\n",
       "```\n"
      ],
      "text/plain": [
       "<IPython.core.display.Markdown object>"
      ]
     },
     "metadata": {},
     "output_type": "display_data"
    }
   ],
   "source": [
    "display_file('with-json.yaml')"
   ]
  },
  {
   "cell_type": "code",
   "execution_count": 10,
   "id": "16a87fd5",
   "metadata": {
    "execution": {
     "iopub.execute_input": "2021-09-19T22:36:04.168644Z",
     "iopub.status.busy": "2021-09-19T22:36:04.167589Z",
     "iopub.status.idle": "2021-09-19T22:36:06.482109Z",
     "shell.execute_reply": "2021-09-19T22:36:06.482661Z"
    },
    "papermill": {
     "duration": 2.347016,
     "end_time": "2021-09-19T22:36:06.482963",
     "exception": false,
     "start_time": "2021-09-19T22:36:04.135947",
     "status": "completed"
    },
    "tags": []
   },
   "outputs": [
    {
     "name": "stdout",
     "output_type": "stream",
     "text": [
      "name    Ran?      Elapsed (s)    Percentage\n",
      "------  ------  -------------  ------------\n",
      "first   True         0.003855       49.9094\n",
      "second  True         0.003869       50.0906\n"
     ]
    },
    {
     "name": "stderr",
     "output_type": "stream",
     "text": [
      "Building task 'second': 100%|██████████| 2/2 [00:00<00:00,  8.70it/s]\n"
     ]
    }
   ],
   "source": [
    "%%sh\n",
    "ploomber build --entry-point with-json.yaml --force"
   ]
  },
  {
   "cell_type": "markdown",
   "id": "edbecdc0",
   "metadata": {
    "papermill": {
     "duration": 0.02445,
     "end_time": "2021-09-19T22:36:06.531920",
     "exception": false,
     "start_time": "2021-09-19T22:36:06.507470",
     "status": "completed"
    },
    "tags": []
   },
   "source": [
    "Let's print the `.json` files to verify they're not pickle files:"
   ]
  },
  {
   "cell_type": "code",
   "execution_count": 11,
   "id": "ada274b7",
   "metadata": {
    "execution": {
     "iopub.execute_input": "2021-09-19T22:36:06.584874Z",
     "iopub.status.busy": "2021-09-19T22:36:06.584163Z",
     "iopub.status.idle": "2021-09-19T22:36:06.588680Z",
     "shell.execute_reply": "2021-09-19T22:36:06.589204Z"
    },
    "papermill": {
     "duration": 0.034361,
     "end_time": "2021-09-19T22:36:06.589446",
     "exception": false,
     "start_time": "2021-09-19T22:36:06.555085",
     "status": "completed"
    },
    "tags": []
   },
   "outputs": [
    {
     "data": {
      "text/markdown": [
       "\n",
       "```json\n",
       "{\"a\": 3, \"b\": 2}\n",
       "```\n"
      ],
      "text/plain": [
       "<IPython.core.display.Markdown object>"
      ]
     },
     "metadata": {},
     "output_type": "display_data"
    }
   ],
   "source": [
    "display_file('output/another_dict.json')"
   ]
  },
  {
   "cell_type": "code",
   "execution_count": 12,
   "id": "b0f44743",
   "metadata": {
    "execution": {
     "iopub.execute_input": "2021-09-19T22:36:06.640360Z",
     "iopub.status.busy": "2021-09-19T22:36:06.639450Z",
     "iopub.status.idle": "2021-09-19T22:36:06.643067Z",
     "shell.execute_reply": "2021-09-19T22:36:06.643643Z"
    },
    "papermill": {
     "duration": 0.031607,
     "end_time": "2021-09-19T22:36:06.643878",
     "exception": false,
     "start_time": "2021-09-19T22:36:06.612271",
     "status": "completed"
    },
    "tags": []
   },
   "outputs": [
    {
     "data": {
      "text/markdown": [
       "\n",
       "```json\n",
       "{\"a\": 100, \"b\": 200}\n",
       "```\n"
      ],
      "text/plain": [
       "<IPython.core.display.Markdown object>"
      ]
     },
     "metadata": {},
     "output_type": "display_data"
    }
   ],
   "source": [
    "display_file('output/final_dict.json')"
   ]
  },
  {
   "cell_type": "markdown",
   "id": "79636d41",
   "metadata": {
    "papermill": {
     "duration": 0.024855,
     "end_time": "2021-09-19T22:36:06.692692",
     "exception": false,
     "start_time": "2021-09-19T22:36:06.667837",
     "status": "completed"
    },
    "tags": []
   },
   "source": [
    "## Using a fallback format\n",
    "\n",
    "Since it's common to have a `fallback` serialization format, the decorators have a `fallback` argument that, when enabled, uses the `pickle` module when the product's extension does not match any of the registered ones in the first argument.\n",
    "\n",
    "The example works the same as the previous one, except we don't have to write our pickle-based logic.\n",
    "\n",
    "`fallback` can also take the [joblib](https://github.com/joblib/joblib) or [cloudpickle](https://github.com/cloudpipe/cloudpickle) values. They're similar to the pickle format but have some advantages. For example, `joblib` produces smaller files when the serialized object contains many NumPy arrays, while cloudpickle supports serialization of some objects that the pickle module doesn't. To use `fallback='joblib'` or `fallback='cloudpickle'` the corresponding module must be installed."
   ]
  },
  {
   "cell_type": "code",
   "execution_count": 13,
   "id": "c0cb6540",
   "metadata": {
    "execution": {
     "iopub.execute_input": "2021-09-19T22:36:06.752962Z",
     "iopub.status.busy": "2021-09-19T22:36:06.752111Z",
     "iopub.status.idle": "2021-09-19T22:36:06.754856Z",
     "shell.execute_reply": "2021-09-19T22:36:06.755457Z"
    },
    "papermill": {
     "duration": 0.039785,
     "end_time": "2021-09-19T22:36:06.755700",
     "exception": false,
     "start_time": "2021-09-19T22:36:06.715915",
     "status": "completed"
    },
    "tags": []
   },
   "outputs": [
    {
     "data": {
      "text/markdown": [
       "\n",
       "```py\n",
       "from ploomber.io import serializer, unserializer\n",
       "\n",
       "\n",
       "@serializer({'.json': write_json}, fallback=True)\n",
       "def my_fallback_serializer(obj, product):\n",
       "    pass\n",
       "\n",
       "\n",
       "@unserializer({'.json': read_json}, fallback=True)\n",
       "def my_fallback_unserializer(product):\n",
       "    pass\n",
       "```\n"
      ],
      "text/plain": [
       "<IPython.core.display.Markdown object>"
      ]
     },
     "metadata": {},
     "output_type": "display_data"
    }
   ],
   "source": [
    "display_file('custom.py', symbols=['my_fallback_serializer', 'my_fallback_unserializer'])"
   ]
  },
  {
   "cell_type": "code",
   "execution_count": 14,
   "id": "fecf8952",
   "metadata": {
    "execution": {
     "iopub.execute_input": "2021-09-19T22:36:06.810684Z",
     "iopub.status.busy": "2021-09-19T22:36:06.809934Z",
     "iopub.status.idle": "2021-09-19T22:36:06.814131Z",
     "shell.execute_reply": "2021-09-19T22:36:06.813646Z"
    },
    "papermill": {
     "duration": 0.034087,
     "end_time": "2021-09-19T22:36:06.814324",
     "exception": false,
     "start_time": "2021-09-19T22:36:06.780237",
     "status": "completed"
    },
    "tags": []
   },
   "outputs": [
    {
     "data": {
      "text/markdown": [
       "\n",
       "```yaml\n",
       "serializer: custom.my_fallback_serializer\n",
       "unserializer: custom.my_fallback_unserializer\n",
       "\n",
       "tasks:\n",
       "  - source: tasks.first\n",
       "    product: output/one_dict\n",
       "  \n",
       "  - source: tasks.second\n",
       "    product:\n",
       "        another: output/another_dict.json\n",
       "        final: output/final_dict.json\n",
       "```\n"
      ],
      "text/plain": [
       "<IPython.core.display.Markdown object>"
      ]
     },
     "metadata": {},
     "output_type": "display_data"
    }
   ],
   "source": [
    "display_file('fallback.yaml')"
   ]
  },
  {
   "cell_type": "code",
   "execution_count": 15,
   "id": "1a6f9f1c",
   "metadata": {
    "execution": {
     "iopub.execute_input": "2021-09-19T22:36:06.869149Z",
     "iopub.status.busy": "2021-09-19T22:36:06.868453Z",
     "iopub.status.idle": "2021-09-19T22:36:09.200479Z",
     "shell.execute_reply": "2021-09-19T22:36:09.201070Z"
    },
    "papermill": {
     "duration": 2.36278,
     "end_time": "2021-09-19T22:36:09.201361",
     "exception": false,
     "start_time": "2021-09-19T22:36:06.838581",
     "status": "completed"
    },
    "tags": []
   },
   "outputs": [
    {
     "name": "stdout",
     "output_type": "stream",
     "text": [
      "name    Ran?      Elapsed (s)    Percentage\n",
      "------  ------  -------------  ------------\n",
      "first   True         0.003175       45.0674\n",
      "second  True         0.00387        54.9326\n"
     ]
    },
    {
     "name": "stderr",
     "output_type": "stream",
     "text": [
      "Building task 'second': 100%|██████████| 2/2 [00:00<00:00,  8.83it/s]\n"
     ]
    }
   ],
   "source": [
    "%%sh\n",
    "ploomber build --entry-point fallback.yaml --force"
   ]
  },
  {
   "cell_type": "markdown",
   "id": "83149708",
   "metadata": {
    "papermill": {
     "duration": 0.026762,
     "end_time": "2021-09-19T22:36:09.254634",
     "exception": false,
     "start_time": "2021-09-19T22:36:09.227872",
     "status": "completed"
    },
    "tags": []
   },
   "source": [
    "Let's print the JSON files to verify their contents:"
   ]
  },
  {
   "cell_type": "code",
   "execution_count": 16,
   "id": "430b6e45",
   "metadata": {
    "execution": {
     "iopub.execute_input": "2021-09-19T22:36:09.313380Z",
     "iopub.status.busy": "2021-09-19T22:36:09.312705Z",
     "iopub.status.idle": "2021-09-19T22:36:09.317236Z",
     "shell.execute_reply": "2021-09-19T22:36:09.317794Z"
    },
    "papermill": {
     "duration": 0.037615,
     "end_time": "2021-09-19T22:36:09.318086",
     "exception": false,
     "start_time": "2021-09-19T22:36:09.280471",
     "status": "completed"
    },
    "tags": []
   },
   "outputs": [
    {
     "data": {
      "text/markdown": [
       "\n",
       "```json\n",
       "{\"a\": 3, \"b\": 2}\n",
       "```\n"
      ],
      "text/plain": [
       "<IPython.core.display.Markdown object>"
      ]
     },
     "metadata": {},
     "output_type": "display_data"
    }
   ],
   "source": [
    "display_file('output/another_dict.json')"
   ]
  },
  {
   "cell_type": "code",
   "execution_count": 17,
   "id": "2e3a6b51",
   "metadata": {
    "execution": {
     "iopub.execute_input": "2021-09-19T22:36:09.376161Z",
     "iopub.status.busy": "2021-09-19T22:36:09.375301Z",
     "iopub.status.idle": "2021-09-19T22:36:09.380087Z",
     "shell.execute_reply": "2021-09-19T22:36:09.379439Z"
    },
    "papermill": {
     "duration": 0.036462,
     "end_time": "2021-09-19T22:36:09.380314",
     "exception": false,
     "start_time": "2021-09-19T22:36:09.343852",
     "status": "completed"
    },
    "tags": []
   },
   "outputs": [
    {
     "data": {
      "text/markdown": [
       "\n",
       "```json\n",
       "{\"a\": 100, \"b\": 200}\n",
       "```\n"
      ],
      "text/plain": [
       "<IPython.core.display.Markdown object>"
      ]
     },
     "metadata": {},
     "output_type": "display_data"
    }
   ],
   "source": [
    "display_file('output/final_dict.json')"
   ]
  },
  {
   "cell_type": "markdown",
   "id": "a96100ee",
   "metadata": {
    "papermill": {
     "duration": 0.026548,
     "end_time": "2021-09-19T22:36:09.432689",
     "exception": false,
     "start_time": "2021-09-19T22:36:09.406141",
     "status": "completed"
    },
    "tags": []
   },
   "source": [
    "## Using default serializers\n",
    "\n",
    "Ploomber comes with a few convenient serialization functions to write more succint serializers. We can request the use of such default serializers using the `defaults` argument, which takes a list of extensions:"
   ]
  },
  {
   "cell_type": "code",
   "execution_count": 18,
   "id": "e82b34dc",
   "metadata": {
    "execution": {
     "iopub.execute_input": "2021-09-19T22:36:09.492322Z",
     "iopub.status.busy": "2021-09-19T22:36:09.490765Z",
     "iopub.status.idle": "2021-09-19T22:36:09.502810Z",
     "shell.execute_reply": "2021-09-19T22:36:09.503409Z"
    },
    "papermill": {
     "duration": 0.043234,
     "end_time": "2021-09-19T22:36:09.503667",
     "exception": false,
     "start_time": "2021-09-19T22:36:09.460433",
     "status": "completed"
    },
    "tags": []
   },
   "outputs": [
    {
     "data": {
      "text/markdown": [
       "\n",
       "```py\n",
       "from ploomber.io import serializer, unserializer\n",
       "\n",
       "\n",
       "@serializer(fallback=True, defaults=['.json'])\n",
       "def my_defaults_serializer(obj, product):\n",
       "    pass\n",
       "\n",
       "\n",
       "@unserializer(fallback=True, defaults=['.json'])\n",
       "def my_defaults_unserializer(product):\n",
       "    pass\n",
       "```\n"
      ],
      "text/plain": [
       "<IPython.core.display.Markdown object>"
      ]
     },
     "metadata": {},
     "output_type": "display_data"
    }
   ],
   "source": [
    "display_file('custom.py', symbols=['my_defaults_serializer', 'my_defaults_unserializer'])"
   ]
  },
  {
   "cell_type": "markdown",
   "id": "9690a335",
   "metadata": {
    "papermill": {
     "duration": 0.027783,
     "end_time": "2021-09-19T22:36:09.559216",
     "exception": false,
     "start_time": "2021-09-19T22:36:09.531433",
     "status": "completed"
    },
    "tags": []
   },
   "source": [
    "Here we're asking to dispatch `.json` products and use `pickle` for all other extensions, the same as we did for the previous examples, except this time, we don't have to pass the mapping argument to the decorators.\n",
    "\n",
    "`defaults` support:\n",
    "\n",
    "1. `.json`: the returned object must be JSON-serializable (e.g., a list or a dictionary)\n",
    "2. `.txt`: the returned object must be a string\n",
    "3. `.csv`: the returned object must be a `pandas.DataFrame`\n",
    "4. `.parquet`: the returned object must be a `pandas.DataFrame,` and a parquet library should be installed (such as `pyarrow`)."
   ]
  },
  {
   "cell_type": "code",
   "execution_count": 19,
   "id": "0ec8bcda",
   "metadata": {
    "execution": {
     "iopub.execute_input": "2021-09-19T22:36:09.618569Z",
     "iopub.status.busy": "2021-09-19T22:36:09.617675Z",
     "iopub.status.idle": "2021-09-19T22:36:09.621423Z",
     "shell.execute_reply": "2021-09-19T22:36:09.621931Z"
    },
    "papermill": {
     "duration": 0.035428,
     "end_time": "2021-09-19T22:36:09.622168",
     "exception": false,
     "start_time": "2021-09-19T22:36:09.586740",
     "status": "completed"
    },
    "tags": []
   },
   "outputs": [
    {
     "data": {
      "text/markdown": [
       "\n",
       "```yaml\n",
       "serializer: custom.my_defaults_serializer\n",
       "unserializer: custom.my_defaults_unserializer\n",
       "\n",
       "tasks:\n",
       "  - source: tasks.first\n",
       "    product: output/one_dict\n",
       "  \n",
       "  - source: tasks.second\n",
       "    product:\n",
       "        another: output/another_dict.json\n",
       "        final: output/final_dict.json\n",
       "```\n"
      ],
      "text/plain": [
       "<IPython.core.display.Markdown object>"
      ]
     },
     "metadata": {},
     "output_type": "display_data"
    }
   ],
   "source": [
    "display_file('defaults.yaml')"
   ]
  },
  {
   "cell_type": "code",
   "execution_count": 20,
   "id": "e6d34b87",
   "metadata": {
    "execution": {
     "iopub.execute_input": "2021-09-19T22:36:09.680882Z",
     "iopub.status.busy": "2021-09-19T22:36:09.680076Z",
     "iopub.status.idle": "2021-09-19T22:36:12.039632Z",
     "shell.execute_reply": "2021-09-19T22:36:12.040385Z"
    },
    "papermill": {
     "duration": 2.392578,
     "end_time": "2021-09-19T22:36:12.040631",
     "exception": false,
     "start_time": "2021-09-19T22:36:09.648053",
     "status": "completed"
    },
    "tags": []
   },
   "outputs": [
    {
     "name": "stdout",
     "output_type": "stream",
     "text": [
      "name    Ran?      Elapsed (s)    Percentage\n",
      "------  ------  -------------  ------------\n",
      "first   True         0.003037       45.3825\n",
      "second  True         0.003655       54.6175\n"
     ]
    },
    {
     "name": "stderr",
     "output_type": "stream",
     "text": [
      "Building task 'second': 100%|██████████| 2/2 [00:00<00:00,  8.95it/s]\n"
     ]
    }
   ],
   "source": [
    "%%sh\n",
    "ploomber build --entry-point defaults.yaml --force"
   ]
  },
  {
   "cell_type": "markdown",
   "id": "0adc10f4",
   "metadata": {
    "papermill": {
     "duration": 0.028332,
     "end_time": "2021-09-19T22:36:12.099086",
     "exception": false,
     "start_time": "2021-09-19T22:36:12.070754",
     "status": "completed"
    },
    "tags": []
   },
   "source": [
    "Let's print the JSON files to verify their contents:"
   ]
  },
  {
   "cell_type": "code",
   "execution_count": 21,
   "id": "a4060e17",
   "metadata": {
    "execution": {
     "iopub.execute_input": "2021-09-19T22:36:12.164500Z",
     "iopub.status.busy": "2021-09-19T22:36:12.163582Z",
     "iopub.status.idle": "2021-09-19T22:36:12.167039Z",
     "shell.execute_reply": "2021-09-19T22:36:12.167594Z"
    },
    "papermill": {
     "duration": 0.038293,
     "end_time": "2021-09-19T22:36:12.167838",
     "exception": false,
     "start_time": "2021-09-19T22:36:12.129545",
     "status": "completed"
    },
    "tags": []
   },
   "outputs": [
    {
     "data": {
      "text/markdown": [
       "\n",
       "```json\n",
       "{\"a\": 3, \"b\": 2}\n",
       "```\n"
      ],
      "text/plain": [
       "<IPython.core.display.Markdown object>"
      ]
     },
     "metadata": {},
     "output_type": "display_data"
    }
   ],
   "source": [
    "display_file('output/another_dict.json')"
   ]
  },
  {
   "cell_type": "code",
   "execution_count": 22,
   "id": "164d1bc5",
   "metadata": {
    "execution": {
     "iopub.execute_input": "2021-09-19T22:36:12.230566Z",
     "iopub.status.busy": "2021-09-19T22:36:12.229757Z",
     "iopub.status.idle": "2021-09-19T22:36:12.233184Z",
     "shell.execute_reply": "2021-09-19T22:36:12.233757Z"
    },
    "papermill": {
     "duration": 0.037706,
     "end_time": "2021-09-19T22:36:12.233994",
     "exception": false,
     "start_time": "2021-09-19T22:36:12.196288",
     "status": "completed"
    },
    "tags": []
   },
   "outputs": [
    {
     "data": {
      "text/markdown": [
       "\n",
       "```json\n",
       "{\"a\": 100, \"b\": 200}\n",
       "```\n"
      ],
      "text/plain": [
       "<IPython.core.display.Markdown object>"
      ]
     },
     "metadata": {},
     "output_type": "display_data"
    }
   ],
   "source": [
    "display_file('output/final_dict.json')"
   ]
  },
  {
   "cell_type": "markdown",
   "id": "9fe61caf",
   "metadata": {
    "papermill": {
     "duration": 0.029091,
     "end_time": "2021-09-19T22:36:12.291352",
     "exception": false,
     "start_time": "2021-09-19T22:36:12.262261",
     "status": "completed"
    },
    "tags": []
   },
   "source": [
    "## Wrapping up\n",
    "\n",
    "Configuring a `serializer` and `unserializer` in your `pipeline.yaml` is optional, but it helps you quickly generate a fully in-memory pipeline for serving predictions.\n",
    "\n",
    "If you want to learn more about in-memory pipelines, check out the [following guide](https://ploomber.readthedocs.io/en/latest/user-guide/deployment.html#online-service-api).\n",
    "\n",
    "For a complete example showing how to manage a training and a serving pipeline, and deploy it as a Flask API, [click here](https://github.com/ploomber/projects/tree/master/ml-online)."
   ]
  }
 ],
 "metadata": {
  "kernelspec": {
   "display_name": "Python 3 (ipykernel)",
   "language": "python",
   "name": "python3"
  },
  "language_info": {
   "codemirror_mode": {
    "name": "ipython",
    "version": 3
   },
   "file_extension": ".py",
   "mimetype": "text/x-python",
   "name": "python",
   "nbconvert_exporter": "python",
   "pygments_lexer": "ipython3",
   "version": "3.7.10"
  },
  "papermill": {
   "duration": 16.705838,
   "end_time": "2021-09-19T22:36:12.861470",
   "exception": null,
   "input_path": "/var/folders/3h/_lvh_w_x5g30rrjzb_xnn2j80000gq/T/tmpene9fswo.ipynb",
   "output_path": "guides/serialization/README.ipynb",
   "parameters": {
    "product": "guides/serialization/README.ipynb"
   },
   "start_time": "2021-09-19T22:35:56.155632"
  }
 },
 "nbformat": 4,
 "nbformat_minor": 5
}
