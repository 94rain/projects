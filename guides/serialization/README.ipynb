{
 "cells": [
  {
   "cell_type": "markdown",
   "id": "96c5e4af",
   "metadata": {
    "papermill": {
     "duration": 0.074331,
     "end_time": "2021-10-11T03:43:39.219363",
     "exception": false,
     "start_time": "2021-10-11T03:43:39.145032",
     "status": "completed"
    },
    "tags": []
   },
   "source": [
    "# Serialization\n",
    "\n",
    "Incremental builds allow Ploomber to skip tasks whose source code hasn't changed; each task must save their products to disk to enable such a feature. However, there are some cases when we don't want our pipeline to perform disk operations. For example, if we're going to deploy our pipeline, eliminating disk operations reduces runtime considerably.\n",
    "\n",
    "To enable a pipeline to work in both disk-based and in-memory scenarios, we can declare a `serializer` and `unzerializer` in our pipeline declaration, effectively separating our task's logic from the read/write logic.\n",
    "\n",
    "Note that this only applies to function tasks; other tasks are unaffected by the `serializer`/`unserializer` configuration."
   ]
  },
  {
   "cell_type": "code",
   "execution_count": 1,
   "id": "1ea64dde",
   "metadata": {
    "execution": {
     "iopub.execute_input": "2021-10-11T03:43:39.370943Z",
     "iopub.status.busy": "2021-10-11T03:43:39.370261Z",
     "iopub.status.idle": "2021-10-11T03:43:41.086865Z",
     "shell.execute_reply": "2021-10-11T03:43:41.087432Z"
    },
    "nbsphinx": "hidden",
    "papermill": {
     "duration": 1.79548,
     "end_time": "2021-10-11T03:43:41.087859",
     "exception": false,
     "start_time": "2021-10-11T03:43:39.292379",
     "status": "completed"
    },
    "tags": []
   },
   "outputs": [],
   "source": [
    "from ploomberutils import display_file"
   ]
  },
  {
   "cell_type": "markdown",
   "id": "cdc325c6",
   "metadata": {
    "papermill": {
     "duration": 0.071519,
     "end_time": "2021-10-11T03:43:41.231430",
     "exception": false,
     "start_time": "2021-10-11T03:43:41.159911",
     "status": "completed"
    },
    "tags": []
   },
   "source": [
    "## Built-in pickle serialization\n",
    "\n",
    "The easiest way to get started is to use the built-in serializer and unserializer, which use the `pickle` module.\n",
    "\n",
    "Let's see an example; the following pipeline has two tasks. The first one generates a dictionary, and the second one creates two dictionaries. Since we are using the pickle-based serialization, each dictionary is saved in the pickle binary format:"
   ]
  },
  {
   "cell_type": "code",
   "execution_count": 2,
   "id": "62104643",
   "metadata": {
    "execution": {
     "iopub.execute_input": "2021-10-11T03:43:41.376446Z",
     "iopub.status.busy": "2021-10-11T03:43:41.375703Z",
     "iopub.status.idle": "2021-10-11T03:43:41.386050Z",
     "shell.execute_reply": "2021-10-11T03:43:41.386590Z"
    },
    "papermill": {
     "duration": 0.085248,
     "end_time": "2021-10-11T03:43:41.386818",
     "exception": false,
     "start_time": "2021-10-11T03:43:41.301570",
     "status": "completed"
    },
    "tags": []
   },
   "outputs": [
    {
     "data": {
      "text/markdown": [
       "\n",
       "```yaml\n",
       "serializer: ploomber.io.serializer_pickle\n",
       "unserializer: ploomber.io.unserializer_pickle\n",
       "\n",
       "tasks:\n",
       "  - source: tasks.first\n",
       "    product: output/one_dict\n",
       "  \n",
       "  - source: tasks.second\n",
       "    product:\n",
       "        another: output/another_dict\n",
       "        final: output/final_dict\n",
       "```\n"
      ],
      "text/plain": [
       "<IPython.core.display.Markdown object>"
      ]
     },
     "metadata": {},
     "output_type": "display_data"
    }
   ],
   "source": [
    "display_file('simple.yaml')"
   ]
  },
  {
   "cell_type": "markdown",
   "id": "a14c610e",
   "metadata": {
    "papermill": {
     "duration": 0.072283,
     "end_time": "2021-10-11T03:43:41.531047",
     "exception": false,
     "start_time": "2021-10-11T03:43:41.458764",
     "status": "completed"
    },
    "tags": []
   },
   "source": [
    "Let's take a look at the task's source code:"
   ]
  },
  {
   "cell_type": "code",
   "execution_count": 3,
   "id": "e5ca7056",
   "metadata": {
    "execution": {
     "iopub.execute_input": "2021-10-11T03:43:41.679490Z",
     "iopub.status.busy": "2021-10-11T03:43:41.678761Z",
     "iopub.status.idle": "2021-10-11T03:43:41.682330Z",
     "shell.execute_reply": "2021-10-11T03:43:41.682845Z"
    },
    "papermill": {
     "duration": 0.079403,
     "end_time": "2021-10-11T03:43:41.683094",
     "exception": false,
     "start_time": "2021-10-11T03:43:41.603691",
     "status": "completed"
    },
    "tags": []
   },
   "outputs": [
    {
     "data": {
      "text/markdown": [
       "\n",
       "```py\n",
       "def first():\n",
       "    return dict(a=1, b=2)\n",
       "\n",
       "\n",
       "def second(upstream):\n",
       "    first = upstream['first']\n",
       "    another = dict(a=first['b'] + 1, b=first['a'] + 1)\n",
       "    final = dict(a=100, b=200)\n",
       "    return dict(another=another, final=final)\n",
       "```\n"
      ],
      "text/plain": [
       "<IPython.core.display.Markdown object>"
      ]
     },
     "metadata": {},
     "output_type": "display_data"
    }
   ],
   "source": [
    "display_file('tasks.py')"
   ]
  },
  {
   "cell_type": "markdown",
   "id": "274ec44a",
   "metadata": {
    "papermill": {
     "duration": 0.072336,
     "end_time": "2021-10-11T03:43:41.830640",
     "exception": false,
     "start_time": "2021-10-11T03:43:41.758304",
     "status": "completed"
    },
    "tags": []
   },
   "source": [
    "Since we configured a `serializer` and `unserializer`, function tasks must `return` their outpues instead of saving them to disk in the function's body.\n",
    "\n",
    "`first` does not have any upstream dependencies and returns a dictionary. `second` has the previous task as dependency and returns two dictionaries. Note that the keys in the returned dictionary must match the names of the products declared in `pipeline.yaml` (`another`, `final`).\n",
    "\n",
    "Let's now run the pipeline."
   ]
  },
  {
   "cell_type": "code",
   "execution_count": 4,
   "id": "33957f0e",
   "metadata": {
    "execution": {
     "iopub.execute_input": "2021-10-11T03:43:41.986044Z",
     "iopub.status.busy": "2021-10-11T03:43:41.982617Z",
     "iopub.status.idle": "2021-10-11T03:43:48.458822Z",
     "shell.execute_reply": "2021-10-11T03:43:48.459311Z"
    },
    "papermill": {
     "duration": 6.556246,
     "end_time": "2021-10-11T03:43:48.459574",
     "exception": false,
     "start_time": "2021-10-11T03:43:41.903328",
     "status": "completed"
    },
    "tags": []
   },
   "outputs": [
    {
     "name": "stdout",
     "output_type": "stream",
     "text": [
      "name    Ran?      Elapsed (s)    Percentage\n",
      "------  ------  -------------  ------------\n",
      "first   True         0.002216       59.3624\n",
      "second  True         0.001517       40.6376\n"
     ]
    },
    {
     "name": "stderr",
     "output_type": "stream",
     "text": [
      "\r",
      "  0%|          | 0/2 [00:00<?, ?it/s]\r",
      "Building task 'first':   0%|          | 0/2 [00:00<?, ?it/s]\r",
      "Building task 'first':  50%|█████     | 1/2 [00:02<00:02,  2.09s/it]\r",
      "Building task 'second':  50%|█████     | 1/2 [00:02<00:02,  2.09s/it]\r",
      "Building task 'second': 100%|██████████| 2/2 [00:04<00:00,  2.11s/it]\r",
      "Building task 'second': 100%|██████████| 2/2 [00:04<00:00,  2.10s/it]\n"
     ]
    }
   ],
   "source": [
    "%%sh\n",
    "ploomber build --entry-point simple.yaml --force"
   ]
  },
  {
   "cell_type": "markdown",
   "id": "936f0c45",
   "metadata": {
    "papermill": {
     "duration": 0.076799,
     "end_time": "2021-10-11T03:43:48.617042",
     "exception": false,
     "start_time": "2021-10-11T03:43:48.540243",
     "status": "completed"
    },
    "tags": []
   },
   "source": [
    "The pickle format has important [security concerns](https://docs.python.org/3/library/pickle.html), **remember only to unpickle data you trust**."
   ]
  },
  {
   "cell_type": "markdown",
   "id": "fd9bd997",
   "metadata": {
    "papermill": {
     "duration": 0.097197,
     "end_time": "2021-10-11T03:43:48.790065",
     "exception": false,
     "start_time": "2021-10-11T03:43:48.692868",
     "status": "completed"
    },
    "tags": []
   },
   "source": [
    "## Custom serialization logic\n",
    "\n",
    "We can also define our own serialization logic, by using the `@serializer`, and `@unserializer` decorators. Let's replicate what our pickle-based serializer/unserializer is doing as an example:"
   ]
  },
  {
   "cell_type": "code",
   "execution_count": 5,
   "id": "31b075ff",
   "metadata": {
    "execution": {
     "iopub.execute_input": "2021-10-11T03:43:48.952466Z",
     "iopub.status.busy": "2021-10-11T03:43:48.951648Z",
     "iopub.status.idle": "2021-10-11T03:43:49.004236Z",
     "shell.execute_reply": "2021-10-11T03:43:49.004762Z"
    },
    "papermill": {
     "duration": 0.135611,
     "end_time": "2021-10-11T03:43:49.005006",
     "exception": false,
     "start_time": "2021-10-11T03:43:48.869395",
     "status": "completed"
    },
    "tags": []
   },
   "outputs": [
    {
     "data": {
      "text/markdown": [
       "\n",
       "```py\n",
       "from pathlib import Path\n",
       "import pickle\n",
       "\n",
       "from ploomber.io import serializer, unserializer\n",
       "\n",
       "\n",
       "@serializer()\n",
       "def my_pickle_serializer(obj, product):\n",
       "    Path(product).write_bytes(pickle.dumps(obj))\n",
       "\n",
       "\n",
       "@unserializer()\n",
       "def my_pickle_unserializer(product):\n",
       "    return pickle.loads(Path(product).read_bytes())\n",
       "```\n"
      ],
      "text/plain": [
       "<IPython.core.display.Markdown object>"
      ]
     },
     "metadata": {},
     "output_type": "display_data"
    }
   ],
   "source": [
    "display_file('custom.py', symbols=['my_pickle_serializer', 'my_pickle_unserializer'])"
   ]
  },
  {
   "cell_type": "markdown",
   "id": "5f243495",
   "metadata": {
    "papermill": {
     "duration": 0.076607,
     "end_time": "2021-10-11T03:43:49.161254",
     "exception": false,
     "start_time": "2021-10-11T03:43:49.084647",
     "status": "completed"
    },
    "tags": []
   },
   "source": [
    "A `@serializer` function must take two arguments: the object to serializer and the product object (taken from the task declaration). The `@unserializer` must take a single argument (the product to unserializer), and return the unserializer object.\n",
    "\n",
    "Let's modify our original pipeline to use this serializer/unserializer:"
   ]
  },
  {
   "cell_type": "code",
   "execution_count": 6,
   "id": "139c616e",
   "metadata": {
    "execution": {
     "iopub.execute_input": "2021-10-11T03:43:49.318080Z",
     "iopub.status.busy": "2021-10-11T03:43:49.317178Z",
     "iopub.status.idle": "2021-10-11T03:43:49.321211Z",
     "shell.execute_reply": "2021-10-11T03:43:49.321696Z"
    },
    "papermill": {
     "duration": 0.084746,
     "end_time": "2021-10-11T03:43:49.321995",
     "exception": false,
     "start_time": "2021-10-11T03:43:49.237249",
     "status": "completed"
    },
    "tags": []
   },
   "outputs": [
    {
     "data": {
      "text/markdown": [
       "\n",
       "```yaml\n",
       "serializer: custom.my_pickle_serializer\n",
       "unserializer: custom.my_pickle_unserializer\n",
       "\n",
       "tasks:\n",
       "  - source: tasks.first\n",
       "    product: output/one_dict\n",
       "  \n",
       "  - source: tasks.second\n",
       "    product:\n",
       "        another: output/another_dict\n",
       "        final: output/final_dict\n",
       "```\n"
      ],
      "text/plain": [
       "<IPython.core.display.Markdown object>"
      ]
     },
     "metadata": {},
     "output_type": "display_data"
    }
   ],
   "source": [
    "display_file('custom.yaml')"
   ]
  },
  {
   "cell_type": "code",
   "execution_count": 7,
   "id": "dacef2e3",
   "metadata": {
    "execution": {
     "iopub.execute_input": "2021-10-11T03:43:49.488243Z",
     "iopub.status.busy": "2021-10-11T03:43:49.487252Z",
     "iopub.status.idle": "2021-10-11T03:43:57.056853Z",
     "shell.execute_reply": "2021-10-11T03:43:57.057317Z"
    },
    "papermill": {
     "duration": 7.657208,
     "end_time": "2021-10-11T03:43:57.057526",
     "exception": false,
     "start_time": "2021-10-11T03:43:49.400318",
     "status": "completed"
    },
    "tags": []
   },
   "outputs": [
    {
     "name": "stdout",
     "output_type": "stream",
     "text": [
      "name    Ran?      Elapsed (s)    Percentage\n",
      "------  ------  -------------  ------------\n",
      "first   True         0.000982       34.3838\n",
      "second  True         0.001874       65.6162\n"
     ]
    },
    {
     "name": "stderr",
     "output_type": "stream",
     "text": [
      "\r",
      "  0%|          | 0/2 [00:00<?, ?it/s]\r",
      "Building task 'first':   0%|          | 0/2 [00:00<?, ?it/s]\r",
      "Building task 'first':  50%|█████     | 1/2 [00:02<00:02,  2.64s/it]\r",
      "Building task 'second':  50%|█████     | 1/2 [00:02<00:02,  2.64s/it]\r",
      "Building task 'second': 100%|██████████| 2/2 [00:05<00:00,  2.60s/it]\r",
      "Building task 'second': 100%|██████████| 2/2 [00:05<00:00,  2.61s/it]\n"
     ]
    }
   ],
   "source": [
    "%%sh\n",
    "ploomber build --entry-point custom.yaml --force"
   ]
  },
  {
   "cell_type": "markdown",
   "id": "d4df70fd",
   "metadata": {
    "papermill": {
     "duration": 0.090792,
     "end_time": "2021-10-11T03:43:57.232828",
     "exception": false,
     "start_time": "2021-10-11T03:43:57.142036",
     "status": "completed"
    },
    "tags": []
   },
   "source": [
    "## Custom serialization logic based on the product's extension\n",
    "\n",
    "Under many circumstances, there are more suitable formats than pickle. For example, we may want to store lists or dictionaries as JSON files and other files using pickle. The `@serializer`/`@unserializer` decorators use mapping as the first argument to dispatch to different functions depending on the product's extension. Let's see an example:"
   ]
  },
  {
   "cell_type": "code",
   "execution_count": 8,
   "id": "3355e2be",
   "metadata": {
    "execution": {
     "iopub.execute_input": "2021-10-11T03:43:57.454492Z",
     "iopub.status.busy": "2021-10-11T03:43:57.453361Z",
     "iopub.status.idle": "2021-10-11T03:43:57.467696Z",
     "shell.execute_reply": "2021-10-11T03:43:57.468141Z"
    },
    "papermill": {
     "duration": 0.112149,
     "end_time": "2021-10-11T03:43:57.468383",
     "exception": false,
     "start_time": "2021-10-11T03:43:57.356234",
     "status": "completed"
    },
    "tags": []
   },
   "outputs": [
    {
     "data": {
      "text/markdown": [
       "\n",
       "```py\n",
       "from pathlib import Path\n",
       "import pickle\n",
       "import json\n",
       "\n",
       "from ploomber.io import serializer, unserializer\n",
       "\n",
       "\n",
       "def write_json(obj, product):\n",
       "    Path(product).write_text(json.dumps(obj))\n",
       "\n",
       "\n",
       "def read_json(product):\n",
       "    return json.loads(Path(product).read_text())\n",
       "\n",
       "\n",
       "@serializer({'.json': write_json})\n",
       "def my_serializer(obj, product):\n",
       "    Path(product).write_bytes(pickle.dumps(obj))\n",
       "\n",
       "\n",
       "@unserializer({'.json': read_json})\n",
       "def my_unserializer(product):\n",
       "    return pickle.loads(Path(product).read_bytes())\n",
       "```\n"
      ],
      "text/plain": [
       "<IPython.core.display.Markdown object>"
      ]
     },
     "metadata": {},
     "output_type": "display_data"
    }
   ],
   "source": [
    "display_file('custom.py', symbols=['write_json', 'read_json', 'my_serializer', 'my_unserializer'])"
   ]
  },
  {
   "cell_type": "markdown",
   "id": "d793682d",
   "metadata": {
    "papermill": {
     "duration": 0.097231,
     "end_time": "2021-10-11T03:43:57.656432",
     "exception": false,
     "start_time": "2021-10-11T03:43:57.559201",
     "status": "completed"
    },
    "tags": []
   },
   "source": [
    "Let's modify our example pipeline. The product in the first task does not have an extension (`output/one_dict`), hence, it will use pickle-based logic. However, the tasks in the second task have a `.json` extension, and will be saved as JSON files."
   ]
  },
  {
   "cell_type": "code",
   "execution_count": 9,
   "id": "93263a25",
   "metadata": {
    "execution": {
     "iopub.execute_input": "2021-10-11T03:43:57.962435Z",
     "iopub.status.busy": "2021-10-11T03:43:57.960482Z",
     "iopub.status.idle": "2021-10-11T03:43:57.967809Z",
     "shell.execute_reply": "2021-10-11T03:43:57.968456Z"
    },
    "papermill": {
     "duration": 0.174206,
     "end_time": "2021-10-11T03:43:57.968831",
     "exception": false,
     "start_time": "2021-10-11T03:43:57.794625",
     "status": "completed"
    },
    "tags": []
   },
   "outputs": [
    {
     "data": {
      "text/markdown": [
       "\n",
       "```yaml\n",
       "serializer: custom.my_serializer\n",
       "unserializer: custom.my_unserializer\n",
       "\n",
       "tasks:\n",
       "  - source: tasks.first\n",
       "    product: output/one_dict\n",
       "  \n",
       "  - source: tasks.second\n",
       "    product:\n",
       "        another: output/another_dict.json\n",
       "        final: output/final_dict.json\n",
       "```\n"
      ],
      "text/plain": [
       "<IPython.core.display.Markdown object>"
      ]
     },
     "metadata": {},
     "output_type": "display_data"
    }
   ],
   "source": [
    "display_file('with-json.yaml')"
   ]
  },
  {
   "cell_type": "code",
   "execution_count": 10,
   "id": "39467a05",
   "metadata": {
    "execution": {
     "iopub.execute_input": "2021-10-11T03:43:58.194181Z",
     "iopub.status.busy": "2021-10-11T03:43:58.193145Z",
     "iopub.status.idle": "2021-10-11T03:44:04.766449Z",
     "shell.execute_reply": "2021-10-11T03:44:04.767040Z"
    },
    "papermill": {
     "duration": 6.684723,
     "end_time": "2021-10-11T03:44:04.767291",
     "exception": false,
     "start_time": "2021-10-11T03:43:58.082568",
     "status": "completed"
    },
    "tags": []
   },
   "outputs": [
    {
     "name": "stdout",
     "output_type": "stream",
     "text": [
      "name    Ran?      Elapsed (s)    Percentage\n",
      "------  ------  -------------  ------------\n",
      "first   True         0.000984       26.8926\n",
      "second  True         0.002675       73.1074\n"
     ]
    },
    {
     "name": "stderr",
     "output_type": "stream",
     "text": [
      "\r",
      "  0%|          | 0/2 [00:00<?, ?it/s]\r",
      "Building task 'first':   0%|          | 0/2 [00:00<?, ?it/s]\r",
      "Building task 'first':  50%|█████     | 1/2 [00:02<00:02,  2.12s/it]\r",
      "Building task 'second':  50%|█████     | 1/2 [00:02<00:02,  2.12s/it]\r",
      "Building task 'second': 100%|██████████| 2/2 [00:04<00:00,  2.13s/it]\r",
      "Building task 'second': 100%|██████████| 2/2 [00:04<00:00,  2.13s/it]\n"
     ]
    }
   ],
   "source": [
    "%%sh\n",
    "ploomber build --entry-point with-json.yaml --force"
   ]
  },
  {
   "cell_type": "markdown",
   "id": "f21efc42",
   "metadata": {
    "papermill": {
     "duration": 0.087879,
     "end_time": "2021-10-11T03:44:04.942287",
     "exception": false,
     "start_time": "2021-10-11T03:44:04.854408",
     "status": "completed"
    },
    "tags": []
   },
   "source": [
    "Let's print the `.json` files to verify they're not pickle files:"
   ]
  },
  {
   "cell_type": "code",
   "execution_count": 11,
   "id": "5fb08404",
   "metadata": {
    "execution": {
     "iopub.execute_input": "2021-10-11T03:44:05.125546Z",
     "iopub.status.busy": "2021-10-11T03:44:05.124368Z",
     "iopub.status.idle": "2021-10-11T03:44:05.128773Z",
     "shell.execute_reply": "2021-10-11T03:44:05.129476Z"
    },
    "papermill": {
     "duration": 0.098565,
     "end_time": "2021-10-11T03:44:05.129734",
     "exception": false,
     "start_time": "2021-10-11T03:44:05.031169",
     "status": "completed"
    },
    "tags": []
   },
   "outputs": [
    {
     "data": {
      "text/markdown": [
       "\n",
       "```json\n",
       "{\"a\": 3, \"b\": 2}\n",
       "```\n"
      ],
      "text/plain": [
       "<IPython.core.display.Markdown object>"
      ]
     },
     "metadata": {},
     "output_type": "display_data"
    }
   ],
   "source": [
    "display_file('output/another_dict.json')"
   ]
  },
  {
   "cell_type": "code",
   "execution_count": 12,
   "id": "165a50df",
   "metadata": {
    "execution": {
     "iopub.execute_input": "2021-10-11T03:44:05.306781Z",
     "iopub.status.busy": "2021-10-11T03:44:05.305996Z",
     "iopub.status.idle": "2021-10-11T03:44:05.309825Z",
     "shell.execute_reply": "2021-10-11T03:44:05.310542Z"
    },
    "papermill": {
     "duration": 0.094692,
     "end_time": "2021-10-11T03:44:05.310803",
     "exception": false,
     "start_time": "2021-10-11T03:44:05.216111",
     "status": "completed"
    },
    "tags": []
   },
   "outputs": [
    {
     "data": {
      "text/markdown": [
       "\n",
       "```json\n",
       "{\"a\": 100, \"b\": 200}\n",
       "```\n"
      ],
      "text/plain": [
       "<IPython.core.display.Markdown object>"
      ]
     },
     "metadata": {},
     "output_type": "display_data"
    }
   ],
   "source": [
    "display_file('output/final_dict.json')"
   ]
  },
  {
   "cell_type": "markdown",
   "id": "b6d2d945",
   "metadata": {
    "papermill": {
     "duration": 0.088385,
     "end_time": "2021-10-11T03:44:05.487898",
     "exception": false,
     "start_time": "2021-10-11T03:44:05.399513",
     "status": "completed"
    },
    "tags": []
   },
   "source": [
    "## Using a fallback format\n",
    "\n",
    "Since it's common to have a `fallback` serialization format, the decorators have a `fallback` argument that, when enabled, uses the `pickle` module when the product's extension does not match any of the registered ones in the first argument.\n",
    "\n",
    "The example works the same as the previous one, except we don't have to write our pickle-based logic.\n",
    "\n",
    "`fallback` can also take the [joblib](https://github.com/joblib/joblib) or [cloudpickle](https://github.com/cloudpipe/cloudpickle) values. They're similar to the pickle format but have some advantages. For example, `joblib` produces smaller files when the serialized object contains many NumPy arrays, while cloudpickle supports serialization of some objects that the pickle module doesn't. To use `fallback='joblib'` or `fallback='cloudpickle'` the corresponding module must be installed."
   ]
  },
  {
   "cell_type": "code",
   "execution_count": 13,
   "id": "55f6e909",
   "metadata": {
    "execution": {
     "iopub.execute_input": "2021-10-11T03:44:05.674571Z",
     "iopub.status.busy": "2021-10-11T03:44:05.672422Z",
     "iopub.status.idle": "2021-10-11T03:44:05.677857Z",
     "shell.execute_reply": "2021-10-11T03:44:05.678418Z"
    },
    "papermill": {
     "duration": 0.103499,
     "end_time": "2021-10-11T03:44:05.678664",
     "exception": false,
     "start_time": "2021-10-11T03:44:05.575165",
     "status": "completed"
    },
    "tags": []
   },
   "outputs": [
    {
     "data": {
      "text/markdown": [
       "\n",
       "```py\n",
       "from ploomber.io import serializer, unserializer\n",
       "\n",
       "\n",
       "@serializer({'.json': write_json}, fallback=True)\n",
       "def my_fallback_serializer(obj, product):\n",
       "    pass\n",
       "\n",
       "\n",
       "@unserializer({'.json': read_json}, fallback=True)\n",
       "def my_fallback_unserializer(product):\n",
       "    pass\n",
       "```\n"
      ],
      "text/plain": [
       "<IPython.core.display.Markdown object>"
      ]
     },
     "metadata": {},
     "output_type": "display_data"
    }
   ],
   "source": [
    "display_file('custom.py', symbols=['my_fallback_serializer', 'my_fallback_unserializer'])"
   ]
  },
  {
   "cell_type": "code",
   "execution_count": 14,
   "id": "c19e7ffe",
   "metadata": {
    "execution": {
     "iopub.execute_input": "2021-10-11T03:44:05.867360Z",
     "iopub.status.busy": "2021-10-11T03:44:05.866417Z",
     "iopub.status.idle": "2021-10-11T03:44:05.870353Z",
     "shell.execute_reply": "2021-10-11T03:44:05.870844Z"
    },
    "papermill": {
     "duration": 0.101227,
     "end_time": "2021-10-11T03:44:05.871052",
     "exception": false,
     "start_time": "2021-10-11T03:44:05.769825",
     "status": "completed"
    },
    "tags": []
   },
   "outputs": [
    {
     "data": {
      "text/markdown": [
       "\n",
       "```yaml\n",
       "serializer: custom.my_fallback_serializer\n",
       "unserializer: custom.my_fallback_unserializer\n",
       "\n",
       "tasks:\n",
       "  - source: tasks.first\n",
       "    product: output/one_dict\n",
       "  \n",
       "  - source: tasks.second\n",
       "    product:\n",
       "        another: output/another_dict.json\n",
       "        final: output/final_dict.json\n",
       "```\n"
      ],
      "text/plain": [
       "<IPython.core.display.Markdown object>"
      ]
     },
     "metadata": {},
     "output_type": "display_data"
    }
   ],
   "source": [
    "display_file('fallback.yaml')"
   ]
  },
  {
   "cell_type": "code",
   "execution_count": 15,
   "id": "0a941497",
   "metadata": {
    "execution": {
     "iopub.execute_input": "2021-10-11T03:44:06.063511Z",
     "iopub.status.busy": "2021-10-11T03:44:06.062800Z",
     "iopub.status.idle": "2021-10-11T03:44:12.560464Z",
     "shell.execute_reply": "2021-10-11T03:44:12.561436Z"
    },
    "papermill": {
     "duration": 6.598038,
     "end_time": "2021-10-11T03:44:12.561786",
     "exception": false,
     "start_time": "2021-10-11T03:44:05.963748",
     "status": "completed"
    },
    "tags": []
   },
   "outputs": [
    {
     "name": "stdout",
     "output_type": "stream",
     "text": [
      "name    Ran?      Elapsed (s)    Percentage\n",
      "------  ------  -------------  ------------\n",
      "first   True         0.001219        42.078\n",
      "second  True         0.001678        57.922\n"
     ]
    },
    {
     "name": "stderr",
     "output_type": "stream",
     "text": [
      "\r",
      "  0%|          | 0/2 [00:00<?, ?it/s]\r",
      "Building task 'first':   0%|          | 0/2 [00:00<?, ?it/s]\r",
      "Building task 'first':  50%|█████     | 1/2 [00:02<00:02,  2.13s/it]\r",
      "Building task 'second':  50%|█████     | 1/2 [00:02<00:02,  2.13s/it]\r",
      "Building task 'second': 100%|██████████| 2/2 [00:04<00:00,  2.14s/it]\r",
      "Building task 'second': 100%|██████████| 2/2 [00:04<00:00,  2.14s/it]\n"
     ]
    }
   ],
   "source": [
    "%%sh\n",
    "ploomber build --entry-point fallback.yaml --force"
   ]
  },
  {
   "cell_type": "markdown",
   "id": "83604ed0",
   "metadata": {
    "papermill": {
     "duration": 0.115661,
     "end_time": "2021-10-11T03:44:12.787522",
     "exception": false,
     "start_time": "2021-10-11T03:44:12.671861",
     "status": "completed"
    },
    "tags": []
   },
   "source": [
    "Let's print the JSON files to verify their contents:"
   ]
  },
  {
   "cell_type": "code",
   "execution_count": 16,
   "id": "43ab16c3",
   "metadata": {
    "execution": {
     "iopub.execute_input": "2021-10-11T03:44:13.041933Z",
     "iopub.status.busy": "2021-10-11T03:44:13.040998Z",
     "iopub.status.idle": "2021-10-11T03:44:13.046120Z",
     "shell.execute_reply": "2021-10-11T03:44:13.045477Z"
    },
    "papermill": {
     "duration": 0.133864,
     "end_time": "2021-10-11T03:44:13.046386",
     "exception": false,
     "start_time": "2021-10-11T03:44:12.912522",
     "status": "completed"
    },
    "tags": []
   },
   "outputs": [
    {
     "data": {
      "text/markdown": [
       "\n",
       "```json\n",
       "{\"a\": 3, \"b\": 2}\n",
       "```\n"
      ],
      "text/plain": [
       "<IPython.core.display.Markdown object>"
      ]
     },
     "metadata": {},
     "output_type": "display_data"
    }
   ],
   "source": [
    "display_file('output/another_dict.json')"
   ]
  },
  {
   "cell_type": "code",
   "execution_count": 17,
   "id": "89a02e92",
   "metadata": {
    "execution": {
     "iopub.execute_input": "2021-10-11T03:44:13.250401Z",
     "iopub.status.busy": "2021-10-11T03:44:13.249653Z",
     "iopub.status.idle": "2021-10-11T03:44:13.253348Z",
     "shell.execute_reply": "2021-10-11T03:44:13.253875Z"
    },
    "papermill": {
     "duration": 0.105973,
     "end_time": "2021-10-11T03:44:13.254124",
     "exception": false,
     "start_time": "2021-10-11T03:44:13.148151",
     "status": "completed"
    },
    "tags": []
   },
   "outputs": [
    {
     "data": {
      "text/markdown": [
       "\n",
       "```json\n",
       "{\"a\": 100, \"b\": 200}\n",
       "```\n"
      ],
      "text/plain": [
       "<IPython.core.display.Markdown object>"
      ]
     },
     "metadata": {},
     "output_type": "display_data"
    }
   ],
   "source": [
    "display_file('output/final_dict.json')"
   ]
  },
  {
   "cell_type": "markdown",
   "id": "fc993f1e",
   "metadata": {
    "papermill": {
     "duration": 0.101668,
     "end_time": "2021-10-11T03:44:13.454319",
     "exception": false,
     "start_time": "2021-10-11T03:44:13.352651",
     "status": "completed"
    },
    "tags": []
   },
   "source": [
    "## Using default serializers\n",
    "\n",
    "Ploomber comes with a few convenient serialization functions to write more succint serializers. We can request the use of such default serializers using the `defaults` argument, which takes a list of extensions:"
   ]
  },
  {
   "cell_type": "code",
   "execution_count": 18,
   "id": "b80fce0c",
   "metadata": {
    "execution": {
     "iopub.execute_input": "2021-10-11T03:44:13.664979Z",
     "iopub.status.busy": "2021-10-11T03:44:13.657131Z",
     "iopub.status.idle": "2021-10-11T03:44:13.668595Z",
     "shell.execute_reply": "2021-10-11T03:44:13.669293Z"
    },
    "papermill": {
     "duration": 0.113964,
     "end_time": "2021-10-11T03:44:13.669563",
     "exception": false,
     "start_time": "2021-10-11T03:44:13.555599",
     "status": "completed"
    },
    "tags": []
   },
   "outputs": [
    {
     "data": {
      "text/markdown": [
       "\n",
       "```py\n",
       "from ploomber.io import serializer, unserializer\n",
       "\n",
       "\n",
       "@serializer(fallback=True, defaults=['.json'])\n",
       "def my_defaults_serializer(obj, product):\n",
       "    pass\n",
       "\n",
       "\n",
       "@unserializer(fallback=True, defaults=['.json'])\n",
       "def my_defaults_unserializer(product):\n",
       "    pass\n",
       "```\n"
      ],
      "text/plain": [
       "<IPython.core.display.Markdown object>"
      ]
     },
     "metadata": {},
     "output_type": "display_data"
    }
   ],
   "source": [
    "display_file('custom.py', symbols=['my_defaults_serializer', 'my_defaults_unserializer'])"
   ]
  },
  {
   "cell_type": "markdown",
   "id": "c7c9413e",
   "metadata": {
    "papermill": {
     "duration": 0.124634,
     "end_time": "2021-10-11T03:44:13.907774",
     "exception": false,
     "start_time": "2021-10-11T03:44:13.783140",
     "status": "completed"
    },
    "tags": []
   },
   "source": [
    "Here we're asking to dispatch `.json` products and use `pickle` for all other extensions, the same as we did for the previous examples, except this time, we don't have to pass the mapping argument to the decorators.\n",
    "\n",
    "`defaults` support:\n",
    "\n",
    "1. `.json`: the returned object must be JSON-serializable (e.g., a list or a dictionary)\n",
    "2. `.txt`: the returned object must be a string\n",
    "3. `.csv`: the returned object must be a `pandas.DataFrame`\n",
    "4. `.parquet`: the returned object must be a `pandas.DataFrame,` and a parquet library should be installed (such as `pyarrow`)."
   ]
  },
  {
   "cell_type": "code",
   "execution_count": 19,
   "id": "8d162fac",
   "metadata": {
    "execution": {
     "iopub.execute_input": "2021-10-11T03:44:14.189382Z",
     "iopub.status.busy": "2021-10-11T03:44:14.188558Z",
     "iopub.status.idle": "2021-10-11T03:44:14.192478Z",
     "shell.execute_reply": "2021-10-11T03:44:14.193070Z"
    },
    "papermill": {
     "duration": 0.149199,
     "end_time": "2021-10-11T03:44:14.193332",
     "exception": false,
     "start_time": "2021-10-11T03:44:14.044133",
     "status": "completed"
    },
    "tags": []
   },
   "outputs": [
    {
     "data": {
      "text/markdown": [
       "\n",
       "```yaml\n",
       "serializer: custom.my_defaults_serializer\n",
       "unserializer: custom.my_defaults_unserializer\n",
       "\n",
       "tasks:\n",
       "  - source: tasks.first\n",
       "    product: output/one_dict\n",
       "  \n",
       "  - source: tasks.second\n",
       "    product:\n",
       "        another: output/another_dict.json\n",
       "        final: output/final_dict.json\n",
       "```\n"
      ],
      "text/plain": [
       "<IPython.core.display.Markdown object>"
      ]
     },
     "metadata": {},
     "output_type": "display_data"
    }
   ],
   "source": [
    "display_file('defaults.yaml')"
   ]
  },
  {
   "cell_type": "code",
   "execution_count": 20,
   "id": "84e52cc6",
   "metadata": {
    "execution": {
     "iopub.execute_input": "2021-10-11T03:44:14.401640Z",
     "iopub.status.busy": "2021-10-11T03:44:14.400753Z",
     "iopub.status.idle": "2021-10-11T03:44:21.207866Z",
     "shell.execute_reply": "2021-10-11T03:44:21.208349Z"
    },
    "papermill": {
     "duration": 6.914067,
     "end_time": "2021-10-11T03:44:21.208643",
     "exception": false,
     "start_time": "2021-10-11T03:44:14.294576",
     "status": "completed"
    },
    "tags": []
   },
   "outputs": [
    {
     "name": "stdout",
     "output_type": "stream",
     "text": [
      "name    Ran?      Elapsed (s)    Percentage\n",
      "------  ------  -------------  ------------\n",
      "first   True         0.002288       55.1591\n",
      "second  True         0.00186        44.8409\n"
     ]
    },
    {
     "name": "stderr",
     "output_type": "stream",
     "text": [
      "\r",
      "  0%|          | 0/2 [00:00<?, ?it/s]\r",
      "Building task 'first':   0%|          | 0/2 [00:00<?, ?it/s]\r",
      "Building task 'first':  50%|█████     | 1/2 [00:02<00:02,  2.18s/it]\r",
      "Building task 'second':  50%|█████     | 1/2 [00:02<00:02,  2.18s/it]\r",
      "Building task 'second': 100%|██████████| 2/2 [00:04<00:00,  2.13s/it]\r",
      "Building task 'second': 100%|██████████| 2/2 [00:04<00:00,  2.14s/it]\n"
     ]
    }
   ],
   "source": [
    "%%sh\n",
    "ploomber build --entry-point defaults.yaml --force"
   ]
  },
  {
   "cell_type": "markdown",
   "id": "115c299f",
   "metadata": {
    "papermill": {
     "duration": 0.103992,
     "end_time": "2021-10-11T03:44:21.416321",
     "exception": false,
     "start_time": "2021-10-11T03:44:21.312329",
     "status": "completed"
    },
    "tags": []
   },
   "source": [
    "Let's print the JSON files to verify their contents:"
   ]
  },
  {
   "cell_type": "code",
   "execution_count": 21,
   "id": "84e0053b",
   "metadata": {
    "execution": {
     "iopub.execute_input": "2021-10-11T03:44:21.628472Z",
     "iopub.status.busy": "2021-10-11T03:44:21.627806Z",
     "iopub.status.idle": "2021-10-11T03:44:21.632007Z",
     "shell.execute_reply": "2021-10-11T03:44:21.632490Z"
    },
    "papermill": {
     "duration": 0.113191,
     "end_time": "2021-10-11T03:44:21.632727",
     "exception": false,
     "start_time": "2021-10-11T03:44:21.519536",
     "status": "completed"
    },
    "tags": []
   },
   "outputs": [
    {
     "data": {
      "text/markdown": [
       "\n",
       "```json\n",
       "{\"a\": 3, \"b\": 2}\n",
       "```\n"
      ],
      "text/plain": [
       "<IPython.core.display.Markdown object>"
      ]
     },
     "metadata": {},
     "output_type": "display_data"
    }
   ],
   "source": [
    "display_file('output/another_dict.json')"
   ]
  },
  {
   "cell_type": "code",
   "execution_count": 22,
   "id": "33a5ca7b",
   "metadata": {
    "execution": {
     "iopub.execute_input": "2021-10-11T03:44:21.846849Z",
     "iopub.status.busy": "2021-10-11T03:44:21.846014Z",
     "iopub.status.idle": "2021-10-11T03:44:21.849582Z",
     "shell.execute_reply": "2021-10-11T03:44:21.850167Z"
    },
    "papermill": {
     "duration": 0.114939,
     "end_time": "2021-10-11T03:44:21.850430",
     "exception": false,
     "start_time": "2021-10-11T03:44:21.735491",
     "status": "completed"
    },
    "tags": []
   },
   "outputs": [
    {
     "data": {
      "text/markdown": [
       "\n",
       "```json\n",
       "{\"a\": 100, \"b\": 200}\n",
       "```\n"
      ],
      "text/plain": [
       "<IPython.core.display.Markdown object>"
      ]
     },
     "metadata": {},
     "output_type": "display_data"
    }
   ],
   "source": [
    "display_file('output/final_dict.json')"
   ]
  },
  {
   "cell_type": "markdown",
   "id": "09f39b11",
   "metadata": {
    "papermill": {
     "duration": 0.110473,
     "end_time": "2021-10-11T03:44:22.067787",
     "exception": false,
     "start_time": "2021-10-11T03:44:21.957314",
     "status": "completed"
    },
    "tags": []
   },
   "source": [
    "## Wrapping up\n",
    "\n",
    "Configuring a `serializer` and `unserializer` in your `pipeline.yaml` is optional, but it helps you quickly generate a fully in-memory pipeline for serving predictions.\n",
    "\n",
    "If you want to learn more about in-memory pipelines, check out the [following guide](https://ploomber.readthedocs.io/en/latest/user-guide/deployment.html#online-service-api).\n",
    "\n",
    "For a complete example showing how to manage a training and a serving pipeline, and deploy it as a Flask API, [click here](https://github.com/ploomber/projects/tree/master/ml-online)."
   ]
  }
 ],
 "metadata": {
  "kernelspec": {
   "display_name": "Python 3",
   "language": "python",
   "name": "python3"
  },
  "language_info": {
   "codemirror_mode": {
    "name": "ipython",
    "version": 3
   },
   "file_extension": ".py",
   "mimetype": "text/x-python",
   "name": "python",
   "nbconvert_exporter": "python",
   "pygments_lexer": "ipython3",
   "version": "3.9.7"
  },
  "papermill": {
   "default_parameters": {},
   "duration": 45.512005,
   "end_time": "2021-10-11T03:44:22.495835",
   "environment_variables": {},
   "exception": null,
   "input_path": "README.ipynb",
   "output_path": "README.ipynb",
   "parameters": {},
   "start_time": "2021-10-11T03:43:36.983830",
   "version": "2.3.3"
  }
 },
 "nbformat": 4,
 "nbformat_minor": 5
}