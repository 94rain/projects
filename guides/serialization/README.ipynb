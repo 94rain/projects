{
 "cells": [
  {
   "cell_type": "markdown",
   "id": "a225d393",
   "metadata": {
    "papermill": {
     "duration": 0.023328,
     "end_time": "2021-08-16T15:17:21.874250",
     "exception": false,
     "start_time": "2021-08-16T15:17:21.850922",
     "status": "completed"
    },
    "tags": []
   },
   "source": [
    "\n",
    "*Note:* You can run this from your computer (Jupyter or terminal), or use one of the\n",
    "hosted options:\n",
    "\n",
    "[![binder-logo](https://mybinder.org/badge_logo.svg)](https://mybinder.org/v2/gh/ploomber/binder-env/main?urlpath=git-pull%3Frepo%3Dhttps%253A%252F%252Fgithub.com%252Fploomber%252Fprojects%26urlpath%3Dlab%252Ftree%252Fprojects%252Fserialization%252FREADME.ipynb%26branch%3Dmaster)\n",
    "\n",
    "[![deepnote-logo](https://deepnote.com/buttons/launch-in-deepnote-small.svg)](https://deepnote.com/launch?template=deepnote&url=https://github.com/ploomber/projects/blob/master/serialization/README.ipynb)\n"
   ]
  },
  {
   "cell_type": "markdown",
   "id": "c0431660",
   "metadata": {
    "papermill": {
     "duration": 0.019798,
     "end_time": "2021-08-16T15:17:21.915934",
     "exception": false,
     "start_time": "2021-08-16T15:17:21.896136",
     "status": "completed"
    },
    "tags": []
   },
   "source": [
    "# Serialization\n",
    "\n",
    "Incremental builds allow Ploomber to skip tasks whose source code hasn't changed; each task must save their products to disk to enable such a feature. However, there are some cases when we don't want our pipeline to perform disk operations. For example, if we're going to deploy our pipeline, eliminating disk operations reduces runtime considerably.\n",
    "\n",
    "To enable a pipeline to work in both disk-based and in-memory scenarios, we can declare a `serializer` and `unzerializer` in our pipeline declaration, effectively separating our task's logic from the read/write logic.\n",
    "\n",
    "Note that this only applies to function tasks; other tasks are unaffected by the `serializer`/`unserializer` configuration."
   ]
  },
  {
   "cell_type": "code",
   "execution_count": 1,
   "id": "19fc8ca9",
   "metadata": {
    "execution": {
     "iopub.execute_input": "2021-08-16T15:17:21.967139Z",
     "iopub.status.busy": "2021-08-16T15:17:21.966126Z",
     "iopub.status.idle": "2021-08-16T15:17:24.496638Z",
     "shell.execute_reply": "2021-08-16T15:17:24.495962Z"
    },
    "nbsphinx": "hidden",
    "papermill": {
     "duration": 2.560116,
     "end_time": "2021-08-16T15:17:24.496842",
     "exception": false,
     "start_time": "2021-08-16T15:17:21.936726",
     "status": "completed"
    },
    "tags": []
   },
   "outputs": [],
   "source": [
    "from ploomberutils import display_file"
   ]
  },
  {
   "cell_type": "markdown",
   "id": "6a413736",
   "metadata": {
    "papermill": {
     "duration": 0.020858,
     "end_time": "2021-08-16T15:17:24.540156",
     "exception": false,
     "start_time": "2021-08-16T15:17:24.519298",
     "status": "completed"
    },
    "tags": []
   },
   "source": [
    "## Built-in pickle serialization\n",
    "\n",
    "The easiest way to get started is to use the built-in serializer and unserializer, which use the `pickle` module.\n",
    "\n",
    "Let's see an example; the following pipeline has two tasks. The first one generates a dictionary, and the second one creates two dictionaries. Since we are using the pickle-based serialization, each dictionary is saved in the pickle binary format:"
   ]
  },
  {
   "cell_type": "code",
   "execution_count": 2,
   "id": "f1607805",
   "metadata": {
    "execution": {
     "iopub.execute_input": "2021-08-16T15:17:24.588032Z",
     "iopub.status.busy": "2021-08-16T15:17:24.587353Z",
     "iopub.status.idle": "2021-08-16T15:17:24.598899Z",
     "shell.execute_reply": "2021-08-16T15:17:24.599531Z"
    },
    "papermill": {
     "duration": 0.03746,
     "end_time": "2021-08-16T15:17:24.599759",
     "exception": false,
     "start_time": "2021-08-16T15:17:24.562299",
     "status": "completed"
    },
    "tags": []
   },
   "outputs": [
    {
     "data": {
      "text/markdown": [
       "\n",
       "```yaml\n",
       "serializer: ploomber.io.serializer_pickle\n",
       "unserializer: ploomber.io.unserializer_pickle\n",
       "\n",
       "tasks:\n",
       "  - source: tasks.first\n",
       "    product: output/one_dict\n",
       "  \n",
       "  - source: tasks.second\n",
       "    product:\n",
       "        another: output/another_dict\n",
       "        final: output/final_dict\n",
       "```\n"
      ],
      "text/plain": [
       "<IPython.core.display.Markdown object>"
      ]
     },
     "metadata": {},
     "output_type": "display_data"
    }
   ],
   "source": [
    "display_file('simple.yaml')"
   ]
  },
  {
   "cell_type": "markdown",
   "id": "c485d8c4",
   "metadata": {
    "papermill": {
     "duration": 0.023247,
     "end_time": "2021-08-16T15:17:24.645057",
     "exception": false,
     "start_time": "2021-08-16T15:17:24.621810",
     "status": "completed"
    },
    "tags": []
   },
   "source": [
    "Let's take a look at the task's source code:"
   ]
  },
  {
   "cell_type": "code",
   "execution_count": 3,
   "id": "a7d12a85",
   "metadata": {
    "execution": {
     "iopub.execute_input": "2021-08-16T15:17:24.694185Z",
     "iopub.status.busy": "2021-08-16T15:17:24.692272Z",
     "iopub.status.idle": "2021-08-16T15:17:24.697449Z",
     "shell.execute_reply": "2021-08-16T15:17:24.697973Z"
    },
    "papermill": {
     "duration": 0.031256,
     "end_time": "2021-08-16T15:17:24.698318",
     "exception": false,
     "start_time": "2021-08-16T15:17:24.667062",
     "status": "completed"
    },
    "tags": []
   },
   "outputs": [
    {
     "data": {
      "text/markdown": [
       "\n",
       "```py\n",
       "def first():\n",
       "    return dict(a=1, b=2)\n",
       "\n",
       "\n",
       "def second(upstream):\n",
       "    first = upstream['first']\n",
       "    another = dict(a=first['b'] + 1, b=first['a'] + 1)\n",
       "    final = dict(a=100, b=200)\n",
       "    return dict(another=another, final=final)\n",
       "```\n"
      ],
      "text/plain": [
       "<IPython.core.display.Markdown object>"
      ]
     },
     "metadata": {},
     "output_type": "display_data"
    }
   ],
   "source": [
    "display_file('tasks.py')"
   ]
  },
  {
   "cell_type": "markdown",
   "id": "22eded1b",
   "metadata": {
    "papermill": {
     "duration": 0.023018,
     "end_time": "2021-08-16T15:17:24.745171",
     "exception": false,
     "start_time": "2021-08-16T15:17:24.722153",
     "status": "completed"
    },
    "tags": []
   },
   "source": [
    "Since we configured a `serializer` and `unserializer`, function tasks must `return` their outpues instead of saving them to disk in the function's body.\n",
    "\n",
    "`first` does not have any upstream dependencies and returns a dictionary. `second` has the previous task as dependency and returns two dictionaries. Note that the keys in the returned dictionary must match the names of the products declared in `pipeline.yaml` (`another`, `final`).\n",
    "\n",
    "Let's now run the pipeline."
   ]
  },
  {
   "cell_type": "code",
   "execution_count": 4,
   "id": "02a9053a",
   "metadata": {
    "execution": {
     "iopub.execute_input": "2021-08-16T15:17:24.793931Z",
     "iopub.status.busy": "2021-08-16T15:17:24.793028Z",
     "iopub.status.idle": "2021-08-16T15:17:36.452897Z",
     "shell.execute_reply": "2021-08-16T15:17:36.454500Z"
    },
    "papermill": {
     "duration": 11.687291,
     "end_time": "2021-08-16T15:17:36.454795",
     "exception": false,
     "start_time": "2021-08-16T15:17:24.767504",
     "status": "completed"
    },
    "tags": []
   },
   "outputs": [
    {
     "name": "stdout",
     "output_type": "stream",
     "text": [
      "name    Ran?      Elapsed (s)    Percentage\n",
      "------  ------  -------------  ------------\n",
      "first   True         0.000654       27.3984\n",
      "second  True         0.001733       72.6016\n"
     ]
    },
    {
     "name": "stderr",
     "output_type": "stream",
     "text": [
      "Building task 'second': 100%|██████████| 2/2 [00:07<00:00,  3.92s/it]\n"
     ]
    }
   ],
   "source": [
    "%%sh\n",
    "ploomber build --entry-point simple.yaml --force"
   ]
  },
  {
   "cell_type": "markdown",
   "id": "3ad62013",
   "metadata": {
    "papermill": {
     "duration": 0.028069,
     "end_time": "2021-08-16T15:17:36.517381",
     "exception": false,
     "start_time": "2021-08-16T15:17:36.489312",
     "status": "completed"
    },
    "tags": []
   },
   "source": [
    "The pickle format has important [security concerns](https://docs.python.org/3/library/pickle.html), **remember only to unpickle data you trust**."
   ]
  },
  {
   "cell_type": "markdown",
   "id": "0e5bf0fb",
   "metadata": {
    "papermill": {
     "duration": 0.021764,
     "end_time": "2021-08-16T15:17:36.560895",
     "exception": false,
     "start_time": "2021-08-16T15:17:36.539131",
     "status": "completed"
    },
    "tags": []
   },
   "source": [
    "## Custom serialization logic\n",
    "\n",
    "We can also define our own serialization logic, by using the `@serializer`, and `@unserializer` decorators. Let's replicate what our pickle-based serializer/unserializer is doing as an example:"
   ]
  },
  {
   "cell_type": "code",
   "execution_count": 5,
   "id": "16de07ae",
   "metadata": {
    "execution": {
     "iopub.execute_input": "2021-08-16T15:17:36.611775Z",
     "iopub.status.busy": "2021-08-16T15:17:36.610946Z",
     "iopub.status.idle": "2021-08-16T15:17:36.742965Z",
     "shell.execute_reply": "2021-08-16T15:17:36.743586Z"
    },
    "papermill": {
     "duration": 0.161668,
     "end_time": "2021-08-16T15:17:36.743868",
     "exception": false,
     "start_time": "2021-08-16T15:17:36.582200",
     "status": "completed"
    },
    "tags": []
   },
   "outputs": [
    {
     "data": {
      "text/markdown": [
       "\n",
       "```py\n",
       "from pathlib import Path\n",
       "import pickle\n",
       "\n",
       "from ploomber.io import serializer, unserializer\n",
       "\n",
       "\n",
       "@serializer()\n",
       "def my_pickle_serializer(obj, product):\n",
       "    Path(product).write_bytes(pickle.dumps(obj))\n",
       "\n",
       "\n",
       "@unserializer()\n",
       "def my_pickle_unserializer(product):\n",
       "    return pickle.loads(Path(product).read_bytes())\n",
       "```\n"
      ],
      "text/plain": [
       "<IPython.core.display.Markdown object>"
      ]
     },
     "metadata": {},
     "output_type": "display_data"
    }
   ],
   "source": [
    "display_file('custom.py', symbols=['my_pickle_serializer', 'my_pickle_unserializer'])"
   ]
  },
  {
   "cell_type": "markdown",
   "id": "a8938f73",
   "metadata": {
    "papermill": {
     "duration": 0.022616,
     "end_time": "2021-08-16T15:17:36.788575",
     "exception": false,
     "start_time": "2021-08-16T15:17:36.765959",
     "status": "completed"
    },
    "tags": []
   },
   "source": [
    "A `@serializer` function must take two arguments: the object to serializer and the product object (taken from the task declaration). The `@unserializer` must take a single argument (the product to unserializer), and return the unserializer object.\n",
    "\n",
    "Let's modify our original pipeline to use this serializer/unserializer:"
   ]
  },
  {
   "cell_type": "code",
   "execution_count": 6,
   "id": "ece42782",
   "metadata": {
    "execution": {
     "iopub.execute_input": "2021-08-16T15:17:36.837294Z",
     "iopub.status.busy": "2021-08-16T15:17:36.836473Z",
     "iopub.status.idle": "2021-08-16T15:17:36.840025Z",
     "shell.execute_reply": "2021-08-16T15:17:36.840723Z"
    },
    "papermill": {
     "duration": 0.029976,
     "end_time": "2021-08-16T15:17:36.840927",
     "exception": false,
     "start_time": "2021-08-16T15:17:36.810951",
     "status": "completed"
    },
    "tags": []
   },
   "outputs": [
    {
     "data": {
      "text/markdown": [
       "\n",
       "```yaml\n",
       "serializer: custom.my_pickle_serializer\n",
       "unserializer: custom.my_pickle_unserializer\n",
       "\n",
       "tasks:\n",
       "  - source: tasks.first\n",
       "    product: output/one_dict\n",
       "  \n",
       "  - source: tasks.second\n",
       "    product:\n",
       "        another: output/another_dict\n",
       "        final: output/final_dict\n",
       "```\n"
      ],
      "text/plain": [
       "<IPython.core.display.Markdown object>"
      ]
     },
     "metadata": {},
     "output_type": "display_data"
    }
   ],
   "source": [
    "display_file('custom.yaml')"
   ]
  },
  {
   "cell_type": "code",
   "execution_count": 7,
   "id": "774223df",
   "metadata": {
    "execution": {
     "iopub.execute_input": "2021-08-16T15:17:36.890683Z",
     "iopub.status.busy": "2021-08-16T15:17:36.889867Z",
     "iopub.status.idle": "2021-08-16T15:17:48.095479Z",
     "shell.execute_reply": "2021-08-16T15:17:48.096117Z"
    },
    "papermill": {
     "duration": 11.23252,
     "end_time": "2021-08-16T15:17:48.096338",
     "exception": false,
     "start_time": "2021-08-16T15:17:36.863818",
     "status": "completed"
    },
    "tags": []
   },
   "outputs": [
    {
     "name": "stdout",
     "output_type": "stream",
     "text": [
      "name    Ran?      Elapsed (s)    Percentage\n",
      "------  ------  -------------  ------------\n",
      "first   True         0.000648       27.9431\n",
      "second  True         0.001671       72.0569\n"
     ]
    },
    {
     "name": "stderr",
     "output_type": "stream",
     "text": [
      "Building task 'second': 100%|██████████| 2/2 [00:07<00:00,  3.59s/it]\n"
     ]
    }
   ],
   "source": [
    "%%sh\n",
    "ploomber build --entry-point custom.yaml --force"
   ]
  },
  {
   "cell_type": "markdown",
   "id": "93df361c",
   "metadata": {
    "papermill": {
     "duration": 0.025258,
     "end_time": "2021-08-16T15:17:48.146365",
     "exception": false,
     "start_time": "2021-08-16T15:17:48.121107",
     "status": "completed"
    },
    "tags": []
   },
   "source": [
    "## Custom serialization logic based on the product's extension\n",
    "\n",
    "Under many circumstances, there are more suitable formats than pickle. For example, we may want to store lists or dictionaries as JSON files and other files using pickle. The `@serializer`/`@unserializer` decorators use mapping as the first argument to dispatch to different functions depending on the product's extension. Let's see an example:"
   ]
  },
  {
   "cell_type": "code",
   "execution_count": 8,
   "id": "fcd66502",
   "metadata": {
    "execution": {
     "iopub.execute_input": "2021-08-16T15:17:48.199470Z",
     "iopub.status.busy": "2021-08-16T15:17:48.198687Z",
     "iopub.status.idle": "2021-08-16T15:17:48.212387Z",
     "shell.execute_reply": "2021-08-16T15:17:48.212902Z"
    },
    "papermill": {
     "duration": 0.043302,
     "end_time": "2021-08-16T15:17:48.213180",
     "exception": false,
     "start_time": "2021-08-16T15:17:48.169878",
     "status": "completed"
    },
    "tags": []
   },
   "outputs": [
    {
     "data": {
      "text/markdown": [
       "\n",
       "```py\n",
       "from pathlib import Path\n",
       "import pickle\n",
       "import json\n",
       "\n",
       "from ploomber.io import serializer, unserializer\n",
       "\n",
       "\n",
       "def write_json(obj, product):\n",
       "    Path(product).write_text(json.dumps(obj))\n",
       "\n",
       "\n",
       "def read_json(product):\n",
       "    return json.loads(Path(product).read_text())\n",
       "\n",
       "\n",
       "@serializer({'.json': write_json})\n",
       "def my_serializer(obj, product):\n",
       "    Path(product).write_bytes(pickle.dumps(obj))\n",
       "\n",
       "\n",
       "@unserializer({'.json': read_json})\n",
       "def my_unserializer(product):\n",
       "    return pickle.loads(Path(product).read_bytes())\n",
       "```\n"
      ],
      "text/plain": [
       "<IPython.core.display.Markdown object>"
      ]
     },
     "metadata": {},
     "output_type": "display_data"
    }
   ],
   "source": [
    "display_file('custom.py', symbols=['write_json', 'read_json', 'my_serializer', 'my_unserializer'])"
   ]
  },
  {
   "cell_type": "markdown",
   "id": "43fdf8ab",
   "metadata": {
    "papermill": {
     "duration": 0.024682,
     "end_time": "2021-08-16T15:17:48.261746",
     "exception": false,
     "start_time": "2021-08-16T15:17:48.237064",
     "status": "completed"
    },
    "tags": []
   },
   "source": [
    "Let's modify our example pipeline. The product in the first task does not have an extension (`output/one_dict`), hence, it will use pickle-based logic. However, the tasks in the second task have a `.json` extension, and will be saved as JSON files."
   ]
  },
  {
   "cell_type": "code",
   "execution_count": 9,
   "id": "f05096b9",
   "metadata": {
    "execution": {
     "iopub.execute_input": "2021-08-16T15:17:48.314084Z",
     "iopub.status.busy": "2021-08-16T15:17:48.313385Z",
     "iopub.status.idle": "2021-08-16T15:17:48.317288Z",
     "shell.execute_reply": "2021-08-16T15:17:48.317892Z"
    },
    "papermill": {
     "duration": 0.032912,
     "end_time": "2021-08-16T15:17:48.318135",
     "exception": false,
     "start_time": "2021-08-16T15:17:48.285223",
     "status": "completed"
    },
    "tags": []
   },
   "outputs": [
    {
     "data": {
      "text/markdown": [
       "\n",
       "```yaml\n",
       "serializer: custom.my_serializer\n",
       "unserializer: custom.my_unserializer\n",
       "\n",
       "tasks:\n",
       "  - source: tasks.first\n",
       "    product: output/one_dict\n",
       "  \n",
       "  - source: tasks.second\n",
       "    product:\n",
       "        another: output/another_dict.json\n",
       "        final: output/final_dict.json\n",
       "```\n"
      ],
      "text/plain": [
       "<IPython.core.display.Markdown object>"
      ]
     },
     "metadata": {},
     "output_type": "display_data"
    }
   ],
   "source": [
    "display_file('with-json.yaml')"
   ]
  },
  {
   "cell_type": "code",
   "execution_count": 10,
   "id": "f9f38be3",
   "metadata": {
    "execution": {
     "iopub.execute_input": "2021-08-16T15:17:48.372743Z",
     "iopub.status.busy": "2021-08-16T15:17:48.372021Z",
     "iopub.status.idle": "2021-08-16T15:17:58.846289Z",
     "shell.execute_reply": "2021-08-16T15:17:58.846844Z"
    },
    "papermill": {
     "duration": 10.503255,
     "end_time": "2021-08-16T15:17:58.847145",
     "exception": false,
     "start_time": "2021-08-16T15:17:48.343890",
     "status": "completed"
    },
    "tags": []
   },
   "outputs": [
    {
     "name": "stdout",
     "output_type": "stream",
     "text": [
      "name    Ran?      Elapsed (s)    Percentage\n",
      "------  ------  -------------  ------------\n",
      "first   True         0.000634        20.076\n",
      "second  True         0.002524        79.924\n"
     ]
    },
    {
     "name": "stderr",
     "output_type": "stream",
     "text": [
      "Building task 'second': 100%|██████████| 2/2 [00:06<00:00,  3.44s/it]\n"
     ]
    }
   ],
   "source": [
    "%%sh\n",
    "ploomber build --entry-point with-json.yaml --force"
   ]
  },
  {
   "cell_type": "markdown",
   "id": "1e95b065",
   "metadata": {
    "papermill": {
     "duration": 0.024829,
     "end_time": "2021-08-16T15:17:58.897025",
     "exception": false,
     "start_time": "2021-08-16T15:17:58.872196",
     "status": "completed"
    },
    "tags": []
   },
   "source": [
    "Let's print the `.json` files to verify they're not pickle files:"
   ]
  },
  {
   "cell_type": "code",
   "execution_count": 11,
   "id": "d6f64f63",
   "metadata": {
    "execution": {
     "iopub.execute_input": "2021-08-16T15:17:58.953117Z",
     "iopub.status.busy": "2021-08-16T15:17:58.952230Z",
     "iopub.status.idle": "2021-08-16T15:17:58.957012Z",
     "shell.execute_reply": "2021-08-16T15:17:58.957574Z"
    },
    "papermill": {
     "duration": 0.035412,
     "end_time": "2021-08-16T15:17:58.957849",
     "exception": false,
     "start_time": "2021-08-16T15:17:58.922437",
     "status": "completed"
    },
    "tags": []
   },
   "outputs": [
    {
     "data": {
      "text/markdown": [
       "\n",
       "```json\n",
       "{\"a\": 3, \"b\": 2}\n",
       "```\n"
      ],
      "text/plain": [
       "<IPython.core.display.Markdown object>"
      ]
     },
     "metadata": {},
     "output_type": "display_data"
    }
   ],
   "source": [
    "display_file('output/another_dict.json')"
   ]
  },
  {
   "cell_type": "code",
   "execution_count": 12,
   "id": "ad2a199b",
   "metadata": {
    "execution": {
     "iopub.execute_input": "2021-08-16T15:17:59.013777Z",
     "iopub.status.busy": "2021-08-16T15:17:59.012928Z",
     "iopub.status.idle": "2021-08-16T15:17:59.017111Z",
     "shell.execute_reply": "2021-08-16T15:17:59.017675Z"
    },
    "papermill": {
     "duration": 0.034483,
     "end_time": "2021-08-16T15:17:59.017902",
     "exception": false,
     "start_time": "2021-08-16T15:17:58.983419",
     "status": "completed"
    },
    "tags": []
   },
   "outputs": [
    {
     "data": {
      "text/markdown": [
       "\n",
       "```json\n",
       "{\"a\": 100, \"b\": 200}\n",
       "```\n"
      ],
      "text/plain": [
       "<IPython.core.display.Markdown object>"
      ]
     },
     "metadata": {},
     "output_type": "display_data"
    }
   ],
   "source": [
    "display_file('output/final_dict.json')"
   ]
  },
  {
   "cell_type": "markdown",
   "id": "3352ba93",
   "metadata": {
    "papermill": {
     "duration": 0.025544,
     "end_time": "2021-08-16T15:17:59.069392",
     "exception": false,
     "start_time": "2021-08-16T15:17:59.043848",
     "status": "completed"
    },
    "tags": []
   },
   "source": [
    "## Using a fallback format\n",
    "\n",
    "Since it's common to have a `fallback` serialization format, the decorators have a `fallback` argument that, when enabled, uses the `pickle` module when the product's extension does not match any of the registered ones in the first argument.\n",
    "\n",
    "The example works the same as the previous one, except we don't have to write our pickle-based logic.\n",
    "\n",
    "`fallback` can also take the [joblib](https://github.com/joblib/joblib) or [cloudpickle](https://github.com/cloudpipe/cloudpickle) values. They're similar to the pickle format but have some advantages. For example, `joblib` produces smaller files when the serialized object contains many NumPy arrays, while cloudpickle supports serialization of some objects that the pickle module doesn't. To use `fallback='joblib'` or `fallback='cloudpickle'` the corresponding module must be installed."
   ]
  },
  {
   "cell_type": "code",
   "execution_count": 13,
   "id": "f07c206e",
   "metadata": {
    "execution": {
     "iopub.execute_input": "2021-08-16T15:17:59.136597Z",
     "iopub.status.busy": "2021-08-16T15:17:59.128178Z",
     "iopub.status.idle": "2021-08-16T15:17:59.140251Z",
     "shell.execute_reply": "2021-08-16T15:17:59.140774Z"
    },
    "papermill": {
     "duration": 0.045114,
     "end_time": "2021-08-16T15:17:59.141054",
     "exception": false,
     "start_time": "2021-08-16T15:17:59.095940",
     "status": "completed"
    },
    "tags": []
   },
   "outputs": [
    {
     "data": {
      "text/markdown": [
       "\n",
       "```py\n",
       "from ploomber.io import serializer, unserializer\n",
       "\n",
       "\n",
       "@serializer({'.json': write_json}, fallback=True)\n",
       "def my_fallback_serializer(obj, product):\n",
       "    pass\n",
       "\n",
       "\n",
       "@unserializer({'.json': read_json}, fallback=True)\n",
       "def my_fallback_unserializer(product):\n",
       "    pass\n",
       "```\n"
      ],
      "text/plain": [
       "<IPython.core.display.Markdown object>"
      ]
     },
     "metadata": {},
     "output_type": "display_data"
    }
   ],
   "source": [
    "display_file('custom.py', symbols=['my_fallback_serializer', 'my_fallback_unserializer'])"
   ]
  },
  {
   "cell_type": "code",
   "execution_count": 14,
   "id": "6cec54b1",
   "metadata": {
    "execution": {
     "iopub.execute_input": "2021-08-16T15:17:59.199893Z",
     "iopub.status.busy": "2021-08-16T15:17:59.198983Z",
     "iopub.status.idle": "2021-08-16T15:17:59.202913Z",
     "shell.execute_reply": "2021-08-16T15:17:59.203464Z"
    },
    "papermill": {
     "duration": 0.035808,
     "end_time": "2021-08-16T15:17:59.203676",
     "exception": false,
     "start_time": "2021-08-16T15:17:59.167868",
     "status": "completed"
    },
    "tags": []
   },
   "outputs": [
    {
     "data": {
      "text/markdown": [
       "\n",
       "```yaml\n",
       "serializer: custom.my_fallback_serializer\n",
       "unserializer: custom.my_fallback_unserializer\n",
       "\n",
       "tasks:\n",
       "  - source: tasks.first\n",
       "    product: output/one_dict\n",
       "  \n",
       "  - source: tasks.second\n",
       "    product:\n",
       "        another: output/another_dict.json\n",
       "        final: output/final_dict.json\n",
       "```\n"
      ],
      "text/plain": [
       "<IPython.core.display.Markdown object>"
      ]
     },
     "metadata": {},
     "output_type": "display_data"
    }
   ],
   "source": [
    "display_file('fallback.yaml')"
   ]
  },
  {
   "cell_type": "code",
   "execution_count": 15,
   "id": "b894b15a",
   "metadata": {
    "execution": {
     "iopub.execute_input": "2021-08-16T15:17:59.264515Z",
     "iopub.status.busy": "2021-08-16T15:17:59.263775Z",
     "iopub.status.idle": "2021-08-16T15:18:10.580825Z",
     "shell.execute_reply": "2021-08-16T15:18:10.581508Z"
    },
    "papermill": {
     "duration": 11.350313,
     "end_time": "2021-08-16T15:18:10.581786",
     "exception": false,
     "start_time": "2021-08-16T15:17:59.231473",
     "status": "completed"
    },
    "tags": []
   },
   "outputs": [
    {
     "name": "stdout",
     "output_type": "stream",
     "text": [
      "name    Ran?      Elapsed (s)    Percentage\n",
      "------  ------  -------------  ------------\n",
      "first   True         0.000623       26.9464\n",
      "second  True         0.001689       73.0536\n"
     ]
    },
    {
     "name": "stderr",
     "output_type": "stream",
     "text": [
      "Building task 'second': 100%|██████████| 2/2 [00:07<00:00,  3.90s/it]\n"
     ]
    }
   ],
   "source": [
    "%%sh\n",
    "ploomber build --entry-point fallback.yaml --force"
   ]
  },
  {
   "cell_type": "markdown",
   "id": "91df1aa7",
   "metadata": {
    "papermill": {
     "duration": 0.027317,
     "end_time": "2021-08-16T15:18:10.637045",
     "exception": false,
     "start_time": "2021-08-16T15:18:10.609728",
     "status": "completed"
    },
    "tags": []
   },
   "source": [
    "Let's print the JSON files to verify their contents:"
   ]
  },
  {
   "cell_type": "code",
   "execution_count": 16,
   "id": "516433c6",
   "metadata": {
    "execution": {
     "iopub.execute_input": "2021-08-16T15:18:10.700193Z",
     "iopub.status.busy": "2021-08-16T15:18:10.699345Z",
     "iopub.status.idle": "2021-08-16T15:18:10.703331Z",
     "shell.execute_reply": "2021-08-16T15:18:10.704134Z"
    },
    "papermill": {
     "duration": 0.038489,
     "end_time": "2021-08-16T15:18:10.704373",
     "exception": false,
     "start_time": "2021-08-16T15:18:10.665884",
     "status": "completed"
    },
    "tags": []
   },
   "outputs": [
    {
     "data": {
      "text/markdown": [
       "\n",
       "```json\n",
       "{\"a\": 3, \"b\": 2}\n",
       "```\n"
      ],
      "text/plain": [
       "<IPython.core.display.Markdown object>"
      ]
     },
     "metadata": {},
     "output_type": "display_data"
    }
   ],
   "source": [
    "display_file('output/another_dict.json')"
   ]
  },
  {
   "cell_type": "code",
   "execution_count": 17,
   "id": "f5f1d59f",
   "metadata": {
    "execution": {
     "iopub.execute_input": "2021-08-16T15:18:10.764489Z",
     "iopub.status.busy": "2021-08-16T15:18:10.763554Z",
     "iopub.status.idle": "2021-08-16T15:18:10.767978Z",
     "shell.execute_reply": "2021-08-16T15:18:10.767411Z"
    },
    "papermill": {
     "duration": 0.035869,
     "end_time": "2021-08-16T15:18:10.768264",
     "exception": false,
     "start_time": "2021-08-16T15:18:10.732395",
     "status": "completed"
    },
    "tags": []
   },
   "outputs": [
    {
     "data": {
      "text/markdown": [
       "\n",
       "```json\n",
       "{\"a\": 100, \"b\": 200}\n",
       "```\n"
      ],
      "text/plain": [
       "<IPython.core.display.Markdown object>"
      ]
     },
     "metadata": {},
     "output_type": "display_data"
    }
   ],
   "source": [
    "display_file('output/final_dict.json')"
   ]
  },
  {
   "cell_type": "markdown",
   "id": "2448c1f4",
   "metadata": {
    "papermill": {
     "duration": 0.029212,
     "end_time": "2021-08-16T15:18:10.826044",
     "exception": false,
     "start_time": "2021-08-16T15:18:10.796832",
     "status": "completed"
    },
    "tags": []
   },
   "source": [
    "## Using default serializers\n",
    "\n",
    "Ploomber comes with a few convenient serialization functions to write more succint serializers. We can request the use of such default serializers using the `defaults` argument, which takes a list of extensions:"
   ]
  },
  {
   "cell_type": "code",
   "execution_count": 18,
   "id": "312fc1c1",
   "metadata": {
    "execution": {
     "iopub.execute_input": "2021-08-16T15:18:10.895584Z",
     "iopub.status.busy": "2021-08-16T15:18:10.894709Z",
     "iopub.status.idle": "2021-08-16T15:18:10.898435Z",
     "shell.execute_reply": "2021-08-16T15:18:10.899137Z"
    },
    "papermill": {
     "duration": 0.044411,
     "end_time": "2021-08-16T15:18:10.899363",
     "exception": false,
     "start_time": "2021-08-16T15:18:10.854952",
     "status": "completed"
    },
    "tags": []
   },
   "outputs": [
    {
     "data": {
      "text/markdown": [
       "\n",
       "```py\n",
       "from ploomber.io import serializer, unserializer\n",
       "\n",
       "\n",
       "@serializer(fallback=True, defaults=['.json'])\n",
       "def my_defaults_serializer(obj, product):\n",
       "    pass\n",
       "\n",
       "\n",
       "@unserializer(fallback=True, defaults=['.json'])\n",
       "def my_defaults_unserializer(product):\n",
       "    pass\n",
       "```\n"
      ],
      "text/plain": [
       "<IPython.core.display.Markdown object>"
      ]
     },
     "metadata": {},
     "output_type": "display_data"
    }
   ],
   "source": [
    "display_file('custom.py', symbols=['my_defaults_serializer', 'my_defaults_unserializer'])"
   ]
  },
  {
   "cell_type": "markdown",
   "id": "23de73c0",
   "metadata": {
    "papermill": {
     "duration": 0.038387,
     "end_time": "2021-08-16T15:18:10.966038",
     "exception": false,
     "start_time": "2021-08-16T15:18:10.927651",
     "status": "completed"
    },
    "tags": []
   },
   "source": [
    "Here we're asking to dispatch `.json` products and use `pickle` for all other extensions, the same as we did for the previous examples, except this time, we don't have to pass the mapping argument to the decorators.\n",
    "\n",
    "`defaults` support:\n",
    "\n",
    "1. `.json`: the returned object must be JSON-serializable (e.g., a list or a dictionary)\n",
    "2. `.txt`: the returned object must be a string\n",
    "3. `.csv`: the returned object must be a `pandas.DataFrame`\n",
    "4. `.parquet`: the returned object must be a `pandas.DataFrame,` and a parquet library should be installed (such as `pyarrow`)."
   ]
  },
  {
   "cell_type": "code",
   "execution_count": 19,
   "id": "983fb78f",
   "metadata": {
    "execution": {
     "iopub.execute_input": "2021-08-16T15:18:11.043214Z",
     "iopub.status.busy": "2021-08-16T15:18:11.042173Z",
     "iopub.status.idle": "2021-08-16T15:18:11.047110Z",
     "shell.execute_reply": "2021-08-16T15:18:11.047857Z"
    },
    "papermill": {
     "duration": 0.047802,
     "end_time": "2021-08-16T15:18:11.048295",
     "exception": false,
     "start_time": "2021-08-16T15:18:11.000493",
     "status": "completed"
    },
    "tags": []
   },
   "outputs": [
    {
     "data": {
      "text/markdown": [
       "\n",
       "```yaml\n",
       "serializer: custom.my_defaults_serializer\n",
       "unserializer: custom.my_defaults_unserializer\n",
       "\n",
       "tasks:\n",
       "  - source: tasks.first\n",
       "    product: output/one_dict\n",
       "  \n",
       "  - source: tasks.second\n",
       "    product:\n",
       "        another: output/another_dict.json\n",
       "        final: output/final_dict.json\n",
       "```\n"
      ],
      "text/plain": [
       "<IPython.core.display.Markdown object>"
      ]
     },
     "metadata": {},
     "output_type": "display_data"
    }
   ],
   "source": [
    "display_file('defaults.yaml')"
   ]
  },
  {
   "cell_type": "code",
   "execution_count": 20,
   "id": "7f6a005d",
   "metadata": {
    "execution": {
     "iopub.execute_input": "2021-08-16T15:18:11.124585Z",
     "iopub.status.busy": "2021-08-16T15:18:11.123365Z",
     "iopub.status.idle": "2021-08-16T15:18:21.802933Z",
     "shell.execute_reply": "2021-08-16T15:18:21.803436Z"
    },
    "papermill": {
     "duration": 10.723093,
     "end_time": "2021-08-16T15:18:21.803702",
     "exception": false,
     "start_time": "2021-08-16T15:18:11.080609",
     "status": "completed"
    },
    "tags": []
   },
   "outputs": [
    {
     "name": "stdout",
     "output_type": "stream",
     "text": [
      "name    Ran?      Elapsed (s)    Percentage\n",
      "------  ------  -------------  ------------\n",
      "first   True         0.000544       23.7866\n",
      "second  True         0.001743       76.2134\n"
     ]
    },
    {
     "name": "stderr",
     "output_type": "stream",
     "text": [
      "Building task 'second': 100%|██████████| 2/2 [00:06<00:00,  3.47s/it]\n"
     ]
    }
   ],
   "source": [
    "%%sh\n",
    "ploomber build --entry-point defaults.yaml --force"
   ]
  },
  {
   "cell_type": "markdown",
   "id": "5815b804",
   "metadata": {
    "papermill": {
     "duration": 0.029894,
     "end_time": "2021-08-16T15:18:21.865994",
     "exception": false,
     "start_time": "2021-08-16T15:18:21.836100",
     "status": "completed"
    },
    "tags": []
   },
   "source": [
    "Let's print the JSON files to verify their contents:"
   ]
  },
  {
   "cell_type": "code",
   "execution_count": 21,
   "id": "3d98ea71",
   "metadata": {
    "execution": {
     "iopub.execute_input": "2021-08-16T15:18:21.931844Z",
     "iopub.status.busy": "2021-08-16T15:18:21.931023Z",
     "iopub.status.idle": "2021-08-16T15:18:21.935134Z",
     "shell.execute_reply": "2021-08-16T15:18:21.935626Z"
    },
    "papermill": {
     "duration": 0.040334,
     "end_time": "2021-08-16T15:18:21.935910",
     "exception": false,
     "start_time": "2021-08-16T15:18:21.895576",
     "status": "completed"
    },
    "tags": []
   },
   "outputs": [
    {
     "data": {
      "text/markdown": [
       "\n",
       "```json\n",
       "{\"a\": 3, \"b\": 2}\n",
       "```\n"
      ],
      "text/plain": [
       "<IPython.core.display.Markdown object>"
      ]
     },
     "metadata": {},
     "output_type": "display_data"
    }
   ],
   "source": [
    "display_file('output/another_dict.json')"
   ]
  },
  {
   "cell_type": "code",
   "execution_count": 22,
   "id": "5804e01e",
   "metadata": {
    "execution": {
     "iopub.execute_input": "2021-08-16T15:18:22.002006Z",
     "iopub.status.busy": "2021-08-16T15:18:22.000924Z",
     "iopub.status.idle": "2021-08-16T15:18:22.005377Z",
     "shell.execute_reply": "2021-08-16T15:18:22.006253Z"
    },
    "papermill": {
     "duration": 0.038813,
     "end_time": "2021-08-16T15:18:22.006479",
     "exception": false,
     "start_time": "2021-08-16T15:18:21.967666",
     "status": "completed"
    },
    "tags": []
   },
   "outputs": [
    {
     "data": {
      "text/markdown": [
       "\n",
       "```json\n",
       "{\"a\": 100, \"b\": 200}\n",
       "```\n"
      ],
      "text/plain": [
       "<IPython.core.display.Markdown object>"
      ]
     },
     "metadata": {},
     "output_type": "display_data"
    }
   ],
   "source": [
    "display_file('output/final_dict.json')"
   ]
  },
  {
   "cell_type": "markdown",
   "id": "6ffae2fe",
   "metadata": {
    "papermill": {
     "duration": 0.033657,
     "end_time": "2021-08-16T15:18:22.071664",
     "exception": false,
     "start_time": "2021-08-16T15:18:22.038007",
     "status": "completed"
    },
    "tags": []
   },
   "source": [
    "## Wrapping up\n",
    "\n",
    "Configuring a `serializer` and `unserializer` in your `pipeline.yaml` is optional, but it helps you quickly generate a fully in-memory pipeline for serving predictions.\n",
    "\n",
    "If you want to learn more about in-memory pipelines, check out the [following guide](https://ploomber.readthedocs.io/en/latest/user-guide/deployment.html#online-service-api).\n",
    "\n",
    "For a complete example showing how to manage a training and a serving pipeline, and deploy it as a Flask API, [click here](https://github.com/ploomber/projects/tree/master/ml-online)."
   ]
  }
 ],
 "metadata": {
  "kernelspec": {
   "display_name": "Python 3",
   "language": "python",
   "name": "python3"
  },
  "language_info": {
   "codemirror_mode": {
    "name": "ipython",
    "version": 3
   },
   "file_extension": ".py",
   "mimetype": "text/x-python",
   "name": "python",
   "nbconvert_exporter": "python",
   "pygments_lexer": "ipython3",
   "version": "3.8.10"
  },
  "papermill": {
   "duration": 61.963534,
   "end_time": "2021-08-16T15:18:22.754686",
   "exception": null,
   "input_path": "/var/folders/3h/_lvh_w_x5g30rrjzb_xnn2j80000gq/T/tmp3r34zjqz.ipynb",
   "output_path": "guides/serialization/README.ipynb",
   "parameters": {
    "product": "guides/serialization/README.ipynb"
   },
   "start_time": "2021-08-16T15:17:20.791152"
  }
 },
 "nbformat": 4,
 "nbformat_minor": 5
}
