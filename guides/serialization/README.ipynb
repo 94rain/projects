{
 "cells": [
  {
   "cell_type": "markdown",
   "id": "2f25f5a8",
   "metadata": {
    "papermill": {
     "duration": 0.021101,
     "end_time": "2021-09-19T22:23:39.941809",
     "exception": false,
     "start_time": "2021-09-19T22:23:39.920708",
     "status": "completed"
    },
    "tags": []
   },
   "source": [
    "\n",
    "*Note:* You can run this from your computer (Jupyter or terminal), or using Binder (does not require any installation, takes a few minutes to be ready)\n",
    "\n",
    "[![binder-logo](https://mybinder.org/badge_logo.svg)](https://mybinder.org/v2/gh/ploomber/binder-env/main?urlpath=git-pull%3Frepo%3Dhttps%253A%252F%252Fgithub.com%252Fploomber%252Fprojects%26urlpath%3Dlab%252Ftree%252Fprojects%252Fserialization%252FREADME.ipynb%26branch%3Dmaster)\n"
   ]
  },
  {
   "cell_type": "markdown",
   "id": "7dafaef6",
   "metadata": {
    "papermill": {
     "duration": 0.021202,
     "end_time": "2021-09-19T22:23:39.982839",
     "exception": false,
     "start_time": "2021-09-19T22:23:39.961637",
     "status": "completed"
    },
    "tags": []
   },
   "source": [
    "# Serialization\n",
    "\n",
    "Incremental builds allow Ploomber to skip tasks whose source code hasn't changed; each task must save their products to disk to enable such a feature. However, there are some cases when we don't want our pipeline to perform disk operations. For example, if we're going to deploy our pipeline, eliminating disk operations reduces runtime considerably.\n",
    "\n",
    "To enable a pipeline to work in both disk-based and in-memory scenarios, we can declare a `serializer` and `unzerializer` in our pipeline declaration, effectively separating our task's logic from the read/write logic.\n",
    "\n",
    "Note that this only applies to function tasks; other tasks are unaffected by the `serializer`/`unserializer` configuration."
   ]
  },
  {
   "cell_type": "code",
   "execution_count": 1,
   "id": "ec93efc4",
   "metadata": {
    "execution": {
     "iopub.execute_input": "2021-09-19T22:23:40.031720Z",
     "iopub.status.busy": "2021-09-19T22:23:40.030869Z",
     "iopub.status.idle": "2021-09-19T22:23:41.271912Z",
     "shell.execute_reply": "2021-09-19T22:23:41.272595Z"
    },
    "nbsphinx": "hidden",
    "papermill": {
     "duration": 1.270207,
     "end_time": "2021-09-19T22:23:41.272927",
     "exception": false,
     "start_time": "2021-09-19T22:23:40.002720",
     "status": "completed"
    },
    "tags": []
   },
   "outputs": [],
   "source": [
    "from ploomberutils import display_file"
   ]
  },
  {
   "cell_type": "markdown",
   "id": "00456fd6",
   "metadata": {
    "papermill": {
     "duration": 0.021989,
     "end_time": "2021-09-19T22:23:41.314998",
     "exception": false,
     "start_time": "2021-09-19T22:23:41.293009",
     "status": "completed"
    },
    "tags": []
   },
   "source": [
    "## Built-in pickle serialization\n",
    "\n",
    "The easiest way to get started is to use the built-in serializer and unserializer, which use the `pickle` module.\n",
    "\n",
    "Let's see an example; the following pipeline has two tasks. The first one generates a dictionary, and the second one creates two dictionaries. Since we are using the pickle-based serialization, each dictionary is saved in the pickle binary format:"
   ]
  },
  {
   "cell_type": "code",
   "execution_count": 2,
   "id": "ac212632",
   "metadata": {
    "execution": {
     "iopub.execute_input": "2021-09-19T22:23:41.358616Z",
     "iopub.status.busy": "2021-09-19T22:23:41.357913Z",
     "iopub.status.idle": "2021-09-19T22:23:41.368092Z",
     "shell.execute_reply": "2021-09-19T22:23:41.368656Z"
    },
    "papermill": {
     "duration": 0.033862,
     "end_time": "2021-09-19T22:23:41.368884",
     "exception": false,
     "start_time": "2021-09-19T22:23:41.335022",
     "status": "completed"
    },
    "tags": []
   },
   "outputs": [
    {
     "data": {
      "text/markdown": [
       "\n",
       "```yaml\n",
       "serializer: ploomber.io.serializer_pickle\n",
       "unserializer: ploomber.io.unserializer_pickle\n",
       "\n",
       "tasks:\n",
       "  - source: tasks.first\n",
       "    product: output/one_dict\n",
       "  \n",
       "  - source: tasks.second\n",
       "    product:\n",
       "        another: output/another_dict\n",
       "        final: output/final_dict\n",
       "```\n"
      ],
      "text/plain": [
       "<IPython.core.display.Markdown object>"
      ]
     },
     "metadata": {},
     "output_type": "display_data"
    }
   ],
   "source": [
    "display_file('simple.yaml')"
   ]
  },
  {
   "cell_type": "markdown",
   "id": "81e47f03",
   "metadata": {
    "papermill": {
     "duration": 0.019407,
     "end_time": "2021-09-19T22:23:41.407608",
     "exception": false,
     "start_time": "2021-09-19T22:23:41.388201",
     "status": "completed"
    },
    "tags": []
   },
   "source": [
    "Let's take a look at the task's source code:"
   ]
  },
  {
   "cell_type": "code",
   "execution_count": 3,
   "id": "c39c918e",
   "metadata": {
    "execution": {
     "iopub.execute_input": "2021-09-19T22:23:41.454699Z",
     "iopub.status.busy": "2021-09-19T22:23:41.453925Z",
     "iopub.status.idle": "2021-09-19T22:23:41.457513Z",
     "shell.execute_reply": "2021-09-19T22:23:41.458073Z"
    },
    "papermill": {
     "duration": 0.029267,
     "end_time": "2021-09-19T22:23:41.458275",
     "exception": false,
     "start_time": "2021-09-19T22:23:41.429008",
     "status": "completed"
    },
    "tags": []
   },
   "outputs": [
    {
     "data": {
      "text/markdown": [
       "\n",
       "```py\n",
       "def first():\n",
       "    return dict(a=1, b=2)\n",
       "\n",
       "\n",
       "def second(upstream):\n",
       "    first = upstream['first']\n",
       "    another = dict(a=first['b'] + 1, b=first['a'] + 1)\n",
       "    final = dict(a=100, b=200)\n",
       "    return dict(another=another, final=final)\n",
       "```\n"
      ],
      "text/plain": [
       "<IPython.core.display.Markdown object>"
      ]
     },
     "metadata": {},
     "output_type": "display_data"
    }
   ],
   "source": [
    "display_file('tasks.py')"
   ]
  },
  {
   "cell_type": "markdown",
   "id": "e5ae0cab",
   "metadata": {
    "papermill": {
     "duration": 0.019431,
     "end_time": "2021-09-19T22:23:41.497262",
     "exception": false,
     "start_time": "2021-09-19T22:23:41.477831",
     "status": "completed"
    },
    "tags": []
   },
   "source": [
    "Since we configured a `serializer` and `unserializer`, function tasks must `return` their outpues instead of saving them to disk in the function's body.\n",
    "\n",
    "`first` does not have any upstream dependencies and returns a dictionary. `second` has the previous task as dependency and returns two dictionaries. Note that the keys in the returned dictionary must match the names of the products declared in `pipeline.yaml` (`another`, `final`).\n",
    "\n",
    "Let's now run the pipeline."
   ]
  },
  {
   "cell_type": "code",
   "execution_count": 4,
   "id": "811b7066",
   "metadata": {
    "execution": {
     "iopub.execute_input": "2021-09-19T22:23:41.546834Z",
     "iopub.status.busy": "2021-09-19T22:23:41.545884Z",
     "iopub.status.idle": "2021-09-19T22:23:43.887743Z",
     "shell.execute_reply": "2021-09-19T22:23:43.888378Z"
    },
    "papermill": {
     "duration": 2.371216,
     "end_time": "2021-09-19T22:23:43.888671",
     "exception": false,
     "start_time": "2021-09-19T22:23:41.517455",
     "status": "completed"
    },
    "tags": []
   },
   "outputs": [
    {
     "name": "stdout",
     "output_type": "stream",
     "text": [
      "name    Ran?      Elapsed (s)    Percentage\n",
      "------  ------  -------------  ------------\n",
      "first   True         0.003174       44.8178\n",
      "second  True         0.003908       55.1822\n"
     ]
    },
    {
     "name": "stderr",
     "output_type": "stream",
     "text": [
      "Building task 'second': 100%|██████████| 2/2 [00:00<00:00,  9.04it/s]\n"
     ]
    }
   ],
   "source": [
    "%%sh\n",
    "ploomber build --entry-point simple.yaml --force"
   ]
  },
  {
   "cell_type": "markdown",
   "id": "ab6bd95d",
   "metadata": {
    "papermill": {
     "duration": 0.021632,
     "end_time": "2021-09-19T22:23:43.932010",
     "exception": false,
     "start_time": "2021-09-19T22:23:43.910378",
     "status": "completed"
    },
    "tags": []
   },
   "source": [
    "The pickle format has important [security concerns](https://docs.python.org/3/library/pickle.html), **remember only to unpickle data you trust**."
   ]
  },
  {
   "cell_type": "markdown",
   "id": "b348ee49",
   "metadata": {
    "papermill": {
     "duration": 0.019909,
     "end_time": "2021-09-19T22:23:43.973690",
     "exception": false,
     "start_time": "2021-09-19T22:23:43.953781",
     "status": "completed"
    },
    "tags": []
   },
   "source": [
    "## Custom serialization logic\n",
    "\n",
    "We can also define our own serialization logic, by using the `@serializer`, and `@unserializer` decorators. Let's replicate what our pickle-based serializer/unserializer is doing as an example:"
   ]
  },
  {
   "cell_type": "code",
   "execution_count": 5,
   "id": "9c766f2e",
   "metadata": {
    "execution": {
     "iopub.execute_input": "2021-09-19T22:23:44.023531Z",
     "iopub.status.busy": "2021-09-19T22:23:44.022755Z",
     "iopub.status.idle": "2021-09-19T22:23:44.148344Z",
     "shell.execute_reply": "2021-09-19T22:23:44.148871Z"
    },
    "papermill": {
     "duration": 0.154585,
     "end_time": "2021-09-19T22:23:44.149119",
     "exception": false,
     "start_time": "2021-09-19T22:23:43.994534",
     "status": "completed"
    },
    "tags": []
   },
   "outputs": [
    {
     "data": {
      "text/markdown": [
       "\n",
       "```py\n",
       "from pathlib import Path\n",
       "import pickle\n",
       "\n",
       "from ploomber.io import serializer, unserializer\n",
       "\n",
       "\n",
       "@serializer()\n",
       "def my_pickle_serializer(obj, product):\n",
       "    Path(product).write_bytes(pickle.dumps(obj))\n",
       "\n",
       "\n",
       "@unserializer()\n",
       "def my_pickle_unserializer(product):\n",
       "    return pickle.loads(Path(product).read_bytes())\n",
       "```\n"
      ],
      "text/plain": [
       "<IPython.core.display.Markdown object>"
      ]
     },
     "metadata": {},
     "output_type": "display_data"
    }
   ],
   "source": [
    "display_file('custom.py', symbols=['my_pickle_serializer', 'my_pickle_unserializer'])"
   ]
  },
  {
   "cell_type": "markdown",
   "id": "8f2db50b",
   "metadata": {
    "papermill": {
     "duration": 0.020815,
     "end_time": "2021-09-19T22:23:44.191106",
     "exception": false,
     "start_time": "2021-09-19T22:23:44.170291",
     "status": "completed"
    },
    "tags": []
   },
   "source": [
    "A `@serializer` function must take two arguments: the object to serializer and the product object (taken from the task declaration). The `@unserializer` must take a single argument (the product to unserializer), and return the unserializer object.\n",
    "\n",
    "Let's modify our original pipeline to use this serializer/unserializer:"
   ]
  },
  {
   "cell_type": "code",
   "execution_count": 6,
   "id": "3e5a0c18",
   "metadata": {
    "execution": {
     "iopub.execute_input": "2021-09-19T22:23:44.238593Z",
     "iopub.status.busy": "2021-09-19T22:23:44.237738Z",
     "iopub.status.idle": "2021-09-19T22:23:44.241399Z",
     "shell.execute_reply": "2021-09-19T22:23:44.242000Z"
    },
    "papermill": {
     "duration": 0.029528,
     "end_time": "2021-09-19T22:23:44.242246",
     "exception": false,
     "start_time": "2021-09-19T22:23:44.212718",
     "status": "completed"
    },
    "tags": []
   },
   "outputs": [
    {
     "data": {
      "text/markdown": [
       "\n",
       "```yaml\n",
       "serializer: custom.my_pickle_serializer\n",
       "unserializer: custom.my_pickle_unserializer\n",
       "\n",
       "tasks:\n",
       "  - source: tasks.first\n",
       "    product: output/one_dict\n",
       "  \n",
       "  - source: tasks.second\n",
       "    product:\n",
       "        another: output/another_dict\n",
       "        final: output/final_dict\n",
       "```\n"
      ],
      "text/plain": [
       "<IPython.core.display.Markdown object>"
      ]
     },
     "metadata": {},
     "output_type": "display_data"
    }
   ],
   "source": [
    "display_file('custom.yaml')"
   ]
  },
  {
   "cell_type": "code",
   "execution_count": 7,
   "id": "8cc9e12e",
   "metadata": {
    "execution": {
     "iopub.execute_input": "2021-09-19T22:23:44.291097Z",
     "iopub.status.busy": "2021-09-19T22:23:44.290381Z",
     "iopub.status.idle": "2021-09-19T22:23:46.661667Z",
     "shell.execute_reply": "2021-09-19T22:23:46.662314Z"
    },
    "papermill": {
     "duration": 2.398912,
     "end_time": "2021-09-19T22:23:46.662616",
     "exception": false,
     "start_time": "2021-09-19T22:23:44.263704",
     "status": "completed"
    },
    "tags": []
   },
   "outputs": [
    {
     "name": "stdout",
     "output_type": "stream",
     "text": [
      "name    Ran?      Elapsed (s)    Percentage\n",
      "------  ------  -------------  ------------\n",
      "first   True         0.003324       49.5454\n",
      "second  True         0.003385       50.4546\n"
     ]
    },
    {
     "name": "stderr",
     "output_type": "stream",
     "text": [
      "Building task 'second': 100%|██████████| 2/2 [00:00<00:00,  8.96it/s]\n"
     ]
    }
   ],
   "source": [
    "%%sh\n",
    "ploomber build --entry-point custom.yaml --force"
   ]
  },
  {
   "cell_type": "markdown",
   "id": "c948eb6a",
   "metadata": {
    "papermill": {
     "duration": 0.025074,
     "end_time": "2021-09-19T22:23:46.715179",
     "exception": false,
     "start_time": "2021-09-19T22:23:46.690105",
     "status": "completed"
    },
    "tags": []
   },
   "source": [
    "## Custom serialization logic based on the product's extension\n",
    "\n",
    "Under many circumstances, there are more suitable formats than pickle. For example, we may want to store lists or dictionaries as JSON files and other files using pickle. The `@serializer`/`@unserializer` decorators use mapping as the first argument to dispatch to different functions depending on the product's extension. Let's see an example:"
   ]
  },
  {
   "cell_type": "code",
   "execution_count": 8,
   "id": "0e7a8de6",
   "metadata": {
    "execution": {
     "iopub.execute_input": "2021-09-19T22:23:46.764916Z",
     "iopub.status.busy": "2021-09-19T22:23:46.764242Z",
     "iopub.status.idle": "2021-09-19T22:23:46.776585Z",
     "shell.execute_reply": "2021-09-19T22:23:46.777111Z"
    },
    "papermill": {
     "duration": 0.040177,
     "end_time": "2021-09-19T22:23:46.777363",
     "exception": false,
     "start_time": "2021-09-19T22:23:46.737186",
     "status": "completed"
    },
    "tags": []
   },
   "outputs": [
    {
     "data": {
      "text/markdown": [
       "\n",
       "```py\n",
       "from pathlib import Path\n",
       "import pickle\n",
       "import json\n",
       "\n",
       "from ploomber.io import serializer, unserializer\n",
       "\n",
       "\n",
       "def write_json(obj, product):\n",
       "    Path(product).write_text(json.dumps(obj))\n",
       "\n",
       "\n",
       "def read_json(product):\n",
       "    return json.loads(Path(product).read_text())\n",
       "\n",
       "\n",
       "@serializer({'.json': write_json})\n",
       "def my_serializer(obj, product):\n",
       "    Path(product).write_bytes(pickle.dumps(obj))\n",
       "\n",
       "\n",
       "@unserializer({'.json': read_json})\n",
       "def my_unserializer(product):\n",
       "    return pickle.loads(Path(product).read_bytes())\n",
       "```\n"
      ],
      "text/plain": [
       "<IPython.core.display.Markdown object>"
      ]
     },
     "metadata": {},
     "output_type": "display_data"
    }
   ],
   "source": [
    "display_file('custom.py', symbols=['write_json', 'read_json', 'my_serializer', 'my_unserializer'])"
   ]
  },
  {
   "cell_type": "markdown",
   "id": "a2fc24f8",
   "metadata": {
    "papermill": {
     "duration": 0.023426,
     "end_time": "2021-09-19T22:23:46.823156",
     "exception": false,
     "start_time": "2021-09-19T22:23:46.799730",
     "status": "completed"
    },
    "tags": []
   },
   "source": [
    "Let's modify our example pipeline. The product in the first task does not have an extension (`output/one_dict`), hence, it will use pickle-based logic. However, the tasks in the second task have a `.json` extension, and will be saved as JSON files."
   ]
  },
  {
   "cell_type": "code",
   "execution_count": 9,
   "id": "d7d71106",
   "metadata": {
    "execution": {
     "iopub.execute_input": "2021-09-19T22:23:46.873349Z",
     "iopub.status.busy": "2021-09-19T22:23:46.872527Z",
     "iopub.status.idle": "2021-09-19T22:23:46.875329Z",
     "shell.execute_reply": "2021-09-19T22:23:46.875837Z"
    },
    "papermill": {
     "duration": 0.030139,
     "end_time": "2021-09-19T22:23:46.876059",
     "exception": false,
     "start_time": "2021-09-19T22:23:46.845920",
     "status": "completed"
    },
    "tags": []
   },
   "outputs": [
    {
     "data": {
      "text/markdown": [
       "\n",
       "```yaml\n",
       "serializer: custom.my_serializer\n",
       "unserializer: custom.my_unserializer\n",
       "\n",
       "tasks:\n",
       "  - source: tasks.first\n",
       "    product: output/one_dict\n",
       "  \n",
       "  - source: tasks.second\n",
       "    product:\n",
       "        another: output/another_dict.json\n",
       "        final: output/final_dict.json\n",
       "```\n"
      ],
      "text/plain": [
       "<IPython.core.display.Markdown object>"
      ]
     },
     "metadata": {},
     "output_type": "display_data"
    }
   ],
   "source": [
    "display_file('with-json.yaml')"
   ]
  },
  {
   "cell_type": "code",
   "execution_count": 10,
   "id": "ad2df743",
   "metadata": {
    "execution": {
     "iopub.execute_input": "2021-09-19T22:23:46.927330Z",
     "iopub.status.busy": "2021-09-19T22:23:46.926650Z",
     "iopub.status.idle": "2021-09-19T22:23:49.261107Z",
     "shell.execute_reply": "2021-09-19T22:23:49.261644Z"
    },
    "papermill": {
     "duration": 2.362906,
     "end_time": "2021-09-19T22:23:49.261894",
     "exception": false,
     "start_time": "2021-09-19T22:23:46.898988",
     "status": "completed"
    },
    "tags": []
   },
   "outputs": [
    {
     "name": "stdout",
     "output_type": "stream",
     "text": [
      "name    Ran?      Elapsed (s)    Percentage\n",
      "------  ------  -------------  ------------\n",
      "first   True         0.003115       43.2459\n",
      "second  True         0.004088       56.7541\n"
     ]
    },
    {
     "name": "stderr",
     "output_type": "stream",
     "text": [
      "Building task 'second': 100%|██████████| 2/2 [00:00<00:00,  9.06it/s]\n"
     ]
    }
   ],
   "source": [
    "%%sh\n",
    "ploomber build --entry-point with-json.yaml --force"
   ]
  },
  {
   "cell_type": "markdown",
   "id": "b4ae7524",
   "metadata": {
    "papermill": {
     "duration": 0.024866,
     "end_time": "2021-09-19T22:23:49.311795",
     "exception": false,
     "start_time": "2021-09-19T22:23:49.286929",
     "status": "completed"
    },
    "tags": []
   },
   "source": [
    "Let's print the `.json` files to verify they're not pickle files:"
   ]
  },
  {
   "cell_type": "code",
   "execution_count": 11,
   "id": "12bb1b5d",
   "metadata": {
    "execution": {
     "iopub.execute_input": "2021-09-19T22:23:49.365688Z",
     "iopub.status.busy": "2021-09-19T22:23:49.364887Z",
     "iopub.status.idle": "2021-09-19T22:23:49.368922Z",
     "shell.execute_reply": "2021-09-19T22:23:49.369395Z"
    },
    "papermill": {
     "duration": 0.033617,
     "end_time": "2021-09-19T22:23:49.369598",
     "exception": false,
     "start_time": "2021-09-19T22:23:49.335981",
     "status": "completed"
    },
    "tags": []
   },
   "outputs": [
    {
     "data": {
      "text/markdown": [
       "\n",
       "```json\n",
       "{\"a\": 3, \"b\": 2}\n",
       "```\n"
      ],
      "text/plain": [
       "<IPython.core.display.Markdown object>"
      ]
     },
     "metadata": {},
     "output_type": "display_data"
    }
   ],
   "source": [
    "display_file('output/another_dict.json')"
   ]
  },
  {
   "cell_type": "code",
   "execution_count": 12,
   "id": "86412f18",
   "metadata": {
    "execution": {
     "iopub.execute_input": "2021-09-19T22:23:49.424012Z",
     "iopub.status.busy": "2021-09-19T22:23:49.423325Z",
     "iopub.status.idle": "2021-09-19T22:23:49.427569Z",
     "shell.execute_reply": "2021-09-19T22:23:49.426833Z"
    },
    "papermill": {
     "duration": 0.034872,
     "end_time": "2021-09-19T22:23:49.427790",
     "exception": false,
     "start_time": "2021-09-19T22:23:49.392918",
     "status": "completed"
    },
    "tags": []
   },
   "outputs": [
    {
     "data": {
      "text/markdown": [
       "\n",
       "```json\n",
       "{\"a\": 100, \"b\": 200}\n",
       "```\n"
      ],
      "text/plain": [
       "<IPython.core.display.Markdown object>"
      ]
     },
     "metadata": {},
     "output_type": "display_data"
    }
   ],
   "source": [
    "display_file('output/final_dict.json')"
   ]
  },
  {
   "cell_type": "markdown",
   "id": "ba550758",
   "metadata": {
    "papermill": {
     "duration": 0.025025,
     "end_time": "2021-09-19T22:23:49.476607",
     "exception": false,
     "start_time": "2021-09-19T22:23:49.451582",
     "status": "completed"
    },
    "tags": []
   },
   "source": [
    "## Using a fallback format\n",
    "\n",
    "Since it's common to have a `fallback` serialization format, the decorators have a `fallback` argument that, when enabled, uses the `pickle` module when the product's extension does not match any of the registered ones in the first argument.\n",
    "\n",
    "The example works the same as the previous one, except we don't have to write our pickle-based logic.\n",
    "\n",
    "`fallback` can also take the [joblib](https://github.com/joblib/joblib) or [cloudpickle](https://github.com/cloudpipe/cloudpickle) values. They're similar to the pickle format but have some advantages. For example, `joblib` produces smaller files when the serialized object contains many NumPy arrays, while cloudpickle supports serialization of some objects that the pickle module doesn't. To use `fallback='joblib'` or `fallback='cloudpickle'` the corresponding module must be installed."
   ]
  },
  {
   "cell_type": "code",
   "execution_count": 13,
   "id": "2dc712c5",
   "metadata": {
    "execution": {
     "iopub.execute_input": "2021-09-19T22:23:49.538291Z",
     "iopub.status.busy": "2021-09-19T22:23:49.530452Z",
     "iopub.status.idle": "2021-09-19T22:23:49.541310Z",
     "shell.execute_reply": "2021-09-19T22:23:49.541906Z"
    },
    "papermill": {
     "duration": 0.041402,
     "end_time": "2021-09-19T22:23:49.542162",
     "exception": false,
     "start_time": "2021-09-19T22:23:49.500760",
     "status": "completed"
    },
    "tags": []
   },
   "outputs": [
    {
     "data": {
      "text/markdown": [
       "\n",
       "```py\n",
       "from ploomber.io import serializer, unserializer\n",
       "\n",
       "\n",
       "@serializer({'.json': write_json}, fallback=True)\n",
       "def my_fallback_serializer(obj, product):\n",
       "    pass\n",
       "\n",
       "\n",
       "@unserializer({'.json': read_json}, fallback=True)\n",
       "def my_fallback_unserializer(product):\n",
       "    pass\n",
       "```\n"
      ],
      "text/plain": [
       "<IPython.core.display.Markdown object>"
      ]
     },
     "metadata": {},
     "output_type": "display_data"
    }
   ],
   "source": [
    "display_file('custom.py', symbols=['my_fallback_serializer', 'my_fallback_unserializer'])"
   ]
  },
  {
   "cell_type": "code",
   "execution_count": 14,
   "id": "fac36933",
   "metadata": {
    "execution": {
     "iopub.execute_input": "2021-09-19T22:23:49.596185Z",
     "iopub.status.busy": "2021-09-19T22:23:49.595357Z",
     "iopub.status.idle": "2021-09-19T22:23:49.599211Z",
     "shell.execute_reply": "2021-09-19T22:23:49.599788Z"
    },
    "papermill": {
     "duration": 0.033813,
     "end_time": "2021-09-19T22:23:49.600038",
     "exception": false,
     "start_time": "2021-09-19T22:23:49.566225",
     "status": "completed"
    },
    "tags": []
   },
   "outputs": [
    {
     "data": {
      "text/markdown": [
       "\n",
       "```yaml\n",
       "serializer: custom.my_fallback_serializer\n",
       "unserializer: custom.my_fallback_unserializer\n",
       "\n",
       "tasks:\n",
       "  - source: tasks.first\n",
       "    product: output/one_dict\n",
       "  \n",
       "  - source: tasks.second\n",
       "    product:\n",
       "        another: output/another_dict.json\n",
       "        final: output/final_dict.json\n",
       "```\n"
      ],
      "text/plain": [
       "<IPython.core.display.Markdown object>"
      ]
     },
     "metadata": {},
     "output_type": "display_data"
    }
   ],
   "source": [
    "display_file('fallback.yaml')"
   ]
  },
  {
   "cell_type": "code",
   "execution_count": 15,
   "id": "8db88b8f",
   "metadata": {
    "execution": {
     "iopub.execute_input": "2021-09-19T22:23:49.659329Z",
     "iopub.status.busy": "2021-09-19T22:23:49.658433Z",
     "iopub.status.idle": "2021-09-19T22:23:52.051828Z",
     "shell.execute_reply": "2021-09-19T22:23:52.052369Z"
    },
    "papermill": {
     "duration": 2.427831,
     "end_time": "2021-09-19T22:23:52.052618",
     "exception": false,
     "start_time": "2021-09-19T22:23:49.624787",
     "status": "completed"
    },
    "tags": []
   },
   "outputs": [
    {
     "name": "stdout",
     "output_type": "stream",
     "text": [
      "name    Ran?      Elapsed (s)    Percentage\n",
      "------  ------  -------------  ------------\n",
      "first   True         0.003288       46.2382\n",
      "second  True         0.003823       53.7618\n"
     ]
    },
    {
     "name": "stderr",
     "output_type": "stream",
     "text": [
      "Building task 'second': 100%|██████████| 2/2 [00:00<00:00,  9.01it/s]\n"
     ]
    }
   ],
   "source": [
    "%%sh\n",
    "ploomber build --entry-point fallback.yaml --force"
   ]
  },
  {
   "cell_type": "markdown",
   "id": "472c241d",
   "metadata": {
    "papermill": {
     "duration": 0.02975,
     "end_time": "2021-09-19T22:23:52.110899",
     "exception": false,
     "start_time": "2021-09-19T22:23:52.081149",
     "status": "completed"
    },
    "tags": []
   },
   "source": [
    "Let's print the JSON files to verify their contents:"
   ]
  },
  {
   "cell_type": "code",
   "execution_count": 16,
   "id": "32adc0ee",
   "metadata": {
    "execution": {
     "iopub.execute_input": "2021-09-19T22:23:52.171058Z",
     "iopub.status.busy": "2021-09-19T22:23:52.170348Z",
     "iopub.status.idle": "2021-09-19T22:23:52.174281Z",
     "shell.execute_reply": "2021-09-19T22:23:52.174813Z"
    },
    "papermill": {
     "duration": 0.036326,
     "end_time": "2021-09-19T22:23:52.175058",
     "exception": false,
     "start_time": "2021-09-19T22:23:52.138732",
     "status": "completed"
    },
    "tags": []
   },
   "outputs": [
    {
     "data": {
      "text/markdown": [
       "\n",
       "```json\n",
       "{\"a\": 3, \"b\": 2}\n",
       "```\n"
      ],
      "text/plain": [
       "<IPython.core.display.Markdown object>"
      ]
     },
     "metadata": {},
     "output_type": "display_data"
    }
   ],
   "source": [
    "display_file('output/another_dict.json')"
   ]
  },
  {
   "cell_type": "code",
   "execution_count": 17,
   "id": "477743cb",
   "metadata": {
    "execution": {
     "iopub.execute_input": "2021-09-19T22:23:52.230907Z",
     "iopub.status.busy": "2021-09-19T22:23:52.230044Z",
     "iopub.status.idle": "2021-09-19T22:23:52.234120Z",
     "shell.execute_reply": "2021-09-19T22:23:52.234738Z"
    },
    "papermill": {
     "duration": 0.034529,
     "end_time": "2021-09-19T22:23:52.234995",
     "exception": false,
     "start_time": "2021-09-19T22:23:52.200466",
     "status": "completed"
    },
    "tags": []
   },
   "outputs": [
    {
     "data": {
      "text/markdown": [
       "\n",
       "```json\n",
       "{\"a\": 100, \"b\": 200}\n",
       "```\n"
      ],
      "text/plain": [
       "<IPython.core.display.Markdown object>"
      ]
     },
     "metadata": {},
     "output_type": "display_data"
    }
   ],
   "source": [
    "display_file('output/final_dict.json')"
   ]
  },
  {
   "cell_type": "markdown",
   "id": "4be6563e",
   "metadata": {
    "papermill": {
     "duration": 0.028058,
     "end_time": "2021-09-19T22:23:52.289500",
     "exception": false,
     "start_time": "2021-09-19T22:23:52.261442",
     "status": "completed"
    },
    "tags": []
   },
   "source": [
    "## Using default serializers\n",
    "\n",
    "Ploomber comes with a few convenient serialization functions to write more succint serializers. We can request the use of such default serializers using the `defaults` argument, which takes a list of extensions:"
   ]
  },
  {
   "cell_type": "code",
   "execution_count": 18,
   "id": "7e663830",
   "metadata": {
    "execution": {
     "iopub.execute_input": "2021-09-19T22:23:52.348143Z",
     "iopub.status.busy": "2021-09-19T22:23:52.347402Z",
     "iopub.status.idle": "2021-09-19T22:23:52.358109Z",
     "shell.execute_reply": "2021-09-19T22:23:52.358623Z"
    },
    "papermill": {
     "duration": 0.041726,
     "end_time": "2021-09-19T22:23:52.358868",
     "exception": false,
     "start_time": "2021-09-19T22:23:52.317142",
     "status": "completed"
    },
    "tags": []
   },
   "outputs": [
    {
     "data": {
      "text/markdown": [
       "\n",
       "```py\n",
       "from ploomber.io import serializer, unserializer\n",
       "\n",
       "\n",
       "@serializer(fallback=True, defaults=['.json'])\n",
       "def my_defaults_serializer(obj, product):\n",
       "    pass\n",
       "\n",
       "\n",
       "@unserializer(fallback=True, defaults=['.json'])\n",
       "def my_defaults_unserializer(product):\n",
       "    pass\n",
       "```\n"
      ],
      "text/plain": [
       "<IPython.core.display.Markdown object>"
      ]
     },
     "metadata": {},
     "output_type": "display_data"
    }
   ],
   "source": [
    "display_file('custom.py', symbols=['my_defaults_serializer', 'my_defaults_unserializer'])"
   ]
  },
  {
   "cell_type": "markdown",
   "id": "dd01b9f9",
   "metadata": {
    "papermill": {
     "duration": 0.028808,
     "end_time": "2021-09-19T22:23:52.415204",
     "exception": false,
     "start_time": "2021-09-19T22:23:52.386396",
     "status": "completed"
    },
    "tags": []
   },
   "source": [
    "Here we're asking to dispatch `.json` products and use `pickle` for all other extensions, the same as we did for the previous examples, except this time, we don't have to pass the mapping argument to the decorators.\n",
    "\n",
    "`defaults` support:\n",
    "\n",
    "1. `.json`: the returned object must be JSON-serializable (e.g., a list or a dictionary)\n",
    "2. `.txt`: the returned object must be a string\n",
    "3. `.csv`: the returned object must be a `pandas.DataFrame`\n",
    "4. `.parquet`: the returned object must be a `pandas.DataFrame,` and a parquet library should be installed (such as `pyarrow`)."
   ]
  },
  {
   "cell_type": "code",
   "execution_count": 19,
   "id": "84ed6cfb",
   "metadata": {
    "execution": {
     "iopub.execute_input": "2021-09-19T22:23:52.474054Z",
     "iopub.status.busy": "2021-09-19T22:23:52.473123Z",
     "iopub.status.idle": "2021-09-19T22:23:52.477787Z",
     "shell.execute_reply": "2021-09-19T22:23:52.477249Z"
    },
    "papermill": {
     "duration": 0.036085,
     "end_time": "2021-09-19T22:23:52.478009",
     "exception": false,
     "start_time": "2021-09-19T22:23:52.441924",
     "status": "completed"
    },
    "tags": []
   },
   "outputs": [
    {
     "data": {
      "text/markdown": [
       "\n",
       "```yaml\n",
       "serializer: custom.my_defaults_serializer\n",
       "unserializer: custom.my_defaults_unserializer\n",
       "\n",
       "tasks:\n",
       "  - source: tasks.first\n",
       "    product: output/one_dict\n",
       "  \n",
       "  - source: tasks.second\n",
       "    product:\n",
       "        another: output/another_dict.json\n",
       "        final: output/final_dict.json\n",
       "```\n"
      ],
      "text/plain": [
       "<IPython.core.display.Markdown object>"
      ]
     },
     "metadata": {},
     "output_type": "display_data"
    }
   ],
   "source": [
    "display_file('defaults.yaml')"
   ]
  },
  {
   "cell_type": "code",
   "execution_count": 20,
   "id": "97b77202",
   "metadata": {
    "execution": {
     "iopub.execute_input": "2021-09-19T22:23:52.539303Z",
     "iopub.status.busy": "2021-09-19T22:23:52.538523Z",
     "iopub.status.idle": "2021-09-19T22:23:54.899211Z",
     "shell.execute_reply": "2021-09-19T22:23:54.900021Z"
    },
    "papermill": {
     "duration": 2.394072,
     "end_time": "2021-09-19T22:23:54.900255",
     "exception": false,
     "start_time": "2021-09-19T22:23:52.506183",
     "status": "completed"
    },
    "tags": []
   },
   "outputs": [
    {
     "name": "stdout",
     "output_type": "stream",
     "text": [
      "name    Ran?      Elapsed (s)    Percentage\n",
      "------  ------  -------------  ------------\n",
      "first   True         0.003531       49.2057\n",
      "second  True         0.003645       50.7943\n"
     ]
    },
    {
     "name": "stderr",
     "output_type": "stream",
     "text": [
      "Building task 'second': 100%|██████████| 2/2 [00:00<00:00,  8.99it/s]\n"
     ]
    }
   ],
   "source": [
    "%%sh\n",
    "ploomber build --entry-point defaults.yaml --force"
   ]
  },
  {
   "cell_type": "markdown",
   "id": "e2f38a0d",
   "metadata": {
    "papermill": {
     "duration": 0.029162,
     "end_time": "2021-09-19T22:23:54.957895",
     "exception": false,
     "start_time": "2021-09-19T22:23:54.928733",
     "status": "completed"
    },
    "tags": []
   },
   "source": [
    "Let's print the JSON files to verify their contents:"
   ]
  },
  {
   "cell_type": "code",
   "execution_count": 21,
   "id": "58648bee",
   "metadata": {
    "execution": {
     "iopub.execute_input": "2021-09-19T22:23:55.027435Z",
     "iopub.status.busy": "2021-09-19T22:23:55.026617Z",
     "iopub.status.idle": "2021-09-19T22:23:55.029253Z",
     "shell.execute_reply": "2021-09-19T22:23:55.029861Z"
    },
    "papermill": {
     "duration": 0.042669,
     "end_time": "2021-09-19T22:23:55.030115",
     "exception": false,
     "start_time": "2021-09-19T22:23:54.987446",
     "status": "completed"
    },
    "tags": []
   },
   "outputs": [
    {
     "data": {
      "text/markdown": [
       "\n",
       "```json\n",
       "{\"a\": 3, \"b\": 2}\n",
       "```\n"
      ],
      "text/plain": [
       "<IPython.core.display.Markdown object>"
      ]
     },
     "metadata": {},
     "output_type": "display_data"
    }
   ],
   "source": [
    "display_file('output/another_dict.json')"
   ]
  },
  {
   "cell_type": "code",
   "execution_count": 22,
   "id": "ce0ac700",
   "metadata": {
    "execution": {
     "iopub.execute_input": "2021-09-19T22:23:55.095101Z",
     "iopub.status.busy": "2021-09-19T22:23:55.094123Z",
     "iopub.status.idle": "2021-09-19T22:23:55.099016Z",
     "shell.execute_reply": "2021-09-19T22:23:55.098469Z"
    },
    "papermill": {
     "duration": 0.03896,
     "end_time": "2021-09-19T22:23:55.099206",
     "exception": false,
     "start_time": "2021-09-19T22:23:55.060246",
     "status": "completed"
    },
    "tags": []
   },
   "outputs": [
    {
     "data": {
      "text/markdown": [
       "\n",
       "```json\n",
       "{\"a\": 100, \"b\": 200}\n",
       "```\n"
      ],
      "text/plain": [
       "<IPython.core.display.Markdown object>"
      ]
     },
     "metadata": {},
     "output_type": "display_data"
    }
   ],
   "source": [
    "display_file('output/final_dict.json')"
   ]
  },
  {
   "cell_type": "markdown",
   "id": "28b173b7",
   "metadata": {
    "papermill": {
     "duration": 0.030119,
     "end_time": "2021-09-19T22:23:55.163026",
     "exception": false,
     "start_time": "2021-09-19T22:23:55.132907",
     "status": "completed"
    },
    "tags": []
   },
   "source": [
    "## Wrapping up\n",
    "\n",
    "Configuring a `serializer` and `unserializer` in your `pipeline.yaml` is optional, but it helps you quickly generate a fully in-memory pipeline for serving predictions.\n",
    "\n",
    "If you want to learn more about in-memory pipelines, check out the [following guide](https://ploomber.readthedocs.io/en/latest/user-guide/deployment.html#online-service-api).\n",
    "\n",
    "For a complete example showing how to manage a training and a serving pipeline, and deploy it as a Flask API, [click here](https://github.com/ploomber/projects/tree/master/ml-online)."
   ]
  }
 ],
 "metadata": {
  "kernelspec": {
   "display_name": "Python 3 (ipykernel)",
   "language": "python",
   "name": "python3"
  },
  "language_info": {
   "codemirror_mode": {
    "name": "ipython",
    "version": 3
   },
   "file_extension": ".py",
   "mimetype": "text/x-python",
   "name": "python",
   "nbconvert_exporter": "python",
   "pygments_lexer": "ipython3",
   "version": "3.7.10"
  },
  "papermill": {
   "duration": 16.813198,
   "end_time": "2021-09-19T22:23:55.630179",
   "exception": null,
   "input_path": "/var/folders/3h/_lvh_w_x5g30rrjzb_xnn2j80000gq/T/tmpb9wk6jw_.ipynb",
   "output_path": "guides/serialization/README.ipynb",
   "parameters": {
    "product": "guides/serialization/README.ipynb"
   },
   "start_time": "2021-09-19T22:23:38.816981"
  }
 },
 "nbformat": 4,
 "nbformat_minor": 5
}
