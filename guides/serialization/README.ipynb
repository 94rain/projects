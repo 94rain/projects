{
 "cells": [
  {
   "cell_type": "markdown",
   "id": "1fdb4c19",
   "metadata": {
    "papermill": {
     "duration": 0.021145,
     "end_time": "2021-08-16T14:42:10.941246",
     "exception": false,
     "start_time": "2021-08-16T14:42:10.920101",
     "status": "completed"
    },
    "tags": []
   },
   "source": [
    "\n",
    "*Note:* You can run this from your computer (Jupyter or terminal), or use one of the\n",
    "hosted options:\n",
    "\n",
    "[![binder-logo](https://mybinder.org/badge_logo.svg)](https://mybinder.org/v2/gh/ploomber/binder-env/main?urlpath=git-pull%3Frepo%3Dhttps%253A%252F%252Fgithub.com%252Fploomber%252Fprojects%26urlpath%3Dlab%252Ftree%252Fprojects%252Fserialization%252FREADME.ipynb%26branch%3Dmaster)\n",
    "\n",
    "[![deepnote-logo](https://deepnote.com/buttons/launch-in-deepnote-small.svg)](https://deepnote.com/launch?template=deepnote&url=https://github.com/ploomber/projects/blob/master/serialization/README.ipynb)\n"
   ]
  },
  {
   "cell_type": "markdown",
   "id": "9007b1c0",
   "metadata": {
    "papermill": {
     "duration": 0.025916,
     "end_time": "2021-08-16T14:42:10.998340",
     "exception": false,
     "start_time": "2021-08-16T14:42:10.972424",
     "status": "completed"
    },
    "tags": []
   },
   "source": [
    "# Serialization\n",
    "\n",
    "Incremental builds allow Ploomber to skip tasks whose source code hasn't changed; each task must save their products to disk to enable such a feature. However, there are some cases when we don't want our pipeline to perform disk operations. For example, if we're going to deploy our pipeline, eliminating disk operations reduces runtime considerably.\n",
    "\n",
    "To enable a pipeline to work in both disk-based and in-memory scenarios, we can declare a `serializer` and `unzerializer` in our pipeline declaration, effectively separating our task's logic from the read/write logic.\n",
    "\n",
    "Note that this only applies to function tasks; other tasks are unaffected by the `serializer`/`unserializer` configuration."
   ]
  },
  {
   "cell_type": "code",
   "execution_count": 1,
   "id": "44cc163b",
   "metadata": {
    "execution": {
     "iopub.execute_input": "2021-08-16T14:42:11.053589Z",
     "iopub.status.busy": "2021-08-16T14:42:11.052867Z",
     "iopub.status.idle": "2021-08-16T14:42:12.968889Z",
     "shell.execute_reply": "2021-08-16T14:42:12.969364Z"
    },
    "nbsphinx": "hidden",
    "papermill": {
     "duration": 1.946923,
     "end_time": "2021-08-16T14:42:12.969760",
     "exception": false,
     "start_time": "2021-08-16T14:42:11.022837",
     "status": "completed"
    },
    "tags": []
   },
   "outputs": [],
   "source": [
    "from ploomberutils import display_file"
   ]
  },
  {
   "cell_type": "markdown",
   "id": "a6cee2f2",
   "metadata": {
    "papermill": {
     "duration": 0.024056,
     "end_time": "2021-08-16T14:42:13.012900",
     "exception": false,
     "start_time": "2021-08-16T14:42:12.988844",
     "status": "completed"
    },
    "tags": []
   },
   "source": [
    "## Built-in pickle serialization\n",
    "\n",
    "The easiest way to get started is to use the built-in serializer and unserializer, which use the `pickle` module.\n",
    "\n",
    "Let's see an example; the following pipeline has two tasks. The first one generates a dictionary, and the second one creates two dictionaries. Since we are using the pickle-based serialization, each dictionary is saved in the pickle binary format:"
   ]
  },
  {
   "cell_type": "code",
   "execution_count": 2,
   "id": "40807a50",
   "metadata": {
    "execution": {
     "iopub.execute_input": "2021-08-16T14:42:13.059049Z",
     "iopub.status.busy": "2021-08-16T14:42:13.058334Z",
     "iopub.status.idle": "2021-08-16T14:42:13.069268Z",
     "shell.execute_reply": "2021-08-16T14:42:13.069830Z"
    },
    "papermill": {
     "duration": 0.036018,
     "end_time": "2021-08-16T14:42:13.070102",
     "exception": false,
     "start_time": "2021-08-16T14:42:13.034084",
     "status": "completed"
    },
    "tags": []
   },
   "outputs": [
    {
     "data": {
      "text/markdown": [
       "\n",
       "```yaml\n",
       "serializer: ploomber.io.serializer_pickle\n",
       "unserializer: ploomber.io.unserializer_pickle\n",
       "\n",
       "tasks:\n",
       "  - source: tasks.first\n",
       "    product: output/one_dict\n",
       "  \n",
       "  - source: tasks.second\n",
       "    product:\n",
       "        another: output/another_dict\n",
       "        final: output/final_dict\n",
       "```\n"
      ],
      "text/plain": [
       "<IPython.core.display.Markdown object>"
      ]
     },
     "metadata": {},
     "output_type": "display_data"
    }
   ],
   "source": [
    "display_file('simple.yaml')"
   ]
  },
  {
   "cell_type": "markdown",
   "id": "baf2e061",
   "metadata": {
    "papermill": {
     "duration": 0.021876,
     "end_time": "2021-08-16T14:42:13.112923",
     "exception": false,
     "start_time": "2021-08-16T14:42:13.091047",
     "status": "completed"
    },
    "tags": []
   },
   "source": [
    "Let's take a look at the task's source code:"
   ]
  },
  {
   "cell_type": "code",
   "execution_count": 3,
   "id": "0b3fc230",
   "metadata": {
    "execution": {
     "iopub.execute_input": "2021-08-16T14:42:13.158248Z",
     "iopub.status.busy": "2021-08-16T14:42:13.157452Z",
     "iopub.status.idle": "2021-08-16T14:42:13.161216Z",
     "shell.execute_reply": "2021-08-16T14:42:13.161956Z"
    },
    "papermill": {
     "duration": 0.027797,
     "end_time": "2021-08-16T14:42:13.162292",
     "exception": false,
     "start_time": "2021-08-16T14:42:13.134495",
     "status": "completed"
    },
    "tags": []
   },
   "outputs": [
    {
     "data": {
      "text/markdown": [
       "\n",
       "```py\n",
       "def first():\n",
       "    return dict(a=1, b=2)\n",
       "\n",
       "\n",
       "def second(upstream):\n",
       "    first = upstream['first']\n",
       "    another = dict(a=first['b'] + 1, b=first['a'] + 1)\n",
       "    final = dict(a=100, b=200)\n",
       "    return dict(another=another, final=final)\n",
       "```\n"
      ],
      "text/plain": [
       "<IPython.core.display.Markdown object>"
      ]
     },
     "metadata": {},
     "output_type": "display_data"
    }
   ],
   "source": [
    "display_file('tasks.py')"
   ]
  },
  {
   "cell_type": "markdown",
   "id": "fdde00b1",
   "metadata": {
    "papermill": {
     "duration": 0.019665,
     "end_time": "2021-08-16T14:42:13.203252",
     "exception": false,
     "start_time": "2021-08-16T14:42:13.183587",
     "status": "completed"
    },
    "tags": []
   },
   "source": [
    "Since we configured a `serializer` and `unserializer`, function tasks must `return` their outpues instead of saving them to disk in the function's body.\n",
    "\n",
    "`first` does not have any upstream dependencies and returns a dictionary. `second` has the previous task as dependency and returns two dictionaries. Note that the keys in the returned dictionary must match the names of the products declared in `pipeline.yaml` (`another`, `final`).\n",
    "\n",
    "Let's now run the pipeline."
   ]
  },
  {
   "cell_type": "code",
   "execution_count": 4,
   "id": "3486b511",
   "metadata": {
    "execution": {
     "iopub.execute_input": "2021-08-16T14:42:13.249201Z",
     "iopub.status.busy": "2021-08-16T14:42:13.248518Z",
     "iopub.status.idle": "2021-08-16T14:42:23.666789Z",
     "shell.execute_reply": "2021-08-16T14:42:23.667372Z"
    },
    "papermill": {
     "duration": 10.44379,
     "end_time": "2021-08-16T14:42:23.667618",
     "exception": false,
     "start_time": "2021-08-16T14:42:13.223828",
     "status": "completed"
    },
    "tags": []
   },
   "outputs": [
    {
     "name": "stdout",
     "output_type": "stream",
     "text": [
      "name    Ran?      Elapsed (s)    Percentage\n",
      "------  ------  -------------  ------------\n",
      "first   True         0.000606       28.1337\n",
      "second  True         0.001548       71.8663\n"
     ]
    },
    {
     "name": "stderr",
     "output_type": "stream",
     "text": [
      "Building task 'second': 100%|██████████| 2/2 [00:06<00:00,  3.40s/it]\n"
     ]
    }
   ],
   "source": [
    "%%sh\n",
    "ploomber build --entry-point simple.yaml --force"
   ]
  },
  {
   "cell_type": "markdown",
   "id": "587bd5b0",
   "metadata": {
    "papermill": {
     "duration": 0.02144,
     "end_time": "2021-08-16T14:42:23.710775",
     "exception": false,
     "start_time": "2021-08-16T14:42:23.689335",
     "status": "completed"
    },
    "tags": []
   },
   "source": [
    "The pickle format has important [security concerns](https://docs.python.org/3/library/pickle.html), **remember only to unpickle data you trust**."
   ]
  },
  {
   "cell_type": "markdown",
   "id": "00d9eb84",
   "metadata": {
    "papermill": {
     "duration": 0.021131,
     "end_time": "2021-08-16T14:42:23.753211",
     "exception": false,
     "start_time": "2021-08-16T14:42:23.732080",
     "status": "completed"
    },
    "tags": []
   },
   "source": [
    "## Custom serialization logic\n",
    "\n",
    "We can also define our own serialization logic, by using the `@serializer`, and `@unserializer` decorators. Let's replicate what our pickle-based serializer/unserializer is doing as an example:"
   ]
  },
  {
   "cell_type": "code",
   "execution_count": 5,
   "id": "982b3040",
   "metadata": {
    "execution": {
     "iopub.execute_input": "2021-08-16T14:42:23.800193Z",
     "iopub.status.busy": "2021-08-16T14:42:23.799473Z",
     "iopub.status.idle": "2021-08-16T14:42:23.934794Z",
     "shell.execute_reply": "2021-08-16T14:42:23.935406Z"
    },
    "papermill": {
     "duration": 0.16146,
     "end_time": "2021-08-16T14:42:23.935746",
     "exception": false,
     "start_time": "2021-08-16T14:42:23.774286",
     "status": "completed"
    },
    "tags": []
   },
   "outputs": [
    {
     "data": {
      "text/markdown": [
       "\n",
       "```py\n",
       "from pathlib import Path\n",
       "import pickle\n",
       "\n",
       "from ploomber.io import serializer, unserializer\n",
       "\n",
       "\n",
       "@serializer()\n",
       "def my_pickle_serializer(obj, product):\n",
       "    Path(product).write_bytes(pickle.dumps(obj))\n",
       "\n",
       "\n",
       "@unserializer()\n",
       "def my_pickle_unserializer(product):\n",
       "    return pickle.loads(Path(product).read_bytes())\n",
       "```\n"
      ],
      "text/plain": [
       "<IPython.core.display.Markdown object>"
      ]
     },
     "metadata": {},
     "output_type": "display_data"
    }
   ],
   "source": [
    "display_file('custom.py', symbols=['my_pickle_serializer', 'my_pickle_unserializer'])"
   ]
  },
  {
   "cell_type": "markdown",
   "id": "251f83e4",
   "metadata": {
    "papermill": {
     "duration": 0.020758,
     "end_time": "2021-08-16T14:42:23.977416",
     "exception": false,
     "start_time": "2021-08-16T14:42:23.956658",
     "status": "completed"
    },
    "tags": []
   },
   "source": [
    "A `@serializer` function must take two arguments: the object to serializer and the product object (taken from the task declaration). The `@unserializer` must take a single argument (the product to unserializer), and return the unserializer object.\n",
    "\n",
    "Let's modify our original pipeline to use this serializer/unserializer:"
   ]
  },
  {
   "cell_type": "code",
   "execution_count": 6,
   "id": "4ff3d762",
   "metadata": {
    "execution": {
     "iopub.execute_input": "2021-08-16T14:42:24.031686Z",
     "iopub.status.busy": "2021-08-16T14:42:24.030692Z",
     "iopub.status.idle": "2021-08-16T14:42:24.035756Z",
     "shell.execute_reply": "2021-08-16T14:42:24.036454Z"
    },
    "papermill": {
     "duration": 0.03578,
     "end_time": "2021-08-16T14:42:24.036746",
     "exception": false,
     "start_time": "2021-08-16T14:42:24.000966",
     "status": "completed"
    },
    "tags": []
   },
   "outputs": [
    {
     "data": {
      "text/markdown": [
       "\n",
       "```yaml\n",
       "serializer: custom.my_pickle_serializer\n",
       "unserializer: custom.my_pickle_unserializer\n",
       "\n",
       "tasks:\n",
       "  - source: tasks.first\n",
       "    product: output/one_dict\n",
       "  \n",
       "  - source: tasks.second\n",
       "    product:\n",
       "        another: output/another_dict\n",
       "        final: output/final_dict\n",
       "```\n"
      ],
      "text/plain": [
       "<IPython.core.display.Markdown object>"
      ]
     },
     "metadata": {},
     "output_type": "display_data"
    }
   ],
   "source": [
    "display_file('custom.yaml')"
   ]
  },
  {
   "cell_type": "code",
   "execution_count": 7,
   "id": "14f20496",
   "metadata": {
    "execution": {
     "iopub.execute_input": "2021-08-16T14:42:24.085584Z",
     "iopub.status.busy": "2021-08-16T14:42:24.084475Z",
     "iopub.status.idle": "2021-08-16T14:42:33.915653Z",
     "shell.execute_reply": "2021-08-16T14:42:33.916295Z"
    },
    "papermill": {
     "duration": 9.857736,
     "end_time": "2021-08-16T14:42:33.916518",
     "exception": false,
     "start_time": "2021-08-16T14:42:24.058782",
     "status": "completed"
    },
    "tags": []
   },
   "outputs": [
    {
     "name": "stdout",
     "output_type": "stream",
     "text": [
      "name    Ran?      Elapsed (s)    Percentage\n",
      "------  ------  -------------  ------------\n",
      "first   True         0.000577        27.969\n",
      "second  True         0.001486        72.031\n"
     ]
    },
    {
     "name": "stderr",
     "output_type": "stream",
     "text": [
      "Building task 'second': 100%|██████████| 2/2 [00:06<00:00,  3.21s/it]\n"
     ]
    }
   ],
   "source": [
    "%%sh\n",
    "ploomber build --entry-point custom.yaml --force"
   ]
  },
  {
   "cell_type": "markdown",
   "id": "3c6f06f5",
   "metadata": {
    "papermill": {
     "duration": 0.023813,
     "end_time": "2021-08-16T14:42:33.963465",
     "exception": false,
     "start_time": "2021-08-16T14:42:33.939652",
     "status": "completed"
    },
    "tags": []
   },
   "source": [
    "## Custom serialization logic based on the product's extension\n",
    "\n",
    "Under many circumstances, there are more suitable formats than pickle. For example, we may want to store lists or dictionaries as JSON files and other files using pickle. The `@serializer`/`@unserializer` decorators use mapping as the first argument to dispatch to different functions depending on the product's extension. Let's see an example:"
   ]
  },
  {
   "cell_type": "code",
   "execution_count": 8,
   "id": "83111f72",
   "metadata": {
    "execution": {
     "iopub.execute_input": "2021-08-16T14:42:34.027457Z",
     "iopub.status.busy": "2021-08-16T14:42:34.026342Z",
     "iopub.status.idle": "2021-08-16T14:42:34.030099Z",
     "shell.execute_reply": "2021-08-16T14:42:34.030614Z"
    },
    "papermill": {
     "duration": 0.045096,
     "end_time": "2021-08-16T14:42:34.030851",
     "exception": false,
     "start_time": "2021-08-16T14:42:33.985755",
     "status": "completed"
    },
    "tags": []
   },
   "outputs": [
    {
     "data": {
      "text/markdown": [
       "\n",
       "```py\n",
       "from pathlib import Path\n",
       "import pickle\n",
       "import json\n",
       "\n",
       "from ploomber.io import serializer, unserializer\n",
       "\n",
       "\n",
       "def write_json(obj, product):\n",
       "    Path(product).write_text(json.dumps(obj))\n",
       "\n",
       "\n",
       "def read_json(product):\n",
       "    return json.loads(Path(product).read_text())\n",
       "\n",
       "\n",
       "@serializer({'.json': write_json})\n",
       "def my_serializer(obj, product):\n",
       "    Path(product).write_bytes(pickle.dumps(obj))\n",
       "\n",
       "\n",
       "@unserializer({'.json': read_json})\n",
       "def my_unserializer(product):\n",
       "    return pickle.loads(Path(product).read_bytes())\n",
       "```\n"
      ],
      "text/plain": [
       "<IPython.core.display.Markdown object>"
      ]
     },
     "metadata": {},
     "output_type": "display_data"
    }
   ],
   "source": [
    "display_file('custom.py', symbols=['write_json', 'read_json', 'my_serializer', 'my_unserializer'])"
   ]
  },
  {
   "cell_type": "markdown",
   "id": "48cd1653",
   "metadata": {
    "papermill": {
     "duration": 0.022451,
     "end_time": "2021-08-16T14:42:34.075986",
     "exception": false,
     "start_time": "2021-08-16T14:42:34.053535",
     "status": "completed"
    },
    "tags": []
   },
   "source": [
    "Let's modify our example pipeline. The product in the first task does not have an extension (`output/one_dict`), hence, it will use pickle-based logic. However, the tasks in the second task have a `.json` extension, and will be saved as JSON files."
   ]
  },
  {
   "cell_type": "code",
   "execution_count": 9,
   "id": "f29490a8",
   "metadata": {
    "execution": {
     "iopub.execute_input": "2021-08-16T14:42:34.130981Z",
     "iopub.status.busy": "2021-08-16T14:42:34.130088Z",
     "iopub.status.idle": "2021-08-16T14:42:34.133937Z",
     "shell.execute_reply": "2021-08-16T14:42:34.134449Z"
    },
    "papermill": {
     "duration": 0.034344,
     "end_time": "2021-08-16T14:42:34.134699",
     "exception": false,
     "start_time": "2021-08-16T14:42:34.100355",
     "status": "completed"
    },
    "tags": []
   },
   "outputs": [
    {
     "data": {
      "text/markdown": [
       "\n",
       "```yaml\n",
       "serializer: custom.my_serializer\n",
       "unserializer: custom.my_unserializer\n",
       "\n",
       "tasks:\n",
       "  - source: tasks.first\n",
       "    product: output/one_dict\n",
       "  \n",
       "  - source: tasks.second\n",
       "    product:\n",
       "        another: output/another_dict.json\n",
       "        final: output/final_dict.json\n",
       "```\n"
      ],
      "text/plain": [
       "<IPython.core.display.Markdown object>"
      ]
     },
     "metadata": {},
     "output_type": "display_data"
    }
   ],
   "source": [
    "display_file('with-json.yaml')"
   ]
  },
  {
   "cell_type": "code",
   "execution_count": 10,
   "id": "ccec40e4",
   "metadata": {
    "execution": {
     "iopub.execute_input": "2021-08-16T14:42:34.188461Z",
     "iopub.status.busy": "2021-08-16T14:42:34.187450Z",
     "iopub.status.idle": "2021-08-16T14:42:43.944548Z",
     "shell.execute_reply": "2021-08-16T14:42:43.945024Z"
    },
    "papermill": {
     "duration": 9.788088,
     "end_time": "2021-08-16T14:42:43.945242",
     "exception": false,
     "start_time": "2021-08-16T14:42:34.157154",
     "status": "completed"
    },
    "tags": []
   },
   "outputs": [
    {
     "name": "stdout",
     "output_type": "stream",
     "text": [
      "name    Ran?      Elapsed (s)    Percentage\n",
      "------  ------  -------------  ------------\n",
      "first   True         0.000614       27.1802\n",
      "second  True         0.001645       72.8198\n"
     ]
    },
    {
     "name": "stderr",
     "output_type": "stream",
     "text": [
      "Building task 'second': 100%|██████████| 2/2 [00:06<00:00,  3.22s/it]\n"
     ]
    }
   ],
   "source": [
    "%%sh\n",
    "ploomber build --entry-point with-json.yaml --force"
   ]
  },
  {
   "cell_type": "markdown",
   "id": "a03583c7",
   "metadata": {
    "papermill": {
     "duration": 0.024853,
     "end_time": "2021-08-16T14:42:43.994469",
     "exception": false,
     "start_time": "2021-08-16T14:42:43.969616",
     "status": "completed"
    },
    "tags": []
   },
   "source": [
    "Let's print the `.json` files to verify they're not pickle files:"
   ]
  },
  {
   "cell_type": "code",
   "execution_count": 11,
   "id": "6e34dcbc",
   "metadata": {
    "execution": {
     "iopub.execute_input": "2021-08-16T14:42:44.052955Z",
     "iopub.status.busy": "2021-08-16T14:42:44.052062Z",
     "iopub.status.idle": "2021-08-16T14:42:44.057116Z",
     "shell.execute_reply": "2021-08-16T14:42:44.056464Z"
    },
    "papermill": {
     "duration": 0.035122,
     "end_time": "2021-08-16T14:42:44.057345",
     "exception": false,
     "start_time": "2021-08-16T14:42:44.022223",
     "status": "completed"
    },
    "tags": []
   },
   "outputs": [
    {
     "data": {
      "text/markdown": [
       "\n",
       "```json\n",
       "{\"a\": 3, \"b\": 2}\n",
       "```\n"
      ],
      "text/plain": [
       "<IPython.core.display.Markdown object>"
      ]
     },
     "metadata": {},
     "output_type": "display_data"
    }
   ],
   "source": [
    "display_file('output/another_dict.json')"
   ]
  },
  {
   "cell_type": "code",
   "execution_count": 12,
   "id": "8965a071",
   "metadata": {
    "execution": {
     "iopub.execute_input": "2021-08-16T14:42:44.111112Z",
     "iopub.status.busy": "2021-08-16T14:42:44.110071Z",
     "iopub.status.idle": "2021-08-16T14:42:44.115167Z",
     "shell.execute_reply": "2021-08-16T14:42:44.115727Z"
    },
    "papermill": {
     "duration": 0.034853,
     "end_time": "2021-08-16T14:42:44.116063",
     "exception": false,
     "start_time": "2021-08-16T14:42:44.081210",
     "status": "completed"
    },
    "tags": []
   },
   "outputs": [
    {
     "data": {
      "text/markdown": [
       "\n",
       "```json\n",
       "{\"a\": 100, \"b\": 200}\n",
       "```\n"
      ],
      "text/plain": [
       "<IPython.core.display.Markdown object>"
      ]
     },
     "metadata": {},
     "output_type": "display_data"
    }
   ],
   "source": [
    "display_file('output/final_dict.json')"
   ]
  },
  {
   "cell_type": "markdown",
   "id": "cb7e9f83",
   "metadata": {
    "papermill": {
     "duration": 0.024875,
     "end_time": "2021-08-16T14:42:44.166862",
     "exception": false,
     "start_time": "2021-08-16T14:42:44.141987",
     "status": "completed"
    },
    "tags": []
   },
   "source": [
    "## Using a fallback format\n",
    "\n",
    "Since it's common to have a `fallback` serialization format, the decorators have a `fallback` argument that, when enabled, uses the `pickle` module when the product's extension does not match any of the registered ones in the first argument.\n",
    "\n",
    "The example works the same as the previous one, except we don't have to write our pickle-based logic.\n",
    "\n",
    "`fallback` can also take the [joblib](https://github.com/joblib/joblib) or [cloudpickle](https://github.com/cloudpipe/cloudpickle) values. They're similar to the pickle format but have some advantages. For example, `joblib` produces smaller files when the serialized object contains many NumPy arrays, while cloudpickle supports serialization of some objects that the pickle module doesn't. To use `fallback='joblib'` or `fallback='cloudpickle'` the corresponding module must be installed."
   ]
  },
  {
   "cell_type": "code",
   "execution_count": 13,
   "id": "3e8882fd",
   "metadata": {
    "execution": {
     "iopub.execute_input": "2021-08-16T14:42:44.229060Z",
     "iopub.status.busy": "2021-08-16T14:42:44.228162Z",
     "iopub.status.idle": "2021-08-16T14:42:44.231645Z",
     "shell.execute_reply": "2021-08-16T14:42:44.232271Z"
    },
    "papermill": {
     "duration": 0.041756,
     "end_time": "2021-08-16T14:42:44.232548",
     "exception": false,
     "start_time": "2021-08-16T14:42:44.190792",
     "status": "completed"
    },
    "tags": []
   },
   "outputs": [
    {
     "data": {
      "text/markdown": [
       "\n",
       "```py\n",
       "from ploomber.io import serializer, unserializer\n",
       "\n",
       "\n",
       "@serializer({'.json': write_json}, fallback=True)\n",
       "def my_fallback_serializer(obj, product):\n",
       "    pass\n",
       "\n",
       "\n",
       "@unserializer({'.json': read_json}, fallback=True)\n",
       "def my_fallback_unserializer(product):\n",
       "    pass\n",
       "```\n"
      ],
      "text/plain": [
       "<IPython.core.display.Markdown object>"
      ]
     },
     "metadata": {},
     "output_type": "display_data"
    }
   ],
   "source": [
    "display_file('custom.py', symbols=['my_fallback_serializer', 'my_fallback_unserializer'])"
   ]
  },
  {
   "cell_type": "code",
   "execution_count": 14,
   "id": "6d804b4d",
   "metadata": {
    "execution": {
     "iopub.execute_input": "2021-08-16T14:42:44.287128Z",
     "iopub.status.busy": "2021-08-16T14:42:44.286409Z",
     "iopub.status.idle": "2021-08-16T14:42:44.290135Z",
     "shell.execute_reply": "2021-08-16T14:42:44.290642Z"
    },
    "papermill": {
     "duration": 0.033409,
     "end_time": "2021-08-16T14:42:44.290873",
     "exception": false,
     "start_time": "2021-08-16T14:42:44.257464",
     "status": "completed"
    },
    "tags": []
   },
   "outputs": [
    {
     "data": {
      "text/markdown": [
       "\n",
       "```yaml\n",
       "serializer: custom.my_fallback_serializer\n",
       "unserializer: custom.my_fallback_unserializer\n",
       "\n",
       "tasks:\n",
       "  - source: tasks.first\n",
       "    product: output/one_dict\n",
       "  \n",
       "  - source: tasks.second\n",
       "    product:\n",
       "        another: output/another_dict.json\n",
       "        final: output/final_dict.json\n",
       "```\n"
      ],
      "text/plain": [
       "<IPython.core.display.Markdown object>"
      ]
     },
     "metadata": {},
     "output_type": "display_data"
    }
   ],
   "source": [
    "display_file('fallback.yaml')"
   ]
  },
  {
   "cell_type": "code",
   "execution_count": 15,
   "id": "29954df0",
   "metadata": {
    "execution": {
     "iopub.execute_input": "2021-08-16T14:42:44.356482Z",
     "iopub.status.busy": "2021-08-16T14:42:44.355655Z",
     "iopub.status.idle": "2021-08-16T14:42:54.465458Z",
     "shell.execute_reply": "2021-08-16T14:42:54.465969Z"
    },
    "papermill": {
     "duration": 10.145019,
     "end_time": "2021-08-16T14:42:54.466194",
     "exception": false,
     "start_time": "2021-08-16T14:42:44.321175",
     "status": "completed"
    },
    "tags": []
   },
   "outputs": [
    {
     "name": "stdout",
     "output_type": "stream",
     "text": [
      "name    Ran?      Elapsed (s)    Percentage\n",
      "------  ------  -------------  ------------\n",
      "first   True         0.000572       24.2168\n",
      "second  True         0.00179        75.7832\n"
     ]
    },
    {
     "name": "stderr",
     "output_type": "stream",
     "text": [
      "Building task 'second': 100%|██████████| 2/2 [00:06<00:00,  3.34s/it]\n"
     ]
    }
   ],
   "source": [
    "%%sh\n",
    "ploomber build --entry-point fallback.yaml --force"
   ]
  },
  {
   "cell_type": "markdown",
   "id": "56c35cfd",
   "metadata": {
    "papermill": {
     "duration": 0.02781,
     "end_time": "2021-08-16T14:42:54.520434",
     "exception": false,
     "start_time": "2021-08-16T14:42:54.492624",
     "status": "completed"
    },
    "tags": []
   },
   "source": [
    "Let's print the JSON files to verify their contents:"
   ]
  },
  {
   "cell_type": "code",
   "execution_count": 16,
   "id": "65f53d67",
   "metadata": {
    "execution": {
     "iopub.execute_input": "2021-08-16T14:42:54.578172Z",
     "iopub.status.busy": "2021-08-16T14:42:54.576752Z",
     "iopub.status.idle": "2021-08-16T14:42:54.582393Z",
     "shell.execute_reply": "2021-08-16T14:42:54.583084Z"
    },
    "papermill": {
     "duration": 0.037874,
     "end_time": "2021-08-16T14:42:54.583476",
     "exception": false,
     "start_time": "2021-08-16T14:42:54.545602",
     "status": "completed"
    },
    "tags": []
   },
   "outputs": [
    {
     "data": {
      "text/markdown": [
       "\n",
       "```json\n",
       "{\"a\": 3, \"b\": 2}\n",
       "```\n"
      ],
      "text/plain": [
       "<IPython.core.display.Markdown object>"
      ]
     },
     "metadata": {},
     "output_type": "display_data"
    }
   ],
   "source": [
    "display_file('output/another_dict.json')"
   ]
  },
  {
   "cell_type": "code",
   "execution_count": 17,
   "id": "65ba676c",
   "metadata": {
    "execution": {
     "iopub.execute_input": "2021-08-16T14:42:54.640729Z",
     "iopub.status.busy": "2021-08-16T14:42:54.639802Z",
     "iopub.status.idle": "2021-08-16T14:42:54.643896Z",
     "shell.execute_reply": "2021-08-16T14:42:54.643124Z"
    },
    "papermill": {
     "duration": 0.033908,
     "end_time": "2021-08-16T14:42:54.644118",
     "exception": false,
     "start_time": "2021-08-16T14:42:54.610210",
     "status": "completed"
    },
    "tags": []
   },
   "outputs": [
    {
     "data": {
      "text/markdown": [
       "\n",
       "```json\n",
       "{\"a\": 100, \"b\": 200}\n",
       "```\n"
      ],
      "text/plain": [
       "<IPython.core.display.Markdown object>"
      ]
     },
     "metadata": {},
     "output_type": "display_data"
    }
   ],
   "source": [
    "display_file('output/final_dict.json')"
   ]
  },
  {
   "cell_type": "markdown",
   "id": "412e0e8a",
   "metadata": {
    "papermill": {
     "duration": 0.027775,
     "end_time": "2021-08-16T14:42:54.698858",
     "exception": false,
     "start_time": "2021-08-16T14:42:54.671083",
     "status": "completed"
    },
    "tags": []
   },
   "source": [
    "## Using default serializers\n",
    "\n",
    "Ploomber comes with a few convenient serialization functions to write more succint serializers. We can request the use of such default serializers using the `defaults` argument, which takes a list of extensions:"
   ]
  },
  {
   "cell_type": "code",
   "execution_count": 18,
   "id": "05e0085c",
   "metadata": {
    "execution": {
     "iopub.execute_input": "2021-08-16T14:42:54.765770Z",
     "iopub.status.busy": "2021-08-16T14:42:54.757377Z",
     "iopub.status.idle": "2021-08-16T14:42:54.769540Z",
     "shell.execute_reply": "2021-08-16T14:42:54.770040Z"
    },
    "papermill": {
     "duration": 0.043996,
     "end_time": "2021-08-16T14:42:54.770256",
     "exception": false,
     "start_time": "2021-08-16T14:42:54.726260",
     "status": "completed"
    },
    "tags": []
   },
   "outputs": [
    {
     "data": {
      "text/markdown": [
       "\n",
       "```py\n",
       "from ploomber.io import serializer, unserializer\n",
       "\n",
       "\n",
       "@serializer(fallback=True, defaults=['.json'])\n",
       "def my_defaults_serializer(obj, product):\n",
       "    pass\n",
       "\n",
       "\n",
       "@unserializer(fallback=True, defaults=['.json'])\n",
       "def my_defaults_unserializer(product):\n",
       "    pass\n",
       "```\n"
      ],
      "text/plain": [
       "<IPython.core.display.Markdown object>"
      ]
     },
     "metadata": {},
     "output_type": "display_data"
    }
   ],
   "source": [
    "display_file('custom.py', symbols=['my_defaults_serializer', 'my_defaults_unserializer'])"
   ]
  },
  {
   "cell_type": "markdown",
   "id": "9c8a1606",
   "metadata": {
    "papermill": {
     "duration": 0.02688,
     "end_time": "2021-08-16T14:42:54.824567",
     "exception": false,
     "start_time": "2021-08-16T14:42:54.797687",
     "status": "completed"
    },
    "tags": []
   },
   "source": [
    "Here we're asking to dispatch `.json` products and use `pickle` for all other extensions, the same as we did for the previous examples, except this time, we don't have to pass the mapping argument to the decorators.\n",
    "\n",
    "`defaults` support:\n",
    "\n",
    "1. `.json`: the returned object must be JSON-serializable (e.g., a list or a dictionary)\n",
    "2. `.txt`: the returned object must be a string\n",
    "3. `.csv`: the returned object must be a `pandas.DataFrame`\n",
    "4. `.parquet`: the returned object must be a `pandas.DataFrame,` and a parquet library should be installed (such as `pyarrow`)."
   ]
  },
  {
   "cell_type": "code",
   "execution_count": 19,
   "id": "c5ea50c4",
   "metadata": {
    "execution": {
     "iopub.execute_input": "2021-08-16T14:42:54.886109Z",
     "iopub.status.busy": "2021-08-16T14:42:54.885267Z",
     "iopub.status.idle": "2021-08-16T14:42:54.889113Z",
     "shell.execute_reply": "2021-08-16T14:42:54.889729Z"
    },
    "papermill": {
     "duration": 0.037563,
     "end_time": "2021-08-16T14:42:54.889975",
     "exception": false,
     "start_time": "2021-08-16T14:42:54.852412",
     "status": "completed"
    },
    "tags": []
   },
   "outputs": [
    {
     "data": {
      "text/markdown": [
       "\n",
       "```yaml\n",
       "serializer: custom.my_defaults_serializer\n",
       "unserializer: custom.my_defaults_unserializer\n",
       "\n",
       "tasks:\n",
       "  - source: tasks.first\n",
       "    product: output/one_dict\n",
       "  \n",
       "  - source: tasks.second\n",
       "    product:\n",
       "        another: output/another_dict.json\n",
       "        final: output/final_dict.json\n",
       "```\n"
      ],
      "text/plain": [
       "<IPython.core.display.Markdown object>"
      ]
     },
     "metadata": {},
     "output_type": "display_data"
    }
   ],
   "source": [
    "display_file('defaults.yaml')"
   ]
  },
  {
   "cell_type": "code",
   "execution_count": 20,
   "id": "d248b39b",
   "metadata": {
    "execution": {
     "iopub.execute_input": "2021-08-16T14:42:54.954128Z",
     "iopub.status.busy": "2021-08-16T14:42:54.953303Z",
     "iopub.status.idle": "2021-08-16T14:43:04.702877Z",
     "shell.execute_reply": "2021-08-16T14:43:04.703649Z"
    },
    "papermill": {
     "duration": 9.787081,
     "end_time": "2021-08-16T14:43:04.703868",
     "exception": false,
     "start_time": "2021-08-16T14:42:54.916787",
     "status": "completed"
    },
    "tags": []
   },
   "outputs": [
    {
     "name": "stdout",
     "output_type": "stream",
     "text": [
      "name    Ran?      Elapsed (s)    Percentage\n",
      "------  ------  -------------  ------------\n",
      "first   True         0.000553       25.3553\n",
      "second  True         0.001628       74.6447\n"
     ]
    },
    {
     "name": "stderr",
     "output_type": "stream",
     "text": [
      "Building task 'second': 100%|██████████| 2/2 [00:06<00:00,  3.22s/it]\n"
     ]
    }
   ],
   "source": [
    "%%sh\n",
    "ploomber build --entry-point defaults.yaml --force"
   ]
  },
  {
   "cell_type": "markdown",
   "id": "537ca865",
   "metadata": {
    "papermill": {
     "duration": 0.028964,
     "end_time": "2021-08-16T14:43:04.764688",
     "exception": false,
     "start_time": "2021-08-16T14:43:04.735724",
     "status": "completed"
    },
    "tags": []
   },
   "source": [
    "Let's print the JSON files to verify their contents:"
   ]
  },
  {
   "cell_type": "code",
   "execution_count": 21,
   "id": "3c89739c",
   "metadata": {
    "execution": {
     "iopub.execute_input": "2021-08-16T14:43:04.828229Z",
     "iopub.status.busy": "2021-08-16T14:43:04.827176Z",
     "iopub.status.idle": "2021-08-16T14:43:04.831818Z",
     "shell.execute_reply": "2021-08-16T14:43:04.832523Z"
    },
    "papermill": {
     "duration": 0.039354,
     "end_time": "2021-08-16T14:43:04.832793",
     "exception": false,
     "start_time": "2021-08-16T14:43:04.793439",
     "status": "completed"
    },
    "tags": []
   },
   "outputs": [
    {
     "data": {
      "text/markdown": [
       "\n",
       "```json\n",
       "{\"a\": 3, \"b\": 2}\n",
       "```\n"
      ],
      "text/plain": [
       "<IPython.core.display.Markdown object>"
      ]
     },
     "metadata": {},
     "output_type": "display_data"
    }
   ],
   "source": [
    "display_file('output/another_dict.json')"
   ]
  },
  {
   "cell_type": "code",
   "execution_count": 22,
   "id": "0d44d681",
   "metadata": {
    "execution": {
     "iopub.execute_input": "2021-08-16T14:43:04.893924Z",
     "iopub.status.busy": "2021-08-16T14:43:04.893175Z",
     "iopub.status.idle": "2021-08-16T14:43:04.896780Z",
     "shell.execute_reply": "2021-08-16T14:43:04.897298Z"
    },
    "papermill": {
     "duration": 0.036115,
     "end_time": "2021-08-16T14:43:04.897547",
     "exception": false,
     "start_time": "2021-08-16T14:43:04.861432",
     "status": "completed"
    },
    "tags": []
   },
   "outputs": [
    {
     "data": {
      "text/markdown": [
       "\n",
       "```json\n",
       "{\"a\": 100, \"b\": 200}\n",
       "```\n"
      ],
      "text/plain": [
       "<IPython.core.display.Markdown object>"
      ]
     },
     "metadata": {},
     "output_type": "display_data"
    }
   ],
   "source": [
    "display_file('output/final_dict.json')"
   ]
  },
  {
   "cell_type": "markdown",
   "id": "53c25d7e",
   "metadata": {
    "papermill": {
     "duration": 0.029157,
     "end_time": "2021-08-16T14:43:04.955307",
     "exception": false,
     "start_time": "2021-08-16T14:43:04.926150",
     "status": "completed"
    },
    "tags": []
   },
   "source": [
    "## Wrapping up\n",
    "\n",
    "Configuring a `serializer` and `unserializer` in your `pipeline.yaml` is optional, but it helps you quickly generate a fully in-memory pipeline for serving predictions.\n",
    "\n",
    "If you want to learn more about in-memory pipelines, check out the [following guide.](https://ploomber.readthedocs.io/en/latest/user-guide/deployment.html#online-service-api).\n",
    "\n",
    "For a complete example showing how to manage a training and a serving pipeline, and deploy it as a Flask API, [click here.](https://github.com/ploomber/projects/tree/master/ml-online)."
   ]
  }
 ],
 "metadata": {
  "kernelspec": {
   "display_name": "Python 3",
   "language": "python",
   "name": "python3"
  },
  "language_info": {
   "codemirror_mode": {
    "name": "ipython",
    "version": 3
   },
   "file_extension": ".py",
   "mimetype": "text/x-python",
   "name": "python",
   "nbconvert_exporter": "python",
   "pygments_lexer": "ipython3",
   "version": "3.8.10"
  },
  "papermill": {
   "duration": 55.647643,
   "end_time": "2021-08-16T14:43:05.633574",
   "exception": null,
   "input_path": "/var/folders/3h/_lvh_w_x5g30rrjzb_xnn2j80000gq/T/tmp75cg3752.ipynb",
   "output_path": "guides/serialization/README.ipynb",
   "parameters": {
    "product": "guides/serialization/README.ipynb"
   },
   "start_time": "2021-08-16T14:42:09.985931"
  }
 },
 "nbformat": 4,
 "nbformat_minor": 5
}
