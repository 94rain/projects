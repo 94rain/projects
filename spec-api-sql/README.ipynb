{
 "cells": [
  {
   "cell_type": "markdown",
   "metadata": {
    "papermill": {
     "duration": 0.01123,
     "end_time": "2020-12-30T20:09:25.160609",
     "exception": false,
     "start_time": "2020-12-30T20:09:25.149379",
     "status": "completed"
    },
    "tags": []
   },
   "source": [
    "\n",
    "*Note:* You can run this from your computer (Jupyter or terminal), or use one of the\n",
    "hosted options:\n",
    "\n",
    "[![binder-logo](https://mybinder.org/badge_logo.svg)](https://mybinder.org/v2/gh/ploomber/binder-env/main?urlpath=git-pull%3Frepo%3Dhttps%253A%252F%252Fgithub.com%252Fploomber%252Fprojects%26urlpath%3Dlab%252Ftree%252Fprojects%252Fspec-api-sql%252FREADME.ipynb%26branch%3Dmaster)\n",
    "\n",
    "[![deepnote-logo](https://deepnote.com/buttons/launch-in-deepnote-small.svg)](https://deepnote.com/launch?template=deepnote&url=https://github.com/ploomber/projects/blob/master/spec-api-sql/README.ipynb)\n"
   ]
  },
  {
   "cell_type": "markdown",
   "metadata": {
    "papermill": {
     "duration": 0.007664,
     "end_time": "2020-12-30T20:09:25.176236",
     "exception": false,
     "start_time": "2020-12-30T20:09:25.168572",
     "status": "completed"
    },
    "tags": []
   },
   "source": [
    "# SQL/Python pipeline example\n",
    "\n",
    "This demo showcases the spec API that allows you to write pipelines using YAML files so you can focus on the Data Science and not dealing which complex task dependencies nor managing database connections.\n",
    "\n",
    "Let's take a look at the pipeline definition:"
   ]
  },
  {
   "cell_type": "code",
   "execution_count": 1,
   "metadata": {
    "execution": {
     "iopub.execute_input": "2020-12-30T20:09:25.197623Z",
     "iopub.status.busy": "2020-12-30T20:09:25.196843Z",
     "iopub.status.idle": "2020-12-30T20:09:25.205895Z",
     "shell.execute_reply": "2020-12-30T20:09:25.206593Z"
    },
    "papermill": {
     "duration": 0.02285,
     "end_time": "2020-12-30T20:09:25.206922",
     "exception": false,
     "start_time": "2020-12-30T20:09:25.184072",
     "status": "completed"
    },
    "tags": []
   },
   "outputs": [
    {
     "data": {
      "text/markdown": [
       "```yaml\n",
       "meta:\n",
       "  extract_product: False\n",
       "\n",
       "  product_default_class:\n",
       "    SQLScript: SQLiteRelation\n",
       "\n",
       "  jupyter_hot_reload: True\n",
       "\n",
       "config:\n",
       "  hot_reload: True\n",
       "\n",
       "clients:\n",
       "  # tasks\n",
       "  SQLScript: config.get_client\n",
       "  SQLDump: config.get_client\n",
       "  # products\n",
       "  SQLiteRelation: config.get_client\n",
       "\n",
       "tasks:\n",
       "  - source: filter_sales.sql\n",
       "    product: [filtered_sales, table]\n",
       "    name: filter_sales\n",
       "\n",
       "  - source: group_sales.sql\n",
       "    product: [grouped_sales, table]\n",
       "    name: group_sales\n",
       "\n",
       "  - source: filter_prices.sql\n",
       "    product: [filtered_prices, table]\n",
       "    name: filter_prices\n",
       "\n",
       "  - source: join.sql\n",
       "    product: [joined, table]\n",
       "    name: join\n",
       "\n",
       "  - class: SQLDump\n",
       "    source: join_dump.sql\n",
       "    product: output/joined_data.csv\n",
       "    name: join_dump\n",
       "    chunksize: null\n",
       "\n",
       "  - source: plot.py\n",
       "    product: output/plot.html\n",
       "```"
      ],
      "text/plain": [
       "<IPython.core.display.Markdown object>"
      ]
     },
     "execution_count": 1,
     "metadata": {},
     "output_type": "execute_result"
    }
   ],
   "source": [
    "\n",
    "from pathlib import Path\n",
    "from IPython.display import Markdown\n",
    "\n",
    "Markdown('```yaml\\n{}\\n```'.format(Path('pipeline.yaml').read_text()))"
   ]
  },
  {
   "cell_type": "markdown",
   "metadata": {
    "papermill": {
     "duration": 0.008091,
     "end_time": "2020-12-30T20:09:25.223383",
     "exception": false,
     "start_time": "2020-12-30T20:09:25.215292",
     "status": "completed"
    },
    "tags": []
   },
   "source": [
    "The first two sections configure our pipeline, the `tasks` section is the actual pipeline definition. Each element defines a task, we see that we have a few SQL transformations, then we dump a table to a CSV file and we produce an HTML report at the end. The order here doesn't matter, the source code itself declares its own upstream dependencies and Ploomber extracts them to execute your pipeline.\n",
    "\n",
    "Let's take a look at one of the SQL files:"
   ]
  },
  {
   "cell_type": "code",
   "execution_count": 2,
   "metadata": {
    "execution": {
     "iopub.execute_input": "2020-12-30T20:09:25.245224Z",
     "iopub.status.busy": "2020-12-30T20:09:25.244500Z",
     "iopub.status.idle": "2020-12-30T20:09:25.248112Z",
     "shell.execute_reply": "2020-12-30T20:09:25.248598Z"
    },
    "papermill": {
     "duration": 0.016919,
     "end_time": "2020-12-30T20:09:25.248839",
     "exception": false,
     "start_time": "2020-12-30T20:09:25.231920",
     "status": "completed"
    },
    "tags": []
   },
   "outputs": [
    {
     "data": {
      "text/markdown": [
       "```sql\n",
       "-- this placeholder will be replaced at runtime\n",
       "DROP TABLE IF EXISTS {{product}};\n",
       "\n",
       "CREATE TABLE {{product}} AS\n",
       "SELECT product_id, count * price AS revenue\n",
       "-- declare dependencies using the name (or source if no name was declared)\n",
       "-- of the task that should run first\n",
       "FROM {{upstream['group_sales']}}\n",
       "JOIN {{upstream['filter_prices']}}\n",
       "USING (product_id);\n",
       "\n",
       "```"
      ],
      "text/plain": [
       "<IPython.core.display.Markdown object>"
      ]
     },
     "execution_count": 2,
     "metadata": {},
     "output_type": "execute_result"
    }
   ],
   "source": [
    "\n",
    "Markdown('```sql\\n{}\\n```'.format(Path('join.sql').read_text()))"
   ]
  },
  {
   "cell_type": "markdown",
   "metadata": {
    "papermill": {
     "duration": 0.007838,
     "end_time": "2020-12-30T20:09:25.265372",
     "exception": false,
     "start_time": "2020-12-30T20:09:25.257534",
     "status": "completed"
    },
    "tags": []
   },
   "source": [
    "Pipeline plot:"
   ]
  },
  {
   "cell_type": "code",
   "execution_count": 3,
   "metadata": {
    "execution": {
     "iopub.execute_input": "2020-12-30T20:09:25.287750Z",
     "iopub.status.busy": "2020-12-30T20:09:25.286486Z",
     "iopub.status.idle": "2020-12-30T20:09:29.021658Z",
     "shell.execute_reply": "2020-12-30T20:09:29.022474Z"
    },
    "papermill": {
     "duration": 3.748831,
     "end_time": "2020-12-30T20:09:29.022763",
     "exception": false,
     "start_time": "2020-12-30T20:09:25.273932",
     "status": "completed"
    },
    "tags": [
     "bash"
    ]
   },
   "outputs": [
    {
     "name": "stdout",
     "output_type": "stream",
     "text": [
      "Plot saved at: pipeline.png\n"
     ]
    },
    {
     "name": "stderr",
     "output_type": "stream",
     "text": [
      "100%|██████████| 6/6 [00:00<00:00, 2949.93it/s]\n"
     ]
    }
   ],
   "source": [
    "%%sh\n",
    "# Note: plotting doesn't work in deepnote\n",
    "ploomber plot"
   ]
  },
  {
   "cell_type": "code",
   "execution_count": 4,
   "metadata": {
    "execution": {
     "iopub.execute_input": "2020-12-30T20:09:29.053748Z",
     "iopub.status.busy": "2020-12-30T20:09:29.052796Z",
     "iopub.status.idle": "2020-12-30T20:09:29.058967Z",
     "shell.execute_reply": "2020-12-30T20:09:29.058341Z"
    },
    "papermill": {
     "duration": 0.022839,
     "end_time": "2020-12-30T20:09:29.059182",
     "exception": false,
     "start_time": "2020-12-30T20:09:29.036343",
     "status": "completed"
    },
    "tags": []
   },
   "outputs": [
    {
     "data": {
      "image/png": "[encoded data removed]",
      "text/plain": [
       "<IPython.core.display.Image object>"
      ]
     },
     "execution_count": 4,
     "metadata": {},
     "output_type": "execute_result"
    }
   ],
   "source": [
    "\n",
    "from IPython.display import Image\n",
    "Image(filename='pipeline.png')"
   ]
  },
  {
   "cell_type": "markdown",
   "metadata": {
    "papermill": {
     "duration": 0.019182,
     "end_time": "2020-12-30T20:09:29.090789",
     "exception": false,
     "start_time": "2020-12-30T20:09:29.071607",
     "status": "completed"
    },
    "tags": []
   },
   "source": [
    "We can run our pipeline with the following command:"
   ]
  },
  {
   "cell_type": "code",
   "execution_count": 5,
   "metadata": {
    "execution": {
     "iopub.execute_input": "2020-12-30T20:09:29.146614Z",
     "iopub.status.busy": "2020-12-30T20:09:29.145052Z",
     "iopub.status.idle": "2020-12-30T20:09:37.462371Z",
     "shell.execute_reply": "2020-12-30T20:09:37.462866Z"
    },
    "lines_to_next_cell": 0,
    "papermill": {
     "duration": 8.350427,
     "end_time": "2020-12-30T20:09:37.463103",
     "exception": false,
     "start_time": "2020-12-30T20:09:29.112676",
     "status": "completed"
    },
    "tags": [
     "bash"
    ]
   },
   "outputs": [
    {
     "name": "stdout",
     "output_type": "stream",
     "text": [
      "name           Ran?      Elapsed (s)    Percentage\n",
      "-------------  ------  -------------  ------------\n",
      "join_dump      True         0.002407      0.045621\n",
      "plot.py        True         5.27367      99.9544\n",
      "filter_prices  False        0             0\n",
      "filter_sales   False        0             0\n",
      "group_sales    False        0             0\n",
      "join           False        0             0\n"
     ]
    },
    {
     "name": "stderr",
     "output_type": "stream",
     "text": [
      "100%|██████████| 6/6 [00:00<00:00, 4517.29it/s]\n",
      "Building task \"plot.py\":   0%|          | 0/2 [00:00<?, ?it/s]  \n",
      "Executing:   0%|          | 0/4 [00:00<?, ?cell/s]\u001b[A\n",
      "Executing:  25%|██▌       | 1/4 [00:02<00:08,  2.68s/cell]\u001b[A\n",
      "Executing: 100%|██████████| 4/4 [00:04<00:00,  1.02s/cell]\n",
      "Building task \"plot.py\": 100%|██████████| 2/2 [00:05<00:00,  2.65s/it]\n"
     ]
    }
   ],
   "source": [
    "%%sh\n",
    "ploomber build"
   ]
  },
  {
   "cell_type": "markdown",
   "metadata": {
    "papermill": {
     "duration": 0.018733,
     "end_time": "2020-12-30T20:09:37.493795",
     "exception": false,
     "start_time": "2020-12-30T20:09:37.475062",
     "status": "completed"
    },
    "tags": []
   },
   "source": [
    "That's it. We just build our pipeline. Let's try again."
   ]
  },
  {
   "cell_type": "code",
   "execution_count": 6,
   "metadata": {
    "execution": {
     "iopub.execute_input": "2020-12-30T20:09:37.523271Z",
     "iopub.status.busy": "2020-12-30T20:09:37.520888Z",
     "iopub.status.idle": "2020-12-30T20:09:40.489828Z",
     "shell.execute_reply": "2020-12-30T20:09:40.490457Z"
    },
    "papermill": {
     "duration": 2.985477,
     "end_time": "2020-12-30T20:09:40.490731",
     "exception": false,
     "start_time": "2020-12-30T20:09:37.505254",
     "status": "completed"
    },
    "tags": [
     "bash"
    ]
   },
   "outputs": [
    {
     "name": "stdout",
     "output_type": "stream",
     "text": [
      "name           Ran?      Elapsed (s)    Percentage\n",
      "-------------  ------  -------------  ------------\n",
      "filter_prices  False               0             0\n",
      "filter_sales   False               0             0\n",
      "group_sales    False               0             0\n",
      "join           False               0             0\n",
      "join_dump      False               0             0\n",
      "plot.py        False               0             0\n"
     ]
    },
    {
     "name": "stderr",
     "output_type": "stream",
     "text": [
      "100%|██████████| 6/6 [00:00<00:00, 6457.74it/s]\n",
      "0it [00:00, ?it/s]\n"
     ]
    }
   ],
   "source": [
    "%%sh\n",
    "ploomber build"
   ]
  },
  {
   "cell_type": "markdown",
   "metadata": {
    "papermill": {
     "duration": 0.010859,
     "end_time": "2020-12-30T20:09:40.513833",
     "exception": false,
     "start_time": "2020-12-30T20:09:40.502974",
     "status": "completed"
    },
    "tags": []
   },
   "source": [
    "This time it finished real quick because there is nothing to do, nothing has changed.\n",
    "\n",
    "Let's now modify one of the tasks to see what happens (make sure you save changes):\n",
    "\n",
    "[Click here to open plot.py](plot.py)\n",
    "\n",
    "Also try modifying any of the SQL scripts:\n",
    "\n",
    "[Click here to go to the spec folder](.)\n",
    "\n",
    "Let's build again:"
   ]
  },
  {
   "cell_type": "code",
   "execution_count": 7,
   "metadata": {
    "execution": {
     "iopub.execute_input": "2020-12-30T20:09:40.543361Z",
     "iopub.status.busy": "2020-12-30T20:09:40.541111Z",
     "iopub.status.idle": "2020-12-30T20:09:43.364162Z",
     "shell.execute_reply": "2020-12-30T20:09:43.364892Z"
    },
    "papermill": {
     "duration": 2.840435,
     "end_time": "2020-12-30T20:09:43.365153",
     "exception": false,
     "start_time": "2020-12-30T20:09:40.524718",
     "status": "completed"
    },
    "tags": [
     "bash"
    ]
   },
   "outputs": [
    {
     "name": "stdout",
     "output_type": "stream",
     "text": [
      "name           Ran?      Elapsed (s)    Percentage\n",
      "-------------  ------  -------------  ------------\n",
      "filter_prices  False               0             0\n",
      "filter_sales   False               0             0\n",
      "group_sales    False               0             0\n",
      "join           False               0             0\n",
      "join_dump      False               0             0\n",
      "plot.py        False               0             0\n"
     ]
    },
    {
     "name": "stderr",
     "output_type": "stream",
     "text": [
      "100%|██████████| 6/6 [00:00<00:00, 4914.24it/s]\n",
      "0it [00:00, ?it/s]\n"
     ]
    }
   ],
   "source": [
    "%%sh\n",
    "ploomber build"
   ]
  },
  {
   "cell_type": "markdown",
   "metadata": {
    "papermill": {
     "duration": 0.012369,
     "end_time": "2020-12-30T20:09:43.390315",
     "exception": false,
     "start_time": "2020-12-30T20:09:43.377946",
     "status": "completed"
    },
    "tags": []
   },
   "source": [
    "Depending on your changes, Ploomber will determine which tasks to run again and which ones to skip.\n",
    "\n",
    "The final output of our pipeline is a report, [let's see it](output/plot.html).\n",
    "\n",
    "That's it! Ploomber makes it very simple to manage your data workflows."
   ]
  },
  {
   "cell_type": "markdown",
   "metadata": {
    "papermill": {
     "duration": 0.012693,
     "end_time": "2020-12-30T20:09:43.415711",
     "exception": false,
     "start_time": "2020-12-30T20:09:43.403018",
     "status": "completed"
    },
    "tags": []
   },
   "source": [
    "## Where to go from here\n",
    "\n",
    "[`etl/`](../etl/README.ipynb) contains a more complete SQL example."
   ]
  },
  {
   "cell_type": "code",
   "execution_count": null,
   "metadata": {
    "papermill": {
     "duration": 0.012439,
     "end_time": "2020-12-30T20:09:43.439445",
     "exception": false,
     "start_time": "2020-12-30T20:09:43.427006",
     "status": "completed"
    },
    "tags": [
     "parameters"
    ]
   },
   "outputs": [],
   "source": []
  },
  {
   "cell_type": "code",
   "execution_count": 8,
   "metadata": {
    "execution": {
     "iopub.execute_input": "2020-12-30T20:09:43.468189Z",
     "iopub.status.busy": "2020-12-30T20:09:43.467443Z",
     "iopub.status.idle": "2020-12-30T20:09:43.469730Z",
     "shell.execute_reply": "2020-12-30T20:09:43.470228Z"
    },
    "papermill": {
     "duration": 0.01862,
     "end_time": "2020-12-30T20:09:43.470468",
     "exception": false,
     "start_time": "2020-12-30T20:09:43.451848",
     "status": "completed"
    },
    "tags": [
     "injected-parameters"
    ]
   },
   "outputs": [],
   "source": [
    "# Parameters\n",
    "product = \"spec-api-sql/README.ipynb\"\n"
   ]
  }
 ],
 "metadata": {
  "jupytext": {
   "cell_metadata_filter": "tags,-all",
   "main_language": "bash",
   "notebook_metadata_filter": "-all",
   "text_representation": {
    "extension": ".md",
    "format_name": "markdown"
   }
  },
  "kernelspec": {
   "display_name": "Python 3",
   "language": "python",
   "name": "python3"
  },
  "language_info": {
   "codemirror_mode": {
    "name": "ipython",
    "version": 3
   },
   "file_extension": ".py",
   "mimetype": "text/x-python",
   "name": "python",
   "nbconvert_exporter": "python",
   "pygments_lexer": "ipython3",
   "version": "3.8.6"
  },
  "papermill": {
   "default_parameters": {},
   "duration": 19.411636,
   "end_time": "2020-12-30T20:09:43.699680",
   "environment_variables": {},
   "exception": null,
   "input_path": "/var/folders/3h/_lvh_w_x5g30rrjzb_xnn2j80000gq/T/tmpu6_leqcz.ipynb",
   "output_path": "spec-api-sql/README.ipynb",
   "parameters": {
    "product": "spec-api-sql/README.ipynb"
   },
   "start_time": "2020-12-30T20:09:24.288044",
   "version": "2.2.2"
  }
 },
 "nbformat": 4,
 "nbformat_minor": 4
}
