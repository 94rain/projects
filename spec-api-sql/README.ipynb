{
 "cells": [
  {
   "cell_type": "markdown",
   "metadata": {
    "papermill": {
     "duration": 0.010904,
     "end_time": "2020-11-26T19:56:52.876996",
     "exception": false,
     "start_time": "2020-11-26T19:56:52.866092",
     "status": "completed"
    },
    "tags": []
   },
   "source": [
    "\n",
    "*Note:* You can run this from your computer (Jupyter or terminal), or use one of the\n",
    "hosted options:\n",
    "[![binder-logo](https://mybinder.org/badge_logo.svg)](https://mybinder.org/v2/gh/ploomber/binder-env/main?urlpath=git-pull%3Frepo%3Dhttps%253A%252F%252Fgithub.com%252Fploomber%252Fprojects%26urlpath%3Dlab%252Ftree%252Fprojects%252Fspec-api-sql%252FREADME.ipynb%26branch%3Dmaster)\n",
    "[![deepnote-logo](https://deepnote.com/buttons/launch-in-deepnote-small.svg)](https://deepnote.com/launch?template=deepnote&url=https://github.com/ploomber/projects/blob/master/spec-api-sql/README.ipynb)\n"
   ]
  },
  {
   "cell_type": "markdown",
   "metadata": {
    "papermill": {
     "duration": 0.008219,
     "end_time": "2020-11-26T19:56:52.893170",
     "exception": false,
     "start_time": "2020-11-26T19:56:52.884951",
     "status": "completed"
    },
    "tags": []
   },
   "source": [
    "# SQL/Python pipeline example\n",
    "\n",
    "This demo showcases the spec API that allows you to write pipelines using YAML files so you can focus on the Data Science and not dealing which complex task dependencies nor managing database connections.\n",
    "\n",
    "Let's take a look at the pipeline definition:"
   ]
  },
  {
   "cell_type": "code",
   "execution_count": 1,
   "metadata": {
    "execution": {
     "iopub.execute_input": "2020-11-26T19:56:52.914941Z",
     "iopub.status.busy": "2020-11-26T19:56:52.914275Z",
     "iopub.status.idle": "2020-11-26T19:56:52.923852Z",
     "shell.execute_reply": "2020-11-26T19:56:52.924424Z"
    },
    "papermill": {
     "duration": 0.02434,
     "end_time": "2020-11-26T19:56:52.925005",
     "exception": false,
     "start_time": "2020-11-26T19:56:52.900665",
     "status": "completed"
    },
    "tags": []
   },
   "outputs": [
    {
     "data": {
      "text/markdown": [
       "```yaml\n",
       "meta:\n",
       "  extract_product: False\n",
       "\n",
       "  product_default_class:\n",
       "    SQLScript: SQLiteRelation\n",
       "\n",
       "  jupyter_hot_reload: True\n",
       "\n",
       "config:\n",
       "  hot_reload: True\n",
       "\n",
       "clients:\n",
       "  # tasks\n",
       "  SQLScript: config.get_client\n",
       "  SQLDump: config.get_client\n",
       "  # products\n",
       "  SQLiteRelation: config.get_client\n",
       "\n",
       "tasks:\n",
       "  - source: filter_sales.sql\n",
       "    product: [filtered_sales, table]\n",
       "    name: filter_sales\n",
       "\n",
       "  - source: group_sales.sql\n",
       "    product: [grouped_sales, table]\n",
       "    name: group_sales\n",
       "\n",
       "  - source: filter_prices.sql\n",
       "    product: [filtered_prices, table]\n",
       "    name: filter_prices\n",
       "\n",
       "  - source: join.sql\n",
       "    product: [joined, table]\n",
       "    name: join\n",
       "\n",
       "  - class: SQLDump\n",
       "    source: join_dump.sql\n",
       "    product: output/joined_data.csv\n",
       "    name: join_dump\n",
       "    chunksize: null\n",
       "\n",
       "  - source: plot.py\n",
       "    product: output/plot.html\n",
       "```"
      ],
      "text/plain": [
       "<IPython.core.display.Markdown object>"
      ]
     },
     "execution_count": 1,
     "metadata": {},
     "output_type": "execute_result"
    }
   ],
   "source": [
    "\n",
    "from pathlib import Path\n",
    "from IPython.display import Markdown\n",
    "\n",
    "Markdown('```yaml\\n{}\\n```'.format(Path('pipeline.yaml').read_text()))"
   ]
  },
  {
   "cell_type": "markdown",
   "metadata": {
    "papermill": {
     "duration": 0.007683,
     "end_time": "2020-11-26T19:56:52.944501",
     "exception": false,
     "start_time": "2020-11-26T19:56:52.936818",
     "status": "completed"
    },
    "tags": []
   },
   "source": [
    "The first two sections configure our pipeline, the `tasks` section is the actual pipeline definition. Each element defines a task, we see that we have a few SQL transformations, then we dump a table to a CSV file and we produce an HTML report at the end. The order here doesn't matter, the source code itself declares its own upstream dependencies and Ploomber extracts them to execute your pipeline.\n",
    "\n",
    "Let's take a look at one of the SQL files:"
   ]
  },
  {
   "cell_type": "code",
   "execution_count": 2,
   "metadata": {
    "execution": {
     "iopub.execute_input": "2020-11-26T19:56:52.964603Z",
     "iopub.status.busy": "2020-11-26T19:56:52.963739Z",
     "iopub.status.idle": "2020-11-26T19:56:52.967721Z",
     "shell.execute_reply": "2020-11-26T19:56:52.968185Z"
    },
    "papermill": {
     "duration": 0.016259,
     "end_time": "2020-11-26T19:56:52.968424",
     "exception": false,
     "start_time": "2020-11-26T19:56:52.952165",
     "status": "completed"
    },
    "tags": []
   },
   "outputs": [
    {
     "data": {
      "text/markdown": [
       "```sql\n",
       "-- this placeholder will be replaced at runtime\n",
       "DROP TABLE IF EXISTS {{product}};\n",
       "\n",
       "CREATE TABLE {{product}} AS\n",
       "SELECT product_id, count * price AS revenue\n",
       "-- declare dependencies using the name (or source if no name was declared)\n",
       "-- of the task that should run first\n",
       "FROM {{upstream['group_sales']}}\n",
       "JOIN {{upstream['filter_prices']}}\n",
       "USING (product_id);\n",
       "\n",
       "```"
      ],
      "text/plain": [
       "<IPython.core.display.Markdown object>"
      ]
     },
     "execution_count": 2,
     "metadata": {},
     "output_type": "execute_result"
    }
   ],
   "source": [
    "\n",
    "Markdown('```sql\\n{}\\n```'.format(Path('join.sql').read_text()))"
   ]
  },
  {
   "cell_type": "markdown",
   "metadata": {
    "papermill": {
     "duration": 0.008371,
     "end_time": "2020-11-26T19:56:52.986391",
     "exception": false,
     "start_time": "2020-11-26T19:56:52.978020",
     "status": "completed"
    },
    "tags": []
   },
   "source": [
    "Pipeline plot:"
   ]
  },
  {
   "cell_type": "code",
   "execution_count": 3,
   "metadata": {
    "execution": {
     "iopub.execute_input": "2020-11-26T19:56:53.009731Z",
     "iopub.status.busy": "2020-11-26T19:56:53.008861Z",
     "iopub.status.idle": "2020-11-26T19:56:55.878456Z",
     "shell.execute_reply": "2020-11-26T19:56:55.878993Z"
    },
    "papermill": {
     "duration": 2.884034,
     "end_time": "2020-11-26T19:56:55.879225",
     "exception": false,
     "start_time": "2020-11-26T19:56:52.995191",
     "status": "completed"
    },
    "tags": [
     "bash"
    ]
   },
   "outputs": [
    {
     "name": "stdout",
     "output_type": "stream",
     "text": [
      "Plot saved at: pipeline.png\n"
     ]
    },
    {
     "name": "stderr",
     "output_type": "stream",
     "text": [
      "100%|██████████| 6/6 [00:00<00:00, 8645.08it/s]\n"
     ]
    }
   ],
   "source": [
    "%%sh\n",
    "# Note: plotting doesn't work in deepnote\n",
    "ploomber plot"
   ]
  },
  {
   "cell_type": "code",
   "execution_count": 4,
   "metadata": {
    "execution": {
     "iopub.execute_input": "2020-11-26T19:56:55.901059Z",
     "iopub.status.busy": "2020-11-26T19:56:55.900085Z",
     "iopub.status.idle": "2020-11-26T19:56:55.904889Z",
     "shell.execute_reply": "2020-11-26T19:56:55.905352Z"
    },
    "papermill": {
     "duration": 0.017544,
     "end_time": "2020-11-26T19:56:55.905579",
     "exception": false,
     "start_time": "2020-11-26T19:56:55.888035",
     "status": "completed"
    },
    "tags": []
   },
   "outputs": [
    {
     "data": {
      "image/png": "[encoded data removed]",
      "text/plain": [
       "<IPython.core.display.Image object>"
      ]
     },
     "execution_count": 4,
     "metadata": {},
     "output_type": "execute_result"
    }
   ],
   "source": [
    "\n",
    "from IPython.display import Image\n",
    "Image(filename='pipeline.png')"
   ]
  },
  {
   "cell_type": "markdown",
   "metadata": {
    "papermill": {
     "duration": 0.011413,
     "end_time": "2020-11-26T19:56:55.926972",
     "exception": false,
     "start_time": "2020-11-26T19:56:55.915559",
     "status": "completed"
    },
    "tags": []
   },
   "source": [
    "We can run our pipeline with the following command:"
   ]
  },
  {
   "cell_type": "code",
   "execution_count": 5,
   "metadata": {
    "execution": {
     "iopub.execute_input": "2020-11-26T19:56:55.952809Z",
     "iopub.status.busy": "2020-11-26T19:56:55.952039Z",
     "iopub.status.idle": "2020-11-26T19:57:04.945612Z",
     "shell.execute_reply": "2020-11-26T19:57:04.946144Z"
    },
    "lines_to_next_cell": 0,
    "papermill": {
     "duration": 9.009018,
     "end_time": "2020-11-26T19:57:04.946373",
     "exception": false,
     "start_time": "2020-11-26T19:56:55.937355",
     "status": "completed"
    },
    "tags": [
     "bash"
    ]
   },
   "outputs": [
    {
     "name": "stdout",
     "output_type": "stream",
     "text": [
      "name           Ran?      Elapsed (s)    Percentage\n",
      "-------------  ------  -------------  ------------\n",
      "filter_prices  True         0.00307      0.0434862\n",
      "filter_sales   True         0.003111     0.0440669\n",
      "group_sales    True         0.001316     0.018641\n",
      "join           True         0.001029     0.0145757\n",
      "join_dump      True         0.001745     0.0247177\n",
      "plot.py        True         7.04945     99.8545\n"
     ]
    },
    {
     "name": "stderr",
     "output_type": "stream",
     "text": [
      "100%|██████████| 6/6 [00:00<00:00, 8848.74it/s]\n",
      "Building task \"plot.py\":   0%|          | 0/6 [00:00<?, ?it/s]  \n",
      "Executing:   0%|          | 0/4 [00:00<?, ?cell/s]\u001b[A\n",
      "Executing:  25%|██▌       | 1/4 [00:06<00:18,  6.26s/cell]\u001b[A\n",
      "Executing: 100%|██████████| 4/4 [00:06<00:00,  1.70s/cell]\n",
      "Building task \"plot.py\": 100%|██████████| 6/6 [00:07<00:00,  1.18s/it]\n"
     ]
    }
   ],
   "source": [
    "%%sh\n",
    "ploomber build"
   ]
  },
  {
   "cell_type": "markdown",
   "metadata": {
    "papermill": {
     "duration": 0.011577,
     "end_time": "2020-11-26T19:57:04.968839",
     "exception": false,
     "start_time": "2020-11-26T19:57:04.957262",
     "status": "completed"
    },
    "tags": []
   },
   "source": [
    "That's it. We just build our pipeline. Let's try again."
   ]
  },
  {
   "cell_type": "code",
   "execution_count": 6,
   "metadata": {
    "execution": {
     "iopub.execute_input": "2020-11-26T19:57:04.996685Z",
     "iopub.status.busy": "2020-11-26T19:57:04.995958Z",
     "iopub.status.idle": "2020-11-26T19:57:06.969905Z",
     "shell.execute_reply": "2020-11-26T19:57:06.970370Z"
    },
    "papermill": {
     "duration": 1.990202,
     "end_time": "2020-11-26T19:57:06.970602",
     "exception": false,
     "start_time": "2020-11-26T19:57:04.980400",
     "status": "completed"
    },
    "tags": [
     "bash"
    ]
   },
   "outputs": [
    {
     "name": "stdout",
     "output_type": "stream",
     "text": [
      "name           Ran?      Elapsed (s)    Percentage\n",
      "-------------  ------  -------------  ------------\n",
      "filter_prices  False               0             0\n",
      "filter_sales   False               0             0\n",
      "group_sales    False               0             0\n",
      "join           False               0             0\n",
      "join_dump      False               0             0\n",
      "plot.py        False               0             0\n"
     ]
    },
    {
     "name": "stderr",
     "output_type": "stream",
     "text": [
      "100%|██████████| 6/6 [00:00<00:00, 8391.41it/s]\n",
      "0it [00:00, ?it/s]\n"
     ]
    }
   ],
   "source": [
    "%%sh\n",
    "ploomber build"
   ]
  },
  {
   "cell_type": "markdown",
   "metadata": {
    "papermill": {
     "duration": 0.011937,
     "end_time": "2020-11-26T19:57:06.994401",
     "exception": false,
     "start_time": "2020-11-26T19:57:06.982464",
     "status": "completed"
    },
    "tags": []
   },
   "source": [
    "This time it finished real quick because there is nothing to do, nothing has changed.\n",
    "\n",
    "Let's now modify one of the tasks to see what happens (make sure you save changes):\n",
    "\n",
    "[Click here to open plot.py](plot.py)\n",
    "\n",
    "Also try modifying any of the SQL scripts:\n",
    "\n",
    "[Click here to go to the spec folder](.)\n",
    "\n",
    "Let's build again:"
   ]
  },
  {
   "cell_type": "code",
   "execution_count": 7,
   "metadata": {
    "execution": {
     "iopub.execute_input": "2020-11-26T19:57:07.024739Z",
     "iopub.status.busy": "2020-11-26T19:57:07.023929Z",
     "iopub.status.idle": "2020-11-26T19:57:08.934677Z",
     "shell.execute_reply": "2020-11-26T19:57:08.935159Z"
    },
    "papermill": {
     "duration": 1.928912,
     "end_time": "2020-11-26T19:57:08.935396",
     "exception": false,
     "start_time": "2020-11-26T19:57:07.006484",
     "status": "completed"
    },
    "tags": [
     "bash"
    ]
   },
   "outputs": [
    {
     "name": "stdout",
     "output_type": "stream",
     "text": [
      "name           Ran?      Elapsed (s)    Percentage\n",
      "-------------  ------  -------------  ------------\n",
      "filter_prices  False               0             0\n",
      "filter_sales   False               0             0\n",
      "group_sales    False               0             0\n",
      "join           False               0             0\n",
      "join_dump      False               0             0\n",
      "plot.py        False               0             0\n"
     ]
    },
    {
     "name": "stderr",
     "output_type": "stream",
     "text": [
      "100%|██████████| 6/6 [00:00<00:00, 8574.39it/s]\n",
      "0it [00:00, ?it/s]\n"
     ]
    }
   ],
   "source": [
    "%%sh\n",
    "ploomber build"
   ]
  },
  {
   "cell_type": "markdown",
   "metadata": {
    "papermill": {
     "duration": 0.012383,
     "end_time": "2020-11-26T19:57:08.959561",
     "exception": false,
     "start_time": "2020-11-26T19:57:08.947178",
     "status": "completed"
    },
    "tags": []
   },
   "source": [
    "Depending on your changes, Ploomber will determine which tasks to run again and which ones to skip.\n",
    "\n",
    "The final output of our pipeline is a report, [let's see it](output/plot.html).\n",
    "\n",
    "That's it! Ploomber makes it very simple to manage your data workflows."
   ]
  },
  {
   "cell_type": "markdown",
   "metadata": {
    "papermill": {
     "duration": 0.01229,
     "end_time": "2020-11-26T19:57:08.984205",
     "exception": false,
     "start_time": "2020-11-26T19:57:08.971915",
     "status": "completed"
    },
    "tags": []
   },
   "source": [
    "## Where to go from here\n",
    "\n",
    "[`etl/`](../etl/README.ipynb) contains a more complete SQL example."
   ]
  }
 ],
 "metadata": {
  "jupytext": {
   "cell_metadata_filter": "tags,-all",
   "main_language": "bash",
   "notebook_metadata_filter": "-all"
  },
  "kernelspec": {
   "display_name": "Python 3",
   "language": "python",
   "name": "python3"
  },
  "language_info": {
   "codemirror_mode": {
    "name": "ipython",
    "version": 3
   },
   "file_extension": ".py",
   "mimetype": "text/x-python",
   "name": "python",
   "nbconvert_exporter": "python",
   "pygments_lexer": "ipython3",
   "version": "3.7.8"
  },
  "papermill": {
   "default_parameters": {},
   "duration": 17.374833,
   "end_time": "2020-11-26T19:57:09.267368",
   "environment_variables": {},
   "exception": null,
   "input_path": "/var/folders/3h/_lvh_w_x5g30rrjzb_xnn2j80000gq/T/tmpy1xkxkaz.ipynb",
   "output_path": "spec-api-sql/README.ipynb",
   "parameters": {
    "product": "spec-api-sql/README.ipynb"
   },
   "start_time": "2020-11-26T19:56:51.892535",
   "version": "2.2.2"
  }
 },
 "nbformat": 4,
 "nbformat_minor": 4
}
