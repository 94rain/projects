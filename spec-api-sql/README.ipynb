{
 "cells": [
  {
   "cell_type": "markdown",
   "metadata": {
    "papermill": {
     "duration": 0.009331,
     "end_time": "2020-12-09T22:37:11.243546",
     "exception": false,
     "start_time": "2020-12-09T22:37:11.234215",
     "status": "completed"
    },
    "tags": []
   },
   "source": [
    "\n",
    "*Note:* You can run this from your computer (Jupyter or terminal), or use one of the\n",
    "hosted options:\n",
    "[![binder-logo](https://mybinder.org/v2/gh/ploomber/binder-env/main?urlpath=git-pull%3Frepo%3Dhttps%253A%252F%252Fgithub.com%252Fploomber%252Fprojects%26urlpath%3Dlab%252Ftree%252Fprojects%252Fspec-api-sql%252FREADME.ipynb%26branch%3Dmaster)\n",
    "[![deepnote-logo](https://deepnote.com/buttons/launch-in-deepnote-small.svg)](https://deepnote.com/launch?template=deepnote&url=https://github.com/ploomber/projects/blob/master/spec-api-sql/README.ipynb)\n"
   ]
  },
  {
   "cell_type": "markdown",
   "metadata": {
    "papermill": {
     "duration": 0.011267,
     "end_time": "2020-12-09T22:37:11.263224",
     "exception": false,
     "start_time": "2020-12-09T22:37:11.251957",
     "status": "completed"
    },
    "tags": []
   },
   "source": [
    "# SQL/Python pipeline example\n",
    "\n",
    "This demo showcases the spec API that allows you to write pipelines using YAML files so you can focus on the Data Science and not dealing which complex task dependencies nor managing database connections.\n",
    "\n",
    "Let's take a look at the pipeline definition:"
   ]
  },
  {
   "cell_type": "code",
   "execution_count": 1,
   "metadata": {
    "execution": {
     "iopub.execute_input": "2020-12-09T22:37:11.286875Z",
     "iopub.status.busy": "2020-12-09T22:37:11.285818Z",
     "iopub.status.idle": "2020-12-09T22:37:11.296698Z",
     "shell.execute_reply": "2020-12-09T22:37:11.297182Z"
    },
    "papermill": {
     "duration": 0.025633,
     "end_time": "2020-12-09T22:37:11.297490",
     "exception": false,
     "start_time": "2020-12-09T22:37:11.271857",
     "status": "completed"
    },
    "tags": []
   },
   "outputs": [
    {
     "data": {
      "text/markdown": [
       "```yaml\n",
       "meta:\n",
       "  extract_product: False\n",
       "\n",
       "  product_default_class:\n",
       "    SQLScript: SQLiteRelation\n",
       "\n",
       "  jupyter_hot_reload: True\n",
       "\n",
       "config:\n",
       "  hot_reload: True\n",
       "\n",
       "clients:\n",
       "  # tasks\n",
       "  SQLScript: config.get_client\n",
       "  SQLDump: config.get_client\n",
       "  # products\n",
       "  SQLiteRelation: config.get_client\n",
       "\n",
       "tasks:\n",
       "  - source: filter_sales.sql\n",
       "    product: [filtered_sales, table]\n",
       "    name: filter_sales\n",
       "\n",
       "  - source: group_sales.sql\n",
       "    product: [grouped_sales, table]\n",
       "    name: group_sales\n",
       "\n",
       "  - source: filter_prices.sql\n",
       "    product: [filtered_prices, table]\n",
       "    name: filter_prices\n",
       "\n",
       "  - source: join.sql\n",
       "    product: [joined, table]\n",
       "    name: join\n",
       "\n",
       "  - class: SQLDump\n",
       "    source: join_dump.sql\n",
       "    product: output/joined_data.csv\n",
       "    name: join_dump\n",
       "    chunksize: null\n",
       "\n",
       "  - source: plot.py\n",
       "    product: output/plot.html\n",
       "```"
      ],
      "text/plain": [
       "<IPython.core.display.Markdown object>"
      ]
     },
     "execution_count": 1,
     "metadata": {},
     "output_type": "execute_result"
    }
   ],
   "source": [
    "\n",
    "from pathlib import Path\n",
    "from IPython.display import Markdown\n",
    "\n",
    "Markdown('```yaml\\n{}\\n```'.format(Path('pipeline.yaml').read_text()))"
   ]
  },
  {
   "cell_type": "markdown",
   "metadata": {
    "papermill": {
     "duration": 0.00896,
     "end_time": "2020-12-09T22:37:11.315515",
     "exception": false,
     "start_time": "2020-12-09T22:37:11.306555",
     "status": "completed"
    },
    "tags": []
   },
   "source": [
    "The first two sections configure our pipeline, the `tasks` section is the actual pipeline definition. Each element defines a task, we see that we have a few SQL transformations, then we dump a table to a CSV file and we produce an HTML report at the end. The order here doesn't matter, the source code itself declares its own upstream dependencies and Ploomber extracts them to execute your pipeline.\n",
    "\n",
    "Let's take a look at one of the SQL files:"
   ]
  },
  {
   "cell_type": "code",
   "execution_count": 2,
   "metadata": {
    "execution": {
     "iopub.execute_input": "2020-12-09T22:37:11.338991Z",
     "iopub.status.busy": "2020-12-09T22:37:11.338091Z",
     "iopub.status.idle": "2020-12-09T22:37:11.341629Z",
     "shell.execute_reply": "2020-12-09T22:37:11.342258Z"
    },
    "papermill": {
     "duration": 0.01823,
     "end_time": "2020-12-09T22:37:11.342500",
     "exception": false,
     "start_time": "2020-12-09T22:37:11.324270",
     "status": "completed"
    },
    "tags": []
   },
   "outputs": [
    {
     "data": {
      "text/markdown": [
       "```sql\n",
       "-- this placeholder will be replaced at runtime\n",
       "DROP TABLE IF EXISTS {{product}};\n",
       "\n",
       "CREATE TABLE {{product}} AS\n",
       "SELECT product_id, count * price AS revenue\n",
       "-- declare dependencies using the name (or source if no name was declared)\n",
       "-- of the task that should run first\n",
       "FROM {{upstream['group_sales']}}\n",
       "JOIN {{upstream['filter_prices']}}\n",
       "USING (product_id);\n",
       "\n",
       "```"
      ],
      "text/plain": [
       "<IPython.core.display.Markdown object>"
      ]
     },
     "execution_count": 2,
     "metadata": {},
     "output_type": "execute_result"
    }
   ],
   "source": [
    "\n",
    "Markdown('```sql\\n{}\\n```'.format(Path('join.sql').read_text()))"
   ]
  },
  {
   "cell_type": "markdown",
   "metadata": {
    "papermill": {
     "duration": 0.009728,
     "end_time": "2020-12-09T22:37:11.362762",
     "exception": false,
     "start_time": "2020-12-09T22:37:11.353034",
     "status": "completed"
    },
    "tags": []
   },
   "source": [
    "Pipeline plot:"
   ]
  },
  {
   "cell_type": "code",
   "execution_count": 3,
   "metadata": {
    "execution": {
     "iopub.execute_input": "2020-12-09T22:37:11.388729Z",
     "iopub.status.busy": "2020-12-09T22:37:11.387155Z",
     "iopub.status.idle": "2020-12-09T22:37:13.883606Z",
     "shell.execute_reply": "2020-12-09T22:37:13.884969Z"
    },
    "papermill": {
     "duration": 2.513153,
     "end_time": "2020-12-09T22:37:13.885615",
     "exception": false,
     "start_time": "2020-12-09T22:37:11.372462",
     "status": "completed"
    },
    "tags": [
     "bash"
    ]
   },
   "outputs": [
    {
     "name": "stdout",
     "output_type": "stream",
     "text": [
      "Plot saved at: pipeline.png\n"
     ]
    },
    {
     "name": "stderr",
     "output_type": "stream",
     "text": [
      "100%|██████████| 6/6 [00:00<00:00, 7881.56it/s]\n"
     ]
    }
   ],
   "source": [
    "%%sh\n",
    "# Note: plotting doesn't work in deepnote\n",
    "ploomber plot"
   ]
  },
  {
   "cell_type": "code",
   "execution_count": 4,
   "metadata": {
    "execution": {
     "iopub.execute_input": "2020-12-09T22:37:13.917385Z",
     "iopub.status.busy": "2020-12-09T22:37:13.916560Z",
     "iopub.status.idle": "2020-12-09T22:37:13.921313Z",
     "shell.execute_reply": "2020-12-09T22:37:13.922198Z"
    },
    "papermill": {
     "duration": 0.021223,
     "end_time": "2020-12-09T22:37:13.922408",
     "exception": false,
     "start_time": "2020-12-09T22:37:13.901185",
     "status": "completed"
    },
    "tags": []
   },
   "outputs": [
    {
     "data": {
      "image/png": "[encoded data removed]",
      "text/plain": [
       "<IPython.core.display.Image object>"
      ]
     },
     "execution_count": 4,
     "metadata": {},
     "output_type": "execute_result"
    }
   ],
   "source": [
    "\n",
    "from IPython.display import Image\n",
    "Image(filename='pipeline.png')"
   ]
  },
  {
   "cell_type": "markdown",
   "metadata": {
    "papermill": {
     "duration": 0.010813,
     "end_time": "2020-12-09T22:37:13.944058",
     "exception": false,
     "start_time": "2020-12-09T22:37:13.933245",
     "status": "completed"
    },
    "tags": []
   },
   "source": [
    "We can run our pipeline with the following command:"
   ]
  },
  {
   "cell_type": "code",
   "execution_count": 5,
   "metadata": {
    "execution": {
     "iopub.execute_input": "2020-12-09T22:37:13.970198Z",
     "iopub.status.busy": "2020-12-09T22:37:13.969447Z",
     "iopub.status.idle": "2020-12-09T22:37:18.976411Z",
     "shell.execute_reply": "2020-12-09T22:37:18.977673Z"
    },
    "lines_to_next_cell": 0,
    "papermill": {
     "duration": 5.023202,
     "end_time": "2020-12-09T22:37:18.977941",
     "exception": false,
     "start_time": "2020-12-09T22:37:13.954739",
     "status": "completed"
    },
    "tags": [
     "bash"
    ]
   },
   "outputs": [
    {
     "name": "stdout",
     "output_type": "stream",
     "text": [
      "name           Ran?      Elapsed (s)    Percentage\n",
      "-------------  ------  -------------  ------------\n",
      "join_dump      True         0.002647     0.0939727\n",
      "plot.py        True         2.81413     99.906\n",
      "filter_prices  False        0            0\n",
      "filter_sales   False        0            0\n",
      "group_sales    False        0            0\n",
      "join           False        0            0\n"
     ]
    },
    {
     "name": "stderr",
     "output_type": "stream",
     "text": [
      "100%|██████████| 6/6 [00:00<00:00, 7169.75it/s]\n",
      "Building task \"plot.py\":   0%|          | 0/2 [00:00<?, ?it/s]  \n",
      "Executing:   0%|          | 0/4 [00:00<?, ?cell/s]\u001b[A\n",
      "Executing:  25%|██▌       | 1/4 [00:01<00:05,  2.00s/cell]\u001b[A\n",
      "Executing: 100%|██████████| 4/4 [00:02<00:00,  1.56cell/s]\n",
      "Building task \"plot.py\": 100%|██████████| 2/2 [00:02<00:00,  1.42s/it]\n"
     ]
    }
   ],
   "source": [
    "%%sh\n",
    "ploomber build"
   ]
  },
  {
   "cell_type": "markdown",
   "metadata": {
    "papermill": {
     "duration": 0.013272,
     "end_time": "2020-12-09T22:37:19.007849",
     "exception": false,
     "start_time": "2020-12-09T22:37:18.994577",
     "status": "completed"
    },
    "tags": []
   },
   "source": [
    "That's it. We just build our pipeline. Let's try again."
   ]
  },
  {
   "cell_type": "code",
   "execution_count": 6,
   "metadata": {
    "execution": {
     "iopub.execute_input": "2020-12-09T22:37:19.038379Z",
     "iopub.status.busy": "2020-12-09T22:37:19.037168Z",
     "iopub.status.idle": "2020-12-09T22:37:21.213391Z",
     "shell.execute_reply": "2020-12-09T22:37:21.214049Z"
    },
    "papermill": {
     "duration": 2.193378,
     "end_time": "2020-12-09T22:37:21.214298",
     "exception": false,
     "start_time": "2020-12-09T22:37:19.020920",
     "status": "completed"
    },
    "tags": [
     "bash"
    ]
   },
   "outputs": [
    {
     "name": "stdout",
     "output_type": "stream",
     "text": [
      "name           Ran?      Elapsed (s)    Percentage\n",
      "-------------  ------  -------------  ------------\n",
      "filter_prices  False               0             0\n",
      "filter_sales   False               0             0\n",
      "group_sales    False               0             0\n",
      "join           False               0             0\n",
      "join_dump      False               0             0\n",
      "plot.py        False               0             0\n"
     ]
    },
    {
     "name": "stderr",
     "output_type": "stream",
     "text": [
      "100%|██████████| 6/6 [00:00<00:00, 8609.59it/s]\n",
      "0it [00:00, ?it/s]\n"
     ]
    }
   ],
   "source": [
    "%%sh\n",
    "ploomber build"
   ]
  },
  {
   "cell_type": "markdown",
   "metadata": {
    "papermill": {
     "duration": 0.013024,
     "end_time": "2020-12-09T22:37:21.241998",
     "exception": false,
     "start_time": "2020-12-09T22:37:21.228974",
     "status": "completed"
    },
    "tags": []
   },
   "source": [
    "This time it finished real quick because there is nothing to do, nothing has changed.\n",
    "\n",
    "Let's now modify one of the tasks to see what happens (make sure you save changes):\n",
    "\n",
    "[Click here to open plot.py](plot.py)\n",
    "\n",
    "Also try modifying any of the SQL scripts:\n",
    "\n",
    "[Click here to go to the spec folder](.)\n",
    "\n",
    "Let's build again:"
   ]
  },
  {
   "cell_type": "code",
   "execution_count": 7,
   "metadata": {
    "execution": {
     "iopub.execute_input": "2020-12-09T22:37:21.272653Z",
     "iopub.status.busy": "2020-12-09T22:37:21.271957Z",
     "iopub.status.idle": "2020-12-09T22:37:23.515028Z",
     "shell.execute_reply": "2020-12-09T22:37:23.515924Z"
    },
    "papermill": {
     "duration": 2.260784,
     "end_time": "2020-12-09T22:37:23.516213",
     "exception": false,
     "start_time": "2020-12-09T22:37:21.255429",
     "status": "completed"
    },
    "tags": [
     "bash"
    ]
   },
   "outputs": [
    {
     "name": "stdout",
     "output_type": "stream",
     "text": [
      "name           Ran?      Elapsed (s)    Percentage\n",
      "-------------  ------  -------------  ------------\n",
      "filter_prices  False               0             0\n",
      "filter_sales   False               0             0\n",
      "group_sales    False               0             0\n",
      "join           False               0             0\n",
      "join_dump      False               0             0\n",
      "plot.py        False               0             0\n"
     ]
    },
    {
     "name": "stderr",
     "output_type": "stream",
     "text": [
      "100%|██████████| 6/6 [00:00<00:00, 6255.49it/s]\n",
      "0it [00:00, ?it/s]\n"
     ]
    }
   ],
   "source": [
    "%%sh\n",
    "ploomber build"
   ]
  },
  {
   "cell_type": "markdown",
   "metadata": {
    "papermill": {
     "duration": 0.012932,
     "end_time": "2020-12-09T22:37:23.543873",
     "exception": false,
     "start_time": "2020-12-09T22:37:23.530941",
     "status": "completed"
    },
    "tags": []
   },
   "source": [
    "Depending on your changes, Ploomber will determine which tasks to run again and which ones to skip.\n",
    "\n",
    "The final output of our pipeline is a report, [let's see it](output/plot.html).\n",
    "\n",
    "That's it! Ploomber makes it very simple to manage your data workflows."
   ]
  },
  {
   "cell_type": "markdown",
   "metadata": {
    "papermill": {
     "duration": 0.012849,
     "end_time": "2020-12-09T22:37:23.570952",
     "exception": false,
     "start_time": "2020-12-09T22:37:23.558103",
     "status": "completed"
    },
    "tags": []
   },
   "source": [
    "## Where to go from here\n",
    "\n",
    "[`etl/`](../etl/README.ipynb) contains a more complete SQL example."
   ]
  }
 ],
 "metadata": {
  "jupytext": {
   "cell_metadata_filter": "tags,-all",
   "main_language": "bash",
   "notebook_metadata_filter": "-all"
  },
  "kernelspec": {
   "display_name": "Python 3",
   "language": "python",
   "name": "python3"
  },
  "language_info": {
   "codemirror_mode": {
    "name": "ipython",
    "version": 3
   },
   "file_extension": ".py",
   "mimetype": "text/x-python",
   "name": "python",
   "nbconvert_exporter": "python",
   "pygments_lexer": "ipython3",
   "version": "3.7.8"
  },
  "papermill": {
   "default_parameters": {},
   "duration": 13.656274,
   "end_time": "2020-12-09T22:37:23.858569",
   "environment_variables": {},
   "exception": null,
   "input_path": "/var/folders/3h/_lvh_w_x5g30rrjzb_xnn2j80000gq/T/tmpjgobn2hy.ipynb",
   "output_path": "spec-api-sql/README.ipynb",
   "parameters": {
    "product": "spec-api-sql/README.ipynb"
   },
   "start_time": "2020-12-09T22:37:10.202295",
   "version": "2.2.2"
  }
 },
 "nbformat": 4,
 "nbformat_minor": 4
}
