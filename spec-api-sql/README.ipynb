{
 "cells": [
  {
   "cell_type": "markdown",
   "id": "preliminary-hearts",
   "metadata": {
    "papermill": {
     "duration": 0.010322,
     "end_time": "2021-03-14T00:40:02.905180",
     "exception": false,
     "start_time": "2021-03-14T00:40:02.894858",
     "status": "completed"
    },
    "tags": []
   },
   "source": [
    "\n",
    "*Note:* You can run this from your computer (Jupyter or terminal), or use one of the\n",
    "hosted options:\n",
    "\n",
    "[![binder-logo](https://mybinder.org/badge_logo.svg)](https://mybinder.org/v2/gh/ploomber/binder-env/main?urlpath=git-pull%3Frepo%3Dhttps%253A%252F%252Fgithub.com%252Fploomber%252Fprojects%26urlpath%3Dlab%252Ftree%252Fprojects%252Fspec-api-sql%252FREADME.ipynb%26branch%3Dmaster)\n",
    "\n",
    "[![deepnote-logo](https://deepnote.com/buttons/launch-in-deepnote-small.svg)](https://deepnote.com/launch?template=deepnote&url=https://github.com/ploomber/projects/blob/master/spec-api-sql/README.ipynb)\n"
   ]
  },
  {
   "cell_type": "markdown",
   "id": "cellular-enlargement",
   "metadata": {
    "papermill": {
     "duration": 0.00901,
     "end_time": "2021-03-14T00:40:02.923011",
     "exception": false,
     "start_time": "2021-03-14T00:40:02.914001",
     "status": "completed"
    },
    "tags": []
   },
   "source": [
    "# SQL/Python pipeline\n",
    "\n",
    "Pipeline with SQL and Python tasks.\n",
    "\n",
    "## Setup\n",
    "\n",
    "(**Note**: Skip if running in binder or deepnote)\n",
    "\n",
    "~~~sh\n",
    "# if using conda\n",
    "conda env create --file environment.yaml\n",
    "conda activate spec-api-sql\n",
    "\n",
    "# or use pip directly\n",
    "# note that this won't install pygraphviz. If you want to plot the pipeline\n",
    "# you have to install it first\n",
    "pip install -r requirements.txt\n",
    "~~~\n",
    "\n",
    "## Create sample data\n"
   ]
  },
  {
   "cell_type": "code",
   "execution_count": 1,
   "id": "stone-sunday",
   "metadata": {
    "execution": {
     "iopub.execute_input": "2021-03-14T00:40:02.951589Z",
     "iopub.status.busy": "2021-03-14T00:40:02.949774Z",
     "iopub.status.idle": "2021-03-14T00:40:07.224166Z",
     "shell.execute_reply": "2021-03-14T00:40:07.224841Z"
    },
    "papermill": {
     "duration": 4.293407,
     "end_time": "2021-03-14T00:40:07.225158",
     "exception": false,
     "start_time": "2021-03-14T00:40:02.931751",
     "status": "completed"
    },
    "tags": [
     "bash"
    ]
   },
   "outputs": [
    {
     "name": "stdout",
     "output_type": "stream",
     "text": [
      "Requirement already satisfied: sqlalchemy in /Users/Edu/miniconda3/envs/projects/lib/python3.7/site-packages (1.3.23)\n",
      "Collecting faker\n",
      "  Using cached Faker-6.6.0-py3-none-any.whl (1.2 MB)\n",
      "Requirement already satisfied: numpy in /Users/Edu/miniconda3/envs/projects/lib/python3.7/site-packages (1.20.1)\n",
      "Requirement already satisfied: pandas in /Users/Edu/miniconda3/envs/projects/lib/python3.7/site-packages (1.2.3)\n",
      "Requirement already satisfied: python-dateutil>=2.4 in /Users/Edu/miniconda3/envs/projects/lib/python3.7/site-packages (from faker) (2.8.1)\n",
      "Collecting text-unidecode==1.3\n",
      "  Using cached text_unidecode-1.3-py2.py3-none-any.whl (78 kB)\n",
      "Requirement already satisfied: six>=1.5 in /Users/Edu/miniconda3/envs/projects/lib/python3.7/site-packages (from python-dateutil>=2.4->faker) (1.15.0)\n",
      "Requirement already satisfied: pytz>=2017.3 in /Users/Edu/miniconda3/envs/projects/lib/python3.7/site-packages (from pandas) (2021.1)\n",
      "Installing collected packages: text-unidecode, faker\n",
      "Successfully installed faker-6.6.0 text-unidecode-1.3\n"
     ]
    }
   ],
   "source": [
    "%%sh\n",
    "# create sample data\n",
    "cd setup\n",
    "bash setup.sh\n",
    "# move back to the original spec-api-sql folder\n",
    "cd .."
   ]
  },
  {
   "cell_type": "markdown",
   "id": "played-postage",
   "metadata": {
    "papermill": {
     "duration": 0.009542,
     "end_time": "2021-03-14T00:40:07.244308",
     "exception": false,
     "start_time": "2021-03-14T00:40:07.234766",
     "status": "completed"
    },
    "tags": []
   },
   "source": [
    "## Definition"
   ]
  },
  {
   "cell_type": "code",
   "execution_count": 2,
   "id": "favorite-timer",
   "metadata": {
    "execution": {
     "iopub.execute_input": "2021-03-14T00:40:07.273167Z",
     "iopub.status.busy": "2021-03-14T00:40:07.272223Z",
     "iopub.status.idle": "2021-03-14T00:40:07.328779Z",
     "shell.execute_reply": "2021-03-14T00:40:07.329310Z"
    },
    "lines_to_next_cell": 0,
    "papermill": {
     "duration": 0.075528,
     "end_time": "2021-03-14T00:40:07.329563",
     "exception": false,
     "start_time": "2021-03-14T00:40:07.254035",
     "status": "completed"
    },
    "tags": [
     "bash"
    ]
   },
   "outputs": [
    {
     "name": "stdout",
     "output_type": "stream",
     "text": [
      "meta:\n",
      "  product_default_class:\n",
      "    SQLScript: SQLiteRelation\n",
      "\n",
      "  jupyter_hot_reload: True\n",
      "\n",
      "config:\n",
      "  hot_reload: True\n",
      "\n",
      "clients:\n",
      "  # tasks\n",
      "  SQLScript: config.get_client\n",
      "  SQLDump: config.get_client\n",
      "  # products\n",
      "  SQLiteRelation: config.get_client\n",
      "\n",
      "tasks:\n",
      "  - source: filter_sales.sql\n",
      "    product: [filtered_sales, table]\n",
      "    name: filter_sales\n",
      "\n",
      "  - source: group_sales.sql\n",
      "    product: [grouped_sales, table]\n",
      "    name: group_sales\n",
      "\n",
      "  - source: filter_prices.sql\n",
      "    product: [filtered_prices, table]\n",
      "    name: filter_prices\n",
      "\n",
      "  - source: join.sql\n",
      "    product: [joined, table]\n",
      "    name: join\n",
      "\n",
      "  - class: SQLDump\n",
      "    source: join_dump.sql\n",
      "    product: output/joined_data.csv\n",
      "    name: join_dump\n",
      "    chunksize: null\n",
      "\n",
      "  - source: plot.py\n",
      "    product: output/plot.html"
     ]
    }
   ],
   "source": [
    "%%sh\n",
    "cat pipeline.yaml"
   ]
  },
  {
   "cell_type": "markdown",
   "id": "metallic-favorite",
   "metadata": {
    "papermill": {
     "duration": 0.009133,
     "end_time": "2021-03-14T00:40:07.348338",
     "exception": false,
     "start_time": "2021-03-14T00:40:07.339205",
     "status": "completed"
    },
    "tags": []
   },
   "source": [
    "The first two sections configure our pipeline; the `tasks` section is the\n",
    "actual pipeline definition. We see that we have a few SQL transformations,\n",
    "then we dump a table to a CSV file and we produce an HTML report at the end.\n",
    "The order here doesn't matter, the source code itself declares its own\n",
    "upstream dependencies, and Ploomber extracts them to execute your pipeline."
   ]
  },
  {
   "cell_type": "markdown",
   "id": "flush-crawford",
   "metadata": {
    "papermill": {
     "duration": 0.009453,
     "end_time": "2021-03-14T00:40:07.368669",
     "exception": false,
     "start_time": "2021-03-14T00:40:07.359216",
     "status": "completed"
    },
    "tags": []
   },
   "source": [
    "## Plot"
   ]
  },
  {
   "cell_type": "code",
   "execution_count": 3,
   "id": "functioning-spouse",
   "metadata": {
    "execution": {
     "iopub.execute_input": "2021-03-14T00:40:07.393919Z",
     "iopub.status.busy": "2021-03-14T00:40:07.393085Z",
     "iopub.status.idle": "2021-03-14T00:40:12.619934Z",
     "shell.execute_reply": "2021-03-14T00:40:12.620628Z"
    },
    "papermill": {
     "duration": 5.242496,
     "end_time": "2021-03-14T00:40:12.620830",
     "exception": false,
     "start_time": "2021-03-14T00:40:07.378334",
     "status": "completed"
    },
    "tags": [
     "bash"
    ]
   },
   "outputs": [
    {
     "name": "stdout",
     "output_type": "stream",
     "text": [
      "Plot saved at: pipeline.png\n"
     ]
    },
    {
     "name": "stderr",
     "output_type": "stream",
     "text": [
      "100%|██████████| 6/6 [00:00<00:00, 8510.59it/s]\n"
     ]
    }
   ],
   "source": [
    "%%sh\n",
    "# Note: plotting doesn't work in deepnote\n",
    "# Note: if plotting locally, install pygrapviz first\n",
    "ploomber plot"
   ]
  },
  {
   "cell_type": "markdown",
   "id": "canadian-squad",
   "metadata": {
    "papermill": {
     "duration": 0.01082,
     "end_time": "2021-03-14T00:40:12.642507",
     "exception": false,
     "start_time": "2021-03-14T00:40:12.631687",
     "status": "completed"
    },
    "tags": []
   },
   "source": [
    "If running in Jupyter, load the plot with this code:"
   ]
  },
  {
   "cell_type": "code",
   "execution_count": 4,
   "id": "subtle-bedroom",
   "metadata": {
    "execution": {
     "iopub.execute_input": "2021-03-14T00:40:12.669641Z",
     "iopub.status.busy": "2021-03-14T00:40:12.668925Z",
     "iopub.status.idle": "2021-03-14T00:40:12.680634Z",
     "shell.execute_reply": "2021-03-14T00:40:12.681171Z"
    },
    "papermill": {
     "duration": 0.029037,
     "end_time": "2021-03-14T00:40:12.681358",
     "exception": false,
     "start_time": "2021-03-14T00:40:12.652321",
     "status": "completed"
    },
    "tags": []
   },
   "outputs": [
    {
     "data": {
      "image/png": "[encoded data removed]",
      "text/plain": [
       "<IPython.core.display.Image object>"
      ]
     },
     "execution_count": 4,
     "metadata": {},
     "output_type": "execute_result"
    }
   ],
   "source": [
    "\n",
    "from IPython.display import Image\n",
    "Image(filename='pipeline.png')"
   ]
  },
  {
   "cell_type": "markdown",
   "id": "found-wellington",
   "metadata": {
    "papermill": {
     "duration": 0.010905,
     "end_time": "2021-03-14T00:40:12.702965",
     "exception": false,
     "start_time": "2021-03-14T00:40:12.692060",
     "status": "completed"
    },
    "tags": []
   },
   "source": [
    "Otherwise, open the `pipeline.png` file directly."
   ]
  },
  {
   "cell_type": "markdown",
   "id": "commercial-simpson",
   "metadata": {
    "papermill": {
     "duration": 0.010578,
     "end_time": "2021-03-14T00:40:12.725968",
     "exception": false,
     "start_time": "2021-03-14T00:40:12.715390",
     "status": "completed"
    },
    "tags": []
   },
   "source": [
    "## Build"
   ]
  },
  {
   "cell_type": "code",
   "execution_count": 5,
   "id": "threatened-limitation",
   "metadata": {
    "execution": {
     "iopub.execute_input": "2021-03-14T00:40:12.754751Z",
     "iopub.status.busy": "2021-03-14T00:40:12.753819Z",
     "iopub.status.idle": "2021-03-14T00:40:17.921564Z",
     "shell.execute_reply": "2021-03-14T00:40:17.922095Z"
    },
    "lines_to_next_cell": 0,
    "papermill": {
     "duration": 5.184939,
     "end_time": "2021-03-14T00:40:17.922297",
     "exception": false,
     "start_time": "2021-03-14T00:40:12.737358",
     "status": "completed"
    },
    "tags": [
     "bash"
    ]
   },
   "outputs": [
    {
     "name": "stdout",
     "output_type": "stream",
     "text": [
      "name           Ran?      Elapsed (s)    Percentage\n",
      "-------------  ------  -------------  ------------\n",
      "filter_prices  True         0.00418      0.141396\n",
      "filter_sales   True         0.001748     0.0591291\n",
      "group_sales    True         0.001476     0.0499282\n",
      "join           True         0.001153     0.0390022\n",
      "join_dump      True         0.002809     0.0950192\n",
      "plot           True         2.94488     99.6155\n"
     ]
    },
    {
     "name": "stderr",
     "output_type": "stream",
     "text": [
      "Building task \"plot\":   0%|          | 0/6 [00:00<?, ?it/s]     \n",
      "Executing:   0%|          | 0/4 [00:00<?, ?cell/s]\u001b[A\n",
      "Executing:  25%|██▌       | 1/4 [00:02<00:06,  2.11s/cell]\u001b[A\n",
      "Executing: 100%|██████████| 4/4 [00:02<00:00,  1.50cell/s]\n",
      "Building task \"plot\": 100%|██████████| 6/6 [00:02<00:00,  2.01it/s]\n"
     ]
    }
   ],
   "source": [
    "%%sh\n",
    "ploomber build"
   ]
  },
  {
   "cell_type": "markdown",
   "id": "coordinated-preservation",
   "metadata": {
    "papermill": {
     "duration": 0.013101,
     "end_time": "2021-03-14T00:40:17.947185",
     "exception": false,
     "start_time": "2021-03-14T00:40:17.934084",
     "status": "completed"
    },
    "tags": []
   },
   "source": [
    "The final output is a report: [output/plot.html](output/plot.html)."
   ]
  }
 ],
 "metadata": {
  "jupytext": {
   "cell_metadata_filter": "tags,-all",
   "main_language": "bash",
   "notebook_metadata_filter": "-all"
  },
  "kernelspec": {
   "display_name": "Python 3",
   "language": "python",
   "name": "python3"
  },
  "language_info": {
   "codemirror_mode": {
    "name": "ipython",
    "version": 3
   },
   "file_extension": ".py",
   "mimetype": "text/x-python",
   "name": "python",
   "nbconvert_exporter": "python",
   "pygments_lexer": "ipython3",
   "version": "3.7.10"
  },
  "papermill": {
   "duration": 16.54884,
   "end_time": "2021-03-14T00:40:18.226992",
   "exception": null,
   "input_path": "/var/folders/3h/_lvh_w_x5g30rrjzb_xnn2j80000gq/T/tmpt2o518hc.ipynb",
   "output_path": "spec-api-sql/README.ipynb",
   "parameters": {
    "product": "spec-api-sql/README.ipynb"
   },
   "start_time": "2021-03-14T00:40:01.678152"
  }
 },
 "nbformat": 4,
 "nbformat_minor": 5
}
