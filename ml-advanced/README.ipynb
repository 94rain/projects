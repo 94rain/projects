{
 "cells": [
  {
   "cell_type": "markdown",
   "id": "7b9261f1",
   "metadata": {
    "papermill": {
     "duration": 0.014615,
     "end_time": "2021-10-11T03:18:28.352743",
     "exception": false,
     "start_time": "2021-10-11T03:18:28.338128",
     "status": "completed"
    },
    "tags": []
   },
   "source": [
    "\n",
    "*Note:* You can run this example locally (`ploomber examples -n ml-advanced`) or in Binder (hosted JupyterLab ).\n",
    "\n",
    "[![binder-logo](https://mybinder.org/badge_logo.svg)](https://mybinder.org/v2/gh/ploomber/binder-env/main?urlpath=git-pull%3Frepo%3Dhttps%253A%252F%252Fgithub.com%252Fploomber%252Fprojects%26urlpath%3Dlab%252Ftree%252Fprojects%252Fml-advanced%252FREADME.ipynb%26branch%3Dmaster)\n"
   ]
  },
  {
   "cell_type": "markdown",
   "id": "045d09a8",
   "metadata": {
    "papermill": {
     "duration": 0.013599,
     "end_time": "2021-10-11T03:18:28.380320",
     "exception": false,
     "start_time": "2021-10-11T03:18:28.366721",
     "status": "completed"
    },
    "tags": []
   },
   "source": [
    "# ML advanced\n",
    "\n",
    "ML pipeline using the Python API. Shows how to package project, test it using pytest and train models in parallel.\n",
    "\n",
    "## Setup\n",
    "\n",
    "(**Note**: Skip if running in Binder)\n",
    "\n",
    "~~~bash\n",
    "# if using conda\n",
    "conda env create --file environment.yml\n",
    "conda activate ml-advanced\n",
    "\n",
    "# otherwise use pip directly\n",
    "pip install -r requirements.txt\n",
    "# install the pipeline as a package in editable mode\n",
    "pip install --editable .\n",
    "~~~\n",
    "\n",
    "## Build"
   ]
  },
  {
   "cell_type": "code",
   "execution_count": 1,
   "id": "c28afd5e",
   "metadata": {
    "execution": {
     "iopub.execute_input": "2021-10-11T03:18:28.415892Z",
     "iopub.status.busy": "2021-10-11T03:18:28.414703Z",
     "iopub.status.idle": "2021-10-11T03:19:03.507893Z",
     "shell.execute_reply": "2021-10-11T03:19:03.506777Z"
    },
    "papermill": {
     "duration": 35.113686,
     "end_time": "2021-10-11T03:19:03.508176",
     "exception": false,
     "start_time": "2021-10-11T03:18:28.394490",
     "status": "completed"
    },
    "tags": [
     "bash"
    ]
   },
   "outputs": [
    {
     "name": "stdout",
     "output_type": "stream",
     "text": [
      "Finished tasks so far: \n",
      "Remaining tasks: {'fit-ml-advanced--models--svc', 'join', 'fit-sklearn--ensemble--RandomForestClassifier', 'features', 'fit-ml-advanced--models--logistic-reg', 'get'}\n",
      "Finished 0 out of 6 tasks\n",
      "Finished tasks so far: {'features', 'join', 'get'}\n",
      "Remaining tasks: {'fit-ml-advanced--models--svc', 'fit-ml-advanced--models--logistic-reg', 'fit-sklearn--ensemble--RandomForestClassifier'}\n",
      "Finished 3 out of 6 tasks\n",
      "Finished tasks so far: {'features', 'join', 'get'}\n",
      "Remaining tasks: {'fit-ml-advanced--models--svc', 'fit-ml-advanced--models--logistic-reg', 'fit-sklearn--ensemble--RandomForestClassifier'}\n",
      "Finished 3 out of 6 tasks\n",
      "Finished tasks so far: {'features', 'join', 'get'}\n",
      "Remaining tasks: {'fit-ml-advanced--models--svc', 'fit-ml-advanced--models--logistic-reg', 'fit-sklearn--ensemble--RandomForestClassifier'}\n",
      "Finished 3 out of 6 tasks\n",
      "name                                Ran?      Elapsed (s)    Percentage\n",
      "----------------------------------  ------  -------------  ------------\n",
      "get                                 True         0.434511     0.577854\n",
      "features                            True         0.029837     0.0396801\n",
      "join                                True         0.0131       0.0174216\n",
      "fit-sklearn--ensemble--             True        27.5512      36.6401\n",
      "RandomForestClassifier\n",
      "fit-ml-advanced--models--logistic-  True        23.5203      31.2796\n",
      "reg\n",
      "fit-ml-advanced--models--svc        True        23.645       31.4453\n"
     ]
    },
    {
     "name": "stderr",
     "output_type": "stream",
     "text": [
      "Executing: 100%|██████████| 15/15 [00:22<00:00,  1.50s/cell]\n",
      "Executing: 100%|██████████| 15/15 [00:22<00:00,  1.51s/cell]\n",
      "Executing: 100%|██████████| 15/15 [00:26<00:00,  1.77s/cell]\n"
     ]
    }
   ],
   "source": [
    "%%sh\n",
    "ploomber build --entry-point ml_advanced.pipeline.make"
   ]
  },
  {
   "cell_type": "markdown",
   "id": "3ce91c68",
   "metadata": {
    "papermill": {
     "duration": 0.014609,
     "end_time": "2021-10-11T03:19:03.538789",
     "exception": false,
     "start_time": "2021-10-11T03:19:03.524180",
     "status": "completed"
    },
    "tags": []
   },
   "source": [
    "## Testing\n",
    "\n",
    "~~~bash\n",
    "# incremental (will only run the tasks that have changed)\n",
    "pytest\n",
    "\n",
    "# complete (force execution of all tasks)\n",
    "pytest --force\n",
    "\n",
    "# to start a debugging session on exceptions\n",
    "pytest --pdb\n",
    "\n",
    "# to start a debugging session at the start of every test\n",
    "pytest --trace\n",
    "~~~"
   ]
  },
  {
   "cell_type": "code",
   "execution_count": null,
   "id": "b870de9d",
   "metadata": {
    "papermill": {
     "duration": 0.015212,
     "end_time": "2021-10-11T03:19:03.569776",
     "exception": false,
     "start_time": "2021-10-11T03:19:03.554564",
     "status": "completed"
    },
    "tags": [
     "parameters"
    ]
   },
   "outputs": [],
   "source": []
  },
  {
   "cell_type": "code",
   "execution_count": 2,
   "id": "cf398d85",
   "metadata": {
    "execution": {
     "iopub.execute_input": "2021-10-11T03:19:03.609923Z",
     "iopub.status.busy": "2021-10-11T03:19:03.609082Z",
     "iopub.status.idle": "2021-10-11T03:19:03.611005Z",
     "shell.execute_reply": "2021-10-11T03:19:03.611451Z"
    },
    "papermill": {
     "duration": 0.026564,
     "end_time": "2021-10-11T03:19:03.611691",
     "exception": false,
     "start_time": "2021-10-11T03:19:03.585127",
     "status": "completed"
    },
    "tags": [
     "injected-parameters"
    ]
   },
   "outputs": [],
   "source": [
    "# Parameters\n",
    "product = \"ml-advanced/README.ipynb\"\n"
   ]
  }
 ],
 "metadata": {
  "jupytext": {
   "cell_metadata_filter": "tags,-all",
   "main_language": "bash",
   "notebook_metadata_filter": "-all",
   "text_representation": {
    "extension": ".md",
    "format_name": "markdown"
   }
  },
  "kernelspec": {
   "display_name": "Python 3 (ipykernel)",
   "language": "python",
   "name": "python3"
  },
  "language_info": {
   "codemirror_mode": {
    "name": "ipython",
    "version": 3
   },
   "file_extension": ".py",
   "mimetype": "text/x-python",
   "name": "python",
   "nbconvert_exporter": "python",
   "pygments_lexer": "ipython3",
   "version": "3.9.7"
  },
  "papermill": {
   "duration": 36.667427,
   "end_time": "2021-10-11T03:19:03.847647",
   "exception": null,
   "input_path": "/var/folders/3h/_lvh_w_x5g30rrjzb_xnn2j80000gq/T/tmpsmcktwpq.ipynb",
   "output_path": "ml-advanced/README.ipynb",
   "parameters": {
    "product": "ml-advanced/README.ipynb"
   },
   "start_time": "2021-10-11T03:18:27.180220"
  }
 },
 "nbformat": 4,
 "nbformat_minor": 5
}
