{
 "cells": [
  {
   "cell_type": "markdown",
   "metadata": {},
   "source": [
    "# ML advanced\n",
    "\n",
    "This example shows a Machine Learning pipeline using the Python API, how to package\n",
    "your projects so you can install them using `pip install .`, how to test\n",
    "using `pytest`,how to create an array of experiments to try several models and\n",
    "run them in parallel.\n",
    "\n",
    "## Setup\n",
    "\n",
    "Make sure you are in the `ml-advanced` folder:\n",
    "\n",
    "~~~bash\n",
    "conda env create --file environment.yml\n",
    "\n",
    "conda activate ml-advanced\n",
    "\n",
    "# install the pipeline as a package in editable mode, this way changes will\n",
    "# reflect when you update the source code\n",
    "pip install --editable .\n",
    "~~~\n",
    "\n",
    "## Executing pipeline"
   ]
  },
  {
   "cell_type": "code",
   "execution_count": null,
   "metadata": {
    "tags": [
     "bash"
    ]
   },
   "outputs": [],
   "source": [
    "%%sh\n",
    "ploomber build --entry-point ml_advanced.pipeline.make"
   ]
  },
  {
   "cell_type": "markdown",
   "metadata": {},
   "source": [
    "## Deploy to airflow\n",
    "\n",
    "WIP"
   ]
  },
  {
   "cell_type": "code",
   "execution_count": null,
   "metadata": {
    "lines_to_next_cell": 2
   },
   "outputs": [],
   "source": []
  },
  {
   "cell_type": "markdown",
   "metadata": {},
   "source": [
    "## Testing\n",
    "\n",
    "~~~bash\n",
    "# incremental (will only run the tasks that have changed)\n",
    "pytest\n",
    "\n",
    "# complete (force execution of all tasks)\n",
    "pytest --force\n",
    "\n",
    "# to start a debugging session on exceptions\n",
    "pytest --pdb\n",
    "\n",
    "# to start a debugging session at the start of every test\n",
    "pytest --trace\n",
    "~~~\n",
    "\n",
    "## Interacting with the pipeline\n",
    "\n",
    "In a Python session (make sure `ml-advanced/env.yaml` is in the current active\n",
    "directory):\n"
   ]
  },
  {
   "cell_type": "code",
   "execution_count": null,
   "metadata": {},
   "outputs": [],
   "source": [
    "\n",
    "from ml_advanced.pipeline import make\n",
    "\n",
    "dag = make()\n",
    "dag.status()"
   ]
  },
  {
   "cell_type": "code",
   "execution_count": null,
   "metadata": {
    "tags": [
     "parameters"
    ]
   },
   "outputs": [],
   "source": []
  }
 ],
 "metadata": {
  "jupytext": {
   "cell_metadata_filter": "tags,-all",
   "main_language": "bash",
   "notebook_metadata_filter": "-all",
   "text_representation": {
    "extension": ".md",
    "format_name": "markdown"
   }
  }
 },
 "nbformat": 4,
 "nbformat_minor": 4
}
