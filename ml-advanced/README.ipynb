{
 "cells": [
  {
   "cell_type": "markdown",
   "metadata": {
    "papermill": {
     "duration": 0.006035,
     "end_time": "2020-12-30T20:24:16.877535",
     "exception": false,
     "start_time": "2020-12-30T20:24:16.871500",
     "status": "completed"
    },
    "tags": []
   },
   "source": [
    "\n",
    "*Note:* You can run this from your computer (Jupyter or terminal), or use one of the\n",
    "hosted options:\n",
    "\n",
    "[![binder-logo](https://mybinder.org/badge_logo.svg)](https://mybinder.org/v2/gh/ploomber/binder-env/main?urlpath=git-pull%3Frepo%3Dhttps%253A%252F%252Fgithub.com%252Fploomber%252Fprojects%26urlpath%3Dlab%252Ftree%252Fprojects%252Fml-advanced%252FREADME.ipynb%26branch%3Dmaster)\n",
    "\n",
    "[![deepnote-logo](https://deepnote.com/buttons/launch-in-deepnote-small.svg)](https://deepnote.com/launch?template=deepnote&url=https://github.com/ploomber/projects/blob/master/ml-advanced/README.ipynb)\n"
   ]
  },
  {
   "cell_type": "markdown",
   "metadata": {
    "papermill": {
     "duration": 0.009576,
     "end_time": "2020-12-30T20:24:16.892425",
     "exception": false,
     "start_time": "2020-12-30T20:24:16.882849",
     "status": "completed"
    },
    "tags": []
   },
   "source": [
    "# ML advanced\n",
    "\n",
    "This example shows a Machine Learning pipeline using the Python API, how to package\n",
    "your projects so you can install them using `pip install .`, how to test\n",
    "using `pytest`,how to create an array of experiments to try several models and\n",
    "run them in parallel.\n",
    "\n",
    "## Setup\n",
    "\n",
    "Make sure you are in the `ml-advanced` folder:\n",
    "\n",
    "~~~bash\n",
    "conda env create --file environment.yml\n",
    "\n",
    "conda activate ml-advanced\n",
    "\n",
    "# install the pipeline as a package in editable mode, this way changes will\n",
    "# reflect when you update the source code\n",
    "pip install --editable .\n",
    "~~~\n",
    "\n",
    "## Executing pipeline"
   ]
  },
  {
   "cell_type": "code",
   "execution_count": 1,
   "metadata": {
    "execution": {
     "iopub.execute_input": "2020-12-30T20:24:16.910523Z",
     "iopub.status.busy": "2020-12-30T20:24:16.909713Z",
     "iopub.status.idle": "2020-12-30T20:24:39.237213Z",
     "shell.execute_reply": "2020-12-30T20:24:39.238249Z"
    },
    "papermill": {
     "duration": 22.340483,
     "end_time": "2020-12-30T20:24:39.238694",
     "exception": false,
     "start_time": "2020-12-30T20:24:16.898211",
     "status": "completed"
    },
    "tags": [
     "bash"
    ]
   },
   "outputs": [
    {
     "name": "stdout",
     "output_type": "stream",
     "text": [
      "name                                   Ran?      Elapsed (s)    Percentage\n",
      "-------------------------------------  ------  -------------  ------------\n",
      "get                                    True         0.022596     0.0485445\n",
      "features                               True         0.092352     0.198406\n",
      "join                                   True         0.049762     0.106907\n",
      "fit-ml-advanced--models--svc           True        14.2806      30.6801\n",
      "fit-ml-advanced--models--logistic-reg  True        14.2874      30.6947\n",
      "fit-sklearn--ensemble--                True        17.8142      38.2714\n",
      "RandomForestClassifier\n"
     ]
    },
    {
     "name": "stderr",
     "output_type": "stream",
     "text": [
      "100%|██████████| 6/6 [00:00<00:00, 6457.74it/s]\n",
      "INFO:root:Added get to the pool...\n",
      "INFO:ploomber.executors.parallel:Finished 0 out of 6 tasks\n",
      "INFO:root:Added features to the pool...\n",
      "INFO:ploomber.executors.parallel:Finished 1 out of 6 tasks\n",
      "INFO:root:Added join to the pool...\n",
      "INFO:ploomber.executors.parallel:Finished 2 out of 6 tasks\n",
      "INFO:root:Added fit-ml-advanced--models--svc to the pool...\n",
      "INFO:root:Added fit-ml-advanced--models--logistic-reg to the pool...\n",
      "INFO:root:Added fit-sklearn--ensemble--RandomForestClassifier to the pool...\n",
      "Executing:   0%|          | 0/15 [00:00<?, ?cell/s]INFO:ploomber.executors.parallel:Finished 3 out of 6 tasks\n",
      "INFO:ploomber.executors.parallel:Finished 3 out of 6 tasks\n",
      "INFO:ploomber.executors.parallel:Finished 3 out of 6 tasks\n",
      "INFO:ploomber.executors.parallel:Finished 3 out of 6 tasks\n",
      "INFO:ploomber.executors.parallel:Finished 3 out of 6 tasks\n",
      "INFO:ploomber.executors.parallel:Finished 3 out of 6 tasks\n",
      "INFO:ploomber.executors.parallel:Finished 3 out of 6 tasks\n",
      "Executing:   7%|▋         | 1/15 [00:01<00:16,  1.18s/cell]INFO:ploomber.executors.parallel:Finished 3 out of 6 tasks\n",
      "INFO:ploomber.executors.parallel:Finished 3 out of 6 tasks\n",
      "INFO:ploomber.executors.parallel:Finished 3 out of 6 tasks\n",
      "INFO:ploomber.executors.parallel:Finished 3 out of 6 tasks\n",
      "INFO:ploomber.executors.parallel:Finished 3 out of 6 tasks\n",
      "INFO:ploomber.executors.parallel:Finished 3 out of 6 tasks\n",
      "INFO:ploomber.executors.parallel:Finished 3 out of 6 tasks\n",
      "INFO:ploomber.executors.parallel:Finished 3 out of 6 tasks\n",
      "INFO:ploomber.executors.parallel:Finished 3 out of 6 tasks\n",
      "Executing:  33%|███▎      | 5/15 [00:02<00:08,  1.11cell/s]INFO:ploomber.executors.parallel:Finished 3 out of 6 tasks\n",
      "Executing:  40%|████      | 6/15 [00:02<00:06,  1.44cell/s]INFO:ploomber.executors.parallel:Finished 3 out of 6 tasks\n",
      "Executing:  47%|████▋     | 7/15 [00:03<00:04,  1.91cell/s]INFO:ploomber.executors.parallel:Finished 3 out of 6 tasks\n",
      "Executing:  53%|█████▎    | 8/15 [00:03<00:03,  1.95cell/s]INFO:ploomber.executors.parallel:Finished 3 out of 6 tasks\n",
      "INFO:ploomber.executors.parallel:Finished 3 out of 6 tasks\n",
      "INFO:ploomber.executors.parallel:Finished 3 out of 6 tasks\n",
      "INFO:ploomber.executors.parallel:Finished 3 out of 6 tasks\n",
      "INFO:ploomber.executors.parallel:Finished 3 out of 6 tasks\n",
      "INFO:ploomber.executors.parallel:Finished 3 out of 6 tasks\n",
      "Executing:  60%|██████    | 9/15 [00:10<00:08,  1.43s/cell]INFO:ploomber.executors.parallel:Finished 3 out of 6 tasks\n",
      "Executing:  73%|███████▎  | 11/15 [00:10<00:04,  1.19s/cell]INFO:ploomber.executors.parallel:Finished 3 out of 6 tasks\n",
      "Executing:  80%|████████  | 12/15 [00:11<00:02,  1.15cell/s]INFO:ploomber.executors.parallel:Finished 3 out of 6 tasks\n",
      "Executing:  87%|████████▋ | 13/15 [00:11<00:01,  1.17cell/s]INFO:ploomber.executors.parallel:Finished 3 out of 6 tasks\n",
      "Executing: 100%|██████████| 15/15 [00:12<00:00,  1.66cell/s]INFO:ploomber.executors.parallel:Finished 3 out of 6 tasks\n",
      "INFO:ploomber.executors.parallel:Finished 3 out of 6 tasks\n",
      "INFO:ploomber.executors.parallel:Finished 3 out of 6 tasks\n",
      "INFO:ploomber.executors.parallel:Finished 3 out of 6 tasks\n",
      "Executing: 100%|██████████| 15/15 [00:14<00:00,  1.06cell/s]INFO:ploomber.executors.parallel:Finished 3 out of 6 tasks\n",
      "INFO:ploomber.executors.parallel:Finished 5 out of 6 tasks\n",
      "INFO:ploomber.executors.parallel:Finished 5 out of 6 tasks\n",
      "INFO:ploomber.executors.parallel:Finished 5 out of 6 tasks\n",
      "Executing:  60%|██████    | 9/15 [00:15<00:23,  3.97s/cell]INFO:ploomber.executors.parallel:Finished 5 out of 6 tasks\n",
      "INFO:ploomber.executors.parallel:Finished 5 out of 6 tasks\n",
      "INFO:ploomber.executors.parallel:Finished 5 out of 6 tasks\n",
      "Executing:  73%|███████▎  | 11/15 [00:15<00:11,  2.84s/cell]INFO:ploomber.executors.parallel:Finished 5 out of 6 tasks\n",
      "INFO:ploomber.executors.parallel:Finished 5 out of 6 tasks\n",
      "Executing:  80%|████████  | 12/15 [00:16<00:06,  2.22s/cell]INFO:ploomber.executors.parallel:Finished 5 out of 6 tasks\n",
      "INFO:ploomber.executors.parallel:Finished 5 out of 6 tasks\n",
      "INFO:ploomber.executors.parallel:Finished 5 out of 6 tasks\n",
      "Executing:  87%|████████▋ | 13/15 [00:16<00:03,  1.68s/cell]INFO:ploomber.executors.parallel:Finished 5 out of 6 tasks\n",
      "INFO:ploomber.executors.parallel:Finished 5 out of 6 tasks\n",
      "INFO:ploomber.executors.parallel:Finished 5 out of 6 tasks\n",
      "INFO:ploomber.executors.parallel:Finished 5 out of 6 tasks\n",
      "Executing: 100%|██████████| 15/15 [00:17<00:00,  1.18s/cell]INFO:ploomber.executors.parallel:Finished 5 out of 6 tasks\n",
      "\n",
      "\n",
      "\n",
      "INFO:ploomber.dag.DAG: DAG report:\n",
      "name                                   Ran?      Elapsed (s)    Percentage\n",
      "-------------------------------------  ------  -------------  ------------\n",
      "get                                    True         0.022596     0.0485445\n",
      "features                               True         0.092352     0.198406\n",
      "join                                   True         0.049762     0.106907\n",
      "fit-ml-advanced--models--svc           True        14.2806      30.6801\n",
      "fit-ml-advanced--models--logistic-reg  True        14.2874      30.6947\n",
      "fit-sklearn--ensemble--                True        17.8142      38.2714\n",
      "RandomForestClassifier\n"
     ]
    }
   ],
   "source": [
    "%%sh\n",
    "ploomber build --entry-point ml_advanced.pipeline.make"
   ]
  },
  {
   "cell_type": "markdown",
   "metadata": {
    "papermill": {
     "duration": 0.00609,
     "end_time": "2020-12-30T20:24:39.252055",
     "exception": false,
     "start_time": "2020-12-30T20:24:39.245965",
     "status": "completed"
    },
    "tags": []
   },
   "source": [
    "## Deploy to airflow\n",
    "\n",
    "WIP"
   ]
  },
  {
   "cell_type": "code",
   "execution_count": null,
   "metadata": {
    "lines_to_next_cell": 2,
    "papermill": {
     "duration": 0.005426,
     "end_time": "2020-12-30T20:24:39.263654",
     "exception": false,
     "start_time": "2020-12-30T20:24:39.258228",
     "status": "completed"
    },
    "tags": []
   },
   "outputs": [],
   "source": []
  },
  {
   "cell_type": "markdown",
   "metadata": {
    "papermill": {
     "duration": 0.006088,
     "end_time": "2020-12-30T20:24:39.275174",
     "exception": false,
     "start_time": "2020-12-30T20:24:39.269086",
     "status": "completed"
    },
    "tags": []
   },
   "source": [
    "## Testing\n",
    "\n",
    "~~~bash\n",
    "# incremental (will only run the tasks that have changed)\n",
    "pytest\n",
    "\n",
    "# complete (force execution of all tasks)\n",
    "pytest --force\n",
    "\n",
    "# to start a debugging session on exceptions\n",
    "pytest --pdb\n",
    "\n",
    "# to start a debugging session at the start of every test\n",
    "pytest --trace\n",
    "~~~\n",
    "\n",
    "## Interacting with the pipeline\n",
    "\n",
    "In a Python session (make sure `ml-advanced/env.yaml` is in the current active\n",
    "directory):\n"
   ]
  },
  {
   "cell_type": "code",
   "execution_count": 2,
   "metadata": {
    "execution": {
     "iopub.execute_input": "2020-12-30T20:24:39.292739Z",
     "iopub.status.busy": "2020-12-30T20:24:39.291717Z",
     "iopub.status.idle": "2020-12-30T20:24:42.145259Z",
     "shell.execute_reply": "2020-12-30T20:24:42.145747Z"
    },
    "papermill": {
     "duration": 2.864288,
     "end_time": "2020-12-30T20:24:42.145982",
     "exception": false,
     "start_time": "2020-12-30T20:24:39.281694",
     "status": "completed"
    },
    "tags": []
   },
   "outputs": [
    {
     "data": {
      "application/vnd.jupyter.widget-view+json": {
       "model_id": "f171ff7abfb34d4f86d1f1d46b2dd0a8",
       "version_major": 2,
       "version_minor": 0
      },
      "text/plain": [
       "HBox(children=(HTML(value=''), FloatProgress(value=0.0, max=6.0), HTML(value='')))"
      ]
     },
     "metadata": {},
     "output_type": "display_data"
    },
    {
     "name": "stdout",
     "output_type": "stream",
     "text": [
      "\n"
     ]
    },
    {
     "data": {
      "text/html": [
       "<table>\n",
       "<thead>\n",
       "<tr><th>name    </th><th>Last run  </th><th>Outdated?  </th><th>Product            </th><th>Doc (short)  </th><th>Location  </th></tr>\n",
       "</thead>\n",
       "<tbody>\n",
       "<tr><td>get     </td><td>21 seconds ago (Dec\n",
       "30, 20 at 14:24)           </td><td>False      </td><td>output/data.parquet</td><td>Get data     </td><td>/Users/Edu/dev/proj\n",
       "ects-ploomber/ml-ad\n",
       "vanced/src/ml_advan\n",
       "ced/tasks.py:6           </td></tr>\n",
       "<tr><td>features</td><td>21 seconds ago (Dec\n",
       "30, 20 at 14:24)           </td><td>False      </td><td>output/features.par\n",
       "quet                    </td><td>Generate new\n",
       "features from\n",
       "existing columns              </td><td>/Users/Edu/dev/proj\n",
       "ects-ploomber/ml-ad\n",
       "vanced/src/ml_advan\n",
       "ced/tasks.py:24           </td></tr>\n",
       "<tr><td>join    </td><td>21 seconds ago (Dec\n",
       "30, 20 at 14:24)           </td><td>False      </td><td>output/join.parquet</td><td>Join raw data with\n",
       "generated features              </td><td>/Users/Edu/dev/proj\n",
       "ects-ploomber/ml-ad\n",
       "vanced/src/ml_advan\n",
       "ced/tasks.py:33           </td></tr>\n",
       "<tr><td>fit-ml-advanced--\n",
       "models--svc         </td><td>6 seconds ago (Dec\n",
       "30, 20 at 14:24)           </td><td>False      </td><td>{&#x27;nb&#x27;:\n",
       "File(output/fit-ml_\n",
       "advanced.models.svc\n",
       ".ipynb), &#x27;model&#x27;:\n",
       "File(output/model-m\n",
       "l_advanced.models.s\n",
       "vc.joblib)}                    </td><td>Script to train a\n",
       "model              </td><td>/Users/Edu/dev/proj\n",
       "ects-ploomber/ml-ad\n",
       "vanced/src/ml_advan\n",
       "ced/templates/fit.p\n",
       "y           </td></tr>\n",
       "<tr><td>fit-ml-advanced--\n",
       "models--logistic-\n",
       "reg         </td><td>6 seconds ago (Dec\n",
       "30, 20 at 14:24)           </td><td>False      </td><td>{&#x27;nb&#x27;:\n",
       "File(output/fit-ml_\n",
       "advanced.models.log\n",
       "istic_reg.ipynb),\n",
       "&#x27;model&#x27;:\n",
       "File(output/model-m\n",
       "l_advanced.models.l\n",
       "ogistic_reg.joblib)\n",
       "}                    </td><td>Script to train a\n",
       "model              </td><td>/Users/Edu/dev/proj\n",
       "ects-ploomber/ml-ad\n",
       "vanced/src/ml_advan\n",
       "ced/templates/fit.p\n",
       "y           </td></tr>\n",
       "<tr><td>fit-sklearn--\n",
       "ensemble--RandomFor\n",
       "estClassifier         </td><td>3 seconds ago (Dec\n",
       "30, 20 at 14:24)           </td><td>False      </td><td>{&#x27;nb&#x27;:\n",
       "File(output/fit-skl\n",
       "earn.ensemble.Rando\n",
       "mForestClassifier.i\n",
       "pynb), &#x27;model&#x27;:\n",
       "File(output/model-s\n",
       "klearn.ensemble.Ran\n",
       "domForestClassifier\n",
       ".joblib)}                    </td><td>Script to train a\n",
       "model              </td><td>/Users/Edu/dev/proj\n",
       "ects-ploomber/ml-ad\n",
       "vanced/src/ml_advan\n",
       "ced/templates/fit.p\n",
       "y           </td></tr>\n",
       "</tbody>\n",
       "</table>"
      ],
      "text/plain": [
       "name                 Last run             Outdated?    Product              Doc (short)         Location\n",
       "-------------------  -------------------  -----------  -------------------  ------------------  -------------------\n",
       "get                  21 seconds ago (Dec  False        output/data.parquet  Get data            /Users/Edu/dev/proj\n",
       "                     30, 20 at 14:24)                                                           ects-ploomber/ml-ad\n",
       "                                                                                                vanced/src/ml_advan\n",
       "                                                                                                ced/tasks.py:6\n",
       "features             21 seconds ago (Dec  False        output/features.par  Generate new        /Users/Edu/dev/proj\n",
       "                     30, 20 at 14:24)                  quet                 features from       ects-ploomber/ml-ad\n",
       "                                                                            existing columns    vanced/src/ml_advan\n",
       "                                                                                                ced/tasks.py:24\n",
       "join                 21 seconds ago (Dec  False        output/join.parquet  Join raw data with  /Users/Edu/dev/proj\n",
       "                     30, 20 at 14:24)                                       generated features  ects-ploomber/ml-ad\n",
       "                                                                                                vanced/src/ml_advan\n",
       "                                                                                                ced/tasks.py:33\n",
       "fit-ml-advanced--    6 seconds ago (Dec   False        {'nb':               Script to train a   /Users/Edu/dev/proj\n",
       "models--svc          30, 20 at 14:24)                  File(output/fit-ml_  model               ects-ploomber/ml-ad\n",
       "                                                       advanced.models.svc                      vanced/src/ml_advan\n",
       "                                                       .ipynb), 'model':                        ced/templates/fit.p\n",
       "                                                       File(output/model-m                      y\n",
       "                                                       l_advanced.models.s\n",
       "                                                       vc.joblib)}\n",
       "fit-ml-advanced--    6 seconds ago (Dec   False        {'nb':               Script to train a   /Users/Edu/dev/proj\n",
       "models--logistic-    30, 20 at 14:24)                  File(output/fit-ml_  model               ects-ploomber/ml-ad\n",
       "reg                                                    advanced.models.log                      vanced/src/ml_advan\n",
       "                                                       istic_reg.ipynb),                        ced/templates/fit.p\n",
       "                                                       'model':                                 y\n",
       "                                                       File(output/model-m\n",
       "                                                       l_advanced.models.l\n",
       "                                                       ogistic_reg.joblib)\n",
       "                                                       }\n",
       "fit-sklearn--        3 seconds ago (Dec   False        {'nb':               Script to train a   /Users/Edu/dev/proj\n",
       "ensemble--RandomFor  30, 20 at 14:24)                  File(output/fit-skl  model               ects-ploomber/ml-ad\n",
       "estClassifier                                          earn.ensemble.Rando                      vanced/src/ml_advan\n",
       "                                                       mForestClassifier.i                      ced/templates/fit.p\n",
       "                                                       pynb), 'model':                          y\n",
       "                                                       File(output/model-s\n",
       "                                                       klearn.ensemble.Ran\n",
       "                                                       domForestClassifier\n",
       "                                                       .joblib)}"
      ]
     },
     "execution_count": 2,
     "metadata": {},
     "output_type": "execute_result"
    }
   ],
   "source": [
    "\n",
    "from ml_advanced.pipeline import make\n",
    "\n",
    "dag = make()\n",
    "dag.status()"
   ]
  }
 ],
 "metadata": {
  "jupytext": {
   "cell_metadata_filter": "tags,-all",
   "main_language": "bash",
   "notebook_metadata_filter": "-all"
  },
  "kernelspec": {
   "display_name": "Python 3",
   "language": "python",
   "name": "python3"
  },
  "language_info": {
   "codemirror_mode": {
    "name": "ipython",
    "version": 3
   },
   "file_extension": ".py",
   "mimetype": "text/x-python",
   "name": "python",
   "nbconvert_exporter": "python",
   "pygments_lexer": "ipython3",
   "version": "3.7.8"
  },
  "papermill": {
   "default_parameters": {},
   "duration": 26.730196,
   "end_time": "2020-12-30T20:24:42.605504",
   "environment_variables": {},
   "exception": null,
   "input_path": "/var/folders/3h/_lvh_w_x5g30rrjzb_xnn2j80000gq/T/tmpbv_hjhak.ipynb",
   "output_path": "ml-advanced/README.ipynb",
   "parameters": {
    "product": "ml-advanced/README.ipynb"
   },
   "start_time": "2020-12-30T20:24:15.875308",
   "version": "2.2.2"
  },
  "widgets": {
   "application/vnd.jupyter.widget-state+json": {
    "state": {
     "16f2b1754bd04b2f978e49fa40a192d2": {
      "model_module": "@jupyter-widgets/controls",
      "model_module_version": "1.5.0",
      "model_name": "ProgressStyleModel",
      "state": {
       "_model_module": "@jupyter-widgets/controls",
       "_model_module_version": "1.5.0",
       "_model_name": "ProgressStyleModel",
       "_view_count": null,
       "_view_module": "@jupyter-widgets/base",
       "_view_module_version": "1.2.0",
       "_view_name": "StyleView",
       "bar_color": null,
       "description_width": ""
      }
     },
     "245cb45437c34654874abbf0bb1fae6a": {
      "model_module": "@jupyter-widgets/base",
      "model_module_version": "1.2.0",
      "model_name": "LayoutModel",
      "state": {
       "_model_module": "@jupyter-widgets/base",
       "_model_module_version": "1.2.0",
       "_model_name": "LayoutModel",
       "_view_count": null,
       "_view_module": "@jupyter-widgets/base",
       "_view_module_version": "1.2.0",
       "_view_name": "LayoutView",
       "align_content": null,
       "align_items": null,
       "align_self": null,
       "border": null,
       "bottom": null,
       "display": null,
       "flex": null,
       "flex_flow": null,
       "grid_area": null,
       "grid_auto_columns": null,
       "grid_auto_flow": null,
       "grid_auto_rows": null,
       "grid_column": null,
       "grid_gap": null,
       "grid_row": null,
       "grid_template_areas": null,
       "grid_template_columns": null,
       "grid_template_rows": null,
       "height": null,
       "justify_content": null,
       "justify_items": null,
       "left": null,
       "margin": null,
       "max_height": null,
       "max_width": null,
       "min_height": null,
       "min_width": null,
       "object_fit": null,
       "object_position": null,
       "order": null,
       "overflow": null,
       "overflow_x": null,
       "overflow_y": null,
       "padding": null,
       "right": null,
       "top": null,
       "visibility": null,
       "width": null
      }
     },
     "5e7aee205c9a424380b943cad40613a7": {
      "model_module": "@jupyter-widgets/controls",
      "model_module_version": "1.5.0",
      "model_name": "HTMLModel",
      "state": {
       "_dom_classes": [],
       "_model_module": "@jupyter-widgets/controls",
       "_model_module_version": "1.5.0",
       "_model_name": "HTMLModel",
       "_view_count": null,
       "_view_module": "@jupyter-widgets/controls",
       "_view_module_version": "1.5.0",
       "_view_name": "HTMLView",
       "description": "",
       "description_tooltip": null,
       "layout": "IPY_MODEL_e01a447385d242f6817d4356869bad06",
       "placeholder": "​",
       "style": "IPY_MODEL_bca25081eeb24c6b89c88c44f405a332",
       "value": " 6/6 [00:00&lt;00:00, 217.43it/s]"
      }
     },
     "7f082ebecd7b4532a238ee81df7fb2ae": {
      "model_module": "@jupyter-widgets/controls",
      "model_module_version": "1.5.0",
      "model_name": "HTMLModel",
      "state": {
       "_dom_classes": [],
       "_model_module": "@jupyter-widgets/controls",
       "_model_module_version": "1.5.0",
       "_model_name": "HTMLModel",
       "_view_count": null,
       "_view_module": "@jupyter-widgets/controls",
       "_view_module_version": "1.5.0",
       "_view_name": "HTMLView",
       "description": "",
       "description_tooltip": null,
       "layout": "IPY_MODEL_803c147f115148c8acd716b38cc7ceac",
       "placeholder": "​",
       "style": "IPY_MODEL_9e03fad10f7a43fbb39a4c0a2d4df1e6",
       "value": "100%"
      }
     },
     "803c147f115148c8acd716b38cc7ceac": {
      "model_module": "@jupyter-widgets/base",
      "model_module_version": "1.2.0",
      "model_name": "LayoutModel",
      "state": {
       "_model_module": "@jupyter-widgets/base",
       "_model_module_version": "1.2.0",
       "_model_name": "LayoutModel",
       "_view_count": null,
       "_view_module": "@jupyter-widgets/base",
       "_view_module_version": "1.2.0",
       "_view_name": "LayoutView",
       "align_content": null,
       "align_items": null,
       "align_self": null,
       "border": null,
       "bottom": null,
       "display": null,
       "flex": null,
       "flex_flow": null,
       "grid_area": null,
       "grid_auto_columns": null,
       "grid_auto_flow": null,
       "grid_auto_rows": null,
       "grid_column": null,
       "grid_gap": null,
       "grid_row": null,
       "grid_template_areas": null,
       "grid_template_columns": null,
       "grid_template_rows": null,
       "height": null,
       "justify_content": null,
       "justify_items": null,
       "left": null,
       "margin": null,
       "max_height": null,
       "max_width": null,
       "min_height": null,
       "min_width": null,
       "object_fit": null,
       "object_position": null,
       "order": null,
       "overflow": null,
       "overflow_x": null,
       "overflow_y": null,
       "padding": null,
       "right": null,
       "top": null,
       "visibility": null,
       "width": null
      }
     },
     "9e03fad10f7a43fbb39a4c0a2d4df1e6": {
      "model_module": "@jupyter-widgets/controls",
      "model_module_version": "1.5.0",
      "model_name": "DescriptionStyleModel",
      "state": {
       "_model_module": "@jupyter-widgets/controls",
       "_model_module_version": "1.5.0",
       "_model_name": "DescriptionStyleModel",
       "_view_count": null,
       "_view_module": "@jupyter-widgets/base",
       "_view_module_version": "1.2.0",
       "_view_name": "StyleView",
       "description_width": ""
      }
     },
     "aac032cc39f1475fba77c7ae00f0ab28": {
      "model_module": "@jupyter-widgets/base",
      "model_module_version": "1.2.0",
      "model_name": "LayoutModel",
      "state": {
       "_model_module": "@jupyter-widgets/base",
       "_model_module_version": "1.2.0",
       "_model_name": "LayoutModel",
       "_view_count": null,
       "_view_module": "@jupyter-widgets/base",
       "_view_module_version": "1.2.0",
       "_view_name": "LayoutView",
       "align_content": null,
       "align_items": null,
       "align_self": null,
       "border": null,
       "bottom": null,
       "display": null,
       "flex": null,
       "flex_flow": null,
       "grid_area": null,
       "grid_auto_columns": null,
       "grid_auto_flow": null,
       "grid_auto_rows": null,
       "grid_column": null,
       "grid_gap": null,
       "grid_row": null,
       "grid_template_areas": null,
       "grid_template_columns": null,
       "grid_template_rows": null,
       "height": null,
       "justify_content": null,
       "justify_items": null,
       "left": null,
       "margin": null,
       "max_height": null,
       "max_width": null,
       "min_height": null,
       "min_width": null,
       "object_fit": null,
       "object_position": null,
       "order": null,
       "overflow": null,
       "overflow_x": null,
       "overflow_y": null,
       "padding": null,
       "right": null,
       "top": null,
       "visibility": null,
       "width": null
      }
     },
     "bca25081eeb24c6b89c88c44f405a332": {
      "model_module": "@jupyter-widgets/controls",
      "model_module_version": "1.5.0",
      "model_name": "DescriptionStyleModel",
      "state": {
       "_model_module": "@jupyter-widgets/controls",
       "_model_module_version": "1.5.0",
       "_model_name": "DescriptionStyleModel",
       "_view_count": null,
       "_view_module": "@jupyter-widgets/base",
       "_view_module_version": "1.2.0",
       "_view_name": "StyleView",
       "description_width": ""
      }
     },
     "e01a447385d242f6817d4356869bad06": {
      "model_module": "@jupyter-widgets/base",
      "model_module_version": "1.2.0",
      "model_name": "LayoutModel",
      "state": {
       "_model_module": "@jupyter-widgets/base",
       "_model_module_version": "1.2.0",
       "_model_name": "LayoutModel",
       "_view_count": null,
       "_view_module": "@jupyter-widgets/base",
       "_view_module_version": "1.2.0",
       "_view_name": "LayoutView",
       "align_content": null,
       "align_items": null,
       "align_self": null,
       "border": null,
       "bottom": null,
       "display": null,
       "flex": null,
       "flex_flow": null,
       "grid_area": null,
       "grid_auto_columns": null,
       "grid_auto_flow": null,
       "grid_auto_rows": null,
       "grid_column": null,
       "grid_gap": null,
       "grid_row": null,
       "grid_template_areas": null,
       "grid_template_columns": null,
       "grid_template_rows": null,
       "height": null,
       "justify_content": null,
       "justify_items": null,
       "left": null,
       "margin": null,
       "max_height": null,
       "max_width": null,
       "min_height": null,
       "min_width": null,
       "object_fit": null,
       "object_position": null,
       "order": null,
       "overflow": null,
       "overflow_x": null,
       "overflow_y": null,
       "padding": null,
       "right": null,
       "top": null,
       "visibility": null,
       "width": null
      }
     },
     "e4cd16857a5d4779a69ea80c9b6bdf91": {
      "model_module": "@jupyter-widgets/controls",
      "model_module_version": "1.5.0",
      "model_name": "FloatProgressModel",
      "state": {
       "_dom_classes": [],
       "_model_module": "@jupyter-widgets/controls",
       "_model_module_version": "1.5.0",
       "_model_name": "FloatProgressModel",
       "_view_count": null,
       "_view_module": "@jupyter-widgets/controls",
       "_view_module_version": "1.5.0",
       "_view_name": "ProgressView",
       "bar_style": "success",
       "description": "",
       "description_tooltip": null,
       "layout": "IPY_MODEL_aac032cc39f1475fba77c7ae00f0ab28",
       "max": 6.0,
       "min": 0.0,
       "orientation": "horizontal",
       "style": "IPY_MODEL_16f2b1754bd04b2f978e49fa40a192d2",
       "value": 6.0
      }
     },
     "f171ff7abfb34d4f86d1f1d46b2dd0a8": {
      "model_module": "@jupyter-widgets/controls",
      "model_module_version": "1.5.0",
      "model_name": "HBoxModel",
      "state": {
       "_dom_classes": [],
       "_model_module": "@jupyter-widgets/controls",
       "_model_module_version": "1.5.0",
       "_model_name": "HBoxModel",
       "_view_count": null,
       "_view_module": "@jupyter-widgets/controls",
       "_view_module_version": "1.5.0",
       "_view_name": "HBoxView",
       "box_style": "",
       "children": [
        "IPY_MODEL_7f082ebecd7b4532a238ee81df7fb2ae",
        "IPY_MODEL_e4cd16857a5d4779a69ea80c9b6bdf91",
        "IPY_MODEL_5e7aee205c9a424380b943cad40613a7"
       ],
       "layout": "IPY_MODEL_245cb45437c34654874abbf0bb1fae6a"
      }
     }
    },
    "version_major": 2,
    "version_minor": 0
   }
  }
 },
 "nbformat": 4,
 "nbformat_minor": 4
}
