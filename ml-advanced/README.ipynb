{
 "cells": [
  {
   "cell_type": "markdown",
   "metadata": {
    "papermill": {
     "duration": 0.003936,
     "end_time": "2020-10-15T20:24:34.707251",
     "exception": false,
     "start_time": "2020-10-15T20:24:34.703315",
     "status": "completed"
    },
    "tags": []
   },
   "source": [
    "# ML advanced\n",
    "\n",
    "This example shows a Machine Learning pipeline using the Python API, how to package\n",
    "your projects so you can install them using `pip install .` and how to test\n",
    "using `pytest`.\n",
    "\n",
    "## Setup\n",
    "\n",
    "Make sure you are in the `ml-advanced` folder:"
   ]
  },
  {
   "cell_type": "code",
   "execution_count": 1,
   "metadata": {
    "execution": {
     "iopub.execute_input": "2020-10-15T20:24:34.721544Z",
     "iopub.status.busy": "2020-10-15T20:24:34.719749Z",
     "iopub.status.idle": "2020-10-15T20:24:38.395340Z",
     "shell.execute_reply": "2020-10-15T20:24:38.395906Z"
    },
    "papermill": {
     "duration": 3.685371,
     "end_time": "2020-10-15T20:24:38.396134",
     "exception": false,
     "start_time": "2020-10-15T20:24:34.710763",
     "status": "completed"
    },
    "tags": [
     "bash"
    ]
   },
   "outputs": [
    {
     "name": "stdout",
     "output_type": "stream",
     "text": [
      "Processing /Users/Edu/dev/projects-ploomber/ml-advanced\n",
      "Requirement already satisfied: ploomber in /Users/Edu/dev/ploomber/src (from basic-ml==0.1.dev0) (0.7.5.dev0)\n",
      "Requirement already satisfied: pandas==1.0.1 in /Users/Edu/miniconda3/envs/ploomber/lib/python3.6/site-packages (from basic-ml==0.1.dev0) (1.0.1)\n",
      "Requirement already satisfied: scikit-learn==0.22.1 in /Users/Edu/miniconda3/envs/ploomber/lib/python3.6/site-packages (from basic-ml==0.1.dev0) (0.22.1)\n",
      "Requirement already satisfied: joblib==0.14.1 in /Users/Edu/miniconda3/envs/ploomber/lib/python3.6/site-packages (from basic-ml==0.1.dev0) (0.14.1)\n",
      "Requirement already satisfied: pyarrow==0.16.0 in /Users/Edu/miniconda3/envs/ploomber/lib/python3.6/site-packages (from basic-ml==0.1.dev0) (0.16.0)\n",
      "Requirement already satisfied: pyyaml in /Users/Edu/miniconda3/envs/ploomber/lib/python3.6/site-packages (from ploomber->basic-ml==0.1.dev0) (5.3.1)\n",
      "Requirement already satisfied: networkx in /Users/Edu/miniconda3/envs/ploomber/lib/python3.6/site-packages (from ploomber->basic-ml==0.1.dev0) (2.4)\n",
      "Requirement already satisfied: jinja2 in /Users/Edu/miniconda3/envs/ploomber/lib/python3.6/site-packages (from ploomber->basic-ml==0.1.dev0) (2.11.2)\n",
      "Requirement already satisfied: tabulate in /Users/Edu/miniconda3/envs/ploomber/lib/python3.6/site-packages (from ploomber->basic-ml==0.1.dev0) (0.8.7)\n",
      "Requirement already satisfied: humanize in /Users/Edu/miniconda3/envs/ploomber/lib/python3.6/site-packages (from ploomber->basic-ml==0.1.dev0) (2.4.0)\n",
      "Requirement already satisfied: tqdm in /Users/Edu/miniconda3/envs/ploomber/lib/python3.6/site-packages (from ploomber->basic-ml==0.1.dev0) (4.46.0)\n",
      "Requirement already satisfied: sqlparse in /Users/Edu/miniconda3/envs/ploomber/lib/python3.6/site-packages (from ploomber->basic-ml==0.1.dev0) (0.3.1)\n",
      "Requirement already satisfied: autopep8 in /Users/Edu/miniconda3/envs/ploomber/lib/python3.6/site-packages (from ploomber->basic-ml==0.1.dev0) (1.5.2)\n",
      "Requirement already satisfied: parso in /Users/Edu/miniconda3/envs/ploomber/lib/python3.6/site-packages (from ploomber->basic-ml==0.1.dev0) (0.7.0)\n",
      "Requirement already satisfied: mistune in /Users/Edu/miniconda3/envs/ploomber/lib/python3.6/site-packages (from ploomber->basic-ml==0.1.dev0) (0.8.4)\n",
      "Requirement already satisfied: pygments in /Users/Edu/miniconda3/envs/ploomber/lib/python3.6/site-packages (from ploomber->basic-ml==0.1.dev0) (2.5.2)\n",
      "Requirement already satisfied: sqlalchemy in /Users/Edu/miniconda3/envs/ploomber/lib/python3.6/site-packages (from ploomber->basic-ml==0.1.dev0) (1.3.16)\n",
      "Requirement already satisfied: click in /Users/Edu/miniconda3/envs/ploomber/lib/python3.6/site-packages (from ploomber->basic-ml==0.1.dev0) (7.1.2)\n",
      "Requirement already satisfied: papermill in /Users/Edu/miniconda3/envs/ploomber/lib/python3.6/site-packages (from ploomber->basic-ml==0.1.dev0) (2.1.2)\n",
      "Requirement already satisfied: jupytext in /Users/Edu/miniconda3/envs/ploomber/lib/python3.6/site-packages (from ploomber->basic-ml==0.1.dev0) (1.5.1)\n",
      "Requirement already satisfied: ipykernel>=1.5.2 in /Users/Edu/miniconda3/envs/ploomber/lib/python3.6/site-packages (from ploomber->basic-ml==0.1.dev0) (5.2.1)\n",
      "Requirement already satisfied: jupyter_client>=5.3.1 in /Users/Edu/miniconda3/envs/ploomber/lib/python3.6/site-packages (from ploomber->basic-ml==0.1.dev0) (6.1.7)\n",
      "Requirement already satisfied: nbconvert>=5.6.0 in /Users/Edu/miniconda3/envs/ploomber/lib/python3.6/site-packages (from ploomber->basic-ml==0.1.dev0) (6.0.1)\n",
      "Requirement already satisfied: notebook in /Users/Edu/miniconda3/envs/ploomber/lib/python3.6/site-packages (from ploomber->basic-ml==0.1.dev0) (6.0.3)\n",
      "Requirement already satisfied: nbformat in /Users/Edu/miniconda3/envs/ploomber/lib/python3.6/site-packages (from ploomber->basic-ml==0.1.dev0) (5.0.6)\n",
      "Requirement already satisfied: pyflakes in /Users/Edu/miniconda3/envs/ploomber/lib/python3.6/site-packages (from ploomber->basic-ml==0.1.dev0) (2.2.0)\n",
      "Requirement already satisfied: importlib_resources in /Users/Edu/miniconda3/envs/ploomber/lib/python3.6/site-packages (from ploomber->basic-ml==0.1.dev0) (1.5.0)\n",
      "Requirement already satisfied: pytz>=2017.2 in /Users/Edu/miniconda3/envs/ploomber/lib/python3.6/site-packages (from pandas==1.0.1->basic-ml==0.1.dev0) (2020.1)\n",
      "Requirement already satisfied: numpy>=1.13.3 in /Users/Edu/miniconda3/envs/ploomber/lib/python3.6/site-packages (from pandas==1.0.1->basic-ml==0.1.dev0) (1.18.4)\n",
      "Requirement already satisfied: python-dateutil>=2.6.1 in /Users/Edu/miniconda3/envs/ploomber/lib/python3.6/site-packages (from pandas==1.0.1->basic-ml==0.1.dev0) (2.8.1)\n",
      "Requirement already satisfied: scipy>=0.17.0 in /Users/Edu/miniconda3/envs/ploomber/lib/python3.6/site-packages (from scikit-learn==0.22.1->basic-ml==0.1.dev0) (1.5.2)\n",
      "Requirement already satisfied: six>=1.0.0 in /Users/Edu/miniconda3/envs/ploomber/lib/python3.6/site-packages (from pyarrow==0.16.0->basic-ml==0.1.dev0) (1.14.0)\n",
      "Requirement already satisfied: decorator>=4.3.0 in /Users/Edu/miniconda3/envs/ploomber/lib/python3.6/site-packages (from networkx->ploomber->basic-ml==0.1.dev0) (4.4.2)\n",
      "Requirement already satisfied: MarkupSafe>=0.23 in /Users/Edu/miniconda3/envs/ploomber/lib/python3.6/site-packages (from jinja2->ploomber->basic-ml==0.1.dev0) (1.1.1)\n",
      "Requirement already satisfied: pycodestyle>=2.5.0 in /Users/Edu/miniconda3/envs/ploomber/lib/python3.6/site-packages (from autopep8->ploomber->basic-ml==0.1.dev0) (2.6.0)\n",
      "Requirement already satisfied: ansiwrap in /Users/Edu/miniconda3/envs/ploomber/lib/python3.6/site-packages (from papermill->ploomber->basic-ml==0.1.dev0) (0.8.4)\n",
      "Requirement already satisfied: nbclient>=0.2.0 in /Users/Edu/miniconda3/envs/ploomber/lib/python3.6/site-packages (from papermill->ploomber->basic-ml==0.1.dev0) (0.5.0)\n",
      "Requirement already satisfied: entrypoints in /Users/Edu/miniconda3/envs/ploomber/lib/python3.6/site-packages (from papermill->ploomber->basic-ml==0.1.dev0) (0.3)\n",
      "Requirement already satisfied: requests in /Users/Edu/miniconda3/envs/ploomber/lib/python3.6/site-packages (from papermill->ploomber->basic-ml==0.1.dev0) (2.23.0)\n",
      "Requirement already satisfied: black in /Users/Edu/miniconda3/envs/ploomber/lib/python3.6/site-packages (from papermill->ploomber->basic-ml==0.1.dev0) (19.10b0)\n",
      "Requirement already satisfied: tenacity in /Users/Edu/miniconda3/envs/ploomber/lib/python3.6/site-packages (from papermill->ploomber->basic-ml==0.1.dev0) (6.2.0)\n",
      "Requirement already satisfied: toml in /Users/Edu/miniconda3/envs/ploomber/lib/python3.6/site-packages (from jupytext->ploomber->basic-ml==0.1.dev0) (0.10.0)\n",
      "Requirement already satisfied: appnope; platform_system == \"Darwin\" in /Users/Edu/miniconda3/envs/ploomber/lib/python3.6/site-packages (from ipykernel>=1.5.2->ploomber->basic-ml==0.1.dev0) (0.1.0)\n",
      "Requirement already satisfied: tornado>=4.2 in /Users/Edu/miniconda3/envs/ploomber/lib/python3.6/site-packages (from ipykernel>=1.5.2->ploomber->basic-ml==0.1.dev0) (6.0.4)\n",
      "Requirement already satisfied: ipython>=5.0.0 in /Users/Edu/miniconda3/envs/ploomber/lib/python3.6/site-packages (from ipykernel>=1.5.2->ploomber->basic-ml==0.1.dev0) (7.14.0)\n",
      "Requirement already satisfied: traitlets>=4.1.0 in /Users/Edu/miniconda3/envs/ploomber/lib/python3.6/site-packages (from ipykernel>=1.5.2->ploomber->basic-ml==0.1.dev0) (4.3.3)\n",
      "Requirement already satisfied: jupyter-core>=4.6.0 in /Users/Edu/miniconda3/envs/ploomber/lib/python3.6/site-packages (from jupyter_client>=5.3.1->ploomber->basic-ml==0.1.dev0) (4.6.3)\n",
      "Requirement already satisfied: pyzmq>=13 in /Users/Edu/miniconda3/envs/ploomber/lib/python3.6/site-packages (from jupyter_client>=5.3.1->ploomber->basic-ml==0.1.dev0) (19.0.1)\n",
      "Requirement already satisfied: testpath in /Users/Edu/miniconda3/envs/ploomber/lib/python3.6/site-packages (from nbconvert>=5.6.0->ploomber->basic-ml==0.1.dev0) (0.4.4)\n",
      "Requirement already satisfied: jupyterlab-pygments in /Users/Edu/miniconda3/envs/ploomber/lib/python3.6/site-packages (from nbconvert>=5.6.0->ploomber->basic-ml==0.1.dev0) (0.1.1)\n",
      "Requirement already satisfied: pandocfilters>=1.4.1 in /Users/Edu/miniconda3/envs/ploomber/lib/python3.6/site-packages (from nbconvert>=5.6.0->ploomber->basic-ml==0.1.dev0) (1.4.2)\n",
      "Requirement already satisfied: defusedxml in /Users/Edu/miniconda3/envs/ploomber/lib/python3.6/site-packages (from nbconvert>=5.6.0->ploomber->basic-ml==0.1.dev0) (0.6.0)\n",
      "Requirement already satisfied: bleach in /Users/Edu/miniconda3/envs/ploomber/lib/python3.6/site-packages (from nbconvert>=5.6.0->ploomber->basic-ml==0.1.dev0) (3.1.5)\n",
      "Requirement already satisfied: terminado>=0.8.1 in /Users/Edu/miniconda3/envs/ploomber/lib/python3.6/site-packages (from notebook->ploomber->basic-ml==0.1.dev0) (0.8.3)\n",
      "Requirement already satisfied: prometheus-client in /Users/Edu/miniconda3/envs/ploomber/lib/python3.6/site-packages (from notebook->ploomber->basic-ml==0.1.dev0) (0.7.1)\n",
      "Requirement already satisfied: ipython-genutils in /Users/Edu/miniconda3/envs/ploomber/lib/python3.6/site-packages (from notebook->ploomber->basic-ml==0.1.dev0) (0.2.0)\n",
      "Requirement already satisfied: Send2Trash in /Users/Edu/miniconda3/envs/ploomber/lib/python3.6/site-packages (from notebook->ploomber->basic-ml==0.1.dev0) (1.5.0)\n",
      "Requirement already satisfied: jsonschema!=2.5.0,>=2.4 in /Users/Edu/miniconda3/envs/ploomber/lib/python3.6/site-packages (from nbformat->ploomber->basic-ml==0.1.dev0) (3.2.0)\n",
      "Requirement already satisfied: importlib-metadata; python_version < \"3.8\" in /Users/Edu/miniconda3/envs/ploomber/lib/python3.6/site-packages (from importlib_resources->ploomber->basic-ml==0.1.dev0) (1.6.0)\n",
      "Requirement already satisfied: zipp>=0.4; python_version < \"3.8\" in /Users/Edu/miniconda3/envs/ploomber/lib/python3.6/site-packages (from importlib_resources->ploomber->basic-ml==0.1.dev0) (3.1.0)\n",
      "Requirement already satisfied: textwrap3>=0.9.2 in /Users/Edu/miniconda3/envs/ploomber/lib/python3.6/site-packages (from ansiwrap->papermill->ploomber->basic-ml==0.1.dev0) (0.9.2)\n",
      "Requirement already satisfied: nest-asyncio in /Users/Edu/miniconda3/envs/ploomber/lib/python3.6/site-packages (from nbclient>=0.2.0->papermill->ploomber->basic-ml==0.1.dev0) (1.3.3)\n",
      "Requirement already satisfied: async-generator in /Users/Edu/miniconda3/envs/ploomber/lib/python3.6/site-packages (from nbclient>=0.2.0->papermill->ploomber->basic-ml==0.1.dev0) (1.10)\n",
      "Requirement already satisfied: urllib3!=1.25.0,!=1.25.1,<1.26,>=1.21.1 in /Users/Edu/miniconda3/envs/ploomber/lib/python3.6/site-packages (from requests->papermill->ploomber->basic-ml==0.1.dev0) (1.25.9)\n",
      "Requirement already satisfied: idna<3,>=2.5 in /Users/Edu/miniconda3/envs/ploomber/lib/python3.6/site-packages (from requests->papermill->ploomber->basic-ml==0.1.dev0) (2.8)\n",
      "Requirement already satisfied: certifi>=2017.4.17 in /Users/Edu/miniconda3/envs/ploomber/lib/python3.6/site-packages (from requests->papermill->ploomber->basic-ml==0.1.dev0) (2020.6.20)\n",
      "Requirement already satisfied: chardet<4,>=3.0.2 in /Users/Edu/miniconda3/envs/ploomber/lib/python3.6/site-packages (from requests->papermill->ploomber->basic-ml==0.1.dev0) (3.0.4)\n",
      "Requirement already satisfied: typed-ast>=1.4.0 in /Users/Edu/miniconda3/envs/ploomber/lib/python3.6/site-packages (from black->papermill->ploomber->basic-ml==0.1.dev0) (1.4.1)\n",
      "Requirement already satisfied: pathspec<1,>=0.6 in /Users/Edu/miniconda3/envs/ploomber/lib/python3.6/site-packages (from black->papermill->ploomber->basic-ml==0.1.dev0) (0.8.0)\n",
      "Requirement already satisfied: regex in /Users/Edu/miniconda3/envs/ploomber/lib/python3.6/site-packages (from black->papermill->ploomber->basic-ml==0.1.dev0) (2020.5.7)\n",
      "Requirement already satisfied: appdirs in /Users/Edu/miniconda3/envs/ploomber/lib/python3.6/site-packages (from black->papermill->ploomber->basic-ml==0.1.dev0) (1.4.4)\n",
      "Requirement already satisfied: attrs>=18.1.0 in /Users/Edu/miniconda3/envs/ploomber/lib/python3.6/site-packages (from black->papermill->ploomber->basic-ml==0.1.dev0) (19.3.0)\n",
      "Requirement already satisfied: setuptools>=18.5 in /Users/Edu/miniconda3/envs/ploomber/lib/python3.6/site-packages (from ipython>=5.0.0->ipykernel>=1.5.2->ploomber->basic-ml==0.1.dev0) (46.0.0.post20200309)\n",
      "Requirement already satisfied: jedi>=0.10 in /Users/Edu/miniconda3/envs/ploomber/lib/python3.6/site-packages (from ipython>=5.0.0->ipykernel>=1.5.2->ploomber->basic-ml==0.1.dev0) (0.17.0)\n",
      "Requirement already satisfied: backcall in /Users/Edu/miniconda3/envs/ploomber/lib/python3.6/site-packages (from ipython>=5.0.0->ipykernel>=1.5.2->ploomber->basic-ml==0.1.dev0) (0.1.0)\n",
      "Requirement already satisfied: prompt-toolkit!=3.0.0,!=3.0.1,<3.1.0,>=2.0.0 in /Users/Edu/miniconda3/envs/ploomber/lib/python3.6/site-packages (from ipython>=5.0.0->ipykernel>=1.5.2->ploomber->basic-ml==0.1.dev0) (3.0.5)\n",
      "Requirement already satisfied: pickleshare in /Users/Edu/miniconda3/envs/ploomber/lib/python3.6/site-packages (from ipython>=5.0.0->ipykernel>=1.5.2->ploomber->basic-ml==0.1.dev0) (0.7.5)\n",
      "Requirement already satisfied: pexpect; sys_platform != \"win32\" in /Users/Edu/miniconda3/envs/ploomber/lib/python3.6/site-packages (from ipython>=5.0.0->ipykernel>=1.5.2->ploomber->basic-ml==0.1.dev0) (4.8.0)\n",
      "Requirement already satisfied: webencodings in /Users/Edu/miniconda3/envs/ploomber/lib/python3.6/site-packages (from bleach->nbconvert>=5.6.0->ploomber->basic-ml==0.1.dev0) (0.5.1)\n",
      "Requirement already satisfied: packaging in /Users/Edu/miniconda3/envs/ploomber/lib/python3.6/site-packages (from bleach->nbconvert>=5.6.0->ploomber->basic-ml==0.1.dev0) (20.3)\n",
      "Requirement already satisfied: ptyprocess; os_name != \"nt\" in /Users/Edu/miniconda3/envs/ploomber/lib/python3.6/site-packages (from terminado>=0.8.1->notebook->ploomber->basic-ml==0.1.dev0) (0.6.0)\n",
      "Requirement already satisfied: pyrsistent>=0.14.0 in /Users/Edu/miniconda3/envs/ploomber/lib/python3.6/site-packages (from jsonschema!=2.5.0,>=2.4->nbformat->ploomber->basic-ml==0.1.dev0) (0.16.0)\n",
      "Requirement already satisfied: wcwidth in /Users/Edu/miniconda3/envs/ploomber/lib/python3.6/site-packages (from prompt-toolkit!=3.0.0,!=3.0.1,<3.1.0,>=2.0.0->ipython>=5.0.0->ipykernel>=1.5.2->ploomber->basic-ml==0.1.dev0) (0.1.9)\n",
      "Requirement already satisfied: pyparsing>=2.0.2 in /Users/Edu/miniconda3/envs/ploomber/lib/python3.6/site-packages (from packaging->bleach->nbconvert>=5.6.0->ploomber->basic-ml==0.1.dev0) (2.4.7)\n",
      "Building wheels for collected packages: basic-ml\n",
      "  Building wheel for basic-ml (setup.py): started\n",
      "  Building wheel for basic-ml (setup.py): finished with status 'done'\n",
      "  Created wheel for basic-ml: filename=basic_ml-0.1.dev0-py3-none-any.whl size=2892 sha256=68f2dcb5a434ec745b1be2618c1ebba86e83c8b00de3a447c58050685e3e5e2d\n",
      "  Stored in directory: /Users/Edu/Library/Caches/pip/wheels/30/07/51/cd5a985eb72b9832d67eeb3a41a3c9e3dce38f7855b4969a9d\n",
      "Successfully built basic-ml\n",
      "Installing collected packages: basic-ml\n",
      "  Attempting uninstall: basic-ml\n",
      "    Found existing installation: basic-ml 0.1.dev0\n",
      "    Uninstalling basic-ml-0.1.dev0:\n",
      "      Successfully uninstalled basic-ml-0.1.dev0\n",
      "Successfully installed basic-ml-0.1.dev0\n"
     ]
    }
   ],
   "source": [
    "%%sh\n",
    "# install the pipeline as a package\n",
    "pip install ."
   ]
  },
  {
   "cell_type": "markdown",
   "metadata": {
    "papermill": {
     "duration": 0.004391,
     "end_time": "2020-10-15T20:24:38.404949",
     "exception": false,
     "start_time": "2020-10-15T20:24:38.400558",
     "status": "completed"
    },
    "tags": []
   },
   "source": [
    "## Executing pipeline"
   ]
  },
  {
   "cell_type": "code",
   "execution_count": 2,
   "metadata": {
    "execution": {
     "iopub.execute_input": "2020-10-15T20:24:38.419625Z",
     "iopub.status.busy": "2020-10-15T20:24:38.417811Z",
     "iopub.status.idle": "2020-10-15T20:24:42.839506Z",
     "shell.execute_reply": "2020-10-15T20:24:42.840017Z"
    },
    "papermill": {
     "duration": 4.430996,
     "end_time": "2020-10-15T20:24:42.840254",
     "exception": false,
     "start_time": "2020-10-15T20:24:38.409258",
     "status": "completed"
    },
    "tags": [
     "bash"
    ]
   },
   "outputs": [
    {
     "name": "stdout",
     "output_type": "stream",
     "text": [
      "name      Ran?      Elapsed (s)    Percentage\n",
      "--------  ------  -------------  ------------\n",
      "get       False               0             0\n",
      "features  False               0             0\n",
      "join      False               0             0\n",
      "fit       False               0             0\n"
     ]
    },
    {
     "name": "stderr",
     "output_type": "stream",
     "text": [
      "\r",
      "  0%|          | 0/4 [00:00<?, ?it/s]\r",
      "Rendering DAG \"ml-pipeline\":   0%|          | 0/4 [00:00<?, ?it/s]\r",
      "Rendering DAG \"ml-pipeline\":   0%|          | 0/4 [00:00<?, ?it/s]\r",
      "Rendering DAG \"ml-pipeline\":  50%|█████     | 2/4 [00:00<00:00, 15.57it/s]\r",
      "Rendering DAG \"ml-pipeline\":  50%|█████     | 2/4 [00:00<00:00, 15.57it/s]\r",
      "Rendering DAG \"ml-pipeline\":  75%|███████▌  | 3/4 [00:00<00:00, 13.01it/s]\r",
      "Rendering DAG \"ml-pipeline\":  75%|███████▌  | 3/4 [00:00<00:00, 13.01it/s]\r",
      "Rendering DAG \"ml-pipeline\": 100%|██████████| 4/4 [00:00<00:00,  7.02it/s]\r",
      "Rendering DAG \"ml-pipeline\": 100%|██████████| 4/4 [00:00<00:00,  7.54it/s]\n",
      "\r",
      "0it [00:00, ?it/s]\r",
      "4it [00:00, 18020.64it/s]\n"
     ]
    }
   ],
   "source": [
    "%%sh\n",
    "ploomber build --entry-point basic_ml.pipeline.make"
   ]
  },
  {
   "cell_type": "markdown",
   "metadata": {
    "papermill": {
     "duration": 0.005182,
     "end_time": "2020-10-15T20:24:42.850640",
     "exception": false,
     "start_time": "2020-10-15T20:24:42.845458",
     "status": "completed"
    },
    "tags": []
   },
   "source": [
    "## Testing\n",
    "\n",
    "```bash .noeval\n",
    "pip install -r requirements.txt\n",
    "\n",
    "# incremental (will only run the tasks that have changed)\n",
    "pytest\n",
    "\n",
    "# complete (force execution of all tasks)\n",
    "pytest --force\n",
    "\n",
    "# to start a debugging session on exceptions\n",
    "pytest --pdb\n",
    "\n",
    "# to start a debugging session at the start of every test\n",
    "pytest --trace\n",
    "```\n",
    "\n",
    "## Interacting with the pipeline\n",
    "\n",
    "In a Python session (make sure `ml-advanced/env.yaml` is in the current active\n",
    "directory):\n"
   ]
  },
  {
   "cell_type": "code",
   "execution_count": 3,
   "metadata": {
    "execution": {
     "iopub.execute_input": "2020-10-15T20:24:42.867112Z",
     "iopub.status.busy": "2020-10-15T20:24:42.866448Z",
     "iopub.status.idle": "2020-10-15T20:24:45.885552Z",
     "shell.execute_reply": "2020-10-15T20:24:45.886088Z"
    },
    "papermill": {
     "duration": 3.030297,
     "end_time": "2020-10-15T20:24:45.886307",
     "exception": false,
     "start_time": "2020-10-15T20:24:42.856010",
     "status": "completed"
    },
    "tags": []
   },
   "outputs": [
    {
     "data": {
      "application/vnd.jupyter.widget-view+json": {
       "model_id": "c4e834340f5a4b759ea202054b8cd657",
       "version_major": 2,
       "version_minor": 0
      },
      "text/plain": [
       "HBox(children=(FloatProgress(value=0.0, max=4.0), HTML(value='')))"
      ]
     },
     "metadata": {},
     "output_type": "display_data"
    },
    {
     "name": "stdout",
     "output_type": "stream",
     "text": [
      "\n"
     ]
    },
    {
     "data": {
      "text/html": [
       "<table>\n",
       "<thead>\n",
       "<tr><th>name    </th><th>Last run  </th><th>Outdated?  </th><th>Product  </th><th>Doc (short)  </th><th>Location  </th></tr>\n",
       "</thead>\n",
       "<tbody>\n",
       "<tr><td>get     </td><td>20 minutes ago\n",
       "(Oct 15, 20 at\n",
       "16:04)           </td><td>False      </td><td>/Users/Edu/dev\n",
       "/projects-\n",
       "ploomber/ml-ad\n",
       "vanced/output/\n",
       "data.parquet          </td><td>Get data     </td><td>/Users/Edu/min\n",
       "iconda3/envs/p\n",
       "loomber/lib/py\n",
       "thon3.6/site-p\n",
       "ackages/basic_\n",
       "ml/tasks.py:12           </td></tr>\n",
       "<tr><td>features</td><td>20 minutes ago\n",
       "(Oct 15, 20 at\n",
       "16:04)           </td><td>False      </td><td>/Users/Edu/dev\n",
       "/projects-\n",
       "ploomber/ml-ad\n",
       "vanced/output/\n",
       "features.parqu\n",
       "et          </td><td>Generate new\n",
       "features from\n",
       "existing\n",
       "columns              </td><td>/Users/Edu/min\n",
       "iconda3/envs/p\n",
       "loomber/lib/py\n",
       "thon3.6/site-p\n",
       "ackages/basic_\n",
       "ml/tasks.py:28           </td></tr>\n",
       "<tr><td>join    </td><td>20 minutes ago\n",
       "(Oct 15, 20 at\n",
       "16:04)           </td><td>False      </td><td>/Users/Edu/dev\n",
       "/projects-\n",
       "ploomber/ml-ad\n",
       "vanced/output/\n",
       "join.parquet          </td><td>Join raw data\n",
       "with generated\n",
       "features              </td><td>/Users/Edu/min\n",
       "iconda3/envs/p\n",
       "loomber/lib/py\n",
       "thon3.6/site-p\n",
       "ackages/basic_\n",
       "ml/tasks.py:37           </td></tr>\n",
       "<tr><td>fit     </td><td>20 minutes ago\n",
       "(Oct 15, 20 at\n",
       "16:04)           </td><td>False      </td><td>{&#x27;report&#x27;: Fil\n",
       "e(/Users/Edu/d\n",
       "ev/projects-\n",
       "ploomber/ml-ad\n",
       "vanced/output/\n",
       "report.txt),\n",
       "&#x27;model&#x27;: File(\n",
       "/Users/Edu/dev\n",
       "/projects-\n",
       "ploomber/ml-ad\n",
       "vanced/output/\n",
       "model.joblib)}          </td><td>Fit model and\n",
       "generate\n",
       "classification\n",
       "report              </td><td>/Users/Edu/min\n",
       "iconda3/envs/p\n",
       "loomber/lib/py\n",
       "thon3.6/site-p\n",
       "ackages/basic_\n",
       "ml/tasks.py:46           </td></tr>\n",
       "</tbody>\n",
       "</table>"
      ],
      "text/plain": [
       "name      Last run        Outdated?    Product         Doc (short)     Location\n",
       "--------  --------------  -----------  --------------  --------------  --------------\n",
       "get       20 minutes ago  False        /Users/Edu/dev  Get data        /Users/Edu/min\n",
       "          (Oct 15, 20 at               /projects-                      iconda3/envs/p\n",
       "          16:04)                       ploomber/ml-ad                  loomber/lib/py\n",
       "                                       vanced/output/                  thon3.6/site-p\n",
       "                                       data.parquet                    ackages/basic_\n",
       "                                                                       ml/tasks.py:12\n",
       "features  20 minutes ago  False        /Users/Edu/dev  Generate new    /Users/Edu/min\n",
       "          (Oct 15, 20 at               /projects-      features from   iconda3/envs/p\n",
       "          16:04)                       ploomber/ml-ad  existing        loomber/lib/py\n",
       "                                       vanced/output/  columns         thon3.6/site-p\n",
       "                                       features.parqu                  ackages/basic_\n",
       "                                       et                              ml/tasks.py:28\n",
       "join      20 minutes ago  False        /Users/Edu/dev  Join raw data   /Users/Edu/min\n",
       "          (Oct 15, 20 at               /projects-      with generated  iconda3/envs/p\n",
       "          16:04)                       ploomber/ml-ad  features        loomber/lib/py\n",
       "                                       vanced/output/                  thon3.6/site-p\n",
       "                                       join.parquet                    ackages/basic_\n",
       "                                                                       ml/tasks.py:37\n",
       "fit       20 minutes ago  False        {'report': Fil  Fit model and   /Users/Edu/min\n",
       "          (Oct 15, 20 at               e(/Users/Edu/d  generate        iconda3/envs/p\n",
       "          16:04)                       ev/projects-    classification  loomber/lib/py\n",
       "                                       ploomber/ml-ad  report          thon3.6/site-p\n",
       "                                       vanced/output/                  ackages/basic_\n",
       "                                       report.txt),                    ml/tasks.py:46\n",
       "                                       'model': File(\n",
       "                                       /Users/Edu/dev\n",
       "                                       /projects-\n",
       "                                       ploomber/ml-ad\n",
       "                                       vanced/output/\n",
       "                                       model.joblib)}"
      ]
     },
     "execution_count": 3,
     "metadata": {},
     "output_type": "execute_result"
    }
   ],
   "source": [
    "\n",
    "from basic_ml.pipeline import make\n",
    "\n",
    "dag = make()\n",
    "dag.status()"
   ]
  }
 ],
 "metadata": {
  "jupytext": {
   "cell_metadata_filter": "tags,-all",
   "main_language": "bash",
   "notebook_metadata_filter": "-all",
   "text_representation": {
    "extension": ".md",
    "format_name": "markdown"
   }
  },
  "language_info": {
   "codemirror_mode": {
    "name": "ipython",
    "version": 3
   },
   "file_extension": ".py",
   "mimetype": "text/x-python",
   "name": "python",
   "nbconvert_exporter": "python",
   "pygments_lexer": "ipython3",
   "version": "3.6.10"
  },
  "papermill": {
   "duration": 12.658327,
   "end_time": "2020-10-15T20:24:46.414338",
   "environment_variables": {},
   "exception": null,
   "input_path": "ml-advanced/README.ipynb",
   "output_path": "ml-advanced/README.ipynb",
   "parameters": {},
   "start_time": "2020-10-15T20:24:33.756011",
   "version": "2.1.2"
  },
  "widgets": {
   "application/vnd.jupyter.widget-state+json": {
    "state": {
     "0e4aa6bd00374b44a06c66be84dca932": {
      "model_module": "@jupyter-widgets/controls",
      "model_module_version": "1.5.0",
      "model_name": "FloatProgressModel",
      "state": {
       "_dom_classes": [],
       "_model_module": "@jupyter-widgets/controls",
       "_model_module_version": "1.5.0",
       "_model_name": "FloatProgressModel",
       "_view_count": null,
       "_view_module": "@jupyter-widgets/controls",
       "_view_module_version": "1.5.0",
       "_view_name": "ProgressView",
       "bar_style": "success",
       "description": "Rendering DAG &quot;ml-pipeline&quot;: 100%",
       "description_tooltip": null,
       "layout": "IPY_MODEL_7614b7f7a9f14e00bfb481c1c7077a5f",
       "max": 4.0,
       "min": 0.0,
       "orientation": "horizontal",
       "style": "IPY_MODEL_23e47198eb214f108119d4b84692c246",
       "value": 4.0
      }
     },
     "23e47198eb214f108119d4b84692c246": {
      "model_module": "@jupyter-widgets/controls",
      "model_module_version": "1.5.0",
      "model_name": "ProgressStyleModel",
      "state": {
       "_model_module": "@jupyter-widgets/controls",
       "_model_module_version": "1.5.0",
       "_model_name": "ProgressStyleModel",
       "_view_count": null,
       "_view_module": "@jupyter-widgets/base",
       "_view_module_version": "1.2.0",
       "_view_name": "StyleView",
       "bar_color": null,
       "description_width": "initial"
      }
     },
     "257ceda5f88f415a9882958f3bce85a7": {
      "model_module": "@jupyter-widgets/base",
      "model_module_version": "1.2.0",
      "model_name": "LayoutModel",
      "state": {
       "_model_module": "@jupyter-widgets/base",
       "_model_module_version": "1.2.0",
       "_model_name": "LayoutModel",
       "_view_count": null,
       "_view_module": "@jupyter-widgets/base",
       "_view_module_version": "1.2.0",
       "_view_name": "LayoutView",
       "align_content": null,
       "align_items": null,
       "align_self": null,
       "border": null,
       "bottom": null,
       "display": null,
       "flex": null,
       "flex_flow": null,
       "grid_area": null,
       "grid_auto_columns": null,
       "grid_auto_flow": null,
       "grid_auto_rows": null,
       "grid_column": null,
       "grid_gap": null,
       "grid_row": null,
       "grid_template_areas": null,
       "grid_template_columns": null,
       "grid_template_rows": null,
       "height": null,
       "justify_content": null,
       "justify_items": null,
       "left": null,
       "margin": null,
       "max_height": null,
       "max_width": null,
       "min_height": null,
       "min_width": null,
       "object_fit": null,
       "object_position": null,
       "order": null,
       "overflow": null,
       "overflow_x": null,
       "overflow_y": null,
       "padding": null,
       "right": null,
       "top": null,
       "visibility": null,
       "width": null
      }
     },
     "2d1fd9ed90ca4d088cba95b29b29165c": {
      "model_module": "@jupyter-widgets/controls",
      "model_module_version": "1.5.0",
      "model_name": "HTMLModel",
      "state": {
       "_dom_classes": [],
       "_model_module": "@jupyter-widgets/controls",
       "_model_module_version": "1.5.0",
       "_model_name": "HTMLModel",
       "_view_count": null,
       "_view_module": "@jupyter-widgets/controls",
       "_view_module_version": "1.5.0",
       "_view_name": "HTMLView",
       "description": "",
       "description_tooltip": null,
       "layout": "IPY_MODEL_257ceda5f88f415a9882958f3bce85a7",
       "placeholder": "​",
       "style": "IPY_MODEL_da65b65345a7482590ba3128de5647ee",
       "value": " 4/4 [00:00&lt;00:00,  6.91it/s]"
      }
     },
     "4c0379313cfe4c2d9d320bee49328457": {
      "model_module": "@jupyter-widgets/base",
      "model_module_version": "1.2.0",
      "model_name": "LayoutModel",
      "state": {
       "_model_module": "@jupyter-widgets/base",
       "_model_module_version": "1.2.0",
       "_model_name": "LayoutModel",
       "_view_count": null,
       "_view_module": "@jupyter-widgets/base",
       "_view_module_version": "1.2.0",
       "_view_name": "LayoutView",
       "align_content": null,
       "align_items": null,
       "align_self": null,
       "border": null,
       "bottom": null,
       "display": null,
       "flex": null,
       "flex_flow": null,
       "grid_area": null,
       "grid_auto_columns": null,
       "grid_auto_flow": null,
       "grid_auto_rows": null,
       "grid_column": null,
       "grid_gap": null,
       "grid_row": null,
       "grid_template_areas": null,
       "grid_template_columns": null,
       "grid_template_rows": null,
       "height": null,
       "justify_content": null,
       "justify_items": null,
       "left": null,
       "margin": null,
       "max_height": null,
       "max_width": null,
       "min_height": null,
       "min_width": null,
       "object_fit": null,
       "object_position": null,
       "order": null,
       "overflow": null,
       "overflow_x": null,
       "overflow_y": null,
       "padding": null,
       "right": null,
       "top": null,
       "visibility": null,
       "width": null
      }
     },
     "7614b7f7a9f14e00bfb481c1c7077a5f": {
      "model_module": "@jupyter-widgets/base",
      "model_module_version": "1.2.0",
      "model_name": "LayoutModel",
      "state": {
       "_model_module": "@jupyter-widgets/base",
       "_model_module_version": "1.2.0",
       "_model_name": "LayoutModel",
       "_view_count": null,
       "_view_module": "@jupyter-widgets/base",
       "_view_module_version": "1.2.0",
       "_view_name": "LayoutView",
       "align_content": null,
       "align_items": null,
       "align_self": null,
       "border": null,
       "bottom": null,
       "display": null,
       "flex": null,
       "flex_flow": null,
       "grid_area": null,
       "grid_auto_columns": null,
       "grid_auto_flow": null,
       "grid_auto_rows": null,
       "grid_column": null,
       "grid_gap": null,
       "grid_row": null,
       "grid_template_areas": null,
       "grid_template_columns": null,
       "grid_template_rows": null,
       "height": null,
       "justify_content": null,
       "justify_items": null,
       "left": null,
       "margin": null,
       "max_height": null,
       "max_width": null,
       "min_height": null,
       "min_width": null,
       "object_fit": null,
       "object_position": null,
       "order": null,
       "overflow": null,
       "overflow_x": null,
       "overflow_y": null,
       "padding": null,
       "right": null,
       "top": null,
       "visibility": null,
       "width": null
      }
     },
     "c4e834340f5a4b759ea202054b8cd657": {
      "model_module": "@jupyter-widgets/controls",
      "model_module_version": "1.5.0",
      "model_name": "HBoxModel",
      "state": {
       "_dom_classes": [],
       "_model_module": "@jupyter-widgets/controls",
       "_model_module_version": "1.5.0",
       "_model_name": "HBoxModel",
       "_view_count": null,
       "_view_module": "@jupyter-widgets/controls",
       "_view_module_version": "1.5.0",
       "_view_name": "HBoxView",
       "box_style": "",
       "children": [
        "IPY_MODEL_0e4aa6bd00374b44a06c66be84dca932",
        "IPY_MODEL_2d1fd9ed90ca4d088cba95b29b29165c"
       ],
       "layout": "IPY_MODEL_4c0379313cfe4c2d9d320bee49328457"
      }
     },
     "da65b65345a7482590ba3128de5647ee": {
      "model_module": "@jupyter-widgets/controls",
      "model_module_version": "1.5.0",
      "model_name": "DescriptionStyleModel",
      "state": {
       "_model_module": "@jupyter-widgets/controls",
       "_model_module_version": "1.5.0",
       "_model_name": "DescriptionStyleModel",
       "_view_count": null,
       "_view_module": "@jupyter-widgets/base",
       "_view_module_version": "1.2.0",
       "_view_name": "StyleView",
       "description_width": ""
      }
     }
    },
    "version_major": 2,
    "version_minor": 0
   }
  }
 },
 "nbformat": 4,
 "nbformat_minor": 4
}