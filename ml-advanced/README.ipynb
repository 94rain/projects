{
 "cells": [
  {
   "cell_type": "markdown",
   "id": "6b725024",
   "metadata": {
    "papermill": {
     "duration": 0.014746,
     "end_time": "2021-09-19T22:21:59.174802",
     "exception": false,
     "start_time": "2021-09-19T22:21:59.160056",
     "status": "completed"
    },
    "tags": []
   },
   "source": [
    "\n",
    "*Note:* You can run this from your computer (Jupyter or terminal), or using Binder (does not require any installation, takes a few minutes to be ready)\n",
    "\n",
    "[![binder-logo](https://mybinder.org/badge_logo.svg)](https://mybinder.org/v2/gh/ploomber/binder-env/main?urlpath=git-pull%3Frepo%3Dhttps%253A%252F%252Fgithub.com%252Fploomber%252Fprojects%26urlpath%3Dlab%252Ftree%252Fprojects%252Fml-advanced%252FREADME.ipynb%26branch%3Dmaster)\n"
   ]
  },
  {
   "cell_type": "markdown",
   "id": "746032cb",
   "metadata": {
    "papermill": {
     "duration": 0.014824,
     "end_time": "2021-09-19T22:21:59.200259",
     "exception": false,
     "start_time": "2021-09-19T22:21:59.185435",
     "status": "completed"
    },
    "tags": []
   },
   "source": [
    "# ML advanced\n",
    "\n",
    "ML pipeline using the Python API. Shows how to package project, test it using pytest and train models in parallel.\n",
    "\n",
    "## Setup\n",
    "\n",
    "(**Note**: Skip if running in Binder)\n",
    "\n",
    "~~~bash\n",
    "# if using conda\n",
    "conda env create --file environment.yml\n",
    "conda activate ml-advanced\n",
    "\n",
    "# otherwise use pip directly\n",
    "pip install -r requirements.txt\n",
    "# install the pipeline as a package in editable mode\n",
    "pip install --editable .\n",
    "~~~\n",
    "\n",
    "## Build"
   ]
  },
  {
   "cell_type": "code",
   "execution_count": 1,
   "id": "5f79bdd5",
   "metadata": {
    "execution": {
     "iopub.execute_input": "2021-09-19T22:21:59.235878Z",
     "iopub.status.busy": "2021-09-19T22:21:59.233561Z",
     "iopub.status.idle": "2021-09-19T22:22:03.384416Z",
     "shell.execute_reply": "2021-09-19T22:22:03.385014Z"
    },
    "papermill": {
     "duration": 4.174642,
     "end_time": "2021-09-19T22:22:03.385314",
     "exception": false,
     "start_time": "2021-09-19T22:21:59.210672",
     "status": "completed"
    },
    "tags": [
     "bash"
    ]
   },
   "outputs": [
    {
     "name": "stdout",
     "output_type": "stream",
     "text": [
      "Finished tasks so far: {'fit-ml-advanced--models--logistic-reg', 'join', 'features', 'fit-ml-advanced--models--svc', 'get', 'fit-sklearn--ensemble--RandomForestClassifier'}\n",
      "Remaining tasks: set()\n",
      "Finished 6 out of 6 tasks\n",
      "name                                   Ran?      Elapsed (s)    Percentage\n",
      "-------------------------------------  ------  -------------  ------------\n",
      "get                                    False               0             0\n",
      "features                               False               0             0\n",
      "join                                   False               0             0\n",
      "fit-sklearn--ensemble--                False               0             0\n",
      "RandomForestClassifier\n",
      "fit-ml-advanced--models--logistic-reg  False               0             0\n",
      "fit-ml-advanced--models--svc           False               0             0\n"
     ]
    }
   ],
   "source": [
    "%%sh\n",
    "ploomber build --entry-point ml_advanced.pipeline.make"
   ]
  },
  {
   "cell_type": "markdown",
   "id": "7fa64402",
   "metadata": {
    "papermill": {
     "duration": 0.004412,
     "end_time": "2021-09-19T22:22:03.394405",
     "exception": false,
     "start_time": "2021-09-19T22:22:03.389993",
     "status": "completed"
    },
    "tags": []
   },
   "source": [
    "## Testing\n",
    "\n",
    "~~~bash\n",
    "# incremental (will only run the tasks that have changed)\n",
    "pytest\n",
    "\n",
    "# complete (force execution of all tasks)\n",
    "pytest --force\n",
    "\n",
    "# to start a debugging session on exceptions\n",
    "pytest --pdb\n",
    "\n",
    "# to start a debugging session at the start of every test\n",
    "pytest --trace\n",
    "~~~"
   ]
  }
 ],
 "metadata": {
  "jupytext": {
   "cell_metadata_filter": "tags,-all",
   "main_language": "bash",
   "notebook_metadata_filter": "-all"
  },
  "kernelspec": {
   "display_name": "Python 3 (ipykernel)",
   "language": "python",
   "name": "python3"
  },
  "language_info": {
   "codemirror_mode": {
    "name": "ipython",
    "version": 3
   },
   "file_extension": ".py",
   "mimetype": "text/x-python",
   "name": "python",
   "nbconvert_exporter": "python",
   "pygments_lexer": "ipython3",
   "version": "3.7.10"
  },
  "papermill": {
   "duration": 6.311453,
   "end_time": "2021-09-19T22:22:03.637729",
   "exception": null,
   "input_path": "/var/folders/3h/_lvh_w_x5g30rrjzb_xnn2j80000gq/T/tmpus1fivwo.ipynb",
   "output_path": "ml-advanced/README.ipynb",
   "parameters": {
    "product": "ml-advanced/README.ipynb"
   },
   "start_time": "2021-09-19T22:21:57.326276"
  }
 },
 "nbformat": 4,
 "nbformat_minor": 5
}
