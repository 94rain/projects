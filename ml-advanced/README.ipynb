{
 "cells": [
  {
   "cell_type": "markdown",
   "id": "graduate-occupation",
   "metadata": {
    "papermill": {
     "duration": 0.006126,
     "end_time": "2021-03-14T00:39:33.017815",
     "exception": false,
     "start_time": "2021-03-14T00:39:33.011689",
     "status": "completed"
    },
    "tags": []
   },
   "source": [
    "\n",
    "*Note:* You can run this from your computer (Jupyter or terminal), or use one of the\n",
    "hosted options:\n",
    "\n",
    "[![binder-logo](https://mybinder.org/badge_logo.svg)](https://mybinder.org/v2/gh/ploomber/binder-env/main?urlpath=git-pull%3Frepo%3Dhttps%253A%252F%252Fgithub.com%252Fploomber%252Fprojects%26urlpath%3Dlab%252Ftree%252Fprojects%252Fml-advanced%252FREADME.ipynb%26branch%3Dmaster)\n",
    "\n",
    "[![deepnote-logo](https://deepnote.com/buttons/launch-in-deepnote-small.svg)](https://deepnote.com/launch?template=deepnote&url=https://github.com/ploomber/projects/blob/master/ml-advanced/README.ipynb)\n"
   ]
  },
  {
   "cell_type": "markdown",
   "id": "accessible-illinois",
   "metadata": {
    "papermill": {
     "duration": 0.004446,
     "end_time": "2021-03-14T00:39:33.027098",
     "exception": false,
     "start_time": "2021-03-14T00:39:33.022652",
     "status": "completed"
    },
    "tags": []
   },
   "source": [
    "# ML advanced\n",
    "\n",
    "ML pipeline using the Python API. Shows how to package project, test it using pytest and train models in parallel.\n",
    "\n",
    "## Setup\n",
    "\n",
    "(**Note**: Skip if running in binder or deepnote)\n",
    "\n",
    "~~~bash\n",
    "# if using conda\n",
    "conda env create --file environment.yml\n",
    "conda activate ml-advanced\n",
    "\n",
    "# otherwise use pip directly\n",
    "pip install -r requirements.txt\n",
    "# install the pipeline as a package in editable mode\n",
    "pip install --editable .\n",
    "~~~\n",
    "\n",
    "## Build"
   ]
  },
  {
   "cell_type": "code",
   "execution_count": 1,
   "id": "applicable-toilet",
   "metadata": {
    "execution": {
     "iopub.execute_input": "2021-03-14T00:39:33.046424Z",
     "iopub.status.busy": "2021-03-14T00:39:33.045339Z",
     "iopub.status.idle": "2021-03-14T00:40:01.231121Z",
     "shell.execute_reply": "2021-03-14T00:40:01.231655Z"
    },
    "papermill": {
     "duration": 28.201061,
     "end_time": "2021-03-14T00:40:01.232284",
     "exception": false,
     "start_time": "2021-03-14T00:39:33.031223",
     "status": "completed"
    },
    "tags": [
     "bash"
    ]
   },
   "outputs": [
    {
     "name": "stdout",
     "output_type": "stream",
     "text": [
      "name                                Ran?      Elapsed (s)    Percentage\n",
      "----------------------------------  ------  -------------  ------------\n",
      "get                                 True         0.019893     0.0328936\n",
      "features                            True         0.47913      0.792253\n",
      "join                                True         0.038868     0.0642692\n",
      "fit-ml-advanced--models--svc        True        18.7676      31.0327\n",
      "fit-ml-advanced--models--logistic-  True        19.25        31.8304\n",
      "reg\n",
      "fit-sklearn--ensemble--             True        21.9213      36.2474\n",
      "RandomForestClassifier\n"
     ]
    },
    {
     "name": "stderr",
     "output_type": "stream",
     "text": [
      "INFO:root:Added get to the pool...\n",
      "INFO:ploomber.executors.parallel:Finished 0 out of 6 tasks\n",
      "INFO:root:Added features to the pool...\n",
      "INFO:root:Added join to the pool...\n",
      "INFO:root:Added fit-ml-advanced--models--svc to the pool...\n",
      "INFO:root:Added fit-ml-advanced--models--logistic-reg to the pool...\n",
      "INFO:root:Added fit-sklearn--ensemble--RandomForestClassifier to the pool...\n",
      "Executing:  13%|█▎        | 2/15 [00:03<00:27,  2.10s/cell]INFO:ploomber.executors.parallel:Finished 3 out of 6 tasks\n",
      "Executing: 100%|██████████| 15/15 [00:18<00:00,  1.24s/cell]INFO:ploomber.executors.parallel:Finished 4 out of 6 tasks\n",
      "Executing: 100%|██████████| 15/15 [00:21<00:00,  1.46s/cell]\n",
      "\n",
      "\n",
      "INFO:ploomber.dag.DAG: DAG report:\n",
      "name                                Ran?      Elapsed (s)    Percentage\n",
      "----------------------------------  ------  -------------  ------------\n",
      "get                                 True         0.019893     0.0328936\n",
      "features                            True         0.47913      0.792253\n",
      "join                                True         0.038868     0.0642692\n",
      "fit-ml-advanced--models--svc        True        18.7676      31.0327\n",
      "fit-ml-advanced--models--logistic-  True        19.25        31.8304\n",
      "reg\n",
      "fit-sklearn--ensemble--             True        21.9213      36.2474\n",
      "RandomForestClassifier\n"
     ]
    }
   ],
   "source": [
    "%%sh\n",
    "ploomber build --entry-point ml_advanced.pipeline.make"
   ]
  },
  {
   "cell_type": "markdown",
   "id": "exempt-mathematics",
   "metadata": {
    "papermill": {
     "duration": 0.005949,
     "end_time": "2021-03-14T00:40:01.245202",
     "exception": false,
     "start_time": "2021-03-14T00:40:01.239253",
     "status": "completed"
    },
    "tags": []
   },
   "source": [
    "## Testing\n",
    "\n",
    "~~~bash\n",
    "# incremental (will only run the tasks that have changed)\n",
    "pytest\n",
    "\n",
    "# complete (force execution of all tasks)\n",
    "pytest --force\n",
    "\n",
    "# to start a debugging session on exceptions\n",
    "pytest --pdb\n",
    "\n",
    "# to start a debugging session at the start of every test\n",
    "pytest --trace\n",
    "~~~"
   ]
  }
 ],
 "metadata": {
  "jupytext": {
   "cell_metadata_filter": "tags,-all",
   "main_language": "bash",
   "notebook_metadata_filter": "-all"
  },
  "kernelspec": {
   "display_name": "Python 3",
   "language": "python",
   "name": "python3"
  },
  "language_info": {
   "codemirror_mode": {
    "name": "ipython",
    "version": 3
   },
   "file_extension": ".py",
   "mimetype": "text/x-python",
   "name": "python",
   "nbconvert_exporter": "python",
   "pygments_lexer": "ipython3",
   "version": "3.7.10"
  },
  "papermill": {
   "duration": 29.376164,
   "end_time": "2021-03-14T00:40:01.592016",
   "exception": null,
   "input_path": "/var/folders/3h/_lvh_w_x5g30rrjzb_xnn2j80000gq/T/tmp5vc_xmyw.ipynb",
   "output_path": "ml-advanced/README.ipynb",
   "parameters": {
    "product": "ml-advanced/README.ipynb"
   },
   "start_time": "2021-03-14T00:39:32.215852"
  }
 },
 "nbformat": 4,
 "nbformat_minor": 5
}
