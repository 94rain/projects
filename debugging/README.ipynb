{
 "cells": [
  {
   "cell_type": "markdown",
   "metadata": {
    "papermill": {
     "duration": 0.012302,
     "end_time": "2020-11-26T16:37:24.407461",
     "exception": false,
     "start_time": "2020-11-26T16:37:24.395159",
     "status": "completed"
    },
    "tags": []
   },
   "source": [
    "\n",
    "*Note:* You can run this from your computer (Jupyter or terminal), or use one of the\n",
    "hosted options:\n",
    "[![binder-logo](https://mybinder.org/badge_logo.svg)](https://mybinder.org/v2/gh/ploomber/projects/master?urlpath=%2Flab%2Ftree%2F../../projects-ploomber/debugging%2FREADME.ipynb)\n",
    "[![deepnote-logo](https://deepnote.com/buttons/launch-in-deepnote-small.svg)](https://deepnote.com/launch?template=deepnote&url=https://github.com/ploomber/projects/blob/master/../../projects-ploomber/debugging/README.ipynb)\n"
   ]
  },
  {
   "cell_type": "markdown",
   "metadata": {
    "papermill": {
     "duration": 0.010893,
     "end_time": "2020-11-26T16:37:24.430195",
     "exception": false,
     "start_time": "2020-11-26T16:37:24.419302",
     "status": "completed"
    },
    "tags": []
   },
   "source": [
    "# Debugging\n",
    "\n",
    "## Why debugging pipelines is hard\n",
    "\n",
    "Debugging data pipelines is hard because there are three factors involved:\n",
    "\n",
    "1. Our code\n",
    "2. Parameters\n",
    "3. Input data\n",
    "\n",
    "In simple cases, pipeline error messages might give us enough information to fix the\n",
    "bug, but in other (which happen more often), we have to inspect the\n",
    "program while running to understand what's going on: see variable values,\n",
    "run a few diagnostic commands, etc.\n",
    "\n",
    "Inspecting our program requires us to re-execute it under the same conditions\n",
    "to replicate the crash. Replicating conditions means having the same code, parameters\n",
    "and input data.\n",
    "\n",
    "Getting the same code is easy if we know the version (i.e. git hash) that was running\n",
    "during the crash. Replicating parameters involves more work, one way to approach\n",
    "this is to make sure we always log parameters at the start of every pipeline execution.\n",
    "\n",
    "\n",
    "Input data is harder than it sounds. When our project is not properly assembled as a\n",
    "data pipeline, we might run into issues if we use an incorrect file as input\n",
    "(e.g. reading `/data/some-file.csv` instead of `/data/file.csv`). That's why Ploomber\n",
    "puts a lot of emphasis on declaring products once and automatically propagating them\n",
    "to any downstream consumers, to ensure that there is a single source of truth and we\n",
    "always read if the appropriate file or SQL table from the upstream task.\n",
    "\n",
    "As you can see, replicating error conditions accurately involves some work from your\n",
    "end: 1) recording the project version and 2) input parameters (on every run) and 3) know\n",
    "which input data led to the crash. Once you have these three pieces of information,\n",
    "Ploomber will provide you tools to catch those sneaky bugs.\n",
    "\n",
    "\n",
    "## Debugger basics\n",
    "\n",
    "A debugger is a program that helps inspect anoter program for debugging. Python\n",
    "comes with its own debugger called\n",
    "[pdb](https://docs.python.org/3/library/pdb.html).\n",
    "\n",
    "There are a few approaches for debugging programs. One approach is line-by-line\n",
    "debugging, which starts our program in *debug* mode so we can easily inspect\n",
    "variables, move to the next line, etc.\n",
    "\n",
    "One important concept to know when debugging is *stack frame*. Simply\n",
    "speaking, stack frames represent the state of our code at a given level.\n",
    "When you write a non-trivial function, it will depend on other\n",
    "functions to work (yours or from third party packages). Each function has its\n",
    "own stack frame which defines the variables that are available to it.\n",
    "\n",
    "When a program fails, it can do so at different levels (i.e. a\n",
    "different stack frame). Let's see a simple example:\n",
    "\n",
    "```python\n",
    "def reciprocal(x):\n",
    "    return 1/x\n",
    "\n",
    "def reciprocal_and_multiply(x, y):\n",
    "    return reciprocal(x) * y\n",
    "```\n",
    "\n",
    "There are two places where things can go wrong in the program\n",
    "above: if we pass `x=0`, the `reciprocal` operation will\n",
    "fail. If we pass `y=None`, the program fails as well, but it\n",
    "will do so in the `reciprocal_and_multiply` function. For this trivial example,\n",
    "it's easy to see at which level the code breaks but in a real program the source\n",
    "code alone is usually not enough to know. Moving between stack frames can\n",
    "help you find out where the error is coming from."
   ]
  },
  {
   "cell_type": "markdown",
   "metadata": {
    "papermill": {
     "duration": 0.011968,
     "end_time": "2020-11-26T16:37:24.453754",
     "exception": false,
     "start_time": "2020-11-26T16:37:24.441786",
     "status": "completed"
    },
    "tags": []
   },
   "source": [
    "## Tales of a buggy pipeline\n",
    "\n",
    "Let's take a look at our example pipeline declaration:"
   ]
  },
  {
   "cell_type": "code",
   "execution_count": 1,
   "metadata": {
    "execution": {
     "iopub.execute_input": "2020-11-26T16:37:24.482015Z",
     "iopub.status.busy": "2020-11-26T16:37:24.480860Z",
     "iopub.status.idle": "2020-11-26T16:37:25.728382Z",
     "shell.execute_reply": "2020-11-26T16:37:25.728851Z"
    },
    "papermill": {
     "duration": 1.263678,
     "end_time": "2020-11-26T16:37:25.729125",
     "exception": false,
     "start_time": "2020-11-26T16:37:24.465447",
     "status": "completed"
    },
    "tags": []
   },
   "outputs": [],
   "source": [
    "from ploomberutils import display_file"
   ]
  },
  {
   "cell_type": "code",
   "execution_count": 2,
   "metadata": {
    "execution": {
     "iopub.execute_input": "2020-11-26T16:37:25.748811Z",
     "iopub.status.busy": "2020-11-26T16:37:25.748147Z",
     "iopub.status.idle": "2020-11-26T16:37:25.757296Z",
     "shell.execute_reply": "2020-11-26T16:37:25.757764Z"
    },
    "papermill": {
     "duration": 0.021074,
     "end_time": "2020-11-26T16:37:25.757992",
     "exception": false,
     "start_time": "2020-11-26T16:37:25.736918",
     "status": "completed"
    },
    "tags": []
   },
   "outputs": [
    {
     "data": {
      "text/markdown": [
       "\n",
       "```yaml\n",
       "tasks:\n",
       "  - source: load.py\n",
       "    name: load\n",
       "\n",
       "  - source: preprocess.py\n",
       "    name: preprocess\n",
       "```\n"
      ],
      "text/plain": [
       "<IPython.core.display.Markdown object>"
      ]
     },
     "metadata": {},
     "output_type": "display_data"
    }
   ],
   "source": [
    "display_file('pipeline.yaml')"
   ]
  },
  {
   "cell_type": "markdown",
   "metadata": {
    "papermill": {
     "duration": 0.009213,
     "end_time": "2020-11-26T16:37:25.776087",
     "exception": false,
     "start_time": "2020-11-26T16:37:25.766874",
     "status": "completed"
    },
    "tags": []
   },
   "source": [
    "Very simple, two tasks. One loads the data and the next one preprocess it.\n",
    "\n",
    "Let's run it (don't be scared by the long error message, scroll until the end to see the explanation):"
   ]
  },
  {
   "cell_type": "code",
   "execution_count": 3,
   "metadata": {
    "execution": {
     "iopub.execute_input": "2020-11-26T16:37:25.799526Z",
     "iopub.status.busy": "2020-11-26T16:37:25.798677Z",
     "iopub.status.idle": "2020-11-26T16:37:32.492791Z",
     "shell.execute_reply": "2020-11-26T16:37:32.493266Z"
    },
    "papermill": {
     "duration": 6.709564,
     "end_time": "2020-11-26T16:37:32.493498",
     "exception": false,
     "start_time": "2020-11-26T16:37:25.783934",
     "status": "completed"
    },
    "tags": []
   },
   "outputs": [
    {
     "name": "stderr",
     "output_type": "stream",
     "text": [
      "100%|██████████| 2/2 [00:00<00:00, 2906.66it/s]\n",
      "Building task \"load\":   0%|          | 0/2 [00:00<?, ?it/s]\n",
      "Executing:   0%|          | 0/5 [00:00<?, ?cell/s]\u001b[A\n",
      "Executing: 100%|██████████| 5/5 [00:01<00:00,  3.11cell/s]\n",
      "Building task \"preprocess\":  50%|█████     | 1/2 [00:01<00:01,  1.63s/it]\n",
      "Executing:   0%|          | 0/6 [00:00<?, ?cell/s]\u001b[A\n",
      "Executing:  17%|█▋        | 1/6 [00:01<00:08,  1.76s/cell]\u001b[A\n",
      "Executing: 100%|██████████| 6/6 [00:02<00:00,  2.45cell/s]\n",
      "Building task \"preprocess\": 100%|██████████| 2/2 [00:04<00:00,  2.05s/it]\n",
      "Traceback (most recent call last):\n",
      "  File \"/Users/Edu/dev/ploomber/src/ploomber/dag/DAG.py\", line 442, in _build\n",
      "    task_reports = self._executor(dag=self,\n",
      "  File \"/Users/Edu/dev/ploomber/src/ploomber/executors/serial.py\", line 134, in __call__\n",
      "    raise DAGBuildError('DAG build failed, the following '\n",
      "ploomber.exceptions.DAGBuildError: DAG build failed, the following tasks crashed (corresponding downstream tasks aborted execution):\n",
      "* NotebookRunner: preprocess -> MetaProduct({'nb': File(/Users/Edu/dev/projects-ploomber/debugging/output/clean.ipynb)})\n",
      "Traceback (most recent call last):\n",
      "  File \"/Users/Edu/dev/ploomber/src/ploomber/tasks/notebook.py\", line 483, in run\n",
      "    pm.execute_notebook(str(tmp), str(path_to_out_ipynb),\n",
      "  File \"/Users/Edu/miniconda3/envs/ploomber/lib/python3.8/site-packages/papermill/execute.py\", line 118, in execute_notebook\n",
      "    raise_for_execution_errors(nb, output_path)\n",
      "  File \"/Users/Edu/miniconda3/envs/ploomber/lib/python3.8/site-packages/papermill/execute.py\", line 230, in raise_for_execution_errors\n",
      "    raise error\n",
      "papermill.exceptions.PapermillExecutionError: \n",
      "---------------------------------------------------------------------------\n",
      "Exception encountered at \"In [6]\":\n",
      "---------------------------------------------------------------------------\n",
      "ValueError                                Traceback (most recent call last)\n",
      "<ipython-input-6-ec8f20ce9cd0> in <module>\n",
      "----> 1 my_preprocessing_function(X_train, X_test)\n",
      "\n",
      "<ipython-input-4-b6364bbffb29> in my_preprocessing_function(X_train, X_test)\n",
      "      2     encoder = OneHotEncoder()\n",
      "      3     X_train_t = encoder.fit_transform(X_train)\n",
      "----> 4     X_test_t = encoder.transform(X_test)\n",
      "      5     return X_train_t, X_test_t\n",
      "\n",
      "~/miniconda3/envs/ploomber/lib/python3.8/site-packages/sklearn/preprocessing/_encoders.py in transform(self, X)\n",
      "    426         check_is_fitted(self)\n",
      "    427         # validation of X happens in _check_X called by _transform\n",
      "--> 428         X_int, X_mask = self._transform(X, handle_unknown=self.handle_unknown)\n",
      "    429 \n",
      "    430         n_samples, n_features = X_int.shape\n",
      "\n",
      "~/miniconda3/envs/ploomber/lib/python3.8/site-packages/sklearn/preprocessing/_encoders.py in _transform(self, X, handle_unknown)\n",
      "    122                     msg = (\"Found unknown categories {0} in column {1}\"\n",
      "    123                            \" during transform\".format(diff, i))\n",
      "--> 124                     raise ValueError(msg)\n",
      "    125                 else:\n",
      "    126                     # Set the problematic rows to an acceptable value and\n",
      "\n",
      "ValueError: Found unknown categories ['d'] in column 0 during transform\n",
      "\n",
      "\n",
      "The above exception was the direct cause of the following exception:\n",
      "\n",
      "Traceback (most recent call last):\n",
      "  File \"/Users/Edu/dev/ploomber/src/ploomber/tasks/Task.py\", line 456, in _build\n",
      "    res = self._run()\n",
      "  File \"/Users/Edu/dev/ploomber/src/ploomber/tasks/Task.py\", line 545, in _run\n",
      "    self.run()\n",
      "  File \"/Users/Edu/dev/ploomber/src/ploomber/tasks/notebook.py\", line 486, in run\n",
      "    raise TaskBuildError('An error occurred when calling'\n",
      "ploomber.exceptions.TaskBuildError: An error occurred when calling papermil.execute_notebook, partially executed notebook with traceback available at /Users/Edu/dev/projects-ploomber/debugging/output/clean.ipynb\n",
      "\n",
      "The above exception was the direct cause of the following exception:\n",
      "\n",
      "Traceback (most recent call last):\n",
      "  File \"/Users/Edu/dev/ploomber/src/ploomber/executors/serial.py\", line 180, in catch_exceptions\n",
      "    fn()\n",
      "  File \"/Users/Edu/dev/ploomber/src/ploomber/executors/serial.py\", line 159, in __call__\n",
      "    return self.fn(**self.kwargs)\n",
      "  File \"/Users/Edu/dev/ploomber/src/ploomber/executors/serial.py\", line 164, in catch_warnings\n",
      "    result = fn()\n",
      "  File \"/Users/Edu/dev/ploomber/src/ploomber/executors/serial.py\", line 159, in __call__\n",
      "    return self.fn(**self.kwargs)\n",
      "  File \"/Users/Edu/dev/ploomber/src/ploomber/executors/serial.py\", line 227, in build_in_subprocess\n",
      "    report, meta = task._build(**build_kwargs)\n",
      "  File \"/Users/Edu/dev/ploomber/src/ploomber/tasks/Task.py\", line 469, in _build\n",
      "    raise TaskBuildError(msg) from e\n",
      "ploomber.exceptions.TaskBuildError: Error building task \"preprocess\"\n",
      "\n",
      "\n",
      "The above exception was the direct cause of the following exception:\n",
      "\n",
      "Traceback (most recent call last):\n",
      "  File \"/Users/Edu/miniconda3/envs/ploomber/bin/ploomber\", line 33, in <module>\n",
      "    sys.exit(load_entry_point('ploomber', 'console_scripts', 'ploomber')())\n",
      "  File \"/Users/Edu/dev/ploomber/src/ploomber/cli/cli.py\", line 173, in cmd_router\n",
      "    fn()\n",
      "  File \"/Users/Edu/dev/ploomber/src/ploomber/cli/build.py\", line 36, in main\n",
      "    report = dag.build(force=args.force, debug=args.debug)\n",
      "  File \"/Users/Edu/dev/ploomber/src/ploomber/dag/DAG.py\", line 414, in build\n",
      "    report = callable_()\n",
      "  File \"/Users/Edu/dev/ploomber/src/ploomber/dag/DAG.py\", line 513, in _build\n",
      "    raise DAGBuildError(\n",
      "ploomber.exceptions.DAGBuildError: Failed to build DAG DAG(\"No name\")\n"
     ]
    }
   ],
   "source": [
    "%%sh --no-raise-error\n",
    "ploomber build --force"
   ]
  },
  {
   "cell_type": "markdown",
   "metadata": {
    "papermill": {
     "duration": 0.008781,
     "end_time": "2020-11-26T16:37:32.512284",
     "exception": false,
     "start_time": "2020-11-26T16:37:32.503503",
     "status": "completed"
    },
    "tags": []
   },
   "source": [
    "If you followed the previous tutorial, you are already familiar with Ploomber's detailed error messages. Let's see the messages to understand what's going on.\n",
    "\n",
    "The latest error message is the most general, the first one is the most specific. Let's take a look at the last one:\n",
    "\n",
    "\n",
    "```\n",
    "ploomber.exceptions.DAGBuildError: Failed to build DAG\n",
    "```\n",
    "\n",
    "This is just saying the build process failed. Let's see the next one:\n",
    "\n",
    "```\n",
    "ploomber.exceptions.TaskBuildError: Error building task \"preprocess\"\n",
    "```\n",
    "\n",
    "That gives us more context. It's saying the specific task that failed. Next one:\n",
    "\n",
    "\n",
    "```\n",
    "ploomber.exceptions.TaskBuildError: An error occurred when calling papermil.execute_notebook, partially executed notebook with traceback available at ...\n",
    "```\n",
    "\n",
    "That's useful, it's telling us where we can find the partially executed notebook in case we want to take a look at it. Finally:\n",
    "\n",
    "```\n",
    "ValueError: Found unknown categories ['d'] in column 1 during transform\n",
    "```\n",
    "\n",
    "That's the exact line that failed, if you take a look at the original error traceback, you'll see that the actual line that raised the exception comes from the scikit-learn library (`_encoders.py` file):\n",
    "\n",
    "```\n",
    "~/miniconda3/envs/ploomber/lib/python3.6/site-packages/sklearn/preprocessing/_encoders.py in _transform(self, X, handle_unknown)\n",
    "    122                     msg = (\"Found unknown categories {0} in column {1}\"\n",
    "    123                            \" during transform\".format(diff, i))\n",
    "--> 124                     raise ValueError(msg)\n",
    "    125                 else:\n",
    "    126                     # Set the problematic rows to an acceptable value and\n",
    "\n",
    "ValueError: Found unknown categories ['d'] in column 0 during transform\n",
    "```\n",
    "\n",
    "\n",
    "The error message provides us a lot of information: Our pipeline failed while trying to execute task `preprocess`. Somewhere in our task's code we ran something that made scikit-learn crash.\n",
    "\n",
    "Let's take a look at the failing task's source code:"
   ]
  },
  {
   "cell_type": "code",
   "execution_count": 4,
   "metadata": {
    "execution": {
     "iopub.execute_input": "2020-11-26T16:37:32.535814Z",
     "iopub.status.busy": "2020-11-26T16:37:32.535128Z",
     "iopub.status.idle": "2020-11-26T16:37:32.538719Z",
     "shell.execute_reply": "2020-11-26T16:37:32.539197Z"
    },
    "papermill": {
     "duration": 0.017132,
     "end_time": "2020-11-26T16:37:32.539433",
     "exception": false,
     "start_time": "2020-11-26T16:37:32.522301",
     "status": "completed"
    },
    "tags": []
   },
   "outputs": [
    {
     "data": {
      "text/markdown": [
       "\n",
       "```py\n",
       "import pandas as pd\n",
       "from sklearn.preprocessing import OneHotEncoder\n",
       "\n",
       "# + tags=[\"parameters\"]\n",
       "upstream = ['load']\n",
       "product = {'nb': 'output/clean.ipynb'}\n",
       "\n",
       "# -\n",
       "\n",
       "\n",
       "# +\n",
       "def my_preprocessing_function(X_train, X_test):\n",
       "    encoder = OneHotEncoder()\n",
       "    X_train_t = encoder.fit_transform(X_train)\n",
       "    X_test_t = encoder.transform(X_test)\n",
       "    return X_train_t, X_test_t\n",
       "\n",
       "\n",
       "# +\n",
       "X_train = pd.read_csv(upstream['load']['train'])\n",
       "X_test = pd.read_csv(upstream['load']['test'])\n",
       "\n",
       "# +\n",
       "my_preprocessing_function(X_train, X_test)\n",
       "\n",
       "```\n"
      ],
      "text/plain": [
       "<IPython.core.display.Markdown object>"
      ]
     },
     "metadata": {},
     "output_type": "display_data"
    }
   ],
   "source": [
    "display_file('preprocess.py')"
   ]
  },
  {
   "cell_type": "markdown",
   "metadata": {
    "papermill": {
     "duration": 0.008818,
     "end_time": "2020-11-26T16:37:32.557935",
     "exception": false,
     "start_time": "2020-11-26T16:37:32.549117",
     "status": "completed"
    },
    "tags": []
   },
   "source": [
    "Our `preprocess.py` script is using scikit-learn's `OneHotEncoder` to transform variables. The error message offers some information but not enough to fix the issue (*we don't have a column named \"0\"!*). There must be something going on internally.\n",
    "\n",
    "This is a good use case for Ploomber's debugging capabilities."
   ]
  },
  {
   "cell_type": "markdown",
   "metadata": {
    "papermill": {
     "duration": 0.009561,
     "end_time": "2020-11-26T16:37:32.576996",
     "exception": false,
     "start_time": "2020-11-26T16:37:32.567435",
     "status": "completed"
    },
    "tags": []
   },
   "source": [
    "## Starting line-by-line debugging sessions\n",
    "\n",
    "To start a debugging session you first have to start an interactive session. To do so, run the following command in the terminal:\n",
    "\n",
    "```console\n",
    "ploomber interact\n",
    "```\n",
    "\n",
    "When it finishes setting things up, your pipeline will be available in the `dag` variable. This is a standard Python session, you can execute any Python code you want.\n",
    "\n",
    "We already know that the error is happening in the `preprocess` task, you can start a line-by-line debugging session with the following command:\n",
    "\n",
    "```pycon\n",
    ">>> dag['preprocess'].debug()\n",
    "```\n",
    "\n",
    "Here's a replay of my debugging session (with comments):\n",
    "\n",
    "```\n",
    "# COMMENT: I entered the command \"next\" a few times until I reached the failing line\n",
    "ipdb>\n",
    "> /var/folders/3h/_lvh_w_x5g30rrjzb_xnn2j80000gq/T/tmpbatitar6.py(45)<module>()\n",
    "     41 X_train = pd.read_csv(upstream['load']['train'])\n",
    "     42 X_test = pd.read_csv(upstream['load']['test'])\n",
    "     43\n",
    "     44 # + tags=[]\n",
    "# COMMENT: \"--->\" means that line will be executed when I send the \"next\" command\n",
    "---> 45 my_preprocessing_function(X_train, X_test)\n",
    "\n",
    "ipdb>\n",
    "# COMMENT: Same error message that we got before!\n",
    "ValueError: Found unknown categories ['d'] in column 0 during transform\n",
    "> /var/folders/3h/_lvh_w_x5g30rrjzb_xnn2j80000gq/T/tmpbatitar6.py(45)<module>()\n",
    "     41 X_train = pd.read_csv(upstream['load']['train'])\n",
    "     42 X_test = pd.read_csv(upstream['load']['test'])\n",
    "     43\n",
    "     44 # + tags=[]\n",
    "---> 45 my_preprocessing_function(X_train, X_test)\n",
    "# COMMENT: I entered the \"down\" command to move one stack frame down (inside my_preprocessing_function)\n",
    "ipdb> down\n",
    "> /var/folders/3h/_lvh_w_x5g30rrjzb_xnn2j80000gq/T/tmpbatitar6.py(36)my_preprocessing_function()\n",
    "     34     encoder = OneHotEncoder()\n",
    "     35     X_train_t = encoder.fit_transform(X_train)\n",
    "# COMMENT: The line that raised the exception\n",
    "---> 36     X_test_t = encoder.transform(X_test)\n",
    "     37     return X_train_t, X_test_t\n",
    "     38\n",
    "\n",
    "# COMMENT: Print X_train and X_test\n",
    "ipdb> X_train\n",
    "  cat\n",
    "0   a\n",
    "1   b\n",
    "2   c\n",
    "ipdb> X_test\n",
    "  cat\n",
    "0   a\n",
    "1   b\n",
    "2   d\n",
    "# COMMENT: Exit debugger with the \"quit\" command\n",
    "ipdb> quit\n",
    "```\n",
    "\n",
    "Ah-ha! The encoder is fitted with a column that has values `a`, `b` and `c` but then is applied to a testing set that has value `d`. That's why it's breaking.\n",
    "\n",
    "This is an example of how your code could be doing everything right but your data is not compatible with it. How you fix this is up to. The important thing is that we know why things are failing."
   ]
  },
  {
   "cell_type": "markdown",
   "metadata": {
    "papermill": {
     "duration": 0.008759,
     "end_time": "2020-11-26T16:37:32.596298",
     "exception": false,
     "start_time": "2020-11-26T16:37:32.587539",
     "status": "completed"
    },
    "tags": []
   },
   "source": [
    "## Post-mortem debugging\n",
    "\n",
    "Line-by-line debugging puts us at the beginning of the script and then we move as we want. An alternative approach is to let the program run and start the debugging session as soon as it finds an exception, this is called *post-mortem* debugging. Starting a post-mortem session is similar: start and interactive session but then pass `kind='pm'` (`pm` stands for post-mortem) as argument to the `.debug()` function:\n",
    "\n",
    "```pycon\n",
    ">>> dag['preprocess'].debug(kind='pm')\n",
    "```\n",
    "\n",
    "Here's the (commented) replay of my post-mortem debugging session:\n",
    "\n",
    "```\n",
    "# COMMENT: I deleted a few lines for brevity\n",
    "ValueError: Found unknown categories ['d'] in column 0 during transform\n",
    "> /Users/Edu/miniconda3/envs/ploomber/lib/python3.6/site-packages/sklearn/preprocessing/_encoders.py(124)_transform()\n",
    "    122                     msg = (\"Found unknown categories {0} in column {1}\"\n",
    "    123                            \" during transform\".format(diff, i))\n",
    "# COMMENT: The session starts here. Not very useful because we are inside the scikit-learn package\n",
    "# (note the file path: site-packages/sklearn/preprocessing/_encoders.py)\n",
    "--> 124                     raise ValueError(msg)\n",
    "    125                 else:\n",
    "    126                     # Set the problematic rows to an acceptable value and\n",
    "# COMMENT: Let's move up\n",
    "ipdb> up\n",
    "> /Users/Edu/miniconda3/envs/ploomber/lib/python3.6/site-packages/sklearn/preprocessing/_encoders.py(428)transform()\n",
    "    426         check_is_fitted(self)\n",
    "    427         # validation of X happens in _check_X called by _transform\n",
    "--> 428         X_int, X_mask = self._transform(X, handle_unknown=self.handle_unknown)\n",
    "    429\n",
    "    430         n_samples, n_features = X_int.shape\n",
    "# COMMENT: Still inside scikit-learn, let's move up again\n",
    "ipdb> up\n",
    "> /var/folders/3h/_lvh_w_x5g30rrjzb_xnn2j80000gq/T/tmp653y199s.py(36)my_preprocessing_function()\n",
    "     34     encoder = OneHotEncoder()\n",
    "     35     X_train_t = encoder.fit_transform(X_train)\n",
    "# COMMENT: Now are are in our task's code, same place as in the previous example\n",
    "---> 36     X_test_t = encoder.transform(X_test)\n",
    "     37     return X_train_t, X_test_t\n",
    "     38\n",
    "ipdb> X_train\n",
    "  cat\n",
    "0   a\n",
    "1   b\n",
    "2   c\n",
    "ipdb> X_test\n",
    "  cat\n",
    "0   a\n",
    "1   b\n",
    "2   d\n",
    "ipdb> quit\n",
    "```\n",
    "\n",
    "As you can see, we can use either of these two approaches."
   ]
  },
  {
   "cell_type": "markdown",
   "metadata": {
    "lines_to_next_cell": 2,
    "papermill": {
     "duration": 0.009126,
     "end_time": "2020-11-26T16:37:32.615757",
     "exception": false,
     "start_time": "2020-11-26T16:37:32.606631",
     "status": "completed"
    },
    "tags": []
   },
   "source": [
    "## More difficult scenario: no exceptions raised but wrong output\n",
    "\n",
    "The previous example showed how we can debug a program that raises an exception. A more difficult scenario is when our program runs without errors but we find issues in the output (e.g. charts are not displaying correctly, data file has NAs, etc).\n",
    "\n",
    "This is a much harder problem because we don't know where to look at! If a bug is originated in task `A` it might propagate to any downstream tasks that use the product from `A` as input, this is why testing is essential. By explicitly checking our data expectations, we increase the chance of catching errors at the source, rather than in a downstream task.\n",
    "\n",
    "When it happens (and trust me, it will), we recommend you to follow a recursive approach: Once you detect the error, the first question to answer is: Which task produced this output? Once you know that, start a line-by-line debugging session (post-mortem won't work because there is no exception!), and carefully check variables to see if you can spot the error.\n",
    "\n",
    "If everything looks correct, go to all upstream tasks and repeat this process. You can do this from the command line.\n",
    "\n",
    "First, start an interactive session from the terminal:\n",
    "\n",
    "```console\n",
    "ploomber interactive\n",
    "```\n",
    "\n",
    "Then debug the task that produced the buggy output:\n",
    "\n",
    "```pycon\n",
    ">>> dag['buggy_task'].debug()\n",
    "```\n",
    "\n",
    "If that's not enough, check upstream tasks. To find upstream tasks, use `task.upstream`:\n",
    "\n",
    "```pycon\n",
    ">>> dag['buggy_task'].upstream\n",
    "```\n",
    "\n",
    "If you have a hypothesis of *where the error might be*. You can insert a breakpoint in your task's source code to start a debugging session at any given point:\n",
    "\n",
    "\n",
    "```python\n",
    "# buggy_task.py\n",
    "\n",
    "# some code\n",
    "# ...\n",
    "# ...\n",
    "\n",
    "# breakpoint: this is where I think the bug is...\n",
    "import pdb; pdb.set_trace()\n",
    "\n",
    "\n",
    "# more code\n",
    "# ...\n",
    "# ...\n",
    "```\n",
    "\n",
    "Then start a post-mortem session. The debugger will start at the line where you inserted the breakpoint.\n",
    "\n",
    "## Using the CLI to check if we fixed the bug\n",
    "\n",
    "In a real scenario, we might try a few things before we find bug fix. To quickly iterate over candidate solutions, we'd like to check if the applied change makes our pipeline *not* to throw an error. This is where Ploomber's incremental builds come in handy.\n",
    "\n",
    "If we narrowed down the error to a specific task, we can apply changes and quickly check if the new code runs correctly by just running that task:\n",
    "\n",
    "```console\n",
    "ploomber task {task-name}\n",
    "```\n",
    "\n",
    "If the exception happens in task `B`, but the solution has to be implemented in task `A` (where `A` is an upstream dependency of `B`), then we have to make sure that we run `A` and `B` to verify the fix. A full end-to-end run is wasteful but so is an incremental run if `B` has many downstream tasks. For testing purposes, we just care about things going well *until `B`*. This is a good use of a partial build: it will run all tasks until it reaches a selected task (by default, it will still skip up-to-date tasks). In our case:\n",
    "\n",
    "```console\n",
    "ploomber build --partially B\n",
    "```\n",
    "\n",
    "\n",
    "## Letting our pipeline fail under unforeseen circumstances\n",
    "\n",
    "The error in our program is of particular interest because it posits a common scenario: our program is correct, but still failed due to unforeseen circumstances (unexpected data properties). This type of bugs challenge our assumptions about input data, fixing the error is just as important as explaining *why* we fixed the way we did it.\n",
    "\n",
    "Picture this: we decide to drop all observations that contain the unexpected value (`d`), now our pipeline runs correctly. A few months later, we receive new data so we run the pipeline again, but we run into the same issue because of a new unexpected value (say, `e`).\n",
    "\n",
    "We could argue that one solution would be to *drop all unexpected values*. Is this the best approach? Dropping observations silently is dangerous, as they might contain useful information for our analysis. If we bury a `drop=True` piece of code in a pipeline with dozens of files, we are going to cause *a lot of* trouble to someone (which could be us) in the future. As we mentioned in the previous guide: explicitly stating our data expectations is the way to move forward.\n",
    "\n",
    "If we decide dropping `d` is a reasonable choice, we can encode our new data expectations in the upstream task testing function (because that's the task that supplies input data). Let's recall how our pipeline looks like:"
   ]
  },
  {
   "cell_type": "code",
   "execution_count": 5,
   "metadata": {
    "execution": {
     "iopub.execute_input": "2020-11-26T16:37:32.654388Z",
     "iopub.status.busy": "2020-11-26T16:37:32.652807Z",
     "iopub.status.idle": "2020-11-26T16:37:32.659036Z",
     "shell.execute_reply": "2020-11-26T16:37:32.660767Z"
    },
    "papermill": {
     "duration": 0.032056,
     "end_time": "2020-11-26T16:37:32.661171",
     "exception": false,
     "start_time": "2020-11-26T16:37:32.629115",
     "status": "completed"
    },
    "tags": []
   },
   "outputs": [
    {
     "data": {
      "text/markdown": [
       "\n",
       "```yaml\n",
       "tasks:\n",
       "  - source: load.py\n",
       "    name: load\n",
       "\n",
       "  - source: preprocess.py\n",
       "    name: preprocess\n",
       "```\n"
      ],
      "text/plain": [
       "<IPython.core.display.Markdown object>"
      ]
     },
     "metadata": {},
     "output_type": "display_data"
    }
   ],
   "source": [
    "display_file('pipeline.yaml')"
   ]
  },
  {
   "cell_type": "markdown",
   "metadata": {
    "papermill": {
     "duration": 0.015985,
     "end_time": "2020-11-26T16:37:32.693207",
     "exception": false,
     "start_time": "2020-11-26T16:37:32.677222",
     "status": "completed"
    },
    "tags": []
   },
   "source": [
    "`load` supplies input for `preprocess`. Our testing function for the `load` task would look like this:"
   ]
  },
  {
   "cell_type": "markdown",
   "metadata": {
    "papermill": {
     "duration": 0.014686,
     "end_time": "2020-11-26T16:37:32.731865",
     "exception": false,
     "start_time": "2020-11-26T16:37:32.717179",
     "status": "completed"
    },
    "tags": []
   },
   "source": [
    "```python\n",
    "def test_load(product):\n",
    "    train = pd.read_csv(str(product['train']))\n",
    "    test = pd.read_csv(str(product['test']))\n",
    "    \n",
    "    # NOTE: these are the expected values in the cat column\n",
    "    # we expect value 'd' in the testing set and we'll\n",
    "    # drop it during preprocessing. Any other unexpected\n",
    "    # values will raise an exception here so we have the\n",
    "    # chance to decide what to do with it\n",
    "    assert set(train['cat'].unique()) == {'a', 'b', 'c'}\n",
    "    assert set(test['cat'].unique()) == {'a', 'b', 'c', 'd'}\n",
    "```\n",
    "\n",
    "The comment should actually be part of the testing function, without it, there is no context to understand why are we testing such a specific condition.\n",
    "\n",
    "\n",
    "## Debugging (templated) SQL scripts\n",
    "\n",
    "So far, we've discussed how to debug Python scripts, but SQL scripts can also fail. In a previous guide, we showed how templated SQL scripts help us write more concise SQL code, but this comes with a cost. Relying too much on templating makes our templated source code short but hard to read. If your database complains about syntax errors when executing SQL tasks, chances are, the errors is coming from incorrect templating logic. One good first debugging step is to take a look at the rendered code. You can do so from the command line:\n",
    "\n",
    "```console\n",
    "ploomber task {task-name} --source\n",
    "```\n",
    "\n",
    "Apart from looking at rendered code, there isn't much to say about debugging SQL scripts because there are no interactive debuggers. The best we can do is to organize our scripts in a clear way to make it easy to spot errors."
   ]
  },
  {
   "cell_type": "markdown",
   "metadata": {
    "papermill": {
     "duration": 0.014019,
     "end_time": "2020-11-26T16:37:32.755655",
     "exception": false,
     "start_time": "2020-11-26T16:37:32.741636",
     "status": "completed"
    },
    "tags": []
   },
   "source": [
    "## Where to go next\n",
    "\n",
    "* [pdb documentation](https://docs.python.org/3/library/pdb.html)"
   ]
  }
 ],
 "metadata": {
  "jupytext": {
   "cell_metadata_filter": "-all",
   "main_language": "python",
   "notebook_metadata_filter": "-all"
  },
  "kernelspec": {
   "display_name": "Python 3",
   "language": "python",
   "name": "python3"
  },
  "language_info": {
   "codemirror_mode": {
    "name": "ipython",
    "version": 3
   },
   "file_extension": ".py",
   "mimetype": "text/x-python",
   "name": "python",
   "nbconvert_exporter": "python",
   "pygments_lexer": "ipython3",
   "version": "3.8.6"
  },
  "papermill": {
   "default_parameters": {},
   "duration": 9.749612,
   "end_time": "2020-11-26T16:37:33.245504",
   "environment_variables": {},
   "exception": null,
   "input_path": "/var/folders/3h/_lvh_w_x5g30rrjzb_xnn2j80000gq/T/tmpb_lk3aq6.ipynb",
   "output_path": "../../projects-ploomber/debugging/README.ipynb",
   "parameters": {
    "product": "../../projects-ploomber/debugging/README.ipynb"
   },
   "start_time": "2020-11-26T16:37:23.495892",
   "version": "2.2.2"
  }
 },
 "nbformat": 4,
 "nbformat_minor": 4
}
