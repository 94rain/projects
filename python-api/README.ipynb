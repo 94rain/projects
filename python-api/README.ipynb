{
 "cells": [
  {
   "cell_type": "markdown",
   "id": "131b556a",
   "metadata": {
    "papermill": {
     "duration": 0.01494,
     "end_time": "2021-10-11T03:09:24.124678",
     "exception": false,
     "start_time": "2021-10-11T03:09:24.109738",
     "status": "completed"
    },
    "tags": []
   },
   "source": [
    "\n",
    "*Note:* You can run this example locally (`ploomber examples -n python-api`) or in Binder (hosted JupyterLab ).\n",
    "\n",
    "[![binder-logo](https://mybinder.org/badge_logo.svg)](https://mybinder.org/v2/gh/ploomber/binder-env/main?urlpath=git-pull%3Frepo%3Dhttps%253A%252F%252Fgithub.com%252Fploomber%252Fprojects%26urlpath%3Dlab%252Ftree%252Fprojects%252Fpython-api%252FREADME.ipynb%26branch%3Dmaster)\n"
   ]
  },
  {
   "cell_type": "markdown",
   "id": "dad9d6c6",
   "metadata": {
    "papermill": {
     "duration": 0.010711,
     "end_time": "2021-10-11T03:09:24.147121",
     "exception": false,
     "start_time": "2021-10-11T03:09:24.136410",
     "status": "completed"
    },
    "tags": []
   },
   "source": [
    "# Python API\n",
    "\n",
    "Pipeline project using the Python API.\n",
    "\n",
    "If you're new to the Python API, check out [python-api-examples/](../python-api-examples) directory, containing tutorials and more examples.\n",
    "\n",
    "## Setup\n",
    "\n",
    "~~~bash\n",
    "# if using conda\n",
    "conda env create --file environment.yml\n",
    "conda activate python-api\n",
    "\n",
    "# otherwise use pip directly\n",
    "pip install -r requirements.txt\n",
    "# install the pipeline as a package in editable mode\n",
    "pip install --editable .\n",
    "~~~\n",
    "\n",
    "## Description\n",
    "\n",
    "This pipeline has three tasks:\n",
    "\n",
    "1. Load task (Python function): CSV file\n",
    "2. Clean task (Python script):  Jupyter notebook and another CSV file\n",
    "3. Plot task (Python scripts): Jupyter notebook\n",
    "\n",
    "## Build"
   ]
  },
  {
   "cell_type": "code",
   "execution_count": 1,
   "id": "0a98a070",
   "metadata": {
    "execution": {
     "iopub.execute_input": "2021-10-11T03:09:24.178878Z",
     "iopub.status.busy": "2021-10-11T03:09:24.178193Z",
     "iopub.status.idle": "2021-10-11T03:09:35.224846Z",
     "shell.execute_reply": "2021-10-11T03:09:35.225681Z"
    },
    "papermill": {
     "duration": 11.067558,
     "end_time": "2021-10-11T03:09:35.225970",
     "exception": false,
     "start_time": "2021-10-11T03:09:24.158412",
     "status": "completed"
    },
    "tags": [
     "bash"
    ]
   },
   "outputs": [
    {
     "name": "stdout",
     "output_type": "stream",
     "text": [
      "name    Ran?      Elapsed (s)    Percentage\n",
      "------  ------  -------------  ------------\n",
      "load    True          0.00802      0.143621\n",
      "clean   True          2.24671     40.2338\n",
      "plot    True          3.3294      59.6226\n"
     ]
    },
    {
     "name": "stderr",
     "output_type": "stream",
     "text": [
      "Building task 'clean':  33%|███▎      | 1/3 [00:02<00:05,  2.54s/it]\n",
      "Executing:   0%|          | 0/5 [00:00<?, ?cell/s]\u001b[A\n",
      "Executing:  20%|██        | 1/5 [00:01<00:07,  1.77s/cell]\u001b[A\n",
      "Executing: 100%|██████████| 5/5 [00:02<00:00,  2.33cell/s]\n",
      "Building task 'plot':  67%|██████▋   | 2/3 [00:04<00:02,  2.38s/it] \n",
      "Executing:   0%|          | 0/6 [00:00<?, ?cell/s]\u001b[A\n",
      "Executing:  17%|█▋        | 1/6 [00:02<00:12,  2.49s/cell]\u001b[A\n",
      "Executing:  67%|██████▋   | 4/6 [00:02<00:01,  1.99cell/s]\u001b[A\n",
      "Executing: 100%|██████████| 6/6 [00:03<00:00,  1.86cell/s]\n",
      "Building task 'plot': 100%|██████████| 3/3 [00:08<00:00,  2.72s/it]\n"
     ]
    }
   ],
   "source": [
    "%%sh\n",
    "ploomber build"
   ]
  },
  {
   "cell_type": "code",
   "execution_count": null,
   "id": "6caaa140",
   "metadata": {
    "papermill": {
     "duration": 0.013081,
     "end_time": "2021-10-11T03:09:35.251776",
     "exception": false,
     "start_time": "2021-10-11T03:09:35.238695",
     "status": "completed"
    },
    "tags": [
     "parameters"
    ]
   },
   "outputs": [],
   "source": []
  },
  {
   "cell_type": "code",
   "execution_count": 2,
   "id": "2042ee4b",
   "metadata": {
    "execution": {
     "iopub.execute_input": "2021-10-11T03:09:35.283613Z",
     "iopub.status.busy": "2021-10-11T03:09:35.282792Z",
     "iopub.status.idle": "2021-10-11T03:09:35.284922Z",
     "shell.execute_reply": "2021-10-11T03:09:35.285409Z"
    },
    "papermill": {
     "duration": 0.021116,
     "end_time": "2021-10-11T03:09:35.285636",
     "exception": false,
     "start_time": "2021-10-11T03:09:35.264520",
     "status": "completed"
    },
    "tags": [
     "injected-parameters"
    ]
   },
   "outputs": [],
   "source": [
    "# Parameters\n",
    "product = \"python-api/README.ipynb\"\n"
   ]
  }
 ],
 "metadata": {
  "jupytext": {
   "cell_metadata_filter": "tags,-all",
   "main_language": "bash",
   "notebook_metadata_filter": "-all",
   "text_representation": {
    "extension": ".md",
    "format_name": "markdown"
   }
  },
  "kernelspec": {
   "display_name": "Python 3 (ipykernel)",
   "language": "python",
   "name": "python3"
  },
  "language_info": {
   "codemirror_mode": {
    "name": "ipython",
    "version": 3
   },
   "file_extension": ".py",
   "mimetype": "text/x-python",
   "name": "python",
   "nbconvert_exporter": "python",
   "pygments_lexer": "ipython3",
   "version": "3.9.7"
  },
  "papermill": {
   "duration": 12.537489,
   "end_time": "2021-10-11T03:09:35.514888",
   "exception": null,
   "input_path": "/var/folders/3h/_lvh_w_x5g30rrjzb_xnn2j80000gq/T/tmpnyrhjyub.ipynb",
   "output_path": "python-api/README.ipynb",
   "parameters": {
    "product": "python-api/README.ipynb"
   },
   "start_time": "2021-10-11T03:09:22.977399"
  }
 },
 "nbformat": 4,
 "nbformat_minor": 5
}
