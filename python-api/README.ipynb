{
 "cells": [
  {
   "cell_type": "markdown",
   "id": "rational-granny",
   "metadata": {
    "papermill": {
     "duration": 0.005521,
     "end_time": "2021-03-14T00:40:46.474045",
     "exception": false,
     "start_time": "2021-03-14T00:40:46.468524",
     "status": "completed"
    },
    "tags": []
   },
   "source": [
    "\n",
    "*Note:* You can run this from your computer (Jupyter or terminal), or use one of the\n",
    "hosted options:\n",
    "\n",
    "[![binder-logo](https://mybinder.org/badge_logo.svg)](https://mybinder.org/v2/gh/ploomber/binder-env/main?urlpath=git-pull%3Frepo%3Dhttps%253A%252F%252Fgithub.com%252Fploomber%252Fprojects%26urlpath%3Dlab%252Ftree%252Fprojects%252Fpython-api%252FREADME.ipynb%26branch%3Dmaster)\n",
    "\n",
    "[![deepnote-logo](https://deepnote.com/buttons/launch-in-deepnote-small.svg)](https://deepnote.com/launch?template=deepnote&url=https://github.com/ploomber/projects/blob/master/python-api/README.ipynb)\n"
   ]
  },
  {
   "cell_type": "markdown",
   "id": "martial-cleanup",
   "metadata": {
    "papermill": {
     "duration": 0.004225,
     "end_time": "2021-03-14T00:40:46.482918",
     "exception": false,
     "start_time": "2021-03-14T00:40:46.478693",
     "status": "completed"
    },
    "tags": []
   },
   "source": [
    "# Python API\n",
    "\n",
    "Pipeline using the Python API\n",
    "\n",
    "## Setup\n",
    "\n",
    "~~~bash\n",
    "# if using conda\n",
    "conda env create --file environment.yml\n",
    "conda activate python-api\n",
    "\n",
    "# otherwise use pip directly\n",
    "pip install -r requirements.txt\n",
    "# install the pipeline as a package in editable mode\n",
    "pip install --editable .\n",
    "~~~\n",
    "\n",
    "## Description\n",
    "\n",
    "This pipeline has three tasks:\n",
    "\n",
    "1. Load task (Python function): CSV file\n",
    "2. Clean task (Python script):  Jupyter notebook and another CSV file\n",
    "3. Plot task (Python scripts): Jupyter notebook\n",
    "\n",
    "## Build"
   ]
  },
  {
   "cell_type": "code",
   "execution_count": 1,
   "id": "figured-planning",
   "metadata": {
    "execution": {
     "iopub.execute_input": "2021-03-14T00:40:46.501661Z",
     "iopub.status.busy": "2021-03-14T00:40:46.500521Z",
     "iopub.status.idle": "2021-03-14T00:40:53.253203Z",
     "shell.execute_reply": "2021-03-14T00:40:53.253920Z"
    },
    "papermill": {
     "duration": 6.767125,
     "end_time": "2021-03-14T00:40:53.254203",
     "exception": false,
     "start_time": "2021-03-14T00:40:46.487078",
     "status": "completed"
    },
    "tags": [
     "bash"
    ]
   },
   "outputs": [
    {
     "name": "stdout",
     "output_type": "stream",
     "text": [
      "name    Ran?      Elapsed (s)    Percentage\n",
      "------  ------  -------------  ------------\n",
      "load    True         0.015017      0.352206\n",
      "clean   True         1.89287      44.3951\n",
      "plot    True         2.35581      55.2527\n"
     ]
    },
    {
     "name": "stderr",
     "output_type": "stream",
     "text": [
      "Building task \"clean\":  33%|███▎      | 1/3 [00:00<00:00,  8.94it/s]\n",
      "Executing:   0%|          | 0/5 [00:00<?, ?cell/s]\u001b[A\n",
      "Executing: 100%|██████████| 5/5 [00:01<00:00,  2.70cell/s]\n",
      "Building task \"plot\":  67%|██████▋   | 2/3 [00:02<00:01,  1.18s/it] \n",
      "Executing:   0%|          | 0/6 [00:00<?, ?cell/s]\u001b[A\n",
      "Executing:  17%|█▋        | 1/6 [00:01<00:08,  1.72s/cell]\u001b[A\n",
      "Executing: 100%|██████████| 6/6 [00:02<00:00,  2.59cell/s]\n",
      "Building task \"plot\": 100%|██████████| 3/3 [00:04<00:00,  1.47s/it]\n"
     ]
    }
   ],
   "source": [
    "%%sh\n",
    "ploomber build"
   ]
  }
 ],
 "metadata": {
  "jupytext": {
   "cell_metadata_filter": "tags,-all",
   "main_language": "bash",
   "notebook_metadata_filter": "-all"
  },
  "kernelspec": {
   "display_name": "Python 3",
   "language": "python",
   "name": "python3"
  },
  "language_info": {
   "codemirror_mode": {
    "name": "ipython",
    "version": 3
   },
   "file_extension": ".py",
   "mimetype": "text/x-python",
   "name": "python",
   "nbconvert_exporter": "python",
   "pygments_lexer": "ipython3",
   "version": "3.7.10"
  },
  "papermill": {
   "duration": 7.825357,
   "end_time": "2021-03-14T00:40:53.494554",
   "exception": null,
   "input_path": "/var/folders/3h/_lvh_w_x5g30rrjzb_xnn2j80000gq/T/tmp8nfdk42s.ipynb",
   "output_path": "python-api/README.ipynb",
   "parameters": {
    "product": "python-api/README.ipynb"
   },
   "start_time": "2021-03-14T00:40:45.669197"
  }
 },
 "nbformat": 4,
 "nbformat_minor": 5
}
