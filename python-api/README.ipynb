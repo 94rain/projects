{
 "cells": [
  {
   "cell_type": "markdown",
   "id": "c0b7aea3",
   "metadata": {
    "papermill": {
     "duration": 0.004983,
     "end_time": "2021-09-19T22:20:59.088120",
     "exception": false,
     "start_time": "2021-09-19T22:20:59.083137",
     "status": "completed"
    },
    "tags": []
   },
   "source": [
    "\n",
    "*Note:* You can run this from your computer (Jupyter or terminal), or using Binder (does not require any installation, takes a few minutes to be ready)\n",
    "\n",
    "[![binder-logo](https://mybinder.org/badge_logo.svg)](https://mybinder.org/v2/gh/ploomber/binder-env/main?urlpath=git-pull%3Frepo%3Dhttps%253A%252F%252Fgithub.com%252Fploomber%252Fprojects%26urlpath%3Dlab%252Ftree%252Fprojects%252Fpython-api%252FREADME.ipynb%26branch%3Dmaster)\n"
   ]
  },
  {
   "cell_type": "markdown",
   "id": "dfcd6ad1",
   "metadata": {
    "papermill": {
     "duration": 0.004036,
     "end_time": "2021-09-19T22:20:59.097073",
     "exception": false,
     "start_time": "2021-09-19T22:20:59.093037",
     "status": "completed"
    },
    "tags": []
   },
   "source": [
    "# Python API\n",
    "\n",
    "Pipeline project using the Python API.\n",
    "\n",
    "If you're new to the Python API, check out [python-api-examples/](../python-api-examples) directory, containing tutorials and more examples.\n",
    "\n",
    "## Setup\n",
    "\n",
    "~~~bash\n",
    "# if using conda\n",
    "conda env create --file environment.yml\n",
    "conda activate python-api\n",
    "\n",
    "# otherwise use pip directly\n",
    "pip install -r requirements.txt\n",
    "# install the pipeline as a package in editable mode\n",
    "pip install --editable .\n",
    "~~~\n",
    "\n",
    "## Description\n",
    "\n",
    "This pipeline has three tasks:\n",
    "\n",
    "1. Load task (Python function): CSV file\n",
    "2. Clean task (Python script):  Jupyter notebook and another CSV file\n",
    "3. Plot task (Python scripts): Jupyter notebook\n",
    "\n",
    "## Build"
   ]
  },
  {
   "cell_type": "code",
   "execution_count": 1,
   "id": "6a46a29d",
   "metadata": {
    "execution": {
     "iopub.execute_input": "2021-09-19T22:20:59.115514Z",
     "iopub.status.busy": "2021-09-19T22:20:59.114647Z",
     "iopub.status.idle": "2021-09-19T22:21:07.482021Z",
     "shell.execute_reply": "2021-09-19T22:21:07.482889Z"
    },
    "papermill": {
     "duration": 8.382493,
     "end_time": "2021-09-19T22:21:07.483406",
     "exception": false,
     "start_time": "2021-09-19T22:20:59.100913",
     "status": "completed"
    },
    "tags": [
     "bash"
    ]
   },
   "outputs": [
    {
     "name": "stdout",
     "output_type": "stream",
     "text": [
      "name    Ran?      Elapsed (s)    Percentage\n",
      "------  ------  -------------  ------------\n",
      "load    True         0.015109      0.267666\n",
      "clean   True         2.2997       40.7406\n",
      "plot    True         3.32992      58.9917\n"
     ]
    },
    {
     "name": "stderr",
     "output_type": "stream",
     "text": [
      "Building task 'clean':  33%|███▎      | 1/3 [00:00<00:00,  8.72it/s]\n",
      "Executing:   0%|          | 0/5 [00:00<?, ?cell/s]\u001b[A\n",
      "Executing:  20%|██        | 1/5 [00:01<00:07,  1.93s/cell]\u001b[A\n",
      "Executing: 100%|██████████| 5/5 [00:02<00:00,  2.22cell/s]\n",
      "Building task 'plot':  67%|██████▋   | 2/3 [00:02<00:01,  1.41s/it] \n",
      "Executing:   0%|          | 0/6 [00:00<?, ?cell/s]\u001b[A\n",
      "Executing:  17%|█▋        | 1/6 [00:02<00:13,  2.63s/cell]\u001b[A\n",
      "Executing: 100%|██████████| 6/6 [00:03<00:00,  1.82cell/s]\n",
      "Building task 'plot': 100%|██████████| 3/3 [00:05<00:00,  1.92s/it]\n"
     ]
    }
   ],
   "source": [
    "%%sh\n",
    "ploomber build"
   ]
  }
 ],
 "metadata": {
  "jupytext": {
   "cell_metadata_filter": "tags,-all",
   "main_language": "bash",
   "notebook_metadata_filter": "-all"
  },
  "kernelspec": {
   "display_name": "Python 3 (ipykernel)",
   "language": "python",
   "name": "python3"
  },
  "language_info": {
   "codemirror_mode": {
    "name": "ipython",
    "version": 3
   },
   "file_extension": ".py",
   "mimetype": "text/x-python",
   "name": "python",
   "nbconvert_exporter": "python",
   "pygments_lexer": "ipython3",
   "version": "3.7.10"
  },
  "papermill": {
   "duration": 13.061319,
   "end_time": "2021-09-19T22:21:11.061567",
   "exception": null,
   "input_path": "/var/folders/3h/_lvh_w_x5g30rrjzb_xnn2j80000gq/T/tmpdsuj0u8x.ipynb",
   "output_path": "python-api/README.ipynb",
   "parameters": {
    "product": "python-api/README.ipynb"
   },
   "start_time": "2021-09-19T22:20:58.000248"
  }
 },
 "nbformat": 4,
 "nbformat_minor": 5
}
