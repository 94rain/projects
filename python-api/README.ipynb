{
 "cells": [
  {
   "cell_type": "markdown",
   "id": "7e1b1c18",
   "metadata": {
    "papermill": {
     "duration": 0.025807,
     "end_time": "2021-09-06T02:44:53.941282",
     "exception": false,
     "start_time": "2021-09-06T02:44:53.915475",
     "status": "completed"
    },
    "tags": []
   },
   "source": [
    "\n",
    "*Note:* You can run this from your computer (Jupyter or terminal), or use one of the\n",
    "hosted options:\n",
    "\n",
    "[![binder-logo](https://mybinder.org/badge_logo.svg)](https://mybinder.org/v2/gh/ploomber/binder-env/main?urlpath=git-pull%3Frepo%3Dhttps%253A%252F%252Fgithub.com%252Fploomber%252Fprojects%26urlpath%3Dlab%252Ftree%252Fprojects%252Fpython-api%252FREADME.ipynb%26branch%3Dmaster)\n",
    "\n",
    "[![deepnote-logo](https://deepnote.com/buttons/launch-in-deepnote-small.svg)](https://deepnote.com/launch?template=deepnote&url=https://github.com/ploomber/projects/blob/master/python-api/README.ipynb)\n"
   ]
  },
  {
   "cell_type": "markdown",
   "id": "6ff1f1ab",
   "metadata": {
    "papermill": {
     "duration": 0.027434,
     "end_time": "2021-09-06T02:44:53.979256",
     "exception": false,
     "start_time": "2021-09-06T02:44:53.951822",
     "status": "completed"
    },
    "tags": []
   },
   "source": [
    "# Python API\n",
    "\n",
    "Pipeline project using the Python API.\n",
    "\n",
    "If you're new to the Python API, check out [python-api-examples/](../python-api-examples) directory, containing tutorials and more examples.\n",
    "\n",
    "## Setup\n",
    "\n",
    "~~~bash\n",
    "# if using conda\n",
    "conda env create --file environment.yml\n",
    "conda activate python-api\n",
    "\n",
    "# otherwise use pip directly\n",
    "pip install -r requirements.txt\n",
    "# install the pipeline as a package in editable mode\n",
    "pip install --editable .\n",
    "~~~\n",
    "\n",
    "## Description\n",
    "\n",
    "This pipeline has three tasks:\n",
    "\n",
    "1. Load task (Python function): CSV file\n",
    "2. Clean task (Python script):  Jupyter notebook and another CSV file\n",
    "3. Plot task (Python scripts): Jupyter notebook\n",
    "\n",
    "## Build"
   ]
  },
  {
   "cell_type": "code",
   "execution_count": 1,
   "id": "d70ee6c0",
   "metadata": {
    "execution": {
     "iopub.execute_input": "2021-09-06T02:44:54.053718Z",
     "iopub.status.busy": "2021-09-06T02:44:54.042935Z",
     "iopub.status.idle": "2021-09-06T02:45:30.872681Z",
     "shell.execute_reply": "2021-09-06T02:45:30.871887Z"
    },
    "papermill": {
     "duration": 36.885131,
     "end_time": "2021-09-06T02:45:30.873044",
     "exception": false,
     "start_time": "2021-09-06T02:44:53.987913",
     "status": "completed"
    },
    "tags": [
     "bash"
    ]
   },
   "outputs": [
    {
     "name": "stdout",
     "output_type": "stream",
     "text": [
      "name    Ran?      Elapsed (s)    Percentage\n",
      "------  ------  -------------  ------------\n",
      "load    True         0.013857     0.0416756\n",
      "clean   True         3.01133      9.05672\n",
      "plot    True        30.2245      90.9016\n"
     ]
    },
    {
     "name": "stderr",
     "output_type": "stream",
     "text": [
      "Building task 'clean':  33%|███▎      | 1/3 [00:00<00:00,  8.68it/s]\n",
      "Executing:   0%|          | 0/5 [00:00<?, ?cell/s]\u001b[A\n",
      "Executing:  20%|██        | 1/5 [00:02<00:09,  2.42s/cell]\u001b[A\n",
      "Executing: 100%|██████████| 5/5 [00:02<00:00,  1.69cell/s]\n",
      "Building task 'plot':  67%|██████▋   | 2/3 [00:03<00:01,  1.83s/it] \n",
      "Executing:   0%|          | 0/6 [00:00<?, ?cell/s]\u001b[A\n",
      "Executing:  17%|█▋        | 1/6 [00:29<02:27, 29.50s/cell]\u001b[A\n",
      "Executing: 100%|██████████| 6/6 [00:30<00:00,  5.03s/cell]\n",
      "Building task 'plot': 100%|██████████| 3/3 [00:33<00:00, 11.13s/it]\n"
     ]
    }
   ],
   "source": [
    "%%sh\n",
    "ploomber build"
   ]
  }
 ],
 "metadata": {
  "jupytext": {
   "cell_metadata_filter": "tags,-all",
   "main_language": "bash",
   "notebook_metadata_filter": "-all"
  },
  "kernelspec": {
   "display_name": "Python 3 (ipykernel)",
   "language": "python",
   "name": "python3"
  },
  "language_info": {
   "codemirror_mode": {
    "name": "ipython",
    "version": 3
   },
   "file_extension": ".py",
   "mimetype": "text/x-python",
   "name": "python",
   "nbconvert_exporter": "python",
   "pygments_lexer": "ipython3",
   "version": "3.7.10"
  },
  "papermill": {
   "duration": 38.487978,
   "end_time": "2021-09-06T02:45:31.122117",
   "exception": null,
   "input_path": "/var/folders/3h/_lvh_w_x5g30rrjzb_xnn2j80000gq/T/tmpc9i_85jh.ipynb",
   "output_path": "python-api/README.ipynb",
   "parameters": {
    "product": "python-api/README.ipynb"
   },
   "start_time": "2021-09-06T02:44:52.634139"
  }
 },
 "nbformat": 4,
 "nbformat_minor": 5
}
