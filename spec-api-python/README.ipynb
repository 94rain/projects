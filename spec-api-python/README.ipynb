{
 "cells": [
  {
   "cell_type": "markdown",
   "metadata": {
    "papermill": {
     "duration": 0.014762,
     "end_time": "2020-12-10T00:17:41.424166",
     "exception": false,
     "start_time": "2020-12-10T00:17:41.409404",
     "status": "completed"
    },
    "tags": []
   },
   "source": [
    "\n",
    "*Note:* You can run this from your computer (Jupyter or terminal), or use one of the\n",
    "hosted options:\n",
    "[![binder-logo](https://mybinder.org/badge_logo.svg)](https://mybinder.org/v2/gh/ploomber/binder-env/main?urlpath=git-pull%3Frepo%3Dhttps%253A%252F%252Fgithub.com%252Fploomber%252Fprojects%26urlpath%3Dlab%252Ftree%252Fprojects%252Fspec-api-python%252FREADME.ipynb%26branch%3Dmaster)\n",
    "[![deepnote-logo](https://deepnote.com/buttons/launch-in-deepnote-small.svg)](https://deepnote.com/launch?template=deepnote&url=https://github.com/ploomber/projects/blob/master/spec-api-python/README.ipynb)\n"
   ]
  },
  {
   "cell_type": "markdown",
   "metadata": {
    "papermill": {
     "duration": 0.010333,
     "end_time": "2020-12-10T00:17:41.444911",
     "exception": false,
     "start_time": "2020-12-10T00:17:41.434578",
     "status": "completed"
    },
    "tags": []
   },
   "source": [
    "# Your first Python pipeline\n",
    "\n",
    "This tutorial will guide you to run your first pipeline with Ploomber."
   ]
  },
  {
   "cell_type": "markdown",
   "metadata": {
    "papermill": {
     "duration": 0.010381,
     "end_time": "2020-12-10T00:17:41.465332",
     "exception": false,
     "start_time": "2020-12-10T00:17:41.454951",
     "status": "completed"
    },
    "tags": []
   },
   "source": [
    "## Setup (skip if using deepnote or binder)\n",
    "\n",
    "Get code (run in a terminal):\n",
    "\n",
    "~~~sh\n",
    "git clone https://github.com/ploomber/projects\n",
    "cd projects/spec-api-python\n",
    "~~~\n",
    "\n",
    "Install dependencies:\n",
    "\n",
    "~~~sh\n",
    "conda env create --file environment.yaml\n",
    "conda activate spec-api-python\n",
    "~~~\n",
    "\n",
    "## Description\n",
    "\n",
    "This pipeline contains 3 tasks, the first task `get.py` gets some data,\n",
    "`clean.py` cleans it and `plot.py` generates a visualization:"
   ]
  },
  {
   "cell_type": "code",
   "execution_count": 1,
   "metadata": {
    "execution": {
     "iopub.execute_input": "2020-12-10T00:17:41.491633Z",
     "iopub.status.busy": "2020-12-10T00:17:41.490887Z",
     "iopub.status.idle": "2020-12-10T00:17:41.546677Z",
     "shell.execute_reply": "2020-12-10T00:17:41.547232Z"
    },
    "papermill": {
     "duration": 0.072592,
     "end_time": "2020-12-10T00:17:41.547572",
     "exception": false,
     "start_time": "2020-12-10T00:17:41.474980",
     "status": "completed"
    },
    "tags": [
     "bash"
    ]
   },
   "outputs": [
    {
     "name": "stdout",
     "output_type": "stream",
     "text": [
      "clean.py\n",
      "plot.py\n",
      "raw.py\n"
     ]
    }
   ],
   "source": [
    "%%sh\n",
    "ls *.py"
   ]
  },
  {
   "cell_type": "markdown",
   "metadata": {
    "papermill": {
     "duration": 0.010056,
     "end_time": "2020-12-10T00:17:41.568569",
     "exception": false,
     "start_time": "2020-12-10T00:17:41.558513",
     "status": "completed"
    },
    "tags": []
   },
   "source": [
    "*Note:* Each task in the pipeline is a Python script, but you can also use notebooks as tasks.\n",
    "\n",
    "Along with the `*.py` files, there is a `pipleine.yaml` file where we declare\n",
    "which files we want to use as pipeline tasks:"
   ]
  },
  {
   "cell_type": "code",
   "execution_count": 2,
   "metadata": {
    "execution": {
     "iopub.execute_input": "2020-12-10T00:17:41.593641Z",
     "iopub.status.busy": "2020-12-10T00:17:41.592929Z",
     "iopub.status.idle": "2020-12-10T00:17:41.647576Z",
     "shell.execute_reply": "2020-12-10T00:17:41.648151Z"
    },
    "papermill": {
     "duration": 0.069335,
     "end_time": "2020-12-10T00:17:41.648422",
     "exception": false,
     "start_time": "2020-12-10T00:17:41.579087",
     "status": "completed"
    },
    "tags": [
     "bash"
    ]
   },
   "outputs": [
    {
     "name": "stdout",
     "output_type": "stream",
     "text": [
      "tasks:\n",
      "  - source: raw.py\n",
      "    name: raw\n",
      "\n",
      "  - source: clean.py\n",
      "    name: clean\n",
      "\n",
      "  - source: plot.py\n",
      "    name: plot\n"
     ]
    }
   ],
   "source": [
    "%%sh\n",
    "cat pipeline.yaml"
   ]
  },
  {
   "cell_type": "markdown",
   "metadata": {
    "papermill": {
     "duration": 0.010309,
     "end_time": "2020-12-10T00:17:41.669022",
     "exception": false,
     "start_time": "2020-12-10T00:17:41.658713",
     "status": "completed"
    },
    "tags": []
   },
   "source": [
    "The `pipeline.yaml` file is optional, but it gives you more flexibility.\n",
    "[Click here](https://github.com/ploomber/projects/tree/master/spec-api-directory) to see an example without a `pipeline.yaml` file."
   ]
  },
  {
   "cell_type": "markdown",
   "metadata": {
    "papermill": {
     "duration": 0.010261,
     "end_time": "2020-12-10T00:17:41.690812",
     "exception": false,
     "start_time": "2020-12-10T00:17:41.680551",
     "status": "completed"
    },
    "tags": []
   },
   "source": [
    "That's all we need. Let's plot the pipeline:"
   ]
  },
  {
   "cell_type": "code",
   "execution_count": 3,
   "metadata": {
    "execution": {
     "iopub.execute_input": "2020-12-10T00:17:41.716070Z",
     "iopub.status.busy": "2020-12-10T00:17:41.715214Z",
     "iopub.status.idle": "2020-12-10T00:17:44.568367Z",
     "shell.execute_reply": "2020-12-10T00:17:44.568881Z"
    },
    "papermill": {
     "duration": 2.867925,
     "end_time": "2020-12-10T00:17:44.569089",
     "exception": false,
     "start_time": "2020-12-10T00:17:41.701164",
     "status": "completed"
    },
    "tags": [
     "bash"
    ]
   },
   "outputs": [
    {
     "name": "stdout",
     "output_type": "stream",
     "text": [
      "Plot saved at: pipeline.png\n"
     ]
    },
    {
     "name": "stderr",
     "output_type": "stream",
     "text": [
      "100%|██████████| 3/3 [00:00<00:00, 2865.61it/s]\n"
     ]
    }
   ],
   "source": [
    "%%sh\n",
    "# Note: plotting doesn't work in deepnote\n",
    "ploomber plot"
   ]
  },
  {
   "cell_type": "code",
   "execution_count": 4,
   "metadata": {
    "execution": {
     "iopub.execute_input": "2020-12-10T00:17:44.598624Z",
     "iopub.status.busy": "2020-12-10T00:17:44.597825Z",
     "iopub.status.idle": "2020-12-10T00:17:44.607527Z",
     "shell.execute_reply": "2020-12-10T00:17:44.608004Z"
    },
    "papermill": {
     "duration": 0.026732,
     "end_time": "2020-12-10T00:17:44.608237",
     "exception": false,
     "start_time": "2020-12-10T00:17:44.581505",
     "status": "completed"
    },
    "tags": []
   },
   "outputs": [
    {
     "data": {
      "image/png": "[encoded data removed]",
      "text/plain": [
       "<IPython.core.display.Image object>"
      ]
     },
     "execution_count": 4,
     "metadata": {},
     "output_type": "execute_result"
    }
   ],
   "source": [
    "\n",
    "from IPython.display import Image\n",
    "Image(filename='pipeline.png')"
   ]
  },
  {
   "cell_type": "markdown",
   "metadata": {
    "papermill": {
     "duration": 0.012503,
     "end_time": "2020-12-10T00:17:44.632411",
     "exception": false,
     "start_time": "2020-12-10T00:17:44.619908",
     "status": "completed"
    },
    "tags": []
   },
   "source": [
    "The `status` command gives us an overview of the pipeline:"
   ]
  },
  {
   "cell_type": "code",
   "execution_count": 5,
   "metadata": {
    "execution": {
     "iopub.execute_input": "2020-12-10T00:17:44.659379Z",
     "iopub.status.busy": "2020-12-10T00:17:44.658643Z",
     "iopub.status.idle": "2020-12-10T00:17:47.616918Z",
     "shell.execute_reply": "2020-12-10T00:17:47.617624Z"
    },
    "papermill": {
     "duration": 2.974005,
     "end_time": "2020-12-10T00:17:47.617890",
     "exception": false,
     "start_time": "2020-12-10T00:17:44.643885",
     "status": "completed"
    },
    "tags": [
     "bash"
    ]
   },
   "outputs": [
    {
     "name": "stdout",
     "output_type": "stream",
     "text": [
      "name    Last run      Outdated?      Product          Doc (short)    Location\n",
      "------  ------------  -------------  ---------------  -------------  ----------\n",
      "raw     Has not been  Source code    MetaProduct({'n                 raw.py\n",
      "        run                          b': File('outpu\n",
      "                                     t/data.ipynb'),\n",
      "                                     'data': File('o\n",
      "                                     utput/data.csv'\n",
      "                                     )})\n",
      "clean   Has not been  Source code &  MetaProduct({'n                 clean.py\n",
      "        run           Upstream       b': File('outpu\n",
      "                                     t/clean.ipynb')\n",
      "                                     , 'data': File(\n",
      "                                     'output/clean.c\n",
      "                                     sv')})\n",
      "plot    Has not been  Source code &  MetaProduct({'n                 plot.py\n",
      "        run           Upstream       b': File('outpu\n",
      "                                     t/plot.ipynb')}\n",
      "                                     )\n"
     ]
    },
    {
     "name": "stderr",
     "output_type": "stream",
     "text": [
      "100%|██████████| 3/3 [00:00<00:00, 4293.04it/s]\n"
     ]
    }
   ],
   "source": [
    "%%sh\n",
    "ploomber status"
   ]
  },
  {
   "cell_type": "markdown",
   "metadata": {
    "papermill": {
     "duration": 0.012821,
     "end_time": "2020-12-10T00:17:47.643428",
     "exception": false,
     "start_time": "2020-12-10T00:17:47.630607",
     "status": "completed"
    },
    "tags": []
   },
   "source": [
    "## How is execution order determined?\n",
    "\n",
    "Rather than requiring you to explicitly declare tasks, dependencies, Ploomber\n",
    "exracts them from your code. For example, to clean the data, we must get it\n",
    "first, hence, we declare the following in `clean.py`:\n",
    "\n",
    "~~~python\n",
    "# get data first\n",
    "upstream = ['raw']\n",
    "~~~\n",
    "\n",
    "Second, we must declare where to save the output of each task, we do so through\n",
    "a `product` variable:\n",
    "\n",
    "~~~python\n",
    "product = {'nb': 'output/clean.ipynb', 'data': 'output/clean.csv'}\n",
    "~~~\n",
    "\n",
    "We have two products here, the clean data and a notebook. Scripts and notebook\n",
    "automatically generate an output notebook so you can easily embed charts and\n",
    "tables. This is useful when your analysis requires some visual feedback,\n",
    "instead of writing code to save tables/charts you can leverage the Jupyter\n",
    "notebook format which supports this.\n",
    "\n",
    "## Building the pipeline\n",
    "\n",
    "Let's build the pipeline:"
   ]
  },
  {
   "cell_type": "code",
   "execution_count": 6,
   "metadata": {
    "execution": {
     "iopub.execute_input": "2020-12-10T00:17:47.674025Z",
     "iopub.status.busy": "2020-12-10T00:17:47.673089Z",
     "iopub.status.idle": "2020-12-10T00:17:57.227637Z",
     "shell.execute_reply": "2020-12-10T00:17:57.228266Z"
    },
    "papermill": {
     "duration": 9.572245,
     "end_time": "2020-12-10T00:17:57.228528",
     "exception": false,
     "start_time": "2020-12-10T00:17:47.656283",
     "status": "completed"
    },
    "tags": [
     "bash"
    ]
   },
   "outputs": [
    {
     "name": "stdout",
     "output_type": "stream",
     "text": [
      "name    Ran?      Elapsed (s)    Percentage\n",
      "------  ------  -------------  ------------\n",
      "raw     True          2.34873       34.2835\n",
      "clean   True          1.52665       22.2838\n",
      "plot    True          2.97554       43.4327\n"
     ]
    },
    {
     "name": "stderr",
     "output_type": "stream",
     "text": [
      "100%|██████████| 3/3 [00:00<00:00, 2667.00it/s]\n",
      "Building task \"raw\":   0%|          | 0/3 [00:00<?, ?it/s]\n",
      "Executing:   0%|          | 0/5 [00:00<?, ?cell/s]\u001b[A\n",
      "Executing:  20%|██        | 1/5 [00:01<00:06,  1.61s/cell]\u001b[A\n",
      "Executing: 100%|██████████| 5/5 [00:02<00:00,  2.14cell/s]\n",
      "Building task \"clean\":  33%|███▎      | 1/3 [00:02<00:04,  2.35s/it]\n",
      "Executing:   0%|          | 0/5 [00:00<?, ?cell/s]\u001b[A\n",
      "Executing: 100%|██████████| 5/5 [00:01<00:00,  3.31cell/s]\n",
      "Building task \"plot\":  67%|██████▋   | 2/3 [00:03<00:02,  2.11s/it] \n",
      "Executing:   0%|          | 0/7 [00:00<?, ?cell/s]\u001b[A\n",
      "Executing:  14%|█▍        | 1/7 [00:02<00:12,  2.13s/cell]\u001b[A\n",
      "Executing:  71%|███████▏  | 5/7 [00:02<00:03,  1.51s/cell]\u001b[A\n",
      "Executing: 100%|██████████| 7/7 [00:02<00:00,  2.37cell/s]\n",
      "Building task \"plot\": 100%|██████████| 3/3 [00:06<00:00,  2.29s/it]\n"
     ]
    }
   ],
   "source": [
    "%%sh\n",
    "mkdir output\n",
    "ploomber build"
   ]
  },
  {
   "cell_type": "markdown",
   "metadata": {
    "papermill": {
     "duration": 0.013982,
     "end_time": "2020-12-10T00:17:57.257344",
     "exception": false,
     "start_time": "2020-12-10T00:17:57.243362",
     "status": "completed"
    },
    "tags": []
   },
   "source": [
    "This pipeline saves all the output in the `output/` directory, we have a few\n",
    "data files:"
   ]
  },
  {
   "cell_type": "code",
   "execution_count": 7,
   "metadata": {
    "execution": {
     "iopub.execute_input": "2020-12-10T00:17:57.290904Z",
     "iopub.status.busy": "2020-12-10T00:17:57.289226Z",
     "iopub.status.idle": "2020-12-10T00:17:57.345456Z",
     "shell.execute_reply": "2020-12-10T00:17:57.345970Z"
    },
    "papermill": {
     "duration": 0.074989,
     "end_time": "2020-12-10T00:17:57.346211",
     "exception": false,
     "start_time": "2020-12-10T00:17:57.271222",
     "status": "completed"
    },
    "tags": [
     "bash"
    ]
   },
   "outputs": [
    {
     "name": "stdout",
     "output_type": "stream",
     "text": [
      "output/clean.csv\n",
      "output/data.csv\n"
     ]
    }
   ],
   "source": [
    "%%sh\n",
    "ls output/*.csv"
   ]
  },
  {
   "cell_type": "markdown",
   "metadata": {
    "papermill": {
     "duration": 0.013529,
     "end_time": "2020-12-10T00:17:57.373003",
     "exception": false,
     "start_time": "2020-12-10T00:17:57.359474",
     "status": "completed"
    },
    "tags": []
   },
   "source": [
    "And a notebook for each script:"
   ]
  },
  {
   "cell_type": "code",
   "execution_count": 8,
   "metadata": {
    "execution": {
     "iopub.execute_input": "2020-12-10T00:17:57.404961Z",
     "iopub.status.busy": "2020-12-10T00:17:57.404291Z",
     "iopub.status.idle": "2020-12-10T00:17:57.457910Z",
     "shell.execute_reply": "2020-12-10T00:17:57.458505Z"
    },
    "papermill": {
     "duration": 0.071754,
     "end_time": "2020-12-10T00:17:57.458761",
     "exception": false,
     "start_time": "2020-12-10T00:17:57.387007",
     "status": "completed"
    },
    "tags": [
     "bash"
    ]
   },
   "outputs": [
    {
     "name": "stdout",
     "output_type": "stream",
     "text": [
      "output/clean.ipynb\n",
      "output/data.ipynb\n",
      "output/plot.ipynb\n"
     ]
    }
   ],
   "source": [
    "%%sh\n",
    "ls output/*.ipynb"
   ]
  },
  {
   "cell_type": "markdown",
   "metadata": {
    "papermill": {
     "duration": 0.013581,
     "end_time": "2020-12-10T00:17:57.486023",
     "exception": false,
     "start_time": "2020-12-10T00:17:57.472442",
     "status": "completed"
    },
    "tags": []
   },
   "source": [
    "## Updating the pipeline\n",
    "\n",
    "Quick experimentation is essential to develop a data pipeline. Ploomber allows\n",
    "you to quickly run new experiments without having to keep track of tasks\n",
    "dependencies.\n",
    "\n",
    "Let's say you found a problematic column in the data and want to add more\n",
    "cleaning logic to your `clean.py` script. `raw.py` does not depend\n",
    "on `clean.py` (it's actually the other way around), but `plot.py` does. If\n",
    "you modify `clean.py`, you'd have to execute `clean.py` and then `plot.py`\n",
    "to bring your pipeline up-to-date.\n",
    "\n",
    "As your pipeline grows in number of tasks keeping track of task dependencies\n",
    "get very time-consuming. Automatic dependency tracking guarantees that\n",
    "your tasks are using the up-to-date inputs without having to re-execute all tasks in your pipeline again.\n",
    "\n",
    "Make some changes to the `clean.py` script, then build again:"
   ]
  },
  {
   "cell_type": "code",
   "execution_count": 9,
   "metadata": {
    "execution": {
     "iopub.execute_input": "2020-12-10T00:17:57.522884Z",
     "iopub.status.busy": "2020-12-10T00:17:57.522131Z",
     "iopub.status.idle": "2020-12-10T00:18:00.317325Z",
     "shell.execute_reply": "2020-12-10T00:18:00.317861Z"
    },
    "papermill": {
     "duration": 2.81613,
     "end_time": "2020-12-10T00:18:00.318092",
     "exception": false,
     "start_time": "2020-12-10T00:17:57.501962",
     "status": "completed"
    },
    "tags": [
     "bash"
    ]
   },
   "outputs": [
    {
     "name": "stdout",
     "output_type": "stream",
     "text": [
      "name    Ran?      Elapsed (s)    Percentage\n",
      "------  ------  -------------  ------------\n",
      "raw     False               0             0\n",
      "clean   False               0             0\n",
      "plot    False               0             0\n"
     ]
    },
    {
     "name": "stderr",
     "output_type": "stream",
     "text": [
      "100%|██████████| 3/3 [00:00<00:00, 3218.14it/s]\n",
      "0it [00:00, ?it/s]\n"
     ]
    }
   ],
   "source": [
    "%%sh\n",
    "ploomber build"
   ]
  },
  {
   "cell_type": "markdown",
   "metadata": {
    "papermill": {
     "duration": 0.014694,
     "end_time": "2020-12-10T00:18:00.347769",
     "exception": false,
     "start_time": "2020-12-10T00:18:00.333075",
     "status": "completed"
    },
    "tags": []
   },
   "source": [
    "You'll see that `raw.py` didn't run because it was not affected by the change!"
   ]
  },
  {
   "cell_type": "markdown",
   "metadata": {
    "papermill": {
     "duration": 0.01568,
     "end_time": "2020-12-10T00:18:00.378570",
     "exception": false,
     "start_time": "2020-12-10T00:18:00.362890",
     "status": "completed"
    },
    "tags": []
   },
   "source": [
    "## Where to go from here\n",
    "\n",
    "* This tutorial showed how to build a pipeline with Ploomber, [the next\n",
    "tutorial](https://ploomber.readthedocs.io/en/stable/get-started/basic-concepts.html) goes deeper in terms of concepts and the Ploomber's design rationale.\n",
    "* For a more complete example, take a look at the [ml-basic/](https://github.com/ploomber/projects/tree/master/ml-basic/README.ipynb) example, which builds a Machine Learning pipeline where some of the tasks are Python functions (instead of scripts).\n",
    "* The [spec-api-sql/](https://github.com/ploomber/projects/tree/master/spec-api-sql/README.ipynb) example shows a pipeline where data manipulation starts in a SQL\n",
    "database, then data is downloaded and visualized using Python.\n",
    "* Using a `pipeline.yaml` file is a convenient way to write your workflows and is\n",
    "often enough for a lot of projects. However, if you need more flexibility, you\n",
    "can use the Python API directly, see the [python-api/](https://github.com/ploomber/projects/tree/master/python-api/README.ipynb) example.\n",
    "*  If you use R, take a look a the [spec-api-r/](https://github.com/ploomber/projects/tree/master/spec-api-r/README.ipynb) example, which contains a similar\n",
    "pipeline to this but using R."
   ]
  },
  {
   "cell_type": "code",
   "execution_count": null,
   "metadata": {
    "papermill": {
     "duration": 0.014109,
     "end_time": "2020-12-10T00:18:00.407171",
     "exception": false,
     "start_time": "2020-12-10T00:18:00.393062",
     "status": "completed"
    },
    "tags": [
     "parameters"
    ]
   },
   "outputs": [],
   "source": []
  },
  {
   "cell_type": "code",
   "execution_count": 10,
   "metadata": {
    "execution": {
     "iopub.execute_input": "2020-12-10T00:18:00.439551Z",
     "iopub.status.busy": "2020-12-10T00:18:00.438750Z",
     "iopub.status.idle": "2020-12-10T00:18:00.440706Z",
     "shell.execute_reply": "2020-12-10T00:18:00.441460Z"
    },
    "papermill": {
     "duration": 0.020226,
     "end_time": "2020-12-10T00:18:00.441710",
     "exception": false,
     "start_time": "2020-12-10T00:18:00.421484",
     "status": "completed"
    },
    "tags": [
     "injected-parameters"
    ]
   },
   "outputs": [],
   "source": [
    "# Parameters\n",
    "product = \"../../projects-ploomber/spec-api-python/README.ipynb\"\n"
   ]
  }
 ],
 "metadata": {
  "jupytext": {
   "cell_metadata_filter": "tags,-all",
   "main_language": "bash",
   "notebook_metadata_filter": "-all",
   "text_representation": {
    "extension": ".md",
    "format_name": "markdown"
   }
  },
  "kernelspec": {
   "display_name": "Python 3",
   "language": "python",
   "name": "python3"
  },
  "language_info": {
   "codemirror_mode": {
    "name": "ipython",
    "version": 3
   },
   "file_extension": ".py",
   "mimetype": "text/x-python",
   "name": "python",
   "nbconvert_exporter": "python",
   "pygments_lexer": "ipython3",
   "version": "3.8.6"
  },
  "papermill": {
   "default_parameters": {},
   "duration": 21.160227,
   "end_time": "2020-12-10T00:18:01.611381",
   "environment_variables": {},
   "exception": null,
   "input_path": "/var/folders/3h/_lvh_w_x5g30rrjzb_xnn2j80000gq/T/tmp629zccww.ipynb",
   "output_path": "../../projects-ploomber/spec-api-python/README.ipynb",
   "parameters": {
    "product": "../../projects-ploomber/spec-api-python/README.ipynb"
   },
   "start_time": "2020-12-10T00:17:40.451154",
   "version": "2.2.2"
  }
 },
 "nbformat": 4,
 "nbformat_minor": 4
}
