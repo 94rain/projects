{
 "cells": [
  {
   "cell_type": "markdown",
   "metadata": {
    "papermill": {
     "duration": 0.010442,
     "end_time": "2020-11-26T17:51:57.644344",
     "exception": false,
     "start_time": "2020-11-26T17:51:57.633902",
     "status": "completed"
    },
    "tags": []
   },
   "source": [
    "\n",
    "*Note:* You can run this from your computer (Jupyter or terminal), or use one of the\n",
    "hosted options:\n",
    "[![binder-logo](https://mybinder.org/badge_logo.svg)](https://mybinder.org/v2/gh/ploomber/binder-env/main?urlpath=git-pull%3Frepo%3Dhttps%253A%252F%252Fgithub.com%252Fploomber%252Fprojects%26urlpath%3Dlab%252Ftree%252Fprojects%252Fspec-api-python%252FREADME.ipynb%26branch%3Dmaster)\n",
    "[![deepnote-logo](https://deepnote.com/buttons/launch-in-deepnote-small.svg)](https://deepnote.com/launch?template=deepnote&url=https://github.com/ploomber/projects/blob/master/spec-api-python/README.ipynb)\n"
   ]
  },
  {
   "cell_type": "markdown",
   "metadata": {
    "papermill": {
     "duration": 0.009331,
     "end_time": "2020-11-26T17:51:57.662910",
     "exception": false,
     "start_time": "2020-11-26T17:51:57.653579",
     "status": "completed"
    },
    "tags": []
   },
   "source": [
    "# Your first Python pipeline\n",
    "\n",
    "This tutorial will guide you to run your first pipeline with Ploomber."
   ]
  },
  {
   "cell_type": "markdown",
   "metadata": {
    "papermill": {
     "duration": 0.011116,
     "end_time": "2020-11-26T17:51:57.682696",
     "exception": false,
     "start_time": "2020-11-26T17:51:57.671580",
     "status": "completed"
    },
    "tags": []
   },
   "source": [
    "## Setup (skip if using deepnote or binder)\n",
    "\n",
    "Get code (run in a terminal):\n",
    "\n",
    "~~~sh\n",
    "git clone https://github.com/ploomber/projects\n",
    "cd projects/spec-api-python\n",
    "~~~\n",
    "\n",
    "Install dependencies:\n",
    "\n",
    "~~~sh\n",
    "conda env create --file environment.yaml\n",
    "conda activate spec-api-python\n",
    "~~~\n",
    "\n",
    "## Description\n",
    "\n",
    "This pipeline contains 3 tasks, the first task `get.py` gets some data,\n",
    "`clean.py` cleans it and `plot.py` generates a visualization:"
   ]
  },
  {
   "cell_type": "code",
   "execution_count": 1,
   "metadata": {
    "execution": {
     "iopub.execute_input": "2020-11-26T17:51:57.709073Z",
     "iopub.status.busy": "2020-11-26T17:51:57.708263Z",
     "iopub.status.idle": "2020-11-26T17:51:57.763960Z",
     "shell.execute_reply": "2020-11-26T17:51:57.764488Z"
    },
    "papermill": {
     "duration": 0.072203,
     "end_time": "2020-11-26T17:51:57.764781",
     "exception": false,
     "start_time": "2020-11-26T17:51:57.692578",
     "status": "completed"
    },
    "tags": [
     "bash"
    ]
   },
   "outputs": [
    {
     "name": "stdout",
     "output_type": "stream",
     "text": [
      "clean.py\n",
      "plot.py\n",
      "raw.py\n"
     ]
    }
   ],
   "source": [
    "%%sh\n",
    "ls *.py"
   ]
  },
  {
   "cell_type": "markdown",
   "metadata": {
    "papermill": {
     "duration": 0.00892,
     "end_time": "2020-11-26T17:51:57.783407",
     "exception": false,
     "start_time": "2020-11-26T17:51:57.774487",
     "status": "completed"
    },
    "tags": []
   },
   "source": [
    "*Note:* Each task in the pipeline is a Python script, but you can also use notebooks as tasks.\n",
    "\n",
    "Along with the `*.py` files, there is a `pipleine.yaml` file where we declare\n",
    "which files we want to use as pipeline tasks:"
   ]
  },
  {
   "cell_type": "code",
   "execution_count": 2,
   "metadata": {
    "execution": {
     "iopub.execute_input": "2020-11-26T17:51:57.809915Z",
     "iopub.status.busy": "2020-11-26T17:51:57.809067Z",
     "iopub.status.idle": "2020-11-26T17:51:57.864273Z",
     "shell.execute_reply": "2020-11-26T17:51:57.864746Z"
    },
    "papermill": {
     "duration": 0.07185,
     "end_time": "2020-11-26T17:51:57.864964",
     "exception": false,
     "start_time": "2020-11-26T17:51:57.793114",
     "status": "completed"
    },
    "tags": [
     "bash"
    ]
   },
   "outputs": [
    {
     "name": "stdout",
     "output_type": "stream",
     "text": [
      "tasks:\n",
      "  - source: raw.py\n",
      "    name: raw\n",
      "\n",
      "  - source: clean.py\n",
      "    name: clean\n",
      "\n",
      "  - source: plot.py\n",
      "    name: plot\n"
     ]
    }
   ],
   "source": [
    "%%sh\n",
    "cat pipeline.yaml"
   ]
  },
  {
   "cell_type": "markdown",
   "metadata": {
    "papermill": {
     "duration": 0.010308,
     "end_time": "2020-11-26T17:51:57.886738",
     "exception": false,
     "start_time": "2020-11-26T17:51:57.876430",
     "status": "completed"
    },
    "tags": []
   },
   "source": [
    "The `pipeline.yaml` file is optional, but it gives you more flexibility.\n",
    "[Click here](https://github.com/ploomber/projects/tree/master/spec-api-directory) to see an example without a `pipeline.yaml` file."
   ]
  },
  {
   "cell_type": "markdown",
   "metadata": {
    "papermill": {
     "duration": 0.01908,
     "end_time": "2020-11-26T17:51:57.922393",
     "exception": false,
     "start_time": "2020-11-26T17:51:57.903313",
     "status": "completed"
    },
    "tags": []
   },
   "source": [
    "That's all we need. Let's plot the pipeline:"
   ]
  },
  {
   "cell_type": "code",
   "execution_count": 3,
   "metadata": {
    "execution": {
     "iopub.execute_input": "2020-11-26T17:51:57.964870Z",
     "iopub.status.busy": "2020-11-26T17:51:57.963797Z",
     "iopub.status.idle": "2020-11-26T17:52:00.948795Z",
     "shell.execute_reply": "2020-11-26T17:52:00.949367Z"
    },
    "papermill": {
     "duration": 3.010627,
     "end_time": "2020-11-26T17:52:00.949609",
     "exception": false,
     "start_time": "2020-11-26T17:51:57.938982",
     "status": "completed"
    },
    "tags": [
     "bash"
    ]
   },
   "outputs": [
    {
     "name": "stdout",
     "output_type": "stream",
     "text": [
      "Plot saved at: pipeline.png\n"
     ]
    },
    {
     "name": "stderr",
     "output_type": "stream",
     "text": [
      "100%|██████████| 3/3 [00:00<00:00, 4125.54it/s]\n"
     ]
    }
   ],
   "source": [
    "%%sh\n",
    "# Note: plotting doesn't work in deepnote\n",
    "ploomber plot"
   ]
  },
  {
   "cell_type": "code",
   "execution_count": 4,
   "metadata": {
    "execution": {
     "iopub.execute_input": "2020-11-26T17:52:00.974450Z",
     "iopub.status.busy": "2020-11-26T17:52:00.973810Z",
     "iopub.status.idle": "2020-11-26T17:52:00.984650Z",
     "shell.execute_reply": "2020-11-26T17:52:00.985201Z"
    },
    "papermill": {
     "duration": 0.025516,
     "end_time": "2020-11-26T17:52:00.985467",
     "exception": false,
     "start_time": "2020-11-26T17:52:00.959951",
     "status": "completed"
    },
    "tags": []
   },
   "outputs": [
    {
     "data": {
      "image/png": "[encoded data removed]",
      "text/plain": [
       "<IPython.core.display.Image object>"
      ]
     },
     "execution_count": 4,
     "metadata": {},
     "output_type": "execute_result"
    }
   ],
   "source": [
    "\n",
    "from IPython.display import Image\n",
    "Image(filename='pipeline.png')"
   ]
  },
  {
   "cell_type": "markdown",
   "metadata": {
    "papermill": {
     "duration": 0.010947,
     "end_time": "2020-11-26T17:52:01.007404",
     "exception": false,
     "start_time": "2020-11-26T17:52:00.996457",
     "status": "completed"
    },
    "tags": []
   },
   "source": [
    "With can also get a pipeline summary with the `status` command:"
   ]
  },
  {
   "cell_type": "code",
   "execution_count": 5,
   "metadata": {
    "execution": {
     "iopub.execute_input": "2020-11-26T17:52:01.033920Z",
     "iopub.status.busy": "2020-11-26T17:52:01.033139Z",
     "iopub.status.idle": "2020-11-26T17:52:03.568487Z",
     "shell.execute_reply": "2020-11-26T17:52:03.568909Z"
    },
    "papermill": {
     "duration": 2.550383,
     "end_time": "2020-11-26T17:52:03.569100",
     "exception": false,
     "start_time": "2020-11-26T17:52:01.018717",
     "status": "completed"
    },
    "tags": [
     "bash"
    ]
   },
   "outputs": [
    {
     "name": "stdout",
     "output_type": "stream",
     "text": [
      "name    Last run      Outdated?      Product          Doc (short)    Location\n",
      "------  ------------  -------------  ---------------  -------------  ----------\n",
      "raw     Has not been  Source code    {'nb': File(/Us                 raw.py\n",
      "        run                          ers/Edu/dev/pro\n",
      "                                     jects-\n",
      "                                     ploomber/spec-\n",
      "                                     api-python/outp\n",
      "                                     ut/data.ipynb),\n",
      "                                     'data': File(/U\n",
      "                                     sers/Edu/dev/pr\n",
      "                                     ojects-\n",
      "                                     ploomber/spec-\n",
      "                                     api-python/outp\n",
      "                                     ut/data.csv)}\n",
      "clean   Has not been  Source code &  {'nb': File(/Us                 clean.py\n",
      "        run           Upstream       ers/Edu/dev/pro\n",
      "                                     jects-\n",
      "                                     ploomber/spec-\n",
      "                                     api-python/outp\n",
      "                                     ut/clean.ipynb)\n",
      "                                     , 'data': File(\n",
      "                                     /Users/Edu/dev/\n",
      "                                     projects-\n",
      "                                     ploomber/spec-\n",
      "                                     api-python/outp\n",
      "                                     ut/clean.csv)}\n",
      "plot    Has not been  Source code &  {'nb': File(/Us                 plot.py\n",
      "        run           Upstream       ers/Edu/dev/pro\n",
      "                                     jects-\n",
      "                                     ploomber/spec-\n",
      "                                     api-python/outp\n",
      "                                     ut/plot.ipynb)}\n"
     ]
    },
    {
     "name": "stderr",
     "output_type": "stream",
     "text": [
      "100%|██████████| 3/3 [00:00<00:00, 4225.29it/s]\n"
     ]
    }
   ],
   "source": [
    "%%sh\n",
    "ploomber status"
   ]
  },
  {
   "cell_type": "markdown",
   "metadata": {
    "papermill": {
     "duration": 0.013592,
     "end_time": "2020-11-26T17:52:03.594027",
     "exception": false,
     "start_time": "2020-11-26T17:52:03.580435",
     "status": "completed"
    },
    "tags": []
   },
   "source": [
    "## How is execution order determined?\n",
    "\n",
    "Rather than requiring you to explicitly declare tasks, dependencies, Ploomber\n",
    "exracts them from your code. For example, to clean the data, we must get it\n",
    "first, hence, we declare the following in `clean.py`:\n",
    "\n",
    "~~~python\n",
    "# get data first\n",
    "upstream = ['raw']\n",
    "~~~\n",
    "\n",
    "Second, we must declare where to save the output of each task, we do so through\n",
    "a `product` variable:\n",
    "\n",
    "~~~python\n",
    "product = {'nb': 'output/clean.ipynb', 'data': 'output/clean.csv'}\n",
    "~~~\n",
    "\n",
    "We have two products here, the clean data and a notebook. Scripts and notebook\n",
    "automatically generate an output notebook so you can easily embed charts and\n",
    "tables. This is useful when your analysis requires some visual feedback,\n",
    "instead of writing code to save tables/charts you can leverage the Jupyter\n",
    "notebook format which supports this.\n",
    "\n",
    "## Building the pipeline\n",
    "\n",
    "Let's build the pipeline:"
   ]
  },
  {
   "cell_type": "code",
   "execution_count": 6,
   "metadata": {
    "execution": {
     "iopub.execute_input": "2020-11-26T17:52:03.625945Z",
     "iopub.status.busy": "2020-11-26T17:52:03.625235Z",
     "iopub.status.idle": "2020-11-26T17:52:12.785827Z",
     "shell.execute_reply": "2020-11-26T17:52:12.786492Z"
    },
    "papermill": {
     "duration": 9.180964,
     "end_time": "2020-11-26T17:52:12.786736",
     "exception": false,
     "start_time": "2020-11-26T17:52:03.605772",
     "status": "completed"
    },
    "tags": [
     "bash"
    ]
   },
   "outputs": [
    {
     "name": "stdout",
     "output_type": "stream",
     "text": [
      "name    Ran?      Elapsed (s)    Percentage\n",
      "------  ------  -------------  ------------\n",
      "raw     True          2.31333       34.9486\n",
      "clean   True          1.5494        23.4077\n",
      "plot    True          2.75649       41.6437\n"
     ]
    },
    {
     "name": "stderr",
     "output_type": "stream",
     "text": [
      "100%|██████████| 3/3 [00:00<00:00, 5125.42it/s]\n",
      "Building task \"raw\":   0%|          | 0/3 [00:00<?, ?it/s]\n",
      "Executing:   0%|          | 0/5 [00:00<?, ?cell/s]\u001b[A\n",
      "Executing:  20%|██        | 1/5 [00:01<00:05,  1.48s/cell]\u001b[A\n",
      "Executing: 100%|██████████| 5/5 [00:02<00:00,  2.18cell/s]\n",
      "Building task \"clean\":  33%|███▎      | 1/3 [00:02<00:04,  2.32s/it]\n",
      "Executing:   0%|          | 0/5 [00:00<?, ?cell/s]\u001b[A\n",
      "Executing: 100%|██████████| 5/5 [00:01<00:00,  3.26cell/s]\n",
      "Building task \"plot\":  67%|██████▋   | 2/3 [00:03<00:02,  2.09s/it] \n",
      "Executing:   0%|          | 0/7 [00:00<?, ?cell/s]\u001b[A\n",
      "Executing:  14%|█▍        | 1/7 [00:01<00:11,  1.92s/cell]\u001b[A\n",
      "Executing:  71%|███████▏  | 5/7 [00:02<00:02,  1.37s/cell]\u001b[A\n",
      "Executing: 100%|██████████| 7/7 [00:02<00:00,  2.56cell/s]\n",
      "Building task \"plot\": 100%|██████████| 3/3 [00:06<00:00,  2.21s/it]\n"
     ]
    }
   ],
   "source": [
    "%%sh\n",
    "mkdir output\n",
    "ploomber build"
   ]
  },
  {
   "cell_type": "markdown",
   "metadata": {
    "papermill": {
     "duration": 0.012192,
     "end_time": "2020-11-26T17:52:12.810800",
     "exception": false,
     "start_time": "2020-11-26T17:52:12.798608",
     "status": "completed"
    },
    "tags": []
   },
   "source": [
    "This pipeline saves all the output in the `output/` directory, we have a few\n",
    "data files:"
   ]
  },
  {
   "cell_type": "code",
   "execution_count": 7,
   "metadata": {
    "execution": {
     "iopub.execute_input": "2020-11-26T17:52:12.841557Z",
     "iopub.status.busy": "2020-11-26T17:52:12.840693Z",
     "iopub.status.idle": "2020-11-26T17:52:12.893213Z",
     "shell.execute_reply": "2020-11-26T17:52:12.893875Z"
    },
    "papermill": {
     "duration": 0.071317,
     "end_time": "2020-11-26T17:52:12.894114",
     "exception": false,
     "start_time": "2020-11-26T17:52:12.822797",
     "status": "completed"
    },
    "tags": [
     "bash"
    ]
   },
   "outputs": [
    {
     "name": "stdout",
     "output_type": "stream",
     "text": [
      "output/clean.csv\n",
      "output/data.csv\n"
     ]
    }
   ],
   "source": [
    "%%sh\n",
    "ls output/*.csv"
   ]
  },
  {
   "cell_type": "markdown",
   "metadata": {
    "papermill": {
     "duration": 0.011697,
     "end_time": "2020-11-26T17:52:12.917955",
     "exception": false,
     "start_time": "2020-11-26T17:52:12.906258",
     "status": "completed"
    },
    "tags": []
   },
   "source": [
    "And a notebook for each script:"
   ]
  },
  {
   "cell_type": "code",
   "execution_count": 8,
   "metadata": {
    "execution": {
     "iopub.execute_input": "2020-11-26T17:52:12.948073Z",
     "iopub.status.busy": "2020-11-26T17:52:12.946122Z",
     "iopub.status.idle": "2020-11-26T17:52:13.000049Z",
     "shell.execute_reply": "2020-11-26T17:52:13.000534Z"
    },
    "papermill": {
     "duration": 0.070781,
     "end_time": "2020-11-26T17:52:13.000767",
     "exception": false,
     "start_time": "2020-11-26T17:52:12.929986",
     "status": "completed"
    },
    "tags": [
     "bash"
    ]
   },
   "outputs": [
    {
     "name": "stdout",
     "output_type": "stream",
     "text": [
      "output/clean.ipynb\n",
      "output/data.ipynb\n",
      "output/plot.ipynb\n"
     ]
    }
   ],
   "source": [
    "%%sh\n",
    "ls output/*.ipynb"
   ]
  },
  {
   "cell_type": "markdown",
   "metadata": {
    "papermill": {
     "duration": 0.013648,
     "end_time": "2020-11-26T17:52:13.027381",
     "exception": false,
     "start_time": "2020-11-26T17:52:13.013733",
     "status": "completed"
    },
    "tags": []
   },
   "source": [
    "## Updating the pipeline\n",
    "\n",
    "Quick experimentation is essential to develop a data pipeline. Ploomber allows\n",
    "you to quickly run new experiments without having to keep track of tasks\n",
    "dependencies.\n",
    "\n",
    "Let's say you found a problematic column in the data and want to add more\n",
    "cleaning logic to your `clean.py` script. `raw.py` does not depend\n",
    "on `clean.py` (it's actually the other way around), but `plot.py` does. If\n",
    "you modify `clean.py`, you'd have to execute `clean.py` and then `plot.py`\n",
    "to bring your pipeline up-to-date.\n",
    "\n",
    "As your pipeline grows in number of tasks keeping track of task dependencies\n",
    "get very time-consuming. Automatic dependency tracking guarantees that\n",
    "your tasks are using the up-to-date inputs without having to re-execute all tasks in your pipeline again.\n",
    "\n",
    "Make some changes to the `clean.py` script, then build again:"
   ]
  },
  {
   "cell_type": "code",
   "execution_count": 9,
   "metadata": {
    "execution": {
     "iopub.execute_input": "2020-11-26T17:52:13.059464Z",
     "iopub.status.busy": "2020-11-26T17:52:13.058645Z",
     "iopub.status.idle": "2020-11-26T17:52:15.540787Z",
     "shell.execute_reply": "2020-11-26T17:52:15.541242Z"
    },
    "papermill": {
     "duration": 2.500979,
     "end_time": "2020-11-26T17:52:15.541460",
     "exception": false,
     "start_time": "2020-11-26T17:52:13.040481",
     "status": "completed"
    },
    "tags": [
     "bash"
    ]
   },
   "outputs": [
    {
     "name": "stdout",
     "output_type": "stream",
     "text": [
      "name    Ran?      Elapsed (s)    Percentage\n",
      "------  ------  -------------  ------------\n",
      "raw     False               0             0\n",
      "clean   False               0             0\n",
      "plot    False               0             0\n"
     ]
    },
    {
     "name": "stderr",
     "output_type": "stream",
     "text": [
      "100%|██████████| 3/3 [00:00<00:00, 2730.07it/s]\n",
      "0it [00:00, ?it/s]\n"
     ]
    }
   ],
   "source": [
    "%%sh\n",
    "ploomber build"
   ]
  },
  {
   "cell_type": "markdown",
   "metadata": {
    "papermill": {
     "duration": 0.013026,
     "end_time": "2020-11-26T17:52:15.567275",
     "exception": false,
     "start_time": "2020-11-26T17:52:15.554249",
     "status": "completed"
    },
    "tags": []
   },
   "source": [
    "You'll see that `raw.py` didn't run because it was not affected by the change!"
   ]
  },
  {
   "cell_type": "markdown",
   "metadata": {
    "papermill": {
     "duration": 0.013229,
     "end_time": "2020-11-26T17:52:15.593610",
     "exception": false,
     "start_time": "2020-11-26T17:52:15.580381",
     "status": "completed"
    },
    "tags": []
   },
   "source": [
    "## Where to go from here\n",
    "\n",
    "* This tutorial showed how to build a pipeline with Ploomber, [the next\n",
    "tutorial](https://ploomber.readthedocs.io/en/stable/get-started/basic-concepts.html) goes deeper in terms of concepts and the Ploomber's design rationale.\n",
    "* For a more complete example, take a look at the [ml-basic/](https://github.com/ploomber/projects/tree/master/ml-basic) example, which builds a Machine Learning pipeline where some of the tasks are Python functions (instead of scripts).\n",
    "* The [spec-api-sql/](https://github.com/ploomber/projects/tree/master/spec-api-sql) example shows a pipeline where data manipulation starts in a SQL\n",
    "database, then data is downloaded and visualized using Python.\n",
    "* Using a `pipeline.yaml` file is a convenient way to write your workflows and is\n",
    "often enough for a lot of projects. However, if you need more flexibility, you\n",
    "can use the Python API directly, see the [python-api/](https://github.com/ploomber/projects/tree/master/python-api) example.\n",
    "*  If you use R, take a look a the [spec-api-r/](https://github.com/ploomber/projects/tree/master/spec-api-r) example, which contains a similar\n",
    "pipeline to this but using R."
   ]
  },
  {
   "cell_type": "code",
   "execution_count": null,
   "metadata": {
    "papermill": {
     "duration": 0.012315,
     "end_time": "2020-11-26T17:52:15.618869",
     "exception": false,
     "start_time": "2020-11-26T17:52:15.606554",
     "status": "completed"
    },
    "tags": [
     "parameters"
    ]
   },
   "outputs": [],
   "source": []
  },
  {
   "cell_type": "code",
   "execution_count": 10,
   "metadata": {
    "execution": {
     "iopub.execute_input": "2020-11-26T17:52:15.649038Z",
     "iopub.status.busy": "2020-11-26T17:52:15.648308Z",
     "iopub.status.idle": "2020-11-26T17:52:15.650595Z",
     "shell.execute_reply": "2020-11-26T17:52:15.651013Z"
    },
    "papermill": {
     "duration": 0.019776,
     "end_time": "2020-11-26T17:52:15.651239",
     "exception": false,
     "start_time": "2020-11-26T17:52:15.631463",
     "status": "completed"
    },
    "tags": [
     "injected-parameters"
    ]
   },
   "outputs": [],
   "source": [
    "# Parameters\n",
    "product = \"spec-api-python/README.ipynb\"\n"
   ]
  }
 ],
 "metadata": {
  "jupytext": {
   "cell_metadata_filter": "tags,-all",
   "main_language": "bash",
   "notebook_metadata_filter": "-all",
   "text_representation": {
    "extension": ".md",
    "format_name": "markdown"
   }
  },
  "kernelspec": {
   "display_name": "Python 3",
   "language": "python",
   "name": "python3"
  },
  "language_info": {
   "codemirror_mode": {
    "name": "ipython",
    "version": 3
   },
   "file_extension": ".py",
   "mimetype": "text/x-python",
   "name": "python",
   "nbconvert_exporter": "python",
   "pygments_lexer": "ipython3",
   "version": "3.8.6"
  },
  "papermill": {
   "default_parameters": {},
   "duration": 19.059804,
   "end_time": "2020-11-26T17:52:15.878602",
   "environment_variables": {},
   "exception": null,
   "input_path": "/var/folders/3h/_lvh_w_x5g30rrjzb_xnn2j80000gq/T/tmpqci78v5t.ipynb",
   "output_path": "spec-api-python/README.ipynb",
   "parameters": {
    "product": "spec-api-python/README.ipynb"
   },
   "start_time": "2020-11-26T17:51:56.818798",
   "version": "2.2.2"
  }
 },
 "nbformat": 4,
 "nbformat_minor": 4
}
