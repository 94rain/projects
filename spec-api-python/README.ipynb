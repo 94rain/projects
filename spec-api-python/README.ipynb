{
 "cells": [
  {
   "cell_type": "markdown",
   "id": "1c66f20b",
   "metadata": {
    "papermill": {
     "duration": 0.014632,
     "end_time": "2021-09-19T22:21:18.976853",
     "exception": false,
     "start_time": "2021-09-19T22:21:18.962221",
     "status": "completed"
    },
    "tags": []
   },
   "source": [
    "\n",
    "*Note:* You can run this from your computer (Jupyter or terminal), or using Binder (does not require any installation, takes a few minutes to be ready)\n",
    "\n",
    "[![binder-logo](https://mybinder.org/badge_logo.svg)](https://mybinder.org/v2/gh/ploomber/binder-env/main?urlpath=git-pull%3Frepo%3Dhttps%253A%252F%252Fgithub.com%252Fploomber%252Fprojects%26urlpath%3Dlab%252Ftree%252Fprojects%252Fspec-api-python%252FREADME.ipynb%26branch%3Dmaster)\n"
   ]
  },
  {
   "cell_type": "markdown",
   "id": "48bd93e3",
   "metadata": {
    "papermill": {
     "duration": 0.013725,
     "end_time": "2021-09-19T22:21:19.003327",
     "exception": false,
     "start_time": "2021-09-19T22:21:18.989602",
     "status": "completed"
    },
    "tags": []
   },
   "source": [
    "# Your first Python pipeline\n",
    "\n",
    "This guide shows you how to run your first Ploomber pipeline.\n",
    "\n",
    "**Note:** This is intended for a quick and interactive experience. If you want\n",
    "to learn about Ploomber's core concepts and design rationale, go to the\n",
    "[the next tutorial](https://ploomber.readthedocs.io/en/stable/get-started/basic-concepts.html)\n",
    "\n",
    "## Setup (skip if using Binder)\n",
    "\n",
    "Get code (run in a terminal):\n",
    "\n",
    "~~~sh\n",
    "git clone https://github.com/ploomber/projects\n",
    "cd projects/spec-api-python\n",
    "~~~\n",
    "\n",
    "Install dependencies:\n",
    "\n",
    "~~~sh\n",
    "# if using conda\n",
    "conda env create --file environment.yaml\n",
    "conda activate spec-api-python\n",
    "\n",
    "# otherwise use pip directly\n",
    "pip install -r requirements.txt\n",
    "~~~\n",
    "\n",
    "## Description\n",
    "\n",
    "This pipeline contains 3 **tasks**, the first task `get.py` gets some data,\n",
    "`clean.py` cleans it and `plot.py` generates a visualization:"
   ]
  },
  {
   "cell_type": "code",
   "execution_count": 1,
   "id": "0c908fca",
   "metadata": {
    "execution": {
     "iopub.execute_input": "2021-09-19T22:21:19.043436Z",
     "iopub.status.busy": "2021-09-19T22:21:19.041290Z",
     "iopub.status.idle": "2021-09-19T22:21:19.102213Z",
     "shell.execute_reply": "2021-09-19T22:21:19.102959Z"
    },
    "papermill": {
     "duration": 0.083442,
     "end_time": "2021-09-19T22:21:19.103267",
     "exception": false,
     "start_time": "2021-09-19T22:21:19.019825",
     "status": "completed"
    },
    "tags": [
     "bash"
    ]
   },
   "outputs": [
    {
     "name": "stdout",
     "output_type": "stream",
     "text": [
      "clean.py\n",
      "plot.py\n",
      "raw.py\n"
     ]
    }
   ],
   "source": [
    "%%sh\n",
    "ls *.py"
   ]
  },
  {
   "cell_type": "markdown",
   "id": "45c11894",
   "metadata": {
    "papermill": {
     "duration": 0.013711,
     "end_time": "2021-09-19T22:21:19.130669",
     "exception": false,
     "start_time": "2021-09-19T22:21:19.116958",
     "status": "completed"
    },
    "tags": []
   },
   "source": [
    "These three scripts make up our pipeline (or **DAG**), which is a collection\n",
    "of tasks with a pre-defined execution order.\n",
    "\n",
    "**Note:** These tasks are Python scripts, but you can use functions, notebooks,\n",
    "and even SQL scripts. The next guide explains how other types of tasks work.\n",
    "\n",
    "Ploomber integrates with Jupyter. If you open the scripts inside the\n",
    "`jupyter notebook` app, they will render as notebooks. If you're using `jupyter lab`, you need to right click -> open with -> Notebook as depicted below:\n",
    "\n",
    "![lab-open-with-nb](https://ploomber.io/doc/lab-open-with-notebook.png)\n",
    "\n",
    "Along with the `*.py` files, there is a `pipeline.yaml` file where we declare\n",
    "which files we use as tasks:"
   ]
  },
  {
   "cell_type": "code",
   "execution_count": 2,
   "id": "331d4b5a",
   "metadata": {
    "execution": {
     "iopub.execute_input": "2021-09-19T22:21:19.161644Z",
     "iopub.status.busy": "2021-09-19T22:21:19.160931Z",
     "iopub.status.idle": "2021-09-19T22:21:19.219374Z",
     "shell.execute_reply": "2021-09-19T22:21:19.219888Z"
    },
    "papermill": {
     "duration": 0.07679,
     "end_time": "2021-09-19T22:21:19.220138",
     "exception": false,
     "start_time": "2021-09-19T22:21:19.143348",
     "status": "completed"
    },
    "tags": [
     "bash"
    ]
   },
   "outputs": [
    {
     "name": "stdout",
     "output_type": "stream",
     "text": [
      "tasks:\n",
      "  - source: raw.py\n",
      "    product:\n",
      "      nb: output/raw.ipynb\n",
      "      data: output/data.csv\n",
      "\n",
      "  - source: clean.py\n",
      "    product:\n",
      "      nb: output/clean.ipynb\n",
      "      data: output/clean.csv\n",
      "\n",
      "  - source: plot.py\n",
      "    product: output/plot.ipynb\n"
     ]
    }
   ],
   "source": [
    "%%sh\n",
    "cat pipeline.yaml"
   ]
  },
  {
   "cell_type": "markdown",
   "id": "2c5ba26e",
   "metadata": {
    "papermill": {
     "duration": 0.012594,
     "end_time": "2021-09-19T22:21:19.245164",
     "exception": false,
     "start_time": "2021-09-19T22:21:19.232570",
     "status": "completed"
    },
    "tags": []
   },
   "source": [
    "**Note:** The `pipeline.yaml` file is optional, but it gives you more flexibility.\n",
    "[Click here](https://github.com/ploomber/projects/tree/master/spec-api-directory) to see an example without a `pipeline.yaml` file."
   ]
  },
  {
   "cell_type": "markdown",
   "id": "59931cdc",
   "metadata": {
    "papermill": {
     "duration": 0.012392,
     "end_time": "2021-09-19T22:21:19.272158",
     "exception": false,
     "start_time": "2021-09-19T22:21:19.259766",
     "status": "completed"
    },
    "tags": []
   },
   "source": [
    "Let's plot the pipeline:"
   ]
  },
  {
   "cell_type": "code",
   "execution_count": 3,
   "id": "f2f50159",
   "metadata": {
    "execution": {
     "iopub.execute_input": "2021-09-19T22:21:19.305578Z",
     "iopub.status.busy": "2021-09-19T22:21:19.303394Z",
     "iopub.status.idle": "2021-09-19T22:21:22.623574Z",
     "shell.execute_reply": "2021-09-19T22:21:22.624232Z"
    },
    "papermill": {
     "duration": 3.339909,
     "end_time": "2021-09-19T22:21:22.624440",
     "exception": false,
     "start_time": "2021-09-19T22:21:19.284531",
     "status": "completed"
    },
    "tags": [
     "bash"
    ]
   },
   "outputs": [
    {
     "name": "stdout",
     "output_type": "stream",
     "text": [
      "Plot saved at: pipeline.png\n"
     ]
    },
    {
     "name": "stderr",
     "output_type": "stream",
     "text": [
      "100%|██████████| 3/3 [00:00<00:00, 8648.05it/s]\n"
     ]
    }
   ],
   "source": [
    "%%sh\n",
    "ploomber plot"
   ]
  },
  {
   "cell_type": "code",
   "execution_count": 4,
   "id": "e4f0ff8e",
   "metadata": {
    "execution": {
     "iopub.execute_input": "2021-09-19T22:21:22.657935Z",
     "iopub.status.busy": "2021-09-19T22:21:22.657108Z",
     "iopub.status.idle": "2021-09-19T22:21:22.668145Z",
     "shell.execute_reply": "2021-09-19T22:21:22.668661Z"
    },
    "papermill": {
     "duration": 0.031271,
     "end_time": "2021-09-19T22:21:22.668903",
     "exception": false,
     "start_time": "2021-09-19T22:21:22.637632",
     "status": "completed"
    },
    "tags": []
   },
   "outputs": [
    {
     "data": {
      "image/png": "[encoded data removed]",
      "text/plain": [
       "<IPython.core.display.Image object>"
      ]
     },
     "execution_count": 4,
     "metadata": {},
     "output_type": "execute_result"
    }
   ],
   "source": [
    "\n",
    "from IPython.display import Image\n",
    "Image(filename='pipeline.png')"
   ]
  },
  {
   "cell_type": "markdown",
   "id": "4c9e1506",
   "metadata": {
    "papermill": {
     "duration": 0.013304,
     "end_time": "2021-09-19T22:21:22.697024",
     "exception": false,
     "start_time": "2021-09-19T22:21:22.683720",
     "status": "completed"
    },
    "tags": []
   },
   "source": [
    "The `status` command gives us an overview of the pipeline:"
   ]
  },
  {
   "cell_type": "code",
   "execution_count": 5,
   "id": "825bc26b",
   "metadata": {
    "execution": {
     "iopub.execute_input": "2021-09-19T22:21:22.731806Z",
     "iopub.status.busy": "2021-09-19T22:21:22.730940Z",
     "iopub.status.idle": "2021-09-19T22:21:25.122268Z",
     "shell.execute_reply": "2021-09-19T22:21:25.122935Z"
    },
    "papermill": {
     "duration": 2.412389,
     "end_time": "2021-09-19T22:21:25.123266",
     "exception": false,
     "start_time": "2021-09-19T22:21:22.710877",
     "status": "completed"
    },
    "tags": [
     "bash"
    ]
   },
   "outputs": [
    {
     "name": "stdout",
     "output_type": "stream",
     "text": [
      "name    Last run      Outdated?    Product        Doc (short)    Location\n",
      "------  ------------  -----------  -------------  -------------  -------------\n",
      "raw     16 minutes    False        MetaProduct({                 /Users/Edu/de\n",
      "        ago (Sep 19,               'data': File(                 v/projects-pl\n",
      "        21 at 17:04)               'output/data.                 oomber/spec-\n",
      "                                   csv'), 'nb':                  api-\n",
      "                                   File('output/                 python/raw.py\n",
      "                                   raw.ipynb')})\n",
      "clean   16 minutes    False        MetaProduct({                 /Users/Edu/de\n",
      "        ago (Sep 19,               'data': File(                 v/projects-pl\n",
      "        21 at 17:04)               'output/clean                 oomber/spec-\n",
      "                                   .csv'), 'nb':                 api-python/cl\n",
      "                                   File('output/                 ean.py\n",
      "                                   clean.ipynb')\n",
      "                                   })\n",
      "plot    16 minutes    False        File('output/                 /Users/Edu/de\n",
      "        ago (Sep 19,               plot.ipynb')                  v/projects-pl\n",
      "        21 at 17:04)                                             oomber/spec-\n",
      "                                                                 api-python/pl\n",
      "                                                                 ot.py\n"
     ]
    },
    {
     "name": "stderr",
     "output_type": "stream",
     "text": [
      "100%|██████████| 3/3 [00:00<00:00, 13217.34it/s]\n"
     ]
    }
   ],
   "source": [
    "%%sh\n",
    "ploomber status"
   ]
  },
  {
   "cell_type": "markdown",
   "id": "7e4c2231",
   "metadata": {
    "papermill": {
     "duration": 0.015697,
     "end_time": "2021-09-19T22:21:25.154760",
     "exception": false,
     "start_time": "2021-09-19T22:21:25.139063",
     "status": "completed"
    },
    "tags": []
   },
   "source": [
    "## How is execution order determined?\n",
    "\n",
    "Ploomber infers the pipeline structure from your code. If task B uses the output from\n",
    "task A as input, we say A is an **upstream** dependency of B. For example, to\n",
    "clean the data, we must get it first; hence, we declare the following in `clean.py`:\n",
    "\n",
    "~~~python\n",
    "# execute 'raw\" task before 'clean'\n",
    "upstream = ['raw']\n",
    "~~~\n",
    "\n",
    "Once we finish cleaning the data, we must save it somewhere (this is known\n",
    "as a **product**). Products can be files or SQL relations. Our current example\n",
    "only generates files.\n",
    "\n",
    "To specify where to save the output of each task, we use the `product`\n",
    "key. For example, the `raw` task definition looks like this:\n",
    "\n",
    "~~~yaml\n",
    "- source: raw.py\n",
    "  product:\n",
    "    nb: output/raw.ipynb\n",
    "    data: output/data.csv\n",
    "~~~"
   ]
  },
  {
   "cell_type": "markdown",
   "id": "bc132452",
   "metadata": {
    "papermill": {
     "duration": 0.013972,
     "end_time": "2021-09-19T22:21:25.186007",
     "exception": false,
     "start_time": "2021-09-19T22:21:25.172035",
     "status": "completed"
    },
    "tags": []
   },
   "source": [
    "Scripts and notebooks automatically generate a copy of themselves in Jupyter\n",
    "notebook format (`.ipynb`). That's why we see a notebook in the `product`\n",
    "dictionary (`nb` key). The notebook format allows us to generate standalone\n",
    "files with charts and tables, no need to write extra code to save our charts!\n",
    "\n",
    "Notebooks as pipeline products are crucial concepts: `raw.py` is part of the pipeline's\n",
    "source code but `output/raw.ipynb` is not. It is an artifact generated by the source code.\n",
    "\n",
    "If you don't want to generate output notebooks, you can use a Python function\n",
    "as tasks. Our upcoming tutorial goes deeper into the different types of tasks available.\n",
    "\n",
    "## Building the pipeline\n",
    "\n",
    "Let's build the pipeline:"
   ]
  },
  {
   "cell_type": "code",
   "execution_count": 6,
   "id": "b5e183d2",
   "metadata": {
    "execution": {
     "iopub.execute_input": "2021-09-19T22:21:25.220187Z",
     "iopub.status.busy": "2021-09-19T22:21:25.219507Z",
     "iopub.status.idle": "2021-09-19T22:21:27.614270Z",
     "shell.execute_reply": "2021-09-19T22:21:27.614759Z"
    },
    "papermill": {
     "duration": 2.414816,
     "end_time": "2021-09-19T22:21:27.614972",
     "exception": false,
     "start_time": "2021-09-19T22:21:25.200156",
     "status": "completed"
    },
    "tags": [
     "bash"
    ]
   },
   "outputs": [
    {
     "name": "stdout",
     "output_type": "stream",
     "text": [
      "name    Ran?      Elapsed (s)    Percentage\n",
      "------  ------  -------------  ------------\n",
      "raw     False               0             0\n",
      "clean   False               0             0\n",
      "plot    False               0             0\n"
     ]
    },
    {
     "name": "stderr",
     "output_type": "stream",
     "text": [
      "mkdir: output: File exists\n",
      "0it [00:00, ?it/s]\n"
     ]
    }
   ],
   "source": [
    "%%sh\n",
    "mkdir output\n",
    "ploomber build"
   ]
  },
  {
   "cell_type": "markdown",
   "id": "4e01db1b",
   "metadata": {
    "papermill": {
     "duration": 0.01679,
     "end_time": "2021-09-19T22:21:27.647457",
     "exception": false,
     "start_time": "2021-09-19T22:21:27.630667",
     "status": "completed"
    },
    "tags": []
   },
   "source": [
    "This pipeline saves all the output in the `output/` directory; we have a few\n",
    "data files:"
   ]
  },
  {
   "cell_type": "code",
   "execution_count": 7,
   "id": "43442754",
   "metadata": {
    "execution": {
     "iopub.execute_input": "2021-09-19T22:21:27.688290Z",
     "iopub.status.busy": "2021-09-19T22:21:27.687434Z",
     "iopub.status.idle": "2021-09-19T22:21:27.744638Z",
     "shell.execute_reply": "2021-09-19T22:21:27.745194Z"
    },
    "papermill": {
     "duration": 0.081325,
     "end_time": "2021-09-19T22:21:27.745461",
     "exception": false,
     "start_time": "2021-09-19T22:21:27.664136",
     "status": "completed"
    },
    "tags": [
     "bash"
    ]
   },
   "outputs": [
    {
     "name": "stdout",
     "output_type": "stream",
     "text": [
      "output/clean.csv\n",
      "output/data.csv\n"
     ]
    }
   ],
   "source": [
    "%%sh\n",
    "ls output/*.csv"
   ]
  },
  {
   "cell_type": "markdown",
   "id": "906affaf",
   "metadata": {
    "papermill": {
     "duration": 0.016481,
     "end_time": "2021-09-19T22:21:27.777652",
     "exception": false,
     "start_time": "2021-09-19T22:21:27.761171",
     "status": "completed"
    },
    "tags": []
   },
   "source": [
    "And a notebook for each script:"
   ]
  },
  {
   "cell_type": "code",
   "execution_count": 8,
   "id": "8a89c4de",
   "metadata": {
    "execution": {
     "iopub.execute_input": "2021-09-19T22:21:27.818393Z",
     "iopub.status.busy": "2021-09-19T22:21:27.815268Z",
     "iopub.status.idle": "2021-09-19T22:21:27.879167Z",
     "shell.execute_reply": "2021-09-19T22:21:27.878577Z"
    },
    "papermill": {
     "duration": 0.085394,
     "end_time": "2021-09-19T22:21:27.879468",
     "exception": false,
     "start_time": "2021-09-19T22:21:27.794074",
     "status": "completed"
    },
    "tags": [
     "bash"
    ]
   },
   "outputs": [
    {
     "name": "stdout",
     "output_type": "stream",
     "text": [
      "output/clean.ipynb\n",
      "output/plot.ipynb\n",
      "output/raw.ipynb\n"
     ]
    }
   ],
   "source": [
    "%%sh\n",
    "ls output/*.ipynb"
   ]
  },
  {
   "cell_type": "markdown",
   "id": "5005fd6d",
   "metadata": {
    "papermill": {
     "duration": 0.01797,
     "end_time": "2021-09-19T22:21:27.915571",
     "exception": false,
     "start_time": "2021-09-19T22:21:27.897601",
     "status": "completed"
    },
    "tags": []
   },
   "source": [
    "## Updating the pipeline\n",
    "\n",
    "Quick experimentation is essential to develop a data pipeline. Ploomber allows\n",
    "you to quickly run new experiments without having to keep track of tasks\n",
    "dependencies.\n",
    "\n",
    "Let's say you found a problematic column in the data and want to add more\n",
    "cleaning logic to your `clean.py` script. `raw.py` does not depend\n",
    "on `clean.py`, but `plot.py` does. If you modify `clean.py`, you'd have\n",
    "to execute `clean.py` and then `plot.py` to bring your pipeline up-to-date.\n",
    "\n",
    "As your pipeline grows, keeping track of task dependencies gets time-consuming.\n",
    "Ploomber does that for you and only executes outdated tasks on each run.\n",
    "\n",
    "Make some changes to the `clean.py` script, then build again:"
   ]
  },
  {
   "cell_type": "code",
   "execution_count": 9,
   "id": "3049aea5",
   "metadata": {
    "execution": {
     "iopub.execute_input": "2021-09-19T22:21:27.955415Z",
     "iopub.status.busy": "2021-09-19T22:21:27.954470Z",
     "iopub.status.idle": "2021-09-19T22:21:30.399609Z",
     "shell.execute_reply": "2021-09-19T22:21:30.400320Z"
    },
    "papermill": {
     "duration": 2.467705,
     "end_time": "2021-09-19T22:21:30.400533",
     "exception": false,
     "start_time": "2021-09-19T22:21:27.932828",
     "status": "completed"
    },
    "tags": [
     "bash"
    ]
   },
   "outputs": [
    {
     "name": "stdout",
     "output_type": "stream",
     "text": [
      "name    Ran?      Elapsed (s)    Percentage\n",
      "------  ------  -------------  ------------\n",
      "raw     False               0             0\n",
      "clean   False               0             0\n",
      "plot    False               0             0\n"
     ]
    },
    {
     "name": "stderr",
     "output_type": "stream",
     "text": [
      "0it [00:00, ?it/s]\n"
     ]
    }
   ],
   "source": [
    "%%sh\n",
    "ploomber build"
   ]
  },
  {
   "cell_type": "markdown",
   "id": "625787fa",
   "metadata": {
    "papermill": {
     "duration": 0.017499,
     "end_time": "2021-09-19T22:21:30.435705",
     "exception": false,
     "start_time": "2021-09-19T22:21:30.418206",
     "status": "completed"
    },
    "tags": []
   },
   "source": [
    "You'll see that `raw.py` didn't run because it was not affected by the change! Try modifying any of the other tasks, then come\n",
    "back and run `ploomber build`."
   ]
  },
  {
   "cell_type": "markdown",
   "id": "3a25a371",
   "metadata": {
    "papermill": {
     "duration": 0.016079,
     "end_time": "2021-09-19T22:21:30.469114",
     "exception": false,
     "start_time": "2021-09-19T22:21:30.453035",
     "status": "completed"
    },
    "tags": []
   },
   "source": [
    "## Where to go from here\n",
    "\n",
    "This tutorial showed how to build a pipeline with Ploomber; however, it only\n",
    "superficially covered Ploomber's core concepts and design rationale. [the upcoming\n",
    "tutorial](https://ploomber.readthedocs.io/en/stable/get-started/basic-concepts.html)\n",
    "goes deeper in those terms."
   ]
  }
 ],
 "metadata": {
  "jupytext": {
   "cell_metadata_filter": "tags,-all",
   "main_language": "bash",
   "notebook_metadata_filter": "-all"
  },
  "kernelspec": {
   "display_name": "Python 3 (ipykernel)",
   "language": "python",
   "name": "python3"
  },
  "language_info": {
   "codemirror_mode": {
    "name": "ipython",
    "version": 3
   },
   "file_extension": ".py",
   "mimetype": "text/x-python",
   "name": "python",
   "nbconvert_exporter": "python",
   "pygments_lexer": "ipython3",
   "version": "3.7.10"
  },
  "papermill": {
   "duration": 12.960972,
   "end_time": "2021-09-19T22:21:30.771867",
   "exception": null,
   "input_path": "/var/folders/3h/_lvh_w_x5g30rrjzb_xnn2j80000gq/T/tmpaw40r8e3.ipynb",
   "output_path": "spec-api-python/README.ipynb",
   "parameters": {
    "product": "spec-api-python/README.ipynb"
   },
   "start_time": "2021-09-19T22:21:17.810895"
  }
 },
 "nbformat": 4,
 "nbformat_minor": 5
}
