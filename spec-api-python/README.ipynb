{
 "cells": [
  {
   "cell_type": "markdown",
   "id": "sweet-associate",
   "metadata": {
    "papermill": {
     "duration": 0.014941,
     "end_time": "2021-03-13T14:44:56.545243",
     "exception": false,
     "start_time": "2021-03-13T14:44:56.530302",
     "status": "completed"
    },
    "tags": []
   },
   "source": [
    "\n",
    "*Note:* You can run this from your computer (Jupyter or terminal), or use one of the\n",
    "hosted options:\n",
    "\n",
    "[![binder-logo](https://mybinder.org/badge_logo.svg)](https://mybinder.org/v2/gh/ploomber/binder-env/main?urlpath=git-pull%3Frepo%3Dhttps%253A%252F%252Fgithub.com%252Fploomber%252Fprojects%26urlpath%3Dlab%252Ftree%252Fprojects%252Fspec-api-python%252FREADME.ipynb%26branch%3Dmaster)\n",
    "\n",
    "[![deepnote-logo](https://deepnote.com/buttons/launch-in-deepnote-small.svg)](https://deepnote.com/launch?template=deepnote&url=https://github.com/ploomber/projects/blob/master/spec-api-python/README.ipynb)\n"
   ]
  },
  {
   "cell_type": "markdown",
   "id": "urban-bedroom",
   "metadata": {
    "papermill": {
     "duration": 0.012,
     "end_time": "2021-03-13T14:44:56.568225",
     "exception": false,
     "start_time": "2021-03-13T14:44:56.556225",
     "status": "completed"
    },
    "tags": []
   },
   "source": [
    "# Your first Python pipeline\n",
    "\n",
    "This guide shows you how to run your first Ploomber pipeline.\n",
    "\n",
    "**Note:** This is intended for a quick and interactive experience. If you want\n",
    "to learn about Ploomber's core concepts and design rationale, go to the\n",
    "[the next tutorial](https://ploomber.readthedocs.io/en/stable/get-started/basic-concepts.html)\n",
    "\n",
    "## Setup (skip if using deepnote or binder)\n",
    "\n",
    "Get code (run in a terminal):\n",
    "\n",
    "~~~sh\n",
    "git clone https://github.com/ploomber/projects\n",
    "cd projects/spec-api-python\n",
    "~~~\n",
    "\n",
    "Install dependencies:\n",
    "\n",
    "~~~sh\n",
    "# if using conda\n",
    "conda env create --file environment.yaml\n",
    "conda activate spec-api-python\n",
    "\n",
    "# otherwise use pip directly\n",
    "pip install -r requirements.txt\n",
    "~~~\n",
    "\n",
    "## Description\n",
    "\n",
    "This pipeline contains 3 **tasks**, the first task `get.py` gets some data,\n",
    "`clean.py` cleans it and `plot.py` generates a visualization:"
   ]
  },
  {
   "cell_type": "code",
   "execution_count": 1,
   "id": "handmade-thought",
   "metadata": {
    "execution": {
     "iopub.execute_input": "2021-03-13T14:44:56.596256Z",
     "iopub.status.busy": "2021-03-13T14:44:56.595588Z",
     "iopub.status.idle": "2021-03-13T14:44:56.658638Z",
     "shell.execute_reply": "2021-03-13T14:44:56.659171Z"
    },
    "papermill": {
     "duration": 0.079666,
     "end_time": "2021-03-13T14:44:56.659520",
     "exception": false,
     "start_time": "2021-03-13T14:44:56.579854",
     "status": "completed"
    },
    "tags": [
     "bash"
    ]
   },
   "outputs": [
    {
     "name": "stdout",
     "output_type": "stream",
     "text": [
      "clean.py\n",
      "plot.py\n",
      "raw.py\n"
     ]
    }
   ],
   "source": [
    "%%sh\n",
    "ls *.py"
   ]
  },
  {
   "cell_type": "markdown",
   "id": "decent-contribution",
   "metadata": {
    "papermill": {
     "duration": 0.012113,
     "end_time": "2021-03-13T14:44:56.683404",
     "exception": false,
     "start_time": "2021-03-13T14:44:56.671291",
     "status": "completed"
    },
    "tags": []
   },
   "source": [
    "These three scripts make up our pipeline (or **DAG**), which is a collection\n",
    "of tasks with a pre-defined execution order.\n",
    "\n",
    "**Note:** These tasks are Python scripts, but you can use functions, notebooks,\n",
    "and even SQL scripts. The following guide explains how other types of tasks work.\n",
    "\n",
    "Along with the `*.py` files, there is a `pipeline.yaml` file where we declare\n",
    "which files we use as tasks:"
   ]
  },
  {
   "cell_type": "code",
   "execution_count": 2,
   "id": "concerned-greensboro",
   "metadata": {
    "execution": {
     "iopub.execute_input": "2021-03-13T14:44:56.710871Z",
     "iopub.status.busy": "2021-03-13T14:44:56.710089Z",
     "iopub.status.idle": "2021-03-13T14:44:56.769506Z",
     "shell.execute_reply": "2021-03-13T14:44:56.770011Z"
    },
    "papermill": {
     "duration": 0.075291,
     "end_time": "2021-03-13T14:44:56.770258",
     "exception": false,
     "start_time": "2021-03-13T14:44:56.694967",
     "status": "completed"
    },
    "tags": [
     "bash"
    ]
   },
   "outputs": [
    {
     "name": "stdout",
     "output_type": "stream",
     "text": [
      "tasks:\n",
      "  - source: raw.py\n",
      "    product:\n",
      "      nb: output/raw.ipynb\n",
      "      data: output/data.csv\n",
      "\n",
      "  - source: clean.py\n",
      "    product:\n",
      "      nb: output/clean.ipynb\n",
      "      data: output/clean.csv\n",
      "\n",
      "  - source: plot.py\n",
      "    product: output/plot.ipynb\n"
     ]
    }
   ],
   "source": [
    "%%sh\n",
    "cat pipeline.yaml"
   ]
  },
  {
   "cell_type": "markdown",
   "id": "irish-clinic",
   "metadata": {
    "papermill": {
     "duration": 0.011777,
     "end_time": "2021-03-13T14:44:56.793489",
     "exception": false,
     "start_time": "2021-03-13T14:44:56.781712",
     "status": "completed"
    },
    "tags": []
   },
   "source": [
    "**Note:** The `pipeline.yaml` file is optional, but it gives you more flexibility.\n",
    "[Click here](https://github.com/ploomber/projects/tree/master/spec-api-directory) to see an example without a `pipeline.yaml` file."
   ]
  },
  {
   "cell_type": "markdown",
   "id": "limiting-aurora",
   "metadata": {
    "papermill": {
     "duration": 0.012091,
     "end_time": "2021-03-13T14:44:56.817579",
     "exception": false,
     "start_time": "2021-03-13T14:44:56.805488",
     "status": "completed"
    },
    "tags": []
   },
   "source": [
    "Let's plot the pipeline:"
   ]
  },
  {
   "cell_type": "code",
   "execution_count": 3,
   "id": "partial-chester",
   "metadata": {
    "execution": {
     "iopub.execute_input": "2021-03-13T14:44:56.847267Z",
     "iopub.status.busy": "2021-03-13T14:44:56.846440Z",
     "iopub.status.idle": "2021-03-13T14:45:00.105399Z",
     "shell.execute_reply": "2021-03-13T14:45:00.106000Z"
    },
    "papermill": {
     "duration": 3.2772,
     "end_time": "2021-03-13T14:45:00.106248",
     "exception": false,
     "start_time": "2021-03-13T14:44:56.829048",
     "status": "completed"
    },
    "tags": [
     "bash"
    ]
   },
   "outputs": [
    {
     "name": "stdout",
     "output_type": "stream",
     "text": [
      "Plot saved at: pipeline.png\n"
     ]
    },
    {
     "name": "stderr",
     "output_type": "stream",
     "text": [
      "100%|██████████| 3/3 [00:00<00:00, 4322.54it/s]\n"
     ]
    }
   ],
   "source": [
    "%%sh\n",
    "# Note: plotting doesn't work in deepnote\n",
    "ploomber plot"
   ]
  },
  {
   "cell_type": "code",
   "execution_count": 4,
   "id": "opposite-hungarian",
   "metadata": {
    "execution": {
     "iopub.execute_input": "2021-03-13T14:45:00.146930Z",
     "iopub.status.busy": "2021-03-13T14:45:00.146168Z",
     "iopub.status.idle": "2021-03-13T14:45:00.149579Z",
     "shell.execute_reply": "2021-03-13T14:45:00.150316Z"
    },
    "papermill": {
     "duration": 0.029331,
     "end_time": "2021-03-13T14:45:00.150568",
     "exception": false,
     "start_time": "2021-03-13T14:45:00.121237",
     "status": "completed"
    },
    "tags": []
   },
   "outputs": [
    {
     "data": {
      "image/png": "[encoded data removed]",
      "text/plain": [
       "<IPython.core.display.Image object>"
      ]
     },
     "execution_count": 4,
     "metadata": {},
     "output_type": "execute_result"
    }
   ],
   "source": [
    "\n",
    "from IPython.display import Image\n",
    "Image(filename='pipeline.png')"
   ]
  },
  {
   "cell_type": "markdown",
   "id": "earned-enlargement",
   "metadata": {
    "papermill": {
     "duration": 0.013626,
     "end_time": "2021-03-13T14:45:00.178055",
     "exception": false,
     "start_time": "2021-03-13T14:45:00.164429",
     "status": "completed"
    },
    "tags": []
   },
   "source": [
    "The `status` command gives us an overview of the pipeline:"
   ]
  },
  {
   "cell_type": "code",
   "execution_count": 5,
   "id": "conventional-favor",
   "metadata": {
    "execution": {
     "iopub.execute_input": "2021-03-13T14:45:00.210827Z",
     "iopub.status.busy": "2021-03-13T14:45:00.209896Z",
     "iopub.status.idle": "2021-03-13T14:45:03.365495Z",
     "shell.execute_reply": "2021-03-13T14:45:03.366091Z"
    },
    "papermill": {
     "duration": 3.175234,
     "end_time": "2021-03-13T14:45:03.366330",
     "exception": false,
     "start_time": "2021-03-13T14:45:00.191096",
     "status": "completed"
    },
    "tags": [
     "bash"
    ]
   },
   "outputs": [
    {
     "name": "stdout",
     "output_type": "stream",
     "text": [
      "name    Last run      Outdated?    Product       Doc (short)    Location\n",
      "------  ------------  -----------  ------------  -------------  ------------\n",
      "raw     Has not been  Source code  MetaProduct(                 /Users/Edu/d\n",
      "        run                        {'data': Fil                 ev/projects-\n",
      "                                   e('output/da                 ploomber/spe\n",
      "                                   ta.csv'),                    c-api-python\n",
      "                                   'nb': File('                 /raw.py\n",
      "                                   output/raw.i\n",
      "                                   pynb')})\n",
      "clean   Has not been  Source code  MetaProduct(                 /Users/Edu/d\n",
      "        run           & Upstream   {'data': Fil                 ev/projects-\n",
      "                                   e('output/cl                 ploomber/spe\n",
      "                                   ean.csv'),                   c-api-python\n",
      "                                   'nb': File('                 /clean.py\n",
      "                                   output/clean\n",
      "                                   .ipynb')})\n",
      "plot    Has not been  Source code  File('output                 /Users/Edu/d\n",
      "        run           & Upstream   /plot.ipynb'                 ev/projects-\n",
      "                                   )                            ploomber/spe\n",
      "                                                                c-api-python\n",
      "                                                                /plot.py\n"
     ]
    },
    {
     "name": "stderr",
     "output_type": "stream",
     "text": [
      "100%|██████████| 3/3 [00:00<00:00, 4725.09it/s]\n"
     ]
    }
   ],
   "source": [
    "%%sh\n",
    "ploomber status"
   ]
  },
  {
   "cell_type": "markdown",
   "id": "raising-rocket",
   "metadata": {
    "papermill": {
     "duration": 0.016855,
     "end_time": "2021-03-13T14:45:03.397790",
     "exception": false,
     "start_time": "2021-03-13T14:45:03.380935",
     "status": "completed"
    },
    "tags": []
   },
   "source": [
    "## How is execution order determined?\n",
    "\n",
    "Ploomber infers the pipeline structure from your code. If task B uses output from\n",
    "task A as input, we say A is an **upstream** dependency of B. For example, to\n",
    "clean the data, we must get it first; hence, we declare the following in `clean.py`:\n",
    "\n",
    "~~~python\n",
    "# execute 'raw\" task before 'clean'\n",
    "upstream = ['raw']\n",
    "~~~\n",
    "\n",
    "Once we finish cleaning the data, we must save it somewhere (this is known\n",
    "as a **product**). Products can be files or SQL relations. Our current example\n",
    "only generates files.\n",
    "\n",
    "To specify where to save the output of each task, we use the `product`\n",
    "key. For example, the `raw` task definition looks like this:\n",
    "\n",
    "~~~yaml\n",
    "- source: raw.py\n",
    "  product:\n",
    "    nb: output/raw.ipynb\n",
    "    data: output/data.csv\n",
    "~~~"
   ]
  },
  {
   "cell_type": "markdown",
   "id": "assigned-opera",
   "metadata": {
    "papermill": {
     "duration": 0.012971,
     "end_time": "2021-03-13T14:45:03.427689",
     "exception": false,
     "start_time": "2021-03-13T14:45:03.414718",
     "status": "completed"
    },
    "tags": []
   },
   "source": [
    "Scripts and notebooks automatically generate a copy of themselves in Jupyter\n",
    "notebook format (`.ipynb`). That's why we see a notebook in the `product`\n",
    "dictionary (`nb` key). The notebook format allows us to generate standalone\n",
    "files with charts and tables, no need to write extra code to save our charts!\n",
    "\n",
    "This is a key concept: `raw.py` is part of the pipeline's source code but\n",
    "`output/raw.ipynb` is not. It is an artifact generated by the source code.\n",
    "\n",
    "If you don't want to generate output noteboks, you can use a Python function\n",
    "as tasks. Our next tutorial goes deeper into the different types of tasks\n",
    "available.\n",
    "\n",
    "## Building the pipeline\n",
    "\n",
    "Let's build the pipeline:"
   ]
  },
  {
   "cell_type": "code",
   "execution_count": 6,
   "id": "promotional-worthy",
   "metadata": {
    "execution": {
     "iopub.execute_input": "2021-03-13T14:45:03.459018Z",
     "iopub.status.busy": "2021-03-13T14:45:03.458359Z",
     "iopub.status.idle": "2021-03-13T14:45:16.139454Z",
     "shell.execute_reply": "2021-03-13T14:45:16.140056Z"
    },
    "papermill": {
     "duration": 12.699264,
     "end_time": "2021-03-13T14:45:16.140347",
     "exception": false,
     "start_time": "2021-03-13T14:45:03.441083",
     "status": "completed"
    },
    "tags": [
     "bash"
    ]
   },
   "outputs": [
    {
     "name": "stdout",
     "output_type": "stream",
     "text": [
      "name    Ran?      Elapsed (s)    Percentage\n",
      "------  ------  -------------  ------------\n",
      "raw     True          3.8356        40.605\n",
      "clean   True          1.55765       16.4899\n",
      "plot    True          4.05287       42.9051\n"
     ]
    },
    {
     "name": "stderr",
     "output_type": "stream",
     "text": [
      "Building task \"raw\":   0%|          | 0/3 [00:00<?, ?it/s]\n",
      "Executing:   0%|          | 0/5 [00:00<?, ?cell/s]\u001b[A\n",
      "Executing:  20%|██        | 1/5 [00:01<00:05,  1.48s/cell]\u001b[A\n",
      "Executing: 100%|██████████| 5/5 [00:03<00:00,  1.31cell/s]\n",
      "Building task \"clean\":  33%|███▎      | 1/3 [00:03<00:07,  3.84s/it]\n",
      "Executing:   0%|          | 0/5 [00:00<?, ?cell/s]\u001b[A\n",
      "Executing: 100%|██████████| 5/5 [00:01<00:00,  3.24cell/s]\n",
      "Building task \"plot\":  67%|██████▋   | 2/3 [00:05<00:03,  3.16s/it] \n",
      "Executing:   0%|          | 0/7 [00:00<?, ?cell/s]\u001b[A\n",
      "Executing:  14%|█▍        | 1/7 [00:02<00:12,  2.10s/cell]\u001b[A\n",
      "Executing:  71%|███████▏  | 5/7 [00:02<00:02,  1.49s/cell]\u001b[A\n",
      "Executing: 100%|██████████| 7/7 [00:04<00:00,  1.74cell/s]\n",
      "Building task \"plot\": 100%|██████████| 3/3 [00:09<00:00,  3.16s/it]\n"
     ]
    }
   ],
   "source": [
    "%%sh\n",
    "mkdir output\n",
    "ploomber build"
   ]
  },
  {
   "cell_type": "markdown",
   "id": "different-genome",
   "metadata": {
    "papermill": {
     "duration": 0.016539,
     "end_time": "2021-03-13T14:45:16.175323",
     "exception": false,
     "start_time": "2021-03-13T14:45:16.158784",
     "status": "completed"
    },
    "tags": []
   },
   "source": [
    "This pipeline saves all the output in the `output/` directory; we have a few\n",
    "data files:"
   ]
  },
  {
   "cell_type": "code",
   "execution_count": 7,
   "id": "modular-friday",
   "metadata": {
    "execution": {
     "iopub.execute_input": "2021-03-13T14:45:16.213889Z",
     "iopub.status.busy": "2021-03-13T14:45:16.213007Z",
     "iopub.status.idle": "2021-03-13T14:45:16.269944Z",
     "shell.execute_reply": "2021-03-13T14:45:16.270420Z"
    },
    "papermill": {
     "duration": 0.079491,
     "end_time": "2021-03-13T14:45:16.270659",
     "exception": false,
     "start_time": "2021-03-13T14:45:16.191168",
     "status": "completed"
    },
    "tags": [
     "bash"
    ]
   },
   "outputs": [
    {
     "name": "stdout",
     "output_type": "stream",
     "text": [
      "output/clean.csv\n",
      "output/data.csv\n"
     ]
    }
   ],
   "source": [
    "%%sh\n",
    "ls output/*.csv"
   ]
  },
  {
   "cell_type": "markdown",
   "id": "strange-cincinnati",
   "metadata": {
    "papermill": {
     "duration": 0.016124,
     "end_time": "2021-03-13T14:45:16.301874",
     "exception": false,
     "start_time": "2021-03-13T14:45:16.285750",
     "status": "completed"
    },
    "tags": []
   },
   "source": [
    "And a notebook for each script:"
   ]
  },
  {
   "cell_type": "code",
   "execution_count": 8,
   "id": "scientific-tumor",
   "metadata": {
    "execution": {
     "iopub.execute_input": "2021-03-13T14:45:16.338712Z",
     "iopub.status.busy": "2021-03-13T14:45:16.337899Z",
     "iopub.status.idle": "2021-03-13T14:45:16.394817Z",
     "shell.execute_reply": "2021-03-13T14:45:16.394244Z"
    },
    "papermill": {
     "duration": 0.078296,
     "end_time": "2021-03-13T14:45:16.395056",
     "exception": false,
     "start_time": "2021-03-13T14:45:16.316760",
     "status": "completed"
    },
    "tags": [
     "bash"
    ]
   },
   "outputs": [
    {
     "name": "stdout",
     "output_type": "stream",
     "text": [
      "output/clean.ipynb\n",
      "output/plot.ipynb\n",
      "output/raw.ipynb\n"
     ]
    }
   ],
   "source": [
    "%%sh\n",
    "ls output/*.ipynb"
   ]
  },
  {
   "cell_type": "markdown",
   "id": "extended-birthday",
   "metadata": {
    "papermill": {
     "duration": 0.015386,
     "end_time": "2021-03-13T14:45:16.425840",
     "exception": false,
     "start_time": "2021-03-13T14:45:16.410454",
     "status": "completed"
    },
    "tags": []
   },
   "source": [
    "## Updating the pipeline\n",
    "\n",
    "Quick experimentation is essential to develop a data pipeline. Ploomber allows\n",
    "you to quickly run new experiments without having to keep track of tasks\n",
    "dependencies.\n",
    "\n",
    "Let's say you found a problematic column in the data and want to add more\n",
    "cleaning logic to your `clean.py` script. `raw.py` does not depend\n",
    "on `clean.py`, but `plot.py` does. If you modify `clean.py`, you'd have\n",
    "to execute `clean.py` and then `plot.py` to bring your pipeline up-to-date.\n",
    "\n",
    "As your pipeline grows, keeping track of task dependencies gets time-consuming.\n",
    "Ploomber does that for you and only executes outdated tasks on each run.\n",
    "\n",
    "Make some changes to the `clean.py` script, then build again:"
   ]
  },
  {
   "cell_type": "code",
   "execution_count": 9,
   "id": "protecting-greece",
   "metadata": {
    "execution": {
     "iopub.execute_input": "2021-03-13T14:45:16.462899Z",
     "iopub.status.busy": "2021-03-13T14:45:16.462259Z",
     "iopub.status.idle": "2021-03-13T14:45:19.953588Z",
     "shell.execute_reply": "2021-03-13T14:45:19.954107Z"
    },
    "papermill": {
     "duration": 3.512204,
     "end_time": "2021-03-13T14:45:19.954317",
     "exception": false,
     "start_time": "2021-03-13T14:45:16.442113",
     "status": "completed"
    },
    "tags": [
     "bash"
    ]
   },
   "outputs": [
    {
     "name": "stdout",
     "output_type": "stream",
     "text": [
      "name    Ran?      Elapsed (s)    Percentage\n",
      "------  ------  -------------  ------------\n",
      "raw     False               0             0\n",
      "clean   False               0             0\n",
      "plot    False               0             0\n"
     ]
    },
    {
     "name": "stderr",
     "output_type": "stream",
     "text": [
      "0it [00:00, ?it/s]\n"
     ]
    }
   ],
   "source": [
    "%%sh\n",
    "ploomber build"
   ]
  },
  {
   "cell_type": "markdown",
   "id": "precious-mapping",
   "metadata": {
    "papermill": {
     "duration": 0.016018,
     "end_time": "2021-03-13T14:45:19.986831",
     "exception": false,
     "start_time": "2021-03-13T14:45:19.970813",
     "status": "completed"
    },
    "tags": []
   },
   "source": [
    "You'll see that `raw.py` didn't run because it was not affected by the change!"
   ]
  },
  {
   "cell_type": "markdown",
   "id": "falling-strain",
   "metadata": {
    "papermill": {
     "duration": 0.016462,
     "end_time": "2021-03-13T14:45:20.020000",
     "exception": false,
     "start_time": "2021-03-13T14:45:20.003538",
     "status": "completed"
    },
    "tags": []
   },
   "source": [
    "## Where to go from here\n",
    "\n",
    "This tutorial showed how to build a pipeline with Ploomber; however, it only\n",
    "superficially covered Ploomber's core concepts and design rationale. [the next\n",
    "tutorial](https://ploomber.readthedocs.io/en/stable/get-started/basic-concepts.html)\n",
    "goes deeper in those terms."
   ]
  }
 ],
 "metadata": {
  "jupytext": {
   "cell_metadata_filter": "tags,-all",
   "main_language": "bash",
   "notebook_metadata_filter": "-all"
  },
  "kernelspec": {
   "display_name": "Python 3",
   "language": "python",
   "name": "python3"
  },
  "language_info": {
   "codemirror_mode": {
    "name": "ipython",
    "version": 3
   },
   "file_extension": ".py",
   "mimetype": "text/x-python",
   "name": "python",
   "nbconvert_exporter": "python",
   "pygments_lexer": "ipython3",
   "version": "3.8.6"
  },
  "papermill": {
   "duration": 24.8432,
   "end_time": "2021-03-13T14:45:20.321445",
   "exception": null,
   "input_path": "/var/folders/3h/_lvh_w_x5g30rrjzb_xnn2j80000gq/T/tmpfw07u50c.ipynb",
   "output_path": "../../projects-ploomber/spec-api-python/README.ipynb",
   "parameters": {
    "product": "../../projects-ploomber/spec-api-python/README.ipynb"
   },
   "start_time": "2021-03-13T14:44:55.478245"
  }
 },
 "nbformat": 4,
 "nbformat_minor": 5
}
