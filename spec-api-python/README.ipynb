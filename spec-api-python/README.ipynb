{
 "cells": [
  {
   "cell_type": "markdown",
   "metadata": {
    "papermill": {
     "duration": 0.004468,
     "end_time": "2020-11-21T00:09:52.497028",
     "exception": false,
     "start_time": "2020-11-21T00:09:52.492560",
     "status": "completed"
    },
    "tags": []
   },
   "source": [
    "# Python script-based project\n",
    "\n",
    "This example shows how you can build script or notebook-based (just replace the\n",
    "*.py files with *.ipynb) project using a ``pipeline.yaml`` file.\n",
    "\n",
    "## Setup environment\n",
    "\n",
    "~~~sh\n",
    "conda env create --file environment.yaml\n",
    "conda activate spec-api-python\n",
    "~~~\n",
    "\n",
    "## Pipeline description\n",
    "\n",
    "This pipeline contains 3 tasks. The last task generates a plot. To get the\n",
    "pipeline description:"
   ]
  },
  {
   "cell_type": "code",
   "execution_count": 1,
   "metadata": {
    "execution": {
     "iopub.execute_input": "2020-11-21T00:09:52.510587Z",
     "iopub.status.busy": "2020-11-21T00:09:52.509625Z",
     "iopub.status.idle": "2020-11-21T00:09:54.799231Z",
     "shell.execute_reply": "2020-11-21T00:09:54.799673Z"
    },
    "papermill": {
     "duration": 2.298718,
     "end_time": "2020-11-21T00:09:54.800014",
     "exception": false,
     "start_time": "2020-11-21T00:09:52.501296",
     "status": "completed"
    },
    "tags": [
     "bash"
    ]
   },
   "outputs": [
    {
     "name": "stdout",
     "output_type": "stream",
     "text": [
      "name    Last run        Outdated?    Product             Doc (short)    Location\n",
      "------  --------------  -----------  ------------------  -------------  ----------\n",
      "raw     54 minutes ago  False        {'nb': File(/Users                 raw.py\n",
      "        (Nov 20, 20 at               /Edu/dev/projects-\n",
      "        18:14)                       ploomber/spec-api-\n",
      "                                     python/output/data\n",
      "                                     .ipynb), 'data': F\n",
      "                                     ile(/Users/Edu/dev\n",
      "                                     /projects-\n",
      "                                     ploomber/spec-api-\n",
      "                                     python/output/data\n",
      "                                     .csv)}\n",
      "clean   54 minutes ago  False        {'nb': File(/Users                 clean.py\n",
      "        (Nov 20, 20 at               /Edu/dev/projects-\n",
      "        18:14)                       ploomber/spec-api-\n",
      "                                     python/output/clea\n",
      "                                     n.ipynb), 'data':\n",
      "                                     File(/Users/Edu/de\n",
      "                                     v/projects-\n",
      "                                     ploomber/spec-api-\n",
      "                                     python/output/clea\n",
      "                                     n.csv)}\n",
      "plot    54 minutes ago  False        {'nb': File(/Users                 plot.py\n",
      "        (Nov 20, 20 at               /Edu/dev/projects-\n",
      "        18:15)                       ploomber/spec-api-\n",
      "                                     python/output/plot\n",
      "                                     .ipynb)}\n"
     ]
    },
    {
     "name": "stderr",
     "output_type": "stream",
     "text": [
      "100%|██████████| 3/3 [00:00<00:00, 10271.76it/s]\n"
     ]
    }
   ],
   "source": [
    "%%sh\n",
    "ploomber status"
   ]
  },
  {
   "cell_type": "markdown",
   "metadata": {
    "papermill": {
     "duration": 0.005423,
     "end_time": "2020-11-21T00:09:54.810510",
     "exception": false,
     "start_time": "2020-11-21T00:09:54.805087",
     "status": "completed"
    },
    "tags": []
   },
   "source": [
    "## Build the pipeline from the command line"
   ]
  },
  {
   "cell_type": "code",
   "execution_count": 2,
   "metadata": {
    "execution": {
     "iopub.execute_input": "2020-11-21T00:09:54.826349Z",
     "iopub.status.busy": "2020-11-21T00:09:54.825473Z",
     "iopub.status.idle": "2020-11-21T00:09:57.204681Z",
     "shell.execute_reply": "2020-11-21T00:09:57.205327Z"
    },
    "papermill": {
     "duration": 2.390496,
     "end_time": "2020-11-21T00:09:57.205567",
     "exception": false,
     "start_time": "2020-11-21T00:09:54.815071",
     "status": "completed"
    },
    "tags": [
     "bash"
    ]
   },
   "outputs": [
    {
     "name": "stdout",
     "output_type": "stream",
     "text": [
      "name    Ran?      Elapsed (s)    Percentage\n",
      "------  ------  -------------  ------------\n",
      "raw     False               0             0\n",
      "clean   False               0             0\n",
      "plot    False               0             0\n"
     ]
    },
    {
     "name": "stderr",
     "output_type": "stream",
     "text": [
      "mkdir: output: File exists\n",
      "100%|██████████| 3/3 [00:00<00:00, 10347.79it/s]\n",
      "0it [00:00, ?it/s]\n"
     ]
    }
   ],
   "source": [
    "%%sh\n",
    "mkdir output\n",
    "ploomber build"
   ]
  },
  {
   "cell_type": "markdown",
   "metadata": {
    "papermill": {
     "duration": 0.005422,
     "end_time": "2020-11-21T00:09:57.216117",
     "exception": false,
     "start_time": "2020-11-21T00:09:57.210695",
     "status": "completed"
    },
    "tags": []
   },
   "source": [
    "Output is stored in the ``output/`` directory.\n",
    "\n",
    "## Where to go from here\n",
    "\n",
    "Adding a `pipeline.yaml` file gives you more flexibility to build a pipeline,\n",
    "if you want to see a more complete example, take a lookt at `ml-basic`. Which\n",
    "builds a simple Machine Learning pipeline where some of the tasks are Python\n",
    "functions (instead of scripts).\n",
    "\n",
    "`spec-api-sql` contains an example where data manipulation starts in a SQL\n",
    "database, the data is downloaded and visualized using Python.\n",
    "\n",
    "Using a `pipeline.yaml` file is a convenient way to write your workflows and is\n",
    "often enough for a lot of projects. However, if you need more flexibility, you\n",
    "can use the Python API directly, see the `python-api` example.\n",
    "\n",
    "If you use R, take a look a the `spec-api-r` example, which contains a similar\n",
    "pipeline to this but using R."
   ]
  }
 ],
 "metadata": {
  "jupytext": {
   "cell_metadata_filter": "tags,-all",
   "main_language": "bash",
   "notebook_metadata_filter": "-all"
  },
  "kernelspec": {
   "display_name": "Python 3",
   "language": "python",
   "name": "python3"
  },
  "language_info": {
   "codemirror_mode": {
    "name": "ipython",
    "version": 3
   },
   "file_extension": ".py",
   "mimetype": "text/x-python",
   "name": "python",
   "nbconvert_exporter": "python",
   "pygments_lexer": "ipython3",
   "version": "3.7.8"
  },
  "papermill": {
   "default_parameters": {},
   "duration": 5.869689,
   "end_time": "2020-11-21T00:09:57.457112",
   "environment_variables": {},
   "exception": null,
   "input_path": "/var/folders/3h/_lvh_w_x5g30rrjzb_xnn2j80000gq/T/tmpqry122gz.ipynb",
   "output_path": "spec-api-python/README.ipynb",
   "parameters": {
    "product": "spec-api-python/README.ipynb"
   },
   "start_time": "2020-11-21T00:09:51.587423",
   "version": "2.2.2"
  }
 },
 "nbformat": 4,
 "nbformat_minor": 4
}
