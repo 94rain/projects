{
 "cells": [
  {
   "cell_type": "markdown",
   "id": "remarkable-corpus",
   "metadata": {
    "papermill": {
     "duration": 0.017387,
     "end_time": "2021-05-10T14:59:52.014813",
     "exception": false,
     "start_time": "2021-05-10T14:59:51.997426",
     "status": "completed"
    },
    "tags": []
   },
   "source": [
    "\n",
    "*Note:* You can run this from your computer (Jupyter or terminal), or use one of the\n",
    "hosted options:\n",
    "\n",
    "[![binder-logo](https://mybinder.org/badge_logo.svg)](https://mybinder.org/v2/gh/ploomber/binder-env/main?urlpath=git-pull%3Frepo%3Dhttps%253A%252F%252Fgithub.com%252Fploomber%252Fprojects%26urlpath%3Dlab%252Ftree%252Fprojects%252Fspec-api-python%252FREADME.ipynb%26branch%3Dmaster)\n",
    "\n",
    "[![deepnote-logo](https://deepnote.com/buttons/launch-in-deepnote-small.svg)](https://deepnote.com/launch?template=deepnote&url=https://github.com/ploomber/projects/blob/master/spec-api-python/README.ipynb)\n"
   ]
  },
  {
   "cell_type": "markdown",
   "id": "dramatic-microwave",
   "metadata": {
    "papermill": {
     "duration": 0.013771,
     "end_time": "2021-05-10T14:59:52.043720",
     "exception": false,
     "start_time": "2021-05-10T14:59:52.029949",
     "status": "completed"
    },
    "tags": []
   },
   "source": [
    "# Your first Python pipeline\n",
    "\n",
    "This guide shows you how to run your first Ploomber pipeline.\n",
    "\n",
    "**Note:** This is intended for a quick and interactive experience. If you want\n",
    "to learn about Ploomber's core concepts and design rationale, go to the\n",
    "[the next tutorial](https://ploomber.readthedocs.io/en/stable/get-started/basic-concepts.html)\n",
    "\n",
    "## Setup (skip if using deepnote or binder)\n",
    "\n",
    "Get code (run in a terminal):\n",
    "\n",
    "~~~sh\n",
    "git clone https://github.com/ploomber/projects\n",
    "cd projects/spec-api-python\n",
    "~~~\n",
    "\n",
    "Install dependencies:\n",
    "\n",
    "~~~sh\n",
    "# if using conda\n",
    "conda env create --file environment.yaml\n",
    "conda activate spec-api-python\n",
    "\n",
    "# otherwise use pip directly\n",
    "pip install -r requirements.txt\n",
    "~~~\n",
    "\n",
    "## Description\n",
    "\n",
    "This pipeline contains 3 **tasks**, the first task `get.py` gets some data,\n",
    "`clean.py` cleans it and `plot.py` generates a visualization:"
   ]
  },
  {
   "cell_type": "code",
   "execution_count": 1,
   "id": "resistant-forty",
   "metadata": {
    "execution": {
     "iopub.execute_input": "2021-05-10T14:59:52.081224Z",
     "iopub.status.busy": "2021-05-10T14:59:52.080412Z",
     "iopub.status.idle": "2021-05-10T14:59:52.148177Z",
     "shell.execute_reply": "2021-05-10T14:59:52.148689Z"
    },
    "papermill": {
     "duration": 0.090622,
     "end_time": "2021-05-10T14:59:52.149000",
     "exception": false,
     "start_time": "2021-05-10T14:59:52.058378",
     "status": "completed"
    },
    "tags": [
     "bash"
    ]
   },
   "outputs": [
    {
     "name": "stdout",
     "output_type": "stream",
     "text": [
      "clean.py\n",
      "plot.py\n",
      "raw.py\n"
     ]
    }
   ],
   "source": [
    "%%sh\n",
    "ls *.py"
   ]
  },
  {
   "cell_type": "markdown",
   "id": "adjacent-tours",
   "metadata": {
    "papermill": {
     "duration": 0.014693,
     "end_time": "2021-05-10T14:59:52.178492",
     "exception": false,
     "start_time": "2021-05-10T14:59:52.163799",
     "status": "completed"
    },
    "tags": []
   },
   "source": [
    "These three scripts make up our pipeline (or **DAG**), which is a collection\n",
    "of tasks with a pre-defined execution order.\n",
    "\n",
    "**Note:** These tasks are Python scripts, but you can use functions, notebooks,\n",
    "and even SQL scripts. The next guide explains how other types of tasks work.\n",
    "\n",
    "Ploomber integrates with Jupyter. If you open the scripts inside the\n",
    "`jupyter notebook` app, they will render as notebooks. If you're using `jupyter lab`, you need to right click -> open with -> Notebook as depicted below:\n",
    "\n",
    "![lab-open-with-nb](https://ploomber.io/doc/lab-open-with-notebook.png)\n",
    "\n",
    "Along with the `*.py` files, there is a `pipeline.yaml` file where we declare\n",
    "which files we use as tasks:"
   ]
  },
  {
   "cell_type": "code",
   "execution_count": 2,
   "id": "stable-flood",
   "metadata": {
    "execution": {
     "iopub.execute_input": "2021-05-10T14:59:52.213994Z",
     "iopub.status.busy": "2021-05-10T14:59:52.213242Z",
     "iopub.status.idle": "2021-05-10T14:59:52.270780Z",
     "shell.execute_reply": "2021-05-10T14:59:52.271275Z"
    },
    "papermill": {
     "duration": 0.077899,
     "end_time": "2021-05-10T14:59:52.271510",
     "exception": false,
     "start_time": "2021-05-10T14:59:52.193611",
     "status": "completed"
    },
    "tags": [
     "bash"
    ]
   },
   "outputs": [
    {
     "name": "stdout",
     "output_type": "stream",
     "text": [
      "tasks:\n",
      "  - source: raw.py\n",
      "    product:\n",
      "      nb: output/raw.ipynb\n",
      "      data: output/data.csv\n",
      "\n",
      "  - source: clean.py\n",
      "    product:\n",
      "      nb: output/clean.ipynb\n",
      "      data: output/clean.csv\n",
      "\n",
      "  - source: plot.py\n",
      "    product: output/plot.ipynb\n"
     ]
    }
   ],
   "source": [
    "%%sh\n",
    "cat pipeline.yaml"
   ]
  },
  {
   "cell_type": "markdown",
   "id": "sonic-wings",
   "metadata": {
    "papermill": {
     "duration": 0.01501,
     "end_time": "2021-05-10T14:59:52.302148",
     "exception": false,
     "start_time": "2021-05-10T14:59:52.287138",
     "status": "completed"
    },
    "tags": []
   },
   "source": [
    "**Note:** The `pipeline.yaml` file is optional, but it gives you more flexibility.\n",
    "[Click here](https://github.com/ploomber/projects/tree/master/spec-api-directory) to see an example without a `pipeline.yaml` file."
   ]
  },
  {
   "cell_type": "markdown",
   "id": "sustainable-contribution",
   "metadata": {
    "papermill": {
     "duration": 0.01426,
     "end_time": "2021-05-10T14:59:52.331099",
     "exception": false,
     "start_time": "2021-05-10T14:59:52.316839",
     "status": "completed"
    },
    "tags": []
   },
   "source": [
    "Let's plot the pipeline:"
   ]
  },
  {
   "cell_type": "code",
   "execution_count": 3,
   "id": "level-spanish",
   "metadata": {
    "execution": {
     "iopub.execute_input": "2021-05-10T14:59:52.366004Z",
     "iopub.status.busy": "2021-05-10T14:59:52.364168Z",
     "iopub.status.idle": "2021-05-10T14:59:56.407734Z",
     "shell.execute_reply": "2021-05-10T14:59:56.408536Z"
    },
    "papermill": {
     "duration": 4.063474,
     "end_time": "2021-05-10T14:59:56.408816",
     "exception": false,
     "start_time": "2021-05-10T14:59:52.345342",
     "status": "completed"
    },
    "tags": [
     "bash"
    ]
   },
   "outputs": [
    {
     "name": "stdout",
     "output_type": "stream",
     "text": [
      "Plot saved at: pipeline.png\n"
     ]
    },
    {
     "name": "stderr",
     "output_type": "stream",
     "text": [
      "100%|██████████| 3/3 [00:00<00:00, 8974.97it/s]\n"
     ]
    }
   ],
   "source": [
    "%%sh\n",
    "# Note: plotting doesn't work in deepnote\n",
    "ploomber plot"
   ]
  },
  {
   "cell_type": "code",
   "execution_count": 4,
   "id": "greater-worry",
   "metadata": {
    "execution": {
     "iopub.execute_input": "2021-05-10T14:59:56.454545Z",
     "iopub.status.busy": "2021-05-10T14:59:56.447630Z",
     "iopub.status.idle": "2021-05-10T14:59:56.459136Z",
     "shell.execute_reply": "2021-05-10T14:59:56.458582Z"
    },
    "papermill": {
     "duration": 0.033481,
     "end_time": "2021-05-10T14:59:56.459341",
     "exception": false,
     "start_time": "2021-05-10T14:59:56.425860",
     "status": "completed"
    },
    "tags": []
   },
   "outputs": [
    {
     "data": {
      "image/png": "[encoded data removed]",
      "text/plain": [
       "<IPython.core.display.Image object>"
      ]
     },
     "execution_count": 4,
     "metadata": {},
     "output_type": "execute_result"
    }
   ],
   "source": [
    "\n",
    "from IPython.display import Image\n",
    "Image(filename='pipeline.png')"
   ]
  },
  {
   "cell_type": "markdown",
   "id": "excessive-lounge",
   "metadata": {
    "papermill": {
     "duration": 0.019413,
     "end_time": "2021-05-10T14:59:56.496544",
     "exception": false,
     "start_time": "2021-05-10T14:59:56.477131",
     "status": "completed"
    },
    "tags": []
   },
   "source": [
    "The `status` command gives us an overview of the pipeline:"
   ]
  },
  {
   "cell_type": "code",
   "execution_count": 5,
   "id": "threatened-biography",
   "metadata": {
    "execution": {
     "iopub.execute_input": "2021-05-10T14:59:56.535916Z",
     "iopub.status.busy": "2021-05-10T14:59:56.535178Z",
     "iopub.status.idle": "2021-05-10T14:59:58.917334Z",
     "shell.execute_reply": "2021-05-10T14:59:58.916667Z"
    },
    "papermill": {
     "duration": 2.403187,
     "end_time": "2021-05-10T14:59:58.917529",
     "exception": false,
     "start_time": "2021-05-10T14:59:56.514342",
     "status": "completed"
    },
    "tags": [
     "bash"
    ]
   },
   "outputs": [
    {
     "name": "stdout",
     "output_type": "stream",
     "text": [
      "name    Last run      Outdated?    Product       Doc (short)    Location\n",
      "------  ------------  -----------  ------------  -------------  ------------\n",
      "raw     Has not been  Source code  MetaProduct(                 /Users/Edu/d\n",
      "        run                        {'data': Fil                 ev/projects-\n",
      "                                   e('output/da                 ploomber/spe\n",
      "                                   ta.csv'),                    c-api-python\n",
      "                                   'nb': File('                 /raw.py\n",
      "                                   output/raw.i\n",
      "                                   pynb')})\n",
      "clean   Has not been  Source code  MetaProduct(                 /Users/Edu/d\n",
      "        run           & Upstream   {'data': Fil                 ev/projects-\n",
      "                                   e('output/cl                 ploomber/spe\n",
      "                                   ean.csv'),                   c-api-python\n",
      "                                   'nb': File('                 /clean.py\n",
      "                                   output/clean\n",
      "                                   .ipynb')})\n",
      "plot    Has not been  Source code  File('output                 /Users/Edu/d\n",
      "        run           & Upstream   /plot.ipynb'                 ev/projects-\n",
      "                                   )                            ploomber/spe\n",
      "                                                                c-api-python\n",
      "                                                                /plot.py\n"
     ]
    },
    {
     "name": "stderr",
     "output_type": "stream",
     "text": [
      "100%|██████████| 3/3 [00:00<00:00, 9439.54it/s]\n"
     ]
    }
   ],
   "source": [
    "%%sh\n",
    "ploomber status"
   ]
  },
  {
   "cell_type": "markdown",
   "id": "corporate-sweden",
   "metadata": {
    "papermill": {
     "duration": 0.017838,
     "end_time": "2021-05-10T14:59:58.953162",
     "exception": false,
     "start_time": "2021-05-10T14:59:58.935324",
     "status": "completed"
    },
    "tags": []
   },
   "source": [
    "## How is execution order determined?\n",
    "\n",
    "Ploomber infers the pipeline structure from your code. If task B uses the output from\n",
    "task A as input, we say A is an **upstream** dependency of B. For example, to\n",
    "clean the data, we must get it first; hence, we declare the following in `clean.py`:\n",
    "\n",
    "~~~python\n",
    "# execute 'raw\" task before 'clean'\n",
    "upstream = ['raw']\n",
    "~~~\n",
    "\n",
    "Once we finish cleaning the data, we must save it somewhere (this is known\n",
    "as a **product**). Products can be files or SQL relations. Our current example\n",
    "only generates files.\n",
    "\n",
    "To specify where to save the output of each task, we use the `product`\n",
    "key. For example, the `raw` task definition looks like this:\n",
    "\n",
    "~~~yaml\n",
    "- source: raw.py\n",
    "  product:\n",
    "    nb: output/raw.ipynb\n",
    "    data: output/data.csv\n",
    "~~~"
   ]
  },
  {
   "cell_type": "markdown",
   "id": "micro-cooperative",
   "metadata": {
    "papermill": {
     "duration": 0.020291,
     "end_time": "2021-05-10T14:59:58.992790",
     "exception": false,
     "start_time": "2021-05-10T14:59:58.972499",
     "status": "completed"
    },
    "tags": []
   },
   "source": [
    "Scripts and notebooks automatically generate a copy of themselves in Jupyter\n",
    "notebook format (`.ipynb`). That's why we see a notebook in the `product`\n",
    "dictionary (`nb` key). The notebook format allows us to generate standalone\n",
    "files with charts and tables, no need to write extra code to save our charts!\n",
    "\n",
    "Notebooks as pipeline products are crucial concepts: `raw.py` is part of the pipeline's\n",
    "source code but `output/raw.ipynb` is not. It is an artifact generated by the source code.\n",
    "\n",
    "If you don't want to generate output notebooks, you can use a Python function\n",
    "as tasks. Our upcoming tutorial goes deeper into the different types of tasks available.\n",
    "\n",
    "## Building the pipeline\n",
    "\n",
    "Let's build the pipeline:"
   ]
  },
  {
   "cell_type": "code",
   "execution_count": 6,
   "id": "affected-geology",
   "metadata": {
    "execution": {
     "iopub.execute_input": "2021-05-10T14:59:59.049751Z",
     "iopub.status.busy": "2021-05-10T14:59:59.048902Z",
     "iopub.status.idle": "2021-05-10T15:00:08.818687Z",
     "shell.execute_reply": "2021-05-10T15:00:08.819190Z"
    },
    "papermill": {
     "duration": 9.800063,
     "end_time": "2021-05-10T15:00:08.819395",
     "exception": false,
     "start_time": "2021-05-10T14:59:59.019332",
     "status": "completed"
    },
    "tags": [
     "bash"
    ]
   },
   "outputs": [
    {
     "name": "stdout",
     "output_type": "stream",
     "text": [
      "name    Ran?      Elapsed (s)    Percentage\n",
      "------  ------  -------------  ------------\n",
      "raw     True          2.91123       38.6462\n",
      "clean   True          1.84655       24.5127\n",
      "plot    True          2.77525       36.8411\n"
     ]
    },
    {
     "name": "stderr",
     "output_type": "stream",
     "text": [
      "Building task \"raw\":   0%|          | 0/3 [00:00<?, ?it/s]\n",
      "Executing:   0%|          | 0/5 [00:00<?, ?cell/s]\u001b[A\n",
      "Executing: 100%|██████████| 5/5 [00:02<00:00,  1.73cell/s]\n",
      "Building task \"clean\":  33%|███▎      | 1/3 [00:02<00:05,  2.92s/it]\n",
      "Executing:   0%|          | 0/5 [00:00<?, ?cell/s]\u001b[A\n",
      "Executing: 100%|██████████| 5/5 [00:01<00:00,  2.73cell/s]\n",
      "Building task \"plot\":  67%|██████▋   | 2/3 [00:04<00:02,  2.29s/it] \n",
      "Executing:   0%|          | 0/7 [00:00<?, ?cell/s]\u001b[A\n",
      "Executing:  14%|█▍        | 1/7 [00:01<00:11,  1.87s/cell]\u001b[A\n",
      "Executing:  71%|███████▏  | 5/7 [00:02<00:00,  2.95cell/s]\u001b[A\n",
      "Executing: 100%|██████████| 7/7 [00:02<00:00,  2.55cell/s]\n",
      "Building task \"plot\": 100%|██████████| 3/3 [00:07<00:00,  2.52s/it]\n"
     ]
    }
   ],
   "source": [
    "%%sh\n",
    "mkdir output\n",
    "ploomber build"
   ]
  },
  {
   "cell_type": "markdown",
   "id": "backed-rachel",
   "metadata": {
    "papermill": {
     "duration": 0.017125,
     "end_time": "2021-05-10T15:00:08.854467",
     "exception": false,
     "start_time": "2021-05-10T15:00:08.837342",
     "status": "completed"
    },
    "tags": []
   },
   "source": [
    "This pipeline saves all the output in the `output/` directory; we have a few\n",
    "data files:"
   ]
  },
  {
   "cell_type": "code",
   "execution_count": 7,
   "id": "jewish-prairie",
   "metadata": {
    "execution": {
     "iopub.execute_input": "2021-05-10T15:00:08.897865Z",
     "iopub.status.busy": "2021-05-10T15:00:08.896911Z",
     "iopub.status.idle": "2021-05-10T15:00:08.957367Z",
     "shell.execute_reply": "2021-05-10T15:00:08.957994Z"
    },
    "papermill": {
     "duration": 0.085042,
     "end_time": "2021-05-10T15:00:08.958246",
     "exception": false,
     "start_time": "2021-05-10T15:00:08.873204",
     "status": "completed"
    },
    "tags": [
     "bash"
    ]
   },
   "outputs": [
    {
     "name": "stdout",
     "output_type": "stream",
     "text": [
      "output/clean.csv\n",
      "output/data.csv\n"
     ]
    }
   ],
   "source": [
    "%%sh\n",
    "ls output/*.csv"
   ]
  },
  {
   "cell_type": "markdown",
   "id": "chinese-wrist",
   "metadata": {
    "papermill": {
     "duration": 0.020754,
     "end_time": "2021-05-10T15:00:08.997061",
     "exception": false,
     "start_time": "2021-05-10T15:00:08.976307",
     "status": "completed"
    },
    "tags": []
   },
   "source": [
    "And a notebook for each script:"
   ]
  },
  {
   "cell_type": "code",
   "execution_count": 8,
   "id": "fatal-iraqi",
   "metadata": {
    "execution": {
     "iopub.execute_input": "2021-05-10T15:00:09.042032Z",
     "iopub.status.busy": "2021-05-10T15:00:09.040592Z",
     "iopub.status.idle": "2021-05-10T15:00:09.101848Z",
     "shell.execute_reply": "2021-05-10T15:00:09.101274Z"
    },
    "papermill": {
     "duration": 0.084217,
     "end_time": "2021-05-10T15:00:09.102108",
     "exception": false,
     "start_time": "2021-05-10T15:00:09.017891",
     "status": "completed"
    },
    "tags": [
     "bash"
    ]
   },
   "outputs": [
    {
     "name": "stdout",
     "output_type": "stream",
     "text": [
      "output/clean.ipynb\n",
      "output/plot.ipynb\n",
      "output/raw.ipynb\n"
     ]
    }
   ],
   "source": [
    "%%sh\n",
    "ls output/*.ipynb"
   ]
  },
  {
   "cell_type": "markdown",
   "id": "secret-veteran",
   "metadata": {
    "papermill": {
     "duration": 0.020488,
     "end_time": "2021-05-10T15:00:09.142301",
     "exception": false,
     "start_time": "2021-05-10T15:00:09.121813",
     "status": "completed"
    },
    "tags": []
   },
   "source": [
    "## Updating the pipeline\n",
    "\n",
    "Quick experimentation is essential to develop a data pipeline. Ploomber allows\n",
    "you to quickly run new experiments without having to keep track of tasks\n",
    "dependencies.\n",
    "\n",
    "Let's say you found a problematic column in the data and want to add more\n",
    "cleaning logic to your `clean.py` script. `raw.py` does not depend\n",
    "on `clean.py`, but `plot.py` does. If you modify `clean.py`, you'd have\n",
    "to execute `clean.py` and then `plot.py` to bring your pipeline up-to-date.\n",
    "\n",
    "As your pipeline grows, keeping track of task dependencies gets time-consuming.\n",
    "Ploomber does that for you and only executes outdated tasks on each run.\n",
    "\n",
    "Make some changes to the `clean.py` script, then build again:"
   ]
  },
  {
   "cell_type": "code",
   "execution_count": 9,
   "id": "collective-simpson",
   "metadata": {
    "execution": {
     "iopub.execute_input": "2021-05-10T15:00:09.185657Z",
     "iopub.status.busy": "2021-05-10T15:00:09.184842Z",
     "iopub.status.idle": "2021-05-10T15:00:11.737588Z",
     "shell.execute_reply": "2021-05-10T15:00:11.738101Z"
    },
    "papermill": {
     "duration": 2.577645,
     "end_time": "2021-05-10T15:00:11.738306",
     "exception": false,
     "start_time": "2021-05-10T15:00:09.160661",
     "status": "completed"
    },
    "tags": [
     "bash"
    ]
   },
   "outputs": [
    {
     "name": "stdout",
     "output_type": "stream",
     "text": [
      "name    Ran?      Elapsed (s)    Percentage\n",
      "------  ------  -------------  ------------\n",
      "raw     False               0             0\n",
      "clean   False               0             0\n",
      "plot    False               0             0\n"
     ]
    },
    {
     "name": "stderr",
     "output_type": "stream",
     "text": [
      "0it [00:00, ?it/s]\n"
     ]
    }
   ],
   "source": [
    "%%sh\n",
    "ploomber build"
   ]
  },
  {
   "cell_type": "markdown",
   "id": "electric-shift",
   "metadata": {
    "papermill": {
     "duration": 0.021307,
     "end_time": "2021-05-10T15:00:11.782296",
     "exception": false,
     "start_time": "2021-05-10T15:00:11.760989",
     "status": "completed"
    },
    "tags": []
   },
   "source": [
    "You'll see that `raw.py` didn't run because it was not affected by the change! Try modifying any of the other tasks, then come\n",
    "back and run `ploomber build`."
   ]
  },
  {
   "cell_type": "markdown",
   "id": "better-gathering",
   "metadata": {
    "papermill": {
     "duration": 0.018132,
     "end_time": "2021-05-10T15:00:11.820140",
     "exception": false,
     "start_time": "2021-05-10T15:00:11.802008",
     "status": "completed"
    },
    "tags": []
   },
   "source": [
    "## Where to go from here\n",
    "\n",
    "This tutorial showed how to build a pipeline with Ploomber; however, it only\n",
    "superficially covered Ploomber's core concepts and design rationale. [the upcoming\n",
    "tutorial](https://ploomber.readthedocs.io/en/stable/get-started/basic-concepts.html)\n",
    "goes deeper in those terms."
   ]
  }
 ],
 "metadata": {
  "jupytext": {
   "cell_metadata_filter": "tags,-all",
   "main_language": "bash",
   "notebook_metadata_filter": "-all"
  },
  "kernelspec": {
   "display_name": "Python 3",
   "language": "python",
   "name": "python3"
  },
  "language_info": {
   "codemirror_mode": {
    "name": "ipython",
    "version": 3
   },
   "file_extension": ".py",
   "mimetype": "text/x-python",
   "name": "python",
   "nbconvert_exporter": "python",
   "pygments_lexer": "ipython3",
   "version": "3.7.10"
  },
  "papermill": {
   "duration": 21.065769,
   "end_time": "2021-05-10T15:00:12.148249",
   "exception": null,
   "input_path": "/var/folders/3h/_lvh_w_x5g30rrjzb_xnn2j80000gq/T/tmpaaoijjbh.ipynb",
   "output_path": "spec-api-python/README.ipynb",
   "parameters": {
    "product": "spec-api-python/README.ipynb"
   },
   "start_time": "2021-05-10T14:59:51.082480"
  }
 },
 "nbformat": 4,
 "nbformat_minor": 5
}
