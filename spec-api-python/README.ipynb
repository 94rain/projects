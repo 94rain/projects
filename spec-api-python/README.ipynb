{
 "cells": [
  {
   "cell_type": "markdown",
   "id": "insured-heater",
   "metadata": {
    "papermill": {
     "duration": 0.01934,
     "end_time": "2021-03-14T00:40:25.578027",
     "exception": false,
     "start_time": "2021-03-14T00:40:25.558687",
     "status": "completed"
    },
    "tags": []
   },
   "source": [
    "\n",
    "*Note:* You can run this from your computer (Jupyter or terminal), or use one of the\n",
    "hosted options:\n",
    "\n",
    "[![binder-logo](https://mybinder.org/badge_logo.svg)](https://mybinder.org/v2/gh/ploomber/binder-env/main?urlpath=git-pull%3Frepo%3Dhttps%253A%252F%252Fgithub.com%252Fploomber%252Fprojects%26urlpath%3Dlab%252Ftree%252Fprojects%252Fspec-api-python%252FREADME.ipynb%26branch%3Dmaster)\n",
    "\n",
    "[![deepnote-logo](https://deepnote.com/buttons/launch-in-deepnote-small.svg)](https://deepnote.com/launch?template=deepnote&url=https://github.com/ploomber/projects/blob/master/spec-api-python/README.ipynb)\n"
   ]
  },
  {
   "cell_type": "markdown",
   "id": "necessary-vitamin",
   "metadata": {
    "papermill": {
     "duration": 0.012573,
     "end_time": "2021-03-14T00:40:25.603161",
     "exception": false,
     "start_time": "2021-03-14T00:40:25.590588",
     "status": "completed"
    },
    "tags": []
   },
   "source": [
    "# Your first Python pipeline\n",
    "\n",
    "This guide shows you how to run your first Ploomber pipeline.\n",
    "\n",
    "**Note:** This is intended for a quick and interactive experience. If you want\n",
    "to learn about Ploomber's core concepts and design rationale, go to the\n",
    "[the next tutorial](https://ploomber.readthedocs.io/en/stable/get-started/basic-concepts.html)\n",
    "\n",
    "## Setup (skip if using deepnote or binder)\n",
    "\n",
    "Get code (run in a terminal):\n",
    "\n",
    "~~~sh\n",
    "git clone https://github.com/ploomber/projects\n",
    "cd projects/spec-api-python\n",
    "~~~\n",
    "\n",
    "Install dependencies:\n",
    "\n",
    "~~~sh\n",
    "# if using conda\n",
    "conda env create --file environment.yaml\n",
    "conda activate spec-api-python\n",
    "\n",
    "# otherwise use pip directly\n",
    "pip install -r requirements.txt\n",
    "~~~\n",
    "\n",
    "## Description\n",
    "\n",
    "This pipeline contains 3 **tasks**, the first task `get.py` gets some data,\n",
    "`clean.py` cleans it and `plot.py` generates a visualization:"
   ]
  },
  {
   "cell_type": "code",
   "execution_count": 1,
   "id": "focused-swiss",
   "metadata": {
    "execution": {
     "iopub.execute_input": "2021-03-14T00:40:25.643012Z",
     "iopub.status.busy": "2021-03-14T00:40:25.642254Z",
     "iopub.status.idle": "2021-03-14T00:40:25.700518Z",
     "shell.execute_reply": "2021-03-14T00:40:25.701022Z"
    },
    "papermill": {
     "duration": 0.081316,
     "end_time": "2021-03-14T00:40:25.701330",
     "exception": false,
     "start_time": "2021-03-14T00:40:25.620014",
     "status": "completed"
    },
    "tags": [
     "bash"
    ]
   },
   "outputs": [
    {
     "name": "stdout",
     "output_type": "stream",
     "text": [
      "clean.py\n",
      "plot.py\n",
      "raw.py\n"
     ]
    }
   ],
   "source": [
    "%%sh\n",
    "ls *.py"
   ]
  },
  {
   "cell_type": "markdown",
   "id": "naughty-ordering",
   "metadata": {
    "papermill": {
     "duration": 0.013675,
     "end_time": "2021-03-14T00:40:25.728830",
     "exception": false,
     "start_time": "2021-03-14T00:40:25.715155",
     "status": "completed"
    },
    "tags": []
   },
   "source": [
    "These three scripts make up our pipeline (or **DAG**), which is a collection\n",
    "of tasks with a pre-defined execution order.\n",
    "\n",
    "**Note:** These tasks are Python scripts, but you can use functions, notebooks,\n",
    "and even SQL scripts. The following guide explains how other types of tasks work.\n",
    "\n",
    "Along with the `*.py` files, there is a `pipeline.yaml` file where we declare\n",
    "which files we use as tasks:"
   ]
  },
  {
   "cell_type": "code",
   "execution_count": 2,
   "id": "hearing-circulation",
   "metadata": {
    "execution": {
     "iopub.execute_input": "2021-03-14T00:40:25.760554Z",
     "iopub.status.busy": "2021-03-14T00:40:25.759772Z",
     "iopub.status.idle": "2021-03-14T00:40:25.815724Z",
     "shell.execute_reply": "2021-03-14T00:40:25.816227Z"
    },
    "papermill": {
     "duration": 0.073864,
     "end_time": "2021-03-14T00:40:25.816458",
     "exception": false,
     "start_time": "2021-03-14T00:40:25.742594",
     "status": "completed"
    },
    "tags": [
     "bash"
    ]
   },
   "outputs": [
    {
     "name": "stdout",
     "output_type": "stream",
     "text": [
      "tasks:\n",
      "  - source: raw.py\n",
      "    product:\n",
      "      nb: output/raw.ipynb\n",
      "      data: output/data.csv\n",
      "\n",
      "  - source: clean.py\n",
      "    product:\n",
      "      nb: output/clean.ipynb\n",
      "      data: output/clean.csv\n",
      "\n",
      "  - source: plot.py\n",
      "    product: output/plot.ipynb\n"
     ]
    }
   ],
   "source": [
    "%%sh\n",
    "cat pipeline.yaml"
   ]
  },
  {
   "cell_type": "markdown",
   "id": "rapid-sterling",
   "metadata": {
    "papermill": {
     "duration": 0.01337,
     "end_time": "2021-03-14T00:40:25.844032",
     "exception": false,
     "start_time": "2021-03-14T00:40:25.830662",
     "status": "completed"
    },
    "tags": []
   },
   "source": [
    "**Note:** The `pipeline.yaml` file is optional, but it gives you more flexibility.\n",
    "[Click here](https://github.com/ploomber/projects/tree/master/spec-api-directory) to see an example without a `pipeline.yaml` file."
   ]
  },
  {
   "cell_type": "markdown",
   "id": "accessory-vacuum",
   "metadata": {
    "papermill": {
     "duration": 0.014096,
     "end_time": "2021-03-14T00:40:25.872118",
     "exception": false,
     "start_time": "2021-03-14T00:40:25.858022",
     "status": "completed"
    },
    "tags": []
   },
   "source": [
    "Let's plot the pipeline:"
   ]
  },
  {
   "cell_type": "code",
   "execution_count": 3,
   "id": "olive-fantasy",
   "metadata": {
    "execution": {
     "iopub.execute_input": "2021-03-14T00:40:25.907036Z",
     "iopub.status.busy": "2021-03-14T00:40:25.904071Z",
     "iopub.status.idle": "2021-03-14T00:40:28.823630Z",
     "shell.execute_reply": "2021-03-14T00:40:28.824345Z"
    },
    "papermill": {
     "duration": 2.939167,
     "end_time": "2021-03-14T00:40:28.824582",
     "exception": false,
     "start_time": "2021-03-14T00:40:25.885415",
     "status": "completed"
    },
    "tags": [
     "bash"
    ]
   },
   "outputs": [
    {
     "name": "stdout",
     "output_type": "stream",
     "text": [
      "Plot saved at: pipeline.png\n"
     ]
    },
    {
     "name": "stderr",
     "output_type": "stream",
     "text": [
      "100%|██████████| 3/3 [00:00<00:00, 8355.19it/s]\n"
     ]
    }
   ],
   "source": [
    "%%sh\n",
    "# Note: plotting doesn't work in deepnote\n",
    "ploomber plot"
   ]
  },
  {
   "cell_type": "code",
   "execution_count": 4,
   "id": "medieval-complaint",
   "metadata": {
    "execution": {
     "iopub.execute_input": "2021-03-14T00:40:28.859100Z",
     "iopub.status.busy": "2021-03-14T00:40:28.858148Z",
     "iopub.status.idle": "2021-03-14T00:40:28.868295Z",
     "shell.execute_reply": "2021-03-14T00:40:28.869031Z"
    },
    "papermill": {
     "duration": 0.030367,
     "end_time": "2021-03-14T00:40:28.869278",
     "exception": false,
     "start_time": "2021-03-14T00:40:28.838911",
     "status": "completed"
    },
    "tags": []
   },
   "outputs": [
    {
     "data": {
      "image/png": "[encoded data removed]",
      "text/plain": [
       "<IPython.core.display.Image object>"
      ]
     },
     "execution_count": 4,
     "metadata": {},
     "output_type": "execute_result"
    }
   ],
   "source": [
    "\n",
    "from IPython.display import Image\n",
    "Image(filename='pipeline.png')"
   ]
  },
  {
   "cell_type": "markdown",
   "id": "verified-product",
   "metadata": {
    "papermill": {
     "duration": 0.01533,
     "end_time": "2021-03-14T00:40:28.899397",
     "exception": false,
     "start_time": "2021-03-14T00:40:28.884067",
     "status": "completed"
    },
    "tags": []
   },
   "source": [
    "The `status` command gives us an overview of the pipeline:"
   ]
  },
  {
   "cell_type": "code",
   "execution_count": 5,
   "id": "assigned-smell",
   "metadata": {
    "execution": {
     "iopub.execute_input": "2021-03-14T00:40:28.932814Z",
     "iopub.status.busy": "2021-03-14T00:40:28.932073Z",
     "iopub.status.idle": "2021-03-14T00:40:30.940419Z",
     "shell.execute_reply": "2021-03-14T00:40:30.940932Z"
    },
    "papermill": {
     "duration": 2.02692,
     "end_time": "2021-03-14T00:40:30.941140",
     "exception": false,
     "start_time": "2021-03-14T00:40:28.914220",
     "status": "completed"
    },
    "tags": [
     "bash"
    ]
   },
   "outputs": [
    {
     "name": "stdout",
     "output_type": "stream",
     "text": [
      "name    Last run      Outdated?    Product        Doc (short)    Location\n",
      "------  ------------  -----------  -------------  -------------  -------------\n",
      "raw     15 minutes    False        MetaProduct({                 /Users/Edu/de\n",
      "        ago (Mar 13,               'data': File(                 v/projects-pl\n",
      "        21 at 18:25)               'output/data.                 oomber/spec-\n",
      "                                   csv'), 'nb':                  api-\n",
      "                                   File('output/                 python/raw.py\n",
      "                                   raw.ipynb')})\n",
      "clean   15 minutes    False        MetaProduct({                 /Users/Edu/de\n",
      "        ago (Mar 13,               'data': File(                 v/projects-pl\n",
      "        21 at 18:25)               'output/clean                 oomber/spec-\n",
      "                                   .csv'), 'nb':                 api-python/cl\n",
      "                                   File('output/                 ean.py\n",
      "                                   clean.ipynb')\n",
      "                                   })\n",
      "plot    15 minutes    False        File('output/                 /Users/Edu/de\n",
      "        ago (Mar 13,               plot.ipynb')                  v/projects-pl\n",
      "        21 at 18:25)                                             oomber/spec-\n",
      "                                                                 api-python/pl\n",
      "                                                                 ot.py\n"
     ]
    },
    {
     "name": "stderr",
     "output_type": "stream",
     "text": [
      "100%|██████████| 3/3 [00:00<00:00, 9994.37it/s]\n"
     ]
    }
   ],
   "source": [
    "%%sh\n",
    "ploomber status"
   ]
  },
  {
   "cell_type": "markdown",
   "id": "strong-march",
   "metadata": {
    "papermill": {
     "duration": 0.016385,
     "end_time": "2021-03-14T00:40:30.973013",
     "exception": false,
     "start_time": "2021-03-14T00:40:30.956628",
     "status": "completed"
    },
    "tags": []
   },
   "source": [
    "## How is execution order determined?\n",
    "\n",
    "Ploomber infers the pipeline structure from your code. If task B uses the output from\n",
    "task A as input, we say A is an **upstream** dependency of B. For example, to\n",
    "clean the data, we must get it first; hence, we declare the following in `clean.py`:\n",
    "\n",
    "~~~python\n",
    "# execute 'raw\" task before 'clean'\n",
    "upstream = ['raw']\n",
    "~~~\n",
    "\n",
    "Once we finish cleaning the data, we must save it somewhere (this is known\n",
    "as a **product**). Products can be files or SQL relations. Our current example\n",
    "only generates files.\n",
    "\n",
    "To specify where to save the output of each task, we use the `product`\n",
    "key. For example, the `raw` task definition looks like this:\n",
    "\n",
    "~~~yaml\n",
    "- source: raw.py\n",
    "  product:\n",
    "    nb: output/raw.ipynb\n",
    "    data: output/data.csv\n",
    "~~~"
   ]
  },
  {
   "cell_type": "markdown",
   "id": "unavailable-metropolitan",
   "metadata": {
    "papermill": {
     "duration": 0.016598,
     "end_time": "2021-03-14T00:40:31.006558",
     "exception": false,
     "start_time": "2021-03-14T00:40:30.989960",
     "status": "completed"
    },
    "tags": []
   },
   "source": [
    "Scripts and notebooks automatically generate a copy of themselves in Jupyter\n",
    "notebook format (`.ipynb`). That's why we see a notebook in the `product`\n",
    "dictionary (`nb` key). The notebook format allows us to generate standalone\n",
    "files with charts and tables, no need to write extra code to save our charts!\n",
    "\n",
    "Notebooks as pipeline products are crucial concepts: `raw.py` is part of the pipeline's\n",
    "source code but `output/raw.ipynb` is not. It is an artifact generated by the source code.\n",
    "\n",
    "If you don't want to generate output notebooks, you can use a Python function\n",
    "as tasks. Our following tutorial goes deeper into the different types of tasks\n",
    "available.\n",
    "\n",
    "## Building the pipeline\n",
    "\n",
    "Let's build the pipeline:"
   ]
  },
  {
   "cell_type": "code",
   "execution_count": 6,
   "id": "structured-jewel",
   "metadata": {
    "execution": {
     "iopub.execute_input": "2021-03-14T00:40:31.043556Z",
     "iopub.status.busy": "2021-03-14T00:40:31.042775Z",
     "iopub.status.idle": "2021-03-14T00:40:33.052221Z",
     "shell.execute_reply": "2021-03-14T00:40:33.052785Z"
    },
    "papermill": {
     "duration": 2.029539,
     "end_time": "2021-03-14T00:40:33.052991",
     "exception": false,
     "start_time": "2021-03-14T00:40:31.023452",
     "status": "completed"
    },
    "tags": [
     "bash"
    ]
   },
   "outputs": [
    {
     "name": "stdout",
     "output_type": "stream",
     "text": [
      "name    Ran?      Elapsed (s)    Percentage\n",
      "------  ------  -------------  ------------\n",
      "raw     False               0             0\n",
      "clean   False               0             0\n",
      "plot    False               0             0\n"
     ]
    },
    {
     "name": "stderr",
     "output_type": "stream",
     "text": [
      "mkdir: output: File exists\n",
      "0it [00:00, ?it/s]\n"
     ]
    }
   ],
   "source": [
    "%%sh\n",
    "mkdir output\n",
    "ploomber build"
   ]
  },
  {
   "cell_type": "markdown",
   "id": "bored-james",
   "metadata": {
    "papermill": {
     "duration": 0.017894,
     "end_time": "2021-03-14T00:40:33.087718",
     "exception": false,
     "start_time": "2021-03-14T00:40:33.069824",
     "status": "completed"
    },
    "tags": []
   },
   "source": [
    "This pipeline saves all the output in the `output/` directory; we have a few\n",
    "data files:"
   ]
  },
  {
   "cell_type": "code",
   "execution_count": 7,
   "id": "afraid-quarter",
   "metadata": {
    "execution": {
     "iopub.execute_input": "2021-03-14T00:40:33.126389Z",
     "iopub.status.busy": "2021-03-14T00:40:33.125587Z",
     "iopub.status.idle": "2021-03-14T00:40:33.183194Z",
     "shell.execute_reply": "2021-03-14T00:40:33.183717Z"
    },
    "papermill": {
     "duration": 0.078712,
     "end_time": "2021-03-14T00:40:33.183956",
     "exception": false,
     "start_time": "2021-03-14T00:40:33.105244",
     "status": "completed"
    },
    "tags": [
     "bash"
    ]
   },
   "outputs": [
    {
     "name": "stdout",
     "output_type": "stream",
     "text": [
      "output/clean.csv\n",
      "output/data.csv\n"
     ]
    }
   ],
   "source": [
    "%%sh\n",
    "ls output/*.csv"
   ]
  },
  {
   "cell_type": "markdown",
   "id": "global-smith",
   "metadata": {
    "papermill": {
     "duration": 0.017847,
     "end_time": "2021-03-14T00:40:33.218354",
     "exception": false,
     "start_time": "2021-03-14T00:40:33.200507",
     "status": "completed"
    },
    "tags": []
   },
   "source": [
    "And a notebook for each script:"
   ]
  },
  {
   "cell_type": "code",
   "execution_count": 8,
   "id": "aerial-remainder",
   "metadata": {
    "execution": {
     "iopub.execute_input": "2021-03-14T00:40:33.259089Z",
     "iopub.status.busy": "2021-03-14T00:40:33.258292Z",
     "iopub.status.idle": "2021-03-14T00:40:33.312929Z",
     "shell.execute_reply": "2021-03-14T00:40:33.313484Z"
    },
    "papermill": {
     "duration": 0.077695,
     "end_time": "2021-03-14T00:40:33.313755",
     "exception": false,
     "start_time": "2021-03-14T00:40:33.236060",
     "status": "completed"
    },
    "tags": [
     "bash"
    ]
   },
   "outputs": [
    {
     "name": "stdout",
     "output_type": "stream",
     "text": [
      "output/clean.ipynb\n",
      "output/plot.ipynb\n",
      "output/raw.ipynb\n"
     ]
    }
   ],
   "source": [
    "%%sh\n",
    "ls output/*.ipynb"
   ]
  },
  {
   "cell_type": "markdown",
   "id": "exceptional-catholic",
   "metadata": {
    "papermill": {
     "duration": 0.018162,
     "end_time": "2021-03-14T00:40:33.348662",
     "exception": false,
     "start_time": "2021-03-14T00:40:33.330500",
     "status": "completed"
    },
    "tags": []
   },
   "source": [
    "## Updating the pipeline\n",
    "\n",
    "Quick experimentation is essential to develop a data pipeline. Ploomber allows\n",
    "you to quickly run new experiments without having to keep track of tasks\n",
    "dependencies.\n",
    "\n",
    "Let's say you found a problematic column in the data and want to add more\n",
    "cleaning logic to your `clean.py` script. `raw.py` does not depend\n",
    "on `clean.py`, but `plot.py` does. If you modify `clean.py`, you'd have\n",
    "to execute `clean.py` and then `plot.py` to bring your pipeline up-to-date.\n",
    "\n",
    "As your pipeline grows, keeping track of task dependencies gets time-consuming.\n",
    "Ploomber does that for you and only executes outdated tasks on each run.\n",
    "\n",
    "Make some changes to the `clean.py` script, then build again:"
   ]
  },
  {
   "cell_type": "code",
   "execution_count": 9,
   "id": "lonely-capture",
   "metadata": {
    "execution": {
     "iopub.execute_input": "2021-03-14T00:40:33.386576Z",
     "iopub.status.busy": "2021-03-14T00:40:33.385889Z",
     "iopub.status.idle": "2021-03-14T00:40:35.369350Z",
     "shell.execute_reply": "2021-03-14T00:40:35.369976Z"
    },
    "papermill": {
     "duration": 2.005056,
     "end_time": "2021-03-14T00:40:35.370187",
     "exception": false,
     "start_time": "2021-03-14T00:40:33.365131",
     "status": "completed"
    },
    "tags": [
     "bash"
    ]
   },
   "outputs": [
    {
     "name": "stdout",
     "output_type": "stream",
     "text": [
      "name    Ran?      Elapsed (s)    Percentage\n",
      "------  ------  -------------  ------------\n",
      "raw     False               0             0\n",
      "clean   False               0             0\n",
      "plot    False               0             0\n"
     ]
    },
    {
     "name": "stderr",
     "output_type": "stream",
     "text": [
      "0it [00:00, ?it/s]\n"
     ]
    }
   ],
   "source": [
    "%%sh\n",
    "ploomber build"
   ]
  },
  {
   "cell_type": "markdown",
   "id": "private-secondary",
   "metadata": {
    "papermill": {
     "duration": 0.018685,
     "end_time": "2021-03-14T00:40:35.407002",
     "exception": false,
     "start_time": "2021-03-14T00:40:35.388317",
     "status": "completed"
    },
    "tags": []
   },
   "source": [
    "You'll see that `raw.py` didn't run because it was not affected by the change!"
   ]
  },
  {
   "cell_type": "markdown",
   "id": "professional-relevance",
   "metadata": {
    "papermill": {
     "duration": 0.016809,
     "end_time": "2021-03-14T00:40:35.443385",
     "exception": false,
     "start_time": "2021-03-14T00:40:35.426576",
     "status": "completed"
    },
    "tags": []
   },
   "source": [
    "## Where to go from here\n",
    "\n",
    "This tutorial showed how to build a pipeline with Ploomber; however, it only\n",
    "superficially covered Ploomber's core concepts and design rationale. [the following\n",
    "tutorial](https://ploomber.readthedocs.io/en/stable/get-started/basic-concepts.html)\n",
    "goes deeper in those terms."
   ]
  }
 ],
 "metadata": {
  "jupytext": {
   "cell_metadata_filter": "tags,-all",
   "main_language": "bash",
   "notebook_metadata_filter": "-all"
  },
  "kernelspec": {
   "display_name": "Python 3",
   "language": "python",
   "name": "python3"
  },
  "language_info": {
   "codemirror_mode": {
    "name": "ipython",
    "version": 3
   },
   "file_extension": ".py",
   "mimetype": "text/x-python",
   "name": "python",
   "nbconvert_exporter": "python",
   "pygments_lexer": "ipython3",
   "version": "3.7.10"
  },
  "papermill": {
   "duration": 11.215408,
   "end_time": "2021-03-14T00:40:35.745980",
   "exception": null,
   "input_path": "/var/folders/3h/_lvh_w_x5g30rrjzb_xnn2j80000gq/T/tmp7ssfeffd.ipynb",
   "output_path": "spec-api-python/README.ipynb",
   "parameters": {
    "product": "spec-api-python/README.ipynb"
   },
   "start_time": "2021-03-14T00:40:24.530572"
  }
 },
 "nbformat": 4,
 "nbformat_minor": 5
}
