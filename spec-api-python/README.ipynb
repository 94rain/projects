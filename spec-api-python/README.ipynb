{
 "cells": [
  {
   "cell_type": "markdown",
   "metadata": {},
   "source": [
    "# Python script-based project\n",
    "\n",
    "This example shows how you can build script or notebook-based (just replace the\n",
    "*.py files with *.ipynb) project using a ``pipeline.yaml`` file.\n",
    "\n",
    "## Setup environment\n",
    "\n",
    "(**Note**: Only required if you are running this example in your computer, not\n",
    "required if using Binder/Deepnote)\n",
    "\n",
    "~~~sh\n",
    "conda env create --file environment.yaml\n",
    "conda activate spec-api-python\n",
    "~~~\n",
    "\n",
    "## Description\n",
    "\n",
    "This pipeline contains 3 tasks. The last task generates a plot from the data."
   ]
  },
  {
   "cell_type": "code",
   "execution_count": null,
   "metadata": {
    "tags": [
     "bash"
    ]
   },
   "outputs": [],
   "source": [
    "%%sh\n",
    "# Note: this won't run in Deepnote\n",
    "ploomber plot"
   ]
  },
  {
   "cell_type": "code",
   "execution_count": null,
   "metadata": {
    "lines_to_next_cell": 2
   },
   "outputs": [],
   "source": [
    "\n",
    "from IPython.display import Image\n",
    "Image(filename='pipeline.png')"
   ]
  },
  {
   "cell_type": "markdown",
   "metadata": {},
   "source": [
    "To get the pipeline description:"
   ]
  },
  {
   "cell_type": "code",
   "execution_count": null,
   "metadata": {
    "tags": [
     "bash"
    ]
   },
   "outputs": [],
   "source": [
    "%%sh\n",
    "ploomber status"
   ]
  },
  {
   "cell_type": "markdown",
   "metadata": {},
   "source": [
    "## Build the pipeline from the command line"
   ]
  },
  {
   "cell_type": "code",
   "execution_count": null,
   "metadata": {
    "tags": [
     "bash"
    ]
   },
   "outputs": [],
   "source": [
    "%%sh\n",
    "mkdir output\n",
    "ploomber build"
   ]
  },
  {
   "cell_type": "markdown",
   "metadata": {},
   "source": [
    "Output is stored in the ``output/`` directory.\n",
    "\n",
    "## Where to go from here\n",
    "\n",
    "Adding a `pipeline.yaml` file gives you more flexibility to build a pipeline,\n",
    "if you want to see a more complete example, take a look at [`ml-basic/`](../ml-basic/README.ipynb). Which\n",
    "builds a simple Machine Learning pipeline where some of the tasks are Python\n",
    "functions (instead of scripts).\n",
    "\n",
    "[`spec-api-sql/`](../spec-api-sql/README.ipynb) contains an example where data manipulation starts in a SQL\n",
    "database, the data is downloaded and visualized using Python.\n",
    "\n",
    "Using a `pipeline.yaml` file is a convenient way to write your workflows and is\n",
    "often enough for a lot of projects. However, if you need more flexibility, you\n",
    "can use the Python API directly, see the [`python-api/`](../python-api/README.ipynb) example.\n",
    "\n",
    "If you use R, take a look a the [`spec-api-r/`](../spec-api-r/README.ipynb) example, which contains a similar\n",
    "pipeline to this but using R."
   ]
  },
  {
   "cell_type": "code",
   "execution_count": null,
   "metadata": {
    "tags": [
     "parameters"
    ]
   },
   "outputs": [],
   "source": []
  }
 ],
 "metadata": {
  "jupytext": {
   "cell_metadata_filter": "tags,-all",
   "main_language": "bash",
   "notebook_metadata_filter": "-all",
   "text_representation": {
    "extension": ".md",
    "format_name": "markdown"
   }
  }
 },
 "nbformat": 4,
 "nbformat_minor": 4
}
