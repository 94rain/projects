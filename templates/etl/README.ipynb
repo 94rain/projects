{
 "cells": [
  {
   "cell_type": "markdown",
   "id": "737228b4",
   "metadata": {
    "papermill": {
     "duration": 0.011711,
     "end_time": "2021-10-19T02:18:22.929494",
     "exception": false,
     "start_time": "2021-10-19T02:18:22.917783",
     "status": "completed"
    },
    "tags": []
   },
   "source": [
    "To run this example locally, execute: `ploomber examples -n templates/etl`.\n",
    "\n",
    "To start a free, hosted JupyterLab: [![binder-logo](https://mybinder.org/badge_logo.svg)](https://mybinder.org/v2/gh/ploomber/binder-env/main?urlpath=git-pull%3Frepo%3Dhttps%253A%252F%252Fgithub.com%252Fploomber%252Fprojects%26urlpath%3Dlab%252Ftree%252Fprojects%252Ftemplates/etl%252FREADME.ipynb%26branch%3Dmaster)\n",
    "\n",
    "Found an issue? [Let us know.](https://github.com/ploomber/projects/issues/new?title=templates/etl%20issue)\n",
    "\n",
    "Have questions? [Ask us anything on Slack.](http://community.ploomber.io/)\n",
    "\n"
   ]
  },
  {
   "cell_type": "markdown",
   "id": "4cc174fc",
   "metadata": {
    "papermill": {
     "duration": 0.012007,
     "end_time": "2021-10-19T02:18:22.951662",
     "exception": false,
     "start_time": "2021-10-19T02:18:22.939655",
     "status": "completed"
    },
    "tags": []
   },
   "source": [
    "# ETL SQL pipeline\n",
    "\n",
    "<!-- start description -->\n",
    "Download a data file, upload it to a database, process it, and plot with Python and R.\n",
    "<!-- end description -->\n",
    "\n",
    "**Note:** This pipeline requires the `p7zip` package. It is installed if using `conda` (`environment.yml`). If using `pip`, you must install it yourself.\n",
    "\n",
    "## Data\n",
    "\n",
    "Subset of the [Stack Exchange dataset](https://archive.org/details/stackexchange).\n",
    "It gets the data from the original source, converts it from XML to CSV, uploads it to a database, aggregates it, dumps it and generates a few plots. See the diagram below (generated using `ploomber plot`):\n",
    "\n",
    "![pipeline](pipeline.png)\n",
    "\n",
    "The ``pipeline.yaml`` file contains a few comments to understand what's going on at each step."
   ]
  },
  {
   "cell_type": "markdown",
   "id": "68168bd5",
   "metadata": {
    "papermill": {
     "duration": 0.010354,
     "end_time": "2021-10-19T02:18:22.971874",
     "exception": false,
     "start_time": "2021-10-19T02:18:22.961520",
     "status": "completed"
    },
    "tags": []
   },
   "source": [
    "## Build"
   ]
  },
  {
   "cell_type": "code",
   "execution_count": 1,
   "id": "a65814ce",
   "metadata": {
    "execution": {
     "iopub.execute_input": "2021-10-19T02:18:23.000764Z",
     "iopub.status.busy": "2021-10-19T02:18:22.999810Z",
     "iopub.status.idle": "2021-10-19T02:21:41.335831Z",
     "shell.execute_reply": "2021-10-19T02:21:41.335202Z"
    },
    "papermill": {
     "duration": 198.354666,
     "end_time": "2021-10-19T02:21:41.336027",
     "exception": false,
     "start_time": "2021-10-19T02:18:22.981361",
     "status": "completed"
    },
    "tags": []
   },
   "outputs": [
    {
     "name": "stdout",
     "output_type": "stream",
     "text": [
      "name                 Ran?      Elapsed (s)    Percentage\n",
      "-------------------  ------  -------------  ------------\n",
      "download             True       154.076      79.3927\n",
      "convert2csv          True        19.7484     10.176\n",
      "upload-users         True         1.51109     0.778639\n",
      "upload-comments      True         1.96472     1.01239\n",
      "upload-posts         True         2.98338     1.53729\n",
      "upvotes-by-location  True         0.046137    0.0237736\n",
      "comments-by-post     True         0.063947    0.0329508\n",
      "posts-by-length      True         0.632512    0.325923\n",
      "upvotes-dump         True         0.004209    0.00216883\n",
      "comments-dump        True         0.04658     0.0240019\n",
      "posts-dump           True         0.083176    0.0428592\n",
      "plot-upvotes         True         4.66256     2.40254\n",
      "comments-plot        True         4.29304     2.21213\n",
      "posts-plot           True         3.95242     2.03662\n"
     ]
    },
    {
     "name": "stderr",
     "output_type": "stream",
     "text": [
      "/Users/Edu/dev/ploomber/src/ploomber/dag/dag.py:390: UserWarning: \n",
      "=========================== DAG render with warnings ===========================\n",
      "-------- SQLUpload: upload-users -> SQLiteRelation(('users', 'table')) ---------\n",
      "The following upstream dependencies in task \"upload-users\" were not used {'convert2csv'}\n",
      "----- SQLUpload: upload-comments -> SQLiteRelation(('comments', 'table')) ------\n",
      "The following upstream dependencies in task \"upload-comments\" were not used {'convert2csv'}\n",
      "-------- SQLUpload: upload-posts -> SQLiteRelation(('posts', 'table')) ---------\n",
      "The following upstream dependencies in task \"upload-posts\" were not used {'convert2csv'}\n",
      "============================== Summary (3 tasks) ===============================\n",
      "SQLUpload: upload-users -> SQLiteRelation(('users', 'table'))\n",
      "SQLUpload: upload-comments -> SQLiteRelation(('comments', 'table'))\n",
      "SQLUpload: upload-posts -> SQLiteRelation(('posts', 'table'))\n",
      "=========================== DAG render with warnings ===========================\n",
      "\n",
      "  warnings.warn(str(warnings_))\n",
      "\r",
      "  0%|          | 0/14 [00:00<?, ?it/s]\r",
      "Building task 'download':   0%|          | 0/14 [00:00<?, ?it/s]\n",
      "\r",
      "Executing:   0%|          | 0/5 [00:00<?, ?cell/s]\u001b[A\n",
      "\r",
      "Executing:  20%|██        | 1/5 [00:01<00:05,  1.40s/cell]\u001b[A\n",
      "\r",
      "Executing: 100%|██████████| 5/5 [02:33<00:00, 32.64s/cell]\u001b[A\r",
      "Executing: 100%|██████████| 5/5 [02:34<00:00, 30.81s/cell]\n",
      "\r",
      "Building task 'download':   7%|▋         | 1/14 [02:34<33:23, 154.08s/it]\r",
      "Building task 'convert2csv':   7%|▋         | 1/14 [02:34<33:23, 154.08s/it]\n",
      "\r",
      "Executing:   0%|          | 0/5 [00:00<?, ?cell/s]\u001b[A\n",
      "\r",
      "Executing:  20%|██        | 1/5 [00:01<00:05,  1.26s/cell]\u001b[A\n",
      "\r",
      "Executing: 100%|██████████| 5/5 [00:19<00:00,  4.07s/cell]\u001b[A\r",
      "Executing: 100%|██████████| 5/5 [00:19<00:00,  3.94s/cell]\n",
      "\r",
      "Building task 'convert2csv':  14%|█▍        | 2/14 [02:53<15:00, 75.06s/it] \r",
      "Building task 'upload-users':  14%|█▍        | 2/14 [02:53<15:00, 75.06s/it]\r",
      "Building task 'upload-users':  21%|██▏       | 3/14 [02:55<07:36, 41.48s/it]\r",
      "Building task 'upload-comments':  21%|██▏       | 3/14 [02:55<07:36, 41.48s/it]\r",
      "Building task 'upload-comments':  29%|██▊       | 4/14 [02:57<04:18, 25.88s/it]\r",
      "Building task 'upload-posts':  29%|██▊       | 4/14 [02:57<04:18, 25.88s/it]   \r",
      "Building task 'upload-posts':  36%|███▌      | 5/14 [03:00<02:38, 17.63s/it]\r",
      "Building task 'upvotes-by-location':  36%|███▌      | 5/14 [03:00<02:38, 17.63s/it]\r",
      "Building task 'comments-by-post':  36%|███▌      | 5/14 [03:00<02:38, 17.63s/it]   \r",
      "Building task 'comments-by-post':  50%|█████     | 7/14 [03:00<01:00,  8.71s/it]\r",
      "Building task 'posts-by-length':  50%|█████     | 7/14 [03:00<01:00,  8.71s/it] \r",
      "Building task 'posts-by-length':  57%|█████▋    | 8/14 [03:01<00:39,  6.56s/it]\r",
      "Building task 'upvotes-dump':  57%|█████▋    | 8/14 [03:01<00:39,  6.56s/it]   \r",
      "Building task 'comments-dump':  57%|█████▋    | 8/14 [03:01<00:39,  6.56s/it]\r",
      "Building task 'posts-dump':  57%|█████▋    | 8/14 [03:01<00:39,  6.56s/it]   \r",
      "Building task 'posts-dump':  79%|███████▊  | 11/14 [03:01<00:09,  3.09s/it]\r",
      "Building task 'plot-upvotes':  79%|███████▊  | 11/14 [03:01<00:09,  3.09s/it]\n",
      "\r",
      "Executing:   0%|          | 0/5 [00:00<?, ?cell/s]\u001b[A\n",
      "\r",
      "Executing:  20%|██        | 1/5 [00:02<00:08,  2.19s/cell]\u001b[A\n",
      "\r",
      "Executing:  40%|████      | 2/5 [00:02<00:02,  1.03cell/s]\u001b[A\n",
      "\r",
      "Executing:  60%|██████    | 3/5 [00:02<00:01,  1.75cell/s]\u001b[A\n",
      "\r",
      "Executing:  80%|████████  | 4/5 [00:04<00:01,  1.03s/cell]\u001b[A\r",
      "Executing: 100%|██████████| 5/5 [00:04<00:00,  1.17cell/s]\n",
      "\r",
      "Building task 'comments-plot':  79%|███████▊  | 11/14 [03:05<00:09,  3.09s/it]\n",
      "\r",
      "Executing:   0%|          | 0/5 [00:00<?, ?cell/s]\u001b[A\n",
      "\r",
      "Executing:  20%|██        | 1/5 [00:02<00:11,  2.96s/cell]\u001b[A\n",
      "\r",
      "Executing: 100%|██████████| 5/5 [00:03<00:00,  1.77cell/s]\u001b[A\r",
      "Executing: 100%|██████████| 5/5 [00:03<00:00,  1.29cell/s]\n",
      "\r",
      "Building task 'comments-plot':  93%|█████████▎| 13/14 [03:10<00:03,  3.56s/it]\r",
      "Building task 'posts-plot':  93%|█████████▎| 13/14 [03:10<00:03,  3.56s/it]   \n",
      "\r",
      "Executing:   0%|          | 0/7 [00:00<?, ?cell/s]\u001b[A\n",
      "\r",
      "Executing:  14%|█▍        | 1/7 [00:02<00:14,  2.42s/cell]\u001b[A\n",
      "\r",
      "Executing:  57%|█████▋    | 4/7 [00:02<00:01,  2.04cell/s]\u001b[A\n",
      "\r",
      "Executing:  86%|████████▌ | 6/7 [00:03<00:00,  2.44cell/s]\u001b[A\r",
      "Executing: 100%|██████████| 7/7 [00:03<00:00,  2.00cell/s]\n",
      "\r",
      "Building task 'posts-plot': 100%|██████████| 14/14 [03:14<00:00,  3.64s/it]\r",
      "Building task 'posts-plot': 100%|██████████| 14/14 [03:14<00:00, 13.87s/it]\n"
     ]
    }
   ],
   "source": [
    "%%sh\n",
    "ploomber build"
   ]
  },
  {
   "cell_type": "markdown",
   "id": "ae811d5d",
   "metadata": {
    "papermill": {
     "duration": 0.012225,
     "end_time": "2021-10-19T02:21:41.361237",
     "exception": false,
     "start_time": "2021-10-19T02:21:41.349012",
     "status": "completed"
    },
    "tags": []
   },
   "source": [
    "Output stored in the ``output/`` directory."
   ]
  }
 ],
 "metadata": {
  "kernelspec": {
   "display_name": "Python 3 (ipykernel)",
   "language": "python",
   "name": "python3"
  },
  "language_info": {
   "codemirror_mode": {
    "name": "ipython",
    "version": 3
   },
   "file_extension": ".py",
   "mimetype": "text/x-python",
   "name": "python",
   "nbconvert_exporter": "python",
   "pygments_lexer": "ipython3",
   "version": "3.9.7"
  },
  "papermill": {
   "default_parameters": {},
   "duration": 200.036818,
   "end_time": "2021-10-19T02:21:41.586890",
   "environment_variables": {},
   "exception": null,
   "input_path": "templates/etl/_build/readme_preprocessed.ipynb",
   "output_path": "templates/etl/README.ipynb",
   "parameters": {},
   "start_time": "2021-10-19T02:18:21.550072",
   "version": "2.3.3"
  }
 },
 "nbformat": 4,
 "nbformat_minor": 5
}