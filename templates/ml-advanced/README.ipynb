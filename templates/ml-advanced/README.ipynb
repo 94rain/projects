{
 "cells": [
  {
   "cell_type": "markdown",
   "id": "39337da3",
   "metadata": {
    "papermill": {
     "duration": 0.022726,
     "end_time": "2021-10-19T02:25:39.451865",
     "exception": false,
     "start_time": "2021-10-19T02:25:39.429139",
     "status": "completed"
    },
    "tags": []
   },
   "source": [
    "To run this example locally, execute: `ploomber examples -n templates/ml-advanced`.\n",
    "\n",
    "To start a free, hosted JupyterLab: [![binder-logo](https://mybinder.org/badge_logo.svg)](https://mybinder.org/v2/gh/ploomber/binder-env/main?urlpath=git-pull%3Frepo%3Dhttps%253A%252F%252Fgithub.com%252Fploomber%252Fprojects%26urlpath%3Dlab%252Ftree%252Fprojects%252Ftemplates/ml-advanced%252FREADME.ipynb%26branch%3Dmaster)\n",
    "\n",
    "Found an issue? [Let us know.](https://github.com/ploomber/projects/issues/new?title=templates/ml-advanced%20issue)\n",
    "\n",
    "Have questions? [Ask us anything on Slack.](http://community.ploomber.io/)\n"
   ]
  },
  {
   "cell_type": "markdown",
   "id": "84107fd5",
   "metadata": {
    "papermill": {
     "duration": 0.014532,
     "end_time": "2021-10-19T02:25:39.483762",
     "exception": false,
     "start_time": "2021-10-19T02:25:39.469230",
     "status": "completed"
    },
    "tags": []
   },
   "source": [
    "# ML advanced\n",
    "\n",
    "<!-- start description -->\n",
    "ML pipeline using the Python API. Shows how to create a Python package, test it with pytest, and train models in parallel.\n",
    "<!-- end description -->\n",
    "\n",
    "## Build"
   ]
  },
  {
   "cell_type": "code",
   "execution_count": 1,
   "id": "ac4f4033",
   "metadata": {
    "execution": {
     "iopub.execute_input": "2021-10-19T02:25:39.529351Z",
     "iopub.status.busy": "2021-10-19T02:25:39.528203Z",
     "iopub.status.idle": "2021-10-19T02:26:23.179263Z",
     "shell.execute_reply": "2021-10-19T02:26:23.177886Z"
    },
    "papermill": {
     "duration": 43.680238,
     "end_time": "2021-10-19T02:26:23.179715",
     "exception": false,
     "start_time": "2021-10-19T02:25:39.499477",
     "status": "completed"
    },
    "tags": []
   },
   "outputs": [
    {
     "name": "stdout",
     "output_type": "stream",
     "text": [
      "Finished tasks so far: \n",
      "Remaining tasks: {'join', 'features', 'get', 'fit-sklearn--ensemble--RandomForestClassifier', 'fit-ml-advanced--models--logistic-reg', 'fit-ml-advanced--models--svc'}\n",
      "Finished 0 out of 6 tasks\n",
      "Finished tasks so far: \n",
      "Remaining tasks: {'join', 'features', 'get', 'fit-sklearn--ensemble--RandomForestClassifier', 'fit-ml-advanced--models--logistic-reg', 'fit-ml-advanced--models--svc'}\n",
      "Finished 0 out of 6 tasks\n",
      "Finished tasks so far: {'get', 'features', 'join'}\n",
      "Remaining tasks: {'fit-ml-advanced--models--logistic-reg', 'fit-sklearn--ensemble--RandomForestClassifier', 'fit-ml-advanced--models--svc'}\n",
      "Finished 3 out of 6 tasks\n",
      "Finished tasks so far: {'get', 'features', 'join'}\n",
      "Remaining tasks: {'fit-ml-advanced--models--logistic-reg', 'fit-sklearn--ensemble--RandomForestClassifier', 'fit-ml-advanced--models--svc'}\n",
      "Finished 3 out of 6 tasks\n",
      "name                                Ran?      Elapsed (s)    Percentage\n",
      "----------------------------------  ------  -------------  ------------\n",
      "get                                 True         0.496063     0.581662\n",
      "features                            True         0.026996     0.0316543\n",
      "join                                True         0.010642     0.0124783\n",
      "fit-sklearn--ensemble--             True        31.4508      36.8778\n",
      "RandomForestClassifier\n",
      "fit-ml-advanced--models--logistic-  True        26.5735      31.159\n",
      "reg\n",
      "fit-ml-advanced--models--svc        True        26.7257      31.3374\n"
     ]
    },
    {
     "name": "stderr",
     "output_type": "stream",
     "text": [
      "\r",
      "Executing:   0%|          | 0/15 [00:00<?, ?cell/s]\r",
      "Executing:   7%|▋         | 1/15 [00:02<00:34,  2.46s/cell]\r",
      "Executing:  13%|█▎        | 2/15 [00:05<00:33,  2.55s/cell]\r",
      "Executing:   0%|          | 0/15 [00:00<?, ?cell/s]\r",
      "Executing:   0%|          | 0/15 [00:00<?, ?cell/s]\r",
      "Executing:  20%|██        | 3/15 [00:05<00:17,  1.46s/cell]\r",
      "Executing:  27%|██▋       | 4/15 [00:05<00:10,  1.05cell/s]\r",
      "Executing:  33%|███▎      | 5/15 [00:05<00:06,  1.53cell/s]\r",
      "Executing:  40%|████      | 6/15 [00:05<00:04,  1.84cell/s]\r",
      "Executing:  47%|████▋     | 7/15 [00:06<00:03,  2.30cell/s]\r",
      "Executing:  53%|█████▎    | 8/15 [00:06<00:02,  2.38cell/s]\r",
      "Executing:   7%|▋         | 1/15 [00:02<00:39,  2.79s/cell]\r",
      "Executing:   7%|▋         | 1/15 [00:02<00:39,  2.80s/cell]\r",
      "Executing:  13%|█▎        | 2/15 [00:07<00:48,  3.71s/cell]\r",
      "Executing:  13%|█▎        | 2/15 [00:07<00:48,  3.72s/cell]\r",
      "Executing:  20%|██        | 3/15 [00:07<00:25,  2.13s/cell]\r",
      "Executing:  20%|██        | 3/15 [00:07<00:25,  2.15s/cell]\r",
      "Executing:  27%|██▋       | 4/15 [00:07<00:15,  1.39s/cell]\r",
      "Executing:  27%|██▋       | 4/15 [00:07<00:15,  1.39s/cell]\r",
      "Executing:  33%|███▎      | 5/15 [00:07<00:09,  1.05cell/s]\r",
      "Executing:  33%|███▎      | 5/15 [00:07<00:09,  1.05cell/s]\r",
      "Executing:  40%|████      | 6/15 [00:08<00:07,  1.21cell/s]\r",
      "Executing:  40%|████      | 6/15 [00:08<00:07,  1.21cell/s]\r",
      "Executing:  47%|████▋     | 7/15 [00:08<00:05,  1.40cell/s]\r",
      "Executing:  47%|████▋     | 7/15 [00:08<00:05,  1.40cell/s]\r",
      "Executing:  53%|█████▎    | 8/15 [00:09<00:03,  1.83cell/s]\r",
      "Executing:  53%|█████▎    | 8/15 [00:09<00:03,  1.80cell/s]\r",
      "Executing:  60%|██████    | 9/15 [00:18<00:24,  4.07s/cell]\r",
      "Executing:  67%|██████▋   | 10/15 [00:19<00:15,  3.12s/cell]\r",
      "Executing:  73%|███████▎  | 11/15 [00:23<00:13,  3.42s/cell]\r",
      "Executing:  60%|██████    | 9/15 [00:20<00:23,  3.94s/cell]\r",
      "Executing:  60%|██████    | 9/15 [00:20<00:23,  3.97s/cell]\r",
      "Executing:  67%|██████▋   | 10/15 [00:20<00:14,  2.81s/cell]\r",
      "Executing:  67%|██████▋   | 10/15 [00:20<00:14,  2.82s/cell]\r",
      "Executing:  80%|████████  | 12/15 [00:26<00:09,  3.15s/cell]\r",
      "Executing:  73%|███████▎  | 11/15 [00:21<00:08,  2.14s/cell]\r",
      "Executing:  73%|███████▎  | 11/15 [00:21<00:08,  2.15s/cell]\r",
      "Executing:  87%|████████▋ | 13/15 [00:26<00:04,  2.44s/cell]\r",
      "Executing:  80%|████████  | 12/15 [00:21<00:04,  1.62s/cell]\r",
      "Executing:  80%|████████  | 12/15 [00:21<00:04,  1.61s/cell]\r",
      "Executing:  93%|█████████▎| 14/15 [00:27<00:01,  1.79s/cell]\r",
      "Executing: 100%|██████████| 15/15 [00:27<00:00,  1.33s/cell]\r",
      "Executing:  87%|████████▋ | 13/15 [00:22<00:02,  1.33s/cell]\r",
      "Executing:  87%|████████▋ | 13/15 [00:22<00:02,  1.35s/cell]\r",
      "Executing:  93%|█████████▎| 14/15 [00:23<00:01,  1.09s/cell]\r",
      "Executing:  93%|█████████▎| 14/15 [00:23<00:01,  1.09s/cell]\r",
      "Executing: 100%|██████████| 15/15 [00:23<00:00,  1.23cell/s]\r",
      "Executing: 100%|██████████| 15/15 [00:23<00:00,  1.23cell/s]\r",
      "Executing: 100%|██████████| 15/15 [00:30<00:00,  2.01s/cell]\n",
      "\r",
      "Executing: 100%|██████████| 15/15 [00:25<00:00,  1.70s/cell]\n",
      "\r",
      "Executing: 100%|██████████| 15/15 [00:25<00:00,  1.71s/cell]\n"
     ]
    }
   ],
   "source": [
    "%%sh\n",
    "ploomber build --entry-point ml_advanced.pipeline.make"
   ]
  },
  {
   "cell_type": "markdown",
   "id": "78dec96b",
   "metadata": {
    "papermill": {
     "duration": 0.019189,
     "end_time": "2021-10-19T02:26:23.219056",
     "exception": false,
     "start_time": "2021-10-19T02:26:23.199867",
     "status": "completed"
    },
    "tags": []
   },
   "source": [
    "## Testing"
   ]
  },
  {
   "cell_type": "code",
   "execution_count": 2,
   "id": "ebba8201",
   "metadata": {
    "execution": {
     "iopub.execute_input": "2021-10-19T02:26:23.277175Z",
     "iopub.status.busy": "2021-10-19T02:26:23.273166Z",
     "iopub.status.idle": "2021-10-19T02:27:08.112917Z",
     "shell.execute_reply": "2021-10-19T02:27:08.113466Z"
    },
    "papermill": {
     "duration": 44.875889,
     "end_time": "2021-10-19T02:27:08.113703",
     "exception": false,
     "start_time": "2021-10-19T02:26:23.237814",
     "status": "completed"
    },
    "tags": []
   },
   "outputs": [
    {
     "name": "stdout",
     "output_type": "stream",
     "text": [
      "============================= test session starts ==============================\n",
      "platform darwin -- Python 3.9.7, pytest-6.2.5, py-1.10.0, pluggy-1.0.0\n",
      "rootdir: /Users/Edu/dev/projects-ploomber/templates/ml-advanced\n",
      "plugins: Faker-9.2.0, anyio-3.3.3\n",
      "collected 1 item\n",
      "\n",
      "tests/test_pipeline.py .                                                 [100%]\n",
      "\n",
      "=============================== warnings summary ===============================\n",
      "../../../../miniconda3/envs/projects/lib/python3.9/site-packages/ansiwrap/core.py:6\n",
      "  /Users/Edu/miniconda3/envs/projects/lib/python3.9/site-packages/ansiwrap/core.py:6: DeprecationWarning: the imp module is deprecated in favour of importlib; see the module's documentation for alternative uses\n",
      "    import imp\n",
      "\n",
      "tests/test_pipeline.py: 42 warnings\n",
      "  /Users/Edu/miniconda3/envs/projects/lib/python3.9/site-packages/jsonschema/validators.py:190: DeprecationWarning: Passing a schema to Validator.iter_errors is deprecated and will be removed in a future release. Call validator.evolve(schema=new_schema).iter_errors(...) instead.\n",
      "    warnings.warn(\n",
      "\n",
      "tests/test_pipeline.py::test_pipeline\n",
      "  /Users/Edu/dev/ploomber/src/ploomber/dag/dag.py:390: UserWarning: \n",
      "  =========================== DAG render with warnings ===========================\n",
      "  - NotebookRunner: fit-sklearn--ensemble--RandomForestClassifier -> MetaProduct({'model': File('output-...ifier.joblib'), 'nb': File('output-...sifier.ipynb')}) -\n",
      "  - /Users/Edu/miniconda3/envs/projects/lib/python3.9/site-packages/ml_advanced/templates/fit.py -\n",
      "  Passing a schema to Validator.iter_errors is deprecated and will be removed in a future release. Call validator.evolve(schema=new_schema).iter_errors(...) instead.\n",
      "  - NotebookRunner: fit-ml-advanced--models--logistic-reg -> MetaProduct({'model': File('output-...c_reg.joblib'), 'nb': File('output-...ic_reg.ipynb')}) -\n",
      "  - /Users/Edu/miniconda3/envs/projects/lib/python3.9/site-packages/ml_advanced/templates/fit.py -\n",
      "  Passing a schema to Validator.iter_errors is deprecated and will be removed in a future release. Call validator.evolve(schema=new_schema).iter_errors(...) instead.\n",
      "  - NotebookRunner: fit-ml-advanced--models--svc -> MetaProduct({'model': File('output-...s.svc.joblib'), 'nb': File('output-...ls.svc.ipynb')}) -\n",
      "  - /Users/Edu/miniconda3/envs/projects/lib/python3.9/site-packages/ml_advanced/templates/fit.py -\n",
      "  Passing a schema to Validator.iter_errors is deprecated and will be removed in a future release. Call validator.evolve(schema=new_schema).iter_errors(...) instead.\n",
      "  ============================== Summary (3 tasks) ===============================\n",
      "  NotebookRunner: fit-sklearn--ensemble--RandomForestClassifier -> MetaProduct({'model': File('output-...ifier.joblib'), 'nb': File('output-...sifier.ipynb')})\n",
      "  NotebookRunner: fit-ml-advanced--models--logistic-reg -> MetaProduct({'model': File('output-...c_reg.joblib'), 'nb': File('output-...ic_reg.ipynb')})\n",
      "  NotebookRunner: fit-ml-advanced--models--svc -> MetaProduct({'model': File('output-...s.svc.joblib'), 'nb': File('output-...ls.svc.ipynb')})\n",
      "  =========================== DAG render with warnings ===========================\n",
      "  \n",
      "    warnings.warn(str(warnings_))\n",
      "\n",
      "tests/test_pipeline.py::test_pipeline\n",
      "  /Users/Edu/dev/ploomber/src/ploomber/executors/serial.py:126: UserWarning: \n",
      "  =========================== DAG build with warnings ============================\n",
      "  - NotebookRunner: fit-sklearn--ensemble--RandomForestClassifier -> MetaProduct({'model': File('output-...ifier.joblib'), 'nb': File('output-...sifier.ipynb')}) -\n",
      "  - /Users/Edu/miniconda3/envs/projects/lib/python3.9/site-packages/ml_advanced/templates/fit.py -\n",
      "  Passing unrecognized arguments to super(PapermillNotebookClient).__init__(input_path='/var/folders/3h/_lvh_w_x5g30rrjzb_xnn2j80000gq/T/tmp4t6an3dl.ipynb').\n",
      "  object.__init__() takes exactly one argument (the instance to initialize)\n",
      "  This is deprecated in traitlets 4.2.This error will be raised in a future release of traitlets.\n",
      "  Passing a schema to Validator.iter_errors is deprecated and will be removed in a future release. Call validator.evolve(schema=new_schema).iter_errors(...) instead.\n",
      "  Passing a schema to Validator.iter_errors is deprecated and will be removed in a future release. Call validator.evolve(schema=new_schema).iter_errors(...) instead.\n",
      "  Passing a schema to Validator.iter_errors is deprecated and will be removed in a future release. Call validator.evolve(schema=new_schema).iter_errors(...) instead.\n",
      "  Passing a schema to Validator.iter_errors is deprecated and will be removed in a future release. Call validator.evolve(schema=new_schema).iter_errors(...) instead.\n",
      "  Passing a schema to Validator.iter_errors is deprecated and will be removed in a future release. Call validator.evolve(schema=new_schema).iter_errors(...) instead.\n",
      "  Passing a schema to Validator.iter_errors is deprecated and will be removed in a future release. Call validator.evolve(schema=new_schema).iter_errors(...) instead.\n",
      "  Passing a schema to Validator.iter_errors is deprecated and will be removed in a future release. Call validator.evolve(schema=new_schema).iter_errors(...) instead.\n",
      "  Passing a schema to Validator.iter_errors is deprecated and will be removed in a future release. Call validator.evolve(schema=new_schema).iter_errors(...) instead.\n",
      "  - NotebookRunner: fit-ml-advanced--models--logistic-reg -> MetaProduct({'model': File('output-...c_reg.joblib'), 'nb': File('output-...ic_reg.ipynb')}) -\n",
      "  - /Users/Edu/miniconda3/envs/projects/lib/python3.9/site-packages/ml_advanced/templates/fit.py -\n",
      "  Passing unrecognized arguments to super(PapermillNotebookClient).__init__(input_path='/var/folders/3h/_lvh_w_x5g30rrjzb_xnn2j80000gq/T/tmppzn_hpkr.ipynb').\n",
      "  object.__init__() takes exactly one argument (the instance to initialize)\n",
      "  This is deprecated in traitlets 4.2.This error will be raised in a future release of traitlets.\n",
      "  Passing a schema to Validator.iter_errors is deprecated and will be removed in a future release. Call validator.evolve(schema=new_schema).iter_errors(...) instead.\n",
      "  Passing a schema to Validator.iter_errors is deprecated and will be removed in a future release. Call validator.evolve(schema=new_schema).iter_errors(...) instead.\n",
      "  Passing a schema to Validator.iter_errors is deprecated and will be removed in a future release. Call validator.evolve(schema=new_schema).iter_errors(...) instead.\n",
      "  Passing a schema to Validator.iter_errors is deprecated and will be removed in a future release. Call validator.evolve(schema=new_schema).iter_errors(...) instead.\n",
      "  Passing a schema to Validator.iter_errors is deprecated and will be removed in a future release. Call validator.evolve(schema=new_schema).iter_errors(...) instead.\n",
      "  Passing a schema to Validator.iter_errors is deprecated and will be removed in a future release. Call validator.evolve(schema=new_schema).iter_errors(...) instead.\n",
      "  Passing a schema to Validator.iter_errors is deprecated and will be removed in a future release. Call validator.evolve(schema=new_schema).iter_errors(...) instead.\n",
      "  Passing a schema to Validator.iter_errors is deprecated and will be removed in a future release. Call validator.evolve(schema=new_schema).iter_errors(...) instead.\n",
      "  Passing a schema to Validator.iter_errors is deprecated and will be removed in a future release. Call validator.evolve(schema=new_schema).iter_errors(...) instead.\n",
      "  - NotebookRunner: fit-ml-advanced--models--svc -> MetaProduct({'model': File('output-...s.svc.joblib'), 'nb': File('output-...ls.svc.ipynb')}) -\n",
      "  - /Users/Edu/miniconda3/envs/projects/lib/python3.9/site-packages/ml_advanced/templates/fit.py -\n",
      "  Passing unrecognized arguments to super(PapermillNotebookClient).__init__(input_path='/var/folders/3h/_lvh_w_x5g30rrjzb_xnn2j80000gq/T/tmppgcjfv_3.ipynb').\n",
      "  object.__init__() takes exactly one argument (the instance to initialize)\n",
      "  This is deprecated in traitlets 4.2.This error will be raised in a future release of traitlets.\n",
      "  Passing a schema to Validator.iter_errors is deprecated and will be removed in a future release. Call validator.evolve(schema=new_schema).iter_errors(...) instead.\n",
      "  Passing a schema to Validator.iter_errors is deprecated and will be removed in a future release. Call validator.evolve(schema=new_schema).iter_errors(...) instead.\n",
      "  Passing a schema to Validator.iter_errors is deprecated and will be removed in a future release. Call validator.evolve(schema=new_schema).iter_errors(...) instead.\n",
      "  Passing a schema to Validator.iter_errors is deprecated and will be removed in a future release. Call validator.evolve(schema=new_schema).iter_errors(...) instead.\n",
      "  Passing a schema to Validator.iter_errors is deprecated and will be removed in a future release. Call validator.evolve(schema=new_schema).iter_errors(...) instead.\n",
      "  Passing a schema to Validator.iter_errors is deprecated and will be removed in a future release. Call validator.evolve(schema=new_schema).iter_errors(...) instead.\n",
      "  Passing a schema to Validator.iter_errors is deprecated and will be removed in a future release. Call validator.evolve(schema=new_schema).iter_errors(...) instead.\n",
      "  Passing a schema to Validator.iter_errors is deprecated and will be removed in a future release. Call validator.evolve(schema=new_schema).iter_errors(...) instead.\n",
      "  Passing a schema to Validator.iter_errors is deprecated and will be removed in a future release. Call validator.evolve(schema=new_schema).iter_errors(...) instead.\n",
      "  ============================== Summary (3 tasks) ===============================\n",
      "  NotebookRunner: fit-sklearn--ensemble--RandomForestClassifier -> MetaProduct({'model': File('output-...ifier.joblib'), 'nb': File('output-...sifier.ipynb')})\n",
      "  NotebookRunner: fit-ml-advanced--models--logistic-reg -> MetaProduct({'model': File('output-...c_reg.joblib'), 'nb': File('output-...ic_reg.ipynb')})\n",
      "  NotebookRunner: fit-ml-advanced--models--svc -> MetaProduct({'model': File('output-...s.svc.joblib'), 'nb': File('output-...ls.svc.ipynb')})\n",
      "  =========================== DAG build with warnings ============================\n",
      "  \n",
      "    warnings.warn(str(warnings_all))\n",
      "\n",
      "tests/test_pipeline.py::test_pipeline\n",
      "  /Users/Edu/dev/ploomber/src/ploomber/dag/dag.py:246: UserWarning: The DAG \"ml-pipeline\" entered in an inconsistent state: trying to set DAG status to DAGStatus.Executed but executor returned tasks whose status is not TaskStatus.Executed nor TaskStatus.Skipped, returned status: {<TaskStatus.WaitingExecution: 'waiting_execution'>, <TaskStatus.WaitingUpstream: 'waiting_upstream'>}\n",
      "    warnings.warn('The DAG \"{}\" entered in an inconsistent '\n",
      "\n",
      "-- Docs: https://docs.pytest.org/en/stable/warnings.html\n",
      "======================= 1 passed, 46 warnings in 43.38s ========================\n"
     ]
    }
   ],
   "source": [
    "%%bash\n",
    "# complete (force execution of all tasks)\n",
    "pytest --force"
   ]
  },
  {
   "cell_type": "code",
   "execution_count": 3,
   "id": "b0171e6f",
   "metadata": {
    "execution": {
     "iopub.execute_input": "2021-10-19T02:27:08.169565Z",
     "iopub.status.busy": "2021-10-19T02:27:08.168259Z",
     "iopub.status.idle": "2021-10-19T02:27:14.087569Z",
     "shell.execute_reply": "2021-10-19T02:27:14.089754Z"
    },
    "papermill": {
     "duration": 5.957397,
     "end_time": "2021-10-19T02:27:14.090047",
     "exception": false,
     "start_time": "2021-10-19T02:27:08.132650",
     "status": "completed"
    },
    "tags": []
   },
   "outputs": [
    {
     "name": "stdout",
     "output_type": "stream",
     "text": [
      "============================= test session starts ==============================\n",
      "platform darwin -- Python 3.9.7, pytest-6.2.5, py-1.10.0, pluggy-1.0.0\n",
      "rootdir: /Users/Edu/dev/projects-ploomber/templates/ml-advanced\n",
      "plugins: Faker-9.2.0, anyio-3.3.3\n",
      "collected 1 item\n",
      "\n",
      "tests/test_pipeline.py .                                                 [100%]\n",
      "\n",
      "=============================== warnings summary ===============================\n",
      "../../../../miniconda3/envs/projects/lib/python3.9/site-packages/ansiwrap/core.py:6\n",
      "  /Users/Edu/miniconda3/envs/projects/lib/python3.9/site-packages/ansiwrap/core.py:6: DeprecationWarning: the imp module is deprecated in favour of importlib; see the module's documentation for alternative uses\n",
      "    import imp\n",
      "\n",
      "tests/test_pipeline.py: 42 warnings\n",
      "  /Users/Edu/miniconda3/envs/projects/lib/python3.9/site-packages/jsonschema/validators.py:190: DeprecationWarning: Passing a schema to Validator.iter_errors is deprecated and will be removed in a future release. Call validator.evolve(schema=new_schema).iter_errors(...) instead.\n",
      "    warnings.warn(\n",
      "\n",
      "tests/test_pipeline.py::test_pipeline\n",
      "  /Users/Edu/dev/ploomber/src/ploomber/dag/dag.py:390: UserWarning: \n",
      "  =========================== DAG render with warnings ===========================\n",
      "  - NotebookRunner: fit-sklearn--ensemble--RandomForestClassifier -> MetaProduct({'model': File('output-...ifier.joblib'), 'nb': File('output-...sifier.ipynb')}) -\n",
      "  - /Users/Edu/miniconda3/envs/projects/lib/python3.9/site-packages/ml_advanced/templates/fit.py -\n",
      "  Passing a schema to Validator.iter_errors is deprecated and will be removed in a future release. Call validator.evolve(schema=new_schema).iter_errors(...) instead.\n",
      "  - NotebookRunner: fit-ml-advanced--models--logistic-reg -> MetaProduct({'model': File('output-...c_reg.joblib'), 'nb': File('output-...ic_reg.ipynb')}) -\n",
      "  - /Users/Edu/miniconda3/envs/projects/lib/python3.9/site-packages/ml_advanced/templates/fit.py -\n",
      "  Passing a schema to Validator.iter_errors is deprecated and will be removed in a future release. Call validator.evolve(schema=new_schema).iter_errors(...) instead.\n",
      "  - NotebookRunner: fit-ml-advanced--models--svc -> MetaProduct({'model': File('output-...s.svc.joblib'), 'nb': File('output-...ls.svc.ipynb')}) -\n",
      "  - /Users/Edu/miniconda3/envs/projects/lib/python3.9/site-packages/ml_advanced/templates/fit.py -\n",
      "  Passing a schema to Validator.iter_errors is deprecated and will be removed in a future release. Call validator.evolve(schema=new_schema).iter_errors(...) instead.\n",
      "  ============================== Summary (3 tasks) ===============================\n",
      "  NotebookRunner: fit-sklearn--ensemble--RandomForestClassifier -> MetaProduct({'model': File('output-...ifier.joblib'), 'nb': File('output-...sifier.ipynb')})\n",
      "  NotebookRunner: fit-ml-advanced--models--logistic-reg -> MetaProduct({'model': File('output-...c_reg.joblib'), 'nb': File('output-...ic_reg.ipynb')})\n",
      "  NotebookRunner: fit-ml-advanced--models--svc -> MetaProduct({'model': File('output-...s.svc.joblib'), 'nb': File('output-...ls.svc.ipynb')})\n",
      "  =========================== DAG render with warnings ===========================\n",
      "  \n",
      "    warnings.warn(str(warnings_))\n",
      "\n",
      "-- Docs: https://docs.pytest.org/en/stable/warnings.html\n",
      "======================== 1 passed, 44 warnings in 4.79s ========================\n"
     ]
    }
   ],
   "source": [
    "%%bash\n",
    "# incremental (will only run the tasks that have changed)\n",
    "pytest"
   ]
  }
 ],
 "metadata": {
  "kernelspec": {
   "display_name": "Python 3 (ipykernel)",
   "language": "python",
   "name": "python3"
  },
  "language_info": {
   "codemirror_mode": {
    "name": "ipython",
    "version": 3
   },
   "file_extension": ".py",
   "mimetype": "text/x-python",
   "name": "python",
   "nbconvert_exporter": "python",
   "pygments_lexer": "ipython3",
   "version": "3.9.7"
  },
  "papermill": {
   "default_parameters": {},
   "duration": 96.13491,
   "end_time": "2021-10-19T02:27:14.337394",
   "environment_variables": {},
   "exception": null,
   "input_path": "templates/ml-advanced/_build/readme_preprocessed.ipynb",
   "output_path": "templates/ml-advanced/README.ipynb",
   "parameters": {},
   "start_time": "2021-10-19T02:25:38.202484",
   "version": "2.3.3"
  }
 },
 "nbformat": 4,
 "nbformat_minor": 5
}