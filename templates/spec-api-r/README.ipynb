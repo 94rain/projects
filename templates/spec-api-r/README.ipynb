{
 "cells": [
  {
   "cell_type": "markdown",
   "id": "75a6f63b",
   "metadata": {
    "papermill": {
     "duration": 0.016044,
     "end_time": "2021-10-19T02:21:43.066841",
     "exception": false,
     "start_time": "2021-10-19T02:21:43.050797",
     "status": "completed"
    },
    "tags": []
   },
   "source": [
    "To run this example locally, execute: `ploomber examples -n templates/spec-api-r`.\n",
    "\n",
    "To start a free, hosted JupyterLab: [![binder-logo](https://mybinder.org/badge_logo.svg)](https://mybinder.org/v2/gh/ploomber/binder-env/main?urlpath=git-pull%3Frepo%3Dhttps%253A%252F%252Fgithub.com%252Fploomber%252Fprojects%26urlpath%3Dlab%252Ftree%252Fprojects%252Ftemplates/spec-api-r%252FREADME.ipynb%26branch%3Dmaster)\n",
    "\n",
    "Found an issue? [Let us know.](https://github.com/ploomber/projects/issues/new?title=templates/spec-api-r%20issue)\n",
    "\n",
    "Have questions? [Ask us anything on Slack.](http://community.ploomber.io/)\n"
   ]
  },
  {
   "cell_type": "markdown",
   "id": "803dbd20",
   "metadata": {
    "papermill": {
     "duration": 0.01579,
     "end_time": "2021-10-19T02:21:43.099203",
     "exception": false,
     "start_time": "2021-10-19T02:21:43.083413",
     "status": "completed"
    },
    "tags": []
   },
   "source": [
    "# R pipeline\n",
    "\n",
    "<!-- start description -->\n",
    "Load, clean and plot data with R.\n",
    "<!-- end description -->\n",
    "\n",
    "**Note:** If using conda (`environment.yml`), R will be installed and configured. If using pip (`requirements.txt`), you must install R and [configure it yourself]( https://github.com/IRkernel/IRkernel)."
   ]
  },
  {
   "cell_type": "markdown",
   "id": "ae9dcb0e",
   "metadata": {
    "papermill": {
     "duration": 0.013417,
     "end_time": "2021-10-19T02:21:43.126826",
     "exception": false,
     "start_time": "2021-10-19T02:21:43.113409",
     "status": "completed"
    },
    "tags": []
   },
   "source": [
    "## Pipeline description\n",
    "\n",
    "This pipeline contains three tasks. The last task generates a plot. To get the\n",
    "pipeline description:"
   ]
  },
  {
   "cell_type": "code",
   "execution_count": 1,
   "id": "2e106d28",
   "metadata": {
    "execution": {
     "iopub.execute_input": "2021-10-19T02:21:43.163576Z",
     "iopub.status.busy": "2021-10-19T02:21:43.162718Z",
     "iopub.status.idle": "2021-10-19T02:21:47.077462Z",
     "shell.execute_reply": "2021-10-19T02:21:47.078153Z"
    },
    "papermill": {
     "duration": 3.938333,
     "end_time": "2021-10-19T02:21:47.078719",
     "exception": false,
     "start_time": "2021-10-19T02:21:43.140386",
     "status": "completed"
    },
    "tags": []
   },
   "outputs": [
    {
     "name": "stdout",
     "output_type": "stream",
     "text": [
      "name    Last run      Outdated?    Product       Doc (short)    Location\n",
      "------  ------------  -----------  ------------  -------------  ------------\n",
      "raw     Has not been  Source code  MetaProduct(                 /Users/Edu/d\n",
      "        run                        {'data': Fil                 ev/projects-\n",
      "                                   e('output/ra                 ploomber/tem\n",
      "                                   w.csv'),                     plates/spec-\n",
      "                                   'nb': File('                 api-r/raw.R\n",
      "                                   output/raw.i\n",
      "                                   pynb')})\n",
      "clean   Has not been  Source code  MetaProduct(                 /Users/Edu/d\n",
      "        run           & Upstream   {'data': Fil                 ev/projects-\n",
      "                                   e('output/cl                 ploomber/tem\n",
      "                                   ean.csv'),                   plates/spec-\n",
      "                                   'nb': File('                 api-r/clean.\n",
      "                                   output/clean                 R\n",
      "                                   .ipynb')})\n",
      "plot    Has not been  Source code  File('output                 /Users/Edu/d\n",
      "        run           & Upstream   /plot.ipynb'                 ev/projects-\n",
      "                                   )                            ploomber/tem\n",
      "                                                                plates/spec-\n",
      "                                                                api-r/plot.R\n"
     ]
    },
    {
     "name": "stderr",
     "output_type": "stream",
     "text": [
      "\r",
      "  0%|          | 0/3 [00:00<?, ?it/s]\r",
      "100%|██████████| 3/3 [00:00<00:00, 4391.94it/s]\n"
     ]
    }
   ],
   "source": [
    "%%bash\n",
    "ploomber status"
   ]
  },
  {
   "cell_type": "markdown",
   "id": "a17a95e9",
   "metadata": {
    "papermill": {
     "duration": 0.01777,
     "end_time": "2021-10-19T02:21:47.118750",
     "exception": false,
     "start_time": "2021-10-19T02:21:47.100980",
     "status": "completed"
    },
    "tags": []
   },
   "source": [
    "## Build the pipeline from the command line"
   ]
  },
  {
   "cell_type": "code",
   "execution_count": 2,
   "id": "254f2358",
   "metadata": {
    "execution": {
     "iopub.execute_input": "2021-10-19T02:21:47.160124Z",
     "iopub.status.busy": "2021-10-19T02:21:47.159288Z",
     "iopub.status.idle": "2021-10-19T02:21:55.317126Z",
     "shell.execute_reply": "2021-10-19T02:21:55.317714Z"
    },
    "papermill": {
     "duration": 8.182524,
     "end_time": "2021-10-19T02:21:55.317968",
     "exception": false,
     "start_time": "2021-10-19T02:21:47.135444",
     "status": "completed"
    },
    "tags": []
   },
   "outputs": [
    {
     "name": "stdout",
     "output_type": "stream",
     "text": [
      "name    Ran?      Elapsed (s)    Percentage\n",
      "------  ------  -------------  ------------\n",
      "raw     True          1.54593       32.2661\n",
      "clean   True          1.62231       33.8603\n",
      "plot    True          1.62295       33.8736\n"
     ]
    },
    {
     "name": "stderr",
     "output_type": "stream",
     "text": [
      "\r",
      "  0%|          | 0/3 [00:00<?, ?it/s]\r",
      "Building task 'raw':   0%|          | 0/3 [00:00<?, ?it/s]\n",
      "\r",
      "Executing:   0%|          | 0/3 [00:00<?, ?cell/s]\u001b[A\n",
      "\r",
      "Executing:  33%|███▎      | 1/3 [00:01<00:02,  1.28s/cell]\u001b[A\n",
      "\r",
      "Executing: 100%|██████████| 3/3 [00:01<00:00,  2.66cell/s]\u001b[A\n",
      "Execution halted\n",
      "\r",
      "Executing: 100%|██████████| 3/3 [00:01<00:00,  1.98cell/s]\n",
      "\r",
      "Building task 'raw':  33%|███▎      | 1/3 [00:01<00:03,  1.55s/it]\r",
      "Building task 'clean':  33%|███▎      | 1/3 [00:01<00:03,  1.55s/it]\n",
      "\r",
      "Executing:   0%|          | 0/4 [00:00<?, ?cell/s]\u001b[A\n",
      "\r",
      "Executing:  25%|██▌       | 1/4 [00:01<00:03,  1.31s/cell]\u001b[A\n",
      "\r",
      "Executing:  75%|███████▌  | 3/4 [00:01<00:00,  2.59cell/s]\u001b[A\r",
      "Executing: 100%|██████████| 4/4 [00:01<00:00,  2.52cell/s]\n",
      "\r",
      "Building task 'clean':  67%|██████▋   | 2/3 [00:03<00:01,  1.59s/it]\r",
      "Building task 'plot':  67%|██████▋   | 2/3 [00:03<00:01,  1.59s/it] \n",
      "\r",
      "Executing:   0%|          | 0/4 [00:00<?, ?cell/s]\u001b[A\n",
      "\r",
      "Executing:  25%|██▌       | 1/4 [00:01<00:03,  1.22s/cell]\u001b[A\n",
      "\r",
      "Executing:  75%|███████▌  | 3/4 [00:01<00:00,  2.71cell/s]\u001b[A\r",
      "Executing: 100%|██████████| 4/4 [00:01<00:00,  2.54cell/s]\n",
      "\r",
      "Building task 'plot': 100%|██████████| 3/3 [00:04<00:00,  1.61s/it]\r",
      "Building task 'plot': 100%|██████████| 3/3 [00:04<00:00,  1.60s/it]\n"
     ]
    }
   ],
   "source": [
    "%%bash\n",
    "mkdir output\n",
    "ploomber build"
   ]
  },
  {
   "cell_type": "markdown",
   "id": "8c50697c",
   "metadata": {
    "papermill": {
     "duration": 0.017508,
     "end_time": "2021-10-19T02:21:55.353212",
     "exception": false,
     "start_time": "2021-10-19T02:21:55.335704",
     "status": "completed"
    },
    "tags": []
   },
   "source": [
    "Output stored in the ``output/`` directory."
   ]
  }
 ],
 "metadata": {
  "kernelspec": {
   "display_name": "Python 3 (ipykernel)",
   "language": "python",
   "name": "python3"
  },
  "language_info": {
   "codemirror_mode": {
    "name": "ipython",
    "version": 3
   },
   "file_extension": ".py",
   "mimetype": "text/x-python",
   "name": "python",
   "nbconvert_exporter": "python",
   "pygments_lexer": "ipython3",
   "version": "3.9.7"
  },
  "papermill": {
   "default_parameters": {},
   "duration": 13.810449,
   "end_time": "2021-10-19T02:21:55.484572",
   "environment_variables": {},
   "exception": null,
   "input_path": "templates/spec-api-r/_build/readme_preprocessed.ipynb",
   "output_path": "templates/spec-api-r/README.ipynb",
   "parameters": {},
   "start_time": "2021-10-19T02:21:41.674123",
   "version": "2.3.3"
  }
 },
 "nbformat": 4,
 "nbformat_minor": 5
}