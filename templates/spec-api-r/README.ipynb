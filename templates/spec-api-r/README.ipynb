{
 "cells": [
  {
   "cell_type": "markdown",
   "id": "5d815dce",
   "metadata": {
    "papermill": {
     "duration": 0.021615,
     "end_time": "2021-10-28T01:30:35.487508",
     "exception": false,
     "start_time": "2021-10-28T01:30:35.465893",
     "status": "completed"
    },
    "tags": []
   },
   "source": [
    "To run this example locally, [install Ploomber](https://ploomber.readthedocs.io/en/latest/get-started/install.html) and execute: `ploomber examples -n templates/spec-api-r`\n",
    "\n",
    "To start a free, hosted JupyterLab: [![binder-logo](https://mybinder.org/badge_logo.svg)](https://mybinder.org/v2/gh/ploomber/binder-env/main?urlpath=git-pull%3Frepo%3Dhttps%253A%252F%252Fgithub.com%252Fploomber%252Fprojects%26urlpath%3Dlab%252Ftree%252Fprojects%252Ftemplates/spec-api-r%252FREADME.ipynb%26branch%3Dmaster)\n",
    "\n",
    "Found an issue? [Let us know.](https://github.com/ploomber/projects/issues/new?title=templates/spec-api-r%20issue)\n",
    "\n",
    "Have questions? [Ask us anything on Slack.](http://community.ploomber.io/)\n"
   ]
  },
  {
   "cell_type": "markdown",
   "id": "1e7f893c",
   "metadata": {
    "papermill": {
     "duration": 0.019706,
     "end_time": "2021-10-28T01:30:35.527421",
     "exception": false,
     "start_time": "2021-10-28T01:30:35.507715",
     "status": "completed"
    },
    "tags": []
   },
   "source": [
    "# R pipeline\n",
    "\n",
    "<!-- start description -->\n",
    "Load, clean and plot data with R.\n",
    "<!-- end description -->\n",
    "\n",
    "**Note:** If using conda (`environment.yml`), R will be installed and configured. If using pip (`requirements.txt`), you must install R and [configure it yourself]( https://github.com/IRkernel/IRkernel)."
   ]
  },
  {
   "cell_type": "markdown",
   "id": "c9812a2c",
   "metadata": {
    "papermill": {
     "duration": 0.021496,
     "end_time": "2021-10-28T01:30:35.566868",
     "exception": false,
     "start_time": "2021-10-28T01:30:35.545372",
     "status": "completed"
    },
    "tags": []
   },
   "source": [
    "## Pipeline description\n",
    "\n",
    "This pipeline contains three tasks. The last task generates a plot. To get the\n",
    "pipeline description:"
   ]
  },
  {
   "cell_type": "code",
   "execution_count": 1,
   "id": "7ad16cfd",
   "metadata": {
    "execution": {
     "iopub.execute_input": "2021-10-28T01:30:35.619865Z",
     "iopub.status.busy": "2021-10-28T01:30:35.618548Z",
     "iopub.status.idle": "2021-10-28T01:30:39.814375Z",
     "shell.execute_reply": "2021-10-28T01:30:39.815038Z"
    },
    "papermill": {
     "duration": 4.229873,
     "end_time": "2021-10-28T01:30:39.815370",
     "exception": false,
     "start_time": "2021-10-28T01:30:35.585497",
     "status": "completed"
    },
    "tags": []
   },
   "outputs": [
    {
     "name": "stdout",
     "output_type": "stream",
     "text": [
      "name    Last run      Outdated?    Product       Doc (short)    Location\n",
      "------  ------------  -----------  ------------  -------------  ------------\n",
      "raw     Has not been  Source code  MetaProduct(                 /Users/Edu/d\n",
      "        run                        {'data': Fil                 ev/projects-\n",
      "                                   e('output/ra                 ploomber/tem\n",
      "                                   w.csv'),                     plates/spec-\n",
      "                                   'nb': File('                 api-r/raw.R\n",
      "                                   output/raw.i\n",
      "                                   pynb')})\n",
      "clean   Has not been  Source code  MetaProduct(                 /Users/Edu/d\n",
      "        run           & Upstream   {'data': Fil                 ev/projects-\n",
      "                                   e('output/cl                 ploomber/tem\n",
      "                                   ean.csv'),                   plates/spec-\n",
      "                                   'nb': File('                 api-r/clean.\n",
      "                                   output/clean                 R\n",
      "                                   .ipynb')})\n",
      "plot    Has not been  Source code  File('output                 /Users/Edu/d\n",
      "        run           & Upstream   /plot.ipynb'                 ev/projects-\n",
      "                                   )                            ploomber/tem\n",
      "                                                                plates/spec-\n",
      "                                                                api-r/plot.R\n"
     ]
    },
    {
     "name": "stderr",
     "output_type": "stream",
     "text": [
      "\r",
      "  0%|          | 0/3 [00:00<?, ?it/s]\r",
      "100%|██████████| 3/3 [00:00<00:00, 4076.10it/s]\n"
     ]
    }
   ],
   "source": [
    "%%bash\n",
    "ploomber status"
   ]
  },
  {
   "cell_type": "markdown",
   "id": "c416e0bf",
   "metadata": {
    "papermill": {
     "duration": 0.017169,
     "end_time": "2021-10-28T01:30:39.849714",
     "exception": false,
     "start_time": "2021-10-28T01:30:39.832545",
     "status": "completed"
    },
    "tags": []
   },
   "source": [
    "## Build the pipeline from the command line"
   ]
  },
  {
   "cell_type": "code",
   "execution_count": 2,
   "id": "67cad029",
   "metadata": {
    "execution": {
     "iopub.execute_input": "2021-10-28T01:30:39.891828Z",
     "iopub.status.busy": "2021-10-28T01:30:39.890251Z",
     "iopub.status.idle": "2021-10-28T01:30:48.564972Z",
     "shell.execute_reply": "2021-10-28T01:30:48.565909Z"
    },
    "papermill": {
     "duration": 8.698113,
     "end_time": "2021-10-28T01:30:48.566156",
     "exception": false,
     "start_time": "2021-10-28T01:30:39.868043",
     "status": "completed"
    },
    "tags": []
   },
   "outputs": [
    {
     "name": "stdout",
     "output_type": "stream",
     "text": [
      "name    Ran?      Elapsed (s)    Percentage\n",
      "------  ------  -------------  ------------\n",
      "raw     True          1.76271       35.1039\n",
      "clean   True          1.59697       31.8032\n",
      "plot    True          1.66173       33.0929\n"
     ]
    },
    {
     "name": "stderr",
     "output_type": "stream",
     "text": [
      "\r",
      "  0%|          | 0/3 [00:00<?, ?it/s]\r",
      "Building task 'raw':   0%|          | 0/3 [00:00<?, ?it/s]\n",
      "\r",
      "Executing:   0%|          | 0/3 [00:00<?, ?cell/s]\u001b[A\n",
      "\r",
      "Executing:  33%|███▎      | 1/3 [00:01<00:02,  1.49s/cell]\u001b[A\n",
      "\r",
      "Executing: 100%|██████████| 3/3 [00:01<00:00,  2.33cell/s]\u001b[A\r",
      "Executing: 100%|██████████| 3/3 [00:01<00:00,  1.74cell/s]\n",
      "\r",
      "Building task 'raw':  33%|███▎      | 1/3 [00:01<00:03,  1.77s/it]\r",
      "Building task 'clean':  33%|███▎      | 1/3 [00:01<00:03,  1.77s/it]\n",
      "\r",
      "Executing:   0%|          | 0/4 [00:00<?, ?cell/s]\u001b[A\n",
      "\r",
      "Executing:  25%|██▌       | 1/4 [00:01<00:03,  1.25s/cell]\u001b[A\n",
      "\r",
      "Executing:  75%|███████▌  | 3/4 [00:01<00:00,  2.73cell/s]\u001b[A\r",
      "Executing: 100%|██████████| 4/4 [00:01<00:00,  2.62cell/s]\n",
      "\r",
      "Building task 'clean':  67%|██████▋   | 2/3 [00:03<00:01,  1.67s/it]\r",
      "Building task 'plot':  67%|██████▋   | 2/3 [00:03<00:01,  1.67s/it] \n",
      "\r",
      "Executing:   0%|          | 0/4 [00:00<?, ?cell/s]\u001b[A\n",
      "\r",
      "Executing:  25%|██▌       | 1/4 [00:01<00:03,  1.24s/cell]\u001b[A\n",
      "\r",
      "Executing:  75%|███████▌  | 3/4 [00:01<00:00,  2.66cell/s]\u001b[A\n",
      "\r",
      "Executing: 100%|██████████| 4/4 [00:01<00:00,  3.56cell/s]\u001b[A\r",
      "Executing: 100%|██████████| 4/4 [00:01<00:00,  2.49cell/s]\n",
      "\r",
      "Building task 'plot': 100%|██████████| 3/3 [00:05<00:00,  1.67s/it]\r",
      "Building task 'plot': 100%|██████████| 3/3 [00:05<00:00,  1.68s/it]\n"
     ]
    }
   ],
   "source": [
    "%%bash\n",
    "mkdir output\n",
    "ploomber build"
   ]
  },
  {
   "cell_type": "markdown",
   "id": "78575c08",
   "metadata": {
    "papermill": {
     "duration": 0.01865,
     "end_time": "2021-10-28T01:30:48.601395",
     "exception": false,
     "start_time": "2021-10-28T01:30:48.582745",
     "status": "completed"
    },
    "tags": []
   },
   "source": [
    "Output stored in the ``output/`` directory."
   ]
  }
 ],
 "metadata": {
  "kernelspec": {
   "display_name": "Python 3 (ipykernel)",
   "language": "python",
   "name": "python3"
  },
  "language_info": {
   "codemirror_mode": {
    "name": "ipython",
    "version": 3
   },
   "file_extension": ".py",
   "mimetype": "text/x-python",
   "name": "python",
   "nbconvert_exporter": "python",
   "pygments_lexer": "ipython3",
   "version": "3.9.7"
  },
  "papermill": {
   "default_parameters": {},
   "duration": 14.766158,
   "end_time": "2021-10-28T01:30:48.836513",
   "environment_variables": {},
   "exception": null,
   "input_path": "templates/spec-api-r/_build/readme_preprocessed.ipynb",
   "output_path": "templates/spec-api-r/README.ipynb",
   "parameters": {},
   "start_time": "2021-10-28T01:30:34.070355",
   "version": "2.3.3"
  }
 },
 "nbformat": 4,
 "nbformat_minor": 5
}