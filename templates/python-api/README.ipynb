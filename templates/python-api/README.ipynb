{
 "cells": [
  {
   "cell_type": "markdown",
   "id": "069b15ab",
   "metadata": {
    "papermill": {
     "duration": 0.012957,
     "end_time": "2021-10-19T02:30:36.394209",
     "exception": false,
     "start_time": "2021-10-19T02:30:36.381252",
     "status": "completed"
    },
    "tags": []
   },
   "source": [
    "To run this example locally, execute: `ploomber examples -n templates/python-api`.\n",
    "\n",
    "To start a free, hosted JupyterLab: [![binder-logo](https://mybinder.org/badge_logo.svg)](https://mybinder.org/v2/gh/ploomber/binder-env/main?urlpath=git-pull%3Frepo%3Dhttps%253A%252F%252Fgithub.com%252Fploomber%252Fprojects%26urlpath%3Dlab%252Ftree%252Fprojects%252Ftemplates/python-api%252FREADME.ipynb%26branch%3Dmaster)\n",
    "\n",
    "Found an issue? [Let us know.](https://github.com/ploomber/projects/issues/new?title=templates/python-api%20issue)\n",
    "\n",
    "Have questions? [Ask us anything on Slack.](http://community.ploomber.io/)\n"
   ]
  },
  {
   "cell_type": "markdown",
   "id": "9c1231e3",
   "metadata": {
    "papermill": {
     "duration": 0.009607,
     "end_time": "2021-10-19T02:30:36.413016",
     "exception": false,
     "start_time": "2021-10-19T02:30:36.403409",
     "status": "completed"
    },
    "tags": []
   },
   "source": [
    "# Python API\n",
    "\n",
    "<!-- start description -->\n",
    "Loads, clean, and plot data using the Python API.\n",
    "<!-- end description -->"
   ]
  },
  {
   "cell_type": "markdown",
   "id": "b4922c86",
   "metadata": {
    "papermill": {
     "duration": 0.009179,
     "end_time": "2021-10-19T02:30:36.431577",
     "exception": false,
     "start_time": "2021-10-19T02:30:36.422398",
     "status": "completed"
    },
    "tags": []
   },
   "source": [
    "If you're new to the Python API, check out [python-api-examples/](../../python-api-examples) directory, containing tutorials and more examples.\n",
    "\n",
    "## Description\n",
    "\n",
    "This pipeline has three tasks:\n",
    "\n",
    "1. Load task (Python function): CSV file\n",
    "2. Clean task (Python script):  Jupyter notebook and another CSV file\n",
    "3. Plot task (Python scripts): Jupyter notebook\n",
    "\n",
    "## Build"
   ]
  },
  {
   "cell_type": "code",
   "execution_count": 1,
   "id": "309a7092",
   "metadata": {
    "execution": {
     "iopub.execute_input": "2021-10-19T02:30:36.457925Z",
     "iopub.status.busy": "2021-10-19T02:30:36.457194Z",
     "iopub.status.idle": "2021-10-19T02:30:50.845623Z",
     "shell.execute_reply": "2021-10-19T02:30:50.846224Z"
    },
    "papermill": {
     "duration": 14.406345,
     "end_time": "2021-10-19T02:30:50.846675",
     "exception": false,
     "start_time": "2021-10-19T02:30:36.440330",
     "status": "completed"
    },
    "tags": []
   },
   "outputs": [
    {
     "name": "stdout",
     "output_type": "stream",
     "text": [
      "name    Ran?      Elapsed (s)    Percentage\n",
      "------  ------  -------------  ------------\n",
      "load    True          0.00736      0.116513\n",
      "clean   True          2.54526     40.293\n",
      "plot    True          3.76426     59.5905\n"
     ]
    },
    {
     "name": "stderr",
     "output_type": "stream",
     "text": [
      "\r",
      "  0%|          | 0/3 [00:00<?, ?it/s]\r",
      "Building task 'load':   0%|          | 0/3 [00:00<?, ?it/s]\r",
      "Building task 'load':  33%|███▎      | 1/3 [00:03<00:06,  3.38s/it]\r",
      "Building task 'clean':  33%|███▎      | 1/3 [00:03<00:06,  3.38s/it]\n",
      "\r",
      "Executing:   0%|          | 0/5 [00:00<?, ?cell/s]\u001b[A\n",
      "\r",
      "Executing:  20%|██        | 1/5 [00:02<00:08,  2.07s/cell]\u001b[A\n",
      "\r",
      "Executing:  80%|████████  | 4/5 [00:02<00:00,  2.35cell/s]\u001b[A\r",
      "Executing: 100%|██████████| 5/5 [00:02<00:00,  2.04cell/s]\n",
      "\r",
      "Building task 'clean':  67%|██████▋   | 2/3 [00:05<00:02,  2.91s/it]\r",
      "Building task 'plot':  67%|██████▋   | 2/3 [00:05<00:02,  2.91s/it] \n",
      "\r",
      "Executing:   0%|          | 0/6 [00:00<?, ?cell/s]\u001b[A\n",
      "\r",
      "Executing:  17%|█▋        | 1/6 [00:02<00:14,  2.88s/cell]\u001b[A\n",
      "\r",
      "Executing:  67%|██████▋   | 4/6 [00:02<00:01,  1.74cell/s]\u001b[A\n",
      "\r",
      "Executing: 100%|██████████| 6/6 [00:03<00:00,  2.52cell/s]\u001b[A\r",
      "Executing: 100%|██████████| 6/6 [00:03<00:00,  1.65cell/s]\n",
      "\r",
      "Building task 'plot': 100%|██████████| 3/3 [00:09<00:00,  3.31s/it]\r",
      "Building task 'plot': 100%|██████████| 3/3 [00:09<00:00,  3.25s/it]\n"
     ]
    }
   ],
   "source": [
    "%%bash\n",
    "ploomber build"
   ]
  }
 ],
 "metadata": {
  "kernelspec": {
   "display_name": "Python 3 (ipykernel)",
   "language": "python",
   "name": "python3"
  },
  "language_info": {
   "codemirror_mode": {
    "name": "ipython",
    "version": 3
   },
   "file_extension": ".py",
   "mimetype": "text/x-python",
   "name": "python",
   "nbconvert_exporter": "python",
   "pygments_lexer": "ipython3",
   "version": "3.9.7"
  },
  "papermill": {
   "default_parameters": {},
   "duration": 16.391484,
   "end_time": "2021-10-19T02:30:51.081321",
   "environment_variables": {},
   "exception": null,
   "input_path": "templates/python-api/_build/readme_preprocessed.ipynb",
   "output_path": "templates/python-api/README.ipynb",
   "parameters": {},
   "start_time": "2021-10-19T02:30:34.689837",
   "version": "2.3.3"
  }
 },
 "nbformat": 4,
 "nbformat_minor": 5
}