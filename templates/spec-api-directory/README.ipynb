{
 "cells": [
  {
   "cell_type": "markdown",
   "id": "39ed9a7c",
   "metadata": {
    "papermill": {
     "duration": 0.016313,
     "end_time": "2021-10-19T02:25:07.166712",
     "exception": false,
     "start_time": "2021-10-19T02:25:07.150399",
     "status": "completed"
    },
    "tags": []
   },
   "source": [
    "To run this example locally, execute: `ploomber examples -n templates/spec-api-directory`.\n",
    "\n",
    "To start a free, hosted JupyterLab: [![binder-logo](https://mybinder.org/badge_logo.svg)](https://mybinder.org/v2/gh/ploomber/binder-env/main?urlpath=git-pull%3Frepo%3Dhttps%253A%252F%252Fgithub.com%252Fploomber%252Fprojects%26urlpath%3Dlab%252Ftree%252Fprojects%252Ftemplates/spec-api-directory%252FREADME.ipynb%26branch%3Dmaster)\n",
    "\n",
    "Found an issue? [Let us know.](https://github.com/ploomber/projects/issues/new?title=templates/spec-api-directory%20issue)\n",
    "\n",
    "Have questions? [Ask us anything on Slack.](http://community.ploomber.io/)\n"
   ]
  },
  {
   "cell_type": "markdown",
   "id": "435ce079",
   "metadata": {
    "papermill": {
     "duration": 0.015097,
     "end_time": "2021-10-19T02:25:07.198282",
     "exception": false,
     "start_time": "2021-10-19T02:25:07.183185",
     "status": "completed"
    },
    "tags": []
   },
   "source": [
    "# Pipeline from a directory\n",
    "\n",
    "<!-- start description -->\n",
    "Create a pipeline from a directory with scripts (without a pipeline.yaml file).\n",
    "<!-- end description -->\n",
    "\n",
    "## Build"
   ]
  },
  {
   "cell_type": "code",
   "execution_count": 1,
   "id": "462c3c8c",
   "metadata": {
    "execution": {
     "iopub.execute_input": "2021-10-19T02:25:07.237771Z",
     "iopub.status.busy": "2021-10-19T02:25:07.236489Z",
     "iopub.status.idle": "2021-10-19T02:25:32.733098Z",
     "shell.execute_reply": "2021-10-19T02:25:32.733708Z"
    },
    "papermill": {
     "duration": 25.521144,
     "end_time": "2021-10-19T02:25:32.734112",
     "exception": false,
     "start_time": "2021-10-19T02:25:07.212968",
     "status": "completed"
    },
    "tags": []
   },
   "outputs": [
    {
     "name": "stdout",
     "output_type": "stream",
     "text": [
      "name           Ran?      Elapsed (s)    Percentage\n",
      "-------------  ------  -------------  ------------\n",
      "get-users      True          5.19664       25.3217\n",
      "get-actions    True          4.42645       21.5688\n",
      "clean-users    True          2.46233       11.9983\n",
      "clean-actions  True          3.13429       15.2725\n",
      "train-model    True          5.30273       25.8387\n"
     ]
    },
    {
     "name": "stderr",
     "output_type": "stream",
     "text": [
      "\r",
      "  0%|          | 0/5 [00:00<?, ?it/s]\r",
      "Building task 'get-users':   0%|          | 0/5 [00:00<?, ?it/s]\n",
      "\r",
      "Executing:   0%|          | 0/7 [00:00<?, ?cell/s]\u001b[A\n",
      "\r",
      "Executing:  14%|█▍        | 1/7 [00:01<00:09,  1.52s/cell]\u001b[A\n",
      "\r",
      "Executing:  29%|██▊       | 2/7 [00:03<00:10,  2.03s/cell]\u001b[A\n",
      "\r",
      "Executing:  71%|███████▏  | 5/7 [00:04<00:01,  1.64cell/s]\u001b[A\n",
      "\r",
      "Executing: 100%|██████████| 7/7 [00:04<00:00,  1.95cell/s]\u001b[A\r",
      "Executing: 100%|██████████| 7/7 [00:05<00:00,  1.37cell/s]\n",
      "\r",
      "Building task 'get-users':  20%|██        | 1/5 [00:05<00:20,  5.20s/it]\r",
      "Building task 'get-actions':  20%|██        | 1/5 [00:05<00:20,  5.20s/it]\n",
      "\r",
      "Executing:   0%|          | 0/7 [00:00<?, ?cell/s]\u001b[A\n",
      "\r",
      "Executing:  14%|█▍        | 1/7 [00:01<00:09,  1.60s/cell]\u001b[A\n",
      "\r",
      "Executing:  29%|██▊       | 2/7 [00:03<00:08,  1.69s/cell]\u001b[A\n",
      "\r",
      "Executing:  57%|█████▋    | 4/7 [00:03<00:02,  1.50cell/s]\u001b[A\n",
      "\r",
      "Executing:  86%|████████▌ | 6/7 [00:03<00:00,  2.15cell/s]\u001b[A\r",
      "Executing: 100%|██████████| 7/7 [00:04<00:00,  1.60cell/s]\n",
      "\r",
      "Building task 'get-actions':  40%|████      | 2/5 [00:09<00:14,  4.75s/it]\r",
      "Building task 'clean-users':  40%|████      | 2/5 [00:09<00:14,  4.75s/it]\n",
      "\r",
      "Executing:   0%|          | 0/5 [00:00<?, ?cell/s]\u001b[A\n",
      "\r",
      "Executing:  20%|██        | 1/5 [00:01<00:05,  1.47s/cell]\u001b[A\n",
      "\r",
      "Executing:  40%|████      | 2/5 [00:02<00:02,  1.09cell/s]\u001b[A\n",
      "\r",
      "Executing: 100%|██████████| 5/5 [00:02<00:00,  3.28cell/s]\u001b[A\r",
      "Executing: 100%|██████████| 5/5 [00:02<00:00,  2.08cell/s]\n",
      "\r",
      "Building task 'clean-users':  60%|██████    | 3/5 [00:12<00:07,  3.71s/it]\r",
      "Building task 'clean-actions':  60%|██████    | 3/5 [00:12<00:07,  3.71s/it]\n",
      "\r",
      "Executing:   0%|          | 0/4 [00:00<?, ?cell/s]\u001b[A\n",
      "\r",
      "Executing:  25%|██▌       | 1/4 [00:02<00:07,  2.40s/cell]\u001b[A\n",
      "\r",
      "Executing:  50%|█████     | 2/4 [00:02<00:02,  1.06s/cell]\u001b[A\n",
      "\r",
      "Executing:  75%|███████▌  | 3/4 [00:02<00:00,  1.57cell/s]\u001b[A\n",
      "\r",
      "Executing: 100%|██████████| 4/4 [00:02<00:00,  2.31cell/s]\u001b[A\r",
      "Executing: 100%|██████████| 4/4 [00:03<00:00,  1.29cell/s]\n",
      "\r",
      "Building task 'clean-actions':  80%|████████  | 4/5 [00:15<00:03,  3.48s/it]\r",
      "Building task 'train-model':  80%|████████  | 4/5 [00:15<00:03,  3.48s/it]  \n",
      "\r",
      "Executing:   0%|          | 0/14 [00:00<?, ?cell/s]\u001b[A\n",
      "\r",
      "Executing:   7%|▋         | 1/14 [00:01<00:20,  1.56s/cell]\u001b[A\n",
      "\r",
      "Executing:  14%|█▍        | 2/14 [00:03<00:19,  1.64s/cell]\u001b[A\n",
      "\r",
      "Executing:  29%|██▊       | 4/14 [00:03<00:06,  1.51cell/s]\u001b[A\n",
      "\r",
      "Executing:  43%|████▎     | 6/14 [00:03<00:03,  2.52cell/s]\u001b[A\n",
      "\r",
      "Executing:  57%|█████▋    | 8/14 [00:03<00:01,  3.71cell/s]\u001b[A\n",
      "\r",
      "Executing:  71%|███████▏  | 10/14 [00:03<00:00,  4.89cell/s]\u001b[A\n",
      "\r",
      "Executing:  79%|███████▊  | 11/14 [00:04<00:00,  5.44cell/s]\u001b[A\n",
      "\r",
      "Executing:  93%|█████████▎| 13/14 [00:04<00:00,  4.91cell/s]\u001b[A\r",
      "Executing: 100%|██████████| 14/14 [00:05<00:00,  2.72cell/s]\n",
      "\r",
      "Building task 'train-model': 100%|██████████| 5/5 [00:20<00:00,  4.14s/it]\r",
      "Building task 'train-model': 100%|██████████| 5/5 [00:20<00:00,  4.11s/it]\n"
     ]
    }
   ],
   "source": [
    "%%bash\n",
    "mkdir output\n",
    "ploomber build --entry-point '*.py'"
   ]
  },
  {
   "cell_type": "markdown",
   "id": "4676bf1f",
   "metadata": {
    "papermill": {
     "duration": 0.017462,
     "end_time": "2021-10-19T02:25:32.770661",
     "exception": false,
     "start_time": "2021-10-19T02:25:32.753199",
     "status": "completed"
    },
    "tags": []
   },
   "source": [
    "Output stored in the `output/` directory."
   ]
  },
  {
   "cell_type": "markdown",
   "id": "82a6a317",
   "metadata": {
    "papermill": {
     "duration": 0.018868,
     "end_time": "2021-10-19T02:25:32.812985",
     "exception": false,
     "start_time": "2021-10-19T02:25:32.794117",
     "status": "completed"
    },
    "tags": []
   },
   "source": [
    "## Describe\n",
    "\n",
    "This pipeline contains five steps. The last task trains a model and outputs a\n",
    "report and a model file. To get the pipeline description:"
   ]
  },
  {
   "cell_type": "code",
   "execution_count": 2,
   "id": "883f1916",
   "metadata": {
    "execution": {
     "iopub.execute_input": "2021-10-19T02:25:32.856851Z",
     "iopub.status.busy": "2021-10-19T02:25:32.856126Z",
     "iopub.status.idle": "2021-10-19T02:25:37.846050Z",
     "shell.execute_reply": "2021-10-19T02:25:37.846546Z"
    },
    "papermill": {
     "duration": 5.015129,
     "end_time": "2021-10-19T02:25:37.846788",
     "exception": false,
     "start_time": "2021-10-19T02:25:32.831659",
     "status": "completed"
    },
    "tags": []
   },
   "outputs": [
    {
     "name": "stdout",
     "output_type": "stream",
     "text": [
      "name         Last run    Outdated?    Product      Doc          Location\n",
      "                                                   (short)\n",
      "-----------  ----------  -----------  -----------  -----------  ----------\n",
      "get-users    20 seconds  False        MetaProduct  Get users    get-\n",
      "             ago (Oct                 ({'data': F  data and     users.py\n",
      "             18, 21 at                ile('output  make some\n",
      "             22:25)                   /users.parq  charts\n",
      "                                      uet'),\n",
      "                                      'nb': File(\n",
      "                                      'output/get\n",
      "                                      -users.ipyn\n",
      "                                      b')})\n",
      "get-actions  16 seconds  False        MetaProduct  Get actions  get-\n",
      "             ago (Oct                 ({'data': F  data and     actions.py\n",
      "             18, 21 at                ile('output  make some\n",
      "             22:25)                   /actions.pa  charts\n",
      "                                      rquet'),\n",
      "                                      'nb': File(\n",
      "                                      'output/...\n",
      "                                      ctions.ipyn\n",
      "                                      b')})\n",
      "clean-users  13 seconds  False        MetaProduct  Clean users  clean-\n",
      "             ago (Oct                 ({'data': F  data         users.py\n",
      "             18, 21 at                ile('output\n",
      "             22:25)                   /...sers.pa\n",
      "                                      rquet'),\n",
      "                                      'nb': File(\n",
      "                                      'output/...\n",
      "                                      -users.ipyn\n",
      "                                      b')})\n",
      "clean-       10 seconds  False        MetaProduct               clean-\n",
      "actions      ago (Oct                 ({'data': F               actions.py\n",
      "             18, 21 at                ile('output\n",
      "             22:25)                   /...ions.pa\n",
      "                                      rquet'),\n",
      "                                      'nb': File(\n",
      "                                      'output/...\n",
      "                                      ctions.ipyn\n",
      "                                      b')})\n",
      "train-model  5 seconds   False        MetaProduct  Train model  train-\n",
      "             ago (Oct                 ({'model':   and          model.py\n",
      "             18, 21 at                File('outpu  evaluate\n",
      "             22:25)                   t/model.pic\n",
      "                                      kle'),\n",
      "                                      'nb': File(\n",
      "                                      'output/...\n",
      "                                      uation.ipyn\n",
      "                                      b')})\n"
     ]
    },
    {
     "name": "stderr",
     "output_type": "stream",
     "text": [
      "\r",
      "  0%|          | 0/5 [00:00<?, ?it/s]\r",
      "100%|██████████| 5/5 [00:00<00:00, 3705.87it/s]\n"
     ]
    }
   ],
   "source": [
    "%%bash\n",
    "ploomber status --entry-point '*.py'"
   ]
  },
  {
   "cell_type": "markdown",
   "id": "f43c6a9d",
   "metadata": {
    "papermill": {
     "duration": 0.017145,
     "end_time": "2021-10-19T02:25:37.882712",
     "exception": false,
     "start_time": "2021-10-19T02:25:37.865567",
     "status": "completed"
    },
    "tags": []
   },
   "source": [
    "`--entry-point '*.py'` means \"all files with py extension are tasks in the\n",
    "pipeline\". If all the files in the current directory are tasks, you can also\n",
    "use the shortcut `--entry-point .`."
   ]
  }
 ],
 "metadata": {
  "kernelspec": {
   "display_name": "Python 3 (ipykernel)",
   "language": "python",
   "name": "python3"
  },
  "language_info": {
   "codemirror_mode": {
    "name": "ipython",
    "version": 3
   },
   "file_extension": ".py",
   "mimetype": "text/x-python",
   "name": "python",
   "nbconvert_exporter": "python",
   "pygments_lexer": "ipython3",
   "version": "3.9.7"
  },
  "papermill": {
   "default_parameters": {},
   "duration": 32.263676,
   "end_time": "2021-10-19T02:25:38.113467",
   "environment_variables": {},
   "exception": null,
   "input_path": "templates/spec-api-directory/_build/readme_preprocessed.ipynb",
   "output_path": "templates/spec-api-directory/README.ipynb",
   "parameters": {},
   "start_time": "2021-10-19T02:25:05.849791",
   "version": "2.3.3"
  }
 },
 "nbformat": 4,
 "nbformat_minor": 5
}