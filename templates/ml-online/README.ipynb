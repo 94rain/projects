{
 "cells": [
  {
   "cell_type": "markdown",
   "id": "a6393932",
   "metadata": {
    "papermill": {
     "duration": 0.049866,
     "end_time": "2021-10-19T02:30:52.600962",
     "exception": false,
     "start_time": "2021-10-19T02:30:52.551096",
     "status": "completed"
    },
    "tags": []
   },
   "source": [
    "To run this example locally, execute: `ploomber examples -n templates/ml-online`.\n",
    "\n",
    "To start a free, hosted JupyterLab: [![binder-logo](https://mybinder.org/badge_logo.svg)](https://mybinder.org/v2/gh/ploomber/binder-env/main?urlpath=git-pull%3Frepo%3Dhttps%253A%252F%252Fgithub.com%252Fploomber%252Fprojects%26urlpath%3Dlab%252Ftree%252Fprojects%252Ftemplates/ml-online%252FREADME.ipynb%26branch%3Dmaster)\n",
    "\n",
    "Found an issue? [Let us know.](https://github.com/ploomber/projects/issues/new?title=templates/ml-online%20issue)\n",
    "\n",
    "Have questions? [Ask us anything on Slack.](http://community.ploomber.io/)\n",
    "\n"
   ]
  },
  {
   "cell_type": "markdown",
   "id": "62c78291",
   "metadata": {
    "papermill": {
     "duration": 0.061533,
     "end_time": "2021-10-19T02:30:52.711855",
     "exception": false,
     "start_time": "2021-10-19T02:30:52.650322",
     "status": "completed"
    },
    "tags": []
   },
   "source": [
    "# Machine Learning pipeline with online API\n",
    "\n",
    "<!-- start description -->\n",
    "Load data, generate features, train a model, and deploy model with flask.\n",
    "<!-- end description -->\n",
    "\n",
    "Note: all commands must be executed in the `ml-online/` directory.\n",
    "\n",
    "## Setup\n",
    "\n",
    "```sh\n",
    "pip install --editable \".[dev]\"\n",
    "```\n",
    "\n",
    "## File layout\n",
    "\n",
    "`src/ml_online`:\n",
    "\n",
    "1. `pipeline-features.yaml`: feature engineering YAML spec\n",
    "2. `pipeline.yaml`: training pipeline\n",
    "3. `infer.py`: converts training pipeline to an inference pipeline\n",
    "4. `service.py`: uses inference pipeline to serve predictions using Flask\n",
    "\n",
    "## Training pipeline"
   ]
  },
  {
   "cell_type": "code",
   "execution_count": 1,
   "id": "500aed47",
   "metadata": {
    "execution": {
     "iopub.execute_input": "2021-10-19T02:30:52.869770Z",
     "iopub.status.busy": "2021-10-19T02:30:52.868899Z",
     "iopub.status.idle": "2021-10-19T02:31:25.871039Z",
     "shell.execute_reply": "2021-10-19T02:31:25.870391Z"
    },
    "papermill": {
     "duration": 33.078197,
     "end_time": "2021-10-19T02:31:25.871237",
     "exception": false,
     "start_time": "2021-10-19T02:30:52.793040",
     "status": "completed"
    },
    "tags": []
   },
   "outputs": [
    {
     "name": "stdout",
     "output_type": "stream",
     "text": [
      "name        Ran?      Elapsed (s)    Percentage\n",
      "----------  ------  -------------  ------------\n",
      "get         True         0.017032      0.295349\n",
      "sepal-area  True         0.049882      0.864997\n",
      "petal-area  True         0.02654       0.460226\n",
      "features    True         0.036309      0.629629\n",
      "fit         True         5.63697      97.7498\n"
     ]
    },
    {
     "name": "stderr",
     "output_type": "stream",
     "text": [
      "\r",
      "  0%|          | 0/5 [00:00<?, ?it/s]\r",
      "Building task 'get':   0%|          | 0/5 [00:00<?, ?it/s]\r",
      "Building task 'get':  20%|██        | 1/5 [00:05<00:23,  5.98s/it]\r",
      "Building task 'sepal-area':  20%|██        | 1/5 [00:05<00:23,  5.98s/it]\r",
      "Building task 'sepal-area':  40%|████      | 2/5 [00:10<00:15,  5.24s/it]\r",
      "Building task 'petal-area':  40%|████      | 2/5 [00:10<00:15,  5.24s/it]\r",
      "Building task 'petal-area':  60%|██████    | 3/5 [00:14<00:09,  4.62s/it]\r",
      "Building task 'features':  60%|██████    | 3/5 [00:14<00:09,  4.62s/it]  \r",
      "Building task 'features':  80%|████████  | 4/5 [00:18<00:04,  4.28s/it]\r",
      "Building task 'fit':  80%|████████  | 4/5 [00:18<00:04,  4.28s/it]     \n",
      "\r",
      "Executing:   0%|          | 0/11 [00:00<?, ?cell/s]\u001b[A\n",
      "\r",
      "Executing:   9%|▉         | 1/11 [00:02<00:20,  2.04s/cell]\u001b[A\n",
      "\r",
      "Executing:  18%|█▊        | 2/11 [00:03<00:16,  1.83s/cell]\u001b[A\n",
      "\r",
      "Executing:  36%|███▋      | 4/11 [00:03<00:05,  1.39cell/s]\u001b[A\n",
      "\r",
      "Executing:  45%|████▌     | 5/11 [00:03<00:03,  1.89cell/s]\u001b[A\n",
      "\r",
      "Executing:  64%|██████▎   | 7/11 [00:04<00:01,  3.21cell/s]\u001b[A\n",
      "\r",
      "Executing:  82%|████████▏ | 9/11 [00:04<00:00,  4.70cell/s]\u001b[A\n",
      "\r",
      "Executing: 100%|██████████| 11/11 [00:04<00:00,  4.90cell/s]\u001b[A\r",
      "Executing: 100%|██████████| 11/11 [00:04<00:00,  2.24cell/s]\n",
      "\r",
      "Building task 'fit': 100%|██████████| 5/5 [00:23<00:00,  4.77s/it]\r",
      "Building task 'fit': 100%|██████████| 5/5 [00:23<00:00,  4.80s/it]\n"
     ]
    }
   ],
   "source": [
    "%%sh\n",
    "ploomber build"
   ]
  },
  {
   "cell_type": "markdown",
   "id": "193b76b4",
   "metadata": {
    "papermill": {
     "duration": 0.04548,
     "end_time": "2021-10-19T02:31:25.964406",
     "exception": false,
     "start_time": "2021-10-19T02:31:25.918926",
     "status": "completed"
    },
    "tags": []
   },
   "source": [
    "Output from the training pipeline saved in the `products/` folder."
   ]
  },
  {
   "cell_type": "markdown",
   "id": "1e757289",
   "metadata": {
    "papermill": {
     "duration": 0.045229,
     "end_time": "2021-10-19T02:31:26.053548",
     "exception": false,
     "start_time": "2021-10-19T02:31:26.008319",
     "status": "completed"
    },
    "tags": []
   },
   "source": [
    "## Online API\n",
    "\n",
    "Copy the trained model inside the project's package:"
   ]
  },
  {
   "cell_type": "code",
   "execution_count": 2,
   "id": "e1914f62",
   "metadata": {
    "execution": {
     "iopub.execute_input": "2021-10-19T02:31:26.164015Z",
     "iopub.status.busy": "2021-10-19T02:31:26.163175Z",
     "iopub.status.idle": "2021-10-19T02:31:26.223262Z",
     "shell.execute_reply": "2021-10-19T02:31:26.223766Z"
    },
    "papermill": {
     "duration": 0.119371,
     "end_time": "2021-10-19T02:31:26.223976",
     "exception": false,
     "start_time": "2021-10-19T02:31:26.104605",
     "status": "completed"
    },
    "tags": []
   },
   "outputs": [],
   "source": [
    "%%sh\n",
    "cp products/model.pickle src/ml_online/model.pickle"
   ]
  },
  {
   "cell_type": "markdown",
   "id": "b3be1763",
   "metadata": {
    "papermill": {
     "duration": 0.04734,
     "end_time": "2021-10-19T02:31:26.315199",
     "exception": false,
     "start_time": "2021-10-19T02:31:26.267859",
     "status": "completed"
    },
    "tags": []
   },
   "source": [
    "Start web application:"
   ]
  },
  {
   "cell_type": "code",
   "execution_count": 3,
   "id": "b738d260",
   "metadata": {
    "execution": {
     "iopub.execute_input": "2021-10-19T02:31:26.410252Z",
     "iopub.status.busy": "2021-10-19T02:31:26.409325Z",
     "iopub.status.idle": "2021-10-19T02:31:26.411459Z",
     "shell.execute_reply": "2021-10-19T02:31:26.412099Z"
    },
    "papermill": {
     "duration": 0.053631,
     "end_time": "2021-10-19T02:31:26.412365",
     "exception": false,
     "start_time": "2021-10-19T02:31:26.358734",
     "status": "completed"
    },
    "tags": []
   },
   "outputs": [],
   "source": [
    "from os import environ\n",
    "import subprocess\n",
    "\n",
    "def start_flask():\n",
    "    \"\"\"Start Flask and wait until it's ready\n",
    "    \"\"\"\n",
    "    proc = subprocess.Popen(['flask', 'run'],\n",
    "                        env=dict(environ, FLASK_APP='ml_online.service'),\n",
    "                        stdout=subprocess.PIPE,\n",
    "                        stderr=subprocess.STDOUT)\n",
    "    \n",
    "    while True:\n",
    "        out = proc.stdout.readline()\n",
    "        print(out.decode().strip())\n",
    "    \n",
    "        if b'5000' in out:\n",
    "            break\n",
    "    \n",
    "    return proc"
   ]
  },
  {
   "cell_type": "code",
   "execution_count": 4,
   "id": "3845c23b",
   "metadata": {
    "execution": {
     "iopub.execute_input": "2021-10-19T02:31:26.512671Z",
     "iopub.status.busy": "2021-10-19T02:31:26.511894Z",
     "iopub.status.idle": "2021-10-19T02:31:29.736600Z",
     "shell.execute_reply": "2021-10-19T02:31:29.737183Z"
    },
    "papermill": {
     "duration": 3.28191,
     "end_time": "2021-10-19T02:31:29.737436",
     "exception": false,
     "start_time": "2021-10-19T02:31:26.455526",
     "status": "completed"
    },
    "tags": []
   },
   "outputs": [
    {
     "name": "stdout",
     "output_type": "stream",
     "text": [
      "* Serving Flask app 'ml_online.service' (lazy loading)\n",
      "* Environment: production\n",
      "WARNING: This is a development server. Do not use it in a production deployment.\n",
      "Use a production WSGI server instead.\n",
      "* Debug mode: off\n"
     ]
    },
    {
     "name": "stdout",
     "output_type": "stream",
     "text": [
      "/Users/Edu/dev/ploomber/src/ploomber/spec/dagspec.py:336: UserWarning: The following placeholders are declared in the environment but unused in the spec: {'sample'}\n",
      "warnings.warn('The following placeholders are declared in the '\n"
     ]
    },
    {
     "name": "stdout",
     "output_type": "stream",
     "text": [
      "0%|          | 0/5 [00:00<?, ?it/s]\r",
      "100%|██████████| 5/5 [00:00<00:00, 3052.18it/s]\n",
      "* Running on http://127.0.0.1:5000/ (Press CTRL+C to quit)\n"
     ]
    }
   ],
   "source": [
    "proc = start_flask()"
   ]
  },
  {
   "cell_type": "markdown",
   "id": "ecd813e3",
   "metadata": {
    "papermill": {
     "duration": 0.049195,
     "end_time": "2021-10-19T02:31:29.833455",
     "exception": false,
     "start_time": "2021-10-19T02:31:29.784260",
     "status": "completed"
    },
    "tags": []
   },
   "source": [
    "*Note:* `start_flask()` is the same as executing the following a terminal:\n",
    "\n",
    "```sh\n",
    "export FLASK_APP=ml_online.service\n",
    "flask run\n",
    "```"
   ]
  },
  {
   "cell_type": "markdown",
   "id": "9fde16a4",
   "metadata": {
    "papermill": {
     "duration": 0.048239,
     "end_time": "2021-10-19T02:31:29.928071",
     "exception": false,
     "start_time": "2021-10-19T02:31:29.879832",
     "status": "completed"
    },
    "tags": []
   },
   "source": [
    "Open a new terminal to make predictions:"
   ]
  },
  {
   "cell_type": "code",
   "execution_count": 5,
   "id": "35e5ef1c",
   "metadata": {
    "execution": {
     "iopub.execute_input": "2021-10-19T02:31:30.044719Z",
     "iopub.status.busy": "2021-10-19T02:31:30.033526Z",
     "iopub.status.idle": "2021-10-19T02:31:30.141307Z",
     "shell.execute_reply": "2021-10-19T02:31:30.141768Z"
    },
    "papermill": {
     "duration": 0.1681,
     "end_time": "2021-10-19T02:31:30.142023",
     "exception": false,
     "start_time": "2021-10-19T02:31:29.973923",
     "status": "completed"
    },
    "tags": []
   },
   "outputs": [],
   "source": [
    "import requests"
   ]
  },
  {
   "cell_type": "code",
   "execution_count": 6,
   "id": "e5b05187",
   "metadata": {
    "execution": {
     "iopub.execute_input": "2021-10-19T02:31:30.248758Z",
     "iopub.status.busy": "2021-10-19T02:31:30.247936Z",
     "iopub.status.idle": "2021-10-19T02:31:30.249876Z",
     "shell.execute_reply": "2021-10-19T02:31:30.250372Z"
    },
    "papermill": {
     "duration": 0.057267,
     "end_time": "2021-10-19T02:31:30.250613",
     "exception": false,
     "start_time": "2021-10-19T02:31:30.193346",
     "status": "completed"
    },
    "tags": []
   },
   "outputs": [],
   "source": [
    "def make_request(data):\n",
    "    \"\"\"Hit the prediction endpoint\n",
    "    \"\"\"\n",
    "    response = requests.post('http://127.0.0.1:5000/',\n",
    "                             data=data,\n",
    "                             headers={'Content-Type': 'application/json'})\n",
    "    return response.json()"
   ]
  },
  {
   "cell_type": "code",
   "execution_count": 7,
   "id": "86186b97",
   "metadata": {
    "execution": {
     "iopub.execute_input": "2021-10-19T02:31:30.353901Z",
     "iopub.status.busy": "2021-10-19T02:31:30.353097Z",
     "iopub.status.idle": "2021-10-19T02:31:30.406209Z",
     "shell.execute_reply": "2021-10-19T02:31:30.406695Z"
    },
    "papermill": {
     "duration": 0.105825,
     "end_time": "2021-10-19T02:31:30.406930",
     "exception": false,
     "start_time": "2021-10-19T02:31:30.301105",
     "status": "completed"
    },
    "tags": []
   },
   "outputs": [
    {
     "data": {
      "text/plain": [
       "{'prediction': 0}"
      ]
     },
     "execution_count": 7,
     "metadata": {},
     "output_type": "execute_result"
    }
   ],
   "source": [
    "make_request('{\"sepal length (cm)\": 5.1, \"sepal width (cm)\": 3.5, \"petal length (cm)\": 1.4, \"petal width (cm)\": 0.2}')"
   ]
  },
  {
   "cell_type": "markdown",
   "id": "be68edcd",
   "metadata": {
    "papermill": {
     "duration": 0.053022,
     "end_time": "2021-10-19T02:31:30.508769",
     "exception": false,
     "start_time": "2021-10-19T02:31:30.455747",
     "status": "completed"
    },
    "tags": []
   },
   "source": [
    "*Note: The previous command is equivalent to running the following on the terminal*\n",
    "\n",
    "```sh\n",
    "curl -d  '{\"sepal length (cm)\": 5.1, \"sepal width (cm)\": 3.5, \"petal length (cm)\": 1.4, \"petal width (cm)\": 0.2}' -H 'Content-Type: application/json' http://127.0.0.1:5000/\n",
    "```"
   ]
  },
  {
   "cell_type": "code",
   "execution_count": 8,
   "id": "b10155a0",
   "metadata": {
    "execution": {
     "iopub.execute_input": "2021-10-19T02:31:30.614834Z",
     "iopub.status.busy": "2021-10-19T02:31:30.614009Z",
     "iopub.status.idle": "2021-10-19T02:31:30.630460Z",
     "shell.execute_reply": "2021-10-19T02:31:30.631177Z"
    },
    "papermill": {
     "duration": 0.073959,
     "end_time": "2021-10-19T02:31:30.631440",
     "exception": false,
     "start_time": "2021-10-19T02:31:30.557481",
     "status": "completed"
    },
    "tags": []
   },
   "outputs": [
    {
     "data": {
      "text/plain": [
       "{'prediction': 2}"
      ]
     },
     "execution_count": 8,
     "metadata": {},
     "output_type": "execute_result"
    }
   ],
   "source": [
    "make_request('{\"sepal length (cm)\": 5.9, \"sepal width (cm)\": 3.0, \"petal length (cm)\": 5.1, \"petal width (cm)\": 1.8}')"
   ]
  },
  {
   "cell_type": "markdown",
   "id": "c0cb3958",
   "metadata": {
    "papermill": {
     "duration": 0.049567,
     "end_time": "2021-10-19T02:31:30.729780",
     "exception": false,
     "start_time": "2021-10-19T02:31:30.680213",
     "status": "completed"
    },
    "tags": []
   },
   "source": [
    "*Note: The previous command is equivalent to running the following on the terminal*\n",
    "\n",
    "```sh\n",
    "curl -d  '{\"sepal length (cm)\": 5.9, \"sepal width (cm)\": 3.0, \"petal length (cm)\": 5.1, \"petal width (cm)\": 1.8}' -H 'Content-Type: application/json' http://127.0.0.1:5000/\n",
    "```"
   ]
  },
  {
   "cell_type": "markdown",
   "id": "cdf9aee9",
   "metadata": {
    "papermill": {
     "duration": 0.050258,
     "end_time": "2021-10-19T02:31:30.828088",
     "exception": false,
     "start_time": "2021-10-19T02:31:30.777830",
     "status": "completed"
    },
    "tags": []
   },
   "source": [
    "Note: Ploomber exports a Python object that encapsulates the entire inference pipeline (pre-processing + feature engineering + model inference). You can deploy it with any framework."
   ]
  },
  {
   "cell_type": "code",
   "execution_count": 9,
   "id": "0a74affa",
   "metadata": {
    "execution": {
     "iopub.execute_input": "2021-10-19T02:31:30.933769Z",
     "iopub.status.busy": "2021-10-19T02:31:30.932824Z",
     "iopub.status.idle": "2021-10-19T02:31:30.935430Z",
     "shell.execute_reply": "2021-10-19T02:31:30.935966Z"
    },
    "papermill": {
     "duration": 0.058191,
     "end_time": "2021-10-19T02:31:30.936262",
     "exception": false,
     "start_time": "2021-10-19T02:31:30.878071",
     "status": "completed"
    },
    "tags": []
   },
   "outputs": [],
   "source": [
    "# terminate flask app\n",
    "proc.kill()"
   ]
  },
  {
   "cell_type": "markdown",
   "id": "a664e0e4",
   "metadata": {
    "papermill": {
     "duration": 0.052617,
     "end_time": "2021-10-19T02:31:31.039720",
     "exception": false,
     "start_time": "2021-10-19T02:31:30.987103",
     "status": "completed"
    },
    "tags": []
   },
   "source": [
    "## Testing\n",
    "\n",
    "The example contains some basic unit tests. To run them:"
   ]
  },
  {
   "cell_type": "code",
   "execution_count": 10,
   "id": "e5036989",
   "metadata": {
    "execution": {
     "iopub.execute_input": "2021-10-19T02:31:31.153387Z",
     "iopub.status.busy": "2021-10-19T02:31:31.152660Z",
     "iopub.status.idle": "2021-10-19T02:31:44.892399Z",
     "shell.execute_reply": "2021-10-19T02:31:44.892941Z"
    },
    "papermill": {
     "duration": 13.798935,
     "end_time": "2021-10-19T02:31:44.893189",
     "exception": false,
     "start_time": "2021-10-19T02:31:31.094254",
     "status": "completed"
    },
    "tags": []
   },
   "outputs": [
    {
     "name": "stdout",
     "output_type": "stream",
     "text": [
      "============================= test session starts ==============================\n",
      "platform darwin -- Python 3.9.7, pytest-6.2.5, py-1.10.0, pluggy-1.0.0\n",
      "rootdir: /Users/Edu/dev/projects-ploomber/templates/ml-online\n",
      "plugins: Faker-9.2.0, anyio-3.3.3\n",
      "collected 5 items\n",
      "\n",
      "tests/test_infer.py ..                                                   [ 40%]\n",
      "tests/test_service.py .                                                  [ 60%]\n",
      "tests/test_train.py .                                                    [ 80%]\n",
      "tests/test_wheel.py .                                                    [100%]\n",
      "\n",
      "============================== 5 passed in 12.41s ==============================\n"
     ]
    }
   ],
   "source": [
    "%%sh\n",
    "pytest -p no:warnings"
   ]
  },
  {
   "cell_type": "markdown",
   "id": "9a7dd053",
   "metadata": {
    "papermill": {
     "duration": 0.056638,
     "end_time": "2021-10-19T02:31:45.003740",
     "exception": false,
     "start_time": "2021-10-19T02:31:44.947102",
     "status": "completed"
    },
    "tags": []
   },
   "source": [
    "\n",
    "## Packaging\n",
    "\n",
    "This project is a Python package. You can generate a distribution archive (`tar.gz`) or a built distribution (`.whl`) for deployment:\n",
    "\n",
    "\n",
    "```sh\n",
    "python -m build\n",
    "```\n"
   ]
  },
  {
   "cell_type": "markdown",
   "id": "a1b6eb69",
   "metadata": {
    "papermill": {
     "duration": 0.058561,
     "end_time": "2021-10-19T02:31:45.114697",
     "exception": false,
     "start_time": "2021-10-19T02:31:45.056136",
     "status": "completed"
    },
    "tags": []
   },
   "source": [
    "The previous command creates a `.whl` and a `.tar.gz` file in the `dist/` directory; both contain all the necessary pieces to serve predictions: dependencies, pre-processing code, and model file."
   ]
  }
 ],
 "metadata": {
  "kernelspec": {
   "display_name": "Python 3 (ipykernel)",
   "language": "python",
   "name": "python3"
  },
  "language_info": {
   "codemirror_mode": {
    "name": "ipython",
    "version": 3
   },
   "file_extension": ".py",
   "mimetype": "text/x-python",
   "name": "python",
   "nbconvert_exporter": "python",
   "pygments_lexer": "ipython3",
   "version": "3.9.7"
  },
  "papermill": {
   "default_parameters": {},
   "duration": 54.135934,
   "end_time": "2021-10-19T02:31:45.383634",
   "environment_variables": {},
   "exception": null,
   "input_path": "templates/ml-online/_build/readme_preprocessed.ipynb",
   "output_path": "templates/ml-online/README.ipynb",
   "parameters": {},
   "start_time": "2021-10-19T02:30:51.247700",
   "version": "2.3.3"
  }
 },
 "nbformat": 4,
 "nbformat_minor": 5
}