{
 "cells": [
  {
   "cell_type": "markdown",
   "id": "e22aa5d7",
   "metadata": {
    "papermill": {
     "duration": 0.015021,
     "end_time": "2021-09-19T22:35:24.120006",
     "exception": false,
     "start_time": "2021-09-19T22:35:24.104985",
     "status": "completed"
    },
    "tags": []
   },
   "source": [
    "\n",
    "*Note:* You can run this from your computer (Jupyter or terminal), or using Binder (does not require any installation, takes a few minutes to be ready)\n",
    "\n",
    "[![binder-logo](https://mybinder.org/badge_logo.svg)](https://mybinder.org/v2/gh/ploomber/binder-env/main?urlpath=git-pull%3Frepo%3Dhttps%253A%252F%252Fgithub.com%252Fploomber%252Fprojects%26urlpath%3Dlab%252Ftree%252Fprojects%252Ftesting%252FREADME.ipynb%26branch%3Dmaster)\n"
   ]
  },
  {
   "cell_type": "markdown",
   "id": "e57f14f1",
   "metadata": {
    "papermill": {
     "duration": 0.013397,
     "end_time": "2021-09-19T22:35:24.148946",
     "exception": false,
     "start_time": "2021-09-19T22:35:24.135549",
     "status": "completed"
    },
    "tags": []
   },
   "source": [
    "# Pipeline testing\n",
    "\n",
    "Testing your pipeline is critical to ensure your data expectations hold. When you perform a data transformation, you are expecting the output to have certain properties (e.g. no nulls in certain column). Without testing, these expectations won't be verified and will cause errors errors to propagate to all downstream tasks.\n",
    "\n",
    "These are the most common sources of errors when transforming data:\n",
    "\n",
    "1. A join operation generates duplicated entries because a wrong assumption of a one-to-one relationship (which is really a one-to-many) in the source tables\n",
    "2. A function that aggregates data returns `NULL` because at least one of the input data points was `NULL`\n",
    "3. Dirty data points are used in the analysis (e.g. in a column `age`, you forgot to remove corrupted data points with negative values)\n",
    "\n",
    "Some of these errors are easy to spot (2), but it might take you some tome to find out about others (1 and 3), or worst, you will never notice these errors and just use incorrect data in your analysis. And even if your code is correct and all your expectations hold true, it might not hold true in the future if the data changes and it's important for you to know this as soon as it happens.\n",
    "\n",
    "To make testing effective, **your tests should run every time you run your tasks**. Ploomber has a mechanism to automate this.\n",
    "\n",
    "## Sample data\n",
    "\n",
    "This example loads data from a single table called `my_table`, which has two columns:\n",
    "\n",
    "1. age: ranges from 21 to 80 but there are some corrupted records with -42\n",
    "2. score: ranges from 0 to 10 but there are some corrupted records with missing values\n",
    "\n",
    "Let's take a look at our example `pipeline.yaml`:"
   ]
  },
  {
   "cell_type": "code",
   "execution_count": 1,
   "id": "16044596",
   "metadata": {
    "execution": {
     "iopub.execute_input": "2021-09-19T22:35:24.186294Z",
     "iopub.status.busy": "2021-09-19T22:35:24.185542Z",
     "iopub.status.idle": "2021-09-19T22:35:25.384118Z",
     "shell.execute_reply": "2021-09-19T22:35:25.384700Z"
    },
    "papermill": {
     "duration": 1.221954,
     "end_time": "2021-09-19T22:35:25.385024",
     "exception": false,
     "start_time": "2021-09-19T22:35:24.163070",
     "status": "completed"
    },
    "tags": []
   },
   "outputs": [],
   "source": [
    "from pathlib import Path\n",
    "from ploomberutils import display_file"
   ]
  },
  {
   "cell_type": "code",
   "execution_count": 2,
   "id": "0774aedf",
   "metadata": {
    "execution": {
     "iopub.execute_input": "2021-09-19T22:35:25.417579Z",
     "iopub.status.busy": "2021-09-19T22:35:25.416868Z",
     "iopub.status.idle": "2021-09-19T22:35:25.427946Z",
     "shell.execute_reply": "2021-09-19T22:35:25.428482Z"
    },
    "papermill": {
     "duration": 0.030205,
     "end_time": "2021-09-19T22:35:25.428731",
     "exception": false,
     "start_time": "2021-09-19T22:35:25.398526",
     "status": "completed"
    },
    "tags": []
   },
   "outputs": [
    {
     "data": {
      "text/markdown": [
       "\n",
       "```yaml\n",
       "clients:\n",
       "  SQLScript: db.get_client\n",
       "  SQLDump: db.get_client\n",
       "\n",
       "tasks:\n",
       "  - source: clean.sql\n",
       "    name: clean\n",
       "    product: ['my_clean_table', 'table']\n",
       "    on_finish: integration_tests.test_sql_clean\n",
       "  \n",
       "  - source: dump.sql\n",
       "    name: dump\n",
       "    class: SQLDump\n",
       "    product: output/my_clean_table.csv\n",
       "    chunksize: null\n",
       "\n",
       "  - source: transform.py\n",
       "    product:\n",
       "        nb: output/transformed.html\n",
       "        data: output/transformed.csv\n",
       "    on_finish: integration_tests.test_py_transform\n",
       "```\n"
      ],
      "text/plain": [
       "<IPython.core.display.Markdown object>"
      ]
     },
     "metadata": {},
     "output_type": "display_data"
    }
   ],
   "source": [
    "display_file('pipeline.yaml')"
   ]
  },
  {
   "cell_type": "markdown",
   "id": "c9848826",
   "metadata": {
    "papermill": {
     "duration": 0.013035,
     "end_time": "2021-09-19T22:35:25.455617",
     "exception": false,
     "start_time": "2021-09-19T22:35:25.442582",
     "status": "completed"
    },
    "tags": []
   },
   "source": [
    "The pipeline has three tasks, one to clean the raw table, another one to dump the clean data to a CSV file and finally, one Python task to transform the data. We included a SQL and a Python task to show how you can test both types of tasks but we recommend you to do as much analysis as you can using SQL because it scales much better than Python code (you won't have to deal with memory errors).\n",
    "\n",
    "The configuration is straightforward, the only new key is `on_finish` (inside the first and third task). This is known as a *hook*. Task hooks allow you to embed custom logic when certain events happen. `on_finish` is executed after a task successfully executes. The value is a dotted path, which tells Ploomber where to find your testing function. Under the hood, Ploomber will import your function and call it after the task is executed, here's some equivalent code:\n",
    "\n",
    "```python\n",
    "from integration_tests import test_sql_clean\n",
    "\n",
    "# your task is executed...\n",
    "\n",
    "# ploomber calls your testing function...\n",
    "test_sql_clean()\n",
    "```\n",
    "\n",
    "Before diving into the testing source code, let's see the rest of the tasks.\n",
    "\n",
    "`clean.sql` just filters columns we don't want to include in the analysis:"
   ]
  },
  {
   "cell_type": "code",
   "execution_count": 3,
   "id": "105c36fc",
   "metadata": {
    "execution": {
     "iopub.execute_input": "2021-09-19T22:35:25.486811Z",
     "iopub.status.busy": "2021-09-19T22:35:25.486007Z",
     "iopub.status.idle": "2021-09-19T22:35:25.489396Z",
     "shell.execute_reply": "2021-09-19T22:35:25.489903Z"
    },
    "papermill": {
     "duration": 0.021217,
     "end_time": "2021-09-19T22:35:25.490123",
     "exception": false,
     "start_time": "2021-09-19T22:35:25.468906",
     "status": "completed"
    },
    "tags": []
   },
   "outputs": [
    {
     "data": {
      "text/markdown": [
       "\n",
       "```postresql\n",
       "DROP TABLE IF EXISTS {{product}};\n",
       "\n",
       "CREATE TABLE {{product}} AS\n",
       "SELECT * FROM my_table\n",
       "WHERE score is not null AND age > 0\n",
       "```\n"
      ],
      "text/plain": [
       "<IPython.core.display.Markdown object>"
      ]
     },
     "metadata": {},
     "output_type": "display_data"
    }
   ],
   "source": [
    "display_file('clean.sql')"
   ]
  },
  {
   "cell_type": "markdown",
   "id": "faff09cd",
   "metadata": {
    "papermill": {
     "duration": 0.014319,
     "end_time": "2021-09-19T22:35:25.518272",
     "exception": false,
     "start_time": "2021-09-19T22:35:25.503953",
     "status": "completed"
    },
    "tags": []
   },
   "source": [
    "`dump.sql` just selects all rows from the clean table to dump it to the CSV file:"
   ]
  },
  {
   "cell_type": "code",
   "execution_count": 4,
   "id": "9f8fad3f",
   "metadata": {
    "execution": {
     "iopub.execute_input": "2021-09-19T22:35:25.551774Z",
     "iopub.status.busy": "2021-09-19T22:35:25.550934Z",
     "iopub.status.idle": "2021-09-19T22:35:25.554207Z",
     "shell.execute_reply": "2021-09-19T22:35:25.553705Z"
    },
    "papermill": {
     "duration": 0.021818,
     "end_time": "2021-09-19T22:35:25.554436",
     "exception": false,
     "start_time": "2021-09-19T22:35:25.532618",
     "status": "completed"
    },
    "tags": []
   },
   "outputs": [
    {
     "data": {
      "text/markdown": [
       "\n",
       "```postresql\n",
       "SELECT * FROM {{upstream['clean']}}\n",
       "```\n"
      ],
      "text/plain": [
       "<IPython.core.display.Markdown object>"
      ]
     },
     "metadata": {},
     "output_type": "display_data"
    }
   ],
   "source": [
    "display_file('dump.sql')"
   ]
  },
  {
   "cell_type": "markdown",
   "id": "68d21c8e",
   "metadata": {
    "papermill": {
     "duration": 0.013931,
     "end_time": "2021-09-19T22:35:25.582239",
     "exception": false,
     "start_time": "2021-09-19T22:35:25.568308",
     "status": "completed"
    },
    "tags": []
   },
   "source": [
    "Finally, the `transform.py` script generates a new column using `score`"
   ]
  },
  {
   "cell_type": "code",
   "execution_count": 5,
   "id": "e217c369",
   "metadata": {
    "execution": {
     "iopub.execute_input": "2021-09-19T22:35:25.615248Z",
     "iopub.status.busy": "2021-09-19T22:35:25.614408Z",
     "iopub.status.idle": "2021-09-19T22:35:25.618488Z",
     "shell.execute_reply": "2021-09-19T22:35:25.619086Z"
    },
    "papermill": {
     "duration": 0.022749,
     "end_time": "2021-09-19T22:35:25.619329",
     "exception": false,
     "start_time": "2021-09-19T22:35:25.596580",
     "status": "completed"
    },
    "tags": []
   },
   "outputs": [
    {
     "data": {
      "text/markdown": [
       "\n",
       "```py\n",
       "import pandas as pd\n",
       "\n",
       "# + tags=[\"parameters\"]\n",
       "upstream = ['dump']\n",
       "product = None\n",
       "\n",
       "# +\n",
       "df = pd.read_csv(upstream['dump'])\n",
       "df['multiplied_score'] = df.score * 42\n",
       "\n",
       "# +\n",
       "df.to_csv(product['data'])\n",
       "```\n"
      ],
      "text/plain": [
       "<IPython.core.display.Markdown object>"
      ]
     },
     "metadata": {},
     "output_type": "display_data"
    }
   ],
   "source": [
    "display_file('transform.py')"
   ]
  },
  {
   "cell_type": "markdown",
   "id": "48bc3c62",
   "metadata": {
    "papermill": {
     "duration": 0.014987,
     "end_time": "2021-09-19T22:35:25.648844",
     "exception": false,
     "start_time": "2021-09-19T22:35:25.633857",
     "status": "completed"
    },
    "tags": []
   },
   "source": [
    "Let's now take a look at our tests:"
   ]
  },
  {
   "cell_type": "code",
   "execution_count": 6,
   "id": "9d0f9bf1",
   "metadata": {
    "execution": {
     "iopub.execute_input": "2021-09-19T22:35:25.684558Z",
     "iopub.status.busy": "2021-09-19T22:35:25.683766Z",
     "iopub.status.idle": "2021-09-19T22:35:25.686399Z",
     "shell.execute_reply": "2021-09-19T22:35:25.686998Z"
    },
    "papermill": {
     "duration": 0.022716,
     "end_time": "2021-09-19T22:35:25.687225",
     "exception": false,
     "start_time": "2021-09-19T22:35:25.664509",
     "status": "completed"
    },
    "tags": []
   },
   "outputs": [
    {
     "data": {
      "text/markdown": [
       "\n",
       "```py\n",
       "import pandas as pd\n",
       "from ploomber.testing.sql import nulls_in_columns, range_in_column\n",
       "\n",
       "\n",
       "def test_sql_clean(client, product):\n",
       "    \"\"\"Tests for clean.sql\n",
       "    \"\"\"\n",
       "    assert not nulls_in_columns(client, ['score', 'age'], product)\n",
       "    min_age, max_age = range_in_column(client, 'age', product)\n",
       "    assert min_age > 0\n",
       "\n",
       "\n",
       "def test_py_transform(product):\n",
       "    \"\"\"Tests for transform.py\n",
       "    \"\"\"\n",
       "    df = pd.read_csv(str(product['data']))\n",
       "    assert not df.multiplied_score.isna().sum()\n",
       "    assert df.multiplied_score.min() >= 0\n",
       "```\n"
      ],
      "text/plain": [
       "<IPython.core.display.Markdown object>"
      ]
     },
     "metadata": {},
     "output_type": "display_data"
    }
   ],
   "source": [
    "display_file('integration_tests.py')"
   ]
  },
  {
   "cell_type": "markdown",
   "id": "cbb2e30f",
   "metadata": {
    "papermill": {
     "duration": 0.014433,
     "end_time": "2021-09-19T22:35:25.716215",
     "exception": false,
     "start_time": "2021-09-19T22:35:25.701782",
     "status": "completed"
    },
    "tags": []
   },
   "source": [
    "## Testing Python scripts\n",
    "\n",
    "To test your Python scripts, you have to know which file to look at. You can do so by simply adding `product` as argument to your function. If your Python script generates more than one product (like in our case), `product` will be a dictionary-like object, that's why we are using `product['data']`. This returns a `Product` object, to get the path to the file, simply use the `str` function.\n",
    "\n",
    "```pycon\n",
    ">>> product # dictionary-like object: maps names to Product objects\n",
    ">>> product['data'] # Product object\n",
    ">>> str(product['data']) # path to the data file\n",
    "```\n",
    "\n",
    "## Testing SQL scripts\n",
    "\n",
    "To test SQL scripts, you also need the client to send queries to the appropriate database, to do so, just add `client` to your testing function.\n",
    "\n",
    "The `ploomber.testing.sql` module implements convenient functions to test your tables. They always take `client` as its first argument, just pass the client variable directly. Since our SQL script only generates a product, you can directly pass the product object to the testing function (otherwise pass `product[key]`) with the appropriate key.\n",
    "\n",
    "*Note:* If you're implementing your own SQL testing logic, doing `str(product)` will return a `{schema}.{name}` string, you can also use `product.schema` and `product.name`.\n",
    "\n",
    "## Running the pipeline\n",
    "\n",
    "Before we run the pipeline, we generate a sample database:"
   ]
  },
  {
   "cell_type": "code",
   "execution_count": 7,
   "id": "67bc394b",
   "metadata": {
    "execution": {
     "iopub.execute_input": "2021-09-19T22:35:25.753148Z",
     "iopub.status.busy": "2021-09-19T22:35:25.750253Z",
     "iopub.status.idle": "2021-09-19T22:35:26.495243Z",
     "shell.execute_reply": "2021-09-19T22:35:26.495773Z"
    },
    "papermill": {
     "duration": 0.765033,
     "end_time": "2021-09-19T22:35:26.496048",
     "exception": false,
     "start_time": "2021-09-19T22:35:25.731015",
     "status": "completed"
    },
    "tags": [
     "bash"
    ]
   },
   "outputs": [
    {
     "name": "stderr",
     "output_type": "stream",
     "text": [
      "sh: line 1: fg: no job control\n"
     ]
    }
   ],
   "source": [
    "%%sh\n",
    "%%bash\n",
    "cd setup\n",
    "python script.py"
   ]
  },
  {
   "cell_type": "markdown",
   "id": "99d11612",
   "metadata": {
    "papermill": {
     "duration": 0.016738,
     "end_time": "2021-09-19T22:35:26.528552",
     "exception": false,
     "start_time": "2021-09-19T22:35:26.511814",
     "status": "completed"
    },
    "tags": []
   },
   "source": [
    "Let's now run our pipeline:"
   ]
  },
  {
   "cell_type": "code",
   "execution_count": 8,
   "id": "91780eeb",
   "metadata": {
    "execution": {
     "iopub.execute_input": "2021-09-19T22:35:26.568446Z",
     "iopub.status.busy": "2021-09-19T22:35:26.565923Z",
     "iopub.status.idle": "2021-09-19T22:35:31.205735Z",
     "shell.execute_reply": "2021-09-19T22:35:31.206412Z"
    },
    "papermill": {
     "duration": 4.662056,
     "end_time": "2021-09-19T22:35:31.206641",
     "exception": false,
     "start_time": "2021-09-19T22:35:26.544585",
     "status": "completed"
    },
    "tags": []
   },
   "outputs": [
    {
     "name": "stdout",
     "output_type": "stream",
     "text": [
      "name       Ran?      Elapsed (s)    Percentage\n",
      "---------  ------  -------------  ------------\n",
      "clean      True         0.089866     3.8915\n",
      "dump       True         0.001896     0.0821032\n",
      "transform  True         2.21753     96.0264\n"
     ]
    },
    {
     "name": "stderr",
     "output_type": "stream",
     "text": [
      "Building task 'transform':   0%|          | 0/3 [00:00<?, ?it/s]\n",
      "Executing:   0%|          | 0/5 [00:00<?, ?cell/s]\u001b[A\n",
      "Executing: 100%|██████████| 5/5 [00:01<00:00,  2.51cell/s]\n",
      "Building task 'transform': 100%|██████████| 3/3 [00:02<00:00,  1.29it/s]\n"
     ]
    }
   ],
   "source": [
    "%%sh\n",
    "ploomber build"
   ]
  },
  {
   "cell_type": "markdown",
   "id": "7a0a2e3e",
   "metadata": {
    "papermill": {
     "duration": 0.016422,
     "end_time": "2021-09-19T22:35:31.240034",
     "exception": false,
     "start_time": "2021-09-19T22:35:31.223612",
     "status": "completed"
    },
    "tags": []
   },
   "source": [
    "Everything looks good.\n",
    "\n",
    "Let's now imagine a colleague found an error in the cleaning logic and has re-written the script. However, he was unaware that both columns in the raw table had corrupted data and forgot to include the filtering conditions.\n",
    "\n",
    "The script now looks like this:"
   ]
  },
  {
   "cell_type": "code",
   "execution_count": 9,
   "id": "fa22a10b",
   "metadata": {
    "execution": {
     "iopub.execute_input": "2021-09-19T22:35:31.280480Z",
     "iopub.status.busy": "2021-09-19T22:35:31.279662Z",
     "iopub.status.idle": "2021-09-19T22:35:31.284681Z",
     "shell.execute_reply": "2021-09-19T22:35:31.285173Z"
    },
    "papermill": {
     "duration": 0.027828,
     "end_time": "2021-09-19T22:35:31.285418",
     "exception": false,
     "start_time": "2021-09-19T22:35:31.257590",
     "status": "completed"
    },
    "tags": []
   },
   "outputs": [
    {
     "data": {
      "text/markdown": [
       "\n",
       "```postresql\n",
       "DROP TABLE IF EXISTS {{product}};\n",
       "\n",
       "CREATE TABLE {{product}} AS\n",
       "SELECT * FROM my_table\n",
       "```\n"
      ],
      "text/plain": [
       "<IPython.core.display.Markdown object>"
      ]
     },
     "metadata": {},
     "output_type": "display_data"
    }
   ],
   "source": [
    "path = Path('clean.sql')\n",
    "new_code = path.read_text().replace('WHERE score is not null AND age > 0', '')\n",
    "path.write_text(new_code)\n",
    "display_file('clean.sql')"
   ]
  },
  {
   "cell_type": "markdown",
   "id": "67762d9f",
   "metadata": {
    "papermill": {
     "duration": 0.016793,
     "end_time": "2021-09-19T22:35:31.318244",
     "exception": false,
     "start_time": "2021-09-19T22:35:31.301451",
     "status": "completed"
    },
    "tags": []
   },
   "source": [
    "Let's see what happens if we run the pipeline:"
   ]
  },
  {
   "cell_type": "code",
   "execution_count": 10,
   "id": "47462eb1",
   "metadata": {
    "execution": {
     "iopub.execute_input": "2021-09-19T22:35:31.361212Z",
     "iopub.status.busy": "2021-09-19T22:35:31.360429Z",
     "iopub.status.idle": "2021-09-19T22:35:33.865929Z",
     "shell.execute_reply": "2021-09-19T22:35:33.866443Z"
    },
    "papermill": {
     "duration": 2.53144,
     "end_time": "2021-09-19T22:35:33.866687",
     "exception": false,
     "start_time": "2021-09-19T22:35:31.335247",
     "status": "completed"
    },
    "tags": []
   },
   "outputs": [],
   "source": [
    "%%capture captured\n",
    "%%sh --no-raise-error\n",
    "ploomber build"
   ]
  },
  {
   "cell_type": "code",
   "execution_count": 11,
   "id": "6602379e",
   "metadata": {
    "execution": {
     "iopub.execute_input": "2021-09-19T22:35:33.909799Z",
     "iopub.status.busy": "2021-09-19T22:35:33.908864Z",
     "iopub.status.idle": "2021-09-19T22:35:33.911984Z",
     "shell.execute_reply": "2021-09-19T22:35:33.912483Z"
    },
    "papermill": {
     "duration": 0.026708,
     "end_time": "2021-09-19T22:35:33.912705",
     "exception": false,
     "start_time": "2021-09-19T22:35:33.885997",
     "status": "completed"
    },
    "tags": []
   },
   "outputs": [
    {
     "name": "stdout",
     "output_type": "stream",
     "text": [
      "Building task 'clean': 100%|██████████| 3/3 [00:00<00:00, 33.27it/s]\n",
      "Traceback (most recent call last):\n",
      "  File \"/Users/Edu/miniconda3/envs/projects/lib/python3.7/site-packages/ploomber/cli/io.py\", line 20, in wrapper\n",
      "    fn(**kwargs)\n",
      "  File \"/Users/Edu/miniconda3/envs/projects/lib/python3.7/site-packages/ploomber/cli/build.py\", line 51, in main\n",
      "    report = dag.build(force=args.force, debug=args.debug)\n",
      "  File \"/Users/Edu/miniconda3/envs/projects/lib/python3.7/site-packages/ploomber/dag/dag.py\", line 468, in build\n",
      "    report = callable_()\n",
      "  File \"/Users/Edu/miniconda3/envs/projects/lib/python3.7/site-packages/ploomber/dag/dag.py\", line 567, in _build\n",
      "    raise build_exception\n",
      "  File \"/Users/Edu/miniconda3/envs/projects/lib/python3.7/site-packages/ploomber/dag/dag.py\", line 500, in _build\n",
      "    show_progress=show_progress)\n",
      "  File \"/Users/Edu/miniconda3/envs/projects/lib/python3.7/site-packages/ploomber/executors/serial.py\", line 138, in __call__\n",
      "    raise DAGBuildError(str(exceptions_all))\n",
      "ploomber.exceptions.DAGBuildError: \n",
      "=============================== DAG build failed ===============================\n",
      "--------- SQLScript: clean -> SQLRelation(('my_clean_table', 'table')) ---------\n",
      "-------------- /Users/Edu/dev/projects-ploomber/testing/clean.sql --------------\n",
      "Traceback (most recent call last):\n",
      "  File \"/Users/Edu/miniconda3/envs/projects/lib/python3.7/site-packages/ploomber/tasks/abc.py\", line 591, in _build\n",
      "    self._post_run_actions()\n",
      "  File \"/Users/Edu/miniconda3/envs/projects/lib/python3.7/site-packages/ploomber/tasks/abc.py\", line 342, in _post_run_actions\n",
      "    self._run_on_finish()\n",
      "  File \"/Users/Edu/miniconda3/envs/projects/lib/python3.7/site-packages/ploomber/tasks/abc.py\", line 333, in _run_on_finish\n",
      "    self.on_finish(**kwargs)\n",
      "  File \"/Users/Edu/miniconda3/envs/projects/lib/python3.7/site-packages/ploomber/util/dotted_path.py\", line 74, in __call__\n",
      "    out = self._callable(*args, **kwargs_final)\n",
      "  File \"/Users/Edu/dev/projects-ploomber/testing/integration_tests.py\", line 8, in test_sql_clean\n",
      "    assert not nulls_in_columns(client, ['score', 'age'], product)\n",
      "AssertionError\n",
      "\n",
      "The above exception was the direct cause of the following exception:\n",
      "\n",
      "Traceback (most recent call last):\n",
      "  File \"/Users/Edu/miniconda3/envs/projects/lib/python3.7/site-packages/ploomber/executors/serial.py\", line 186, in catch_exceptions\n",
      "    fn()\n",
      "  File \"/Users/Edu/miniconda3/envs/projects/lib/python3.7/site-packages/ploomber/executors/serial.py\", line 159, in __call__\n",
      "    return self.fn(**self.kwargs)\n",
      "  File \"/Users/Edu/miniconda3/envs/projects/lib/python3.7/site-packages/ploomber/executors/serial.py\", line 166, in catch_warnings\n",
      "    result = fn()\n",
      "  File \"/Users/Edu/miniconda3/envs/projects/lib/python3.7/site-packages/ploomber/executors/serial.py\", line 159, in __call__\n",
      "    return self.fn(**self.kwargs)\n",
      "  File \"/Users/Edu/miniconda3/envs/projects/lib/python3.7/site-packages/ploomber/executors/serial.py\", line 235, in build_in_subprocess\n",
      "    report, meta = task._build(**build_kwargs)\n",
      "  File \"/Users/Edu/miniconda3/envs/projects/lib/python3.7/site-packages/ploomber/tasks/abc.py\", line 603, in _build\n",
      "    raise TaskBuildError(msg) from e\n",
      "ploomber.exceptions.TaskBuildError: Exception when running on_finish for task \"clean\": \n",
      "=============================== Summary (1 task) ===============================\n",
      "SQLScript: clean -> SQLRelation(('my_clean_table', 'table'))\n",
      "=============================== DAG build failed ===============================\n",
      "\n",
      "\n",
      "\n"
     ]
    }
   ],
   "source": [
    "print(captured.stderr)"
   ]
  },
  {
   "cell_type": "markdown",
   "id": "076d9cce",
   "metadata": {
    "papermill": {
     "duration": 0.017064,
     "end_time": "2021-09-19T22:35:33.946965",
     "exception": false,
     "start_time": "2021-09-19T22:35:33.929901",
     "status": "completed"
    },
    "tags": []
   },
   "source": [
    "Ploomber a structured error message to understand why your pipeline failed. The last few lines are a summary:\n",
    "\n",
    "```\n",
    "=============================== Summary (1 task) ===============================\n",
    "SQLScript: clean -> SQLRelation(('my_clean_table', 'table'))\n",
    "=============================== DAG build failed ===============================\n",
    "```\n",
    "\n",
    "By looking at the summary we know our pipeline failed because one task crashed (`clean`). If we\n",
    "scroll up we'll see a header section:\n",
    "\n",
    "```\n",
    "--------- SQLScript: clean -> SQLRelation(('my_clean_table', 'table')) ---------\n",
    "-------------- /Users/Edu/dev/projects-ploomber/testing/clean.sql --------------\n",
    "```\n",
    "\n",
    "Each task displays its traceback on a separate section. Since only one task failed in our example\n",
    "we only see one task traceback.\n",
    "\n",
    "At the end of this task traceback, we see the following line:\n",
    "\n",
    "```\n",
    "Exception when running on_finish for task \"clean\":\n",
    "```\n",
    "\n",
    "Now we know that the `on_finish` hook crashed. If we go up a few lines up:\n",
    "\n",
    "```\n",
    "assert not nulls_in_columns(client, ['score', 'age'], product)\n",
    "AssertionError\n",
    "```\n",
    "\n",
    "That tells me the exact test that failed! Pipelines can get very large; it helps a lot to have a structured error message that tells us what failed and where it happened. Our take away from the error message is: \"the pipeline building process failed because the `on_finish` hook in the `clean` task raised an exception in certain assertion\". That's much better than either \"the pipeline failed\" or \"this line raised an exception\".\n",
    "\n",
    "Let's fix our pipeline and add the `WHERE` clause again:"
   ]
  },
  {
   "cell_type": "code",
   "execution_count": 12,
   "id": "e475fc23",
   "metadata": {
    "execution": {
     "iopub.execute_input": "2021-09-19T22:35:33.987829Z",
     "iopub.status.busy": "2021-09-19T22:35:33.987002Z",
     "iopub.status.idle": "2021-09-19T22:35:33.991345Z",
     "shell.execute_reply": "2021-09-19T22:35:33.991869Z"
    },
    "papermill": {
     "duration": 0.026918,
     "end_time": "2021-09-19T22:35:33.992127",
     "exception": false,
     "start_time": "2021-09-19T22:35:33.965209",
     "status": "completed"
    },
    "tags": []
   },
   "outputs": [
    {
     "data": {
      "text/markdown": [
       "\n",
       "```postresql\n",
       "DROP TABLE IF EXISTS {{product}};\n",
       "\n",
       "CREATE TABLE {{product}} AS\n",
       "SELECT * FROM my_table\n",
       "WHERE score is not null AND age > 0\n",
       "```\n"
      ],
      "text/plain": [
       "<IPython.core.display.Markdown object>"
      ]
     },
     "metadata": {},
     "output_type": "display_data"
    }
   ],
   "source": [
    "path = Path('clean.sql')\n",
    "new_code = path.read_text() + 'WHERE score is not null AND age > 0'\n",
    "path.write_text(new_code)\n",
    "display_file('clean.sql')"
   ]
  },
  {
   "cell_type": "code",
   "execution_count": 13,
   "id": "e44e076e",
   "metadata": {
    "execution": {
     "iopub.execute_input": "2021-09-19T22:35:34.034260Z",
     "iopub.status.busy": "2021-09-19T22:35:34.033464Z",
     "iopub.status.idle": "2021-09-19T22:35:38.780231Z",
     "shell.execute_reply": "2021-09-19T22:35:38.780841Z"
    },
    "papermill": {
     "duration": 4.770615,
     "end_time": "2021-09-19T22:35:38.781071",
     "exception": false,
     "start_time": "2021-09-19T22:35:34.010456",
     "status": "completed"
    },
    "tags": []
   },
   "outputs": [
    {
     "name": "stdout",
     "output_type": "stream",
     "text": [
      "name       Ran?      Elapsed (s)    Percentage\n",
      "---------  ------  -------------  ------------\n",
      "clean      True         0.084662     3.60667\n",
      "dump       True         0.002193     0.0934237\n",
      "transform  True         2.26051     96.2999\n"
     ]
    },
    {
     "name": "stderr",
     "output_type": "stream",
     "text": [
      "Building task 'transform':   0%|          | 0/3 [00:00<?, ?it/s]\n",
      "Executing:   0%|          | 0/5 [00:00<?, ?cell/s]\u001b[A\n",
      "Executing: 100%|██████████| 5/5 [00:02<00:00,  2.46cell/s]\n",
      "Building task 'transform': 100%|██████████| 3/3 [00:02<00:00,  1.27it/s]\n"
     ]
    }
   ],
   "source": [
    "%%sh\n",
    "ploomber build"
   ]
  },
  {
   "cell_type": "markdown",
   "id": "25bb0dbc",
   "metadata": {
    "papermill": {
     "duration": 0.017178,
     "end_time": "2021-09-19T22:35:38.816510",
     "exception": false,
     "start_time": "2021-09-19T22:35:38.799332",
     "status": "completed"
    },
    "tags": []
   },
   "source": [
    "All good! Pipeline is running without issues again!\n",
    "\n",
    "## Test-driven development (TDD)\n",
    "\n",
    "Writing data tests is essential for developing robust pipelines. Coding tests is simple, all we have to do is write in code that we already have in our mind when thinking what the outcome of a script should be.\n",
    "\n",
    "This thought process happens *before* we write the actual code, which means we could easily write tests even before we write the actual code. This approach is called Test-driven development (TDD).\n",
    "\n",
    "Following this framework has an added benefit, since we force ourselves to put in concrete terms our data expectations, it makes easier to think how we want to get there.\n",
    "\n",
    "Furthermore, *tests also serve as documentation* for us (and for others). By looking at our tests, anyone can see what *our intent* is. Then by looking at the code, it will be easier to spot mismatches between our intent and our implementation.\n",
    "\n",
    "\n",
    "## Pro tip: debugging and developing tests interactively\n",
    "\n",
    "Even though tests are usually just a few short statements, writing them in an interactive way can help you quickly prototype your assertions. One simple trick you can use to do this is to start an interactive session and load the `client` and `product` variables.\n",
    "\n",
    "Let's imagine you want to write a test for a new SQL script (but the same applies for other types of scripts). You add a testing function, but it's currently empty:\n",
    "\n",
    "```python\n",
    "def my_sql_testing_function(client, product):\n",
    "    pass\n",
    "```\n",
    "\n",
    "If you run this, Ploomber will still call your function, you can start an interactive session when this happens:\n",
    "\n",
    "```python\n",
    "def my_sql_testing_function(client, product):\n",
    "    from IPython import embed; embed()\n",
    "```\n",
    "\n",
    "Once you call `ploomber build`, wait for the Python prompt to show and verify you have the `client` and `product` variables:\n",
    "\n",
    "```pycon\n",
    ">>> print(client)\n",
    ">>> print(product)\n",
    "```\n",
    "\n",
    "\n",
    "## Where to go next\n",
    "\n",
    "* [Documentation for ploomber.testing - Handy functions for testing pipelines](../api/testing.rst)\n",
    "* [Our blog post on CI for Data Science (which includes a section on testing pipelines)](https://towardsdatascience.com/rethinking-continuous-integration-for-data-science-ebf0dfc61788)"
   ]
  }
 ],
 "metadata": {
  "jupytext": {
   "cell_metadata_filter": "tags,-all",
   "main_language": "python",
   "notebook_metadata_filter": "-all"
  },
  "kernelspec": {
   "display_name": "Python 3 (ipykernel)",
   "language": "python",
   "name": "python3"
  },
  "language_info": {
   "codemirror_mode": {
    "name": "ipython",
    "version": 3
   },
   "file_extension": ".py",
   "mimetype": "text/x-python",
   "name": "python",
   "nbconvert_exporter": "python",
   "pygments_lexer": "ipython3",
   "version": "3.7.10"
  },
  "papermill": {
   "duration": 16.19651,
   "end_time": "2021-09-19T22:35:39.239284",
   "exception": null,
   "input_path": "/var/folders/3h/_lvh_w_x5g30rrjzb_xnn2j80000gq/T/tmp4pneh4y6.ipynb",
   "output_path": "testing/README.ipynb",
   "parameters": {
    "product": "testing/README.ipynb"
   },
   "start_time": "2021-09-19T22:35:23.042774"
  }
 },
 "nbformat": 4,
 "nbformat_minor": 5
}
