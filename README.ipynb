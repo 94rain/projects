{
 "cells": [
  {
   "cell_type": "markdown",
   "id": "41c2dcbe",
   "metadata": {
    "papermill": {
     "duration": 0.017318,
     "end_time": "2021-10-11T20:56:56.404343",
     "exception": false,
     "start_time": "2021-10-11T20:56:56.387025",
     "status": "completed"
    },
    "tags": []
   },
   "source": [
    "# Ploomber sample projects\n",
    "\n",
    "![CI](https://github.com/ploomber/projects/workflows/ci/badge.svg)\n",
    "[![Twitter](https://img.shields.io/twitter/follow/edublancas?label=Follow&style=social)](https://twitter.com/intent/user?screen_name=edublancas)\n",
    "\n",
    "This repository contains sample pipelines developed using [Ploomber](https://github.com/ploomber/ploomber)\n",
    "\n",
    "**Note:** Make sure you read the [first two tutorials](https://ploomber.readthedocs.io/en/stable/get-started/spec-api-python.html) in the documentation to familiarize yourself with Ploomber's basic concepts.\n",
    "\n",
    "## Running examples\n",
    "\n",
    "Use Binder (no need to install anything but it takes a few minutes to load):\n",
    "\n",
    "[![Binder](https://mybinder.org/badge_logo.svg)](https://mybinder.org/v2/gh/ploomber/binder-env/main?urlpath=git-pull%3Frepo%3Dhttps%253A%252F%252Fgithub.com%252Fploomber%252Fprojects%26urlpath%3Dlab%252Ftree%252Fprojects%252FREADME.ipynb%26branch%3Dmaster)\n",
    "\n",
    "Or run locally:\n",
    "\n",
    "~~~sh\n",
    "pip install ploomber\n",
    "\n",
    "# list examples\n",
    "ploomber examples\n",
    "\n",
    "# download one example\n",
    "ploomber examples --name {name}\n",
    "~~~\n",
    "\n",
    "## How to read the examples\n",
    "\n",
    "Each example contains a `README.md` file with more information, and a\n",
    "`README.ipynb` file, which has the same contents as the `.md` file but in a\n",
    "Jupyter notebook format and with the output from each cell.\n",
    "\n",
    "## Index\n",
    "\n",
    "### Basic"
   ]
  },
  {
   "cell_type": "markdown",
   "id": "b50fd3b5",
   "metadata": {
    "papermill": {
     "duration": 0.015362,
     "end_time": "2021-10-11T20:56:56.435150",
     "exception": false,
     "start_time": "2021-10-11T20:56:56.419788",
     "status": "completed"
    },
    "tags": []
   },
   "source": [
    "1. [`ml-basic/`](ml-basic/README.ipynb) Machine Learning pipeline\n",
    "\n",
    "2. [`spec-api-r/`](spec-api-r/README.ipynb) R pipeline\n",
    "\n",
    "3. [`spec-api-directory/`](spec-api-directory/README.ipynb) Pipeline from a directory of scripts"
   ]
  },
  {
   "cell_type": "markdown",
   "id": "2f8fa8ee",
   "metadata": {
    "papermill": {
     "duration": 0.015027,
     "end_time": "2021-10-11T20:56:56.466714",
     "exception": false,
     "start_time": "2021-10-11T20:56:56.451687",
     "status": "completed"
    },
    "tags": []
   },
   "source": [
    "### Intermediate"
   ]
  },
  {
   "cell_type": "markdown",
   "id": "9f86da4b",
   "metadata": {
    "papermill": {
     "duration": 0.01448,
     "end_time": "2021-10-11T20:56:56.496034",
     "exception": false,
     "start_time": "2021-10-11T20:56:56.481554",
     "status": "completed"
    },
    "tags": []
   },
   "source": [
    "4. [`ml-intermediate/`](ml-intermediate/README.ipynb) Training and serving ML pipeline with integration testing\n",
    "\n",
    "5. [`spec-api-sql/`](spec-api-sql/README.ipynb) Pipeline with SQL and Python tasks\n",
    "\n",
    "6. [`python-api/`](python-api/README.ipynb) Pipeline using the Python API"
   ]
  },
  {
   "cell_type": "markdown",
   "id": "07248d47",
   "metadata": {
    "papermill": {
     "duration": 0.01445,
     "end_time": "2021-10-11T20:56:56.526005",
     "exception": false,
     "start_time": "2021-10-11T20:56:56.511555",
     "status": "completed"
    },
    "tags": []
   },
   "source": [
    "### Advanced"
   ]
  },
  {
   "cell_type": "markdown",
   "id": "20cca499",
   "metadata": {
    "papermill": {
     "duration": 0.014309,
     "end_time": "2021-10-11T20:56:56.555592",
     "exception": false,
     "start_time": "2021-10-11T20:56:56.541283",
     "status": "completed"
    },
    "tags": []
   },
   "source": [
    "7. [`ml-online/`](ml-online/README.md) ML pipeline. Train in Kubernetes (via Argo Workflows), deploy using Flask\n",
    "\n",
    "8. [`etl/`](etl/README.ipynb) SQL pipeline that downloads data, uploads to a database, process it, and plots using Python/R\n",
    "\n",
    "9. [`ml-advanced/`](ml-advanced/README.ipynb) ML pipeline using the Python API. Shows how to package project, test it using pytest and train models in parallel\n",
    "\n",
    "10. [`mlflow/`](mlflow/README.ipynb) ML pipeline that trains a grid of models and logs them using MLflow"
   ]
  },
  {
   "cell_type": "markdown",
   "id": "ea1d7ca6",
   "metadata": {
    "papermill": {
     "duration": 0.014316,
     "end_time": "2021-10-11T20:56:56.584090",
     "exception": false,
     "start_time": "2021-10-11T20:56:56.569774",
     "status": "completed"
    },
    "tags": []
   },
   "source": [
    "## Guides\n",
    "\n",
    "These are part of the [documentation](https://ploomber.readthedocs.io/en/stable/user-guide/index.html)."
   ]
  },
  {
   "cell_type": "markdown",
   "id": "7f5c3b0e",
   "metadata": {
    "papermill": {
     "duration": 0.014187,
     "end_time": "2021-10-11T20:56:56.612256",
     "exception": false,
     "start_time": "2021-10-11T20:56:56.598069",
     "status": "completed"
    },
    "tags": []
   },
   "source": [
    "1. [`spec-api-python/`](spec-api-python/README.ipynb) Introductory tutorial\n",
    "2. [`parametrized/`](parametrized/README.ipynb) Pipeline with input parameters\n",
    "3. [`debugging/`](debugging/README.ipynb) Pipeline to demonstrate debugging capabilities\n",
    "4. [`testing/`](testing/README.ipynb) Pipeline with SQL and Python tasks showing how to test pipelines\n",
    "5. [`sql-templating/`](sql-templating/README.ipynb) SQL pipeline showing how to use macros to write concise SQL scripts\n",
    "6. [`logging`](guides/logging/README.ipynb) Logging configuration\n",
    "7. [`serialization`](guides/serialization/README.ipynb) Configuring serialization for function tasks\n",
    "\n",
    "## Python API\n",
    "\n",
    "The simplest way to get started with Ploomber is via the Spec API, which allows you to describe pipelines using a `pipeline.yaml` file, most examples on this repository use the Spec API. However, if you want more flexibility, you may write pipelines with Python.\n",
    "\n",
    "The [`python-api/`](python-api) directory contains a project written using the Python API. And the [`python-api-examples/`](python-api-examples) includes some tutorials and more examples."
   ]
  }
 ],
 "metadata": {
  "jupytext": {
   "cell_metadata_filter": "-all",
   "main_language": "python",
   "notebook_metadata_filter": "-all"
  },
  "language_info": {
   "codemirror_mode": {
    "name": "ipython",
    "version": 3
   },
   "file_extension": ".py",
   "mimetype": "text/x-python",
   "name": "python",
   "nbconvert_exporter": "python",
   "pygments_lexer": "ipython3",
   "version": "3.9.7"
  },
  "papermill": {
   "default_parameters": {},
   "duration": 2.732514,
   "end_time": "2021-10-11T20:56:56.835460",
   "environment_variables": {},
   "exception": null,
   "input_path": "README.ipynb",
   "output_path": "README.ipynb",
   "parameters": {},
   "start_time": "2021-10-11T20:56:54.102946",
   "version": "2.3.3"
  }
 },
 "nbformat": 4,
 "nbformat_minor": 5
}