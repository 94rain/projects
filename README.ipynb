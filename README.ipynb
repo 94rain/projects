{
 "cells": [
  {
   "cell_type": "markdown",
   "id": "5cefce5d",
   "metadata": {
    "papermill": {
     "duration": 0.014014,
     "end_time": "2021-10-28T01:36:54.944949",
     "exception": false,
     "start_time": "2021-10-28T01:36:54.930935",
     "status": "completed"
    },
    "tags": []
   },
   "source": [
    "# Ploomber sample projects\n",
    "\n",
    "![CI](https://github.com/ploomber/projects/workflows/ci/badge.svg)\n",
    "[![Twitter](https://img.shields.io/twitter/follow/edublancas?label=Follow&style=social)](https://twitter.com/intent/user?screen_name=edublancas)\n",
    "\n",
    "This repository contains sample pipelines developed using [Ploomber](https://github.com/ploomber/ploomber).\n",
    "\n",
    "**Note:** Make sure you read the [first two tutorials](https://ploomber.readthedocs.io/en/stable/get-started/spec-api-python.html) in the documentation to familiarize yourself with Ploomber's basic concepts.\n",
    "\n",
    "## Running examples\n",
    "\n",
    "Use Binder (free, hosted JupyterLab):\n",
    "\n",
    "[![Binder](https://mybinder.org/badge_logo.svg)](https://mybinder.org/v2/gh/ploomber/binder-env/main?urlpath=git-pull%3Frepo%3Dhttps%253A%252F%252Fgithub.com%252Fploomber%252Fprojects%26urlpath%3Dlab%252Ftree%252Fprojects%252FREADME.ipynb%26branch%3Dmaster)\n",
    "\n",
    "Or run locally:\n",
    "\n",
    "~~~sh\n",
    "pip install ploomber\n",
    "\n",
    "# list examples\n",
    "ploomber examples\n",
    "\n",
    "# download example with name\n",
    "ploomber examples --name {name}\n",
    "\n",
    "# example\n",
    "ploomber examples --name templates/mlflow\n",
    "~~~\n",
    "\n",
    "## How to read the examples\n",
    "\n",
    "Each example contains a `README.md` file that describes it; a `README.ipynb` is also available with the same contents but in Jupyter notebook format and with command outputs. In addition, files for `pip` (`requirements.txt`) and  `conda` (`environment.yml`) are provided for local execution.\n",
    "\n",
    "## Index\n",
    "\n",
    "### Templates\n",
    "\n",
    "Starting points for common use cases. Use them to ramp up a project quickly."
   ]
  },
  {
   "cell_type": "markdown",
   "id": "0db30d74",
   "metadata": {
    "papermill": {
     "duration": 0.012096,
     "end_time": "2021-10-28T01:36:54.970048",
     "exception": false,
     "start_time": "2021-10-28T01:36:54.957952",
     "status": "completed"
    },
    "tags": []
   },
   "source": [
    "1. [`templates/etl`](templates/etl/README.ipynb) Download a data file, upload it to a database, process it, and plot with Python and R.\n",
    "\n",
    "2. [`templates/ml-advanced`](templates/ml-advanced/README.ipynb) ML pipeline using the Python API. Shows how to create a Python package, test it with pytest, and train models in parallel.\n",
    "\n",
    "3. [`templates/ml-basic`](templates/ml-basic/README.ipynb) Download data, clean it, generate features and train a model.\n",
    "\n",
    "4. [`templates/ml-intermediate`](templates/ml-intermediate/README.ipynb) Training and serving ML pipelines with integration testing to evaluate training data quality.\n",
    "\n",
    "5. [`templates/ml-online`](templates/ml-online/README.ipynb) Load data, generate features, train a model, and deploy model with flask.\n",
    "\n",
    "6. [`templates/mlflow`](templates/mlflow/README.ipynb) Train a grid of models and log them to MLflow.\n",
    "\n",
    "7. [`templates/python-api`](templates/python-api/README.ipynb) Loads, clean, and plot data using the Python API.\n",
    "\n",
    "8. [`templates/spec-api-directory`](templates/spec-api-directory/README.ipynb) Create a pipeline from a directory with scripts (without a pipeline.yaml file).\n",
    "\n",
    "9. [`templates/spec-api-r`](templates/spec-api-r/README.ipynb) Load, clean and plot data with R.\n",
    "\n",
    "10. [`templates/spec-api-sql`](templates/spec-api-sql/README.ipynb) Use SQL scripts to manipulate data in a database, dump a table, and plot it with Python."
   ]
  },
  {
   "cell_type": "markdown",
   "id": "d9b49a98",
   "metadata": {
    "papermill": {
     "duration": 0.011796,
     "end_time": "2021-10-28T01:36:54.995093",
     "exception": false,
     "start_time": "2021-10-28T01:36:54.983297",
     "status": "completed"
    },
    "tags": []
   },
   "source": [
    "### Cookbook\n",
    "\n",
    "Short and to-the-point examples showing how to use a specific feature."
   ]
  },
  {
   "cell_type": "markdown",
   "id": "1d7fab17",
   "metadata": {
    "papermill": {
     "duration": 0.013684,
     "end_time": "2021-10-28T01:36:55.022520",
     "exception": false,
     "start_time": "2021-10-28T01:36:55.008836",
     "status": "completed"
    },
    "tags": []
   },
   "source": [
    "1. [`cookbook/dynamic-params`](cookbook/dynamic-params/README.ipynb) Pipeline parameters whose values are computed at runtime.\n",
    "\n",
    "2. [`cookbook/grid`](cookbook/grid/README.ipynb) An example showing how to create a grid of tasks to train models with different parameters.\n",
    "\n",
    "3. [`cookbook/python-load`](cookbook/python-load/README.ipynb) Load pipeline.yaml file in a Python session to customize ininitialization.\n",
    "\n",
    "4. [`cookbook/serialization`](cookbook/serialization/README.ipynb) Shows how to use the serializer and unserializer decorators.\n",
    "\n",
    "5. [`cookbook/sql-dump`](cookbook/sql-dump/README.ipynb) A minimal example showing how to dump a table from a SQL database.\n",
    "\n",
    "6. [`cookbook/variable-number-of-products`](cookbook/variable-number-of-products/README.ipynb) Shows how to create tasks whose number of products depends on runtime conditions."
   ]
  },
  {
   "cell_type": "markdown",
   "id": "d0229eb8",
   "metadata": {
    "papermill": {
     "duration": 0.012084,
     "end_time": "2021-10-28T01:36:55.047172",
     "exception": false,
     "start_time": "2021-10-28T01:36:55.035088",
     "status": "completed"
    },
    "tags": []
   },
   "source": [
    "### Guides\n",
    "\n",
    "In-depth tutorials for learning.  These are part of the [documentation](https://ploomber.readthedocs.io/en/stable/user-guide/index.html)."
   ]
  },
  {
   "cell_type": "markdown",
   "id": "f6c91b81",
   "metadata": {
    "papermill": {
     "duration": 0.01203,
     "end_time": "2021-10-28T01:36:55.071396",
     "exception": false,
     "start_time": "2021-10-28T01:36:55.059366",
     "status": "completed"
    },
    "tags": []
   },
   "source": [
    "1. [`guides/debugging`](guides/debugging/README.ipynb) Tutorial showing techniques for debugging pipelines.\n",
    "\n",
    "2. [`guides/logging`](guides/logging/README.ipynb) Tutorial showing how to add logging to a pipeline.\n",
    "\n",
    "3. [`guides/parametrized`](guides/parametrized/README.ipynb) Tutorial showing how to parametrize pipelines and change parameters from the command-line.\n",
    "\n",
    "4. [`guides/serialization`](guides/serialization/README.ipynb) Tutorial explaining how the serializer and unserializer fields in a pipeline.yaml file work.\n",
    "\n",
    "5. [`guides/spec-api-python`](guides/spec-api-python/README.ipynb) Introductory tutorial to learn the basics of Ploomber.\n",
    "\n",
    "6. [`guides/sql-templating`](guides/sql-templating/README.ipynb) Introductory tutorial teaching how to develop modular SQL pipelines.\n",
    "\n",
    "7. [`guides/testing`](guides/testing/README.ipynb) Tutorial showing how to use a task's on_finish hook to test data quality.\n"
   ]
  },
  {
   "cell_type": "markdown",
   "id": "64c37ad2",
   "metadata": {
    "papermill": {
     "duration": 0.013496,
     "end_time": "2021-10-28T01:36:55.099113",
     "exception": false,
     "start_time": "2021-10-28T01:36:55.085617",
     "status": "completed"
    },
    "tags": []
   },
   "source": [
    "## Python API\n",
    "\n",
    "The simplest way to get started with Ploomber is via the Spec API, which allows you to describe pipelines using a `pipeline.yaml` file, most examples on this repository use the Spec API. However, if you want more flexibility, you may write pipelines with Python.\n",
    "\n",
    "The [`templates/python-api/`](templates/python-api) directory contains a project written using the Python API. And the [`python-api-examples/`](python-api-examples) includes some tutorials and more examples."
   ]
  }
 ],
 "metadata": {
  "jupytext": {
   "cell_metadata_filter": "-all",
   "main_language": "python",
   "notebook_metadata_filter": "-all"
  },
  "language_info": {
   "codemirror_mode": {
    "name": "ipython",
    "version": 3
   },
   "file_extension": ".py",
   "mimetype": "text/x-python",
   "name": "python",
   "nbconvert_exporter": "python",
   "pygments_lexer": "ipython3",
   "version": "3.9.7"
  },
  "papermill": {
   "default_parameters": {},
   "duration": 1.870064,
   "end_time": "2021-10-28T01:36:55.328873",
   "environment_variables": {},
   "exception": null,
   "input_path": "README.ipynb",
   "output_path": "README.ipynb",
   "parameters": {},
   "start_time": "2021-10-28T01:36:53.458809",
   "version": "2.3.3"
  }
 },
 "nbformat": 4,
 "nbformat_minor": 5
}