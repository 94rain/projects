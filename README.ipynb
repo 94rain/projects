{
 "cells": [
  {
   "cell_type": "markdown",
   "id": "distinguished-conversion",
   "metadata": {
    "papermill": {
     "duration": 0.008781,
     "end_time": "2021-05-10T14:59:50.604353",
     "exception": false,
     "start_time": "2021-05-10T14:59:50.595572",
     "status": "completed"
    },
    "tags": []
   },
   "source": [
    "# Ploomber sample projects\n",
    "\n",
    "![CI](https://github.com/ploomber/projects/workflows/ci/badge.svg)\n",
    "[![Twitter](https://img.shields.io/twitter/follow/edublancas?label=Follow&style=social)](https://twitter.com/intent/user?screen_name=edublancas)\n",
    "\n",
    "This repository contains sample pipelines developed using [Ploomber](https://github.com/ploomber/ploomber)\n",
    "\n",
    "**Note:** Make sure you read the [first two tutorials](https://ploomber.readthedocs.io/en/stable/get-started/spec-api-python.html) in the documentation to familiarize yourself with Ploomber's basic concepts.\n",
    "\n",
    "## Running examples\n",
    "\n",
    "Choose from one of the hosted options:\n",
    "\n",
    "| [![Binder](https://mybinder.org/badge_logo.svg)](https://mybinder.org/v2/gh/ploomber/binder-env/main?urlpath=git-pull%3Frepo%3Dhttps%253A%252F%252Fgithub.com%252Fploomber%252Fprojects%26urlpath%3Dlab%252Ftree%252Fprojects%252FREADME.ipynb%26branch%3Dmaster) | [<img src=\"https://deepnote.com/buttons/launch-in-deepnote-small.svg\">](https://deepnote.com/launch?template=deepnote&url=https://github.com/ploomber/projects/blob/master/README.ipynb) |\n",
    "| ----------- | ----------- |\n",
    "| No account required | Free account required |\n",
    "| Might take ~2 mins to load | Loads faster |\n",
    "| All examples work | ETL example doesn't work yet |"
   ]
  },
  {
   "cell_type": "markdown",
   "id": "selected-courtesy",
   "metadata": {
    "papermill": {
     "duration": 0.007208,
     "end_time": "2021-05-10T14:59:50.618308",
     "exception": false,
     "start_time": "2021-05-10T14:59:50.611100",
     "status": "completed"
    },
    "tags": []
   },
   "source": [
    "Or run locally:\n",
    "\n",
    "~~~sh\n",
    "pip install ploomber\n",
    "\n",
    "# list examples\n",
    "ploomber examples\n",
    "\n",
    "# download one example\n",
    "ploomber examples --name {name}\n",
    "~~~\n",
    "\n",
    "## How to read the examples\n",
    "\n",
    "Each example contains a `README.md` file with more information, and a\n",
    "`README.ipynb` file, which has the same contents as the `.md` file but in a\n",
    "Jupyter notebook format and with the output from each cell.\n",
    "\n",
    "## Index\n",
    "\n",
    "### Basic"
   ]
  },
  {
   "cell_type": "markdown",
   "id": "annoying-sarah",
   "metadata": {
    "papermill": {
     "duration": 0.006486,
     "end_time": "2021-05-10T14:59:50.631831",
     "exception": false,
     "start_time": "2021-05-10T14:59:50.625345",
     "status": "completed"
    },
    "tags": []
   },
   "source": [
    "1. [`ml-basic/`](ml-basic/README.ipynb) Machine Learning pipeline\n",
    "\n",
    "2. [`spec-api-r/`](spec-api-r/README.ipynb) R pipeline\n",
    "\n",
    "3. [`spec-api-directory/`](spec-api-directory/README.ipynb) Pipeline from a directory of scripts"
   ]
  },
  {
   "cell_type": "markdown",
   "id": "tired-specialist",
   "metadata": {
    "papermill": {
     "duration": 0.006448,
     "end_time": "2021-05-10T14:59:50.644582",
     "exception": false,
     "start_time": "2021-05-10T14:59:50.638134",
     "status": "completed"
    },
    "tags": []
   },
   "source": [
    "### Intermediate"
   ]
  },
  {
   "cell_type": "markdown",
   "id": "seeing-alignment",
   "metadata": {
    "papermill": {
     "duration": 0.006583,
     "end_time": "2021-05-10T14:59:50.658075",
     "exception": false,
     "start_time": "2021-05-10T14:59:50.651492",
     "status": "completed"
    },
    "tags": []
   },
   "source": [
    "4. [`ml-intermediate/`](ml-intermediate/README.ipynb) Training and serving ML pipeline with integration testing\n",
    "\n",
    "5. [`spec-api-sql/`](spec-api-sql/README.ipynb) Pipeline with SQL and Python tasks\n",
    "\n",
    "6. [`python-api/`](python-api/README.ipynb) Pipeline using the Python API"
   ]
  },
  {
   "cell_type": "markdown",
   "id": "working-prototype",
   "metadata": {
    "papermill": {
     "duration": 0.006466,
     "end_time": "2021-05-10T14:59:50.670972",
     "exception": false,
     "start_time": "2021-05-10T14:59:50.664506",
     "status": "completed"
    },
    "tags": []
   },
   "source": [
    "### Advanced"
   ]
  },
  {
   "cell_type": "markdown",
   "id": "computational-harrison",
   "metadata": {
    "papermill": {
     "duration": 0.005962,
     "end_time": "2021-05-10T14:59:50.684080",
     "exception": false,
     "start_time": "2021-05-10T14:59:50.678118",
     "status": "completed"
    },
    "tags": []
   },
   "source": [
    "7. [`ml-online/`](ml-online/README.md) ML pipeline. Train in Kubernetes (via Argo Workflows), deploy using Flask\n",
    "\n",
    "8. [`etl/`](etl/README.ipynb) SQL pipeline that downloads data, uploads to a database, process it, and plots using Python/R\n",
    "\n",
    "9. [`ml-advanced/`](ml-advanced/README.ipynb) ML pipeline using the Python API. Shows how to package project, test it using pytest and train models in parallel"
   ]
  },
  {
   "cell_type": "markdown",
   "id": "systematic-seeking",
   "metadata": {
    "papermill": {
     "duration": 0.006366,
     "end_time": "2021-05-10T14:59:50.696431",
     "exception": false,
     "start_time": "2021-05-10T14:59:50.690065",
     "status": "completed"
    },
    "tags": []
   },
   "source": [
    "## Guides\n",
    "\n",
    "These are part of the [documentation](https://ploomber.readthedocs.io/en/stable/user-guide/index.html)."
   ]
  },
  {
   "cell_type": "markdown",
   "id": "center-primary",
   "metadata": {
    "papermill": {
     "duration": 0.007341,
     "end_time": "2021-05-10T14:59:50.709788",
     "exception": false,
     "start_time": "2021-05-10T14:59:50.702447",
     "status": "completed"
    },
    "tags": []
   },
   "source": [
    "1. [`spec-api-python/`](spec-api-python/README.ipynb) Introductory tutorial\n",
    "2. [`parametrized/`](parametrized/README.ipynb) Pipeline with input parameters\n",
    "3. [`debugging/`](debugging/README.ipynb) Pipeline to demonstrate debugging capabilities\n",
    "4. [`testing/`](testing/README.ipynb) Pipeline with SQL and Python tasks showing how to test pipelines\n",
    "5. [`sql-templating/`](sql-templating/README.ipynb) SQL pipeline showing how to use macros to write concise SQL scripts"
   ]
  }
 ],
 "metadata": {
  "jupytext": {
   "cell_metadata_filter": "-all",
   "main_language": "python",
   "notebook_metadata_filter": "-all"
  },
  "kernelspec": {
   "display_name": "Python 3",
   "language": "python",
   "name": "python3"
  },
  "language_info": {
   "codemirror_mode": {
    "name": "ipython",
    "version": 3
   },
   "file_extension": ".py",
   "mimetype": "text/x-python",
   "name": "python",
   "nbconvert_exporter": "python",
   "pygments_lexer": "ipython3",
   "version": "3.7.10"
  },
  "papermill": {
   "duration": 1.318933,
   "end_time": "2021-05-10T14:59:50.968561",
   "exception": null,
   "input_path": "/var/folders/3h/_lvh_w_x5g30rrjzb_xnn2j80000gq/T/tmpiq1ayhrx.ipynb",
   "output_path": "README.ipynb",
   "parameters": {
    "product": "README.ipynb"
   },
   "start_time": "2021-05-10T14:59:49.649628"
  }
 },
 "nbformat": 4,
 "nbformat_minor": 5
}
