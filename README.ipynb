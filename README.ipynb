{
 "cells": [
  {
   "cell_type": "markdown",
   "metadata": {},
   "source": [
    "# Ploomber sample projects\n",
    "\n",
    "![](https://github.com/ploomber/projects/workflows/ci/badge.svg)\n",
    "\n",
    "This repository contains sample pipelines developed using [Ploomber](github.com/ploomber/ploomber)\n",
    "\n",
    "## Starting an interactive environment\n",
    "\n",
    "If you want to play around with the examples without installing anything, you\n",
    "have two options Binder or Deepnote. The main difference is that Deepnote\n",
    "requires you to have a free account (you can quickly do so if you have a Github\n",
    "account), but it loads much faster (although not all examples work there yet).\n",
    "\n",
    "[<img src=\"https://deepnote.com/buttons/launch-in-deepnote.svg\">](https://deepnote.com/launch?template=deepnote&url=https://github.com/ploomber/projects/blob/master/README.ipynb)\n",
    "\n",
    "[![Binder](https://mybinder.org/badge_logo.svg)](https://mybinder.org/v2/gh/ploomber/projects/master)"
   ]
  },
  {
   "cell_type": "markdown",
   "metadata": {},
   "source": [
    "## How to read the examples\n",
    "\n",
    "Each example contains a `README.md` file with more information, and a\n",
    "`README.ipynb` file which has the same contents as the `.md` file but in a\n",
    "Jupyter notebook format and with the output from each cell.\n",
    "\n",
    "## Where to start?\n",
    "\n",
    "* Simples example: `spec-api-directory`\n",
    "* Machine Learning example: `ml-basic`\n",
    "* SQL ETL example: `spec-api-sql`\n",
    "\n",
    "## Index\n",
    "\n",
    "### Basic\n",
    "\n",
    "1. `spec-api-directory/` Simple example showing how to build a pipeline out of a directory with scripts. This is the example used in the JupyterCon 2020 demo\n",
    "2. `spec-api-python/` Python pipeline defined using a `pipeline.yaml` spec file\n",
    "3. `spec-api-r/` R pipeline defined using a `pipeline.yaml` spec file\n",
    "4. `ml-basic/` Basic Machine Learning pipeline with a few function tasks and a notebook task for training a model\n",
    "\n",
    "### Intermediate\n",
    "\n",
    "5. `spec-api-sql/` Pipeline with SQL and Python tasks, using the Spec API\n",
    "6. `python-api/` Pipeline using the Python API\n",
    "7. `parametrized/` Pipeline with input parameters\n",
    "8. `debugging/` Pipeline to demonstrate debugging capabilities\n",
    "9. `testing/` Pipeline with SQL and Python tasks showing how to test pipelines\n",
    "10. `ml-intermediate/` ML pipeline (Spec API). Similar to `ml-basic/` but shows how to do integration testing using `on_finish` and speed testing up by parametrizing the pipeline with a sample on/off option, switched via command line\n",
    "\n",
    "### Advanced\n",
    "\n",
    "10. `sql-templating` SQL pipeline showing how to use macros to write concise SQL scripts\n",
    "11. `etl` Pipeline with a SQL tasks demonstrating how to extract data from a database and then process it with Python and R\n",
    "12. `ml-advanced/` Machine Learning pipeline using the Python API, how to package\n",
    "your projects so you can install them using `pip install .`, how to test\n",
    "using `pytest`, how to create an array of experiments to try several models and\n",
    "run them in parallel."
   ]
  },
  {
   "cell_type": "code",
   "execution_count": null,
   "metadata": {
    "tags": [
     "parameters"
    ]
   },
   "outputs": [],
   "source": []
  }
 ],
 "metadata": {
  "jupytext": {
   "cell_metadata_filter": "-all",
   "main_language": "python",
   "notebook_metadata_filter": "-all",
   "text_representation": {
    "extension": ".md",
    "format_name": "markdown"
   }
  }
 },
 "nbformat": 4,
 "nbformat_minor": 4
}
