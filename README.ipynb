{
 "cells": [
  {
   "cell_type": "markdown",
   "metadata": {
    "papermill": {
     "duration": 0.005324,
     "end_time": "2020-11-26T17:51:35.660952",
     "exception": false,
     "start_time": "2020-11-26T17:51:35.655628",
     "status": "completed"
    },
    "tags": []
   },
   "source": [
    "# Ploomber sample projects\n",
    "\n",
    "![](https://github.com/ploomber/projects/workflows/ci/badge.svg)\n",
    "\n",
    "This repository contains sample pipelines developed using [Ploomber](github.com/ploomber/ploomber)\n",
    "\n",
    "## Running examples (no installation needed)\n",
    "\n",
    "| [![Binder](https://mybinder.org/badge_logo.svg)](https://mybinder.org/v2/gh/ploomber/projects/master) | [<img src=\"https://deepnote.com/buttons/launch-in-deepnote-small.svg\">](https://mybinder.org/v2/gh/ploomber/binder-env/main?urlpath=git-pull%3Frepo%3Dhttps%253A%252F%252Fgithub.com%252Fploomber%252Fprojects%26urlpath%3Dlab%252Ftree%252Fprojects%252FREADME.ipynb%26branch%3Dmaster) |\n",
    "| ----------- | ----------- |\n",
    "| No account required | Free account required |\n",
    "| Might take ~2 mins to load | Loads faster |\n",
    "| All examples work | ETL example doesn't work yet |"
   ]
  },
  {
   "cell_type": "markdown",
   "metadata": {
    "papermill": {
     "duration": 0.002848,
     "end_time": "2020-11-26T17:51:35.667393",
     "exception": false,
     "start_time": "2020-11-26T17:51:35.664545",
     "status": "completed"
    },
    "tags": []
   },
   "source": [
    "## How to read the examples\n",
    "\n",
    "Each example contains a `README.md` file with more information, and a\n",
    "`README.ipynb` file which has the same contents as the `.md` file but in a\n",
    "Jupyter notebook format and with the output from each cell.\n",
    "\n",
    "## Where to start?\n",
    "\n",
    "* Simplest example: [`spec-api-directory/`](spec-api-directory/README.ipynb)\n",
    "* Machine Learning example: [`ml-basic/`](ml-basic/README.ipynb)\n",
    "* SQL ETL example: [`spec-api-sql/`](spec-api-sql/README.ipynb)\n",
    "\n",
    "## Sample projects\n",
    "\n",
    "### Basic\n",
    "\n",
    "1. [`spec-api-directory/`](spec-api-directory/README.ipynb) Build a pipeline from of a directory with scripts/notebooks\n",
    "2. [`spec-api-python/`](spec-api-python/README.ipynb) Pipeline defined using a `pipeline.yaml` spec file\n",
    "3. [`spec-api-r/`](spec-api-r/README.ipynb) R pipeline defined using a `pipeline.yaml` spec file\n",
    "4. [`ml-basic/`](ml-basic/README.ipynb) Basic Machine Learning pipeline with a few function tasks and a notebook task for training a model\n",
    "\n",
    "### Intermediate\n",
    "\n",
    "5. [`ml-intermediate/`](ml-intermediate/README.ipynb) ML pipeline (Spec API). Similar to `ml-basic/` but shows how to do integration testing using `on_finish` and speed testing up by parametrizing the pipeline with a sample on/off option, switched via command line\n",
    "6. [`spec-api-sql/`](spec-api-sql/README.ipynb) Pipeline with SQL and Python tasks, using the Spec API\n",
    "7. [`python-api/`](python-api/README.ipynb) Pipeline using the Python API\n",
    "\n",
    "### Advanced\n",
    "\n",
    "8. [`etl/`](etl/README.ipynb) Pipeline with a SQL tasks demonstrating how to extract data from a database and then process it with Python and R\n",
    "9. [`ml-advanced/`](ml-advanced/README.ipynb) Machine Learning pipeline using the Python API, how to package\n",
    "your projects so you can install them using `pip install .`, how to test\n",
    "using `pytest`, how to create an array of experiments to try several models and\n",
    "run them in parallel.\n",
    "\n",
    "## User guides\n",
    "\n",
    "These are part of the User Guide section in the [main documentation](https://ploomber.readthedocs.io/en/stable/user-guide/index.html).\n",
    "\n",
    "8. [`parametrized/`](parametrized/README.ipynb) Pipeline with input parameters\n",
    "9. [`debugging/`](debugging/README.ipynb) Pipeline to demonstrate debugging capabilities\n",
    "10. [`testing/`](testing/README.ipynb) Pipeline with SQL and Python tasks showing how to test pipelines\n",
    "10. [`sql-templating/`](sql-templating/README.ipynb) SQL pipeline showing how to use macros to write concise SQL scripts"
   ]
  },
  {
   "cell_type": "code",
   "execution_count": null,
   "metadata": {
    "papermill": {
     "duration": 0.002289,
     "end_time": "2020-11-26T17:51:35.672116",
     "exception": false,
     "start_time": "2020-11-26T17:51:35.669827",
     "status": "completed"
    },
    "tags": [
     "parameters"
    ]
   },
   "outputs": [],
   "source": []
  },
  {
   "cell_type": "code",
   "execution_count": 1,
   "metadata": {
    "execution": {
     "iopub.execute_input": "2020-11-26T17:51:35.680987Z",
     "iopub.status.busy": "2020-11-26T17:51:35.680323Z",
     "iopub.status.idle": "2020-11-26T17:51:35.682900Z",
     "shell.execute_reply": "2020-11-26T17:51:35.683357Z"
    },
    "papermill": {
     "duration": 0.009332,
     "end_time": "2020-11-26T17:51:35.683646",
     "exception": false,
     "start_time": "2020-11-26T17:51:35.674314",
     "status": "completed"
    },
    "tags": [
     "injected-parameters"
    ]
   },
   "outputs": [],
   "source": [
    "# Parameters\n",
    "product = \"README.ipynb\"\n"
   ]
  }
 ],
 "metadata": {
  "jupytext": {
   "cell_metadata_filter": "-all",
   "main_language": "python",
   "notebook_metadata_filter": "-all",
   "text_representation": {
    "extension": ".md",
    "format_name": "markdown"
   }
  },
  "kernelspec": {
   "display_name": "Python 3",
   "language": "python",
   "name": "python3"
  },
  "language_info": {
   "codemirror_mode": {
    "name": "ipython",
    "version": 3
   },
   "file_extension": ".py",
   "mimetype": "text/x-python",
   "name": "python",
   "nbconvert_exporter": "python",
   "pygments_lexer": "ipython3",
   "version": "3.8.6"
  },
  "papermill": {
   "default_parameters": {},
   "duration": 1.198929,
   "end_time": "2020-11-26T17:51:35.901525",
   "environment_variables": {},
   "exception": null,
   "input_path": "/var/folders/3h/_lvh_w_x5g30rrjzb_xnn2j80000gq/T/tmp95uhw6k7.ipynb",
   "output_path": "README.ipynb",
   "parameters": {
    "product": "README.ipynb"
   },
   "start_time": "2020-11-26T17:51:34.702596",
   "version": "2.2.2"
  }
 },
 "nbformat": 4,
 "nbformat_minor": 4
}
