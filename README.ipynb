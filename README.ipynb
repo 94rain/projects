{
 "cells": [
  {
   "cell_type": "markdown",
   "id": "993ad802",
   "metadata": {
    "papermill": {
     "duration": 0.007658,
     "end_time": "2021-10-10T00:14:54.256141",
     "exception": false,
     "start_time": "2021-10-10T00:14:54.248483",
     "status": "completed"
    },
    "tags": []
   },
   "source": [
    "# Ploomber sample projects\n",
    "\n",
    "![CI](https://github.com/ploomber/projects/workflows/ci/badge.svg)\n",
    "[![Twitter](https://img.shields.io/twitter/follow/edublancas?label=Follow&style=social)](https://twitter.com/intent/user?screen_name=edublancas)\n",
    "\n",
    "This repository contains sample pipelines developed using [Ploomber](https://github.com/ploomber/ploomber)\n",
    "\n",
    "**Note:** Make sure you read the [first two tutorials](https://ploomber.readthedocs.io/en/stable/get-started/spec-api-python.html) in the documentation to familiarize yourself with Ploomber's basic concepts.\n",
    "\n",
    "## Running examples\n",
    "\n",
    "Use Binder (no need to install anything but it takes a few minutes to load):\n",
    "\n",
    "[![Binder](https://mybinder.org/badge_logo.svg)](https://mybinder.org/v2/gh/ploomber/binder-env/main?urlpath=git-pull%3Frepo%3Dhttps%253A%252F%252Fgithub.com%252Fploomber%252Fprojects%26urlpath%3Dlab%252Ftree%252Fprojects%252FREADME.ipynb%26branch%3Dmaster)\n",
    "\n",
    "Or run locally:\n",
    "\n",
    "~~~sh\n",
    "pip install ploomber\n",
    "\n",
    "# list examples\n",
    "ploomber examples\n",
    "\n",
    "# download one example\n",
    "ploomber examples --name {name}\n",
    "~~~\n",
    "\n",
    "## How to read the examples\n",
    "\n",
    "Each example contains a `README.md` file with more information, and a\n",
    "`README.ipynb` file, which has the same contents as the `.md` file but in a\n",
    "Jupyter notebook format and with the output from each cell.\n",
    "\n",
    "## Index\n",
    "\n",
    "### Basic"
   ]
  },
  {
   "cell_type": "markdown",
   "id": "a37ccf1f",
   "metadata": {
    "papermill": {
     "duration": 0.005317,
     "end_time": "2021-10-10T00:14:54.267289",
     "exception": false,
     "start_time": "2021-10-10T00:14:54.261972",
     "status": "completed"
    },
    "tags": []
   },
   "source": [
    "1. [`ml-basic/`](ml-basic/README.ipynb) Machine Learning pipeline\n",
    "\n",
    "2. [`spec-api-r/`](spec-api-r/README.ipynb) R pipeline\n",
    "\n",
    "3. [`spec-api-directory/`](spec-api-directory/README.ipynb) Pipeline from a directory of scripts"
   ]
  },
  {
   "cell_type": "markdown",
   "id": "87a04ffc",
   "metadata": {
    "papermill": {
     "duration": 0.005534,
     "end_time": "2021-10-10T00:14:54.278579",
     "exception": false,
     "start_time": "2021-10-10T00:14:54.273045",
     "status": "completed"
    },
    "tags": []
   },
   "source": [
    "### Intermediate"
   ]
  },
  {
   "cell_type": "markdown",
   "id": "2c85acfb",
   "metadata": {
    "papermill": {
     "duration": 0.005126,
     "end_time": "2021-10-10T00:14:54.290124",
     "exception": false,
     "start_time": "2021-10-10T00:14:54.284998",
     "status": "completed"
    },
    "tags": []
   },
   "source": [
    "4. [`ml-intermediate/`](ml-intermediate/README.ipynb) Training and serving ML pipeline with integration testing\n",
    "\n",
    "5. [`spec-api-sql/`](spec-api-sql/README.ipynb) Pipeline with SQL and Python tasks\n",
    "\n",
    "6. [`python-api/`](python-api/README.ipynb) Pipeline using the Python API"
   ]
  },
  {
   "cell_type": "markdown",
   "id": "a0af511a",
   "metadata": {
    "papermill": {
     "duration": 0.00643,
     "end_time": "2021-10-10T00:14:54.301533",
     "exception": false,
     "start_time": "2021-10-10T00:14:54.295103",
     "status": "completed"
    },
    "tags": []
   },
   "source": [
    "### Advanced"
   ]
  },
  {
   "cell_type": "markdown",
   "id": "1a86377b",
   "metadata": {
    "papermill": {
     "duration": 0.005573,
     "end_time": "2021-10-10T00:14:54.313278",
     "exception": false,
     "start_time": "2021-10-10T00:14:54.307705",
     "status": "completed"
    },
    "tags": []
   },
   "source": [
    "7. [`ml-online/`](ml-online/README.md) ML pipeline. Train in Kubernetes (via Argo Workflows), deploy using Flask\n",
    "\n",
    "8. [`etl/`](etl/README.ipynb) SQL pipeline that downloads data, uploads to a database, process it, and plots using Python/R\n",
    "\n",
    "9. [`ml-advanced/`](ml-advanced/README.ipynb) ML pipeline using the Python API. Shows how to package project, test it using pytest and train models in parallel\n",
    "\n",
    "10. [`mlflow/`](mlflow/README.ipynb) ML pipeline that trains a grid of models and logs them using MLflow"
   ]
  },
  {
   "cell_type": "markdown",
   "id": "ed9b5ca5",
   "metadata": {
    "papermill": {
     "duration": 0.007123,
     "end_time": "2021-10-10T00:14:54.325951",
     "exception": false,
     "start_time": "2021-10-10T00:14:54.318828",
     "status": "completed"
    },
    "tags": []
   },
   "source": [
    "## Guides\n",
    "\n",
    "These are part of the [documentation](https://ploomber.readthedocs.io/en/stable/user-guide/index.html)."
   ]
  },
  {
   "cell_type": "markdown",
   "id": "836e2acf",
   "metadata": {
    "papermill": {
     "duration": 0.004759,
     "end_time": "2021-10-10T00:14:54.336041",
     "exception": false,
     "start_time": "2021-10-10T00:14:54.331282",
     "status": "completed"
    },
    "tags": []
   },
   "source": [
    "1. [`spec-api-python/`](spec-api-python/README.ipynb) Introductory tutorial\n",
    "2. [`parametrized/`](parametrized/README.ipynb) Pipeline with input parameters\n",
    "3. [`debugging/`](debugging/README.ipynb) Pipeline to demonstrate debugging capabilities\n",
    "4. [`testing/`](testing/README.ipynb) Pipeline with SQL and Python tasks showing how to test pipelines\n",
    "5. [`sql-templating/`](sql-templating/README.ipynb) SQL pipeline showing how to use macros to write concise SQL scripts\n",
    "6. [`logging`](guides/logging/README.ipynb) Logging configuration\n",
    "7. [`serialization`](guides/serialization/README.ipynb) Configuring serialization for function tasks\n",
    "\n",
    "## Python API\n",
    "\n",
    "The simplest way to get started with Ploomber is via the Spec API, which allows you to describe pipelines using a `pipeline.yaml` file, most examples on this repository use the Spec API. However, if you want more flexibility, you may write pipelines with Python.\n",
    "\n",
    "The [`python-api/`](python-api) directory contains a project written using the Python API. And the [`python-api-examples/`](python-api-examples) includes some tutorials and more examples."
   ]
  }
 ],
 "metadata": {
  "jupytext": {
   "cell_metadata_filter": "-all",
   "main_language": "python",
   "notebook_metadata_filter": "-all"
  },
  "kernelspec": {
   "display_name": "Python 3 (ipykernel)",
   "language": "python",
   "name": "python3"
  },
  "language_info": {
   "codemirror_mode": {
    "name": "ipython",
    "version": 3
   },
   "file_extension": ".py",
   "mimetype": "text/x-python",
   "name": "python",
   "nbconvert_exporter": "python",
   "pygments_lexer": "ipython3",
   "version": "3.7.10"
  },
  "papermill": {
   "duration": 1.702449,
   "end_time": "2021-10-10T00:14:54.486267",
   "exception": null,
   "input_path": "/var/folders/3h/_lvh_w_x5g30rrjzb_xnn2j80000gq/T/tmpkpwday7j.ipynb",
   "output_path": "README.ipynb",
   "parameters": {
    "product": "README.ipynb"
   },
   "start_time": "2021-10-10T00:14:52.783818"
  }
 },
 "nbformat": 4,
 "nbformat_minor": 5
}
