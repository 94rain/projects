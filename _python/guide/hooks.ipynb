{
 "cells": [
  {
   "cell_type": "markdown",
   "metadata": {},
   "source": [
    "# Intermediate: Hooks\n",
    "\n",
    "## Task-level hooks\n",
    "\n",
    "Execution hooks allow you to run a custom function after certain event happens on any given task. There are three types of hooks:\n",
    "\n",
    "1. `on_render`: executed after rendering\n",
    "2. `on_finish`: executed upon successful execution\n",
    "3. `on_failure`: execute upon failure\n",
    "\n",
    "Hooks can request any of the following parameters:\n",
    "\n",
    "* `task`: Task object itself\n",
    "* `client`: task.client if any\n",
    "* `product`: task.product\n",
    "\n",
    "To register a hook, just assign it to a task like this:\n",
    "\n",
    "```python\n",
    "def my_hook(task):\n",
    "    pass\n",
    "\n",
    "task.on_render =  my_hook\n",
    "```\n",
    "\n",
    "Let's now see some use cases.\n",
    "\n",
    "## `on_render` hook use case: validate source before execution"
   ]
  },
  {
   "cell_type": "markdown",
   "metadata": {},
   "source": [
    "## `on_finish` hook use case: verifying data quality"
   ]
  },
  {
   "cell_type": "markdown",
   "metadata": {},
   "source": [
    "## `on_failure` hook use case: notifications"
   ]
  },
  {
   "cell_type": "markdown",
   "metadata": {},
   "source": [
    "## DAG-level hooks\n",
    "\n",
    "Similarly, there are hooks available when a DAG finishes execution or fails."
   ]
  },
  {
   "cell_type": "code",
   "execution_count": null,
   "metadata": {},
   "outputs": [],
   "source": []
  }
 ],
 "metadata": {
  "kernelspec": {
   "display_name": "Python 3",
   "language": "python",
   "name": "python3"
  },
  "language_info": {
   "codemirror_mode": {
    "name": "ipython",
    "version": 3
   },
   "file_extension": ".py",
   "mimetype": "text/x-python",
   "name": "python",
   "nbconvert_exporter": "python",
   "pygments_lexer": "ipython3",
   "version": "3.6.10"
  }
 },
 "nbformat": 4,
 "nbformat_minor": 4
}
