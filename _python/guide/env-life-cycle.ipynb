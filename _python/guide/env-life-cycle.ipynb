{
 "cells": [
  {
   "cell_type": "markdown",
   "metadata": {},
   "source": [
    "# Advanced: Understanding the `Env` life cycle\n",
    "\n",
    "In a previous guide, we introduced the basics of `Env` objects, which allow us to easily swich DAG configuration parameters. This guide provides a more detailed view to understand `Env` life cycle, this is important to implement advanced patterns such as using values defined in `Env` inside hook functions.\n",
    "\n",
    "The essential concept to understand is that there can only be a single `Env` at a given time, once it is terminated, its values are no longer available. If we try to access a value in `Env` after it has terminated, it won't work.\n",
    "\n",
    "For `Env` basic usage this is not a problem, since values loaded from `Env` are usually simple data types such as strings or numbers that are [passed by value](https://courses.washington.edu/css342/zander/css332/passby.html), hence a copy is implicitely created. When tasks are executed, copies are used (we don't read from `Env` anymore). Here's an example:"
   ]
  },
  {
   "cell_type": "markdown",
   "metadata": {},
   "source": [
    "## Basic usage: using values from env in Task or Product"
   ]
  },
  {
   "cell_type": "code",
   "execution_count": 1,
   "metadata": {},
   "outputs": [],
   "source": [
    "from functools import partial\n",
    "import traceback\n",
    "from pathlib import Path\n",
    "\n",
    "from ploomber import DAG, with_env, Env\n",
    "from ploomber.tasks import PythonCallable\n",
    "from ploomber.products import File"
   ]
  },
  {
   "cell_type": "code",
   "execution_count": 5,
   "metadata": {},
   "outputs": [
    {
     "data": {
      "text/plain": [
       "File(/Users/Edu/data/file.txt)"
      ]
     },
     "execution_count": 5,
     "metadata": {},
     "output_type": "execute_result"
    }
   ],
   "source": [
    "def touch(product):\n",
    "    Path(str(product)).touch()\n",
    "    \n",
    "\n",
    "@with_env({'path': {'data': '~/data'}})\n",
    "def make(env):\n",
    "    # env is only available inside the function body, it is ended afterwards\n",
    "    dag = DAG()\n",
    "    # env.path.data is a string, is it passed by value to File\n",
    "    PythonCallable(touch, File(env.path.data / 'file.txt'), dag=dag)\n",
    "    return dag\n",
    "\n",
    "\n",
    "dag = make()\n",
    "\n",
    "# we can access (a copy) of the value\n",
    "dag['touch'].product"
   ]
  },
  {
   "cell_type": "markdown",
   "metadata": {},
   "source": [
    "## Wrong: using `Env.load()` inside a hook function"
   ]
  },
  {
   "cell_type": "markdown",
   "metadata": {},
   "source": [
    "Now, say we need to send an email notification when our DAG finishes execution, and we want the recipient to be configured by the `Env` object, our first attempt is to do something like this:"
   ]
  },
  {
   "cell_type": "code",
   "execution_count": 10,
   "metadata": {
    "scrolled": false
   },
   "outputs": [
    {
     "data": {
      "application/vnd.jupyter.widget-view+json": {
       "model_id": "dbd3eb759bab4c2fbd8c365813f0a598",
       "version_major": 2,
       "version_minor": 0
      },
      "text/plain": [
       "HBox(children=(FloatProgress(value=0.0, max=1.0), HTML(value='')))"
      ]
     },
     "metadata": {},
     "output_type": "display_data"
    },
    {
     "name": "stdout",
     "output_type": "stream",
     "text": [
      "\n"
     ]
    },
    {
     "data": {
      "application/vnd.jupyter.widget-view+json": {
       "model_id": "a301e00f2cd4496e913dc7b391c046d8",
       "version_major": 2,
       "version_minor": 0
      },
      "text/plain": [
       "HBox(children=(FloatProgress(value=0.0, max=1.0), HTML(value='')))"
      ]
     },
     "metadata": {},
     "output_type": "display_data"
    },
    {
     "name": "stdout",
     "output_type": "stream",
     "text": [
      "\n"
     ]
    },
    {
     "name": "stderr",
     "output_type": "stream",
     "text": [
      "Traceback (most recent call last):\n",
      "  File \"<ipython-input-10-cba8c11673b1>\", line 24, in <module>\n",
      "    dag.build()\n",
      "  File \"/Users/Edu/dev/ploomber/src/ploomber/dag/DAG.py\", line 235, in build\n",
      "    report = self._build(force, show_progress)\n",
      "  File \"/Users/Edu/dev/ploomber/src/ploomber/dag/DAG.py\", line 299, in _build\n",
      "    self.on_finish(**kwargs)\n",
      "  File \"<ipython-input-10-cba8c11673b1>\", line 6, in on_finish\n",
      "    env = Env.load()\n",
      "  File \"/Users/Edu/dev/ploomber/src/ploomber/env/env.py\", line 99, in load\n",
      "    raise RuntimeError('Env has not been set, run Env() before '\n",
      "RuntimeError: Env has not been set, run Env() before running Env.load()\n"
     ]
    }
   ],
   "source": [
    "def touch(product):\n",
    "    Path(str(product)).touch()\n",
    "\n",
    "    \n",
    "def on_finish():\n",
    "    env = Env.load()\n",
    "    # code to send email using env.email\n",
    "    print('Sending email to: %s' % env.email)\n",
    "    \n",
    "\n",
    "@with_env({'path': {'data': '~/data'}, 'email': 'someone@example.com'})\n",
    "def make(env):\n",
    "    dag = DAG()\n",
    "    t = PythonCallable(touch, File(env.path.data / 'file.txt'),\n",
    "                       dag=dag)\n",
    "    dag.on_finish = on_finish\n",
    "    return dag\n",
    "\n",
    "\n",
    "dag = make()\n",
    "\n",
    "\n",
    "try:\n",
    "    dag.build()\n",
    "except Exception as e:\n",
    "    traceback.print_exc()"
   ]
  },
  {
   "cell_type": "markdown",
   "metadata": {},
   "source": [
    "Our code fails saying that there is no active `Env`."
   ]
  },
  {
   "cell_type": "markdown",
   "metadata": {},
   "source": [
    "## Correct: using a partial to prevent reading from `Env` when the hook is executed"
   ]
  },
  {
   "cell_type": "markdown",
   "metadata": {},
   "source": [
    "The problem with the code above is that we are trying to load `Env` inside the DAG `on_finish` hook. Such function is executed when calling `DAG.build()`, by that time, the `Env` no longer exists, and the hook is unable to read the email address.\n",
    "\n",
    "To fix this, we have to copy `env.email` so it is available to the `on_finish` hook and no longer read from `Env`, the cleanest way to do so is using [partials](https://docs.python.org/3/library/functools.html#functools.partial)."
   ]
  },
  {
   "cell_type": "code",
   "execution_count": 6,
   "metadata": {},
   "outputs": [
    {
     "data": {
      "application/vnd.jupyter.widget-view+json": {
       "model_id": "d6867b6fcf7b4e78ac18555033c28c33",
       "version_major": 2,
       "version_minor": 0
      },
      "text/plain": [
       "HBox(children=(FloatProgress(value=0.0, max=1.0), HTML(value='')))"
      ]
     },
     "metadata": {},
     "output_type": "display_data"
    },
    {
     "name": "stdout",
     "output_type": "stream",
     "text": [
      "\n"
     ]
    },
    {
     "data": {
      "application/vnd.jupyter.widget-view+json": {
       "model_id": "a1f95c71ddfd453faa2875d21412324a",
       "version_major": 2,
       "version_minor": 0
      },
      "text/plain": [
       "HBox(children=(FloatProgress(value=0.0, max=1.0), HTML(value='')))"
      ]
     },
     "metadata": {},
     "output_type": "display_data"
    },
    {
     "name": "stdout",
     "output_type": "stream",
     "text": [
      "\n",
      "Sending email to: someone@example.com\n"
     ]
    },
    {
     "data": {
      "text/html": [
       "<table>\n",
       "<thead>\n",
       "<tr><th>name  </th><th>Ran?  </th><th style=\"text-align: right;\">  Elapsed (s)</th><th style=\"text-align: right;\">  Percentage</th></tr>\n",
       "</thead>\n",
       "<tbody>\n",
       "<tr><td>touch </td><td>False </td><td style=\"text-align: right;\">            0</td><td style=\"text-align: right;\">           0</td></tr>\n",
       "</tbody>\n",
       "</table>"
      ],
      "text/plain": [
       "name    Ran?      Elapsed (s)    Percentage\n",
       "------  ------  -------------  ------------\n",
       "touch   False               0             0"
      ]
     },
     "execution_count": 6,
     "metadata": {},
     "output_type": "execute_result"
    }
   ],
   "source": [
    "def touch(product):\n",
    "    Path(str(product)).touch()\n",
    "\n",
    "    \n",
    "def on_finish(recipient):\n",
    "    print('Sending email to: %s' % recipient)\n",
    "    \n",
    "\n",
    "@with_env({'path': {'data': '~/data'}, 'email': 'someone@example.com'})\n",
    "def make(env):\n",
    "    # env is only available inside the function body, it is ended afterwards\n",
    "    dag = DAG()\n",
    "    # env.path.data is a string, is it passed by value to File\n",
    "    t = PythonCallable(touch, File(env.path.data / 'file.txt'),\n",
    "                       dag=dag)\n",
    "    # bind the current env.email value to a partial created from on_finish\n",
    "    dag.on_finish = partial(on_finish, recipient=env.email)\n",
    "    return dag\n",
    "\n",
    "\n",
    "dag = make()\n",
    "dag.build()"
   ]
  },
  {
   "cell_type": "markdown",
   "metadata": {},
   "source": [
    "## Alternative (not recommended): Keep `Env` active when calling `dag.build()`\n",
    "\n",
    "There is one way to make `Env.load()` work inside hook functions by keeping the `Env` active when calling `dag.build()`. This is not recommended as it is no longer possible to use the factory pattern appropriately."
   ]
  },
  {
   "cell_type": "code",
   "execution_count": 4,
   "metadata": {},
   "outputs": [
    {
     "data": {
      "application/vnd.jupyter.widget-view+json": {
       "model_id": "84a274f5c55c4734aedee3accad5403e",
       "version_major": 2,
       "version_minor": 0
      },
      "text/plain": [
       "HBox(children=(FloatProgress(value=0.0, max=1.0), HTML(value='')))"
      ]
     },
     "metadata": {},
     "output_type": "display_data"
    },
    {
     "name": "stdout",
     "output_type": "stream",
     "text": [
      "\n"
     ]
    },
    {
     "data": {
      "application/vnd.jupyter.widget-view+json": {
       "model_id": "2f5146d4fb6d4932bbed40a802ada4ca",
       "version_major": 2,
       "version_minor": 0
      },
      "text/plain": [
       "HBox(children=(FloatProgress(value=0.0, max=1.0), HTML(value='')))"
      ]
     },
     "metadata": {},
     "output_type": "display_data"
    },
    {
     "name": "stdout",
     "output_type": "stream",
     "text": [
      "\n",
      "Sending email to: someone@example.com\n"
     ]
    }
   ],
   "source": [
    "def touch(product):\n",
    "    Path(str(product)).touch()\n",
    "\n",
    "    \n",
    "def on_finish():\n",
    "    env = Env.load()\n",
    "    # code to send email using env.email\n",
    "    print('Sending email to: %s' % env.email)\n",
    "    \n",
    "\n",
    "def make(env):\n",
    "    # env is only available inside the function body, it is ended afterwards\n",
    "    dag = DAG()\n",
    "    # env.path.data is a string, is it passed by value to File\n",
    "    t = PythonCallable(touch, File(env.path.data / 'file.txt'),\n",
    "                       dag=dag)\n",
    "    dag.on_finish = on_finish\n",
    "    return dag\n",
    "\n",
    "\n",
    "# keeping Env active\n",
    "with Env({'path': {'data': '~/data'}, 'email': 'someone@example.com'}) as env:\n",
    "    dag = make(env=env)\n",
    "    dag.build()"
   ]
  },
  {
   "cell_type": "markdown",
   "metadata": {},
   "source": [
    "The problem with the previous approach is that we can no longer abstract a DAG definition in a single function call: whoever uses the DAG returned by `make()` has to know that they have to manage `Env` directly **and** that they have to keep the environment open when they call `dag.build()`."
   ]
  }
 ],
 "metadata": {
  "kernelspec": {
   "display_name": "Python 3",
   "language": "python",
   "name": "python3"
  },
  "language_info": {
   "codemirror_mode": {
    "name": "ipython",
    "version": 3
   },
   "file_extension": ".py",
   "mimetype": "text/x-python",
   "name": "python",
   "nbconvert_exporter": "python",
   "pygments_lexer": "ipython3",
   "version": "3.6.10"
  }
 },
 "nbformat": 4,
 "nbformat_minor": 4
}
