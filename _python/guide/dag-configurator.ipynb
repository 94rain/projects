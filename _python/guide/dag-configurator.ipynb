{
 "cells": [
  {
   "cell_type": "markdown",
   "metadata": {},
   "source": [
    "# Advanced: `DAGConfigurator`\n",
    "\n",
    "Out of the box, `DAG` has just a few customizable parameters. `DAGConfigurator` provides more way to customize DAGs, the rationale for creating a new object instead of just adding more parameters to the DAG constructor is to keep the API simple for new users who might not even need to use `DAGConfigurator` at all.\n",
    "\n",
    "The following parameters are available:\n",
    "\n",
    "1. `outdated_by_code` (`bool`): By default, source code changes mark tasks as outdated, triggering execution during `dag.build()`, by setting this parameter to False, changes in code will not trigger task execution. This is useful to prevents in production override previous results if a new version (with new source) is deployed\n",
    "2. `cache_rendered_status` (`bool`): By default, every time you run `dag.render()` or `dag.build()`, every Task fetches their corresponding Product status. Sometimes this is an expensive operation, for example, if Products are SQL tables, checking Product status has to query the database, by setting this to False, the status is cached.\n",
    "3. `differ` (`CodeDiffer` object): To determine if two pieces of code are different, DAGs use a `CodeDiffer` that compare the old and the new version, by passing a custom object here, you can override the default behavior, see `CodeDiffer` documentation for details.\n",
    "4. `logging_factory` (`function`): This parameter provides a convenient way to log `dag.build()` output. At the start of `dag.build()`, this function is called, it is expected to return a handler or a (handler, logger) tuple, the handler is added to the logger (root logger if the function only returned the handler) during the duration of the call. For more information about handlers and loggers, refer to the [logging module documentation](https://docs.python.org/3/howto/logging.html#logging-basic-tutorial). This function can request the DAG's name using the `dag_name` parameter.\n",
    "\n",
    "## Logging all dag builds to a file\n",
    "\n",
    "We now explain how to use `DAGConfigurator` with an example that logs DAG builds to a file:"
   ]
  },
  {
   "cell_type": "code",
   "execution_count": 16,
   "metadata": {},
   "outputs": [],
   "source": [
    "from pathlib import Path\n",
    "import logging\n",
    "\n",
    "from ploomber import DAGConfigurator\n",
    "from ploomber.tasks import PythonCallable\n",
    "from ploomber.products import File\n",
    "\n",
    "def logging_factory(dag_name):\n",
    "    handler = logging.FileHandler('%s.log' % dag_name)\n",
    "    handler.setLevel(logging.INFO)\n",
    "    fmt = logging.Formatter('%(levelname)s %(asctime)s: %(message)s')\n",
    "    handler.setFormatter(fmt)\n",
    "    root_logger = logging.getLogger()\n",
    "    return handler, root_logger\n",
    "\n",
    "# initialize and set logging_factory\n",
    "configurator = DAGConfigurator()\n",
    "configurator.params.logging_factory = logging_factory"
   ]
  },
  {
   "cell_type": "code",
   "execution_count": 17,
   "metadata": {},
   "outputs": [],
   "source": [
    "# set INFO level to the root logger\n",
    "root = logging.getLogger()\n",
    "root.setLevel(logging.INFO)\n",
    "\n",
    "# initialize an empty dag with the parameter in configurator\n",
    "dag = configurator.create(name='my_dag')"
   ]
  },
  {
   "cell_type": "code",
   "execution_count": 18,
   "metadata": {},
   "outputs": [
    {
     "data": {
      "text/plain": [
       "PythonCallable: touch -> File(some_file.txt)"
      ]
     },
     "execution_count": 18,
     "metadata": {},
     "output_type": "execute_result"
    }
   ],
   "source": [
    "# add sample task\n",
    "def touch(product):\n",
    "    logging.info('Logging from touch task...')\n",
    "    Path(str(product)).touch()\n",
    "\n",
    "PythonCallable(touch, File('some_file.txt'), dag=dag)"
   ]
  },
  {
   "cell_type": "code",
   "execution_count": 19,
   "metadata": {},
   "outputs": [
    {
     "data": {
      "application/vnd.jupyter.widget-view+json": {
       "model_id": "fa51776c85ae46d29bc9466a27d86700",
       "version_major": 2,
       "version_minor": 0
      },
      "text/plain": [
       "HBox(children=(FloatProgress(value=0.0, max=1.0), HTML(value='')))"
      ]
     },
     "metadata": {},
     "output_type": "display_data"
    },
    {
     "name": "stdout",
     "output_type": "stream",
     "text": [
      "\n"
     ]
    },
    {
     "data": {
      "application/vnd.jupyter.widget-view+json": {
       "model_id": "a2976d380dfe4c8aa5ee68af2b7c3ff5",
       "version_major": 2,
       "version_minor": 0
      },
      "text/plain": [
       "HBox(children=(FloatProgress(value=0.0, max=1.0), HTML(value='')))"
      ]
     },
     "metadata": {},
     "output_type": "display_data"
    },
    {
     "name": "stdout",
     "output_type": "stream",
     "text": [
      "\n"
     ]
    },
    {
     "data": {
      "text/html": [
       "<table>\n",
       "<thead>\n",
       "<tr><th>name  </th><th>Ran?  </th><th style=\"text-align: right;\">  Elapsed (s)</th><th style=\"text-align: right;\">  Percentage</th></tr>\n",
       "</thead>\n",
       "<tbody>\n",
       "<tr><td>touch </td><td>True  </td><td style=\"text-align: right;\">     0.001925</td><td style=\"text-align: right;\">         100</td></tr>\n",
       "</tbody>\n",
       "</table>"
      ],
      "text/plain": [
       "name    Ran?      Elapsed (s)    Percentage\n",
       "------  ------  -------------  ------------\n",
       "touch   True         0.001925           100"
      ]
     },
     "execution_count": 19,
     "metadata": {},
     "output_type": "execute_result"
    }
   ],
   "source": [
    "dag.build()"
   ]
  },
  {
   "cell_type": "markdown",
   "metadata": {},
   "source": [
    "Let's now verify that our output was logged:"
   ]
  },
  {
   "cell_type": "code",
   "execution_count": 20,
   "metadata": {},
   "outputs": [
    {
     "name": "stdout",
     "output_type": "stream",
     "text": [
      "INFO 2020-05-17 13:30:52,165: Rendering DAG DAG(\"my_dag\")\n",
      "INFO 2020-05-17 13:30:52,187: Checking status for task \"touch\"\n",
      "INFO 2020-05-17 13:30:52,188: Product does not exist...\n",
      "INFO 2020-05-17 13:30:52,188: Should run? True\n",
      "INFO 2020-05-17 13:30:52,192: Building DAG DAG(\"my_dag\")\n",
      "INFO 2020-05-17 13:30:52,226: Starting execution: PythonCallable: touch -> File(some_file.txt)\n",
      "INFO 2020-05-17 13:30:52,229: Logging from touch task...\n",
      "INFO 2020-05-17 13:30:52,231: Done. Operation took 0.0 seconds\n",
      "INFO 2020-05-17 13:30:52,336:  DAG report:\n",
      "name    Ran?      Elapsed (s)    Percentage\n",
      "------  ------  -------------  ------------\n",
      "touch   True         0.001925           100\n",
      "\n"
     ]
    }
   ],
   "source": [
    "print(Path('my_dag.log').read_text())"
   ]
  },
  {
   "cell_type": "markdown",
   "metadata": {},
   "source": [
    "## Initializing `DAGConfigurator` using a dictionary\n",
    "\n",
    "You can also initialize `DAGConfigurator` using a dictionary (e.g. if you want to load parameters from a JSON or a YAML file).\n",
    "This:"
   ]
  },
  {
   "cell_type": "code",
   "execution_count": 21,
   "metadata": {},
   "outputs": [],
   "source": [
    "configurator = DAGConfigurator()\n",
    "configurator.params.cache_rendered_status = True"
   ]
  },
  {
   "cell_type": "markdown",
   "metadata": {},
   "source": [
    "Is equivalent to this:"
   ]
  },
  {
   "cell_type": "code",
   "execution_count": 22,
   "metadata": {},
   "outputs": [],
   "source": [
    "configurator = DAGConfigurator({'cache_rendered_status': False})"
   ]
  }
 ],
 "metadata": {
  "kernelspec": {
   "display_name": "Python 3",
   "language": "python",
   "name": "python3"
  },
  "language_info": {
   "codemirror_mode": {
    "name": "ipython",
    "version": 3
   },
   "file_extension": ".py",
   "mimetype": "text/x-python",
   "name": "python",
   "nbconvert_exporter": "python",
   "pygments_lexer": "ipython3",
   "version": "3.6.10"
  }
 },
 "nbformat": 4,
 "nbformat_minor": 4
}
