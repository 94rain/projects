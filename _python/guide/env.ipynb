{
 "cells": [
  {
   "cell_type": "markdown",
   "metadata": {
    "papermill": {
     "duration": 0.023614,
     "end_time": "2020-03-16T21:30:47.373072",
     "exception": false,
     "start_time": "2020-03-16T21:30:47.349458",
     "status": "completed"
    },
    "tags": []
   },
   "source": [
    "# Essential: Environments\n",
    "\n",
    "## Why?\n",
    "\n",
    "Environments allow DAGs to easily switch configuration parameters. These happens for three reasons primarily.\n",
    "\n",
    "### 1. Allow team members to use the same DAG definition but run in isolated environments\n",
    "\n",
    "If a DAG is developed by more than one person, you don't want others to accidentally write your files or tables. Ideally, each member should have a completely isolated environment (e.g. users write to their own `/data/{{user}}` folder in the shared server and `{{user}}` schema in the database), but if this is not possible for data scale reasons, there could be overlapping environments.\n",
    "\n",
    "### 2. Let multiple runs from the same pipeline co-exist\n",
    "\n",
    "It is a good practice to always have a working version of your code, this is usually done by using a VCS such as git by keeping working code in the `master` branch. Say you finished building your DAG from the `master` banch and now you want to work on a new feature in a `dev` branch, if you switch branches and start making code changes, calling `dag.build()` will overwrite your results, to prevent this from happening you could have one copy for each branch, this way you can work on `dev` and always have a working up-to-date pipeline run for the code stored in `master`.\n",
    "\n",
    "### 3. Switch between production and development environments\n",
    "\n",
    "\n",
    "An environment can be started either by passing a dictionary or a path to a YAML file, `Env` also implements a rendering logic where placeholders are resolved, this allows a single DAG definition to switch configuration automatically. Let's implement use case (1) to allow team members have their own environments.\n",
    "\n",
    "## Only one environment at a time\n",
    "\n",
    "At any given time, only one environment can be active. When multiple DAGs are created by the same application, this prevents accidentally using the wrong Env in a given DAG. For this reason, you have to start and end and environment before you can load a different one."
   ]
  },
  {
   "cell_type": "code",
   "execution_count": 2,
   "metadata": {
    "papermill": {
     "duration": 1.994573,
     "end_time": "2020-03-16T21:30:49.384512",
     "exception": false,
     "start_time": "2020-03-16T21:30:47.389939",
     "status": "completed"
    },
    "tags": []
   },
   "outputs": [],
   "source": [
    "from pathlib import Path\n",
    "\n",
    "import pandas as pd\n",
    "from IPython.display import display, Markdown\n",
    "\n",
    "from ploomber import DAG\n",
    "from ploomber import Env, with_env\n",
    "from ploomber.tasks import PythonCallable\n",
    "from ploomber.products import File"
   ]
  },
  {
   "cell_type": "markdown",
   "metadata": {},
   "source": [
    "You can use a context manager to automatically env an `Env` object:"
   ]
  },
  {
   "cell_type": "code",
   "execution_count": 5,
   "metadata": {
    "papermill": {
     "duration": 0.037586,
     "end_time": "2020-03-16T21:30:49.437633",
     "exception": false,
     "start_time": "2020-03-16T21:30:49.400047",
     "status": "completed"
    },
    "tags": []
   },
   "outputs": [
    {
     "name": "stdout",
     "output_type": "stream",
     "text": [
      "{'path': {'data': PosixPath('/data/Edu')}, 'db': {'uri': 'DB_URI', 'schema': 'edu'}}\n"
     ]
    }
   ],
   "source": [
    "with Env({'path': {'data': '/data/{{user}}'}, 'db': {'uri': 'DB_URI', 'schema': '{{user.lower()}}'}}) as env:\n",
    "    print(env)"
   ]
  },
  {
   "cell_type": "markdown",
   "metadata": {},
   "source": [
    "Or manually end it using `Env.end()`:"
   ]
  },
  {
   "cell_type": "code",
   "execution_count": 7,
   "metadata": {},
   "outputs": [
    {
     "name": "stdout",
     "output_type": "stream",
     "text": [
      "{'path': {'data': PosixPath('/data/Edu')}}\n"
     ]
    }
   ],
   "source": [
    "# you can also manage Envs manually\n",
    "env = Env({'path': {'data': '/data/{{user}}'}})\n",
    "print(env)\n",
    "env.end()"
   ]
  },
  {
   "cell_type": "markdown",
   "metadata": {
    "papermill": {
     "duration": 0.015334,
     "end_time": "2020-03-16T21:30:49.469034",
     "exception": false,
     "start_time": "2020-03-16T21:30:49.453700",
     "status": "completed"
    },
    "tags": []
   },
   "source": [
    "Note that we can use any of the objects methods (such as `str.lower()`) inside the placeholders and any other jinja2 features.\n",
    "\n",
    "## Integrating Env and DAG\n",
    "\n",
    "In the previous example, we interaced with an Env object directly. Since DAGs and Envs usually have a one to one relationship, it is cleaner to use decorators using the \"factory\" pattern.\n",
    "\n",
    "### Factory pattern\n",
    "\n",
    "The factory pattern (do not confuse with the pattern in [OOP](https://en.wikipedia.org/wiki/Factory_method_pattern) is simply to have functions return DAG instances:"
   ]
  },
  {
   "cell_type": "code",
   "execution_count": 3,
   "metadata": {
    "papermill": {
     "duration": 0.023805,
     "end_time": "2020-03-16T21:30:49.509440",
     "exception": false,
     "start_time": "2020-03-16T21:30:49.485635",
     "status": "completed"
    },
    "tags": []
   },
   "outputs": [],
   "source": [
    "def make():\n",
    "    \"\"\"Simplest factory possible\n",
    "    \"\"\"\n",
    "    return DAG()"
   ]
  },
  {
   "cell_type": "markdown",
   "metadata": {
    "papermill": {
     "duration": 0.016811,
     "end_time": "2020-03-16T21:30:49.542409",
     "exception": false,
     "start_time": "2020-03-16T21:30:49.525598",
     "status": "completed"
    },
    "tags": []
   },
   "source": [
    "Using the factory pattern makes easy to restrict an Env's scope to the body of the function using the `@with_env` decorator."
   ]
  },
  {
   "cell_type": "code",
   "execution_count": 4,
   "metadata": {
    "papermill": {
     "duration": 0.027008,
     "end_time": "2020-03-16T21:30:49.585464",
     "exception": false,
     "start_time": "2020-03-16T21:30:49.558456",
     "status": "completed"
    },
    "tags": []
   },
   "outputs": [
    {
     "name": "stdout",
     "output_type": "stream",
     "text": [
      "Env is: {'path': {'data': PosixPath('/data/Edu')}}\n"
     ]
    }
   ],
   "source": [
    "@with_env({'path': {'data': '/data/{{user}}'}})\n",
    "def make(env):\n",
    "    \"\"\"Simplest factory possible\n",
    "    \"\"\"\n",
    "    print('Env is:', env)\n",
    "    return DAG()\n",
    "\n",
    "dag = make()"
   ]
  },
  {
   "cell_type": "markdown",
   "metadata": {},
   "source": [
    "The previous code is equivalent to:"
   ]
  },
  {
   "cell_type": "code",
   "execution_count": 8,
   "metadata": {},
   "outputs": [
    {
     "name": "stdout",
     "output_type": "stream",
     "text": [
      "Env is: {'path': {'data': PosixPath('/data/Edu')}}\n"
     ]
    }
   ],
   "source": [
    "def make(env):\n",
    "    \"\"\"Simplest factory possible\n",
    "    \"\"\"\n",
    "    print('Env is:', env)\n",
    "    return DAG()\n",
    "\n",
    "with Env({'path': {'data': '/data/{{user}}'}}) as env:\n",
    "    dag = make(env)"
   ]
  },
  {
   "cell_type": "markdown",
   "metadata": {
    "papermill": {
     "duration": 0.01648,
     "end_time": "2020-03-16T21:30:49.617554",
     "exception": false,
     "start_time": "2020-03-16T21:30:49.601074",
     "status": "completed"
    },
    "tags": []
   },
   "source": [
    "The factory pattern is the recommended way to manage DAGs and Envs as it provides a complete and indepent way of making DAGs reusable: someone can just call the function and both the environment values and the DAG declaration will be resolved without caller having to know the details.\n",
    "\n",
    "Note that we called `make()` without arguments, that's because the decorator injects the env argument automatically."
   ]
  },
  {
   "cell_type": "markdown",
   "metadata": {
    "papermill": {
     "duration": 0.016254,
     "end_time": "2020-03-16T21:30:49.649240",
     "exception": false,
     "start_time": "2020-03-16T21:30:49.632986",
     "status": "completed"
    },
    "tags": []
   },
   "source": [
    "## Using the `{{git}}` placeholder for environment isolation\n",
    "\n",
    "\n",
    "`{{git}}` allows you to switch configuration depending on the your project's git status. But before resolving its value, `Env` has to resolve your project's module path (call it `MODULE_PATH`). In order to do that, you need to provide the `_module` key. Assuming your env is `{'_module: MODULE_VALUE'}` processing goes as follows:\n",
    "\n",
    "First, try to locate a module named `MODULE_VALUE` (similar to what `import MODULE_VALUE` would do but without actually importing the module), if found, the module's location is your `MODULE_PATH`, if no module is found with such name, interpret `MODULE_VALUE` directly as `MODULE_PATH`.\n",
    "\n",
    "Once `MODULE_PATH` is determined, `{{git}}` will assume there is a git repository in `MODULE_PATH` and return the branch name if you are at the latest commit, otherwise it will return the git hash. This will allow you to keep isolated pipeline runs, one per branch. Furthermore, if you move to a specific commit and run your pipeline this will prevent overwriting your current working code. Let's see how this looks like:"
   ]
  },
  {
   "cell_type": "code",
   "execution_count": 5,
   "metadata": {
    "nbsphinx": "hidden",
    "papermill": {
     "duration": 0.025561,
     "end_time": "2020-03-16T21:30:49.692689",
     "exception": false,
     "start_time": "2020-03-16T21:30:49.667128",
     "status": "completed"
    },
    "tags": []
   },
   "outputs": [],
   "source": [
    "# hide setup\n",
    "import os\n",
    "import tempfile\n",
    "\n",
    "tmp_dir = tempfile.mkdtemp()\n",
    "tmp_dir_path = Path(tmp_dir)\n",
    "# print(\"Temporary project's root folder: \", tmp_dir)\n",
    "os.chdir(tmp_dir)"
   ]
  },
  {
   "cell_type": "code",
   "execution_count": 6,
   "metadata": {
    "papermill": {
     "duration": 1.069096,
     "end_time": "2020-03-16T21:30:50.778216",
     "exception": false,
     "start_time": "2020-03-16T21:30:49.709120",
     "status": "completed"
    },
    "tags": []
   },
   "outputs": [
    {
     "name": "stdout",
     "output_type": "stream",
     "text": [
      "Initialized empty Git repository in /private/var/folders/3h/_lvh_w_x5g30rrjzb_xnn2j80000gq/T/tmp4u2vdjov/.git/\n",
      "[master (root-commit) 28d5b27] first commit\n",
      " 1 file changed, 0 insertions(+), 0 deletions(-)\n",
      " create mode 100644 a_file.py\n",
      "[master 86343d7] second commit\n",
      " 1 file changed, 0 insertions(+), 0 deletions(-)\n",
      " create mode 100644 another_file.py\n"
     ]
    }
   ],
   "source": [
    "# create a sample repository\n",
    "! git init\n",
    "# add first commit\n",
    "! touch a_file.py\n",
    "! git add --all\n",
    "! git commit -m 'first commit'\n",
    "! touch another_file.py\n",
    "! git add --all\n",
    "! git commit -m 'second commit'"
   ]
  },
  {
   "cell_type": "code",
   "execution_count": 7,
   "metadata": {
    "papermill": {
     "duration": 0.15667,
     "end_time": "2020-03-16T21:30:50.952376",
     "exception": false,
     "start_time": "2020-03-16T21:30:50.795706",
     "status": "completed"
    },
    "tags": []
   },
   "outputs": [
    {
     "name": "stdout",
     "output_type": "stream",
     "text": [
      "env.path.data: /data/master\n"
     ]
    }
   ],
   "source": [
    "# we are at the tip of the master branch\n",
    "Env({'_module': tmp_dir, 'path': {'data': '/data/{{git}}'}})\n",
    "print('env.path.data:', env.path.data)\n",
    "Env.end()"
   ]
  },
  {
   "cell_type": "code",
   "execution_count": 8,
   "metadata": {
    "papermill": {
     "duration": 0.168189,
     "end_time": "2020-03-16T21:30:51.137347",
     "exception": false,
     "start_time": "2020-03-16T21:30:50.969158",
     "status": "completed"
    },
    "tags": []
   },
   "outputs": [
    {
     "name": "stdout",
     "output_type": "stream",
     "text": [
      "Switched to a new branch 'dev'\r\n"
     ]
    }
   ],
   "source": [
    "! git checkout -b dev"
   ]
  },
  {
   "cell_type": "code",
   "execution_count": 9,
   "metadata": {
    "papermill": {
     "duration": 0.158757,
     "end_time": "2020-03-16T21:30:51.314246",
     "exception": false,
     "start_time": "2020-03-16T21:30:51.155489",
     "status": "completed"
    },
    "tags": []
   },
   "outputs": [
    {
     "name": "stdout",
     "output_type": "stream",
     "text": [
      "env.path.data: /data/dev\n"
     ]
    }
   ],
   "source": [
    "# we are at the tip of the dev branch\n",
    "Env({'_module': tmp_dir, 'path': {'data': '/data/{{git}}'}})\n",
    "print('env.path.data:', env.path.data)\n",
    "Env.end()"
   ]
  },
  {
   "cell_type": "code",
   "execution_count": 10,
   "metadata": {
    "papermill": {
     "duration": 0.16765,
     "end_time": "2020-03-16T21:30:51.499542",
     "exception": false,
     "start_time": "2020-03-16T21:30:51.331892",
     "status": "completed"
    },
    "tags": []
   },
   "outputs": [
    {
     "name": "stdout",
     "output_type": "stream",
     "text": [
      "Note: switching to 'HEAD~1'.\r\n",
      "\r\n",
      "You are in 'detached HEAD' state. You can look around, make experimental\r\n",
      "changes and commit them, and you can discard any commits you make in this\r\n",
      "state without impacting any branches by switching back to a branch.\r\n",
      "\r\n",
      "If you want to create a new branch to retain commits you create, you may\r\n",
      "do so (now or later) by using -c with the switch command. Example:\r\n",
      "\r\n",
      "  git switch -c <new-branch-name>\r\n",
      "\r\n",
      "Or undo this operation with:\r\n",
      "\r\n",
      "  git switch -\r\n",
      "\r\n",
      "Turn off this advice by setting config variable advice.detachedHead to false\r\n",
      "\r\n",
      "HEAD is now at 28d5b27 first commit\r\n"
     ]
    }
   ],
   "source": [
    "! git checkout HEAD~1"
   ]
  },
  {
   "cell_type": "code",
   "execution_count": 11,
   "metadata": {
    "papermill": {
     "duration": 0.161026,
     "end_time": "2020-03-16T21:30:51.680678",
     "exception": false,
     "start_time": "2020-03-16T21:30:51.519652",
     "status": "completed"
    },
    "tags": []
   },
   "outputs": [
    {
     "name": "stdout",
     "output_type": "stream",
     "text": [
      "env.path.data: /data/28d5b27\n"
     ]
    }
   ],
   "source": [
    "# we moved to a specific commit\n",
    "Env({'_module': tmp_dir, 'path': {'data': '/data/{{git}}'}})\n",
    "print('env.path.data:', env.path.data)\n",
    "Env.end()"
   ]
  },
  {
   "cell_type": "code",
   "execution_count": 12,
   "metadata": {
    "papermill": {
     "duration": 0.164334,
     "end_time": "2020-03-16T21:30:51.863368",
     "exception": false,
     "start_time": "2020-03-16T21:30:51.699034",
     "status": "completed"
    },
    "tags": []
   },
   "outputs": [
    {
     "name": "stdout",
     "output_type": "stream",
     "text": [
      "Previous HEAD position was 28d5b27 first commit\r\n",
      "Switched to branch 'dev'\r\n"
     ]
    }
   ],
   "source": [
    "# hide this\n",
    "! git checkout dev"
   ]
  },
  {
   "cell_type": "markdown",
   "metadata": {
    "papermill": {
     "duration": 0.017662,
     "end_time": "2020-03-16T21:30:51.900286",
     "exception": false,
     "start_time": "2020-03-16T21:30:51.882624",
     "status": "completed"
    },
    "tags": []
   },
   "source": [
    "## Loading environments from YAML files\n",
    "\n",
    "In the previous examples, we've been coding our configuration directly as a dictionary, however, for a real project we want to keep configuration and code separate. Env also accepts paths to YAML as arguments, say our `env.yaml` looks like this:"
   ]
  },
  {
   "cell_type": "code",
   "execution_count": 13,
   "metadata": {
    "nbsphinx": "hidden",
    "papermill": {
     "duration": 0.027759,
     "end_time": "2020-03-16T21:30:51.947078",
     "exception": false,
     "start_time": "2020-03-16T21:30:51.919319",
     "status": "completed"
    },
    "tags": []
   },
   "outputs": [],
   "source": [
    "env_yaml = \"\"\"\n",
    "# Content of env.yaml\n",
    "\n",
    "path:\n",
    "    data: '/data/{{user}}'\n",
    "\n",
    "db:\n",
    "    uri: 'DB_URI'\n",
    "    schema: '{{user.lower()}}'\n",
    "\"\"\"\n",
    "\n",
    "(tmp_dir_path / 'env.yaml').write_text(env_yaml)\n",
    "\n",
    "def display_file(file, syntax):\n",
    "    s = \"\"\"\n",
    "```{}\n",
    "{}\n",
    "```\n",
    "\"\"\".format(syntax, file)\n",
    "    return display(Markdown(s))"
   ]
  },
  {
   "cell_type": "code",
   "execution_count": 14,
   "metadata": {
    "papermill": {
     "duration": 0.034985,
     "end_time": "2020-03-16T21:30:52.000199",
     "exception": false,
     "start_time": "2020-03-16T21:30:51.965214",
     "status": "completed"
    },
    "tags": []
   },
   "outputs": [
    {
     "data": {
      "text/markdown": [
       "\n",
       "```yaml\n",
       "\n",
       "# Content of env.yaml\n",
       "\n",
       "path:\n",
       "    data: '/data/{{user}}'\n",
       "\n",
       "db:\n",
       "    uri: 'DB_URI'\n",
       "    schema: '{{user.lower()}}'\n",
       "\n",
       "```\n"
      ],
      "text/plain": [
       "<IPython.core.display.Markdown object>"
      ]
     },
     "metadata": {},
     "output_type": "display_data"
    }
   ],
   "source": [
    "display_file(env_yaml, 'yaml')"
   ]
  },
  {
   "cell_type": "code",
   "execution_count": 15,
   "metadata": {
    "papermill": {
     "duration": 0.074629,
     "end_time": "2020-03-16T21:30:52.094417",
     "exception": false,
     "start_time": "2020-03-16T21:30:52.019788",
     "status": "completed"
    },
    "tags": []
   },
   "outputs": [
    {
     "name": "stdout",
     "output_type": "stream",
     "text": [
      "Env:  {'path': {'data': PosixPath('/data/Edu')}, 'db': {'uri': 'DB_URI', 'schema': 'edu'}}\n"
     ]
    }
   ],
   "source": [
    "env = Env()\n",
    "print('Env: ', env)\n",
    "Env.end()"
   ]
  },
  {
   "cell_type": "markdown",
   "metadata": {
    "papermill": {
     "duration": 0.019339,
     "end_time": "2020-03-16T21:30:52.133308",
     "exception": false,
     "start_time": "2020-03-16T21:30:52.113969",
     "status": "completed"
    },
    "tags": []
   },
   "source": [
    "Without arguments, `Env` (or `@with_env`), will look for a file named `env.{HOSTNAME}.yaml` in the current working directory and parent folders. Where `{HOSTNAME}` is the current hostname (as returned from `platform.node()`, if such file does not exist, it will try to find an `env.yaml` file.\n",
    "\n",
    "If you know the name of the environment, you can pass it directly (e.g. `Env('env.dev.yaml')`)"
   ]
  },
  {
   "cell_type": "markdown",
   "metadata": {
    "papermill": {
     "duration": 0.019432,
     "end_time": "2020-03-16T21:30:52.171372",
     "exception": false,
     "start_time": "2020-03-16T21:30:52.151940",
     "status": "completed"
    },
    "tags": []
   },
   "source": [
    "## What goes in? What leave out?"
   ]
  },
  {
   "cell_type": "markdown",
   "metadata": {
    "papermill": {
     "duration": 0.018865,
     "end_time": "2020-03-16T21:30:52.210079",
     "exception": false,
     "start_time": "2020-03-16T21:30:52.191214",
     "status": "completed"
    },
    "tags": []
   },
   "source": [
    "Envs are intended to store configuration that changes among environments, an environment can be defined as a combination of the current computation environment (e.g. your laptop vs. the dev server vs. the production server) and the person making changes (e.g. you or a coworker). The specifics depend on your project but as a general recommendation you shoul only store URIs to resources such as DBs and locations to the pipeline's output such as DB schemas or folders. **Do not store any sensitive information** such as passwords."
   ]
  },
  {
   "cell_type": "markdown",
   "metadata": {
    "papermill": {
     "duration": 0.018051,
     "end_time": "2020-03-16T21:30:52.246394",
     "exception": false,
     "start_time": "2020-03-16T21:30:52.228343",
     "status": "completed"
    },
    "tags": []
   },
   "source": [
    "## Putting everything together\n",
    "\n",
    "Let's now take a look at a complete example, a pipeline with a `main.py` and a `env.yaml` file:"
   ]
  },
  {
   "cell_type": "code",
   "execution_count": 16,
   "metadata": {
    "nbsphinx": "hidden",
    "papermill": {
     "duration": 0.029958,
     "end_time": "2020-03-16T21:30:52.296160",
     "exception": false,
     "start_time": "2020-03-16T21:30:52.266202",
     "status": "completed"
    },
    "tags": []
   },
   "outputs": [],
   "source": [
    "# hide this\n",
    "code = \"\"\"\n",
    "# Content of main.py\n",
    "\n",
    "from ploomber import DAG, with_env\n",
    "from ploomber.tasks import PythonCallable\n",
    "from ploomber.products import File\n",
    "\n",
    "import pandas as pd\n",
    "from sklearn.datasets import load_wine\n",
    "\n",
    "\n",
    "@with_env\n",
    "def make(env):\n",
    "    \\\"\\\"\\\"DAG factory\n",
    "    \\\"\\\"\\\"\n",
    "    env.path.data.mkdir(parents=True, exist_ok=True)\n",
    "\n",
    "    dag = DAG(name='my pipeline')\n",
    "\n",
    "    get = PythonCallable(_get,\n",
    "                         product=File(env.path.data / 'data.csv'),\n",
    "                         dag=dag,\n",
    "                         name='data')\n",
    "    \n",
    "    transform = PythonCallable(_transform,\n",
    "                               product=File(env.path.data / 'transformed.csv'),\n",
    "                               dag=dag,\n",
    "                               name='transform')\n",
    "    \n",
    "    get >> transform\n",
    "    \n",
    "    return dag\n",
    "\n",
    "\n",
    "def _get(product):\n",
    "    \\\"\\\"\\\"Get data\n",
    "    \\\"\\\"\\\"\n",
    "    wine = load_wine()\n",
    "    df = pd.DataFrame(wine.data)\n",
    "    df['target'] = wine.target\n",
    "    df.to_csv(str(product))\n",
    "\n",
    "def _transform(upstream, product):\n",
    "    \\\"\\\"\\\"Transform data\n",
    "    \\\"\\\"\\\"\n",
    "    df = pd.read_csv(str(upstream['data']))\n",
    "    df['new_column'] = 42\n",
    "    df.to_csv(str(product))\n",
    "\"\"\"\n",
    "\n",
    "env = \"\"\"\n",
    "# Content of env.yaml\n",
    "\n",
    "# You can use the {{here}} placeholder which will resolve to the current folder\n",
    "_module: '{{here}}'\n",
    "\n",
    "path:\n",
    "    data: '{{here}}/data/{{user}}/{{git}}/'\n",
    "\"\"\"\n",
    "\n",
    "Path('main.py').write_text(code)\n",
    "_ = Path('env.yaml').write_text(env)"
   ]
  },
  {
   "cell_type": "markdown",
   "metadata": {
    "papermill": {
     "duration": 0.01927,
     "end_time": "2020-03-16T21:30:52.335425",
     "exception": false,
     "start_time": "2020-03-16T21:30:52.316155",
     "status": "completed"
    },
    "tags": []
   },
   "source": [
    "### Content of `main.py`"
   ]
  },
  {
   "cell_type": "code",
   "execution_count": 17,
   "metadata": {
    "papermill": {
     "duration": 0.028776,
     "end_time": "2020-03-16T21:30:52.383764",
     "exception": false,
     "start_time": "2020-03-16T21:30:52.354988",
     "status": "completed"
    },
    "tags": []
   },
   "outputs": [
    {
     "data": {
      "text/markdown": [
       "\n",
       "```python\n",
       "\n",
       "# Content of main.py\n",
       "\n",
       "from ploomber import DAG, with_env\n",
       "from ploomber.tasks import PythonCallable\n",
       "from ploomber.products import File\n",
       "\n",
       "import pandas as pd\n",
       "from sklearn.datasets import load_wine\n",
       "\n",
       "\n",
       "@with_env\n",
       "def make(env):\n",
       "    \"\"\"DAG factory\n",
       "    \"\"\"\n",
       "    env.path.data.mkdir(parents=True, exist_ok=True)\n",
       "\n",
       "    dag = DAG(name='my pipeline')\n",
       "\n",
       "    get = PythonCallable(_get,\n",
       "                         product=File(env.path.data / 'data.csv'),\n",
       "                         dag=dag,\n",
       "                         name='data')\n",
       "    \n",
       "    transform = PythonCallable(_transform,\n",
       "                               product=File(env.path.data / 'transformed.csv'),\n",
       "                               dag=dag,\n",
       "                               name='transform')\n",
       "    \n",
       "    get >> transform\n",
       "    \n",
       "    return dag\n",
       "\n",
       "\n",
       "def _get(product):\n",
       "    \"\"\"Get data\n",
       "    \"\"\"\n",
       "    wine = load_wine()\n",
       "    df = pd.DataFrame(wine.data)\n",
       "    df['target'] = wine.target\n",
       "    df.to_csv(str(product))\n",
       "\n",
       "def _transform(upstream, product):\n",
       "    \"\"\"Transform data\n",
       "    \"\"\"\n",
       "    df = pd.read_csv(str(upstream['data']))\n",
       "    df['new_column'] = 42\n",
       "    df.to_csv(str(product))\n",
       "\n",
       "```\n"
      ],
      "text/plain": [
       "<IPython.core.display.Markdown object>"
      ]
     },
     "metadata": {},
     "output_type": "display_data"
    }
   ],
   "source": [
    "display_file(code, 'python')"
   ]
  },
  {
   "cell_type": "markdown",
   "metadata": {
    "papermill": {
     "duration": 0.020183,
     "end_time": "2020-03-16T21:30:52.424003",
     "exception": false,
     "start_time": "2020-03-16T21:30:52.403820",
     "status": "completed"
    },
    "tags": []
   },
   "source": [
    "### Content of `env.yaml`"
   ]
  },
  {
   "cell_type": "code",
   "execution_count": 18,
   "metadata": {
    "papermill": {
     "duration": 0.028918,
     "end_time": "2020-03-16T21:30:52.472656",
     "exception": false,
     "start_time": "2020-03-16T21:30:52.443738",
     "status": "completed"
    },
    "tags": []
   },
   "outputs": [
    {
     "data": {
      "text/markdown": [
       "\n",
       "```yaml\n",
       "\n",
       "# Content of env.yaml\n",
       "\n",
       "# You can use the {{here}} placeholder which will resolve to the current folder\n",
       "_module: '{{here}}'\n",
       "\n",
       "path:\n",
       "    data: '{{here}}/data/{{user}}/{{git}}/'\n",
       "\n",
       "```\n"
      ],
      "text/plain": [
       "<IPython.core.display.Markdown object>"
      ]
     },
     "metadata": {},
     "output_type": "display_data"
    }
   ],
   "source": [
    "display_file(env, 'yaml')"
   ]
  },
  {
   "cell_type": "code",
   "execution_count": 19,
   "metadata": {
    "papermill": {
     "duration": 0.573341,
     "end_time": "2020-03-16T21:30:53.066185",
     "exception": false,
     "start_time": "2020-03-16T21:30:52.492844",
     "status": "completed"
    },
    "tags": []
   },
   "outputs": [],
   "source": [
    "import main"
   ]
  },
  {
   "cell_type": "code",
   "execution_count": 20,
   "metadata": {
    "papermill": {
     "duration": 0.224651,
     "end_time": "2020-03-16T21:30:53.311957",
     "exception": false,
     "start_time": "2020-03-16T21:30:53.087306",
     "status": "completed"
    },
    "tags": []
   },
   "outputs": [
    {
     "data": {
      "application/vnd.jupyter.widget-view+json": {
       "model_id": "be1f6b27b61a48199b1a555ae662c301",
       "version_major": 2,
       "version_minor": 0
      },
      "text/plain": [
       "HBox(children=(FloatProgress(value=0.0, max=2.0), HTML(value='')))"
      ]
     },
     "metadata": {},
     "output_type": "display_data"
    },
    {
     "name": "stdout",
     "output_type": "stream",
     "text": [
      "\n"
     ]
    },
    {
     "data": {
      "text/html": [
       "<table>\n",
       "<thead>\n",
       "<tr><th>name     </th><th>Last updated    </th><th>Outdated dependencies  </th><th>Outdated code  </th><th>Product                                                                                          </th><th>Doc (short)   </th><th>Location                                                                       </th></tr>\n",
       "</thead>\n",
       "<tbody>\n",
       "<tr><td>data     </td><td>Has not been run</td><td>False                  </td><td>True           </td><td>/private/var/folders/3h/_lvh_w_x5g30rrjzb_xnn2j80000gq/T/tmp4u2vdjov/data/Edu/dev/data.csv       </td><td>Get data      </td><td>/private/var/folders/3h/_lvh_w_x5g30rrjzb_xnn2j80000gq/T/tmp4u2vdjov/main.py:35</td></tr>\n",
       "<tr><td>transform</td><td>Has not been run</td><td>True                   </td><td>True           </td><td>/private/var/folders/3h/_lvh_w_x5g30rrjzb_xnn2j80000gq/T/tmp4u2vdjov/data/Edu/dev/transformed.csv</td><td>Transform data</td><td>/private/var/folders/3h/_lvh_w_x5g30rrjzb_xnn2j80000gq/T/tmp4u2vdjov/main.py:43</td></tr>\n",
       "</tbody>\n",
       "</table>"
      ],
      "text/plain": [
       "name       Last updated      Outdated dependencies    Outdated code    Product                                                                                            Doc (short)     Location\n",
       "---------  ----------------  -----------------------  ---------------  -------------------------------------------------------------------------------------------------  --------------  -------------------------------------------------------------------------------\n",
       "data       Has not been run  False                    True             /private/var/folders/3h/_lvh_w_x5g30rrjzb_xnn2j80000gq/T/tmp4u2vdjov/data/Edu/dev/data.csv         Get data        /private/var/folders/3h/_lvh_w_x5g30rrjzb_xnn2j80000gq/T/tmp4u2vdjov/main.py:35\n",
       "transform  Has not been run  True                     True             /private/var/folders/3h/_lvh_w_x5g30rrjzb_xnn2j80000gq/T/tmp4u2vdjov/data/Edu/dev/transformed.csv  Transform data  /private/var/folders/3h/_lvh_w_x5g30rrjzb_xnn2j80000gq/T/tmp4u2vdjov/main.py:43"
      ]
     },
     "execution_count": 20,
     "metadata": {},
     "output_type": "execute_result"
    }
   ],
   "source": [
    "dag = main.make()\n",
    "dag.status()"
   ]
  },
  {
   "cell_type": "code",
   "execution_count": 21,
   "metadata": {
    "papermill": {
     "duration": 0.455336,
     "end_time": "2020-03-16T21:30:53.788627",
     "exception": false,
     "start_time": "2020-03-16T21:30:53.333291",
     "status": "completed"
    },
    "tags": []
   },
   "outputs": [
    {
     "data": {
      "application/vnd.jupyter.widget-view+json": {
       "model_id": "7015de480ca14602bef0700cdd864116",
       "version_major": 2,
       "version_minor": 0
      },
      "text/plain": [
       "HBox(children=(FloatProgress(value=0.0, max=2.0), HTML(value='')))"
      ]
     },
     "metadata": {},
     "output_type": "display_data"
    },
    {
     "name": "stdout",
     "output_type": "stream",
     "text": [
      "\n"
     ]
    },
    {
     "data": {
      "image/png": "[encoded data removed]",
      "text/plain": [
       "<Figure size 669.6x198.72 with 1 Axes>"
      ]
     },
     "metadata": {
      "needs_background": "light"
     },
     "output_type": "display_data"
    }
   ],
   "source": [
    "dag.plot()"
   ]
  },
  {
   "cell_type": "code",
   "execution_count": 22,
   "metadata": {
    "papermill": {
     "duration": 0.346401,
     "end_time": "2020-03-16T21:30:54.158290",
     "exception": false,
     "start_time": "2020-03-16T21:30:53.811889",
     "status": "completed"
    },
    "scrolled": false,
    "tags": []
   },
   "outputs": [
    {
     "data": {
      "application/vnd.jupyter.widget-view+json": {
       "model_id": "c553cf5ea23c433382c4e136e4abf0ff",
       "version_major": 2,
       "version_minor": 0
      },
      "text/plain": [
       "HBox(children=(FloatProgress(value=0.0, max=2.0), HTML(value='')))"
      ]
     },
     "metadata": {},
     "output_type": "display_data"
    },
    {
     "name": "stdout",
     "output_type": "stream",
     "text": [
      "\n"
     ]
    },
    {
     "data": {
      "application/vnd.jupyter.widget-view+json": {
       "model_id": "5958875010cb405fa51a6b07fbd7988d",
       "version_major": 2,
       "version_minor": 0
      },
      "text/plain": [
       "HBox(children=(FloatProgress(value=0.0, max=2.0), HTML(value='')))"
      ]
     },
     "metadata": {},
     "output_type": "display_data"
    },
    {
     "name": "stdout",
     "output_type": "stream",
     "text": [
      "\n"
     ]
    },
    {
     "data": {
      "text/html": [
       "<table>\n",
       "<thead>\n",
       "<tr><th>name     </th><th>Ran?  </th><th style=\"text-align: right;\">  Elapsed (s)</th><th style=\"text-align: right;\">  Percentage</th></tr>\n",
       "</thead>\n",
       "<tbody>\n",
       "<tr><td>data     </td><td>True  </td><td style=\"text-align: right;\">     0.120618</td><td style=\"text-align: right;\">     50.4741</td></tr>\n",
       "<tr><td>transform</td><td>True  </td><td style=\"text-align: right;\">     0.118352</td><td style=\"text-align: right;\">     49.5259</td></tr>\n",
       "</tbody>\n",
       "</table>"
      ],
      "text/plain": [
       "name       Ran?      Elapsed (s)    Percentage\n",
       "---------  ------  -------------  ------------\n",
       "data       True         0.120618       50.4741\n",
       "transform  True         0.118352       49.5259"
      ]
     },
     "execution_count": 22,
     "metadata": {},
     "output_type": "execute_result"
    }
   ],
   "source": [
    "dag.build()"
   ]
  },
  {
   "cell_type": "code",
   "execution_count": 23,
   "metadata": {
    "nbsphinx": "hidden",
    "papermill": {
     "duration": 0.038699,
     "end_time": "2020-03-16T21:30:54.221284",
     "exception": false,
     "start_time": "2020-03-16T21:30:54.182585",
     "status": "completed"
    },
    "tags": []
   },
   "outputs": [],
   "source": [
    "# cleanup setup\n",
    "import shutil\n",
    "shutil.rmtree(tmp_dir)"
   ]
  }
 ],
 "metadata": {
  "celltoolbar": "Edit Metadata",
  "kernelspec": {
   "display_name": "Python 3",
   "language": "python",
   "name": "python3"
  },
  "language_info": {
   "codemirror_mode": {
    "name": "ipython",
    "version": 3
   },
   "file_extension": ".py",
   "mimetype": "text/x-python",
   "name": "python",
   "nbconvert_exporter": "python",
   "pygments_lexer": "ipython3",
   "version": "3.6.10"
  },
  "papermill": {
   "duration": 7.901433,
   "end_time": "2020-03-16T21:30:54.253100",
   "environment_variables": {},
   "exception": null,
   "input_path": "env.ipynb",
   "output_path": "env.ipynb",
   "parameters": {},
   "start_time": "2020-03-16T21:30:46.351667",
   "version": "2.0.0"
  },
  "widgets": {
   "application/vnd.jupyter.widget-state+json": {
    "state": {
     "08bf0efc6162486381a1e42a19f8d2d2": {
      "model_module": "@jupyter-widgets/base",
      "model_module_version": "1.2.0",
      "model_name": "LayoutModel",
      "state": {
       "_model_module": "@jupyter-widgets/base",
       "_model_module_version": "1.2.0",
       "_model_name": "LayoutModel",
       "_view_count": null,
       "_view_module": "@jupyter-widgets/base",
       "_view_module_version": "1.2.0",
       "_view_name": "LayoutView",
       "align_content": null,
       "align_items": null,
       "align_self": null,
       "border": null,
       "bottom": null,
       "display": null,
       "flex": null,
       "flex_flow": null,
       "grid_area": null,
       "grid_auto_columns": null,
       "grid_auto_flow": null,
       "grid_auto_rows": null,
       "grid_column": null,
       "grid_gap": null,
       "grid_row": null,
       "grid_template_areas": null,
       "grid_template_columns": null,
       "grid_template_rows": null,
       "height": null,
       "justify_content": null,
       "justify_items": null,
       "left": null,
       "margin": null,
       "max_height": null,
       "max_width": null,
       "min_height": null,
       "min_width": null,
       "object_fit": null,
       "object_position": null,
       "order": null,
       "overflow": null,
       "overflow_x": null,
       "overflow_y": null,
       "padding": null,
       "right": null,
       "top": null,
       "visibility": null,
       "width": null
      }
     },
     "0fa411d661c34084874861a1539d4448": {
      "model_module": "@jupyter-widgets/base",
      "model_module_version": "1.2.0",
      "model_name": "LayoutModel",
      "state": {
       "_model_module": "@jupyter-widgets/base",
       "_model_module_version": "1.2.0",
       "_model_name": "LayoutModel",
       "_view_count": null,
       "_view_module": "@jupyter-widgets/base",
       "_view_module_version": "1.2.0",
       "_view_name": "LayoutView",
       "align_content": null,
       "align_items": null,
       "align_self": null,
       "border": null,
       "bottom": null,
       "display": null,
       "flex": null,
       "flex_flow": null,
       "grid_area": null,
       "grid_auto_columns": null,
       "grid_auto_flow": null,
       "grid_auto_rows": null,
       "grid_column": null,
       "grid_gap": null,
       "grid_row": null,
       "grid_template_areas": null,
       "grid_template_columns": null,
       "grid_template_rows": null,
       "height": null,
       "justify_content": null,
       "justify_items": null,
       "left": null,
       "margin": null,
       "max_height": null,
       "max_width": null,
       "min_height": null,
       "min_width": null,
       "object_fit": null,
       "object_position": null,
       "order": null,
       "overflow": null,
       "overflow_x": null,
       "overflow_y": null,
       "padding": null,
       "right": null,
       "top": null,
       "visibility": null,
       "width": null
      }
     },
     "25c9dc0e5eea40b989dec68338fcdd81": {
      "model_module": "@jupyter-widgets/base",
      "model_module_version": "1.2.0",
      "model_name": "LayoutModel",
      "state": {
       "_model_module": "@jupyter-widgets/base",
       "_model_module_version": "1.2.0",
       "_model_name": "LayoutModel",
       "_view_count": null,
       "_view_module": "@jupyter-widgets/base",
       "_view_module_version": "1.2.0",
       "_view_name": "LayoutView",
       "align_content": null,
       "align_items": null,
       "align_self": null,
       "border": null,
       "bottom": null,
       "display": null,
       "flex": null,
       "flex_flow": null,
       "grid_area": null,
       "grid_auto_columns": null,
       "grid_auto_flow": null,
       "grid_auto_rows": null,
       "grid_column": null,
       "grid_gap": null,
       "grid_row": null,
       "grid_template_areas": null,
       "grid_template_columns": null,
       "grid_template_rows": null,
       "height": null,
       "justify_content": null,
       "justify_items": null,
       "left": null,
       "margin": null,
       "max_height": null,
       "max_width": null,
       "min_height": null,
       "min_width": null,
       "object_fit": null,
       "object_position": null,
       "order": null,
       "overflow": null,
       "overflow_x": null,
       "overflow_y": null,
       "padding": null,
       "right": null,
       "top": null,
       "visibility": null,
       "width": null
      }
     },
     "35d89574c56842a59e09fb7358a23baa": {
      "model_module": "@jupyter-widgets/base",
      "model_module_version": "1.2.0",
      "model_name": "LayoutModel",
      "state": {
       "_model_module": "@jupyter-widgets/base",
       "_model_module_version": "1.2.0",
       "_model_name": "LayoutModel",
       "_view_count": null,
       "_view_module": "@jupyter-widgets/base",
       "_view_module_version": "1.2.0",
       "_view_name": "LayoutView",
       "align_content": null,
       "align_items": null,
       "align_self": null,
       "border": null,
       "bottom": null,
       "display": null,
       "flex": null,
       "flex_flow": null,
       "grid_area": null,
       "grid_auto_columns": null,
       "grid_auto_flow": null,
       "grid_auto_rows": null,
       "grid_column": null,
       "grid_gap": null,
       "grid_row": null,
       "grid_template_areas": null,
       "grid_template_columns": null,
       "grid_template_rows": null,
       "height": null,
       "justify_content": null,
       "justify_items": null,
       "left": null,
       "margin": null,
       "max_height": null,
       "max_width": null,
       "min_height": null,
       "min_width": null,
       "object_fit": null,
       "object_position": null,
       "order": null,
       "overflow": null,
       "overflow_x": null,
       "overflow_y": null,
       "padding": null,
       "right": null,
       "top": null,
       "visibility": null,
       "width": null
      }
     },
     "3e82b4bbc4a341b2bc1a7d4a31b96742": {
      "model_module": "@jupyter-widgets/base",
      "model_module_version": "1.2.0",
      "model_name": "LayoutModel",
      "state": {
       "_model_module": "@jupyter-widgets/base",
       "_model_module_version": "1.2.0",
       "_model_name": "LayoutModel",
       "_view_count": null,
       "_view_module": "@jupyter-widgets/base",
       "_view_module_version": "1.2.0",
       "_view_name": "LayoutView",
       "align_content": null,
       "align_items": null,
       "align_self": null,
       "border": null,
       "bottom": null,
       "display": null,
       "flex": null,
       "flex_flow": null,
       "grid_area": null,
       "grid_auto_columns": null,
       "grid_auto_flow": null,
       "grid_auto_rows": null,
       "grid_column": null,
       "grid_gap": null,
       "grid_row": null,
       "grid_template_areas": null,
       "grid_template_columns": null,
       "grid_template_rows": null,
       "height": null,
       "justify_content": null,
       "justify_items": null,
       "left": null,
       "margin": null,
       "max_height": null,
       "max_width": null,
       "min_height": null,
       "min_width": null,
       "object_fit": null,
       "object_position": null,
       "order": null,
       "overflow": null,
       "overflow_x": null,
       "overflow_y": null,
       "padding": null,
       "right": null,
       "top": null,
       "visibility": null,
       "width": null
      }
     },
     "3fabd5459b604d3abe09f44c07383459": {
      "model_module": "@jupyter-widgets/base",
      "model_module_version": "1.2.0",
      "model_name": "LayoutModel",
      "state": {
       "_model_module": "@jupyter-widgets/base",
       "_model_module_version": "1.2.0",
       "_model_name": "LayoutModel",
       "_view_count": null,
       "_view_module": "@jupyter-widgets/base",
       "_view_module_version": "1.2.0",
       "_view_name": "LayoutView",
       "align_content": null,
       "align_items": null,
       "align_self": null,
       "border": null,
       "bottom": null,
       "display": null,
       "flex": null,
       "flex_flow": null,
       "grid_area": null,
       "grid_auto_columns": null,
       "grid_auto_flow": null,
       "grid_auto_rows": null,
       "grid_column": null,
       "grid_gap": null,
       "grid_row": null,
       "grid_template_areas": null,
       "grid_template_columns": null,
       "grid_template_rows": null,
       "height": null,
       "justify_content": null,
       "justify_items": null,
       "left": null,
       "margin": null,
       "max_height": null,
       "max_width": null,
       "min_height": null,
       "min_width": null,
       "object_fit": null,
       "object_position": null,
       "order": null,
       "overflow": null,
       "overflow_x": null,
       "overflow_y": null,
       "padding": null,
       "right": null,
       "top": null,
       "visibility": null,
       "width": null
      }
     },
     "41e59c426f6e47ffa1a439d1b3073223": {
      "model_module": "@jupyter-widgets/base",
      "model_module_version": "1.2.0",
      "model_name": "LayoutModel",
      "state": {
       "_model_module": "@jupyter-widgets/base",
       "_model_module_version": "1.2.0",
       "_model_name": "LayoutModel",
       "_view_count": null,
       "_view_module": "@jupyter-widgets/base",
       "_view_module_version": "1.2.0",
       "_view_name": "LayoutView",
       "align_content": null,
       "align_items": null,
       "align_self": null,
       "border": null,
       "bottom": null,
       "display": null,
       "flex": null,
       "flex_flow": null,
       "grid_area": null,
       "grid_auto_columns": null,
       "grid_auto_flow": null,
       "grid_auto_rows": null,
       "grid_column": null,
       "grid_gap": null,
       "grid_row": null,
       "grid_template_areas": null,
       "grid_template_columns": null,
       "grid_template_rows": null,
       "height": null,
       "justify_content": null,
       "justify_items": null,
       "left": null,
       "margin": null,
       "max_height": null,
       "max_width": null,
       "min_height": null,
       "min_width": null,
       "object_fit": null,
       "object_position": null,
       "order": null,
       "overflow": null,
       "overflow_x": null,
       "overflow_y": null,
       "padding": null,
       "right": null,
       "top": null,
       "visibility": null,
       "width": null
      }
     },
     "4b4f9c2f8e6b47368197d6c1637bb983": {
      "model_module": "@jupyter-widgets/controls",
      "model_module_version": "1.5.0",
      "model_name": "DescriptionStyleModel",
      "state": {
       "_model_module": "@jupyter-widgets/controls",
       "_model_module_version": "1.5.0",
       "_model_name": "DescriptionStyleModel",
       "_view_count": null,
       "_view_module": "@jupyter-widgets/base",
       "_view_module_version": "1.2.0",
       "_view_name": "StyleView",
       "description_width": ""
      }
     },
     "51e24075739f4b5dbc5cb687a1f9ea60": {
      "model_module": "@jupyter-widgets/controls",
      "model_module_version": "1.5.0",
      "model_name": "DescriptionStyleModel",
      "state": {
       "_model_module": "@jupyter-widgets/controls",
       "_model_module_version": "1.5.0",
       "_model_name": "DescriptionStyleModel",
       "_view_count": null,
       "_view_module": "@jupyter-widgets/base",
       "_view_module_version": "1.2.0",
       "_view_name": "StyleView",
       "description_width": ""
      }
     },
     "6128534ea8a349e0aef8a9f485455847": {
      "model_module": "@jupyter-widgets/controls",
      "model_module_version": "1.5.0",
      "model_name": "ProgressStyleModel",
      "state": {
       "_model_module": "@jupyter-widgets/controls",
       "_model_module_version": "1.5.0",
       "_model_name": "ProgressStyleModel",
       "_view_count": null,
       "_view_module": "@jupyter-widgets/base",
       "_view_module_version": "1.2.0",
       "_view_name": "StyleView",
       "bar_color": null,
       "description_width": "initial"
      }
     },
     "66c32f766097400fb768e6a1dd533ac7": {
      "model_module": "@jupyter-widgets/controls",
      "model_module_version": "1.5.0",
      "model_name": "HTMLModel",
      "state": {
       "_dom_classes": [],
       "_model_module": "@jupyter-widgets/controls",
       "_model_module_version": "1.5.0",
       "_model_name": "HTMLModel",
       "_view_count": null,
       "_view_module": "@jupyter-widgets/controls",
       "_view_module_version": "1.5.0",
       "_view_name": "HTMLView",
       "description": "",
       "description_tooltip": null,
       "layout": "IPY_MODEL_35d89574c56842a59e09fb7358a23baa",
       "placeholder": "​",
       "style": "IPY_MODEL_b5fdc5438aa64b2fa749f5718520b913",
       "value": " 2/2 [00:00&lt;00:00,  7.61it/s]"
      }
     },
     "716ddeb81da24a28b6511c8476567e92": {
      "model_module": "@jupyter-widgets/controls",
      "model_module_version": "1.5.0",
      "model_name": "FloatProgressModel",
      "state": {
       "_dom_classes": [],
       "_model_module": "@jupyter-widgets/controls",
       "_model_module_version": "1.5.0",
       "_model_name": "FloatProgressModel",
       "_view_count": null,
       "_view_module": "@jupyter-widgets/controls",
       "_view_module_version": "1.5.0",
       "_view_name": "ProgressView",
       "bar_style": "success",
       "description": "Rendering DAG &quot;my pipeline&quot;: 100%",
       "description_tooltip": null,
       "layout": "IPY_MODEL_08bf0efc6162486381a1e42a19f8d2d2",
       "max": 2,
       "min": 0,
       "orientation": "horizontal",
       "style": "IPY_MODEL_c2f87cdcf1f7405e95f9671669d236d1",
       "value": 2
      }
     },
     "76660f72bbbe403180797938f15418b6": {
      "model_module": "@jupyter-widgets/controls",
      "model_module_version": "1.5.0",
      "model_name": "HTMLModel",
      "state": {
       "_dom_classes": [],
       "_model_module": "@jupyter-widgets/controls",
       "_model_module_version": "1.5.0",
       "_model_name": "HTMLModel",
       "_view_count": null,
       "_view_module": "@jupyter-widgets/controls",
       "_view_module_version": "1.5.0",
       "_view_name": "HTMLView",
       "description": "",
       "description_tooltip": null,
       "layout": "IPY_MODEL_e8172ff97cf9442bb944a7d283824826",
       "placeholder": "​",
       "style": "IPY_MODEL_4b4f9c2f8e6b47368197d6c1637bb983",
       "value": " 2/2 [00:00&lt;00:00, 72.37it/s]"
      }
     },
     "7f0def18d7b64f75916cab5addbd3df6": {
      "model_module": "@jupyter-widgets/base",
      "model_module_version": "1.2.0",
      "model_name": "LayoutModel",
      "state": {
       "_model_module": "@jupyter-widgets/base",
       "_model_module_version": "1.2.0",
       "_model_name": "LayoutModel",
       "_view_count": null,
       "_view_module": "@jupyter-widgets/base",
       "_view_module_version": "1.2.0",
       "_view_name": "LayoutView",
       "align_content": null,
       "align_items": null,
       "align_self": null,
       "border": null,
       "bottom": null,
       "display": null,
       "flex": null,
       "flex_flow": null,
       "grid_area": null,
       "grid_auto_columns": null,
       "grid_auto_flow": null,
       "grid_auto_rows": null,
       "grid_column": null,
       "grid_gap": null,
       "grid_row": null,
       "grid_template_areas": null,
       "grid_template_columns": null,
       "grid_template_rows": null,
       "height": null,
       "justify_content": null,
       "justify_items": null,
       "left": null,
       "margin": null,
       "max_height": null,
       "max_width": null,
       "min_height": null,
       "min_width": null,
       "object_fit": null,
       "object_position": null,
       "order": null,
       "overflow": null,
       "overflow_x": null,
       "overflow_y": null,
       "padding": null,
       "right": null,
       "top": null,
       "visibility": null,
       "width": null
      }
     },
     "80ee36a5609c4a9db661568d805f657c": {
      "model_module": "@jupyter-widgets/controls",
      "model_module_version": "1.5.0",
      "model_name": "HBoxModel",
      "state": {
       "_dom_classes": [],
       "_model_module": "@jupyter-widgets/controls",
       "_model_module_version": "1.5.0",
       "_model_name": "HBoxModel",
       "_view_count": null,
       "_view_module": "@jupyter-widgets/controls",
       "_view_module_version": "1.5.0",
       "_view_name": "HBoxView",
       "box_style": "",
       "children": [
        "IPY_MODEL_9d65b99e92104fdebd8242ecba19eb25",
        "IPY_MODEL_945507b0511340afbe2bb6c1e1b32a26"
       ],
       "layout": "IPY_MODEL_0fa411d661c34084874861a1539d4448"
      }
     },
     "8cf40d497ea84cfa9f5741146734300f": {
      "model_module": "@jupyter-widgets/controls",
      "model_module_version": "1.5.0",
      "model_name": "HBoxModel",
      "state": {
       "_dom_classes": [],
       "_model_module": "@jupyter-widgets/controls",
       "_model_module_version": "1.5.0",
       "_model_name": "HBoxModel",
       "_view_count": null,
       "_view_module": "@jupyter-widgets/controls",
       "_view_module_version": "1.5.0",
       "_view_name": "HBoxView",
       "box_style": "",
       "children": [
        "IPY_MODEL_d5dbdec6ccfe49e18cfe7c07d9ba3856",
        "IPY_MODEL_66c32f766097400fb768e6a1dd533ac7"
       ],
       "layout": "IPY_MODEL_d4b2b62c342f4aebaadbcf3e893f77ba"
      }
     },
     "945507b0511340afbe2bb6c1e1b32a26": {
      "model_module": "@jupyter-widgets/controls",
      "model_module_version": "1.5.0",
      "model_name": "HTMLModel",
      "state": {
       "_dom_classes": [],
       "_model_module": "@jupyter-widgets/controls",
       "_model_module_version": "1.5.0",
       "_model_name": "HTMLModel",
       "_view_count": null,
       "_view_module": "@jupyter-widgets/controls",
       "_view_module_version": "1.5.0",
       "_view_name": "HTMLView",
       "description": "",
       "description_tooltip": null,
       "layout": "IPY_MODEL_a2eaf394e710491c8451dfe2dd1dbbda",
       "placeholder": "​",
       "style": "IPY_MODEL_51e24075739f4b5dbc5cb687a1f9ea60",
       "value": " 2/2 [00:00&lt;00:00, 19.84it/s]"
      }
     },
     "94b432df0e7a43e38d01cad594b7693a": {
      "model_module": "@jupyter-widgets/controls",
      "model_module_version": "1.5.0",
      "model_name": "ProgressStyleModel",
      "state": {
       "_model_module": "@jupyter-widgets/controls",
       "_model_module_version": "1.5.0",
       "_model_name": "ProgressStyleModel",
       "_view_count": null,
       "_view_module": "@jupyter-widgets/base",
       "_view_module_version": "1.2.0",
       "_view_name": "StyleView",
       "bar_color": null,
       "description_width": "initial"
      }
     },
     "9a221fab2c2b407d84989876dbcee996": {
      "model_module": "@jupyter-widgets/controls",
      "model_module_version": "1.5.0",
      "model_name": "DescriptionStyleModel",
      "state": {
       "_model_module": "@jupyter-widgets/controls",
       "_model_module_version": "1.5.0",
       "_model_name": "DescriptionStyleModel",
       "_view_count": null,
       "_view_module": "@jupyter-widgets/base",
       "_view_module_version": "1.2.0",
       "_view_name": "StyleView",
       "description_width": ""
      }
     },
     "9d65b99e92104fdebd8242ecba19eb25": {
      "model_module": "@jupyter-widgets/controls",
      "model_module_version": "1.5.0",
      "model_name": "FloatProgressModel",
      "state": {
       "_dom_classes": [],
       "_model_module": "@jupyter-widgets/controls",
       "_model_module_version": "1.5.0",
       "_model_name": "FloatProgressModel",
       "_view_count": null,
       "_view_module": "@jupyter-widgets/controls",
       "_view_module_version": "1.5.0",
       "_view_name": "ProgressView",
       "bar_style": "success",
       "description": "Rendering DAG &quot;my pipeline&quot;: 100%",
       "description_tooltip": null,
       "layout": "IPY_MODEL_3e82b4bbc4a341b2bc1a7d4a31b96742",
       "max": 2,
       "min": 0,
       "orientation": "horizontal",
       "style": "IPY_MODEL_6128534ea8a349e0aef8a9f485455847",
       "value": 2
      }
     },
     "a2eaf394e710491c8451dfe2dd1dbbda": {
      "model_module": "@jupyter-widgets/base",
      "model_module_version": "1.2.0",
      "model_name": "LayoutModel",
      "state": {
       "_model_module": "@jupyter-widgets/base",
       "_model_module_version": "1.2.0",
       "_model_name": "LayoutModel",
       "_view_count": null,
       "_view_module": "@jupyter-widgets/base",
       "_view_module_version": "1.2.0",
       "_view_name": "LayoutView",
       "align_content": null,
       "align_items": null,
       "align_self": null,
       "border": null,
       "bottom": null,
       "display": null,
       "flex": null,
       "flex_flow": null,
       "grid_area": null,
       "grid_auto_columns": null,
       "grid_auto_flow": null,
       "grid_auto_rows": null,
       "grid_column": null,
       "grid_gap": null,
       "grid_row": null,
       "grid_template_areas": null,
       "grid_template_columns": null,
       "grid_template_rows": null,
       "height": null,
       "justify_content": null,
       "justify_items": null,
       "left": null,
       "margin": null,
       "max_height": null,
       "max_width": null,
       "min_height": null,
       "min_width": null,
       "object_fit": null,
       "object_position": null,
       "order": null,
       "overflow": null,
       "overflow_x": null,
       "overflow_y": null,
       "padding": null,
       "right": null,
       "top": null,
       "visibility": null,
       "width": null
      }
     },
     "a59008aef90141438b4a9add53b9b8d3": {
      "model_module": "@jupyter-widgets/controls",
      "model_module_version": "1.5.0",
      "model_name": "ProgressStyleModel",
      "state": {
       "_model_module": "@jupyter-widgets/controls",
       "_model_module_version": "1.5.0",
       "_model_name": "ProgressStyleModel",
       "_view_count": null,
       "_view_module": "@jupyter-widgets/base",
       "_view_module_version": "1.2.0",
       "_view_name": "StyleView",
       "bar_color": null,
       "description_width": "initial"
      }
     },
     "b347de3c82854bf797a41bf7daa1bd7a": {
      "model_module": "@jupyter-widgets/base",
      "model_module_version": "1.2.0",
      "model_name": "LayoutModel",
      "state": {
       "_model_module": "@jupyter-widgets/base",
       "_model_module_version": "1.2.0",
       "_model_name": "LayoutModel",
       "_view_count": null,
       "_view_module": "@jupyter-widgets/base",
       "_view_module_version": "1.2.0",
       "_view_name": "LayoutView",
       "align_content": null,
       "align_items": null,
       "align_self": null,
       "border": null,
       "bottom": null,
       "display": null,
       "flex": null,
       "flex_flow": null,
       "grid_area": null,
       "grid_auto_columns": null,
       "grid_auto_flow": null,
       "grid_auto_rows": null,
       "grid_column": null,
       "grid_gap": null,
       "grid_row": null,
       "grid_template_areas": null,
       "grid_template_columns": null,
       "grid_template_rows": null,
       "height": null,
       "justify_content": null,
       "justify_items": null,
       "left": null,
       "margin": null,
       "max_height": null,
       "max_width": null,
       "min_height": null,
       "min_width": null,
       "object_fit": null,
       "object_position": null,
       "order": null,
       "overflow": null,
       "overflow_x": null,
       "overflow_y": null,
       "padding": null,
       "right": null,
       "top": null,
       "visibility": null,
       "width": null
      }
     },
     "b5fdc5438aa64b2fa749f5718520b913": {
      "model_module": "@jupyter-widgets/controls",
      "model_module_version": "1.5.0",
      "model_name": "DescriptionStyleModel",
      "state": {
       "_model_module": "@jupyter-widgets/controls",
       "_model_module_version": "1.5.0",
       "_model_name": "DescriptionStyleModel",
       "_view_count": null,
       "_view_module": "@jupyter-widgets/base",
       "_view_module_version": "1.2.0",
       "_view_name": "StyleView",
       "description_width": ""
      }
     },
     "bddca50eb6094f58adbe8e9e3013ccc3": {
      "model_module": "@jupyter-widgets/controls",
      "model_module_version": "1.5.0",
      "model_name": "HBoxModel",
      "state": {
       "_dom_classes": [],
       "_model_module": "@jupyter-widgets/controls",
       "_model_module_version": "1.5.0",
       "_model_name": "HBoxModel",
       "_view_count": null,
       "_view_module": "@jupyter-widgets/controls",
       "_view_module_version": "1.5.0",
       "_view_name": "HBoxView",
       "box_style": "",
       "children": [
        "IPY_MODEL_df8cf430186d47b3b0a3c5d1cdfe6648",
        "IPY_MODEL_c6b9b85742f84790a15eaa5a164e580d"
       ],
       "layout": "IPY_MODEL_7f0def18d7b64f75916cab5addbd3df6"
      }
     },
     "c2f87cdcf1f7405e95f9671669d236d1": {
      "model_module": "@jupyter-widgets/controls",
      "model_module_version": "1.5.0",
      "model_name": "ProgressStyleModel",
      "state": {
       "_model_module": "@jupyter-widgets/controls",
       "_model_module_version": "1.5.0",
       "_model_name": "ProgressStyleModel",
       "_view_count": null,
       "_view_module": "@jupyter-widgets/base",
       "_view_module_version": "1.2.0",
       "_view_name": "StyleView",
       "bar_color": null,
       "description_width": "initial"
      }
     },
     "c6b9b85742f84790a15eaa5a164e580d": {
      "model_module": "@jupyter-widgets/controls",
      "model_module_version": "1.5.0",
      "model_name": "HTMLModel",
      "state": {
       "_dom_classes": [],
       "_model_module": "@jupyter-widgets/controls",
       "_model_module_version": "1.5.0",
       "_model_name": "HTMLModel",
       "_view_count": null,
       "_view_module": "@jupyter-widgets/controls",
       "_view_module_version": "1.5.0",
       "_view_name": "HTMLView",
       "description": "",
       "description_tooltip": null,
       "layout": "IPY_MODEL_41e59c426f6e47ffa1a439d1b3073223",
       "placeholder": "​",
       "style": "IPY_MODEL_9a221fab2c2b407d84989876dbcee996",
       "value": " 2/2 [00:00&lt;00:00, 39.17it/s]"
      }
     },
     "d4b2b62c342f4aebaadbcf3e893f77ba": {
      "model_module": "@jupyter-widgets/base",
      "model_module_version": "1.2.0",
      "model_name": "LayoutModel",
      "state": {
       "_model_module": "@jupyter-widgets/base",
       "_model_module_version": "1.2.0",
       "_model_name": "LayoutModel",
       "_view_count": null,
       "_view_module": "@jupyter-widgets/base",
       "_view_module_version": "1.2.0",
       "_view_name": "LayoutView",
       "align_content": null,
       "align_items": null,
       "align_self": null,
       "border": null,
       "bottom": null,
       "display": null,
       "flex": null,
       "flex_flow": null,
       "grid_area": null,
       "grid_auto_columns": null,
       "grid_auto_flow": null,
       "grid_auto_rows": null,
       "grid_column": null,
       "grid_gap": null,
       "grid_row": null,
       "grid_template_areas": null,
       "grid_template_columns": null,
       "grid_template_rows": null,
       "height": null,
       "justify_content": null,
       "justify_items": null,
       "left": null,
       "margin": null,
       "max_height": null,
       "max_width": null,
       "min_height": null,
       "min_width": null,
       "object_fit": null,
       "object_position": null,
       "order": null,
       "overflow": null,
       "overflow_x": null,
       "overflow_y": null,
       "padding": null,
       "right": null,
       "top": null,
       "visibility": null,
       "width": null
      }
     },
     "d5dbdec6ccfe49e18cfe7c07d9ba3856": {
      "model_module": "@jupyter-widgets/controls",
      "model_module_version": "1.5.0",
      "model_name": "FloatProgressModel",
      "state": {
       "_dom_classes": [],
       "_model_module": "@jupyter-widgets/controls",
       "_model_module_version": "1.5.0",
       "_model_name": "FloatProgressModel",
       "_view_count": null,
       "_view_module": "@jupyter-widgets/controls",
       "_view_module_version": "1.5.0",
       "_view_name": "ProgressView",
       "bar_style": "success",
       "description": "Building task &quot;transform&quot;: 100%",
       "description_tooltip": null,
       "layout": "IPY_MODEL_b347de3c82854bf797a41bf7daa1bd7a",
       "max": 2,
       "min": 0,
       "orientation": "horizontal",
       "style": "IPY_MODEL_a59008aef90141438b4a9add53b9b8d3",
       "value": 2
      }
     },
     "df8cf430186d47b3b0a3c5d1cdfe6648": {
      "model_module": "@jupyter-widgets/controls",
      "model_module_version": "1.5.0",
      "model_name": "FloatProgressModel",
      "state": {
       "_dom_classes": [],
       "_model_module": "@jupyter-widgets/controls",
       "_model_module_version": "1.5.0",
       "_model_name": "FloatProgressModel",
       "_view_count": null,
       "_view_module": "@jupyter-widgets/controls",
       "_view_module_version": "1.5.0",
       "_view_name": "ProgressView",
       "bar_style": "success",
       "description": "Rendering DAG &quot;my pipeline&quot;: 100%",
       "description_tooltip": null,
       "layout": "IPY_MODEL_3fabd5459b604d3abe09f44c07383459",
       "max": 2,
       "min": 0,
       "orientation": "horizontal",
       "style": "IPY_MODEL_94b432df0e7a43e38d01cad594b7693a",
       "value": 2
      }
     },
     "e8172ff97cf9442bb944a7d283824826": {
      "model_module": "@jupyter-widgets/base",
      "model_module_version": "1.2.0",
      "model_name": "LayoutModel",
      "state": {
       "_model_module": "@jupyter-widgets/base",
       "_model_module_version": "1.2.0",
       "_model_name": "LayoutModel",
       "_view_count": null,
       "_view_module": "@jupyter-widgets/base",
       "_view_module_version": "1.2.0",
       "_view_name": "LayoutView",
       "align_content": null,
       "align_items": null,
       "align_self": null,
       "border": null,
       "bottom": null,
       "display": null,
       "flex": null,
       "flex_flow": null,
       "grid_area": null,
       "grid_auto_columns": null,
       "grid_auto_flow": null,
       "grid_auto_rows": null,
       "grid_column": null,
       "grid_gap": null,
       "grid_row": null,
       "grid_template_areas": null,
       "grid_template_columns": null,
       "grid_template_rows": null,
       "height": null,
       "justify_content": null,
       "justify_items": null,
       "left": null,
       "margin": null,
       "max_height": null,
       "max_width": null,
       "min_height": null,
       "min_width": null,
       "object_fit": null,
       "object_position": null,
       "order": null,
       "overflow": null,
       "overflow_x": null,
       "overflow_y": null,
       "padding": null,
       "right": null,
       "top": null,
       "visibility": null,
       "width": null
      }
     },
     "fab5645bede34c7297ef4726198de51d": {
      "model_module": "@jupyter-widgets/controls",
      "model_module_version": "1.5.0",
      "model_name": "HBoxModel",
      "state": {
       "_dom_classes": [],
       "_model_module": "@jupyter-widgets/controls",
       "_model_module_version": "1.5.0",
       "_model_name": "HBoxModel",
       "_view_count": null,
       "_view_module": "@jupyter-widgets/controls",
       "_view_module_version": "1.5.0",
       "_view_name": "HBoxView",
       "box_style": "",
       "children": [
        "IPY_MODEL_716ddeb81da24a28b6511c8476567e92",
        "IPY_MODEL_76660f72bbbe403180797938f15418b6"
       ],
       "layout": "IPY_MODEL_25c9dc0e5eea40b989dec68338fcdd81"
      }
     }
    },
    "version_major": 2,
    "version_minor": 0
   }
  }
 },
 "nbformat": 4,
 "nbformat_minor": 4
}