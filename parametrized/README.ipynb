{
 "cells": [
  {
   "cell_type": "markdown",
   "id": "f0297d45",
   "metadata": {
    "papermill": {
     "duration": 0.015297,
     "end_time": "2021-09-19T22:23:02.575893",
     "exception": false,
     "start_time": "2021-09-19T22:23:02.560596",
     "status": "completed"
    },
    "tags": []
   },
   "source": [
    "\n",
    "*Note:* You can run this from your computer (Jupyter or terminal), or using Binder (does not require any installation, takes a few minutes to be ready)\n",
    "\n",
    "[![binder-logo](https://mybinder.org/badge_logo.svg)](https://mybinder.org/v2/gh/ploomber/binder-env/main?urlpath=git-pull%3Frepo%3Dhttps%253A%252F%252Fgithub.com%252Fploomber%252Fprojects%26urlpath%3Dlab%252Ftree%252Fprojects%252Fparametrized%252FREADME.ipynb%26branch%3Dmaster)\n"
   ]
  },
  {
   "cell_type": "markdown",
   "id": "5a774610",
   "metadata": {
    "papermill": {
     "duration": 0.012596,
     "end_time": "2021-09-19T22:23:02.602132",
     "exception": false,
     "start_time": "2021-09-19T22:23:02.589536",
     "status": "completed"
    },
    "tags": []
   },
   "source": [
    "# Parametrized pipelines"
   ]
  },
  {
   "cell_type": "markdown",
   "id": "c2d9037d",
   "metadata": {
    "papermill": {
     "duration": 0.0129,
     "end_time": "2021-09-19T22:23:02.628150",
     "exception": false,
     "start_time": "2021-09-19T22:23:02.615250",
     "status": "completed"
    },
    "tags": []
   },
   "source": [
    "Often, pipelines perform the same operation over different subsets of the data. For example, say you are developing visualizations of economic data. You might want to generate the same charts for other countries. \n",
    "\n",
    "One way to approach the problem is to have a for loop on each pipeline task to process all needed countries. But such an approach adds unnecessary complexity to our code; it's better to keep our logic simple (each task processes a single country) and take the iterative logic out of our pipeline.\n",
    "\n",
    "Ploomber allows you to do so using parametrized pipelines. Let's see a sample using a `pipeline.yaml` file.\n",
    "\n",
    "## Spec API (``pipeline.yaml``)"
   ]
  },
  {
   "cell_type": "code",
   "execution_count": 1,
   "id": "6b5f37d7",
   "metadata": {
    "execution": {
     "iopub.execute_input": "2021-09-19T22:23:02.664828Z",
     "iopub.status.busy": "2021-09-19T22:23:02.663853Z",
     "iopub.status.idle": "2021-09-19T22:23:03.899748Z",
     "shell.execute_reply": "2021-09-19T22:23:03.899131Z"
    },
    "papermill": {
     "duration": 1.258374,
     "end_time": "2021-09-19T22:23:03.899971",
     "exception": false,
     "start_time": "2021-09-19T22:23:02.641597",
     "status": "completed"
    },
    "tags": []
   },
   "outputs": [],
   "source": [
    "from ploomberutils import display_file, filter_output"
   ]
  },
  {
   "cell_type": "code",
   "execution_count": 2,
   "id": "0bbfd932",
   "metadata": {
    "execution": {
     "iopub.execute_input": "2021-09-19T22:23:03.939188Z",
     "iopub.status.busy": "2021-09-19T22:23:03.930228Z",
     "iopub.status.idle": "2021-09-19T22:23:03.942359Z",
     "shell.execute_reply": "2021-09-19T22:23:03.942924Z"
    },
    "papermill": {
     "duration": 0.030342,
     "end_time": "2021-09-19T22:23:03.943167",
     "exception": false,
     "start_time": "2021-09-19T22:23:03.912825",
     "status": "completed"
    },
    "tags": []
   },
   "outputs": [
    {
     "data": {
      "text/markdown": [
       "\n",
       "```yaml\n",
       "tasks:\n",
       "  - source: print.py\n",
       "    name: print\n",
       "    product:\n",
       "      nb: 'output/{{some_param}}/notebook.ipynb'\n",
       "    papermill_params:\n",
       "        log_output: True\n",
       "    params:\n",
       "      some_param: '{{some_param}}'\n",
       "```\n"
      ],
      "text/plain": [
       "<IPython.core.display.Markdown object>"
      ]
     },
     "metadata": {},
     "output_type": "display_data"
    }
   ],
   "source": [
    "display_file('pipeline.yaml')"
   ]
  },
  {
   "cell_type": "markdown",
   "id": "447571a2",
   "metadata": {
    "papermill": {
     "duration": 0.0123,
     "end_time": "2021-09-19T22:23:03.968781",
     "exception": false,
     "start_time": "2021-09-19T22:23:03.956481",
     "status": "completed"
    },
    "tags": []
   },
   "source": [
    "The `pipeline.yaml` above has a placeholder called `some_param`. It is coming from a file called `env.yaml`:"
   ]
  },
  {
   "cell_type": "code",
   "execution_count": 3,
   "id": "014ead90",
   "metadata": {
    "execution": {
     "iopub.execute_input": "2021-09-19T22:23:04.000484Z",
     "iopub.status.busy": "2021-09-19T22:23:03.999625Z",
     "iopub.status.idle": "2021-09-19T22:23:04.003450Z",
     "shell.execute_reply": "2021-09-19T22:23:04.004159Z"
    },
    "papermill": {
     "duration": 0.022024,
     "end_time": "2021-09-19T22:23:04.004425",
     "exception": false,
     "start_time": "2021-09-19T22:23:03.982401",
     "status": "completed"
    },
    "tags": []
   },
   "outputs": [
    {
     "data": {
      "text/markdown": [
       "\n",
       "```yaml\n",
       "some_param: default_value\n",
       "```\n"
      ],
      "text/plain": [
       "<IPython.core.display.Markdown object>"
      ]
     },
     "metadata": {},
     "output_type": "display_data"
    }
   ],
   "source": [
    "display_file('env.yaml')"
   ]
  },
  {
   "cell_type": "markdown",
   "id": "66014f35",
   "metadata": {
    "papermill": {
     "duration": 0.014365,
     "end_time": "2021-09-19T22:23:04.033308",
     "exception": false,
     "start_time": "2021-09-19T22:23:04.018943",
     "status": "completed"
    },
    "tags": []
   },
   "source": [
    "When reading your `pipeline.yaml`, Ploomber looks for an `env.yaml` file. If found, all defined keys will be available to your pipeline definition. You can use these placeholders (placeholders are strings between double curly brackets) in any of the fields of your `pipeline.yaml` file.\n",
    "\n",
    "In our case, we are using it in two places. First, we will save the executed notebook in a folder with the value of `some_param`; this will allow you to keep copies of the generated output in a different folder depending on your parameter. Second, if we want to use the parameter in our code, we have to pass it to our tasks; all tasks take an optional `params` with arbitrary parameters.\n",
    "\n",
    "Let's see how the code looks like:"
   ]
  },
  {
   "cell_type": "code",
   "execution_count": 4,
   "id": "0f9c1522",
   "metadata": {
    "execution": {
     "iopub.execute_input": "2021-09-19T22:23:04.066159Z",
     "iopub.status.busy": "2021-09-19T22:23:04.065350Z",
     "iopub.status.idle": "2021-09-19T22:23:04.069440Z",
     "shell.execute_reply": "2021-09-19T22:23:04.070033Z"
    },
    "papermill": {
     "duration": 0.023081,
     "end_time": "2021-09-19T22:23:04.070294",
     "exception": false,
     "start_time": "2021-09-19T22:23:04.047213",
     "status": "completed"
    },
    "tags": []
   },
   "outputs": [
    {
     "data": {
      "text/markdown": [
       "\n",
       "```py\n",
       "# + tags=[\"parameters\"]\n",
       "upstream = None\n",
       "product = None\n",
       "some_param = None\n",
       "\n",
       "# +\n",
       "print('some_param: ', some_param, ' type: ', type(some_param))\n",
       "```\n"
      ],
      "text/plain": [
       "<IPython.core.display.Markdown object>"
      ]
     },
     "metadata": {},
     "output_type": "display_data"
    }
   ],
   "source": [
    "display_file('print.py')"
   ]
  },
  {
   "cell_type": "markdown",
   "id": "147559a6",
   "metadata": {
    "papermill": {
     "duration": 0.014547,
     "end_time": "2021-09-19T22:23:04.098973",
     "exception": false,
     "start_time": "2021-09-19T22:23:04.084426",
     "status": "completed"
    },
    "tags": []
   },
   "source": [
    "Our task is a Python script, meaning that parameters are passed as an injected cell at runtime. Let's see what happens if we build our pipeline."
   ]
  },
  {
   "cell_type": "code",
   "execution_count": 5,
   "id": "077c9eea",
   "metadata": {
    "execution": {
     "iopub.execute_input": "2021-09-19T22:23:04.134900Z",
     "iopub.status.busy": "2021-09-19T22:23:04.133845Z",
     "iopub.status.idle": "2021-09-19T22:23:07.717612Z",
     "shell.execute_reply": "2021-09-19T22:23:07.718174Z"
    },
    "papermill": {
     "duration": 3.604729,
     "end_time": "2021-09-19T22:23:07.718446",
     "exception": false,
     "start_time": "2021-09-19T22:23:04.113717",
     "status": "completed"
    },
    "tags": []
   },
   "outputs": [],
   "source": [
    "%%capture captured\n",
    "%%sh\n",
    "ploomber build --force --log INFO"
   ]
  },
  {
   "cell_type": "code",
   "execution_count": 6,
   "id": "aa0d1f3c",
   "metadata": {
    "execution": {
     "iopub.execute_input": "2021-09-19T22:23:07.753532Z",
     "iopub.status.busy": "2021-09-19T22:23:07.752581Z",
     "iopub.status.idle": "2021-09-19T22:23:07.756157Z",
     "shell.execute_reply": "2021-09-19T22:23:07.756840Z"
    },
    "papermill": {
     "duration": 0.024124,
     "end_time": "2021-09-19T22:23:07.757051",
     "exception": false,
     "start_time": "2021-09-19T22:23:07.732927",
     "status": "completed"
    },
    "tags": []
   },
   "outputs": [
    {
     "name": "stdout",
     "output_type": "stream",
     "text": [
      "INFO:papermill:some_param:  default_value  type:  <class 'str'>\n"
     ]
    }
   ],
   "source": [
    "filter_output(captured, startswith='INFO:papermill:some_param')"
   ]
  },
  {
   "cell_type": "markdown",
   "id": "c3054f3d",
   "metadata": {
    "papermill": {
     "duration": 0.013463,
     "end_time": "2021-09-19T22:23:07.785558",
     "exception": false,
     "start_time": "2021-09-19T22:23:07.772095",
     "status": "completed"
    },
    "tags": []
   },
   "source": [
    "We see that our param `some_param` is taking the default value (`default_value`) as defined in `env.yaml`. The command-line interface is aware of any parameters. You can see them using the `--help` option:"
   ]
  },
  {
   "cell_type": "code",
   "execution_count": 7,
   "id": "5b9b3e86",
   "metadata": {
    "execution": {
     "iopub.execute_input": "2021-09-19T22:23:07.821213Z",
     "iopub.status.busy": "2021-09-19T22:23:07.818645Z",
     "iopub.status.idle": "2021-09-19T22:23:09.933397Z",
     "shell.execute_reply": "2021-09-19T22:23:09.934134Z"
    },
    "papermill": {
     "duration": 2.134471,
     "end_time": "2021-09-19T22:23:09.934388",
     "exception": false,
     "start_time": "2021-09-19T22:23:07.799917",
     "status": "completed"
    },
    "tags": []
   },
   "outputs": [
    {
     "name": "stdout",
     "output_type": "stream",
     "text": [
      "usage: ploomber [-h] [--log LOG] [--entry-point ENTRY_POINT] [--force]\n",
      "                [--skip-upstream] [--partially PARTIALLY] [--debug]\n",
      "                [--env--some_param ENV__SOME_PARAM]\n",
      "\n",
      "Build pipeline\n",
      "\n",
      "optional arguments:\n",
      "  -h, --help            show this help message and exit\n",
      "  --log LOG, -l LOG     Enables logging to stdout at the specified level\n",
      "  --entry-point ENTRY_POINT, -e ENTRY_POINT\n",
      "                        Entry point, defaults to pipeline.yaml\n",
      "  --force, -f           Force execution by ignoring status\n",
      "  --skip-upstream, -su  Skip building upstream dependencies. Only applicable\n",
      "                        when using --partially\n",
      "  --partially PARTIALLY, -p PARTIALLY\n",
      "                        Build a pipeline partially until certain task\n",
      "  --debug, -d           Drop a debugger session if an exception happens\n",
      "  --env--some_param ENV__SOME_PARAM\n",
      "                        Default: default_value\n"
     ]
    }
   ],
   "source": [
    "%%sh\n",
    "ploomber build --help"
   ]
  },
  {
   "cell_type": "markdown",
   "id": "e05812e4",
   "metadata": {
    "papermill": {
     "duration": 0.01479,
     "end_time": "2021-09-19T22:23:09.963786",
     "exception": false,
     "start_time": "2021-09-19T22:23:09.948996",
     "status": "completed"
    },
    "tags": []
   },
   "source": [
    "Apart from the default parameters from the `ploomber build` command, Ploomber automatically adds any parameters from `env.yaml`, we can easily override the default value. Let's do that:"
   ]
  },
  {
   "cell_type": "code",
   "execution_count": 8,
   "id": "cbf6723f",
   "metadata": {
    "execution": {
     "iopub.execute_input": "2021-09-19T22:23:10.006130Z",
     "iopub.status.busy": "2021-09-19T22:23:10.002804Z",
     "iopub.status.idle": "2021-09-19T22:23:13.696993Z",
     "shell.execute_reply": "2021-09-19T22:23:13.697650Z"
    },
    "papermill": {
     "duration": 3.718906,
     "end_time": "2021-09-19T22:23:13.697972",
     "exception": false,
     "start_time": "2021-09-19T22:23:09.979066",
     "status": "completed"
    },
    "tags": []
   },
   "outputs": [],
   "source": [
    "%%capture captured\n",
    "%%sh\n",
    "ploomber build --force --env--some_param another_value --log INFO"
   ]
  },
  {
   "cell_type": "code",
   "execution_count": 9,
   "id": "ba1a7d0e",
   "metadata": {
    "execution": {
     "iopub.execute_input": "2021-09-19T22:23:13.734142Z",
     "iopub.status.busy": "2021-09-19T22:23:13.733163Z",
     "iopub.status.idle": "2021-09-19T22:23:13.737009Z",
     "shell.execute_reply": "2021-09-19T22:23:13.737605Z"
    },
    "papermill": {
     "duration": 0.025347,
     "end_time": "2021-09-19T22:23:13.737842",
     "exception": false,
     "start_time": "2021-09-19T22:23:13.712495",
     "status": "completed"
    },
    "tags": []
   },
   "outputs": [
    {
     "name": "stdout",
     "output_type": "stream",
     "text": [
      "INFO:papermill:some_param:  another_value  type:  <class 'str'>\n"
     ]
    }
   ],
   "source": [
    "filter_output(captured, startswith='INFO:papermill:some_param')"
   ]
  },
  {
   "cell_type": "markdown",
   "id": "ea25771c",
   "metadata": {
    "papermill": {
     "duration": 0.014423,
     "end_time": "2021-09-19T22:23:13.767247",
     "exception": false,
     "start_time": "2021-09-19T22:23:13.752824",
     "status": "completed"
    },
    "tags": []
   },
   "source": [
    "We see that our task effectively changed the value!\n",
    "\n",
    "Finally, let's see how the `output/` folder looks like:"
   ]
  },
  {
   "cell_type": "code",
   "execution_count": 10,
   "id": "5e555ae5",
   "metadata": {
    "execution": {
     "iopub.execute_input": "2021-09-19T22:23:13.807011Z",
     "iopub.status.busy": "2021-09-19T22:23:13.806100Z",
     "iopub.status.idle": "2021-09-19T22:23:13.863526Z",
     "shell.execute_reply": "2021-09-19T22:23:13.864037Z"
    },
    "papermill": {
     "duration": 0.081549,
     "end_time": "2021-09-19T22:23:13.864265",
     "exception": false,
     "start_time": "2021-09-19T22:23:13.782716",
     "status": "completed"
    },
    "tags": []
   },
   "outputs": [
    {
     "name": "stdout",
     "output_type": "stream",
     "text": [
      "output\n",
      "├── another_value\n",
      "│   └── notebook.ipynb\n",
      "└── default_value\n",
      "    └── notebook.ipynb\n",
      "\n",
      "2 directories, 2 files\n"
     ]
    }
   ],
   "source": [
    "%%sh\n",
    "tree output"
   ]
  },
  {
   "cell_type": "markdown",
   "id": "6d48c33a",
   "metadata": {
    "papermill": {
     "duration": 0.016565,
     "end_time": "2021-09-19T22:23:13.896324",
     "exception": false,
     "start_time": "2021-09-19T22:23:13.879759",
     "status": "completed"
    },
    "tags": []
   },
   "source": [
    "\n",
    "We have separate folders for each parameter, helping to keep things organized and taking the looping logic out of our pipeline.\n",
    "\n",
    "\n",
    "### Notes\n",
    "\n",
    "* There are some built-in placeholders that you can use without having an `env.yaml` file. For example, `{{here}}` will expand to the `pipeline.yaml` parent directory. [Check out the Spec API documentation](https://ploomber.readthedocs.io/en/latest/api/spec.html#default-placeholders) for more information.\n",
    "* This example uses a Python script as a task. In SQL pipeline, you can achieve the same effect by using the placeholder in the product's schema or a table/view name prefix.\n",
    "* If the parameter takes many different values and you want to run your pipeline using all of them, calling them by hand might get tedious. So you have two options 1) write a  bash script that calls the CLI with different value parameters or 2) Use the Python API (everything that the CLI can do, you can do with Python directly), take a look at the `DAGSpec` documentation.\n",
    "* Parametrized `pipeline.yaml` files are a great way to simplify a task's logic but not overdo it. If you find yourself adding too many parameters, it's a better idea to use the Python AP directly; factory functions are the correct pattern for highly customized pipeline construction.\n",
    "* Given that the two pipelines are entirely independent, we could even run them in parallel.\n",
    "\n",
    "\n",
    "## Python API (factory functions)\n",
    "\n",
    "Parametrization is straightforward when using a factory function. If your\n",
    "factory takes parameters, they'll also be available in the command-line interface. Types are inferred from [type hints](https://docs.python.org/3/library/typing.html). Let's see an example:"
   ]
  },
  {
   "cell_type": "code",
   "execution_count": 11,
   "id": "e0c5fd67",
   "metadata": {
    "execution": {
     "iopub.execute_input": "2021-09-19T22:23:13.935001Z",
     "iopub.status.busy": "2021-09-19T22:23:13.932135Z",
     "iopub.status.idle": "2021-09-19T22:23:13.937890Z",
     "shell.execute_reply": "2021-09-19T22:23:13.938398Z"
    },
    "papermill": {
     "duration": 0.024797,
     "end_time": "2021-09-19T22:23:13.938655",
     "exception": false,
     "start_time": "2021-09-19T22:23:13.913858",
     "status": "completed"
    },
    "tags": []
   },
   "outputs": [
    {
     "data": {
      "text/markdown": [
       "\n",
       "```py\n",
       "from ploomber import DAG\n",
       "\n",
       "\n",
       "def make(param: str, another: int = 10):\n",
       "    dag = DAG()\n",
       "    # add tasks to your pipeline...\n",
       "    return dag\n",
       "```\n"
      ],
      "text/plain": [
       "<IPython.core.display.Markdown object>"
      ]
     },
     "metadata": {},
     "output_type": "display_data"
    }
   ],
   "source": [
    "display_file('factory.py')"
   ]
  },
  {
   "cell_type": "markdown",
   "id": "6b3da381",
   "metadata": {
    "papermill": {
     "duration": 0.016022,
     "end_time": "2021-09-19T22:23:13.971612",
     "exception": false,
     "start_time": "2021-09-19T22:23:13.955590",
     "status": "completed"
    },
    "tags": []
   },
   "source": [
    "Our function takes two parameters: `param` and `another`. Parameters with no default values (`param`) turn into positional arguments, and function parameters with default values convert\n",
    "to optional parameters (`another`). To see the same auto-generated API, you can use the `--help` command:"
   ]
  },
  {
   "cell_type": "code",
   "execution_count": 12,
   "id": "43051c4a",
   "metadata": {
    "execution": {
     "iopub.execute_input": "2021-09-19T22:23:14.011754Z",
     "iopub.status.busy": "2021-09-19T22:23:14.009127Z",
     "iopub.status.idle": "2021-09-19T22:23:16.089530Z",
     "shell.execute_reply": "2021-09-19T22:23:16.090067Z"
    },
    "papermill": {
     "duration": 2.102956,
     "end_time": "2021-09-19T22:23:16.090310",
     "exception": false,
     "start_time": "2021-09-19T22:23:13.987354",
     "status": "completed"
    },
    "tags": []
   },
   "outputs": [
    {
     "name": "stdout",
     "output_type": "stream",
     "text": [
      "usage: ploomber [-h] [--log LOG] [--entry-point ENTRY_POINT] [--force]\n",
      "                [--skip-upstream] [--partially PARTIALLY] [--debug]\n",
      "                [--another ANOTHER]\n",
      "                param\n",
      "\n",
      "Build pipeline\n",
      "\n",
      "positional arguments:\n",
      "  param\n",
      "\n",
      "optional arguments:\n",
      "  -h, --help            show this help message and exit\n",
      "  --log LOG, -l LOG     Enables logging to stdout at the specified level\n",
      "  --entry-point ENTRY_POINT, -e ENTRY_POINT\n",
      "                        Entry point, defaults to pipeline.yaml\n",
      "  --force, -f           Force execution by ignoring status\n",
      "  --skip-upstream, -su  Skip building upstream dependencies. Only applicable\n",
      "                        when using --partially\n",
      "  --partially PARTIALLY, -p PARTIALLY\n",
      "                        Build a pipeline partially until certain task\n",
      "  --debug, -d           Drop a debugger session if an exception happens\n",
      "  --another ANOTHER\n"
     ]
    }
   ],
   "source": [
    "%%sh\n",
    "ploomber build --entry-point factory.make --help"
   ]
  },
  {
   "cell_type": "markdown",
   "id": "b5ee0a35",
   "metadata": {
    "papermill": {
     "duration": 0.018025,
     "end_time": "2021-09-19T22:23:16.125934",
     "exception": false,
     "start_time": "2021-09-19T22:23:16.107909",
     "status": "completed"
    },
    "tags": []
   },
   "source": [
    "Note that the Python API requires more work than a `pipeline.yaml` file, but it is more flexible. [Click here] to see [examples](https://github.com/ploomber/projects/tree/master/python-api-examples) using the Python API."
   ]
  }
 ],
 "metadata": {
  "jupytext": {
   "cell_metadata_filter": "-all",
   "main_language": "python",
   "notebook_metadata_filter": "-all"
  },
  "kernelspec": {
   "display_name": "Python 3 (ipykernel)",
   "language": "python",
   "name": "python3"
  },
  "language_info": {
   "codemirror_mode": {
    "name": "ipython",
    "version": 3
   },
   "file_extension": ".py",
   "mimetype": "text/x-python",
   "name": "python",
   "nbconvert_exporter": "python",
   "pygments_lexer": "ipython3",
   "version": "3.7.10"
  },
  "papermill": {
   "duration": 15.107726,
   "end_time": "2021-09-19T22:23:16.630490",
   "exception": null,
   "input_path": "/var/folders/3h/_lvh_w_x5g30rrjzb_xnn2j80000gq/T/tmpsnoyprp1.ipynb",
   "output_path": "parametrized/README.ipynb",
   "parameters": {
    "product": "parametrized/README.ipynb"
   },
   "start_time": "2021-09-19T22:23:01.522764"
  }
 },
 "nbformat": 4,
 "nbformat_minor": 5
}
