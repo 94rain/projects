{
 "cells": [
  {
   "cell_type": "markdown",
   "id": "numerical-mainland",
   "metadata": {
    "papermill": {
     "duration": 0.014359,
     "end_time": "2021-03-10T15:21:19.143398",
     "exception": false,
     "start_time": "2021-03-10T15:21:19.129039",
     "status": "completed"
    },
    "tags": []
   },
   "source": [
    "\n",
    "*Note:* You can run this from your computer (Jupyter or terminal), or use one of the\n",
    "hosted options:\n",
    "\n",
    "[![binder-logo](https://mybinder.org/badge_logo.svg)](https://mybinder.org/v2/gh/ploomber/binder-env/main?urlpath=git-pull%3Frepo%3Dhttps%253A%252F%252Fgithub.com%252Fploomber%252Fprojects%26urlpath%3Dlab%252Ftree%252Fprojects%252Fparametrized%252FREADME.ipynb%26branch%3Dmaster)\n",
    "\n",
    "[![deepnote-logo](https://deepnote.com/buttons/launch-in-deepnote-small.svg)](https://deepnote.com/launch?template=deepnote&url=https://github.com/ploomber/projects/blob/master/parametrized/README.ipynb)\n"
   ]
  },
  {
   "cell_type": "markdown",
   "id": "advisory-marking",
   "metadata": {
    "papermill": {
     "duration": 0.012456,
     "end_time": "2021-03-10T15:21:19.167565",
     "exception": false,
     "start_time": "2021-03-10T15:21:19.155109",
     "status": "completed"
    },
    "tags": []
   },
   "source": [
    "# Parametrized pipelines"
   ]
  },
  {
   "cell_type": "markdown",
   "id": "understanding-gnome",
   "metadata": {
    "papermill": {
     "duration": 0.012042,
     "end_time": "2021-03-10T15:21:19.191592",
     "exception": false,
     "start_time": "2021-03-10T15:21:19.179550",
     "status": "completed"
    },
    "tags": []
   },
   "source": [
    "Often, pipelines perform the same operation over different subsets of the data. For example, say you are developing visualizations of economic data. You might want to generate the same charts for different countries. \n",
    "\n",
    "One way to approach the problem is to have a for loop on each pipeline task to process all countries you need. But such approach adds unnecessary complexity to our code, it's better to keep our logic simple (each task processes a single country) and take the iterative logic out of our pipeline.\n",
    "\n",
    "Ploomber allows you to do so using parametrized pipelines. Let's see a sample `pipeline.yaml`."
   ]
  },
  {
   "cell_type": "markdown",
   "id": "unauthorized-meaning",
   "metadata": {
    "papermill": {
     "duration": 0.010819,
     "end_time": "2021-03-10T15:21:19.213377",
     "exception": false,
     "start_time": "2021-03-10T15:21:19.202558",
     "status": "completed"
    },
    "tags": []
   },
   "source": [
    "## Spec (``pipeline.yaml``)"
   ]
  },
  {
   "cell_type": "code",
   "execution_count": 1,
   "id": "peripheral-integrity",
   "metadata": {
    "execution": {
     "iopub.execute_input": "2021-03-10T15:21:19.241362Z",
     "iopub.status.busy": "2021-03-10T15:21:19.240606Z",
     "iopub.status.idle": "2021-03-10T15:21:20.747878Z",
     "shell.execute_reply": "2021-03-10T15:21:20.748370Z"
    },
    "papermill": {
     "duration": 1.523341,
     "end_time": "2021-03-10T15:21:20.748729",
     "exception": false,
     "start_time": "2021-03-10T15:21:19.225388",
     "status": "completed"
    },
    "tags": []
   },
   "outputs": [],
   "source": [
    "from ploomberutils import display_file, filter_output"
   ]
  },
  {
   "cell_type": "code",
   "execution_count": 2,
   "id": "double-doubt",
   "metadata": {
    "execution": {
     "iopub.execute_input": "2021-03-10T15:21:20.780362Z",
     "iopub.status.busy": "2021-03-10T15:21:20.779518Z",
     "iopub.status.idle": "2021-03-10T15:21:20.788913Z",
     "shell.execute_reply": "2021-03-10T15:21:20.789399Z"
    },
    "papermill": {
     "duration": 0.029518,
     "end_time": "2021-03-10T15:21:20.789642",
     "exception": false,
     "start_time": "2021-03-10T15:21:20.760124",
     "status": "completed"
    },
    "tags": []
   },
   "outputs": [
    {
     "data": {
      "text/markdown": [
       "\n",
       "```yaml\n",
       "tasks:\n",
       "  - source: print.py\n",
       "    name: print\n",
       "    product:\n",
       "      nb: 'output/{{some_param}}/notebook.ipynb'\n",
       "    papermill_params:\n",
       "        log_output: True\n",
       "    params:\n",
       "      some_param: '{{some_param}}'\n",
       "```\n"
      ],
      "text/plain": [
       "<IPython.core.display.Markdown object>"
      ]
     },
     "metadata": {},
     "output_type": "display_data"
    }
   ],
   "source": [
    "display_file('pipeline.yaml')"
   ]
  },
  {
   "cell_type": "markdown",
   "id": "moving-developer",
   "metadata": {
    "papermill": {
     "duration": 0.01122,
     "end_time": "2021-03-10T15:21:20.813285",
     "exception": false,
     "start_time": "2021-03-10T15:21:20.802065",
     "status": "completed"
    },
    "tags": []
   },
   "source": [
    "The `pipeline.yaml` above has a placeholder called `some_param`. It is coming from a file called `env.yaml`:"
   ]
  },
  {
   "cell_type": "code",
   "execution_count": 3,
   "id": "romantic-voice",
   "metadata": {
    "execution": {
     "iopub.execute_input": "2021-03-10T15:21:20.839820Z",
     "iopub.status.busy": "2021-03-10T15:21:20.838990Z",
     "iopub.status.idle": "2021-03-10T15:21:20.842726Z",
     "shell.execute_reply": "2021-03-10T15:21:20.843364Z"
    },
    "papermill": {
     "duration": 0.019063,
     "end_time": "2021-03-10T15:21:20.843596",
     "exception": false,
     "start_time": "2021-03-10T15:21:20.824533",
     "status": "completed"
    },
    "tags": []
   },
   "outputs": [
    {
     "data": {
      "text/markdown": [
       "\n",
       "```yaml\n",
       "some_param: default_value\n",
       "```\n"
      ],
      "text/plain": [
       "<IPython.core.display.Markdown object>"
      ]
     },
     "metadata": {},
     "output_type": "display_data"
    }
   ],
   "source": [
    "display_file('env.yaml')"
   ]
  },
  {
   "cell_type": "markdown",
   "id": "dental-humor",
   "metadata": {
    "papermill": {
     "duration": 0.013904,
     "end_time": "2021-03-10T15:21:20.870716",
     "exception": false,
     "start_time": "2021-03-10T15:21:20.856812",
     "status": "completed"
    },
    "tags": []
   },
   "source": [
    "When assembling your pipeline, Ploomber looks for an `env.yaml` file. If found, all defined keys will be available to your pipeline definition. You can use these placeholders (placeholders are strings between double curly brackets) in any of the fields of your `pipeline.yaml` file.\n",
    "\n",
    "In our case, we are using it in two places. First, we are going to save the executed notebook in a folder with the value of `some_param`. This will allow you to keep copies of the generated output in a different folder depending on your parameter. Second, if we want to use the parameter in our code, we have to pass it to our tasks, all tasks take an optional `params` with arbitrary parameters.\n",
    "\n",
    "Let's see how the code looks like:"
   ]
  },
  {
   "cell_type": "code",
   "execution_count": 4,
   "id": "australian-habitat",
   "metadata": {
    "execution": {
     "iopub.execute_input": "2021-03-10T15:21:20.901905Z",
     "iopub.status.busy": "2021-03-10T15:21:20.901148Z",
     "iopub.status.idle": "2021-03-10T15:21:20.904843Z",
     "shell.execute_reply": "2021-03-10T15:21:20.905350Z"
    },
    "papermill": {
     "duration": 0.02079,
     "end_time": "2021-03-10T15:21:20.905600",
     "exception": false,
     "start_time": "2021-03-10T15:21:20.884810",
     "status": "completed"
    },
    "tags": []
   },
   "outputs": [
    {
     "data": {
      "text/markdown": [
       "\n",
       "```py\n",
       "# + tags=[\"parameters\"]\n",
       "upstream = None\n",
       "product = None\n",
       "some_param = None\n",
       "\n",
       "# +\n",
       "print('some_param: ', some_param, ' type: ', type(some_param))\n",
       "\n",
       "```\n"
      ],
      "text/plain": [
       "<IPython.core.display.Markdown object>"
      ]
     },
     "metadata": {},
     "output_type": "display_data"
    }
   ],
   "source": [
    "display_file('print.py')"
   ]
  },
  {
   "cell_type": "markdown",
   "id": "auburn-curve",
   "metadata": {
    "papermill": {
     "duration": 0.011709,
     "end_time": "2021-03-10T15:21:20.929720",
     "exception": false,
     "start_time": "2021-03-10T15:21:20.918011",
     "status": "completed"
    },
    "tags": []
   },
   "source": [
    "Our task is a Python script. This means parameters are passed as an injected cell at runtime. Let's see what happens if we build our pipeline."
   ]
  },
  {
   "cell_type": "code",
   "execution_count": 5,
   "id": "fantastic-georgia",
   "metadata": {
    "execution": {
     "iopub.execute_input": "2021-03-10T15:21:20.959805Z",
     "iopub.status.busy": "2021-03-10T15:21:20.958735Z",
     "iopub.status.idle": "2021-03-10T15:21:25.952111Z",
     "shell.execute_reply": "2021-03-10T15:21:25.952708Z"
    },
    "papermill": {
     "duration": 5.011371,
     "end_time": "2021-03-10T15:21:25.953048",
     "exception": false,
     "start_time": "2021-03-10T15:21:20.941677",
     "status": "completed"
    },
    "tags": []
   },
   "outputs": [],
   "source": [
    "%%capture captured\n",
    "%%sh\n",
    "ploomber build --force --log INFO"
   ]
  },
  {
   "cell_type": "code",
   "execution_count": 6,
   "id": "norwegian-durham",
   "metadata": {
    "execution": {
     "iopub.execute_input": "2021-03-10T15:21:25.984488Z",
     "iopub.status.busy": "2021-03-10T15:21:25.983501Z",
     "iopub.status.idle": "2021-03-10T15:21:25.986629Z",
     "shell.execute_reply": "2021-03-10T15:21:25.987243Z"
    },
    "papermill": {
     "duration": 0.021006,
     "end_time": "2021-03-10T15:21:25.987461",
     "exception": false,
     "start_time": "2021-03-10T15:21:25.966455",
     "status": "completed"
    },
    "tags": []
   },
   "outputs": [
    {
     "name": "stdout",
     "output_type": "stream",
     "text": [
      "INFO:papermill:some_param:  default_value  type:  <class 'str'>\n"
     ]
    }
   ],
   "source": [
    "filter_output(captured, startswith='INFO:papermill:some_param')"
   ]
  },
  {
   "cell_type": "markdown",
   "id": "determined-rotation",
   "metadata": {
    "papermill": {
     "duration": 0.012931,
     "end_time": "2021-03-10T15:21:26.014141",
     "exception": false,
     "start_time": "2021-03-10T15:21:26.001210",
     "status": "completed"
    },
    "tags": []
   },
   "source": [
    "We see that our param `some_param` is taking the default value (`default_value`) as defined in `env.yaml`. The command line interface is aware of any parameters, you can see them using the `--help` option:"
   ]
  },
  {
   "cell_type": "code",
   "execution_count": 7,
   "id": "cognitive-knife",
   "metadata": {
    "execution": {
     "iopub.execute_input": "2021-03-10T15:21:26.045446Z",
     "iopub.status.busy": "2021-03-10T15:21:26.044795Z",
     "iopub.status.idle": "2021-03-10T15:21:28.784140Z",
     "shell.execute_reply": "2021-03-10T15:21:28.784648Z"
    },
    "papermill": {
     "duration": 2.756802,
     "end_time": "2021-03-10T15:21:28.784895",
     "exception": false,
     "start_time": "2021-03-10T15:21:26.028093",
     "status": "completed"
    },
    "tags": []
   },
   "outputs": [
    {
     "name": "stdout",
     "output_type": "stream",
     "text": [
      "usage: ploomber [-h] [--log LOG] [--entry-point ENTRY_POINT] [--force]\n",
      "                [--partially PARTIALLY] [--debug]\n",
      "                [--env--some_param ENV__SOME_PARAM]\n",
      "\n",
      "Build pipeline\n",
      "\n",
      "optional arguments:\n",
      "  -h, --help            show this help message and exit\n",
      "  --log LOG, -l LOG     Enables logging to stdout at the specified level\n",
      "  --entry-point ENTRY_POINT, -e ENTRY_POINT\n",
      "                        Entry point, defaults to pipeline.yaml\n",
      "  --force, -f           Force execution by ignoring status\n",
      "  --partially PARTIALLY, -p PARTIALLY\n",
      "                        Build a pipeline partially until certain task\n",
      "  --debug, -d           Drop a debugger session if an exception happens\n",
      "  --env--some_param ENV__SOME_PARAM\n",
      "                        Default: default_value\n"
     ]
    }
   ],
   "source": [
    "%%sh\n",
    "ploomber build --help"
   ]
  },
  {
   "cell_type": "markdown",
   "id": "increasing-chancellor",
   "metadata": {
    "papermill": {
     "duration": 0.01353,
     "end_time": "2021-03-10T15:21:28.811747",
     "exception": false,
     "start_time": "2021-03-10T15:21:28.798217",
     "status": "completed"
    },
    "tags": []
   },
   "source": [
    "Apart from the default parameters from the `ploomber build` command, Ploomber automatically adds any parameters from `env.yaml`, we can easily override the default value, let's do that:"
   ]
  },
  {
   "cell_type": "code",
   "execution_count": 8,
   "id": "focused-worthy",
   "metadata": {
    "execution": {
     "iopub.execute_input": "2021-03-10T15:21:28.848573Z",
     "iopub.status.busy": "2021-03-10T15:21:28.847705Z",
     "iopub.status.idle": "2021-03-10T15:21:32.910069Z",
     "shell.execute_reply": "2021-03-10T15:21:32.910510Z"
    },
    "papermill": {
     "duration": 4.08502,
     "end_time": "2021-03-10T15:21:32.910787",
     "exception": false,
     "start_time": "2021-03-10T15:21:28.825767",
     "status": "completed"
    },
    "tags": []
   },
   "outputs": [],
   "source": [
    "%%capture captured\n",
    "%%sh\n",
    "ploomber build --force --env--some_param another_value --log INFO"
   ]
  },
  {
   "cell_type": "code",
   "execution_count": 9,
   "id": "south-costs",
   "metadata": {
    "execution": {
     "iopub.execute_input": "2021-03-10T15:21:32.943786Z",
     "iopub.status.busy": "2021-03-10T15:21:32.943051Z",
     "iopub.status.idle": "2021-03-10T15:21:32.945634Z",
     "shell.execute_reply": "2021-03-10T15:21:32.946091Z"
    },
    "papermill": {
     "duration": 0.021179,
     "end_time": "2021-03-10T15:21:32.946293",
     "exception": false,
     "start_time": "2021-03-10T15:21:32.925114",
     "status": "completed"
    },
    "tags": []
   },
   "outputs": [
    {
     "name": "stdout",
     "output_type": "stream",
     "text": [
      "INFO:papermill:some_param:  another_value  type:  <class 'str'>\n"
     ]
    }
   ],
   "source": [
    "filter_output(captured, startswith='INFO:papermill:some_param')"
   ]
  },
  {
   "cell_type": "markdown",
   "id": "first-century",
   "metadata": {
    "papermill": {
     "duration": 0.013291,
     "end_time": "2021-03-10T15:21:32.974011",
     "exception": false,
     "start_time": "2021-03-10T15:21:32.960720",
     "status": "completed"
    },
    "tags": []
   },
   "source": [
    "We see that our task, effectively changed the value!\n",
    "\n",
    "Finally, let's see how the `output/` folder looks like:"
   ]
  },
  {
   "cell_type": "code",
   "execution_count": 10,
   "id": "daily-annual",
   "metadata": {
    "execution": {
     "iopub.execute_input": "2021-03-10T15:21:33.007664Z",
     "iopub.status.busy": "2021-03-10T15:21:33.004760Z",
     "iopub.status.idle": "2021-03-10T15:21:33.052484Z",
     "shell.execute_reply": "2021-03-10T15:21:33.052977Z"
    },
    "papermill": {
     "duration": 0.06586,
     "end_time": "2021-03-10T15:21:33.053217",
     "exception": false,
     "start_time": "2021-03-10T15:21:32.987357",
     "status": "completed"
    },
    "tags": []
   },
   "outputs": [
    {
     "name": "stdout",
     "output_type": "stream",
     "text": [
      "output\n",
      "├── another_value\n",
      "│   └── notebook.ipynb\n",
      "└── default_value\n",
      "    └── notebook.ipynb\n",
      "\n",
      "2 directories, 2 files\n"
     ]
    }
   ],
   "source": [
    "%%sh\n",
    "tree output"
   ]
  },
  {
   "cell_type": "markdown",
   "id": "formal-anthropology",
   "metadata": {
    "papermill": {
     "duration": 0.013866,
     "end_time": "2021-03-10T15:21:33.081118",
     "exception": false,
     "start_time": "2021-03-10T15:21:33.067252",
     "status": "completed"
    },
    "tags": []
   },
   "source": [
    "We have separate folders for each parameter, this helps keep things organized and takes the looping logic out of our pipeline.\n",
    "\n",
    "\n",
    "### Tips\n",
    "\n",
    "* This example uses a Python script as a task, in SQL pipeline, you can achieve the same effect (keeping output separate) by using the placeholder either in the product's schema or as a prefix in the table/view name\n",
    "* If the parameter takes a lot of different values and you want to run your pipeline using all of them, calling them by hand might get tedious. You have two options 1) write a  bash script that calls the CLI with different value parameters or 2) Use the Python API (everything that the CLI can do, you can do with Python directly), take a look at the `DAGSpec` documentation\n",
    "* Parametrized `pipeline.yaml` files are a great way to simplify task's logic but don't overdo it. If you find yourself adding too many parameters, it's a better idea to use the Python API directly. Factory function are the right pattern for highly customized pipeline construction\n",
    "* Given that the two pipelines are completely independent we could even run them in parallel to speed things up\n",
    "\n",
    "\n",
    "## Factory functions\n",
    "\n",
    "Parametrization is straightforward when using a factory function. If your\n",
    "factory takes parameters, they'll also be available in the command\n",
    "line interface. Types are inferred from [type hints](https://docs.python.org/3/library/typing.html). Let's see an example:"
   ]
  },
  {
   "cell_type": "code",
   "execution_count": 11,
   "id": "judicial-evanescence",
   "metadata": {
    "execution": {
     "iopub.execute_input": "2021-03-10T15:21:33.116819Z",
     "iopub.status.busy": "2021-03-10T15:21:33.116047Z",
     "iopub.status.idle": "2021-03-10T15:21:33.120020Z",
     "shell.execute_reply": "2021-03-10T15:21:33.120493Z"
    },
    "papermill": {
     "duration": 0.024207,
     "end_time": "2021-03-10T15:21:33.120765",
     "exception": false,
     "start_time": "2021-03-10T15:21:33.096558",
     "status": "completed"
    },
    "tags": []
   },
   "outputs": [
    {
     "data": {
      "text/markdown": [
       "\n",
       "```py\n",
       "from ploomber import DAG\n",
       "\n",
       "\n",
       "def make(param: str, another: int = 10):\n",
       "    dag = DAG()\n",
       "    # add tasks to your pipeline...\n",
       "    return dag\n",
       "\n",
       "```\n"
      ],
      "text/plain": [
       "<IPython.core.display.Markdown object>"
      ]
     },
     "metadata": {},
     "output_type": "display_data"
    }
   ],
   "source": [
    "display_file('factory.py')"
   ]
  },
  {
   "cell_type": "markdown",
   "id": "scheduled-premises",
   "metadata": {
    "papermill": {
     "duration": 0.014815,
     "end_time": "2021-03-10T15:21:33.149643",
     "exception": false,
     "start_time": "2021-03-10T15:21:33.134828",
     "status": "completed"
    },
    "tags": []
   },
   "source": [
    "Our function takes two parameters: `param` and `another`. Parameters with no default values (`param`) are converted to positional arguments and function parameters with default values are converted\n",
    "to optional parameters (`another`). To see the exact auto-generated API, you can use the `--help` command:"
   ]
  },
  {
   "cell_type": "code",
   "execution_count": 12,
   "id": "tested-headline",
   "metadata": {
    "execution": {
     "iopub.execute_input": "2021-03-10T15:21:33.187570Z",
     "iopub.status.busy": "2021-03-10T15:21:33.186715Z",
     "iopub.status.idle": "2021-03-10T15:21:35.817467Z",
     "shell.execute_reply": "2021-03-10T15:21:35.818146Z"
    },
    "papermill": {
     "duration": 2.653911,
     "end_time": "2021-03-10T15:21:35.818368",
     "exception": false,
     "start_time": "2021-03-10T15:21:33.164457",
     "status": "completed"
    },
    "tags": []
   },
   "outputs": [
    {
     "name": "stdout",
     "output_type": "stream",
     "text": [
      "usage: ploomber [-h] [--log LOG] [--entry-point ENTRY_POINT] [--force]\n",
      "                [--partially PARTIALLY] [--debug] [--another ANOTHER]\n",
      "                param\n",
      "\n",
      "Build pipeline\n",
      "\n",
      "positional arguments:\n",
      "  param\n",
      "\n",
      "optional arguments:\n",
      "  -h, --help            show this help message and exit\n",
      "  --log LOG, -l LOG     Enables logging to stdout at the specified level\n",
      "  --entry-point ENTRY_POINT, -e ENTRY_POINT\n",
      "                        Entry point, defaults to pipeline.yaml\n",
      "  --force, -f           Force execution by ignoring status\n",
      "  --partially PARTIALLY, -p PARTIALLY\n",
      "                        Build a pipeline partially until certain task\n",
      "  --debug, -d           Drop a debugger session if an exception happens\n",
      "  --another ANOTHER\n"
     ]
    }
   ],
   "source": [
    "%%sh\n",
    "ploomber build --entry-point factory.make --help"
   ]
  }
 ],
 "metadata": {
  "jupytext": {
   "cell_metadata_filter": "-all",
   "main_language": "python",
   "notebook_metadata_filter": "-all"
  },
  "kernelspec": {
   "display_name": "Python 3",
   "language": "python",
   "name": "python3"
  },
  "language_info": {
   "codemirror_mode": {
    "name": "ipython",
    "version": 3
   },
   "file_extension": ".py",
   "mimetype": "text/x-python",
   "name": "python",
   "nbconvert_exporter": "python",
   "pygments_lexer": "ipython3",
   "version": "3.8.6"
  },
  "papermill": {
   "duration": 18.007324,
   "end_time": "2021-03-10T15:21:36.312827",
   "exception": null,
   "input_path": "/var/folders/3h/_lvh_w_x5g30rrjzb_xnn2j80000gq/T/tmpl_0g0qxl.ipynb",
   "output_path": "../../projects-ploomber/parametrized/README.ipynb",
   "parameters": {
    "product": "../../projects-ploomber/parametrized/README.ipynb"
   },
   "start_time": "2021-03-10T15:21:18.305503"
  }
 },
 "nbformat": 4,
 "nbformat_minor": 5
}
