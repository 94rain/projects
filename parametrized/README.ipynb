{
 "cells": [
  {
   "cell_type": "markdown",
   "id": "d8e1ba3f",
   "metadata": {
    "papermill": {
     "duration": 0.016071,
     "end_time": "2021-09-08T01:36:27.680328",
     "exception": false,
     "start_time": "2021-09-08T01:36:27.664257",
     "status": "completed"
    },
    "tags": []
   },
   "source": [
    "\n",
    "*Note:* You can run this from your computer (Jupyter or terminal), or use one of the\n",
    "hosted options:\n",
    "\n",
    "[![binder-logo](https://mybinder.org/badge_logo.svg)](https://mybinder.org/v2/gh/ploomber/binder-env/main?urlpath=git-pull%3Frepo%3Dhttps%253A%252F%252Fgithub.com%252Fploomber%252Fprojects%26urlpath%3Dlab%252Ftree%252Fprojects%252Fparametrized%252FREADME.ipynb%26branch%3Dmaster)\n",
    "\n",
    "[![deepnote-logo](https://deepnote.com/buttons/launch-in-deepnote-small.svg)](https://deepnote.com/launch?template=deepnote&url=https://github.com/ploomber/projects/blob/master/parametrized/README.ipynb)\n"
   ]
  },
  {
   "cell_type": "markdown",
   "id": "e9007ba5",
   "metadata": {
    "papermill": {
     "duration": 0.021448,
     "end_time": "2021-09-08T01:36:27.717905",
     "exception": false,
     "start_time": "2021-09-08T01:36:27.696457",
     "status": "completed"
    },
    "tags": []
   },
   "source": [
    "# Parametrized pipelines"
   ]
  },
  {
   "cell_type": "markdown",
   "id": "54eed1f8",
   "metadata": {
    "papermill": {
     "duration": 0.01465,
     "end_time": "2021-09-08T01:36:27.746224",
     "exception": false,
     "start_time": "2021-09-08T01:36:27.731574",
     "status": "completed"
    },
    "tags": []
   },
   "source": [
    "Often, pipelines perform the same operation over different subsets of the data. For example, say you are developing visualizations of economic data. You might want to generate the same charts for other countries. \n",
    "\n",
    "One way to approach the problem is to have a for loop on each pipeline task to process all needed countries. But such an approach adds unnecessary complexity to our code; it's better to keep our logic simple (each task processes a single country) and take the iterative logic out of our pipeline.\n",
    "\n",
    "Ploomber allows you to do so using parametrized pipelines. Let's see a sample using a `pipeline.yaml` file.\n",
    "\n",
    "## Spec API (``pipeline.yaml``)"
   ]
  },
  {
   "cell_type": "code",
   "execution_count": 1,
   "id": "6efd12f2",
   "metadata": {
    "execution": {
     "iopub.execute_input": "2021-09-08T01:36:27.785247Z",
     "iopub.status.busy": "2021-09-08T01:36:27.784385Z",
     "iopub.status.idle": "2021-09-08T01:36:29.805763Z",
     "shell.execute_reply": "2021-09-08T01:36:29.806310Z"
    },
    "papermill": {
     "duration": 2.046566,
     "end_time": "2021-09-08T01:36:29.806654",
     "exception": false,
     "start_time": "2021-09-08T01:36:27.760088",
     "status": "completed"
    },
    "tags": []
   },
   "outputs": [],
   "source": [
    "from ploomberutils import display_file, filter_output"
   ]
  },
  {
   "cell_type": "code",
   "execution_count": 2,
   "id": "20f468b8",
   "metadata": {
    "execution": {
     "iopub.execute_input": "2021-09-08T01:36:29.842508Z",
     "iopub.status.busy": "2021-09-08T01:36:29.841721Z",
     "iopub.status.idle": "2021-09-08T01:36:29.852391Z",
     "shell.execute_reply": "2021-09-08T01:36:29.852998Z"
    },
    "papermill": {
     "duration": 0.031269,
     "end_time": "2021-09-08T01:36:29.853233",
     "exception": false,
     "start_time": "2021-09-08T01:36:29.821964",
     "status": "completed"
    },
    "tags": []
   },
   "outputs": [
    {
     "data": {
      "text/markdown": [
       "\n",
       "```yaml\n",
       "tasks:\n",
       "  - source: print.py\n",
       "    name: print\n",
       "    product:\n",
       "      nb: 'output/{{some_param}}/notebook.ipynb'\n",
       "    papermill_params:\n",
       "        log_output: True\n",
       "    params:\n",
       "      some_param: '{{some_param}}'\n",
       "```\n"
      ],
      "text/plain": [
       "<IPython.core.display.Markdown object>"
      ]
     },
     "metadata": {},
     "output_type": "display_data"
    }
   ],
   "source": [
    "display_file('pipeline.yaml')"
   ]
  },
  {
   "cell_type": "markdown",
   "id": "d6743471",
   "metadata": {
    "papermill": {
     "duration": 0.01517,
     "end_time": "2021-09-08T01:36:29.882620",
     "exception": false,
     "start_time": "2021-09-08T01:36:29.867450",
     "status": "completed"
    },
    "tags": []
   },
   "source": [
    "The `pipeline.yaml` above has a placeholder called `some_param`. It is coming from a file called `env.yaml`:"
   ]
  },
  {
   "cell_type": "code",
   "execution_count": 3,
   "id": "ec4a5746",
   "metadata": {
    "execution": {
     "iopub.execute_input": "2021-09-08T01:36:29.915307Z",
     "iopub.status.busy": "2021-09-08T01:36:29.914350Z",
     "iopub.status.idle": "2021-09-08T01:36:29.918740Z",
     "shell.execute_reply": "2021-09-08T01:36:29.919248Z"
    },
    "papermill": {
     "duration": 0.023074,
     "end_time": "2021-09-08T01:36:29.919479",
     "exception": false,
     "start_time": "2021-09-08T01:36:29.896405",
     "status": "completed"
    },
    "tags": []
   },
   "outputs": [
    {
     "data": {
      "text/markdown": [
       "\n",
       "```yaml\n",
       "some_param: default_value\n",
       "```\n"
      ],
      "text/plain": [
       "<IPython.core.display.Markdown object>"
      ]
     },
     "metadata": {},
     "output_type": "display_data"
    }
   ],
   "source": [
    "display_file('env.yaml')"
   ]
  },
  {
   "cell_type": "markdown",
   "id": "f4925817",
   "metadata": {
    "papermill": {
     "duration": 0.013992,
     "end_time": "2021-09-08T01:36:29.948217",
     "exception": false,
     "start_time": "2021-09-08T01:36:29.934225",
     "status": "completed"
    },
    "tags": []
   },
   "source": [
    "When reading your `pipeline.yaml`, Ploomber looks for an `env.yaml` file. If found, all defined keys will be available to your pipeline definition. You can use these placeholders (placeholders are strings between double curly brackets) in any of the fields of your `pipeline.yaml` file.\n",
    "\n",
    "In our case, we are using it in two places. First, we will save the executed notebook in a folder with the value of `some_param`; this will allow you to keep copies of the generated output in a different folder depending on your parameter. Second, if we want to use the parameter in our code, we have to pass it to our tasks; all tasks take an optional `params` with arbitrary parameters.\n",
    "\n",
    "Let's see how the code looks like:"
   ]
  },
  {
   "cell_type": "code",
   "execution_count": 4,
   "id": "f15a0392",
   "metadata": {
    "execution": {
     "iopub.execute_input": "2021-09-08T01:36:29.981114Z",
     "iopub.status.busy": "2021-09-08T01:36:29.980354Z",
     "iopub.status.idle": "2021-09-08T01:36:29.983964Z",
     "shell.execute_reply": "2021-09-08T01:36:29.984936Z"
    },
    "papermill": {
     "duration": 0.022816,
     "end_time": "2021-09-08T01:36:29.985246",
     "exception": false,
     "start_time": "2021-09-08T01:36:29.962430",
     "status": "completed"
    },
    "tags": []
   },
   "outputs": [
    {
     "data": {
      "text/markdown": [
       "\n",
       "```py\n",
       "# + tags=[\"parameters\"]\n",
       "upstream = None\n",
       "product = None\n",
       "some_param = None\n",
       "\n",
       "# +\n",
       "print('some_param: ', some_param, ' type: ', type(some_param))\n",
       "```\n"
      ],
      "text/plain": [
       "<IPython.core.display.Markdown object>"
      ]
     },
     "metadata": {},
     "output_type": "display_data"
    }
   ],
   "source": [
    "display_file('print.py')"
   ]
  },
  {
   "cell_type": "markdown",
   "id": "82e37d8f",
   "metadata": {
    "papermill": {
     "duration": 0.016567,
     "end_time": "2021-09-08T01:36:30.016155",
     "exception": false,
     "start_time": "2021-09-08T01:36:29.999588",
     "status": "completed"
    },
    "tags": []
   },
   "source": [
    "Our task is a Python script, meaning that parameters are passed as an injected cell at runtime. Let's see what happens if we build our pipeline."
   ]
  },
  {
   "cell_type": "code",
   "execution_count": 5,
   "id": "306793f6",
   "metadata": {
    "execution": {
     "iopub.execute_input": "2021-09-08T01:36:30.054308Z",
     "iopub.status.busy": "2021-09-08T01:36:30.053537Z",
     "iopub.status.idle": "2021-09-08T01:36:35.443641Z",
     "shell.execute_reply": "2021-09-08T01:36:35.444157Z"
    },
    "papermill": {
     "duration": 5.412966,
     "end_time": "2021-09-08T01:36:35.444412",
     "exception": false,
     "start_time": "2021-09-08T01:36:30.031446",
     "status": "completed"
    },
    "tags": []
   },
   "outputs": [],
   "source": [
    "%%capture captured\n",
    "%%sh\n",
    "ploomber build --force --log INFO"
   ]
  },
  {
   "cell_type": "code",
   "execution_count": 6,
   "id": "c865c6ca",
   "metadata": {
    "execution": {
     "iopub.execute_input": "2021-09-08T01:36:35.481272Z",
     "iopub.status.busy": "2021-09-08T01:36:35.480249Z",
     "iopub.status.idle": "2021-09-08T01:36:35.484365Z",
     "shell.execute_reply": "2021-09-08T01:36:35.485017Z"
    },
    "papermill": {
     "duration": 0.025084,
     "end_time": "2021-09-08T01:36:35.485248",
     "exception": false,
     "start_time": "2021-09-08T01:36:35.460164",
     "status": "completed"
    },
    "tags": []
   },
   "outputs": [
    {
     "name": "stdout",
     "output_type": "stream",
     "text": [
      "INFO:papermill:some_param:  default_value  type:  <class 'str'>\n"
     ]
    }
   ],
   "source": [
    "filter_output(captured, startswith='INFO:papermill:some_param')"
   ]
  },
  {
   "cell_type": "markdown",
   "id": "bc5ba66f",
   "metadata": {
    "papermill": {
     "duration": 0.015679,
     "end_time": "2021-09-08T01:36:35.516555",
     "exception": false,
     "start_time": "2021-09-08T01:36:35.500876",
     "status": "completed"
    },
    "tags": []
   },
   "source": [
    "We see that our param `some_param` is taking the default value (`default_value`) as defined in `env.yaml`. The command-line interface is aware of any parameters. You can see them using the `--help` option:"
   ]
  },
  {
   "cell_type": "code",
   "execution_count": 7,
   "id": "8fa7affc",
   "metadata": {
    "execution": {
     "iopub.execute_input": "2021-09-08T01:36:35.555118Z",
     "iopub.status.busy": "2021-09-08T01:36:35.551575Z",
     "iopub.status.idle": "2021-09-08T01:36:39.277013Z",
     "shell.execute_reply": "2021-09-08T01:36:39.277557Z"
    },
    "papermill": {
     "duration": 3.745517,
     "end_time": "2021-09-08T01:36:39.277826",
     "exception": false,
     "start_time": "2021-09-08T01:36:35.532309",
     "status": "completed"
    },
    "tags": []
   },
   "outputs": [
    {
     "name": "stdout",
     "output_type": "stream",
     "text": [
      "usage: ploomber [-h] [--log LOG] [--entry-point ENTRY_POINT] [--force]\n",
      "                [--skip-upstream] [--partially PARTIALLY] [--debug]\n",
      "                [--env--some_param ENV__SOME_PARAM]\n",
      "\n",
      "Build pipeline\n",
      "\n",
      "optional arguments:\n",
      "  -h, --help            show this help message and exit\n",
      "  --log LOG, -l LOG     Enables logging to stdout at the specified level\n",
      "  --entry-point ENTRY_POINT, -e ENTRY_POINT\n",
      "                        Entry point, defaults to pipeline.yaml\n",
      "  --force, -f           Force execution by ignoring status\n",
      "  --skip-upstream, -su  Skip building upstream dependencies. Only applicable\n",
      "                        when using --partially\n",
      "  --partially PARTIALLY, -p PARTIALLY\n",
      "                        Build a pipeline partially until certain task\n",
      "  --debug, -d           Drop a debugger session if an exception happens\n",
      "  --env--some_param ENV__SOME_PARAM\n",
      "                        Default: default_value\n"
     ]
    }
   ],
   "source": [
    "%%sh\n",
    "ploomber build --help"
   ]
  },
  {
   "cell_type": "markdown",
   "id": "64e02458",
   "metadata": {
    "papermill": {
     "duration": 0.015815,
     "end_time": "2021-09-08T01:36:39.309540",
     "exception": false,
     "start_time": "2021-09-08T01:36:39.293725",
     "status": "completed"
    },
    "tags": []
   },
   "source": [
    "Apart from the default parameters from the `ploomber build` command, Ploomber automatically adds any parameters from `env.yaml`, we can easily override the default value. Let's do that:"
   ]
  },
  {
   "cell_type": "code",
   "execution_count": 8,
   "id": "9cc55875",
   "metadata": {
    "execution": {
     "iopub.execute_input": "2021-09-08T01:36:39.353437Z",
     "iopub.status.busy": "2021-09-08T01:36:39.349119Z",
     "iopub.status.idle": "2021-09-08T01:36:44.850816Z",
     "shell.execute_reply": "2021-09-08T01:36:44.851673Z"
    },
    "papermill": {
     "duration": 5.5253,
     "end_time": "2021-09-08T01:36:44.851956",
     "exception": false,
     "start_time": "2021-09-08T01:36:39.326656",
     "status": "completed"
    },
    "tags": []
   },
   "outputs": [],
   "source": [
    "%%capture captured\n",
    "%%sh\n",
    "ploomber build --force --env--some_param another_value --log INFO"
   ]
  },
  {
   "cell_type": "code",
   "execution_count": 9,
   "id": "323dfccb",
   "metadata": {
    "execution": {
     "iopub.execute_input": "2021-09-08T01:36:44.894124Z",
     "iopub.status.busy": "2021-09-08T01:36:44.893312Z",
     "iopub.status.idle": "2021-09-08T01:36:44.896113Z",
     "shell.execute_reply": "2021-09-08T01:36:44.896616Z"
    },
    "papermill": {
     "duration": 0.027707,
     "end_time": "2021-09-08T01:36:44.896844",
     "exception": false,
     "start_time": "2021-09-08T01:36:44.869137",
     "status": "completed"
    },
    "tags": []
   },
   "outputs": [
    {
     "name": "stdout",
     "output_type": "stream",
     "text": [
      "INFO:papermill:some_param:  another_value  type:  <class 'str'>\n"
     ]
    }
   ],
   "source": [
    "filter_output(captured, startswith='INFO:papermill:some_param')"
   ]
  },
  {
   "cell_type": "markdown",
   "id": "5f8ceb81",
   "metadata": {
    "papermill": {
     "duration": 0.016008,
     "end_time": "2021-09-08T01:36:44.930045",
     "exception": false,
     "start_time": "2021-09-08T01:36:44.914037",
     "status": "completed"
    },
    "tags": []
   },
   "source": [
    "We see that our task effectively changed the value!\n",
    "\n",
    "Finally, let's see how the `output/` folder looks like:"
   ]
  },
  {
   "cell_type": "code",
   "execution_count": 10,
   "id": "d9122471",
   "metadata": {
    "execution": {
     "iopub.execute_input": "2021-09-08T01:36:44.968001Z",
     "iopub.status.busy": "2021-09-08T01:36:44.966947Z",
     "iopub.status.idle": "2021-09-08T01:36:45.022963Z",
     "shell.execute_reply": "2021-09-08T01:36:45.023632Z"
    },
    "papermill": {
     "duration": 0.077404,
     "end_time": "2021-09-08T01:36:45.023900",
     "exception": false,
     "start_time": "2021-09-08T01:36:44.946496",
     "status": "completed"
    },
    "tags": []
   },
   "outputs": [
    {
     "name": "stdout",
     "output_type": "stream",
     "text": [
      "output\n",
      "├── another_value\n",
      "│   └── notebook.ipynb\n",
      "└── default_value\n",
      "    └── notebook.ipynb\n",
      "\n",
      "2 directories, 2 files\n"
     ]
    }
   ],
   "source": [
    "%%sh\n",
    "tree output"
   ]
  },
  {
   "cell_type": "markdown",
   "id": "8df2ce51",
   "metadata": {
    "papermill": {
     "duration": 0.016356,
     "end_time": "2021-09-08T01:36:45.058230",
     "exception": false,
     "start_time": "2021-09-08T01:36:45.041874",
     "status": "completed"
    },
    "tags": []
   },
   "source": [
    "\n",
    "We have separate folders for each parameter, helping to keep things organized and taking the looping logic out of our pipeline.\n",
    "\n",
    "\n",
    "### Notes\n",
    "\n",
    "* There are some built-in placeholders that you can use without having an `env.yaml` file. For example, `{{here}}` will expand to the `pipeline.yaml` parent directory. [Check out the Spec API documentation](https://ploomber.readthedocs.io/en/latest/api/spec.html#default-placeholders) for more information.\n",
    "* This example uses a Python script as a task. In SQL pipeline, you can achieve the same effect by using the placeholder in the product's schema or a table/view name prefix.\n",
    "* If the parameter takes many different values and you want to run your pipeline using all of them, calling them by hand might get tedious. So you have two options 1) write a  bash script that calls the CLI with different value parameters or 2) Use the Python API (everything that the CLI can do, you can do with Python directly), take a look at the `DAGSpec` documentation.\n",
    "* Parametrized `pipeline.yaml` files are a great way to simplify a task's logic but not overdo it. If you find yourself adding too many parameters, it's a better idea to use the Python AP directly; factory functions are the correct pattern for highly customized pipeline construction.\n",
    "* Given that the two pipelines are entirely independent, we could even run them in parallel.\n",
    "\n",
    "\n",
    "## Python API (factory functions)\n",
    "\n",
    "Parametrization is straightforward when using a factory function. If your\n",
    "factory takes parameters, they'll also be available in the command-line interface. Types are inferred from [type hints](https://docs.python.org/3/library/typing.html). Let's see an example:"
   ]
  },
  {
   "cell_type": "code",
   "execution_count": 11,
   "id": "97816f98",
   "metadata": {
    "execution": {
     "iopub.execute_input": "2021-09-08T01:36:45.097710Z",
     "iopub.status.busy": "2021-09-08T01:36:45.096858Z",
     "iopub.status.idle": "2021-09-08T01:36:45.101587Z",
     "shell.execute_reply": "2021-09-08T01:36:45.102143Z"
    },
    "papermill": {
     "duration": 0.026723,
     "end_time": "2021-09-08T01:36:45.102440",
     "exception": false,
     "start_time": "2021-09-08T01:36:45.075717",
     "status": "completed"
    },
    "tags": []
   },
   "outputs": [
    {
     "data": {
      "text/markdown": [
       "\n",
       "```py\n",
       "from ploomber import DAG\n",
       "\n",
       "\n",
       "def make(param: str, another: int = 10):\n",
       "    dag = DAG()\n",
       "    # add tasks to your pipeline...\n",
       "    return dag\n",
       "```\n"
      ],
      "text/plain": [
       "<IPython.core.display.Markdown object>"
      ]
     },
     "metadata": {},
     "output_type": "display_data"
    }
   ],
   "source": [
    "display_file('factory.py')"
   ]
  },
  {
   "cell_type": "markdown",
   "id": "8ee24ad0",
   "metadata": {
    "papermill": {
     "duration": 0.01746,
     "end_time": "2021-09-08T01:36:45.138525",
     "exception": false,
     "start_time": "2021-09-08T01:36:45.121065",
     "status": "completed"
    },
    "tags": []
   },
   "source": [
    "Our function takes two parameters: `param` and `another`. Parameters with no default values (`param`) turn into positional arguments, and function parameters with default values convert\n",
    "to optional parameters (`another`). To see the same auto-generated API, you can use the `--help` command:"
   ]
  },
  {
   "cell_type": "code",
   "execution_count": 12,
   "id": "b76c6238",
   "metadata": {
    "execution": {
     "iopub.execute_input": "2021-09-08T01:36:45.182206Z",
     "iopub.status.busy": "2021-09-08T01:36:45.181396Z",
     "iopub.status.idle": "2021-09-08T01:36:48.785303Z",
     "shell.execute_reply": "2021-09-08T01:36:48.786475Z"
    },
    "papermill": {
     "duration": 3.630154,
     "end_time": "2021-09-08T01:36:48.786850",
     "exception": false,
     "start_time": "2021-09-08T01:36:45.156696",
     "status": "completed"
    },
    "tags": []
   },
   "outputs": [
    {
     "name": "stdout",
     "output_type": "stream",
     "text": [
      "usage: ploomber [-h] [--log LOG] [--entry-point ENTRY_POINT] [--force]\n",
      "                [--skip-upstream] [--partially PARTIALLY] [--debug]\n",
      "                [--another ANOTHER]\n",
      "                param\n",
      "\n",
      "Build pipeline\n",
      "\n",
      "positional arguments:\n",
      "  param\n",
      "\n",
      "optional arguments:\n",
      "  -h, --help            show this help message and exit\n",
      "  --log LOG, -l LOG     Enables logging to stdout at the specified level\n",
      "  --entry-point ENTRY_POINT, -e ENTRY_POINT\n",
      "                        Entry point, defaults to pipeline.yaml\n",
      "  --force, -f           Force execution by ignoring status\n",
      "  --skip-upstream, -su  Skip building upstream dependencies. Only applicable\n",
      "                        when using --partially\n",
      "  --partially PARTIALLY, -p PARTIALLY\n",
      "                        Build a pipeline partially until certain task\n",
      "  --debug, -d           Drop a debugger session if an exception happens\n",
      "  --another ANOTHER\n"
     ]
    }
   ],
   "source": [
    "%%sh\n",
    "ploomber build --entry-point factory.make --help"
   ]
  },
  {
   "cell_type": "markdown",
   "id": "32bc26da",
   "metadata": {
    "papermill": {
     "duration": 0.018228,
     "end_time": "2021-09-08T01:36:48.822729",
     "exception": false,
     "start_time": "2021-09-08T01:36:48.804501",
     "status": "completed"
    },
    "tags": []
   },
   "source": [
    "Note that the Python API requires more work than a `pipeline.yaml` file, but it is more flexible. [Click here] to see [examples](https://github.com/ploomber/projects/tree/master/python-api-examples) using the Python API."
   ]
  }
 ],
 "metadata": {
  "jupytext": {
   "cell_metadata_filter": "-all",
   "main_language": "python",
   "notebook_metadata_filter": "-all"
  },
  "kernelspec": {
   "display_name": "Python 3",
   "language": "python",
   "name": "python3"
  },
  "language_info": {
   "codemirror_mode": {
    "name": "ipython",
    "version": 3
   },
   "file_extension": ".py",
   "mimetype": "text/x-python",
   "name": "python",
   "nbconvert_exporter": "python",
   "pygments_lexer": "ipython3",
   "version": "3.8.10"
  },
  "papermill": {
   "duration": 22.786616,
   "end_time": "2021-09-08T01:36:49.451637",
   "exception": null,
   "input_path": "/var/folders/3h/_lvh_w_x5g30rrjzb_xnn2j80000gq/T/tmpxn4bew_0.ipynb",
   "output_path": "parametrized/README.ipynb",
   "parameters": {
    "product": "parametrized/README.ipynb"
   },
   "start_time": "2021-09-08T01:36:26.665021"
  }
 },
 "nbformat": 4,
 "nbformat_minor": 5
}
