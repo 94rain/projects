{
 "cells": [
  {
   "cell_type": "markdown",
   "id": "4f5de1cf",
   "metadata": {
    "papermill": {
     "duration": 0.050839,
     "end_time": "2021-10-11T03:13:54.751043",
     "exception": false,
     "start_time": "2021-10-11T03:13:54.700204",
     "status": "completed"
    },
    "tags": []
   },
   "source": [
    "\n",
    "*Note:* You can run this example locally (`ploomber examples -n parametrized`) or in Binder (hosted JupyterLab ).\n",
    "\n",
    "[![binder-logo](https://mybinder.org/badge_logo.svg)](https://mybinder.org/v2/gh/ploomber/binder-env/main?urlpath=git-pull%3Frepo%3Dhttps%253A%252F%252Fgithub.com%252Fploomber%252Fprojects%26urlpath%3Dlab%252Ftree%252Fprojects%252Fparametrized%252FREADME.ipynb%26branch%3Dmaster)\n"
   ]
  },
  {
   "cell_type": "markdown",
   "id": "501a908e",
   "metadata": {
    "papermill": {
     "duration": 0.053534,
     "end_time": "2021-10-11T03:13:54.853562",
     "exception": false,
     "start_time": "2021-10-11T03:13:54.800028",
     "status": "completed"
    },
    "tags": []
   },
   "source": [
    "# Parametrized pipelines"
   ]
  },
  {
   "cell_type": "markdown",
   "id": "6411bc14",
   "metadata": {
    "papermill": {
     "duration": 0.051176,
     "end_time": "2021-10-11T03:13:54.953482",
     "exception": false,
     "start_time": "2021-10-11T03:13:54.902306",
     "status": "completed"
    },
    "tags": []
   },
   "source": [
    "Often, pipelines perform the same operation over different subsets of the data. For example, say you are developing visualizations of economic data. You might want to generate the same charts for other countries. \n",
    "\n",
    "One way to approach the problem is to have a for loop on each pipeline task to process all needed countries. But such an approach adds unnecessary complexity to our code; it's better to keep our logic simple (each task processes a single country) and take the iterative logic out of our pipeline.\n",
    "\n",
    "Ploomber allows you to do so using parametrized pipelines. Let's see a sample using a `pipeline.yaml` file.\n",
    "\n",
    "## Spec API (``pipeline.yaml``)"
   ]
  },
  {
   "cell_type": "code",
   "execution_count": 1,
   "id": "b20fd2bf",
   "metadata": {
    "execution": {
     "iopub.execute_input": "2021-10-11T03:13:55.061999Z",
     "iopub.status.busy": "2021-10-11T03:13:55.056207Z",
     "iopub.status.idle": "2021-10-11T03:13:56.933275Z",
     "shell.execute_reply": "2021-10-11T03:13:56.933869Z"
    },
    "papermill": {
     "duration": 1.932426,
     "end_time": "2021-10-11T03:13:56.934200",
     "exception": false,
     "start_time": "2021-10-11T03:13:55.001774",
     "status": "completed"
    },
    "tags": []
   },
   "outputs": [],
   "source": [
    "from ploomberutils import display_file, filter_output"
   ]
  },
  {
   "cell_type": "code",
   "execution_count": 2,
   "id": "8e5d180e",
   "metadata": {
    "execution": {
     "iopub.execute_input": "2021-10-11T03:13:57.042576Z",
     "iopub.status.busy": "2021-10-11T03:13:57.041879Z",
     "iopub.status.idle": "2021-10-11T03:13:57.052117Z",
     "shell.execute_reply": "2021-10-11T03:13:57.052622Z"
    },
    "papermill": {
     "duration": 0.070734,
     "end_time": "2021-10-11T03:13:57.052859",
     "exception": false,
     "start_time": "2021-10-11T03:13:56.982125",
     "status": "completed"
    },
    "tags": []
   },
   "outputs": [
    {
     "data": {
      "text/markdown": [
       "\n",
       "```yaml\n",
       "tasks:\n",
       "  - source: print.py\n",
       "    name: print\n",
       "    product:\n",
       "      nb: 'output/{{some_param}}/notebook.ipynb'\n",
       "    papermill_params:\n",
       "        log_output: True\n",
       "    params:\n",
       "      some_param: '{{some_param}}'\n",
       "```\n"
      ],
      "text/plain": [
       "<IPython.core.display.Markdown object>"
      ]
     },
     "metadata": {},
     "output_type": "display_data"
    }
   ],
   "source": [
    "display_file('pipeline.yaml')"
   ]
  },
  {
   "cell_type": "markdown",
   "id": "79d59fb2",
   "metadata": {
    "papermill": {
     "duration": 0.05461,
     "end_time": "2021-10-11T03:13:57.159618",
     "exception": false,
     "start_time": "2021-10-11T03:13:57.105008",
     "status": "completed"
    },
    "tags": []
   },
   "source": [
    "The `pipeline.yaml` above has a placeholder called `some_param`. It is coming from a file called `env.yaml`:"
   ]
  },
  {
   "cell_type": "code",
   "execution_count": 3,
   "id": "23006ec2",
   "metadata": {
    "execution": {
     "iopub.execute_input": "2021-10-11T03:13:57.266599Z",
     "iopub.status.busy": "2021-10-11T03:13:57.265839Z",
     "iopub.status.idle": "2021-10-11T03:13:57.270032Z",
     "shell.execute_reply": "2021-10-11T03:13:57.270641Z"
    },
    "papermill": {
     "duration": 0.061216,
     "end_time": "2021-10-11T03:13:57.270858",
     "exception": false,
     "start_time": "2021-10-11T03:13:57.209642",
     "status": "completed"
    },
    "tags": []
   },
   "outputs": [
    {
     "data": {
      "text/markdown": [
       "\n",
       "```yaml\n",
       "some_param: default_value\n",
       "```\n"
      ],
      "text/plain": [
       "<IPython.core.display.Markdown object>"
      ]
     },
     "metadata": {},
     "output_type": "display_data"
    }
   ],
   "source": [
    "display_file('env.yaml')"
   ]
  },
  {
   "cell_type": "markdown",
   "id": "bd1de5e0",
   "metadata": {
    "papermill": {
     "duration": 0.054261,
     "end_time": "2021-10-11T03:13:57.377332",
     "exception": false,
     "start_time": "2021-10-11T03:13:57.323071",
     "status": "completed"
    },
    "tags": []
   },
   "source": [
    "When reading your `pipeline.yaml`, Ploomber looks for an `env.yaml` file. If found, all defined keys will be available to your pipeline definition. You can use these placeholders (placeholders are strings between double curly brackets) in any of the fields of your `pipeline.yaml` file.\n",
    "\n",
    "In our case, we are using it in two places. First, we will save the executed notebook in a folder with the value of `some_param`; this will allow you to keep copies of the generated output in a different folder depending on your parameter. Second, if we want to use the parameter in our code, we have to pass it to our tasks; all tasks take an optional `params` with arbitrary parameters.\n",
    "\n",
    "Let's see how the code looks like:"
   ]
  },
  {
   "cell_type": "code",
   "execution_count": 4,
   "id": "f6f681b1",
   "metadata": {
    "execution": {
     "iopub.execute_input": "2021-10-11T03:13:57.486624Z",
     "iopub.status.busy": "2021-10-11T03:13:57.485801Z",
     "iopub.status.idle": "2021-10-11T03:13:57.490151Z",
     "shell.execute_reply": "2021-10-11T03:13:57.490798Z"
    },
    "papermill": {
     "duration": 0.061678,
     "end_time": "2021-10-11T03:13:57.491080",
     "exception": false,
     "start_time": "2021-10-11T03:13:57.429402",
     "status": "completed"
    },
    "tags": []
   },
   "outputs": [
    {
     "data": {
      "text/markdown": [
       "\n",
       "```py\n",
       "# + tags=[\"parameters\"]\n",
       "upstream = None\n",
       "product = None\n",
       "some_param = None\n",
       "\n",
       "# +\n",
       "print('some_param: ', some_param, ' type: ', type(some_param))\n",
       "```\n"
      ],
      "text/plain": [
       "<IPython.core.display.Markdown object>"
      ]
     },
     "metadata": {},
     "output_type": "display_data"
    }
   ],
   "source": [
    "display_file('print.py')"
   ]
  },
  {
   "cell_type": "markdown",
   "id": "cf01543f",
   "metadata": {
    "papermill": {
     "duration": 0.052838,
     "end_time": "2021-10-11T03:13:57.597244",
     "exception": false,
     "start_time": "2021-10-11T03:13:57.544406",
     "status": "completed"
    },
    "tags": []
   },
   "source": [
    "Our task is a Python script, meaning that parameters are passed as an injected cell at runtime. Let's see what happens if we build our pipeline."
   ]
  },
  {
   "cell_type": "code",
   "execution_count": 5,
   "id": "6ff6d8ee",
   "metadata": {
    "execution": {
     "iopub.execute_input": "2021-10-11T03:13:57.720981Z",
     "iopub.status.busy": "2021-10-11T03:13:57.720210Z",
     "iopub.status.idle": "2021-10-11T03:14:02.656656Z",
     "shell.execute_reply": "2021-10-11T03:14:02.657572Z"
    },
    "papermill": {
     "duration": 5.007749,
     "end_time": "2021-10-11T03:14:02.657944",
     "exception": false,
     "start_time": "2021-10-11T03:13:57.650195",
     "status": "completed"
    },
    "tags": []
   },
   "outputs": [],
   "source": [
    "%%capture captured\n",
    "%%sh\n",
    "ploomber build --force --log INFO"
   ]
  },
  {
   "cell_type": "code",
   "execution_count": 6,
   "id": "445bb722",
   "metadata": {
    "execution": {
     "iopub.execute_input": "2021-10-11T03:14:02.808420Z",
     "iopub.status.busy": "2021-10-11T03:14:02.807500Z",
     "iopub.status.idle": "2021-10-11T03:14:02.811712Z",
     "shell.execute_reply": "2021-10-11T03:14:02.812530Z"
    },
    "papermill": {
     "duration": 0.07602,
     "end_time": "2021-10-11T03:14:02.812982",
     "exception": false,
     "start_time": "2021-10-11T03:14:02.736962",
     "status": "completed"
    },
    "tags": []
   },
   "outputs": [
    {
     "name": "stdout",
     "output_type": "stream",
     "text": [
      "INFO:papermill:some_param:  default_value  type:  <class 'str'>\n"
     ]
    }
   ],
   "source": [
    "filter_output(captured, startswith='INFO:papermill:some_param')"
   ]
  },
  {
   "cell_type": "markdown",
   "id": "a9bf1b68",
   "metadata": {
    "papermill": {
     "duration": 0.062341,
     "end_time": "2021-10-11T03:14:02.937850",
     "exception": false,
     "start_time": "2021-10-11T03:14:02.875509",
     "status": "completed"
    },
    "tags": []
   },
   "source": [
    "We see that our param `some_param` is taking the default value (`default_value`) as defined in `env.yaml`. The command-line interface is aware of any parameters. You can see them using the `--help` option:"
   ]
  },
  {
   "cell_type": "code",
   "execution_count": 7,
   "id": "8d6c0d61",
   "metadata": {
    "execution": {
     "iopub.execute_input": "2021-10-11T03:14:03.080119Z",
     "iopub.status.busy": "2021-10-11T03:14:03.075840Z",
     "iopub.status.idle": "2021-10-11T03:14:05.451220Z",
     "shell.execute_reply": "2021-10-11T03:14:05.451796Z"
    },
    "papermill": {
     "duration": 2.449961,
     "end_time": "2021-10-11T03:14:05.452046",
     "exception": false,
     "start_time": "2021-10-11T03:14:03.002085",
     "status": "completed"
    },
    "tags": []
   },
   "outputs": [
    {
     "name": "stdout",
     "output_type": "stream",
     "text": [
      "usage: ploomber [-h] [--log LOG] [--entry-point ENTRY_POINT] [--force]\n",
      "                [--skip-upstream] [--partially PARTIALLY] [--debug]\n",
      "                [--env--some_param ENV__SOME_PARAM]\n",
      "\n",
      "Build pipeline\n",
      "\n",
      "optional arguments:\n",
      "  -h, --help            show this help message and exit\n",
      "  --log LOG, -l LOG     Enables logging to stdout at the specified level\n",
      "  --entry-point ENTRY_POINT, -e ENTRY_POINT\n",
      "                        Entry point, defaults to pipeline.yaml\n",
      "  --force, -f           Force execution by ignoring status\n",
      "  --skip-upstream, -su  Skip building upstream dependencies. Only applicable\n",
      "                        when using --partially\n",
      "  --partially PARTIALLY, -p PARTIALLY\n",
      "                        Build a pipeline partially until certain task\n",
      "  --debug, -d           Drop a debugger session if an exception happens\n",
      "  --env--some_param ENV__SOME_PARAM\n",
      "                        Default: default_value\n"
     ]
    }
   ],
   "source": [
    "%%sh\n",
    "ploomber build --help"
   ]
  },
  {
   "cell_type": "markdown",
   "id": "12b50e66",
   "metadata": {
    "papermill": {
     "duration": 0.056686,
     "end_time": "2021-10-11T03:14:05.562905",
     "exception": false,
     "start_time": "2021-10-11T03:14:05.506219",
     "status": "completed"
    },
    "tags": []
   },
   "source": [
    "Apart from the default parameters from the `ploomber build` command, Ploomber automatically adds any parameters from `env.yaml`, we can easily override the default value. Let's do that:"
   ]
  },
  {
   "cell_type": "code",
   "execution_count": 8,
   "id": "52cdb995",
   "metadata": {
    "execution": {
     "iopub.execute_input": "2021-10-11T03:14:05.678902Z",
     "iopub.status.busy": "2021-10-11T03:14:05.678230Z",
     "iopub.status.idle": "2021-10-11T03:14:10.360245Z",
     "shell.execute_reply": "2021-10-11T03:14:10.361076Z"
    },
    "papermill": {
     "duration": 4.74508,
     "end_time": "2021-10-11T03:14:10.361308",
     "exception": false,
     "start_time": "2021-10-11T03:14:05.616228",
     "status": "completed"
    },
    "tags": []
   },
   "outputs": [],
   "source": [
    "%%capture captured\n",
    "%%sh\n",
    "ploomber build --force --env--some_param another_value --log INFO"
   ]
  },
  {
   "cell_type": "code",
   "execution_count": 9,
   "id": "f2c4d1c5",
   "metadata": {
    "execution": {
     "iopub.execute_input": "2021-10-11T03:14:10.496265Z",
     "iopub.status.busy": "2021-10-11T03:14:10.495264Z",
     "iopub.status.idle": "2021-10-11T03:14:10.498477Z",
     "shell.execute_reply": "2021-10-11T03:14:10.498977Z"
    },
    "papermill": {
     "duration": 0.074566,
     "end_time": "2021-10-11T03:14:10.499192",
     "exception": false,
     "start_time": "2021-10-11T03:14:10.424626",
     "status": "completed"
    },
    "tags": []
   },
   "outputs": [
    {
     "name": "stdout",
     "output_type": "stream",
     "text": [
      "INFO:papermill:some_param:  another_value  type:  <class 'str'>\n"
     ]
    }
   ],
   "source": [
    "filter_output(captured, startswith='INFO:papermill:some_param')"
   ]
  },
  {
   "cell_type": "markdown",
   "id": "788642de",
   "metadata": {
    "papermill": {
     "duration": 0.075787,
     "end_time": "2021-10-11T03:14:10.643276",
     "exception": false,
     "start_time": "2021-10-11T03:14:10.567489",
     "status": "completed"
    },
    "tags": []
   },
   "source": [
    "We see that our task effectively changed the value!\n",
    "\n",
    "Finally, let's see how the `output/` folder looks like:"
   ]
  },
  {
   "cell_type": "code",
   "execution_count": 10,
   "id": "9e680d4e",
   "metadata": {
    "execution": {
     "iopub.execute_input": "2021-10-11T03:14:10.772969Z",
     "iopub.status.busy": "2021-10-11T03:14:10.772286Z",
     "iopub.status.idle": "2021-10-11T03:14:10.843207Z",
     "shell.execute_reply": "2021-10-11T03:14:10.842592Z"
    },
    "papermill": {
     "duration": 0.135684,
     "end_time": "2021-10-11T03:14:10.843424",
     "exception": false,
     "start_time": "2021-10-11T03:14:10.707740",
     "status": "completed"
    },
    "tags": []
   },
   "outputs": [
    {
     "name": "stdout",
     "output_type": "stream",
     "text": [
      "output\n",
      "├── another_value\n",
      "│   └── notebook.ipynb\n",
      "└── default_value\n",
      "    └── notebook.ipynb\n",
      "\n",
      "2 directories, 2 files\n"
     ]
    }
   ],
   "source": [
    "%%sh\n",
    "tree output"
   ]
  },
  {
   "cell_type": "markdown",
   "id": "7a348355",
   "metadata": {
    "papermill": {
     "duration": 0.059011,
     "end_time": "2021-10-11T03:14:10.958903",
     "exception": false,
     "start_time": "2021-10-11T03:14:10.899892",
     "status": "completed"
    },
    "tags": []
   },
   "source": [
    "\n",
    "We have separate folders for each parameter, helping to keep things organized and taking the looping logic out of our pipeline.\n",
    "\n",
    "\n",
    "### Notes\n",
    "\n",
    "* There are some built-in placeholders that you can use without having an `env.yaml` file. For example, `{{here}}` will expand to the `pipeline.yaml` parent directory. [Check out the Spec API documentation](https://ploomber.readthedocs.io/en/latest/api/spec.html#default-placeholders) for more information.\n",
    "* This example uses a Python script as a task. In SQL pipeline, you can achieve the same effect by using the placeholder in the product's schema or a table/view name prefix.\n",
    "* If the parameter takes many different values and you want to run your pipeline using all of them, calling them by hand might get tedious. So you have two options 1) write a  bash script that calls the CLI with different value parameters or 2) Use the Python API (everything that the CLI can do, you can do with Python directly), take a look at the `DAGSpec` documentation.\n",
    "* Parametrized `pipeline.yaml` files are a great way to simplify a task's logic but not overdo it. If you find yourself adding too many parameters, it's a better idea to use the Python AP directly; factory functions are the correct pattern for highly customized pipeline construction.\n",
    "* Given that the two pipelines are entirely independent, we could even run them in parallel.\n",
    "\n",
    "\n",
    "## Python API (factory functions)\n",
    "\n",
    "Parametrization is straightforward when using a factory function. If your\n",
    "factory takes parameters, they'll also be available in the command-line interface. Types are inferred from [type hints](https://docs.python.org/3/library/typing.html). Let's see an example:"
   ]
  },
  {
   "cell_type": "code",
   "execution_count": 11,
   "id": "88082bd9",
   "metadata": {
    "execution": {
     "iopub.execute_input": "2021-10-11T03:14:11.085308Z",
     "iopub.status.busy": "2021-10-11T03:14:11.084587Z",
     "iopub.status.idle": "2021-10-11T03:14:11.088624Z",
     "shell.execute_reply": "2021-10-11T03:14:11.089223Z"
    },
    "papermill": {
     "duration": 0.06864,
     "end_time": "2021-10-11T03:14:11.089471",
     "exception": false,
     "start_time": "2021-10-11T03:14:11.020831",
     "status": "completed"
    },
    "tags": []
   },
   "outputs": [
    {
     "data": {
      "text/markdown": [
       "\n",
       "```py\n",
       "from ploomber import DAG\n",
       "\n",
       "\n",
       "def make(param: str, another: int = 10):\n",
       "    dag = DAG()\n",
       "    # add tasks to your pipeline...\n",
       "    return dag\n",
       "```\n"
      ],
      "text/plain": [
       "<IPython.core.display.Markdown object>"
      ]
     },
     "metadata": {},
     "output_type": "display_data"
    }
   ],
   "source": [
    "display_file('factory.py')"
   ]
  },
  {
   "cell_type": "markdown",
   "id": "9e1258e6",
   "metadata": {
    "papermill": {
     "duration": 0.057531,
     "end_time": "2021-10-11T03:14:11.209211",
     "exception": false,
     "start_time": "2021-10-11T03:14:11.151680",
     "status": "completed"
    },
    "tags": []
   },
   "source": [
    "Our function takes two parameters: `param` and `another`. Parameters with no default values (`param`) turn into positional arguments, and function parameters with default values convert\n",
    "to optional parameters (`another`). To see the same auto-generated API, you can use the `--help` command:"
   ]
  },
  {
   "cell_type": "code",
   "execution_count": 12,
   "id": "176ee2f1",
   "metadata": {
    "execution": {
     "iopub.execute_input": "2021-10-11T03:14:11.335224Z",
     "iopub.status.busy": "2021-10-11T03:14:11.334342Z",
     "iopub.status.idle": "2021-10-11T03:14:13.632695Z",
     "shell.execute_reply": "2021-10-11T03:14:13.633181Z"
    },
    "papermill": {
     "duration": 2.366041,
     "end_time": "2021-10-11T03:14:13.633474",
     "exception": false,
     "start_time": "2021-10-11T03:14:11.267433",
     "status": "completed"
    },
    "tags": []
   },
   "outputs": [
    {
     "name": "stdout",
     "output_type": "stream",
     "text": [
      "usage: ploomber [-h] [--log LOG] [--entry-point ENTRY_POINT] [--force]\n",
      "                [--skip-upstream] [--partially PARTIALLY] [--debug]\n",
      "                [--another ANOTHER]\n",
      "                param\n",
      "\n",
      "Build pipeline\n",
      "\n",
      "positional arguments:\n",
      "  param\n",
      "\n",
      "optional arguments:\n",
      "  -h, --help            show this help message and exit\n",
      "  --log LOG, -l LOG     Enables logging to stdout at the specified level\n",
      "  --entry-point ENTRY_POINT, -e ENTRY_POINT\n",
      "                        Entry point, defaults to pipeline.yaml\n",
      "  --force, -f           Force execution by ignoring status\n",
      "  --skip-upstream, -su  Skip building upstream dependencies. Only applicable\n",
      "                        when using --partially\n",
      "  --partially PARTIALLY, -p PARTIALLY\n",
      "                        Build a pipeline partially until certain task\n",
      "  --debug, -d           Drop a debugger session if an exception happens\n",
      "  --another ANOTHER\n"
     ]
    }
   ],
   "source": [
    "%%sh\n",
    "ploomber build --entry-point factory.make --help"
   ]
  },
  {
   "cell_type": "markdown",
   "id": "3e7e4bed",
   "metadata": {
    "papermill": {
     "duration": 0.060772,
     "end_time": "2021-10-11T03:14:13.762815",
     "exception": false,
     "start_time": "2021-10-11T03:14:13.702043",
     "status": "completed"
    },
    "tags": []
   },
   "source": [
    "Note that the Python API requires more work than a `pipeline.yaml` file, but it is more flexible. [Click here] to see [examples](https://github.com/ploomber/projects/tree/master/python-api-examples) using the Python API."
   ]
  },
  {
   "cell_type": "code",
   "execution_count": null,
   "id": "d5a22aab",
   "metadata": {
    "papermill": {
     "duration": 0.059363,
     "end_time": "2021-10-11T03:14:13.883460",
     "exception": false,
     "start_time": "2021-10-11T03:14:13.824097",
     "status": "completed"
    },
    "tags": [
     "parameters"
    ]
   },
   "outputs": [],
   "source": []
  },
  {
   "cell_type": "code",
   "execution_count": 13,
   "id": "e78a5051",
   "metadata": {
    "execution": {
     "iopub.execute_input": "2021-10-11T03:14:14.009458Z",
     "iopub.status.busy": "2021-10-11T03:14:14.008507Z",
     "iopub.status.idle": "2021-10-11T03:14:14.010661Z",
     "shell.execute_reply": "2021-10-11T03:14:14.011234Z"
    },
    "papermill": {
     "duration": 0.070009,
     "end_time": "2021-10-11T03:14:14.011617",
     "exception": false,
     "start_time": "2021-10-11T03:14:13.941608",
     "status": "completed"
    },
    "tags": [
     "injected-parameters"
    ]
   },
   "outputs": [],
   "source": [
    "# Parameters\n",
    "product = \"parametrized/README.ipynb\"\n"
   ]
  }
 ],
 "metadata": {
  "jupytext": {
   "cell_metadata_filter": "-all",
   "main_language": "python",
   "notebook_metadata_filter": "-all",
   "text_representation": {
    "extension": ".md",
    "format_name": "markdown"
   }
  },
  "kernelspec": {
   "display_name": "Python 3 (ipykernel)",
   "language": "python",
   "name": "python3"
  },
  "language_info": {
   "codemirror_mode": {
    "name": "ipython",
    "version": 3
   },
   "file_extension": ".py",
   "mimetype": "text/x-python",
   "name": "python",
   "nbconvert_exporter": "python",
   "pygments_lexer": "ipython3",
   "version": "3.9.7"
  },
  "papermill": {
   "duration": 21.16163,
   "end_time": "2021-10-11T03:14:14.393281",
   "exception": null,
   "input_path": "/var/folders/3h/_lvh_w_x5g30rrjzb_xnn2j80000gq/T/tmpi8ssqhqw.ipynb",
   "output_path": "parametrized/README.ipynb",
   "parameters": {
    "product": "parametrized/README.ipynb"
   },
   "start_time": "2021-10-11T03:13:53.231651"
  }
 },
 "nbformat": 4,
 "nbformat_minor": 5
}
