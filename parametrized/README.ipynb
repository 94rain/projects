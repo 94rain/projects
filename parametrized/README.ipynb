{
 "cells": [
  {
   "cell_type": "markdown",
   "metadata": {
    "papermill": {
     "duration": 0.013386,
     "end_time": "2020-12-10T00:18:23.747331",
     "exception": false,
     "start_time": "2020-12-10T00:18:23.733945",
     "status": "completed"
    },
    "tags": []
   },
   "source": [
    "\n",
    "*Note:* You can run this from your computer (Jupyter or terminal), or use one of the\n",
    "hosted options:\n",
    "[![binder-logo](https://mybinder.org/badge_logo.svg)](https://mybinder.org/v2/gh/ploomber/binder-env/main?urlpath=git-pull%3Frepo%3Dhttps%253A%252F%252Fgithub.com%252Fploomber%252Fprojects%26urlpath%3Dlab%252Ftree%252Fprojects%252Fparametrized%252FREADME.ipynb%26branch%3Dmaster)\n",
    "[![deepnote-logo](https://deepnote.com/buttons/launch-in-deepnote-small.svg)](https://deepnote.com/launch?template=deepnote&url=https://github.com/ploomber/projects/blob/master/parametrized/README.ipynb)\n"
   ]
  },
  {
   "cell_type": "markdown",
   "metadata": {
    "papermill": {
     "duration": 0.009505,
     "end_time": "2020-12-10T00:18:23.766955",
     "exception": false,
     "start_time": "2020-12-10T00:18:23.757450",
     "status": "completed"
    },
    "tags": []
   },
   "source": [
    "# Parametrized pipelines"
   ]
  },
  {
   "cell_type": "markdown",
   "metadata": {
    "papermill": {
     "duration": 0.01091,
     "end_time": "2020-12-10T00:18:23.787550",
     "exception": false,
     "start_time": "2020-12-10T00:18:23.776640",
     "status": "completed"
    },
    "tags": []
   },
   "source": [
    "Often, pipelines perform the same operation over different subsets of the data. For example, say you are developing visualizations of economic data. You might want to generate the same charts for different countries. \n",
    "\n",
    "One way to approach the problem is to have a for loop on each pipeline task to process all countries you need. But such approach adds unnecessary complexity to our code, it's better to keep our logic simple (each task processes a single country) and take the iterative logic out of our pipeline.\n",
    "\n",
    "Ploomber allows you to do so using parametrized pipelines. Let's see a sample `pipeline.yaml`."
   ]
  },
  {
   "cell_type": "markdown",
   "metadata": {
    "papermill": {
     "duration": 0.009439,
     "end_time": "2020-12-10T00:18:23.807285",
     "exception": false,
     "start_time": "2020-12-10T00:18:23.797846",
     "status": "completed"
    },
    "tags": []
   },
   "source": [
    "## Spec (``pipeline.yaml``)"
   ]
  },
  {
   "cell_type": "code",
   "execution_count": 1,
   "metadata": {
    "execution": {
     "iopub.execute_input": "2020-12-10T00:18:23.831907Z",
     "iopub.status.busy": "2020-12-10T00:18:23.831265Z",
     "iopub.status.idle": "2020-12-10T00:18:24.997438Z",
     "shell.execute_reply": "2020-12-10T00:18:24.996829Z"
    },
    "papermill": {
     "duration": 1.18,
     "end_time": "2020-12-10T00:18:24.997685",
     "exception": false,
     "start_time": "2020-12-10T00:18:23.817685",
     "status": "completed"
    },
    "tags": []
   },
   "outputs": [],
   "source": [
    "from ploomberutils import display_file, filter_output"
   ]
  },
  {
   "cell_type": "code",
   "execution_count": 2,
   "metadata": {
    "execution": {
     "iopub.execute_input": "2020-12-10T00:18:25.024755Z",
     "iopub.status.busy": "2020-12-10T00:18:25.024068Z",
     "iopub.status.idle": "2020-12-10T00:18:25.033670Z",
     "shell.execute_reply": "2020-12-10T00:18:25.034219Z"
    },
    "papermill": {
     "duration": 0.026573,
     "end_time": "2020-12-10T00:18:25.034477",
     "exception": false,
     "start_time": "2020-12-10T00:18:25.007904",
     "status": "completed"
    },
    "tags": []
   },
   "outputs": [
    {
     "data": {
      "text/markdown": [
       "\n",
       "```yaml\n",
       "meta:\n",
       "  extract_product: False\n",
       "\n",
       "tasks:\n",
       "  - source: print.py\n",
       "    name: print\n",
       "    product:\n",
       "      nb: 'output/{{some_param}}/notebook.ipynb'\n",
       "    papermill_params:\n",
       "        log_output: True\n",
       "    params:\n",
       "      some_param: '{{some_param}}'\n",
       "```\n"
      ],
      "text/plain": [
       "<IPython.core.display.Markdown object>"
      ]
     },
     "metadata": {},
     "output_type": "display_data"
    }
   ],
   "source": [
    "display_file('pipeline.yaml')"
   ]
  },
  {
   "cell_type": "markdown",
   "metadata": {
    "papermill": {
     "duration": 0.00992,
     "end_time": "2020-12-10T00:18:25.054567",
     "exception": false,
     "start_time": "2020-12-10T00:18:25.044647",
     "status": "completed"
    },
    "tags": []
   },
   "source": [
    "The `pipeline.yaml` above has a placeholder called `some_param`. It is coming from a file called `env.yaml`:"
   ]
  },
  {
   "cell_type": "code",
   "execution_count": 3,
   "metadata": {
    "execution": {
     "iopub.execute_input": "2020-12-10T00:18:25.079508Z",
     "iopub.status.busy": "2020-12-10T00:18:25.078688Z",
     "iopub.status.idle": "2020-12-10T00:18:25.082194Z",
     "shell.execute_reply": "2020-12-10T00:18:25.082681Z"
    },
    "papermill": {
     "duration": 0.018274,
     "end_time": "2020-12-10T00:18:25.082917",
     "exception": false,
     "start_time": "2020-12-10T00:18:25.064643",
     "status": "completed"
    },
    "tags": []
   },
   "outputs": [
    {
     "data": {
      "text/markdown": [
       "\n",
       "```yaml\n",
       "some_param: default_value\n",
       "```\n"
      ],
      "text/plain": [
       "<IPython.core.display.Markdown object>"
      ]
     },
     "metadata": {},
     "output_type": "display_data"
    }
   ],
   "source": [
    "display_file('env.yaml')"
   ]
  },
  {
   "cell_type": "markdown",
   "metadata": {
    "papermill": {
     "duration": 0.011044,
     "end_time": "2020-12-10T00:18:25.105203",
     "exception": false,
     "start_time": "2020-12-10T00:18:25.094159",
     "status": "completed"
    },
    "tags": []
   },
   "source": [
    "When assembling your pipeline, Ploomber looks for an `env.yaml` file. If found, all defined keys will be available to your pipeline definition. You can use these placeholders (placeholders are strings between double curly brackets) in any of the fields of your `pipeline.yaml` file.\n",
    "\n",
    "In our case, we are using it in two places. First, we are going to save the executed notebook in a folder with the value of `some_param`. This will allow you to keep copies of the generated output in a different folder depending on your parameter. Second, if we want to use the parameter in our code, we have to pass it to our tasks, all tasks take an optional `params` with arbitrary parameters.\n",
    "\n",
    "Let's see how the code looks like:"
   ]
  },
  {
   "cell_type": "code",
   "execution_count": 4,
   "metadata": {
    "execution": {
     "iopub.execute_input": "2020-12-10T00:18:25.132471Z",
     "iopub.status.busy": "2020-12-10T00:18:25.131514Z",
     "iopub.status.idle": "2020-12-10T00:18:25.135290Z",
     "shell.execute_reply": "2020-12-10T00:18:25.136023Z"
    },
    "papermill": {
     "duration": 0.019078,
     "end_time": "2020-12-10T00:18:25.136270",
     "exception": false,
     "start_time": "2020-12-10T00:18:25.117192",
     "status": "completed"
    },
    "tags": []
   },
   "outputs": [
    {
     "data": {
      "text/markdown": [
       "\n",
       "```py\n",
       "# + tags=[\"parameters\"]\n",
       "upstream = None\n",
       "product = None\n",
       "some_param = None\n",
       "\n",
       "# +\n",
       "print('some_param: ', some_param, ' type: ', type(some_param))\n",
       "\n",
       "```\n"
      ],
      "text/plain": [
       "<IPython.core.display.Markdown object>"
      ]
     },
     "metadata": {},
     "output_type": "display_data"
    }
   ],
   "source": [
    "display_file('print.py')"
   ]
  },
  {
   "cell_type": "markdown",
   "metadata": {
    "papermill": {
     "duration": 0.010742,
     "end_time": "2020-12-10T00:18:25.157831",
     "exception": false,
     "start_time": "2020-12-10T00:18:25.147089",
     "status": "completed"
    },
    "tags": []
   },
   "source": [
    "Our task is a Python script. This means parameters are passed as an injected cell at runtime. Let's see what happens if we build our pipeline."
   ]
  },
  {
   "cell_type": "code",
   "execution_count": 5,
   "metadata": {
    "execution": {
     "iopub.execute_input": "2020-12-10T00:18:25.188861Z",
     "iopub.status.busy": "2020-12-10T00:18:25.188108Z",
     "iopub.status.idle": "2020-12-10T00:18:29.803944Z",
     "shell.execute_reply": "2020-12-10T00:18:29.804744Z"
    },
    "papermill": {
     "duration": 4.636381,
     "end_time": "2020-12-10T00:18:29.805003",
     "exception": false,
     "start_time": "2020-12-10T00:18:25.168622",
     "status": "completed"
    },
    "tags": []
   },
   "outputs": [],
   "source": [
    "%%capture captured\n",
    "%%sh\n",
    "ploomber build --force --log INFO"
   ]
  },
  {
   "cell_type": "code",
   "execution_count": 6,
   "metadata": {
    "execution": {
     "iopub.execute_input": "2020-12-10T00:18:29.832887Z",
     "iopub.status.busy": "2020-12-10T00:18:29.832182Z",
     "iopub.status.idle": "2020-12-10T00:18:29.835329Z",
     "shell.execute_reply": "2020-12-10T00:18:29.834910Z"
    },
    "papermill": {
     "duration": 0.019108,
     "end_time": "2020-12-10T00:18:29.835504",
     "exception": false,
     "start_time": "2020-12-10T00:18:29.816396",
     "status": "completed"
    },
    "tags": []
   },
   "outputs": [
    {
     "name": "stdout",
     "output_type": "stream",
     "text": [
      "INFO:papermill:some_param:  default_value  type:  <class 'str'>\n"
     ]
    }
   ],
   "source": [
    "filter_output(captured, startswith='INFO:papermill:some_param')"
   ]
  },
  {
   "cell_type": "markdown",
   "metadata": {
    "papermill": {
     "duration": 0.012307,
     "end_time": "2020-12-10T00:18:29.859417",
     "exception": false,
     "start_time": "2020-12-10T00:18:29.847110",
     "status": "completed"
    },
    "tags": []
   },
   "source": [
    "We see that our param `some_param` is taking the default value (`default_value`) as defined in `env.yaml`. The command line interface is aware of any parameters, you can see them using the `--help` option:"
   ]
  },
  {
   "cell_type": "code",
   "execution_count": 7,
   "metadata": {
    "execution": {
     "iopub.execute_input": "2020-12-10T00:18:29.887114Z",
     "iopub.status.busy": "2020-12-10T00:18:29.886489Z",
     "iopub.status.idle": "2020-12-10T00:18:32.203757Z",
     "shell.execute_reply": "2020-12-10T00:18:32.204401Z"
    },
    "papermill": {
     "duration": 2.333329,
     "end_time": "2020-12-10T00:18:32.204662",
     "exception": false,
     "start_time": "2020-12-10T00:18:29.871333",
     "status": "completed"
    },
    "tags": []
   },
   "outputs": [
    {
     "name": "stdout",
     "output_type": "stream",
     "text": [
      "usage: ploomber [-h] [--log LOG] [--entry-point ENTRY_POINT] [--force]\n",
      "                [--partially PARTIALLY] [--debug]\n",
      "                [--env--some_param ENV__SOME_PARAM]\n",
      "\n",
      "Build pipeline\n",
      "\n",
      "optional arguments:\n",
      "  -h, --help            show this help message and exit\n",
      "  --log LOG, -l LOG     Enables logging to stdout at the specified level\n",
      "  --entry-point ENTRY_POINT, -e ENTRY_POINT\n",
      "                        Entry point(DAG), defaults to pipeline.yaml. Replaced\n",
      "                        if there is an ENTRY_POINT env variable defined\n",
      "  --force, -f           Force execution by ignoring status\n",
      "  --partially PARTIALLY, -p PARTIALLY\n",
      "                        Build a pipeline partially until certain task\n",
      "  --debug, -d           Drop a debugger session if an exception happens\n",
      "  --env--some_param ENV__SOME_PARAM\n",
      "                        Default: default_value\n"
     ]
    }
   ],
   "source": [
    "%%sh\n",
    "ploomber build --help"
   ]
  },
  {
   "cell_type": "markdown",
   "metadata": {
    "papermill": {
     "duration": 0.012058,
     "end_time": "2020-12-10T00:18:32.229330",
     "exception": false,
     "start_time": "2020-12-10T00:18:32.217272",
     "status": "completed"
    },
    "tags": []
   },
   "source": [
    "Apart from the default parameters from the `ploomber build` command, Ploomber automatically adds any parameters from `env.yaml`, we can easily override the default value, let's do that:"
   ]
  },
  {
   "cell_type": "code",
   "execution_count": 8,
   "metadata": {
    "execution": {
     "iopub.execute_input": "2020-12-10T00:18:32.260379Z",
     "iopub.status.busy": "2020-12-10T00:18:32.259716Z",
     "iopub.status.idle": "2020-12-10T00:18:35.976268Z",
     "shell.execute_reply": "2020-12-10T00:18:35.976746Z"
    },
    "papermill": {
     "duration": 3.735004,
     "end_time": "2020-12-10T00:18:35.976954",
     "exception": false,
     "start_time": "2020-12-10T00:18:32.241950",
     "status": "completed"
    },
    "tags": []
   },
   "outputs": [],
   "source": [
    "%%capture captured\n",
    "%%sh\n",
    "ploomber build --force --env--some_param another_value --log INFO"
   ]
  },
  {
   "cell_type": "code",
   "execution_count": 9,
   "metadata": {
    "execution": {
     "iopub.execute_input": "2020-12-10T00:18:36.008687Z",
     "iopub.status.busy": "2020-12-10T00:18:36.007836Z",
     "iopub.status.idle": "2020-12-10T00:18:36.010641Z",
     "shell.execute_reply": "2020-12-10T00:18:36.011085Z"
    },
    "papermill": {
     "duration": 0.020001,
     "end_time": "2020-12-10T00:18:36.011319",
     "exception": false,
     "start_time": "2020-12-10T00:18:35.991318",
     "status": "completed"
    },
    "tags": []
   },
   "outputs": [
    {
     "name": "stdout",
     "output_type": "stream",
     "text": [
      "INFO:papermill:some_param:  another_value  type:  <class 'str'>\n"
     ]
    }
   ],
   "source": [
    "filter_output(captured, startswith='INFO:papermill:some_param')"
   ]
  },
  {
   "cell_type": "markdown",
   "metadata": {
    "papermill": {
     "duration": 0.012233,
     "end_time": "2020-12-10T00:18:36.036326",
     "exception": false,
     "start_time": "2020-12-10T00:18:36.024093",
     "status": "completed"
    },
    "tags": []
   },
   "source": [
    "We see that our task, effectively changed the value!\n",
    "\n",
    "Finally, let's see how the `output/` folder looks like:"
   ]
  },
  {
   "cell_type": "code",
   "execution_count": 10,
   "metadata": {
    "execution": {
     "iopub.execute_input": "2020-12-10T00:18:36.067316Z",
     "iopub.status.busy": "2020-12-10T00:18:36.066517Z",
     "iopub.status.idle": "2020-12-10T00:18:36.109021Z",
     "shell.execute_reply": "2020-12-10T00:18:36.109536Z"
    },
    "papermill": {
     "duration": 0.06156,
     "end_time": "2020-12-10T00:18:36.109791",
     "exception": false,
     "start_time": "2020-12-10T00:18:36.048231",
     "status": "completed"
    },
    "tags": []
   },
   "outputs": [
    {
     "name": "stdout",
     "output_type": "stream",
     "text": [
      "output\n",
      "├── another_value\n",
      "│   ├── notebook.ipynb\n",
      "│   └── notebook.ipynb.source\n",
      "└── default_value\n",
      "    ├── notebook.ipynb\n",
      "    └── notebook.ipynb.source\n",
      "\n",
      "2 directories, 4 files\n"
     ]
    }
   ],
   "source": [
    "%%sh\n",
    "tree output"
   ]
  },
  {
   "cell_type": "markdown",
   "metadata": {
    "papermill": {
     "duration": 0.013407,
     "end_time": "2020-12-10T00:18:36.135901",
     "exception": false,
     "start_time": "2020-12-10T00:18:36.122494",
     "status": "completed"
    },
    "tags": []
   },
   "source": [
    "We have separate folders for each parameter, this helps keep things organized and takes the looping logic out of our pipeline.\n",
    "\n",
    "\n",
    "### Tips\n",
    "\n",
    "* This example uses a Python script as a task, in SQL pipeline, you can achieve the same effect (keeping output separate) by using the placeholder either in the product's schema or as a prefix in the table/view name\n",
    "* If the parameter takes a lot of different values and you want to run your pipeline using all of them, calling them by hand might get tedious. You have two options 1) write a  bash script that calls the CLI with different value parameters or 2) Use the Python API (everything that the CLI can do, you can do with Python directly), take a look at the `DAGSpec` documentation\n",
    "* Parametrized `pipeline.yaml` files are a great way to simplify task's logic but don't overdo it. If you find yourself adding too many parameters, it's a better idea to use the Python API directly. Factory function are the right pattern for highly customized pipeline construction\n",
    "* Given that the two pipelines are completely independent we could even run them in parallel to speed things up\n",
    "\n",
    "\n",
    "## Factory functions\n",
    "\n",
    "Parametrization is straightforward when using a factory function. If your\n",
    "factory takes parameters, they'll also be available in the command\n",
    "line interface. Types are inferred from [type hints](https://docs.python.org/3/library/typing.html). Let's see an example:"
   ]
  },
  {
   "cell_type": "code",
   "execution_count": 11,
   "metadata": {
    "execution": {
     "iopub.execute_input": "2020-12-10T00:18:36.165980Z",
     "iopub.status.busy": "2020-12-10T00:18:36.165161Z",
     "iopub.status.idle": "2020-12-10T00:18:36.168958Z",
     "shell.execute_reply": "2020-12-10T00:18:36.169411Z"
    },
    "papermill": {
     "duration": 0.021408,
     "end_time": "2020-12-10T00:18:36.169635",
     "exception": false,
     "start_time": "2020-12-10T00:18:36.148227",
     "status": "completed"
    },
    "tags": []
   },
   "outputs": [
    {
     "data": {
      "text/markdown": [
       "\n",
       "```py\n",
       "from ploomber import DAG\n",
       "\n",
       "\n",
       "def make(param: str, another: int = 10):\n",
       "    dag = DAG()\n",
       "    # add tasks to your pipeline...\n",
       "    return dag\n",
       "\n",
       "```\n"
      ],
      "text/plain": [
       "<IPython.core.display.Markdown object>"
      ]
     },
     "metadata": {},
     "output_type": "display_data"
    }
   ],
   "source": [
    "display_file('factory.py')"
   ]
  },
  {
   "cell_type": "markdown",
   "metadata": {
    "papermill": {
     "duration": 0.012822,
     "end_time": "2020-12-10T00:18:36.195450",
     "exception": false,
     "start_time": "2020-12-10T00:18:36.182628",
     "status": "completed"
    },
    "tags": []
   },
   "source": [
    "Our function takes two parameters: `param` and `another`. Parameters with no default values (`param`) are converted to positional arguments and function parameters with default values are converted\n",
    "to optional parameters (`another`). To see the exact auto-generated API, you can use the `--help` command:"
   ]
  },
  {
   "cell_type": "code",
   "execution_count": 12,
   "metadata": {
    "execution": {
     "iopub.execute_input": "2020-12-10T00:18:36.228481Z",
     "iopub.status.busy": "2020-12-10T00:18:36.227735Z",
     "iopub.status.idle": "2020-12-10T00:18:38.493076Z",
     "shell.execute_reply": "2020-12-10T00:18:38.492487Z"
    },
    "papermill": {
     "duration": 2.285089,
     "end_time": "2020-12-10T00:18:38.493300",
     "exception": false,
     "start_time": "2020-12-10T00:18:36.208211",
     "status": "completed"
    },
    "tags": []
   },
   "outputs": [
    {
     "name": "stdout",
     "output_type": "stream",
     "text": [
      "usage: ploomber [-h] [--log LOG] [--entry-point ENTRY_POINT] [--force]\n",
      "                [--partially PARTIALLY] [--debug] [--another ANOTHER]\n",
      "                param\n",
      "\n",
      "Build pipeline\n",
      "\n",
      "positional arguments:\n",
      "  param\n",
      "\n",
      "optional arguments:\n",
      "  -h, --help            show this help message and exit\n",
      "  --log LOG, -l LOG     Enables logging to stdout at the specified level\n",
      "  --entry-point ENTRY_POINT, -e ENTRY_POINT\n",
      "                        Entry point(DAG), defaults to pipeline.yaml. Replaced\n",
      "                        if there is an ENTRY_POINT env variable defined\n",
      "  --force, -f           Force execution by ignoring status\n",
      "  --partially PARTIALLY, -p PARTIALLY\n",
      "                        Build a pipeline partially until certain task\n",
      "  --debug, -d           Drop a debugger session if an exception happens\n",
      "  --another ANOTHER\n"
     ]
    }
   ],
   "source": [
    "%%sh\n",
    "ploomber build --entry-point factory.make --help"
   ]
  },
  {
   "cell_type": "code",
   "execution_count": null,
   "metadata": {
    "papermill": {
     "duration": 0.017591,
     "end_time": "2020-12-10T00:18:38.524636",
     "exception": false,
     "start_time": "2020-12-10T00:18:38.507045",
     "status": "completed"
    },
    "tags": [
     "parameters"
    ]
   },
   "outputs": [],
   "source": []
  },
  {
   "cell_type": "code",
   "execution_count": 13,
   "metadata": {
    "execution": {
     "iopub.execute_input": "2020-12-10T00:18:38.558919Z",
     "iopub.status.busy": "2020-12-10T00:18:38.558123Z",
     "iopub.status.idle": "2020-12-10T00:18:38.560184Z",
     "shell.execute_reply": "2020-12-10T00:18:38.560733Z"
    },
    "papermill": {
     "duration": 0.022338,
     "end_time": "2020-12-10T00:18:38.560967",
     "exception": false,
     "start_time": "2020-12-10T00:18:38.538629",
     "status": "completed"
    },
    "tags": [
     "injected-parameters"
    ]
   },
   "outputs": [],
   "source": [
    "# Parameters\n",
    "product = \"../../projects-ploomber/parametrized/README.ipynb\"\n"
   ]
  }
 ],
 "metadata": {
  "jupytext": {
   "cell_metadata_filter": "-all",
   "main_language": "python",
   "notebook_metadata_filter": "-all",
   "text_representation": {
    "extension": ".md",
    "format_name": "markdown"
   }
  },
  "kernelspec": {
   "display_name": "Python 3",
   "language": "python",
   "name": "python3"
  },
  "language_info": {
   "codemirror_mode": {
    "name": "ipython",
    "version": 3
   },
   "file_extension": ".py",
   "mimetype": "text/x-python",
   "name": "python",
   "nbconvert_exporter": "python",
   "pygments_lexer": "ipython3",
   "version": "3.8.6"
  },
  "papermill": {
   "default_parameters": {},
   "duration": 17.090472,
   "end_time": "2020-12-10T00:18:39.884253",
   "environment_variables": {},
   "exception": null,
   "input_path": "/var/folders/3h/_lvh_w_x5g30rrjzb_xnn2j80000gq/T/tmp8337p5ur.ipynb",
   "output_path": "../../projects-ploomber/parametrized/README.ipynb",
   "parameters": {
    "product": "../../projects-ploomber/parametrized/README.ipynb"
   },
   "start_time": "2020-12-10T00:18:22.793781",
   "version": "2.2.2"
  }
 },
 "nbformat": 4,
 "nbformat_minor": 4
}
