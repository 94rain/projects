{
 "cells": [
  {
   "cell_type": "markdown",
   "id": "093e7be3",
   "metadata": {
    "papermill": {
     "duration": 0.015707,
     "end_time": "2021-09-19T22:34:30.251434",
     "exception": false,
     "start_time": "2021-09-19T22:34:30.235727",
     "status": "completed"
    },
    "tags": []
   },
   "source": [
    "\n",
    "*Note:* You can run this from your computer (Jupyter or terminal), or using Binder (does not require any installation, takes a few minutes to be ready)\n",
    "\n",
    "[![binder-logo](https://mybinder.org/badge_logo.svg)](https://mybinder.org/v2/gh/ploomber/binder-env/main?urlpath=git-pull%3Frepo%3Dhttps%253A%252F%252Fgithub.com%252Fploomber%252Fprojects%26urlpath%3Dlab%252Ftree%252Fprojects%252Fparametrized%252FREADME.ipynb%26branch%3Dmaster)\n"
   ]
  },
  {
   "cell_type": "markdown",
   "id": "c890020e",
   "metadata": {
    "papermill": {
     "duration": 0.013172,
     "end_time": "2021-09-19T22:34:30.278007",
     "exception": false,
     "start_time": "2021-09-19T22:34:30.264835",
     "status": "completed"
    },
    "tags": []
   },
   "source": [
    "# Parametrized pipelines"
   ]
  },
  {
   "cell_type": "markdown",
   "id": "3250cd10",
   "metadata": {
    "papermill": {
     "duration": 0.012062,
     "end_time": "2021-09-19T22:34:30.304064",
     "exception": false,
     "start_time": "2021-09-19T22:34:30.292002",
     "status": "completed"
    },
    "tags": []
   },
   "source": [
    "Often, pipelines perform the same operation over different subsets of the data. For example, say you are developing visualizations of economic data. You might want to generate the same charts for other countries. \n",
    "\n",
    "One way to approach the problem is to have a for loop on each pipeline task to process all needed countries. But such an approach adds unnecessary complexity to our code; it's better to keep our logic simple (each task processes a single country) and take the iterative logic out of our pipeline.\n",
    "\n",
    "Ploomber allows you to do so using parametrized pipelines. Let's see a sample using a `pipeline.yaml` file.\n",
    "\n",
    "## Spec API (``pipeline.yaml``)"
   ]
  },
  {
   "cell_type": "code",
   "execution_count": 1,
   "id": "65aa542b",
   "metadata": {
    "execution": {
     "iopub.execute_input": "2021-09-19T22:34:30.337024Z",
     "iopub.status.busy": "2021-09-19T22:34:30.336285Z",
     "iopub.status.idle": "2021-09-19T22:34:31.528300Z",
     "shell.execute_reply": "2021-09-19T22:34:31.528833Z"
    },
    "papermill": {
     "duration": 1.212624,
     "end_time": "2021-09-19T22:34:31.529143",
     "exception": false,
     "start_time": "2021-09-19T22:34:30.316519",
     "status": "completed"
    },
    "tags": []
   },
   "outputs": [],
   "source": [
    "from ploomberutils import display_file, filter_output"
   ]
  },
  {
   "cell_type": "code",
   "execution_count": 2,
   "id": "35481a11",
   "metadata": {
    "execution": {
     "iopub.execute_input": "2021-09-19T22:34:31.561695Z",
     "iopub.status.busy": "2021-09-19T22:34:31.560981Z",
     "iopub.status.idle": "2021-09-19T22:34:31.572412Z",
     "shell.execute_reply": "2021-09-19T22:34:31.573576Z"
    },
    "papermill": {
     "duration": 0.031387,
     "end_time": "2021-09-19T22:34:31.573915",
     "exception": false,
     "start_time": "2021-09-19T22:34:31.542528",
     "status": "completed"
    },
    "tags": []
   },
   "outputs": [
    {
     "data": {
      "text/markdown": [
       "\n",
       "```yaml\n",
       "tasks:\n",
       "  - source: print.py\n",
       "    name: print\n",
       "    product:\n",
       "      nb: 'output/{{some_param}}/notebook.ipynb'\n",
       "    papermill_params:\n",
       "        log_output: True\n",
       "    params:\n",
       "      some_param: '{{some_param}}'\n",
       "```\n"
      ],
      "text/plain": [
       "<IPython.core.display.Markdown object>"
      ]
     },
     "metadata": {},
     "output_type": "display_data"
    }
   ],
   "source": [
    "display_file('pipeline.yaml')"
   ]
  },
  {
   "cell_type": "markdown",
   "id": "37d916ee",
   "metadata": {
    "papermill": {
     "duration": 0.013109,
     "end_time": "2021-09-19T22:34:31.599657",
     "exception": false,
     "start_time": "2021-09-19T22:34:31.586548",
     "status": "completed"
    },
    "tags": []
   },
   "source": [
    "The `pipeline.yaml` above has a placeholder called `some_param`. It is coming from a file called `env.yaml`:"
   ]
  },
  {
   "cell_type": "code",
   "execution_count": 3,
   "id": "ba2750b5",
   "metadata": {
    "execution": {
     "iopub.execute_input": "2021-09-19T22:34:31.630064Z",
     "iopub.status.busy": "2021-09-19T22:34:31.629341Z",
     "iopub.status.idle": "2021-09-19T22:34:31.632627Z",
     "shell.execute_reply": "2021-09-19T22:34:31.633132Z"
    },
    "papermill": {
     "duration": 0.021633,
     "end_time": "2021-09-19T22:34:31.633369",
     "exception": false,
     "start_time": "2021-09-19T22:34:31.611736",
     "status": "completed"
    },
    "tags": []
   },
   "outputs": [
    {
     "data": {
      "text/markdown": [
       "\n",
       "```yaml\n",
       "some_param: default_value\n",
       "```\n"
      ],
      "text/plain": [
       "<IPython.core.display.Markdown object>"
      ]
     },
     "metadata": {},
     "output_type": "display_data"
    }
   ],
   "source": [
    "display_file('env.yaml')"
   ]
  },
  {
   "cell_type": "markdown",
   "id": "2a7459d6",
   "metadata": {
    "papermill": {
     "duration": 0.01253,
     "end_time": "2021-09-19T22:34:31.658841",
     "exception": false,
     "start_time": "2021-09-19T22:34:31.646311",
     "status": "completed"
    },
    "tags": []
   },
   "source": [
    "When reading your `pipeline.yaml`, Ploomber looks for an `env.yaml` file. If found, all defined keys will be available to your pipeline definition. You can use these placeholders (placeholders are strings between double curly brackets) in any of the fields of your `pipeline.yaml` file.\n",
    "\n",
    "In our case, we are using it in two places. First, we will save the executed notebook in a folder with the value of `some_param`; this will allow you to keep copies of the generated output in a different folder depending on your parameter. Second, if we want to use the parameter in our code, we have to pass it to our tasks; all tasks take an optional `params` with arbitrary parameters.\n",
    "\n",
    "Let's see how the code looks like:"
   ]
  },
  {
   "cell_type": "code",
   "execution_count": 4,
   "id": "86f88d36",
   "metadata": {
    "execution": {
     "iopub.execute_input": "2021-09-19T22:34:31.691135Z",
     "iopub.status.busy": "2021-09-19T22:34:31.690347Z",
     "iopub.status.idle": "2021-09-19T22:34:31.694037Z",
     "shell.execute_reply": "2021-09-19T22:34:31.694546Z"
    },
    "papermill": {
     "duration": 0.021616,
     "end_time": "2021-09-19T22:34:31.694781",
     "exception": false,
     "start_time": "2021-09-19T22:34:31.673165",
     "status": "completed"
    },
    "tags": []
   },
   "outputs": [
    {
     "data": {
      "text/markdown": [
       "\n",
       "```py\n",
       "# + tags=[\"parameters\"]\n",
       "upstream = None\n",
       "product = None\n",
       "some_param = None\n",
       "\n",
       "# +\n",
       "print('some_param: ', some_param, ' type: ', type(some_param))\n",
       "```\n"
      ],
      "text/plain": [
       "<IPython.core.display.Markdown object>"
      ]
     },
     "metadata": {},
     "output_type": "display_data"
    }
   ],
   "source": [
    "display_file('print.py')"
   ]
  },
  {
   "cell_type": "markdown",
   "id": "a8cdfae4",
   "metadata": {
    "papermill": {
     "duration": 0.012878,
     "end_time": "2021-09-19T22:34:31.720743",
     "exception": false,
     "start_time": "2021-09-19T22:34:31.707865",
     "status": "completed"
    },
    "tags": []
   },
   "source": [
    "Our task is a Python script, meaning that parameters are passed as an injected cell at runtime. Let's see what happens if we build our pipeline."
   ]
  },
  {
   "cell_type": "code",
   "execution_count": 5,
   "id": "758d1bb5",
   "metadata": {
    "execution": {
     "iopub.execute_input": "2021-09-19T22:34:31.757007Z",
     "iopub.status.busy": "2021-09-19T22:34:31.756171Z",
     "iopub.status.idle": "2021-09-19T22:34:35.570393Z",
     "shell.execute_reply": "2021-09-19T22:34:35.570961Z"
    },
    "papermill": {
     "duration": 3.837297,
     "end_time": "2021-09-19T22:34:35.571180",
     "exception": false,
     "start_time": "2021-09-19T22:34:31.733883",
     "status": "completed"
    },
    "tags": []
   },
   "outputs": [],
   "source": [
    "%%capture captured\n",
    "%%sh\n",
    "ploomber build --force --log INFO"
   ]
  },
  {
   "cell_type": "code",
   "execution_count": 6,
   "id": "94725035",
   "metadata": {
    "execution": {
     "iopub.execute_input": "2021-09-19T22:34:35.604704Z",
     "iopub.status.busy": "2021-09-19T22:34:35.603633Z",
     "iopub.status.idle": "2021-09-19T22:34:35.607650Z",
     "shell.execute_reply": "2021-09-19T22:34:35.608146Z"
    },
    "papermill": {
     "duration": 0.023653,
     "end_time": "2021-09-19T22:34:35.608382",
     "exception": false,
     "start_time": "2021-09-19T22:34:35.584729",
     "status": "completed"
    },
    "tags": []
   },
   "outputs": [
    {
     "name": "stdout",
     "output_type": "stream",
     "text": [
      "INFO:papermill:some_param:  default_value  type:  <class 'str'>\n"
     ]
    }
   ],
   "source": [
    "filter_output(captured, startswith='INFO:papermill:some_param')"
   ]
  },
  {
   "cell_type": "markdown",
   "id": "69e7352d",
   "metadata": {
    "papermill": {
     "duration": 0.0144,
     "end_time": "2021-09-19T22:34:35.636665",
     "exception": false,
     "start_time": "2021-09-19T22:34:35.622265",
     "status": "completed"
    },
    "tags": []
   },
   "source": [
    "We see that our param `some_param` is taking the default value (`default_value`) as defined in `env.yaml`. The command-line interface is aware of any parameters. You can see them using the `--help` option:"
   ]
  },
  {
   "cell_type": "code",
   "execution_count": 7,
   "id": "5084aed5",
   "metadata": {
    "execution": {
     "iopub.execute_input": "2021-09-19T22:34:35.669106Z",
     "iopub.status.busy": "2021-09-19T22:34:35.668450Z",
     "iopub.status.idle": "2021-09-19T22:34:37.779661Z",
     "shell.execute_reply": "2021-09-19T22:34:37.780176Z"
    },
    "papermill": {
     "duration": 2.129674,
     "end_time": "2021-09-19T22:34:37.780417",
     "exception": false,
     "start_time": "2021-09-19T22:34:35.650743",
     "status": "completed"
    },
    "tags": []
   },
   "outputs": [
    {
     "name": "stdout",
     "output_type": "stream",
     "text": [
      "usage: ploomber [-h] [--log LOG] [--entry-point ENTRY_POINT] [--force]\n",
      "                [--skip-upstream] [--partially PARTIALLY] [--debug]\n",
      "                [--env--some_param ENV__SOME_PARAM]\n",
      "\n",
      "Build pipeline\n",
      "\n",
      "optional arguments:\n",
      "  -h, --help            show this help message and exit\n",
      "  --log LOG, -l LOG     Enables logging to stdout at the specified level\n",
      "  --entry-point ENTRY_POINT, -e ENTRY_POINT\n",
      "                        Entry point, defaults to pipeline.yaml\n",
      "  --force, -f           Force execution by ignoring status\n",
      "  --skip-upstream, -su  Skip building upstream dependencies. Only applicable\n",
      "                        when using --partially\n",
      "  --partially PARTIALLY, -p PARTIALLY\n",
      "                        Build a pipeline partially until certain task\n",
      "  --debug, -d           Drop a debugger session if an exception happens\n",
      "  --env--some_param ENV__SOME_PARAM\n",
      "                        Default: default_value\n"
     ]
    }
   ],
   "source": [
    "%%sh\n",
    "ploomber build --help"
   ]
  },
  {
   "cell_type": "markdown",
   "id": "5fc24b02",
   "metadata": {
    "papermill": {
     "duration": 0.014767,
     "end_time": "2021-09-19T22:34:37.809161",
     "exception": false,
     "start_time": "2021-09-19T22:34:37.794394",
     "status": "completed"
    },
    "tags": []
   },
   "source": [
    "Apart from the default parameters from the `ploomber build` command, Ploomber automatically adds any parameters from `env.yaml`, we can easily override the default value. Let's do that:"
   ]
  },
  {
   "cell_type": "code",
   "execution_count": 8,
   "id": "e1b77743",
   "metadata": {
    "execution": {
     "iopub.execute_input": "2021-09-19T22:34:37.847284Z",
     "iopub.status.busy": "2021-09-19T22:34:37.846529Z",
     "iopub.status.idle": "2021-09-19T22:34:41.478302Z",
     "shell.execute_reply": "2021-09-19T22:34:41.478777Z"
    },
    "papermill": {
     "duration": 3.653934,
     "end_time": "2021-09-19T22:34:41.479064",
     "exception": false,
     "start_time": "2021-09-19T22:34:37.825130",
     "status": "completed"
    },
    "tags": []
   },
   "outputs": [],
   "source": [
    "%%capture captured\n",
    "%%sh\n",
    "ploomber build --force --env--some_param another_value --log INFO"
   ]
  },
  {
   "cell_type": "code",
   "execution_count": 9,
   "id": "ebb6194b",
   "metadata": {
    "execution": {
     "iopub.execute_input": "2021-09-19T22:34:41.514214Z",
     "iopub.status.busy": "2021-09-19T22:34:41.513284Z",
     "iopub.status.idle": "2021-09-19T22:34:41.516681Z",
     "shell.execute_reply": "2021-09-19T22:34:41.517232Z"
    },
    "papermill": {
     "duration": 0.02388,
     "end_time": "2021-09-19T22:34:41.517483",
     "exception": false,
     "start_time": "2021-09-19T22:34:41.493603",
     "status": "completed"
    },
    "tags": []
   },
   "outputs": [
    {
     "name": "stdout",
     "output_type": "stream",
     "text": [
      "INFO:papermill:some_param:  another_value  type:  <class 'str'>\n"
     ]
    }
   ],
   "source": [
    "filter_output(captured, startswith='INFO:papermill:some_param')"
   ]
  },
  {
   "cell_type": "markdown",
   "id": "4be1773c",
   "metadata": {
    "papermill": {
     "duration": 0.014387,
     "end_time": "2021-09-19T22:34:41.546998",
     "exception": false,
     "start_time": "2021-09-19T22:34:41.532611",
     "status": "completed"
    },
    "tags": []
   },
   "source": [
    "We see that our task effectively changed the value!\n",
    "\n",
    "Finally, let's see how the `output/` folder looks like:"
   ]
  },
  {
   "cell_type": "code",
   "execution_count": 10,
   "id": "3f8125d8",
   "metadata": {
    "execution": {
     "iopub.execute_input": "2021-09-19T22:34:41.584273Z",
     "iopub.status.busy": "2021-09-19T22:34:41.581679Z",
     "iopub.status.idle": "2021-09-19T22:34:41.643858Z",
     "shell.execute_reply": "2021-09-19T22:34:41.644331Z"
    },
    "papermill": {
     "duration": 0.083463,
     "end_time": "2021-09-19T22:34:41.644579",
     "exception": false,
     "start_time": "2021-09-19T22:34:41.561116",
     "status": "completed"
    },
    "tags": []
   },
   "outputs": [
    {
     "name": "stdout",
     "output_type": "stream",
     "text": [
      "output\n",
      "├── another_value\n",
      "│   └── notebook.ipynb\n",
      "└── default_value\n",
      "    └── notebook.ipynb\n",
      "\n",
      "2 directories, 2 files\n"
     ]
    }
   ],
   "source": [
    "%%sh\n",
    "tree output"
   ]
  },
  {
   "cell_type": "markdown",
   "id": "348d8faa",
   "metadata": {
    "papermill": {
     "duration": 0.017298,
     "end_time": "2021-09-19T22:34:41.677722",
     "exception": false,
     "start_time": "2021-09-19T22:34:41.660424",
     "status": "completed"
    },
    "tags": []
   },
   "source": [
    "\n",
    "We have separate folders for each parameter, helping to keep things organized and taking the looping logic out of our pipeline.\n",
    "\n",
    "\n",
    "### Notes\n",
    "\n",
    "* There are some built-in placeholders that you can use without having an `env.yaml` file. For example, `{{here}}` will expand to the `pipeline.yaml` parent directory. [Check out the Spec API documentation](https://ploomber.readthedocs.io/en/latest/api/spec.html#default-placeholders) for more information.\n",
    "* This example uses a Python script as a task. In SQL pipeline, you can achieve the same effect by using the placeholder in the product's schema or a table/view name prefix.\n",
    "* If the parameter takes many different values and you want to run your pipeline using all of them, calling them by hand might get tedious. So you have two options 1) write a  bash script that calls the CLI with different value parameters or 2) Use the Python API (everything that the CLI can do, you can do with Python directly), take a look at the `DAGSpec` documentation.\n",
    "* Parametrized `pipeline.yaml` files are a great way to simplify a task's logic but not overdo it. If you find yourself adding too many parameters, it's a better idea to use the Python AP directly; factory functions are the correct pattern for highly customized pipeline construction.\n",
    "* Given that the two pipelines are entirely independent, we could even run them in parallel.\n",
    "\n",
    "\n",
    "## Python API (factory functions)\n",
    "\n",
    "Parametrization is straightforward when using a factory function. If your\n",
    "factory takes parameters, they'll also be available in the command-line interface. Types are inferred from [type hints](https://docs.python.org/3/library/typing.html). Let's see an example:"
   ]
  },
  {
   "cell_type": "code",
   "execution_count": 11,
   "id": "09c08550",
   "metadata": {
    "execution": {
     "iopub.execute_input": "2021-09-19T22:34:41.712965Z",
     "iopub.status.busy": "2021-09-19T22:34:41.712162Z",
     "iopub.status.idle": "2021-09-19T22:34:41.716499Z",
     "shell.execute_reply": "2021-09-19T22:34:41.717173Z"
    },
    "papermill": {
     "duration": 0.025213,
     "end_time": "2021-09-19T22:34:41.717410",
     "exception": false,
     "start_time": "2021-09-19T22:34:41.692197",
     "status": "completed"
    },
    "tags": []
   },
   "outputs": [
    {
     "data": {
      "text/markdown": [
       "\n",
       "```py\n",
       "from ploomber import DAG\n",
       "\n",
       "\n",
       "def make(param: str, another: int = 10):\n",
       "    dag = DAG()\n",
       "    # add tasks to your pipeline...\n",
       "    return dag\n",
       "```\n"
      ],
      "text/plain": [
       "<IPython.core.display.Markdown object>"
      ]
     },
     "metadata": {},
     "output_type": "display_data"
    }
   ],
   "source": [
    "display_file('factory.py')"
   ]
  },
  {
   "cell_type": "markdown",
   "id": "b6e172f3",
   "metadata": {
    "papermill": {
     "duration": 0.014967,
     "end_time": "2021-09-19T22:34:41.747940",
     "exception": false,
     "start_time": "2021-09-19T22:34:41.732973",
     "status": "completed"
    },
    "tags": []
   },
   "source": [
    "Our function takes two parameters: `param` and `another`. Parameters with no default values (`param`) turn into positional arguments, and function parameters with default values convert\n",
    "to optional parameters (`another`). To see the same auto-generated API, you can use the `--help` command:"
   ]
  },
  {
   "cell_type": "code",
   "execution_count": 12,
   "id": "d4dd35bd",
   "metadata": {
    "execution": {
     "iopub.execute_input": "2021-09-19T22:34:41.784327Z",
     "iopub.status.busy": "2021-09-19T22:34:41.783588Z",
     "iopub.status.idle": "2021-09-19T22:34:43.842780Z",
     "shell.execute_reply": "2021-09-19T22:34:43.843484Z"
    },
    "papermill": {
     "duration": 2.080493,
     "end_time": "2021-09-19T22:34:43.843725",
     "exception": false,
     "start_time": "2021-09-19T22:34:41.763232",
     "status": "completed"
    },
    "tags": []
   },
   "outputs": [
    {
     "name": "stdout",
     "output_type": "stream",
     "text": [
      "usage: ploomber [-h] [--log LOG] [--entry-point ENTRY_POINT] [--force]\n",
      "                [--skip-upstream] [--partially PARTIALLY] [--debug]\n",
      "                [--another ANOTHER]\n",
      "                param\n",
      "\n",
      "Build pipeline\n",
      "\n",
      "positional arguments:\n",
      "  param\n",
      "\n",
      "optional arguments:\n",
      "  -h, --help            show this help message and exit\n",
      "  --log LOG, -l LOG     Enables logging to stdout at the specified level\n",
      "  --entry-point ENTRY_POINT, -e ENTRY_POINT\n",
      "                        Entry point, defaults to pipeline.yaml\n",
      "  --force, -f           Force execution by ignoring status\n",
      "  --skip-upstream, -su  Skip building upstream dependencies. Only applicable\n",
      "                        when using --partially\n",
      "  --partially PARTIALLY, -p PARTIALLY\n",
      "                        Build a pipeline partially until certain task\n",
      "  --debug, -d           Drop a debugger session if an exception happens\n",
      "  --another ANOTHER\n"
     ]
    }
   ],
   "source": [
    "%%sh\n",
    "ploomber build --entry-point factory.make --help"
   ]
  },
  {
   "cell_type": "markdown",
   "id": "c12d4c70",
   "metadata": {
    "papermill": {
     "duration": 0.016358,
     "end_time": "2021-09-19T22:34:43.875645",
     "exception": false,
     "start_time": "2021-09-19T22:34:43.859287",
     "status": "completed"
    },
    "tags": []
   },
   "source": [
    "Note that the Python API requires more work than a `pipeline.yaml` file, but it is more flexible. [Click here] to see [examples](https://github.com/ploomber/projects/tree/master/python-api-examples) using the Python API."
   ]
  }
 ],
 "metadata": {
  "jupytext": {
   "cell_metadata_filter": "-all",
   "main_language": "python",
   "notebook_metadata_filter": "-all"
  },
  "kernelspec": {
   "display_name": "Python 3 (ipykernel)",
   "language": "python",
   "name": "python3"
  },
  "language_info": {
   "codemirror_mode": {
    "name": "ipython",
    "version": 3
   },
   "file_extension": ".py",
   "mimetype": "text/x-python",
   "name": "python",
   "nbconvert_exporter": "python",
   "pygments_lexer": "ipython3",
   "version": "3.7.10"
  },
  "papermill": {
   "duration": 15.153763,
   "end_time": "2021-09-19T22:34:44.280552",
   "exception": null,
   "input_path": "/var/folders/3h/_lvh_w_x5g30rrjzb_xnn2j80000gq/T/tmpj7aehtt0.ipynb",
   "output_path": "parametrized/README.ipynb",
   "parameters": {
    "product": "parametrized/README.ipynb"
   },
   "start_time": "2021-09-19T22:34:29.126789"
  }
 },
 "nbformat": 4,
 "nbformat_minor": 5
}
