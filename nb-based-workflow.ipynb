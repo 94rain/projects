{
 "cells": [
  {
   "cell_type": "code",
   "execution_count": null,
   "metadata": {},
   "outputs": [],
   "source": [
    "! cd nb-based-workflow && pip install ."
   ]
  },
  {
   "cell_type": "code",
   "execution_count": 35,
   "metadata": {},
   "outputs": [],
   "source": [
    "from IPython.display import Image, HTML, Markdown, display\n",
    "from ploomber_nb.pipeline import make"
   ]
  },
  {
   "cell_type": "code",
   "execution_count": 36,
   "metadata": {},
   "outputs": [
    {
     "data": {
      "text/markdown": [
       "# Notebook-based workflow\n",
       "\n",
       "ipython -i -m ploomber.entry pipeline.make status"
      ],
      "text/plain": [
       "<IPython.core.display.Markdown object>"
      ]
     },
     "execution_count": 36,
     "metadata": {},
     "output_type": "execute_result"
    }
   ],
   "source": [
    "Markdown(filename='nb-based-workflow/README.md')"
   ]
  },
  {
   "cell_type": "code",
   "execution_count": 30,
   "metadata": {},
   "outputs": [
    {
     "name": "stdout",
     "output_type": "stream",
     "text": [
      "LICENSE                  environment.yml          \u001b[1m\u001b[36mnb-based-workflow\u001b[m\u001b[m/\r\n",
      "README.md                \u001b[1m\u001b[36mimdb\u001b[m\u001b[m/                    nb-based-workflow.ipynb\r\n",
      "\u001b[1m\u001b[36mbasic-ml\u001b[m\u001b[m/                \u001b[1m\u001b[36mlyrics\u001b[m\u001b[m/                  \u001b[1m\u001b[36moutput\u001b[m\u001b[m/\r\n"
     ]
    }
   ],
   "source": [
    "ls"
   ]
  },
  {
   "cell_type": "code",
   "execution_count": 2,
   "metadata": {},
   "outputs": [],
   "source": [
    "# returns our pipeline object\n",
    "dag = make()"
   ]
  },
  {
   "cell_type": "code",
   "execution_count": 4,
   "metadata": {},
   "outputs": [
    {
     "data": {
      "application/vnd.jupyter.widget-view+json": {
       "model_id": "e6b693708b064cf79663ff530dcb697f",
       "version_major": 2,
       "version_minor": 0
      },
      "text/plain": [
       "HBox(children=(FloatProgress(value=0.0, max=3.0), HTML(value='')))"
      ]
     },
     "metadata": {},
     "output_type": "display_data"
    },
    {
     "name": "stdout",
     "output_type": "stream",
     "text": [
      "\n"
     ]
    },
    {
     "data": {
      "image/png": "[encoded data removed]",
      "text/plain": [
       "<IPython.core.display.Image object>"
      ]
     },
     "execution_count": 4,
     "metadata": {},
     "output_type": "execute_result"
    }
   ],
   "source": [
    "Image(filename=dag.plot())"
   ]
  },
  {
   "cell_type": "code",
   "execution_count": 18,
   "metadata": {},
   "outputs": [],
   "source": [
    "# helper function to display code\n",
    "def display_code(code):\n",
    "    display(Markdown(\"\"\"\n",
    "```python\n",
    "{}\n",
    "```\n",
    "\"\"\".format(code)))"
   ]
  },
  {
   "cell_type": "markdown",
   "metadata": {},
   "source": [
    "## Load task (Python function)"
   ]
  },
  {
   "cell_type": "code",
   "execution_count": 19,
   "metadata": {
    "scrolled": false
   },
   "outputs": [
    {
     "data": {
      "text/markdown": [
       "\n",
       "```python\n",
       "def load(product):\n",
       "    df = pd.DataFrame({'x': np.random.rand(500)})\n",
       "    df['x'] = df['x'] + 1\n",
       "    df.to_csv(str(product), index=False)\n",
       "\n",
       "```\n"
      ],
      "text/plain": [
       "<IPython.core.display.Markdown object>"
      ]
     },
     "metadata": {},
     "output_type": "display_data"
    }
   ],
   "source": [
    "display_code(str(dag['load'].source))"
   ]
  },
  {
   "cell_type": "markdown",
   "metadata": {},
   "source": [
    "## Clean task (Python script)"
   ]
  },
  {
   "cell_type": "code",
   "execution_count": 20,
   "metadata": {},
   "outputs": [
    {
     "data": {
      "text/markdown": [
       "\n",
       "```python\n",
       "# + tags=[]\n",
       "import pandas as pd\n",
       "\n",
       "# + tags=[\"parameters\"]\n",
       "product = None\n",
       "upstream = None\n",
       "\n",
       "# + tags=[]\n",
       "df = pd.read_csv(upstream['load'])\n",
       "df\n",
       "# + tags=[]\n",
       "df['x'] = df['x'] + 1\n",
       "df.to_csv(product['data'], index=False)\n",
       "\n",
       "# + tags=[]\n",
       "\n",
       "```\n"
      ],
      "text/plain": [
       "<IPython.core.display.Markdown object>"
      ]
     },
     "metadata": {},
     "output_type": "display_data"
    }
   ],
   "source": [
    "display_code(str(dag['clean.py'].source))"
   ]
  },
  {
   "cell_type": "markdown",
   "metadata": {},
   "source": [
    "## Plot task (Pyton script)"
   ]
  },
  {
   "cell_type": "code",
   "execution_count": 21,
   "metadata": {},
   "outputs": [
    {
     "data": {
      "text/markdown": [
       "\n",
       "```python\n",
       "# + tags=[]\n",
       "import pandas as pd\n",
       "import seaborn as sns\n",
       "\n",
       "# + tags=[\"parameters\"]\n",
       "product = None\n",
       "upstream = None\n",
       "\n",
       "# + tags=[]\n",
       "df = pd.read_csv(upstream['clean.py']['data'])\n",
       "\n",
       "df['x'] = df['x'] + 1\n",
       "# -\n",
       "\n",
       "sns.distplot(df.x)\n",
       "\n",
       "\n",
       "\n",
       "```\n"
      ],
      "text/plain": [
       "<IPython.core.display.Markdown object>"
      ]
     },
     "metadata": {},
     "output_type": "display_data"
    }
   ],
   "source": [
    "display_code(str(dag['plot.py'].source))"
   ]
  },
  {
   "cell_type": "markdown",
   "metadata": {},
   "source": [
    "## Executing the pipeline"
   ]
  },
  {
   "cell_type": "code",
   "execution_count": 25,
   "metadata": {},
   "outputs": [
    {
     "name": "stdout",
     "output_type": "stream",
     "text": [
      "Rendering DAG \"No name\": 100%|████████████████████| 3/3 [00:00<00:00,  8.98it/s]\n",
      "100%|██████████████████████████████████████████| 3/3 [00:00<00:00, 20971.52it/s]\n",
      "name      Ran?      Elapsed (s)    Percentage\n",
      "--------  ------  -------------  ------------\n",
      "load      False               0             0\n",
      "clean.py  False               0             0\n",
      "plot.py   False               0             0\n"
     ]
    }
   ],
   "source": [
    "! python -m ploomber.entry ploomber_nb.pipeline.make build"
   ]
  },
  {
   "cell_type": "markdown",
   "metadata": {},
   "source": [
    "Let's execute it again, since no source changes have been made, it will skip all tasks."
   ]
  },
  {
   "cell_type": "code",
   "execution_count": 26,
   "metadata": {},
   "outputs": [
    {
     "name": "stdout",
     "output_type": "stream",
     "text": [
      "Rendering DAG \"No name\": 100%|████████████████████| 3/3 [00:00<00:00,  9.57it/s]\n",
      "100%|███████████████████████████████████████████| 3/3 [00:00<00:00, 5329.48it/s]\n",
      "name      Ran?      Elapsed (s)    Percentage\n",
      "--------  ------  -------------  ------------\n",
      "load      False               0             0\n",
      "clean.py  False               0             0\n",
      "plot.py   False               0             0\n"
     ]
    }
   ],
   "source": [
    "! python -m ploomber.entry ploomber_nb.pipeline.make build"
   ]
  }
 ],
 "metadata": {
  "kernelspec": {
   "display_name": "Python 3",
   "language": "python",
   "name": "python3"
  },
  "language_info": {
   "codemirror_mode": {
    "name": "ipython",
    "version": 3
   },
   "file_extension": ".py",
   "mimetype": "text/x-python",
   "name": "python",
   "nbconvert_exporter": "python",
   "pygments_lexer": "ipython3",
   "version": "3.6.10"
  }
 },
 "nbformat": 4,
 "nbformat_minor": 4
}
