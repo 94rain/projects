{
 "cells": [
  {
   "cell_type": "code",
   "execution_count": 1,
   "metadata": {},
   "outputs": [
    {
     "name": "stdout",
     "output_type": "stream",
     "text": [
      "Obtaining file:///Users/Edu/dev/projects-ploomber/nb-based-workflow\n",
      "Installing collected packages: ploomber-nb\n",
      "  Attempting uninstall: ploomber-nb\n",
      "    Found existing installation: ploomber-nb 0.1.dev0\n",
      "    Uninstalling ploomber-nb-0.1.dev0:\n",
      "      Successfully uninstalled ploomber-nb-0.1.dev0\n",
      "  Running setup.py develop for ploomber-nb\n",
      "Successfully installed ploomber-nb\n"
     ]
    }
   ],
   "source": [
    "! cd nb-based-workflow && pip install --editable ."
   ]
  },
  {
   "cell_type": "code",
   "execution_count": 16,
   "metadata": {},
   "outputs": [],
   "source": [
    "from pathlib import Path\n",
    "from IPython.display import Image, HTML, Markdown, display\n",
    "from ploomber_nb.pipeline import make"
   ]
  },
  {
   "cell_type": "code",
   "execution_count": 3,
   "metadata": {},
   "outputs": [
    {
     "data": {
      "text/markdown": [
       "# Notebook-based workflow\n",
       "\n",
       "This example project showcases the basic Ploomber experience, hopefully, this interactive tutorial will convince you to try out Ploomber in your next Data Science project.\n",
       "\n",
       "Let's imagine you already build a simple Ploomber pipeline, which is organized in a few tasks. Ploomber allows you to quickly iterate by keeping track of source code changes and saving time to \"build\" your pipeline.\n",
       "\n"
      ],
      "text/plain": [
       "<IPython.core.display.Markdown object>"
      ]
     },
     "execution_count": 3,
     "metadata": {},
     "output_type": "execute_result"
    }
   ],
   "source": [
    "Markdown(filename='nb-based-workflow/README.md')"
   ]
  },
  {
   "cell_type": "markdown",
   "metadata": {},
   "source": [
    "Let's first retrieve our pipeline:"
   ]
  },
  {
   "cell_type": "code",
   "execution_count": 4,
   "metadata": {},
   "outputs": [],
   "source": [
    "dag = make()"
   ]
  },
  {
   "cell_type": "markdown",
   "metadata": {},
   "source": [
    "Plotting it makes easy to understand dependencies between tasks, each note corresponds to one."
   ]
  },
  {
   "cell_type": "code",
   "execution_count": 5,
   "metadata": {},
   "outputs": [
    {
     "data": {
      "application/vnd.jupyter.widget-view+json": {
       "model_id": "ef8b349aebf8433e8e18be7315217a60",
       "version_major": 2,
       "version_minor": 0
      },
      "text/plain": [
       "HBox(children=(FloatProgress(value=0.0, max=3.0), HTML(value='')))"
      ]
     },
     "metadata": {},
     "output_type": "display_data"
    },
    {
     "name": "stdout",
     "output_type": "stream",
     "text": [
      "\n"
     ]
    },
    {
     "data": {
      "image/png": "[encoded data removed]",
      "text/plain": [
       "<IPython.core.display.Image object>"
      ]
     },
     "execution_count": 5,
     "metadata": {},
     "output_type": "execute_result"
    }
   ],
   "source": [
    "Image(filename=dag.plot())"
   ]
  },
  {
   "cell_type": "markdown",
   "metadata": {},
   "source": [
    "Our pipeline has three tasks: load, clean and plot. Ploomber will keep track of your source code and mark as outdated any task that changed since last execution. Making your whole pipeline up-to-date is as simple as running:"
   ]
  },
  {
   "cell_type": "code",
   "execution_count": 9,
   "metadata": {},
   "outputs": [
    {
     "data": {
      "application/vnd.jupyter.widget-view+json": {
       "model_id": "ab91bbb6bf694df882cb83c88fcb2a16",
       "version_major": 2,
       "version_minor": 0
      },
      "text/plain": [
       "HBox(children=(FloatProgress(value=0.0, max=3.0), HTML(value='')))"
      ]
     },
     "metadata": {},
     "output_type": "display_data"
    },
    {
     "name": "stdout",
     "output_type": "stream",
     "text": [
      "\n"
     ]
    },
    {
     "data": {
      "application/vnd.jupyter.widget-view+json": {
       "model_id": "7102d3ab4558435e9b50cf73c2c045dd",
       "version_major": 2,
       "version_minor": 0
      },
      "text/plain": [
       "HBox(children=(FloatProgress(value=0.0, max=3.0), HTML(value='')))"
      ]
     },
     "metadata": {},
     "output_type": "display_data"
    },
    {
     "name": "stdout",
     "output_type": "stream",
     "text": [
      "\n"
     ]
    },
    {
     "data": {
      "text/html": [
       "<table>\n",
       "<thead>\n",
       "<tr><th>name    </th><th>Ran?  </th><th style=\"text-align: right;\">  Elapsed (s)</th><th style=\"text-align: right;\">  Percentage</th></tr>\n",
       "</thead>\n",
       "<tbody>\n",
       "<tr><td>load    </td><td>False </td><td style=\"text-align: right;\">            0</td><td style=\"text-align: right;\">           0</td></tr>\n",
       "<tr><td>clean.py</td><td>False </td><td style=\"text-align: right;\">            0</td><td style=\"text-align: right;\">           0</td></tr>\n",
       "<tr><td>plot.py </td><td>False </td><td style=\"text-align: right;\">            0</td><td style=\"text-align: right;\">           0</td></tr>\n",
       "</tbody>\n",
       "</table>"
      ],
      "text/plain": [
       "name      Ran?      Elapsed (s)    Percentage\n",
       "--------  ------  -------------  ------------\n",
       "load      False               0             0\n",
       "clean.py  False               0             0\n",
       "plot.py   False               0             0"
      ]
     },
     "execution_count": 9,
     "metadata": {},
     "output_type": "execute_result"
    }
   ],
   "source": [
    "dag.build()"
   ]
  },
  {
   "cell_type": "markdown",
   "metadata": {},
   "source": [
    "Let's see what happens if we build again:"
   ]
  },
  {
   "cell_type": "code",
   "execution_count": 10,
   "metadata": {},
   "outputs": [
    {
     "data": {
      "application/vnd.jupyter.widget-view+json": {
       "model_id": "ef1d25bbf734403fa7e0d52d9c6c038d",
       "version_major": 2,
       "version_minor": 0
      },
      "text/plain": [
       "HBox(children=(FloatProgress(value=0.0, max=3.0), HTML(value='')))"
      ]
     },
     "metadata": {},
     "output_type": "display_data"
    },
    {
     "name": "stdout",
     "output_type": "stream",
     "text": [
      "\n"
     ]
    },
    {
     "data": {
      "application/vnd.jupyter.widget-view+json": {
       "model_id": "299873f7b7e7401cb9460ca2cf4ff010",
       "version_major": 2,
       "version_minor": 0
      },
      "text/plain": [
       "HBox(children=(FloatProgress(value=0.0, max=3.0), HTML(value='')))"
      ]
     },
     "metadata": {},
     "output_type": "display_data"
    },
    {
     "name": "stdout",
     "output_type": "stream",
     "text": [
      "\n"
     ]
    },
    {
     "data": {
      "text/html": [
       "<table>\n",
       "<thead>\n",
       "<tr><th>name    </th><th>Ran?  </th><th style=\"text-align: right;\">  Elapsed (s)</th><th style=\"text-align: right;\">  Percentage</th></tr>\n",
       "</thead>\n",
       "<tbody>\n",
       "<tr><td>load    </td><td>False </td><td style=\"text-align: right;\">            0</td><td style=\"text-align: right;\">           0</td></tr>\n",
       "<tr><td>clean.py</td><td>False </td><td style=\"text-align: right;\">            0</td><td style=\"text-align: right;\">           0</td></tr>\n",
       "<tr><td>plot.py </td><td>False </td><td style=\"text-align: right;\">            0</td><td style=\"text-align: right;\">           0</td></tr>\n",
       "</tbody>\n",
       "</table>"
      ],
      "text/plain": [
       "name      Ran?      Elapsed (s)    Percentage\n",
       "--------  ------  -------------  ------------\n",
       "load      False               0             0\n",
       "clean.py  False               0             0\n",
       "plot.py   False               0             0"
      ]
     },
     "execution_count": 10,
     "metadata": {},
     "output_type": "execute_result"
    }
   ],
   "source": [
    "dag.build()"
   ]
  },
  {
   "cell_type": "markdown",
   "metadata": {},
   "source": [
    "It didn't run anything! That's because our pipeline has not changed, there is nothing to run."
   ]
  },
  {
   "cell_type": "code",
   "execution_count": 8,
   "metadata": {},
   "outputs": [],
   "source": [
    "# helper function to display code\n",
    "def display_code(code):\n",
    "    display(Markdown(\"\"\"\n",
    "```python\n",
    "{}\n",
    "```\n",
    "\"\"\".format(code)))"
   ]
  },
  {
   "cell_type": "markdown",
   "metadata": {},
   "source": [
    "Our `dag` object is a fully interactive way of exploring our pipeline. Let's see where the code for each task comes from:"
   ]
  },
  {
   "cell_type": "code",
   "execution_count": 11,
   "metadata": {},
   "outputs": [
    {
     "data": {
      "text/plain": [
       "['load', 'clean.py', 'plot.py']"
      ]
     },
     "execution_count": 11,
     "metadata": {},
     "output_type": "execute_result"
    }
   ],
   "source": [
    "# get list of task names\n",
    "list(dag)"
   ]
  },
  {
   "cell_type": "code",
   "execution_count": 13,
   "metadata": {},
   "outputs": [
    {
     "name": "stdout",
     "output_type": "stream",
     "text": [
      "def load(product):\n",
      "    df = pd.DataFrame({'x': np.random.rand(500)})\n",
      "    df['x'] = df['x'] + 1\n",
      "    df.to_csv(str(product), index=False)\n",
      "\n",
      "/Users/Edu/dev/projects-ploomber/nb-based-workflow/src/ploomber_nb/functions.py:5\n"
     ]
    }
   ],
   "source": [
    "# get task\n",
    "task = dag['load']\n",
    "\n",
    "# print source code\n",
    "print(task.source)\n",
    "\n",
    "# where is this code declared?\n",
    "print(task.source.loc)"
   ]
  },
  {
   "cell_type": "markdown",
   "metadata": {},
   "source": [
    "Go ahead and modify the function, for example, instead of having:\n",
    "\n",
    "```python\n",
    "df['x'] = df['x'] = 1\n",
    "```\n",
    "\n",
    "Replace it with:\n",
    "\n",
    "```python\n",
    "df['x'] = df['x'] = 2\n",
    "```\n",
    "\n",
    "Then come back and run:"
   ]
  },
  {
   "cell_type": "code",
   "execution_count": null,
   "metadata": {},
   "outputs": [],
   "source": [
    "dag.build()"
   ]
  },
  {
   "cell_type": "markdown",
   "metadata": {},
   "source": [
    "You should see that all three tasks ran again, that's because the load function is the root node. Let's try with another one:"
   ]
  },
  {
   "cell_type": "code",
   "execution_count": 15,
   "metadata": {},
   "outputs": [
    {
     "name": "stdout",
     "output_type": "stream",
     "text": [
      "/Users/Edu/dev/projects-ploomber/nb-based-workflow/src/ploomber_nb/notebooks/clean.py\n"
     ]
    }
   ],
   "source": [
    "print(dag['clean.py'].source.loc)"
   ]
  },
  {
   "cell_type": "markdown",
   "metadata": {},
   "source": [
    "Go ahead and modify the file, then run:"
   ]
  },
  {
   "cell_type": "code",
   "execution_count": null,
   "metadata": {},
   "outputs": [],
   "source": [
    "dag.build()"
   ]
  },
  {
   "cell_type": "markdown",
   "metadata": {},
   "source": [
    "You should see that Ploomber skipped running the load task since modify clean does not affected it. Imagine if the loading task download a huge dataset, you could save a lot of time by letting Ploomber automatically figure out which tasks to run.\n",
    "\n",
    "Let's take a look at the actual pipeline declaration, where we'll find a bunch of intersting things."
   ]
  },
  {
   "cell_type": "code",
   "execution_count": 19,
   "metadata": {},
   "outputs": [
    {
     "data": {
      "text/markdown": [
       "\n",
       "```python\n",
       "from pathlib import Path\n",
       "\n",
       "from ploomber_nb import functions\n",
       "\n",
       "from ploomber import DAGConfigurator, SourceLoader\n",
       "from ploomber.tasks import NotebookRunner, PythonCallable\n",
       "from ploomber.products import File\n",
       "\n",
       "\n",
       "def make():\n",
       "    cfg = DAGConfigurator()\n",
       "    cfg.params.hot_reload = True\n",
       "    dag = cfg.create()\n",
       "\n",
       "    # we will save all output here\n",
       "    out = Path('output')\n",
       "    out.mkdir(exist_ok=True)\n",
       "\n",
       "    # source loaders allows us to easily load files from modules\n",
       "    loader = SourceLoader(path='notebooks', module='ploomber_nb')\n",
       "\n",
       "    # out first task is a Python function, it generates and output csv file\n",
       "    load = PythonCallable(functions.load,\n",
       "                          product=File(out / 'data.csv'),\n",
       "                          dag=dag,\n",
       "                          name='load')\n",
       "\n",
       "    # Our second task is a Python script, why is it using a task called\n",
       "    # NotebookRunner? This task runs code as a Jupyter notebook, you might\n",
       "    # pass a .ipynb but you can pass .py files as well, which will be converted\n",
       "    # to notebooks before execution. It is hard to run git diff .ipynb files\n",
       "    # (they are JSON strings), using scripts allows you to easily control\n",
       "    # versions\n",
       "    clean = NotebookRunner(loader['clean.py'],\n",
       "                           # this task generates two files, the .ipynb\n",
       "                           # output notebook itself and another csv file\n",
       "                           product={'nb': File(out / 'clean.ipynb'),\n",
       "                                    'data': File(out / 'clean.csv')},\n",
       "                           dag=dag,\n",
       "                           # you can run any language supported by Jupyter\n",
       "                           # by specifying which kernel to use\n",
       "                           kernelspec_name='python3',\n",
       "                           # by enabling this option, a few checks are\n",
       "                           # performed on your code before running the\n",
       "                           # notebook, given that jupyter notebooks are run\n",
       "                           # cell by cell, something as simple as a syntax\n",
       "                           # error will be discovered until such cell is run\n",
       "                           # this gives you immediate feedback\n",
       "                           static_analysis=True,\n",
       "                           papermill_params={'nest_asyncio': True})\n",
       "\n",
       "    # the final task is also a notebook that generates a plot\n",
       "    plot = NotebookRunner(loader['plot.py'],\n",
       "                          File(out / 'plot.ipynb'),\n",
       "                          dag=dag,\n",
       "                          kernelspec_name='python3',\n",
       "                          static_analysis=True,\n",
       "                          papermill_params={'nest_asyncio': True})\n",
       "\n",
       "    # declare execution dependencies, by leveraging the graph structure\n",
       "    # Ploomber can even run tasks in parallel\n",
       "    load >> clean >> plot\n",
       "\n",
       "    return dag\n",
       "\n",
       "```\n"
      ],
      "text/plain": [
       "<IPython.core.display.Markdown object>"
      ]
     },
     "execution_count": 19,
     "metadata": {},
     "output_type": "execute_result"
    }
   ],
   "source": [
    "Markdown(\"\"\"\n",
    "```python\n",
    "{}\n",
    "```\n",
    "\"\"\".format(Path('nb-based-workflow/src/ploomber_nb/pipeline.py').read_text()))"
   ]
  },
  {
   "cell_type": "markdown",
   "metadata": {},
   "source": [
    "You've made it to the end of this tutorial. Hopefully this will convince you to give Ploomber a try. Don't hesitate with any questions you might have. Feel free to [open an issue](https://github.com/ploomber/ploomber/issues/new) in the repository. Thanks for reading!"
   ]
  }
 ],
 "metadata": {
  "kernelspec": {
   "display_name": "Python 3",
   "language": "python",
   "name": "python3"
  },
  "language_info": {
   "codemirror_mode": {
    "name": "ipython",
    "version": 3
   },
   "file_extension": ".py",
   "mimetype": "text/x-python",
   "name": "python",
   "nbconvert_exporter": "python",
   "pygments_lexer": "ipython3",
   "version": "3.6.10"
  }
 },
 "nbformat": 4,
 "nbformat_minor": 4
}
