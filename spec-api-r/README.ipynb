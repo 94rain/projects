{
 "cells": [
  {
   "cell_type": "markdown",
   "metadata": {
    "papermill": {
     "duration": 0.005301,
     "end_time": "2020-12-09T22:37:24.877669",
     "exception": false,
     "start_time": "2020-12-09T22:37:24.872368",
     "status": "completed"
    },
    "tags": []
   },
   "source": [
    "\n",
    "*Note:* You can run this from your computer (Jupyter or terminal), or use one of the\n",
    "hosted options:\n",
    "[![binder-logo](https://mybinder.org/v2/gh/ploomber/binder-env/main?urlpath=git-pull%3Frepo%3Dhttps%253A%252F%252Fgithub.com%252Fploomber%252Fprojects%26urlpath%3Dlab%252Ftree%252Fprojects%252Fspec-api-r%252FREADME.ipynb%26branch%3Dmaster)\n",
    "[![deepnote-logo](https://deepnote.com/buttons/launch-in-deepnote-small.svg)](https://deepnote.com/launch?template=deepnote&url=https://github.com/ploomber/projects/blob/master/spec-api-r/README.ipynb)\n"
   ]
  },
  {
   "cell_type": "markdown",
   "metadata": {
    "papermill": {
     "duration": 0.004719,
     "end_time": "2020-12-09T22:37:24.887390",
     "exception": false,
     "start_time": "2020-12-09T22:37:24.882671",
     "status": "completed"
    },
    "tags": []
   },
   "source": [
    "# Python script-based project\n",
    "\n",
    "This example shows how you can build script or notebook-based (just replace the\n",
    "*.R files with *.ipynb) project using a ``pipeline.yaml`` file.\n",
    "\n",
    "To execute the pipeline, first, open a terminal session, then move to this\n",
    "folder:\n",
    "\n",
    "## Setup environment\n",
    "\n",
    "(Note: Only required if you are running this example in your computer, not\n",
    "required if using Binder/Deepnote)\n",
    "\n",
    "~~~sh\n",
    "conda env create --file environment.yaml\n",
    "conda activate spec-api-python\n",
    "~~~\n",
    "\n",
    "## Pipeline description\n",
    "\n",
    "This pipeline contains 3 tasks. The last task generates a plot. To get the\n",
    "pipeline description:"
   ]
  },
  {
   "cell_type": "code",
   "execution_count": 1,
   "metadata": {
    "execution": {
     "iopub.execute_input": "2020-12-09T22:37:24.905278Z",
     "iopub.status.busy": "2020-12-09T22:37:24.903767Z",
     "iopub.status.idle": "2020-12-09T22:37:26.815767Z",
     "shell.execute_reply": "2020-12-09T22:37:26.816398Z"
    },
    "papermill": {
     "duration": 1.923835,
     "end_time": "2020-12-09T22:37:26.816853",
     "exception": false,
     "start_time": "2020-12-09T22:37:24.893018",
     "status": "completed"
    },
    "tags": [
     "bash"
    ]
   },
   "outputs": [
    {
     "name": "stdout",
     "output_type": "stream",
     "text": [
      "name    Last run      Outdated?      Product          Doc (short)    Location\n",
      "------  ------------  -------------  ---------------  -------------  ----------\n",
      "raw     Has not been  Source code    {'nb': File(/Us                 raw.R\n",
      "        run                          ers/Edu/dev/pro\n",
      "                                     jects-\n",
      "                                     ploomber/spec-a\n",
      "                                     pi-r/output/dat\n",
      "                                     a.ipynb),\n",
      "                                     'data': File(/U\n",
      "                                     sers/Edu/dev/pr\n",
      "                                     ojects-\n",
      "                                     ploomber/spec-a\n",
      "                                     pi-r/output/dat\n",
      "                                     a.csv)}\n",
      "clean   Has not been  Source code &  {'nb': File(/Us                 clean.R\n",
      "        run           Upstream       ers/Edu/dev/pro\n",
      "                                     jects-\n",
      "                                     ploomber/spec-a\n",
      "                                     pi-r/output/cle\n",
      "                                     an.ipynb),\n",
      "                                     'data': File(/U\n",
      "                                     sers/Edu/dev/pr\n",
      "                                     ojects-\n",
      "                                     ploomber/spec-a\n",
      "                                     pi-r/output/cle\n",
      "                                     an.csv)}\n",
      "plot    Has not been  Source code &  {'nb': File(/Us                 plot.R\n",
      "        run           Upstream       ers/Edu/dev/pro\n",
      "                                     jects-\n",
      "                                     ploomber/spec-a\n",
      "                                     pi-r/output/plo\n",
      "                                     t.ipynb)}\n"
     ]
    },
    {
     "name": "stderr",
     "output_type": "stream",
     "text": [
      "100%|██████████| 3/3 [00:00<00:00, 8873.70it/s]\n"
     ]
    }
   ],
   "source": [
    "%%sh\n",
    "ploomber status"
   ]
  },
  {
   "cell_type": "markdown",
   "metadata": {
    "papermill": {
     "duration": 0.005056,
     "end_time": "2020-12-09T22:37:26.829448",
     "exception": false,
     "start_time": "2020-12-09T22:37:26.824392",
     "status": "completed"
    },
    "tags": []
   },
   "source": [
    "## Build the pipeline from the command line"
   ]
  },
  {
   "cell_type": "code",
   "execution_count": 2,
   "metadata": {
    "execution": {
     "iopub.execute_input": "2020-12-09T22:37:26.847915Z",
     "iopub.status.busy": "2020-12-09T22:37:26.846537Z",
     "iopub.status.idle": "2020-12-09T22:37:35.946697Z",
     "shell.execute_reply": "2020-12-09T22:37:35.947434Z"
    },
    "papermill": {
     "duration": 9.11189,
     "end_time": "2020-12-09T22:37:35.947772",
     "exception": false,
     "start_time": "2020-12-09T22:37:26.835882",
     "status": "completed"
    },
    "tags": [
     "bash"
    ]
   },
   "outputs": [
    {
     "name": "stdout",
     "output_type": "stream",
     "text": [
      "name    Ran?      Elapsed (s)    Percentage\n",
      "------  ------  -------------  ------------\n",
      "raw     True          2.71012       38.1003\n",
      "clean   True          1.35794       19.0907\n",
      "plot    True          3.04506       42.8091\n"
     ]
    },
    {
     "name": "stderr",
     "output_type": "stream",
     "text": [
      "100%|██████████| 3/3 [00:00<00:00, 7979.02it/s]\n",
      "Building task \"raw\":   0%|          | 0/3 [00:00<?, ?it/s]\n",
      "Executing:   0%|          | 0/4 [00:00<?, ?cell/s]\u001b[AError in (function (x)  : attempt to apply non-function\n",
      "\n",
      "Executing:  25%|██▌       | 1/4 [00:01<00:03,  1.22s/cell]\u001b[A\n",
      "Executing: 100%|██████████| 4/4 [00:02<00:00,  1.48cell/s]\n",
      "Building task \"clean\":  33%|███▎      | 1/3 [00:02<00:05,  2.71s/it]\n",
      "Executing:   0%|          | 0/4 [00:00<?, ?cell/s]\u001b[AError in (function (x)  : attempt to apply non-function\n",
      "\n",
      "Executing:  25%|██▌       | 1/4 [00:01<00:03,  1.09s/cell]\u001b[A\n",
      "Executing: 100%|██████████| 4/4 [00:01<00:00,  2.97cell/s]\n",
      "Building task \"plot\":  67%|██████▋   | 2/3 [00:04<00:02,  2.31s/it] \n",
      "Executing:   0%|          | 0/4 [00:00<?, ?cell/s]\u001b[AError in (function (x)  : attempt to apply non-function\n",
      "\n",
      "Executing:  25%|██▌       | 1/4 [00:01<00:03,  1.02s/cell]\u001b[A\n",
      "Executing:  75%|███████▌  | 3/4 [00:01<00:00,  1.35cell/s]\u001b[A\n",
      "Executing: 100%|██████████| 4/4 [00:03<00:00,  1.32cell/s]\n",
      "Building task \"plot\": 100%|██████████| 3/3 [00:07<00:00,  2.38s/it]\n"
     ]
    }
   ],
   "source": [
    "%%sh\n",
    "mkdir output\n",
    "ploomber build"
   ]
  },
  {
   "cell_type": "markdown",
   "metadata": {
    "papermill": {
     "duration": 0.007016,
     "end_time": "2020-12-09T22:37:35.964689",
     "exception": false,
     "start_time": "2020-12-09T22:37:35.957673",
     "status": "completed"
    },
    "tags": []
   },
   "source": [
    "Output is stored in the ``output/`` directory."
   ]
  }
 ],
 "metadata": {
  "jupytext": {
   "cell_metadata_filter": "tags,-all",
   "main_language": "bash",
   "notebook_metadata_filter": "-all"
  },
  "kernelspec": {
   "display_name": "Python 3",
   "language": "python",
   "name": "python3"
  },
  "language_info": {
   "codemirror_mode": {
    "name": "ipython",
    "version": 3
   },
   "file_extension": ".py",
   "mimetype": "text/x-python",
   "name": "python",
   "nbconvert_exporter": "python",
   "pygments_lexer": "ipython3",
   "version": "3.7.8"
  },
  "papermill": {
   "default_parameters": {},
   "duration": 12.193808,
   "end_time": "2020-12-09T22:37:36.229053",
   "environment_variables": {},
   "exception": null,
   "input_path": "/var/folders/3h/_lvh_w_x5g30rrjzb_xnn2j80000gq/T/tmpz3p4s_xt.ipynb",
   "output_path": "spec-api-r/README.ipynb",
   "parameters": {
    "product": "spec-api-r/README.ipynb"
   },
   "start_time": "2020-12-09T22:37:24.035245",
   "version": "2.2.2"
  }
 },
 "nbformat": 4,
 "nbformat_minor": 4
}
