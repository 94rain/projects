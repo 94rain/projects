{
 "cells": [
  {
   "cell_type": "markdown",
   "metadata": {},
   "source": [
    "# Python script-based project\n",
    "\n",
    "This example shows how you can build script or notebook-based (just replace the\n",
    "*.R files with *.ipynb) project using a ``pipeline.yaml`` file.\n",
    "\n",
    "To execute the pipeline, first, open a terminal session, then move to this\n",
    "folder:\n",
    "\n",
    "## Setup environment\n",
    "\n",
    "(Note: Only required if you are running this example in your computer, not\n",
    "required if using Binder/Deepnote)\n",
    "\n",
    "~~~sh\n",
    "conda env create --file environment.yaml\n",
    "conda activate spec-api-python\n",
    "~~~\n",
    "\n",
    "## Pipeline description\n",
    "\n",
    "This pipeline contains 3 tasks. The last task generates a plot. To get the\n",
    "pipeline description:"
   ]
  },
  {
   "cell_type": "code",
   "execution_count": null,
   "metadata": {
    "tags": [
     "bash"
    ]
   },
   "outputs": [],
   "source": [
    "%%sh\n",
    "ploomber status"
   ]
  },
  {
   "cell_type": "markdown",
   "metadata": {},
   "source": [
    "## Build the pipeline from the command line"
   ]
  },
  {
   "cell_type": "code",
   "execution_count": null,
   "metadata": {
    "tags": [
     "bash"
    ]
   },
   "outputs": [],
   "source": [
    "%%sh\n",
    "mkdir output\n",
    "ploomber build"
   ]
  },
  {
   "cell_type": "markdown",
   "metadata": {},
   "source": [
    "Output is stored in the ``output/`` directory."
   ]
  },
  {
   "cell_type": "code",
   "execution_count": null,
   "metadata": {
    "tags": [
     "parameters"
    ]
   },
   "outputs": [],
   "source": []
  }
 ],
 "metadata": {
  "jupytext": {
   "cell_metadata_filter": "tags,-all",
   "main_language": "bash",
   "notebook_metadata_filter": "-all",
   "text_representation": {
    "extension": ".md",
    "format_name": "markdown"
   }
  }
 },
 "nbformat": 4,
 "nbformat_minor": 4
}
