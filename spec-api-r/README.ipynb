{
 "cells": [
  {
   "cell_type": "markdown",
   "id": "2831d069",
   "metadata": {
    "papermill": {
     "duration": 0.019967,
     "end_time": "2021-10-11T03:14:16.670964",
     "exception": false,
     "start_time": "2021-10-11T03:14:16.650997",
     "status": "completed"
    },
    "tags": []
   },
   "source": [
    "\n",
    "*Note:* You can run this example locally (`ploomber examples -n spec-api-r`) or in Binder (hosted JupyterLab ).\n",
    "\n",
    "[![binder-logo](https://mybinder.org/badge_logo.svg)](https://mybinder.org/v2/gh/ploomber/binder-env/main?urlpath=git-pull%3Frepo%3Dhttps%253A%252F%252Fgithub.com%252Fploomber%252Fprojects%26urlpath%3Dlab%252Ftree%252Fprojects%252Fspec-api-r%252FREADME.ipynb%26branch%3Dmaster)\n"
   ]
  },
  {
   "cell_type": "markdown",
   "id": "4281d968",
   "metadata": {
    "papermill": {
     "duration": 0.016384,
     "end_time": "2021-10-11T03:14:16.704021",
     "exception": false,
     "start_time": "2021-10-11T03:14:16.687637",
     "status": "completed"
    },
    "tags": []
   },
   "source": [
    "# R pipeline\n",
    "\n",
    "R pipeline.\n",
    "\n",
    "## Setup environment\n",
    "\n",
    "(**Note**: Skip if running in Binder)\n",
    "\n",
    "~~~sh\n",
    "# if using conda (installs R in the virtual env)\n",
    "conda env create --file environment.yaml\n",
    "conda activate spec-api-r\n",
    "\n",
    "# if using pip, you need to install R manual and set up the IRKernel\n",
    "# package manually: https://github.com/IRkernel/IRkernel, then\n",
    "pip install -r requirements.txt\n",
    "~~~\n",
    "\n",
    "## Pipeline description\n",
    "\n",
    "This pipeline contains three tasks. The last task generates a plot. To get the\n",
    "pipeline description:"
   ]
  },
  {
   "cell_type": "code",
   "execution_count": 1,
   "id": "d6aad390",
   "metadata": {
    "execution": {
     "iopub.execute_input": "2021-10-11T03:14:16.745665Z",
     "iopub.status.busy": "2021-10-11T03:14:16.745006Z",
     "iopub.status.idle": "2021-10-11T03:14:19.444007Z",
     "shell.execute_reply": "2021-10-11T03:14:19.445298Z"
    },
    "papermill": {
     "duration": 2.72459,
     "end_time": "2021-10-11T03:14:19.445735",
     "exception": false,
     "start_time": "2021-10-11T03:14:16.721145",
     "status": "completed"
    },
    "tags": [
     "bash"
    ]
   },
   "outputs": [
    {
     "name": "stdout",
     "output_type": "stream",
     "text": [
      "name    Last run      Outdated?    Product       Doc (short)    Location\n",
      "------  ------------  -----------  ------------  -------------  ------------\n",
      "raw     Has not been  Source code  MetaProduct(                 /Users/Edu/d\n",
      "        run                        {'data': Fil                 ev/projects-\n",
      "                                   e('output/ra                 ploomber/spe\n",
      "                                   w.csv'),                     c-\n",
      "                                   'nb': File('                 api-r/raw.R\n",
      "                                   output/raw.i\n",
      "                                   pynb')})\n",
      "clean   Has not been  Source code  MetaProduct(                 /Users/Edu/d\n",
      "        run           & Upstream   {'data': Fil                 ev/projects-\n",
      "                                   e('output/cl                 ploomber/spe\n",
      "                                   ean.csv'),                   c-api-r/clea\n",
      "                                   'nb': File('                 n.R\n",
      "                                   output/clean\n",
      "                                   .ipynb')})\n",
      "plot    Has not been  Source code  File('output                 /Users/Edu/d\n",
      "        run           & Upstream   /plot.ipynb'                 ev/projects-\n",
      "                                   )                            ploomber/spe\n",
      "                                                                c-\n",
      "                                                                api-r/plot.R\n"
     ]
    },
    {
     "name": "stderr",
     "output_type": "stream",
     "text": [
      "100%|██████████| 3/3 [00:00<00:00, 3703.03it/s]\n"
     ]
    }
   ],
   "source": [
    "%%sh\n",
    "ploomber status"
   ]
  },
  {
   "cell_type": "markdown",
   "id": "d2c5fd76",
   "metadata": {
    "papermill": {
     "duration": 0.021476,
     "end_time": "2021-10-11T03:14:19.487619",
     "exception": false,
     "start_time": "2021-10-11T03:14:19.466143",
     "status": "completed"
    },
    "tags": []
   },
   "source": [
    "## Build the pipeline from the command line"
   ]
  },
  {
   "cell_type": "code",
   "execution_count": 2,
   "id": "8b4e86a3",
   "metadata": {
    "execution": {
     "iopub.execute_input": "2021-10-11T03:14:19.535531Z",
     "iopub.status.busy": "2021-10-11T03:14:19.534753Z",
     "iopub.status.idle": "2021-10-11T03:14:28.343804Z",
     "shell.execute_reply": "2021-10-11T03:14:28.344777Z"
    },
    "papermill": {
     "duration": 8.833434,
     "end_time": "2021-10-11T03:14:28.345031",
     "exception": false,
     "start_time": "2021-10-11T03:14:19.511597",
     "status": "completed"
    },
    "tags": [
     "bash"
    ]
   },
   "outputs": [
    {
     "name": "stdout",
     "output_type": "stream",
     "text": [
      "name    Ran?      Elapsed (s)    Percentage\n",
      "------  ------  -------------  ------------\n",
      "raw     True          1.83199       32.8227\n",
      "clean   True          1.52835       27.3826\n",
      "plot    True          2.22114       39.7948\n"
     ]
    },
    {
     "name": "stderr",
     "output_type": "stream",
     "text": [
      "Building task 'raw':   0%|          | 0/3 [00:00<?, ?it/s]\n",
      "Executing:   0%|          | 0/3 [00:00<?, ?cell/s]\u001b[A\n",
      "Executing:  33%|███▎      | 1/3 [00:01<00:03,  1.55s/cell]\u001b[A\n",
      "Executing: 100%|██████████| 3/3 [00:01<00:00,  1.68cell/s]\n",
      "Building task 'clean':  33%|███▎      | 1/3 [00:01<00:03,  1.84s/it]\n",
      "Executing:   0%|          | 0/4 [00:00<?, ?cell/s]\u001b[A\n",
      "Executing:  25%|██▌       | 1/4 [00:01<00:03,  1.22s/cell]\u001b[A\n",
      "Executing: 100%|██████████| 4/4 [00:01<00:00,  2.68cell/s]\n",
      "Building task 'plot':  67%|██████▋   | 2/3 [00:03<00:01,  1.66s/it] \n",
      "Executing:   0%|          | 0/4 [00:00<?, ?cell/s]\u001b[A\n",
      "Executing:  25%|██▌       | 1/4 [00:01<00:03,  1.16s/cell]\u001b[A\n",
      "Executing:  75%|███████▌  | 3/4 [00:01<00:00,  2.80cell/s]\u001b[A\n",
      "Executing: 100%|██████████| 4/4 [00:02<00:00,  2.03cell/s]\u001b[A\n",
      "Execution halted\n",
      "Executing: 100%|██████████| 4/4 [00:02<00:00,  1.84cell/s]\n",
      "Building task 'plot': 100%|██████████| 3/3 [00:05<00:00,  1.86s/it]\n"
     ]
    }
   ],
   "source": [
    "%%sh\n",
    "mkdir output\n",
    "ploomber build"
   ]
  },
  {
   "cell_type": "markdown",
   "id": "a2350bc2",
   "metadata": {
    "papermill": {
     "duration": 0.021832,
     "end_time": "2021-10-11T03:14:28.387751",
     "exception": false,
     "start_time": "2021-10-11T03:14:28.365919",
     "status": "completed"
    },
    "tags": []
   },
   "source": [
    "Output stored in the ``output/`` directory."
   ]
  },
  {
   "cell_type": "code",
   "execution_count": null,
   "id": "759cb166",
   "metadata": {
    "papermill": {
     "duration": 0.020416,
     "end_time": "2021-10-11T03:14:28.427455",
     "exception": false,
     "start_time": "2021-10-11T03:14:28.407039",
     "status": "completed"
    },
    "tags": [
     "parameters"
    ]
   },
   "outputs": [],
   "source": []
  },
  {
   "cell_type": "code",
   "execution_count": 3,
   "id": "58054763",
   "metadata": {
    "execution": {
     "iopub.execute_input": "2021-10-11T03:14:28.470682Z",
     "iopub.status.busy": "2021-10-11T03:14:28.469936Z",
     "iopub.status.idle": "2021-10-11T03:14:28.472208Z",
     "shell.execute_reply": "2021-10-11T03:14:28.472702Z"
    },
    "papermill": {
     "duration": 0.026124,
     "end_time": "2021-10-11T03:14:28.472931",
     "exception": false,
     "start_time": "2021-10-11T03:14:28.446807",
     "status": "completed"
    },
    "tags": [
     "injected-parameters"
    ]
   },
   "outputs": [],
   "source": [
    "# Parameters\n",
    "product = \"spec-api-r/README.ipynb\"\n"
   ]
  }
 ],
 "metadata": {
  "jupytext": {
   "cell_metadata_filter": "tags,-all",
   "main_language": "bash",
   "notebook_metadata_filter": "-all",
   "text_representation": {
    "extension": ".md",
    "format_name": "markdown"
   }
  },
  "kernelspec": {
   "display_name": "Python 3 (ipykernel)",
   "language": "python",
   "name": "python3"
  },
  "language_info": {
   "codemirror_mode": {
    "name": "ipython",
    "version": 3
   },
   "file_extension": ".py",
   "mimetype": "text/x-python",
   "name": "python",
   "nbconvert_exporter": "python",
   "pygments_lexer": "ipython3",
   "version": "3.9.7"
  },
  "papermill": {
   "duration": 13.418941,
   "end_time": "2021-10-11T03:14:28.711980",
   "exception": null,
   "input_path": "/var/folders/3h/_lvh_w_x5g30rrjzb_xnn2j80000gq/T/tmp4lomtb2z.ipynb",
   "output_path": "spec-api-r/README.ipynb",
   "parameters": {
    "product": "spec-api-r/README.ipynb"
   },
   "start_time": "2021-10-11T03:14:15.293039"
  }
 },
 "nbformat": 4,
 "nbformat_minor": 5
}
