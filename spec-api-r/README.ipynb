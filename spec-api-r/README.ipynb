{
 "cells": [
  {
   "cell_type": "markdown",
   "id": "sharp-instruction",
   "metadata": {
    "papermill": {
     "duration": 0.007417,
     "end_time": "2021-05-10T14:57:38.821382",
     "exception": false,
     "start_time": "2021-05-10T14:57:38.813965",
     "status": "completed"
    },
    "tags": []
   },
   "source": [
    "\n",
    "*Note:* You can run this from your computer (Jupyter or terminal), or use one of the\n",
    "hosted options:\n",
    "\n",
    "[![binder-logo](https://mybinder.org/badge_logo.svg)](https://mybinder.org/v2/gh/ploomber/binder-env/main?urlpath=git-pull%3Frepo%3Dhttps%253A%252F%252Fgithub.com%252Fploomber%252Fprojects%26urlpath%3Dlab%252Ftree%252Fprojects%252Fspec-api-r%252FREADME.ipynb%26branch%3Dmaster)\n",
    "\n",
    "[![deepnote-logo](https://deepnote.com/buttons/launch-in-deepnote-small.svg)](https://deepnote.com/launch?template=deepnote&url=https://github.com/ploomber/projects/blob/master/spec-api-r/README.ipynb)\n"
   ]
  },
  {
   "cell_type": "markdown",
   "id": "handmade-boundary",
   "metadata": {
    "papermill": {
     "duration": 0.005348,
     "end_time": "2021-05-10T14:57:38.832288",
     "exception": false,
     "start_time": "2021-05-10T14:57:38.826940",
     "status": "completed"
    },
    "tags": []
   },
   "source": [
    "# R pipeline\n",
    "\n",
    "R pipeline.\n",
    "\n",
    "## Setup environment\n",
    "\n",
    "(**Note**: Skip if running in binder or deepnote)\n",
    "\n",
    "~~~sh\n",
    "# if using conda (installs R in the virtual env)\n",
    "conda env create --file environment.yaml\n",
    "conda activate spec-api-r\n",
    "\n",
    "# if using pip, you need to install R manual and set up the IRKernel\n",
    "# package manually: https://github.com/IRkernel/IRkernel, then\n",
    "pip install -r requirements.txt\n",
    "~~~\n",
    "\n",
    "## Pipeline description\n",
    "\n",
    "This pipeline contains three tasks. The last task generates a plot. To get the\n",
    "pipeline description:"
   ]
  },
  {
   "cell_type": "code",
   "execution_count": 1,
   "id": "documented-diploma",
   "metadata": {
    "execution": {
     "iopub.execute_input": "2021-05-10T14:57:38.854491Z",
     "iopub.status.busy": "2021-05-10T14:57:38.852508Z",
     "iopub.status.idle": "2021-05-10T14:57:41.903318Z",
     "shell.execute_reply": "2021-05-10T14:57:41.903922Z"
    },
    "papermill": {
     "duration": 3.066929,
     "end_time": "2021-05-10T14:57:41.904200",
     "exception": false,
     "start_time": "2021-05-10T14:57:38.837271",
     "status": "completed"
    },
    "tags": [
     "bash"
    ]
   },
   "outputs": [
    {
     "name": "stdout",
     "output_type": "stream",
     "text": [
      "name    Last run     Outdated?    Product        Doc (short)    Location\n",
      "------  -----------  -----------  -------------  -------------  -------------\n",
      "raw     a month ago  Source code  MetaProduct({                 /Users/Edu/de\n",
      "        (Mar 13, 21               'data': File(                 v/projects-pl\n",
      "        at 18:25)                 'output/raw.c                 oomber/spec-\n",
      "                                  sv'), 'nb': F                 api-r/raw.R\n",
      "                                  ile('output/r\n",
      "                                  aw.ipynb')})\n",
      "clean   a month ago  Upstream     MetaProduct({                 /Users/Edu/de\n",
      "        (Mar 13, 21               'data': File(                 v/projects-pl\n",
      "        at 18:25)                 'output/clean                 oomber/spec-\n",
      "                                  .csv'), 'nb':                 api-r/clean.R\n",
      "                                  File('output/\n",
      "                                  clean.ipynb')\n",
      "                                  })\n",
      "plot    a month ago  Upstream     File('output/                 /Users/Edu/de\n",
      "        (Mar 13, 21               plot.ipynb')                  v/projects-pl\n",
      "        at 18:25)                                               oomber/spec-\n",
      "                                                                api-r/plot.R\n"
     ]
    },
    {
     "name": "stderr",
     "output_type": "stream",
     "text": [
      "100%|██████████| 3/3 [00:00<00:00, 7834.94it/s]\n"
     ]
    }
   ],
   "source": [
    "%%sh\n",
    "ploomber status"
   ]
  },
  {
   "cell_type": "markdown",
   "id": "communist-commissioner",
   "metadata": {
    "papermill": {
     "duration": 0.006026,
     "end_time": "2021-05-10T14:57:41.917313",
     "exception": false,
     "start_time": "2021-05-10T14:57:41.911287",
     "status": "completed"
    },
    "tags": []
   },
   "source": [
    "## Build the pipeline from the command line"
   ]
  },
  {
   "cell_type": "code",
   "execution_count": 2,
   "id": "indian-typing",
   "metadata": {
    "execution": {
     "iopub.execute_input": "2021-05-10T14:57:41.937111Z",
     "iopub.status.busy": "2021-05-10T14:57:41.936358Z",
     "iopub.status.idle": "2021-05-10T14:57:50.260914Z",
     "shell.execute_reply": "2021-05-10T14:57:50.261453Z"
    },
    "papermill": {
     "duration": 8.337642,
     "end_time": "2021-05-10T14:57:50.261827",
     "exception": false,
     "start_time": "2021-05-10T14:57:41.924185",
     "status": "completed"
    },
    "tags": [
     "bash"
    ]
   },
   "outputs": [
    {
     "name": "stdout",
     "output_type": "stream",
     "text": [
      "name    Ran?      Elapsed (s)    Percentage\n",
      "------  ------  -------------  ------------\n",
      "raw     True          2.32683       37.3174\n",
      "clean   True          1.50994       24.2162\n",
      "plot    True          2.39848       38.4664\n"
     ]
    },
    {
     "name": "stderr",
     "output_type": "stream",
     "text": [
      "mkdir: output: File exists\n",
      "Building task \"raw\":   0%|          | 0/3 [00:00<?, ?it/s]\n",
      "Executing:   0%|          | 0/3 [00:00<?, ?cell/s]\u001b[A\n",
      "Executing:  33%|███▎      | 1/3 [00:02<00:04,  2.07s/cell]\u001b[A\n",
      "Executing: 100%|██████████| 3/3 [00:02<00:00,  1.30cell/s]\n",
      "Building task \"clean\":  33%|███▎      | 1/3 [00:02<00:04,  2.33s/it]\n",
      "Executing:   0%|          | 0/4 [00:00<?, ?cell/s]\u001b[A\n",
      "Executing:  25%|██▌       | 1/4 [00:01<00:03,  1.23s/cell]\u001b[A\n",
      "Executing: 100%|██████████| 4/4 [00:01<00:00,  2.68cell/s]\n",
      "Building task \"plot\":  67%|██████▋   | 2/3 [00:03<00:01,  1.85s/it] \n",
      "Executing:   0%|          | 0/4 [00:00<?, ?cell/s]\u001b[A\n",
      "Executing:  25%|██▌       | 1/4 [00:01<00:03,  1.13s/cell]\u001b[A\n",
      "Executing:  75%|███████▌  | 3/4 [00:01<00:00,  2.66cell/s]\u001b[A\n",
      "Executing: 100%|██████████| 4/4 [00:02<00:00,  1.68cell/s]\n",
      "Building task \"plot\": 100%|██████████| 3/3 [00:06<00:00,  2.08s/it]\n"
     ]
    }
   ],
   "source": [
    "%%sh\n",
    "mkdir output\n",
    "ploomber build"
   ]
  },
  {
   "cell_type": "markdown",
   "id": "requested-tourist",
   "metadata": {
    "papermill": {
     "duration": 0.007262,
     "end_time": "2021-05-10T14:57:50.278544",
     "exception": false,
     "start_time": "2021-05-10T14:57:50.271282",
     "status": "completed"
    },
    "tags": []
   },
   "source": [
    "Output stored in the ``output/`` directory."
   ]
  }
 ],
 "metadata": {
  "jupytext": {
   "cell_metadata_filter": "tags,-all",
   "main_language": "bash",
   "notebook_metadata_filter": "-all"
  },
  "kernelspec": {
   "display_name": "Python 3",
   "language": "python",
   "name": "python3"
  },
  "language_info": {
   "codemirror_mode": {
    "name": "ipython",
    "version": 3
   },
   "file_extension": ".py",
   "mimetype": "text/x-python",
   "name": "python",
   "nbconvert_exporter": "python",
   "pygments_lexer": "ipython3",
   "version": "3.7.10"
  },
  "papermill": {
   "duration": 12.81175,
   "end_time": "2021-05-10T14:57:50.539562",
   "exception": null,
   "input_path": "/var/folders/3h/_lvh_w_x5g30rrjzb_xnn2j80000gq/T/tmpo22_ah1_.ipynb",
   "output_path": "spec-api-r/README.ipynb",
   "parameters": {
    "product": "spec-api-r/README.ipynb"
   },
   "start_time": "2021-05-10T14:57:37.727812"
  }
 },
 "nbformat": 4,
 "nbformat_minor": 5
}
