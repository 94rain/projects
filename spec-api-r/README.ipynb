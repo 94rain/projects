{
 "cells": [
  {
   "cell_type": "markdown",
   "id": "aaf66697",
   "metadata": {
    "papermill": {
     "duration": 0.007536,
     "end_time": "2021-09-19T22:34:45.757615",
     "exception": false,
     "start_time": "2021-09-19T22:34:45.750079",
     "status": "completed"
    },
    "tags": []
   },
   "source": [
    "\n",
    "*Note:* You can run this from your computer (Jupyter or terminal), or using Binder (does not require any installation, takes a few minutes to be ready)\n",
    "\n",
    "[![binder-logo](https://mybinder.org/badge_logo.svg)](https://mybinder.org/v2/gh/ploomber/binder-env/main?urlpath=git-pull%3Frepo%3Dhttps%253A%252F%252Fgithub.com%252Fploomber%252Fprojects%26urlpath%3Dlab%252Ftree%252Fprojects%252Fspec-api-r%252FREADME.ipynb%26branch%3Dmaster)\n"
   ]
  },
  {
   "cell_type": "markdown",
   "id": "45832d1c",
   "metadata": {
    "papermill": {
     "duration": 0.005283,
     "end_time": "2021-09-19T22:34:45.768334",
     "exception": false,
     "start_time": "2021-09-19T22:34:45.763051",
     "status": "completed"
    },
    "tags": []
   },
   "source": [
    "# R pipeline\n",
    "\n",
    "R pipeline.\n",
    "\n",
    "## Setup environment\n",
    "\n",
    "(**Note**: Skip if running in Binder)\n",
    "\n",
    "~~~sh\n",
    "# if using conda (installs R in the virtual env)\n",
    "conda env create --file environment.yaml\n",
    "conda activate spec-api-r\n",
    "\n",
    "# if using pip, you need to install R manual and set up the IRKernel\n",
    "# package manually: https://github.com/IRkernel/IRkernel, then\n",
    "pip install -r requirements.txt\n",
    "~~~\n",
    "\n",
    "## Pipeline description\n",
    "\n",
    "This pipeline contains three tasks. The last task generates a plot. To get the\n",
    "pipeline description:"
   ]
  },
  {
   "cell_type": "code",
   "execution_count": 1,
   "id": "9ee52dfc",
   "metadata": {
    "execution": {
     "iopub.execute_input": "2021-09-19T22:34:45.788096Z",
     "iopub.status.busy": "2021-09-19T22:34:45.787284Z",
     "iopub.status.idle": "2021-09-19T22:34:47.949785Z",
     "shell.execute_reply": "2021-09-19T22:34:47.950375Z"
    },
    "papermill": {
     "duration": 2.17665,
     "end_time": "2021-09-19T22:34:47.950710",
     "exception": false,
     "start_time": "2021-09-19T22:34:45.774060",
     "status": "completed"
    },
    "tags": [
     "bash"
    ]
   },
   "outputs": [
    {
     "name": "stdout",
     "output_type": "stream",
     "text": [
      "name    Last run      Outdated?    Product        Doc (short)    Location\n",
      "------  ------------  -----------  -------------  -------------  -------------\n",
      "raw     29 minutes    False        MetaProduct({                 /Users/Edu/de\n",
      "        ago (Sep 19,               'data': File(                 v/projects-pl\n",
      "        21 at 17:04)               'output/raw.c                 oomber/spec-\n",
      "                                   sv'), 'nb': F                 api-r/raw.R\n",
      "                                   ile('output/r\n",
      "                                   aw.ipynb')})\n",
      "clean   29 minutes    False        MetaProduct({                 /Users/Edu/de\n",
      "        ago (Sep 19,               'data': File(                 v/projects-pl\n",
      "        21 at 17:04)               'output/clean                 oomber/spec-\n",
      "                                   .csv'), 'nb':                 api-r/clean.R\n",
      "                                   File('output/\n",
      "                                   clean.ipynb')\n",
      "                                   })\n",
      "plot    29 minutes    False        File('output/                 /Users/Edu/de\n",
      "        ago (Sep 19,               plot.ipynb')                  v/projects-pl\n",
      "        21 at 17:04)                                             oomber/spec-\n",
      "                                                                 api-r/plot.R\n"
     ]
    },
    {
     "name": "stderr",
     "output_type": "stream",
     "text": [
      "100%|██████████| 3/3 [00:00<00:00, 11715.93it/s]\n"
     ]
    }
   ],
   "source": [
    "%%sh\n",
    "ploomber status"
   ]
  },
  {
   "cell_type": "markdown",
   "id": "48c310a4",
   "metadata": {
    "papermill": {
     "duration": 0.005092,
     "end_time": "2021-09-19T22:34:47.961444",
     "exception": false,
     "start_time": "2021-09-19T22:34:47.956352",
     "status": "completed"
    },
    "tags": []
   },
   "source": [
    "## Build the pipeline from the command line"
   ]
  },
  {
   "cell_type": "code",
   "execution_count": 2,
   "id": "dc6e2997",
   "metadata": {
    "execution": {
     "iopub.execute_input": "2021-09-19T22:34:47.981421Z",
     "iopub.status.busy": "2021-09-19T22:34:47.980002Z",
     "iopub.status.idle": "2021-09-19T22:34:50.138989Z",
     "shell.execute_reply": "2021-09-19T22:34:50.139539Z"
    },
    "papermill": {
     "duration": 2.172611,
     "end_time": "2021-09-19T22:34:50.139876",
     "exception": false,
     "start_time": "2021-09-19T22:34:47.967265",
     "status": "completed"
    },
    "tags": [
     "bash"
    ]
   },
   "outputs": [
    {
     "name": "stdout",
     "output_type": "stream",
     "text": [
      "name    Ran?      Elapsed (s)    Percentage\n",
      "------  ------  -------------  ------------\n",
      "raw     False               0             0\n",
      "clean   False               0             0\n",
      "plot    False               0             0\n"
     ]
    },
    {
     "name": "stderr",
     "output_type": "stream",
     "text": [
      "mkdir: output: File exists\n",
      "0it [00:00, ?it/s]\n"
     ]
    }
   ],
   "source": [
    "%%sh\n",
    "mkdir output\n",
    "ploomber build"
   ]
  },
  {
   "cell_type": "markdown",
   "id": "34c07e9b",
   "metadata": {
    "papermill": {
     "duration": 0.005694,
     "end_time": "2021-09-19T22:34:50.151807",
     "exception": false,
     "start_time": "2021-09-19T22:34:50.146113",
     "status": "completed"
    },
    "tags": []
   },
   "source": [
    "Output stored in the ``output/`` directory."
   ]
  }
 ],
 "metadata": {
  "jupytext": {
   "cell_metadata_filter": "tags,-all",
   "main_language": "bash",
   "notebook_metadata_filter": "-all"
  },
  "kernelspec": {
   "display_name": "Python 3 (ipykernel)",
   "language": "python",
   "name": "python3"
  },
  "language_info": {
   "codemirror_mode": {
    "name": "ipython",
    "version": 3
   },
   "file_extension": ".py",
   "mimetype": "text/x-python",
   "name": "python",
   "nbconvert_exporter": "python",
   "pygments_lexer": "ipython3",
   "version": "3.7.10"
  },
  "papermill": {
   "duration": 5.813478,
   "end_time": "2021-09-19T22:34:50.302639",
   "exception": null,
   "input_path": "/var/folders/3h/_lvh_w_x5g30rrjzb_xnn2j80000gq/T/tmpk8eypmg6.ipynb",
   "output_path": "spec-api-r/README.ipynb",
   "parameters": {
    "product": "spec-api-r/README.ipynb"
   },
   "start_time": "2021-09-19T22:34:44.489161"
  }
 },
 "nbformat": 4,
 "nbformat_minor": 5
}
