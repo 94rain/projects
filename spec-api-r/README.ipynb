{
 "cells": [
  {
   "cell_type": "markdown",
   "id": "a08f6f00",
   "metadata": {
    "papermill": {
     "duration": 0.006987,
     "end_time": "2021-09-19T22:21:32.238559",
     "exception": false,
     "start_time": "2021-09-19T22:21:32.231572",
     "status": "completed"
    },
    "tags": []
   },
   "source": [
    "\n",
    "*Note:* You can run this from your computer (Jupyter or terminal), or using Binder (does not require any installation, takes a few minutes to be ready)\n",
    "\n",
    "[![binder-logo](https://mybinder.org/badge_logo.svg)](https://mybinder.org/v2/gh/ploomber/binder-env/main?urlpath=git-pull%3Frepo%3Dhttps%253A%252F%252Fgithub.com%252Fploomber%252Fprojects%26urlpath%3Dlab%252Ftree%252Fprojects%252Fspec-api-r%252FREADME.ipynb%26branch%3Dmaster)\n"
   ]
  },
  {
   "cell_type": "markdown",
   "id": "d74b591d",
   "metadata": {
    "papermill": {
     "duration": 0.005509,
     "end_time": "2021-09-19T22:21:32.249201",
     "exception": false,
     "start_time": "2021-09-19T22:21:32.243692",
     "status": "completed"
    },
    "tags": []
   },
   "source": [
    "# R pipeline\n",
    "\n",
    "R pipeline.\n",
    "\n",
    "## Setup environment\n",
    "\n",
    "(**Note**: Skip if running in Binder)\n",
    "\n",
    "~~~sh\n",
    "# if using conda (installs R in the virtual env)\n",
    "conda env create --file environment.yaml\n",
    "conda activate spec-api-r\n",
    "\n",
    "# if using pip, you need to install R manual and set up the IRKernel\n",
    "# package manually: https://github.com/IRkernel/IRkernel, then\n",
    "pip install -r requirements.txt\n",
    "~~~\n",
    "\n",
    "## Pipeline description\n",
    "\n",
    "This pipeline contains three tasks. The last task generates a plot. To get the\n",
    "pipeline description:"
   ]
  },
  {
   "cell_type": "code",
   "execution_count": 1,
   "id": "7c139f55",
   "metadata": {
    "execution": {
     "iopub.execute_input": "2021-09-19T22:21:32.268222Z",
     "iopub.status.busy": "2021-09-19T22:21:32.267411Z",
     "iopub.status.idle": "2021-09-19T22:21:34.519561Z",
     "shell.execute_reply": "2021-09-19T22:21:34.520095Z"
    },
    "papermill": {
     "duration": 2.26633,
     "end_time": "2021-09-19T22:21:34.520412",
     "exception": false,
     "start_time": "2021-09-19T22:21:32.254082",
     "status": "completed"
    },
    "tags": [
     "bash"
    ]
   },
   "outputs": [
    {
     "name": "stdout",
     "output_type": "stream",
     "text": [
      "name    Last run      Outdated?    Product        Doc (short)    Location\n",
      "------  ------------  -----------  -------------  -------------  -------------\n",
      "raw     16 minutes    False        MetaProduct({                 /Users/Edu/de\n",
      "        ago (Sep 19,               'data': File(                 v/projects-pl\n",
      "        21 at 17:04)               'output/raw.c                 oomber/spec-\n",
      "                                   sv'), 'nb': F                 api-r/raw.R\n",
      "                                   ile('output/r\n",
      "                                   aw.ipynb')})\n",
      "clean   16 minutes    False        MetaProduct({                 /Users/Edu/de\n",
      "        ago (Sep 19,               'data': File(                 v/projects-pl\n",
      "        21 at 17:04)               'output/clean                 oomber/spec-\n",
      "                                   .csv'), 'nb':                 api-r/clean.R\n",
      "                                   File('output/\n",
      "                                   clean.ipynb')\n",
      "                                   })\n",
      "plot    16 minutes    False        File('output/                 /Users/Edu/de\n",
      "        ago (Sep 19,               plot.ipynb')                  v/projects-pl\n",
      "        21 at 17:04)                                             oomber/spec-\n",
      "                                                                 api-r/plot.R\n"
     ]
    },
    {
     "name": "stderr",
     "output_type": "stream",
     "text": [
      "100%|██████████| 3/3 [00:00<00:00, 12932.08it/s]\n"
     ]
    }
   ],
   "source": [
    "%%sh\n",
    "ploomber status"
   ]
  },
  {
   "cell_type": "markdown",
   "id": "1559e641",
   "metadata": {
    "papermill": {
     "duration": 0.005065,
     "end_time": "2021-09-19T22:21:34.531270",
     "exception": false,
     "start_time": "2021-09-19T22:21:34.526205",
     "status": "completed"
    },
    "tags": []
   },
   "source": [
    "## Build the pipeline from the command line"
   ]
  },
  {
   "cell_type": "code",
   "execution_count": 2,
   "id": "3c3accf5",
   "metadata": {
    "execution": {
     "iopub.execute_input": "2021-09-19T22:21:34.549390Z",
     "iopub.status.busy": "2021-09-19T22:21:34.548611Z",
     "iopub.status.idle": "2021-09-19T22:21:36.824660Z",
     "shell.execute_reply": "2021-09-19T22:21:36.825341Z"
    },
    "papermill": {
     "duration": 2.288806,
     "end_time": "2021-09-19T22:21:36.825593",
     "exception": false,
     "start_time": "2021-09-19T22:21:34.536787",
     "status": "completed"
    },
    "tags": [
     "bash"
    ]
   },
   "outputs": [
    {
     "name": "stdout",
     "output_type": "stream",
     "text": [
      "name    Ran?      Elapsed (s)    Percentage\n",
      "------  ------  -------------  ------------\n",
      "raw     False               0             0\n",
      "clean   False               0             0\n",
      "plot    False               0             0\n"
     ]
    },
    {
     "name": "stderr",
     "output_type": "stream",
     "text": [
      "mkdir: output: File exists\n",
      "0it [00:00, ?it/s]\n"
     ]
    }
   ],
   "source": [
    "%%sh\n",
    "mkdir output\n",
    "ploomber build"
   ]
  },
  {
   "cell_type": "markdown",
   "id": "f69fcfdc",
   "metadata": {
    "papermill": {
     "duration": 0.006892,
     "end_time": "2021-09-19T22:21:36.840648",
     "exception": false,
     "start_time": "2021-09-19T22:21:36.833756",
     "status": "completed"
    },
    "tags": []
   },
   "source": [
    "Output stored in the ``output/`` directory."
   ]
  }
 ],
 "metadata": {
  "jupytext": {
   "cell_metadata_filter": "tags,-all",
   "main_language": "bash",
   "notebook_metadata_filter": "-all"
  },
  "kernelspec": {
   "display_name": "Python 3 (ipykernel)",
   "language": "python",
   "name": "python3"
  },
  "language_info": {
   "codemirror_mode": {
    "name": "ipython",
    "version": 3
   },
   "file_extension": ".py",
   "mimetype": "text/x-python",
   "name": "python",
   "nbconvert_exporter": "python",
   "pygments_lexer": "ipython3",
   "version": "3.7.10"
  },
  "papermill": {
   "duration": 6.11451,
   "end_time": "2021-09-19T22:21:37.097427",
   "exception": null,
   "input_path": "/var/folders/3h/_lvh_w_x5g30rrjzb_xnn2j80000gq/T/tmp1m26mho8.ipynb",
   "output_path": "spec-api-r/README.ipynb",
   "parameters": {
    "product": "spec-api-r/README.ipynb"
   },
   "start_time": "2021-09-19T22:21:30.982917"
  }
 },
 "nbformat": 4,
 "nbformat_minor": 5
}
