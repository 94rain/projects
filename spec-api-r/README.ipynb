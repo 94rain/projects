{
 "cells": [
  {
   "cell_type": "markdown",
   "id": "appreciated-istanbul",
   "metadata": {
    "papermill": {
     "duration": 0.009705,
     "end_time": "2021-03-14T00:40:19.403912",
     "exception": false,
     "start_time": "2021-03-14T00:40:19.394207",
     "status": "completed"
    },
    "tags": []
   },
   "source": [
    "\n",
    "*Note:* You can run this from your computer (Jupyter or terminal), or use one of the\n",
    "hosted options:\n",
    "\n",
    "[![binder-logo](https://mybinder.org/badge_logo.svg)](https://mybinder.org/v2/gh/ploomber/binder-env/main?urlpath=git-pull%3Frepo%3Dhttps%253A%252F%252Fgithub.com%252Fploomber%252Fprojects%26urlpath%3Dlab%252Ftree%252Fprojects%252Fspec-api-r%252FREADME.ipynb%26branch%3Dmaster)\n",
    "\n",
    "[![deepnote-logo](https://deepnote.com/buttons/launch-in-deepnote-small.svg)](https://deepnote.com/launch?template=deepnote&url=https://github.com/ploomber/projects/blob/master/spec-api-r/README.ipynb)\n"
   ]
  },
  {
   "cell_type": "markdown",
   "id": "norman-strap",
   "metadata": {
    "papermill": {
     "duration": 0.005721,
     "end_time": "2021-03-14T00:40:19.415202",
     "exception": false,
     "start_time": "2021-03-14T00:40:19.409481",
     "status": "completed"
    },
    "tags": []
   },
   "source": [
    "# R pipeline\n",
    "\n",
    "R pipeline.\n",
    "\n",
    "## Setup environment\n",
    "\n",
    "(**Note**: Skip if running in binder or deepnote)\n",
    "\n",
    "~~~sh\n",
    "# if using conda (installs R in the virtual env)\n",
    "conda env create --file environment.yaml\n",
    "conda activate spec-api-r\n",
    "\n",
    "# if using pip, you need to install R manual and set up the IRKernel\n",
    "# package manually: https://github.com/IRkernel/IRkernel, then\n",
    "pip install -r requirements.txt\n",
    "~~~\n",
    "\n",
    "## Pipeline description\n",
    "\n",
    "This pipeline contains three tasks. The last task generates a plot. To get the\n",
    "pipeline description:"
   ]
  },
  {
   "cell_type": "code",
   "execution_count": 1,
   "id": "diverse-cookbook",
   "metadata": {
    "execution": {
     "iopub.execute_input": "2021-03-14T00:40:19.434428Z",
     "iopub.status.busy": "2021-03-14T00:40:19.433728Z",
     "iopub.status.idle": "2021-03-14T00:40:21.298615Z",
     "shell.execute_reply": "2021-03-14T00:40:21.299170Z"
    },
    "papermill": {
     "duration": 1.879478,
     "end_time": "2021-03-14T00:40:21.299470",
     "exception": false,
     "start_time": "2021-03-14T00:40:19.419992",
     "status": "completed"
    },
    "tags": [
     "bash"
    ]
   },
   "outputs": [
    {
     "name": "stdout",
     "output_type": "stream",
     "text": [
      "name    Last run      Outdated?    Product        Doc (short)    Location\n",
      "------  ------------  -----------  -------------  -------------  -------------\n",
      "raw     15 minutes    False        MetaProduct({                 /Users/Edu/de\n",
      "        ago (Mar 13,               'data': File(                 v/projects-pl\n",
      "        21 at 18:25)               'output/raw.c                 oomber/spec-\n",
      "                                   sv'), 'nb': F                 api-r/raw.R\n",
      "                                   ile('output/r\n",
      "                                   aw.ipynb')})\n",
      "clean   15 minutes    False        MetaProduct({                 /Users/Edu/de\n",
      "        ago (Mar 13,               'data': File(                 v/projects-pl\n",
      "        21 at 18:25)               'output/clean                 oomber/spec-\n",
      "                                   .csv'), 'nb':                 api-r/clean.R\n",
      "                                   File('output/\n",
      "                                   clean.ipynb')\n",
      "                                   })\n",
      "plot    15 minutes    False        File('output/                 /Users/Edu/de\n",
      "        ago (Mar 13,               plot.ipynb')                  v/projects-pl\n",
      "        21 at 18:25)                                             oomber/spec-\n",
      "                                                                 api-r/plot.R\n"
     ]
    },
    {
     "name": "stderr",
     "output_type": "stream",
     "text": [
      "100%|██████████| 3/3 [00:00<00:00, 8924.05it/s]\n"
     ]
    }
   ],
   "source": [
    "%%sh\n",
    "ploomber status"
   ]
  },
  {
   "cell_type": "markdown",
   "id": "brown-spider",
   "metadata": {
    "papermill": {
     "duration": 0.006101,
     "end_time": "2021-03-14T00:40:21.311928",
     "exception": false,
     "start_time": "2021-03-14T00:40:21.305827",
     "status": "completed"
    },
    "tags": []
   },
   "source": [
    "## Build the pipeline from the command line"
   ]
  },
  {
   "cell_type": "code",
   "execution_count": 2,
   "id": "binding-express",
   "metadata": {
    "execution": {
     "iopub.execute_input": "2021-03-14T00:40:21.330471Z",
     "iopub.status.busy": "2021-03-14T00:40:21.328700Z",
     "iopub.status.idle": "2021-03-14T00:40:23.227421Z",
     "shell.execute_reply": "2021-03-14T00:40:23.227953Z"
    },
    "papermill": {
     "duration": 1.90993,
     "end_time": "2021-03-14T00:40:23.228175",
     "exception": false,
     "start_time": "2021-03-14T00:40:21.318245",
     "status": "completed"
    },
    "tags": [
     "bash"
    ]
   },
   "outputs": [
    {
     "name": "stdout",
     "output_type": "stream",
     "text": [
      "name    Ran?      Elapsed (s)    Percentage\n",
      "------  ------  -------------  ------------\n",
      "raw     False               0             0\n",
      "clean   False               0             0\n",
      "plot    False               0             0\n"
     ]
    },
    {
     "name": "stderr",
     "output_type": "stream",
     "text": [
      "mkdir: output: File exists\n",
      "0it [00:00, ?it/s]\n"
     ]
    }
   ],
   "source": [
    "%%sh\n",
    "mkdir output\n",
    "ploomber build"
   ]
  },
  {
   "cell_type": "markdown",
   "id": "knowing-resort",
   "metadata": {
    "papermill": {
     "duration": 0.006375,
     "end_time": "2021-03-14T00:40:23.241348",
     "exception": false,
     "start_time": "2021-03-14T00:40:23.234973",
     "status": "completed"
    },
    "tags": []
   },
   "source": [
    "Output stored in the ``output/`` directory."
   ]
  }
 ],
 "metadata": {
  "jupytext": {
   "cell_metadata_filter": "tags,-all",
   "main_language": "bash",
   "notebook_metadata_filter": "-all"
  },
  "kernelspec": {
   "display_name": "Python 3",
   "language": "python",
   "name": "python3"
  },
  "language_info": {
   "codemirror_mode": {
    "name": "ipython",
    "version": 3
   },
   "file_extension": ".py",
   "mimetype": "text/x-python",
   "name": "python",
   "nbconvert_exporter": "python",
   "pygments_lexer": "ipython3",
   "version": "3.7.10"
  },
  "papermill": {
   "duration": 6.030152,
   "end_time": "2021-03-14T00:40:24.416184",
   "exception": null,
   "input_path": "/var/folders/3h/_lvh_w_x5g30rrjzb_xnn2j80000gq/T/tmpinj9eho8.ipynb",
   "output_path": "spec-api-r/README.ipynb",
   "parameters": {
    "product": "spec-api-r/README.ipynb"
   },
   "start_time": "2021-03-14T00:40:18.386032"
  }
 },
 "nbformat": 4,
 "nbformat_minor": 5
}
