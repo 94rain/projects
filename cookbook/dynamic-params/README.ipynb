{
 "cells": [
  {
   "cell_type": "markdown",
   "id": "6b218b48",
   "metadata": {
    "papermill": {
     "duration": 0.023017,
     "end_time": "2021-10-19T02:40:19.439384",
     "exception": false,
     "start_time": "2021-10-19T02:40:19.416367",
     "status": "completed"
    },
    "tags": []
   },
   "source": [
    "To run this example locally, execute: `ploomber examples -n cookbook/dynamic-params`.\n",
    "\n",
    "To start a free, hosted JupyterLab: [![binder-logo](https://mybinder.org/badge_logo.svg)](https://mybinder.org/v2/gh/ploomber/binder-env/main?urlpath=git-pull%3Frepo%3Dhttps%253A%252F%252Fgithub.com%252Fploomber%252Fprojects%26urlpath%3Dlab%252Ftree%252Fprojects%252Fcookbook/dynamic-params%252FREADME.ipynb%26branch%3Dmaster)\n",
    "\n",
    "Found an issue? [Let us know.](https://github.com/ploomber/projects/issues/new?title=cookbook/dynamic-params%20issue)\n",
    "\n",
    "Have questions? [Ask us anything on Slack.](http://community.ploomber.io/)\n"
   ]
  },
  {
   "cell_type": "markdown",
   "id": "a04eb607",
   "metadata": {
    "papermill": {
     "duration": 0.0256,
     "end_time": "2021-10-19T02:40:19.484952",
     "exception": false,
     "start_time": "2021-10-19T02:40:19.459352",
     "status": "completed"
    },
    "tags": []
   },
   "source": [
    "# Dynamic params\n",
    "\n",
    "<!-- start description -->\n",
    "Pipeline parameters whose values are computed at runtime.\n",
    "<!-- end description -->\n",
    "\n",
    "Run the pipeline:"
   ]
  },
  {
   "cell_type": "code",
   "execution_count": 1,
   "id": "840380cd",
   "metadata": {
    "execution": {
     "iopub.execute_input": "2021-10-19T02:40:19.536243Z",
     "iopub.status.busy": "2021-10-19T02:40:19.535127Z",
     "iopub.status.idle": "2021-10-19T02:40:27.355467Z",
     "shell.execute_reply": "2021-10-19T02:40:27.355944Z"
    },
    "papermill": {
     "duration": 7.849685,
     "end_time": "2021-10-19T02:40:27.356394",
     "exception": false,
     "start_time": "2021-10-19T02:40:19.506709",
     "status": "completed"
    },
    "tags": []
   },
   "outputs": [
    {
     "name": "stderr",
     "output_type": "stream",
     "text": [
      "\r",
      "  0%|          | 0/2 [00:00<?, ?it/s]\r",
      "Building task 'create_file':   0%|          | 0/2 [00:00<?, ?it/s]\r",
      "Building task 'create_file':  50%|█████     | 1/2 [00:02<00:02,  2.73s/it]\r",
      "Building task 'script':  50%|█████     | 1/2 [00:02<00:02,  2.73s/it]     \n",
      "\r",
      "Executing:   0%|          | 0/4 [00:00<?, ?cell/s]\u001b[A\n",
      "\r",
      "Executing:  25%|██▌       | 1/4 [00:01<00:03,  1.31s/cell]\u001b[A\r",
      "Executing: 100%|██████████| 4/4 [00:01<00:00,  2.48cell/s]\n",
      "\r",
      "Building task 'script': 100%|██████████| 2/2 [00:04<00:00,  2.10s/it]\r",
      "Building task 'script': 100%|██████████| 2/2 [00:04<00:00,  2.20s/it]\n"
     ]
    }
   ],
   "source": [
    "%%sh\n",
    "python run.py"
   ]
  },
  {
   "cell_type": "markdown",
   "id": "8ae41073",
   "metadata": {
    "papermill": {
     "duration": 0.020274,
     "end_time": "2021-10-19T02:40:27.399873",
     "exception": false,
     "start_time": "2021-10-19T02:40:27.379599",
     "status": "completed"
    },
    "tags": []
   },
   "source": [
    "Check output (stored in directory with name `0`):"
   ]
  },
  {
   "cell_type": "code",
   "execution_count": 2,
   "id": "2bb96ddb",
   "metadata": {
    "execution": {
     "iopub.execute_input": "2021-10-19T02:40:27.444810Z",
     "iopub.status.busy": "2021-10-19T02:40:27.444161Z",
     "iopub.status.idle": "2021-10-19T02:40:27.510366Z",
     "shell.execute_reply": "2021-10-19T02:40:27.510934Z"
    },
    "papermill": {
     "duration": 0.091209,
     "end_time": "2021-10-19T02:40:27.511183",
     "exception": false,
     "start_time": "2021-10-19T02:40:27.419974",
     "status": "completed"
    },
    "tags": []
   },
   "outputs": [
    {
     "name": "stdout",
     "output_type": "stream",
     "text": [
      "0\n"
     ]
    }
   ],
   "source": [
    "%%sh\n",
    "ls products"
   ]
  },
  {
   "cell_type": "markdown",
   "id": "f703d9ea",
   "metadata": {
    "papermill": {
     "duration": 0.022141,
     "end_time": "2021-10-19T02:40:27.559086",
     "exception": false,
     "start_time": "2021-10-19T02:40:27.536945",
     "status": "completed"
    },
    "tags": []
   },
   "source": [
    "Run again:"
   ]
  },
  {
   "cell_type": "code",
   "execution_count": 3,
   "id": "7d85b7c2",
   "metadata": {
    "execution": {
     "iopub.execute_input": "2021-10-19T02:40:27.612153Z",
     "iopub.status.busy": "2021-10-19T02:40:27.611343Z",
     "iopub.status.idle": "2021-10-19T02:40:35.005084Z",
     "shell.execute_reply": "2021-10-19T02:40:35.006099Z"
    },
    "papermill": {
     "duration": 7.424709,
     "end_time": "2021-10-19T02:40:35.006341",
     "exception": false,
     "start_time": "2021-10-19T02:40:27.581632",
     "status": "completed"
    },
    "tags": []
   },
   "outputs": [
    {
     "name": "stderr",
     "output_type": "stream",
     "text": [
      "\r",
      "  0%|          | 0/2 [00:00<?, ?it/s]\r",
      "Building task 'create_file':   0%|          | 0/2 [00:00<?, ?it/s]\r",
      "Building task 'create_file':  50%|█████     | 1/2 [00:02<00:02,  2.53s/it]\r",
      "Building task 'script':  50%|█████     | 1/2 [00:02<00:02,  2.53s/it]     \n",
      "\r",
      "Executing:   0%|          | 0/4 [00:00<?, ?cell/s]\u001b[A\n",
      "\r",
      "Executing:  25%|██▌       | 1/4 [00:01<00:04,  1.39s/cell]\u001b[A\r",
      "Executing: 100%|██████████| 4/4 [00:01<00:00,  2.37cell/s]\n",
      "\r",
      "Building task 'script': 100%|██████████| 2/2 [00:04<00:00,  2.06s/it]\r",
      "Building task 'script': 100%|██████████| 2/2 [00:04<00:00,  2.13s/it]\n"
     ]
    }
   ],
   "source": [
    "%%sh\n",
    "python run.py"
   ]
  },
  {
   "cell_type": "markdown",
   "id": "07ed02b8",
   "metadata": {
    "papermill": {
     "duration": 0.029576,
     "end_time": "2021-10-19T02:40:35.060080",
     "exception": false,
     "start_time": "2021-10-19T02:40:35.030504",
     "status": "completed"
    },
    "tags": []
   },
   "source": [
    "Check output (this time, stored in directory with name `1`):"
   ]
  },
  {
   "cell_type": "code",
   "execution_count": 4,
   "id": "c0522aac",
   "metadata": {
    "execution": {
     "iopub.execute_input": "2021-10-19T02:40:35.111302Z",
     "iopub.status.busy": "2021-10-19T02:40:35.110663Z",
     "iopub.status.idle": "2021-10-19T02:40:35.173889Z",
     "shell.execute_reply": "2021-10-19T02:40:35.174493Z"
    },
    "papermill": {
     "duration": 0.092706,
     "end_time": "2021-10-19T02:40:35.174758",
     "exception": false,
     "start_time": "2021-10-19T02:40:35.082052",
     "status": "completed"
    },
    "tags": []
   },
   "outputs": [
    {
     "name": "stdout",
     "output_type": "stream",
     "text": [
      "0\n",
      "1\n"
     ]
    }
   ],
   "source": [
    "%%sh\n",
    "ls products"
   ]
  }
 ],
 "metadata": {
  "kernelspec": {
   "display_name": "Python 3 (ipykernel)",
   "language": "python",
   "name": "python3"
  },
  "language_info": {
   "codemirror_mode": {
    "name": "ipython",
    "version": 3
   },
   "file_extension": ".py",
   "mimetype": "text/x-python",
   "name": "python",
   "nbconvert_exporter": "python",
   "pygments_lexer": "ipython3",
   "version": "3.9.7"
  },
  "papermill": {
   "default_parameters": {},
   "duration": 18.172135,
   "end_time": "2021-10-19T02:40:35.417616",
   "environment_variables": {},
   "exception": null,
   "input_path": "cookbook/dynamic-params/_build/readme_preprocessed.ipynb",
   "output_path": "cookbook/dynamic-params/README.ipynb",
   "parameters": {},
   "start_time": "2021-10-19T02:40:17.245481",
   "version": "2.3.3"
  }
 },
 "nbformat": 4,
 "nbformat_minor": 5
}