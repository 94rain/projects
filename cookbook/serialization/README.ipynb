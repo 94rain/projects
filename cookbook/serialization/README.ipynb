{
 "cells": [
  {
   "cell_type": "markdown",
   "id": "6df5537c",
   "metadata": {
    "papermill": {
     "duration": 0.013116,
     "end_time": "2021-10-14T15:04:53.099790",
     "exception": false,
     "start_time": "2021-10-14T15:04:53.086674",
     "status": "completed"
    },
    "tags": []
   },
   "source": [
    "To run this example locally, execute: `ploomber examples -n cookbook/serialization`.\n",
    "\n",
    "To start a free, hosted JupyterLab: [![binder-logo](https://mybinder.org/badge_logo.svg)](https://mybinder.org/v2/gh/ploomber/binder-env/main?urlpath=git-pull%3Frepo%3Dhttps%253A%252F%252Fgithub.com%252Fploomber%252Fprojects%26urlpath%3Dlab%252Ftree%252Fprojects%252Fcookbook/serialization%252FREADME.ipynb%26branch%3Dmaster)\n",
    "\n",
    "Found an issue? [Let us know.](https://github.com/ploomber/projects/issues/new?title=cookbook/serialization%20issue)\n",
    "\n",
    "Have questions? [Ask us anything on Slack.](http://community.ploomber.io/)\n"
   ]
  },
  {
   "cell_type": "markdown",
   "id": "c6ae0832",
   "metadata": {
    "papermill": {
     "duration": 0.013104,
     "end_time": "2021-10-14T15:04:53.128968",
     "exception": false,
     "start_time": "2021-10-14T15:04:53.115864",
     "status": "completed"
    },
    "tags": []
   },
   "source": [
    "# Serializer and unserializer\n",
    "\n",
    "Shows how to use `serialize` and `unserialize`, including cases where products\n",
    "have different extensions, and some tasks generate multiple products.\n",
    "\n",
    "To execute the pipeline:"
   ]
  },
  {
   "cell_type": "code",
   "execution_count": 1,
   "id": "24e47810",
   "metadata": {
    "execution": {
     "iopub.execute_input": "2021-10-14T15:04:53.177482Z",
     "iopub.status.busy": "2021-10-14T15:04:53.174140Z",
     "iopub.status.idle": "2021-10-14T15:05:16.061097Z",
     "shell.execute_reply": "2021-10-14T15:05:16.062195Z"
    },
    "papermill": {
     "duration": 22.919085,
     "end_time": "2021-10-14T15:05:16.062601",
     "exception": false,
     "start_time": "2021-10-14T15:04:53.143516",
     "status": "completed"
    },
    "tags": []
   },
   "outputs": [
    {
     "name": "stdout",
     "output_type": "stream",
     "text": [
      "name            Ran?      Elapsed (s)    Percentage\n",
      "--------------  ------  -------------  ------------\n",
      "one_product     True         0.001105       4.11438\n",
      "many_products   True         0.006624      24.664\n",
      "joblib_product  True         0.012306      45.8205\n",
      "final_product   True         0.006822      25.4012\n"
     ]
    },
    {
     "name": "stderr",
     "output_type": "stream",
     "text": [
      "\r",
      "  0%|          | 0/4 [00:00<?, ?it/s]\r",
      "Building task 'one_product':   0%|          | 0/4 [00:00<?, ?it/s]\r",
      "Building task 'one_product':  25%|██▌       | 1/4 [00:04<00:13,  4.65s/it]\r",
      "Building task 'many_products':  25%|██▌       | 1/4 [00:04<00:13,  4.65s/it]\r",
      "Building task 'many_products':  50%|█████     | 2/4 [00:08<00:08,  4.43s/it]\r",
      "Building task 'joblib_product':  50%|█████     | 2/4 [00:08<00:08,  4.43s/it]\r",
      "Building task 'joblib_product':  75%|███████▌  | 3/4 [00:13<00:04,  4.63s/it]\r",
      "Building task 'final_product':  75%|███████▌  | 3/4 [00:13<00:04,  4.63s/it] \r",
      "Building task 'final_product': 100%|██████████| 4/4 [00:18<00:00,  4.57s/it]\r",
      "Building task 'final_product': 100%|██████████| 4/4 [00:18<00:00,  4.57s/it]\n"
     ]
    }
   ],
   "source": [
    "%%sh\n",
    "ploomber build"
   ]
  }
 ],
 "metadata": {
  "kernelspec": {
   "display_name": "Python 3 (ipykernel)",
   "language": "python",
   "name": "python3"
  },
  "language_info": {
   "codemirror_mode": {
    "name": "ipython",
    "version": 3
   },
   "file_extension": ".py",
   "mimetype": "text/x-python",
   "name": "python",
   "nbconvert_exporter": "python",
   "pygments_lexer": "ipython3",
   "version": "3.9.7"
  },
  "papermill": {
   "default_parameters": {},
   "duration": 24.734133,
   "end_time": "2021-10-14T15:05:16.294655",
   "environment_variables": {},
   "exception": null,
   "input_path": "cookbook/serialization/_build/readme_preprocessed.ipynb",
   "output_path": "cookbook/serialization/README.ipynb",
   "parameters": {},
   "start_time": "2021-10-14T15:04:51.560522",
   "version": "2.3.3"
  }
 },
 "nbformat": 4,
 "nbformat_minor": 5
}