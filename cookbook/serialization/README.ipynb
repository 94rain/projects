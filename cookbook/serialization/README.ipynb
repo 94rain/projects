{
 "cells": [
  {
   "cell_type": "markdown",
   "id": "06ff9ff6",
   "metadata": {
    "papermill": {
     "duration": 0.008899,
     "end_time": "2021-10-19T02:12:58.403523",
     "exception": false,
     "start_time": "2021-10-19T02:12:58.394624",
     "status": "completed"
    },
    "tags": []
   },
   "source": [
    "To run this example locally, execute: `ploomber examples -n cookbook/serialization`.\n",
    "\n",
    "To start a free, hosted JupyterLab: [![binder-logo](https://mybinder.org/badge_logo.svg)](https://mybinder.org/v2/gh/ploomber/binder-env/main?urlpath=git-pull%3Frepo%3Dhttps%253A%252F%252Fgithub.com%252Fploomber%252Fprojects%26urlpath%3Dlab%252Ftree%252Fprojects%252Fcookbook/serialization%252FREADME.ipynb%26branch%3Dmaster)\n",
    "\n",
    "Found an issue? [Let us know.](https://github.com/ploomber/projects/issues/new?title=cookbook/serialization%20issue)\n",
    "\n",
    "Have questions? [Ask us anything on Slack.](http://community.ploomber.io/)\n"
   ]
  },
  {
   "cell_type": "markdown",
   "id": "97082e34",
   "metadata": {
    "papermill": {
     "duration": 0.007757,
     "end_time": "2021-10-19T02:12:58.418009",
     "exception": false,
     "start_time": "2021-10-19T02:12:58.410252",
     "status": "completed"
    },
    "tags": []
   },
   "source": [
    "# Serializer and unserializer\n",
    "\n",
    "<!-- start description -->\n",
    "Shows how to use the serializer and unserializer decorators.\n",
    "<!-- end description -->\n",
    "\n",
    "To execute the pipeline:"
   ]
  },
  {
   "cell_type": "code",
   "execution_count": 1,
   "id": "153762d1",
   "metadata": {
    "execution": {
     "iopub.execute_input": "2021-10-19T02:12:58.441021Z",
     "iopub.status.busy": "2021-10-19T02:12:58.440301Z",
     "iopub.status.idle": "2021-10-19T02:13:15.291594Z",
     "shell.execute_reply": "2021-10-19T02:13:15.292341Z"
    },
    "papermill": {
     "duration": 16.868457,
     "end_time": "2021-10-19T02:13:15.292697",
     "exception": false,
     "start_time": "2021-10-19T02:12:58.424240",
     "status": "completed"
    },
    "tags": []
   },
   "outputs": [
    {
     "name": "stdout",
     "output_type": "stream",
     "text": [
      "name            Ran?      Elapsed (s)    Percentage\n",
      "--------------  ------  -------------  ------------\n",
      "one_product     True         0.001925       7.50985\n",
      "many_products   True         0.009695      37.8223\n",
      "joblib_product  True         0.007269      28.358\n",
      "final_product   True         0.006744      26.3098\n"
     ]
    },
    {
     "name": "stderr",
     "output_type": "stream",
     "text": [
      "\r",
      "  0%|          | 0/4 [00:00<?, ?it/s]\r",
      "Building task 'one_product':   0%|          | 0/4 [00:00<?, ?it/s]\r",
      "Building task 'one_product':  25%|██▌       | 1/4 [00:03<00:10,  3.51s/it]\r",
      "Building task 'many_products':  25%|██▌       | 1/4 [00:03<00:10,  3.51s/it]\r",
      "Building task 'many_products':  50%|█████     | 2/4 [00:06<00:06,  3.47s/it]\r",
      "Building task 'joblib_product':  50%|█████     | 2/4 [00:06<00:06,  3.47s/it]\r",
      "Building task 'joblib_product':  75%|███████▌  | 3/4 [00:10<00:03,  3.35s/it]\r",
      "Building task 'final_product':  75%|███████▌  | 3/4 [00:10<00:03,  3.35s/it] \r",
      "Building task 'final_product': 100%|██████████| 4/4 [00:13<00:00,  3.28s/it]\r",
      "Building task 'final_product': 100%|██████████| 4/4 [00:13<00:00,  3.34s/it]\n"
     ]
    }
   ],
   "source": [
    "%%sh\n",
    "ploomber build"
   ]
  }
 ],
 "metadata": {
  "kernelspec": {
   "display_name": "Python 3 (ipykernel)",
   "language": "python",
   "name": "python3"
  },
  "language_info": {
   "codemirror_mode": {
    "name": "ipython",
    "version": 3
   },
   "file_extension": ".py",
   "mimetype": "text/x-python",
   "name": "python",
   "nbconvert_exporter": "python",
   "pygments_lexer": "ipython3",
   "version": "3.9.7"
  },
  "papermill": {
   "default_parameters": {},
   "duration": 18.347918,
   "end_time": "2021-10-19T02:13:15.519660",
   "environment_variables": {},
   "exception": null,
   "input_path": "cookbook/serialization/_build/readme_preprocessed.ipynb",
   "output_path": "cookbook/serialization/README.ipynb",
   "parameters": {},
   "start_time": "2021-10-19T02:12:57.171742",
   "version": "2.3.3"
  }
 },
 "nbformat": 4,
 "nbformat_minor": 5
}