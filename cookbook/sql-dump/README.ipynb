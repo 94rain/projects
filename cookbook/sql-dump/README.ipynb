{
 "cells": [
  {
   "cell_type": "markdown",
   "id": "d390c72b",
   "metadata": {
    "papermill": {
     "duration": 0.015924,
     "end_time": "2021-10-14T15:04:46.283077",
     "exception": false,
     "start_time": "2021-10-14T15:04:46.267153",
     "status": "completed"
    },
    "tags": []
   },
   "source": [
    "To run this example locally, execute: `ploomber examples -n cookbook/sql-dump`.\n",
    "\n",
    "To start a free, hosted JupyterLab: [![binder-logo](https://mybinder.org/badge_logo.svg)](https://mybinder.org/v2/gh/ploomber/binder-env/main?urlpath=git-pull%3Frepo%3Dhttps%253A%252F%252Fgithub.com%252Fploomber%252Fprojects%26urlpath%3Dlab%252Ftree%252Fprojects%252Fcookbook/sql-dump%252FREADME.ipynb%26branch%3Dmaster)\n",
    "\n",
    "Found an issue? [Let us know.](https://github.com/ploomber/projects/issues/new?title=cookbook/sql-dump%20issue)\n",
    "\n",
    "Have questions? [Ask us anything on Slack.](http://community.ploomber.io/)\n"
   ]
  },
  {
   "cell_type": "markdown",
   "id": "1085d8f6",
   "metadata": {
    "papermill": {
     "duration": 0.011844,
     "end_time": "2021-10-14T15:04:46.312388",
     "exception": false,
     "start_time": "2021-10-14T15:04:46.300544",
     "status": "completed"
    },
    "tags": []
   },
   "source": [
    "# SQLDump example\n",
    "\n",
    "A minimal example to dump from a SQL database using SQLDump.\n",
    "\n",
    "Create some sample data:"
   ]
  },
  {
   "cell_type": "code",
   "execution_count": 1,
   "id": "9279f369",
   "metadata": {
    "execution": {
     "iopub.execute_input": "2021-10-14T15:04:46.346240Z",
     "iopub.status.busy": "2021-10-14T15:04:46.345378Z",
     "iopub.status.idle": "2021-10-14T15:04:47.029029Z",
     "shell.execute_reply": "2021-10-14T15:04:47.029592Z"
    },
    "papermill": {
     "duration": 0.705266,
     "end_time": "2021-10-14T15:04:47.029915",
     "exception": false,
     "start_time": "2021-10-14T15:04:46.324649",
     "status": "completed"
    },
    "tags": []
   },
   "outputs": [],
   "source": [
    "from sqlalchemy import create_engine\n",
    "import pandas as pd\n",
    "\n",
    "df = pd.DataFrame({'numbers': range(10)})\n",
    "\n",
    "engine = create_engine('sqlite:///my.db')\n",
    "\n",
    "df.to_sql('my_numbers', engine, if_exists='replace')"
   ]
  },
  {
   "cell_type": "markdown",
   "id": "d2f79730",
   "metadata": {
    "papermill": {
     "duration": 0.010535,
     "end_time": "2021-10-14T15:04:47.051319",
     "exception": false,
     "start_time": "2021-10-14T15:04:47.040784",
     "status": "completed"
    },
    "tags": []
   },
   "source": [
    "Dump data:"
   ]
  },
  {
   "cell_type": "code",
   "execution_count": 2,
   "id": "27329853",
   "metadata": {
    "execution": {
     "iopub.execute_input": "2021-10-14T15:04:47.077657Z",
     "iopub.status.busy": "2021-10-14T15:04:47.076937Z",
     "iopub.status.idle": "2021-10-14T15:04:51.152922Z",
     "shell.execute_reply": "2021-10-14T15:04:51.153664Z"
    },
    "papermill": {
     "duration": 4.091941,
     "end_time": "2021-10-14T15:04:51.153893",
     "exception": false,
     "start_time": "2021-10-14T15:04:47.061952",
     "status": "completed"
    },
    "tags": []
   },
   "outputs": [
    {
     "name": "stdout",
     "output_type": "stream",
     "text": [
      "name    Ran?      Elapsed (s)    Percentage\n",
      "------  ------  -------------  ------------\n",
      "query   True         0.021714           100\n"
     ]
    },
    {
     "name": "stderr",
     "output_type": "stream",
     "text": [
      "\r",
      "  0%|          | 0/1 [00:00<?, ?it/s]\r",
      "Building task 'query':   0%|          | 0/1 [00:00<?, ?it/s]\r",
      "Building task 'query': 100%|██████████| 1/1 [00:00<00:00, 31.95it/s]\n"
     ]
    }
   ],
   "source": [
    "%%sh\n",
    "ploomber build"
   ]
  }
 ],
 "metadata": {
  "kernelspec": {
   "display_name": "Python 3 (ipykernel)",
   "language": "python",
   "name": "python3"
  },
  "language_info": {
   "codemirror_mode": {
    "name": "ipython",
    "version": 3
   },
   "file_extension": ".py",
   "mimetype": "text/x-python",
   "name": "python",
   "nbconvert_exporter": "python",
   "pygments_lexer": "ipython3",
   "version": "3.9.7"
  },
  "papermill": {
   "default_parameters": {},
   "duration": 6.681981,
   "end_time": "2021-10-14T15:04:51.490220",
   "environment_variables": {},
   "exception": null,
   "input_path": "cookbook/sql-dump/_build/readme_preprocessed.ipynb",
   "output_path": "cookbook/sql-dump/README.ipynb",
   "parameters": {},
   "start_time": "2021-10-14T15:04:44.808239",
   "version": "2.3.3"
  }
 },
 "nbformat": 4,
 "nbformat_minor": 5
}