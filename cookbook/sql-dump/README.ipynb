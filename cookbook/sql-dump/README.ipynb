{
 "cells": [
  {
   "cell_type": "markdown",
   "id": "bfb53599",
   "metadata": {
    "papermill": {
     "duration": 0.013317,
     "end_time": "2021-10-19T02:12:52.719650",
     "exception": false,
     "start_time": "2021-10-19T02:12:52.706333",
     "status": "completed"
    },
    "tags": []
   },
   "source": [
    "To run this example locally, execute: `ploomber examples -n cookbook/sql-dump`.\n",
    "\n",
    "To start a free, hosted JupyterLab: [![binder-logo](https://mybinder.org/badge_logo.svg)](https://mybinder.org/v2/gh/ploomber/binder-env/main?urlpath=git-pull%3Frepo%3Dhttps%253A%252F%252Fgithub.com%252Fploomber%252Fprojects%26urlpath%3Dlab%252Ftree%252Fprojects%252Fcookbook/sql-dump%252FREADME.ipynb%26branch%3Dmaster)\n",
    "\n",
    "Found an issue? [Let us know.](https://github.com/ploomber/projects/issues/new?title=cookbook/sql-dump%20issue)\n",
    "\n",
    "Have questions? [Ask us anything on Slack.](http://community.ploomber.io/)\n"
   ]
  },
  {
   "cell_type": "markdown",
   "id": "99607c43",
   "metadata": {
    "papermill": {
     "duration": 0.011711,
     "end_time": "2021-10-19T02:12:52.743444",
     "exception": false,
     "start_time": "2021-10-19T02:12:52.731733",
     "status": "completed"
    },
    "tags": []
   },
   "source": [
    "# SQLDump example\n",
    "\n",
    "<!-- start description -->\n",
    "A minimal example showing how to dump a table from a SQL database.\n",
    "<!-- end description -->\n",
    "\n",
    "Create some sample data:"
   ]
  },
  {
   "cell_type": "code",
   "execution_count": 1,
   "id": "60702226",
   "metadata": {
    "execution": {
     "iopub.execute_input": "2021-10-19T02:12:52.777212Z",
     "iopub.status.busy": "2021-10-19T02:12:52.776141Z",
     "iopub.status.idle": "2021-10-19T02:12:53.411973Z",
     "shell.execute_reply": "2021-10-19T02:12:53.413002Z"
    },
    "papermill": {
     "duration": 0.658017,
     "end_time": "2021-10-19T02:12:53.413320",
     "exception": false,
     "start_time": "2021-10-19T02:12:52.755303",
     "status": "completed"
    },
    "tags": []
   },
   "outputs": [],
   "source": [
    "from sqlalchemy import create_engine\n",
    "import pandas as pd\n",
    "\n",
    "df = pd.DataFrame({'numbers': range(10)})\n",
    "\n",
    "engine = create_engine('sqlite:///my.db')\n",
    "\n",
    "df.to_sql('my_numbers', engine, if_exists='replace')"
   ]
  },
  {
   "cell_type": "markdown",
   "id": "5939cffb",
   "metadata": {
    "papermill": {
     "duration": 0.011897,
     "end_time": "2021-10-19T02:12:53.437296",
     "exception": false,
     "start_time": "2021-10-19T02:12:53.425399",
     "status": "completed"
    },
    "tags": []
   },
   "source": [
    "Dump data:"
   ]
  },
  {
   "cell_type": "code",
   "execution_count": 2,
   "id": "f96b7a41",
   "metadata": {
    "execution": {
     "iopub.execute_input": "2021-10-19T02:12:53.468738Z",
     "iopub.status.busy": "2021-10-19T02:12:53.464487Z",
     "iopub.status.idle": "2021-10-19T02:12:56.769278Z",
     "shell.execute_reply": "2021-10-19T02:12:56.770156Z"
    },
    "papermill": {
     "duration": 3.320836,
     "end_time": "2021-10-19T02:12:56.770415",
     "exception": false,
     "start_time": "2021-10-19T02:12:53.449579",
     "status": "completed"
    },
    "tags": []
   },
   "outputs": [
    {
     "name": "stdout",
     "output_type": "stream",
     "text": [
      "name    Ran?      Elapsed (s)    Percentage\n",
      "------  ------  -------------  ------------\n",
      "query   True         0.014531           100\n"
     ]
    },
    {
     "name": "stderr",
     "output_type": "stream",
     "text": [
      "\r",
      "  0%|          | 0/1 [00:00<?, ?it/s]\r",
      "Building task 'query':   0%|          | 0/1 [00:00<?, ?it/s]\r",
      "Building task 'query': 100%|██████████| 1/1 [00:00<00:00, 50.32it/s]\n"
     ]
    }
   ],
   "source": [
    "%%sh\n",
    "ploomber build"
   ]
  }
 ],
 "metadata": {
  "kernelspec": {
   "display_name": "Python 3 (ipykernel)",
   "language": "python",
   "name": "python3"
  },
  "language_info": {
   "codemirror_mode": {
    "name": "ipython",
    "version": 3
   },
   "file_extension": ".py",
   "mimetype": "text/x-python",
   "name": "python",
   "nbconvert_exporter": "python",
   "pygments_lexer": "ipython3",
   "version": "3.9.7"
  },
  "papermill": {
   "default_parameters": {},
   "duration": 5.68096,
   "end_time": "2021-10-19T02:12:57.104934",
   "environment_variables": {},
   "exception": null,
   "input_path": "cookbook/sql-dump/_build/readme_preprocessed.ipynb",
   "output_path": "cookbook/sql-dump/README.ipynb",
   "parameters": {},
   "start_time": "2021-10-19T02:12:51.423974",
   "version": "2.3.3"
  }
 },
 "nbformat": 4,
 "nbformat_minor": 5
}