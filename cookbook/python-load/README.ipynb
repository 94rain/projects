{
 "cells": [
  {
   "cell_type": "markdown",
   "id": "f7581f35",
   "metadata": {
    "papermill": {
     "duration": 0.035566,
     "end_time": "2021-10-28T01:20:42.131249",
     "exception": false,
     "start_time": "2021-10-28T01:20:42.095683",
     "status": "completed"
    },
    "tags": []
   },
   "source": [
    "To run this example locally, [install Ploomber](https://ploomber.readthedocs.io/en/latest/get-started/install.html) and execute: `ploomber examples -n cookbook/python-load`\n",
    "\n",
    "To start a free, hosted JupyterLab: [![binder-logo](https://mybinder.org/badge_logo.svg)](https://mybinder.org/v2/gh/ploomber/binder-env/main?urlpath=git-pull%3Frepo%3Dhttps%253A%252F%252Fgithub.com%252Fploomber%252Fprojects%26urlpath%3Dlab%252Ftree%252Fprojects%252Fcookbook/python-load%252FREADME.ipynb%26branch%3Dmaster)\n",
    "\n",
    "Found an issue? [Let us know.](https://github.com/ploomber/projects/issues/new?title=cookbook/python-load%20issue)\n",
    "\n",
    "Have questions? [Ask us anything on Slack.](https://ploomber.io/community/)\n"
   ]
  },
  {
   "cell_type": "markdown",
   "id": "aeed8abb",
   "metadata": {
    "papermill": {
     "duration": 0.041525,
     "end_time": "2021-10-28T01:20:42.212443",
     "exception": false,
     "start_time": "2021-10-28T01:20:42.170918",
     "status": "completed"
    },
    "tags": []
   },
   "source": [
    "# Loading pipeline.yaml in Python\n",
    "\n",
    "<!-- start description -->\n",
    "Load pipeline.yaml file in a Python session to customize ininitialization.\n",
    "<!-- end description -->\n",
    "\n",
    "## Loading the pipeline\n",
    "\n",
    "Create a function that loads it and returns the DAG object:"
   ]
  },
  {
   "cell_type": "markdown",
   "id": "2c89b36c",
   "metadata": {
    "papermill": {
     "duration": 0.049031,
     "end_time": "2021-10-28T01:20:42.307228",
     "exception": false,
     "start_time": "2021-10-28T01:20:42.258197",
     "status": "completed"
    },
    "region_name": "md",
    "tags": []
   },
   "source": [
    "```python\n",
    "# Content of pipeline.py\n",
    "from ploomber.spec import DAGSpec\n",
    "from ploomber import with_env\n",
    "\n",
    "\n",
    "@with_env('env.yaml')\n",
    "# NOTE: you may add other params to the function, they'll show up in the cli\n",
    "def make(env):\n",
    "    dag = DAGSpec('pipeline.yaml', env=dict(env)).to_dag()\n",
    "    # NOTE: return the DAG, do not call any methods\n",
    "    return dag\n",
    "\n",
    "```"
   ]
  },
  {
   "cell_type": "markdown",
   "id": "7d4660e6",
   "metadata": {
    "papermill": {
     "duration": 0.018511,
     "end_time": "2021-10-28T01:20:42.345222",
     "exception": false,
     "start_time": "2021-10-28T01:20:42.326711",
     "status": "completed"
    },
    "tags": []
   },
   "source": [
    "*Note:* If your pipeline isn't using an `env.yaml` file, simply remove the decorator, and the `env` argument in the function."
   ]
  },
  {
   "cell_type": "markdown",
   "id": "36f7dc8c",
   "metadata": {
    "papermill": {
     "duration": 0.019157,
     "end_time": "2021-10-28T01:20:42.386077",
     "exception": false,
     "start_time": "2021-10-28T01:20:42.366920",
     "status": "completed"
    },
    "tags": []
   },
   "source": [
    "## Command-line interface\n",
    "\n",
    "The CLI will work just as if you were using the `pipeline.yaml` file directly, pass the dotted path to the function in the `--entry-point/-e` argument:"
   ]
  },
  {
   "cell_type": "code",
   "execution_count": 1,
   "id": "86b5305d",
   "metadata": {
    "execution": {
     "iopub.execute_input": "2021-10-28T01:20:42.441433Z",
     "iopub.status.busy": "2021-10-28T01:20:42.440365Z",
     "iopub.status.idle": "2021-10-28T01:20:46.471417Z",
     "shell.execute_reply": "2021-10-28T01:20:46.471878Z"
    },
    "papermill": {
     "duration": 4.067607,
     "end_time": "2021-10-28T01:20:46.472171",
     "exception": false,
     "start_time": "2021-10-28T01:20:42.404564",
     "status": "completed"
    },
    "tags": []
   },
   "outputs": [
    {
     "name": "stdout",
     "output_type": "stream",
     "text": [
      "name         Last run      Outdated?    Product       Doc (short)    Location\n",
      "-----------  ------------  -----------  ------------  -------------  ------------\n",
      "create_file  Has not been  Source code  File('produc  None           /Users/Edu/d\n",
      "             run                        ts/number/so                 ev/projects-\n",
      "                                        me_file.txt'                 ploomber/coo\n",
      "                                        )                            kbook/python\n",
      "                                                                     -load/tasks.\n",
      "                                                                     py:4\n"
     ]
    },
    {
     "name": "stderr",
     "output_type": "stream",
     "text": [
      "/Users/Edu/dev/ploomber/src/ploomber/spec/dagspec.py:336: UserWarning: The following placeholders are declared in the environment but unused in the spec: {'user', 'cwd', 'now', 'here', 'root'}\n",
      "  warnings.warn('The following placeholders are declared in the '\n",
      "\r",
      "  0%|          | 0/1 [00:00<?, ?it/s]\r",
      "100%|██████████| 1/1 [00:00<00:00, 1114.91it/s]\n"
     ]
    }
   ],
   "source": [
    "%%sh\n",
    "ploomber status -e pipeline.make"
   ]
  },
  {
   "cell_type": "code",
   "execution_count": 2,
   "id": "eec2eadb",
   "metadata": {
    "execution": {
     "iopub.execute_input": "2021-10-28T01:20:46.511942Z",
     "iopub.status.busy": "2021-10-28T01:20:46.509507Z",
     "iopub.status.idle": "2021-10-28T01:20:53.325973Z",
     "shell.execute_reply": "2021-10-28T01:20:53.326795Z"
    },
    "papermill": {
     "duration": 6.837985,
     "end_time": "2021-10-28T01:20:53.327191",
     "exception": false,
     "start_time": "2021-10-28T01:20:46.489206",
     "status": "completed"
    },
    "tags": []
   },
   "outputs": [
    {
     "name": "stdout",
     "output_type": "stream",
     "text": [
      "name         Ran?      Elapsed (s)    Percentage\n",
      "-----------  ------  -------------  ------------\n",
      "create_file  True         0.000616           100\n"
     ]
    },
    {
     "name": "stderr",
     "output_type": "stream",
     "text": [
      "/Users/Edu/dev/ploomber/src/ploomber/spec/dagspec.py:336: UserWarning: The following placeholders are declared in the environment but unused in the spec: {'user', 'root', 'now', 'here', 'cwd'}\n",
      "  warnings.warn('The following placeholders are declared in the '\n",
      "\r",
      "  0%|          | 0/1 [00:00<?, ?it/s]\r",
      "Building task 'create_file':   0%|          | 0/1 [00:00<?, ?it/s]\r",
      "Building task 'create_file': 100%|██████████| 1/1 [00:03<00:00,  3.35s/it]\r",
      "Building task 'create_file': 100%|██████████| 1/1 [00:03<00:00,  3.35s/it]\n"
     ]
    }
   ],
   "source": [
    "%%sh\n",
    "ploomber build -e pipeline.make"
   ]
  }
 ],
 "metadata": {
  "kernelspec": {
   "display_name": "Python 3 (ipykernel)",
   "language": "python",
   "name": "python3"
  },
  "language_info": {
   "codemirror_mode": {
    "name": "ipython",
    "version": 3
   },
   "file_extension": ".py",
   "mimetype": "text/x-python",
   "name": "python",
   "nbconvert_exporter": "python",
   "pygments_lexer": "ipython3",
   "version": "3.9.7"
  },
  "papermill": {
   "default_parameters": {},
   "duration": 13.47388,
   "end_time": "2021-10-28T01:20:53.597946",
   "environment_variables": {},
   "exception": null,
   "input_path": "cookbook/python-load/_build/readme_preprocessed.ipynb",
   "output_path": "cookbook/python-load/README.ipynb",
   "parameters": {},
   "start_time": "2021-10-28T01:20:40.124066",
   "version": "2.3.3"
  }
 },
 "nbformat": 4,
 "nbformat_minor": 5
}