{
 "cells": [
  {
   "cell_type": "markdown",
   "id": "9dfa4d03",
   "metadata": {
    "papermill": {
     "duration": 0.018271,
     "end_time": "2021-10-27T12:45:02.098996",
     "exception": false,
     "start_time": "2021-10-27T12:45:02.080725",
     "status": "completed"
    },
    "tags": []
   },
   "source": [
    "To run this example locally, execute: `ploomber examples -n cookbook/python-load`.\n",
    "\n",
    "To start a free, hosted JupyterLab: [![binder-logo](https://mybinder.org/badge_logo.svg)](https://mybinder.org/v2/gh/ploomber/binder-env/main?urlpath=git-pull%3Frepo%3Dhttps%253A%252F%252Fgithub.com%252Fploomber%252Fprojects%26urlpath%3Dlab%252Ftree%252Fprojects%252Fcookbook/python-load%252FREADME.ipynb%26branch%3Dmaster)\n",
    "\n",
    "Found an issue? [Let us know.](https://github.com/ploomber/projects/issues/new?title=cookbook/python-load%20issue)\n",
    "\n",
    "Have questions? [Ask us anything on Slack.](http://community.ploomber.io/)\n"
   ]
  },
  {
   "cell_type": "markdown",
   "id": "1dd16399",
   "metadata": {
    "papermill": {
     "duration": 0.015697,
     "end_time": "2021-10-27T12:45:02.132527",
     "exception": false,
     "start_time": "2021-10-27T12:45:02.116830",
     "status": "completed"
    },
    "tags": []
   },
   "source": [
    "# Loading pipeline.yaml in Python\n",
    "\n",
    "<!-- start description -->\n",
    "Load pipeline.yaml file in a Python session to customize ininitialization.\n",
    "<!-- end description -->\n",
    "\n",
    "## Loading the pipeline\n",
    "\n",
    "Create a function that loads it and returns the DAG object:"
   ]
  },
  {
   "cell_type": "markdown",
   "id": "150948f0",
   "metadata": {
    "papermill": {
     "duration": 0.015685,
     "end_time": "2021-10-27T12:45:02.164409",
     "exception": false,
     "start_time": "2021-10-27T12:45:02.148724",
     "status": "completed"
    },
    "region_name": "md",
    "tags": []
   },
   "source": [
    "```python\n",
    "# Content of pipeline.py\n",
    "from ploomber.spec import DAGSpec\n",
    "from ploomber import with_env\n",
    "\n",
    "\n",
    "@with_env('env.yaml')\n",
    "# NOTE: you may add other params to the function, they'll show up in the cli\n",
    "def make(env):\n",
    "    dag = DAGSpec('pipeline.yaml', env=dict(env)).to_dag()\n",
    "    # NOTE: return the DAG, do not call any methods\n",
    "    return dag\n",
    "\n",
    "```"
   ]
  },
  {
   "cell_type": "markdown",
   "id": "040474dc",
   "metadata": {
    "papermill": {
     "duration": 0.015626,
     "end_time": "2021-10-27T12:45:02.194990",
     "exception": false,
     "start_time": "2021-10-27T12:45:02.179364",
     "status": "completed"
    },
    "tags": []
   },
   "source": [
    "*Note:* If your pipeline isn't using an `env.yaml` file, simply remove the decorator, and the `env` argument in the function."
   ]
  },
  {
   "cell_type": "markdown",
   "id": "2b366a74",
   "metadata": {
    "papermill": {
     "duration": 0.014897,
     "end_time": "2021-10-27T12:45:02.225377",
     "exception": false,
     "start_time": "2021-10-27T12:45:02.210480",
     "status": "completed"
    },
    "tags": []
   },
   "source": [
    "## Command-line interface\n",
    "\n",
    "The CLI will work just as if you were using the `pipeline.yaml` file directly, pass the dotted path to the function in the `--entry-point/-e` argument:"
   ]
  },
  {
   "cell_type": "code",
   "execution_count": 1,
   "id": "868a7a70",
   "metadata": {
    "execution": {
     "iopub.execute_input": "2021-10-27T12:45:02.263713Z",
     "iopub.status.busy": "2021-10-27T12:45:02.262904Z",
     "iopub.status.idle": "2021-10-27T12:45:05.992701Z",
     "shell.execute_reply": "2021-10-27T12:45:05.993517Z"
    },
    "papermill": {
     "duration": 3.75439,
     "end_time": "2021-10-27T12:45:05.993805",
     "exception": false,
     "start_time": "2021-10-27T12:45:02.239415",
     "status": "completed"
    },
    "tags": []
   },
   "outputs": [
    {
     "name": "stdout",
     "output_type": "stream",
     "text": [
      "name         Last run      Outdated?    Product       Doc (short)    Location\n",
      "-----------  ------------  -----------  ------------  -------------  ------------\n",
      "create_file  Has not been  Source code  File('produc  None           /Users/Edu/d\n",
      "             run                        ts/number/so                 ev/projects-\n",
      "                                        me_file.txt'                 ploomber/coo\n",
      "                                        )                            kbook/python\n",
      "                                                                     -load/tasks.\n",
      "                                                                     py:4\n"
     ]
    },
    {
     "name": "stderr",
     "output_type": "stream",
     "text": [
      "/Users/Edu/dev/ploomber/src/ploomber/spec/dagspec.py:336: UserWarning: The following placeholders are declared in the environment but unused in the spec: {'cwd', 'now', 'root', 'user', 'here'}\n",
      "  warnings.warn('The following placeholders are declared in the '\n",
      "\r",
      "  0%|          | 0/1 [00:00<?, ?it/s]\r",
      "100%|██████████| 1/1 [00:00<00:00, 864.98it/s]\n"
     ]
    }
   ],
   "source": [
    "%%sh\n",
    "ploomber status -e pipeline.make"
   ]
  },
  {
   "cell_type": "code",
   "execution_count": 2,
   "id": "fc7581a1",
   "metadata": {
    "execution": {
     "iopub.execute_input": "2021-10-27T12:45:06.039273Z",
     "iopub.status.busy": "2021-10-27T12:45:06.036580Z",
     "iopub.status.idle": "2021-10-27T12:45:12.420760Z",
     "shell.execute_reply": "2021-10-27T12:45:12.421240Z"
    },
    "papermill": {
     "duration": 6.408852,
     "end_time": "2021-10-27T12:45:12.421644",
     "exception": false,
     "start_time": "2021-10-27T12:45:06.012792",
     "status": "completed"
    },
    "tags": []
   },
   "outputs": [
    {
     "name": "stdout",
     "output_type": "stream",
     "text": [
      "name         Ran?      Elapsed (s)    Percentage\n",
      "-----------  ------  -------------  ------------\n",
      "create_file  True          0.00057           100\n"
     ]
    },
    {
     "name": "stderr",
     "output_type": "stream",
     "text": [
      "/Users/Edu/dev/ploomber/src/ploomber/spec/dagspec.py:336: UserWarning: The following placeholders are declared in the environment but unused in the spec: {'cwd', 'user', 'now', 'root', 'here'}\n",
      "  warnings.warn('The following placeholders are declared in the '\n",
      "\r",
      "  0%|          | 0/1 [00:00<?, ?it/s]\r",
      "Building task 'create_file':   0%|          | 0/1 [00:00<?, ?it/s]\r",
      "Building task 'create_file': 100%|██████████| 1/1 [00:03<00:00,  3.10s/it]\r",
      "Building task 'create_file': 100%|██████████| 1/1 [00:03<00:00,  3.10s/it]\n"
     ]
    }
   ],
   "source": [
    "%%sh\n",
    "ploomber build -e pipeline.make"
   ]
  }
 ],
 "metadata": {
  "kernelspec": {
   "display_name": "Python 3 (ipykernel)",
   "language": "python",
   "name": "python3"
  },
  "language_info": {
   "codemirror_mode": {
    "name": "ipython",
    "version": 3
   },
   "file_extension": ".py",
   "mimetype": "text/x-python",
   "name": "python",
   "nbconvert_exporter": "python",
   "pygments_lexer": "ipython3",
   "version": "3.9.7"
  },
  "papermill": {
   "default_parameters": {},
   "duration": 12.024899,
   "end_time": "2021-10-27T12:45:12.658665",
   "environment_variables": {},
   "exception": null,
   "input_path": "cookbook/python-load/_build/readme_preprocessed.ipynb",
   "output_path": "cookbook/python-load/README.ipynb",
   "parameters": {},
   "start_time": "2021-10-27T12:45:00.633766",
   "version": "2.3.3"
  }
 },
 "nbformat": 4,
 "nbformat_minor": 5
}