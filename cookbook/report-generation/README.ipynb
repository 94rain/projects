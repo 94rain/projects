{
 "cells": [
  {
   "cell_type": "markdown",
   "id": "25f9b22e",
   "metadata": {
    "papermill": {
     "duration": 0.041129,
     "end_time": "2022-04-16T19:00:13.995845",
     "exception": false,
     "start_time": "2022-04-16T19:00:13.954716",
     "status": "completed"
    },
    "tags": []
   },
   "source": [
    "To run this example locally, [install Ploomber](https://docs.ploomber.io/en/latest/get-started/install.html) and execute: `ploomber examples -n cookbook/report-generation`\n",
    "\n",
    "To start a free, hosted JupyterLab: [![binder-logo](https://mybinder.org/badge_logo.svg)](https://mybinder.org/v2/gh/ploomber/binder-env/main?urlpath=git-pull%3Frepo%3Dhttps%253A%252F%252Fgithub.com%252Fploomber%252Fprojects%26urlpath%3Dlab%252Ftree%252Fprojects%252Fcookbook/report-generation%252FREADME.ipynb%26branch%3Dmaster)\n",
    "\n",
    "Found an issue? [Let us know.](https://github.com/ploomber/projects/issues/new?title=cookbook/report-generation%20issue)\n",
    "\n",
    "Have questions? [Ask us anything on Slack.](https://ploomber.io/community/)\n"
   ]
  },
  {
   "cell_type": "markdown",
   "id": "c3c35d7d",
   "metadata": {
    "papermill": {
     "duration": 0.0378,
     "end_time": "2022-04-16T19:00:14.073124",
     "exception": false,
     "start_time": "2022-04-16T19:00:14.035324",
     "status": "completed"
    },
    "tags": []
   },
   "source": [
    "# Report generation\n",
    "\n",
    "<!-- start description -->\n",
    "Generating HTML/PDF reports.\n",
    "<!-- end description -->\n",
    "\n",
    "Ploomber makes it simple to generate HTML and PDF reports from notebooks and scripts. To see some examples, go to the `reports/` directory. This cookbook covers several use cases and includes runnable examples.\n",
    "\n",
    "## HTML reports (easiest option)\n",
    "\n",
    "HTML reports are the simplest option as they don't require any extra dependencies. You only need to change the `product` extension to `.html` and Ploomber will do the conversion:"
   ]
  },
  {
   "cell_type": "markdown",
   "id": "a49046aa",
   "metadata": {
    "papermill": {
     "duration": 0.036839,
     "end_time": "2022-04-16T19:00:14.150700",
     "exception": false,
     "start_time": "2022-04-16T19:00:14.113861",
     "status": "completed"
    },
    "region_name": "md",
    "tags": []
   },
   "source": [
    "```yaml\n",
    "# Content of pipeline.yaml\n",
    "    # scripts can generate reports\n",
    "    - source: tasks/script.py\n",
    "      name: html-report\n",
    "      product:\n",
    "        nb: reports/report.html\n",
    "        # the task can generate more outputs, list them here\n",
    "```"
   ]
  },
  {
   "cell_type": "markdown",
   "id": "a625e4f5",
   "metadata": {
    "papermill": {
     "duration": 0.036666,
     "end_time": "2022-04-16T19:00:14.225444",
     "exception": false,
     "start_time": "2022-04-16T19:00:14.188778",
     "status": "completed"
    },
    "tags": []
   },
   "source": [
    "Runnable example:"
   ]
  },
  {
   "cell_type": "markdown",
   "id": "e74ffd3c",
   "metadata": {
    "papermill": {
     "duration": 0.035359,
     "end_time": "2022-04-16T19:00:14.299411",
     "exception": false,
     "start_time": "2022-04-16T19:00:14.264052",
     "status": "completed"
    },
    "region_name": "md",
    "tags": []
   },
   "source": [
    "```sh\n",
    "# get example\n",
    "pip install ploomber \"nbconvert[webpdf]\"\n",
    "ploomber examples -n cookbook/report-generation -o example\n",
    "cd example\n",
    "\n",
    "# install example dependencies\n",
    "ploomber install\n",
    "\n",
    "# generate HTML report\n",
    "ploomber task html-report\n",
    "```"
   ]
  },
  {
   "cell_type": "markdown",
   "id": "6b1983a7",
   "metadata": {
    "papermill": {
     "duration": 0.036072,
     "end_time": "2022-04-16T19:00:14.370216",
     "exception": false,
     "start_time": "2022-04-16T19:00:14.334144",
     "status": "completed"
    },
    "tags": []
   },
   "source": [
    "Check out report at `reports/report.html`\n",
    "\n",
    "## PDF reports\n",
    "\n",
    "To generate PDF reports there are two options, using chromium or TeX.\n",
    "\n",
    "### Using chromium (easiest pdf option)\n",
    "\n",
    "To use use chromium, pass `nbconvert_exporter_name: webpdf`"
   ]
  },
  {
   "cell_type": "markdown",
   "id": "27679689",
   "metadata": {
    "papermill": {
     "duration": 0.034846,
     "end_time": "2022-04-16T19:00:14.440867",
     "exception": false,
     "start_time": "2022-04-16T19:00:14.406021",
     "status": "completed"
    },
    "region_name": "md",
    "tags": []
   },
   "source": [
    "```yaml\n",
    "# Content of pipeline.yaml\n",
    "    # pdf report example\n",
    "    - source: tasks/script.py\n",
    "      name: webpdf-report\n",
    "      # use the webpdf exporter (supportes embedded charts)\n",
    "      # (it will download chromium if needed)\n",
    "      nbconvert_exporter_name: webpdf\n",
    "      product:\n",
    "        nb: reports/report-webpdf.pdf\n",
    "```"
   ]
  },
  {
   "cell_type": "markdown",
   "id": "373d41b2",
   "metadata": {
    "papermill": {
     "duration": 0.036947,
     "end_time": "2022-04-16T19:00:14.512483",
     "exception": false,
     "start_time": "2022-04-16T19:00:14.475536",
     "status": "completed"
    },
    "tags": []
   },
   "source": [
    "Runnable example:"
   ]
  },
  {
   "cell_type": "markdown",
   "id": "c4b41f9e",
   "metadata": {
    "papermill": {
     "duration": 0.037482,
     "end_time": "2022-04-16T19:00:14.585920",
     "exception": false,
     "start_time": "2022-04-16T19:00:14.548438",
     "status": "completed"
    },
    "region_name": "md",
    "tags": []
   },
   "source": [
    "```sh\n",
    "# get example\n",
    "pip install ploomber \"nbconvert[webpdf]\"\n",
    "ploomber examples -n cookbook/report-generation -o example\n",
    "cd example\n",
    "\n",
    "# install example dependencies\n",
    "ploomber install\n",
    "\n",
    "# generate PDF report\n",
    "ploomber task webpdf-report\n",
    "```"
   ]
  },
  {
   "cell_type": "markdown",
   "id": "1e1f85c0",
   "metadata": {
    "papermill": {
     "duration": 0.03747,
     "end_time": "2022-04-16T19:00:14.658900",
     "exception": false,
     "start_time": "2022-04-16T19:00:14.621430",
     "status": "completed"
    },
    "tags": []
   },
   "source": [
    "Check out report at `reports/report-webpdf.pdf`\n",
    "\n",
    "### Using TeX\n",
    "\n",
    "TeX is the default, to use it, set the product extension to `.pdf`:"
   ]
  },
  {
   "cell_type": "markdown",
   "id": "5b6ae494",
   "metadata": {
    "papermill": {
     "duration": 0.038288,
     "end_time": "2022-04-16T19:00:14.735111",
     "exception": false,
     "start_time": "2022-04-16T19:00:14.696823",
     "status": "completed"
    },
    "region_name": "md",
    "tags": []
   },
   "source": [
    "```yaml\n",
    "# Content of pipeline.yaml\n",
    "    # pdf report example (requires latex)\n",
    "    - source: tasks/script.py\n",
    "      name: pdf-report\n",
    "      # generate pdf report by changing the extension.\n",
    "      product:\n",
    "        nb: reports/report.pdf\n",
    "```"
   ]
  },
  {
   "cell_type": "markdown",
   "id": "c2ec7cef",
   "metadata": {
    "papermill": {
     "duration": 0.037025,
     "end_time": "2022-04-16T19:00:14.806809",
     "exception": false,
     "start_time": "2022-04-16T19:00:14.769784",
     "status": "completed"
    },
    "tags": []
   },
   "source": [
    "Runnable example:"
   ]
  },
  {
   "cell_type": "markdown",
   "id": "27d35c50",
   "metadata": {
    "papermill": {
     "duration": 0.035379,
     "end_time": "2022-04-16T19:00:14.878957",
     "exception": false,
     "start_time": "2022-04-16T19:00:14.843578",
     "status": "completed"
    },
    "region_name": "md",
    "tags": []
   },
   "source": [
    "```sh\n",
    "# get example\n",
    "pip install ploomber \"nbconvert[webpdf]\"\n",
    "ploomber examples -n cookbook/report-generation -o example\n",
    "cd example\n",
    "\n",
    "# install example dependencies\n",
    "ploomber install\n",
    "\n",
    "# generate PDF report\n",
    "ploomber task pdf-report\n",
    "```"
   ]
  },
  {
   "cell_type": "markdown",
   "id": "520e4c40",
   "metadata": {
    "papermill": {
     "duration": 0.037871,
     "end_time": "2022-04-16T19:00:14.951977",
     "exception": false,
     "start_time": "2022-04-16T19:00:14.914106",
     "status": "completed"
    },
    "tags": []
   },
   "source": [
    "Check out report at `reports/report.pdf`\n",
    "\n",
    "#### Installing TeX\n",
    "\n",
    "For instructions on installing TeX, [see this.](https://www.tug.org/texlive/).\n",
    "\n",
    "TeXLive is a large distribution, as an alternative, you may install BasicTeX. Here are instructions for [macOS](https://www.tug.org/mactex/morepackages.html).\n",
    "\n",
    "Upon BasicTeX installation, you'll need to install a few extra packages:"
   ]
  },
  {
   "cell_type": "markdown",
   "id": "b85e4a99",
   "metadata": {
    "papermill": {
     "duration": 0.037537,
     "end_time": "2022-04-16T19:00:15.025636",
     "exception": false,
     "start_time": "2022-04-16T19:00:14.988099",
     "status": "completed"
    },
    "region_name": "md",
    "tags": []
   },
   "source": [
    "```sh\n",
    "# Note: if using macOS or Linux, you may need to execute with sudo\n",
    "tlmgr install adjustbox \\\n",
    "  caption \\\n",
    "  collectbox \\\n",
    "  enumitem \\\n",
    "  environ \\\n",
    "  eurosym \\\n",
    "  jknapltx \\\n",
    "  parskip \\\n",
    "  pgf \\\n",
    "  rsfs \\\n",
    "  tcolorbox \\\n",
    "  titling \\\n",
    "  trimspaces \\\n",
    "  ucs \\\n",
    "  ulem \\\n",
    "  upquote \n",
    "```"
   ]
  },
  {
   "cell_type": "markdown",
   "id": "587f1212",
   "metadata": {
    "papermill": {
     "duration": 0.03809,
     "end_time": "2022-04-16T19:00:15.101294",
     "exception": false,
     "start_time": "2022-04-16T19:00:15.063204",
     "status": "completed"
    },
    "tags": []
   },
   "source": [
    "[Source.](https://github.com/jupyter/nbconvert/issues/1328)\n",
    "\n",
    "## Hiding code\n",
    "\n",
    "In many cases, you want to hide the code so the report only contains tables and charts, you can do so easily with the `exclude_input` option:"
   ]
  },
  {
   "cell_type": "markdown",
   "id": "87f2f9ce",
   "metadata": {
    "papermill": {
     "duration": 0.04298,
     "end_time": "2022-04-16T19:00:15.180983",
     "exception": false,
     "start_time": "2022-04-16T19:00:15.138003",
     "status": "completed"
    },
    "region_name": "md",
    "tags": []
   },
   "source": [
    "```yaml\n",
    "# Content of pipeline.yaml\n",
    "    # notebooks as well\n",
    "    - source: tasks/notebook.ipynb\n",
    "      name: another-html-report\n",
    "      product:\n",
    "        nb: reports/another.html\n",
    "\n",
    "      nbconvert_export_kwargs:\n",
    "        # optionally hide the code from the report\n",
    "        exclude_input: True\n",
    "```"
   ]
  },
  {
   "cell_type": "markdown",
   "id": "48538e21",
   "metadata": {
    "papermill": {
     "duration": 0.036517,
     "end_time": "2022-04-16T19:00:15.257625",
     "exception": false,
     "start_time": "2022-04-16T19:00:15.221108",
     "status": "completed"
    },
    "tags": []
   },
   "source": [
    "Runnable example:"
   ]
  },
  {
   "cell_type": "markdown",
   "id": "2195822d",
   "metadata": {
    "papermill": {
     "duration": 0.034842,
     "end_time": "2022-04-16T19:00:15.327986",
     "exception": false,
     "start_time": "2022-04-16T19:00:15.293144",
     "status": "completed"
    },
    "region_name": "md",
    "tags": []
   },
   "source": [
    "```sh\n",
    "# get example\n",
    "pip install ploomber \"nbconvert[webpdf]\"\n",
    "ploomber examples -n cookbook/report-generation -o example\n",
    "cd example\n",
    "\n",
    "# install example dependencies\n",
    "ploomber install\n",
    "\n",
    "# generate HTML report and hide code\n",
    "ploomber task another-html-report\n",
    "```"
   ]
  },
  {
   "cell_type": "markdown",
   "id": "657bfa76",
   "metadata": {
    "papermill": {
     "duration": 0.035949,
     "end_time": "2022-04-16T19:00:15.399397",
     "exception": false,
     "start_time": "2022-04-16T19:00:15.363448",
     "status": "completed"
    },
    "tags": []
   },
   "source": [
    "Check out report at `reports/another.html`\n",
    "\n",
    "## Hiding cells\n",
    "\n",
    "You may want to hide cells from the output notebook selectively. You can do so with the `TagRemovePreprocessor`, which takes a list of tags. Any cells with such tags are excluded:"
   ]
  },
  {
   "cell_type": "markdown",
   "id": "d79eb570",
   "metadata": {
    "papermill": {
     "duration": 0.033516,
     "end_time": "2022-04-16T19:00:15.467853",
     "exception": false,
     "start_time": "2022-04-16T19:00:15.434337",
     "status": "completed"
    },
    "region_name": "md",
    "tags": []
   },
   "source": [
    "```yaml\n",
    "# Content of pipeline.yaml\n",
    "    # notebooks as well\n",
    "    - source: tasks/notebook.ipynb\n",
    "      name: another-html-report\n",
    "      product:\n",
    "        nb: reports/another.html\n",
    "\n",
    "      nbconvert_export_kwargs:\n",
    "        # optionally hide the code from the report\n",
    "        exclude_input: True\n",
    "      \n",
    "        # optionally, exclude cells with certain tags\n",
    "        config:\n",
    "          HTMLExporter:\n",
    "            preprocessors: [nbconvert.preprocessors.TagRemovePreprocessor]\n",
    "          TagRemovePreprocessor:\n",
    "            remove_cell_tags: [boxplot]\n",
    "```"
   ]
  },
  {
   "cell_type": "markdown",
   "id": "dfc065ce",
   "metadata": {
    "papermill": {
     "duration": 0.03629,
     "end_time": "2022-04-16T19:00:15.538862",
     "exception": false,
     "start_time": "2022-04-16T19:00:15.502572",
     "status": "completed"
    },
    "tags": []
   },
   "source": [
    "To learn how to add cell tags, [see this.](https://ploomber.io/s/tags)\n",
    "\n",
    "Runnable example:"
   ]
  },
  {
   "cell_type": "markdown",
   "id": "a6b029cf",
   "metadata": {
    "papermill": {
     "duration": 0.039213,
     "end_time": "2022-04-16T19:00:15.615465",
     "exception": false,
     "start_time": "2022-04-16T19:00:15.576252",
     "status": "completed"
    },
    "region_name": "md",
    "tags": []
   },
   "source": [
    "```sh\n",
    "# get example\n",
    "pip install ploomber \"nbconvert[webpdf]\"\n",
    "ploomber examples -n cookbook/report-generation -o example\n",
    "cd example\n",
    "\n",
    "# install example dependencies\n",
    "ploomber install\n",
    "\n",
    "# generate HTML report and hide boxplot\n",
    "ploomber task another-html-report\n",
    "```"
   ]
  },
  {
   "cell_type": "markdown",
   "id": "f72184bf",
   "metadata": {
    "papermill": {
     "duration": 0.039761,
     "end_time": "2022-04-16T19:00:15.692608",
     "exception": false,
     "start_time": "2022-04-16T19:00:15.652847",
     "status": "completed"
    },
    "tags": []
   },
   "source": [
    "Check out report at `reports/another.html`"
   ]
  }
 ],
 "metadata": {
  "kernelspec": {
   "display_name": "Python 3 (ipykernel)",
   "language": "python",
   "name": "python3"
  },
  "language_info": {
   "codemirror_mode": {
    "name": "ipython",
    "version": 3
   },
   "file_extension": ".py",
   "mimetype": "text/x-python",
   "name": "python",
   "nbconvert_exporter": "python",
   "pygments_lexer": "ipython3",
   "version": "3.9.7"
  },
  "papermill": {
   "default_parameters": {},
   "duration": 3.48222,
   "end_time": "2022-04-16T19:00:15.845526",
   "environment_variables": {},
   "exception": null,
   "input_path": "cookbook/report-generation/_build/readme_preprocessed.ipynb",
   "output_path": "cookbook/report-generation/README.ipynb",
   "parameters": {},
   "start_time": "2022-04-16T19:00:12.363306",
   "version": "2.3.4"
  }
 },
 "nbformat": 4,
 "nbformat_minor": 5
}