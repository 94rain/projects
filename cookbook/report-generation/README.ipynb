{
 "cells": [
  {
   "cell_type": "markdown",
   "id": "e54e11c5",
   "metadata": {
    "papermill": {
     "duration": 0.145383,
     "end_time": "2022-04-16T17:54:04.354334",
     "exception": false,
     "start_time": "2022-04-16T17:54:04.208951",
     "status": "completed"
    },
    "tags": []
   },
   "source": [
    "To run this example locally, [install Ploomber](https://docs.ploomber.io/en/latest/get-started/install.html) and execute: `ploomber examples -n cookbook/report-generation`\n",
    "\n",
    "To start a free, hosted JupyterLab: [![binder-logo](https://mybinder.org/badge_logo.svg)](https://mybinder.org/v2/gh/ploomber/binder-env/main?urlpath=git-pull%3Frepo%3Dhttps%253A%252F%252Fgithub.com%252Fploomber%252Fprojects%26urlpath%3Dlab%252Ftree%252Fprojects%252Fcookbook/report-generation%252FREADME.ipynb%26branch%3Dmaster)\n",
    "\n",
    "Found an issue? [Let us know.](https://github.com/ploomber/projects/issues/new?title=cookbook/report-generation%20issue)\n",
    "\n",
    "Have questions? [Ask us anything on Slack.](https://ploomber.io/community/)\n"
   ]
  },
  {
   "cell_type": "markdown",
   "id": "a633daa1",
   "metadata": {
    "papermill": {
     "duration": 0.01779,
     "end_time": "2022-04-16T17:54:04.390995",
     "exception": false,
     "start_time": "2022-04-16T17:54:04.373205",
     "status": "completed"
    },
    "tags": []
   },
   "source": [
    "# Report generation\n",
    "\n",
    "<!-- start description -->\n",
    "Generating HTML/PDF reports.\n",
    "<!-- end description -->\n",
    "\n",
    "Ploomber makes it simple to generate HTML and PDF reports from notebooks and scripts. To see some examples, go to the `reports/` directory.\n",
    "\n",
    "Here's a sample `pipeline.yaml` that shows various use cases:"
   ]
  },
  {
   "cell_type": "markdown",
   "id": "614e84d4",
   "metadata": {
    "lines_to_next_cell": 2,
    "papermill": {
     "duration": 0.016581,
     "end_time": "2022-04-16T17:54:04.425426",
     "exception": false,
     "start_time": "2022-04-16T17:54:04.408845",
     "status": "completed"
    },
    "region_name": "md",
    "tags": []
   },
   "source": [
    "```yaml\n",
    "# Content of pipeline.yaml\n",
    "tasks:\n",
    "    # scripts can generate reports\n",
    "    - source: tasks/script.py\n",
    "      name: html-report\n",
    "      product:\n",
    "        nb: reports/report.html\n",
    "        # the task can generate more outputs, list them here\n",
    "    \n",
    "    # notebooks as well\n",
    "    - source: tasks/notebook.ipynb\n",
    "      name: another-html-report\n",
    "      product:\n",
    "        nb: reports/another.html\n",
    "\n",
    "      nbconvert_export_kwargs:\n",
    "        # optionally hide the code from the report\n",
    "        exclude_input: True\n",
    "      \n",
    "        # optionally, exclude cells with certain tags\n",
    "        config:\n",
    "          HTMLExporter:\n",
    "            preprocessors: [nbconvert.preprocessors.TagRemovePreprocessor]\n",
    "          TagRemovePreprocessor:\n",
    "            remove_cell_tags: [boxplot]\n",
    "\n",
    "    # pdf report example\n",
    "    - source: tasks/script.py\n",
    "      name: webpdf-report\n",
    "      # use the webpdf exporter (supportes embedded charts)\n",
    "      # (it will download chromium if needed)\n",
    "      nbconvert_exporter_name: webpdf\n",
    "      product:\n",
    "        nb: reports/report-webpdf.pdf\n",
    "\n",
    "    # pdf report example (requires latex)\n",
    "    - source: tasks/script.py\n",
    "      name: pdf-report\n",
    "      # generate pdf report by changing the extension.\n",
    "      product:\n",
    "        nb: reports/report.pdf\n",
    "\n",
    "    # skip report generation\n",
    "    - source: tasks/download.py\n",
    "      name: no-report\n",
    "      # run as a script. Do not generate output report\n",
    "      # Note: ScriptRunner was introduced in Ploomber 0.17.2\n",
    "      class: ScriptRunner\n",
    "      product:\n",
    "        data: data/data-another.csv\n",
    "    \n",
    "```"
   ]
  },
  {
   "cell_type": "markdown",
   "id": "d382957b",
   "metadata": {
    "papermill": {
     "duration": 0.019928,
     "end_time": "2022-04-16T17:54:04.461560",
     "exception": false,
     "start_time": "2022-04-16T17:54:04.441632",
     "status": "completed"
    },
    "tags": []
   },
   "source": [
    "## HTML reports (no config needed)\n",
    "\n",
    "HTML reports are the simplest option as they don't require any extra dependencies. You only need to change the `product` extension to `.html` and Ploomber will do the conversion:"
   ]
  },
  {
   "cell_type": "markdown",
   "id": "e1558419",
   "metadata": {
    "papermill": {
     "duration": 0.01997,
     "end_time": "2022-04-16T17:54:04.502838",
     "exception": false,
     "start_time": "2022-04-16T17:54:04.482868",
     "status": "completed"
    },
    "region_name": "md",
    "tags": []
   },
   "source": [
    "```yaml\n",
    "# Content of pipeline.yaml\n",
    "    # scripts can generate reports\n",
    "    - source: tasks/script.py\n",
    "      name: html-report\n",
    "      product:\n",
    "        nb: reports/report.html\n",
    "        # the task can generate more outputs, list them here\n",
    "```"
   ]
  },
  {
   "cell_type": "markdown",
   "id": "208f1db6",
   "metadata": {
    "papermill": {
     "duration": 0.020645,
     "end_time": "2022-04-16T17:54:04.555846",
     "exception": false,
     "start_time": "2022-04-16T17:54:04.535201",
     "status": "completed"
    },
    "tags": []
   },
   "source": [
    "## PDF reports\n",
    "\n",
    "To generate PDF reports there are two options, using chromium or TeX.\n",
    "\n",
    "### Using chromium (easiest to configure)\n",
    "\n",
    "To use use chromium, pass `nbconvert_exporter_name: webpdf`\n",
    "\n",
    "<!-- #md -->\n",
    "```yaml\n",
    "# Content of pipeline.yaml\n",
    "    # pdf report example\n",
    "    - source: tasks/script.py\n",
    "      name: webpdf-report\n",
    "      # use the webpdf exporter (supportes embedded charts)\n",
    "      # (it will download chromium if needed)\n",
    "      nbconvert_exporter_name: webpdf\n",
    "      product:\n",
    "        nb: reports/report-webpdf.pdf\n",
    "```\n",
    "<!-- #endmd -->\n",
    "\n",
    "### Using TeX\n",
    "\n",
    "TeX is the default, to use it, set the product extension to `.pdf`:\n",
    "\n",
    "<!-- #md -->\n",
    "```yaml\n",
    "# Content of pipeline.yaml\n",
    "    # pdf report example (requires latex)\n",
    "    - source: tasks/script.py\n",
    "      name: pdf-report\n",
    "      # generate pdf report by changing the extension.\n",
    "      product:\n",
    "        nb: reports/report.pdf\n",
    "```\n",
    "<!-- #endmd -->\n",
    "\n",
    "For instructions on installing TeX, [see this.](https://www.tug.org/texlive/).\n",
    "\n",
    "TeXLive is a large distribution, as an alternative, you may install BasicTeX. Here are instructions for [macOS](https://www.tug.org/mactex/morepackages.html).\n",
    "\n",
    "Upon BasicTeX installation, you'll need to install a few extra packages:\n",
    "\n",
    "```sh\n",
    "# Note: if using macOS or Linux, you may need to execute with sudo\n",
    "tlmgr install adjustbox \\\n",
    "  caption \\\n",
    "  collectbox \\\n",
    "  enumitem \\\n",
    "  environ \\\n",
    "  eurosym \\\n",
    "  jknapltx \\\n",
    "  parskip \\\n",
    "  pgf \\\n",
    "  rsfs \\\n",
    "  tcolorbox \\\n",
    "  titling \\\n",
    "  trimspaces \\\n",
    "  ucs \\\n",
    "  ulem \\\n",
    "  upquote \n",
    "```\n",
    "\n",
    "[Source.](https://github.com/jupyter/nbconvert/issues/1328)"
   ]
  },
  {
   "cell_type": "markdown",
   "id": "f93d006c",
   "metadata": {
    "papermill": {
     "duration": 0.022955,
     "end_time": "2022-04-16T17:54:04.598617",
     "exception": false,
     "start_time": "2022-04-16T17:54:04.575662",
     "status": "completed"
    },
    "tags": []
   },
   "source": [
    "## Hiding code\n",
    "\n",
    "In many cases, you want to hide the code so the report only contains tables and charts, you can do so easily with the `exclude_input` option:"
   ]
  },
  {
   "cell_type": "markdown",
   "id": "cb8049a5",
   "metadata": {
    "lines_to_next_cell": 2,
    "papermill": {
     "duration": 0.026409,
     "end_time": "2022-04-16T17:54:04.644456",
     "exception": false,
     "start_time": "2022-04-16T17:54:04.618047",
     "status": "completed"
    },
    "region_name": "md",
    "tags": []
   },
   "source": [
    "```yaml\n",
    "# Content of pipeline.yaml\n",
    "    # notebooks as well\n",
    "    - source: tasks/notebook.ipynb\n",
    "      name: another-html-report\n",
    "      product:\n",
    "        nb: reports/another.html\n",
    "\n",
    "      nbconvert_export_kwargs:\n",
    "        # optionally hide the code from the report\n",
    "        exclude_input: True\n",
    "```"
   ]
  },
  {
   "cell_type": "markdown",
   "id": "023f627d",
   "metadata": {
    "papermill": {
     "duration": 0.017351,
     "end_time": "2022-04-16T17:54:04.679798",
     "exception": false,
     "start_time": "2022-04-16T17:54:04.662447",
     "status": "completed"
    },
    "tags": []
   },
   "source": [
    "## Hiding cells\n",
    "\n",
    "You may want to selectively hide cells from the output notebook. For example. You can do so with the `TagRemovePreprocessor`, which takes a list of tags. Any cells with such tags are excluded.\n",
    "\n",
    "To learn how to add cell tags, [see this.](https://ploomber.io/s/tags)\n",
    "\n",
    "Here's a full example:"
   ]
  },
  {
   "cell_type": "markdown",
   "id": "00722acf",
   "metadata": {
    "papermill": {
     "duration": 0.016707,
     "end_time": "2022-04-16T17:54:04.712655",
     "exception": false,
     "start_time": "2022-04-16T17:54:04.695948",
     "status": "completed"
    },
    "region_name": "md",
    "tags": []
   },
   "source": [
    "```yaml\n",
    "# Content of pipeline.yaml\n",
    "    # notebooks as well\n",
    "    - source: tasks/notebook.ipynb\n",
    "      name: another-html-report\n",
    "      product:\n",
    "        nb: reports/another.html\n",
    "\n",
    "      nbconvert_export_kwargs:\n",
    "        # optionally hide the code from the report\n",
    "        exclude_input: True\n",
    "      \n",
    "        # optionally, exclude cells with certain tags\n",
    "        config:\n",
    "          HTMLExporter:\n",
    "            preprocessors: [nbconvert.preprocessors.TagRemovePreprocessor]\n",
    "          TagRemovePreprocessor:\n",
    "            remove_cell_tags: [boxplot]\n",
    "```"
   ]
  }
 ],
 "metadata": {
  "kernelspec": {
   "display_name": "Python 3 (ipykernel)",
   "language": "python",
   "name": "python3"
  },
  "language_info": {
   "codemirror_mode": {
    "name": "ipython",
    "version": 3
   },
   "file_extension": ".py",
   "mimetype": "text/x-python",
   "name": "python",
   "nbconvert_exporter": "python",
   "pygments_lexer": "ipython3",
   "version": "3.9.7"
  },
  "papermill": {
   "default_parameters": {},
   "duration": 2.191436,
   "end_time": "2022-04-16T17:54:04.947560",
   "environment_variables": {},
   "exception": null,
   "input_path": "cookbook/report-generation/_build/readme_preprocessed.ipynb",
   "output_path": "cookbook/report-generation/README.ipynb",
   "parameters": {},
   "start_time": "2022-04-16T17:54:02.756124",
   "version": "2.3.4"
  }
 },
 "nbformat": 4,
 "nbformat_minor": 5
}