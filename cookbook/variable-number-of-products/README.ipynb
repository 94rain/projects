{
 "cells": [
  {
   "cell_type": "markdown",
   "id": "4c285e69",
   "metadata": {
    "papermill": {
     "duration": 0.01343,
     "end_time": "2021-10-19T02:12:43.686652",
     "exception": false,
     "start_time": "2021-10-19T02:12:43.673222",
     "status": "completed"
    },
    "tags": []
   },
   "source": [
    "To run this example locally, execute: `ploomber examples -n cookbook/variable-number-of-products`.\n",
    "\n",
    "To start a free, hosted JupyterLab: [![binder-logo](https://mybinder.org/badge_logo.svg)](https://mybinder.org/v2/gh/ploomber/binder-env/main?urlpath=git-pull%3Frepo%3Dhttps%253A%252F%252Fgithub.com%252Fploomber%252Fprojects%26urlpath%3Dlab%252Ftree%252Fprojects%252Fcookbook/variable-number-of-products%252FREADME.ipynb%26branch%3Dmaster)\n",
    "\n",
    "Found an issue? [Let us know.](https://github.com/ploomber/projects/issues/new?title=cookbook/variable-number-of-products%20issue)\n",
    "\n",
    "Have questions? [Ask us anything on Slack.](http://community.ploomber.io/)\n"
   ]
  },
  {
   "cell_type": "markdown",
   "id": "61e00b91",
   "metadata": {
    "papermill": {
     "duration": 0.009928,
     "end_time": "2021-10-19T02:12:43.706729",
     "exception": false,
     "start_time": "2021-10-19T02:12:43.696801",
     "status": "completed"
    },
    "tags": []
   },
   "source": [
    "# Tasks with a variable number of products\n",
    "\n",
    "<!-- start description -->\n",
    "Shows how to create tasks whose number of products depends on runtime conditions.\n",
    "<!-- end description -->\n",
    "\n",
    "1. [Basic](basic) - Basic example\n",
    "2. [Serializer](serializer) - Example using serializer and unserializer\n"
   ]
  },
  {
   "cell_type": "code",
   "execution_count": 1,
   "id": "83e4d5d6",
   "metadata": {
    "execution": {
     "iopub.execute_input": "2021-10-19T02:12:43.736042Z",
     "iopub.status.busy": "2021-10-19T02:12:43.735315Z",
     "iopub.status.idle": "2021-10-19T02:12:47.512103Z",
     "shell.execute_reply": "2021-10-19T02:12:47.513054Z"
    },
    "papermill": {
     "duration": 3.795519,
     "end_time": "2021-10-19T02:12:47.513427",
     "exception": false,
     "start_time": "2021-10-19T02:12:43.717908",
     "status": "completed"
    },
    "tags": []
   },
   "outputs": [
    {
     "name": "stdout",
     "output_type": "stream",
     "text": [
      "name                                   Ran?      Elapsed (s)    Percentage\n",
      "-------------------------------------  ------  -------------  ------------\n",
      "variable                               False               0             0\n",
      "many_products_one_variable             False               0             0\n",
      "variable_downstream                    False               0             0\n",
      "many_products_one_variable_downstream  False               0             0\n"
     ]
    },
    {
     "name": "stderr",
     "output_type": "stream",
     "text": [
      "\r",
      "0it [00:00, ?it/s]\r",
      "0it [00:00, ?it/s]\n"
     ]
    }
   ],
   "source": [
    "%%sh\n",
    "cd basic\n",
    "ploomber build --entry-point pipeline.yaml"
   ]
  },
  {
   "cell_type": "code",
   "execution_count": 2,
   "id": "b3a29cef",
   "metadata": {
    "execution": {
     "iopub.execute_input": "2021-10-19T02:12:47.544966Z",
     "iopub.status.busy": "2021-10-19T02:12:47.544287Z",
     "iopub.status.idle": "2021-10-19T02:12:51.118151Z",
     "shell.execute_reply": "2021-10-19T02:12:51.119091Z"
    },
    "papermill": {
     "duration": 3.59259,
     "end_time": "2021-10-19T02:12:51.119449",
     "exception": false,
     "start_time": "2021-10-19T02:12:47.526859",
     "status": "completed"
    },
    "tags": []
   },
   "outputs": [
    {
     "name": "stdout",
     "output_type": "stream",
     "text": [
      "name                                   Ran?      Elapsed (s)    Percentage\n",
      "-------------------------------------  ------  -------------  ------------\n",
      "variable                               False               0             0\n",
      "many_products_one_variable             False               0             0\n",
      "variable_downstream                    False               0             0\n",
      "many_products_one_variable_downstream  False               0             0\n"
     ]
    },
    {
     "name": "stderr",
     "output_type": "stream",
     "text": [
      "\r",
      "0it [00:00, ?it/s]\r",
      "0it [00:00, ?it/s]\n"
     ]
    }
   ],
   "source": [
    "%%sh\n",
    "cd serializer\n",
    "ploomber build --entry-point pipeline.yaml"
   ]
  }
 ],
 "metadata": {
  "kernelspec": {
   "display_name": "Python 3 (ipykernel)",
   "language": "python",
   "name": "python3"
  },
  "language_info": {
   "codemirror_mode": {
    "name": "ipython",
    "version": 3
   },
   "file_extension": ".py",
   "mimetype": "text/x-python",
   "name": "python",
   "nbconvert_exporter": "python",
   "pygments_lexer": "ipython3",
   "version": "3.9.7"
  },
  "papermill": {
   "default_parameters": {},
   "duration": 9.43709,
   "end_time": "2021-10-19T02:12:51.350630",
   "environment_variables": {},
   "exception": null,
   "input_path": "cookbook/variable-number-of-products/_build/readme_preprocessed.ipynb",
   "output_path": "cookbook/variable-number-of-products/README.ipynb",
   "parameters": {},
   "start_time": "2021-10-19T02:12:41.913540",
   "version": "2.3.3"
  }
 },
 "nbformat": 4,
 "nbformat_minor": 5
}