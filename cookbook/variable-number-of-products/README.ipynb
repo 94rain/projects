{
 "cells": [
  {
   "cell_type": "markdown",
   "id": "2645f542",
   "metadata": {
    "papermill": {
     "duration": 0.010385,
     "end_time": "2021-10-14T15:04:36.725866",
     "exception": false,
     "start_time": "2021-10-14T15:04:36.715481",
     "status": "completed"
    },
    "tags": []
   },
   "source": [
    "To run this example locally, execute: `ploomber examples -n cookbook/variable-number-of-products`.\n",
    "\n",
    "To start a free, hosted JupyterLab: [![binder-logo](https://mybinder.org/badge_logo.svg)](https://mybinder.org/v2/gh/ploomber/binder-env/main?urlpath=git-pull%3Frepo%3Dhttps%253A%252F%252Fgithub.com%252Fploomber%252Fprojects%26urlpath%3Dlab%252Ftree%252Fprojects%252Fcookbook/variable-number-of-products%252FREADME.ipynb%26branch%3Dmaster)\n",
    "\n",
    "Found an issue? [Let us know.](https://github.com/ploomber/projects/issues/new?title=cookbook/variable-number-of-products%20issue)\n",
    "\n",
    "Have questions? [Ask us anything on Slack.](http://community.ploomber.io/)\n"
   ]
  },
  {
   "cell_type": "markdown",
   "id": "3b63ebe9",
   "metadata": {
    "papermill": {
     "duration": 0.009909,
     "end_time": "2021-10-14T15:04:36.744574",
     "exception": false,
     "start_time": "2021-10-14T15:04:36.734665",
     "status": "completed"
    },
    "tags": []
   },
   "source": [
    "# Tasks with a variable number of products\n",
    "\n",
    "This example shows how to declare tasks that generate a variable number of\n",
    "products.\n",
    "\n",
    "1. [Basic](basic) - Basic example\n",
    "2. [Serializer](serializer) - Example using serializer and unserializer\n"
   ]
  },
  {
   "cell_type": "code",
   "execution_count": 1,
   "id": "8535aa65",
   "metadata": {
    "execution": {
     "iopub.execute_input": "2021-10-14T15:04:36.772140Z",
     "iopub.status.busy": "2021-10-14T15:04:36.771398Z",
     "iopub.status.idle": "2021-10-14T15:04:40.818044Z",
     "shell.execute_reply": "2021-10-14T15:04:40.819061Z"
    },
    "papermill": {
     "duration": 4.065545,
     "end_time": "2021-10-14T15:04:40.819356",
     "exception": false,
     "start_time": "2021-10-14T15:04:36.753811",
     "status": "completed"
    },
    "tags": []
   },
   "outputs": [
    {
     "name": "stdout",
     "output_type": "stream",
     "text": [
      "name                                   Ran?      Elapsed (s)    Percentage\n",
      "-------------------------------------  ------  -------------  ------------\n",
      "variable                               False               0             0\n",
      "many_products_one_variable             False               0             0\n",
      "variable_downstream                    False               0             0\n",
      "many_products_one_variable_downstream  False               0             0\n"
     ]
    },
    {
     "name": "stderr",
     "output_type": "stream",
     "text": [
      "\r",
      "0it [00:00, ?it/s]\r",
      "0it [00:00, ?it/s]\n"
     ]
    }
   ],
   "source": [
    "%%sh\n",
    "cd basic\n",
    "ploomber build --entry-point pipeline.yaml"
   ]
  },
  {
   "cell_type": "code",
   "execution_count": 2,
   "id": "9058f4cd",
   "metadata": {
    "execution": {
     "iopub.execute_input": "2021-10-14T15:04:40.846934Z",
     "iopub.status.busy": "2021-10-14T15:04:40.846241Z",
     "iopub.status.idle": "2021-10-14T15:04:44.505327Z",
     "shell.execute_reply": "2021-10-14T15:04:44.506750Z"
    },
    "papermill": {
     "duration": 3.676397,
     "end_time": "2021-10-14T15:04:44.507064",
     "exception": false,
     "start_time": "2021-10-14T15:04:40.830667",
     "status": "completed"
    },
    "tags": []
   },
   "outputs": [
    {
     "name": "stdout",
     "output_type": "stream",
     "text": [
      "name                                   Ran?      Elapsed (s)    Percentage\n",
      "-------------------------------------  ------  -------------  ------------\n",
      "variable                               False               0             0\n",
      "many_products_one_variable             False               0             0\n",
      "variable_downstream                    False               0             0\n",
      "many_products_one_variable_downstream  False               0             0\n"
     ]
    },
    {
     "name": "stderr",
     "output_type": "stream",
     "text": [
      "\r",
      "0it [00:00, ?it/s]\r",
      "0it [00:00, ?it/s]\n"
     ]
    }
   ],
   "source": [
    "%%sh\n",
    "cd serializer\n",
    "ploomber build --entry-point pipeline.yaml"
   ]
  }
 ],
 "metadata": {
  "kernelspec": {
   "display_name": "Python 3 (ipykernel)",
   "language": "python",
   "name": "python3"
  },
  "language_info": {
   "codemirror_mode": {
    "name": "ipython",
    "version": 3
   },
   "file_extension": ".py",
   "mimetype": "text/x-python",
   "name": "python",
   "nbconvert_exporter": "python",
   "pygments_lexer": "ipython3",
   "version": "3.9.7"
  },
  "papermill": {
   "default_parameters": {},
   "duration": 9.183048,
   "end_time": "2021-10-14T15:04:44.738935",
   "environment_variables": {},
   "exception": null,
   "input_path": "cookbook/variable-number-of-products/_build/readme_preprocessed.ipynb",
   "output_path": "cookbook/variable-number-of-products/README.ipynb",
   "parameters": {},
   "start_time": "2021-10-14T15:04:35.555887",
   "version": "2.3.3"
  }
 },
 "nbformat": 4,
 "nbformat_minor": 5
}